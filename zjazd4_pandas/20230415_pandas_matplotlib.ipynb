{
 "cells": [
  {
   "cell_type": "code",
   "execution_count": 1,
   "id": "de3fd012",
   "metadata": {
    "ExecuteTime": {
     "end_time": "2023-04-16T16:27:57.969120Z",
     "start_time": "2023-04-16T16:27:57.630338Z"
    }
   },
   "outputs": [],
   "source": [
    "import pandas as pd"
   ]
  },
  {
   "cell_type": "markdown",
   "id": "522caddc",
   "metadata": {},
   "source": [
    "## Series"
   ]
  },
  {
   "cell_type": "markdown",
   "id": "9be5d41d",
   "metadata": {},
   "source": [
    "### Podstawy"
   ]
  },
  {
   "cell_type": "code",
   "execution_count": 2,
   "id": "6befc8ab",
   "metadata": {
    "ExecuteTime": {
     "end_time": "2023-04-16T16:27:57.981531Z",
     "start_time": "2023-04-16T16:27:57.972712Z"
    }
   },
   "outputs": [
    {
     "data": {
      "text/plain": [
       "0    1\n",
       "1    2\n",
       "2    3\n",
       "dtype: int64"
      ]
     },
     "execution_count": 2,
     "metadata": {},
     "output_type": "execute_result"
    }
   ],
   "source": [
    "pd.Series([1, 2 ,3])"
   ]
  },
  {
   "cell_type": "code",
   "execution_count": 3,
   "id": "ecde80f7",
   "metadata": {
    "ExecuteTime": {
     "end_time": "2023-04-16T16:27:57.993193Z",
     "start_time": "2023-04-16T16:27:57.984755Z"
    }
   },
   "outputs": [
    {
     "data": {
      "text/plain": [
       "0    1.0\n",
       "1    2.0\n",
       "2    3.0\n",
       "dtype: float64"
      ]
     },
     "execution_count": 3,
     "metadata": {},
     "output_type": "execute_result"
    }
   ],
   "source": [
    "pd.Series([1., 2., 3.])"
   ]
  },
  {
   "cell_type": "code",
   "execution_count": 4,
   "id": "08f19dc9",
   "metadata": {
    "ExecuteTime": {
     "end_time": "2023-04-16T16:27:58.005308Z",
     "start_time": "2023-04-16T16:27:57.997027Z"
    },
    "scrolled": true
   },
   "outputs": [
    {
     "data": {
      "text/plain": [
       "0    [1.0, 2.0]\n",
       "1    [2.0, 3.0]\n",
       "2    [3.0, 4.0]\n",
       "dtype: object"
      ]
     },
     "execution_count": 4,
     "metadata": {},
     "output_type": "execute_result"
    }
   ],
   "source": [
    "pd.Series([[1., 2.], [2., 3.], [3., 4.]])"
   ]
  },
  {
   "cell_type": "code",
   "execution_count": 5,
   "id": "6c157e0a",
   "metadata": {
    "ExecuteTime": {
     "end_time": "2023-04-16T16:27:58.016168Z",
     "start_time": "2023-04-16T16:27:58.008743Z"
    }
   },
   "outputs": [
    {
     "data": {
      "text/plain": [
       "0            1\n",
       "1    [1, 2, 3]\n",
       "2            g\n",
       "dtype: object"
      ]
     },
     "execution_count": 5,
     "metadata": {},
     "output_type": "execute_result"
    }
   ],
   "source": [
    "pd.Series([1, [1, 2, 3], 'g'])"
   ]
  },
  {
   "cell_type": "code",
   "execution_count": 6,
   "id": "6152cd0e",
   "metadata": {
    "ExecuteTime": {
     "end_time": "2023-04-16T16:27:58.027621Z",
     "start_time": "2023-04-16T16:27:58.019027Z"
    }
   },
   "outputs": [
    {
     "data": {
      "text/plain": [
       "10    1\n",
       "20    2\n",
       "30    3\n",
       "dtype: int64"
      ]
     },
     "execution_count": 6,
     "metadata": {},
     "output_type": "execute_result"
    }
   ],
   "source": [
    "pd.Series([1, 2, 3], index=[10, 20, 30])"
   ]
  },
  {
   "cell_type": "code",
   "execution_count": 7,
   "id": "77837f98",
   "metadata": {
    "ExecuteTime": {
     "end_time": "2023-04-16T16:27:58.035255Z",
     "start_time": "2023-04-16T16:27:58.030192Z"
    }
   },
   "outputs": [],
   "source": [
    "x = pd.Series({1: 'a', 2: 'b', 3: 'c'})"
   ]
  },
  {
   "cell_type": "code",
   "execution_count": 8,
   "id": "6071549f",
   "metadata": {
    "ExecuteTime": {
     "end_time": "2023-04-16T16:27:58.046935Z",
     "start_time": "2023-04-16T16:27:58.038606Z"
    }
   },
   "outputs": [
    {
     "data": {
      "text/plain": [
       "array(['a', 'b', 'c'], dtype=object)"
      ]
     },
     "execution_count": 8,
     "metadata": {},
     "output_type": "execute_result"
    }
   ],
   "source": [
    "x.values"
   ]
  },
  {
   "cell_type": "code",
   "execution_count": 9,
   "id": "e31a8147",
   "metadata": {
    "ExecuteTime": {
     "end_time": "2023-04-16T16:27:58.057134Z",
     "start_time": "2023-04-16T16:27:58.050294Z"
    }
   },
   "outputs": [
    {
     "data": {
      "text/plain": [
       "Int64Index([1, 2, 3], dtype='int64')"
      ]
     },
     "execution_count": 9,
     "metadata": {},
     "output_type": "execute_result"
    }
   ],
   "source": [
    "x.index"
   ]
  },
  {
   "cell_type": "code",
   "execution_count": 10,
   "id": "30832f10",
   "metadata": {
    "ExecuteTime": {
     "end_time": "2023-04-16T16:27:58.068887Z",
     "start_time": "2023-04-16T16:27:58.063465Z"
    }
   },
   "outputs": [
    {
     "data": {
      "text/plain": [
       "numpy.ndarray"
      ]
     },
     "execution_count": 10,
     "metadata": {},
     "output_type": "execute_result"
    }
   ],
   "source": [
    "type(x.values)"
   ]
  },
  {
   "cell_type": "code",
   "execution_count": 11,
   "id": "00b102fa",
   "metadata": {
    "ExecuteTime": {
     "end_time": "2023-04-16T16:27:58.078614Z",
     "start_time": "2023-04-16T16:27:58.072313Z"
    }
   },
   "outputs": [
    {
     "data": {
      "text/plain": [
       "pandas.core.indexes.numeric.Int64Index"
      ]
     },
     "execution_count": 11,
     "metadata": {},
     "output_type": "execute_result"
    }
   ],
   "source": [
    "type(x.index)"
   ]
  },
  {
   "cell_type": "markdown",
   "id": "8d87188f",
   "metadata": {},
   "source": [
    "### Indeksowanie"
   ]
  },
  {
   "cell_type": "code",
   "execution_count": 12,
   "id": "62fb8137",
   "metadata": {
    "ExecuteTime": {
     "end_time": "2023-04-16T16:27:58.088810Z",
     "start_time": "2023-04-16T16:27:58.081115Z"
    }
   },
   "outputs": [
    {
     "data": {
      "text/plain": [
       "0       0\n",
       "1      10\n",
       "2      20\n",
       "3      30\n",
       "4      40\n",
       "5      50\n",
       "6      60\n",
       "7      70\n",
       "8      80\n",
       "9      90\n",
       "10    100\n",
       "dtype: int64"
      ]
     },
     "execution_count": 12,
     "metadata": {},
     "output_type": "execute_result"
    }
   ],
   "source": [
    "y = pd.Series(range(0, 101, 10))\n",
    "y"
   ]
  },
  {
   "cell_type": "code",
   "execution_count": 13,
   "id": "13928f38",
   "metadata": {
    "ExecuteTime": {
     "end_time": "2023-04-16T16:27:58.097833Z",
     "start_time": "2023-04-16T16:27:58.091384Z"
    }
   },
   "outputs": [
    {
     "data": {
      "text/plain": [
       "30"
      ]
     },
     "execution_count": 13,
     "metadata": {},
     "output_type": "execute_result"
    }
   ],
   "source": [
    "y[3]  # wybierany element po indeksie"
   ]
  },
  {
   "cell_type": "code",
   "execution_count": 14,
   "id": "6cc76f63",
   "metadata": {
    "ExecuteTime": {
     "end_time": "2023-04-16T16:27:58.109460Z",
     "start_time": "2023-04-16T16:27:58.100564Z"
    }
   },
   "outputs": [
    {
     "data": {
      "text/plain": [
       "3    30\n",
       "4    40\n",
       "5    50\n",
       "6    60\n",
       "dtype: int64"
      ]
     },
     "execution_count": 14,
     "metadata": {},
     "output_type": "execute_result"
    }
   ],
   "source": [
    "y[3:7]"
   ]
  },
  {
   "cell_type": "code",
   "execution_count": 15,
   "id": "5b98675d",
   "metadata": {
    "ExecuteTime": {
     "end_time": "2023-04-16T16:27:58.119349Z",
     "start_time": "2023-04-16T16:27:58.112576Z"
    }
   },
   "outputs": [
    {
     "data": {
      "text/plain": [
       "pandas.core.series.Series"
      ]
     },
     "execution_count": 15,
     "metadata": {},
     "output_type": "execute_result"
    }
   ],
   "source": [
    "type(y[3:7])"
   ]
  },
  {
   "cell_type": "code",
   "execution_count": 16,
   "id": "2df603a2",
   "metadata": {
    "ExecuteTime": {
     "end_time": "2023-04-16T16:27:58.129173Z",
     "start_time": "2023-04-16T16:27:58.121818Z"
    }
   },
   "outputs": [
    {
     "data": {
      "text/plain": [
       "1    0\n",
       "a    1\n",
       "e    2\n",
       "3    3\n",
       "dtype: int64"
      ]
     },
     "execution_count": 16,
     "metadata": {},
     "output_type": "execute_result"
    }
   ],
   "source": [
    "y1 = pd.Series(range(4), index=[1, 'a', 'e', 3])\n",
    "y1"
   ]
  },
  {
   "cell_type": "code",
   "execution_count": 17,
   "id": "a2548457",
   "metadata": {
    "ExecuteTime": {
     "end_time": "2023-04-16T16:27:58.138388Z",
     "start_time": "2023-04-16T16:27:58.131813Z"
    }
   },
   "outputs": [
    {
     "data": {
      "text/plain": [
       "0"
      ]
     },
     "execution_count": 17,
     "metadata": {},
     "output_type": "execute_result"
    }
   ],
   "source": [
    "y1[1]\n",
    "# y1[2]  # błąd, bo podany indeks nie instnieje"
   ]
  },
  {
   "cell_type": "code",
   "execution_count": 18,
   "id": "5081e855",
   "metadata": {
    "ExecuteTime": {
     "end_time": "2023-04-16T16:27:58.149019Z",
     "start_time": "2023-04-16T16:27:58.141309Z"
    }
   },
   "outputs": [
    {
     "data": {
      "text/plain": [
       "1"
      ]
     },
     "execution_count": 18,
     "metadata": {},
     "output_type": "execute_result"
    }
   ],
   "source": [
    "y1['a']"
   ]
  },
  {
   "cell_type": "code",
   "execution_count": 19,
   "id": "582e2f1c",
   "metadata": {
    "ExecuteTime": {
     "end_time": "2023-04-16T16:27:58.159298Z",
     "start_time": "2023-04-16T16:27:58.151859Z"
    }
   },
   "outputs": [
    {
     "data": {
      "text/plain": [
       "2    b\n",
       "3    c\n",
       "6    e\n",
       "1    a\n",
       "dtype: object"
      ]
     },
     "execution_count": 19,
     "metadata": {},
     "output_type": "execute_result"
    }
   ],
   "source": [
    "y3 = pd.Series(['b', 'c', 'e', 'a'], index=[2, 3, 6, 1])\n",
    "y3"
   ]
  },
  {
   "cell_type": "code",
   "execution_count": 20,
   "id": "4e713f08",
   "metadata": {
    "ExecuteTime": {
     "end_time": "2023-04-16T16:27:58.169243Z",
     "start_time": "2023-04-16T16:27:58.162286Z"
    }
   },
   "outputs": [
    {
     "data": {
      "text/plain": [
       "'a'"
      ]
     },
     "execution_count": 20,
     "metadata": {},
     "output_type": "execute_result"
    }
   ],
   "source": [
    "y3[1]"
   ]
  },
  {
   "cell_type": "code",
   "execution_count": 21,
   "id": "b015519c",
   "metadata": {
    "ExecuteTime": {
     "end_time": "2023-04-16T16:27:58.178469Z",
     "start_time": "2023-04-16T16:27:58.172584Z"
    }
   },
   "outputs": [
    {
     "data": {
      "text/plain": [
       "str"
      ]
     },
     "execution_count": 21,
     "metadata": {},
     "output_type": "execute_result"
    }
   ],
   "source": [
    "type(y3[1])"
   ]
  },
  {
   "cell_type": "code",
   "execution_count": 22,
   "id": "664b4991",
   "metadata": {
    "ExecuteTime": {
     "end_time": "2023-04-16T16:27:58.189096Z",
     "start_time": "2023-04-16T16:27:58.181470Z"
    }
   },
   "outputs": [
    {
     "data": {
      "text/plain": [
       "1    a\n",
       "dtype: object"
      ]
     },
     "execution_count": 22,
     "metadata": {},
     "output_type": "execute_result"
    }
   ],
   "source": [
    "y3[[1]]"
   ]
  },
  {
   "cell_type": "code",
   "execution_count": 23,
   "id": "a3e74eab",
   "metadata": {
    "ExecuteTime": {
     "end_time": "2023-04-16T16:27:58.198703Z",
     "start_time": "2023-04-16T16:27:58.191610Z"
    }
   },
   "outputs": [
    {
     "data": {
      "text/plain": [
       "pandas.core.series.Series"
      ]
     },
     "execution_count": 23,
     "metadata": {},
     "output_type": "execute_result"
    }
   ],
   "source": [
    "type(y3[[1]])  # podwójne nawiasy kwadratowe zwracają Series()"
   ]
  },
  {
   "cell_type": "code",
   "execution_count": 24,
   "id": "6cc1ac0d",
   "metadata": {
    "ExecuteTime": {
     "end_time": "2023-04-16T16:27:58.208307Z",
     "start_time": "2023-04-16T16:27:58.201603Z"
    }
   },
   "outputs": [
    {
     "data": {
      "text/plain": [
       "2    b\n",
       "3    c\n",
       "6    e\n",
       "1    a\n",
       "dtype: object"
      ]
     },
     "execution_count": 24,
     "metadata": {},
     "output_type": "execute_result"
    }
   ],
   "source": [
    "y3"
   ]
  },
  {
   "cell_type": "code",
   "execution_count": 25,
   "id": "ef230b50",
   "metadata": {
    "ExecuteTime": {
     "end_time": "2023-04-16T16:27:58.217381Z",
     "start_time": "2023-04-16T16:27:58.211151Z"
    }
   },
   "outputs": [
    {
     "data": {
      "text/plain": [
       "'a'"
      ]
     },
     "execution_count": 25,
     "metadata": {},
     "output_type": "execute_result"
    }
   ],
   "source": [
    "y3.loc[1]  # wybiera element po indeksie (etykiecie)"
   ]
  },
  {
   "cell_type": "code",
   "execution_count": 26,
   "id": "de0a276c",
   "metadata": {
    "ExecuteTime": {
     "end_time": "2023-04-16T16:27:58.226167Z",
     "start_time": "2023-04-16T16:27:58.219759Z"
    }
   },
   "outputs": [
    {
     "data": {
      "text/plain": [
       "'c'"
      ]
     },
     "execution_count": 26,
     "metadata": {},
     "output_type": "execute_result"
    }
   ],
   "source": [
    "y3.iloc[1]  # wybiera po pozycji"
   ]
  },
  {
   "cell_type": "markdown",
   "id": "9ecf5d93",
   "metadata": {},
   "source": [
    "### Atrybuty"
   ]
  },
  {
   "cell_type": "code",
   "execution_count": 27,
   "id": "2f44069f",
   "metadata": {
    "ExecuteTime": {
     "end_time": "2023-04-16T16:27:58.234845Z",
     "start_time": "2023-04-16T16:27:58.228677Z"
    }
   },
   "outputs": [
    {
     "data": {
      "text/plain": [
       "0       0\n",
       "1      10\n",
       "2      20\n",
       "3      30\n",
       "4      40\n",
       "5      50\n",
       "6      60\n",
       "7      70\n",
       "8      80\n",
       "9      90\n",
       "10    100\n",
       "dtype: int64"
      ]
     },
     "execution_count": 27,
     "metadata": {},
     "output_type": "execute_result"
    }
   ],
   "source": [
    "y"
   ]
  },
  {
   "cell_type": "code",
   "execution_count": 28,
   "id": "22dd12a0",
   "metadata": {
    "ExecuteTime": {
     "end_time": "2023-04-16T16:27:58.248399Z",
     "start_time": "2023-04-16T16:27:58.243822Z"
    }
   },
   "outputs": [
    {
     "data": {
      "text/plain": [
       "11"
      ]
     },
     "execution_count": 28,
     "metadata": {},
     "output_type": "execute_result"
    }
   ],
   "source": [
    "y.size"
   ]
  },
  {
   "cell_type": "code",
   "execution_count": 29,
   "id": "33aa8221",
   "metadata": {
    "ExecuteTime": {
     "end_time": "2023-04-16T16:27:58.256794Z",
     "start_time": "2023-04-16T16:27:58.250713Z"
    }
   },
   "outputs": [
    {
     "name": "stderr",
     "output_type": "stream",
     "text": [
      "/tmp/ipykernel_369/1318583712.py:1: FutureWarning: is_monotonic is deprecated and will be removed in a future version. Use is_monotonic_increasing instead.\n",
      "  y.is_monotonic\n"
     ]
    },
    {
     "data": {
      "text/plain": [
       "True"
      ]
     },
     "execution_count": 29,
     "metadata": {},
     "output_type": "execute_result"
    }
   ],
   "source": [
    "y.is_monotonic"
   ]
  },
  {
   "cell_type": "code",
   "execution_count": 30,
   "id": "58d51f10",
   "metadata": {
    "ExecuteTime": {
     "end_time": "2023-04-16T16:27:58.264896Z",
     "start_time": "2023-04-16T16:27:58.259794Z"
    }
   },
   "outputs": [
    {
     "data": {
      "text/plain": [
       "True"
      ]
     },
     "execution_count": 30,
     "metadata": {},
     "output_type": "execute_result"
    }
   ],
   "source": [
    "y.is_unique"
   ]
  },
  {
   "cell_type": "code",
   "execution_count": 31,
   "id": "b4022823",
   "metadata": {
    "ExecuteTime": {
     "end_time": "2023-04-16T16:27:58.273812Z",
     "start_time": "2023-04-16T16:27:58.267912Z"
    }
   },
   "outputs": [
    {
     "data": {
      "text/plain": [
       "False"
      ]
     },
     "execution_count": 31,
     "metadata": {},
     "output_type": "execute_result"
    }
   ],
   "source": [
    "y.empty"
   ]
  },
  {
   "cell_type": "code",
   "execution_count": 32,
   "id": "4eef5d64",
   "metadata": {
    "ExecuteTime": {
     "end_time": "2023-04-16T16:27:58.284232Z",
     "start_time": "2023-04-16T16:27:58.277698Z"
    }
   },
   "outputs": [
    {
     "data": {
      "text/plain": [
       "dtype('int64')"
      ]
     },
     "execution_count": 32,
     "metadata": {},
     "output_type": "execute_result"
    }
   ],
   "source": [
    "y.dtype"
   ]
  },
  {
   "cell_type": "markdown",
   "id": "00028cab",
   "metadata": {},
   "source": [
    "### Braki danych"
   ]
  },
  {
   "cell_type": "code",
   "execution_count": 33,
   "id": "6f772704",
   "metadata": {
    "ExecuteTime": {
     "end_time": "2023-04-16T16:27:58.297400Z",
     "start_time": "2023-04-16T16:27:58.287284Z"
    }
   },
   "outputs": [
    {
     "name": "stderr",
     "output_type": "stream",
     "text": [
      "/tmp/ipykernel_369/2031691219.py:1: FutureWarning: The default dtype for empty Series will be 'object' instead of 'float64' in a future version. Specify a dtype explicitly to silence this warning.\n",
      "  pd.Series()\n"
     ]
    },
    {
     "data": {
      "text/plain": [
       "Series([], dtype: float64)"
      ]
     },
     "execution_count": 33,
     "metadata": {},
     "output_type": "execute_result"
    }
   ],
   "source": [
    "pd.Series()"
   ]
  },
  {
   "cell_type": "code",
   "execution_count": 34,
   "id": "5e337770",
   "metadata": {
    "ExecuteTime": {
     "end_time": "2023-04-16T16:27:58.304269Z",
     "start_time": "2023-04-16T16:27:58.300348Z"
    }
   },
   "outputs": [],
   "source": [
    "None  # pythonowy 'null', oznacza brak danych"
   ]
  },
  {
   "cell_type": "code",
   "execution_count": 35,
   "id": "2a193d64",
   "metadata": {
    "ExecuteTime": {
     "end_time": "2023-04-16T16:27:58.315573Z",
     "start_time": "2023-04-16T16:27:58.307581Z"
    }
   },
   "outputs": [
    {
     "data": {
      "text/plain": [
       "nan"
      ]
     },
     "execution_count": 35,
     "metadata": {},
     "output_type": "execute_result"
    }
   ],
   "source": [
    "float('Inf') - float('Inf')"
   ]
  },
  {
   "cell_type": "code",
   "execution_count": 36,
   "id": "2e9c1616",
   "metadata": {
    "ExecuteTime": {
     "end_time": "2023-04-16T16:27:58.325132Z",
     "start_time": "2023-04-16T16:27:58.318634Z"
    }
   },
   "outputs": [
    {
     "data": {
      "text/plain": [
       "inf"
      ]
     },
     "execution_count": 36,
     "metadata": {},
     "output_type": "execute_result"
    }
   ],
   "source": [
    "float('Inf')"
   ]
  },
  {
   "cell_type": "code",
   "execution_count": 37,
   "id": "32f4452b",
   "metadata": {
    "ExecuteTime": {
     "end_time": "2023-04-16T16:27:58.335390Z",
     "start_time": "2023-04-16T16:27:58.328319Z"
    }
   },
   "outputs": [
    {
     "data": {
      "text/plain": [
       "NoneType"
      ]
     },
     "execution_count": 37,
     "metadata": {},
     "output_type": "execute_result"
    }
   ],
   "source": [
    "type(None)"
   ]
  },
  {
   "cell_type": "code",
   "execution_count": 38,
   "id": "dba9c589",
   "metadata": {
    "ExecuteTime": {
     "end_time": "2023-04-16T16:27:58.346117Z",
     "start_time": "2023-04-16T16:27:58.338078Z"
    }
   },
   "outputs": [
    {
     "data": {
      "text/plain": [
       "float"
      ]
     },
     "execution_count": 38,
     "metadata": {},
     "output_type": "execute_result"
    }
   ],
   "source": [
    "type(float('Inf') - float('Inf'))"
   ]
  },
  {
   "cell_type": "code",
   "execution_count": 39,
   "id": "b31574a9",
   "metadata": {
    "ExecuteTime": {
     "end_time": "2023-04-16T16:27:58.355948Z",
     "start_time": "2023-04-16T16:27:58.349024Z"
    }
   },
   "outputs": [
    {
     "data": {
      "text/plain": [
       "0    1.0\n",
       "1    2.0\n",
       "2    NaN\n",
       "dtype: float64"
      ]
     },
     "execution_count": 39,
     "metadata": {},
     "output_type": "execute_result"
    }
   ],
   "source": [
    "pd.Series([1, 2, None])"
   ]
  },
  {
   "cell_type": "code",
   "execution_count": 40,
   "id": "9effbcac",
   "metadata": {
    "ExecuteTime": {
     "end_time": "2023-04-16T16:27:58.366068Z",
     "start_time": "2023-04-16T16:27:58.358953Z"
    }
   },
   "outputs": [
    {
     "data": {
      "text/plain": [
       "0       1\n",
       "1       2\n",
       "2    None\n",
       "dtype: object"
      ]
     },
     "execution_count": 40,
     "metadata": {},
     "output_type": "execute_result"
    }
   ],
   "source": [
    "pd.Series(['1', '2', None])"
   ]
  },
  {
   "cell_type": "code",
   "execution_count": 41,
   "id": "42c65fb4",
   "metadata": {
    "ExecuteTime": {
     "end_time": "2023-04-16T16:27:58.376217Z",
     "start_time": "2023-04-16T16:27:58.368576Z"
    }
   },
   "outputs": [
    {
     "data": {
      "text/plain": [
       "0       1\n",
       "1       2\n",
       "2    None\n",
       "dtype: object"
      ]
     },
     "execution_count": 41,
     "metadata": {},
     "output_type": "execute_result"
    }
   ],
   "source": [
    "pd.Series([1, 2, None], dtype='object')"
   ]
  },
  {
   "cell_type": "markdown",
   "id": "b6beecb3",
   "metadata": {},
   "source": [
    "### Metody"
   ]
  },
  {
   "cell_type": "code",
   "execution_count": 42,
   "id": "1efd4441",
   "metadata": {
    "ExecuteTime": {
     "end_time": "2023-04-16T16:27:58.383552Z",
     "start_time": "2023-04-16T16:27:58.379599Z"
    }
   },
   "outputs": [],
   "source": [
    "import numpy as np"
   ]
  },
  {
   "cell_type": "code",
   "execution_count": 43,
   "id": "52dc5a23",
   "metadata": {
    "ExecuteTime": {
     "end_time": "2023-04-16T16:27:58.395001Z",
     "start_time": "2023-04-16T16:27:58.386760Z"
    }
   },
   "outputs": [
    {
     "data": {
      "text/plain": [
       "0     684\n",
       "1     559\n",
       "2     629\n",
       "3     192\n",
       "4     835\n",
       "5     763\n",
       "6     707\n",
       "7     359\n",
       "8       9\n",
       "9     723\n",
       "10    277\n",
       "11    754\n",
       "12    804\n",
       "13    599\n",
       "14     70\n",
       "15    472\n",
       "16    600\n",
       "17    396\n",
       "18    314\n",
       "19    705\n",
       "20    486\n",
       "21    551\n",
       "22     87\n",
       "23    174\n",
       "24    600\n",
       "25    849\n",
       "26    677\n",
       "27    537\n",
       "28    845\n",
       "29     72\n",
       "30    777\n",
       "31    916\n",
       "32    115\n",
       "33    976\n",
       "34    755\n",
       "35    709\n",
       "36    847\n",
       "37    431\n",
       "38    448\n",
       "39    850\n",
       "40     99\n",
       "41    984\n",
       "42    177\n",
       "43    755\n",
       "44    797\n",
       "45    659\n",
       "46    147\n",
       "47    910\n",
       "48    423\n",
       "49    288\n",
       "dtype: int64"
      ]
     },
     "execution_count": 43,
     "metadata": {},
     "output_type": "execute_result"
    }
   ],
   "source": [
    "np.random.seed(0)\n",
    "x = pd.Series(np.random.randint(0, 1_000, 50))\n",
    "x"
   ]
  },
  {
   "cell_type": "code",
   "execution_count": 44,
   "id": "db0555c2",
   "metadata": {
    "ExecuteTime": {
     "end_time": "2023-04-16T16:27:58.405566Z",
     "start_time": "2023-04-16T16:27:58.397442Z"
    }
   },
   "outputs": [
    {
     "data": {
      "text/plain": [
       "41    984\n",
       "33    976\n",
       "31    916\n",
       "47    910\n",
       "39    850\n",
       "25    849\n",
       "36    847\n",
       "28    845\n",
       "4     835\n",
       "12    804\n",
       "44    797\n",
       "30    777\n",
       "5     763\n",
       "43    755\n",
       "34    755\n",
       "11    754\n",
       "9     723\n",
       "35    709\n",
       "6     707\n",
       "19    705\n",
       "0     684\n",
       "26    677\n",
       "45    659\n",
       "2     629\n",
       "24    600\n",
       "16    600\n",
       "13    599\n",
       "1     559\n",
       "21    551\n",
       "27    537\n",
       "20    486\n",
       "15    472\n",
       "38    448\n",
       "37    431\n",
       "48    423\n",
       "17    396\n",
       "7     359\n",
       "18    314\n",
       "49    288\n",
       "10    277\n",
       "3     192\n",
       "42    177\n",
       "23    174\n",
       "46    147\n",
       "32    115\n",
       "40     99\n",
       "22     87\n",
       "29     72\n",
       "14     70\n",
       "8       9\n",
       "dtype: int64"
      ]
     },
     "execution_count": 44,
     "metadata": {},
     "output_type": "execute_result"
    }
   ],
   "source": [
    "x.sort_values(ascending=False)  # metoda odwrotna: sort_index()"
   ]
  },
  {
   "cell_type": "code",
   "execution_count": 45,
   "id": "64cec45d",
   "metadata": {
    "ExecuteTime": {
     "end_time": "2023-04-16T16:27:58.416664Z",
     "start_time": "2023-04-16T16:27:58.408864Z"
    }
   },
   "outputs": [
    {
     "data": {
      "text/plain": [
       "1     559\n",
       "2     629\n",
       "3     192\n",
       "4     835\n",
       "5     763\n",
       "6     707\n",
       "7     359\n",
       "8       9\n",
       "9     723\n",
       "10    277\n",
       "11    754\n",
       "12    804\n",
       "13    599\n",
       "14     70\n",
       "15    472\n",
       "16    600\n",
       "17    396\n",
       "18    314\n",
       "19    705\n",
       "20    486\n",
       "21    551\n",
       "22     87\n",
       "23    174\n",
       "24    600\n",
       "25    849\n",
       "26    677\n",
       "27    537\n",
       "28    845\n",
       "29     72\n",
       "30    777\n",
       "31    916\n",
       "32    115\n",
       "33    976\n",
       "34    755\n",
       "35    709\n",
       "36    847\n",
       "37    431\n",
       "38    448\n",
       "39    850\n",
       "40     99\n",
       "41    984\n",
       "42    177\n",
       "43    755\n",
       "44    797\n",
       "45    659\n",
       "46    147\n",
       "47    910\n",
       "48    423\n",
       "49    288\n",
       "dtype: int64"
      ]
     },
     "execution_count": 45,
     "metadata": {},
     "output_type": "execute_result"
    }
   ],
   "source": [
    "x.drop(0)  # nie działa w miejscu (tworzy kopię, bo wyświetla)"
   ]
  },
  {
   "cell_type": "code",
   "execution_count": 46,
   "id": "43591d84",
   "metadata": {
    "ExecuteTime": {
     "end_time": "2023-04-16T16:27:58.426339Z",
     "start_time": "2023-04-16T16:27:58.419920Z"
    }
   },
   "outputs": [
    {
     "data": {
      "text/plain": [
       "27392"
      ]
     },
     "execution_count": 46,
     "metadata": {},
     "output_type": "execute_result"
    }
   ],
   "source": [
    "x.sum()"
   ]
  },
  {
   "cell_type": "code",
   "execution_count": 47,
   "id": "11499e19",
   "metadata": {
    "ExecuteTime": {
     "end_time": "2023-04-16T16:27:58.435625Z",
     "start_time": "2023-04-16T16:27:58.429661Z"
    }
   },
   "outputs": [
    {
     "data": {
      "text/plain": [
       "547.84"
      ]
     },
     "execution_count": 47,
     "metadata": {},
     "output_type": "execute_result"
    }
   ],
   "source": [
    "x.mean()"
   ]
  },
  {
   "cell_type": "code",
   "execution_count": 48,
   "id": "43457a13",
   "metadata": {
    "ExecuteTime": {
     "end_time": "2023-04-16T16:27:58.444878Z",
     "start_time": "2023-04-16T16:27:58.438597Z"
    }
   },
   "outputs": [
    {
     "data": {
      "text/plain": [
       "984"
      ]
     },
     "execution_count": 48,
     "metadata": {},
     "output_type": "execute_result"
    }
   ],
   "source": [
    "x.max()"
   ]
  },
  {
   "cell_type": "code",
   "execution_count": 49,
   "id": "a6fabf12",
   "metadata": {
    "ExecuteTime": {
     "end_time": "2023-04-16T16:27:58.455571Z",
     "start_time": "2023-04-16T16:27:58.447196Z"
    }
   },
   "outputs": [
    {
     "data": {
      "text/plain": [
       "41"
      ]
     },
     "execution_count": 49,
     "metadata": {},
     "output_type": "execute_result"
    }
   ],
   "source": [
    "x.argmax()"
   ]
  },
  {
   "cell_type": "code",
   "execution_count": 50,
   "id": "9014a97c",
   "metadata": {
    "ExecuteTime": {
     "end_time": "2023-04-16T16:27:58.465450Z",
     "start_time": "2023-04-16T16:27:58.458719Z"
    }
   },
   "outputs": [
    {
     "data": {
      "text/plain": [
       "50"
      ]
     },
     "execution_count": 50,
     "metadata": {},
     "output_type": "execute_result"
    }
   ],
   "source": [
    "x.size"
   ]
  },
  {
   "cell_type": "code",
   "execution_count": 51,
   "id": "d555fbb5",
   "metadata": {
    "ExecuteTime": {
     "end_time": "2023-04-16T16:27:58.475764Z",
     "start_time": "2023-04-16T16:27:58.468750Z"
    }
   },
   "outputs": [
    {
     "data": {
      "text/plain": [
       "48"
      ]
     },
     "execution_count": 51,
     "metadata": {},
     "output_type": "execute_result"
    }
   ],
   "source": [
    "x.drop_duplicates().size"
   ]
  },
  {
   "cell_type": "markdown",
   "id": "5a999900",
   "metadata": {},
   "source": [
    "### Zadanie 1\n",
    "Stwórz szereg liczb parzystych od 50 do 100 i dokonaj standaryzacji (odejmij średnią i podziel przez odchylenie standardowe). Sprawdź średnią i odchylenie dla ustandaryzowanego szeregu."
   ]
  },
  {
   "cell_type": "code",
   "execution_count": 52,
   "id": "c6bdf61d",
   "metadata": {
    "ExecuteTime": {
     "end_time": "2023-04-16T16:27:58.486524Z",
     "start_time": "2023-04-16T16:27:58.479051Z"
    }
   },
   "outputs": [
    {
     "data": {
      "text/plain": [
       "0      50\n",
       "1      52\n",
       "2      54\n",
       "3      56\n",
       "4      58\n",
       "5      60\n",
       "6      62\n",
       "7      64\n",
       "8      66\n",
       "9      68\n",
       "10     70\n",
       "11     72\n",
       "12     74\n",
       "13     76\n",
       "14     78\n",
       "15     80\n",
       "16     82\n",
       "17     84\n",
       "18     86\n",
       "19     88\n",
       "20     90\n",
       "21     92\n",
       "22     94\n",
       "23     96\n",
       "24     98\n",
       "25    100\n",
       "dtype: int64"
      ]
     },
     "execution_count": 52,
     "metadata": {},
     "output_type": "execute_result"
    }
   ],
   "source": [
    "# even = pd.Series([x for x in range(50, 101) if x % 2 == 0])\n",
    "even = pd.Series(range(50, 101, 2))\n",
    "even"
   ]
  },
  {
   "cell_type": "code",
   "execution_count": 53,
   "id": "57ee5cf6",
   "metadata": {
    "ExecuteTime": {
     "end_time": "2023-04-16T16:27:58.498572Z",
     "start_time": "2023-04-16T16:27:58.490063Z"
    }
   },
   "outputs": [
    {
     "name": "stdout",
     "output_type": "stream",
     "text": [
      "Średnia: 75.0, odchylenie standardowe: 15.297058540778355\n"
     ]
    }
   ],
   "source": [
    "print(f'Średnia: {even.mean()}, odchylenie standardowe: {even.std()}')"
   ]
  },
  {
   "cell_type": "code",
   "execution_count": 54,
   "id": "9954d308",
   "metadata": {
    "ExecuteTime": {
     "end_time": "2023-04-16T16:27:58.508201Z",
     "start_time": "2023-04-16T16:27:58.501294Z"
    }
   },
   "outputs": [],
   "source": [
    "even_std = (even - even.mean()) / even.std()"
   ]
  },
  {
   "cell_type": "code",
   "execution_count": 55,
   "id": "0d96311a",
   "metadata": {
    "ExecuteTime": {
     "end_time": "2023-04-16T16:27:58.517902Z",
     "start_time": "2023-04-16T16:27:58.511092Z"
    }
   },
   "outputs": [
    {
     "name": "stdout",
     "output_type": "stream",
     "text": [
      "Średnia: 0, odchylenie standardowe: 1.0\n"
     ]
    }
   ],
   "source": [
    "print(f'Średnia: {round(even_std.mean())}, odchylenie standardowe: {even_std.std()}')"
   ]
  },
  {
   "cell_type": "code",
   "execution_count": 56,
   "id": "f330770f",
   "metadata": {
    "ExecuteTime": {
     "end_time": "2023-04-16T16:27:58.528646Z",
     "start_time": "2023-04-16T16:27:58.521405Z"
    }
   },
   "outputs": [
    {
     "data": {
      "text/plain": [
       "0    -1.634301\n",
       "1    -1.503557\n",
       "2    -1.372813\n",
       "3    -1.242069\n",
       "4    -1.111325\n",
       "5    -0.980581\n",
       "6    -0.849837\n",
       "7    -0.719092\n",
       "8    -0.588348\n",
       "9    -0.457604\n",
       "10   -0.326860\n",
       "11   -0.196116\n",
       "12   -0.065372\n",
       "13    0.065372\n",
       "14    0.196116\n",
       "15    0.326860\n",
       "16    0.457604\n",
       "17    0.588348\n",
       "18    0.719092\n",
       "19    0.849837\n",
       "20    0.980581\n",
       "21    1.111325\n",
       "22    1.242069\n",
       "23    1.372813\n",
       "24    1.503557\n",
       "25    1.634301\n",
       "dtype: float64"
      ]
     },
     "execution_count": 56,
     "metadata": {},
     "output_type": "execute_result"
    }
   ],
   "source": [
    "even_std"
   ]
  },
  {
   "cell_type": "markdown",
   "id": "92d3f604",
   "metadata": {},
   "source": [
    "### Działania na szeregach"
   ]
  },
  {
   "cell_type": "code",
   "execution_count": 57,
   "id": "6e6a326f",
   "metadata": {
    "ExecuteTime": {
     "end_time": "2023-04-16T16:27:58.538928Z",
     "start_time": "2023-04-16T16:27:58.532006Z"
    }
   },
   "outputs": [
    {
     "data": {
      "text/plain": [
       "0    55\n",
       "1    57\n",
       "2    59\n",
       "3    61\n",
       "4    63\n",
       "5    65\n",
       "dtype: int64"
      ]
     },
     "execution_count": 57,
     "metadata": {},
     "output_type": "execute_result"
    }
   ],
   "source": [
    "x = even\n",
    "x.loc[:5] + 5"
   ]
  },
  {
   "cell_type": "code",
   "execution_count": 58,
   "id": "1e5885ce",
   "metadata": {
    "ExecuteTime": {
     "end_time": "2023-04-16T16:27:58.548864Z",
     "start_time": "2023-04-16T16:27:58.541308Z"
    }
   },
   "outputs": [
    {
     "data": {
      "text/plain": [
       "0    1200\n",
       "1    1248\n",
       "2    1296\n",
       "3    1344\n",
       "4    1392\n",
       "5    1440\n",
       "dtype: int64"
      ]
     },
     "execution_count": 58,
     "metadata": {},
     "output_type": "execute_result"
    }
   ],
   "source": [
    "x1 = x.loc[:5] * 24\n",
    "x1"
   ]
  },
  {
   "cell_type": "code",
   "execution_count": 59,
   "id": "e7fbe9a1",
   "metadata": {
    "ExecuteTime": {
     "end_time": "2023-04-16T16:27:58.558878Z",
     "start_time": "2023-04-16T16:27:58.551564Z"
    }
   },
   "outputs": [
    {
     "data": {
      "text/plain": [
       "0    7.071068\n",
       "1    7.211103\n",
       "2    7.348469\n",
       "3    7.483315\n",
       "4    7.615773\n",
       "5    7.745967\n",
       "dtype: float64"
      ]
     },
     "execution_count": 59,
     "metadata": {},
     "output_type": "execute_result"
    }
   ],
   "source": [
    "x.loc[:5] ** (1/2)"
   ]
  },
  {
   "cell_type": "code",
   "execution_count": 60,
   "id": "bf85a782",
   "metadata": {
    "ExecuteTime": {
     "end_time": "2023-04-16T16:27:58.569761Z",
     "start_time": "2023-04-16T16:27:58.561504Z"
    }
   },
   "outputs": [
    {
     "data": {
      "text/plain": [
       "0    5\n",
       "1    7\n",
       "2    9\n",
       "dtype: int64"
      ]
     },
     "execution_count": 60,
     "metadata": {},
     "output_type": "execute_result"
    }
   ],
   "source": [
    "a = pd.Series([1, 2, 3])\n",
    "b = pd.Series([4, 5, 6])\n",
    "\n",
    "a + b"
   ]
  },
  {
   "cell_type": "code",
   "execution_count": 61,
   "id": "722ab8f4",
   "metadata": {
    "ExecuteTime": {
     "end_time": "2023-04-16T16:27:58.582285Z",
     "start_time": "2023-04-16T16:27:58.572695Z"
    }
   },
   "outputs": [
    {
     "data": {
      "text/plain": [
       "0    5.0\n",
       "1    7.0\n",
       "2    9.0\n",
       "3    NaN\n",
       "dtype: float64"
      ]
     },
     "execution_count": 61,
     "metadata": {},
     "output_type": "execute_result"
    }
   ],
   "source": [
    "a = pd.Series([1, 2, 3, 7])\n",
    "b = pd.Series([4, 5, 6])\n",
    "\n",
    "a + b"
   ]
  },
  {
   "cell_type": "code",
   "execution_count": 62,
   "id": "5045299b",
   "metadata": {
    "ExecuteTime": {
     "end_time": "2023-04-16T16:27:58.618541Z",
     "start_time": "2023-04-16T16:27:58.585057Z"
    }
   },
   "outputs": [
    {
     "data": {
      "text/plain": [
       "0    5.0\n",
       "1    NaN\n",
       "2    8.0\n",
       "7    NaN\n",
       "dtype: float64"
      ]
     },
     "execution_count": 62,
     "metadata": {},
     "output_type": "execute_result"
    }
   ],
   "source": [
    "a = pd.Series([1, 2, 3], index=[0, 2, 7])\n",
    "b = pd.Series([4, 5, 6])\n",
    "\n",
    "a + b"
   ]
  },
  {
   "cell_type": "code",
   "execution_count": 63,
   "id": "b7cfec17",
   "metadata": {
    "ExecuteTime": {
     "end_time": "2023-04-16T16:27:58.628899Z",
     "start_time": "2023-04-16T16:27:58.621564Z"
    }
   },
   "outputs": [
    {
     "data": {
      "text/plain": [
       "0    1\n",
       "2    2\n",
       "7    3\n",
       "dtype: int64"
      ]
     },
     "execution_count": 63,
     "metadata": {},
     "output_type": "execute_result"
    }
   ],
   "source": [
    "a"
   ]
  },
  {
   "cell_type": "code",
   "execution_count": 64,
   "id": "8441dad3",
   "metadata": {
    "ExecuteTime": {
     "end_time": "2023-04-16T16:27:58.640478Z",
     "start_time": "2023-04-16T16:27:58.632111Z"
    }
   },
   "outputs": [
    {
     "data": {
      "text/plain": [
       "0    4\n",
       "1    5\n",
       "2    6\n",
       "dtype: int64"
      ]
     },
     "execution_count": 64,
     "metadata": {},
     "output_type": "execute_result"
    }
   ],
   "source": [
    "b"
   ]
  },
  {
   "cell_type": "code",
   "execution_count": 65,
   "id": "ab937f4b",
   "metadata": {
    "ExecuteTime": {
     "end_time": "2023-04-16T16:27:58.651081Z",
     "start_time": "2023-04-16T16:27:58.643247Z"
    }
   },
   "outputs": [
    {
     "data": {
      "text/plain": [
       "0    5.0\n",
       "1    5.0\n",
       "2    8.0\n",
       "7    3.0\n",
       "dtype: float64"
      ]
     },
     "execution_count": 65,
     "metadata": {},
     "output_type": "execute_result"
    }
   ],
   "source": [
    "a.add(b, fill_value=0)"
   ]
  },
  {
   "cell_type": "markdown",
   "id": "e078650d",
   "metadata": {},
   "source": [
    "### Filtrowanie"
   ]
  },
  {
   "cell_type": "code",
   "execution_count": 66,
   "id": "7d86e2f8",
   "metadata": {
    "ExecuteTime": {
     "end_time": "2023-04-16T16:27:58.661551Z",
     "start_time": "2023-04-16T16:27:58.653688Z"
    }
   },
   "outputs": [
    {
     "data": {
      "text/plain": [
       "0      50\n",
       "1      52\n",
       "2      54\n",
       "3      56\n",
       "4      58\n",
       "5      60\n",
       "6      62\n",
       "7      64\n",
       "8      66\n",
       "9      68\n",
       "10     70\n",
       "11     72\n",
       "12     74\n",
       "13     76\n",
       "14     78\n",
       "15     80\n",
       "16     82\n",
       "17     84\n",
       "18     86\n",
       "19     88\n",
       "20     90\n",
       "21     92\n",
       "22     94\n",
       "23     96\n",
       "24     98\n",
       "25    100\n",
       "dtype: int64"
      ]
     },
     "execution_count": 66,
     "metadata": {},
     "output_type": "execute_result"
    }
   ],
   "source": [
    "x"
   ]
  },
  {
   "cell_type": "code",
   "execution_count": 67,
   "id": "b09c8272",
   "metadata": {
    "ExecuteTime": {
     "end_time": "2023-04-16T16:27:58.672781Z",
     "start_time": "2023-04-16T16:27:58.664151Z"
    }
   },
   "outputs": [
    {
     "data": {
      "text/plain": [
       "Series([], dtype: int64)"
      ]
     },
     "execution_count": 67,
     "metadata": {},
     "output_type": "execute_result"
    }
   ],
   "source": [
    "x[x == 1]"
   ]
  },
  {
   "cell_type": "code",
   "execution_count": 68,
   "id": "3f7c9623",
   "metadata": {
    "ExecuteTime": {
     "end_time": "2023-04-16T16:27:58.683746Z",
     "start_time": "2023-04-16T16:27:58.675824Z"
    }
   },
   "outputs": [
    {
     "data": {
      "text/plain": [
       "8    66\n",
       "dtype: int64"
      ]
     },
     "execution_count": 68,
     "metadata": {},
     "output_type": "execute_result"
    }
   ],
   "source": [
    "x[x == 66]"
   ]
  },
  {
   "cell_type": "code",
   "execution_count": 69,
   "id": "6a95357a",
   "metadata": {
    "ExecuteTime": {
     "end_time": "2023-04-16T16:27:58.694612Z",
     "start_time": "2023-04-16T16:27:58.686249Z"
    }
   },
   "outputs": [
    {
     "data": {
      "text/plain": [
       "0    50\n",
       "1    52\n",
       "2    54\n",
       "3    56\n",
       "4    58\n",
       "dtype: int64"
      ]
     },
     "execution_count": 69,
     "metadata": {},
     "output_type": "execute_result"
    }
   ],
   "source": [
    "x[x < 60]"
   ]
  },
  {
   "cell_type": "code",
   "execution_count": 70,
   "id": "e744760b",
   "metadata": {
    "ExecuteTime": {
     "end_time": "2023-04-16T16:27:58.704959Z",
     "start_time": "2023-04-16T16:27:58.697120Z"
    },
    "scrolled": true
   },
   "outputs": [
    {
     "data": {
      "text/plain": [
       "3    56\n",
       "4    58\n",
       "dtype: int64"
      ]
     },
     "execution_count": 70,
     "metadata": {},
     "output_type": "execute_result"
    }
   ],
   "source": [
    "x[(x < 60) & (x > 55)]  # nawiasy są konieczne! (bo '&' jest operatorem binarnym, działającym od lewej do prawej)"
   ]
  },
  {
   "cell_type": "code",
   "execution_count": 71,
   "id": "5c520a0b",
   "metadata": {
    "ExecuteTime": {
     "end_time": "2023-04-16T16:27:58.716814Z",
     "start_time": "2023-04-16T16:27:58.707629Z"
    }
   },
   "outputs": [
    {
     "data": {
      "text/plain": [
       "114"
      ]
     },
     "execution_count": 71,
     "metadata": {},
     "output_type": "execute_result"
    }
   ],
   "source": [
    "x[(x < 60) & (x > 55)].sum()"
   ]
  },
  {
   "cell_type": "code",
   "execution_count": 72,
   "id": "76af44c4",
   "metadata": {
    "ExecuteTime": {
     "end_time": "2023-04-16T16:27:58.729665Z",
     "start_time": "2023-04-16T16:27:58.720157Z"
    }
   },
   "outputs": [
    {
     "data": {
      "text/plain": [
       "0    50\n",
       "1    52\n",
       "2    54\n",
       "3    56\n",
       "4    58\n",
       "dtype: int64"
      ]
     },
     "execution_count": 72,
     "metadata": {},
     "output_type": "execute_result"
    }
   ],
   "source": [
    "x[x.index < 5]"
   ]
  },
  {
   "cell_type": "code",
   "execution_count": 73,
   "id": "d18cb79c",
   "metadata": {
    "ExecuteTime": {
     "end_time": "2023-04-16T16:27:58.739880Z",
     "start_time": "2023-04-16T16:27:58.731805Z"
    }
   },
   "outputs": [
    {
     "data": {
      "text/plain": [
       "0       0\n",
       "1       0\n",
       "2       0\n",
       "3       0\n",
       "4       0\n",
       "5      60\n",
       "6      62\n",
       "7      64\n",
       "8      66\n",
       "9      68\n",
       "10     70\n",
       "11     72\n",
       "12     74\n",
       "13     76\n",
       "14     78\n",
       "15     80\n",
       "16     82\n",
       "17     84\n",
       "18     86\n",
       "19     88\n",
       "20     90\n",
       "21     92\n",
       "22     94\n",
       "23     96\n",
       "24     98\n",
       "25    100\n",
       "dtype: int64"
      ]
     },
     "execution_count": 73,
     "metadata": {},
     "output_type": "execute_result"
    }
   ],
   "source": [
    "x[x.index < 5] = 0\n",
    "x"
   ]
  },
  {
   "cell_type": "markdown",
   "id": "37272d21",
   "metadata": {},
   "source": [
    "### Zadanie 2\n",
    "- Stwórz szereg zawierający dane o populacji podanych krajów. \n",
    "- Znajdź kraj o największej populacji. \n",
    "- Oblicz ile % łącznej populacji wszystkich krajów z szeregu stanowi jego populacja. \n",
    "- Wybierz kraje o populacji poniżej 100mln i oblicz ile % populacji wszystkich krajów z szeregu stanowi ich populacja.\n",
    "- Dodaj do szeregu Polskę *\n",
    "\n",
    "`{'USA': 331449281, 'China': 1444216107, 'Japan': 126476461, 'Germany': 83122889, 'UK': 67886011}`"
   ]
  },
  {
   "cell_type": "code",
   "execution_count": 74,
   "id": "bef673bc",
   "metadata": {
    "ExecuteTime": {
     "end_time": "2023-04-16T16:27:58.749805Z",
     "start_time": "2023-04-16T16:27:58.741737Z"
    }
   },
   "outputs": [
    {
     "data": {
      "text/plain": [
       "USA         331449281\n",
       "China      1444216107\n",
       "Japan       126476461\n",
       "Germany      83122889\n",
       "UK           67886011\n",
       "dtype: int64"
      ]
     },
     "execution_count": 74,
     "metadata": {},
     "output_type": "execute_result"
    }
   ],
   "source": [
    "countries = pd.Series({'USA': 331449281, 'China': 1444216107, 'Japan': 126476461, 'Germany': 83122889, 'UK': 67886011})\n",
    "countries"
   ]
  },
  {
   "cell_type": "code",
   "execution_count": 75,
   "id": "fcead95a",
   "metadata": {
    "ExecuteTime": {
     "end_time": "2023-04-16T16:27:58.760521Z",
     "start_time": "2023-04-16T16:27:58.753331Z"
    }
   },
   "outputs": [
    {
     "data": {
      "text/plain": [
       "'China'"
      ]
     },
     "execution_count": 75,
     "metadata": {},
     "output_type": "execute_result"
    }
   ],
   "source": [
    "# countries.iloc[[countries.argmax()]].index[0]\n",
    "countries.idxmax()"
   ]
  },
  {
   "cell_type": "code",
   "execution_count": 76,
   "id": "8563ce7d",
   "metadata": {
    "ExecuteTime": {
     "end_time": "2023-04-16T16:27:58.770823Z",
     "start_time": "2023-04-16T16:27:58.763000Z"
    }
   },
   "outputs": [
    {
     "data": {
      "text/plain": [
       "70.34145484462914"
      ]
     },
     "execution_count": 76,
     "metadata": {},
     "output_type": "execute_result"
    }
   ],
   "source": [
    "100 * countries[countries.argmax()] / countries.sum()"
   ]
  },
  {
   "cell_type": "code",
   "execution_count": 77,
   "id": "1b5c9971",
   "metadata": {
    "ExecuteTime": {
     "end_time": "2023-04-16T16:27:58.781434Z",
     "start_time": "2023-04-16T16:27:58.774401Z"
    }
   },
   "outputs": [
    {
     "data": {
      "text/plain": [
       "7.354983557517627"
      ]
     },
     "execution_count": 77,
     "metadata": {},
     "output_type": "execute_result"
    }
   ],
   "source": [
    "100 * countries[countries < 100_000_000].sum() / countries.sum()"
   ]
  },
  {
   "cell_type": "code",
   "execution_count": 78,
   "id": "0ec7ead0",
   "metadata": {
    "ExecuteTime": {
     "end_time": "2023-04-16T16:27:58.793710Z",
     "start_time": "2023-04-16T16:27:58.783739Z"
    }
   },
   "outputs": [
    {
     "data": {
      "text/plain": [
       "USA         331449281\n",
       "China      1444216107\n",
       "Japan       126476461\n",
       "Germany      83122889\n",
       "UK           67886011\n",
       "Poland       37750000\n",
       "dtype: int64"
      ]
     },
     "execution_count": 78,
     "metadata": {},
     "output_type": "execute_result"
    }
   ],
   "source": [
    "countries['Poland'] = 37_750_000\n",
    "countries"
   ]
  },
  {
   "cell_type": "markdown",
   "id": "7fdd7c7e",
   "metadata": {},
   "source": [
    "### Metody cd"
   ]
  },
  {
   "cell_type": "code",
   "execution_count": 79,
   "id": "7973e935",
   "metadata": {
    "ExecuteTime": {
     "end_time": "2023-04-16T16:27:58.805422Z",
     "start_time": "2023-04-16T16:27:58.796456Z"
    }
   },
   "outputs": [
    {
     "data": {
      "text/plain": [
       "0      5\n",
       "60     1\n",
       "98     1\n",
       "96     1\n",
       "94     1\n",
       "92     1\n",
       "90     1\n",
       "88     1\n",
       "86     1\n",
       "84     1\n",
       "82     1\n",
       "80     1\n",
       "78     1\n",
       "76     1\n",
       "74     1\n",
       "72     1\n",
       "70     1\n",
       "68     1\n",
       "66     1\n",
       "64     1\n",
       "62     1\n",
       "100    1\n",
       "dtype: int64"
      ]
     },
     "execution_count": 79,
     "metadata": {},
     "output_type": "execute_result"
    }
   ],
   "source": [
    "x.value_counts()"
   ]
  },
  {
   "cell_type": "code",
   "execution_count": 80,
   "id": "8bcf3de1",
   "metadata": {
    "ExecuteTime": {
     "end_time": "2023-04-16T16:27:59.578009Z",
     "start_time": "2023-04-16T16:27:58.807951Z"
    }
   },
   "outputs": [
    {
     "data": {
      "text/plain": [
       "<AxesSubplot:>"
      ]
     },
     "execution_count": 80,
     "metadata": {},
     "output_type": "execute_result"
    },
    {
     "data": {
      "image/png": "[encoded data removed]",
      "text/plain": [
       "<Figure size 432x288 with 1 Axes>"
      ]
     },
     "metadata": {
      "needs_background": "light"
     },
     "output_type": "display_data"
    }
   ],
   "source": [
    "x.plot()"
   ]
  },
  {
   "cell_type": "code",
   "execution_count": 81,
   "id": "0c32f1c1",
   "metadata": {
    "ExecuteTime": {
     "end_time": "2023-04-16T16:27:59.588491Z",
     "start_time": "2023-04-16T16:27:59.582219Z"
    }
   },
   "outputs": [
    {
     "data": {
      "text/plain": [
       "[0,\n",
       " 0,\n",
       " 0,\n",
       " 0,\n",
       " 0,\n",
       " 60,\n",
       " 62,\n",
       " 64,\n",
       " 66,\n",
       " 68,\n",
       " 70,\n",
       " 72,\n",
       " 74,\n",
       " 76,\n",
       " 78,\n",
       " 80,\n",
       " 82,\n",
       " 84,\n",
       " 86,\n",
       " 88,\n",
       " 90,\n",
       " 92,\n",
       " 94,\n",
       " 96,\n",
       " 98,\n",
       " 100]"
      ]
     },
     "execution_count": 81,
     "metadata": {},
     "output_type": "execute_result"
    }
   ],
   "source": [
    "x.to_list()"
   ]
  },
  {
   "cell_type": "code",
   "execution_count": 82,
   "id": "6557ba54",
   "metadata": {
    "ExecuteTime": {
     "end_time": "2023-04-16T16:27:59.612012Z",
     "start_time": "2023-04-16T16:27:59.605587Z"
    }
   },
   "outputs": [
    {
     "data": {
      "text/plain": [
       "{0: 0,\n",
       " 1: 0,\n",
       " 2: 0,\n",
       " 3: 0,\n",
       " 4: 0,\n",
       " 5: 60,\n",
       " 6: 62,\n",
       " 7: 64,\n",
       " 8: 66,\n",
       " 9: 68,\n",
       " 10: 70,\n",
       " 11: 72,\n",
       " 12: 74,\n",
       " 13: 76,\n",
       " 14: 78,\n",
       " 15: 80,\n",
       " 16: 82,\n",
       " 17: 84,\n",
       " 18: 86,\n",
       " 19: 88,\n",
       " 20: 90,\n",
       " 21: 92,\n",
       " 22: 94,\n",
       " 23: 96,\n",
       " 24: 98,\n",
       " 25: 100}"
      ]
     },
     "execution_count": 82,
     "metadata": {},
     "output_type": "execute_result"
    }
   ],
   "source": [
    "x.to_dict()"
   ]
  },
  {
   "cell_type": "code",
   "execution_count": 83,
   "id": "0377cf6b",
   "metadata": {
    "ExecuteTime": {
     "end_time": "2023-04-16T16:27:59.625052Z",
     "start_time": "2023-04-16T16:27:59.615209Z"
    }
   },
   "outputs": [
    {
     "data": {
      "text/html": [
       "<div>\n",
       "<style scoped>\n",
       "    .dataframe tbody tr th:only-of-type {\n",
       "        vertical-align: middle;\n",
       "    }\n",
       "\n",
       "    .dataframe tbody tr th {\n",
       "        vertical-align: top;\n",
       "    }\n",
       "\n",
       "    .dataframe thead th {\n",
       "        text-align: right;\n",
       "    }\n",
       "</style>\n",
       "<table border=\"1\" class=\"dataframe\">\n",
       "  <thead>\n",
       "    <tr style=\"text-align: right;\">\n",
       "      <th></th>\n",
       "      <th>0</th>\n",
       "    </tr>\n",
       "  </thead>\n",
       "  <tbody>\n",
       "    <tr>\n",
       "      <th>0</th>\n",
       "      <td>0</td>\n",
       "    </tr>\n",
       "    <tr>\n",
       "      <th>1</th>\n",
       "      <td>0</td>\n",
       "    </tr>\n",
       "    <tr>\n",
       "      <th>2</th>\n",
       "      <td>0</td>\n",
       "    </tr>\n",
       "    <tr>\n",
       "      <th>3</th>\n",
       "      <td>0</td>\n",
       "    </tr>\n",
       "    <tr>\n",
       "      <th>4</th>\n",
       "      <td>0</td>\n",
       "    </tr>\n",
       "    <tr>\n",
       "      <th>5</th>\n",
       "      <td>60</td>\n",
       "    </tr>\n",
       "    <tr>\n",
       "      <th>6</th>\n",
       "      <td>62</td>\n",
       "    </tr>\n",
       "    <tr>\n",
       "      <th>7</th>\n",
       "      <td>64</td>\n",
       "    </tr>\n",
       "    <tr>\n",
       "      <th>8</th>\n",
       "      <td>66</td>\n",
       "    </tr>\n",
       "    <tr>\n",
       "      <th>9</th>\n",
       "      <td>68</td>\n",
       "    </tr>\n",
       "    <tr>\n",
       "      <th>10</th>\n",
       "      <td>70</td>\n",
       "    </tr>\n",
       "    <tr>\n",
       "      <th>11</th>\n",
       "      <td>72</td>\n",
       "    </tr>\n",
       "    <tr>\n",
       "      <th>12</th>\n",
       "      <td>74</td>\n",
       "    </tr>\n",
       "    <tr>\n",
       "      <th>13</th>\n",
       "      <td>76</td>\n",
       "    </tr>\n",
       "    <tr>\n",
       "      <th>14</th>\n",
       "      <td>78</td>\n",
       "    </tr>\n",
       "    <tr>\n",
       "      <th>15</th>\n",
       "      <td>80</td>\n",
       "    </tr>\n",
       "    <tr>\n",
       "      <th>16</th>\n",
       "      <td>82</td>\n",
       "    </tr>\n",
       "    <tr>\n",
       "      <th>17</th>\n",
       "      <td>84</td>\n",
       "    </tr>\n",
       "    <tr>\n",
       "      <th>18</th>\n",
       "      <td>86</td>\n",
       "    </tr>\n",
       "    <tr>\n",
       "      <th>19</th>\n",
       "      <td>88</td>\n",
       "    </tr>\n",
       "    <tr>\n",
       "      <th>20</th>\n",
       "      <td>90</td>\n",
       "    </tr>\n",
       "    <tr>\n",
       "      <th>21</th>\n",
       "      <td>92</td>\n",
       "    </tr>\n",
       "    <tr>\n",
       "      <th>22</th>\n",
       "      <td>94</td>\n",
       "    </tr>\n",
       "    <tr>\n",
       "      <th>23</th>\n",
       "      <td>96</td>\n",
       "    </tr>\n",
       "    <tr>\n",
       "      <th>24</th>\n",
       "      <td>98</td>\n",
       "    </tr>\n",
       "    <tr>\n",
       "      <th>25</th>\n",
       "      <td>100</td>\n",
       "    </tr>\n",
       "  </tbody>\n",
       "</table>\n",
       "</div>"
      ],
      "text/plain": [
       "      0\n",
       "0     0\n",
       "1     0\n",
       "2     0\n",
       "3     0\n",
       "4     0\n",
       "5    60\n",
       "6    62\n",
       "7    64\n",
       "8    66\n",
       "9    68\n",
       "10   70\n",
       "11   72\n",
       "12   74\n",
       "13   76\n",
       "14   78\n",
       "15   80\n",
       "16   82\n",
       "17   84\n",
       "18   86\n",
       "19   88\n",
       "20   90\n",
       "21   92\n",
       "22   94\n",
       "23   96\n",
       "24   98\n",
       "25  100"
      ]
     },
     "execution_count": 83,
     "metadata": {},
     "output_type": "execute_result"
    }
   ],
   "source": [
    "x.to_frame()"
   ]
  },
  {
   "cell_type": "markdown",
   "id": "66e8a7ec",
   "metadata": {},
   "source": [
    "### Zadanie 3\n",
    "1. Stwórz szereg *y* składający się z 20 losowych liczb całkowitych z przedziału od 100 do 200 włącznie (przed losowaniem ustaw ziarno generatora na 26)\n",
    "2. Odfiltruj te wartości szeregu, które są podzielne przez 13 i przypisz do nich *None*\n",
    "3. Znajdź metodę, która pozwala uzupełnić braki danych \n",
    "4. Stwórz szereg *y2* poprzez uzupełnienie braków w szeregu *y* słowem 'python'\n",
    "5. Sprawdź typy danych w starym i nowym szeregu, spróbuj narysować histogramy dla tych szeregów.\n",
    "\n",
    "Wszystkie dostępne atrybuty i metody można znaleźć w dokumentacji:\n",
    "\n",
    "https://pandas.pydata.org/pandas-docs/stable/reference/api/pandas.Series.html"
   ]
  },
  {
   "cell_type": "code",
   "execution_count": 84,
   "id": "8423447f",
   "metadata": {
    "ExecuteTime": {
     "end_time": "2023-04-16T16:27:59.634414Z",
     "start_time": "2023-04-16T16:27:59.627290Z"
    }
   },
   "outputs": [
    {
     "data": {
      "text/plain": [
       "0     153\n",
       "1     162\n",
       "2     106\n",
       "3     148\n",
       "4     165\n",
       "5     183\n",
       "6     177\n",
       "7     190\n",
       "8     132\n",
       "9     168\n",
       "10    198\n",
       "11    145\n",
       "12    117\n",
       "13    155\n",
       "14    153\n",
       "15    189\n",
       "16    152\n",
       "17    188\n",
       "18    121\n",
       "19    130\n",
       "dtype: int64"
      ]
     },
     "execution_count": 84,
     "metadata": {},
     "output_type": "execute_result"
    }
   ],
   "source": [
    "np.random.seed(26)\n",
    "y = pd.Series(np.random.randint(100, 201, 20))\n",
    "y"
   ]
  },
  {
   "cell_type": "code",
   "execution_count": 85,
   "id": "b5c565a6",
   "metadata": {
    "ExecuteTime": {
     "end_time": "2023-04-16T16:27:59.646624Z",
     "start_time": "2023-04-16T16:27:59.637923Z"
    }
   },
   "outputs": [
    {
     "data": {
      "text/plain": [
       "0     153.0\n",
       "1     162.0\n",
       "2     106.0\n",
       "3     148.0\n",
       "4     165.0\n",
       "5     183.0\n",
       "6     177.0\n",
       "7     190.0\n",
       "8     132.0\n",
       "9     168.0\n",
       "10    198.0\n",
       "11    145.0\n",
       "12      NaN\n",
       "13    155.0\n",
       "14    153.0\n",
       "15    189.0\n",
       "16    152.0\n",
       "17    188.0\n",
       "18    121.0\n",
       "19      NaN\n",
       "dtype: float64"
      ]
     },
     "execution_count": 85,
     "metadata": {},
     "output_type": "execute_result"
    }
   ],
   "source": [
    "y[y % 13 == 0 ] = None\n",
    "y"
   ]
  },
  {
   "cell_type": "code",
   "execution_count": 86,
   "id": "30f8775a",
   "metadata": {
    "ExecuteTime": {
     "end_time": "2023-04-16T16:27:59.657558Z",
     "start_time": "2023-04-16T16:27:59.649974Z"
    }
   },
   "outputs": [
    {
     "data": {
      "text/plain": [
       "0      153.0\n",
       "1      162.0\n",
       "2      106.0\n",
       "3      148.0\n",
       "4      165.0\n",
       "5      183.0\n",
       "6      177.0\n",
       "7      190.0\n",
       "8      132.0\n",
       "9      168.0\n",
       "10     198.0\n",
       "11     145.0\n",
       "12    python\n",
       "13     155.0\n",
       "14     153.0\n",
       "15     189.0\n",
       "16     152.0\n",
       "17     188.0\n",
       "18     121.0\n",
       "19    python\n",
       "dtype: object"
      ]
     },
     "execution_count": 86,
     "metadata": {},
     "output_type": "execute_result"
    }
   ],
   "source": [
    "y2 = y.fillna(value='python')  # metoda działa w locie (nie modyfikuje oryginalnego szeregu)\n",
    "y2"
   ]
  },
  {
   "cell_type": "code",
   "execution_count": 87,
   "id": "eca2509a",
   "metadata": {
    "ExecuteTime": {
     "end_time": "2023-04-16T16:27:59.667403Z",
     "start_time": "2023-04-16T16:27:59.660294Z"
    }
   },
   "outputs": [
    {
     "data": {
      "text/plain": [
       "dtype('float64')"
      ]
     },
     "execution_count": 87,
     "metadata": {},
     "output_type": "execute_result"
    }
   ],
   "source": [
    "y.dtypes"
   ]
  },
  {
   "cell_type": "code",
   "execution_count": 88,
   "id": "917dfe2e",
   "metadata": {
    "ExecuteTime": {
     "end_time": "2023-04-16T16:27:59.677457Z",
     "start_time": "2023-04-16T16:27:59.671459Z"
    }
   },
   "outputs": [
    {
     "data": {
      "text/plain": [
       "dtype('O')"
      ]
     },
     "execution_count": 88,
     "metadata": {},
     "output_type": "execute_result"
    }
   ],
   "source": [
    "y2.dtypes  # typ 'object', bo szereg zawiera różne typy danych"
   ]
  },
  {
   "cell_type": "code",
   "execution_count": 89,
   "id": "366f4322",
   "metadata": {
    "ExecuteTime": {
     "end_time": "2023-04-16T16:27:59.832967Z",
     "start_time": "2023-04-16T16:27:59.679799Z"
    }
   },
   "outputs": [
    {
     "data": {
      "text/plain": [
       "<AxesSubplot:>"
      ]
     },
     "execution_count": 89,
     "metadata": {},
     "output_type": "execute_result"
    },
    {
     "data": {
      "image/png": "[encoded data removed]",
      "text/plain": [
       "<Figure size 432x288 with 1 Axes>"
      ]
     },
     "metadata": {
      "needs_background": "light"
     },
     "output_type": "display_data"
    }
   ],
   "source": [
    "y.hist()\n",
    "# y2.hist()  # spowoduje błąd, bo nie można narysować historgramu dla danych typu 'str'"
   ]
  },
  {
   "cell_type": "code",
   "execution_count": 90,
   "id": "9797d915",
   "metadata": {
    "ExecuteTime": {
     "end_time": "2023-04-16T16:27:59.842456Z",
     "start_time": "2023-04-16T16:27:59.835416Z"
    }
   },
   "outputs": [
    {
     "data": {
      "text/plain": [
       "0     153.0\n",
       "1     162.0\n",
       "2     106.0\n",
       "3     148.0\n",
       "4     165.0\n",
       "5     183.0\n",
       "6     177.0\n",
       "7     190.0\n",
       "8     132.0\n",
       "9     168.0\n",
       "10    198.0\n",
       "11    145.0\n",
       "12        7\n",
       "13    155.0\n",
       "14    153.0\n",
       "15    189.0\n",
       "16    152.0\n",
       "17    188.0\n",
       "18    121.0\n",
       "19        7\n",
       "dtype: object"
      ]
     },
     "execution_count": 90,
     "metadata": {},
     "output_type": "execute_result"
    }
   ],
   "source": [
    "y3 = y.fillna(value='7')\n",
    "y3"
   ]
  },
  {
   "cell_type": "code",
   "execution_count": 91,
   "id": "659b5c7c",
   "metadata": {
    "ExecuteTime": {
     "end_time": "2023-04-16T16:28:00.006325Z",
     "start_time": "2023-04-16T16:27:59.845165Z"
    }
   },
   "outputs": [
    {
     "data": {
      "text/plain": [
       "<AxesSubplot:>"
      ]
     },
     "execution_count": 91,
     "metadata": {},
     "output_type": "execute_result"
    },
    {
     "data": {
      "image/png": "[encoded data removed]",
      "text/plain": [
       "<Figure size 432x288 with 1 Axes>"
      ]
     },
     "metadata": {
      "needs_background": "light"
     },
     "output_type": "display_data"
    }
   ],
   "source": [
    "y3.astype(int).hist()  # konwersja 'str' na 'int'"
   ]
  },
  {
   "cell_type": "markdown",
   "id": "7a9d92f8",
   "metadata": {},
   "source": [
    "### Szeregi czasowe"
   ]
  },
  {
   "cell_type": "code",
   "execution_count": 92,
   "id": "9b0de009",
   "metadata": {
    "ExecuteTime": {
     "end_time": "2023-04-16T16:28:00.016418Z",
     "start_time": "2023-04-16T16:28:00.008733Z"
    }
   },
   "outputs": [
    {
     "data": {
      "text/plain": [
       "DatetimeIndex(['2023-01-01', '2023-01-02', '2023-01-03', '2023-01-04',\n",
       "               '2023-01-05', '2023-01-06', '2023-01-07', '2023-01-08',\n",
       "               '2023-01-09', '2023-01-10', '2023-01-11', '2023-01-12',\n",
       "               '2023-01-13', '2023-01-14', '2023-01-15', '2023-01-16',\n",
       "               '2023-01-17', '2023-01-18', '2023-01-19', '2023-01-20',\n",
       "               '2023-01-21', '2023-01-22', '2023-01-23', '2023-01-24',\n",
       "               '2023-01-25', '2023-01-26', '2023-01-27', '2023-01-28',\n",
       "               '2023-01-29', '2023-01-30'],\n",
       "              dtype='datetime64[ns]', freq='D')"
      ]
     },
     "execution_count": 92,
     "metadata": {},
     "output_type": "execute_result"
    }
   ],
   "source": [
    "pd.date_range('2023-01-01', '2023-01-30')"
   ]
  },
  {
   "cell_type": "code",
   "execution_count": 93,
   "id": "c6a4886c",
   "metadata": {
    "ExecuteTime": {
     "end_time": "2023-04-16T16:28:00.028274Z",
     "start_time": "2023-04-16T16:28:00.020196Z"
    }
   },
   "outputs": [
    {
     "data": {
      "text/plain": [
       "DatetimeIndex(['2023-01-01', '2023-01-02', '2023-01-03', '2023-01-04',\n",
       "               '2023-01-05', '2023-01-06', '2023-01-07', '2023-01-08',\n",
       "               '2023-01-09', '2023-01-10', '2023-01-11', '2023-01-12',\n",
       "               '2023-01-13', '2023-01-14', '2023-01-15', '2023-01-16',\n",
       "               '2023-01-17', '2023-01-18', '2023-01-19', '2023-01-20',\n",
       "               '2023-01-21', '2023-01-22', '2023-01-23', '2023-01-24',\n",
       "               '2023-01-25', '2023-01-26', '2023-01-27', '2023-01-28',\n",
       "               '2023-01-29', '2023-01-30'],\n",
       "              dtype='datetime64[ns]', freq='D')"
      ]
     },
     "execution_count": 93,
     "metadata": {},
     "output_type": "execute_result"
    }
   ],
   "source": [
    "pd.date_range('2023-01-01', '2023-01-30', freq='1D')"
   ]
  },
  {
   "cell_type": "code",
   "execution_count": 94,
   "id": "4a4df58d",
   "metadata": {
    "ExecuteTime": {
     "end_time": "2023-04-16T16:28:00.038450Z",
     "start_time": "2023-04-16T16:28:00.031012Z"
    }
   },
   "outputs": [
    {
     "data": {
      "text/plain": [
       "DatetimeIndex(['2023-01-01 00:00:00', '2023-01-01 05:00:00',\n",
       "               '2023-01-01 10:00:00', '2023-01-01 15:00:00',\n",
       "               '2023-01-01 20:00:00', '2023-01-02 01:00:00',\n",
       "               '2023-01-02 06:00:00', '2023-01-02 11:00:00',\n",
       "               '2023-01-02 16:00:00', '2023-01-02 21:00:00',\n",
       "               '2023-01-03 02:00:00', '2023-01-03 07:00:00',\n",
       "               '2023-01-03 12:00:00', '2023-01-03 17:00:00',\n",
       "               '2023-01-03 22:00:00', '2023-01-04 03:00:00',\n",
       "               '2023-01-04 08:00:00', '2023-01-04 13:00:00',\n",
       "               '2023-01-04 18:00:00', '2023-01-04 23:00:00'],\n",
       "              dtype='datetime64[ns]', freq='5H')"
      ]
     },
     "execution_count": 94,
     "metadata": {},
     "output_type": "execute_result"
    }
   ],
   "source": [
    "pd.date_range('2023-01-01', '2023-01-05', freq='5H')"
   ]
  },
  {
   "cell_type": "code",
   "execution_count": 95,
   "id": "30a9f268",
   "metadata": {
    "ExecuteTime": {
     "end_time": "2023-04-16T16:28:00.050123Z",
     "start_time": "2023-04-16T16:28:00.042267Z"
    }
   },
   "outputs": [
    {
     "data": {
      "text/plain": [
       "DatetimeIndex(['2023-01-01 00:00:00', '2023-01-01 19:12:00',\n",
       "               '2023-01-02 14:24:00', '2023-01-03 09:36:00',\n",
       "               '2023-01-04 04:48:00', '2023-01-05 00:00:00'],\n",
       "              dtype='datetime64[ns]', freq=None)"
      ]
     },
     "execution_count": 95,
     "metadata": {},
     "output_type": "execute_result"
    }
   ],
   "source": [
    "pd.date_range('2023-01-01', '2023-01-05', periods=6)"
   ]
  },
  {
   "cell_type": "code",
   "execution_count": 96,
   "id": "5417017f",
   "metadata": {
    "ExecuteTime": {
     "end_time": "2023-04-16T16:28:00.061157Z",
     "start_time": "2023-04-16T16:28:00.052979Z"
    }
   },
   "outputs": [
    {
     "data": {
      "text/plain": [
       "Timestamp('2023-01-01 00:00:00')"
      ]
     },
     "execution_count": 96,
     "metadata": {},
     "output_type": "execute_result"
    }
   ],
   "source": [
    "pd.date_range('2023-01-01', '2023-01-05', periods=6)[0]"
   ]
  },
  {
   "cell_type": "code",
   "execution_count": 97,
   "id": "ac406635",
   "metadata": {
    "ExecuteTime": {
     "end_time": "2023-04-16T16:28:00.069452Z",
     "start_time": "2023-04-16T16:28:00.063861Z"
    }
   },
   "outputs": [
    {
     "data": {
      "text/plain": [
       "Timestamp('2023-01-01 00:00:00')"
      ]
     },
     "execution_count": 97,
     "metadata": {},
     "output_type": "execute_result"
    }
   ],
   "source": [
    "pd.Timestamp('2023-01-01')"
   ]
  },
  {
   "cell_type": "code",
   "execution_count": 98,
   "id": "8c2995d4",
   "metadata": {
    "ExecuteTime": {
     "end_time": "2023-04-16T16:28:00.078421Z",
     "start_time": "2023-04-16T16:28:00.072418Z"
    }
   },
   "outputs": [
    {
     "data": {
      "text/plain": [
       "Timestamp('2023-01-01 00:00:00')"
      ]
     },
     "execution_count": 98,
     "metadata": {},
     "output_type": "execute_result"
    }
   ],
   "source": [
    "pd.Timestamp(day=1, month=1, year=2023)"
   ]
  },
  {
   "cell_type": "code",
   "execution_count": 99,
   "id": "25199608",
   "metadata": {
    "ExecuteTime": {
     "end_time": "2023-04-16T16:28:00.087098Z",
     "start_time": "2023-04-16T16:28:00.080748Z"
    }
   },
   "outputs": [
    {
     "data": {
      "text/plain": [
       "Timedelta('5 days 00:00:00')"
      ]
     },
     "execution_count": 99,
     "metadata": {},
     "output_type": "execute_result"
    }
   ],
   "source": [
    "pd.Timestamp('2023-01-06') - pd.Timestamp('2023-01-01')"
   ]
  },
  {
   "cell_type": "code",
   "execution_count": 100,
   "id": "a0c546f4",
   "metadata": {
    "ExecuteTime": {
     "end_time": "2023-04-16T16:28:00.096207Z",
     "start_time": "2023-04-16T16:28:00.090468Z"
    }
   },
   "outputs": [
    {
     "data": {
      "text/plain": [
       "5"
      ]
     },
     "execution_count": 100,
     "metadata": {},
     "output_type": "execute_result"
    }
   ],
   "source": [
    "(pd.Timestamp('2023-01-06') - pd.Timestamp('2023-01-01')).days"
   ]
  },
  {
   "cell_type": "code",
   "execution_count": 101,
   "id": "6b8febae",
   "metadata": {
    "ExecuteTime": {
     "end_time": "2023-04-16T16:28:00.106906Z",
     "start_time": "2023-04-16T16:28:00.099899Z"
    }
   },
   "outputs": [
    {
     "data": {
      "text/plain": [
       "Timestamp('2023-01-08 00:00:00')"
      ]
     },
     "execution_count": 101,
     "metadata": {},
     "output_type": "execute_result"
    }
   ],
   "source": [
    "pd.Timestamp('2023-01-01') + pd.Timedelta(days=7)"
   ]
  },
  {
   "cell_type": "markdown",
   "id": "10878800",
   "metadata": {},
   "source": [
    "### Zadanie 4\n",
    "- Stwórz szereg, w którego indeksie będą daty wszystkich poniedziałków do końca roku, a wartościami kolejne numery począwszy od 1\n",
    "- Usuń poniedziełek 1.05\n",
    "- Popraw numerowanie"
   ]
  },
  {
   "cell_type": "code",
   "execution_count": 102,
   "id": "7162d843",
   "metadata": {
    "ExecuteTime": {
     "end_time": "2023-04-16T16:28:00.116350Z",
     "start_time": "2023-04-16T16:28:00.109776Z"
    }
   },
   "outputs": [
    {
     "data": {
      "text/plain": [
       "DatetimeIndex(['2023-04-17', '2023-04-24', '2023-05-01', '2023-05-08',\n",
       "               '2023-05-15', '2023-05-22', '2023-05-29', '2023-06-05',\n",
       "               '2023-06-12', '2023-06-19', '2023-06-26', '2023-07-03',\n",
       "               '2023-07-10', '2023-07-17', '2023-07-24', '2023-07-31',\n",
       "               '2023-08-07', '2023-08-14', '2023-08-21', '2023-08-28',\n",
       "               '2023-09-04', '2023-09-11', '2023-09-18', '2023-09-25',\n",
       "               '2023-10-02', '2023-10-09', '2023-10-16', '2023-10-23',\n",
       "               '2023-10-30', '2023-11-06', '2023-11-13', '2023-11-20',\n",
       "               '2023-11-27', '2023-12-04', '2023-12-11', '2023-12-18',\n",
       "               '2023-12-25'],\n",
       "              dtype='datetime64[ns]', freq='W-MON')"
      ]
     },
     "execution_count": 102,
     "metadata": {},
     "output_type": "execute_result"
    }
   ],
   "source": [
    "mondays = pd.date_range('2023-04-15', '2023-12-31', freq='W-MON')\n",
    "mondays"
   ]
  },
  {
   "cell_type": "code",
   "execution_count": 103,
   "id": "ed45e3fd",
   "metadata": {
    "ExecuteTime": {
     "end_time": "2023-04-16T16:28:00.126026Z",
     "start_time": "2023-04-16T16:28:00.119287Z"
    }
   },
   "outputs": [
    {
     "data": {
      "text/plain": [
       "2023-04-17     1\n",
       "2023-04-24     2\n",
       "2023-05-01     3\n",
       "2023-05-08     4\n",
       "2023-05-15     5\n",
       "2023-05-22     6\n",
       "2023-05-29     7\n",
       "2023-06-05     8\n",
       "2023-06-12     9\n",
       "2023-06-19    10\n",
       "2023-06-26    11\n",
       "2023-07-03    12\n",
       "2023-07-10    13\n",
       "2023-07-17    14\n",
       "2023-07-24    15\n",
       "2023-07-31    16\n",
       "2023-08-07    17\n",
       "2023-08-14    18\n",
       "2023-08-21    19\n",
       "2023-08-28    20\n",
       "2023-09-04    21\n",
       "2023-09-11    22\n",
       "2023-09-18    23\n",
       "2023-09-25    24\n",
       "2023-10-02    25\n",
       "2023-10-09    26\n",
       "2023-10-16    27\n",
       "2023-10-23    28\n",
       "2023-10-30    29\n",
       "2023-11-06    30\n",
       "2023-11-13    31\n",
       "2023-11-20    32\n",
       "2023-11-27    33\n",
       "2023-12-04    34\n",
       "2023-12-11    35\n",
       "2023-12-18    36\n",
       "2023-12-25    37\n",
       "Freq: W-MON, dtype: int64"
      ]
     },
     "execution_count": 103,
     "metadata": {},
     "output_type": "execute_result"
    }
   ],
   "source": [
    "mondays_series = pd.Series(range(1, len(mondays) + 1), index=mondays)\n",
    "mondays_series"
   ]
  },
  {
   "cell_type": "code",
   "execution_count": 104,
   "id": "ec7dfbde",
   "metadata": {
    "ExecuteTime": {
     "end_time": "2023-04-16T16:28:00.135847Z",
     "start_time": "2023-04-16T16:28:00.129190Z"
    }
   },
   "outputs": [
    {
     "data": {
      "text/plain": [
       "2023-04-17     1\n",
       "2023-04-24     2\n",
       "2023-05-08     4\n",
       "2023-05-15     5\n",
       "2023-05-22     6\n",
       "2023-05-29     7\n",
       "2023-06-05     8\n",
       "2023-06-12     9\n",
       "2023-06-19    10\n",
       "2023-06-26    11\n",
       "2023-07-03    12\n",
       "2023-07-10    13\n",
       "2023-07-17    14\n",
       "2023-07-24    15\n",
       "2023-07-31    16\n",
       "2023-08-07    17\n",
       "2023-08-14    18\n",
       "2023-08-21    19\n",
       "2023-08-28    20\n",
       "2023-09-04    21\n",
       "2023-09-11    22\n",
       "2023-09-18    23\n",
       "2023-09-25    24\n",
       "2023-10-02    25\n",
       "2023-10-09    26\n",
       "2023-10-16    27\n",
       "2023-10-23    28\n",
       "2023-10-30    29\n",
       "2023-11-06    30\n",
       "2023-11-13    31\n",
       "2023-11-20    32\n",
       "2023-11-27    33\n",
       "2023-12-04    34\n",
       "2023-12-11    35\n",
       "2023-12-18    36\n",
       "2023-12-25    37\n",
       "dtype: int64"
      ]
     },
     "execution_count": 104,
     "metadata": {},
     "output_type": "execute_result"
    }
   ],
   "source": [
    "# new_mondays = mondays_series.drop(mondays_series.loc[['2023-05-01']].index[0])\n",
    "new_mondays = mondays_series[mondays_series.index != '2023-05-01']\n",
    "new_mondays"
   ]
  },
  {
   "cell_type": "code",
   "execution_count": 105,
   "id": "e1724ee7",
   "metadata": {
    "ExecuteTime": {
     "end_time": "2023-04-16T16:28:00.146020Z",
     "start_time": "2023-04-16T16:28:00.138946Z"
    }
   },
   "outputs": [
    {
     "data": {
      "text/plain": [
       "2023-04-17     1\n",
       "2023-04-24     2\n",
       "2023-05-08     3\n",
       "2023-05-15     4\n",
       "2023-05-22     5\n",
       "2023-05-29     6\n",
       "2023-06-05     7\n",
       "2023-06-12     8\n",
       "2023-06-19     9\n",
       "2023-06-26    10\n",
       "2023-07-03    11\n",
       "2023-07-10    12\n",
       "2023-07-17    13\n",
       "2023-07-24    14\n",
       "2023-07-31    15\n",
       "2023-08-07    16\n",
       "2023-08-14    17\n",
       "2023-08-21    18\n",
       "2023-08-28    19\n",
       "2023-09-04    20\n",
       "2023-09-11    21\n",
       "2023-09-18    22\n",
       "2023-09-25    23\n",
       "2023-10-02    24\n",
       "2023-10-09    25\n",
       "2023-10-16    26\n",
       "2023-10-23    27\n",
       "2023-10-30    28\n",
       "2023-11-06    29\n",
       "2023-11-13    30\n",
       "2023-11-20    31\n",
       "2023-11-27    32\n",
       "2023-12-04    33\n",
       "2023-12-11    34\n",
       "2023-12-18    35\n",
       "2023-12-25    36\n",
       "dtype: int64"
      ]
     },
     "execution_count": 105,
     "metadata": {},
     "output_type": "execute_result"
    }
   ],
   "source": [
    "# sposób 1\n",
    "new_series = pd.Series(range(1, len(new_mondays) + 1), index=new_mondays.index)\n",
    "new_series"
   ]
  },
  {
   "cell_type": "code",
   "execution_count": 106,
   "id": "dbbb958e",
   "metadata": {
    "ExecuteTime": {
     "end_time": "2023-04-16T16:28:00.156348Z",
     "start_time": "2023-04-16T16:28:00.149107Z"
    },
    "scrolled": false
   },
   "outputs": [
    {
     "data": {
      "text/plain": [
       "2023-04-17     1\n",
       "2023-04-24     2\n",
       "2023-05-08     3\n",
       "2023-05-15     4\n",
       "2023-05-22     5\n",
       "2023-05-29     6\n",
       "2023-06-05     7\n",
       "2023-06-12     8\n",
       "2023-06-19     9\n",
       "2023-06-26    10\n",
       "2023-07-03    11\n",
       "2023-07-10    12\n",
       "2023-07-17    13\n",
       "2023-07-24    14\n",
       "2023-07-31    15\n",
       "2023-08-07    16\n",
       "2023-08-14    17\n",
       "2023-08-21    18\n",
       "2023-08-28    19\n",
       "2023-09-04    20\n",
       "2023-09-11    21\n",
       "2023-09-18    22\n",
       "2023-09-25    23\n",
       "2023-10-02    24\n",
       "2023-10-09    25\n",
       "2023-10-16    26\n",
       "2023-10-23    27\n",
       "2023-10-30    28\n",
       "2023-11-06    29\n",
       "2023-11-13    30\n",
       "2023-11-20    31\n",
       "2023-11-27    32\n",
       "2023-12-04    33\n",
       "2023-12-11    34\n",
       "2023-12-18    35\n",
       "2023-12-25    36\n",
       "dtype: int64"
      ]
     },
     "execution_count": 106,
     "metadata": {},
     "output_type": "execute_result"
    }
   ],
   "source": [
    "# sposób 2\n",
    "new_mondays[new_mondays.index > '2023-05-01'] = new_mondays.values[new_mondays.index > '2023-05-01'] - 1\n",
    "new_mondays"
   ]
  },
  {
   "cell_type": "markdown",
   "id": "19d60843",
   "metadata": {},
   "source": [
    "### Apply"
   ]
  },
  {
   "cell_type": "code",
   "execution_count": 107,
   "id": "a575750b",
   "metadata": {
    "ExecuteTime": {
     "end_time": "2023-04-16T16:28:00.165259Z",
     "start_time": "2023-04-16T16:28:00.158826Z"
    }
   },
   "outputs": [
    {
     "data": {
      "text/plain": [
       "2023-04-17    1\n",
       "2023-04-24    2\n",
       "2023-05-08    3\n",
       "2023-05-15    4\n",
       "2023-05-22    5\n",
       "dtype: int64"
      ]
     },
     "execution_count": 107,
     "metadata": {},
     "output_type": "execute_result"
    }
   ],
   "source": [
    "s = new_mondays\n",
    "s[:5]"
   ]
  },
  {
   "cell_type": "code",
   "execution_count": 108,
   "id": "c0b67808",
   "metadata": {
    "ExecuteTime": {
     "end_time": "2023-04-16T16:28:00.175271Z",
     "start_time": "2023-04-16T16:28:00.167805Z"
    }
   },
   "outputs": [
    {
     "data": {
      "text/plain": [
       "2023-04-17    1.0\n",
       "2023-04-24    2.0\n",
       "2023-05-08    3.0\n",
       "2023-05-15    4.0\n",
       "2023-05-22    5.0\n",
       "dtype: float64"
      ]
     },
     "execution_count": 108,
     "metadata": {},
     "output_type": "execute_result"
    }
   ],
   "source": [
    "s[:5].apply(float)"
   ]
  },
  {
   "cell_type": "code",
   "execution_count": 109,
   "id": "95ba1c70",
   "metadata": {
    "ExecuteTime": {
     "end_time": "2023-04-16T16:28:00.182223Z",
     "start_time": "2023-04-16T16:28:00.178209Z"
    }
   },
   "outputs": [],
   "source": [
    "x = 1"
   ]
  },
  {
   "cell_type": "code",
   "execution_count": 110,
   "id": "1f49d911",
   "metadata": {
    "ExecuteTime": {
     "end_time": "2023-04-16T16:28:00.190200Z",
     "start_time": "2023-04-16T16:28:00.185206Z"
    }
   },
   "outputs": [],
   "source": [
    "def f(y):\n",
    "    return 'poniedziałek nr ' + str(y)"
   ]
  },
  {
   "cell_type": "code",
   "execution_count": 111,
   "id": "e9cefa41",
   "metadata": {
    "ExecuteTime": {
     "end_time": "2023-04-16T16:28:00.200244Z",
     "start_time": "2023-04-16T16:28:00.193480Z"
    }
   },
   "outputs": [
    {
     "data": {
      "text/plain": [
       "'poniedziałek nr 1'"
      ]
     },
     "execution_count": 111,
     "metadata": {},
     "output_type": "execute_result"
    }
   ],
   "source": [
    "f(x)"
   ]
  },
  {
   "cell_type": "code",
   "execution_count": 112,
   "id": "4ac9610b",
   "metadata": {
    "ExecuteTime": {
     "end_time": "2023-04-16T16:28:00.210098Z",
     "start_time": "2023-04-16T16:28:00.202991Z"
    }
   },
   "outputs": [
    {
     "data": {
      "text/plain": [
       "2023-04-17    poniedziałek nr 1\n",
       "2023-04-24    poniedziałek nr 2\n",
       "2023-05-08    poniedziałek nr 3\n",
       "2023-05-15    poniedziałek nr 4\n",
       "2023-05-22    poniedziałek nr 5\n",
       "dtype: object"
      ]
     },
     "execution_count": 112,
     "metadata": {},
     "output_type": "execute_result"
    }
   ],
   "source": [
    "s[:5].apply(f)"
   ]
  },
  {
   "cell_type": "code",
   "execution_count": 113,
   "id": "eb5da42c",
   "metadata": {
    "ExecuteTime": {
     "end_time": "2023-04-16T16:28:00.219401Z",
     "start_time": "2023-04-16T16:28:00.212946Z"
    }
   },
   "outputs": [
    {
     "data": {
      "text/plain": [
       "2023-04-17    poniedziałek nr 1\n",
       "2023-04-24    poniedziałek nr 2\n",
       "2023-05-08    poniedziałek nr 3\n",
       "2023-05-15    poniedziałek nr 4\n",
       "2023-05-22    poniedziałek nr 5\n",
       "dtype: object"
      ]
     },
     "execution_count": 113,
     "metadata": {},
     "output_type": "execute_result"
    }
   ],
   "source": [
    "s[:5].apply(lambda i: f'poniedziałek nr {i}')"
   ]
  },
  {
   "cell_type": "code",
   "execution_count": 114,
   "id": "d1ae4737",
   "metadata": {
    "ExecuteTime": {
     "end_time": "2023-04-16T16:28:00.229803Z",
     "start_time": "2023-04-16T16:28:00.223016Z"
    },
    "scrolled": true
   },
   "outputs": [
    {
     "data": {
      "text/plain": [
       "2023-04-17    poniedziałek 1/36\n",
       "2023-04-24    poniedziałek 2/36\n",
       "2023-05-08    poniedziałek 3/36\n",
       "2023-05-15    poniedziałek 4/36\n",
       "2023-05-22    poniedziałek 5/36\n",
       "dtype: object"
      ]
     },
     "execution_count": 114,
     "metadata": {},
     "output_type": "execute_result"
    }
   ],
   "source": [
    "s[:5].apply(lambda i: f'poniedziałek {i}/{len(s)}')  # s.size"
   ]
  },
  {
   "cell_type": "markdown",
   "id": "9dccc4b3",
   "metadata": {},
   "source": [
    "### Map"
   ]
  },
  {
   "cell_type": "code",
   "execution_count": 115,
   "id": "d725019c",
   "metadata": {
    "ExecuteTime": {
     "end_time": "2023-04-16T16:28:00.240380Z",
     "start_time": "2023-04-16T16:28:00.233346Z"
    },
    "scrolled": true
   },
   "outputs": [
    {
     "data": {
      "text/plain": [
       "2023-04-17    1.0\n",
       "2023-04-24    2.0\n",
       "2023-05-08    3.0\n",
       "2023-05-15    4.0\n",
       "2023-05-22    5.0\n",
       "dtype: float64"
      ]
     },
     "execution_count": 115,
     "metadata": {},
     "output_type": "execute_result"
    }
   ],
   "source": [
    "s[:5].map(float)  # w większości przypadków działania identyczne jak apply() dla obiektów Series()"
   ]
  },
  {
   "cell_type": "code",
   "execution_count": 116,
   "id": "9cf5df88",
   "metadata": {
    "ExecuteTime": {
     "end_time": "2023-04-16T16:28:00.250598Z",
     "start_time": "2023-04-16T16:28:00.243398Z"
    }
   },
   "outputs": [
    {
     "data": {
      "text/plain": [
       "2023-04-17    pon nr 1\n",
       "2023-04-24    pon nr 2\n",
       "2023-05-08    pon nr 3\n",
       "2023-05-15    pon nr 4\n",
       "2023-05-22    pon nr 5\n",
       "dtype: object"
      ]
     },
     "execution_count": 116,
     "metadata": {},
     "output_type": "execute_result"
    }
   ],
   "source": [
    "s[:5].map(lambda x: f'pon nr {x}')"
   ]
  },
  {
   "cell_type": "code",
   "execution_count": 117,
   "id": "39977019",
   "metadata": {
    "ExecuteTime": {
     "end_time": "2023-04-16T16:28:00.261407Z",
     "start_time": "2023-04-16T16:28:00.253694Z"
    }
   },
   "outputs": [
    {
     "data": {
      "text/plain": [
       "2023-04-17    10.0\n",
       "2023-04-24    20.0\n",
       "2023-05-08    30.0\n",
       "2023-05-15     NaN\n",
       "2023-05-22     NaN\n",
       "dtype: float64"
      ]
     },
     "execution_count": 117,
     "metadata": {},
     "output_type": "execute_result"
    }
   ],
   "source": [
    "s[:5].map({1: 10, 2: 20, 3: 30})  # map() umożliwia podanie słownika jako argumentu, ale może nie działać dla DataFrame()"
   ]
  },
  {
   "cell_type": "markdown",
   "id": "4768a33a",
   "metadata": {},
   "source": [
    "## DataFrame"
   ]
  },
  {
   "cell_type": "markdown",
   "id": "6a2756ae",
   "metadata": {},
   "source": [
    "### Podstawy"
   ]
  },
  {
   "cell_type": "code",
   "execution_count": 118,
   "id": "4b17a7d5",
   "metadata": {
    "ExecuteTime": {
     "end_time": "2023-04-16T16:28:00.272433Z",
     "start_time": "2023-04-16T16:28:00.264278Z"
    }
   },
   "outputs": [
    {
     "data": {
      "text/html": [
       "<div>\n",
       "<style scoped>\n",
       "    .dataframe tbody tr th:only-of-type {\n",
       "        vertical-align: middle;\n",
       "    }\n",
       "\n",
       "    .dataframe tbody tr th {\n",
       "        vertical-align: top;\n",
       "    }\n",
       "\n",
       "    .dataframe thead th {\n",
       "        text-align: right;\n",
       "    }\n",
       "</style>\n",
       "<table border=\"1\" class=\"dataframe\">\n",
       "  <thead>\n",
       "    <tr style=\"text-align: right;\">\n",
       "      <th></th>\n",
       "      <th>0</th>\n",
       "      <th>1</th>\n",
       "    </tr>\n",
       "  </thead>\n",
       "  <tbody>\n",
       "    <tr>\n",
       "      <th>0</th>\n",
       "      <td>1</td>\n",
       "      <td>3</td>\n",
       "    </tr>\n",
       "    <tr>\n",
       "      <th>1</th>\n",
       "      <td>1</td>\n",
       "      <td>2</td>\n",
       "    </tr>\n",
       "    <tr>\n",
       "      <th>2</th>\n",
       "      <td>3</td>\n",
       "      <td>5</td>\n",
       "    </tr>\n",
       "  </tbody>\n",
       "</table>\n",
       "</div>"
      ],
      "text/plain": [
       "   0  1\n",
       "0  1  3\n",
       "1  1  2\n",
       "2  3  5"
      ]
     },
     "execution_count": 118,
     "metadata": {},
     "output_type": "execute_result"
    }
   ],
   "source": [
    "pd.DataFrame([\n",
    "    [1, 3],\n",
    "    [1, 2],\n",
    "    [3, 5]\n",
    "])"
   ]
  },
  {
   "cell_type": "code",
   "execution_count": 119,
   "id": "a7357d98",
   "metadata": {
    "ExecuteTime": {
     "end_time": "2023-04-16T16:28:00.283335Z",
     "start_time": "2023-04-16T16:28:00.275047Z"
    }
   },
   "outputs": [
    {
     "data": {
      "text/html": [
       "<div>\n",
       "<style scoped>\n",
       "    .dataframe tbody tr th:only-of-type {\n",
       "        vertical-align: middle;\n",
       "    }\n",
       "\n",
       "    .dataframe tbody tr th {\n",
       "        vertical-align: top;\n",
       "    }\n",
       "\n",
       "    .dataframe thead th {\n",
       "        text-align: right;\n",
       "    }\n",
       "</style>\n",
       "<table border=\"1\" class=\"dataframe\">\n",
       "  <thead>\n",
       "    <tr style=\"text-align: right;\">\n",
       "      <th></th>\n",
       "      <th>col1</th>\n",
       "      <th>col2</th>\n",
       "    </tr>\n",
       "  </thead>\n",
       "  <tbody>\n",
       "    <tr>\n",
       "      <th>0</th>\n",
       "      <td>1</td>\n",
       "      <td>2</td>\n",
       "    </tr>\n",
       "    <tr>\n",
       "      <th>1</th>\n",
       "      <td>3</td>\n",
       "      <td>4</td>\n",
       "    </tr>\n",
       "  </tbody>\n",
       "</table>\n",
       "</div>"
      ],
      "text/plain": [
       "   col1  col2\n",
       "0     1     2\n",
       "1     3     4"
      ]
     },
     "execution_count": 119,
     "metadata": {},
     "output_type": "execute_result"
    }
   ],
   "source": [
    "d = np.array([\n",
    "    [1, 2],\n",
    "    [3, 4]\n",
    "])\n",
    "pd.DataFrame(d, columns=['col1', 'col2'])"
   ]
  },
  {
   "cell_type": "code",
   "execution_count": 120,
   "id": "861efe0a",
   "metadata": {
    "ExecuteTime": {
     "end_time": "2023-04-16T16:28:00.297220Z",
     "start_time": "2023-04-16T16:28:00.287608Z"
    }
   },
   "outputs": [
    {
     "data": {
      "text/html": [
       "<div>\n",
       "<style scoped>\n",
       "    .dataframe tbody tr th:only-of-type {\n",
       "        vertical-align: middle;\n",
       "    }\n",
       "\n",
       "    .dataframe tbody tr th {\n",
       "        vertical-align: top;\n",
       "    }\n",
       "\n",
       "    .dataframe thead th {\n",
       "        text-align: right;\n",
       "    }\n",
       "</style>\n",
       "<table border=\"1\" class=\"dataframe\">\n",
       "  <thead>\n",
       "    <tr style=\"text-align: right;\">\n",
       "      <th></th>\n",
       "      <th>col1</th>\n",
       "      <th>col2</th>\n",
       "    </tr>\n",
       "  </thead>\n",
       "  <tbody>\n",
       "  </tbody>\n",
       "</table>\n",
       "</div>"
      ],
      "text/plain": [
       "Empty DataFrame\n",
       "Columns: [col1, col2]\n",
       "Index: []"
      ]
     },
     "execution_count": 120,
     "metadata": {},
     "output_type": "execute_result"
    }
   ],
   "source": [
    "pd.DataFrame(columns=['col1', 'col2'])  # pusty DataFrame"
   ]
  },
  {
   "cell_type": "code",
   "execution_count": 121,
   "id": "8d4627b8",
   "metadata": {
    "ExecuteTime": {
     "end_time": "2023-04-16T16:28:00.305770Z",
     "start_time": "2023-04-16T16:28:00.300476Z"
    }
   },
   "outputs": [],
   "source": [
    "names = ['Ania', 'Kasia', 'Krzyś']\n",
    "age = [10, 12, 4]"
   ]
  },
  {
   "cell_type": "code",
   "execution_count": 122,
   "id": "e46938de",
   "metadata": {
    "ExecuteTime": {
     "end_time": "2023-04-16T16:28:00.318467Z",
     "start_time": "2023-04-16T16:28:00.307735Z"
    }
   },
   "outputs": [
    {
     "data": {
      "text/html": [
       "<div>\n",
       "<style scoped>\n",
       "    .dataframe tbody tr th:only-of-type {\n",
       "        vertical-align: middle;\n",
       "    }\n",
       "\n",
       "    .dataframe tbody tr th {\n",
       "        vertical-align: top;\n",
       "    }\n",
       "\n",
       "    .dataframe thead th {\n",
       "        text-align: right;\n",
       "    }\n",
       "</style>\n",
       "<table border=\"1\" class=\"dataframe\">\n",
       "  <thead>\n",
       "    <tr style=\"text-align: right;\">\n",
       "      <th></th>\n",
       "      <th>name</th>\n",
       "      <th>age</th>\n",
       "    </tr>\n",
       "  </thead>\n",
       "  <tbody>\n",
       "    <tr>\n",
       "      <th>0</th>\n",
       "      <td>Ania</td>\n",
       "      <td>10</td>\n",
       "    </tr>\n",
       "    <tr>\n",
       "      <th>1</th>\n",
       "      <td>Kasia</td>\n",
       "      <td>12</td>\n",
       "    </tr>\n",
       "    <tr>\n",
       "      <th>2</th>\n",
       "      <td>Krzyś</td>\n",
       "      <td>4</td>\n",
       "    </tr>\n",
       "  </tbody>\n",
       "</table>\n",
       "</div>"
      ],
      "text/plain": [
       "    name  age\n",
       "0   Ania   10\n",
       "1  Kasia   12\n",
       "2  Krzyś    4"
      ]
     },
     "execution_count": 122,
     "metadata": {},
     "output_type": "execute_result"
    }
   ],
   "source": [
    "df1 = pd.DataFrame({'name': names, 'age': age})\n",
    "df1"
   ]
  },
  {
   "cell_type": "code",
   "execution_count": 123,
   "id": "7eb32928",
   "metadata": {
    "ExecuteTime": {
     "end_time": "2023-04-16T16:28:00.327925Z",
     "start_time": "2023-04-16T16:28:00.321406Z"
    }
   },
   "outputs": [
    {
     "data": {
      "text/plain": [
       "0    10\n",
       "1    12\n",
       "2     4\n",
       "Name: age, dtype: int64"
      ]
     },
     "execution_count": 123,
     "metadata": {},
     "output_type": "execute_result"
    }
   ],
   "source": [
    "df1.age  # zwraca Series()"
   ]
  },
  {
   "cell_type": "code",
   "execution_count": 124,
   "id": "62a0462d",
   "metadata": {
    "ExecuteTime": {
     "end_time": "2023-04-16T16:28:00.336437Z",
     "start_time": "2023-04-16T16:28:00.330971Z"
    }
   },
   "outputs": [
    {
     "data": {
      "text/plain": [
       "pandas.core.series.Series"
      ]
     },
     "execution_count": 124,
     "metadata": {},
     "output_type": "execute_result"
    }
   ],
   "source": [
    "type(df1.age)"
   ]
  },
  {
   "cell_type": "code",
   "execution_count": 125,
   "id": "241f9de1",
   "metadata": {
    "ExecuteTime": {
     "end_time": "2023-04-16T16:28:00.346108Z",
     "start_time": "2023-04-16T16:28:00.338662Z"
    }
   },
   "outputs": [
    {
     "data": {
      "text/plain": [
       "0     Ania\n",
       "1    Kasia\n",
       "2    Krzyś\n",
       "Name: name, dtype: object"
      ]
     },
     "execution_count": 125,
     "metadata": {},
     "output_type": "execute_result"
    }
   ],
   "source": [
    "df1['name'] # lepszy sposób, bo uwzględnia nazwy kolumn ze spacją (wpisywane czasem przez nie-programistów)"
   ]
  },
  {
   "cell_type": "code",
   "execution_count": 126,
   "id": "eb8ff4fa",
   "metadata": {
    "ExecuteTime": {
     "end_time": "2023-04-16T16:28:00.359837Z",
     "start_time": "2023-04-16T16:28:00.348333Z"
    }
   },
   "outputs": [
    {
     "data": {
      "text/html": [
       "<div>\n",
       "<style scoped>\n",
       "    .dataframe tbody tr th:only-of-type {\n",
       "        vertical-align: middle;\n",
       "    }\n",
       "\n",
       "    .dataframe tbody tr th {\n",
       "        vertical-align: top;\n",
       "    }\n",
       "\n",
       "    .dataframe thead th {\n",
       "        text-align: right;\n",
       "    }\n",
       "</style>\n",
       "<table border=\"1\" class=\"dataframe\">\n",
       "  <thead>\n",
       "    <tr style=\"text-align: right;\">\n",
       "      <th></th>\n",
       "      <th>age</th>\n",
       "      <th>name</th>\n",
       "    </tr>\n",
       "  </thead>\n",
       "  <tbody>\n",
       "    <tr>\n",
       "      <th>0</th>\n",
       "      <td>10</td>\n",
       "      <td>Ania</td>\n",
       "    </tr>\n",
       "    <tr>\n",
       "      <th>1</th>\n",
       "      <td>12</td>\n",
       "      <td>Kasia</td>\n",
       "    </tr>\n",
       "    <tr>\n",
       "      <th>2</th>\n",
       "      <td>4</td>\n",
       "      <td>Krzyś</td>\n",
       "    </tr>\n",
       "  </tbody>\n",
       "</table>\n",
       "</div>"
      ],
      "text/plain": [
       "   age   name\n",
       "0   10   Ania\n",
       "1   12  Kasia\n",
       "2    4  Krzyś"
      ]
     },
     "execution_count": 126,
     "metadata": {},
     "output_type": "execute_result"
    }
   ],
   "source": [
    "df1[['age', 'name']]  # podwójny nawias, zwraca DataFrame()"
   ]
  },
  {
   "cell_type": "code",
   "execution_count": 127,
   "id": "a87d8afc",
   "metadata": {
    "ExecuteTime": {
     "end_time": "2023-04-16T16:28:00.367853Z",
     "start_time": "2023-04-16T16:28:00.362811Z"
    }
   },
   "outputs": [
    {
     "data": {
      "text/plain": [
       "Index(['name', 'age'], dtype='object')"
      ]
     },
     "execution_count": 127,
     "metadata": {},
     "output_type": "execute_result"
    }
   ],
   "source": [
    "df1.columns"
   ]
  },
  {
   "cell_type": "code",
   "execution_count": 128,
   "id": "d0090ba6",
   "metadata": {
    "ExecuteTime": {
     "end_time": "2023-04-16T16:28:00.376535Z",
     "start_time": "2023-04-16T16:28:00.370324Z"
    }
   },
   "outputs": [
    {
     "data": {
      "text/plain": [
       "RangeIndex(start=0, stop=3, step=1)"
      ]
     },
     "execution_count": 128,
     "metadata": {},
     "output_type": "execute_result"
    }
   ],
   "source": [
    "df1.index"
   ]
  },
  {
   "cell_type": "code",
   "execution_count": 129,
   "id": "ec46e699",
   "metadata": {
    "ExecuteTime": {
     "end_time": "2023-04-16T16:28:00.385528Z",
     "start_time": "2023-04-16T16:28:00.379236Z"
    }
   },
   "outputs": [
    {
     "data": {
      "text/plain": [
       "array([['Ania', 10],\n",
       "       ['Kasia', 12],\n",
       "       ['Krzyś', 4]], dtype=object)"
      ]
     },
     "execution_count": 129,
     "metadata": {},
     "output_type": "execute_result"
    }
   ],
   "source": [
    "df1.values"
   ]
  },
  {
   "cell_type": "code",
   "execution_count": 130,
   "id": "18975169",
   "metadata": {
    "ExecuteTime": {
     "end_time": "2023-04-16T16:28:00.394308Z",
     "start_time": "2023-04-16T16:28:00.387983Z"
    }
   },
   "outputs": [
    {
     "data": {
      "text/plain": [
       "numpy.ndarray"
      ]
     },
     "execution_count": 130,
     "metadata": {},
     "output_type": "execute_result"
    }
   ],
   "source": [
    "type(df1.values)"
   ]
  },
  {
   "cell_type": "code",
   "execution_count": 131,
   "id": "ec20b3ed",
   "metadata": {
    "ExecuteTime": {
     "end_time": "2023-04-16T16:28:00.405343Z",
     "start_time": "2023-04-16T16:28:00.396553Z"
    }
   },
   "outputs": [
    {
     "data": {
      "text/html": [
       "<div>\n",
       "<style scoped>\n",
       "    .dataframe tbody tr th:only-of-type {\n",
       "        vertical-align: middle;\n",
       "    }\n",
       "\n",
       "    .dataframe tbody tr th {\n",
       "        vertical-align: top;\n",
       "    }\n",
       "\n",
       "    .dataframe thead th {\n",
       "        text-align: right;\n",
       "    }\n",
       "</style>\n",
       "<table border=\"1\" class=\"dataframe\">\n",
       "  <thead>\n",
       "    <tr style=\"text-align: right;\">\n",
       "      <th></th>\n",
       "      <th>name</th>\n",
       "      <th>age</th>\n",
       "    </tr>\n",
       "  </thead>\n",
       "  <tbody>\n",
       "    <tr>\n",
       "      <th>20</th>\n",
       "      <td>Ania</td>\n",
       "      <td>10</td>\n",
       "    </tr>\n",
       "    <tr>\n",
       "      <th>10</th>\n",
       "      <td>Kasia</td>\n",
       "      <td>12</td>\n",
       "    </tr>\n",
       "    <tr>\n",
       "      <th>0</th>\n",
       "      <td>Krzyś</td>\n",
       "      <td>4</td>\n",
       "    </tr>\n",
       "  </tbody>\n",
       "</table>\n",
       "</div>"
      ],
      "text/plain": [
       "     name  age\n",
       "20   Ania   10\n",
       "10  Kasia   12\n",
       "0   Krzyś    4"
      ]
     },
     "execution_count": 131,
     "metadata": {},
     "output_type": "execute_result"
    }
   ],
   "source": [
    "df1.index = [20, 10, 0]\n",
    "df1"
   ]
  },
  {
   "cell_type": "code",
   "execution_count": 132,
   "id": "d9511e1d",
   "metadata": {
    "ExecuteTime": {
     "end_time": "2023-04-16T16:28:00.414451Z",
     "start_time": "2023-04-16T16:28:00.408236Z"
    }
   },
   "outputs": [
    {
     "data": {
      "text/plain": [
       "name    Krzyś\n",
       "age         4\n",
       "Name: 0, dtype: object"
      ]
     },
     "execution_count": 132,
     "metadata": {},
     "output_type": "execute_result"
    }
   ],
   "source": [
    "df1.loc[0]"
   ]
  },
  {
   "cell_type": "code",
   "execution_count": 133,
   "id": "bf7ebfd7",
   "metadata": {
    "ExecuteTime": {
     "end_time": "2023-04-16T16:28:00.424025Z",
     "start_time": "2023-04-16T16:28:00.417310Z"
    }
   },
   "outputs": [
    {
     "data": {
      "text/plain": [
       "name    Ania\n",
       "age       10\n",
       "Name: 20, dtype: object"
      ]
     },
     "execution_count": 133,
     "metadata": {},
     "output_type": "execute_result"
    }
   ],
   "source": [
    "df1.iloc[0]"
   ]
  },
  {
   "cell_type": "code",
   "execution_count": 134,
   "id": "471816c2",
   "metadata": {
    "ExecuteTime": {
     "end_time": "2023-04-16T16:28:00.435219Z",
     "start_time": "2023-04-16T16:28:00.427519Z"
    }
   },
   "outputs": [
    {
     "data": {
      "text/html": [
       "<div>\n",
       "<style scoped>\n",
       "    .dataframe tbody tr th:only-of-type {\n",
       "        vertical-align: middle;\n",
       "    }\n",
       "\n",
       "    .dataframe tbody tr th {\n",
       "        vertical-align: top;\n",
       "    }\n",
       "\n",
       "    .dataframe thead th {\n",
       "        text-align: right;\n",
       "    }\n",
       "</style>\n",
       "<table border=\"1\" class=\"dataframe\">\n",
       "  <thead>\n",
       "    <tr style=\"text-align: right;\">\n",
       "      <th></th>\n",
       "      <th>name</th>\n",
       "      <th>age</th>\n",
       "    </tr>\n",
       "  </thead>\n",
       "  <tbody>\n",
       "    <tr>\n",
       "      <th>0</th>\n",
       "      <td>Krzyś</td>\n",
       "      <td>4</td>\n",
       "    </tr>\n",
       "  </tbody>\n",
       "</table>\n",
       "</div>"
      ],
      "text/plain": [
       "    name  age\n",
       "0  Krzyś    4"
      ]
     },
     "execution_count": 134,
     "metadata": {},
     "output_type": "execute_result"
    }
   ],
   "source": [
    "df1.loc[[0]]"
   ]
  },
  {
   "cell_type": "code",
   "execution_count": 135,
   "id": "59a475ba",
   "metadata": {
    "ExecuteTime": {
     "end_time": "2023-04-16T16:28:00.446737Z",
     "start_time": "2023-04-16T16:28:00.438392Z"
    }
   },
   "outputs": [
    {
     "data": {
      "text/html": [
       "<div>\n",
       "<style scoped>\n",
       "    .dataframe tbody tr th:only-of-type {\n",
       "        vertical-align: middle;\n",
       "    }\n",
       "\n",
       "    .dataframe tbody tr th {\n",
       "        vertical-align: top;\n",
       "    }\n",
       "\n",
       "    .dataframe thead th {\n",
       "        text-align: right;\n",
       "    }\n",
       "</style>\n",
       "<table border=\"1\" class=\"dataframe\">\n",
       "  <thead>\n",
       "    <tr style=\"text-align: right;\">\n",
       "      <th></th>\n",
       "      <th>name</th>\n",
       "      <th>age</th>\n",
       "    </tr>\n",
       "  </thead>\n",
       "  <tbody>\n",
       "    <tr>\n",
       "      <th>20</th>\n",
       "      <td>Ania</td>\n",
       "      <td>10</td>\n",
       "    </tr>\n",
       "  </tbody>\n",
       "</table>\n",
       "</div>"
      ],
      "text/plain": [
       "    name  age\n",
       "20  Ania   10"
      ]
     },
     "execution_count": 135,
     "metadata": {},
     "output_type": "execute_result"
    }
   ],
   "source": [
    "df1[0:1]\n",
    "# df1[0]  # przy DataFrame() to nie działa!"
   ]
  },
  {
   "cell_type": "markdown",
   "id": "897d9e98",
   "metadata": {},
   "source": [
    "### Łączenie ramek"
   ]
  },
  {
   "cell_type": "code",
   "execution_count": 136,
   "id": "701e8074",
   "metadata": {
    "ExecuteTime": {
     "end_time": "2023-04-16T16:28:00.457393Z",
     "start_time": "2023-04-16T16:28:00.449910Z"
    }
   },
   "outputs": [
    {
     "data": {
      "text/html": [
       "<div>\n",
       "<style scoped>\n",
       "    .dataframe tbody tr th:only-of-type {\n",
       "        vertical-align: middle;\n",
       "    }\n",
       "\n",
       "    .dataframe tbody tr th {\n",
       "        vertical-align: top;\n",
       "    }\n",
       "\n",
       "    .dataframe thead th {\n",
       "        text-align: right;\n",
       "    }\n",
       "</style>\n",
       "<table border=\"1\" class=\"dataframe\">\n",
       "  <thead>\n",
       "    <tr style=\"text-align: right;\">\n",
       "      <th></th>\n",
       "      <th>name</th>\n",
       "      <th>age</th>\n",
       "    </tr>\n",
       "  </thead>\n",
       "  <tbody>\n",
       "    <tr>\n",
       "      <th>20</th>\n",
       "      <td>Ania</td>\n",
       "      <td>10</td>\n",
       "    </tr>\n",
       "    <tr>\n",
       "      <th>10</th>\n",
       "      <td>Kasia</td>\n",
       "      <td>12</td>\n",
       "    </tr>\n",
       "    <tr>\n",
       "      <th>0</th>\n",
       "      <td>Krzyś</td>\n",
       "      <td>4</td>\n",
       "    </tr>\n",
       "  </tbody>\n",
       "</table>\n",
       "</div>"
      ],
      "text/plain": [
       "     name  age\n",
       "20   Ania   10\n",
       "10  Kasia   12\n",
       "0   Krzyś    4"
      ]
     },
     "execution_count": 136,
     "metadata": {},
     "output_type": "execute_result"
    }
   ],
   "source": [
    "df1"
   ]
  },
  {
   "cell_type": "code",
   "execution_count": 137,
   "id": "260af0c0",
   "metadata": {
    "ExecuteTime": {
     "end_time": "2023-04-16T16:28:00.468626Z",
     "start_time": "2023-04-16T16:28:00.460173Z"
    }
   },
   "outputs": [
    {
     "data": {
      "text/html": [
       "<div>\n",
       "<style scoped>\n",
       "    .dataframe tbody tr th:only-of-type {\n",
       "        vertical-align: middle;\n",
       "    }\n",
       "\n",
       "    .dataframe tbody tr th {\n",
       "        vertical-align: top;\n",
       "    }\n",
       "\n",
       "    .dataframe thead th {\n",
       "        text-align: right;\n",
       "    }\n",
       "</style>\n",
       "<table border=\"1\" class=\"dataframe\">\n",
       "  <thead>\n",
       "    <tr style=\"text-align: right;\">\n",
       "      <th></th>\n",
       "      <th>name</th>\n",
       "      <th>age</th>\n",
       "    </tr>\n",
       "  </thead>\n",
       "  <tbody>\n",
       "    <tr>\n",
       "      <th>0</th>\n",
       "      <td>Zosia</td>\n",
       "      <td>11.0</td>\n",
       "    </tr>\n",
       "    <tr>\n",
       "      <th>1</th>\n",
       "      <td>Kuba</td>\n",
       "      <td>1.0</td>\n",
       "    </tr>\n",
       "    <tr>\n",
       "      <th>2</th>\n",
       "      <td>Ola</td>\n",
       "      <td>NaN</td>\n",
       "    </tr>\n",
       "  </tbody>\n",
       "</table>\n",
       "</div>"
      ],
      "text/plain": [
       "    name   age\n",
       "0  Zosia  11.0\n",
       "1   Kuba   1.0\n",
       "2    Ola   NaN"
      ]
     },
     "execution_count": 137,
     "metadata": {},
     "output_type": "execute_result"
    }
   ],
   "source": [
    "df2 = pd.DataFrame(\n",
    "    [{'name': 'Zosia', 'age': 11},\n",
    "     {'name': 'Kuba', 'age': 1},\n",
    "     {'name': 'Ola'}\n",
    "])\n",
    "df2"
   ]
  },
  {
   "cell_type": "code",
   "execution_count": 138,
   "id": "a50f208a",
   "metadata": {
    "ExecuteTime": {
     "end_time": "2023-04-16T16:28:00.480901Z",
     "start_time": "2023-04-16T16:28:00.471467Z"
    }
   },
   "outputs": [
    {
     "name": "stderr",
     "output_type": "stream",
     "text": [
      "/tmp/ipykernel_369/3062608662.py:1: FutureWarning: The frame.append method is deprecated and will be removed from pandas in a future version. Use pandas.concat instead.\n",
      "  df1.append(df2)\n"
     ]
    },
    {
     "data": {
      "text/html": [
       "<div>\n",
       "<style scoped>\n",
       "    .dataframe tbody tr th:only-of-type {\n",
       "        vertical-align: middle;\n",
       "    }\n",
       "\n",
       "    .dataframe tbody tr th {\n",
       "        vertical-align: top;\n",
       "    }\n",
       "\n",
       "    .dataframe thead th {\n",
       "        text-align: right;\n",
       "    }\n",
       "</style>\n",
       "<table border=\"1\" class=\"dataframe\">\n",
       "  <thead>\n",
       "    <tr style=\"text-align: right;\">\n",
       "      <th></th>\n",
       "      <th>name</th>\n",
       "      <th>age</th>\n",
       "    </tr>\n",
       "  </thead>\n",
       "  <tbody>\n",
       "    <tr>\n",
       "      <th>20</th>\n",
       "      <td>Ania</td>\n",
       "      <td>10.0</td>\n",
       "    </tr>\n",
       "    <tr>\n",
       "      <th>10</th>\n",
       "      <td>Kasia</td>\n",
       "      <td>12.0</td>\n",
       "    </tr>\n",
       "    <tr>\n",
       "      <th>0</th>\n",
       "      <td>Krzyś</td>\n",
       "      <td>4.0</td>\n",
       "    </tr>\n",
       "    <tr>\n",
       "      <th>0</th>\n",
       "      <td>Zosia</td>\n",
       "      <td>11.0</td>\n",
       "    </tr>\n",
       "    <tr>\n",
       "      <th>1</th>\n",
       "      <td>Kuba</td>\n",
       "      <td>1.0</td>\n",
       "    </tr>\n",
       "    <tr>\n",
       "      <th>2</th>\n",
       "      <td>Ola</td>\n",
       "      <td>NaN</td>\n",
       "    </tr>\n",
       "  </tbody>\n",
       "</table>\n",
       "</div>"
      ],
      "text/plain": [
       "     name   age\n",
       "20   Ania  10.0\n",
       "10  Kasia  12.0\n",
       "0   Krzyś   4.0\n",
       "0   Zosia  11.0\n",
       "1    Kuba   1.0\n",
       "2     Ola   NaN"
      ]
     },
     "execution_count": 138,
     "metadata": {},
     "output_type": "execute_result"
    }
   ],
   "source": [
    "df1.append(df2)"
   ]
  },
  {
   "cell_type": "code",
   "execution_count": 139,
   "id": "f5b5296a",
   "metadata": {
    "ExecuteTime": {
     "end_time": "2023-04-16T16:28:00.493378Z",
     "start_time": "2023-04-16T16:28:00.483630Z"
    }
   },
   "outputs": [
    {
     "name": "stderr",
     "output_type": "stream",
     "text": [
      "/tmp/ipykernel_369/1488823583.py:1: FutureWarning: The frame.append method is deprecated and will be removed from pandas in a future version. Use pandas.concat instead.\n",
      "  df1.append(df2).reset_index(drop=True)  # dodaje wiersze z drugiej tabeli, reset_index() sprawia, że mamy domyślny indeks\n"
     ]
    },
    {
     "data": {
      "text/html": [
       "<div>\n",
       "<style scoped>\n",
       "    .dataframe tbody tr th:only-of-type {\n",
       "        vertical-align: middle;\n",
       "    }\n",
       "\n",
       "    .dataframe tbody tr th {\n",
       "        vertical-align: top;\n",
       "    }\n",
       "\n",
       "    .dataframe thead th {\n",
       "        text-align: right;\n",
       "    }\n",
       "</style>\n",
       "<table border=\"1\" class=\"dataframe\">\n",
       "  <thead>\n",
       "    <tr style=\"text-align: right;\">\n",
       "      <th></th>\n",
       "      <th>name</th>\n",
       "      <th>age</th>\n",
       "    </tr>\n",
       "  </thead>\n",
       "  <tbody>\n",
       "    <tr>\n",
       "      <th>0</th>\n",
       "      <td>Ania</td>\n",
       "      <td>10.0</td>\n",
       "    </tr>\n",
       "    <tr>\n",
       "      <th>1</th>\n",
       "      <td>Kasia</td>\n",
       "      <td>12.0</td>\n",
       "    </tr>\n",
       "    <tr>\n",
       "      <th>2</th>\n",
       "      <td>Krzyś</td>\n",
       "      <td>4.0</td>\n",
       "    </tr>\n",
       "    <tr>\n",
       "      <th>3</th>\n",
       "      <td>Zosia</td>\n",
       "      <td>11.0</td>\n",
       "    </tr>\n",
       "    <tr>\n",
       "      <th>4</th>\n",
       "      <td>Kuba</td>\n",
       "      <td>1.0</td>\n",
       "    </tr>\n",
       "    <tr>\n",
       "      <th>5</th>\n",
       "      <td>Ola</td>\n",
       "      <td>NaN</td>\n",
       "    </tr>\n",
       "  </tbody>\n",
       "</table>\n",
       "</div>"
      ],
      "text/plain": [
       "    name   age\n",
       "0   Ania  10.0\n",
       "1  Kasia  12.0\n",
       "2  Krzyś   4.0\n",
       "3  Zosia  11.0\n",
       "4   Kuba   1.0\n",
       "5    Ola   NaN"
      ]
     },
     "execution_count": 139,
     "metadata": {},
     "output_type": "execute_result"
    }
   ],
   "source": [
    "df1.append(df2).reset_index(drop=True)  # dodaje wiersze z drugiej tabeli, reset_index() sprawia, że mamy domyślny indeks"
   ]
  },
  {
   "cell_type": "code",
   "execution_count": 140,
   "id": "04e36b97",
   "metadata": {
    "ExecuteTime": {
     "end_time": "2023-04-16T16:28:00.505374Z",
     "start_time": "2023-04-16T16:28:00.496437Z"
    }
   },
   "outputs": [
    {
     "data": {
      "text/html": [
       "<div>\n",
       "<style scoped>\n",
       "    .dataframe tbody tr th:only-of-type {\n",
       "        vertical-align: middle;\n",
       "    }\n",
       "\n",
       "    .dataframe tbody tr th {\n",
       "        vertical-align: top;\n",
       "    }\n",
       "\n",
       "    .dataframe thead th {\n",
       "        text-align: right;\n",
       "    }\n",
       "</style>\n",
       "<table border=\"1\" class=\"dataframe\">\n",
       "  <thead>\n",
       "    <tr style=\"text-align: right;\">\n",
       "      <th></th>\n",
       "      <th>name</th>\n",
       "      <th>age</th>\n",
       "    </tr>\n",
       "  </thead>\n",
       "  <tbody>\n",
       "    <tr>\n",
       "      <th>0</th>\n",
       "      <td>Ania</td>\n",
       "      <td>10.0</td>\n",
       "    </tr>\n",
       "    <tr>\n",
       "      <th>1</th>\n",
       "      <td>Kasia</td>\n",
       "      <td>12.0</td>\n",
       "    </tr>\n",
       "    <tr>\n",
       "      <th>2</th>\n",
       "      <td>Krzyś</td>\n",
       "      <td>4.0</td>\n",
       "    </tr>\n",
       "    <tr>\n",
       "      <th>3</th>\n",
       "      <td>Zosia</td>\n",
       "      <td>11.0</td>\n",
       "    </tr>\n",
       "    <tr>\n",
       "      <th>4</th>\n",
       "      <td>Kuba</td>\n",
       "      <td>1.0</td>\n",
       "    </tr>\n",
       "    <tr>\n",
       "      <th>5</th>\n",
       "      <td>Ola</td>\n",
       "      <td>NaN</td>\n",
       "    </tr>\n",
       "  </tbody>\n",
       "</table>\n",
       "</div>"
      ],
      "text/plain": [
       "    name   age\n",
       "0   Ania  10.0\n",
       "1  Kasia  12.0\n",
       "2  Krzyś   4.0\n",
       "3  Zosia  11.0\n",
       "4   Kuba   1.0\n",
       "5    Ola   NaN"
      ]
     },
     "execution_count": 140,
     "metadata": {},
     "output_type": "execute_result"
    }
   ],
   "source": [
    "pd.concat([df1, df2]).reset_index(drop=True)"
   ]
  },
  {
   "cell_type": "code",
   "execution_count": 141,
   "id": "9aa1b32f",
   "metadata": {
    "ExecuteTime": {
     "end_time": "2023-04-16T16:28:00.513270Z",
     "start_time": "2023-04-16T16:28:00.507783Z"
    }
   },
   "outputs": [],
   "source": [
    "df3 = pd.DataFrame([\n",
    "    {'name': 'Ania', 'color': 'pink'},\n",
    "    {'name': 'Krzyś', 'color': 'blue'},\n",
    "    {'name': 'Ola'}\n",
    "])"
   ]
  },
  {
   "cell_type": "code",
   "execution_count": 142,
   "id": "085c2ce4",
   "metadata": {
    "ExecuteTime": {
     "end_time": "2023-04-16T16:28:00.525158Z",
     "start_time": "2023-04-16T16:28:00.515938Z"
    }
   },
   "outputs": [
    {
     "data": {
      "text/html": [
       "<div>\n",
       "<style scoped>\n",
       "    .dataframe tbody tr th:only-of-type {\n",
       "        vertical-align: middle;\n",
       "    }\n",
       "\n",
       "    .dataframe tbody tr th {\n",
       "        vertical-align: top;\n",
       "    }\n",
       "\n",
       "    .dataframe thead th {\n",
       "        text-align: right;\n",
       "    }\n",
       "</style>\n",
       "<table border=\"1\" class=\"dataframe\">\n",
       "  <thead>\n",
       "    <tr style=\"text-align: right;\">\n",
       "      <th></th>\n",
       "      <th>name</th>\n",
       "      <th>age</th>\n",
       "    </tr>\n",
       "  </thead>\n",
       "  <tbody>\n",
       "    <tr>\n",
       "      <th>20</th>\n",
       "      <td>Ania</td>\n",
       "      <td>10</td>\n",
       "    </tr>\n",
       "    <tr>\n",
       "      <th>10</th>\n",
       "      <td>Kasia</td>\n",
       "      <td>12</td>\n",
       "    </tr>\n",
       "    <tr>\n",
       "      <th>0</th>\n",
       "      <td>Krzyś</td>\n",
       "      <td>4</td>\n",
       "    </tr>\n",
       "  </tbody>\n",
       "</table>\n",
       "</div>"
      ],
      "text/plain": [
       "     name  age\n",
       "20   Ania   10\n",
       "10  Kasia   12\n",
       "0   Krzyś    4"
      ]
     },
     "execution_count": 142,
     "metadata": {},
     "output_type": "execute_result"
    }
   ],
   "source": [
    "df1"
   ]
  },
  {
   "cell_type": "code",
   "execution_count": 143,
   "id": "9c551465",
   "metadata": {
    "ExecuteTime": {
     "end_time": "2023-04-16T16:28:00.535939Z",
     "start_time": "2023-04-16T16:28:00.528196Z"
    }
   },
   "outputs": [
    {
     "data": {
      "text/html": [
       "<div>\n",
       "<style scoped>\n",
       "    .dataframe tbody tr th:only-of-type {\n",
       "        vertical-align: middle;\n",
       "    }\n",
       "\n",
       "    .dataframe tbody tr th {\n",
       "        vertical-align: top;\n",
       "    }\n",
       "\n",
       "    .dataframe thead th {\n",
       "        text-align: right;\n",
       "    }\n",
       "</style>\n",
       "<table border=\"1\" class=\"dataframe\">\n",
       "  <thead>\n",
       "    <tr style=\"text-align: right;\">\n",
       "      <th></th>\n",
       "      <th>name</th>\n",
       "      <th>age</th>\n",
       "    </tr>\n",
       "  </thead>\n",
       "  <tbody>\n",
       "    <tr>\n",
       "      <th>0</th>\n",
       "      <td>Zosia</td>\n",
       "      <td>11.0</td>\n",
       "    </tr>\n",
       "    <tr>\n",
       "      <th>1</th>\n",
       "      <td>Kuba</td>\n",
       "      <td>1.0</td>\n",
       "    </tr>\n",
       "    <tr>\n",
       "      <th>2</th>\n",
       "      <td>Ola</td>\n",
       "      <td>NaN</td>\n",
       "    </tr>\n",
       "  </tbody>\n",
       "</table>\n",
       "</div>"
      ],
      "text/plain": [
       "    name   age\n",
       "0  Zosia  11.0\n",
       "1   Kuba   1.0\n",
       "2    Ola   NaN"
      ]
     },
     "execution_count": 143,
     "metadata": {},
     "output_type": "execute_result"
    }
   ],
   "source": [
    "df2"
   ]
  },
  {
   "cell_type": "code",
   "execution_count": 144,
   "id": "6eef3c34",
   "metadata": {
    "ExecuteTime": {
     "end_time": "2023-04-16T16:28:00.545960Z",
     "start_time": "2023-04-16T16:28:00.538240Z"
    }
   },
   "outputs": [
    {
     "data": {
      "text/html": [
       "<div>\n",
       "<style scoped>\n",
       "    .dataframe tbody tr th:only-of-type {\n",
       "        vertical-align: middle;\n",
       "    }\n",
       "\n",
       "    .dataframe tbody tr th {\n",
       "        vertical-align: top;\n",
       "    }\n",
       "\n",
       "    .dataframe thead th {\n",
       "        text-align: right;\n",
       "    }\n",
       "</style>\n",
       "<table border=\"1\" class=\"dataframe\">\n",
       "  <thead>\n",
       "    <tr style=\"text-align: right;\">\n",
       "      <th></th>\n",
       "      <th>name</th>\n",
       "      <th>color</th>\n",
       "    </tr>\n",
       "  </thead>\n",
       "  <tbody>\n",
       "    <tr>\n",
       "      <th>0</th>\n",
       "      <td>Ania</td>\n",
       "      <td>pink</td>\n",
       "    </tr>\n",
       "    <tr>\n",
       "      <th>1</th>\n",
       "      <td>Krzyś</td>\n",
       "      <td>blue</td>\n",
       "    </tr>\n",
       "    <tr>\n",
       "      <th>2</th>\n",
       "      <td>Ola</td>\n",
       "      <td>NaN</td>\n",
       "    </tr>\n",
       "  </tbody>\n",
       "</table>\n",
       "</div>"
      ],
      "text/plain": [
       "    name color\n",
       "0   Ania  pink\n",
       "1  Krzyś  blue\n",
       "2    Ola   NaN"
      ]
     },
     "execution_count": 144,
     "metadata": {},
     "output_type": "execute_result"
    }
   ],
   "source": [
    "df3"
   ]
  },
  {
   "cell_type": "code",
   "execution_count": 145,
   "id": "c04d6567",
   "metadata": {
    "ExecuteTime": {
     "end_time": "2023-04-16T16:28:00.559185Z",
     "start_time": "2023-04-16T16:28:00.548417Z"
    }
   },
   "outputs": [
    {
     "data": {
      "text/html": [
       "<div>\n",
       "<style scoped>\n",
       "    .dataframe tbody tr th:only-of-type {\n",
       "        vertical-align: middle;\n",
       "    }\n",
       "\n",
       "    .dataframe tbody tr th {\n",
       "        vertical-align: top;\n",
       "    }\n",
       "\n",
       "    .dataframe thead th {\n",
       "        text-align: right;\n",
       "    }\n",
       "</style>\n",
       "<table border=\"1\" class=\"dataframe\">\n",
       "  <thead>\n",
       "    <tr style=\"text-align: right;\">\n",
       "      <th></th>\n",
       "      <th>name</th>\n",
       "      <th>age</th>\n",
       "      <th>color</th>\n",
       "    </tr>\n",
       "  </thead>\n",
       "  <tbody>\n",
       "    <tr>\n",
       "      <th>20</th>\n",
       "      <td>Ania</td>\n",
       "      <td>10.0</td>\n",
       "      <td>NaN</td>\n",
       "    </tr>\n",
       "    <tr>\n",
       "      <th>10</th>\n",
       "      <td>Kasia</td>\n",
       "      <td>12.0</td>\n",
       "      <td>NaN</td>\n",
       "    </tr>\n",
       "    <tr>\n",
       "      <th>0</th>\n",
       "      <td>Krzyś</td>\n",
       "      <td>4.0</td>\n",
       "      <td>NaN</td>\n",
       "    </tr>\n",
       "    <tr>\n",
       "      <th>0</th>\n",
       "      <td>Ania</td>\n",
       "      <td>NaN</td>\n",
       "      <td>pink</td>\n",
       "    </tr>\n",
       "    <tr>\n",
       "      <th>1</th>\n",
       "      <td>Krzyś</td>\n",
       "      <td>NaN</td>\n",
       "      <td>blue</td>\n",
       "    </tr>\n",
       "    <tr>\n",
       "      <th>2</th>\n",
       "      <td>Ola</td>\n",
       "      <td>NaN</td>\n",
       "      <td>NaN</td>\n",
       "    </tr>\n",
       "  </tbody>\n",
       "</table>\n",
       "</div>"
      ],
      "text/plain": [
       "     name   age color\n",
       "20   Ania  10.0   NaN\n",
       "10  Kasia  12.0   NaN\n",
       "0   Krzyś   4.0   NaN\n",
       "0    Ania   NaN  pink\n",
       "1   Krzyś   NaN  blue\n",
       "2     Ola   NaN   NaN"
      ]
     },
     "execution_count": 145,
     "metadata": {},
     "output_type": "execute_result"
    }
   ],
   "source": [
    "pd.concat([df1, df3])"
   ]
  },
  {
   "cell_type": "code",
   "execution_count": 146,
   "id": "c0e5b7fe",
   "metadata": {
    "ExecuteTime": {
     "end_time": "2023-04-16T16:28:00.571572Z",
     "start_time": "2023-04-16T16:28:00.561844Z"
    }
   },
   "outputs": [
    {
     "data": {
      "text/html": [
       "<div>\n",
       "<style scoped>\n",
       "    .dataframe tbody tr th:only-of-type {\n",
       "        vertical-align: middle;\n",
       "    }\n",
       "\n",
       "    .dataframe tbody tr th {\n",
       "        vertical-align: top;\n",
       "    }\n",
       "\n",
       "    .dataframe thead th {\n",
       "        text-align: right;\n",
       "    }\n",
       "</style>\n",
       "<table border=\"1\" class=\"dataframe\">\n",
       "  <thead>\n",
       "    <tr style=\"text-align: right;\">\n",
       "      <th></th>\n",
       "      <th>name</th>\n",
       "      <th>age</th>\n",
       "      <th>color</th>\n",
       "    </tr>\n",
       "  </thead>\n",
       "  <tbody>\n",
       "    <tr>\n",
       "      <th>20</th>\n",
       "      <td>Ania</td>\n",
       "      <td>10.0</td>\n",
       "      <td>NaN</td>\n",
       "    </tr>\n",
       "    <tr>\n",
       "      <th>10</th>\n",
       "      <td>Kasia</td>\n",
       "      <td>12.0</td>\n",
       "      <td>NaN</td>\n",
       "    </tr>\n",
       "    <tr>\n",
       "      <th>0</th>\n",
       "      <td>Krzyś</td>\n",
       "      <td>4.0</td>\n",
       "      <td>NaN</td>\n",
       "    </tr>\n",
       "    <tr>\n",
       "      <th>0</th>\n",
       "      <td>Ania</td>\n",
       "      <td>NaN</td>\n",
       "      <td>pink</td>\n",
       "    </tr>\n",
       "    <tr>\n",
       "      <th>1</th>\n",
       "      <td>Krzyś</td>\n",
       "      <td>NaN</td>\n",
       "      <td>blue</td>\n",
       "    </tr>\n",
       "    <tr>\n",
       "      <th>2</th>\n",
       "      <td>Ola</td>\n",
       "      <td>NaN</td>\n",
       "      <td>NaN</td>\n",
       "    </tr>\n",
       "  </tbody>\n",
       "</table>\n",
       "</div>"
      ],
      "text/plain": [
       "     name   age color\n",
       "20   Ania  10.0   NaN\n",
       "10  Kasia  12.0   NaN\n",
       "0   Krzyś   4.0   NaN\n",
       "0    Ania   NaN  pink\n",
       "1   Krzyś   NaN  blue\n",
       "2     Ola   NaN   NaN"
      ]
     },
     "execution_count": 146,
     "metadata": {},
     "output_type": "execute_result"
    }
   ],
   "source": [
    "pd.concat([df1, df3], axis=0)"
   ]
  },
  {
   "cell_type": "code",
   "execution_count": 147,
   "id": "39bb2158",
   "metadata": {
    "ExecuteTime": {
     "end_time": "2023-04-16T16:28:00.585345Z",
     "start_time": "2023-04-16T16:28:00.574949Z"
    }
   },
   "outputs": [
    {
     "data": {
      "text/html": [
       "<div>\n",
       "<style scoped>\n",
       "    .dataframe tbody tr th:only-of-type {\n",
       "        vertical-align: middle;\n",
       "    }\n",
       "\n",
       "    .dataframe tbody tr th {\n",
       "        vertical-align: top;\n",
       "    }\n",
       "\n",
       "    .dataframe thead th {\n",
       "        text-align: right;\n",
       "    }\n",
       "</style>\n",
       "<table border=\"1\" class=\"dataframe\">\n",
       "  <thead>\n",
       "    <tr style=\"text-align: right;\">\n",
       "      <th></th>\n",
       "      <th>name</th>\n",
       "      <th>age</th>\n",
       "      <th>name</th>\n",
       "      <th>color</th>\n",
       "    </tr>\n",
       "  </thead>\n",
       "  <tbody>\n",
       "    <tr>\n",
       "      <th>20</th>\n",
       "      <td>Ania</td>\n",
       "      <td>10.0</td>\n",
       "      <td>NaN</td>\n",
       "      <td>NaN</td>\n",
       "    </tr>\n",
       "    <tr>\n",
       "      <th>10</th>\n",
       "      <td>Kasia</td>\n",
       "      <td>12.0</td>\n",
       "      <td>NaN</td>\n",
       "      <td>NaN</td>\n",
       "    </tr>\n",
       "    <tr>\n",
       "      <th>0</th>\n",
       "      <td>Krzyś</td>\n",
       "      <td>4.0</td>\n",
       "      <td>Ania</td>\n",
       "      <td>pink</td>\n",
       "    </tr>\n",
       "    <tr>\n",
       "      <th>1</th>\n",
       "      <td>NaN</td>\n",
       "      <td>NaN</td>\n",
       "      <td>Krzyś</td>\n",
       "      <td>blue</td>\n",
       "    </tr>\n",
       "    <tr>\n",
       "      <th>2</th>\n",
       "      <td>NaN</td>\n",
       "      <td>NaN</td>\n",
       "      <td>Ola</td>\n",
       "      <td>NaN</td>\n",
       "    </tr>\n",
       "  </tbody>\n",
       "</table>\n",
       "</div>"
      ],
      "text/plain": [
       "     name   age   name color\n",
       "20   Ania  10.0    NaN   NaN\n",
       "10  Kasia  12.0    NaN   NaN\n",
       "0   Krzyś   4.0   Ania  pink\n",
       "1     NaN   NaN  Krzyś  blue\n",
       "2     NaN   NaN    Ola   NaN"
      ]
     },
     "execution_count": 147,
     "metadata": {},
     "output_type": "execute_result"
    }
   ],
   "source": [
    "pd.concat([df1, df3], axis=1)"
   ]
  },
  {
   "cell_type": "code",
   "execution_count": 148,
   "id": "318f35b0",
   "metadata": {
    "ExecuteTime": {
     "end_time": "2023-04-16T16:28:00.596199Z",
     "start_time": "2023-04-16T16:28:00.588014Z"
    }
   },
   "outputs": [
    {
     "data": {
      "text/html": [
       "<div>\n",
       "<style scoped>\n",
       "    .dataframe tbody tr th:only-of-type {\n",
       "        vertical-align: middle;\n",
       "    }\n",
       "\n",
       "    .dataframe tbody tr th {\n",
       "        vertical-align: top;\n",
       "    }\n",
       "\n",
       "    .dataframe thead th {\n",
       "        text-align: right;\n",
       "    }\n",
       "</style>\n",
       "<table border=\"1\" class=\"dataframe\">\n",
       "  <thead>\n",
       "    <tr style=\"text-align: right;\">\n",
       "      <th></th>\n",
       "      <th>name</th>\n",
       "      <th>age</th>\n",
       "    </tr>\n",
       "  </thead>\n",
       "  <tbody>\n",
       "    <tr>\n",
       "      <th>0</th>\n",
       "      <td>Ania</td>\n",
       "      <td>10</td>\n",
       "    </tr>\n",
       "    <tr>\n",
       "      <th>1</th>\n",
       "      <td>Kasia</td>\n",
       "      <td>12</td>\n",
       "    </tr>\n",
       "    <tr>\n",
       "      <th>2</th>\n",
       "      <td>Krzyś</td>\n",
       "      <td>4</td>\n",
       "    </tr>\n",
       "  </tbody>\n",
       "</table>\n",
       "</div>"
      ],
      "text/plain": [
       "    name  age\n",
       "0   Ania   10\n",
       "1  Kasia   12\n",
       "2  Krzyś    4"
      ]
     },
     "execution_count": 148,
     "metadata": {},
     "output_type": "execute_result"
    }
   ],
   "source": [
    "df1 = df1.reset_index(drop=True)\n",
    "df1"
   ]
  },
  {
   "cell_type": "code",
   "execution_count": 149,
   "id": "2696d8db",
   "metadata": {
    "ExecuteTime": {
     "end_time": "2023-04-16T16:28:00.610100Z",
     "start_time": "2023-04-16T16:28:00.598816Z"
    }
   },
   "outputs": [
    {
     "data": {
      "text/html": [
       "<div>\n",
       "<style scoped>\n",
       "    .dataframe tbody tr th:only-of-type {\n",
       "        vertical-align: middle;\n",
       "    }\n",
       "\n",
       "    .dataframe tbody tr th {\n",
       "        vertical-align: top;\n",
       "    }\n",
       "\n",
       "    .dataframe thead th {\n",
       "        text-align: right;\n",
       "    }\n",
       "</style>\n",
       "<table border=\"1\" class=\"dataframe\">\n",
       "  <thead>\n",
       "    <tr style=\"text-align: right;\">\n",
       "      <th></th>\n",
       "      <th>name</th>\n",
       "      <th>age</th>\n",
       "      <th>name</th>\n",
       "      <th>color</th>\n",
       "    </tr>\n",
       "  </thead>\n",
       "  <tbody>\n",
       "    <tr>\n",
       "      <th>0</th>\n",
       "      <td>Ania</td>\n",
       "      <td>10</td>\n",
       "      <td>Ania</td>\n",
       "      <td>pink</td>\n",
       "    </tr>\n",
       "    <tr>\n",
       "      <th>1</th>\n",
       "      <td>Kasia</td>\n",
       "      <td>12</td>\n",
       "      <td>Krzyś</td>\n",
       "      <td>blue</td>\n",
       "    </tr>\n",
       "    <tr>\n",
       "      <th>2</th>\n",
       "      <td>Krzyś</td>\n",
       "      <td>4</td>\n",
       "      <td>Ola</td>\n",
       "      <td>NaN</td>\n",
       "    </tr>\n",
       "  </tbody>\n",
       "</table>\n",
       "</div>"
      ],
      "text/plain": [
       "    name  age   name color\n",
       "0   Ania   10   Ania  pink\n",
       "1  Kasia   12  Krzyś  blue\n",
       "2  Krzyś    4    Ola   NaN"
      ]
     },
     "execution_count": 149,
     "metadata": {},
     "output_type": "execute_result"
    }
   ],
   "source": [
    "pd.concat([df1, df3], axis=1)"
   ]
  },
  {
   "cell_type": "code",
   "execution_count": 150,
   "id": "64788a17",
   "metadata": {
    "ExecuteTime": {
     "end_time": "2023-04-16T16:28:00.623233Z",
     "start_time": "2023-04-16T16:28:00.612998Z"
    }
   },
   "outputs": [
    {
     "data": {
      "text/html": [
       "<div>\n",
       "<style scoped>\n",
       "    .dataframe tbody tr th:only-of-type {\n",
       "        vertical-align: middle;\n",
       "    }\n",
       "\n",
       "    .dataframe tbody tr th {\n",
       "        vertical-align: top;\n",
       "    }\n",
       "\n",
       "    .dataframe thead th {\n",
       "        text-align: right;\n",
       "    }\n",
       "</style>\n",
       "<table border=\"1\" class=\"dataframe\">\n",
       "  <thead>\n",
       "    <tr style=\"text-align: right;\">\n",
       "      <th></th>\n",
       "      <th>name</th>\n",
       "      <th>age</th>\n",
       "      <th>color</th>\n",
       "    </tr>\n",
       "  </thead>\n",
       "  <tbody>\n",
       "    <tr>\n",
       "      <th>0</th>\n",
       "      <td>Ania</td>\n",
       "      <td>10</td>\n",
       "      <td>pink</td>\n",
       "    </tr>\n",
       "    <tr>\n",
       "      <th>1</th>\n",
       "      <td>Krzyś</td>\n",
       "      <td>4</td>\n",
       "      <td>blue</td>\n",
       "    </tr>\n",
       "  </tbody>\n",
       "</table>\n",
       "</div>"
      ],
      "text/plain": [
       "    name  age color\n",
       "0   Ania   10  pink\n",
       "1  Krzyś    4  blue"
      ]
     },
     "execution_count": 150,
     "metadata": {},
     "output_type": "execute_result"
    }
   ],
   "source": [
    "df1.merge(df3, on='name')  # łączenie po warunku, jak JOIN() w SQL, domyślnie: INNER_JOIN()"
   ]
  },
  {
   "cell_type": "code",
   "execution_count": 151,
   "id": "366f5bf7",
   "metadata": {
    "ExecuteTime": {
     "end_time": "2023-04-16T16:28:00.636131Z",
     "start_time": "2023-04-16T16:28:00.625485Z"
    }
   },
   "outputs": [
    {
     "data": {
      "text/html": [
       "<div>\n",
       "<style scoped>\n",
       "    .dataframe tbody tr th:only-of-type {\n",
       "        vertical-align: middle;\n",
       "    }\n",
       "\n",
       "    .dataframe tbody tr th {\n",
       "        vertical-align: top;\n",
       "    }\n",
       "\n",
       "    .dataframe thead th {\n",
       "        text-align: right;\n",
       "    }\n",
       "</style>\n",
       "<table border=\"1\" class=\"dataframe\">\n",
       "  <thead>\n",
       "    <tr style=\"text-align: right;\">\n",
       "      <th></th>\n",
       "      <th>name</th>\n",
       "      <th>age</th>\n",
       "      <th>color</th>\n",
       "    </tr>\n",
       "  </thead>\n",
       "  <tbody>\n",
       "    <tr>\n",
       "      <th>0</th>\n",
       "      <td>Ania</td>\n",
       "      <td>10</td>\n",
       "      <td>pink</td>\n",
       "    </tr>\n",
       "    <tr>\n",
       "      <th>1</th>\n",
       "      <td>Kasia</td>\n",
       "      <td>12</td>\n",
       "      <td>NaN</td>\n",
       "    </tr>\n",
       "    <tr>\n",
       "      <th>2</th>\n",
       "      <td>Krzyś</td>\n",
       "      <td>4</td>\n",
       "      <td>blue</td>\n",
       "    </tr>\n",
       "  </tbody>\n",
       "</table>\n",
       "</div>"
      ],
      "text/plain": [
       "    name  age color\n",
       "0   Ania   10  pink\n",
       "1  Kasia   12   NaN\n",
       "2  Krzyś    4  blue"
      ]
     },
     "execution_count": 151,
     "metadata": {},
     "output_type": "execute_result"
    }
   ],
   "source": [
    "df1.merge(df3, on='name', how='left')"
   ]
  },
  {
   "cell_type": "code",
   "execution_count": 152,
   "id": "1dca803c",
   "metadata": {
    "ExecuteTime": {
     "end_time": "2023-04-16T16:28:00.650014Z",
     "start_time": "2023-04-16T16:28:00.639182Z"
    }
   },
   "outputs": [
    {
     "data": {
      "text/html": [
       "<div>\n",
       "<style scoped>\n",
       "    .dataframe tbody tr th:only-of-type {\n",
       "        vertical-align: middle;\n",
       "    }\n",
       "\n",
       "    .dataframe tbody tr th {\n",
       "        vertical-align: top;\n",
       "    }\n",
       "\n",
       "    .dataframe thead th {\n",
       "        text-align: right;\n",
       "    }\n",
       "</style>\n",
       "<table border=\"1\" class=\"dataframe\">\n",
       "  <thead>\n",
       "    <tr style=\"text-align: right;\">\n",
       "      <th></th>\n",
       "      <th>name</th>\n",
       "      <th>age</th>\n",
       "      <th>color</th>\n",
       "    </tr>\n",
       "  </thead>\n",
       "  <tbody>\n",
       "    <tr>\n",
       "      <th>0</th>\n",
       "      <td>Ania</td>\n",
       "      <td>10.0</td>\n",
       "      <td>pink</td>\n",
       "    </tr>\n",
       "    <tr>\n",
       "      <th>1</th>\n",
       "      <td>Krzyś</td>\n",
       "      <td>4.0</td>\n",
       "      <td>blue</td>\n",
       "    </tr>\n",
       "    <tr>\n",
       "      <th>2</th>\n",
       "      <td>Ola</td>\n",
       "      <td>NaN</td>\n",
       "      <td>NaN</td>\n",
       "    </tr>\n",
       "  </tbody>\n",
       "</table>\n",
       "</div>"
      ],
      "text/plain": [
       "    name   age color\n",
       "0   Ania  10.0  pink\n",
       "1  Krzyś   4.0  blue\n",
       "2    Ola   NaN   NaN"
      ]
     },
     "execution_count": 152,
     "metadata": {},
     "output_type": "execute_result"
    }
   ],
   "source": [
    "df1.merge(df3, on='name', how='right')"
   ]
  },
  {
   "cell_type": "code",
   "execution_count": 153,
   "id": "a2992fd8",
   "metadata": {
    "ExecuteTime": {
     "end_time": "2023-04-16T16:28:00.664109Z",
     "start_time": "2023-04-16T16:28:00.652178Z"
    }
   },
   "outputs": [
    {
     "data": {
      "text/html": [
       "<div>\n",
       "<style scoped>\n",
       "    .dataframe tbody tr th:only-of-type {\n",
       "        vertical-align: middle;\n",
       "    }\n",
       "\n",
       "    .dataframe tbody tr th {\n",
       "        vertical-align: top;\n",
       "    }\n",
       "\n",
       "    .dataframe thead th {\n",
       "        text-align: right;\n",
       "    }\n",
       "</style>\n",
       "<table border=\"1\" class=\"dataframe\">\n",
       "  <thead>\n",
       "    <tr style=\"text-align: right;\">\n",
       "      <th></th>\n",
       "      <th>name</th>\n",
       "      <th>age</th>\n",
       "      <th>color</th>\n",
       "    </tr>\n",
       "  </thead>\n",
       "  <tbody>\n",
       "    <tr>\n",
       "      <th>0</th>\n",
       "      <td>Ania</td>\n",
       "      <td>10.0</td>\n",
       "      <td>pink</td>\n",
       "    </tr>\n",
       "    <tr>\n",
       "      <th>1</th>\n",
       "      <td>Kasia</td>\n",
       "      <td>12.0</td>\n",
       "      <td>NaN</td>\n",
       "    </tr>\n",
       "    <tr>\n",
       "      <th>2</th>\n",
       "      <td>Krzyś</td>\n",
       "      <td>4.0</td>\n",
       "      <td>blue</td>\n",
       "    </tr>\n",
       "    <tr>\n",
       "      <th>3</th>\n",
       "      <td>Ola</td>\n",
       "      <td>NaN</td>\n",
       "      <td>NaN</td>\n",
       "    </tr>\n",
       "  </tbody>\n",
       "</table>\n",
       "</div>"
      ],
      "text/plain": [
       "    name   age color\n",
       "0   Ania  10.0  pink\n",
       "1  Kasia  12.0   NaN\n",
       "2  Krzyś   4.0  blue\n",
       "3    Ola   NaN   NaN"
      ]
     },
     "execution_count": 153,
     "metadata": {},
     "output_type": "execute_result"
    }
   ],
   "source": [
    "df1.merge(df3, on='name', how='outer')  # w przypadku łączenia wielu kolumn, podajemy listę jako parametr 'on'\n",
    "# 'left_on' i 'right_on', jeżeli kolumny mają różne nazwy w poszczególnych tabelach"
   ]
  },
  {
   "cell_type": "code",
   "execution_count": 154,
   "id": "d4236428",
   "metadata": {
    "ExecuteTime": {
     "end_time": "2023-04-16T16:28:00.677568Z",
     "start_time": "2023-04-16T16:28:00.666748Z"
    }
   },
   "outputs": [
    {
     "data": {
      "text/html": [
       "<div>\n",
       "<style scoped>\n",
       "    .dataframe tbody tr th:only-of-type {\n",
       "        vertical-align: middle;\n",
       "    }\n",
       "\n",
       "    .dataframe tbody tr th {\n",
       "        vertical-align: top;\n",
       "    }\n",
       "\n",
       "    .dataframe thead th {\n",
       "        text-align: right;\n",
       "    }\n",
       "</style>\n",
       "<table border=\"1\" class=\"dataframe\">\n",
       "  <thead>\n",
       "    <tr style=\"text-align: right;\">\n",
       "      <th></th>\n",
       "      <th>name_1</th>\n",
       "      <th>age</th>\n",
       "      <th>name_3</th>\n",
       "      <th>color</th>\n",
       "    </tr>\n",
       "  </thead>\n",
       "  <tbody>\n",
       "    <tr>\n",
       "      <th>0</th>\n",
       "      <td>Ania</td>\n",
       "      <td>10</td>\n",
       "      <td>Ania</td>\n",
       "      <td>pink</td>\n",
       "    </tr>\n",
       "    <tr>\n",
       "      <th>1</th>\n",
       "      <td>Kasia</td>\n",
       "      <td>12</td>\n",
       "      <td>Krzyś</td>\n",
       "      <td>blue</td>\n",
       "    </tr>\n",
       "    <tr>\n",
       "      <th>2</th>\n",
       "      <td>Krzyś</td>\n",
       "      <td>4</td>\n",
       "      <td>Ola</td>\n",
       "      <td>NaN</td>\n",
       "    </tr>\n",
       "  </tbody>\n",
       "</table>\n",
       "</div>"
      ],
      "text/plain": [
       "  name_1  age name_3 color\n",
       "0   Ania   10   Ania  pink\n",
       "1  Kasia   12  Krzyś  blue\n",
       "2  Krzyś    4    Ola   NaN"
      ]
     },
     "execution_count": 154,
     "metadata": {},
     "output_type": "execute_result"
    }
   ],
   "source": [
    "df1.join(df3, lsuffix='_1', rsuffix='_3')  # łączenie po indeksie, można dodać argument 'how'"
   ]
  },
  {
   "cell_type": "code",
   "execution_count": 155,
   "id": "aef0f638",
   "metadata": {
    "ExecuteTime": {
     "end_time": "2023-04-16T16:28:00.691634Z",
     "start_time": "2023-04-16T16:28:00.681103Z"
    }
   },
   "outputs": [
    {
     "data": {
      "text/html": [
       "<div>\n",
       "<style scoped>\n",
       "    .dataframe tbody tr th:only-of-type {\n",
       "        vertical-align: middle;\n",
       "    }\n",
       "\n",
       "    .dataframe tbody tr th {\n",
       "        vertical-align: top;\n",
       "    }\n",
       "\n",
       "    .dataframe thead th {\n",
       "        text-align: right;\n",
       "    }\n",
       "</style>\n",
       "<table border=\"1\" class=\"dataframe\">\n",
       "  <thead>\n",
       "    <tr style=\"text-align: right;\">\n",
       "      <th></th>\n",
       "      <th>name</th>\n",
       "      <th>age</th>\n",
       "      <th>color</th>\n",
       "    </tr>\n",
       "  </thead>\n",
       "  <tbody>\n",
       "    <tr>\n",
       "      <th>0</th>\n",
       "      <td>Ania</td>\n",
       "      <td>10</td>\n",
       "      <td>pink</td>\n",
       "    </tr>\n",
       "    <tr>\n",
       "      <th>1</th>\n",
       "      <td>Kasia</td>\n",
       "      <td>12</td>\n",
       "      <td>NaN</td>\n",
       "    </tr>\n",
       "    <tr>\n",
       "      <th>2</th>\n",
       "      <td>Krzyś</td>\n",
       "      <td>4</td>\n",
       "      <td>blue</td>\n",
       "    </tr>\n",
       "  </tbody>\n",
       "</table>\n",
       "</div>"
      ],
      "text/plain": [
       "    name  age color\n",
       "0   Ania   10  pink\n",
       "1  Kasia   12   NaN\n",
       "2  Krzyś    4  blue"
      ]
     },
     "execution_count": 155,
     "metadata": {},
     "output_type": "execute_result"
    }
   ],
   "source": [
    "df1.set_index('name').join(df3.set_index('name')).reset_index()  # wrzucamy to, co chcemy łączyć do indeksu"
   ]
  },
  {
   "cell_type": "code",
   "execution_count": 156,
   "id": "64f2e052",
   "metadata": {
    "ExecuteTime": {
     "end_time": "2023-04-16T16:28:00.705121Z",
     "start_time": "2023-04-16T16:28:00.693874Z"
    }
   },
   "outputs": [
    {
     "data": {
      "text/html": [
       "<div>\n",
       "<style scoped>\n",
       "    .dataframe tbody tr th:only-of-type {\n",
       "        vertical-align: middle;\n",
       "    }\n",
       "\n",
       "    .dataframe tbody tr th {\n",
       "        vertical-align: top;\n",
       "    }\n",
       "\n",
       "    .dataframe thead th {\n",
       "        text-align: right;\n",
       "    }\n",
       "</style>\n",
       "<table border=\"1\" class=\"dataframe\">\n",
       "  <thead>\n",
       "    <tr style=\"text-align: right;\">\n",
       "      <th></th>\n",
       "      <th>name</th>\n",
       "      <th>age</th>\n",
       "      <th>color</th>\n",
       "    </tr>\n",
       "  </thead>\n",
       "  <tbody>\n",
       "    <tr>\n",
       "      <th>0</th>\n",
       "      <td>Ania</td>\n",
       "      <td>10</td>\n",
       "      <td>pink</td>\n",
       "    </tr>\n",
       "    <tr>\n",
       "      <th>1</th>\n",
       "      <td>Kasia</td>\n",
       "      <td>12</td>\n",
       "      <td>NaN</td>\n",
       "    </tr>\n",
       "    <tr>\n",
       "      <th>2</th>\n",
       "      <td>Krzyś</td>\n",
       "      <td>4</td>\n",
       "      <td>blue</td>\n",
       "    </tr>\n",
       "  </tbody>\n",
       "</table>\n",
       "</div>"
      ],
      "text/plain": [
       "    name  age color\n",
       "0   Ania   10  pink\n",
       "1  Kasia   12   NaN\n",
       "2  Krzyś    4  blue"
      ]
     },
     "execution_count": 156,
     "metadata": {},
     "output_type": "execute_result"
    }
   ],
   "source": [
    "df1.join(df3.set_index('name'), on='name')  # z jednej strony mamy kolumnę, z drugiej indeks"
   ]
  },
  {
   "cell_type": "markdown",
   "id": "bfdc7557",
   "metadata": {},
   "source": [
    "### Metody i działania"
   ]
  },
  {
   "cell_type": "code",
   "execution_count": 157,
   "id": "7b0fab9b",
   "metadata": {
    "ExecuteTime": {
     "end_time": "2023-04-16T16:28:00.718842Z",
     "start_time": "2023-04-16T16:28:00.708353Z"
    }
   },
   "outputs": [
    {
     "data": {
      "text/html": [
       "<div>\n",
       "<style scoped>\n",
       "    .dataframe tbody tr th:only-of-type {\n",
       "        vertical-align: middle;\n",
       "    }\n",
       "\n",
       "    .dataframe tbody tr th {\n",
       "        vertical-align: top;\n",
       "    }\n",
       "\n",
       "    .dataframe thead th {\n",
       "        text-align: right;\n",
       "    }\n",
       "</style>\n",
       "<table border=\"1\" class=\"dataframe\">\n",
       "  <thead>\n",
       "    <tr style=\"text-align: right;\">\n",
       "      <th></th>\n",
       "      <th>col0</th>\n",
       "      <th>col1</th>\n",
       "      <th>col2</th>\n",
       "    </tr>\n",
       "  </thead>\n",
       "  <tbody>\n",
       "    <tr>\n",
       "      <th>0</th>\n",
       "      <td>0.417022</td>\n",
       "      <td>0.720324</td>\n",
       "      <td>0.000114</td>\n",
       "    </tr>\n",
       "    <tr>\n",
       "      <th>1</th>\n",
       "      <td>0.302333</td>\n",
       "      <td>0.146756</td>\n",
       "      <td>0.092339</td>\n",
       "    </tr>\n",
       "    <tr>\n",
       "      <th>2</th>\n",
       "      <td>0.186260</td>\n",
       "      <td>0.345561</td>\n",
       "      <td>0.396767</td>\n",
       "    </tr>\n",
       "    <tr>\n",
       "      <th>3</th>\n",
       "      <td>0.538817</td>\n",
       "      <td>0.419195</td>\n",
       "      <td>0.685220</td>\n",
       "    </tr>\n",
       "    <tr>\n",
       "      <th>4</th>\n",
       "      <td>0.204452</td>\n",
       "      <td>0.878117</td>\n",
       "      <td>0.027388</td>\n",
       "    </tr>\n",
       "  </tbody>\n",
       "</table>\n",
       "</div>"
      ],
      "text/plain": [
       "       col0      col1      col2\n",
       "0  0.417022  0.720324  0.000114\n",
       "1  0.302333  0.146756  0.092339\n",
       "2  0.186260  0.345561  0.396767\n",
       "3  0.538817  0.419195  0.685220\n",
       "4  0.204452  0.878117  0.027388"
      ]
     },
     "execution_count": 157,
     "metadata": {},
     "output_type": "execute_result"
    }
   ],
   "source": [
    "np.random.seed(1)\n",
    "df = pd.DataFrame(np.random.rand(20, 3), columns=[f'col{i}' for i in range(3)])\n",
    "df.head()"
   ]
  },
  {
   "cell_type": "code",
   "execution_count": 158,
   "id": "f5427fba",
   "metadata": {
    "ExecuteTime": {
     "end_time": "2023-04-16T16:28:00.731017Z",
     "start_time": "2023-04-16T16:28:00.721627Z"
    }
   },
   "outputs": [
    {
     "data": {
      "text/html": [
       "<div>\n",
       "<style scoped>\n",
       "    .dataframe tbody tr th:only-of-type {\n",
       "        vertical-align: middle;\n",
       "    }\n",
       "\n",
       "    .dataframe tbody tr th {\n",
       "        vertical-align: top;\n",
       "    }\n",
       "\n",
       "    .dataframe thead th {\n",
       "        text-align: right;\n",
       "    }\n",
       "</style>\n",
       "<table border=\"1\" class=\"dataframe\">\n",
       "  <thead>\n",
       "    <tr style=\"text-align: right;\">\n",
       "      <th></th>\n",
       "      <th>col0</th>\n",
       "      <th>col1</th>\n",
       "      <th>col2</th>\n",
       "    </tr>\n",
       "  </thead>\n",
       "  <tbody>\n",
       "    <tr>\n",
       "      <th>0</th>\n",
       "      <td>0.417022</td>\n",
       "      <td>0.720324</td>\n",
       "      <td>0.000114</td>\n",
       "    </tr>\n",
       "    <tr>\n",
       "      <th>1</th>\n",
       "      <td>0.302333</td>\n",
       "      <td>0.146756</td>\n",
       "      <td>0.092339</td>\n",
       "    </tr>\n",
       "    <tr>\n",
       "      <th>2</th>\n",
       "      <td>0.186260</td>\n",
       "      <td>0.345561</td>\n",
       "      <td>0.396767</td>\n",
       "    </tr>\n",
       "  </tbody>\n",
       "</table>\n",
       "</div>"
      ],
      "text/plain": [
       "       col0      col1      col2\n",
       "0  0.417022  0.720324  0.000114\n",
       "1  0.302333  0.146756  0.092339\n",
       "2  0.186260  0.345561  0.396767"
      ]
     },
     "execution_count": 158,
     "metadata": {},
     "output_type": "execute_result"
    }
   ],
   "source": [
    "df.head(3)"
   ]
  },
  {
   "cell_type": "code",
   "execution_count": 159,
   "id": "34de35da",
   "metadata": {
    "ExecuteTime": {
     "end_time": "2023-04-16T16:28:00.745435Z",
     "start_time": "2023-04-16T16:28:00.734102Z"
    }
   },
   "outputs": [
    {
     "data": {
      "text/html": [
       "<div>\n",
       "<style scoped>\n",
       "    .dataframe tbody tr th:only-of-type {\n",
       "        vertical-align: middle;\n",
       "    }\n",
       "\n",
       "    .dataframe tbody tr th {\n",
       "        vertical-align: top;\n",
       "    }\n",
       "\n",
       "    .dataframe thead th {\n",
       "        text-align: right;\n",
       "    }\n",
       "</style>\n",
       "<table border=\"1\" class=\"dataframe\">\n",
       "  <thead>\n",
       "    <tr style=\"text-align: right;\">\n",
       "      <th></th>\n",
       "      <th>col0</th>\n",
       "      <th>col1</th>\n",
       "      <th>col2</th>\n",
       "    </tr>\n",
       "  </thead>\n",
       "  <tbody>\n",
       "    <tr>\n",
       "      <th>15</th>\n",
       "      <td>0.447894</td>\n",
       "      <td>0.908596</td>\n",
       "      <td>0.293614</td>\n",
       "    </tr>\n",
       "    <tr>\n",
       "      <th>16</th>\n",
       "      <td>0.287775</td>\n",
       "      <td>0.130029</td>\n",
       "      <td>0.019367</td>\n",
       "    </tr>\n",
       "    <tr>\n",
       "      <th>17</th>\n",
       "      <td>0.678836</td>\n",
       "      <td>0.211628</td>\n",
       "      <td>0.265547</td>\n",
       "    </tr>\n",
       "    <tr>\n",
       "      <th>18</th>\n",
       "      <td>0.491573</td>\n",
       "      <td>0.053363</td>\n",
       "      <td>0.574118</td>\n",
       "    </tr>\n",
       "    <tr>\n",
       "      <th>19</th>\n",
       "      <td>0.146729</td>\n",
       "      <td>0.589306</td>\n",
       "      <td>0.699758</td>\n",
       "    </tr>\n",
       "  </tbody>\n",
       "</table>\n",
       "</div>"
      ],
      "text/plain": [
       "        col0      col1      col2\n",
       "15  0.447894  0.908596  0.293614\n",
       "16  0.287775  0.130029  0.019367\n",
       "17  0.678836  0.211628  0.265547\n",
       "18  0.491573  0.053363  0.574118\n",
       "19  0.146729  0.589306  0.699758"
      ]
     },
     "execution_count": 159,
     "metadata": {},
     "output_type": "execute_result"
    }
   ],
   "source": [
    "df.tail()"
   ]
  },
  {
   "cell_type": "code",
   "execution_count": 160,
   "id": "33982a35",
   "metadata": {
    "ExecuteTime": {
     "end_time": "2023-04-16T16:28:00.756991Z",
     "start_time": "2023-04-16T16:28:00.748693Z"
    }
   },
   "outputs": [
    {
     "data": {
      "text/plain": [
       "(20, 3)"
      ]
     },
     "execution_count": 160,
     "metadata": {},
     "output_type": "execute_result"
    }
   ],
   "source": [
    "df.shape"
   ]
  },
  {
   "cell_type": "code",
   "execution_count": 161,
   "id": "462b5070",
   "metadata": {
    "ExecuteTime": {
     "end_time": "2023-04-16T16:28:00.772251Z",
     "start_time": "2023-04-16T16:28:00.760275Z"
    }
   },
   "outputs": [
    {
     "data": {
      "text/html": [
       "<div>\n",
       "<style scoped>\n",
       "    .dataframe tbody tr th:only-of-type {\n",
       "        vertical-align: middle;\n",
       "    }\n",
       "\n",
       "    .dataframe tbody tr th {\n",
       "        vertical-align: top;\n",
       "    }\n",
       "\n",
       "    .dataframe thead th {\n",
       "        text-align: right;\n",
       "    }\n",
       "</style>\n",
       "<table border=\"1\" class=\"dataframe\">\n",
       "  <thead>\n",
       "    <tr style=\"text-align: right;\">\n",
       "      <th></th>\n",
       "      <th>col_0</th>\n",
       "      <th>col_1</th>\n",
       "      <th>col_2</th>\n",
       "    </tr>\n",
       "  </thead>\n",
       "  <tbody>\n",
       "    <tr>\n",
       "      <th>0</th>\n",
       "      <td>0.417022</td>\n",
       "      <td>0.720324</td>\n",
       "      <td>0.000114</td>\n",
       "    </tr>\n",
       "    <tr>\n",
       "      <th>1</th>\n",
       "      <td>0.302333</td>\n",
       "      <td>0.146756</td>\n",
       "      <td>0.092339</td>\n",
       "    </tr>\n",
       "    <tr>\n",
       "      <th>2</th>\n",
       "      <td>0.186260</td>\n",
       "      <td>0.345561</td>\n",
       "      <td>0.396767</td>\n",
       "    </tr>\n",
       "    <tr>\n",
       "      <th>3</th>\n",
       "      <td>0.538817</td>\n",
       "      <td>0.419195</td>\n",
       "      <td>0.685220</td>\n",
       "    </tr>\n",
       "    <tr>\n",
       "      <th>4</th>\n",
       "      <td>0.204452</td>\n",
       "      <td>0.878117</td>\n",
       "      <td>0.027388</td>\n",
       "    </tr>\n",
       "    <tr>\n",
       "      <th>5</th>\n",
       "      <td>0.670468</td>\n",
       "      <td>0.417305</td>\n",
       "      <td>0.558690</td>\n",
       "    </tr>\n",
       "    <tr>\n",
       "      <th>6</th>\n",
       "      <td>0.140387</td>\n",
       "      <td>0.198101</td>\n",
       "      <td>0.800745</td>\n",
       "    </tr>\n",
       "    <tr>\n",
       "      <th>7</th>\n",
       "      <td>0.968262</td>\n",
       "      <td>0.313424</td>\n",
       "      <td>0.692323</td>\n",
       "    </tr>\n",
       "    <tr>\n",
       "      <th>8</th>\n",
       "      <td>0.876389</td>\n",
       "      <td>0.894607</td>\n",
       "      <td>0.085044</td>\n",
       "    </tr>\n",
       "    <tr>\n",
       "      <th>9</th>\n",
       "      <td>0.039055</td>\n",
       "      <td>0.169830</td>\n",
       "      <td>0.878143</td>\n",
       "    </tr>\n",
       "    <tr>\n",
       "      <th>10</th>\n",
       "      <td>0.098347</td>\n",
       "      <td>0.421108</td>\n",
       "      <td>0.957890</td>\n",
       "    </tr>\n",
       "    <tr>\n",
       "      <th>11</th>\n",
       "      <td>0.533165</td>\n",
       "      <td>0.691877</td>\n",
       "      <td>0.315516</td>\n",
       "    </tr>\n",
       "    <tr>\n",
       "      <th>12</th>\n",
       "      <td>0.686501</td>\n",
       "      <td>0.834626</td>\n",
       "      <td>0.018288</td>\n",
       "    </tr>\n",
       "    <tr>\n",
       "      <th>13</th>\n",
       "      <td>0.750144</td>\n",
       "      <td>0.988861</td>\n",
       "      <td>0.748166</td>\n",
       "    </tr>\n",
       "    <tr>\n",
       "      <th>14</th>\n",
       "      <td>0.280444</td>\n",
       "      <td>0.789279</td>\n",
       "      <td>0.103226</td>\n",
       "    </tr>\n",
       "    <tr>\n",
       "      <th>15</th>\n",
       "      <td>0.447894</td>\n",
       "      <td>0.908596</td>\n",
       "      <td>0.293614</td>\n",
       "    </tr>\n",
       "    <tr>\n",
       "      <th>16</th>\n",
       "      <td>0.287775</td>\n",
       "      <td>0.130029</td>\n",
       "      <td>0.019367</td>\n",
       "    </tr>\n",
       "    <tr>\n",
       "      <th>17</th>\n",
       "      <td>0.678836</td>\n",
       "      <td>0.211628</td>\n",
       "      <td>0.265547</td>\n",
       "    </tr>\n",
       "    <tr>\n",
       "      <th>18</th>\n",
       "      <td>0.491573</td>\n",
       "      <td>0.053363</td>\n",
       "      <td>0.574118</td>\n",
       "    </tr>\n",
       "    <tr>\n",
       "      <th>19</th>\n",
       "      <td>0.146729</td>\n",
       "      <td>0.589306</td>\n",
       "      <td>0.699758</td>\n",
       "    </tr>\n",
       "  </tbody>\n",
       "</table>\n",
       "</div>"
      ],
      "text/plain": [
       "       col_0     col_1     col_2\n",
       "0   0.417022  0.720324  0.000114\n",
       "1   0.302333  0.146756  0.092339\n",
       "2   0.186260  0.345561  0.396767\n",
       "3   0.538817  0.419195  0.685220\n",
       "4   0.204452  0.878117  0.027388\n",
       "5   0.670468  0.417305  0.558690\n",
       "6   0.140387  0.198101  0.800745\n",
       "7   0.968262  0.313424  0.692323\n",
       "8   0.876389  0.894607  0.085044\n",
       "9   0.039055  0.169830  0.878143\n",
       "10  0.098347  0.421108  0.957890\n",
       "11  0.533165  0.691877  0.315516\n",
       "12  0.686501  0.834626  0.018288\n",
       "13  0.750144  0.988861  0.748166\n",
       "14  0.280444  0.789279  0.103226\n",
       "15  0.447894  0.908596  0.293614\n",
       "16  0.287775  0.130029  0.019367\n",
       "17  0.678836  0.211628  0.265547\n",
       "18  0.491573  0.053363  0.574118\n",
       "19  0.146729  0.589306  0.699758"
      ]
     },
     "execution_count": 161,
     "metadata": {},
     "output_type": "execute_result"
    }
   ],
   "source": [
    "df.columns = [i.replace('col', 'col_') for i in df.columns]\n",
    "df"
   ]
  },
  {
   "cell_type": "code",
   "execution_count": 162,
   "id": "148947d8",
   "metadata": {
    "ExecuteTime": {
     "end_time": "2023-04-16T16:28:00.785353Z",
     "start_time": "2023-04-16T16:28:00.775400Z"
    }
   },
   "outputs": [
    {
     "data": {
      "text/html": [
       "<div>\n",
       "<style scoped>\n",
       "    .dataframe tbody tr th:only-of-type {\n",
       "        vertical-align: middle;\n",
       "    }\n",
       "\n",
       "    .dataframe tbody tr th {\n",
       "        vertical-align: top;\n",
       "    }\n",
       "\n",
       "    .dataframe thead th {\n",
       "        text-align: right;\n",
       "    }\n",
       "</style>\n",
       "<table border=\"1\" class=\"dataframe\">\n",
       "  <thead>\n",
       "    <tr style=\"text-align: right;\">\n",
       "      <th></th>\n",
       "      <th>col_0</th>\n",
       "      <th>col_1</th>\n",
       "      <th>col_2</th>\n",
       "      <th>x</th>\n",
       "    </tr>\n",
       "  </thead>\n",
       "  <tbody>\n",
       "    <tr>\n",
       "      <th>0</th>\n",
       "      <td>0.417022</td>\n",
       "      <td>0.720324</td>\n",
       "      <td>0.000114</td>\n",
       "      <td>5</td>\n",
       "    </tr>\n",
       "    <tr>\n",
       "      <th>1</th>\n",
       "      <td>0.302333</td>\n",
       "      <td>0.146756</td>\n",
       "      <td>0.092339</td>\n",
       "      <td>5</td>\n",
       "    </tr>\n",
       "    <tr>\n",
       "      <th>2</th>\n",
       "      <td>0.186260</td>\n",
       "      <td>0.345561</td>\n",
       "      <td>0.396767</td>\n",
       "      <td>5</td>\n",
       "    </tr>\n",
       "    <tr>\n",
       "      <th>3</th>\n",
       "      <td>0.538817</td>\n",
       "      <td>0.419195</td>\n",
       "      <td>0.685220</td>\n",
       "      <td>5</td>\n",
       "    </tr>\n",
       "    <tr>\n",
       "      <th>4</th>\n",
       "      <td>0.204452</td>\n",
       "      <td>0.878117</td>\n",
       "      <td>0.027388</td>\n",
       "      <td>5</td>\n",
       "    </tr>\n",
       "  </tbody>\n",
       "</table>\n",
       "</div>"
      ],
      "text/plain": [
       "      col_0     col_1     col_2  x\n",
       "0  0.417022  0.720324  0.000114  5\n",
       "1  0.302333  0.146756  0.092339  5\n",
       "2  0.186260  0.345561  0.396767  5\n",
       "3  0.538817  0.419195  0.685220  5\n",
       "4  0.204452  0.878117  0.027388  5"
      ]
     },
     "execution_count": 162,
     "metadata": {},
     "output_type": "execute_result"
    }
   ],
   "source": [
    "df['x'] = 5\n",
    "df.head()"
   ]
  },
  {
   "cell_type": "code",
   "execution_count": 163,
   "id": "3568ac71",
   "metadata": {
    "ExecuteTime": {
     "end_time": "2023-04-16T16:28:00.802509Z",
     "start_time": "2023-04-16T16:28:00.788217Z"
    }
   },
   "outputs": [
    {
     "data": {
      "text/html": [
       "<div>\n",
       "<style scoped>\n",
       "    .dataframe tbody tr th:only-of-type {\n",
       "        vertical-align: middle;\n",
       "    }\n",
       "\n",
       "    .dataframe tbody tr th {\n",
       "        vertical-align: top;\n",
       "    }\n",
       "\n",
       "    .dataframe thead th {\n",
       "        text-align: right;\n",
       "    }\n",
       "</style>\n",
       "<table border=\"1\" class=\"dataframe\">\n",
       "  <thead>\n",
       "    <tr style=\"text-align: right;\">\n",
       "      <th></th>\n",
       "      <th>col_0</th>\n",
       "      <th>col_1</th>\n",
       "      <th>col_2</th>\n",
       "      <th>x</th>\n",
       "      <th>sum</th>\n",
       "    </tr>\n",
       "  </thead>\n",
       "  <tbody>\n",
       "    <tr>\n",
       "      <th>0</th>\n",
       "      <td>0.417022</td>\n",
       "      <td>0.720324</td>\n",
       "      <td>0.000114</td>\n",
       "      <td>5</td>\n",
       "      <td>1.137461</td>\n",
       "    </tr>\n",
       "    <tr>\n",
       "      <th>1</th>\n",
       "      <td>0.302333</td>\n",
       "      <td>0.146756</td>\n",
       "      <td>0.092339</td>\n",
       "      <td>5</td>\n",
       "      <td>0.541427</td>\n",
       "    </tr>\n",
       "    <tr>\n",
       "      <th>2</th>\n",
       "      <td>0.186260</td>\n",
       "      <td>0.345561</td>\n",
       "      <td>0.396767</td>\n",
       "      <td>5</td>\n",
       "      <td>0.928588</td>\n",
       "    </tr>\n",
       "    <tr>\n",
       "      <th>3</th>\n",
       "      <td>0.538817</td>\n",
       "      <td>0.419195</td>\n",
       "      <td>0.685220</td>\n",
       "      <td>5</td>\n",
       "      <td>1.643231</td>\n",
       "    </tr>\n",
       "    <tr>\n",
       "      <th>4</th>\n",
       "      <td>0.204452</td>\n",
       "      <td>0.878117</td>\n",
       "      <td>0.027388</td>\n",
       "      <td>5</td>\n",
       "      <td>1.109957</td>\n",
       "    </tr>\n",
       "  </tbody>\n",
       "</table>\n",
       "</div>"
      ],
      "text/plain": [
       "      col_0     col_1     col_2  x       sum\n",
       "0  0.417022  0.720324  0.000114  5  1.137461\n",
       "1  0.302333  0.146756  0.092339  5  0.541427\n",
       "2  0.186260  0.345561  0.396767  5  0.928588\n",
       "3  0.538817  0.419195  0.685220  5  1.643231\n",
       "4  0.204452  0.878117  0.027388  5  1.109957"
      ]
     },
     "execution_count": 163,
     "metadata": {},
     "output_type": "execute_result"
    }
   ],
   "source": [
    "df['sum'] = df['col_0'] + df['col_1'] + df['col_2']\n",
    "df.head()"
   ]
  },
  {
   "cell_type": "code",
   "execution_count": 164,
   "id": "fa706afa",
   "metadata": {
    "ExecuteTime": {
     "end_time": "2023-04-16T16:28:00.817231Z",
     "start_time": "2023-04-16T16:28:00.806353Z"
    }
   },
   "outputs": [
    {
     "data": {
      "text/html": [
       "<div>\n",
       "<style scoped>\n",
       "    .dataframe tbody tr th:only-of-type {\n",
       "        vertical-align: middle;\n",
       "    }\n",
       "\n",
       "    .dataframe tbody tr th {\n",
       "        vertical-align: top;\n",
       "    }\n",
       "\n",
       "    .dataframe thead th {\n",
       "        text-align: right;\n",
       "    }\n",
       "</style>\n",
       "<table border=\"1\" class=\"dataframe\">\n",
       "  <thead>\n",
       "    <tr style=\"text-align: right;\">\n",
       "      <th></th>\n",
       "      <th>col_0</th>\n",
       "      <th>col_1</th>\n",
       "      <th>col_2</th>\n",
       "      <th>x</th>\n",
       "      <th>sum</th>\n",
       "      <th>col_0_len</th>\n",
       "    </tr>\n",
       "  </thead>\n",
       "  <tbody>\n",
       "    <tr>\n",
       "      <th>0</th>\n",
       "      <td>0.417022</td>\n",
       "      <td>0.720324</td>\n",
       "      <td>0.000114</td>\n",
       "      <td>5</td>\n",
       "      <td>1.137461</td>\n",
       "      <td>17</td>\n",
       "    </tr>\n",
       "    <tr>\n",
       "      <th>1</th>\n",
       "      <td>0.302333</td>\n",
       "      <td>0.146756</td>\n",
       "      <td>0.092339</td>\n",
       "      <td>5</td>\n",
       "      <td>0.541427</td>\n",
       "      <td>19</td>\n",
       "    </tr>\n",
       "    <tr>\n",
       "      <th>2</th>\n",
       "      <td>0.186260</td>\n",
       "      <td>0.345561</td>\n",
       "      <td>0.396767</td>\n",
       "      <td>5</td>\n",
       "      <td>0.928588</td>\n",
       "      <td>18</td>\n",
       "    </tr>\n",
       "    <tr>\n",
       "      <th>3</th>\n",
       "      <td>0.538817</td>\n",
       "      <td>0.419195</td>\n",
       "      <td>0.685220</td>\n",
       "      <td>5</td>\n",
       "      <td>1.643231</td>\n",
       "      <td>17</td>\n",
       "    </tr>\n",
       "    <tr>\n",
       "      <th>4</th>\n",
       "      <td>0.204452</td>\n",
       "      <td>0.878117</td>\n",
       "      <td>0.027388</td>\n",
       "      <td>5</td>\n",
       "      <td>1.109957</td>\n",
       "      <td>19</td>\n",
       "    </tr>\n",
       "  </tbody>\n",
       "</table>\n",
       "</div>"
      ],
      "text/plain": [
       "      col_0     col_1     col_2  x       sum  col_0_len\n",
       "0  0.417022  0.720324  0.000114  5  1.137461         17\n",
       "1  0.302333  0.146756  0.092339  5  0.541427         19\n",
       "2  0.186260  0.345561  0.396767  5  0.928588         18\n",
       "3  0.538817  0.419195  0.685220  5  1.643231         17\n",
       "4  0.204452  0.878117  0.027388  5  1.109957         19"
      ]
     },
     "execution_count": 164,
     "metadata": {},
     "output_type": "execute_result"
    }
   ],
   "source": [
    "df['col_0_len'] = df.col_0.apply(lambda x: len(str(x)))\n",
    "df.head()"
   ]
  },
  {
   "cell_type": "code",
   "execution_count": 165,
   "id": "67ca60ff",
   "metadata": {
    "ExecuteTime": {
     "end_time": "2023-04-16T16:28:00.832791Z",
     "start_time": "2023-04-16T16:28:00.820692Z"
    }
   },
   "outputs": [
    {
     "data": {
      "text/html": [
       "<div>\n",
       "<style scoped>\n",
       "    .dataframe tbody tr th:only-of-type {\n",
       "        vertical-align: middle;\n",
       "    }\n",
       "\n",
       "    .dataframe tbody tr th {\n",
       "        vertical-align: top;\n",
       "    }\n",
       "\n",
       "    .dataframe thead th {\n",
       "        text-align: right;\n",
       "    }\n",
       "</style>\n",
       "<table border=\"1\" class=\"dataframe\">\n",
       "  <thead>\n",
       "    <tr style=\"text-align: right;\">\n",
       "      <th></th>\n",
       "      <th>col_0</th>\n",
       "      <th>col_1</th>\n",
       "      <th>col_2</th>\n",
       "      <th>x</th>\n",
       "      <th>sum</th>\n",
       "      <th>col_0_len</th>\n",
       "      <th>col_1_len</th>\n",
       "    </tr>\n",
       "  </thead>\n",
       "  <tbody>\n",
       "    <tr>\n",
       "      <th>0</th>\n",
       "      <td>0.417022</td>\n",
       "      <td>0.720324</td>\n",
       "      <td>0.000114</td>\n",
       "      <td>5</td>\n",
       "      <td>1.137461</td>\n",
       "      <td>17</td>\n",
       "      <td>18</td>\n",
       "    </tr>\n",
       "    <tr>\n",
       "      <th>1</th>\n",
       "      <td>0.302333</td>\n",
       "      <td>0.146756</td>\n",
       "      <td>0.092339</td>\n",
       "      <td>5</td>\n",
       "      <td>0.541427</td>\n",
       "      <td>19</td>\n",
       "      <td>19</td>\n",
       "    </tr>\n",
       "    <tr>\n",
       "      <th>2</th>\n",
       "      <td>0.186260</td>\n",
       "      <td>0.345561</td>\n",
       "      <td>0.396767</td>\n",
       "      <td>5</td>\n",
       "      <td>0.928588</td>\n",
       "      <td>18</td>\n",
       "      <td>19</td>\n",
       "    </tr>\n",
       "    <tr>\n",
       "      <th>3</th>\n",
       "      <td>0.538817</td>\n",
       "      <td>0.419195</td>\n",
       "      <td>0.685220</td>\n",
       "      <td>5</td>\n",
       "      <td>1.643231</td>\n",
       "      <td>17</td>\n",
       "      <td>18</td>\n",
       "    </tr>\n",
       "    <tr>\n",
       "      <th>4</th>\n",
       "      <td>0.204452</td>\n",
       "      <td>0.878117</td>\n",
       "      <td>0.027388</td>\n",
       "      <td>5</td>\n",
       "      <td>1.109957</td>\n",
       "      <td>19</td>\n",
       "      <td>18</td>\n",
       "    </tr>\n",
       "  </tbody>\n",
       "</table>\n",
       "</div>"
      ],
      "text/plain": [
       "      col_0     col_1     col_2  x       sum  col_0_len  col_1_len\n",
       "0  0.417022  0.720324  0.000114  5  1.137461         17         18\n",
       "1  0.302333  0.146756  0.092339  5  0.541427         19         19\n",
       "2  0.186260  0.345561  0.396767  5  0.928588         18         19\n",
       "3  0.538817  0.419195  0.685220  5  1.643231         17         18\n",
       "4  0.204452  0.878117  0.027388  5  1.109957         19         18"
      ]
     },
     "execution_count": 165,
     "metadata": {},
     "output_type": "execute_result"
    }
   ],
   "source": [
    "df['col_1_len'] = df.apply(lambda row: len(str(row.col_1)), axis=1)\n",
    "df.head()"
   ]
  },
  {
   "cell_type": "code",
   "execution_count": 166,
   "id": "2a98d966",
   "metadata": {
    "ExecuteTime": {
     "end_time": "2023-04-16T16:28:00.843808Z",
     "start_time": "2023-04-16T16:28:00.835568Z"
    }
   },
   "outputs": [
    {
     "data": {
      "text/plain": [
       "col_0          8.744851\n",
       "col_1         10.121892\n",
       "col_2          8.212260\n",
       "x            100.000000\n",
       "sum           27.079003\n",
       "col_0_len    364.000000\n",
       "col_1_len    369.000000\n",
       "dtype: float64"
      ]
     },
     "execution_count": 166,
     "metadata": {},
     "output_type": "execute_result"
    }
   ],
   "source": [
    "df.apply(sum, axis=0)"
   ]
  },
  {
   "cell_type": "code",
   "execution_count": 167,
   "id": "fefd25b9",
   "metadata": {
    "ExecuteTime": {
     "end_time": "2023-04-16T16:28:00.855581Z",
     "start_time": "2023-04-16T16:28:00.846385Z"
    }
   },
   "outputs": [
    {
     "data": {
      "text/plain": [
       "0     18\n",
       "1     16\n",
       "2     17\n",
       "3     18\n",
       "4     18\n",
       "5     17\n",
       "6     18\n",
       "7     18\n",
       "8     18\n",
       "9     18\n",
       "10    17\n",
       "11    18\n",
       "12    17\n",
       "13    18\n",
       "14    18\n",
       "15    16\n",
       "16    17\n",
       "17    17\n",
       "18    18\n",
       "19    18\n",
       "dtype: int64"
      ]
     },
     "execution_count": 167,
     "metadata": {},
     "output_type": "execute_result"
    }
   ],
   "source": [
    "df.apply(lambda row: len(str(row.x - row['sum'])), axis=1)"
   ]
  },
  {
   "cell_type": "code",
   "execution_count": 168,
   "id": "0012b11a",
   "metadata": {
    "ExecuteTime": {
     "end_time": "2023-04-16T16:28:00.872321Z",
     "start_time": "2023-04-16T16:28:00.858035Z"
    }
   },
   "outputs": [
    {
     "data": {
      "text/html": [
       "<div>\n",
       "<style scoped>\n",
       "    .dataframe tbody tr th:only-of-type {\n",
       "        vertical-align: middle;\n",
       "    }\n",
       "\n",
       "    .dataframe tbody tr th {\n",
       "        vertical-align: top;\n",
       "    }\n",
       "\n",
       "    .dataframe thead th {\n",
       "        text-align: right;\n",
       "    }\n",
       "</style>\n",
       "<table border=\"1\" class=\"dataframe\">\n",
       "  <thead>\n",
       "    <tr style=\"text-align: right;\">\n",
       "      <th></th>\n",
       "      <th>col_0</th>\n",
       "      <th>col_1</th>\n",
       "      <th>col_2</th>\n",
       "      <th>x</th>\n",
       "      <th>sum</th>\n",
       "      <th>col_0_len</th>\n",
       "      <th>col_1_len</th>\n",
       "    </tr>\n",
       "  </thead>\n",
       "  <tbody>\n",
       "    <tr>\n",
       "      <th>0</th>\n",
       "      <td>17</td>\n",
       "      <td>18</td>\n",
       "      <td>22</td>\n",
       "      <td>1</td>\n",
       "      <td>17</td>\n",
       "      <td>2</td>\n",
       "      <td>2</td>\n",
       "    </tr>\n",
       "    <tr>\n",
       "      <th>1</th>\n",
       "      <td>19</td>\n",
       "      <td>19</td>\n",
       "      <td>18</td>\n",
       "      <td>1</td>\n",
       "      <td>18</td>\n",
       "      <td>2</td>\n",
       "      <td>2</td>\n",
       "    </tr>\n",
       "    <tr>\n",
       "      <th>2</th>\n",
       "      <td>18</td>\n",
       "      <td>19</td>\n",
       "      <td>19</td>\n",
       "      <td>1</td>\n",
       "      <td>18</td>\n",
       "      <td>2</td>\n",
       "      <td>2</td>\n",
       "    </tr>\n",
       "    <tr>\n",
       "      <th>3</th>\n",
       "      <td>17</td>\n",
       "      <td>18</td>\n",
       "      <td>18</td>\n",
       "      <td>1</td>\n",
       "      <td>18</td>\n",
       "      <td>2</td>\n",
       "      <td>2</td>\n",
       "    </tr>\n",
       "    <tr>\n",
       "      <th>4</th>\n",
       "      <td>19</td>\n",
       "      <td>18</td>\n",
       "      <td>20</td>\n",
       "      <td>1</td>\n",
       "      <td>17</td>\n",
       "      <td>2</td>\n",
       "      <td>2</td>\n",
       "    </tr>\n",
       "    <tr>\n",
       "      <th>5</th>\n",
       "      <td>18</td>\n",
       "      <td>19</td>\n",
       "      <td>18</td>\n",
       "      <td>1</td>\n",
       "      <td>17</td>\n",
       "      <td>2</td>\n",
       "      <td>2</td>\n",
       "    </tr>\n",
       "    <tr>\n",
       "      <th>6</th>\n",
       "      <td>19</td>\n",
       "      <td>18</td>\n",
       "      <td>18</td>\n",
       "      <td>1</td>\n",
       "      <td>18</td>\n",
       "      <td>2</td>\n",
       "      <td>2</td>\n",
       "    </tr>\n",
       "    <tr>\n",
       "      <th>7</th>\n",
       "      <td>18</td>\n",
       "      <td>19</td>\n",
       "      <td>18</td>\n",
       "      <td>1</td>\n",
       "      <td>18</td>\n",
       "      <td>2</td>\n",
       "      <td>2</td>\n",
       "    </tr>\n",
       "    <tr>\n",
       "      <th>8</th>\n",
       "      <td>18</td>\n",
       "      <td>18</td>\n",
       "      <td>19</td>\n",
       "      <td>1</td>\n",
       "      <td>18</td>\n",
       "      <td>2</td>\n",
       "      <td>2</td>\n",
       "    </tr>\n",
       "    <tr>\n",
       "      <th>9</th>\n",
       "      <td>19</td>\n",
       "      <td>18</td>\n",
       "      <td>18</td>\n",
       "      <td>1</td>\n",
       "      <td>18</td>\n",
       "      <td>2</td>\n",
       "      <td>2</td>\n",
       "    </tr>\n",
       "    <tr>\n",
       "      <th>10</th>\n",
       "      <td>18</td>\n",
       "      <td>19</td>\n",
       "      <td>18</td>\n",
       "      <td>1</td>\n",
       "      <td>18</td>\n",
       "      <td>2</td>\n",
       "      <td>2</td>\n",
       "    </tr>\n",
       "    <tr>\n",
       "      <th>11</th>\n",
       "      <td>18</td>\n",
       "      <td>18</td>\n",
       "      <td>19</td>\n",
       "      <td>1</td>\n",
       "      <td>18</td>\n",
       "      <td>2</td>\n",
       "      <td>2</td>\n",
       "    </tr>\n",
       "    <tr>\n",
       "      <th>12</th>\n",
       "      <td>18</td>\n",
       "      <td>18</td>\n",
       "      <td>20</td>\n",
       "      <td>1</td>\n",
       "      <td>18</td>\n",
       "      <td>2</td>\n",
       "      <td>2</td>\n",
       "    </tr>\n",
       "    <tr>\n",
       "      <th>13</th>\n",
       "      <td>18</td>\n",
       "      <td>18</td>\n",
       "      <td>18</td>\n",
       "      <td>1</td>\n",
       "      <td>18</td>\n",
       "      <td>2</td>\n",
       "      <td>2</td>\n",
       "    </tr>\n",
       "    <tr>\n",
       "      <th>14</th>\n",
       "      <td>18</td>\n",
       "      <td>18</td>\n",
       "      <td>19</td>\n",
       "      <td>1</td>\n",
       "      <td>18</td>\n",
       "      <td>2</td>\n",
       "      <td>2</td>\n",
       "    </tr>\n",
       "    <tr>\n",
       "      <th>15</th>\n",
       "      <td>19</td>\n",
       "      <td>18</td>\n",
       "      <td>18</td>\n",
       "      <td>1</td>\n",
       "      <td>18</td>\n",
       "      <td>2</td>\n",
       "      <td>2</td>\n",
       "    </tr>\n",
       "    <tr>\n",
       "      <th>16</th>\n",
       "      <td>19</td>\n",
       "      <td>19</td>\n",
       "      <td>20</td>\n",
       "      <td>1</td>\n",
       "      <td>18</td>\n",
       "      <td>2</td>\n",
       "      <td>2</td>\n",
       "    </tr>\n",
       "    <tr>\n",
       "      <th>17</th>\n",
       "      <td>17</td>\n",
       "      <td>19</td>\n",
       "      <td>18</td>\n",
       "      <td>1</td>\n",
       "      <td>18</td>\n",
       "      <td>2</td>\n",
       "      <td>2</td>\n",
       "    </tr>\n",
       "    <tr>\n",
       "      <th>18</th>\n",
       "      <td>18</td>\n",
       "      <td>20</td>\n",
       "      <td>18</td>\n",
       "      <td>1</td>\n",
       "      <td>18</td>\n",
       "      <td>2</td>\n",
       "      <td>2</td>\n",
       "    </tr>\n",
       "    <tr>\n",
       "      <th>19</th>\n",
       "      <td>19</td>\n",
       "      <td>18</td>\n",
       "      <td>18</td>\n",
       "      <td>1</td>\n",
       "      <td>18</td>\n",
       "      <td>2</td>\n",
       "      <td>2</td>\n",
       "    </tr>\n",
       "  </tbody>\n",
       "</table>\n",
       "</div>"
      ],
      "text/plain": [
       "    col_0  col_1  col_2  x  sum  col_0_len  col_1_len\n",
       "0      17     18     22  1   17          2          2\n",
       "1      19     19     18  1   18          2          2\n",
       "2      18     19     19  1   18          2          2\n",
       "3      17     18     18  1   18          2          2\n",
       "4      19     18     20  1   17          2          2\n",
       "5      18     19     18  1   17          2          2\n",
       "6      19     18     18  1   18          2          2\n",
       "7      18     19     18  1   18          2          2\n",
       "8      18     18     19  1   18          2          2\n",
       "9      19     18     18  1   18          2          2\n",
       "10     18     19     18  1   18          2          2\n",
       "11     18     18     19  1   18          2          2\n",
       "12     18     18     20  1   18          2          2\n",
       "13     18     18     18  1   18          2          2\n",
       "14     18     18     19  1   18          2          2\n",
       "15     19     18     18  1   18          2          2\n",
       "16     19     19     20  1   18          2          2\n",
       "17     17     19     18  1   18          2          2\n",
       "18     18     20     18  1   18          2          2\n",
       "19     19     18     18  1   18          2          2"
      ]
     },
     "execution_count": 168,
     "metadata": {},
     "output_type": "execute_result"
    }
   ],
   "source": [
    "df.applymap(lambda x: len(str(x)))  # odpowiednik map() dla obiektu Series()"
   ]
  },
  {
   "cell_type": "markdown",
   "id": "c944f9cd",
   "metadata": {},
   "source": [
    "### Zadanie 5\n",
    "Stwórz ramkę danych zawierającą wszystkie dni roku 2023 wraz z informacją czy dany dzień to święto (niedziele również traktujemy jako święto) i który to dzień tygodnia. Listę świąt pobierz ze strony:\n",
    "\n",
    "https://www.kalendarzswiat.pl/swieta/wolne_od_pracy/2023\n",
    "\n",
    "Ile dni minęło od ostatniego dnia wolnego? (policz dla każdego dnia w roku)"
   ]
  },
  {
   "cell_type": "code",
   "execution_count": 169,
   "id": "7ad06738",
   "metadata": {
    "ExecuteTime": {
     "end_time": "2023-04-16T16:28:01.307614Z",
     "start_time": "2023-04-16T16:28:00.874962Z"
    }
   },
   "outputs": [
    {
     "data": {
      "text/html": [
       "<div>\n",
       "<style scoped>\n",
       "    .dataframe tbody tr th:only-of-type {\n",
       "        vertical-align: middle;\n",
       "    }\n",
       "\n",
       "    .dataframe tbody tr th {\n",
       "        vertical-align: top;\n",
       "    }\n",
       "\n",
       "    .dataframe thead th {\n",
       "        text-align: right;\n",
       "    }\n",
       "</style>\n",
       "<table border=\"1\" class=\"dataframe\">\n",
       "  <thead>\n",
       "    <tr style=\"text-align: right;\">\n",
       "      <th></th>\n",
       "      <th>holiday</th>\n",
       "      <th>name</th>\n",
       "    </tr>\n",
       "  </thead>\n",
       "  <tbody>\n",
       "    <tr>\n",
       "      <th>0</th>\n",
       "      <td>1 stycznia (niedziela)</td>\n",
       "      <td>Nowy Rok, Świętej Bożej Rodzicielki</td>\n",
       "    </tr>\n",
       "    <tr>\n",
       "      <th>1</th>\n",
       "      <td>6 stycznia (piątek)</td>\n",
       "      <td>Trzech Króli (Objawienie Pańskie)</td>\n",
       "    </tr>\n",
       "    <tr>\n",
       "      <th>2</th>\n",
       "      <td>9 kwietnia (niedziela)</td>\n",
       "      <td>Wielkanoc</td>\n",
       "    </tr>\n",
       "    <tr>\n",
       "      <th>3</th>\n",
       "      <td>10 kwietnia (poniedziałek)</td>\n",
       "      <td>Poniedziałek Wielkanocny</td>\n",
       "    </tr>\n",
       "    <tr>\n",
       "      <th>4</th>\n",
       "      <td>1 maja (poniedziałek)</td>\n",
       "      <td>Święto Pracy</td>\n",
       "    </tr>\n",
       "    <tr>\n",
       "      <th>5</th>\n",
       "      <td>3 maja (środa)</td>\n",
       "      <td>Święto Konstytucji 3 Maja</td>\n",
       "    </tr>\n",
       "    <tr>\n",
       "      <th>6</th>\n",
       "      <td>28 maja (niedziela)</td>\n",
       "      <td>Zesłanie Ducha Świętego (Zielone Świątki)</td>\n",
       "    </tr>\n",
       "    <tr>\n",
       "      <th>7</th>\n",
       "      <td>8 czerwca (czwartek)</td>\n",
       "      <td>Boże Ciało</td>\n",
       "    </tr>\n",
       "    <tr>\n",
       "      <th>8</th>\n",
       "      <td>15 sierpnia (wtorek)</td>\n",
       "      <td>Święto Wojska Polskiego, Wniebowzięcie Najświę...</td>\n",
       "    </tr>\n",
       "    <tr>\n",
       "      <th>9</th>\n",
       "      <td>1 listopada (środa)</td>\n",
       "      <td>Wszystkich Świętych</td>\n",
       "    </tr>\n",
       "    <tr>\n",
       "      <th>10</th>\n",
       "      <td>11 listopada (sobota)</td>\n",
       "      <td>Święto Niepodległości</td>\n",
       "    </tr>\n",
       "    <tr>\n",
       "      <th>11</th>\n",
       "      <td>25 grudnia (poniedziałek)</td>\n",
       "      <td>Boże Narodzenie (pierwszy dzień)</td>\n",
       "    </tr>\n",
       "    <tr>\n",
       "      <th>12</th>\n",
       "      <td>26 grudnia (wtorek)</td>\n",
       "      <td>Boże Narodzenie (drugi dzień)</td>\n",
       "    </tr>\n",
       "  </tbody>\n",
       "</table>\n",
       "</div>"
      ],
      "text/plain": [
       "                       holiday  \\\n",
       "0       1 stycznia (niedziela)   \n",
       "1          6 stycznia (piątek)   \n",
       "2       9 kwietnia (niedziela)   \n",
       "3   10 kwietnia (poniedziałek)   \n",
       "4        1 maja (poniedziałek)   \n",
       "5               3 maja (środa)   \n",
       "6          28 maja (niedziela)   \n",
       "7         8 czerwca (czwartek)   \n",
       "8         15 sierpnia (wtorek)   \n",
       "9          1 listopada (środa)   \n",
       "10       11 listopada (sobota)   \n",
       "11   25 grudnia (poniedziałek)   \n",
       "12         26 grudnia (wtorek)   \n",
       "\n",
       "                                                 name  \n",
       "0                 Nowy Rok, Świętej Bożej Rodzicielki  \n",
       "1                   Trzech Króli (Objawienie Pańskie)  \n",
       "2                                           Wielkanoc  \n",
       "3                            Poniedziałek Wielkanocny  \n",
       "4                                        Święto Pracy  \n",
       "5                           Święto Konstytucji 3 Maja  \n",
       "6           Zesłanie Ducha Świętego (Zielone Świątki)  \n",
       "7                                          Boże Ciało  \n",
       "8   Święto Wojska Polskiego, Wniebowzięcie Najświę...  \n",
       "9                                 Wszystkich Świętych  \n",
       "10                              Święto Niepodległości  \n",
       "11                   Boże Narodzenie (pierwszy dzień)  \n",
       "12                      Boże Narodzenie (drugi dzień)  "
      ]
     },
     "execution_count": 169,
     "metadata": {},
     "output_type": "execute_result"
    }
   ],
   "source": [
    "import ssl\n",
    "ssl._create_default_https_context = ssl._create_unverified_context  # potrzebne, jeżeli problem z certyfikatem SSL\n",
    "\n",
    "df = pd.read_html('https://www.kalendarzswiat.pl/swieta/wolne_od_pracy/2023', encoding='utf8')[0]  # tabela 1 z 2\n",
    "# df = pd.read_csv('/mnt/e/DataSciencePRO/bootcamp_2023-04-15/Dane/holidays.csv')\n",
    "df.columns = ['holiday', 'name']\n",
    "df"
   ]
  },
  {
   "cell_type": "code",
   "execution_count": 170,
   "id": "cf9f938c",
   "metadata": {
    "ExecuteTime": {
     "end_time": "2023-04-16T16:28:01.326388Z",
     "start_time": "2023-04-16T16:28:01.310699Z"
    }
   },
   "outputs": [
    {
     "data": {
      "text/html": [
       "<div>\n",
       "<style scoped>\n",
       "    .dataframe tbody tr th:only-of-type {\n",
       "        vertical-align: middle;\n",
       "    }\n",
       "\n",
       "    .dataframe tbody tr th {\n",
       "        vertical-align: top;\n",
       "    }\n",
       "\n",
       "    .dataframe thead th {\n",
       "        text-align: right;\n",
       "    }\n",
       "</style>\n",
       "<table border=\"1\" class=\"dataframe\">\n",
       "  <thead>\n",
       "    <tr style=\"text-align: right;\">\n",
       "      <th></th>\n",
       "      <th>holiday</th>\n",
       "      <th>name</th>\n",
       "      <th>day</th>\n",
       "      <th>month</th>\n",
       "      <th>weekday</th>\n",
       "    </tr>\n",
       "  </thead>\n",
       "  <tbody>\n",
       "    <tr>\n",
       "      <th>0</th>\n",
       "      <td>1 stycznia (niedziela)</td>\n",
       "      <td>Nowy Rok, Świętej Bożej Rodzicielki</td>\n",
       "      <td>1</td>\n",
       "      <td>stycznia</td>\n",
       "      <td>(niedziela)</td>\n",
       "    </tr>\n",
       "    <tr>\n",
       "      <th>1</th>\n",
       "      <td>6 stycznia (piątek)</td>\n",
       "      <td>Trzech Króli (Objawienie Pańskie)</td>\n",
       "      <td>6</td>\n",
       "      <td>stycznia</td>\n",
       "      <td>(piątek)</td>\n",
       "    </tr>\n",
       "    <tr>\n",
       "      <th>2</th>\n",
       "      <td>9 kwietnia (niedziela)</td>\n",
       "      <td>Wielkanoc</td>\n",
       "      <td>9</td>\n",
       "      <td>kwietnia</td>\n",
       "      <td>(niedziela)</td>\n",
       "    </tr>\n",
       "    <tr>\n",
       "      <th>3</th>\n",
       "      <td>10 kwietnia (poniedziałek)</td>\n",
       "      <td>Poniedziałek Wielkanocny</td>\n",
       "      <td>10</td>\n",
       "      <td>kwietnia</td>\n",
       "      <td>(poniedziałek)</td>\n",
       "    </tr>\n",
       "    <tr>\n",
       "      <th>4</th>\n",
       "      <td>1 maja (poniedziałek)</td>\n",
       "      <td>Święto Pracy</td>\n",
       "      <td>1</td>\n",
       "      <td>maja</td>\n",
       "      <td>(poniedziałek)</td>\n",
       "    </tr>\n",
       "    <tr>\n",
       "      <th>5</th>\n",
       "      <td>3 maja (środa)</td>\n",
       "      <td>Święto Konstytucji 3 Maja</td>\n",
       "      <td>3</td>\n",
       "      <td>maja</td>\n",
       "      <td>(środa)</td>\n",
       "    </tr>\n",
       "    <tr>\n",
       "      <th>6</th>\n",
       "      <td>28 maja (niedziela)</td>\n",
       "      <td>Zesłanie Ducha Świętego (Zielone Świątki)</td>\n",
       "      <td>28</td>\n",
       "      <td>maja</td>\n",
       "      <td>(niedziela)</td>\n",
       "    </tr>\n",
       "    <tr>\n",
       "      <th>7</th>\n",
       "      <td>8 czerwca (czwartek)</td>\n",
       "      <td>Boże Ciało</td>\n",
       "      <td>8</td>\n",
       "      <td>czerwca</td>\n",
       "      <td>(czwartek)</td>\n",
       "    </tr>\n",
       "    <tr>\n",
       "      <th>8</th>\n",
       "      <td>15 sierpnia (wtorek)</td>\n",
       "      <td>Święto Wojska Polskiego, Wniebowzięcie Najświę...</td>\n",
       "      <td>15</td>\n",
       "      <td>sierpnia</td>\n",
       "      <td>(wtorek)</td>\n",
       "    </tr>\n",
       "    <tr>\n",
       "      <th>9</th>\n",
       "      <td>1 listopada (środa)</td>\n",
       "      <td>Wszystkich Świętych</td>\n",
       "      <td>1</td>\n",
       "      <td>listopada</td>\n",
       "      <td>(środa)</td>\n",
       "    </tr>\n",
       "    <tr>\n",
       "      <th>10</th>\n",
       "      <td>11 listopada (sobota)</td>\n",
       "      <td>Święto Niepodległości</td>\n",
       "      <td>11</td>\n",
       "      <td>listopada</td>\n",
       "      <td>(sobota)</td>\n",
       "    </tr>\n",
       "    <tr>\n",
       "      <th>11</th>\n",
       "      <td>25 grudnia (poniedziałek)</td>\n",
       "      <td>Boże Narodzenie (pierwszy dzień)</td>\n",
       "      <td>25</td>\n",
       "      <td>grudnia</td>\n",
       "      <td>(poniedziałek)</td>\n",
       "    </tr>\n",
       "    <tr>\n",
       "      <th>12</th>\n",
       "      <td>26 grudnia (wtorek)</td>\n",
       "      <td>Boże Narodzenie (drugi dzień)</td>\n",
       "      <td>26</td>\n",
       "      <td>grudnia</td>\n",
       "      <td>(wtorek)</td>\n",
       "    </tr>\n",
       "  </tbody>\n",
       "</table>\n",
       "</div>"
      ],
      "text/plain": [
       "                       holiday  \\\n",
       "0       1 stycznia (niedziela)   \n",
       "1          6 stycznia (piątek)   \n",
       "2       9 kwietnia (niedziela)   \n",
       "3   10 kwietnia (poniedziałek)   \n",
       "4        1 maja (poniedziałek)   \n",
       "5               3 maja (środa)   \n",
       "6          28 maja (niedziela)   \n",
       "7         8 czerwca (czwartek)   \n",
       "8         15 sierpnia (wtorek)   \n",
       "9          1 listopada (środa)   \n",
       "10       11 listopada (sobota)   \n",
       "11   25 grudnia (poniedziałek)   \n",
       "12         26 grudnia (wtorek)   \n",
       "\n",
       "                                                 name day      month  \\\n",
       "0                 Nowy Rok, Świętej Bożej Rodzicielki   1   stycznia   \n",
       "1                   Trzech Króli (Objawienie Pańskie)   6   stycznia   \n",
       "2                                           Wielkanoc   9   kwietnia   \n",
       "3                            Poniedziałek Wielkanocny  10   kwietnia   \n",
       "4                                        Święto Pracy   1       maja   \n",
       "5                           Święto Konstytucji 3 Maja   3       maja   \n",
       "6           Zesłanie Ducha Świętego (Zielone Świątki)  28       maja   \n",
       "7                                          Boże Ciało   8    czerwca   \n",
       "8   Święto Wojska Polskiego, Wniebowzięcie Najświę...  15   sierpnia   \n",
       "9                                 Wszystkich Świętych   1  listopada   \n",
       "10                              Święto Niepodległości  11  listopada   \n",
       "11                   Boże Narodzenie (pierwszy dzień)  25    grudnia   \n",
       "12                      Boże Narodzenie (drugi dzień)  26    grudnia   \n",
       "\n",
       "           weekday  \n",
       "0      (niedziela)  \n",
       "1         (piątek)  \n",
       "2      (niedziela)  \n",
       "3   (poniedziałek)  \n",
       "4   (poniedziałek)  \n",
       "5          (środa)  \n",
       "6      (niedziela)  \n",
       "7       (czwartek)  \n",
       "8         (wtorek)  \n",
       "9          (środa)  \n",
       "10        (sobota)  \n",
       "11  (poniedziałek)  \n",
       "12        (wtorek)  "
      ]
     },
     "execution_count": 170,
     "metadata": {},
     "output_type": "execute_result"
    }
   ],
   "source": [
    "df[['day', 'month', 'weekday']] = df.apply(lambda x: x.holiday.split(' '), axis=1, result_type='expand')\n",
    "# df['day'] = df.apply(lambda x: x.holiday.split(' ')[0], axis=1)  # analogicznie dla kolejnych pozycji na liście napisów\n",
    "df"
   ]
  },
  {
   "cell_type": "code",
   "execution_count": 171,
   "id": "75ff113d",
   "metadata": {
    "ExecuteTime": {
     "end_time": "2023-04-16T16:28:01.336112Z",
     "start_time": "2023-04-16T16:28:01.329367Z"
    }
   },
   "outputs": [
    {
     "data": {
      "text/plain": [
       "['stycznia', 'kwietnia', 'maja', 'czerwca', 'sierpnia', 'listopada', 'grudnia']"
      ]
     },
     "execution_count": 171,
     "metadata": {},
     "output_type": "execute_result"
    }
   ],
   "source": [
    "list(df.month.drop_duplicates())"
   ]
  },
  {
   "cell_type": "code",
   "execution_count": 172,
   "id": "77f86e03",
   "metadata": {
    "ExecuteTime": {
     "end_time": "2023-04-16T16:28:01.345279Z",
     "start_time": "2023-04-16T16:28:01.338578Z"
    }
   },
   "outputs": [],
   "source": [
    "month_dict = {'stycznia': 1, 'kwietnia': 4, 'maja': 5, 'czerwca': 6, 'sierpnia': 8, 'listopada': 11, 'grudnia': 12}"
   ]
  },
  {
   "cell_type": "code",
   "execution_count": 173,
   "id": "dae2d7b8",
   "metadata": {
    "ExecuteTime": {
     "end_time": "2023-04-16T16:28:01.362260Z",
     "start_time": "2023-04-16T16:28:01.347851Z"
    }
   },
   "outputs": [
    {
     "data": {
      "text/html": [
       "<div>\n",
       "<style scoped>\n",
       "    .dataframe tbody tr th:only-of-type {\n",
       "        vertical-align: middle;\n",
       "    }\n",
       "\n",
       "    .dataframe tbody tr th {\n",
       "        vertical-align: top;\n",
       "    }\n",
       "\n",
       "    .dataframe thead th {\n",
       "        text-align: right;\n",
       "    }\n",
       "</style>\n",
       "<table border=\"1\" class=\"dataframe\">\n",
       "  <thead>\n",
       "    <tr style=\"text-align: right;\">\n",
       "      <th></th>\n",
       "      <th>holiday</th>\n",
       "      <th>name</th>\n",
       "      <th>day</th>\n",
       "      <th>month</th>\n",
       "      <th>weekday</th>\n",
       "      <th>month_no</th>\n",
       "    </tr>\n",
       "  </thead>\n",
       "  <tbody>\n",
       "    <tr>\n",
       "      <th>0</th>\n",
       "      <td>1 stycznia (niedziela)</td>\n",
       "      <td>Nowy Rok, Świętej Bożej Rodzicielki</td>\n",
       "      <td>1</td>\n",
       "      <td>stycznia</td>\n",
       "      <td>(niedziela)</td>\n",
       "      <td>1</td>\n",
       "    </tr>\n",
       "    <tr>\n",
       "      <th>1</th>\n",
       "      <td>6 stycznia (piątek)</td>\n",
       "      <td>Trzech Króli (Objawienie Pańskie)</td>\n",
       "      <td>6</td>\n",
       "      <td>stycznia</td>\n",
       "      <td>(piątek)</td>\n",
       "      <td>1</td>\n",
       "    </tr>\n",
       "    <tr>\n",
       "      <th>2</th>\n",
       "      <td>9 kwietnia (niedziela)</td>\n",
       "      <td>Wielkanoc</td>\n",
       "      <td>9</td>\n",
       "      <td>kwietnia</td>\n",
       "      <td>(niedziela)</td>\n",
       "      <td>4</td>\n",
       "    </tr>\n",
       "    <tr>\n",
       "      <th>3</th>\n",
       "      <td>10 kwietnia (poniedziałek)</td>\n",
       "      <td>Poniedziałek Wielkanocny</td>\n",
       "      <td>10</td>\n",
       "      <td>kwietnia</td>\n",
       "      <td>(poniedziałek)</td>\n",
       "      <td>4</td>\n",
       "    </tr>\n",
       "    <tr>\n",
       "      <th>4</th>\n",
       "      <td>1 maja (poniedziałek)</td>\n",
       "      <td>Święto Pracy</td>\n",
       "      <td>1</td>\n",
       "      <td>maja</td>\n",
       "      <td>(poniedziałek)</td>\n",
       "      <td>5</td>\n",
       "    </tr>\n",
       "    <tr>\n",
       "      <th>5</th>\n",
       "      <td>3 maja (środa)</td>\n",
       "      <td>Święto Konstytucji 3 Maja</td>\n",
       "      <td>3</td>\n",
       "      <td>maja</td>\n",
       "      <td>(środa)</td>\n",
       "      <td>5</td>\n",
       "    </tr>\n",
       "    <tr>\n",
       "      <th>6</th>\n",
       "      <td>28 maja (niedziela)</td>\n",
       "      <td>Zesłanie Ducha Świętego (Zielone Świątki)</td>\n",
       "      <td>28</td>\n",
       "      <td>maja</td>\n",
       "      <td>(niedziela)</td>\n",
       "      <td>5</td>\n",
       "    </tr>\n",
       "    <tr>\n",
       "      <th>7</th>\n",
       "      <td>8 czerwca (czwartek)</td>\n",
       "      <td>Boże Ciało</td>\n",
       "      <td>8</td>\n",
       "      <td>czerwca</td>\n",
       "      <td>(czwartek)</td>\n",
       "      <td>6</td>\n",
       "    </tr>\n",
       "    <tr>\n",
       "      <th>8</th>\n",
       "      <td>15 sierpnia (wtorek)</td>\n",
       "      <td>Święto Wojska Polskiego, Wniebowzięcie Najświę...</td>\n",
       "      <td>15</td>\n",
       "      <td>sierpnia</td>\n",
       "      <td>(wtorek)</td>\n",
       "      <td>8</td>\n",
       "    </tr>\n",
       "    <tr>\n",
       "      <th>9</th>\n",
       "      <td>1 listopada (środa)</td>\n",
       "      <td>Wszystkich Świętych</td>\n",
       "      <td>1</td>\n",
       "      <td>listopada</td>\n",
       "      <td>(środa)</td>\n",
       "      <td>11</td>\n",
       "    </tr>\n",
       "    <tr>\n",
       "      <th>10</th>\n",
       "      <td>11 listopada (sobota)</td>\n",
       "      <td>Święto Niepodległości</td>\n",
       "      <td>11</td>\n",
       "      <td>listopada</td>\n",
       "      <td>(sobota)</td>\n",
       "      <td>11</td>\n",
       "    </tr>\n",
       "    <tr>\n",
       "      <th>11</th>\n",
       "      <td>25 grudnia (poniedziałek)</td>\n",
       "      <td>Boże Narodzenie (pierwszy dzień)</td>\n",
       "      <td>25</td>\n",
       "      <td>grudnia</td>\n",
       "      <td>(poniedziałek)</td>\n",
       "      <td>12</td>\n",
       "    </tr>\n",
       "    <tr>\n",
       "      <th>12</th>\n",
       "      <td>26 grudnia (wtorek)</td>\n",
       "      <td>Boże Narodzenie (drugi dzień)</td>\n",
       "      <td>26</td>\n",
       "      <td>grudnia</td>\n",
       "      <td>(wtorek)</td>\n",
       "      <td>12</td>\n",
       "    </tr>\n",
       "  </tbody>\n",
       "</table>\n",
       "</div>"
      ],
      "text/plain": [
       "                       holiday  \\\n",
       "0       1 stycznia (niedziela)   \n",
       "1          6 stycznia (piątek)   \n",
       "2       9 kwietnia (niedziela)   \n",
       "3   10 kwietnia (poniedziałek)   \n",
       "4        1 maja (poniedziałek)   \n",
       "5               3 maja (środa)   \n",
       "6          28 maja (niedziela)   \n",
       "7         8 czerwca (czwartek)   \n",
       "8         15 sierpnia (wtorek)   \n",
       "9          1 listopada (środa)   \n",
       "10       11 listopada (sobota)   \n",
       "11   25 grudnia (poniedziałek)   \n",
       "12         26 grudnia (wtorek)   \n",
       "\n",
       "                                                 name day      month  \\\n",
       "0                 Nowy Rok, Świętej Bożej Rodzicielki   1   stycznia   \n",
       "1                   Trzech Króli (Objawienie Pańskie)   6   stycznia   \n",
       "2                                           Wielkanoc   9   kwietnia   \n",
       "3                            Poniedziałek Wielkanocny  10   kwietnia   \n",
       "4                                        Święto Pracy   1       maja   \n",
       "5                           Święto Konstytucji 3 Maja   3       maja   \n",
       "6           Zesłanie Ducha Świętego (Zielone Świątki)  28       maja   \n",
       "7                                          Boże Ciało   8    czerwca   \n",
       "8   Święto Wojska Polskiego, Wniebowzięcie Najświę...  15   sierpnia   \n",
       "9                                 Wszystkich Świętych   1  listopada   \n",
       "10                              Święto Niepodległości  11  listopada   \n",
       "11                   Boże Narodzenie (pierwszy dzień)  25    grudnia   \n",
       "12                      Boże Narodzenie (drugi dzień)  26    grudnia   \n",
       "\n",
       "           weekday  month_no  \n",
       "0      (niedziela)         1  \n",
       "1         (piątek)         1  \n",
       "2      (niedziela)         4  \n",
       "3   (poniedziałek)         4  \n",
       "4   (poniedziałek)         5  \n",
       "5          (środa)         5  \n",
       "6      (niedziela)         5  \n",
       "7       (czwartek)         6  \n",
       "8         (wtorek)         8  \n",
       "9          (środa)        11  \n",
       "10        (sobota)        11  \n",
       "11  (poniedziałek)        12  \n",
       "12        (wtorek)        12  "
      ]
     },
     "execution_count": 173,
     "metadata": {},
     "output_type": "execute_result"
    }
   ],
   "source": [
    "df['month_no'] = df.month.map(month_dict)\n",
    "df"
   ]
  },
  {
   "cell_type": "code",
   "execution_count": 174,
   "id": "bae9fa24",
   "metadata": {
    "ExecuteTime": {
     "end_time": "2023-04-16T16:28:01.377398Z",
     "start_time": "2023-04-16T16:28:01.364778Z"
    }
   },
   "outputs": [
    {
     "data": {
      "text/html": [
       "<div>\n",
       "<style scoped>\n",
       "    .dataframe tbody tr th:only-of-type {\n",
       "        vertical-align: middle;\n",
       "    }\n",
       "\n",
       "    .dataframe tbody tr th {\n",
       "        vertical-align: top;\n",
       "    }\n",
       "\n",
       "    .dataframe thead th {\n",
       "        text-align: right;\n",
       "    }\n",
       "</style>\n",
       "<table border=\"1\" class=\"dataframe\">\n",
       "  <thead>\n",
       "    <tr style=\"text-align: right;\">\n",
       "      <th></th>\n",
       "      <th>holiday</th>\n",
       "      <th>date</th>\n",
       "    </tr>\n",
       "  </thead>\n",
       "  <tbody>\n",
       "    <tr>\n",
       "      <th>0</th>\n",
       "      <td>1 stycznia (niedziela)</td>\n",
       "      <td>2023-01-01</td>\n",
       "    </tr>\n",
       "    <tr>\n",
       "      <th>1</th>\n",
       "      <td>6 stycznia (piątek)</td>\n",
       "      <td>2023-01-06</td>\n",
       "    </tr>\n",
       "    <tr>\n",
       "      <th>2</th>\n",
       "      <td>9 kwietnia (niedziela)</td>\n",
       "      <td>2023-04-09</td>\n",
       "    </tr>\n",
       "    <tr>\n",
       "      <th>3</th>\n",
       "      <td>10 kwietnia (poniedziałek)</td>\n",
       "      <td>2023-04-10</td>\n",
       "    </tr>\n",
       "    <tr>\n",
       "      <th>4</th>\n",
       "      <td>1 maja (poniedziałek)</td>\n",
       "      <td>2023-05-01</td>\n",
       "    </tr>\n",
       "    <tr>\n",
       "      <th>5</th>\n",
       "      <td>3 maja (środa)</td>\n",
       "      <td>2023-05-03</td>\n",
       "    </tr>\n",
       "    <tr>\n",
       "      <th>6</th>\n",
       "      <td>28 maja (niedziela)</td>\n",
       "      <td>2023-05-28</td>\n",
       "    </tr>\n",
       "    <tr>\n",
       "      <th>7</th>\n",
       "      <td>8 czerwca (czwartek)</td>\n",
       "      <td>2023-06-08</td>\n",
       "    </tr>\n",
       "    <tr>\n",
       "      <th>8</th>\n",
       "      <td>15 sierpnia (wtorek)</td>\n",
       "      <td>2023-08-15</td>\n",
       "    </tr>\n",
       "    <tr>\n",
       "      <th>9</th>\n",
       "      <td>1 listopada (środa)</td>\n",
       "      <td>2023-11-01</td>\n",
       "    </tr>\n",
       "    <tr>\n",
       "      <th>10</th>\n",
       "      <td>11 listopada (sobota)</td>\n",
       "      <td>2023-11-11</td>\n",
       "    </tr>\n",
       "    <tr>\n",
       "      <th>11</th>\n",
       "      <td>25 grudnia (poniedziałek)</td>\n",
       "      <td>2023-12-25</td>\n",
       "    </tr>\n",
       "    <tr>\n",
       "      <th>12</th>\n",
       "      <td>26 grudnia (wtorek)</td>\n",
       "      <td>2023-12-26</td>\n",
       "    </tr>\n",
       "  </tbody>\n",
       "</table>\n",
       "</div>"
      ],
      "text/plain": [
       "                       holiday       date\n",
       "0       1 stycznia (niedziela) 2023-01-01\n",
       "1          6 stycznia (piątek) 2023-01-06\n",
       "2       9 kwietnia (niedziela) 2023-04-09\n",
       "3   10 kwietnia (poniedziałek) 2023-04-10\n",
       "4        1 maja (poniedziałek) 2023-05-01\n",
       "5               3 maja (środa) 2023-05-03\n",
       "6          28 maja (niedziela) 2023-05-28\n",
       "7         8 czerwca (czwartek) 2023-06-08\n",
       "8         15 sierpnia (wtorek) 2023-08-15\n",
       "9          1 listopada (środa) 2023-11-01\n",
       "10       11 listopada (sobota) 2023-11-11\n",
       "11   25 grudnia (poniedziałek) 2023-12-25\n",
       "12         26 grudnia (wtorek) 2023-12-26"
      ]
     },
     "execution_count": 174,
     "metadata": {},
     "output_type": "execute_result"
    }
   ],
   "source": [
    "df['date'] = df.apply(lambda x: pd.Timestamp(day=int(x.day), month=x.month_no, year=2023), axis=1)\n",
    "df[['holiday', 'date']]"
   ]
  },
  {
   "cell_type": "code",
   "execution_count": 175,
   "id": "3b85a198",
   "metadata": {
    "ExecuteTime": {
     "end_time": "2023-04-16T16:28:01.390884Z",
     "start_time": "2023-04-16T16:28:01.381003Z"
    }
   },
   "outputs": [
    {
     "data": {
      "text/html": [
       "<div>\n",
       "<style scoped>\n",
       "    .dataframe tbody tr th:only-of-type {\n",
       "        vertical-align: middle;\n",
       "    }\n",
       "\n",
       "    .dataframe tbody tr th {\n",
       "        vertical-align: top;\n",
       "    }\n",
       "\n",
       "    .dataframe thead th {\n",
       "        text-align: right;\n",
       "    }\n",
       "</style>\n",
       "<table border=\"1\" class=\"dataframe\">\n",
       "  <thead>\n",
       "    <tr style=\"text-align: right;\">\n",
       "      <th></th>\n",
       "      <th>day</th>\n",
       "    </tr>\n",
       "  </thead>\n",
       "  <tbody>\n",
       "    <tr>\n",
       "      <th>0</th>\n",
       "      <td>2023-01-01</td>\n",
       "    </tr>\n",
       "    <tr>\n",
       "      <th>1</th>\n",
       "      <td>2023-01-02</td>\n",
       "    </tr>\n",
       "    <tr>\n",
       "      <th>2</th>\n",
       "      <td>2023-01-03</td>\n",
       "    </tr>\n",
       "    <tr>\n",
       "      <th>3</th>\n",
       "      <td>2023-01-04</td>\n",
       "    </tr>\n",
       "    <tr>\n",
       "      <th>4</th>\n",
       "      <td>2023-01-05</td>\n",
       "    </tr>\n",
       "  </tbody>\n",
       "</table>\n",
       "</div>"
      ],
      "text/plain": [
       "         day\n",
       "0 2023-01-01\n",
       "1 2023-01-02\n",
       "2 2023-01-03\n",
       "3 2023-01-04\n",
       "4 2023-01-05"
      ]
     },
     "execution_count": 175,
     "metadata": {},
     "output_type": "execute_result"
    }
   ],
   "source": [
    "days_df = pd.DataFrame(pd.date_range('2023-01-01', '2023-12-31'), columns=['day'])\n",
    "days_df.head()"
   ]
  },
  {
   "cell_type": "code",
   "execution_count": 176,
   "id": "cf59de4c",
   "metadata": {
    "ExecuteTime": {
     "end_time": "2023-04-16T16:28:01.407712Z",
     "start_time": "2023-04-16T16:28:01.394069Z"
    }
   },
   "outputs": [
    {
     "data": {
      "text/html": [
       "<div>\n",
       "<style scoped>\n",
       "    .dataframe tbody tr th:only-of-type {\n",
       "        vertical-align: middle;\n",
       "    }\n",
       "\n",
       "    .dataframe tbody tr th {\n",
       "        vertical-align: top;\n",
       "    }\n",
       "\n",
       "    .dataframe thead th {\n",
       "        text-align: right;\n",
       "    }\n",
       "</style>\n",
       "<table border=\"1\" class=\"dataframe\">\n",
       "  <thead>\n",
       "    <tr style=\"text-align: right;\">\n",
       "      <th></th>\n",
       "      <th>day</th>\n",
       "      <th>is_holiday</th>\n",
       "    </tr>\n",
       "  </thead>\n",
       "  <tbody>\n",
       "    <tr>\n",
       "      <th>0</th>\n",
       "      <td>2023-01-01</td>\n",
       "      <td>1</td>\n",
       "    </tr>\n",
       "    <tr>\n",
       "      <th>1</th>\n",
       "      <td>2023-01-08</td>\n",
       "      <td>1</td>\n",
       "    </tr>\n",
       "    <tr>\n",
       "      <th>2</th>\n",
       "      <td>2023-01-15</td>\n",
       "      <td>1</td>\n",
       "    </tr>\n",
       "    <tr>\n",
       "      <th>3</th>\n",
       "      <td>2023-01-22</td>\n",
       "      <td>1</td>\n",
       "    </tr>\n",
       "    <tr>\n",
       "      <th>4</th>\n",
       "      <td>2023-01-29</td>\n",
       "      <td>1</td>\n",
       "    </tr>\n",
       "    <tr>\n",
       "      <th>...</th>\n",
       "      <td>...</td>\n",
       "      <td>...</td>\n",
       "    </tr>\n",
       "    <tr>\n",
       "      <th>58</th>\n",
       "      <td>2023-08-15</td>\n",
       "      <td>1</td>\n",
       "    </tr>\n",
       "    <tr>\n",
       "      <th>59</th>\n",
       "      <td>2023-11-01</td>\n",
       "      <td>1</td>\n",
       "    </tr>\n",
       "    <tr>\n",
       "      <th>60</th>\n",
       "      <td>2023-11-11</td>\n",
       "      <td>1</td>\n",
       "    </tr>\n",
       "    <tr>\n",
       "      <th>61</th>\n",
       "      <td>2023-12-25</td>\n",
       "      <td>1</td>\n",
       "    </tr>\n",
       "    <tr>\n",
       "      <th>62</th>\n",
       "      <td>2023-12-26</td>\n",
       "      <td>1</td>\n",
       "    </tr>\n",
       "  </tbody>\n",
       "</table>\n",
       "<p>63 rows × 2 columns</p>\n",
       "</div>"
      ],
      "text/plain": [
       "          day  is_holiday\n",
       "0  2023-01-01           1\n",
       "1  2023-01-08           1\n",
       "2  2023-01-15           1\n",
       "3  2023-01-22           1\n",
       "4  2023-01-29           1\n",
       "..        ...         ...\n",
       "58 2023-08-15           1\n",
       "59 2023-11-01           1\n",
       "60 2023-11-11           1\n",
       "61 2023-12-25           1\n",
       "62 2023-12-26           1\n",
       "\n",
       "[63 rows x 2 columns]"
      ]
     },
     "execution_count": 176,
     "metadata": {},
     "output_type": "execute_result"
    }
   ],
   "source": [
    "holiday_df = pd.DataFrame(list(pd.date_range('2023-01-01', '2023-12-31', freq='W-SUN')) + df.date.to_list(),\\\n",
    "                          columns=['day']).drop_duplicates().reset_index(drop=True)\n",
    "holiday_df['is_holiday'] = 1\n",
    "holiday_df"
   ]
  },
  {
   "cell_type": "code",
   "execution_count": 177,
   "id": "fca6d649",
   "metadata": {
    "ExecuteTime": {
     "end_time": "2023-04-16T16:28:01.428111Z",
     "start_time": "2023-04-16T16:28:01.410882Z"
    }
   },
   "outputs": [
    {
     "data": {
      "text/html": [
       "<div>\n",
       "<style scoped>\n",
       "    .dataframe tbody tr th:only-of-type {\n",
       "        vertical-align: middle;\n",
       "    }\n",
       "\n",
       "    .dataframe tbody tr th {\n",
       "        vertical-align: top;\n",
       "    }\n",
       "\n",
       "    .dataframe thead th {\n",
       "        text-align: right;\n",
       "    }\n",
       "</style>\n",
       "<table border=\"1\" class=\"dataframe\">\n",
       "  <thead>\n",
       "    <tr style=\"text-align: right;\">\n",
       "      <th></th>\n",
       "      <th>day</th>\n",
       "      <th>is_holiday</th>\n",
       "      <th>weekday</th>\n",
       "    </tr>\n",
       "  </thead>\n",
       "  <tbody>\n",
       "    <tr>\n",
       "      <th>0</th>\n",
       "      <td>2023-01-01</td>\n",
       "      <td>1.0</td>\n",
       "      <td>7</td>\n",
       "    </tr>\n",
       "    <tr>\n",
       "      <th>1</th>\n",
       "      <td>2023-01-02</td>\n",
       "      <td>0.0</td>\n",
       "      <td>1</td>\n",
       "    </tr>\n",
       "    <tr>\n",
       "      <th>2</th>\n",
       "      <td>2023-01-03</td>\n",
       "      <td>0.0</td>\n",
       "      <td>2</td>\n",
       "    </tr>\n",
       "    <tr>\n",
       "      <th>3</th>\n",
       "      <td>2023-01-04</td>\n",
       "      <td>0.0</td>\n",
       "      <td>3</td>\n",
       "    </tr>\n",
       "    <tr>\n",
       "      <th>4</th>\n",
       "      <td>2023-01-05</td>\n",
       "      <td>0.0</td>\n",
       "      <td>4</td>\n",
       "    </tr>\n",
       "    <tr>\n",
       "      <th>...</th>\n",
       "      <td>...</td>\n",
       "      <td>...</td>\n",
       "      <td>...</td>\n",
       "    </tr>\n",
       "    <tr>\n",
       "      <th>360</th>\n",
       "      <td>2023-12-27</td>\n",
       "      <td>0.0</td>\n",
       "      <td>3</td>\n",
       "    </tr>\n",
       "    <tr>\n",
       "      <th>361</th>\n",
       "      <td>2023-12-28</td>\n",
       "      <td>0.0</td>\n",
       "      <td>4</td>\n",
       "    </tr>\n",
       "    <tr>\n",
       "      <th>362</th>\n",
       "      <td>2023-12-29</td>\n",
       "      <td>0.0</td>\n",
       "      <td>5</td>\n",
       "    </tr>\n",
       "    <tr>\n",
       "      <th>363</th>\n",
       "      <td>2023-12-30</td>\n",
       "      <td>0.0</td>\n",
       "      <td>6</td>\n",
       "    </tr>\n",
       "    <tr>\n",
       "      <th>364</th>\n",
       "      <td>2023-12-31</td>\n",
       "      <td>1.0</td>\n",
       "      <td>7</td>\n",
       "    </tr>\n",
       "  </tbody>\n",
       "</table>\n",
       "<p>365 rows × 3 columns</p>\n",
       "</div>"
      ],
      "text/plain": [
       "           day  is_holiday  weekday\n",
       "0   2023-01-01         1.0        7\n",
       "1   2023-01-02         0.0        1\n",
       "2   2023-01-03         0.0        2\n",
       "3   2023-01-04         0.0        3\n",
       "4   2023-01-05         0.0        4\n",
       "..         ...         ...      ...\n",
       "360 2023-12-27         0.0        3\n",
       "361 2023-12-28         0.0        4\n",
       "362 2023-12-29         0.0        5\n",
       "363 2023-12-30         0.0        6\n",
       "364 2023-12-31         1.0        7\n",
       "\n",
       "[365 rows x 3 columns]"
      ]
     },
     "execution_count": 177,
     "metadata": {},
     "output_type": "execute_result"
    }
   ],
   "source": [
    "res_df = days_df.merge(holiday_df, on='day', how='left').fillna(0)\n",
    "res_df['weekday'] = res_df.day.dt.weekday + 1  # dt.weekday zwraca dzień tygodnia od 0 (pon.) do 6 (nd.)\n",
    "res_df"
   ]
  },
  {
   "cell_type": "code",
   "execution_count": 178,
   "id": "5a848840",
   "metadata": {
    "ExecuteTime": {
     "end_time": "2023-04-16T16:28:01.496577Z",
     "start_time": "2023-04-16T16:28:01.431401Z"
    }
   },
   "outputs": [
    {
     "data": {
      "text/html": [
       "<div>\n",
       "<style scoped>\n",
       "    .dataframe tbody tr th:only-of-type {\n",
       "        vertical-align: middle;\n",
       "    }\n",
       "\n",
       "    .dataframe tbody tr th {\n",
       "        vertical-align: top;\n",
       "    }\n",
       "\n",
       "    .dataframe thead th {\n",
       "        text-align: right;\n",
       "    }\n",
       "</style>\n",
       "<table border=\"1\" class=\"dataframe\">\n",
       "  <thead>\n",
       "    <tr style=\"text-align: right;\">\n",
       "      <th></th>\n",
       "      <th>day</th>\n",
       "      <th>is_holiday</th>\n",
       "      <th>weekday</th>\n",
       "      <th>days_from_last_holiday</th>\n",
       "    </tr>\n",
       "  </thead>\n",
       "  <tbody>\n",
       "    <tr>\n",
       "      <th>0</th>\n",
       "      <td>2023-01-01</td>\n",
       "      <td>1.0</td>\n",
       "      <td>7</td>\n",
       "      <td>0.0</td>\n",
       "    </tr>\n",
       "    <tr>\n",
       "      <th>1</th>\n",
       "      <td>2023-01-02</td>\n",
       "      <td>0.0</td>\n",
       "      <td>1</td>\n",
       "      <td>1.0</td>\n",
       "    </tr>\n",
       "    <tr>\n",
       "      <th>2</th>\n",
       "      <td>2023-01-03</td>\n",
       "      <td>0.0</td>\n",
       "      <td>2</td>\n",
       "      <td>2.0</td>\n",
       "    </tr>\n",
       "    <tr>\n",
       "      <th>3</th>\n",
       "      <td>2023-01-04</td>\n",
       "      <td>0.0</td>\n",
       "      <td>3</td>\n",
       "      <td>3.0</td>\n",
       "    </tr>\n",
       "    <tr>\n",
       "      <th>4</th>\n",
       "      <td>2023-01-05</td>\n",
       "      <td>0.0</td>\n",
       "      <td>4</td>\n",
       "      <td>4.0</td>\n",
       "    </tr>\n",
       "    <tr>\n",
       "      <th>...</th>\n",
       "      <td>...</td>\n",
       "      <td>...</td>\n",
       "      <td>...</td>\n",
       "      <td>...</td>\n",
       "    </tr>\n",
       "    <tr>\n",
       "      <th>360</th>\n",
       "      <td>2023-12-27</td>\n",
       "      <td>0.0</td>\n",
       "      <td>3</td>\n",
       "      <td>1.0</td>\n",
       "    </tr>\n",
       "    <tr>\n",
       "      <th>361</th>\n",
       "      <td>2023-12-28</td>\n",
       "      <td>0.0</td>\n",
       "      <td>4</td>\n",
       "      <td>2.0</td>\n",
       "    </tr>\n",
       "    <tr>\n",
       "      <th>362</th>\n",
       "      <td>2023-12-29</td>\n",
       "      <td>0.0</td>\n",
       "      <td>5</td>\n",
       "      <td>3.0</td>\n",
       "    </tr>\n",
       "    <tr>\n",
       "      <th>363</th>\n",
       "      <td>2023-12-30</td>\n",
       "      <td>0.0</td>\n",
       "      <td>6</td>\n",
       "      <td>4.0</td>\n",
       "    </tr>\n",
       "    <tr>\n",
       "      <th>364</th>\n",
       "      <td>2023-12-31</td>\n",
       "      <td>1.0</td>\n",
       "      <td>7</td>\n",
       "      <td>0.0</td>\n",
       "    </tr>\n",
       "  </tbody>\n",
       "</table>\n",
       "<p>365 rows × 4 columns</p>\n",
       "</div>"
      ],
      "text/plain": [
       "           day  is_holiday  weekday  days_from_last_holiday\n",
       "0   2023-01-01         1.0        7                     0.0\n",
       "1   2023-01-02         0.0        1                     1.0\n",
       "2   2023-01-03         0.0        2                     2.0\n",
       "3   2023-01-04         0.0        3                     3.0\n",
       "4   2023-01-05         0.0        4                     4.0\n",
       "..         ...         ...      ...                     ...\n",
       "360 2023-12-27         0.0        3                     1.0\n",
       "361 2023-12-28         0.0        4                     2.0\n",
       "362 2023-12-29         0.0        5                     3.0\n",
       "363 2023-12-30         0.0        6                     4.0\n",
       "364 2023-12-31         1.0        7                     0.0\n",
       "\n",
       "[365 rows x 4 columns]"
      ]
     },
     "execution_count": 178,
     "metadata": {},
     "output_type": "execute_result"
    }
   ],
   "source": [
    "for idx, row in res_df.iterrows():\n",
    "    \n",
    "    if row['is_holiday'] == 1:\n",
    "        days_from_last_holiday = 0\n",
    "    else:\n",
    "        days_from_last_holiday += 1\n",
    "    \n",
    "    res_df.loc[idx, 'days_from_last_holiday'] = days_from_last_holiday\n",
    "\n",
    "# res_df.isna().sum()\n",
    "res_df"
   ]
  },
  {
   "cell_type": "code",
   "execution_count": 179,
   "id": "60383eba",
   "metadata": {
    "ExecuteTime": {
     "end_time": "2023-04-16T16:28:01.506229Z",
     "start_time": "2023-04-16T16:28:01.500368Z"
    }
   },
   "outputs": [
    {
     "data": {
      "text/plain": [
       "29"
      ]
     },
     "execution_count": 179,
     "metadata": {},
     "output_type": "execute_result"
    }
   ],
   "source": [
    "# drugi sposób:\n",
    "x = pd.Timestamp('2023-01-30')\n",
    "h = pd.Timestamp('2023-01-01')\n",
    "(x - h).days"
   ]
  },
  {
   "cell_type": "code",
   "execution_count": 180,
   "id": "8898947f",
   "metadata": {
    "ExecuteTime": {
     "end_time": "2023-04-16T16:28:01.514771Z",
     "start_time": "2023-04-16T16:28:01.509094Z"
    }
   },
   "outputs": [],
   "source": [
    "def days_from_last_holiday(x, holiday_list):  # minimalna odległość dnia od następnego święta\n",
    "    return min([(x - h).days for h in holiday_df.day if h <= x])"
   ]
  },
  {
   "cell_type": "code",
   "execution_count": 181,
   "id": "ed2746eb",
   "metadata": {
    "ExecuteTime": {
     "end_time": "2023-04-16T16:28:01.576801Z",
     "start_time": "2023-04-16T16:28:01.517619Z"
    }
   },
   "outputs": [
    {
     "data": {
      "text/html": [
       "<div>\n",
       "<style scoped>\n",
       "    .dataframe tbody tr th:only-of-type {\n",
       "        vertical-align: middle;\n",
       "    }\n",
       "\n",
       "    .dataframe tbody tr th {\n",
       "        vertical-align: top;\n",
       "    }\n",
       "\n",
       "    .dataframe thead th {\n",
       "        text-align: right;\n",
       "    }\n",
       "</style>\n",
       "<table border=\"1\" class=\"dataframe\">\n",
       "  <thead>\n",
       "    <tr style=\"text-align: right;\">\n",
       "      <th></th>\n",
       "      <th>day</th>\n",
       "      <th>is_holiday</th>\n",
       "      <th>weekday</th>\n",
       "      <th>days_from_last_holiday</th>\n",
       "    </tr>\n",
       "  </thead>\n",
       "  <tbody>\n",
       "    <tr>\n",
       "      <th>0</th>\n",
       "      <td>2023-01-01</td>\n",
       "      <td>1.0</td>\n",
       "      <td>7</td>\n",
       "      <td>0</td>\n",
       "    </tr>\n",
       "    <tr>\n",
       "      <th>1</th>\n",
       "      <td>2023-01-02</td>\n",
       "      <td>0.0</td>\n",
       "      <td>1</td>\n",
       "      <td>1</td>\n",
       "    </tr>\n",
       "    <tr>\n",
       "      <th>2</th>\n",
       "      <td>2023-01-03</td>\n",
       "      <td>0.0</td>\n",
       "      <td>2</td>\n",
       "      <td>2</td>\n",
       "    </tr>\n",
       "    <tr>\n",
       "      <th>3</th>\n",
       "      <td>2023-01-04</td>\n",
       "      <td>0.0</td>\n",
       "      <td>3</td>\n",
       "      <td>3</td>\n",
       "    </tr>\n",
       "    <tr>\n",
       "      <th>4</th>\n",
       "      <td>2023-01-05</td>\n",
       "      <td>0.0</td>\n",
       "      <td>4</td>\n",
       "      <td>4</td>\n",
       "    </tr>\n",
       "    <tr>\n",
       "      <th>...</th>\n",
       "      <td>...</td>\n",
       "      <td>...</td>\n",
       "      <td>...</td>\n",
       "      <td>...</td>\n",
       "    </tr>\n",
       "    <tr>\n",
       "      <th>360</th>\n",
       "      <td>2023-12-27</td>\n",
       "      <td>0.0</td>\n",
       "      <td>3</td>\n",
       "      <td>1</td>\n",
       "    </tr>\n",
       "    <tr>\n",
       "      <th>361</th>\n",
       "      <td>2023-12-28</td>\n",
       "      <td>0.0</td>\n",
       "      <td>4</td>\n",
       "      <td>2</td>\n",
       "    </tr>\n",
       "    <tr>\n",
       "      <th>362</th>\n",
       "      <td>2023-12-29</td>\n",
       "      <td>0.0</td>\n",
       "      <td>5</td>\n",
       "      <td>3</td>\n",
       "    </tr>\n",
       "    <tr>\n",
       "      <th>363</th>\n",
       "      <td>2023-12-30</td>\n",
       "      <td>0.0</td>\n",
       "      <td>6</td>\n",
       "      <td>4</td>\n",
       "    </tr>\n",
       "    <tr>\n",
       "      <th>364</th>\n",
       "      <td>2023-12-31</td>\n",
       "      <td>1.0</td>\n",
       "      <td>7</td>\n",
       "      <td>0</td>\n",
       "    </tr>\n",
       "  </tbody>\n",
       "</table>\n",
       "<p>365 rows × 4 columns</p>\n",
       "</div>"
      ],
      "text/plain": [
       "           day  is_holiday  weekday  days_from_last_holiday\n",
       "0   2023-01-01         1.0        7                       0\n",
       "1   2023-01-02         0.0        1                       1\n",
       "2   2023-01-03         0.0        2                       2\n",
       "3   2023-01-04         0.0        3                       3\n",
       "4   2023-01-05         0.0        4                       4\n",
       "..         ...         ...      ...                     ...\n",
       "360 2023-12-27         0.0        3                       1\n",
       "361 2023-12-28         0.0        4                       2\n",
       "362 2023-12-29         0.0        5                       3\n",
       "363 2023-12-30         0.0        6                       4\n",
       "364 2023-12-31         1.0        7                       0\n",
       "\n",
       "[365 rows x 4 columns]"
      ]
     },
     "execution_count": 181,
     "metadata": {},
     "output_type": "execute_result"
    }
   ],
   "source": [
    "holiday_list = holiday_df.day  # Timestamp() zawierający listę świąt\n",
    "res_df['days_from_last_holiday'] = res_df.day.apply(lambda x: days_from_last_holiday(x, holiday_list))\n",
    "res_df"
   ]
  }
 ],
 "metadata": {
  "hide_input": false,
  "kernelspec": {
   "display_name": "Python 3 (ipykernel)",
   "language": "python",
   "name": "python3"
  },
  "language_info": {
   "codemirror_mode": {
    "name": "ipython",
    "version": 3
   },
   "file_extension": ".py",
   "mimetype": "text/x-python",
   "name": "python",
   "nbconvert_exporter": "python",
   "pygments_lexer": "ipython3",
   "version": "3.10.6"
  },
  "toc": {
   "base_numbering": 1,
   "nav_menu": {},
   "number_sections": true,
   "sideBar": true,
   "skip_h1_title": true,
   "title_cell": "Table of Contents",
   "title_sidebar": "Contents",
   "toc_cell": false,
   "toc_position": {},
   "toc_section_display": true,
   "toc_window_display": false
  },
  "varInspector": {
   "cols": {
    "lenName": 16,
    "lenType": 16,
    "lenVar": 40
   },
   "kernels_config": {
    "python": {
     "delete_cmd_postfix": "",
     "delete_cmd_prefix": "del ",
     "library": "var_list.py",
     "varRefreshCmd": "print(var_dic_list())"
    },
    "r": {
     "delete_cmd_postfix": ") ",
     "delete_cmd_prefix": "rm(",
     "library": "var_list.r",
     "varRefreshCmd": "cat(var_dic_list()) "
    }
   },
   "types_to_exclude": [
    "module",
    "function",
    "builtin_function_or_method",
    "instance",
    "_Feature"
   ],
   "window_display": false
  }
 },
 "nbformat": 4,
 "nbformat_minor": 5
}
