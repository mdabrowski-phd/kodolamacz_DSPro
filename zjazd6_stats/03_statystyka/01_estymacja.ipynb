{
 "cells": [
  {
   "cell_type": "code",
   "execution_count": 1,
   "metadata": {
    "ExecuteTime": {
     "end_time": "2023-05-07T08:03:13.632010Z",
     "start_time": "2023-05-07T08:03:07.813151Z"
    },
    "id": "KLWl4vbzUnt_"
   },
   "outputs": [],
   "source": [
    "import numpy as np\n",
    "import pandas as pd\n",
    "import matplotlib.pyplot as plt\n",
    "from scipy import stats"
   ]
  },
  {
   "cell_type": "markdown",
   "metadata": {
    "id": "lWwy5Va_UnuB"
   },
   "source": [
    "## Zadanie - estymatory\n",
    "Sprawdź symulacyjnie nieobciążoność estymatorów wariancji dla\n",
    "\\begin{equation*}\n",
    "    \\hat{\\sigma}^2 = S^2 = \\frac{1}{n-1}\\sum_{i=1}^n(X_i-\\overline{X})^2,\n",
    "\\end{equation*}\n",
    "oraz\n",
    "\\begin{equation*}\n",
    "    \\hat{\\sigma}^2 = S_n^2 = \\frac{1}{n}\\sum_{i=1}^n(X_i-\\overline{X})^2.\n",
    "\\end{equation*}\n",
    "\n",
    "1. Wygeneruj próbkę $n$-elementową z wybranego rozkładu.\n",
    "2. Policz dla wygenerowanej próbki $S^2$ oraz $S_n^2$.\n",
    "3. Powtórz kroki 1-2 $N$ razy, np. $N=1000$.\n",
    "4. Policz średnią z wygenerowanych $N$ razy wartości wariancji dla obu estymatorów.\n",
    "4. Powtórz kroki 1-4 dla róznych liczności $n$, np. dla $n\\in[5, 100]$.\n",
    "5. Narysuj wykres zależności wyestymowanej wartości wariancji dla obu estymatorów w zależności od liczności próbki.\n",
    "6. Powtórz kroki 1-6 dla innej rodziny rozkładów."
   ]
  },
  {
   "cell_type": "code",
   "execution_count": 2,
   "metadata": {
    "ExecuteTime": {
     "end_time": "2023-05-07T08:03:50.362009Z",
     "start_time": "2023-05-07T08:03:31.918633Z"
    },
    "id": "6uWkCeQ_UnuD"
   },
   "outputs": [],
   "source": [
    "N = 1000\n",
    "\n",
    "n_vec = np.arange(5, 100, 1)\n",
    "var0, var1 = np.zeros(len(n_vec)), np.zeros(len(n_vec))\n",
    "\n",
    "for i, n in enumerate(n_vec):\n",
    "  \n",
    "    var0_vec, var1_vec = np.zeros(N), np.zeros(N)\n",
    "  \n",
    "    for j in np.arange(N):\n",
    "        \n",
    "        x = stats.norm.rvs(size=n, loc=-4, scale=3)  # można wybrać inny rozkład !!\n",
    "        \n",
    "        var0_vec[j] = np.var(x, ddof=0)  # estymator obciążony\n",
    "        var1_vec[j] = np.var(x, ddof=1)  # estymator nieobciążony\n",
    "  \n",
    "    var0[i] = np.mean(var0_vec)\n",
    "    var1[i] = np.mean(var1_vec)"
   ]
  },
  {
   "cell_type": "code",
   "execution_count": 7,
   "metadata": {
    "ExecuteTime": {
     "end_time": "2023-05-07T08:06:20.324949Z",
     "start_time": "2023-05-07T08:06:19.913638Z"
    },
    "id": "j7Rc0LDx5uej"
   },
   "outputs": [
    {
     "data": {
      "image/png": "[encoded data removed]",
      "text/plain": [
       "<Figure size 432x288 with 1 Axes>"
      ]
     },
     "metadata": {
      "needs_background": "light"
     },
     "output_type": "display_data"
    }
   ],
   "source": [
    "plt.plot(var0, label = '$S^2_n$')  # estymator obciążony\n",
    "plt.plot(var1, label = '$S^2$')  # estymator nieobciążony\n",
    "\n",
    "plt.xticks(ticks=np.arange(0, len(n_vec) + 5, 5), labels=np.arange(5, 105, 5))\n",
    "plt.hlines(xmin=0, xmax=100, y=9, linestyles='--', color='green')\n",
    "plt.legend()\n",
    "\n",
    "plt.show()"
   ]
  },
  {
   "cell_type": "markdown",
   "metadata": {
    "id": "QraI5Ca2UnuE"
   },
   "source": [
    "## Estymacja punktowa - zadania\n",
    "1. Niech $X_1, \\ldots, X_n$ będzie próbą losową z rozkładu gamma $\\Gamma(\\alpha, \\beta)$, gdzie $\\alpha, \\beta>0$. Stosując metodę momentów wyznaczyć estymatory parametrów $\\alpha$ i $\\beta$.\n",
    "\n",
    "**Wskazówka**: Pokaż, że $S_n^2 = \\frac{1}{n}\\sum_{i=1}^n X_i^2 - \\overline{X}^2 = M_2 - M_1^2$.\n",
    "\n",
    "2. Niech $X_1, \\ldots, X_n$ będzie próbą losową z rozkładu wykładniczego $\\text{Exp}(\\lambda)$, gdzie $\\lambda>0$. Stosując metodę największej wiarogodności wyznaczyć estymator parametru $\\lambda$.\n",
    "\n",
    "\n",
    "3. W celu oszacowania niezawodności pewnego urządzenia dokonano 10 pomiarów czasu bezawaryjnej pracy tego urządzenia i otrzymano następujące wyniki (w godzinach): 1119,  627,  790,  626, 1477, 1470, 1466, 1027, 1480,  904. Zakładamy, że czas bezawaryjnej pracy tego urządzenia ma rozkład wykładniczy. \\\n",
    "    a) Znaleźć estymator funkcji niezawodności tego urządzenia. \\\n",
    "    b) Jakie jest prawdopodobieństwo, że dane urządzenie nie ulegnie awarii w ciągu 900 godzin pracy?\n",
    "    \n",
    "**Wskazówka**: Funkcja niezawodności: $S(x)=1-F(x)=P(X>x)$."
   ]
  },
  {
   "cell_type": "markdown",
   "metadata": {
    "id": "0amUyeTYcPKg"
   },
   "source": [
    "### Zadanie 1 - metoda momentów\n",
    "$\\mathbb{E}(X) = \\frac{\\alpha}{\\beta}$\n",
    "\n",
    "$\\mathrm{var}(X) = \\frac{\\alpha}{\\beta^2}$\n",
    "\n",
    "$\\hat{\\alpha} = \\frac{\\bar{X}^2}{S_n^2}$\n",
    "\n",
    "$\\hat{\\beta} = \\frac{\\bar{X}}{S_n^2}$"
   ]
  },
  {
   "cell_type": "markdown",
   "metadata": {
    "ExecuteTime": {
     "end_time": "2023-05-07T08:37:09.183362Z",
     "start_time": "2023-05-07T08:37:09.177102Z"
    },
    "id": "waSArWpqUnuF"
   },
   "source": [
    "### Zadanie 2 - metoda największej wiarygodności\n",
    "$X_i \\sim \\text{Exp}(\\lambda), \\text{ iid}$ oraz gęstość ma postać $f(x) = \\lambda \\exp({-\\lambda x})$.\n",
    "\n",
    "1. znaleźć funkcję wiarogodności $L$:\n",
    "$$\n",
    "L(x_1, \\ldots, x_n, \\lambda) = f_{\\lambda}(x_1)\\cdot\\ldots\\cdot f_{\\lambda}(x_n) = \\lambda \\exp({-\\lambda x_1})\\cdot\\ldots\\cdot \\lambda \\exp({-\\lambda x_n}) = \\lambda^n \\exp({-\\lambda \\sum_{i=1}^n x_i}).\n",
    "$$\n",
    "\n",
    "2. znaleźć $\\ln{L}$:\n",
    "$$\n",
    "ln(L) = n \\ln{\\lambda} - \\lambda \\sum_{i=1}^n x_i.\n",
    "$$ \n",
    "\n",
    "3. obliczyć pochodną cząstkową: $\\frac{\\partial}{\\partial\\lambda}\\ln{L}$:\n",
    "$$\n",
    "\\frac{\\partial}{\\partial\\lambda}\\ln{L} = \\frac{n}{\\lambda} - \\sum_{i=1}^n x_i.\n",
    "$$\n",
    "\n",
    "4. znaleźć rozwiązanie $\\theta_0$ równania $\\frac{\\partial}{\\partial\\lambda}\\ln{L}=0$:\n",
    "$$\n",
    "\\frac{n}{\\lambda} - \\sum_{i=1}^n x_i = 0 \\implies \\lambda_0 = \\frac{n}{\\sum_{i=1}^n x_i} = \\frac{1}{\\overline{x}}.\n",
    "$$\n",
    "\n",
    "5. sprawdzi, czy w $\\theta_0$, funkcja $\\ln{L}$ osiąga maksimum:\n",
    "$$\n",
    " \\frac{\\partial^2}{\\partial\\lambda^2}\\ln{L}\\Bigg|_{\\lambda=\\lambda_0} = -\\frac{n}{\\lambda^2} < 0.\n",
    "$$\n"
   ]
  },
  {
   "cell_type": "markdown",
   "metadata": {
    "id": "0amUyeTYcPKg"
   },
   "source": [
    "### Zadanie 3 - metoda momentów\n",
    "$\\mathbb{E} X = \\frac{1}{\\lambda}$\n",
    "\n",
    "$ \\lambda = \\frac{1}{\\mathbb{E} X}$\n",
    "\n",
    "$\\hat{\\lambda} = \\frac{1}{\\bar{X}}$"
   ]
  },
  {
   "cell_type": "code",
   "execution_count": 9,
   "metadata": {
    "ExecuteTime": {
     "end_time": "2023-05-07T08:37:09.183362Z",
     "start_time": "2023-05-07T08:37:09.177102Z"
    },
    "id": "waSArWpqUnuF"
   },
   "outputs": [],
   "source": [
    "m = np.mean([1119,  627,  790,  626, 1477, 1470, 1466, 1027, 1480,  904])\n",
    "l = 1/m"
   ]
  },
  {
   "cell_type": "code",
   "execution_count": 10,
   "metadata": {
    "ExecuteTime": {
     "end_time": "2023-05-07T08:40:17.210846Z",
     "start_time": "2023-05-07T08:40:17.205747Z"
    },
    "id": "waSArWpqUnuF"
   },
   "outputs": [],
   "source": [
    "exp2 = stats.expon(scale=1/l)"
   ]
  },
  {
   "cell_type": "markdown",
   "metadata": {},
   "source": [
    "$X$ - czas pracy do wystąpienia awarii\n",
    "\n",
    "$P(X>900) = 1-P(X\\leqslant 900) = 1-F(900)$"
   ]
  },
  {
   "cell_type": "code",
   "execution_count": 11,
   "metadata": {
    "ExecuteTime": {
     "end_time": "2023-05-07T08:40:18.866048Z",
     "start_time": "2023-05-07T08:40:18.858145Z"
    }
   },
   "outputs": [
    {
     "data": {
      "text/plain": [
       "0.4407733560494924"
      ]
     },
     "execution_count": 11,
     "metadata": {},
     "output_type": "execute_result"
    }
   ],
   "source": [
    "1 - exp2.cdf(900)"
   ]
  }
 ],
 "metadata": {
  "colab": {
   "provenance": []
  },
  "hide_input": false,
  "kernelspec": {
   "display_name": "Python 3 (ipykernel)",
   "language": "python",
   "name": "python3"
  },
  "language_info": {
   "codemirror_mode": {
    "name": "ipython",
    "version": 3
   },
   "file_extension": ".py",
   "mimetype": "text/x-python",
   "name": "python",
   "nbconvert_exporter": "python",
   "pygments_lexer": "ipython3",
   "version": "3.10.6"
  },
  "toc": {
   "base_numbering": 1,
   "nav_menu": {},
   "number_sections": true,
   "sideBar": true,
   "skip_h1_title": true,
   "title_cell": "Table of Contents",
   "title_sidebar": "Contents",
   "toc_cell": false,
   "toc_position": {},
   "toc_section_display": true,
   "toc_window_display": false
  },
  "varInspector": {
   "cols": {
    "lenName": 16,
    "lenType": 16,
    "lenVar": 40
   },
   "kernels_config": {
    "python": {
     "delete_cmd_postfix": "",
     "delete_cmd_prefix": "del ",
     "library": "var_list.py",
     "varRefreshCmd": "print(var_dic_list())"
    },
    "r": {
     "delete_cmd_postfix": ") ",
     "delete_cmd_prefix": "rm(",
     "library": "var_list.r",
     "varRefreshCmd": "cat(var_dic_list()) "
    }
   },
   "types_to_exclude": [
    "module",
    "function",
    "builtin_function_or_method",
    "instance",
    "_Feature"
   ],
   "window_display": false
  }
 },
 "nbformat": 4,
 "nbformat_minor": 1
}
