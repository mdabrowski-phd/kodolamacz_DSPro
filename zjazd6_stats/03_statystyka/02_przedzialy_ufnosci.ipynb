{
 "cells": [
  {
   "cell_type": "markdown",
   "metadata": {
    "id": "OHYrZ1N2jkBu"
   },
   "source": [
    "# Przedziały ufności"
   ]
  },
  {
   "cell_type": "code",
   "execution_count": 4,
   "metadata": {
    "ExecuteTime": {
     "end_time": "2023-05-20T19:40:07.547134Z",
     "start_time": "2023-05-20T19:40:06.487702Z"
    },
    "id": "hpto8wXhjkBx"
   },
   "outputs": [],
   "source": [
    "import numpy as np\n",
    "import matplotlib.pyplot as plt\n",
    "from scipy import stats"
   ]
  },
  {
   "cell_type": "markdown",
   "metadata": {
    "id": "cT9dgfD6jkBy"
   },
   "source": [
    "## Przedział ufności dla wartości średniej - model 1\n",
    "Niech $X_1, \\ldots, X_n$ będzie próbą prostą z populacji o rozkładzie normalnym $\\mathcal{N}(\\mu, \\sigma)$ o znanej wariancji $\\sigma^2$.\n",
    "\n",
    "Wtedy dla ustalonego poziomu ufności $1-\\alpha$ najkrótszy przedział ufności dla wartości oczekiwanej ma postać\n",
    "$$\n",
    "    \\Bigg( \\overline{X}-z_{1-\\frac{\\alpha}{2}}\\frac{\\sigma}{\\sqrt{n}}, \\overline{X}+z_{1-\\frac{\\alpha}{2}}\\frac{\\sigma}{\\sqrt{n}} \\Bigg),\n",
    "$$\n",
    "gdzie $z_{1-\\frac{\\alpha}{2}}$ oznacza kwantyl rozkładu normalnego standardowego rzędu $1-\\frac{\\alpha}{2}$."
   ]
  },
  {
   "cell_type": "markdown",
   "metadata": {
    "id": "8SDLEoU_jkBz"
   },
   "source": [
    "**Zadanie - model 1**. Na podstawie 64 losowo wybranych rozmów telefonicznych obliczono średnią długość rozmowy, która wynosiła 4.2 minuty. Z poprzednich badań wiadomo, że wariancja długości rozmów telefonicznych wynosi 1.44 min$^2$. Zakładając, że czas rozmów ma rozkład normalny\n",
    "\n",
    "   a) Oszacować przedziałowo długość rozmowy telefonicznej na poziomie ufności 0.95.\n",
    "\n",
    "b) Oszacować przedziałowo długość rozmowy telefonicznej na poziomie ufności 0.99.\n",
    "\n",
    "c) Porównać długość obu wyznaczonych przedziałów i wyjaśnić, w jaki sposób długość przedziału zależy od przyjętego poziomu ufności."
   ]
  },
  {
   "cell_type": "markdown",
   "metadata": {
    "id": "szJVGz63vIut"
   },
   "source": [
    "$\\bar{X} = 4.2$\n",
    "\n",
    "$n = 64$\n",
    "\n",
    "$\\sigma^2 = 1.44$\n",
    "\n",
    "$1-\\alpha = 0.95$\n",
    "\n",
    "$\\alpha = 0.05$\n",
    "\n",
    "$\\frac{\\alpha}{2} = 0.025$\n",
    "\n",
    "$1-\\frac{\\alpha}{2} = 1-0.025 = 0.975$"
   ]
  },
  {
   "cell_type": "code",
   "execution_count": 2,
   "metadata": {
    "ExecuteTime": {
     "end_time": "2023-05-07T08:56:29.703157Z",
     "start_time": "2023-05-07T08:56:29.688979Z"
    },
    "id": "_anwP3Eo_V3M"
   },
   "outputs": [
    {
     "name": "stdout",
     "output_type": "stream",
     "text": [
      "(3.906005402318992, 4.4939945976810085)\n",
      "(3.8136256044676653, 4.586374395532335)\n",
      "[0.5879892]\n",
      "[0.77274879]\n"
     ]
    }
   ],
   "source": [
    "# punkt a\n",
    "z1 = stats.norm.ppf(q=0.975, loc=0, scale=1)\n",
    "interval1 = (4.2 - z1 * np.sqrt(1.44) / 8, 4.2 + z1 * np.sqrt(1.44) / 8)\n",
    "print(interval1)\n",
    "\n",
    "# punkt b\n",
    "z2 = stats.norm.ppf(q=0.995, loc=0, scale=1)\n",
    "interval2 = (4.2 - z2 * np.sqrt(1.44) / 8, 4.2 + z2 * np.sqrt(1.44) / 8)\n",
    "print(interval2)\n",
    "\n",
    "# punkt c\n",
    "print(np.diff(interval1))\n",
    "print(np.diff(interval2))"
   ]
  },
  {
   "cell_type": "code",
   "execution_count": 5,
   "metadata": {
    "ExecuteTime": {
     "end_time": "2023-05-07T09:00:06.024354Z",
     "start_time": "2023-05-07T09:00:06.015584Z"
    },
    "id": "-YkJ-kqu40pn"
   },
   "outputs": [
    {
     "data": {
      "text/plain": [
       "(3.906005402318992, 4.4939945976810085)"
      ]
     },
     "execution_count": 5,
     "metadata": {},
     "output_type": "execute_result"
    }
   ],
   "source": [
    "# inny sposób (automatyczne wyznaczenie przedziałów)\n",
    "X_mean = 4.2\n",
    "sigma = np.sqrt(1.44)\n",
    "n = 64\n",
    "alpha1 = 0.05\n",
    "stats.norm.interval(alpha=1-alpha1, loc=X_mean, scale=sigma/np.sqrt(n))"
   ]
  },
  {
   "cell_type": "markdown",
   "metadata": {
    "id": "GaEmUqgxjkB0"
   },
   "source": [
    "**Zadanie - model 1.**\n",
    "Średnia cena 100 losowo wybranych książek do nauki programowania wyniosła 120.50 PLN. Wiadomo, ze odchylenie standardowe cen książek wynosi 10.75 PLN. Wyznaczyć 90% przedział ufności dla średniej ceny książki do programowania zakładając, że rozkład cen jest rozkładem normalnym."
   ]
  },
  {
   "cell_type": "code",
   "execution_count": 7,
   "metadata": {
    "ExecuteTime": {
     "end_time": "2023-05-07T09:21:25.723973Z",
     "start_time": "2023-05-07T09:21:25.716012Z"
    },
    "id": "CbTl4DwG_Ym_"
   },
   "outputs": [
    {
     "data": {
      "text/plain": [
       "(118.73178235102716, 122.26821764897284)"
      ]
     },
     "execution_count": 7,
     "metadata": {},
     "output_type": "execute_result"
    }
   ],
   "source": [
    "X_mean = 120.5\n",
    "sigma = 10.75\n",
    "n = 100\n",
    "alpha1 = 0.10\n",
    "stats.norm.interval(alpha=1-alpha1, loc=X_mean, scale=sigma/np.sqrt(n))"
   ]
  },
  {
   "cell_type": "markdown",
   "metadata": {
    "id": "9qKsWwfjjkB1"
   },
   "source": [
    "## Przedział ufności dla wartości średniej - model 2\n",
    "Niech $X_1, \\ldots, X_n$ będzie próbą prostą z populacji o rozkładzie normalnym $\\mathcal{N}(\\mu, \\sigma)$ o nieznanej wariancji $\\sigma^2$.\n",
    "\n",
    "Wtedy dla ustalonego poziomu ufności $1-\\alpha$ najkrótszy przedział ufności dla wartości oczekiwanej ma postać\n",
    "$$\n",
    "    \\Bigg( \\overline{X}-t_{1-\\frac{\\alpha}{2}}^{[n-1]}\\frac{S}{\\sqrt{n}}, \\overline{X}+t_{1-\\frac{\\alpha}{2}}^{[n-1]}\\frac{S}{\\sqrt{n}} \\Bigg),\n",
    "$$\n",
    "gdzie $t_{1-\\frac{\\alpha}{2}}^{[n-1]}$ oznacza kwantyl rzędu $1-\\frac{\\alpha}{2}$ rozkładu $t$-Studenta o $n-1$ stopniach swobody."
   ]
  },
  {
   "cell_type": "markdown",
   "metadata": {
    "id": "lBeDz3h-jkB2"
   },
   "source": [
    "**Zadanie - model 2**. Otrzymano następujące wyniki pomiarów grubości (w mm) 10 losowo wylosowanych detali wyprodukowanych przez zakupiony agregat: 2.01, 1.94, 1.94, 2.12, 1.96, 2.03, 1.91, 1.98, 1.97, 2.08. Zakładamy, że rozkład grubości detalu jest normalny. Na poziomie ufności 0.95 podać przedział ufności dla średniej grubości detalu."
   ]
  },
  {
   "cell_type": "code",
   "execution_count": 8,
   "metadata": {
    "ExecuteTime": {
     "end_time": "2023-05-07T09:23:55.351878Z",
     "start_time": "2023-05-07T09:23:55.341293Z"
    },
    "id": "2QrQytCW8tEE"
   },
   "outputs": [
    {
     "data": {
      "text/plain": [
       "(1.9465246317260556, 2.041475368273944)"
      ]
     },
     "execution_count": 8,
     "metadata": {},
     "output_type": "execute_result"
    }
   ],
   "source": [
    "x = np.array([2.01, 1.94, 1.94, 2.12, 1.96, 2.03, 1.91, 1.98, 1.97, 2.08])\n",
    "\n",
    "n = 10\n",
    "X_mean = np.mean(x)\n",
    "S = np.std(x, ddof=1)\n",
    "alpha1 = 0.05\n",
    "\n",
    "stats.t.interval(alpha=1-alpha1, loc=X_mean, scale=S/np.sqrt(n), df=n-1)"
   ]
  },
  {
   "cell_type": "code",
   "execution_count": 9,
   "metadata": {
    "ExecuteTime": {
     "end_time": "2023-05-07T09:30:17.449806Z",
     "start_time": "2023-05-07T09:30:17.441388Z"
    },
    "id": "VEWjMFAO_cbP"
   },
   "outputs": [
    {
     "name": "stdout",
     "output_type": "stream",
     "text": [
      "(1.9465246317260556, 2.041475368273944)\n"
     ]
    }
   ],
   "source": [
    "#inny sposób (ręczne wyznaczanie przedziałów):\n",
    "t1 = stats.t.ppf(q=1-alpha1/2, df=n-1)\n",
    "interval1 = (X_mean - t1 * S / np.sqrt(n), X_mean + t1 * S / np.sqrt(n))\n",
    "print(interval1)"
   ]
  },
  {
   "cell_type": "markdown",
   "metadata": {
    "id": "YcylStMMjkB3"
   },
   "source": [
    "**Zadanie - model 2**. \n",
    "Zmierzono objętości 5 losowo wybranych kulek z partii kulek łożyskowych otrzymując (w cm): 1,24 1,38 1,25 1,17 1,27. Na poziomie ufności 0,9 skonstruować przedział ufności dla średniej objętości kulki. Zakładamy, ze rozkład objętości kulek jest normalny."
   ]
  },
  {
   "cell_type": "code",
   "execution_count": 12,
   "metadata": {
    "ExecuteTime": {
     "end_time": "2023-05-07T09:32:05.034140Z",
     "start_time": "2023-05-07T09:32:05.026329Z"
    },
    "id": "YxbtVnGxjkB3"
   },
   "outputs": [
    {
     "data": {
      "text/plain": [
       "(1.1895799379539456, 1.3344200620460542)"
      ]
     },
     "execution_count": 12,
     "metadata": {},
     "output_type": "execute_result"
    }
   ],
   "source": [
    "x = np.array([1.24, 1.38, 1.25, 1.17, 1.27])\n",
    "\n",
    "n = 5\n",
    "X_mean = np.mean(x)\n",
    "S = np.std(x, ddof=1)\n",
    "alpha1 = 0.1\n",
    "\n",
    "stats.t.interval(alpha=1-alpha1, loc=X_mean, scale=S/np.sqrt(n), df=n-1)"
   ]
  },
  {
   "cell_type": "markdown",
   "metadata": {
    "id": "_lynrMNnjkB3"
   },
   "source": [
    "## Przedział ufności dla wartości średniej - model 3\n",
    "Niech $X_1, \\ldots, X_n$ będzie dostatecznie dużą próbą ($n\\geq 100)$ o dowolnym rozkładzie o nieznanej, ale skończonej wartości oczekiwanej i wariancji.\n",
    "\n",
    "Wtedy dla ustalonego poziomu ufności $1-\\alpha$ najkrótszy przedział ufności dla wartości oczekiwanej ma postać\n",
    "$$\n",
    "    \\Bigg( \\overline{X}-z_{1-\\frac{\\alpha}{2}}\\frac{S}{\\sqrt{n}}, \\overline{X}+z_{1-\\frac{\\alpha}{2}}\\frac{S}{\\sqrt{n}} \\Bigg),\n",
    "$$\n",
    "gdzie $z_{1-\\frac{\\alpha}{2}}$ oznacza kwantyl rozkładu normalnego standardowego rzędu $1-\\frac{\\alpha}{2}$.\n"
   ]
  },
  {
   "cell_type": "markdown",
   "metadata": {
    "id": "IR9O4kG0jkB4"
   },
   "source": [
    "**Zadanie - model 3**. Badania przeprowadzone w maju 1990 roku przez Instytut Gallupa na próbie losowej 2727 dorosłych obywateli USA wykazały, że średnie wydatki gospodarstwa domowego na cele charytatywne w 1989 wyniosły 734\\\\$, podczas gdy wyestymowane odchylenie standardowe tych wydatków dało 185$. Wyznaczyć 99% przedział ufności przeciętnych wydatków na cele charytatywne w USA w 1989 roku."
   ]
  },
  {
   "cell_type": "code",
   "execution_count": 16,
   "metadata": {
    "ExecuteTime": {
     "end_time": "2023-05-07T09:39:42.448886Z",
     "start_time": "2023-05-07T09:39:42.437160Z"
    },
    "id": "RnraNrPa_ihD"
   },
   "outputs": [
    {
     "data": {
      "text/plain": [
       "(724.8747191639189, 743.1252808360811)"
      ]
     },
     "execution_count": 16,
     "metadata": {},
     "output_type": "execute_result"
    }
   ],
   "source": [
    "X_mean = 734\n",
    "sigma = 185\n",
    "n = 2727\n",
    "alpha1 = 0.01\n",
    "\n",
    "stats.norm.interval(alpha=1-alpha1, loc=X_mean, scale=sigma/np.sqrt(n))"
   ]
  },
  {
   "cell_type": "markdown",
   "metadata": {
    "id": "g_qYUiz_jkB4"
   },
   "source": [
    "**Zadanie - model 3**. W próbie 150 zabiegów artroskopii stawu biodrowego średni czas operacji wynosił 136,9 minut, przy standardowym odchyleniu 22,6 minut. Znajdź średni czas na poziomie ufności 0.95."
   ]
  },
  {
   "cell_type": "code",
   "execution_count": 17,
   "metadata": {
    "ExecuteTime": {
     "end_time": "2023-05-07T09:40:59.572609Z",
     "start_time": "2023-05-07T09:40:59.563602Z"
    },
    "id": "iS5Jl1JmjkB4"
   },
   "outputs": [
    {
     "data": {
      "text/plain": [
       "(133.28331320381233, 140.51668679618768)"
      ]
     },
     "execution_count": 17,
     "metadata": {},
     "output_type": "execute_result"
    }
   ],
   "source": [
    "X_mean = 136.9\n",
    "sigma = 22.6\n",
    "n = 150\n",
    "alpha1 = 0.05\n",
    "\n",
    "stats.norm.interval(alpha=1-alpha1, loc=X_mean, scale=sigma/np.sqrt(n))"
   ]
  },
  {
   "cell_type": "markdown",
   "metadata": {
    "id": "nMClr82TjkB4"
   },
   "source": [
    "## Przedział ufności dla wskaźnika struktury\n",
    "Załóżmy, że badana cecha ma rozkład dwupunktowy z nieznanym parametrem $p$, a liczność próby jest dostatecznie duża $(n\\geq 100)$. \n",
    "\n",
    "Z centralnego twierdzenia granicznego Moivre'a-Laplace'a wynika, że statystyka \n",
    "$$\n",
    "    \\frac{k}{n},\n",
    "$$\n",
    "gdzie $k$ oznacza liczbę elementów wyróżnionych w próbie ma w przybliżeniu rozkład normalny $\\mathcal{N}(p, \\sqrt{\\frac{p(1-p)}{n}})$.\n",
    "\n",
    "Przedział ufność dla wskaźnika struktury $p$ przyjmuje postać\n",
    "$$\n",
    "    \\Bigg( \\frac{k}{n}-z_{1-\\frac{\\alpha}{2}}\\sqrt{\\frac{\\frac{k}{n}(1-\\frac{k}{n})}{n}}, \\frac{k}{n}+z_{1-\\frac{\\alpha}{2}}\\sqrt{\\frac{\\frac{k}{n}(1-\\frac{k}{n})}{n}}\\Bigg). \n",
    "$$"
   ]
  },
  {
   "cell_type": "markdown",
   "metadata": {
    "id": "_TTmzvbwjkB5"
   },
   "source": [
    "**Zadanie - model 4.** Fabryka zakupiła nowy agregat. Wylosowano 1000 wyprodukowanych przez ten agregat detali. Okazało się, że 50 z nich nie spełnia normy jakości. Podać 99% przedział ufności dla wadliwości."
   ]
  },
  {
   "cell_type": "code",
   "execution_count": 30,
   "metadata": {
    "ExecuteTime": {
     "end_time": "2023-05-07T09:50:22.296430Z",
     "start_time": "2023-05-07T09:50:22.287371Z"
    },
    "id": "y8qW15dz_lK_"
   },
   "outputs": [
    {
     "data": {
      "text/plain": [
       "(0.03224732165140968, 0.06775267834859033)"
      ]
     },
     "execution_count": 30,
     "metadata": {},
     "output_type": "execute_result"
    }
   ],
   "source": [
    "n = 1000\n",
    "k = 50\n",
    "alpha1 = 0.01\n",
    "\n",
    "stats.norm.interval(alpha=1-alpha1, loc=k / n, scale=np.sqrt(k / n * (1 - k / n) / n))"
   ]
  },
  {
   "cell_type": "markdown",
   "metadata": {
    "id": "I8C2JEVvjkB5"
   },
   "source": [
    "**Zadanie - model 4**.   Przeprowadzono  obserwacje  dotyczące  opóźnień  w  ruchu  pociągów.  Stwierdzono,  ze spośród 1000 losowo wybranych pociągów 160 przyjechało z opóźnieniem. Zakładając, ze opóźnienia poszczególnych pociągów są niezależne od siebie i jednakowo prawdopodobne dla  każdego  pociągu,  znaleźć  przedział  ufności  dla  prawdopodobieństwa  występowania opóźnienia na poziomie ufności 0,9."
   ]
  },
  {
   "cell_type": "code",
   "execution_count": 31,
   "metadata": {
    "ExecuteTime": {
     "end_time": "2023-05-07T09:51:53.311628Z",
     "start_time": "2023-05-07T09:51:53.304314Z"
    },
    "id": "9aEl6OKhjkB5"
   },
   "outputs": [
    {
     "data": {
      "text/plain": [
       "(0.14093104511960805, 0.17906895488039193)"
      ]
     },
     "execution_count": 31,
     "metadata": {},
     "output_type": "execute_result"
    }
   ],
   "source": [
    "n = 1000\n",
    "k = 160\n",
    "alpha1 = 0.1\n",
    "\n",
    "stats.norm.interval(alpha=1-alpha1, loc=k / n, scale=np.sqrt(k / n * (1 - k / n) / n))"
   ]
  },
  {
   "cell_type": "markdown",
   "metadata": {
    "id": "c9D_Or5FjkB5"
   },
   "source": [
    "## Zadania\n",
    "**Zadanie 1.** Czas montowania bębna w pralce automatycznej jest zmienną losową o rozkładzie normalnym. Zmierzono czas montowania bębna przez 16 losowo wybranych robotników i otrzymano następujące wyniki (w minutach): 7.56, 6.61, 9.11, 8.75, 6.89, 7.11, 7.87, 8.33, 5.51, 7.05, 6.75, 9.49, 8.01, 7.52, 5.15, 8.52. Na poziomie ufności 0.95 podać przedział ufności dla średniego czasu montażu bębna w pralce.\n",
    "\n",
    "**Zadanie 2.** Średnia cena 100 losowo wybranych podręczników akademickich wynosiła 64,99 zł. Wiadomo, że odchylenie standardowe cen podręczników wynosi 7,12 zł. Wyznaczyć 95% przedział ufności dla średniej ceny podręcznika akademickiego zakładając, że rozkład cen jest rozkładem normalnym.\n",
    "\n",
    "**Zadanie 3.** Na 200 połączeń telefonicznych w pewnej centrali 17 okazało się błędnych. Na poziomie ufności 0.95 zbudować przedział ufności dla frakcji błędnych połączeń.\n",
    "\n",
    "**Zadanie 4.** Dział kontroli jakości w zakładach chemicznych chce oszacować średnią wagę proszku do prania sprzedawanego w pudełkach o nominalnej wadze 3 kg. Pobrano w tym celu próbkę 9 pudełek proszku do prania. Każde pudełko zważono i otrzymano następujące wyniki (w kilogramach): 2.97, 3.04, 2.95, 3.01, 3.00, 2.99, 2.97, 3.05, 2.96. Wiadomo, że rozkład wagi pudełka proszku do prania jest normalny. Na poziomie ufności 0.9 zbudować przedział ufności dla średniej wagi pudełka proszku do prania.\n",
    "\n",
    "**Zadanie 5.** W 7-osobowej losowo wybranej grupie uczniów zmierzono czas rozwiązywania pewnego zadania matematycznego. Otrzymano następujące wyniki (w minutach): 5, 17, 20, 23, 22, 25, 21. Zakładamy, że czas rozwiązania zadania ma rozkład normalny. Na poziomie ufności 0.99 podać przedział ufności dla średniego czasu rozwiązywania danego zadania.\n",
    "\n",
    "**Zadanie 6.** Zbadano grupę krwi 100 osób i stwierdzono, że 35 osób miało grupę krwi ,,0''. Na poziomie ufności 0.95 oszacować przedziałowo procent osób posiadających grupę kriw ,,0'' w całej populacji.\n",
    "\n",
    "**Zadanie 7.** Przy badaniu wysokości wynagrodzeń w przemyśle informatycznym w województwie mazowieckim w 2018 roku wylosowano 500 pracowników. Na podstawie wyników próby otrzymano średnie miesięczne wynagrodzenie na poziomie 8802 zł oraz odchylenie standardowe 783 zł. Przyjmując poziom ufności 0.99, oszacować nieznaną średnią w rozkładzie wynagrodzeń ogółu pracowników przemysłu informatycznego w województwie mazowieckim.\n",
    "\n",
    "**Zadanie 8.** W jednej z politechnik wylosowano niezależnie próbę 200 studentów, z których jedynie 60 zdało wszystkie egzaminy w pierwszym terminie. Na poziomie ufności 0.9 podać przedział ufności dla procentu studentów zaliczających sesję w pierwszym terminie."
   ]
  },
  {
   "cell_type": "code",
   "execution_count": 63,
   "metadata": {
    "ExecuteTime": {
     "end_time": "2023-05-20T20:17:54.315121Z",
     "start_time": "2023-05-20T20:17:54.305413Z"
    }
   },
   "outputs": [
    {
     "data": {
      "text/plain": [
       "(6.871904199623725, 8.156845800376272)"
      ]
     },
     "execution_count": 63,
     "metadata": {},
     "output_type": "execute_result"
    }
   ],
   "source": [
    "# zadanie 1\n",
    "\n",
    "x = np.array([7.56, 6.61, 9.11, 8.75, 6.89, 7.11, 7.87, 8.33, 5.51, 7.05, 6.75, 9.49, 8.01, 7.52, 5.15, 8.52])\n",
    "\n",
    "n = 16\n",
    "X_mean = np.mean(x)\n",
    "S = np.std(x, ddof=1)\n",
    "alpha1 = 0.05\n",
    "\n",
    "stats.t.interval(alpha=1-alpha1, loc=X_mean, scale=S/np.sqrt(n), df=n-1)\n",
    "\n",
    "# (6.9235941239151835, 8.105155876084815)"
   ]
  },
  {
   "cell_type": "code",
   "execution_count": 14,
   "metadata": {
    "ExecuteTime": {
     "end_time": "2023-05-20T19:48:20.377758Z",
     "start_time": "2023-05-20T19:48:20.369705Z"
    }
   },
   "outputs": [
    {
     "data": {
      "text/plain": [
       "(63.59450564300748, 66.38549435699251)"
      ]
     },
     "execution_count": 14,
     "metadata": {},
     "output_type": "execute_result"
    }
   ],
   "source": [
    "# zadanie 2\n",
    "\n",
    "X_mean = 64.99\n",
    "sigma = 7.12\n",
    "n = 100\n",
    "alpha1 = 0.05\n",
    "\n",
    "stats.norm.interval(alpha=1-alpha1, loc=X_mean, scale=sigma/np.sqrt(n))"
   ]
  },
  {
   "cell_type": "code",
   "execution_count": 15,
   "metadata": {
    "ExecuteTime": {
     "end_time": "2023-05-20T19:49:55.935571Z",
     "start_time": "2023-05-20T19:49:55.927557Z"
    }
   },
   "outputs": [
    {
     "data": {
      "text/plain": [
       "(0.04634967918765191, 0.1236503208123481)"
      ]
     },
     "execution_count": 15,
     "metadata": {},
     "output_type": "execute_result"
    }
   ],
   "source": [
    "# zadanie 3\n",
    "\n",
    "n = 200\n",
    "k = 17\n",
    "alpha1 = 0.05\n",
    "\n",
    "stats.norm.interval(alpha=1-alpha1, loc=k / n, scale=np.sqrt(k / n * (1 - k / n) / n))"
   ]
  },
  {
   "cell_type": "code",
   "execution_count": 25,
   "metadata": {
    "ExecuteTime": {
     "end_time": "2023-05-20T19:58:18.321067Z",
     "start_time": "2023-05-20T19:58:18.311893Z"
    }
   },
   "outputs": [
    {
     "data": {
      "text/plain": [
       "(2.9716386062289, 3.0150280604377664)"
      ]
     },
     "execution_count": 25,
     "metadata": {},
     "output_type": "execute_result"
    }
   ],
   "source": [
    "# zadanie 4\n",
    "\n",
    "x = np.array([2.97, 3.04, 2.95, 3.01, 3.00, 2.99, 2.97, 3.05, 2.96])\n",
    "\n",
    "n = 9\n",
    "X_mean = np.mean(x)\n",
    "S = np.std(x, ddof=1)\n",
    "alpha1 = 0.1\n",
    "\n",
    "stats.t.interval(alpha=1-alpha1, loc=X_mean, scale=S/np.sqrt(n), df=n-1)"
   ]
  },
  {
   "cell_type": "code",
   "execution_count": 26,
   "metadata": {
    "ExecuteTime": {
     "end_time": "2023-05-20T20:00:45.867591Z",
     "start_time": "2023-05-20T20:00:45.857702Z"
    }
   },
   "outputs": [
    {
     "data": {
      "text/plain": [
       "(9.669844086104506, 28.330155913895496)"
      ]
     },
     "execution_count": 26,
     "metadata": {},
     "output_type": "execute_result"
    }
   ],
   "source": [
    "# zadanie 5\n",
    "\n",
    "x = np.array([5, 17, 20, 23, 22, 25, 21])\n",
    "\n",
    "n = 7\n",
    "X_mean = np.mean(x)\n",
    "S = np.std(x, ddof=1)\n",
    "alpha1 = 0.01\n",
    "\n",
    "stats.t.interval(alpha=1-alpha1, loc=X_mean, scale=S/np.sqrt(n), df=n-1)"
   ]
  },
  {
   "cell_type": "code",
   "execution_count": 27,
   "metadata": {
    "ExecuteTime": {
     "end_time": "2023-05-20T20:02:00.428894Z",
     "start_time": "2023-05-20T20:02:00.420270Z"
    }
   },
   "outputs": [
    {
     "data": {
      "text/plain": [
       "(0.2565156760890943, 0.44348432391090564)"
      ]
     },
     "execution_count": 27,
     "metadata": {},
     "output_type": "execute_result"
    }
   ],
   "source": [
    "# zadanie 6\n",
    "\n",
    "n = 100\n",
    "k = 35\n",
    "alpha1 = 0.05\n",
    "\n",
    "stats.norm.interval(alpha=1-alpha1, loc=k / n, scale=np.sqrt(k / n * (1 - k / n) / n))"
   ]
  },
  {
   "cell_type": "code",
   "execution_count": 28,
   "metadata": {
    "ExecuteTime": {
     "end_time": "2023-05-20T20:06:12.289686Z",
     "start_time": "2023-05-20T20:06:12.281251Z"
    }
   },
   "outputs": [
    {
     "data": {
      "text/plain": [
       "(8711.802637264458, 8892.197362735542)"
      ]
     },
     "execution_count": 28,
     "metadata": {},
     "output_type": "execute_result"
    }
   ],
   "source": [
    "# zadanie 7\n",
    "\n",
    "X_mean = 8802\n",
    "sigma = 783\n",
    "n = 500\n",
    "alpha1 = 0.01\n",
    "\n",
    "stats.norm.interval(alpha=1-alpha1, loc=X_mean, scale=sigma/np.sqrt(n))"
   ]
  },
  {
   "cell_type": "code",
   "execution_count": 29,
   "metadata": {
    "ExecuteTime": {
     "end_time": "2023-05-20T20:09:43.130497Z",
     "start_time": "2023-05-20T20:09:43.122747Z"
    }
   },
   "outputs": [
    {
     "data": {
      "text/plain": [
       "(0.24670065078445905, 0.3532993492155409)"
      ]
     },
     "execution_count": 29,
     "metadata": {},
     "output_type": "execute_result"
    }
   ],
   "source": [
    "# zadanie 8\n",
    "\n",
    "n = 200\n",
    "k = 60\n",
    "alpha1 = 0.1\n",
    "\n",
    "stats.norm.interval(alpha=1-alpha1, loc=k / n, scale=np.sqrt(k / n * (1 - k / n) / n))"
   ]
  }
 ],
 "metadata": {
  "colab": {
   "provenance": []
  },
  "hide_input": false,
  "kernelspec": {
   "display_name": "Python 3 (ipykernel)",
   "language": "python",
   "name": "python3"
  },
  "language_info": {
   "codemirror_mode": {
    "name": "ipython",
    "version": 3
   },
   "file_extension": ".py",
   "mimetype": "text/x-python",
   "name": "python",
   "nbconvert_exporter": "python",
   "pygments_lexer": "ipython3",
   "version": "3.10.6"
  },
  "toc": {
   "base_numbering": 1,
   "nav_menu": {},
   "number_sections": true,
   "sideBar": true,
   "skip_h1_title": true,
   "title_cell": "Table of Contents",
   "title_sidebar": "Contents",
   "toc_cell": false,
   "toc_position": {},
   "toc_section_display": true,
   "toc_window_display": false
  },
  "varInspector": {
   "cols": {
    "lenName": 16,
    "lenType": 16,
    "lenVar": 40
   },
   "kernels_config": {
    "python": {
     "delete_cmd_postfix": "",
     "delete_cmd_prefix": "del ",
     "library": "var_list.py",
     "varRefreshCmd": "print(var_dic_list())"
    },
    "r": {
     "delete_cmd_postfix": ") ",
     "delete_cmd_prefix": "rm(",
     "library": "var_list.r",
     "varRefreshCmd": "cat(var_dic_list()) "
    }
   },
   "types_to_exclude": [
    "module",
    "function",
    "builtin_function_or_method",
    "instance",
    "_Feature"
   ],
   "window_display": false
  }
 },
 "nbformat": 4,
 "nbformat_minor": 1
}
