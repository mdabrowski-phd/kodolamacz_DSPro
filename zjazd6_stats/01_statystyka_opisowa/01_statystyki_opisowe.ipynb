{
 "cells": [
  {
   "cell_type": "markdown",
   "metadata": {
    "id": "oNTX1c350_op"
   },
   "source": [
    "# Statystyka opisowa"
   ]
  },
  {
   "cell_type": "code",
   "execution_count": 1,
   "metadata": {
    "ExecuteTime": {
     "end_time": "2023-05-06T19:11:31.591676Z",
     "start_time": "2023-05-06T19:11:29.709904Z"
    },
    "id": "MTUMl6bs0_os"
   },
   "outputs": [],
   "source": [
    "import numpy as np\n",
    "import pandas as pd\n",
    "import matplotlib.pyplot as plt\n",
    "\n",
    "from scipy import stats"
   ]
  },
  {
   "cell_type": "markdown",
   "metadata": {
    "id": "jOGpf9F20_ot"
   },
   "source": [
    "## Statystyki próbkowe i metody opisu danych jakościowych"
   ]
  },
  {
   "cell_type": "markdown",
   "metadata": {
    "id": "iFI7TtHl0_ot"
   },
   "source": [
    "## Zadanie - podstawowe statystyki\n",
    "Zaimplementować klase `Stats`, która posiada metody do wyznaczenia:\n",
    "\n",
    "a) średniej arytmetycznej,\n",
    "b) mediany,\n",
    "c) wariancji,\n",
    "d) odchylenia standardowego\n",
    "\n",
    "\n",
    "dla dowolnych danych $X$."
   ]
  },
  {
   "cell_type": "code",
   "execution_count": 2,
   "metadata": {
    "ExecuteTime": {
     "end_time": "2023-05-06T19:11:31.606334Z",
     "start_time": "2023-05-06T19:11:31.595504Z"
    },
    "id": "zEOeLN7b0_ou"
   },
   "outputs": [],
   "source": [
    "class Stats:\n",
    "    \n",
    "    def __init__(self, vec):\n",
    "        self.vec = vec\n",
    "    \n",
    "    def mean(self):\n",
    "        return np.mean(self.vec)\n",
    "    \n",
    "    def median(self):\n",
    "        return np.median(self.vec)\n",
    "    \n",
    "    def var(self):\n",
    "        return np.var(self.vec, ddof=1)\n",
    "    \n",
    "    def std(self):\n",
    "        return np.std(self.vec, ddof=1)\n",
    "        \n",
    "    def iqr(self):\n",
    "        return np.percentile(self.vec, 75) - np.percentile(self.vec, 25)\n",
    "    \n",
    "    def min_(self):\n",
    "        return np.min(self.vec)\n",
    "    \n",
    "    def max_(self):\n",
    "        return np.max(self.vec)\n",
    "    \n",
    "    def q1(self):\n",
    "        return np.percentile(self.vec, 25)\n",
    "    \n",
    "    def q3(self):\n",
    "        return np.percentile(self.vec, 75)\n",
    "        \n",
    "    def range_(self):\n",
    "        return np.max(self.vec) - np.min(self.vec)"
   ]
  },
  {
   "cell_type": "code",
   "execution_count": 3,
   "metadata": {
    "ExecuteTime": {
     "end_time": "2023-05-06T19:11:31.620604Z",
     "start_time": "2023-05-06T19:11:31.609669Z"
    },
    "id": "xwwyxhQZWUNx"
   },
   "outputs": [
    {
     "data": {
      "text/plain": [
       "5.5"
      ]
     },
     "execution_count": 3,
     "metadata": {},
     "output_type": "execute_result"
    }
   ],
   "source": [
    "a = [1, 2, 3, 4, 5, 6, 7, 8, 9, 10]\n",
    "stats = Stats(a)\n",
    "stats.mean()"
   ]
  },
  {
   "cell_type": "markdown",
   "metadata": {
    "id": "A8oPTSrM0_ov"
   },
   "source": [
    "## Zadanie - boxplot, szereg rozdzielczy, histogram\n",
    "Firma budowlana zainteresowana jest jakością betonu. Jedną z pożądanych cech jest jego odpowiednia wytrzymałość na ściskanie. Aby sprawdzić, czy beton proponowany przez dostawcę spełnia normy jakości, przebadano 50 próbek i otrzymano następujące wyniki wytrzymałości na ściskanie:\n",
    "6.2, 16.7, 25.5, 17.5, 14.4, 27.7, 13.2, 21.2, 21.7, 12.1, 11.7, 27.6, 22.3, 22.8, 14.2, 19.1, 22.7, 16.7, 25.2, 24.9, 13.6,  9.7, 18. , 17.9, 26.3, 17.7, 13.9, 17.7, 22.7, 16.7, 18.8, 19.5, 21.7, 21.5, 19. , 14.6, 24.6, 20.9, 20.7, 21. , 18.4, 15.3, 22.1, 26. ,25.4, 14.1, 18.1, 23. , 14.9, 27.3."
   ]
  },
  {
   "cell_type": "code",
   "execution_count": 4,
   "metadata": {
    "ExecuteTime": {
     "end_time": "2023-05-06T19:11:31.631058Z",
     "start_time": "2023-05-06T19:11:31.624604Z"
    },
    "id": "f-mNPbWu0_ow"
   },
   "outputs": [],
   "source": [
    "beton = np.array([6.2, 16.7, 25.5, 17.5, 14.4, 27.7, 13.2, 21.2, 21.7, \n",
    "                   12.1, 11.7, 27.6, 22.3, 22.8, 14.2, 19.1, 22.7, 16.7, \n",
    "                   25.2, 24.9, 13.6,  9.7, 18. , 17.9, 26.3, 17.7, 13.9, \n",
    "                   17.7, 22.7, 16.7, 18.8, 19.5, 21.7, 21.5, 19. , 14.6, \n",
    "                   24.6, 20.9, 20.7, 21. , 18.4, 15.3, 22.1, 26. ,25.4, \n",
    "                   14.1, 18.1, 23. , 14.9, 27.3])"
   ]
  },
  {
   "cell_type": "markdown",
   "metadata": {
    "id": "o2UEWup8W4l2"
   },
   "source": [
    "a) Obliczyć podstawowe statystyki próbkowe."
   ]
  },
  {
   "cell_type": "code",
   "execution_count": 5,
   "metadata": {
    "ExecuteTime": {
     "end_time": "2023-05-06T19:11:31.646344Z",
     "start_time": "2023-05-06T19:11:31.634736Z"
    }
   },
   "outputs": [
    {
     "name": "stdout",
     "output_type": "stream",
     "text": [
      "mean: 19.29 \n",
      " median: 19.05 \n",
      " var: 24.535204081632656 \n",
      " std: 4.953302341027919 \n",
      "         iqr: 7.049999999999999 \n",
      " min: 6.2 \n",
      " max: 27.7 \n",
      " q1: 15.65 \n",
      " q3: 22.7 \n",
      "         range: 21.5\n"
     ]
    }
   ],
   "source": [
    "stats = Stats(beton)\n",
    "print(f\"mean: {stats.mean()} \\n median: {stats.median()} \\n var: {stats.var()} \\n std: {stats.std()} \\n \\\n",
    "        iqr: {stats.iqr()} \\n min: {stats.min_()} \\n max: {stats.max_()} \\n q1: {stats.q1()} \\n q3: {stats.q3()} \\n \\\n",
    "        range: {stats.range_()}\")"
   ]
  },
  {
   "cell_type": "markdown",
   "metadata": {},
   "source": [
    "b) Sporządzić i opisać wykres skrzynkowy."
   ]
  },
  {
   "cell_type": "code",
   "execution_count": 6,
   "metadata": {
    "ExecuteTime": {
     "end_time": "2023-05-06T19:11:31.829650Z",
     "start_time": "2023-05-06T19:11:31.650415Z"
    }
   },
   "outputs": [
    {
     "data": {
      "image/png": "[encoded data removed]",
      "text/plain": [
       "<Figure size 432x288 with 1 Axes>"
      ]
     },
     "metadata": {
      "needs_background": "light"
     },
     "output_type": "display_data"
    }
   ],
   "source": [
    "plt.boxplot(beton)\n",
    "plt.title(\"Badanie jakości betonu\")\n",
    "plt.ylabel(\"Wytrzymałość na ściskanie\")\n",
    "plt.show()"
   ]
  },
  {
   "cell_type": "markdown",
   "metadata": {
    "ExecuteTime": {
     "end_time": "2023-05-06T07:52:36.228880Z",
     "start_time": "2023-05-06T07:52:36.222184Z"
    }
   },
   "source": [
    "c) ***Zbudować szereg rozdzielczy."
   ]
  },
  {
   "cell_type": "code",
   "execution_count": 7,
   "metadata": {
    "ExecuteTime": {
     "end_time": "2023-05-06T19:11:31.840647Z",
     "start_time": "2023-05-06T19:11:31.832742Z"
    },
    "id": "AKTUCEAJkKFh"
   },
   "outputs": [
    {
     "name": "stdout",
     "output_type": "stream",
     "text": [
      "50\n",
      "5.303300858899107 7.0710678118654755\n",
      "3.58\n"
     ]
    }
   ],
   "source": [
    "n = beton.size\n",
    "print(n)\n",
    "\n",
    "# wyznaczamy liczbę klas\n",
    "left_k = 0.75 * np.sqrt(n)\n",
    "right_k = np.sqrt(n)\n",
    "print(left_k, right_k) # => k = 6\n",
    "\n",
    "k = 6\n",
    "\n",
    "# wyznaczamy długośc klasy\n",
    "bmin = beton.min()\n",
    "bmax = beton.max()\n",
    "\n",
    "d = np.round((bmax - bmin) / k, 2)\n",
    "print(d)"
   ]
  },
  {
   "cell_type": "code",
   "execution_count": 8,
   "metadata": {
    "ExecuteTime": {
     "end_time": "2023-05-06T19:11:31.854060Z",
     "start_time": "2023-05-06T19:11:31.844351Z"
    },
    "id": "DX8SbQj5KWKK"
   },
   "outputs": [
    {
     "data": {
      "text/plain": [
       "array([ 6.2 ,  9.78, 13.36, 16.94, 20.52, 24.1 , 27.68])"
      ]
     },
     "execution_count": 8,
     "metadata": {},
     "output_type": "execute_result"
    }
   ],
   "source": [
    "np.arange(bmin, bmax, d)"
   ]
  },
  {
   "cell_type": "code",
   "execution_count": 9,
   "metadata": {
    "ExecuteTime": {
     "end_time": "2023-05-06T19:11:31.895348Z",
     "start_time": "2023-05-06T19:11:31.858227Z"
    },
    "id": "ZeMIN17fkMpt"
   },
   "outputs": [
    {
     "data": {
      "text/html": [
       "<div>\n",
       "<style scoped>\n",
       "    .dataframe tbody tr th:only-of-type {\n",
       "        vertical-align: middle;\n",
       "    }\n",
       "\n",
       "    .dataframe tbody tr th {\n",
       "        vertical-align: top;\n",
       "    }\n",
       "\n",
       "    .dataframe thead th {\n",
       "        text-align: right;\n",
       "    }\n",
       "</style>\n",
       "<table border=\"1\" class=\"dataframe\">\n",
       "  <thead>\n",
       "    <tr style=\"text-align: right;\">\n",
       "      <th></th>\n",
       "      <th>Interval</th>\n",
       "      <th>n</th>\n",
       "      <th>f</th>\n",
       "      <th>cn</th>\n",
       "      <th>cf</th>\n",
       "    </tr>\n",
       "  </thead>\n",
       "  <tbody>\n",
       "    <tr>\n",
       "      <th>0</th>\n",
       "      <td>[6.2, 9.78)</td>\n",
       "      <td>2.0</td>\n",
       "      <td>0.04</td>\n",
       "      <td>2.0</td>\n",
       "      <td>0.04</td>\n",
       "    </tr>\n",
       "    <tr>\n",
       "      <th>1</th>\n",
       "      <td>[9.78, 13.36)</td>\n",
       "      <td>3.0</td>\n",
       "      <td>0.06</td>\n",
       "      <td>5.0</td>\n",
       "      <td>0.10</td>\n",
       "    </tr>\n",
       "    <tr>\n",
       "      <th>2</th>\n",
       "      <td>[13.36, 16.94)</td>\n",
       "      <td>11.0</td>\n",
       "      <td>0.22</td>\n",
       "      <td>16.0</td>\n",
       "      <td>0.32</td>\n",
       "    </tr>\n",
       "    <tr>\n",
       "      <th>3</th>\n",
       "      <td>[16.94, 20.52)</td>\n",
       "      <td>11.0</td>\n",
       "      <td>0.22</td>\n",
       "      <td>27.0</td>\n",
       "      <td>0.54</td>\n",
       "    </tr>\n",
       "    <tr>\n",
       "      <th>4</th>\n",
       "      <td>[20.52, 24.1)</td>\n",
       "      <td>13.0</td>\n",
       "      <td>0.26</td>\n",
       "      <td>40.0</td>\n",
       "      <td>0.80</td>\n",
       "    </tr>\n",
       "    <tr>\n",
       "      <th>5</th>\n",
       "      <td>[24.1, 27.7]</td>\n",
       "      <td>10.0</td>\n",
       "      <td>0.20</td>\n",
       "      <td>50.0</td>\n",
       "      <td>1.00</td>\n",
       "    </tr>\n",
       "  </tbody>\n",
       "</table>\n",
       "</div>"
      ],
      "text/plain": [
       "         Interval     n     f    cn    cf\n",
       "0     [6.2, 9.78)   2.0  0.04   2.0  0.04\n",
       "1   [9.78, 13.36)   3.0  0.06   5.0  0.10\n",
       "2  [13.36, 16.94)  11.0  0.22  16.0  0.32\n",
       "3  [16.94, 20.52)  11.0  0.22  27.0  0.54\n",
       "4   [20.52, 24.1)  13.0  0.26  40.0  0.80\n",
       "5    [24.1, 27.7]  10.0  0.20  50.0  1.00"
      ]
     },
     "execution_count": 9,
     "metadata": {},
     "output_type": "execute_result"
    }
   ],
   "source": [
    "# wyznaczamy przedzialy klas\n",
    "left_bound = np.round(np.arange(bmin, bmax, d)[:k], 2)\n",
    "\n",
    "intervals = []\n",
    "n_size = np.zeros(k)\n",
    "\n",
    "# wyznaczamy szereg rozdzielczy\n",
    "make_interval = lambda x, y: \"[{}, {})\".format(x, y)  # przedział prawostronnie otwarty\n",
    "make_closed_interval = lambda x, y: \"[{}, {}]\".format(x, y)  # przedział obustronnie domknięty\n",
    "\n",
    "for i in range(k-1):\n",
    "    l, r = left_bound[i], left_bound[i+1]\n",
    "    intervals.append(make_interval(l, r))\n",
    "    n_size[i] = np.sum((beton >= l) & (beton < r))\n",
    "         \n",
    "l, r = left_bound[k-1], bmax\n",
    "intervals.append(make_closed_interval(l, r))\n",
    "n_size[k-1] = np.sum((beton >= l) & (beton <= r))\n",
    "\n",
    "f = n_size / beton.size\n",
    "frequency_distribution = pd.DataFrame({'Interval': np.array(intervals), \n",
    "                                       'n': n_size, 'f': f, \n",
    "                                      'cn': np.cumsum(n_size), 'cf': np.cumsum(f)})\n",
    "frequency_distribution"
   ]
  },
  {
   "cell_type": "markdown",
   "metadata": {},
   "source": [
    "d) Narysować histogram liczności."
   ]
  },
  {
   "cell_type": "code",
   "execution_count": 10,
   "metadata": {
    "ExecuteTime": {
     "end_time": "2023-05-06T19:11:32.078314Z",
     "start_time": "2023-05-06T19:11:31.902969Z"
    },
    "id": "bk4djp5TMAGp"
   },
   "outputs": [
    {
     "data": {
      "image/png": "[encoded data removed]",
      "text/plain": [
       "<Figure size 432x288 with 1 Axes>"
      ]
     },
     "metadata": {
      "needs_background": "light"
     },
     "output_type": "display_data"
    }
   ],
   "source": [
    "hist_data = plt.hist(beton, bins=k, width=3.5, align='mid')  # ręczny dobór szerokości\n",
    "# hist_data = plt.hist(beton, bins=k, align='mid', ec='white')\n",
    "plt.xticks(list(left_bound) + [bmax], rotation=0)\n",
    "plt.show()"
   ]
  },
  {
   "cell_type": "markdown",
   "metadata": {},
   "source": [
    "e) Narysować histogram skumulowanych liczności."
   ]
  },
  {
   "cell_type": "code",
   "execution_count": 11,
   "metadata": {
    "ExecuteTime": {
     "end_time": "2023-05-06T19:11:32.288058Z",
     "start_time": "2023-05-06T19:11:32.084181Z"
    },
    "id": "JviqAX_pX6u2"
   },
   "outputs": [
    {
     "data": {
      "image/png": "[encoded data removed]",
      "text/plain": [
       "<Figure size 432x288 with 1 Axes>"
      ]
     },
     "metadata": {
      "needs_background": "light"
     },
     "output_type": "display_data"
    }
   ],
   "source": [
    "hist_data = plt.hist(beton, bins=k, cumulative=True, align='mid', ec='white')  # automatyczny dobór szerokości\n",
    "# hist_data = plt.hist(beton, bins=k, cumulative=True, align='mid', ec='white', density=True)  # to samo dla częstości\n",
    "plt.xticks(list(left_bound) + [bmax], rotation=0)\n",
    "plt.show()"
   ]
  },
  {
   "cell_type": "markdown",
   "metadata": {
    "id": "IxkE-z8d0_ox"
   },
   "source": [
    "## Zadanie - porównanie średniej arytmetycznej i mediany\n",
    "Wczytaj dane `stats1.csv` opisujące pomiar pewnej długości przez dwóch różnych ekspertów. Porównaj ich rozkład oraz statystyki próbkowe."
   ]
  },
  {
   "cell_type": "code",
   "execution_count": 12,
   "metadata": {
    "ExecuteTime": {
     "end_time": "2023-05-06T19:11:32.322055Z",
     "start_time": "2023-05-06T19:11:32.291038Z"
    },
    "id": "BJuRcy9N0_ox",
    "scrolled": true
   },
   "outputs": [
    {
     "data": {
      "text/html": [
       "<div>\n",
       "<style scoped>\n",
       "    .dataframe tbody tr th:only-of-type {\n",
       "        vertical-align: middle;\n",
       "    }\n",
       "\n",
       "    .dataframe tbody tr th {\n",
       "        vertical-align: top;\n",
       "    }\n",
       "\n",
       "    .dataframe thead th {\n",
       "        text-align: right;\n",
       "    }\n",
       "</style>\n",
       "<table border=\"1\" class=\"dataframe\">\n",
       "  <thead>\n",
       "    <tr style=\"text-align: right;\">\n",
       "      <th></th>\n",
       "      <th>x</th>\n",
       "      <th>y</th>\n",
       "    </tr>\n",
       "  </thead>\n",
       "  <tbody>\n",
       "    <tr>\n",
       "      <th>0</th>\n",
       "      <td>10.968388</td>\n",
       "      <td>10.481487</td>\n",
       "    </tr>\n",
       "    <tr>\n",
       "      <th>1</th>\n",
       "      <td>11.035494</td>\n",
       "      <td>13.211230</td>\n",
       "    </tr>\n",
       "    <tr>\n",
       "      <th>2</th>\n",
       "      <td>3.805479</td>\n",
       "      <td>3.954873</td>\n",
       "    </tr>\n",
       "    <tr>\n",
       "      <th>3</th>\n",
       "      <td>3.402634</td>\n",
       "      <td>5.367647</td>\n",
       "    </tr>\n",
       "    <tr>\n",
       "      <th>4</th>\n",
       "      <td>7.527793</td>\n",
       "      <td>7.234025</td>\n",
       "    </tr>\n",
       "  </tbody>\n",
       "</table>\n",
       "</div>"
      ],
      "text/plain": [
       "           x          y\n",
       "0  10.968388  10.481487\n",
       "1  11.035494  13.211230\n",
       "2   3.805479   3.954873\n",
       "3   3.402634   5.367647\n",
       "4   7.527793   7.234025"
      ]
     },
     "execution_count": 12,
     "metadata": {},
     "output_type": "execute_result"
    }
   ],
   "source": [
    "stats1 = pd.read_csv('../data/stats1.csv')\n",
    "stats1.head(5)"
   ]
  },
  {
   "cell_type": "code",
   "execution_count": 13,
   "metadata": {
    "ExecuteTime": {
     "end_time": "2023-05-06T19:11:32.916636Z",
     "start_time": "2023-05-06T19:11:32.327769Z"
    },
    "id": "F--BXg3U0_oy"
   },
   "outputs": [
    {
     "data": {
      "image/png": "[encoded data removed]",
      "text/plain": [
       "<Figure size 432x288 with 1 Axes>"
      ]
     },
     "metadata": {
      "needs_background": "light"
     },
     "output_type": "display_data"
    },
    {
     "data": {
      "image/png": "[encoded data removed]",
      "text/plain": [
       "<Figure size 432x288 with 1 Axes>"
      ]
     },
     "metadata": {
      "needs_background": "light"
     },
     "output_type": "display_data"
    }
   ],
   "source": [
    "#histogramy\n",
    "plt.hist(stats1.x, bins=np.arange(0, 100, 2))\n",
    "plt.show()\n",
    "plt.hist(stats1.y, bins=np.arange(0, 100, 2))  # tu występuje kilka pomiarów powyżej 100 (outliers?)\n",
    "plt.show()"
   ]
  },
  {
   "cell_type": "code",
   "execution_count": 14,
   "metadata": {
    "ExecuteTime": {
     "end_time": "2023-05-06T19:11:32.946246Z",
     "start_time": "2023-05-06T19:11:32.919764Z"
    },
    "id": "Sw8JNpI70_oy"
   },
   "outputs": [
    {
     "data": {
      "text/html": [
       "<div>\n",
       "<style scoped>\n",
       "    .dataframe tbody tr th:only-of-type {\n",
       "        vertical-align: middle;\n",
       "    }\n",
       "\n",
       "    .dataframe tbody tr th {\n",
       "        vertical-align: top;\n",
       "    }\n",
       "\n",
       "    .dataframe thead th {\n",
       "        text-align: right;\n",
       "    }\n",
       "</style>\n",
       "<table border=\"1\" class=\"dataframe\">\n",
       "  <thead>\n",
       "    <tr style=\"text-align: right;\">\n",
       "      <th></th>\n",
       "      <th>x</th>\n",
       "      <th>y</th>\n",
       "    </tr>\n",
       "  </thead>\n",
       "  <tbody>\n",
       "    <tr>\n",
       "      <th>count</th>\n",
       "      <td>1000.000000</td>\n",
       "      <td>1000.000000</td>\n",
       "    </tr>\n",
       "    <tr>\n",
       "      <th>mean</th>\n",
       "      <td>4.956962</td>\n",
       "      <td>6.523673</td>\n",
       "    </tr>\n",
       "    <tr>\n",
       "      <th>std</th>\n",
       "      <td>3.165879</td>\n",
       "      <td>28.577406</td>\n",
       "    </tr>\n",
       "    <tr>\n",
       "      <th>min</th>\n",
       "      <td>0.289994</td>\n",
       "      <td>-1.198420</td>\n",
       "    </tr>\n",
       "    <tr>\n",
       "      <th>25%</th>\n",
       "      <td>2.660315</td>\n",
       "      <td>2.736644</td>\n",
       "    </tr>\n",
       "    <tr>\n",
       "      <th>50%</th>\n",
       "      <td>4.414328</td>\n",
       "      <td>4.530463</td>\n",
       "    </tr>\n",
       "    <tr>\n",
       "      <th>75%</th>\n",
       "      <td>6.575814</td>\n",
       "      <td>6.822966</td>\n",
       "    </tr>\n",
       "    <tr>\n",
       "      <th>max</th>\n",
       "      <td>27.866537</td>\n",
       "      <td>808.876344</td>\n",
       "    </tr>\n",
       "  </tbody>\n",
       "</table>\n",
       "</div>"
      ],
      "text/plain": [
       "                 x            y\n",
       "count  1000.000000  1000.000000\n",
       "mean      4.956962     6.523673\n",
       "std       3.165879    28.577406\n",
       "min       0.289994    -1.198420\n",
       "25%       2.660315     2.736644\n",
       "50%       4.414328     4.530463\n",
       "75%       6.575814     6.822966\n",
       "max      27.866537   808.876344"
      ]
     },
     "execution_count": 14,
     "metadata": {},
     "output_type": "execute_result"
    }
   ],
   "source": [
    "pd.DataFrame({'x': stats1.x, 'y': stats1.y}).describe()"
   ]
  },
  {
   "cell_type": "code",
   "execution_count": 15,
   "metadata": {
    "ExecuteTime": {
     "end_time": "2023-05-06T19:11:32.960425Z",
     "start_time": "2023-05-06T19:11:32.950975Z"
    },
    "id": "6_K_rekb0_oy"
   },
   "outputs": [
    {
     "data": {
      "text/plain": [
       "103     30.095229\n",
       "158    808.876344\n",
       "240     17.864930\n",
       "323     18.376594\n",
       "380     99.305207\n",
       "467     56.603880\n",
       "524     18.773622\n",
       "592    214.653314\n",
       "658     18.098880\n",
       "699    329.789401\n",
       "Name: y, dtype: float64"
      ]
     },
     "execution_count": 15,
     "metadata": {},
     "output_type": "execute_result"
    }
   ],
   "source": [
    "# stats1.y[np.where(stats1.y > np.quantile(stats1.y, 0.99))[0]]\n",
    "stats1.y[stats1.y > np.quantile(stats1.y, 0.99)]  # tylko 1% największych wartości"
   ]
  },
  {
   "cell_type": "markdown",
   "metadata": {
    "id": "-g5_m0UJ0_oy"
   },
   "source": [
    "## Zadanie - współczynnik rozproszenia\n",
    "Wczytaj dane `stats2.csv` zawierające pomiary wagi słoni i myszy w pewnym zoo (w gramach). Wyznacz statystyki próbkowe i oceń, która próbka, opisująca wagę słoni, czy opisująca wagę myszy, ma większe rozproszenie wartości."
   ]
  },
  {
   "cell_type": "code",
   "execution_count": 16,
   "metadata": {
    "ExecuteTime": {
     "end_time": "2023-05-06T19:11:32.986541Z",
     "start_time": "2023-05-06T19:11:32.962996Z"
    },
    "id": "a3uQ0-Mj0_oy",
    "scrolled": true
   },
   "outputs": [
    {
     "data": {
      "text/html": [
       "<div>\n",
       "<style scoped>\n",
       "    .dataframe tbody tr th:only-of-type {\n",
       "        vertical-align: middle;\n",
       "    }\n",
       "\n",
       "    .dataframe tbody tr th {\n",
       "        vertical-align: top;\n",
       "    }\n",
       "\n",
       "    .dataframe thead th {\n",
       "        text-align: right;\n",
       "    }\n",
       "</style>\n",
       "<table border=\"1\" class=\"dataframe\">\n",
       "  <thead>\n",
       "    <tr style=\"text-align: right;\">\n",
       "      <th></th>\n",
       "      <th>elephant</th>\n",
       "      <th>mouse</th>\n",
       "    </tr>\n",
       "  </thead>\n",
       "  <tbody>\n",
       "    <tr>\n",
       "      <th>0</th>\n",
       "      <td>3883240.0</td>\n",
       "      <td>21.0</td>\n",
       "    </tr>\n",
       "    <tr>\n",
       "      <th>1</th>\n",
       "      <td>4046450.0</td>\n",
       "      <td>18.0</td>\n",
       "    </tr>\n",
       "    <tr>\n",
       "      <th>2</th>\n",
       "      <td>4152119.0</td>\n",
       "      <td>22.0</td>\n",
       "    </tr>\n",
       "    <tr>\n",
       "      <th>3</th>\n",
       "      <td>2578306.0</td>\n",
       "      <td>23.0</td>\n",
       "    </tr>\n",
       "    <tr>\n",
       "      <th>4</th>\n",
       "      <td>3597481.0</td>\n",
       "      <td>25.0</td>\n",
       "    </tr>\n",
       "  </tbody>\n",
       "</table>\n",
       "</div>"
      ],
      "text/plain": [
       "    elephant  mouse\n",
       "0  3883240.0   21.0\n",
       "1  4046450.0   18.0\n",
       "2  4152119.0   22.0\n",
       "3  2578306.0   23.0\n",
       "4  3597481.0   25.0"
      ]
     },
     "execution_count": 16,
     "metadata": {},
     "output_type": "execute_result"
    }
   ],
   "source": [
    "weight = pd.read_csv('../data/stats2.csv')\n",
    "weight.head(5)"
   ]
  },
  {
   "cell_type": "code",
   "execution_count": 17,
   "metadata": {
    "ExecuteTime": {
     "end_time": "2023-05-06T19:11:33.087758Z",
     "start_time": "2023-05-06T19:11:32.989786Z"
    },
    "id": "n-pwmdcrYzKC"
   },
   "outputs": [
    {
     "data": {
      "text/html": [
       "<div>\n",
       "<style scoped>\n",
       "    .dataframe tbody tr th:only-of-type {\n",
       "        vertical-align: middle;\n",
       "    }\n",
       "\n",
       "    .dataframe tbody tr th {\n",
       "        vertical-align: top;\n",
       "    }\n",
       "\n",
       "    .dataframe thead th {\n",
       "        text-align: right;\n",
       "    }\n",
       "</style>\n",
       "<table border=\"1\" class=\"dataframe\">\n",
       "  <thead>\n",
       "    <tr style=\"text-align: right;\">\n",
       "      <th></th>\n",
       "      <th>elephant</th>\n",
       "      <th>mouse</th>\n",
       "    </tr>\n",
       "  </thead>\n",
       "  <tbody>\n",
       "    <tr>\n",
       "      <th>count</th>\n",
       "      <td>1.000000e+02</td>\n",
       "      <td>100.000000</td>\n",
       "    </tr>\n",
       "    <tr>\n",
       "      <th>mean</th>\n",
       "      <td>4.017328e+06</td>\n",
       "      <td>20.470000</td>\n",
       "    </tr>\n",
       "    <tr>\n",
       "      <th>std</th>\n",
       "      <td>4.998078e+05</td>\n",
       "      <td>2.886594</td>\n",
       "    </tr>\n",
       "    <tr>\n",
       "      <th>min</th>\n",
       "      <td>2.578306e+06</td>\n",
       "      <td>13.000000</td>\n",
       "    </tr>\n",
       "    <tr>\n",
       "      <th>25%</th>\n",
       "      <td>3.685120e+06</td>\n",
       "      <td>19.000000</td>\n",
       "    </tr>\n",
       "    <tr>\n",
       "      <th>50%</th>\n",
       "      <td>4.046994e+06</td>\n",
       "      <td>20.000000</td>\n",
       "    </tr>\n",
       "    <tr>\n",
       "      <th>75%</th>\n",
       "      <td>4.380402e+06</td>\n",
       "      <td>22.000000</td>\n",
       "    </tr>\n",
       "    <tr>\n",
       "      <th>max</th>\n",
       "      <td>5.246947e+06</td>\n",
       "      <td>27.000000</td>\n",
       "    </tr>\n",
       "  </tbody>\n",
       "</table>\n",
       "</div>"
      ],
      "text/plain": [
       "           elephant       mouse\n",
       "count  1.000000e+02  100.000000\n",
       "mean   4.017328e+06   20.470000\n",
       "std    4.998078e+05    2.886594\n",
       "min    2.578306e+06   13.000000\n",
       "25%    3.685120e+06   19.000000\n",
       "50%    4.046994e+06   20.000000\n",
       "75%    4.380402e+06   22.000000\n",
       "max    5.246947e+06   27.000000"
      ]
     },
     "execution_count": 17,
     "metadata": {},
     "output_type": "execute_result"
    }
   ],
   "source": [
    "weight.describe()"
   ]
  },
  {
   "cell_type": "code",
   "execution_count": 18,
   "metadata": {
    "ExecuteTime": {
     "end_time": "2023-05-06T19:11:33.106924Z",
     "start_time": "2023-05-06T19:11:33.093166Z"
    }
   },
   "outputs": [
    {
     "name": "stdout",
     "output_type": "stream",
     "text": [
      "elephant_std: 499807.85, mouse_std: 2.89\n"
     ]
    }
   ],
   "source": [
    "print(f\"elephant_std: {round(weight.elephant.std(), 2)}, mouse_std: {round(weight.mouse.std(), 2)}\")"
   ]
  },
  {
   "cell_type": "code",
   "execution_count": 19,
   "metadata": {
    "ExecuteTime": {
     "end_time": "2023-05-06T19:11:33.140242Z",
     "start_time": "2023-05-06T19:11:33.111729Z"
    }
   },
   "outputs": [
    {
     "data": {
      "text/plain": [
       "elephant    499807.845364\n",
       "mouse            2.886594\n",
       "Name: std, dtype: float64"
      ]
     },
     "execution_count": 19,
     "metadata": {},
     "output_type": "execute_result"
    }
   ],
   "source": [
    "# inny sposób\n",
    "weight.describe().loc['std']"
   ]
  },
  {
   "cell_type": "markdown",
   "metadata": {
    "id": "foBaDj9qSuLJ"
   },
   "source": [
    "**Uwaga**: W sytuacji, gdy chcemy porównanć rozrzut dwóch lub więcej prób, nieraz wygodniej jest skorzystać ze względnej miary rozproszenia - **współczynnika rozproszenia**:\n",
    "$$\n",
    "V = \\frac{S}{\\overline{X}}\\cdot 100\\%.\n",
    "$$"
   ]
  },
  {
   "cell_type": "code",
   "execution_count": 20,
   "metadata": {
    "ExecuteTime": {
     "end_time": "2023-05-06T19:11:33.159876Z",
     "start_time": "2023-05-06T19:11:33.146570Z"
    },
    "id": "eMeJwm3AYxO7"
   },
   "outputs": [
    {
     "name": "stdout",
     "output_type": "stream",
     "text": [
      "norm_elephant_std: 12.44%         norm_mouse_std: 14.1%\n"
     ]
    }
   ],
   "source": [
    "print(f\"norm_elephant_std: {round(100 * weight.elephant.std() / weight.elephant.mean(), 2)}% \\\n",
    "        norm_mouse_std: {round(100 * weight.mouse.std() / weight.mouse.mean(), 2)}%\")"
   ]
  },
  {
   "cell_type": "code",
   "execution_count": 21,
   "metadata": {
    "ExecuteTime": {
     "end_time": "2023-05-06T19:11:33.205156Z",
     "start_time": "2023-05-06T19:11:33.164057Z"
    }
   },
   "outputs": [
    {
     "data": {
      "text/plain": [
       "elephant    12.441300\n",
       "mouse       14.101582\n",
       "dtype: float64"
      ]
     },
     "execution_count": 21,
     "metadata": {},
     "output_type": "execute_result"
    }
   ],
   "source": [
    "100 * weight.describe().loc['std'] / weight.describe().loc['mean']"
   ]
  },
  {
   "cell_type": "markdown",
   "metadata": {
    "id": "AFzJqcbj0_oz"
   },
   "source": [
    "## Miara korelacji — współczynnik korelacji Pearsona"
   ]
  },
  {
   "cell_type": "markdown",
   "metadata": {
    "id": "ymiyzDZC0_oz"
   },
   "source": [
    "W przypadku jednoczesnego badania dwóch cech pewnej populacji naszą próbą jest ciąg par $$(X_1, Y_1),\\ldots,(X_n, Y_n),$$ gdzie $X_i$ oraz $Y_i$ oznaczają, odpowiednio, wartości pierwszej i drugiej cechy przyjmowane przez $i$-ty element próby.\n",
    "\n",
    "Wówczas **współczynnik korelacji Pearsona** jest dany wzorem\n",
    "\\begin{equation*}\n",
    "    r = \\frac{\\sum_{i=1}^n(X_i-\\overline{X})(Y_i-\\overline{Y})}{\\sqrt{\\sum_{i=1}^n(X_i-\\overline{X})^2\\sum_{i=1}^n(Y_i-\\overline{Y})^2}}.\n",
    "\\end{equation*}"
   ]
  },
  {
   "cell_type": "code",
   "execution_count": 22,
   "metadata": {
    "ExecuteTime": {
     "end_time": "2023-05-06T19:11:33.297730Z",
     "start_time": "2023-05-06T19:11:33.210946Z"
    },
    "id": "nTnjJx3F0_oz"
   },
   "outputs": [],
   "source": [
    "from scipy import stats\n",
    "# dokumentacja! ('Shift' + 'Tab')\n",
    "?np.corrcoef"
   ]
  },
  {
   "cell_type": "markdown",
   "metadata": {
    "id": "awvjJOPM0_o0"
   },
   "source": [
    "## Zadanie - korelacja liniowa\n",
    "Wygeneruj próbkę $X$ z wybranego przez siebie rozkładu i oblicz wartość elementów próbki $Y$ zgodnie ze wzorem\n",
    "\n",
    "a) $Y = X$,\n",
    "\n",
    "b) $Y = 5X$,\n",
    "\n",
    "c) $Y = -5X$,\n",
    "\n",
    "d) $Y = X^2$,\n",
    "\n",
    "f) $Y = \\exp(X)$,\n",
    "\n",
    "g) $Y = \\sin(X)$, \n",
    "\n",
    "a następnie oblicz współczynnik korelacji pomiędzy zmiennymi $X$ i $Y$."
   ]
  },
  {
   "cell_type": "code",
   "execution_count": 23,
   "metadata": {
    "ExecuteTime": {
     "end_time": "2023-05-06T19:11:33.636328Z",
     "start_time": "2023-05-06T19:11:33.301724Z"
    },
    "id": "nAyghq4xpFPY"
   },
   "outputs": [
    {
     "data": {
      "image/png": "[encoded data removed]",
      "text/plain": [
       "<Figure size 432x288 with 1 Axes>"
      ]
     },
     "metadata": {
      "needs_background": "light"
     },
     "output_type": "display_data"
    }
   ],
   "source": [
    "x = stats.norm.rvs(size=10000, loc=0, scale=1)\n",
    "plt.hist(x)\n",
    "plt.show()"
   ]
  },
  {
   "cell_type": "code",
   "execution_count": 24,
   "metadata": {
    "ExecuteTime": {
     "end_time": "2023-05-06T19:11:33.654365Z",
     "start_time": "2023-05-06T19:11:33.642268Z"
    },
    "id": "veGvqDCoTxcY"
   },
   "outputs": [],
   "source": [
    "f1 = lambda x: x\n",
    "f2 = lambda a, x: a * x\n",
    "f3 = lambda a, x: x ** a\n",
    "f4 = lambda x: np.exp(x)\n",
    "f5 = lambda x: np.sin(x)\n",
    "\n",
    "ya = f1(x)\n",
    "yb = f2(5, x)\n",
    "yc = f2(-5, x)\n",
    "yd = f3(2, x)\n",
    "yf = f4(x)\n",
    "yg = f5(x)"
   ]
  },
  {
   "cell_type": "code",
   "execution_count": 25,
   "metadata": {
    "ExecuteTime": {
     "end_time": "2023-05-06T19:11:34.714396Z",
     "start_time": "2023-05-06T19:11:33.663455Z"
    },
    "id": "ycPFWW9RkQ7p"
   },
   "outputs": [
    {
     "data": {
      "image/png": "[encoded data removed]",
      "text/plain": [
       "<Figure size 1440x720 with 6 Axes>"
      ]
     },
     "metadata": {
      "needs_background": "light"
     },
     "output_type": "display_data"
    }
   ],
   "source": [
    "fig, ax = plt.subplots(2, 3, figsize=(20, 10))\n",
    "\n",
    "ax[0, 0].plot(x, ya, \"p\", label=\"ya, cor={}\".format(np.round(np.corrcoef(x, ya)[0, 1], 2)))  # [0, 1] to wsp. korelacji\n",
    "ax[0, 0].legend(loc='best', frameon=False)\n",
    "\n",
    "ax[0, 1].plot(x, yb, \"p\", label=\"yb, cor={}\".format(np.round(np.corrcoef(x, yb)[0, 1], 2)))\n",
    "ax[0, 1].legend(loc='best', frameon=False)\n",
    "\n",
    "ax[0, 2].plot(x, yc, \"p\", label=\"yc, cor={}\".format(np.round(np.corrcoef(x, yc)[0, 1], 2)))\n",
    "ax[0, 2].legend(loc='best', frameon=False)\n",
    "\n",
    "ax[1, 0].plot(x, yd, \"p\", label=\"yd, cor={}\".format(np.round(np.corrcoef(x, yd)[0, 1], 2)))\n",
    "ax[1, 0].legend(loc='best', frameon=False)\n",
    "\n",
    "ax[1, 1].plot(x, yf, \"p\", label=\"yf, cor={}\".format(np.round(np.corrcoef(x, yf)[0, 1], 2)))\n",
    "ax[1, 1].legend(loc='best', frameon=False)\n",
    "\n",
    "ax[1, 2].plot(x, yg, \"p\", label=\"yg, cor={}\".format(np.round(np.corrcoef(x, yg)[0, 1], 2)))\n",
    "ax[1, 2].legend(loc='best', frameon=False)\n",
    "\n",
    "plt.show()"
   ]
  },
  {
   "cell_type": "markdown",
   "metadata": {
    "id": "9heU_76M0_o0"
   },
   "source": [
    "## Zadanie - korelacja liniowa\n",
    "Wygeneruj $n$ par niezależnych zmiennych losowych, dla każdej z nich wyznacz współczynnik korelacji, a następnie sprawdź rozkład otrzymanych współczynników."
   ]
  },
  {
   "cell_type": "code",
   "execution_count": 103,
   "metadata": {
    "ExecuteTime": {
     "end_time": "2023-05-06T20:08:36.870275Z",
     "start_time": "2023-05-06T20:08:36.597966Z"
    },
    "id": "x4dWJT0C0_o0"
   },
   "outputs": [
    {
     "data": {
      "image/png": "[encoded data removed]",
      "text/plain": [
       "<Figure size 432x288 with 1 Axes>"
      ]
     },
     "metadata": {
      "needs_background": "light"
     },
     "output_type": "display_data"
    }
   ],
   "source": [
    "n = 1000\n",
    "corr_list = []\n",
    "\n",
    "for i in range(n):\n",
    "    \n",
    "    x1 = stats.norm.rvs(size=100, loc=0, scale=1)\n",
    "    x2 = stats.norm.rvs(size=100, loc=0, scale=1)\n",
    "    corr_list.append(np.corrcoef(x1, x2)[0, 1])\n",
    "    \n",
    "plt.hist(corr_list)\n",
    "plt.show()"
   ]
  },
  {
   "cell_type": "markdown",
   "metadata": {
    "id": "rWsR55UJ0_o1"
   },
   "source": [
    "## Zadanie - do domu\n",
    "Wczytaj zbiór danych `boston_prediction.csv`, który zawiera dane z predykcji dwóch modeli cen mieszkań w Bostonie (więcej na temat zbioru, na podstawie, którego zbudowano modele możesz przeczytać, np. https://stat.ethz.ch/R-manual/R-devel/library/MASS/html/Boston.html).\n",
    "\n",
    "Oceń jakość predykcji obu modeli: policz średnią, medianę, kwantyl rzędu 90% oraz odchylenie standardowe dla błędu bezwzględnego i względnego oraz korelację wartości przewidywanych z prawdziwymi. Wyciągnąć wnioski na temat działania obu modeli."
   ]
  },
  {
   "cell_type": "markdown",
   "metadata": {
    "id": "0JsylxqT0_o1"
   },
   "source": [
    "**Wskazówka**:\n",
    "\n",
    "**Błąd bezwzględny** liczymy ze wzoru:\n",
    "$$\n",
    "\\Delta x = |x-x_0|.\n",
    "$$\n",
    "\n",
    "**Błąd względny** liczymy ze wzoru:\n",
    "$$\n",
    "\\delta = \\frac{\\Delta x}{x}.\n",
    "$$\n",
    "\n",
    "Oznaczenia: $x$ - wartość dokładna, $x_0$ - wartość zmierzona."
   ]
  },
  {
   "cell_type": "code",
   "execution_count": 29,
   "metadata": {
    "ExecuteTime": {
     "end_time": "2023-05-06T19:14:22.230874Z",
     "start_time": "2023-05-06T19:14:22.226666Z"
    },
    "id": "RuVE8SMh0_o1"
   },
   "outputs": [],
   "source": [
    "# dane zostały usunięte z przyczyn etycznych !! (alternatywnie można użyć innego zbioru, według podanych wskazówek)\n",
    "\n",
    "# from sklearn.datasets import load_boston\n",
    "# X, y = load_boston(return_X_y=True)"
   ]
  },
  {
   "cell_type": "code",
   "execution_count": 28,
   "metadata": {
    "ExecuteTime": {
     "end_time": "2023-05-06T19:12:53.629534Z",
     "start_time": "2023-05-06T19:12:53.607824Z"
    },
    "id": "CQJglia-0_o1",
    "scrolled": true
   },
   "outputs": [
    {
     "data": {
      "text/html": [
       "<div>\n",
       "<style scoped>\n",
       "    .dataframe tbody tr th:only-of-type {\n",
       "        vertical-align: middle;\n",
       "    }\n",
       "\n",
       "    .dataframe tbody tr th {\n",
       "        vertical-align: top;\n",
       "    }\n",
       "\n",
       "    .dataframe thead th {\n",
       "        text-align: right;\n",
       "    }\n",
       "</style>\n",
       "<table border=\"1\" class=\"dataframe\">\n",
       "  <thead>\n",
       "    <tr style=\"text-align: right;\">\n",
       "      <th></th>\n",
       "      <th>price</th>\n",
       "      <th>model_pred</th>\n",
       "      <th>model_pred2</th>\n",
       "    </tr>\n",
       "  </thead>\n",
       "  <tbody>\n",
       "    <tr>\n",
       "      <th>0</th>\n",
       "      <td>24.0</td>\n",
       "      <td>30.0</td>\n",
       "      <td>27.4</td>\n",
       "    </tr>\n",
       "    <tr>\n",
       "      <th>1</th>\n",
       "      <td>21.6</td>\n",
       "      <td>25.0</td>\n",
       "      <td>21.7</td>\n",
       "    </tr>\n",
       "    <tr>\n",
       "      <th>2</th>\n",
       "      <td>34.7</td>\n",
       "      <td>30.6</td>\n",
       "      <td>33.7</td>\n",
       "    </tr>\n",
       "    <tr>\n",
       "      <th>3</th>\n",
       "      <td>33.4</td>\n",
       "      <td>28.6</td>\n",
       "      <td>33.7</td>\n",
       "    </tr>\n",
       "    <tr>\n",
       "      <th>4</th>\n",
       "      <td>36.2</td>\n",
       "      <td>27.9</td>\n",
       "      <td>33.7</td>\n",
       "    </tr>\n",
       "  </tbody>\n",
       "</table>\n",
       "</div>"
      ],
      "text/plain": [
       "   price  model_pred  model_pred2\n",
       "0   24.0        30.0         27.4\n",
       "1   21.6        25.0         21.7\n",
       "2   34.7        30.6         33.7\n",
       "3   33.4        28.6         33.7\n",
       "4   36.2        27.9         33.7"
      ]
     },
     "execution_count": 28,
     "metadata": {},
     "output_type": "execute_result"
    }
   ],
   "source": [
    "boston_pred = pd.read_csv(\"../data/boston_prediction.csv\")\n",
    "boston_pred.head(5)"
   ]
  },
  {
   "cell_type": "code",
   "execution_count": 31,
   "metadata": {
    "ExecuteTime": {
     "end_time": "2023-05-06T19:25:45.955649Z",
     "start_time": "2023-05-06T19:25:45.947812Z"
    }
   },
   "outputs": [],
   "source": [
    "bezwzgl_1 = np.abs(boston_pred.model_pred - boston_pred.model_pred.mean())\n",
    "wzgl_1 = bezwzgl_1 / boston_pred.model_pred\n",
    "\n",
    "bezwzgl_2 = np.abs(boston_pred.model_pred2 - boston_pred.model_pred2.mean())\n",
    "wzgl_2 = bezwzgl_2 / boston_pred.model_pred2"
   ]
  },
  {
   "cell_type": "code",
   "execution_count": 81,
   "metadata": {
    "ExecuteTime": {
     "end_time": "2023-05-06T19:46:43.326794Z",
     "start_time": "2023-05-06T19:46:43.316828Z"
    },
    "id": "9PwpCz8w0_o1"
   },
   "outputs": [
    {
     "name": "stdout",
     "output_type": "stream",
     "text": [
      "Model 1: \n",
      " średnia: 22.53201581027668 \n",
      " mediana 22.1 \n",
      " kwantyl 90%:       33.3 \n",
      " błąd bezwzględny: 4.915218074115093 \n",
      " błąd względny:       1.4530323465929194 \n",
      " korelacja: 0.8606612985241792\n"
     ]
    }
   ],
   "source": [
    "print(f\"Model 1: \\n średnia: {boston_pred.model_pred.mean()} \\n mediana {boston_pred.model_pred.median()} \\n kwantyl 90%: \\\n",
    "      {np.percentile(boston_pred.model_pred, 90)} \\n błąd bezwzględny: {bezwzgl_1.std()} \\n błąd względny: \\\n",
    "      {wzgl_1.std()} \\n korelacja: {np.corrcoef(boston_pred.price, boston_pred.model_pred)[0, 1]}\")"
   ]
  },
  {
   "cell_type": "code",
   "execution_count": 82,
   "metadata": {
    "ExecuteTime": {
     "end_time": "2023-05-06T19:46:45.391833Z",
     "start_time": "2023-05-06T19:46:45.381365Z"
    },
    "id": "Vjvt9Xj80_o1"
   },
   "outputs": [
    {
     "name": "stdout",
     "output_type": "stream",
     "text": [
      "Model 2: \n",
      " średnia: 22.539920948616597 \n",
      " mediana 21.7         \n",
      " kwantyl 90%: 33.7 \n",
      " błąd bezwzględny: 5.7782138776073975         \n",
      " błąd względny: 0.2833896875604169 \n",
      " korelacja: 0.8986422163603677\n"
     ]
    }
   ],
   "source": [
    "print(f\"Model 2: \\n średnia: {boston_pred.model_pred2.mean()} \\n mediana {boston_pred.model_pred2.median()} \\\n",
    "        \\n kwantyl 90%: {np.percentile(boston_pred.model_pred2, 90)} \\n błąd bezwzględny: {bezwzgl_2.std()} \\\n",
    "        \\n błąd względny: {wzgl_2.std()} \\n korelacja: {np.corrcoef(boston_pred.price, boston_pred.model_pred2)[0, 1]}\")"
   ]
  }
 ],
 "metadata": {
  "colab": {
   "provenance": []
  },
  "hide_input": false,
  "kernelspec": {
   "display_name": "Python 3 (ipykernel)",
   "language": "python",
   "name": "python3"
  },
  "language_info": {
   "codemirror_mode": {
    "name": "ipython",
    "version": 3
   },
   "file_extension": ".py",
   "mimetype": "text/x-python",
   "name": "python",
   "nbconvert_exporter": "python",
   "pygments_lexer": "ipython3",
   "version": "3.10.6"
  },
  "toc": {
   "base_numbering": 1,
   "nav_menu": {},
   "number_sections": true,
   "sideBar": true,
   "skip_h1_title": true,
   "title_cell": "Table of Contents",
   "title_sidebar": "Contents",
   "toc_cell": false,
   "toc_position": {},
   "toc_section_display": true,
   "toc_window_display": false
  },
  "varInspector": {
   "cols": {
    "lenName": 16,
    "lenType": 16,
    "lenVar": 40
   },
   "kernels_config": {
    "python": {
     "delete_cmd_postfix": "",
     "delete_cmd_prefix": "del ",
     "library": "var_list.py",
     "varRefreshCmd": "print(var_dic_list())"
    },
    "r": {
     "delete_cmd_postfix": ") ",
     "delete_cmd_prefix": "rm(",
     "library": "var_list.r",
     "varRefreshCmd": "cat(var_dic_list()) "
    }
   },
   "types_to_exclude": [
    "module",
    "function",
    "builtin_function_or_method",
    "instance",
    "_Feature"
   ],
   "window_display": false
  }
 },
 "nbformat": 4,
 "nbformat_minor": 1
}
