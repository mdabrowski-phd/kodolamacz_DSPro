{
 "cells": [
  {
   "cell_type": "markdown",
   "metadata": {
    "id": "oJBJ3rWdlDnz"
   },
   "source": [
    "### Rozkład jednostajny - $U(a, b)$\n",
    "Zmienna losowa $X$ ma **rozkład jednostajny** na przedziale $[a,b]$, jeżeli gęstość $f$ jest postaci\n",
    "$$\n",
    "    f(x)=\\left.\n",
    "    \\begin{cases}\n",
    "    \\frac{1}{b-a} \\quad &\\text{dla}\\quad x\\in[a,b]\\\\\n",
    "    0 \\quad &\\text{dla}\\quad x\\not\\in [a,b]\n",
    "    \\end{cases}\\right.\n",
    "$$\n",
    "\n",
    "Wartość oczekiwana i wariancja dane są wzorami\n",
    "$$\n",
    "    \\mathbb{E}X = \\frac{a+b}{2}, \\quad \\text{Var}(X) = \\frac{(b-a)^2}{12}.\n",
    "$$"
   ]
  },
  {
   "cell_type": "code",
   "execution_count": 1,
   "metadata": {
    "ExecuteTime": {
     "end_time": "2023-05-06T13:53:27.238635Z",
     "start_time": "2023-05-06T13:53:26.160825Z"
    },
    "id": "VKrYhp5MlDn4"
   },
   "outputs": [],
   "source": [
    "import numpy as np\n",
    "import matplotlib.pyplot as plt\n",
    "\n",
    "from scipy import stats"
   ]
  },
  {
   "cell_type": "markdown",
   "metadata": {
    "id": "ET3hAqxHlDn5"
   },
   "source": [
    "### Zadanie\n",
    "1. Zdefiniuj zmienną losową dla rozkładu jednostajnego.\n",
    "2. Narysuj gęstość.\n",
    "3. Narysuj dystrybuantę.\n",
    "4. Wyznacz podstawowe charakterystyki rozkładu: średnia, wariancja, odchylenie standardowe.\n",
    "5. Wylosuj $n$ obserwacji z zdefiniowanego rozkładu.\n",
    "6. Narysujmy histogram dla wylosowanej powyżej próbki.\n",
    "7. Porównaj gęstości/dystrybuanty kilku różnych rozkładów jednostajnych."
   ]
  },
  {
   "cell_type": "code",
   "execution_count": 3,
   "metadata": {
    "ExecuteTime": {
     "end_time": "2023-05-06T13:53:40.048405Z",
     "start_time": "2023-05-06T13:53:40.044279Z"
    },
    "id": "T5Wih4x6e-c8"
   },
   "outputs": [],
   "source": [
    "# 1. Rozkład prawdopodobieństwa\n",
    "uni = stats.uniform(loc=0, scale=1) #[a = loc, b = loc+scale]"
   ]
  },
  {
   "cell_type": "code",
   "execution_count": 4,
   "metadata": {
    "ExecuteTime": {
     "end_time": "2023-05-06T13:53:44.523110Z",
     "start_time": "2023-05-06T13:53:44.392152Z"
    },
    "id": "Cg5xlGMYyzoG"
   },
   "outputs": [
    {
     "data": {
      "text/plain": [
       "[<matplotlib.lines.Line2D at 0x7ff51dda49d0>]"
      ]
     },
     "execution_count": 4,
     "metadata": {},
     "output_type": "execute_result"
    },
    {
     "data": {
      "image/png": "[encoded data removed]",
      "text/plain": [
       "<Figure size 432x288 with 1 Axes>"
      ]
     },
     "metadata": {
      "needs_background": "light"
     },
     "output_type": "display_data"
    }
   ],
   "source": [
    "# 2. Gęstość = probability density function = pdf\n",
    "\n",
    "fig, ax = plt.subplots(1, 1)\n",
    "ax.set_xlim([-5, 6])\n",
    "ax.set_ylim([0, 1.2])\n",
    "\n",
    "x_value = np.linspace(-5, 6, 1000)\n",
    "ax.plot(x_value, uni.pdf(x_value), 'ro--', ms=2, label='uniform pdf')"
   ]
  },
  {
   "cell_type": "code",
   "execution_count": 5,
   "metadata": {
    "ExecuteTime": {
     "end_time": "2023-05-06T13:53:48.731431Z",
     "start_time": "2023-05-06T13:53:48.595995Z"
    },
    "id": "JWvU0Sekyuai"
   },
   "outputs": [
    {
     "data": {
      "image/png": "[encoded data removed]",
      "text/plain": [
       "<Figure size 432x288 with 1 Axes>"
      ]
     },
     "metadata": {
      "needs_background": "light"
     },
     "output_type": "display_data"
    }
   ],
   "source": [
    "# 3. Dystrybunta\n",
    "\n",
    "fig, ax = plt.subplots(1, 1)\n",
    "ax.set_xlim([-10, 10])\n",
    "ax.set_ylim([-0.1, 1.1])\n",
    "\n",
    "x = np.arange(-10, 10, 0.1)\n",
    "ax.plot(x, uni.cdf(x), 'r--', ms=1, label='uniform cdf')\n",
    "plt.show()"
   ]
  },
  {
   "cell_type": "code",
   "execution_count": 8,
   "metadata": {
    "ExecuteTime": {
     "end_time": "2023-05-06T14:05:17.655545Z",
     "start_time": "2023-05-06T14:05:17.648788Z"
    }
   },
   "outputs": [
    {
     "name": "stdout",
     "output_type": "stream",
     "text": [
      "(array(0.5), array(0.08333333))\n",
      "0.28867513459481287\n"
     ]
    }
   ],
   "source": [
    "# 4. Podstawowe statystyki\n",
    "\n",
    "print(uni.stats('mv'))\n",
    "print(np.sqrt(uni.stats('v')))"
   ]
  },
  {
   "cell_type": "code",
   "execution_count": 6,
   "metadata": {
    "ExecuteTime": {
     "end_time": "2023-05-06T13:53:54.173447Z",
     "start_time": "2023-05-06T13:53:54.165296Z"
    },
    "id": "zadJqoR5hOIf"
   },
   "outputs": [
    {
     "data": {
      "text/plain": [
       "(8.281103744034457e-05, 0.9999557198956783)"
      ]
     },
     "execution_count": 6,
     "metadata": {},
     "output_type": "execute_result"
    }
   ],
   "source": [
    "# 5. Losowanie obserwacji z próbki\n",
    "\n",
    "x = uni.rvs(10000)\n",
    "x.min(), x.max()"
   ]
  },
  {
   "cell_type": "code",
   "execution_count": 7,
   "metadata": {
    "ExecuteTime": {
     "end_time": "2023-05-06T13:53:59.308051Z",
     "start_time": "2023-05-06T13:53:59.182024Z"
    },
    "id": "QFnp3S8MhRq-",
    "scrolled": true
   },
   "outputs": [
    {
     "data": {
      "image/png": "[encoded data removed]",
      "text/plain": [
       "<Figure size 432x288 with 1 Axes>"
      ]
     },
     "metadata": {
      "needs_background": "light"
     },
     "output_type": "display_data"
    }
   ],
   "source": [
    "# 6. Histogram i rozkład gęstości\n",
    "\n",
    "fig, ax = plt.subplots(1, 1)\n",
    "ax.hist(x, histtype='stepfilled', alpha=0.2, density=True)\n",
    "\n",
    "x_value = np.linspace(-1, 2, 1000)\n",
    "plt.plot(x_value, uni.pdf(x_value), 'ro--', ms=2)\n",
    "plt.show()"
   ]
  },
  {
   "cell_type": "markdown",
   "metadata": {
    "id": "G_j6RctalDn7"
   },
   "source": [
    "### Zadanie\n",
    "\n",
    "Zakładając, że zmienna losowa X ma rozkład jednostajny na odcinku $[-5, 5]$, oblicz prawdopodobieństwo:\n",
    "\n",
    "a) $P(-3 < X \\leq 3) = 0.6$\n",
    "\n",
    "b) $P( X > 0) = 1/2$\n",
    "\n",
    "c) $P( X < -10) = 0$"
   ]
  }
 ],
 "metadata": {
  "colab": {
   "provenance": []
  },
  "hide_input": false,
  "kernelspec": {
   "display_name": "Python 3 (ipykernel)",
   "language": "python",
   "name": "python3"
  },
  "language_info": {
   "codemirror_mode": {
    "name": "ipython",
    "version": 3
   },
   "file_extension": ".py",
   "mimetype": "text/x-python",
   "name": "python",
   "nbconvert_exporter": "python",
   "pygments_lexer": "ipython3",
   "version": "3.10.6"
  },
  "toc": {
   "base_numbering": 1,
   "nav_menu": {},
   "number_sections": true,
   "sideBar": true,
   "skip_h1_title": true,
   "title_cell": "Table of Contents",
   "title_sidebar": "Contents",
   "toc_cell": false,
   "toc_position": {},
   "toc_section_display": true,
   "toc_window_display": false
  },
  "varInspector": {
   "cols": {
    "lenName": 16,
    "lenType": 16,
    "lenVar": 40
   },
   "kernels_config": {
    "python": {
     "delete_cmd_postfix": "",
     "delete_cmd_prefix": "del ",
     "library": "var_list.py",
     "varRefreshCmd": "print(var_dic_list())"
    },
    "r": {
     "delete_cmd_postfix": ") ",
     "delete_cmd_prefix": "rm(",
     "library": "var_list.r",
     "varRefreshCmd": "cat(var_dic_list()) "
    }
   },
   "types_to_exclude": [
    "module",
    "function",
    "builtin_function_or_method",
    "instance",
    "_Feature"
   ],
   "window_display": false
  }
 },
 "nbformat": 4,
 "nbformat_minor": 1
}
