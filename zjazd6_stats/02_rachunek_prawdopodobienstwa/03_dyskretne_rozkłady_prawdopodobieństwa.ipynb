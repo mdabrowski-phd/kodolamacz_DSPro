{
 "cells": [
  {
   "cell_type": "markdown",
   "metadata": {
    "id": "M02z4ZbOcRII"
   },
   "source": [
    "# Rozkłady dyskretne\n",
    "1. Rozkład dwupunktowy\n",
    "2. Rozkład dwumianowy"
   ]
  },
  {
   "cell_type": "code",
   "execution_count": 1,
   "metadata": {
    "ExecuteTime": {
     "end_time": "2023-05-06T16:23:22.984697Z",
     "start_time": "2023-05-06T16:23:21.363861Z"
    },
    "id": "k7_EhHEWcRIL"
   },
   "outputs": [],
   "source": [
    "import numpy as np\n",
    "import matplotlib.pyplot as plt\n",
    "\n",
    "from scipy import stats"
   ]
  },
  {
   "cell_type": "markdown",
   "metadata": {
    "id": "F-mdIP3BcRIM"
   },
   "source": [
    "### Zadanie\n",
    "Dla rozkładu dwupunktowego i dwumianowego:\n",
    "1. Zdefiniuj zmienną losową dla tego rozkładu prawdopobieństtwa.\n",
    "2. Narysuj funkcję rozkładu prawdopodobieństwa.\n",
    "3. Narysuj dystrybuantę.\n",
    "4. Wyznacz podstawowe charakterystyki rozkładu: średnia, wariancja, odchylenie standardowe.\n",
    "5. Wylosuj $n$ obserwacji z zdefiniowanego rozkładu.\n",
    "6. Narysujmy histogram dla wylosowanej powyżej próbki.\n",
    "7. Porównaj teoretyczną i zaaobserwowaną funkcję rozkładu prawdopobieństwa."
   ]
  },
  {
   "cell_type": "markdown",
   "metadata": {
    "id": "f5JTTfi-cRIM"
   },
   "source": [
    "### Rozkład dwupunktowy - $Bern(p)$\n",
    "\n",
    "Zmienna losowa $X$ ma **rozkład dwupunktowy** z parametrem $0 < p < 1$, jeżeli\n",
    "$$\n",
    "    P(X=1)=p, \\quad P(X=0)=1-p.\n",
    "$$\n",
    "\n",
    "Zmienna losowa $X$ opisuje pojedyncze doświadczenie, o którym można myśleć w kategorii ,,sukces--porażka'': \n",
    "- zmienna przyjmuje wartość 1 z prawdopodobieństwem $p$, jeżeli w danym doświadczeniu zaistniał **,,sukces''**, oraz\n",
    "- zmienna przyjmuje wartość 0 z prawdopodobieństwem $1-p$, jeżeli w doświadczeniu zainstniała **,,porażka''**."
   ]
  },
  {
   "cell_type": "markdown",
   "metadata": {
    "id": "8reS0pnOcRIN"
   },
   "source": [
    "https://docs.scipy.org/doc/scipy-0.14.0/reference/generated/scipy.stats.bernoulli.html\n",
    "\n",
    "#### Wybrane metody\n",
    "\n",
    "`rvs(p, loc=0, size=1)` \tRandom variates.\n",
    "\n",
    "`pmf(x, p, loc=0)` \tProbability mass function.\n",
    "\n",
    "`cdf(x, p, loc=0)` \tCumulative density function.\n",
    "\n",
    "`sf(x, p, loc=0)` \tSurvival function (1-cdf — sometimes more accurate).\n",
    "\n",
    "`ppf(q, p, loc=0)` \tPercent point function (inverse of cdf — percentiles).\n",
    "\n",
    "`stats(p, loc=0, moments=’mv’)` \tMean(‘m’), variance(‘v’), skew(‘s’), and/or kurtosis(‘k’).\n",
    "\n",
    "`median(p, loc=0)` \tMedian of the distribution.\n",
    "\n",
    "`mean(p, loc=0)` \tMean of the distribution.\n",
    "\n",
    "`var(p, loc=0)` \tVariance of the distribution.\n",
    "\n",
    "`std(p, loc=0)` \tStandard deviation of the distribution."
   ]
  },
  {
   "cell_type": "code",
   "execution_count": 2,
   "metadata": {
    "ExecuteTime": {
     "end_time": "2023-05-06T16:23:22.996693Z",
     "start_time": "2023-05-06T16:23:22.988809Z"
    },
    "id": "rfUD8dasXBvk"
   },
   "outputs": [
    {
     "data": {
      "text/plain": [
       "<scipy.stats._distn_infrastructure.rv_frozen at 0x7f98dc0bd810>"
      ]
     },
     "execution_count": 2,
     "metadata": {},
     "output_type": "execute_result"
    }
   ],
   "source": [
    "# 1. Rozkład prawdopodobieństwa\n",
    "\n",
    "p = 0.5\n",
    "\n",
    "bern = stats.bernoulli(p=p)\n",
    "bern"
   ]
  },
  {
   "cell_type": "code",
   "execution_count": 3,
   "metadata": {
    "ExecuteTime": {
     "end_time": "2023-05-06T16:23:23.151683Z",
     "start_time": "2023-05-06T16:23:23.004926Z"
    },
    "id": "TIyKQ5Eux-nb"
   },
   "outputs": [
    {
     "data": {
      "text/plain": [
       "<matplotlib.collections.LineCollection at 0x7f98dc0be770>"
      ]
     },
     "execution_count": 3,
     "metadata": {},
     "output_type": "execute_result"
    },
    {
     "data": {
      "image/png": "[encoded data removed]",
      "text/plain": [
       "<Figure size 432x288 with 1 Axes>"
      ]
     },
     "metadata": {
      "needs_background": "light"
     },
     "output_type": "display_data"
    }
   ],
   "source": [
    "# 2. Gęstość prawdopodobieństwa\n",
    "\n",
    "fig, ax = plt.subplots(1, 1)\n",
    "ax.set_xlim([-.5, 1.5])\n",
    "ax.set_ylim([0, 1])\n",
    "\n",
    "x_value = [0, 1]\n",
    "ax.plot(x_value, bern.pmf(x_value), 'go', ms=10, label='theoretical bernoulli pmf')\n",
    "#x : scalar or 1D array_like (indexes where to plot the lines)\n",
    "#ymin, ymax : scalar or 1D array_like\n",
    "\n",
    "ax.vlines(x_value, 0, bern.pmf(x_value), colors='g', lw=3, alpha=0.5)"
   ]
  },
  {
   "cell_type": "code",
   "execution_count": 4,
   "metadata": {
    "ExecuteTime": {
     "end_time": "2023-05-06T16:23:23.161287Z",
     "start_time": "2023-05-06T16:23:23.154618Z"
    },
    "id": "OJeo-8PNXTlU"
   },
   "outputs": [
    {
     "name": "stdout",
     "output_type": "stream",
     "text": [
      "0.5\n"
     ]
    }
   ],
   "source": [
    "print(bern.pmf(0))"
   ]
  },
  {
   "cell_type": "code",
   "execution_count": 5,
   "metadata": {
    "ExecuteTime": {
     "end_time": "2023-05-06T16:23:23.281398Z",
     "start_time": "2023-05-06T16:23:23.164260Z"
    },
    "id": "ixdL6jqkyFYm"
   },
   "outputs": [
    {
     "data": {
      "image/png": "[encoded data removed]",
      "text/plain": [
       "<Figure size 432x288 with 1 Axes>"
      ]
     },
     "metadata": {
      "needs_background": "light"
     },
     "output_type": "display_data"
    }
   ],
   "source": [
    "# 3. cdf = Cumulative density function = dystrybuanta\n",
    "\n",
    "fig, ax = plt.subplots(1, 1)\n",
    "\n",
    "ax.set_xlim([-10, 10])\n",
    "ax.set_ylim([-0.2, 1.2])\n",
    "\n",
    "x = np.arange(-10, 10, 0.01)\n",
    "ax.plot(x, bern.cdf(x), 'go--', ms=3, label='bernoulli cdf')\n",
    "\n",
    "ax.axhline(xmin=-5, xmax=5, y=0, color='black', alpha=0.5, linestyle='--')\n",
    "ax.axhline(xmin=-5, xmax=5, y=0.5, color='black', alpha=0.5, linestyle='--')\n",
    "ax.axhline(xmin=-5, xmax=5, y=1, color='black', alpha=0.5, linestyle='--')\n",
    "\n",
    "plt.show()"
   ]
  },
  {
   "cell_type": "code",
   "execution_count": 6,
   "metadata": {
    "ExecuteTime": {
     "end_time": "2023-05-06T16:23:23.291583Z",
     "start_time": "2023-05-06T16:23:23.285733Z"
    },
    "id": "SD02M7O0Z1vv"
   },
   "outputs": [
    {
     "name": "stdout",
     "output_type": "stream",
     "text": [
      "0.5\n"
     ]
    }
   ],
   "source": [
    "print(bern.cdf(2) - bern.cdf(0))  # P(0<X<=2) = P(X=1)"
   ]
  },
  {
   "cell_type": "code",
   "execution_count": 7,
   "metadata": {
    "ExecuteTime": {
     "end_time": "2023-05-06T16:23:23.303365Z",
     "start_time": "2023-05-06T16:23:23.294292Z"
    },
    "id": "_DfeS-AsYNH0"
   },
   "outputs": [
    {
     "name": "stdout",
     "output_type": "stream",
     "text": [
      "(array(0.5), array(0.25), array(0.), array(-2.))\n",
      "0.5\n"
     ]
    }
   ],
   "source": [
    "# 4. Podstawowe statystyki\n",
    "\n",
    "print(bern.stats('mvsk'))\n",
    "print(np.sqrt(bern.stats('v')))"
   ]
  },
  {
   "cell_type": "code",
   "execution_count": 8,
   "metadata": {
    "ExecuteTime": {
     "end_time": "2023-05-06T16:23:23.413309Z",
     "start_time": "2023-05-06T16:23:23.307256Z"
    },
    "id": "6t8rII4AYuV4"
   },
   "outputs": [
    {
     "data": {
      "image/png": "[encoded data removed]",
      "text/plain": [
       "<Figure size 432x288 with 1 Axes>"
      ]
     },
     "metadata": {
      "needs_background": "light"
     },
     "output_type": "display_data"
    }
   ],
   "source": [
    "# 5. Próbka z rozkładu dwupunktowego oraz 6. Histogram\n",
    "x = bern.rvs(size = 100)\n",
    "\n",
    "plt.hist(x)\n",
    "plt.show()"
   ]
  },
  {
   "cell_type": "code",
   "execution_count": 9,
   "metadata": {
    "ExecuteTime": {
     "end_time": "2023-05-06T16:23:23.552741Z",
     "start_time": "2023-05-06T16:23:23.419336Z"
    },
    "id": "E7Lv3-JtyU8-"
   },
   "outputs": [
    {
     "name": "stdout",
     "output_type": "stream",
     "text": [
      "[0.52 0.48]\n"
     ]
    },
    {
     "data": {
      "image/png": "[encoded data removed]",
      "text/plain": [
       "<Figure size 432x288 with 1 Axes>"
      ]
     },
     "metadata": {
      "needs_background": "light"
     },
     "output_type": "display_data"
    }
   ],
   "source": [
    "# 7. porównanie teoretycznej i zaobserwowanej funkcji rozkładu prawdopodobieństwa\n",
    "\n",
    "fig, ax = plt.subplots(1, 1)\n",
    "ax.set_xlim([-.5, 1.5])\n",
    "ax.set_ylim([0, 1])\n",
    "\n",
    "x_value = np.array([0, 1])\n",
    "unique, counts = np.unique(x, return_counts=True)\n",
    "y_obs = np.array(counts/x.size)\n",
    "\n",
    "print(y_obs)\n",
    "\n",
    "ax.plot(x_value, bern.pmf(x_value), 'go', ms=10, label='theoretical bernoulli pmf')\n",
    "ax.vlines(x_value, 0, bern.pmf(x_value), colors='g', lw=3, alpha=0.5)\n",
    "\n",
    "ax.plot(x_value, y_obs, 'ro', ms=10, label='observed bernoulli pmf')\n",
    "ax.vlines(x_value, 0, y_obs, colors='r', lw=3, alpha=0.5)\n",
    "\n",
    "plt.legend()\n",
    "plt.show()"
   ]
  },
  {
   "cell_type": "markdown",
   "metadata": {
    "id": "EamOjI48cRIP"
   },
   "source": [
    "### Rozkład dwumianowy - $Bin(n, p)$\n",
    "Zmienna losowa $X$ ma **rozkład dwumianowy** z parametrami $0<p<1$ oraz $n\\in\\mathbb{N}$, jeżeli\n",
    "$$\n",
    "    P(X=k)=\\binom{n}{k}p^k(1-p)^{n-k} \\quad \\text{dla} \\quad k=0,1,\\ldots,n.\n",
    "$$\n",
    "\n",
    "Zmienna losowa $X$ przyjmuje wartości równe liczbie ,,sukcesów'' w~$n$~niezależnych doświadczeniach z prawdopodobieństwem sukcesu $p$ w każdym z~nich. \n",
    "\n",
    "W szczególności zmienną $X$ możemy przedstawić jako $$X=S_n=\\sum_{i=1}^n X_i,$$ gdzie $X_i \\sim \\text{Bern}(p)$ oraz $(X_i)_{i=1}^n$ są wzajemnie niezależne.\n"
   ]
  },
  {
   "cell_type": "markdown",
   "metadata": {
    "id": "Bou7f3A_cRIP"
   },
   "source": [
    "https://docs.scipy.org/doc/scipy-0.14.0/reference/generated/scipy.stats.binom.html"
   ]
  },
  {
   "cell_type": "code",
   "execution_count": 10,
   "metadata": {
    "ExecuteTime": {
     "end_time": "2023-05-06T16:23:23.561584Z",
     "start_time": "2023-05-06T16:23:23.555967Z"
    },
    "id": "WtV9iAIEcE7S"
   },
   "outputs": [],
   "source": [
    "# 1. Rozkład prawdopodobieństwa\n",
    "\n",
    "n, p = 6, 0.5\n",
    "\n",
    "binom = stats.binom(n=n, p=p)"
   ]
  },
  {
   "cell_type": "code",
   "execution_count": 11,
   "metadata": {
    "ExecuteTime": {
     "end_time": "2023-05-06T16:23:23.668522Z",
     "start_time": "2023-05-06T16:23:23.565138Z"
    },
    "id": "SJZ_CsI8sy3Z"
   },
   "outputs": [
    {
     "data": {
      "text/plain": [
       "<matplotlib.collections.LineCollection at 0x7f98d3e7ff10>"
      ]
     },
     "execution_count": 11,
     "metadata": {},
     "output_type": "execute_result"
    },
    {
     "data": {
      "image/png": "[encoded data removed]",
      "text/plain": [
       "<Figure size 432x288 with 1 Axes>"
      ]
     },
     "metadata": {
      "needs_background": "light"
     },
     "output_type": "display_data"
    }
   ],
   "source": [
    "# 2. Gęstość prawdopodobieństwa\n",
    "\n",
    "fig, ax = plt.subplots(1, 1)\n",
    "ax.set_xlim([-.5, 6.5])\n",
    "ax.set_ylim([0, 1])\n",
    "\n",
    "x_value = [0, 1,2,3,4,5,6]\n",
    "ax.plot(x_value, binom.pmf(x_value), 'go', ms=10, label='theoretical bernoulli pmf')\n",
    "#x : scalar or 1D array_like (indexes where to plot the lines)\n",
    "#ymin, ymax : scalar or 1D array_like\n",
    "\n",
    "ax.vlines(x_value, 0, binom.pmf(x_value), colors='g', lw=3, alpha=0.5)"
   ]
  },
  {
   "cell_type": "code",
   "execution_count": 12,
   "metadata": {
    "ExecuteTime": {
     "end_time": "2023-05-06T16:23:23.796465Z",
     "start_time": "2023-05-06T16:23:23.671568Z"
    },
    "id": "ixdL6jqkyFYm"
   },
   "outputs": [
    {
     "name": "stdout",
     "output_type": "stream",
     "text": [
      "[0.       0.015625 0.109375 0.34375  0.65625  0.890625 0.984375 1.      ]\n"
     ]
    },
    {
     "data": {
      "image/png": "[encoded data removed]",
      "text/plain": [
       "<Figure size 432x288 with 1 Axes>"
      ]
     },
     "metadata": {
      "needs_background": "light"
     },
     "output_type": "display_data"
    }
   ],
   "source": [
    "# 3. cdf = Cumulative density function = dystrybuanta\n",
    "\n",
    "fig, ax = plt.subplots(1, 1)\n",
    "\n",
    "ax.set_xlim([-10, 10])\n",
    "ax.set_ylim([-0.2, 1.2])\n",
    "\n",
    "x = np.arange(-10, 10, 0.01)\n",
    "ax.plot(x, binom.cdf(x), 'go--', ms=3, label='binomial cdf')\n",
    "\n",
    "print(np.unique(binom.cdf(x)))\n",
    "\n",
    "ax.axhline(xmin=-5, xmax=5, y=0, color='black', alpha=0.5, linestyle='--')\n",
    "ax.axhline(xmin=-5, xmax=5, y=0.015, color='black', alpha=0.5, linestyle='--')\n",
    "ax.axhline(xmin=-5, xmax=5, y=0.109, color='black', alpha=0.5, linestyle='--')\n",
    "ax.axhline(xmin=-5, xmax=5, y=0.343, color='black', alpha=0.5, linestyle='--')\n",
    "ax.axhline(xmin=-5, xmax=5, y=0.656, color='black', alpha=0.5, linestyle='--')\n",
    "ax.axhline(xmin=-5, xmax=5, y=0.890, color='black', alpha=0.5, linestyle='--')\n",
    "ax.axhline(xmin=-5, xmax=5, y=0.984, color='black', alpha=0.5, linestyle='--')\n",
    "ax.axhline(xmin=-5, xmax=5, y=1, color='black', alpha=0.5, linestyle='--')\n",
    "\n",
    "plt.show()"
   ]
  },
  {
   "cell_type": "code",
   "execution_count": 13,
   "metadata": {
    "ExecuteTime": {
     "end_time": "2023-05-06T16:23:23.808489Z",
     "start_time": "2023-05-06T16:23:23.799051Z"
    }
   },
   "outputs": [
    {
     "name": "stdout",
     "output_type": "stream",
     "text": [
      "(array(3.), array(1.5))\n",
      "1.224744871391589\n"
     ]
    }
   ],
   "source": [
    "# 4. Podstawowe statystyki\n",
    "\n",
    "print(binom.stats('mv'))\n",
    "print(np.sqrt(binom.stats('v')))"
   ]
  },
  {
   "cell_type": "code",
   "execution_count": 14,
   "metadata": {
    "ExecuteTime": {
     "end_time": "2023-05-06T16:23:23.919714Z",
     "start_time": "2023-05-06T16:23:23.811387Z"
    },
    "id": "GD7osMQxcRIQ"
   },
   "outputs": [
    {
     "data": {
      "image/png": "[encoded data removed]",
      "text/plain": [
       "<Figure size 432x288 with 1 Axes>"
      ]
     },
     "metadata": {
      "needs_background": "light"
     },
     "output_type": "display_data"
    }
   ],
   "source": [
    "# 5. Próbka z rozkładu dwumianowego oraz 6. Histogram\n",
    "x = binom.rvs(size=100)\n",
    "\n",
    "plt.hist(x, bins=len(np.unique(x)))\n",
    "plt.show()"
   ]
  },
  {
   "cell_type": "code",
   "execution_count": 15,
   "metadata": {
    "ExecuteTime": {
     "end_time": "2023-05-06T16:23:24.036522Z",
     "start_time": "2023-05-06T16:23:23.922914Z"
    },
    "id": "pB5QzeKOZOmX"
   },
   "outputs": [
    {
     "data": {
      "image/png": "[encoded data removed]",
      "text/plain": [
       "<Figure size 432x288 with 1 Axes>"
      ]
     },
     "metadata": {
      "needs_background": "light"
     },
     "output_type": "display_data"
    }
   ],
   "source": [
    "# 7. porównanie teoretycznej i zaobserwowanej funkcji rozkładu prawdopodobieństwa\n",
    "\n",
    "fig, ax = plt.subplots(1, 1)\n",
    "ax.set_xlim([-.5, 6.5])\n",
    "ax.set_ylim([0, 1])\n",
    "\n",
    "x_value = np.unique(x)\n",
    "unique, counts = np.unique(x, return_counts=True)\n",
    "y_obs = np.array(counts/x.size)\n",
    "\n",
    "ax.plot(x_value, binom.pmf(x_value), 'go', ms=10, label='theoretical bernoulli pmf')\n",
    "ax.vlines(x_value, 0, binom.pmf(x_value), colors='g', lw=3, alpha=0.5)\n",
    "\n",
    "ax.plot(x_value, y_obs, 'ro', ms=10, label='observed bernoulli pmf')\n",
    "ax.vlines(x_value, 0, y_obs, colors='r', lw=3, alpha=0.5)\n",
    "\n",
    "plt.legend()\n",
    "plt.show()"
   ]
  },
  {
   "cell_type": "markdown",
   "metadata": {
    "id": "hdZeM3cgcRIQ"
   },
   "source": [
    "### Zadania - dodatkowe"
   ]
  },
  {
   "cell_type": "markdown",
   "metadata": {
    "id": "13H0ymWZcRIR"
   },
   "source": [
    "1. Oblicz prawdopodobieństwo $P(X=5)$, pod warunkiem, że zmienna losowa X ma rozkład dwumianowy z parametrami $n=10$ i $p=0.7$?\n",
    "\n",
    "**Wskazówka**: $$P(X=x_0)=F(x_0)-F(x_0^-),$$gdzie $F(x_0^-)$ oznacza granicę lewostronną dystrybuanty $F$ w punkcie $x_0$."
   ]
  },
  {
   "cell_type": "code",
   "execution_count": 16,
   "metadata": {
    "ExecuteTime": {
     "end_time": "2023-05-06T16:23:24.046143Z",
     "start_time": "2023-05-06T16:23:24.040149Z"
    },
    "id": "_TWpnVV1cRIR"
   },
   "outputs": [],
   "source": [
    "n, p = 10, 0.7\n",
    "binom = stats.binom(n=n, p=p)"
   ]
  },
  {
   "cell_type": "code",
   "execution_count": 17,
   "metadata": {
    "ExecuteTime": {
     "end_time": "2023-05-06T16:23:24.058046Z",
     "start_time": "2023-05-06T16:23:24.050160Z"
    },
    "id": "-xT1BBu_cRIR"
   },
   "outputs": [
    {
     "data": {
      "text/plain": [
       "0.10291934520000003"
      ]
     },
     "execution_count": 17,
     "metadata": {},
     "output_type": "execute_result"
    }
   ],
   "source": [
    "binom.cdf(5) - binom.cdf(4)"
   ]
  },
  {
   "cell_type": "markdown",
   "metadata": {
    "id": "WbCWBHRUcRIR"
   },
   "source": [
    "2. Oblicz prawdopodobieństwo tego, że rzucając cztery razy kostką wyrzucimy trzy razy ,,trójkę''."
   ]
  },
  {
   "cell_type": "code",
   "execution_count": 21,
   "metadata": {
    "ExecuteTime": {
     "end_time": "2023-05-06T16:25:45.808129Z",
     "start_time": "2023-05-06T16:25:45.802588Z"
    },
    "id": "H45GpadacRIR"
   },
   "outputs": [],
   "source": [
    "n, p = 4, 1/6\n",
    "binom = stats.binom(n=n, p=p)"
   ]
  },
  {
   "cell_type": "code",
   "execution_count": 24,
   "metadata": {
    "ExecuteTime": {
     "end_time": "2023-05-06T16:27:44.606187Z",
     "start_time": "2023-05-06T16:27:44.597831Z"
    },
    "id": "Lg2KnO9icRIR"
   },
   "outputs": [
    {
     "data": {
      "text/plain": [
       "0.015432098765432167"
      ]
     },
     "execution_count": 24,
     "metadata": {},
     "output_type": "execute_result"
    }
   ],
   "source": [
    "binom.cdf(3) - binom.cdf(2)"
   ]
  },
  {
   "cell_type": "markdown",
   "metadata": {
    "id": "oO7aHBe5cRIS"
   },
   "source": [
    "3. Szacuje się, że aż 70% Polaków posiada kartę kredytową. Jakie jest prawdopodobieństwo, że w losowej grupie 10 osób więcej niż cztery osóby będą posiadały kartę kredytową?\n",
    "\n",
    "**Wskazówka**: $P(X>k)=1-P(X\\leq k) = 1- F(k)$."
   ]
  },
  {
   "cell_type": "code",
   "execution_count": 45,
   "metadata": {
    "ExecuteTime": {
     "end_time": "2023-05-06T16:41:10.893981Z",
     "start_time": "2023-05-06T16:41:10.888767Z"
    },
    "id": "rurH09kHcRIS"
   },
   "outputs": [],
   "source": [
    "n, p = 10, 0.7\n",
    "binom = stats.binom(n=n, p=p)"
   ]
  },
  {
   "cell_type": "code",
   "execution_count": 46,
   "metadata": {
    "ExecuteTime": {
     "end_time": "2023-05-06T16:41:12.502445Z",
     "start_time": "2023-05-06T16:41:12.495059Z"
    },
    "id": "Wxz9JN6JcRIS"
   },
   "outputs": [
    {
     "data": {
      "text/plain": [
       "0.9526510126"
      ]
     },
     "execution_count": 46,
     "metadata": {},
     "output_type": "execute_result"
    }
   ],
   "source": [
    "1 - binom.cdf(4)"
   ]
  }
 ],
 "metadata": {
  "colab": {
   "provenance": []
  },
  "hide_input": false,
  "kernelspec": {
   "display_name": "Python 3 (ipykernel)",
   "language": "python",
   "name": "python3"
  },
  "language_info": {
   "codemirror_mode": {
    "name": "ipython",
    "version": 3
   },
   "file_extension": ".py",
   "mimetype": "text/x-python",
   "name": "python",
   "nbconvert_exporter": "python",
   "pygments_lexer": "ipython3",
   "version": "3.10.6"
  },
  "toc": {
   "base_numbering": 1,
   "nav_menu": {},
   "number_sections": true,
   "sideBar": true,
   "skip_h1_title": true,
   "title_cell": "Table of Contents",
   "title_sidebar": "Contents",
   "toc_cell": false,
   "toc_position": {},
   "toc_section_display": true,
   "toc_window_display": false
  },
  "varInspector": {
   "cols": {
    "lenName": 16,
    "lenType": 16,
    "lenVar": 40
   },
   "kernels_config": {
    "python": {
     "delete_cmd_postfix": "",
     "delete_cmd_prefix": "del ",
     "library": "var_list.py",
     "varRefreshCmd": "print(var_dic_list())"
    },
    "r": {
     "delete_cmd_postfix": ") ",
     "delete_cmd_prefix": "rm(",
     "library": "var_list.r",
     "varRefreshCmd": "cat(var_dic_list()) "
    }
   },
   "types_to_exclude": [
    "module",
    "function",
    "builtin_function_or_method",
    "instance",
    "_Feature"
   ],
   "window_display": false
  }
 },
 "nbformat": 4,
 "nbformat_minor": 1
}
