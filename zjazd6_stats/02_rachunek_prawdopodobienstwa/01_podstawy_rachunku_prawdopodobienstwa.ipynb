{
 "cells": [
  {
   "cell_type": "markdown",
   "metadata": {
    "id": "gr3CGMkfAoO7"
   },
   "source": [
    "# Podstawy rachunku prawdopodobieństwa"
   ]
  },
  {
   "cell_type": "markdown",
   "metadata": {
    "id": "EeOs0YvmAoO9"
   },
   "source": [
    "- prawdopodobieństwo klasyczne,\n",
    "- prawdopodobieństwo warunkowe, \n",
    "- prawdopodobieństwo całkowite,\n",
    "- wzór Bayesa,\n",
    "- niezależność zdarzeń."
   ]
  },
  {
   "cell_type": "markdown",
   "metadata": {
    "id": "Or0I_i2RAoO-"
   },
   "source": [
    "## Prawdopodobieństwo klasyczne"
   ]
  },
  {
   "cell_type": "markdown",
   "metadata": {
    "id": "roT5S3rZAoO-"
   },
   "source": [
    "**Klasyczna definicja prawdopodobieństwa**\n",
    "\n",
    "Jeżeli przestrzeń zdarzeń elementarnych $\\Omega$ jest skończona, tzn. $\\Omega=\\{\\omega_1, \\ldots, \\omega_n\\}$, a przy tym jeżeli wszystkie zdarzenia elementarne są jednakowo prawdopodobne, czyli \n",
    "$$\n",
    "    P(\\{\\omega_1\\})=\\ldots=P(\\{\\omega_n\\}) = \\frac{1}{n},\n",
    "$$\n",
    "to prawdopodobieństwo zajścia dowolnego zdarzenia $A = \\{\\omega_{i_1}, \\ldots \\omega_{i_k}\\}$, składającego się z $k$ zdarzeń elementarnych wyraża się wzorem\n",
    "$$\n",
    "    P(A) = \\frac{\\#A}{\\#\\Omega} = \\frac{k}{n},\n",
    "$$\n",
    "gdzie $\\#A$ oznacza liczbę zdarzeń elementarnych sprzyjających zdarzeniu A, zaś $\\#\\Omega$, to liczba wszystkich zdarzeń elementarnych."
   ]
  },
  {
   "cell_type": "markdown",
   "metadata": {
    "id": "eCp8XvoKAoO_"
   },
   "source": [
    "### Zadanie \n",
    "1. Zapisz przestrzeń zdarzeń elementarnych dla następujących zdarzeń losowych:\n",
    "\n",
    "    a) rzut kostką sześcienną;\n",
    "\n",
    "    b) rzut dwa razy uczciwą monetą;\n",
    "\n",
    "    c) losowanie bez zwracania dwóch liczb spośród liczb: 1, 2, 3, 4, 5.\n",
    "    \n",
    "    \n",
    "2. Rzucamy dwiema kostkami do gry. Oblicz prawdopodobieństwo, że\n",
    "\n",
    "    a) suma oczek jest równa 7,\n",
    "    \n",
    "    b) na przynajmniej jednej z kostek wypadła liczba większa od 4.\n",
    "    \n",
    "    \n",
    "3. Oblicz prawdopodobieństwo, że w rzucie dwiema kostkami otrzymamy:\n",
    "\n",
    "    a) sumę podzielną przez 4,\n",
    "    \n",
    "    b) iloczyn oczek mniejszy od 11.\n",
    "    \n",
    "    \n",
    "4. Sześciu pasażerów wsiada do tramwaju złożonego z trzech wagonów. Każdy losowo wybiera wagon. Oblicz prawdopodobieństwo, że\n",
    "\n",
    "    a) wszyscy wsiądą do jednego wagonu,\n",
    "    \n",
    "    b) pasażerowie znajdą się tylko w dwóch wagonach.\n",
    "    \n",
    "    \n",
    "5. Spośród cyfr $1, 2, \\ldots, 9$ losujemy bez zwracania dwie i tworzymy z nich liczbę dwucyfrową której cyfrą dziesiątek jest pierwsza z wylosowanych cyfr. Oblicz prawdopodobieństwo, że otrzymana liczba jest parzysta."
   ]
  },
  {
   "cell_type": "markdown",
   "metadata": {
    "id": "JN3vmbKeAoO_"
   },
   "source": [
    "## Prawdopodobieństwo warunkowe "
   ]
  },
  {
   "cell_type": "markdown",
   "metadata": {
    "id": "fKwFI5ArAoPA"
   },
   "source": [
    "Niech $(\\Omega, \\mathcal{F}, P)$ będzie przestrzenią probabilistyczną, zaś $B\\in\\mathcal{F}$ dowolnym ustalonym zdarzeniem o dodatnim prawdopodobieństwie, tzn. $P(B)>0$. \\textbf{Prawdopodobieństwem warunkowym} zajścia zdarzenia $A\\in\\mathcal{F}$ pod warunkiem zajścia zdarzenia $B$ nazywamy liczbę $P(A|B)$ określoną wzorem\n",
    "$$\n",
    "    P(A|B)=\\frac{P(A\\cap B)}{P(B)}.\n",
    "$$"
   ]
  },
  {
   "cell_type": "markdown",
   "metadata": {
    "id": "1LIFa_oOAoPA"
   },
   "source": [
    "### Zadanie \n",
    "\n",
    "1. Rzucamy dwiema kostkami do gry. Oblicz prawdopodobieństwo, że suma oczek będzie większa od 9, jeśli wiadomo, że przynajmniej na jednej z kostek wypadła szóstka.\n",
    "\n",
    "2. Rzucamy dwiema kostkmi do gry. Oblicz prawdopodobieństwo, że otrzymamy iloczyn oczek jest większy od 8, jeśli wiadomo, że na obu kostkach wypadły liczby nieparzyste.\n",
    "\n",
    "3. Spośród liczb $1, 2, \\ldots, 9$ losujemy kolejno bez zwracania dwie. Oblicz prawdopdobieństwo, że druga z wylosowanych liczb będzie nieparzysta, jeśli wiadomo, że pierwsza z wylosowanych liczb jest:\n",
    "\n",
    "    a) nieparzysta, \n",
    "    \n",
    "    b) parzysta.\n",
    "    \n",
    "\n",
    "4. W urnie jest 8 kul: 4 białe i 4 czarne. Wybieramy losowo bez zwracania 2 kule. Wyznacz prawdopodobieństwo tego, że druga wylosowana kula będzie czarna, gdy pierwsza wylosowana kula była biała.\n",
    "\n",
    "5. Niech $A$ i $B$ będą zdarzeniami o prawdopodobieństwie $P(A)$ i $P(B)$. Wykaż,że jeżeli $P(A)=0.85$ i $P(B)=0.75$, to prawdopodobieństwo warunkowe spełnia nierówność \n",
    "$$P(A|B) \\geq 0.8.$$"
   ]
  },
  {
   "cell_type": "markdown",
   "metadata": {
    "id": "f3B7Lc_2AoPB"
   },
   "source": [
    "## Prawdopodobieństwo całkowite"
   ]
  },
  {
   "cell_type": "markdown",
   "metadata": {
    "id": "aK-AdHLrAoPB"
   },
   "source": [
    "Często mamy do czynienia z doświadczeniami wieloetapowymi i interesuje nas, jak liczyć prawdopodobieństwa zdarzeń, których zajście zależy od innych zdarzeń, które zaszły we wcześniejszych etapach naszych doświadczeń.\n",
    "\n",
    "Zdarzenia $H_1, \\ldots. H_n \\in \\mathcal{F}$ tworzą \\textbf{układ zupełny zdarzeń} w przestrzeni probabilistycznej $(\\Omega, \\mathcal{F}, P)$, jeśli spełnione są następujące warunki\n",
    "- $H_1\\cup\\ldots\\cup H_n = \\Omega$;\n",
    "- $H_i\\cap H_j = \\emptyset$ dla $i\\neq j$ (zdarzenia są parami rozłączne);\n",
    "- $P(H_i)>0$ dla $i=1, \\ldots, n$.\n",
    "\n",
    "\n",
    "**Twierdzenie o prawdopodobieństwie całkowitym**\n",
    "\n",
    "Jeśli zdarzania $H_1, \\ldots. H_n \\in \\mathcal{F}$ tworzą układ zupełny zdarzeń w przestrzeni probabilistycznej $(\\Omega, \\mathcal{F}, P)$, to dla dowolnego zdarzenia $A\\in\\mathcal{F}$ zachodzi\n",
    "$$\n",
    "    P(A)=\\sum_{i=1}^n P(A|H_i)\\cdot P(H_i).\n",
    "$$\n",
    "\n",
    "Powyższe twierdzenie interpretuje się w kategoriach \"przyczyna-skutek\". Jeżeli skutek $A$ może zajść w wyniku jednej z $n$ przyczyn (jedynie możliwych i wykluczających się), to prawdopodobieństwo skutku $A$ wyraża się powyższym wzorem."
   ]
  },
  {
   "cell_type": "markdown",
   "metadata": {
    "id": "mDbqLSVHAoPB"
   },
   "source": [
    "### Zadania \n",
    "1. Około 15% kobiet i 90% mężczyzn pasjonuje się piłką nożną. Z populacji liczącej 500 kobiet i 1000 mężczyzn wybrano losowo osobę pasjonującą się piłką nożną. Oblicz prawdopodobieństwo, że wylosowana osoba jest pasjonatem piłki nożnej.\n",
    "2. W fabryce pewne detale produkowane są na trzech maszynach: $A$, $B$ i $C$. Na maszynie $A$ dziennie produkuje się 200 detali, z których 4% jest wadliwych, na maszynie $B$ - 300 detali, z których 5% jest wadliwych, natomiast na maszynie $C$ - 400 detali, z których 2% jest wadliwych. Codzienna produkcja składana jest w jednym pojemniku. Jakie jest prawdopodobieństwo, że wzięty z pojemnika w sposób losowy detal będzie wadliwy?\n",
    "3. Firma składająca komputery zaopatruje się w procesory u trzech importerów dostarczających, odpowiednio, 25%, 35% i 40% ogółu zamawianych procesorów. Wadliwość procesorów pochodzących od poszczególnych importerów wynosi, odpowiednio, 5%, 4% i 2%. Jakie jest prawdopodobieństwo, że w losowo wziętym komputerze, złożonym przez tę firmę, procesor okaże się wadliwy?\n",
    "4. Wytwórnia słodyczy produkuje 2 rodzaje cukierków: krówki i michałki. Miesięczna produkcja wynosi odpowiednio 5 i 10 ton. Przez pomyłkę wypuszczono partię towaru, w której zamiast cukru użyto soli. Szacuje się, że prawdopodobieństwo znalezienia słonej krówki wynosi 25%, a michałka – 40%. Mama kupiła synkowi cukierka w lokalnym sklepie. Jakie prawdopodobieństwo, że cukierek był słony?\n",
    "5. Rozważmy badanie kontrolne na pewną rzadką chorobę, której prawdopodobieństwo wystąpienia jest równe 0.005. Dokładność badania jest bardzo wysoka, prawdopodobieństwo pozytywnego wyniku testu, gdy choroba występuje wynosi 99%, natomiast prawdopodobieństwo wyniku negatywnego, gdy choroba nie występuje wynosi 98%. Oblicz prawdopodobieństwo, że wynik testu będzie pozytywny."
   ]
  },
  {
   "cell_type": "markdown",
   "metadata": {
    "id": "Xgv6CYubAoPC"
   },
   "source": [
    "## Wzór Bayesa"
   ]
  },
  {
   "cell_type": "markdown",
   "metadata": {
    "id": "549IjBy2AoPC"
   },
   "source": [
    "Wyobraźmy sobie teraz, że znamy wynik drugiego etapu doświadczenia i pytamy o przebieg doświadczenia, czyli o to, co stało się w jego pierwszym etapie.\n",
    "\n",
    "**Twierdzenie Bayesa**\n",
    "\n",
    "Niech zdarzenia $H_1, \\ldots. H_n \\in \\mathcal{F}$ tworzą układ zupełny zdarzeń w przestrzeni probabilistycznej $(\\Omega, \\mathcal{F}, P)$ i niech $A\\in\\mathcal{F}$ będzie dowolnym ustalonym zdarzeniem o dodatnim prawdopodobieństwie, tzn. $P(A)>0$. Wówczas prawdziwy jest wzór\n",
    "$$\n",
    "    P(H_k|A) = \\frac{P(H_k\\cap A)}{P(A)} = \\frac{P(A|H_k)\\cdot P(H_k)}{\\sum_{i=1}^n P(A|H_i)\\cdot P(H_i)}, \n",
    "$$\n",
    "gdzie $k=1,2,\\ldots, n$.\n",
    "\n",
    "Prawdopodobieństwo, że $H_k$ była przyczyną zajścia $A$ wyraża się wzorem Bayesa."
   ]
  },
  {
   "cell_type": "markdown",
   "metadata": {
    "id": "Yghx9mdlAoPC"
   },
   "source": [
    "### Zadanie\n",
    "1. Średnio 20 mężczyzn na 100 i 15 kobiet na 100 ma grupę krwi 0. Z grupy osób, w której jest 80 mężczyzn i 70 kobiet wylosowano jedną osobę. Okazało się, że ma ona krew grupy 0. Jakie jest prawdopdobieństwo, że jest to kobieta?\n",
    "2. Na 100 mężczyzn 5 nie rozróżnia kolorów a na 1000 kobiet 2 nie rozróżniają kolorów. Z grupy o jednakowej liczbie kobiet i mężczyzn wylosowano daltonistę. Jakie jest prawdopdopodbieństwo, że jest to mężczyzna?\n",
    "3. W fabryce pewne detale produkowane są na trzech maszynach: $A$, $B$ i $C$. Na maszynie $A$ dziennie produkuje się 200 detali, z których 4% jest wadliwych, na maszynie $B$ - 300 detali, z których 5% jest wadliwych, natomiast na maszynie $C$ - 400 detali, z których 2% jest wadliwych. Codzienna produkcja składana jest w jednym pojemniku. Wzięty z pojemnika w sposób losowy detal okazał się wadliwy, jakie jest prawdopodobieństwo, że został on wyprodukowany na maszynie $A$?\n",
    "4. Firma składająca komputery zaopatruje się w procesory u trzech importerów dostarczających, odpowiednio, 25%, 35% i 40% ogółu zamawianych procesorów. Wadliwość procesorów pochodzących od poszczególnych importerów wynosi, odpowiednio, 5%, 4% i 2%. W losowo wziętym komputerze, złożonym przez tę firmę, procesor okazał się wadliwy. Jakie jest prawdopodobieństwo, że pochodził on od trzeciego importera?\n",
    "5. Rozważmy badanie kontrolne na pewną rzadką chorobę, której prawdopodobieństwo wystąpienia jest równe 0.005. Dokładność badania jest bardzo wysoka, prawdopodobieństwo pozytywnego wyniku testu, gdy choroba występuje wynosi 99%, natomiast prawdopodobieństwo wyniku negatywnego, gdy choroba nie występuje wynosi 98%. Oblicz prawdopodobieństwo, że jeśli wynik testu jest pozytywny, chory faktycznie cierpi na tę chorobę.\n"
   ]
  },
  {
   "cell_type": "markdown",
   "metadata": {
    "id": "KjqjJl5UAoPC"
   },
   "source": [
    "## Niezależność"
   ]
  },
  {
   "cell_type": "markdown",
   "metadata": {
    "id": "iJTcakHDAoPD"
   },
   "source": [
    "Niech $(\\Omega, \\mathcal{F}, P)$ będzie przestrzenią probabilistyczną oraz niech $A, B\\in \\mathcal{F}$. Mówimy, że zdarzenia $A$ i $B$ są **niezależne** jeśli\n",
    "\\begin{equation*}\n",
    "    P(A\\cap B)=P(A)\\cdot P(B).\n",
    "\\end{equation*}\n",
    "\n",
    "Niech $(\\Omega, \\mathcal{F}, P)$ będzie przestrzenią probabilistyczną oraz niech $A_1,\\ldots ,A_n\\in \\mathcal{F}$. Mówimy, że zdarzenia $A_1, \\ldots, A_n$ są \\textbf{wzajemnie niezależne} jeśli dla każdego $1\\leq k \\leq n$ oraz dla każdego ciągu indeksów $1\\leq i_1<i_2<\\ldots<i_k\\leq n$ zachodzi\n",
    "\\begin{equation*}\n",
    "    P(A_{i_1}\\cap A_{i_2}\\cap \\ldots \\cap A_{i_k})=P(A_{i_k})\\cdot P(A_{i_2})\\cdot \\ldots \\cdot P(A_{i_k}).\n",
    "\\end{equation*}"
   ]
  },
  {
   "cell_type": "markdown",
   "metadata": {
    "id": "ZCmHWxJAAoPD"
   },
   "source": [
    "**Zadania**\n",
    "\n",
    "1. Wiadomo, że $P(A\\cup B)=\\frac{1}{2}$, $P(A')=\\frac{3}{4}$ i zdarzenia $A$ i $B$ są niezależne. Oblicz $P(B)$.\n",
    "\n",
    "2. Rzucamy dwiema kostkami do gry. Określamy zdarzenia $A$ - na pierwszej kostce wypadła ,,szóstka'', $B$ - na drugiej kostce wypadła ,,jedynka''. Zbadaj niezależność i wykluczanie się zdarzeń $A$ i $B$.\n",
    "\n",
    "3. Rzucamy dwiema kostkami do gry. Określamy zdarzenia $A$ - na pierwszej kostce wypadła ,,szóstka'', $B$ - na pierwszej kostce wypadła ,,jedynka''. Zbadaj niezależność i wykluczanie się zdarzeń $A$ i $B$.\n",
    "\n",
    "4. Wykaż, że jeżeli $P(B|A)=P(B|A')$ i $P(A)>0$ oraz $P(A')>0$, to zdarzenie $A$ i $B$ są niezależne.\n",
    "\n",
    "5. Niech $A$ i $B$ będą dwoma wykluczającymi się zdarzeniami określonymi na tej samej przestrzeni zdarzeń elementarnych $\\Omega$. Wykaż, że są one niezaleźne wtedy i tylko wtedy, gdy $P(A)=0$ lub $P(B)=0$.\n",
    "\n"
   ]
  }
 ],
 "metadata": {
  "colab": {
   "provenance": []
  },
  "hide_input": false,
  "kernelspec": {
   "display_name": "Python 3 (ipykernel)",
   "language": "python",
   "name": "python3"
  },
  "language_info": {
   "codemirror_mode": {
    "name": "ipython",
    "version": 3
   },
   "file_extension": ".py",
   "mimetype": "text/x-python",
   "name": "python",
   "nbconvert_exporter": "python",
   "pygments_lexer": "ipython3",
   "version": "3.10.6"
  },
  "toc": {
   "base_numbering": 1,
   "nav_menu": {},
   "number_sections": true,
   "sideBar": true,
   "skip_h1_title": true,
   "title_cell": "Table of Contents",
   "title_sidebar": "Contents",
   "toc_cell": false,
   "toc_position": {},
   "toc_section_display": true,
   "toc_window_display": false
  },
  "varInspector": {
   "cols": {
    "lenName": 16,
    "lenType": 16,
    "lenVar": 40
   },
   "kernels_config": {
    "python": {
     "delete_cmd_postfix": "",
     "delete_cmd_prefix": "del ",
     "library": "var_list.py",
     "varRefreshCmd": "print(var_dic_list())"
    },
    "r": {
     "delete_cmd_postfix": ") ",
     "delete_cmd_prefix": "rm(",
     "library": "var_list.r",
     "varRefreshCmd": "cat(var_dic_list()) "
    }
   },
   "types_to_exclude": [
    "module",
    "function",
    "builtin_function_or_method",
    "instance",
    "_Feature"
   ],
   "window_display": false
  }
 },
 "nbformat": 4,
 "nbformat_minor": 1
}
