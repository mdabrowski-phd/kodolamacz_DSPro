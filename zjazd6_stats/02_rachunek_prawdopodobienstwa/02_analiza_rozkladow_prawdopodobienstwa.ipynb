{
 "cells": [
  {
   "cell_type": "markdown",
   "metadata": {
    "id": "LifQPxF0RoPu"
   },
   "source": [
    "# Analiza rozkładów prawdopobieństwa"
   ]
  },
  {
   "cell_type": "code",
   "execution_count": 1,
   "metadata": {
    "ExecuteTime": {
     "end_time": "2023-05-06T16:45:15.474074Z",
     "start_time": "2023-05-06T16:45:14.578925Z"
    },
    "id": "kXUAGRfZRoPx"
   },
   "outputs": [],
   "source": [
    "import numpy as np\n",
    "import matplotlib.pyplot as plt\n",
    "\n",
    "from scipy import stats"
   ]
  },
  {
   "cell_type": "markdown",
   "metadata": {
    "id": "eJfkUN3NRoPz"
   },
   "source": [
    "## Zadanie - rozkład dyskretny\n",
    "Zmienna losowa $X$ ma funkcje prawdopodobieństwa nastepującej postaci:\n",
    "\n",
    "| $x_i$ | -3  | -1  | 3   | 5   |\n",
    "|-------|-----|-----|-----|-----|\n",
    "| $p_i$ | 0.1 | 0.2 | 0.5 | 0.2 |"
   ]
  },
  {
   "cell_type": "markdown",
   "metadata": {},
   "source": [
    "a) Narysuj wykres rozkładu prawdopodobieństwa."
   ]
  },
  {
   "cell_type": "code",
   "execution_count": 2,
   "metadata": {
    "ExecuteTime": {
     "end_time": "2023-05-06T16:45:15.609132Z",
     "start_time": "2023-05-06T16:45:15.478107Z"
    },
    "id": "gZdPgLeeMrB0"
   },
   "outputs": [
    {
     "data": {
      "text/plain": [
       "<matplotlib.collections.LineCollection at 0x7f09ea76a470>"
      ]
     },
     "execution_count": 2,
     "metadata": {},
     "output_type": "execute_result"
    },
    {
     "data": {
      "image/png": "[encoded data removed]",
      "text/plain": [
       "<Figure size 432x288 with 1 Axes>"
      ]
     },
     "metadata": {
      "needs_background": "light"
     },
     "output_type": "display_data"
    }
   ],
   "source": [
    "X = [-3, -1, 3, 5]\n",
    "p = [0.1, 0.2, 0.5, 0.2]\n",
    "\n",
    "plt.scatter(x=X, y=p)\n",
    "plt.vlines(X, 0, p, colors='g')"
   ]
  },
  {
   "cell_type": "markdown",
   "metadata": {},
   "source": [
    "*b) Narysuj dystrybuantę $F$ tego rozkładu."
   ]
  },
  {
   "cell_type": "code",
   "execution_count": 3,
   "metadata": {
    "ExecuteTime": {
     "end_time": "2023-05-06T16:45:15.726247Z",
     "start_time": "2023-05-06T16:45:15.611699Z"
    },
    "id": "pRfLXHUDxFDT"
   },
   "outputs": [
    {
     "data": {
      "image/png": "[encoded data removed]",
      "text/plain": [
       "<Figure size 432x288 with 1 Axes>"
      ]
     },
     "metadata": {
      "needs_background": "light"
     },
     "output_type": "display_data"
    }
   ],
   "source": [
    "F = np.cumsum(p)\n",
    "\n",
    "x_lim = [-5] + X + [10]\n",
    "f = [0] + list(F)\n",
    "\n",
    "plt.scatter(X, F, label='cdf', color='r')\n",
    "plt.scatter(X, f[:-1], s=80, facecolors='none', edgecolors='r')\n",
    "plt.xlim([-5, 10])\n",
    "plt.ylim([-0.1, 1.1])\n",
    "\n",
    "for i in range(len(x_lim) - 1):\n",
    "   plt.hlines(xmin = x_lim[i], xmax = x_lim[i+1], y=f[i], color='black', alpha=0.5, linestyle='--')\n",
    "\n",
    "plt.show()"
   ]
  },
  {
   "cell_type": "markdown",
   "metadata": {},
   "source": [
    "c) Oblicz prawdopodobieństwa $P(X > 1)$ i $P( \\frac{1}{4} < X < 5)$."
   ]
  },
  {
   "cell_type": "markdown",
   "metadata": {},
   "source": [
    "obie wartości można odczytać z tabeli rozkładu: \\\n",
    "$P(X>1) = 1 - P(X \\le 1) = 1 - F(1) = 1 - 0.3 = 0.7$ \\\n",
    "$P(1/4<X<5) = F(5) - F(1/4) = 0.5$"
   ]
  },
  {
   "cell_type": "markdown",
   "metadata": {},
   "source": [
    "d) Oblicz wartość oczekiwaną, wariancję i odchylenie standardowe zmiennej X."
   ]
  },
  {
   "cell_type": "code",
   "execution_count": 4,
   "metadata": {
    "ExecuteTime": {
     "end_time": "2023-05-06T16:45:15.738757Z",
     "start_time": "2023-05-06T16:45:15.729267Z"
    },
    "id": "rHM6XqeLxTqb"
   },
   "outputs": [
    {
     "name": "stdout",
     "output_type": "stream",
     "text": [
      "Wartość oczekiwana: 2.0\n",
      "Drugi moment: 10.6\n",
      "Wariancja: 6.6\n",
      "Odchylenie standardowe: 2.569046515733026\n"
     ]
    }
   ],
   "source": [
    "X = np.array(X)\n",
    "p = np.array(p)\n",
    "\n",
    "ex = np.dot(X, p)  # ex = 0.1*-3+0.2*-1+0.5*3+0.2*5\n",
    "print(\"Wartość oczekiwana: {}\".format(ex))\n",
    "\n",
    "ex2 = np.dot(X**2, p)\n",
    "print(\"Drugi moment: {}\".format(ex2))\n",
    "\n",
    "var = ex2 - ex**2\n",
    "print(\"Wariancja: {}\".format(var))\n",
    "\n",
    "std = np.sqrt(var)\n",
    "print(\"Odchylenie standardowe: {}\".format(std))"
   ]
  },
  {
   "cell_type": "markdown",
   "metadata": {
    "id": "YEJxc4PRRoP2"
   },
   "source": [
    "## ***Zadanie - rozkład ciągły\n",
    "Zmienna losowa X ma rozkład ciągły o gęstości:\n",
    "\n",
    "$$\n",
    "    f(x)=\\left.\n",
    "    \\begin{cases}\n",
    "    x \\quad &\\text{dla}\\quad 0<x\\leq 1\\\\\n",
    "    2-x \\quad &\\text{dla}\\quad 1<x\\leq 2\\\\\n",
    "    0 \\quad &\\text{dla}\\quad x>2, x\\le 0.\n",
    "    \\end{cases}\\right.\n",
    "$$"
   ]
  },
  {
   "cell_type": "markdown",
   "metadata": {},
   "source": [
    "a) Narysuj wykres gęstości."
   ]
  },
  {
   "cell_type": "code",
   "execution_count": 5,
   "metadata": {
    "ExecuteTime": {
     "end_time": "2023-05-06T16:45:15.856406Z",
     "start_time": "2023-05-06T16:45:15.744056Z"
    },
    "id": "G0Zkjc_Mxfaq"
   },
   "outputs": [
    {
     "data": {
      "text/plain": [
       "<matplotlib.collections.LineCollection at 0x7f09e24dd6c0>"
      ]
     },
     "execution_count": 5,
     "metadata": {},
     "output_type": "execute_result"
    },
    {
     "data": {
      "image/png": "[encoded data removed]",
      "text/plain": [
       "<Figure size 432x288 with 1 Axes>"
      ]
     },
     "metadata": {
      "needs_background": "light"
     },
     "output_type": "display_data"
    }
   ],
   "source": [
    "xa = np.linspace(0, 1, 100)\n",
    "ya = xa\n",
    "\n",
    "xb = np.linspace(1, 2, 100)\n",
    "yb = 2 - xb\n",
    "\n",
    "plt.xlim([-3, 5])\n",
    "plt.plot(xa, ya, color='r')\n",
    "plt.plot(xb, yb, color='r')\n",
    "plt.hlines(xmin=-3, xmax=0, y=0, color='r')\n",
    "plt.hlines(xmin=2, xmax=5, y=0, color='r')"
   ]
  },
  {
   "cell_type": "markdown",
   "metadata": {},
   "source": [
    "b) Wyznacz i narysuj dystrybuante $F$ tego rozkładu."
   ]
  },
  {
   "cell_type": "markdown",
   "metadata": {
    "id": "y5imADvbYikm"
   },
   "source": [
    "$$\n",
    "    F(x)=\\left.\n",
    "    \\begin{cases}\n",
    "    0 \\quad &\\text{dla}\\quad x\\leq 0\\\\\n",
    "    \\frac{x^2}{2} \\quad &\\text{dla}\\quad 0<x\\leq 1\\\\\n",
    "    -\\frac{x^2}{2}+2x-1 \\quad &\\text{dla}\\quad 1<x\\leq 2\\\\\n",
    "    1 \\quad &\\text{dla}\\quad x>2.\n",
    "    \\end{cases}\\right.\n",
    "$$"
   ]
  },
  {
   "cell_type": "code",
   "execution_count": 6,
   "metadata": {
    "ExecuteTime": {
     "end_time": "2023-05-06T16:45:15.981124Z",
     "start_time": "2023-05-06T16:45:15.859690Z"
    }
   },
   "outputs": [
    {
     "data": {
      "text/plain": [
       "<matplotlib.collections.LineCollection at 0x7f09e2551d50>"
      ]
     },
     "execution_count": 6,
     "metadata": {},
     "output_type": "execute_result"
    },
    {
     "data": {
      "image/png": "[encoded data removed]",
      "text/plain": [
       "<Figure size 432x288 with 1 Axes>"
      ]
     },
     "metadata": {
      "needs_background": "light"
     },
     "output_type": "display_data"
    }
   ],
   "source": [
    "xa = np.linspace(0, 1, 100)\n",
    "ya = xa ** 2 / 2\n",
    "\n",
    "xb = np.linspace(1, 2, 100)\n",
    "yb = - xb**2 / 2 + 2 * xb - 1\n",
    "\n",
    "plt.xlim([-3, 5])\n",
    "plt.plot(xa, ya, color='r')\n",
    "plt.plot(xb, yb, color='r')\n",
    "plt.hlines(xmin=-3, xmax=0, y=0, color='r')\n",
    "plt.hlines(xmin=2, xmax=5, y=1, color='r')"
   ]
  },
  {
   "cell_type": "markdown",
   "metadata": {},
   "source": [
    "c) Oblicz prawdopodobieństwa $P(X > 1)$ i $P( \\frac{1}{4} < X \\leq 1)$."
   ]
  },
  {
   "cell_type": "markdown",
   "metadata": {
    "id": "1a05AzisjPkR"
   },
   "source": [
    "z własności symetrii dystrybuanty (oraz jej unormowania): \\\n",
    "$P(X > 1) = 1 - F(1) = 1/2$ \\\n",
    "$P( \\frac{1}{4} < X \\leq 1) = P(X\\leq 1)-P(X\\leq \\frac{1}{4}) = F(1)-F(\\frac{1}{4})=1/2-1/32 = 15/32$"
   ]
  },
  {
   "cell_type": "markdown",
   "metadata": {},
   "source": [
    "d) Oblicz wartość oczekiwaną, wariancję i odchylenie standardowe zmiennej X."
   ]
  },
  {
   "cell_type": "code",
   "execution_count": 39,
   "metadata": {
    "ExecuteTime": {
     "end_time": "2023-05-06T18:45:44.965146Z",
     "start_time": "2023-05-06T18:45:44.956005Z"
    },
    "id": "Vh2wsNvyxmaj",
    "scrolled": true
   },
   "outputs": [
    {
     "name": "stdout",
     "output_type": "stream",
     "text": [
      "Wartość oczekiwana: 1.0000000000000002\n",
      "Wariancja: 0.16498316498316434\n",
      "Odchylenie standardowe: 0.4061811972299608\n"
     ]
    }
   ],
   "source": [
    "xa = np.linspace(0, 1, 100)\n",
    "pa = xa\n",
    "\n",
    "xb = np.linspace(1, 2, 100)\n",
    "pb = 2 - xb\n",
    "\n",
    "X = np.concatenate([xa, xb])\n",
    "p = np.concatenate([pa, pb])\n",
    "\n",
    "ex = np.dot(X, p) * (max(X) - min(X)) / len(X)\n",
    "print(\"Wartość oczekiwana: {}\".format(ex))\n",
    "\n",
    "var = np.dot(X**2, p) * (max(X) - min(X)) / len(X) - ex**2\n",
    "print(\"Wariancja: {}\".format(var))\n",
    "\n",
    "std = np.sqrt(var)\n",
    "print(\"Odchylenie standardowe: {}\".format(std))"
   ]
  }
 ],
 "metadata": {
  "colab": {
   "provenance": []
  },
  "hide_input": false,
  "kernelspec": {
   "display_name": "Python 3 (ipykernel)",
   "language": "python",
   "name": "python3"
  },
  "language_info": {
   "codemirror_mode": {
    "name": "ipython",
    "version": 3
   },
   "file_extension": ".py",
   "mimetype": "text/x-python",
   "name": "python",
   "nbconvert_exporter": "python",
   "pygments_lexer": "ipython3",
   "version": "3.10.6"
  },
  "toc": {
   "base_numbering": 1,
   "nav_menu": {},
   "number_sections": true,
   "sideBar": true,
   "skip_h1_title": true,
   "title_cell": "Table of Contents",
   "title_sidebar": "Contents",
   "toc_cell": false,
   "toc_position": {},
   "toc_section_display": true,
   "toc_window_display": false
  },
  "varInspector": {
   "cols": {
    "lenName": 16,
    "lenType": 16,
    "lenVar": 40
   },
   "kernels_config": {
    "python": {
     "delete_cmd_postfix": "",
     "delete_cmd_prefix": "del ",
     "library": "var_list.py",
     "varRefreshCmd": "print(var_dic_list())"
    },
    "r": {
     "delete_cmd_postfix": ") ",
     "delete_cmd_prefix": "rm(",
     "library": "var_list.r",
     "varRefreshCmd": "cat(var_dic_list()) "
    }
   },
   "types_to_exclude": [
    "module",
    "function",
    "builtin_function_or_method",
    "instance",
    "_Feature"
   ],
   "window_display": false
  }
 },
 "nbformat": 4,
 "nbformat_minor": 1
}
