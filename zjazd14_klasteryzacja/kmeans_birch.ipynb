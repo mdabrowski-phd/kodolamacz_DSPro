{
 "cells": [
  {
   "cell_type": "code",
   "execution_count": 1,
   "id": "f440fcb6-9509-44de-b299-ea1f208636b4",
   "metadata": {
    "tags": []
   },
   "outputs": [],
   "source": [
    "import numpy as np"
   ]
  },
  {
   "cell_type": "code",
   "execution_count": 2,
   "id": "fe3fc600-e4ec-43b4-bc96-a02008c71bdb",
   "metadata": {
    "tags": []
   },
   "outputs": [],
   "source": [
    "labels_birch = np.array([0, 0, 1, 1, 2, 2, 3, 3, 4, 4, 5, 5, 6, 6]) # 14 obserwacji pogrupowanych w 7 klastrów"
   ]
  },
  {
   "cell_type": "code",
   "execution_count": 3,
   "id": "ac4dbfb4-4464-4b56-8f16-5c9a2df4bd3c",
   "metadata": {
    "tags": []
   },
   "outputs": [],
   "source": [
    "labels_kmeans = np.array([2, 2, 1, 1, 1, 0, 0]) # 7 klastrów (środków) pogrupowanych w 3 klastry"
   ]
  },
  {
   "cell_type": "code",
   "execution_count": 4,
   "id": "93c63fc8-0d60-4b98-9928-3efb84fdacf4",
   "metadata": {
    "tags": []
   },
   "outputs": [],
   "source": [
    "labels_fin = labels_kmeans[labels_birch] # przyporządkowanie wyjściowych 14 obserwacji do 3 ostatecznych klastrów"
   ]
  },
  {
   "cell_type": "code",
   "execution_count": 5,
   "id": "264fb654-d577-41c4-8d00-561b1fb8aa9d",
   "metadata": {
    "tags": []
   },
   "outputs": [
    {
     "data": {
      "text/plain": [
       "array([2, 2, 2, 2, 1, 1, 1, 1, 1, 1, 0, 0, 0, 0])"
      ]
     },
     "execution_count": 5,
     "metadata": {},
     "output_type": "execute_result"
    }
   ],
   "source": [
    "labels_fin"
   ]
  },
  {
   "cell_type": "code",
   "execution_count": null,
   "id": "bdd262a4-3fa6-4f39-a543-72a8009bfa7c",
   "metadata": {},
   "outputs": [],
   "source": []
  }
 ],
 "metadata": {
  "kernelspec": {
   "display_name": "Python 3 (ipykernel)",
   "language": "python",
   "name": "python3"
  },
  "language_info": {
   "codemirror_mode": {
    "name": "ipython",
    "version": 3
   },
   "file_extension": ".py",
   "mimetype": "text/x-python",
   "name": "python",
   "nbconvert_exporter": "python",
   "pygments_lexer": "ipython3",
   "version": "3.10.9"
  }
 },
 "nbformat": 4,
 "nbformat_minor": 5
}
