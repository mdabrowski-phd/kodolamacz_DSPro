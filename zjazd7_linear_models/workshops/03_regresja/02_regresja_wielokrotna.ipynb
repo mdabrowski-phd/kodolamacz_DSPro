{
 "cells": [
  {
   "cell_type": "markdown",
   "metadata": {
    "id": "CIsbeAniMTz1"
   },
   "source": [
    "# Regresja wielokrotna \n",
    "\n",
    "- regresja wielokrotna\n",
    "- jakość dopasowania"
   ]
  },
  {
   "cell_type": "code",
   "execution_count": 1,
   "metadata": {
    "ExecuteTime": {
     "end_time": "2023-05-21T09:16:08.055992Z",
     "start_time": "2023-05-21T09:16:06.719418Z"
    },
    "id": "CzSHGRiUMTz9"
   },
   "outputs": [],
   "source": [
    "import numpy as np\n",
    "import pandas as pd\n",
    "\n",
    "import statsmodels.api as sm\n",
    "import statsmodels.formula.api as smf\n",
    "\n",
    "from scipy import stats\n",
    "from patsy import dmatrices\n",
    "from statsmodels.stats.stattools import durbin_watson\n",
    "\n",
    "import matplotlib.pyplot as plt"
   ]
  },
  {
   "cell_type": "code",
   "execution_count": 2,
   "metadata": {
    "ExecuteTime": {
     "end_time": "2023-05-21T09:16:42.793725Z",
     "start_time": "2023-05-21T09:16:42.756749Z"
    },
    "id": "Q9zP76CgMT0A",
    "scrolled": true
   },
   "outputs": [],
   "source": [
    "carseats = sm.datasets.get_rdataset(dataname=\"Carseats\", package=\"ISLR\", cache=True)\n",
    "carseats_df = carseats.data"
   ]
  },
  {
   "cell_type": "markdown",
   "metadata": {
    "id": "P9UI_Ip2MT0B"
   },
   "source": [
    "## Zadanie 1\n",
    "\n",
    "1. Wyznacz liniową funkcję regresji opisującą zależność sprzedaży (`Sales`) od wysokości budżetu na reklamę (`Advertising`) i ceny (`Price`).\n",
    "\n",
    "\n",
    "2. Zweryfikuj dopasowanie modelu `Sales ~ Advertising + Price`:\n",
    "    \n",
    "    a) Czy istnieje związek między zmienną zależną a przynajmniej jedną ze zmiennych niezależnych? Jeśli tak, to z którą (z którymi)?\n",
    "       \n",
    "    b) Czy wyraz wolny jest istotny w modelu?\n",
    "       \n",
    "    c) Oblicz i zinterpretuj wartość współczynnika determinacji $R^2$.\n",
    "    \n",
    "       \n",
    "3. Wyznacz model liniowy najlepiej opisujący zależność sprzedaży fotelików samochodowych od pozostałych dostępnych zmiennych:\n",
    "    \n",
    "      a) Czy istnieje związek pomiędzy zmienną zależną a którąkolwiek ze zmiennych niezależnych?\n",
    "       \n",
    "      b) Dla których zmiennych niezależnych $X_j$, $j=1,\\ldots,10$ można odrzucić hipotezę zerową  $H_0: \\beta_j = 0$?\n",
    "       \n",
    "      c) Biorąc pod uwagę odpowiedź na poprzednie pytanie, wyznacz mniejszy model w oparciu tylko o zmienne, które faktycznie mają istotny wpływ na wielkość sprzedaży.\n",
    "       \n",
    "      d) Porównaj dopasowanie obu modeli (większego i mniejszego).\n",
    "       \n",
    "       \n",
    "4. Podaj przewidywaną wartość sprzedaży dla przypadku:  \n",
    "`pd.DataFrame({\n",
    "    'Sales': np.NaN, \n",
    "    'CompPrice': [125.0], \n",
    "    'Income': [70.0], \n",
    "    'Advertising': [5.0], \n",
    "    'Population': [270.0], \n",
    "    'Price': [120.0],\n",
    "    'ShelveLoc': ['Medium'], \n",
    "    'Age': [54.0], \n",
    "    'Education': [15.0], \n",
    "    'Urban': ['Yes'], \n",
    "    'US': ['Yes']\n",
    "})`\n",
    "\n",
    "5. Oceń jakość dopasowania."
   ]
  },
  {
   "cell_type": "code",
   "execution_count": 3,
   "metadata": {
    "ExecuteTime": {
     "end_time": "2023-05-21T09:18:39.818755Z",
     "start_time": "2023-05-21T09:18:39.783712Z"
    },
    "id": "6VdSXbyBgXfX"
   },
   "outputs": [
    {
     "name": "stdout",
     "output_type": "stream",
     "text": [
      "                            OLS Regression Results                            \n",
      "==============================================================================\n",
      "Dep. Variable:                  Sales   R-squared:                       0.282\n",
      "Model:                            OLS   Adj. R-squared:                  0.278\n",
      "Method:                 Least Squares   F-statistic:                     77.91\n",
      "Date:                Sun, 21 May 2023   Prob (F-statistic):           2.87e-29\n",
      "Time:                        11:18:39   Log-Likelihood:                -916.14\n",
      "No. Observations:                 400   AIC:                             1838.\n",
      "Df Residuals:                     397   BIC:                             1850.\n",
      "Df Model:                           2                                         \n",
      "Covariance Type:            nonrobust                                         \n",
      "===============================================================================\n",
      "                  coef    std err          t      P>|t|      [0.025      0.975]\n",
      "-------------------------------------------------------------------------------\n",
      "Intercept      13.0034      0.607     21.428      0.000      11.810      14.196\n",
      "Price          -0.0546      0.005    -10.755      0.000      -0.065      -0.045\n",
      "Advertising     0.1231      0.018      6.809      0.000       0.088       0.159\n",
      "==============================================================================\n",
      "Omnibus:                        1.120   Durbin-Watson:                   1.964\n",
      "Prob(Omnibus):                  0.571   Jarque-Bera (JB):                1.006\n",
      "Skew:                           0.121   Prob(JB):                        0.605\n",
      "Kurtosis:                       3.037   Cond. No.                         599.\n",
      "==============================================================================\n",
      "\n",
      "Notes:\n",
      "[1] Standard Errors assume that the covariance matrix of the errors is correctly specified.\n",
      "Wartość statystyki testowej testu F (F-statistic): 77.90680749447358\n",
      "P-wartość testu F (Prob (F-statistic)): 2.871029014099463e-29\n",
      "\n",
      "\n",
      "Wartość statystki testu t-Studenta\n",
      "Intercept      21.427734\n",
      "Price         -10.754562\n",
      "Advertising     6.809327\n",
      "dtype: float64\n",
      "\n",
      "\n",
      "P-wartości testu t-Studenta\n",
      "Intercept      3.059318e-68\n",
      "Price          7.596365e-24\n",
      "Advertising    3.639822e-11\n",
      "dtype: float64\n",
      "\n",
      "\n",
      "Współczynnik determinacji R2 (R-squared): 0.28185560334302273\n"
     ]
    }
   ],
   "source": [
    "model = smf.ols('Sales~Price+Advertising', data=carseats_df).fit()\n",
    "print(model.summary())\n",
    "\n",
    "print(\"Wartość statystyki testowej testu F (F-statistic): {}\".format(model.fvalue))\n",
    "print(\"P-wartość testu F (Prob (F-statistic)): {}\".format(model.f_pvalue))\n",
    "print(\"\\n\")\n",
    "\n",
    "\n",
    "print(\"Wartość statystki testu t-Studenta\")\n",
    "print(model.tvalues)\n",
    "print(\"\\n\")\n",
    "\n",
    "print(\"P-wartości testu t-Studenta\")\n",
    "print(model.pvalues)\n",
    "print(\"\\n\")\n",
    "\n",
    "\n",
    "print(\"Współczynnik determinacji R2 (R-squared): {}\".format(model.rsquared))"
   ]
  },
  {
   "cell_type": "code",
   "execution_count": 4,
   "metadata": {
    "ExecuteTime": {
     "end_time": "2023-05-21T09:26:41.551513Z",
     "start_time": "2023-05-21T09:26:41.498238Z"
    },
    "id": "ncdcgna5gStP"
   },
   "outputs": [
    {
     "name": "stdout",
     "output_type": "stream",
     "text": [
      "CompPrice+Income+Advertising+Population+Price+ShelveLoc+Age+Education+Urban+US\n"
     ]
    },
    {
     "data": {
      "text/html": [
       "<table class=\"simpletable\">\n",
       "<caption>OLS Regression Results</caption>\n",
       "<tr>\n",
       "  <th>Dep. Variable:</th>          <td>Sales</td>      <th>  R-squared:         </th> <td>   0.873</td> \n",
       "</tr>\n",
       "<tr>\n",
       "  <th>Model:</th>                   <td>OLS</td>       <th>  Adj. R-squared:    </th> <td>   0.870</td> \n",
       "</tr>\n",
       "<tr>\n",
       "  <th>Method:</th>             <td>Least Squares</td>  <th>  F-statistic:       </th> <td>   243.4</td> \n",
       "</tr>\n",
       "<tr>\n",
       "  <th>Date:</th>             <td>Sun, 21 May 2023</td> <th>  Prob (F-statistic):</th> <td>1.60e-166</td>\n",
       "</tr>\n",
       "<tr>\n",
       "  <th>Time:</th>                 <td>11:26:41</td>     <th>  Log-Likelihood:    </th> <td> -568.99</td> \n",
       "</tr>\n",
       "<tr>\n",
       "  <th>No. Observations:</th>      <td>   400</td>      <th>  AIC:               </th> <td>   1162.</td> \n",
       "</tr>\n",
       "<tr>\n",
       "  <th>Df Residuals:</th>          <td>   388</td>      <th>  BIC:               </th> <td>   1210.</td> \n",
       "</tr>\n",
       "<tr>\n",
       "  <th>Df Model:</th>              <td>    11</td>      <th>                     </th>     <td> </td>    \n",
       "</tr>\n",
       "<tr>\n",
       "  <th>Covariance Type:</th>      <td>nonrobust</td>    <th>                     </th>     <td> </td>    \n",
       "</tr>\n",
       "</table>\n",
       "<table class=\"simpletable\">\n",
       "<tr>\n",
       "           <td></td>              <th>coef</th>     <th>std err</th>      <th>t</th>      <th>P>|t|</th>  <th>[0.025</th>    <th>0.975]</th>  \n",
       "</tr>\n",
       "<tr>\n",
       "  <th>Intercept</th>           <td>    5.6606</td> <td>    0.603</td> <td>    9.380</td> <td> 0.000</td> <td>    4.474</td> <td>    6.847</td>\n",
       "</tr>\n",
       "<tr>\n",
       "  <th>ShelveLoc[T.Good]</th>   <td>    4.8502</td> <td>    0.153</td> <td>   31.678</td> <td> 0.000</td> <td>    4.549</td> <td>    5.151</td>\n",
       "</tr>\n",
       "<tr>\n",
       "  <th>ShelveLoc[T.Medium]</th> <td>    1.9567</td> <td>    0.126</td> <td>   15.516</td> <td> 0.000</td> <td>    1.709</td> <td>    2.205</td>\n",
       "</tr>\n",
       "<tr>\n",
       "  <th>Urban[T.Yes]</th>        <td>    0.1229</td> <td>    0.113</td> <td>    1.088</td> <td> 0.277</td> <td>   -0.099</td> <td>    0.345</td>\n",
       "</tr>\n",
       "<tr>\n",
       "  <th>US[T.Yes]</th>           <td>   -0.1841</td> <td>    0.150</td> <td>   -1.229</td> <td> 0.220</td> <td>   -0.479</td> <td>    0.111</td>\n",
       "</tr>\n",
       "<tr>\n",
       "  <th>CompPrice</th>           <td>    0.0928</td> <td>    0.004</td> <td>   22.378</td> <td> 0.000</td> <td>    0.085</td> <td>    0.101</td>\n",
       "</tr>\n",
       "<tr>\n",
       "  <th>Income</th>              <td>    0.0158</td> <td>    0.002</td> <td>    8.565</td> <td> 0.000</td> <td>    0.012</td> <td>    0.019</td>\n",
       "</tr>\n",
       "<tr>\n",
       "  <th>Advertising</th>         <td>    0.1231</td> <td>    0.011</td> <td>   11.066</td> <td> 0.000</td> <td>    0.101</td> <td>    0.145</td>\n",
       "</tr>\n",
       "<tr>\n",
       "  <th>Population</th>          <td>    0.0002</td> <td>    0.000</td> <td>    0.561</td> <td> 0.575</td> <td>   -0.001</td> <td>    0.001</td>\n",
       "</tr>\n",
       "<tr>\n",
       "  <th>Price</th>               <td>   -0.0954</td> <td>    0.003</td> <td>  -35.700</td> <td> 0.000</td> <td>   -0.101</td> <td>   -0.090</td>\n",
       "</tr>\n",
       "<tr>\n",
       "  <th>Age</th>                 <td>   -0.0460</td> <td>    0.003</td> <td>  -14.472</td> <td> 0.000</td> <td>   -0.052</td> <td>   -0.040</td>\n",
       "</tr>\n",
       "<tr>\n",
       "  <th>Education</th>           <td>   -0.0211</td> <td>    0.020</td> <td>   -1.070</td> <td> 0.285</td> <td>   -0.060</td> <td>    0.018</td>\n",
       "</tr>\n",
       "</table>\n",
       "<table class=\"simpletable\">\n",
       "<tr>\n",
       "  <th>Omnibus:</th>       <td> 0.811</td> <th>  Durbin-Watson:     </th> <td>   2.013</td>\n",
       "</tr>\n",
       "<tr>\n",
       "  <th>Prob(Omnibus):</th> <td> 0.667</td> <th>  Jarque-Bera (JB):  </th> <td>   0.765</td>\n",
       "</tr>\n",
       "<tr>\n",
       "  <th>Skew:</th>          <td> 0.107</td> <th>  Prob(JB):          </th> <td>   0.682</td>\n",
       "</tr>\n",
       "<tr>\n",
       "  <th>Kurtosis:</th>      <td> 2.994</td> <th>  Cond. No.          </th> <td>4.15e+03</td>\n",
       "</tr>\n",
       "</table><br/><br/>Notes:<br/>[1] Standard Errors assume that the covariance matrix of the errors is correctly specified.<br/>[2] The condition number is large, 4.15e+03. This might indicate that there are<br/>strong multicollinearity or other numerical problems."
      ],
      "text/plain": [
       "<class 'statsmodels.iolib.summary.Summary'>\n",
       "\"\"\"\n",
       "                            OLS Regression Results                            \n",
       "==============================================================================\n",
       "Dep. Variable:                  Sales   R-squared:                       0.873\n",
       "Model:                            OLS   Adj. R-squared:                  0.870\n",
       "Method:                 Least Squares   F-statistic:                     243.4\n",
       "Date:                Sun, 21 May 2023   Prob (F-statistic):          1.60e-166\n",
       "Time:                        11:26:41   Log-Likelihood:                -568.99\n",
       "No. Observations:                 400   AIC:                             1162.\n",
       "Df Residuals:                     388   BIC:                             1210.\n",
       "Df Model:                          11                                         \n",
       "Covariance Type:            nonrobust                                         \n",
       "=======================================================================================\n",
       "                          coef    std err          t      P>|t|      [0.025      0.975]\n",
       "---------------------------------------------------------------------------------------\n",
       "Intercept               5.6606      0.603      9.380      0.000       4.474       6.847\n",
       "ShelveLoc[T.Good]       4.8502      0.153     31.678      0.000       4.549       5.151\n",
       "ShelveLoc[T.Medium]     1.9567      0.126     15.516      0.000       1.709       2.205\n",
       "Urban[T.Yes]            0.1229      0.113      1.088      0.277      -0.099       0.345\n",
       "US[T.Yes]              -0.1841      0.150     -1.229      0.220      -0.479       0.111\n",
       "CompPrice               0.0928      0.004     22.378      0.000       0.085       0.101\n",
       "Income                  0.0158      0.002      8.565      0.000       0.012       0.019\n",
       "Advertising             0.1231      0.011     11.066      0.000       0.101       0.145\n",
       "Population              0.0002      0.000      0.561      0.575      -0.001       0.001\n",
       "Price                  -0.0954      0.003    -35.700      0.000      -0.101      -0.090\n",
       "Age                    -0.0460      0.003    -14.472      0.000      -0.052      -0.040\n",
       "Education              -0.0211      0.020     -1.070      0.285      -0.060       0.018\n",
       "==============================================================================\n",
       "Omnibus:                        0.811   Durbin-Watson:                   2.013\n",
       "Prob(Omnibus):                  0.667   Jarque-Bera (JB):                0.765\n",
       "Skew:                           0.107   Prob(JB):                        0.682\n",
       "Kurtosis:                       2.994   Cond. No.                     4.15e+03\n",
       "==============================================================================\n",
       "\n",
       "Notes:\n",
       "[1] Standard Errors assume that the covariance matrix of the errors is correctly specified.\n",
       "[2] The condition number is large, 4.15e+03. This might indicate that there are\n",
       "strong multicollinearity or other numerical problems.\n",
       "\"\"\""
      ]
     },
     "execution_count": 4,
     "metadata": {},
     "output_type": "execute_result"
    }
   ],
   "source": [
    "columns = list(carseats_df.columns)\n",
    "columns.remove('Sales')\n",
    "\n",
    "features = \"+\".join(columns)\n",
    "print(features)\n",
    "\n",
    "model = smf.ols('Sales~'+features, data=carseats_df)\n",
    "fitted = model.fit()\n",
    "fitted.summary()"
   ]
  },
  {
   "cell_type": "code",
   "execution_count": 5,
   "metadata": {
    "ExecuteTime": {
     "end_time": "2023-05-21T09:30:07.009698Z",
     "start_time": "2023-05-21T09:30:06.997697Z"
    },
    "id": "aAGlJ1a4gOY8"
   },
   "outputs": [
    {
     "name": "stdout",
     "output_type": "stream",
     "text": [
      "Wartość statystyki testowej testu F (F-statistic): 243.37218067933568\n",
      "P-wartość testu F (Prob (F-statistic)): 1.59926509010143e-166\n",
      "\n",
      "\n",
      "Wartość statystki testu t-Studenta\n",
      "Intercept               9.380455\n",
      "ShelveLoc[T.Good]      31.677773\n",
      "ShelveLoc[T.Medium]    15.516473\n",
      "Urban[T.Yes]            1.087720\n",
      "US[T.Yes]              -1.228577\n",
      "CompPrice              22.377799\n",
      "Income                  8.564677\n",
      "Advertising            11.066035\n",
      "Population              0.561139\n",
      "Price                 -35.700171\n",
      "Age                   -14.471810\n",
      "Education              -1.070046\n",
      "dtype: float64\n",
      "\n",
      "\n",
      "P-wartości testu t-Studenta\n",
      "Intercept               5.596251e-19\n",
      "ShelveLoc[T.Good]      1.192737e-109\n",
      "ShelveLoc[T.Medium]     1.383807e-42\n",
      "Urban[T.Yes]            2.773938e-01\n",
      "US[T.Yes]               2.199750e-01\n",
      "CompPrice               7.935340e-72\n",
      "Income                  2.579912e-16\n",
      "Advertising             6.353734e-25\n",
      "Population              5.750270e-01\n",
      "Price                  1.175168e-124\n",
      "Age                     2.924395e-38\n",
      "Education               2.852637e-01\n",
      "dtype: float64\n"
     ]
    }
   ],
   "source": [
    "print(\"Wartość statystyki testowej testu F (F-statistic): {}\".format(fitted.fvalue))\n",
    "print(\"P-wartość testu F (Prob (F-statistic)): {}\".format(fitted.f_pvalue))\n",
    "print(\"\\n\")\n",
    "\n",
    "print(\"Wartość statystki testu t-Studenta\")\n",
    "print(fitted.tvalues)\n",
    "print(\"\\n\")\n",
    "\n",
    "print(\"P-wartości testu t-Studenta\")\n",
    "print(fitted.pvalues)"
   ]
  },
  {
   "cell_type": "code",
   "execution_count": 6,
   "metadata": {
    "ExecuteTime": {
     "end_time": "2023-05-21T09:30:43.395421Z",
     "start_time": "2023-05-21T09:30:43.387853Z"
    },
    "id": "-kaD6MhigLHz"
   },
   "outputs": [
    {
     "data": {
      "text/plain": [
       "array(['Intercept', 'ShelveLoc[T.Good]', 'ShelveLoc[T.Medium]',\n",
       "       'CompPrice', 'Income', 'Advertising', 'Price', 'Age'], dtype='<U19')"
      ]
     },
     "execution_count": 6,
     "metadata": {},
     "output_type": "execute_result"
    }
   ],
   "source": [
    "np.array(model.exog_names)[fitted.pvalues < 0.05]"
   ]
  },
  {
   "cell_type": "code",
   "execution_count": 38,
   "metadata": {
    "ExecuteTime": {
     "end_time": "2023-05-21T10:21:04.678744Z",
     "start_time": "2023-05-21T10:21:04.635026Z"
    },
    "id": "zNYlfzaxgIhb"
   },
   "outputs": [
    {
     "data": {
      "text/html": [
       "<table class=\"simpletable\">\n",
       "<caption>OLS Regression Results</caption>\n",
       "<tr>\n",
       "  <th>Dep. Variable:</th>          <td>Sales</td>      <th>  R-squared:         </th> <td>   0.872</td> \n",
       "</tr>\n",
       "<tr>\n",
       "  <th>Model:</th>                   <td>OLS</td>       <th>  Adj. R-squared:    </th> <td>   0.870</td> \n",
       "</tr>\n",
       "<tr>\n",
       "  <th>Method:</th>             <td>Least Squares</td>  <th>  F-statistic:       </th> <td>   381.4</td> \n",
       "</tr>\n",
       "<tr>\n",
       "  <th>Date:</th>             <td>Sun, 21 May 2023</td> <th>  Prob (F-statistic):</th> <td>1.25e-170</td>\n",
       "</tr>\n",
       "<tr>\n",
       "  <th>Time:</th>                 <td>12:21:04</td>     <th>  Log-Likelihood:    </th> <td> -571.24</td> \n",
       "</tr>\n",
       "<tr>\n",
       "  <th>No. Observations:</th>      <td>   400</td>      <th>  AIC:               </th> <td>   1158.</td> \n",
       "</tr>\n",
       "<tr>\n",
       "  <th>Df Residuals:</th>          <td>   392</td>      <th>  BIC:               </th> <td>   1190.</td> \n",
       "</tr>\n",
       "<tr>\n",
       "  <th>Df Model:</th>              <td>     7</td>      <th>                     </th>     <td> </td>    \n",
       "</tr>\n",
       "<tr>\n",
       "  <th>Covariance Type:</th>      <td>nonrobust</td>    <th>                     </th>     <td> </td>    \n",
       "</tr>\n",
       "</table>\n",
       "<table class=\"simpletable\">\n",
       "<tr>\n",
       "           <td></td>              <th>coef</th>     <th>std err</th>      <th>t</th>      <th>P>|t|</th>  <th>[0.025</th>    <th>0.975]</th>  \n",
       "</tr>\n",
       "<tr>\n",
       "  <th>Intercept</th>           <td>    5.4752</td> <td>    0.505</td> <td>   10.842</td> <td> 0.000</td> <td>    4.482</td> <td>    6.468</td>\n",
       "</tr>\n",
       "<tr>\n",
       "  <th>ShelveLoc[T.Good]</th>   <td>    4.8357</td> <td>    0.152</td> <td>   31.710</td> <td> 0.000</td> <td>    4.536</td> <td>    5.135</td>\n",
       "</tr>\n",
       "<tr>\n",
       "  <th>ShelveLoc[T.Medium]</th> <td>    1.9520</td> <td>    0.125</td> <td>   15.569</td> <td> 0.000</td> <td>    1.706</td> <td>    2.198</td>\n",
       "</tr>\n",
       "<tr>\n",
       "  <th>CompPrice</th>           <td>    0.0926</td> <td>    0.004</td> <td>   22.451</td> <td> 0.000</td> <td>    0.084</td> <td>    0.101</td>\n",
       "</tr>\n",
       "<tr>\n",
       "  <th>Income</th>              <td>    0.0158</td> <td>    0.002</td> <td>    8.590</td> <td> 0.000</td> <td>    0.012</td> <td>    0.019</td>\n",
       "</tr>\n",
       "<tr>\n",
       "  <th>Advertising</th>         <td>    0.1159</td> <td>    0.008</td> <td>   15.006</td> <td> 0.000</td> <td>    0.101</td> <td>    0.131</td>\n",
       "</tr>\n",
       "<tr>\n",
       "  <th>Price</th>               <td>   -0.0953</td> <td>    0.003</td> <td>  -35.699</td> <td> 0.000</td> <td>   -0.101</td> <td>   -0.090</td>\n",
       "</tr>\n",
       "<tr>\n",
       "  <th>Age</th>                 <td>   -0.0461</td> <td>    0.003</td> <td>  -14.521</td> <td> 0.000</td> <td>   -0.052</td> <td>   -0.040</td>\n",
       "</tr>\n",
       "</table>\n",
       "<table class=\"simpletable\">\n",
       "<tr>\n",
       "  <th>Omnibus:</th>       <td> 0.766</td> <th>  Durbin-Watson:     </th> <td>   1.988</td>\n",
       "</tr>\n",
       "<tr>\n",
       "  <th>Prob(Omnibus):</th> <td> 0.682</td> <th>  Jarque-Bera (JB):  </th> <td>   0.810</td>\n",
       "</tr>\n",
       "<tr>\n",
       "  <th>Skew:</th>          <td> 0.104</td> <th>  Prob(JB):          </th> <td>   0.667</td>\n",
       "</tr>\n",
       "<tr>\n",
       "  <th>Kurtosis:</th>      <td> 2.929</td> <th>  Cond. No.          </th> <td>1.91e+03</td>\n",
       "</tr>\n",
       "</table><br/><br/>Notes:<br/>[1] Standard Errors assume that the covariance matrix of the errors is correctly specified.<br/>[2] The condition number is large, 1.91e+03. This might indicate that there are<br/>strong multicollinearity or other numerical problems."
      ],
      "text/plain": [
       "<class 'statsmodels.iolib.summary.Summary'>\n",
       "\"\"\"\n",
       "                            OLS Regression Results                            \n",
       "==============================================================================\n",
       "Dep. Variable:                  Sales   R-squared:                       0.872\n",
       "Model:                            OLS   Adj. R-squared:                  0.870\n",
       "Method:                 Least Squares   F-statistic:                     381.4\n",
       "Date:                Sun, 21 May 2023   Prob (F-statistic):          1.25e-170\n",
       "Time:                        12:21:04   Log-Likelihood:                -571.24\n",
       "No. Observations:                 400   AIC:                             1158.\n",
       "Df Residuals:                     392   BIC:                             1190.\n",
       "Df Model:                           7                                         \n",
       "Covariance Type:            nonrobust                                         \n",
       "=======================================================================================\n",
       "                          coef    std err          t      P>|t|      [0.025      0.975]\n",
       "---------------------------------------------------------------------------------------\n",
       "Intercept               5.4752      0.505     10.842      0.000       4.482       6.468\n",
       "ShelveLoc[T.Good]       4.8357      0.152     31.710      0.000       4.536       5.135\n",
       "ShelveLoc[T.Medium]     1.9520      0.125     15.569      0.000       1.706       2.198\n",
       "CompPrice               0.0926      0.004     22.451      0.000       0.084       0.101\n",
       "Income                  0.0158      0.002      8.590      0.000       0.012       0.019\n",
       "Advertising             0.1159      0.008     15.006      0.000       0.101       0.131\n",
       "Price                  -0.0953      0.003    -35.699      0.000      -0.101      -0.090\n",
       "Age                    -0.0461      0.003    -14.521      0.000      -0.052      -0.040\n",
       "==============================================================================\n",
       "Omnibus:                        0.766   Durbin-Watson:                   1.988\n",
       "Prob(Omnibus):                  0.682   Jarque-Bera (JB):                0.810\n",
       "Skew:                           0.104   Prob(JB):                        0.667\n",
       "Kurtosis:                       2.929   Cond. No.                     1.91e+03\n",
       "==============================================================================\n",
       "\n",
       "Notes:\n",
       "[1] Standard Errors assume that the covariance matrix of the errors is correctly specified.\n",
       "[2] The condition number is large, 1.91e+03. This might indicate that there are\n",
       "strong multicollinearity or other numerical problems.\n",
       "\"\"\""
      ]
     },
     "execution_count": 38,
     "metadata": {},
     "output_type": "execute_result"
    }
   ],
   "source": [
    "fitted_red = smf.ols('Sales~ShelveLoc+CompPrice+Income+Advertising+Price+Age', data=carseats_df).fit()\n",
    "fitted_red.summary()"
   ]
  },
  {
   "cell_type": "code",
   "execution_count": 8,
   "metadata": {
    "ExecuteTime": {
     "end_time": "2023-05-21T09:33:49.910769Z",
     "start_time": "2023-05-21T09:33:49.904628Z"
    },
    "id": "JzpbRR_ugEqg"
   },
   "outputs": [
    {
     "name": "stdout",
     "output_type": "stream",
     "text": [
      "Współczynnik determinacji R2 (R-squared): 0.8734133434127012\n",
      "Współczynnik determinacji R2 (R-squared): 0.871982496884308\n"
     ]
    }
   ],
   "source": [
    "print(\"Współczynnik determinacji R2 (R-squared): {}\".format(fitted.rsquared))\n",
    "print(\"Współczynnik determinacji R2 (R-squared): {}\".format(fitted_red.rsquared))"
   ]
  },
  {
   "cell_type": "code",
   "execution_count": 39,
   "metadata": {
    "ExecuteTime": {
     "end_time": "2023-05-21T10:21:10.420114Z",
     "start_time": "2023-05-21T10:21:10.400047Z"
    },
    "id": "kNlPJBEogCfz"
   },
   "outputs": [
    {
     "data": {
      "text/plain": [
       "6.753956750903727"
      ]
     },
     "execution_count": 39,
     "metadata": {},
     "output_type": "execute_result"
    }
   ],
   "source": [
    "#predykcja\n",
    "new_obs = pd.DataFrame({ 'Sales': np.NaN, 'CompPrice': [125.0], 'Income': [70.0],\n",
    "              'Advertising': [5.0], 'Population': [270.0], 'Price': [120.0], 'ShelveLoc': ['Medium'], 'Age': [54.0],\n",
    "              'Education': [15.0], 'Urban': ['Yes'], 'US': ['Yes'] })\n",
    "\n",
    "fitted_red.predict(new_obs).to_list()[0]"
   ]
  },
  {
   "cell_type": "markdown",
   "metadata": {
    "id": "12JTiRcbMT0I"
   },
   "source": [
    "# Graficzna ewaluacja modeli regresji: \n",
    "- wykres wartości przewidywanych względem prawdziwych\n",
    "- wykres residuów względem wartości dopasowanych"
   ]
  },
  {
   "cell_type": "markdown",
   "metadata": {
    "id": "2AMAUtr_MT0I"
   },
   "source": [
    "### Wykres wartości przewidywanych względem prawdziwych\n",
    "\n",
    "$(y_i, \\hat{y}_i)$ - wykres wartości przewidywanych względem prawdziwych.\n",
    "\n",
    "Przy idealnym dopasowaniu, punkty powinny się układać na prostej y=x."
   ]
  },
  {
   "cell_type": "code",
   "execution_count": 17,
   "metadata": {
    "ExecuteTime": {
     "end_time": "2023-05-21T09:56:43.567799Z",
     "start_time": "2023-05-21T09:56:43.374962Z"
    },
    "id": "5PMg78J1dqQj"
   },
   "outputs": [
    {
     "data": {
      "image/png": "[encoded data removed]",
      "text/plain": [
       "<Figure size 432x288 with 1 Axes>"
      ]
     },
     "metadata": {
      "needs_background": "light"
     },
     "output_type": "display_data"
    }
   ],
   "source": [
    "Ylin = np.linspace(carseats_df['Sales'].min(), carseats_df['Sales'].max(), 100)\n",
    "plt.scatter(carseats.data['Sales'], fitted_red.fittedvalues)\n",
    "plt.plot(Ylin, Ylin, color='red')\n",
    "plt.show()"
   ]
  },
  {
   "cell_type": "markdown",
   "metadata": {
    "id": "_Ge4LAD5MT0J"
   },
   "source": [
    "## Wykres rezyduów:\n",
    "\n",
    "1. $(i,e_i)$,\n",
    "\n",
    "2. $(\\hat{y}_i,e_i)$.\n",
    "\n",
    "Oba wykresy powinny układać się wokół zera, bo błędy modelu mają średnią 0. Wspólna wariancja powinna się wyrażać tym, że żadna podgrupa punktów nie łapie większego odchylenia od prostej $y=0$"
   ]
  },
  {
   "cell_type": "code",
   "execution_count": 13,
   "metadata": {
    "ExecuteTime": {
     "end_time": "2023-05-21T09:45:33.950298Z",
     "start_time": "2023-05-21T09:45:33.793786Z"
    },
    "id": "juFX0YJydtBu"
   },
   "outputs": [
    {
     "data": {
      "text/plain": [
       "[<matplotlib.lines.Line2D at 0x7f2f70bd77c0>]"
      ]
     },
     "execution_count": 13,
     "metadata": {},
     "output_type": "execute_result"
    },
    {
     "data": {
      "image/png": "[encoded data removed]",
      "text/plain": [
       "<Figure size 432x288 with 1 Axes>"
      ]
     },
     "metadata": {
      "needs_background": "light"
     },
     "output_type": "display_data"
    }
   ],
   "source": [
    "#1. (i, e_i)\n",
    "xrang = np.arange(1, len(fitted_red.resid) + 1)\n",
    "plt.scatter(xrang, fitted_red.resid)\n",
    "plt.plot(xrang, np.repeat(0, len(xrang)), color='red')"
   ]
  },
  {
   "cell_type": "code",
   "execution_count": 14,
   "metadata": {
    "ExecuteTime": {
     "end_time": "2023-05-21T09:48:50.494109Z",
     "start_time": "2023-05-21T09:48:50.350200Z"
    },
    "id": "ZI_l-VwZdvgr"
   },
   "outputs": [
    {
     "data": {
      "text/plain": [
       "[<matplotlib.lines.Line2D at 0x7f2f70e17190>]"
      ]
     },
     "execution_count": 14,
     "metadata": {},
     "output_type": "execute_result"
    },
    {
     "data": {
      "image/png": "[encoded data removed]",
      "text/plain": [
       "<Figure size 432x288 with 1 Axes>"
      ]
     },
     "metadata": {
      "needs_background": "light"
     },
     "output_type": "display_data"
    }
   ],
   "source": [
    "#2. (\\hat{y}_i, e_i)\n",
    "xrang = np.arange(fitted_red.fittedvalues.min(), fitted_red.fittedvalues.max(), 0.1)\n",
    "plt.scatter(fitted_red.fittedvalues, fitted_red.resid)\n",
    "plt.plot(xrang, np.repeat(0, len(xrang)), color='red')"
   ]
  },
  {
   "cell_type": "markdown",
   "metadata": {
    "id": "w3FmZ2GSMT0K"
   },
   "source": [
    "### Wykres kwantylowy dla reszt \n",
    "\n",
    "Do badania normalności błędów (reszty teoretyczne vs. reszty empiryczne).\n",
    "\n",
    "Wykres powinnien układać sie na prostej $y=x$."
   ]
  },
  {
   "cell_type": "code",
   "execution_count": 15,
   "metadata": {
    "ExecuteTime": {
     "end_time": "2023-05-21T09:53:49.951228Z",
     "start_time": "2023-05-21T09:53:49.828319Z"
    },
    "id": "pGXtjyZwdz6T"
   },
   "outputs": [
    {
     "data": {
      "image/png": "[encoded data removed]",
      "text/plain": [
       "<Figure size 432x180 with 1 Axes>"
      ]
     },
     "metadata": {
      "needs_background": "light"
     },
     "output_type": "display_data"
    }
   ],
   "source": [
    "import scipy as sp\n",
    "fig, ax = plt.subplots(figsize=(6, 2.5))\n",
    "sp.stats.probplot(fitted_red.resid, plot=ax, dist ='norm', fit=True)\n",
    "plt.show()"
   ]
  },
  {
   "cell_type": "markdown",
   "metadata": {
    "id": "rF9tU37AMT0L"
   },
   "source": [
    "# Zadanie 2 \n",
    "\n",
    "1. Wczytać dane `realest.csv`, które zawierają informacje na temat domów na przedmieściach Chicago: cena domu (`Price`), liczba sypialni (`Bedroom`), powierzchnia w stopach kwadratowych (`Space`), liczba pokoi (`Room`), szerokość frontu działki w stopach (`Lot`), roczny podatek od nieruchomości (`Tax`), liczba łazienek (`Bathroom`), liczba miejsc parkingowych w garażu (`Garage`) i stan domu (`Condition`, 0-dobry, 1-wymaga remontu).\n",
    "       \n",
    "2. Wyznacz model liniowy najlepiej opisujący zależność ceny domu od pozostałych zmiennych w zbiorze:\n",
    "    \n",
    "      a) Czy istnieje związek pomiędzy zmienną zależną a którąkolwiek ze zmiennych niezależnych?\n",
    "       \n",
    "      b) Dla których zmiennych niezależnych $X_j$, $j=1,\\ldots,10$ można odrzucić hipotezę zerową  $H_0: \\beta_j = 0$?\n",
    "       \n",
    "      c) Biorąc pod uwagę odpowiedź na poprzednie pytanie, wyznacz mniejszy model w oparciu tylko o zmienne, które faktycznie mają istotny wpływ na wielkość sprzedaży.\n",
    "       \n",
    "      d) Porównaj dopasowanie obu modeli (większego i mniejszego).\n",
    "  \n",
    "3. Jaki wpływ na cenę ma zwiększenie liczby sypialni o 1, \n",
    " kiedy wartości wszystkich pozostałych zmiennych objaśniających są ustalone? \n",
    " Znaleźć uzasadnienie tego pozornie błędnego wyniku. Porównać ten wynik  z wynikiem otrzymanym dla modelu liniowego opisującego zależność ceny domu jedynie od liczby sypialni.  \n",
    "\n",
    "4. Podaj przewidywaną wartość sprzedaży dla przypadku:  \n",
    "`pd.DataFrame({\n",
    "    'Price': np.NaN, \n",
    "    'Bedroom': [3.0], \n",
    "    'Space': [1100], \n",
    "    'Room': [6.0], \n",
    "    'Lot': [32.0], \n",
    "    'Tax': [911.0],\n",
    "    'Bathroom': [1.5], \n",
    "    'Garage': [1.0], \n",
    "    'Condition': [0.0]\n",
    "})`\n",
    "\n",
    "5. Oceń jakość dopasowania."
   ]
  },
  {
   "cell_type": "code",
   "execution_count": 18,
   "metadata": {
    "ExecuteTime": {
     "end_time": "2023-05-21T10:00:01.307889Z",
     "start_time": "2023-05-21T09:59:59.589807Z"
    },
    "id": "ieXuofr4fDs6"
   },
   "outputs": [
    {
     "name": "stdout",
     "output_type": "stream",
     "text": [
      "     Price  Bedroom   Space  Room   Lot     Tax  Bathroom  Garage  Condition\n",
      "0     53.0      2.0   967.0   5.0  39.0   652.0       1.5     0.0        0.0\n",
      "1     55.0      2.0   815.0   5.0  33.0  1000.0       1.0     2.0        1.0\n",
      "2     56.0      3.0   900.0   5.0  35.0   897.0       1.5     1.0        0.0\n",
      "3     58.0      3.0  1007.0   6.0  24.0   964.0       1.5     2.0        0.0\n",
      "4     64.0      3.0  1100.0   7.0  50.0  1099.0       1.5     1.5        0.0\n",
      "..     ...      ...     ...   ...   ...     ...       ...     ...        ...\n",
      "152   44.0      3.0   820.0   5.0  27.0     NaN       1.0     0.0        1.0\n",
      "153   43.0      2.0   593.0   4.0  30.0   465.0       2.0     1.0        0.0\n",
      "154   53.0      3.0   716.0   6.0  30.0   585.0       1.0     2.0        1.0\n",
      "155   62.0      4.0   951.0   7.0  30.0   895.0       2.0     1.0        0.0\n",
      "156    NaN      NaN     NaN   NaN   NaN     NaN       NaN     NaN        NaN\n",
      "\n",
      "[157 rows x 9 columns]\n"
     ]
    }
   ],
   "source": [
    "# 1\n",
    "\n",
    "realest = pd.read_csv('../../data/realest.csv')\n",
    "print(realest)"
   ]
  },
  {
   "cell_type": "code",
   "execution_count": 19,
   "metadata": {
    "ExecuteTime": {
     "end_time": "2023-05-21T10:00:07.830713Z",
     "start_time": "2023-05-21T10:00:07.808003Z"
    },
    "id": "tFiKRbnHfB_-"
   },
   "outputs": [
    {
     "name": "stdout",
     "output_type": "stream",
     "text": [
      "     Price  Bedroom   Space  Room   Lot     Tax  Bathroom  Garage  Condition\n",
      "0     53.0      2.0   967.0   5.0  39.0   652.0       1.5     0.0        0.0\n",
      "1     55.0      2.0   815.0   5.0  33.0  1000.0       1.0     2.0        1.0\n",
      "2     56.0      3.0   900.0   5.0  35.0   897.0       1.5     1.0        0.0\n",
      "3     58.0      3.0  1007.0   6.0  24.0   964.0       1.5     2.0        0.0\n",
      "4     64.0      3.0  1100.0   7.0  50.0  1099.0       1.5     1.5        0.0\n",
      "..     ...      ...     ...   ...   ...     ...       ...     ...        ...\n",
      "149   32.0      4.0  1065.0   7.0  25.0   492.0       1.5     0.0        0.0\n",
      "151   42.0      3.0   585.0   5.0  50.0   713.0       1.0     0.0        0.0\n",
      "153   43.0      2.0   593.0   4.0  30.0   465.0       2.0     1.0        0.0\n",
      "154   53.0      3.0   716.0   6.0  30.0   585.0       1.0     2.0        1.0\n",
      "155   62.0      4.0   951.0   7.0  30.0   895.0       2.0     1.0        0.0\n",
      "\n",
      "[128 rows x 9 columns]\n"
     ]
    }
   ],
   "source": [
    "# istnieją wartości NaN --> wyrzućmy je\n",
    "\n",
    "realest = realest.dropna(axis=0)\n",
    "print(realest)"
   ]
  },
  {
   "cell_type": "code",
   "execution_count": 40,
   "metadata": {
    "ExecuteTime": {
     "end_time": "2023-05-21T10:21:32.211129Z",
     "start_time": "2023-05-21T10:21:32.161449Z"
    },
    "id": "04Das73oeM4u"
   },
   "outputs": [
    {
     "name": "stdout",
     "output_type": "stream",
     "text": [
      "Bedroom+Space+Room+Lot+Tax+Bathroom+Garage+Condition\n"
     ]
    },
    {
     "data": {
      "text/html": [
       "<table class=\"simpletable\">\n",
       "<caption>OLS Regression Results</caption>\n",
       "<tr>\n",
       "  <th>Dep. Variable:</th>          <td>Price</td>      <th>  R-squared:         </th> <td>   0.718</td>\n",
       "</tr>\n",
       "<tr>\n",
       "  <th>Model:</th>                   <td>OLS</td>       <th>  Adj. R-squared:    </th> <td>   0.699</td>\n",
       "</tr>\n",
       "<tr>\n",
       "  <th>Method:</th>             <td>Least Squares</td>  <th>  F-statistic:       </th> <td>   37.90</td>\n",
       "</tr>\n",
       "<tr>\n",
       "  <th>Date:</th>             <td>Sun, 21 May 2023</td> <th>  Prob (F-statistic):</th> <td>2.76e-29</td>\n",
       "</tr>\n",
       "<tr>\n",
       "  <th>Time:</th>                 <td>12:21:32</td>     <th>  Log-Likelihood:    </th> <td> -431.77</td>\n",
       "</tr>\n",
       "<tr>\n",
       "  <th>No. Observations:</th>      <td>   128</td>      <th>  AIC:               </th> <td>   881.5</td>\n",
       "</tr>\n",
       "<tr>\n",
       "  <th>Df Residuals:</th>          <td>   119</td>      <th>  BIC:               </th> <td>   907.2</td>\n",
       "</tr>\n",
       "<tr>\n",
       "  <th>Df Model:</th>              <td>     8</td>      <th>                     </th>     <td> </td>   \n",
       "</tr>\n",
       "<tr>\n",
       "  <th>Covariance Type:</th>      <td>nonrobust</td>    <th>                     </th>     <td> </td>   \n",
       "</tr>\n",
       "</table>\n",
       "<table class=\"simpletable\">\n",
       "<tr>\n",
       "      <td></td>         <th>coef</th>     <th>std err</th>      <th>t</th>      <th>P>|t|</th>  <th>[0.025</th>    <th>0.975]</th>  \n",
       "</tr>\n",
       "<tr>\n",
       "  <th>Intercept</th> <td>   19.9935</td> <td>    4.081</td> <td>    4.899</td> <td> 0.000</td> <td>   11.912</td> <td>   28.075</td>\n",
       "</tr>\n",
       "<tr>\n",
       "  <th>Bedroom</th>   <td>   -3.1602</td> <td>    0.931</td> <td>   -3.394</td> <td> 0.001</td> <td>   -5.004</td> <td>   -1.317</td>\n",
       "</tr>\n",
       "<tr>\n",
       "  <th>Space</th>     <td>    0.0097</td> <td>    0.004</td> <td>    2.611</td> <td> 0.010</td> <td>    0.002</td> <td>    0.017</td>\n",
       "</tr>\n",
       "<tr>\n",
       "  <th>Room</th>      <td>    1.6890</td> <td>    1.120</td> <td>    1.508</td> <td> 0.134</td> <td>   -0.529</td> <td>    3.907</td>\n",
       "</tr>\n",
       "<tr>\n",
       "  <th>Lot</th>       <td>    0.2362</td> <td>    0.090</td> <td>    2.634</td> <td> 0.010</td> <td>    0.059</td> <td>    0.414</td>\n",
       "</tr>\n",
       "<tr>\n",
       "  <th>Tax</th>       <td>    0.0044</td> <td>    0.003</td> <td>    1.490</td> <td> 0.139</td> <td>   -0.001</td> <td>    0.010</td>\n",
       "</tr>\n",
       "<tr>\n",
       "  <th>Bathroom</th>  <td>    6.3758</td> <td>    2.018</td> <td>    3.160</td> <td> 0.002</td> <td>    2.380</td> <td>   10.371</td>\n",
       "</tr>\n",
       "<tr>\n",
       "  <th>Garage</th>    <td>    4.1448</td> <td>    0.956</td> <td>    4.337</td> <td> 0.000</td> <td>    2.253</td> <td>    6.037</td>\n",
       "</tr>\n",
       "<tr>\n",
       "  <th>Condition</th> <td>    1.8358</td> <td>    1.797</td> <td>    1.021</td> <td> 0.309</td> <td>   -1.723</td> <td>    5.394</td>\n",
       "</tr>\n",
       "</table>\n",
       "<table class=\"simpletable\">\n",
       "<tr>\n",
       "  <th>Omnibus:</th>       <td> 0.338</td> <th>  Durbin-Watson:     </th> <td>   1.900</td>\n",
       "</tr>\n",
       "<tr>\n",
       "  <th>Prob(Omnibus):</th> <td> 0.845</td> <th>  Jarque-Bera (JB):  </th> <td>   0.361</td>\n",
       "</tr>\n",
       "<tr>\n",
       "  <th>Skew:</th>          <td> 0.120</td> <th>  Prob(JB):          </th> <td>   0.835</td>\n",
       "</tr>\n",
       "<tr>\n",
       "  <th>Kurtosis:</th>      <td> 2.899</td> <th>  Cond. No.          </th> <td>1.01e+04</td>\n",
       "</tr>\n",
       "</table><br/><br/>Notes:<br/>[1] Standard Errors assume that the covariance matrix of the errors is correctly specified.<br/>[2] The condition number is large, 1.01e+04. This might indicate that there are<br/>strong multicollinearity or other numerical problems."
      ],
      "text/plain": [
       "<class 'statsmodels.iolib.summary.Summary'>\n",
       "\"\"\"\n",
       "                            OLS Regression Results                            \n",
       "==============================================================================\n",
       "Dep. Variable:                  Price   R-squared:                       0.718\n",
       "Model:                            OLS   Adj. R-squared:                  0.699\n",
       "Method:                 Least Squares   F-statistic:                     37.90\n",
       "Date:                Sun, 21 May 2023   Prob (F-statistic):           2.76e-29\n",
       "Time:                        12:21:32   Log-Likelihood:                -431.77\n",
       "No. Observations:                 128   AIC:                             881.5\n",
       "Df Residuals:                     119   BIC:                             907.2\n",
       "Df Model:                           8                                         \n",
       "Covariance Type:            nonrobust                                         \n",
       "==============================================================================\n",
       "                 coef    std err          t      P>|t|      [0.025      0.975]\n",
       "------------------------------------------------------------------------------\n",
       "Intercept     19.9935      4.081      4.899      0.000      11.912      28.075\n",
       "Bedroom       -3.1602      0.931     -3.394      0.001      -5.004      -1.317\n",
       "Space          0.0097      0.004      2.611      0.010       0.002       0.017\n",
       "Room           1.6890      1.120      1.508      0.134      -0.529       3.907\n",
       "Lot            0.2362      0.090      2.634      0.010       0.059       0.414\n",
       "Tax            0.0044      0.003      1.490      0.139      -0.001       0.010\n",
       "Bathroom       6.3758      2.018      3.160      0.002       2.380      10.371\n",
       "Garage         4.1448      0.956      4.337      0.000       2.253       6.037\n",
       "Condition      1.8358      1.797      1.021      0.309      -1.723       5.394\n",
       "==============================================================================\n",
       "Omnibus:                        0.338   Durbin-Watson:                   1.900\n",
       "Prob(Omnibus):                  0.845   Jarque-Bera (JB):                0.361\n",
       "Skew:                           0.120   Prob(JB):                        0.835\n",
       "Kurtosis:                       2.899   Cond. No.                     1.01e+04\n",
       "==============================================================================\n",
       "\n",
       "Notes:\n",
       "[1] Standard Errors assume that the covariance matrix of the errors is correctly specified.\n",
       "[2] The condition number is large, 1.01e+04. This might indicate that there are\n",
       "strong multicollinearity or other numerical problems.\n",
       "\"\"\""
      ]
     },
     "execution_count": 40,
     "metadata": {},
     "output_type": "execute_result"
    }
   ],
   "source": [
    "# model ze wszystkimi zmiennymi (2a)\n",
    "\n",
    "columns = list(realest.columns)\n",
    "columns.remove('Price')\n",
    "\n",
    "features = \"+\".join(list(columns))\n",
    "print(features)\n",
    "\n",
    "model = smf.ols('Price~'+features, data=realest)\n",
    "fitted = model.fit()\n",
    "fitted.summary()"
   ]
  },
  {
   "cell_type": "code",
   "execution_count": 41,
   "metadata": {
    "ExecuteTime": {
     "end_time": "2023-05-21T10:21:36.663941Z",
     "start_time": "2023-05-21T10:21:36.622863Z"
    },
    "id": "B_iuPKwaQUiH"
   },
   "outputs": [
    {
     "data": {
      "text/html": [
       "<table class=\"simpletable\">\n",
       "<caption>OLS Regression Results</caption>\n",
       "<tr>\n",
       "  <th>Dep. Variable:</th>          <td>Price</td>      <th>  R-squared:         </th> <td>   0.709</td>\n",
       "</tr>\n",
       "<tr>\n",
       "  <th>Model:</th>                   <td>OLS</td>       <th>  Adj. R-squared:    </th> <td>   0.697</td>\n",
       "</tr>\n",
       "<tr>\n",
       "  <th>Method:</th>             <td>Least Squares</td>  <th>  F-statistic:       </th> <td>   59.40</td>\n",
       "</tr>\n",
       "<tr>\n",
       "  <th>Date:</th>             <td>Sun, 21 May 2023</td> <th>  Prob (F-statistic):</th> <td>4.59e-31</td>\n",
       "</tr>\n",
       "<tr>\n",
       "  <th>Time:</th>                 <td>12:21:36</td>     <th>  Log-Likelihood:    </th> <td> -433.86</td>\n",
       "</tr>\n",
       "<tr>\n",
       "  <th>No. Observations:</th>      <td>   128</td>      <th>  AIC:               </th> <td>   879.7</td>\n",
       "</tr>\n",
       "<tr>\n",
       "  <th>Df Residuals:</th>          <td>   122</td>      <th>  BIC:               </th> <td>   896.8</td>\n",
       "</tr>\n",
       "<tr>\n",
       "  <th>Df Model:</th>              <td>     5</td>      <th>                     </th>     <td> </td>   \n",
       "</tr>\n",
       "<tr>\n",
       "  <th>Covariance Type:</th>      <td>nonrobust</td>    <th>                     </th>     <td> </td>   \n",
       "</tr>\n",
       "</table>\n",
       "<table class=\"simpletable\">\n",
       "<tr>\n",
       "      <td></td>         <th>coef</th>     <th>std err</th>      <th>t</th>      <th>P>|t|</th>  <th>[0.025</th>    <th>0.975]</th>  \n",
       "</tr>\n",
       "<tr>\n",
       "  <th>Intercept</th> <td>   25.9651</td> <td>    2.689</td> <td>    9.655</td> <td> 0.000</td> <td>   20.642</td> <td>   31.289</td>\n",
       "</tr>\n",
       "<tr>\n",
       "  <th>Bedroom</th>   <td>   -2.6740</td> <td>    0.638</td> <td>   -4.193</td> <td> 0.000</td> <td>   -3.936</td> <td>   -1.411</td>\n",
       "</tr>\n",
       "<tr>\n",
       "  <th>Space</th>     <td>    0.0154</td> <td>    0.002</td> <td>    7.954</td> <td> 0.000</td> <td>    0.012</td> <td>    0.019</td>\n",
       "</tr>\n",
       "<tr>\n",
       "  <th>Lot</th>       <td>    0.2792</td> <td>    0.086</td> <td>    3.251</td> <td> 0.001</td> <td>    0.109</td> <td>    0.449</td>\n",
       "</tr>\n",
       "<tr>\n",
       "  <th>Bathroom</th>  <td>    6.2081</td> <td>    1.669</td> <td>    3.720</td> <td> 0.000</td> <td>    2.904</td> <td>    9.512</td>\n",
       "</tr>\n",
       "<tr>\n",
       "  <th>Garage</th>    <td>    4.6954</td> <td>    0.885</td> <td>    5.308</td> <td> 0.000</td> <td>    2.944</td> <td>    6.447</td>\n",
       "</tr>\n",
       "</table>\n",
       "<table class=\"simpletable\">\n",
       "<tr>\n",
       "  <th>Omnibus:</th>       <td> 0.463</td> <th>  Durbin-Watson:     </th> <td>   1.849</td>\n",
       "</tr>\n",
       "<tr>\n",
       "  <th>Prob(Omnibus):</th> <td> 0.793</td> <th>  Jarque-Bera (JB):  </th> <td>   0.606</td>\n",
       "</tr>\n",
       "<tr>\n",
       "  <th>Skew:</th>          <td> 0.116</td> <th>  Prob(JB):          </th> <td>   0.739</td>\n",
       "</tr>\n",
       "<tr>\n",
       "  <th>Kurtosis:</th>      <td> 2.756</td> <th>  Cond. No.          </th> <td>5.05e+03</td>\n",
       "</tr>\n",
       "</table><br/><br/>Notes:<br/>[1] Standard Errors assume that the covariance matrix of the errors is correctly specified.<br/>[2] The condition number is large, 5.05e+03. This might indicate that there are<br/>strong multicollinearity or other numerical problems."
      ],
      "text/plain": [
       "<class 'statsmodels.iolib.summary.Summary'>\n",
       "\"\"\"\n",
       "                            OLS Regression Results                            \n",
       "==============================================================================\n",
       "Dep. Variable:                  Price   R-squared:                       0.709\n",
       "Model:                            OLS   Adj. R-squared:                  0.697\n",
       "Method:                 Least Squares   F-statistic:                     59.40\n",
       "Date:                Sun, 21 May 2023   Prob (F-statistic):           4.59e-31\n",
       "Time:                        12:21:36   Log-Likelihood:                -433.86\n",
       "No. Observations:                 128   AIC:                             879.7\n",
       "Df Residuals:                     122   BIC:                             896.8\n",
       "Df Model:                           5                                         \n",
       "Covariance Type:            nonrobust                                         \n",
       "==============================================================================\n",
       "                 coef    std err          t      P>|t|      [0.025      0.975]\n",
       "------------------------------------------------------------------------------\n",
       "Intercept     25.9651      2.689      9.655      0.000      20.642      31.289\n",
       "Bedroom       -2.6740      0.638     -4.193      0.000      -3.936      -1.411\n",
       "Space          0.0154      0.002      7.954      0.000       0.012       0.019\n",
       "Lot            0.2792      0.086      3.251      0.001       0.109       0.449\n",
       "Bathroom       6.2081      1.669      3.720      0.000       2.904       9.512\n",
       "Garage         4.6954      0.885      5.308      0.000       2.944       6.447\n",
       "==============================================================================\n",
       "Omnibus:                        0.463   Durbin-Watson:                   1.849\n",
       "Prob(Omnibus):                  0.793   Jarque-Bera (JB):                0.606\n",
       "Skew:                           0.116   Prob(JB):                        0.739\n",
       "Kurtosis:                       2.756   Cond. No.                     5.05e+03\n",
       "==============================================================================\n",
       "\n",
       "Notes:\n",
       "[1] Standard Errors assume that the covariance matrix of the errors is correctly specified.\n",
       "[2] The condition number is large, 5.05e+03. This might indicate that there are\n",
       "strong multicollinearity or other numerical problems.\n",
       "\"\"\""
      ]
     },
     "execution_count": 41,
     "metadata": {},
     "output_type": "execute_result"
    }
   ],
   "source": [
    "# 2b i 2c\n",
    "\n",
    "subset_features = '+'.join(np.array(model.exog_names)[fitted.pvalues < 0.05][1:])\n",
    "\n",
    "fitted_red = smf.ols('Price~'+subset_features, data=realest).fit()\n",
    "fitted_red.summary()"
   ]
  },
  {
   "cell_type": "code",
   "execution_count": 42,
   "metadata": {
    "ExecuteTime": {
     "end_time": "2023-05-21T10:21:40.403332Z",
     "start_time": "2023-05-21T10:21:40.398366Z"
    }
   },
   "outputs": [
    {
     "name": "stdout",
     "output_type": "stream",
     "text": [
      "Współczynnik determinacji R2 (R-squared): 0.7181656659650733\n",
      "Współczynnik determinacji R2 (R-squared): 0.708820511203659\n"
     ]
    }
   ],
   "source": [
    "# 2d\n",
    "\n",
    "print(\"Współczynnik determinacji R2 (R-squared): {}\".format(fitted.rsquared))\n",
    "print(\"Współczynnik determinacji R2 (R-squared): {}\".format(fitted_red.rsquared))"
   ]
  },
  {
   "cell_type": "code",
   "execution_count": 43,
   "metadata": {
    "ExecuteTime": {
     "end_time": "2023-05-21T10:21:41.788758Z",
     "start_time": "2023-05-21T10:21:41.760912Z"
    },
    "id": "wt6UflvPfa-6"
   },
   "outputs": [
    {
     "data": {
      "text/html": [
       "<table class=\"simpletable\">\n",
       "<caption>OLS Regression Results</caption>\n",
       "<tr>\n",
       "  <th>Dep. Variable:</th>          <td>Price</td>      <th>  R-squared:         </th> <td>   0.103</td>\n",
       "</tr>\n",
       "<tr>\n",
       "  <th>Model:</th>                   <td>OLS</td>       <th>  Adj. R-squared:    </th> <td>   0.096</td>\n",
       "</tr>\n",
       "<tr>\n",
       "  <th>Method:</th>             <td>Least Squares</td>  <th>  F-statistic:       </th> <td>   14.54</td>\n",
       "</tr>\n",
       "<tr>\n",
       "  <th>Date:</th>             <td>Sun, 21 May 2023</td> <th>  Prob (F-statistic):</th> <td>0.000214</td>\n",
       "</tr>\n",
       "<tr>\n",
       "  <th>Time:</th>                 <td>12:21:41</td>     <th>  Log-Likelihood:    </th> <td> -505.84</td>\n",
       "</tr>\n",
       "<tr>\n",
       "  <th>No. Observations:</th>      <td>   128</td>      <th>  AIC:               </th> <td>   1016.</td>\n",
       "</tr>\n",
       "<tr>\n",
       "  <th>Df Residuals:</th>          <td>   126</td>      <th>  BIC:               </th> <td>   1021.</td>\n",
       "</tr>\n",
       "<tr>\n",
       "  <th>Df Model:</th>              <td>     1</td>      <th>                     </th>     <td> </td>   \n",
       "</tr>\n",
       "<tr>\n",
       "  <th>Covariance Type:</th>      <td>nonrobust</td>    <th>                     </th>     <td> </td>   \n",
       "</tr>\n",
       "</table>\n",
       "<table class=\"simpletable\">\n",
       "<tr>\n",
       "      <td></td>         <th>coef</th>     <th>std err</th>      <th>t</th>      <th>P>|t|</th>  <th>[0.025</th>    <th>0.975]</th>  \n",
       "</tr>\n",
       "<tr>\n",
       "  <th>Intercept</th> <td>   46.8643</td> <td>    2.817</td> <td>   16.634</td> <td> 0.000</td> <td>   41.289</td> <td>   52.440</td>\n",
       "</tr>\n",
       "<tr>\n",
       "  <th>Bedroom</th>   <td>    3.0840</td> <td>    0.809</td> <td>    3.813</td> <td> 0.000</td> <td>    1.483</td> <td>    4.685</td>\n",
       "</tr>\n",
       "</table>\n",
       "<table class=\"simpletable\">\n",
       "<tr>\n",
       "  <th>Omnibus:</th>       <td> 4.305</td> <th>  Durbin-Watson:     </th> <td>   1.266</td>\n",
       "</tr>\n",
       "<tr>\n",
       "  <th>Prob(Omnibus):</th> <td> 0.116</td> <th>  Jarque-Bera (JB):  </th> <td>   2.545</td>\n",
       "</tr>\n",
       "<tr>\n",
       "  <th>Skew:</th>          <td>-0.108</td> <th>  Prob(JB):          </th> <td>   0.280</td>\n",
       "</tr>\n",
       "<tr>\n",
       "  <th>Kurtosis:</th>      <td> 2.344</td> <th>  Cond. No.          </th> <td>    9.36</td>\n",
       "</tr>\n",
       "</table><br/><br/>Notes:<br/>[1] Standard Errors assume that the covariance matrix of the errors is correctly specified."
      ],
      "text/plain": [
       "<class 'statsmodels.iolib.summary.Summary'>\n",
       "\"\"\"\n",
       "                            OLS Regression Results                            \n",
       "==============================================================================\n",
       "Dep. Variable:                  Price   R-squared:                       0.103\n",
       "Model:                            OLS   Adj. R-squared:                  0.096\n",
       "Method:                 Least Squares   F-statistic:                     14.54\n",
       "Date:                Sun, 21 May 2023   Prob (F-statistic):           0.000214\n",
       "Time:                        12:21:41   Log-Likelihood:                -505.84\n",
       "No. Observations:                 128   AIC:                             1016.\n",
       "Df Residuals:                     126   BIC:                             1021.\n",
       "Df Model:                           1                                         \n",
       "Covariance Type:            nonrobust                                         \n",
       "==============================================================================\n",
       "                 coef    std err          t      P>|t|      [0.025      0.975]\n",
       "------------------------------------------------------------------------------\n",
       "Intercept     46.8643      2.817     16.634      0.000      41.289      52.440\n",
       "Bedroom        3.0840      0.809      3.813      0.000       1.483       4.685\n",
       "==============================================================================\n",
       "Omnibus:                        4.305   Durbin-Watson:                   1.266\n",
       "Prob(Omnibus):                  0.116   Jarque-Bera (JB):                2.545\n",
       "Skew:                          -0.108   Prob(JB):                        0.280\n",
       "Kurtosis:                       2.344   Cond. No.                         9.36\n",
       "==============================================================================\n",
       "\n",
       "Notes:\n",
       "[1] Standard Errors assume that the covariance matrix of the errors is correctly specified.\n",
       "\"\"\""
      ]
     },
     "execution_count": 43,
     "metadata": {},
     "output_type": "execute_result"
    }
   ],
   "source": [
    "# model tylko ze zmienną Bedroom (3) --> wcześniej był ujemny współczynnik w dopasowaniu liniowym\n",
    "\n",
    "fitted_red2 = smf.ols('Price~Bedroom', data=realest).fit()\n",
    "fitted_red2.summary()  # tym razem dodatnia korelacja (bo poprzednio zostawialiśmy WSZYSTKIE pozostałe cechy niezmienione)"
   ]
  },
  {
   "cell_type": "code",
   "execution_count": 44,
   "metadata": {
    "ExecuteTime": {
     "end_time": "2023-05-21T10:21:45.702300Z",
     "start_time": "2023-05-21T10:21:45.679205Z"
    }
   },
   "outputs": [
    {
     "data": {
      "text/plain": [
       "57.86390091899285"
      ]
     },
     "execution_count": 44,
     "metadata": {},
     "output_type": "execute_result"
    }
   ],
   "source": [
    "# 4\n",
    "\n",
    "new_obs = pd.DataFrame({\n",
    " 'Price': np.NaN, \n",
    " 'Bedroom': [3.0], \n",
    " 'Space': [1100], \n",
    " 'Room': [6.0], \n",
    " 'Lot': [32.0], \n",
    " 'Tax': [911.0],\n",
    " 'Bathroom': [1.5], \n",
    " 'Garage': [1.0], \n",
    " 'Condition': [0.0]\n",
    "})\n",
    "\n",
    "fitted_red.predict(new_obs).to_list()[0]"
   ]
  },
  {
   "cell_type": "code",
   "execution_count": 45,
   "metadata": {
    "ExecuteTime": {
     "end_time": "2023-05-21T10:21:47.442607Z",
     "start_time": "2023-05-21T10:21:47.297081Z"
    }
   },
   "outputs": [
    {
     "data": {
      "image/png": "[encoded data removed]",
      "text/plain": [
       "<Figure size 432x288 with 1 Axes>"
      ]
     },
     "metadata": {
      "needs_background": "light"
     },
     "output_type": "display_data"
    }
   ],
   "source": [
    "# 5\n",
    "\n",
    "Ylin = np.linspace(realest['Price'].min(), realest['Price'].max(), 100)\n",
    "plt.scatter(realest['Price'], fitted_red.fittedvalues)\n",
    "plt.plot(Ylin, Ylin, color='red')\n",
    "plt.show()"
   ]
  },
  {
   "cell_type": "code",
   "execution_count": 46,
   "metadata": {
    "ExecuteTime": {
     "end_time": "2023-05-21T10:22:43.708100Z",
     "start_time": "2023-05-21T10:22:43.560693Z"
    }
   },
   "outputs": [
    {
     "data": {
      "text/plain": [
       "[<matplotlib.lines.Line2D at 0x7f2f65eb8940>]"
      ]
     },
     "execution_count": 46,
     "metadata": {},
     "output_type": "execute_result"
    },
    {
     "data": {
      "image/png": "[encoded data removed]",
      "text/plain": [
       "<Figure size 432x288 with 1 Axes>"
      ]
     },
     "metadata": {
      "needs_background": "light"
     },
     "output_type": "display_data"
    }
   ],
   "source": [
    "#1. (i, e_i)\n",
    "xrang = np.arange(1, len(fitted_red.resid) + 1)\n",
    "plt.scatter(xrang, fitted_red.resid)\n",
    "plt.plot(xrang, np.repeat(0, len(xrang)), color='red')"
   ]
  },
  {
   "cell_type": "code",
   "execution_count": 47,
   "metadata": {
    "ExecuteTime": {
     "end_time": "2023-05-21T10:22:50.010174Z",
     "start_time": "2023-05-21T10:22:49.842369Z"
    },
    "scrolled": true
   },
   "outputs": [
    {
     "data": {
      "text/plain": [
       "[<matplotlib.lines.Line2D at 0x7f2f65ec9990>]"
      ]
     },
     "execution_count": 47,
     "metadata": {},
     "output_type": "execute_result"
    },
    {
     "data": {
      "image/png": "[encoded data removed]",
      "text/plain": [
       "<Figure size 432x288 with 1 Axes>"
      ]
     },
     "metadata": {
      "needs_background": "light"
     },
     "output_type": "display_data"
    }
   ],
   "source": [
    "#2. (\\hat{y}_i, e_i)\n",
    "xrang = np.arange(fitted_red.fittedvalues.min(), fitted_red.fittedvalues.max(), 0.1)\n",
    "plt.scatter(fitted_red.fittedvalues, fitted_red.resid)\n",
    "plt.plot(xrang, np.repeat(0, len(xrang)), color='red')"
   ]
  },
  {
   "cell_type": "code",
   "execution_count": 48,
   "metadata": {
    "ExecuteTime": {
     "end_time": "2023-05-21T10:23:40.871751Z",
     "start_time": "2023-05-21T10:23:40.754840Z"
    }
   },
   "outputs": [
    {
     "data": {
      "image/png": "[encoded data removed]",
      "text/plain": [
       "<Figure size 432x180 with 1 Axes>"
      ]
     },
     "metadata": {
      "needs_background": "light"
     },
     "output_type": "display_data"
    }
   ],
   "source": [
    "fig, ax = plt.subplots(figsize=(6, 2.5))\n",
    "sp.stats.probplot(fitted_red.resid, plot=ax, dist ='norm', fit=True)\n",
    "plt.show()"
   ]
  }
 ],
 "metadata": {
  "colab": {
   "provenance": []
  },
  "hide_input": false,
  "kernelspec": {
   "display_name": "Python 3 (ipykernel)",
   "language": "python",
   "name": "python3"
  },
  "language_info": {
   "codemirror_mode": {
    "name": "ipython",
    "version": 3
   },
   "file_extension": ".py",
   "mimetype": "text/x-python",
   "name": "python",
   "nbconvert_exporter": "python",
   "pygments_lexer": "ipython3",
   "version": "3.10.6"
  },
  "toc": {
   "base_numbering": 1,
   "nav_menu": {},
   "number_sections": true,
   "sideBar": true,
   "skip_h1_title": true,
   "title_cell": "Table of Contents",
   "title_sidebar": "Contents",
   "toc_cell": false,
   "toc_position": {},
   "toc_section_display": true,
   "toc_window_display": false
  },
  "varInspector": {
   "cols": {
    "lenName": 16,
    "lenType": 16,
    "lenVar": 40
   },
   "kernels_config": {
    "python": {
     "delete_cmd_postfix": "",
     "delete_cmd_prefix": "del ",
     "library": "var_list.py",
     "varRefreshCmd": "print(var_dic_list())"
    },
    "r": {
     "delete_cmd_postfix": ") ",
     "delete_cmd_prefix": "rm(",
     "library": "var_list.r",
     "varRefreshCmd": "cat(var_dic_list()) "
    }
   },
   "types_to_exclude": [
    "module",
    "function",
    "builtin_function_or_method",
    "instance",
    "_Feature"
   ],
   "window_display": false
  }
 },
 "nbformat": 4,
 "nbformat_minor": 1
}
