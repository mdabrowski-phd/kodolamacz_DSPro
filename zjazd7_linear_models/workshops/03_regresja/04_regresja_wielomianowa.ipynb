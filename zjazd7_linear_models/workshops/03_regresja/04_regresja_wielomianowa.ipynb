{
 "cells": [
  {
   "cell_type": "markdown",
   "metadata": {
    "id": "dkGWE0QwTbMo"
   },
   "source": [
    "# Regresja wielomianowa"
   ]
  },
  {
   "cell_type": "code",
   "execution_count": 48,
   "metadata": {
    "ExecuteTime": {
     "end_time": "2023-05-21T12:57:05.064950Z",
     "start_time": "2023-05-21T12:57:05.046616Z"
    },
    "id": "8ceK6xmVTbMw"
   },
   "outputs": [],
   "source": [
    "import numpy as np\n",
    "import pandas as pd\n",
    "\n",
    "import statsmodels.api as sm\n",
    "import statsmodels.formula.api as smf\n",
    "\n",
    "from scipy import stats\n",
    "from patsy import dmatrices\n",
    "\n",
    "import matplotlib.pyplot as plt"
   ]
  },
  {
   "cell_type": "markdown",
   "metadata": {
    "id": "iH5HHybhTbM0"
   },
   "source": [
    "# Zadanie 1\n",
    "Wygeneruj $n$ par punktów (x, y) takich, że\n",
    "$$\n",
    "y = x - 2x^2 + 0.5x^3 + e,\n",
    "$$\n",
    "gdzie $e\\sim\\mathcal{N}(\\mu, \\sigma)$. \n",
    "A następnie dopasuj model\n",
    "\n",
    "a) regresji liniowej: $y=\\beta_0 + \\beta_1\\cdot x$\n",
    "\n",
    "b) regresji wielomianowej stopnia 2: $y=\\beta_0 + \\beta_1\\cdot x + \\beta_2\\cdot x^2$,\n",
    "\n",
    "c) regresji wielomianowej stopnia 3: $y=\\beta_0 + \\beta_1\\cdot x + \\beta_2\\cdot x^2 + \\beta_3\\cdot x^3$,\n",
    "\n",
    "d) regresji wielomianowej stopnia 20: $y=\\beta_0 + \\beta_1\\cdot x + \\beta_2\\cdot x^2 + \\ldots + \\beta_{20}\\cdot x^{20}$,"
   ]
  },
  {
   "cell_type": "markdown",
   "metadata": {
    "id": "4IwZHYWSTbM1"
   },
   "source": [
    "**Wskazówka**: `smf.ols('y ~ x + I(x**k)', data_frame)` lub `PolynomialFeatures` z `sklearn.preprocessing`"
   ]
  },
  {
   "cell_type": "code",
   "execution_count": 49,
   "metadata": {
    "ExecuteTime": {
     "end_time": "2023-05-21T12:57:05.448674Z",
     "start_time": "2023-05-21T12:57:05.088174Z"
    },
    "id": "wD45BKxp_Egw"
   },
   "outputs": [
    {
     "data": {
      "text/plain": [
       "<matplotlib.collections.PathCollection at 0x7f1defa0d9c0>"
      ]
     },
     "execution_count": 49,
     "metadata": {},
     "output_type": "execute_result"
    },
    {
     "data": {
      "image/png": "[encoded data removed]",
      "text/plain": [
       "<Figure size 432x288 with 1 Axes>"
      ]
     },
     "metadata": {
      "needs_background": "light"
     },
     "output_type": "display_data"
    }
   ],
   "source": [
    "n = 100\n",
    "x = stats.uniform.rvs(size=n, loc =-3, scale=6)\n",
    "eps = stats.norm.rvs(size=n, loc=0, scale=2)\n",
    "y = x - 2 * x**2 + 0.5 * x**3 + eps\n",
    "\n",
    "plt.scatter(x,y)"
   ]
  },
  {
   "cell_type": "code",
   "execution_count": 50,
   "metadata": {
    "ExecuteTime": {
     "end_time": "2023-05-21T12:57:05.523692Z",
     "start_time": "2023-05-21T12:57:05.456371Z"
    },
    "id": "jHKnFcKHkIYb"
   },
   "outputs": [
    {
     "data": {
      "text/html": [
       "<table class=\"simpletable\">\n",
       "<caption>OLS Regression Results</caption>\n",
       "<tr>\n",
       "  <th>Dep. Variable:</th>            <td>y</td>        <th>  R-squared:         </th> <td>   0.527</td>\n",
       "</tr>\n",
       "<tr>\n",
       "  <th>Model:</th>                   <td>OLS</td>       <th>  Adj. R-squared:    </th> <td>   0.522</td>\n",
       "</tr>\n",
       "<tr>\n",
       "  <th>Method:</th>             <td>Least Squares</td>  <th>  F-statistic:       </th> <td>   109.0</td>\n",
       "</tr>\n",
       "<tr>\n",
       "  <th>Date:</th>             <td>Sun, 21 May 2023</td> <th>  Prob (F-statistic):</th> <td>1.33e-17</td>\n",
       "</tr>\n",
       "<tr>\n",
       "  <th>Time:</th>                 <td>14:57:05</td>     <th>  Log-Likelihood:    </th> <td> -321.32</td>\n",
       "</tr>\n",
       "<tr>\n",
       "  <th>No. Observations:</th>      <td>   100</td>      <th>  AIC:               </th> <td>   646.6</td>\n",
       "</tr>\n",
       "<tr>\n",
       "  <th>Df Residuals:</th>          <td>    98</td>      <th>  BIC:               </th> <td>   651.9</td>\n",
       "</tr>\n",
       "<tr>\n",
       "  <th>Df Model:</th>              <td>     1</td>      <th>                     </th>     <td> </td>   \n",
       "</tr>\n",
       "<tr>\n",
       "  <th>Covariance Type:</th>      <td>nonrobust</td>    <th>                     </th>     <td> </td>   \n",
       "</tr>\n",
       "</table>\n",
       "<table class=\"simpletable\">\n",
       "<tr>\n",
       "    <td></td>       <th>coef</th>     <th>std err</th>      <th>t</th>      <th>P>|t|</th>  <th>[0.025</th>    <th>0.975]</th>  \n",
       "</tr>\n",
       "<tr>\n",
       "  <th>const</th> <td>   -6.1362</td> <td>    0.610</td> <td>  -10.063</td> <td> 0.000</td> <td>   -7.346</td> <td>   -4.926</td>\n",
       "</tr>\n",
       "<tr>\n",
       "  <th>x1</th>    <td>    3.6337</td> <td>    0.348</td> <td>   10.442</td> <td> 0.000</td> <td>    2.943</td> <td>    4.324</td>\n",
       "</tr>\n",
       "</table>\n",
       "<table class=\"simpletable\">\n",
       "<tr>\n",
       "  <th>Omnibus:</th>       <td> 8.819</td> <th>  Durbin-Watson:     </th> <td>   2.444</td>\n",
       "</tr>\n",
       "<tr>\n",
       "  <th>Prob(Omnibus):</th> <td> 0.012</td> <th>  Jarque-Bera (JB):  </th> <td>   4.230</td>\n",
       "</tr>\n",
       "<tr>\n",
       "  <th>Skew:</th>          <td>-0.265</td> <th>  Prob(JB):          </th> <td>   0.121</td>\n",
       "</tr>\n",
       "<tr>\n",
       "  <th>Kurtosis:</th>      <td> 2.143</td> <th>  Cond. No.          </th> <td>    1.76</td>\n",
       "</tr>\n",
       "</table><br/><br/>Notes:<br/>[1] Standard Errors assume that the covariance matrix of the errors is correctly specified."
      ],
      "text/plain": [
       "<class 'statsmodels.iolib.summary.Summary'>\n",
       "\"\"\"\n",
       "                            OLS Regression Results                            \n",
       "==============================================================================\n",
       "Dep. Variable:                      y   R-squared:                       0.527\n",
       "Model:                            OLS   Adj. R-squared:                  0.522\n",
       "Method:                 Least Squares   F-statistic:                     109.0\n",
       "Date:                Sun, 21 May 2023   Prob (F-statistic):           1.33e-17\n",
       "Time:                        14:57:05   Log-Likelihood:                -321.32\n",
       "No. Observations:                 100   AIC:                             646.6\n",
       "Df Residuals:                      98   BIC:                             651.9\n",
       "Df Model:                           1                                         \n",
       "Covariance Type:            nonrobust                                         \n",
       "==============================================================================\n",
       "                 coef    std err          t      P>|t|      [0.025      0.975]\n",
       "------------------------------------------------------------------------------\n",
       "const         -6.1362      0.610    -10.063      0.000      -7.346      -4.926\n",
       "x1             3.6337      0.348     10.442      0.000       2.943       4.324\n",
       "==============================================================================\n",
       "Omnibus:                        8.819   Durbin-Watson:                   2.444\n",
       "Prob(Omnibus):                  0.012   Jarque-Bera (JB):                4.230\n",
       "Skew:                          -0.265   Prob(JB):                        0.121\n",
       "Kurtosis:                       2.143   Cond. No.                         1.76\n",
       "==============================================================================\n",
       "\n",
       "Notes:\n",
       "[1] Standard Errors assume that the covariance matrix of the errors is correctly specified.\n",
       "\"\"\""
      ]
     },
     "execution_count": 50,
     "metadata": {},
     "output_type": "execute_result"
    }
   ],
   "source": [
    "X = sm.add_constant(x, prepend=True, has_constant='add')\n",
    "model1 = sm. OLS(endog = y, exog = X).fit()\n",
    "model1.summary()"
   ]
  },
  {
   "cell_type": "code",
   "execution_count": 51,
   "metadata": {
    "ExecuteTime": {
     "end_time": "2023-05-21T12:57:06.111446Z",
     "start_time": "2023-05-21T12:57:05.535929Z"
    },
    "id": "pdbtz3nRkFp0"
   },
   "outputs": [
    {
     "data": {
      "text/plain": [
       "[<matplotlib.lines.Line2D at 0x7f1defa92350>]"
      ]
     },
     "execution_count": 51,
     "metadata": {},
     "output_type": "execute_result"
    },
    {
     "data": {
      "image/png": "[encoded data removed]",
      "text/plain": [
       "<Figure size 432x288 with 1 Axes>"
      ]
     },
     "metadata": {
      "needs_background": "light"
     },
     "output_type": "display_data"
    }
   ],
   "source": [
    "plt.scatter(x, y)\n",
    "plt.plot(x, x * model1.params[1] + model1.params[0], color ='red', label ='degree=1')"
   ]
  },
  {
   "cell_type": "code",
   "execution_count": 52,
   "metadata": {
    "ExecuteTime": {
     "end_time": "2023-05-21T12:57:06.138714Z",
     "start_time": "2023-05-21T12:57:06.124234Z"
    },
    "id": "fhaWJ1SYBedC"
   },
   "outputs": [],
   "source": [
    "from sklearn.preprocessing import PolynomialFeatures"
   ]
  },
  {
   "cell_type": "code",
   "execution_count": 53,
   "metadata": {
    "ExecuteTime": {
     "end_time": "2023-05-21T12:57:06.242035Z",
     "start_time": "2023-05-21T12:57:06.162964Z"
    },
    "id": "85E_kV6_kAer"
   },
   "outputs": [
    {
     "data": {
      "text/html": [
       "<table class=\"simpletable\">\n",
       "<caption>OLS Regression Results</caption>\n",
       "<tr>\n",
       "  <th>Dep. Variable:</th>            <td>y</td>        <th>  R-squared:         </th> <td>   0.885</td>\n",
       "</tr>\n",
       "<tr>\n",
       "  <th>Model:</th>                   <td>OLS</td>       <th>  Adj. R-squared:    </th> <td>   0.883</td>\n",
       "</tr>\n",
       "<tr>\n",
       "  <th>Method:</th>             <td>Least Squares</td>  <th>  F-statistic:       </th> <td>   374.7</td>\n",
       "</tr>\n",
       "<tr>\n",
       "  <th>Date:</th>             <td>Sun, 21 May 2023</td> <th>  Prob (F-statistic):</th> <td>2.36e-46</td>\n",
       "</tr>\n",
       "<tr>\n",
       "  <th>Time:</th>                 <td>14:57:06</td>     <th>  Log-Likelihood:    </th> <td> -250.41</td>\n",
       "</tr>\n",
       "<tr>\n",
       "  <th>No. Observations:</th>      <td>   100</td>      <th>  AIC:               </th> <td>   506.8</td>\n",
       "</tr>\n",
       "<tr>\n",
       "  <th>Df Residuals:</th>          <td>    97</td>      <th>  BIC:               </th> <td>   514.6</td>\n",
       "</tr>\n",
       "<tr>\n",
       "  <th>Df Model:</th>              <td>     2</td>      <th>                     </th>     <td> </td>   \n",
       "</tr>\n",
       "<tr>\n",
       "  <th>Covariance Type:</th>      <td>nonrobust</td>    <th>                     </th>     <td> </td>   \n",
       "</tr>\n",
       "</table>\n",
       "<table class=\"simpletable\">\n",
       "<tr>\n",
       "    <td></td>       <th>coef</th>     <th>std err</th>      <th>t</th>      <th>P>|t|</th>  <th>[0.025</th>    <th>0.975]</th>  \n",
       "</tr>\n",
       "<tr>\n",
       "  <th>const</th> <td>    0.0013</td> <td>    0.464</td> <td>    0.003</td> <td> 0.998</td> <td>   -0.919</td> <td>    0.922</td>\n",
       "</tr>\n",
       "<tr>\n",
       "  <th>x1</th>    <td>    3.5229</td> <td>    0.172</td> <td>   20.454</td> <td> 0.000</td> <td>    3.181</td> <td>    3.865</td>\n",
       "</tr>\n",
       "<tr>\n",
       "  <th>x2</th>    <td>   -2.0042</td> <td>    0.115</td> <td>  -17.425</td> <td> 0.000</td> <td>   -2.232</td> <td>   -1.776</td>\n",
       "</tr>\n",
       "</table>\n",
       "<table class=\"simpletable\">\n",
       "<tr>\n",
       "  <th>Omnibus:</th>       <td> 0.325</td> <th>  Durbin-Watson:     </th> <td>   2.282</td>\n",
       "</tr>\n",
       "<tr>\n",
       "  <th>Prob(Omnibus):</th> <td> 0.850</td> <th>  Jarque-Bera (JB):  </th> <td>   0.497</td>\n",
       "</tr>\n",
       "<tr>\n",
       "  <th>Skew:</th>          <td> 0.047</td> <th>  Prob(JB):          </th> <td>   0.780</td>\n",
       "</tr>\n",
       "<tr>\n",
       "  <th>Kurtosis:</th>      <td> 2.668</td> <th>  Cond. No.          </th> <td>    6.46</td>\n",
       "</tr>\n",
       "</table><br/><br/>Notes:<br/>[1] Standard Errors assume that the covariance matrix of the errors is correctly specified."
      ],
      "text/plain": [
       "<class 'statsmodels.iolib.summary.Summary'>\n",
       "\"\"\"\n",
       "                            OLS Regression Results                            \n",
       "==============================================================================\n",
       "Dep. Variable:                      y   R-squared:                       0.885\n",
       "Model:                            OLS   Adj. R-squared:                  0.883\n",
       "Method:                 Least Squares   F-statistic:                     374.7\n",
       "Date:                Sun, 21 May 2023   Prob (F-statistic):           2.36e-46\n",
       "Time:                        14:57:06   Log-Likelihood:                -250.41\n",
       "No. Observations:                 100   AIC:                             506.8\n",
       "Df Residuals:                      97   BIC:                             514.6\n",
       "Df Model:                           2                                         \n",
       "Covariance Type:            nonrobust                                         \n",
       "==============================================================================\n",
       "                 coef    std err          t      P>|t|      [0.025      0.975]\n",
       "------------------------------------------------------------------------------\n",
       "const          0.0013      0.464      0.003      0.998      -0.919       0.922\n",
       "x1             3.5229      0.172     20.454      0.000       3.181       3.865\n",
       "x2            -2.0042      0.115    -17.425      0.000      -2.232      -1.776\n",
       "==============================================================================\n",
       "Omnibus:                        0.325   Durbin-Watson:                   2.282\n",
       "Prob(Omnibus):                  0.850   Jarque-Bera (JB):                0.497\n",
       "Skew:                           0.047   Prob(JB):                        0.780\n",
       "Kurtosis:                       2.668   Cond. No.                         6.46\n",
       "==============================================================================\n",
       "\n",
       "Notes:\n",
       "[1] Standard Errors assume that the covariance matrix of the errors is correctly specified.\n",
       "\"\"\""
      ]
     },
     "execution_count": 53,
     "metadata": {},
     "output_type": "execute_result"
    }
   ],
   "source": [
    "pol2 = PolynomialFeatures(degree = 2)\n",
    "x2 = pol2.fit_transform(x.reshape(-1, 1))  # wygenerowanie danych wejściowych w postaci wektora (1, x, x^2)\n",
    "model2 = sm.OLS(endog = y, exog = x2).fit()\n",
    "model2.summary()"
   ]
  },
  {
   "cell_type": "code",
   "execution_count": 54,
   "metadata": {
    "ExecuteTime": {
     "end_time": "2023-05-21T12:57:07.076832Z",
     "start_time": "2023-05-21T12:57:06.253142Z"
    },
    "id": "N66yDu6Bj9Tj"
   },
   "outputs": [
    {
     "data": {
      "text/plain": [
       "[<matplotlib.lines.Line2D at 0x7f1df0529a80>]"
      ]
     },
     "execution_count": 54,
     "metadata": {},
     "output_type": "execute_result"
    },
    {
     "data": {
      "image/png": "[encoded data removed]",
      "text/plain": [
       "<Figure size 432x288 with 1 Axes>"
      ]
     },
     "metadata": {
      "needs_background": "light"
     },
     "output_type": "display_data"
    }
   ],
   "source": [
    "plt.scatter(x, y)\n",
    "\n",
    "import operator\n",
    "sort_axis = operator.itemgetter(0)\n",
    "\n",
    "sorted_zip = sorted(zip(x, model2.fittedvalues), key=sort_axis)\n",
    "x_range, y_poly_pred = zip(*sorted_zip)\n",
    "plt.plot(x_range, y_poly_pred, color='cyan', label='degree=2')"
   ]
  },
  {
   "cell_type": "code",
   "execution_count": 55,
   "metadata": {
    "ExecuteTime": {
     "end_time": "2023-05-21T12:57:07.167643Z",
     "start_time": "2023-05-21T12:57:07.088729Z"
    },
    "id": "RiX8Zvvvj3H0",
    "scrolled": true
   },
   "outputs": [
    {
     "data": {
      "text/html": [
       "<table class=\"simpletable\">\n",
       "<caption>OLS Regression Results</caption>\n",
       "<tr>\n",
       "  <th>Dep. Variable:</th>            <td>y</td>        <th>  R-squared:         </th> <td>   0.946</td>\n",
       "</tr>\n",
       "<tr>\n",
       "  <th>Model:</th>                   <td>OLS</td>       <th>  Adj. R-squared:    </th> <td>   0.945</td>\n",
       "</tr>\n",
       "<tr>\n",
       "  <th>Method:</th>             <td>Least Squares</td>  <th>  F-statistic:       </th> <td>   565.2</td>\n",
       "</tr>\n",
       "<tr>\n",
       "  <th>Date:</th>             <td>Sun, 21 May 2023</td> <th>  Prob (F-statistic):</th> <td>7.57e-61</td>\n",
       "</tr>\n",
       "<tr>\n",
       "  <th>Time:</th>                 <td>14:57:07</td>     <th>  Log-Likelihood:    </th> <td> -212.39</td>\n",
       "</tr>\n",
       "<tr>\n",
       "  <th>No. Observations:</th>      <td>   100</td>      <th>  AIC:               </th> <td>   432.8</td>\n",
       "</tr>\n",
       "<tr>\n",
       "  <th>Df Residuals:</th>          <td>    96</td>      <th>  BIC:               </th> <td>   443.2</td>\n",
       "</tr>\n",
       "<tr>\n",
       "  <th>Df Model:</th>              <td>     3</td>      <th>                     </th>     <td> </td>   \n",
       "</tr>\n",
       "<tr>\n",
       "  <th>Covariance Type:</th>      <td>nonrobust</td>    <th>                     </th>     <td> </td>   \n",
       "</tr>\n",
       "</table>\n",
       "<table class=\"simpletable\">\n",
       "<tr>\n",
       "    <td></td>       <th>coef</th>     <th>std err</th>      <th>t</th>      <th>P>|t|</th>  <th>[0.025</th>    <th>0.975]</th>  \n",
       "</tr>\n",
       "<tr>\n",
       "  <th>const</th> <td>    0.1733</td> <td>    0.319</td> <td>    0.543</td> <td> 0.588</td> <td>   -0.460</td> <td>    0.807</td>\n",
       "</tr>\n",
       "<tr>\n",
       "  <th>x1</th>    <td>    0.5233</td> <td>    0.310</td> <td>    1.686</td> <td> 0.095</td> <td>   -0.093</td> <td>    1.139</td>\n",
       "</tr>\n",
       "<tr>\n",
       "  <th>x2</th>    <td>   -2.0903</td> <td>    0.079</td> <td>  -26.299</td> <td> 0.000</td> <td>   -2.248</td> <td>   -1.933</td>\n",
       "</tr>\n",
       "<tr>\n",
       "  <th>x3</th>    <td>    0.5646</td> <td>    0.054</td> <td>   10.456</td> <td> 0.000</td> <td>    0.457</td> <td>    0.672</td>\n",
       "</tr>\n",
       "</table>\n",
       "<table class=\"simpletable\">\n",
       "<tr>\n",
       "  <th>Omnibus:</th>       <td> 2.436</td> <th>  Durbin-Watson:     </th> <td>   2.022</td>\n",
       "</tr>\n",
       "<tr>\n",
       "  <th>Prob(Omnibus):</th> <td> 0.296</td> <th>  Jarque-Bera (JB):  </th> <td>   1.850</td>\n",
       "</tr>\n",
       "<tr>\n",
       "  <th>Skew:</th>          <td> 0.219</td> <th>  Prob(JB):          </th> <td>   0.396</td>\n",
       "</tr>\n",
       "<tr>\n",
       "  <th>Kurtosis:</th>      <td> 3.502</td> <th>  Cond. No.          </th> <td>    16.2</td>\n",
       "</tr>\n",
       "</table><br/><br/>Notes:<br/>[1] Standard Errors assume that the covariance matrix of the errors is correctly specified."
      ],
      "text/plain": [
       "<class 'statsmodels.iolib.summary.Summary'>\n",
       "\"\"\"\n",
       "                            OLS Regression Results                            \n",
       "==============================================================================\n",
       "Dep. Variable:                      y   R-squared:                       0.946\n",
       "Model:                            OLS   Adj. R-squared:                  0.945\n",
       "Method:                 Least Squares   F-statistic:                     565.2\n",
       "Date:                Sun, 21 May 2023   Prob (F-statistic):           7.57e-61\n",
       "Time:                        14:57:07   Log-Likelihood:                -212.39\n",
       "No. Observations:                 100   AIC:                             432.8\n",
       "Df Residuals:                      96   BIC:                             443.2\n",
       "Df Model:                           3                                         \n",
       "Covariance Type:            nonrobust                                         \n",
       "==============================================================================\n",
       "                 coef    std err          t      P>|t|      [0.025      0.975]\n",
       "------------------------------------------------------------------------------\n",
       "const          0.1733      0.319      0.543      0.588      -0.460       0.807\n",
       "x1             0.5233      0.310      1.686      0.095      -0.093       1.139\n",
       "x2            -2.0903      0.079    -26.299      0.000      -2.248      -1.933\n",
       "x3             0.5646      0.054     10.456      0.000       0.457       0.672\n",
       "==============================================================================\n",
       "Omnibus:                        2.436   Durbin-Watson:                   2.022\n",
       "Prob(Omnibus):                  0.296   Jarque-Bera (JB):                1.850\n",
       "Skew:                           0.219   Prob(JB):                        0.396\n",
       "Kurtosis:                       3.502   Cond. No.                         16.2\n",
       "==============================================================================\n",
       "\n",
       "Notes:\n",
       "[1] Standard Errors assume that the covariance matrix of the errors is correctly specified.\n",
       "\"\"\""
      ]
     },
     "execution_count": 55,
     "metadata": {},
     "output_type": "execute_result"
    }
   ],
   "source": [
    "pol3 = PolynomialFeatures(degree = 3)\n",
    "x3 = pol3.fit_transform(x.reshape(-1, 1))\n",
    "model3 = sm.OLS(endog = y, exog = x3).fit()\n",
    "model3.summary()"
   ]
  },
  {
   "cell_type": "code",
   "execution_count": 56,
   "metadata": {
    "ExecuteTime": {
     "end_time": "2023-05-21T12:57:07.651871Z",
     "start_time": "2023-05-21T12:57:07.177176Z"
    }
   },
   "outputs": [
    {
     "data": {
      "text/plain": [
       "[<matplotlib.lines.Line2D at 0x7f1def920a90>]"
      ]
     },
     "execution_count": 56,
     "metadata": {},
     "output_type": "execute_result"
    },
    {
     "data": {
      "image/png": "[encoded data removed]",
      "text/plain": [
       "<Figure size 432x288 with 1 Axes>"
      ]
     },
     "metadata": {
      "needs_background": "light"
     },
     "output_type": "display_data"
    }
   ],
   "source": [
    "plt.scatter(x, y)\n",
    "\n",
    "import operator\n",
    "sort_axis = operator.itemgetter(0)\n",
    "\n",
    "sorted_zip = sorted(zip(x, model3.fittedvalues), key=sort_axis)\n",
    "x_range, y_poly_pred = zip(*sorted_zip)\n",
    "plt.plot(x_range, y_poly_pred, color='yellow', label='degree=3')"
   ]
  },
  {
   "cell_type": "code",
   "execution_count": 57,
   "metadata": {
    "ExecuteTime": {
     "end_time": "2023-05-21T12:57:07.758314Z",
     "start_time": "2023-05-21T12:57:07.660655Z"
    }
   },
   "outputs": [
    {
     "data": {
      "text/html": [
       "<table class=\"simpletable\">\n",
       "<caption>OLS Regression Results</caption>\n",
       "<tr>\n",
       "  <th>Dep. Variable:</th>            <td>y</td>        <th>  R-squared:         </th> <td>   0.953</td>\n",
       "</tr>\n",
       "<tr>\n",
       "  <th>Model:</th>                   <td>OLS</td>       <th>  Adj. R-squared:    </th> <td>   0.941</td>\n",
       "</tr>\n",
       "<tr>\n",
       "  <th>Method:</th>             <td>Least Squares</td>  <th>  F-statistic:       </th> <td>   79.49</td>\n",
       "</tr>\n",
       "<tr>\n",
       "  <th>Date:</th>             <td>Sun, 21 May 2023</td> <th>  Prob (F-statistic):</th> <td>5.68e-44</td>\n",
       "</tr>\n",
       "<tr>\n",
       "  <th>Time:</th>                 <td>14:57:07</td>     <th>  Log-Likelihood:    </th> <td> -206.19</td>\n",
       "</tr>\n",
       "<tr>\n",
       "  <th>No. Observations:</th>      <td>   100</td>      <th>  AIC:               </th> <td>   454.4</td>\n",
       "</tr>\n",
       "<tr>\n",
       "  <th>Df Residuals:</th>          <td>    79</td>      <th>  BIC:               </th> <td>   509.1</td>\n",
       "</tr>\n",
       "<tr>\n",
       "  <th>Df Model:</th>              <td>    20</td>      <th>                     </th>     <td> </td>   \n",
       "</tr>\n",
       "<tr>\n",
       "  <th>Covariance Type:</th>      <td>nonrobust</td>    <th>                     </th>     <td> </td>   \n",
       "</tr>\n",
       "</table>\n",
       "<table class=\"simpletable\">\n",
       "<tr>\n",
       "    <td></td>       <th>coef</th>     <th>std err</th>      <th>t</th>      <th>P>|t|</th>  <th>[0.025</th>    <th>0.975]</th>  \n",
       "</tr>\n",
       "<tr>\n",
       "  <th>const</th> <td>    1.7706</td> <td>    1.016</td> <td>    1.742</td> <td> 0.085</td> <td>   -0.252</td> <td>    3.793</td>\n",
       "</tr>\n",
       "<tr>\n",
       "  <th>x1</th>    <td>    2.7044</td> <td>    3.345</td> <td>    0.808</td> <td> 0.421</td> <td>   -3.955</td> <td>    9.363</td>\n",
       "</tr>\n",
       "<tr>\n",
       "  <th>x2</th>    <td>  -25.6674</td> <td>   11.577</td> <td>   -2.217</td> <td> 0.029</td> <td>  -48.711</td> <td>   -2.624</td>\n",
       "</tr>\n",
       "<tr>\n",
       "  <th>x3</th>    <td>  -13.0354</td> <td>   18.301</td> <td>   -0.712</td> <td> 0.478</td> <td>  -49.463</td> <td>   23.392</td>\n",
       "</tr>\n",
       "<tr>\n",
       "  <th>x4</th>    <td>   79.1899</td> <td>   37.081</td> <td>    2.136</td> <td> 0.036</td> <td>    5.382</td> <td>  152.998</td>\n",
       "</tr>\n",
       "<tr>\n",
       "  <th>x5</th>    <td>   26.4664</td> <td>   36.240</td> <td>    0.730</td> <td> 0.467</td> <td>  -45.666</td> <td>   98.599</td>\n",
       "</tr>\n",
       "<tr>\n",
       "  <th>x6</th>    <td> -111.6591</td> <td>   51.779</td> <td>   -2.156</td> <td> 0.034</td> <td> -214.723</td> <td>   -8.595</td>\n",
       "</tr>\n",
       "<tr>\n",
       "  <th>x7</th>    <td>  -24.7093</td> <td>   34.860</td> <td>   -0.709</td> <td> 0.481</td> <td>  -94.097</td> <td>   44.678</td>\n",
       "</tr>\n",
       "<tr>\n",
       "  <th>x8</th>    <td>   81.7222</td> <td>   38.518</td> <td>    2.122</td> <td> 0.037</td> <td>    5.054</td> <td>  158.391</td>\n",
       "</tr>\n",
       "<tr>\n",
       "  <th>x9</th>    <td>   13.1469</td> <td>   18.660</td> <td>    0.705</td> <td> 0.483</td> <td>  -23.995</td> <td>   50.289</td>\n",
       "</tr>\n",
       "<tr>\n",
       "  <th>x10</th>   <td>  -34.7406</td> <td>   16.878</td> <td>   -2.058</td> <td> 0.043</td> <td>  -68.336</td> <td>   -1.145</td>\n",
       "</tr>\n",
       "<tr>\n",
       "  <th>x11</th>   <td>   -4.2568</td> <td>    5.949</td> <td>   -0.716</td> <td> 0.476</td> <td>  -16.097</td> <td>    7.583</td>\n",
       "</tr>\n",
       "<tr>\n",
       "  <th>x12</th>   <td>    9.0732</td> <td>    4.575</td> <td>    1.983</td> <td> 0.051</td> <td>   -0.033</td> <td>   18.179</td>\n",
       "</tr>\n",
       "<tr>\n",
       "  <th>x13</th>   <td>    0.8496</td> <td>    1.156</td> <td>    0.735</td> <td> 0.464</td> <td>   -1.451</td> <td>    3.150</td>\n",
       "</tr>\n",
       "<tr>\n",
       "  <th>x14</th>   <td>   -1.4790</td> <td>    0.777</td> <td>   -1.905</td> <td> 0.060</td> <td>   -3.025</td> <td>    0.067</td>\n",
       "</tr>\n",
       "<tr>\n",
       "  <th>x15</th>   <td>   -0.1016</td> <td>    0.134</td> <td>   -0.757</td> <td> 0.451</td> <td>   -0.369</td> <td>    0.165</td>\n",
       "</tr>\n",
       "<tr>\n",
       "  <th>x16</th>   <td>    0.1468</td> <td>    0.080</td> <td>    1.826</td> <td> 0.072</td> <td>   -0.013</td> <td>    0.307</td>\n",
       "</tr>\n",
       "<tr>\n",
       "  <th>x17</th>   <td>    0.0067</td> <td>    0.009</td> <td>    0.779</td> <td> 0.438</td> <td>   -0.010</td> <td>    0.024</td>\n",
       "</tr>\n",
       "<tr>\n",
       "  <th>x18</th>   <td>   -0.0081</td> <td>    0.005</td> <td>   -1.748</td> <td> 0.084</td> <td>   -0.017</td> <td>    0.001</td>\n",
       "</tr>\n",
       "<tr>\n",
       "  <th>x19</th>   <td>   -0.0002</td> <td>    0.000</td> <td>   -0.797</td> <td> 0.428</td> <td>   -0.001</td> <td>    0.000</td>\n",
       "</tr>\n",
       "<tr>\n",
       "  <th>x20</th>   <td>    0.0002</td> <td>    0.000</td> <td>    1.671</td> <td> 0.099</td> <td>-3.68e-05</td> <td>    0.000</td>\n",
       "</tr>\n",
       "</table>\n",
       "<table class=\"simpletable\">\n",
       "<tr>\n",
       "  <th>Omnibus:</th>       <td> 4.237</td> <th>  Durbin-Watson:     </th> <td>   2.081</td>\n",
       "</tr>\n",
       "<tr>\n",
       "  <th>Prob(Omnibus):</th> <td> 0.120</td> <th>  Jarque-Bera (JB):  </th> <td>   3.554</td>\n",
       "</tr>\n",
       "<tr>\n",
       "  <th>Skew:</th>          <td> 0.412</td> <th>  Prob(JB):          </th> <td>   0.169</td>\n",
       "</tr>\n",
       "<tr>\n",
       "  <th>Kurtosis:</th>      <td> 3.417</td> <th>  Cond. No.          </th> <td>1.73e+11</td>\n",
       "</tr>\n",
       "</table><br/><br/>Notes:<br/>[1] Standard Errors assume that the covariance matrix of the errors is correctly specified.<br/>[2] The condition number is large, 1.73e+11. This might indicate that there are<br/>strong multicollinearity or other numerical problems."
      ],
      "text/plain": [
       "<class 'statsmodels.iolib.summary.Summary'>\n",
       "\"\"\"\n",
       "                            OLS Regression Results                            \n",
       "==============================================================================\n",
       "Dep. Variable:                      y   R-squared:                       0.953\n",
       "Model:                            OLS   Adj. R-squared:                  0.941\n",
       "Method:                 Least Squares   F-statistic:                     79.49\n",
       "Date:                Sun, 21 May 2023   Prob (F-statistic):           5.68e-44\n",
       "Time:                        14:57:07   Log-Likelihood:                -206.19\n",
       "No. Observations:                 100   AIC:                             454.4\n",
       "Df Residuals:                      79   BIC:                             509.1\n",
       "Df Model:                          20                                         \n",
       "Covariance Type:            nonrobust                                         \n",
       "==============================================================================\n",
       "                 coef    std err          t      P>|t|      [0.025      0.975]\n",
       "------------------------------------------------------------------------------\n",
       "const          1.7706      1.016      1.742      0.085      -0.252       3.793\n",
       "x1             2.7044      3.345      0.808      0.421      -3.955       9.363\n",
       "x2           -25.6674     11.577     -2.217      0.029     -48.711      -2.624\n",
       "x3           -13.0354     18.301     -0.712      0.478     -49.463      23.392\n",
       "x4            79.1899     37.081      2.136      0.036       5.382     152.998\n",
       "x5            26.4664     36.240      0.730      0.467     -45.666      98.599\n",
       "x6          -111.6591     51.779     -2.156      0.034    -214.723      -8.595\n",
       "x7           -24.7093     34.860     -0.709      0.481     -94.097      44.678\n",
       "x8            81.7222     38.518      2.122      0.037       5.054     158.391\n",
       "x9            13.1469     18.660      0.705      0.483     -23.995      50.289\n",
       "x10          -34.7406     16.878     -2.058      0.043     -68.336      -1.145\n",
       "x11           -4.2568      5.949     -0.716      0.476     -16.097       7.583\n",
       "x12            9.0732      4.575      1.983      0.051      -0.033      18.179\n",
       "x13            0.8496      1.156      0.735      0.464      -1.451       3.150\n",
       "x14           -1.4790      0.777     -1.905      0.060      -3.025       0.067\n",
       "x15           -0.1016      0.134     -0.757      0.451      -0.369       0.165\n",
       "x16            0.1468      0.080      1.826      0.072      -0.013       0.307\n",
       "x17            0.0067      0.009      0.779      0.438      -0.010       0.024\n",
       "x18           -0.0081      0.005     -1.748      0.084      -0.017       0.001\n",
       "x19           -0.0002      0.000     -0.797      0.428      -0.001       0.000\n",
       "x20            0.0002      0.000      1.671      0.099   -3.68e-05       0.000\n",
       "==============================================================================\n",
       "Omnibus:                        4.237   Durbin-Watson:                   2.081\n",
       "Prob(Omnibus):                  0.120   Jarque-Bera (JB):                3.554\n",
       "Skew:                           0.412   Prob(JB):                        0.169\n",
       "Kurtosis:                       3.417   Cond. No.                     1.73e+11\n",
       "==============================================================================\n",
       "\n",
       "Notes:\n",
       "[1] Standard Errors assume that the covariance matrix of the errors is correctly specified.\n",
       "[2] The condition number is large, 1.73e+11. This might indicate that there are\n",
       "strong multicollinearity or other numerical problems.\n",
       "\"\"\""
      ]
     },
     "execution_count": 57,
     "metadata": {},
     "output_type": "execute_result"
    }
   ],
   "source": [
    "pol20 = PolynomialFeatures(degree = 20)\n",
    "x20 = pol20.fit_transform(x.reshape(-1, 1))\n",
    "model20 = sm.OLS(endog = y, exog = x20).fit()\n",
    "model20.summary()"
   ]
  },
  {
   "cell_type": "code",
   "execution_count": 58,
   "metadata": {
    "ExecuteTime": {
     "end_time": "2023-05-21T12:57:08.277075Z",
     "start_time": "2023-05-21T12:57:07.768191Z"
    }
   },
   "outputs": [
    {
     "data": {
      "text/plain": [
       "[<matplotlib.lines.Line2D at 0x7f1def97e140>]"
      ]
     },
     "execution_count": 58,
     "metadata": {},
     "output_type": "execute_result"
    },
    {
     "data": {
      "image/png": "[encoded data removed]",
      "text/plain": [
       "<Figure size 432x288 with 1 Axes>"
      ]
     },
     "metadata": {
      "needs_background": "light"
     },
     "output_type": "display_data"
    }
   ],
   "source": [
    "plt.scatter(x, y)\n",
    "\n",
    "import operator\n",
    "sort_axis = operator.itemgetter(0)\n",
    "\n",
    "sorted_zip = sorted(zip(x, model20.fittedvalues), key=sort_axis)\n",
    "x_range, y_poly_pred = zip(*sorted_zip)\n",
    "plt.plot(x_range, y_poly_pred, color='orange', label='degree=20')"
   ]
  },
  {
   "cell_type": "markdown",
   "metadata": {
    "id": "L425peEgTbND"
   },
   "source": [
    "### The Bias vs Variance trade-off\n",
    "\n",
    "**Bias** (obciążenie) - odnosi się do błędu wynikającego z uproszczonych założeń modelu dotyczących dopasowania danych. Wysokie obciążenie oznacza, że model nie jest w stanie uchwycić wzorców w danych (także nowych), co powoduje niedopasowanie/niedouczenie (ang. *under-fitting*).\n",
    "\n",
    "**Variance** - odnosi się do błędu spowodowanego złożonym modelem próbującym dopasować dane. Duża wariancja na nowych danych oznacza, że model przechodzi przez większość punktów danych i powoduje nadmierne dopasowanie do danych (ang. *over-fitting*)."
   ]
  },
  {
   "cell_type": "code",
   "execution_count": 64,
   "metadata": {
    "ExecuteTime": {
     "end_time": "2023-05-21T13:02:07.230937Z",
     "start_time": "2023-05-21T13:02:06.538040Z"
    },
    "id": "wjmDV4-pluI0"
   },
   "outputs": [
    {
     "data": {
      "text/plain": [
       "Text(0.5, 0, 'Overfit\\nLow bias\\nHigh Variance')"
      ]
     },
     "execution_count": 64,
     "metadata": {},
     "output_type": "execute_result"
    },
    {
     "data": {
      "image/png": "[encoded data removed]",
      "text/plain": [
       "<Figure size 1440x504 with 3 Axes>"
      ]
     },
     "metadata": {
      "needs_background": "light"
     },
     "output_type": "display_data"
    }
   ],
   "source": [
    "fig, ax = plt.subplots(1, 3, figsize=(20, 7))\n",
    "\n",
    "ax[0].scatter(x, y)\n",
    "ax[0].plot(x, model1.fittedvalues, '--', color='red', label=\"degree=1\")\n",
    "ax[0].set_xlabel(\"Underfit\\nHigh bias\\nLow Variance\")\n",
    "\n",
    "sorted_zip = sorted(zip(x, model3.fittedvalues), key=sort_axis)\n",
    "x_range, y_poly_pred = zip(*sorted_zip)\n",
    "ax[1].scatter(x, y)\n",
    "ax[1].plot(x_range, y_poly_pred, '--', color='magenta', label=\"degree=3\")\n",
    "ax[1].set_xlabel(\"Correct Fit\\nLow bias\\nLow Variance\")\n",
    "\n",
    "sorted_zip = sorted(zip(x, model20.fittedvalues), key=sort_axis)\n",
    "x_range, y_poly_pred = zip(*sorted_zip)\n",
    "ax[2].scatter(x, y)\n",
    "ax[2].plot(x_range, y_poly_pred, '--', color='orange', label=\"degree=20\")\n",
    "ax[2].set_xlabel(\"Overfit\\nLow bias\\nHigh Variance\")"
   ]
  },
  {
   "cell_type": "markdown",
   "metadata": {
    "id": "jGCIYqUITbNF"
   },
   "source": [
    "# Zadanie 2\n",
    "Wczytaj dane `amazon_salaries.csv` opisujące wysokość rocznych zarobków (`Salary`) w zależności od zajmowanego stanowiska (`Level`). \n",
    "\n",
    "Dopasuj model regresji liniowej oraz model regresji wielomianowej, znajdź najlepszy stopień wielomianu."
   ]
  },
  {
   "cell_type": "code",
   "execution_count": 61,
   "metadata": {
    "ExecuteTime": {
     "end_time": "2023-05-21T12:58:44.103195Z",
     "start_time": "2023-05-21T12:58:44.088736Z"
    },
    "id": "CXUiVUOKOO83"
   },
   "outputs": [],
   "source": [
    "amazon_salary = pd.read_csv(\"../../data/amazon_salaries.csv\")"
   ]
  },
  {
   "cell_type": "code",
   "execution_count": 65,
   "metadata": {
    "ExecuteTime": {
     "end_time": "2023-05-21T13:05:58.005603Z",
     "start_time": "2023-05-21T13:05:57.826285Z"
    },
    "id": "s7wLTt3qSHKG"
   },
   "outputs": [
    {
     "data": {
      "text/plain": [
       "<matplotlib.collections.PathCollection at 0x7f1def073d90>"
      ]
     },
     "execution_count": 65,
     "metadata": {},
     "output_type": "execute_result"
    },
    {
     "data": {
      "image/png": "[encoded data removed]",
      "text/plain": [
       "<Figure size 432x288 with 1 Axes>"
      ]
     },
     "metadata": {
      "needs_background": "light"
     },
     "output_type": "display_data"
    }
   ],
   "source": [
    "x = amazon_salary.Level\n",
    "y = amazon_salary.Salary\n",
    "\n",
    "plt.scatter(x, y)"
   ]
  },
  {
   "cell_type": "code",
   "execution_count": 68,
   "metadata": {
    "ExecuteTime": {
     "end_time": "2023-05-21T13:07:41.936863Z",
     "start_time": "2023-05-21T13:07:41.625145Z"
    },
    "id": "7EqQ9s9GxPcz"
   },
   "outputs": [
    {
     "name": "stdout",
     "output_type": "stream",
     "text": [
      "                            OLS Regression Results                            \n",
      "==============================================================================\n",
      "Dep. Variable:                 Salary   R-squared:                       0.669\n",
      "Model:                            OLS   Adj. R-squared:                  0.628\n",
      "Method:                 Least Squares   F-statistic:                     16.17\n",
      "Date:                Sun, 21 May 2023   Prob (F-statistic):            0.00383\n",
      "Time:                        15:07:41   Log-Likelihood:                -134.23\n",
      "No. Observations:                  10   AIC:                             272.5\n",
      "Df Residuals:                       8   BIC:                             273.1\n",
      "Df Model:                           1                                         \n",
      "Covariance Type:            nonrobust                                         \n",
      "==============================================================================\n",
      "                 coef    std err          t      P>|t|      [0.025      0.975]\n",
      "------------------------------------------------------------------------------\n",
      "const      -1.953e+05   1.25e+05     -1.565      0.156   -4.83e+05    9.24e+04\n",
      "x1          8.088e+04   2.01e+04      4.021      0.004    3.45e+04    1.27e+05\n",
      "==============================================================================\n",
      "Omnibus:                        5.661   Durbin-Watson:                   0.786\n",
      "Prob(Omnibus):                  0.059   Jarque-Bera (JB):                2.297\n",
      "Skew:                           1.148   Prob(JB):                        0.317\n",
      "Kurtosis:                       3.492   Cond. No.                         13.7\n",
      "==============================================================================\n",
      "\n",
      "Notes:\n",
      "[1] Standard Errors assume that the covariance matrix of the errors is correctly specified.\n"
     ]
    },
    {
     "name": "stderr",
     "output_type": "stream",
     "text": [
      "/usr/lib/python3/dist-packages/scipy/stats/_stats_py.py:1477: UserWarning: kurtosistest only valid for n>=20 ... continuing anyway, n=10\n",
      "  warnings.warn(\"kurtosistest only valid for n>=20 ... continuing \"\n"
     ]
    },
    {
     "data": {
      "text/plain": [
       "[<matplotlib.lines.Line2D at 0x7f1def025390>]"
      ]
     },
     "execution_count": 68,
     "metadata": {},
     "output_type": "execute_result"
    },
    {
     "data": {
      "image/png": "[encoded data removed]",
      "text/plain": [
       "<Figure size 432x288 with 1 Axes>"
      ]
     },
     "metadata": {
      "needs_background": "light"
     },
     "output_type": "display_data"
    }
   ],
   "source": [
    "x = np.array(x)\n",
    "pol1 = PolynomialFeatures(degree = 1)\n",
    "x1 = pol1.fit_transform(x.reshape(-1, 1))\n",
    "model1 = sm. OLS(endog = y, exog = x1).fit()\n",
    "print(model1.summary())\n",
    "\n",
    "plt.scatter(x, y)\n",
    "import operator\n",
    "sort_axis = operator.itemgetter(0)\n",
    "sorted_zip = sorted(zip(x, model1.fittedvalues), key=sort_axis)\n",
    "x_range, y_poly_pred = zip(*sorted_zip)\n",
    "plt.plot(x_range, y_poly_pred, color='orange', label ='degree=1')"
   ]
  },
  {
   "cell_type": "code",
   "execution_count": 80,
   "metadata": {
    "ExecuteTime": {
     "end_time": "2023-05-21T13:11:17.593347Z",
     "start_time": "2023-05-21T13:11:17.253215Z"
    },
    "id": "xwZ7olFtS2hE"
   },
   "outputs": [
    {
     "name": "stdout",
     "output_type": "stream",
     "text": [
      "                            OLS Regression Results                            \n",
      "==============================================================================\n",
      "Dep. Variable:                 Salary   R-squared:                       1.000\n",
      "Model:                            OLS   Adj. R-squared:                  1.000\n",
      "Method:                 Least Squares   F-statistic:                     3938.\n",
      "Date:                Sun, 21 May 2023   Prob (F-statistic):           1.80e-07\n",
      "Time:                        15:11:17   Log-Likelihood:                -97.248\n",
      "No. Observations:                  10   AIC:                             206.5\n",
      "Df Residuals:                       4   BIC:                             208.3\n",
      "Df Model:                           5                                         \n",
      "Covariance Type:            nonrobust                                         \n",
      "==============================================================================\n",
      "                 coef    std err          t      P>|t|      [0.025      0.975]\n",
      "------------------------------------------------------------------------------\n",
      "const      -4.133e+04    3.9e+04     -1.060      0.349    -1.5e+05    6.69e+04\n",
      "x1          1.607e+05    5.9e+04      2.722      0.053   -3192.864    3.25e+05\n",
      "x2         -1.004e+05   2.95e+04     -3.399      0.027   -1.82e+05   -1.84e+04\n",
      "x3          2.816e+04   6434.904      4.377      0.012    1.03e+04     4.6e+04\n",
      "x4         -3446.3869    632.118     -5.452      0.005   -5201.427   -1691.347\n",
      "x5           157.6923     22.914      6.882      0.002      94.072     221.313\n",
      "==============================================================================\n",
      "Omnibus:                        0.875   Durbin-Watson:                   2.974\n",
      "Prob(Omnibus):                  0.646   Jarque-Bera (JB):                0.298\n",
      "Skew:                           0.405   Prob(JB):                        0.861\n",
      "Kurtosis:                       2.759   Cond. No.                     1.47e+06\n",
      "==============================================================================\n",
      "\n",
      "Notes:\n",
      "[1] Standard Errors assume that the covariance matrix of the errors is correctly specified.\n",
      "[2] The condition number is large, 1.47e+06. This might indicate that there are\n",
      "strong multicollinearity or other numerical problems.\n"
     ]
    },
    {
     "name": "stderr",
     "output_type": "stream",
     "text": [
      "/usr/lib/python3/dist-packages/scipy/stats/_stats_py.py:1477: UserWarning: kurtosistest only valid for n>=20 ... continuing anyway, n=10\n",
      "  warnings.warn(\"kurtosistest only valid for n>=20 ... continuing \"\n"
     ]
    },
    {
     "data": {
      "text/plain": [
       "<matplotlib.legend.Legend at 0x7f1deebe62c0>"
      ]
     },
     "execution_count": 80,
     "metadata": {},
     "output_type": "execute_result"
    },
    {
     "data": {
      "image/png": "[encoded data removed]",
      "text/plain": [
       "<Figure size 432x288 with 1 Axes>"
      ]
     },
     "metadata": {
      "needs_background": "light"
     },
     "output_type": "display_data"
    }
   ],
   "source": [
    "N = 5\n",
    "\n",
    "x=np.array(x)\n",
    "polN = PolynomialFeatures(degree = N)\n",
    "xN = polN.fit_transform(x.reshape(-1, 1))\n",
    "modelN = sm. OLS(endog = y, exog = xN).fit()\n",
    "print(modelN.summary())\n",
    "\n",
    "plt.scatter(x, y)\n",
    "import operator\n",
    "sort_axis = operator.itemgetter(0)\n",
    "sorted_zip = sorted(zip(x, modelN.fittedvalues), key=sort_axis)\n",
    "x_range, y_poly_pred = zip(*sorted_zip)\n",
    "plt.plot(x_range, y_poly_pred, color='orange', label ='degree='+str(N))\n",
    "plt.legend()"
   ]
  }
 ],
 "metadata": {
  "colab": {
   "provenance": []
  },
  "hide_input": false,
  "kernelspec": {
   "display_name": "Python 3 (ipykernel)",
   "language": "python",
   "name": "python3"
  },
  "language_info": {
   "codemirror_mode": {
    "name": "ipython",
    "version": 3
   },
   "file_extension": ".py",
   "mimetype": "text/x-python",
   "name": "python",
   "nbconvert_exporter": "python",
   "pygments_lexer": "ipython3",
   "version": "3.10.6"
  },
  "toc": {
   "base_numbering": 1,
   "nav_menu": {},
   "number_sections": true,
   "sideBar": true,
   "skip_h1_title": true,
   "title_cell": "Table of Contents",
   "title_sidebar": "Contents",
   "toc_cell": false,
   "toc_position": {},
   "toc_section_display": true,
   "toc_window_display": false
  },
  "varInspector": {
   "cols": {
    "lenName": 16,
    "lenType": 16,
    "lenVar": 40
   },
   "kernels_config": {
    "python": {
     "delete_cmd_postfix": "",
     "delete_cmd_prefix": "del ",
     "library": "var_list.py",
     "varRefreshCmd": "print(var_dic_list())"
    },
    "r": {
     "delete_cmd_postfix": ") ",
     "delete_cmd_prefix": "rm(",
     "library": "var_list.r",
     "varRefreshCmd": "cat(var_dic_list()) "
    }
   },
   "types_to_exclude": [
    "module",
    "function",
    "builtin_function_or_method",
    "instance",
    "_Feature"
   ],
   "window_display": false
  }
 },
 "nbformat": 4,
 "nbformat_minor": 1
}
