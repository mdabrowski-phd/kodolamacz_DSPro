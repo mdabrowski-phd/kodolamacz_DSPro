{
 "cells": [
  {
   "cell_type": "markdown",
   "metadata": {
    "id": "dPQMCWhixT7h"
   },
   "source": [
    "# Testy zgodności"
   ]
  },
  {
   "cell_type": "code",
   "execution_count": 1,
   "metadata": {
    "ExecuteTime": {
     "end_time": "2023-05-20T07:09:36.629220Z",
     "start_time": "2023-05-20T07:09:34.293063Z"
    },
    "id": "ktm1JCOCxT7m"
   },
   "outputs": [],
   "source": [
    "import numpy as np\n",
    "import pandas as pd\n",
    "import matplotlib.pyplot as plt\n",
    "from scipy import stats\n",
    "import seaborn as sns"
   ]
  },
  {
   "cell_type": "markdown",
   "metadata": {
    "id": "H596Rkl907zu"
   },
   "source": [
    "#Test zgodności chi-kwadrat\n",
    "Hipoteza zerowa i alternatywna\n",
    "\\begin{equation*}\n",
    "H_0: F = F_0,\\\\\n",
    "H_1: F \\neq F_0,\n",
    "\\end{equation*}\n",
    "gdzie $F_0$ jest w pełni ustaloną dystrybuantą.\n",
    "\n",
    "Statystyka testowa:\n",
    "\\begin{equation*}\n",
    "    T = \\sum_{i=1}^k\\frac{(n_i - np_i)^2}{np_i}\n",
    "\\end{equation*}\n",
    "\n",
    "gdzie $p_i$ obliczamy ze wzoru\n",
    "\\begin{equation*}\n",
    "    p_i = F_0(\\xi_i) - F_0(\\xi_{i-1}),\n",
    "\\end{equation*}\n",
    "gdzie $\\xi_0, \\ldots, \\xi_k$ oznaczają krańce przedziałów klasowych.\n",
    "\n",
    "Obszar krytyczny testu na przyjętym poziomie istotności $\\alpha$ będzie miał postać\n",
    "\\begin{equation*}\n",
    "    W_{\\alpha} = [\\chi^2_{1-\\alpha,k-1}, +\\infty],\n",
    "\\end{equation*}\n",
    "gdzie $\\chi^2_{1-\\alpha,k-1}$ oznacza kwantyl rzędu $1-\\alpha$ rozkładu chi-kwadrat o $k-1$ stopniach swobody."
   ]
  },
  {
   "cell_type": "markdown",
   "metadata": {
    "id": "LjvF4Y_mxT7q"
   },
   "source": [
    "# Zadanie 1\n",
    "W losowo wziętym tygodniu wydarzyło się w Warszawie 414 wypadków i kolizji drogowych, przy czym ich rozkład w poszczególnych dniach tygodnia wyglądał następująco:\n",
    "\n",
    "| Dzień tygodnia  | Poniedziałek | Wtorek | Środa | Czwartek | Piątek | Sobota | Niedziela |\n",
    "|-----------------|:------------:|:------:|:-----:|:--------:|:------:|:------:|:---------:|\n",
    "| Liczba wypadków |      78      |   56   |   52  |    58    |   83   |   42   |     45    |\n",
    "\n",
    "\n",
    "Stwierdzić, czy rozkład wypadków w poszczególne dni tygodnia jest równomiernny. Przyjąć poziom istotności 0.05."
   ]
  },
  {
   "cell_type": "markdown",
   "metadata": {
    "id": "GHJh7HL4RnrM"
   },
   "source": [
    "a) Testujemy hipotezę zerową, że nasza próbka jest z rozkładu jednostajnego dyskretnego na przedziale {1,7} (co oznacza, że dla każdej wartości od 1 do 7 mamy prawdopodobieństwo równe $\\frac{1}{7}$).\n",
    "$$\n",
    "H_0: F = U\\{1,7\\}\n",
    "$$"
   ]
  },
  {
   "cell_type": "code",
   "execution_count": 3,
   "metadata": {
    "ExecuteTime": {
     "end_time": "2023-05-20T07:20:33.806179Z",
     "start_time": "2023-05-20T07:20:33.793995Z"
    },
    "id": "sPmsuPO-sX10"
   },
   "outputs": [
    {
     "name": "stdout",
     "output_type": "stream",
     "text": [
      "T = 25.03864734299517\n",
      "Chi2 = 12.591587243743977\n",
      "p-value = 0.0003358740293726292\n"
     ]
    }
   ],
   "source": [
    "wyniki = np.array([78, 56, 52, 58, 83, 42, 45])\n",
    "n = wyniki.sum()\n",
    "npi = (1/7) * wyniki.sum()\n",
    "alpha = 0.05\n",
    "chi2 = stats.chi2(6) # 6 stopni swobody\n",
    "\n",
    "T = 0\n",
    "for ni in wyniki:\n",
    "    T = T + ((ni - npi)**2)/npi\n",
    "\n",
    "print(\"T =\", T)\n",
    "print(\"Chi2 =\", chi2.ppf(q=1-alpha))\n",
    "\n",
    "print(\"p-value =\", 1-chi2.cdf(T))"
   ]
  },
  {
   "cell_type": "code",
   "execution_count": 4,
   "metadata": {
    "ExecuteTime": {
     "end_time": "2023-05-20T07:20:41.491997Z",
     "start_time": "2023-05-20T07:20:41.485524Z"
    },
    "id": "DkVrDkfcsV8Z"
   },
   "outputs": [
    {
     "data": {
      "text/plain": [
       "Power_divergenceResult(statistic=25.03864734299517, pvalue=0.0003358740293725965)"
      ]
     },
     "execution_count": 4,
     "metadata": {},
     "output_type": "execute_result"
    }
   ],
   "source": [
    "# automatycznie\n",
    "stats.chisquare(f_obs = wyniki, f_exp = n/7)  # dla zdefiniowanego rozkładu prawdopodobieństwa"
   ]
  },
  {
   "cell_type": "code",
   "execution_count": 5,
   "metadata": {
    "ExecuteTime": {
     "end_time": "2023-05-20T07:20:44.061304Z",
     "start_time": "2023-05-20T07:20:44.053698Z"
    },
    "id": "CYMdhjIgsUT8"
   },
   "outputs": [
    {
     "data": {
      "text/plain": [
       "Power_divergenceResult(statistic=25.03864734299517, pvalue=0.0003358740293725965)"
      ]
     },
     "execution_count": 5,
     "metadata": {},
     "output_type": "execute_result"
    }
   ],
   "source": [
    "stats.chisquare(f_obs = wyniki)  # dla rozkładu jednorodnego (płaski rozkład prawdopodobieństwa)"
   ]
  },
  {
   "cell_type": "markdown",
   "metadata": {
    "id": "_eu-buVVxT7x"
   },
   "source": [
    "# Zadanie 2\n",
    "W celu zbadania, czy program generujący liczby losowe z rozkładu dwumianowego działa prawidłowo, wygenerowano 100 liczb i otrzymano następujące wyniki:\n",
    "\n",
    "| Wygenerowana liczba losowa | 0  | 1  | 2  | 3  |\n",
    "|----------------------------|----|----|----|----|\n",
    "| Liczba uzyskanych wyników  | 12 | 37 | 38 | 13 |\n",
    "\n",
    "Zweryfikować odpowiednią hipotezę na poziomie istotności 0.05 zakładając że:\n",
    "\n",
    "a) wiemy że program powinien generować liczby z rozkładu dwumianowego z parametrami $n=3$ i $p=0.5$,\n",
    "\n",
    "b) wiemy że program powinien generować liczby z rozkładu dwumianowego z parametrem $n=3$ i pewnym nieznanym prametrem $p$. "
   ]
  },
  {
   "cell_type": "markdown",
   "metadata": {
    "id": "SKWgJN4NvqPT"
   },
   "source": [
    "a) Testujemy hipotezę zerową\n",
    "$$\n",
    "H_0: F = \\text{Bin}(n=3, p=\\frac{1}{2}).\n",
    "$$"
   ]
  },
  {
   "cell_type": "code",
   "execution_count": 19,
   "metadata": {
    "ExecuteTime": {
     "end_time": "2023-05-20T07:37:44.955379Z",
     "start_time": "2023-05-20T07:37:44.946744Z"
    },
    "id": "cmRwYRm1IA0p",
    "scrolled": true
   },
   "outputs": [
    {
     "data": {
      "text/plain": [
       "Power_divergenceResult(statistic=0.05333333333333333, pvalue=0.9967761206252433)"
      ]
     },
     "execution_count": 19,
     "metadata": {},
     "output_type": "execute_result"
    }
   ],
   "source": [
    "wyniki = np.array([12, 37, 38, 13])\n",
    "\n",
    "binom = stats.binom(n=3, p=0.5)\n",
    "stats.chisquare(f_obs = wyniki, f_exp = 100*binom.pmf([0, 1, 2, 3]))"
   ]
  },
  {
   "cell_type": "markdown",
   "metadata": {
    "id": "McfbfSBDvs1s"
   },
   "source": [
    "b) Testujemy hipotezę zerową\n",
    "$$\n",
    "H_0: F = \\text{Bin}(n=3, p).\n",
    "$$"
   ]
  },
  {
   "cell_type": "markdown",
   "metadata": {
    "id": "uYpw1o6VwVTZ"
   },
   "source": [
    "Estymator największej wiarygodności parametru $p$ dla rozkładu dwumianowego:\n",
    "\n",
    "\\begin{equation*}\n",
    "\\hat{p} = \\frac{\\bar{X}}{n}\n",
    "\\end{equation*}"
   ]
  },
  {
   "cell_type": "code",
   "execution_count": 21,
   "metadata": {
    "ExecuteTime": {
     "end_time": "2023-05-20T07:45:31.789496Z",
     "start_time": "2023-05-20T07:45:31.778693Z"
    },
    "id": "QVtdATWdICfN"
   },
   "outputs": [
    {
     "data": {
      "text/plain": [
       "Power_divergenceResult(statistic=9.487102235448503e-06, pvalue=0.9999999922282657)"
      ]
     },
     "execution_count": 21,
     "metadata": {},
     "output_type": "execute_result"
    }
   ],
   "source": [
    "wyniki = np.array([12, 37, 38, 13])\n",
    "p = np.mean(np.array([[0] * 12 + [1] * 37 + [2] * 38 + [3] * 13])) / 3\n",
    "\n",
    "binom = stats.binom(n=3, p=p)\n",
    "stats.chisquare(f_obs = wyniki, f_exp = 100*binom.pmf([0, 1, 2, 3]))  # bardziej ogólna hipoteza, większe p_value"
   ]
  },
  {
   "cell_type": "markdown",
   "metadata": {
    "id": "BYG4bmmoQbao"
   },
   "source": [
    "# Zadanie 3\n",
    "\n",
    "W pewnej fabryce badano wagi 100 tabliczek czekolady. Uzyskano następujące rezutaty:\n",
    "\n",
    "| Waga | Ilość |\n",
    "|:---------:|:----------:|\n",
    "|     130g-140g    |     2     |\n",
    "|     140g-150g    |     21     |\n",
    "|     150g-160g    |     64     |\n",
    "|     160g-170g    |     12     |\n",
    "|     170g-180g    |     1     |\n",
    "\n",
    "Sprawdź czy rozkład wagi tabliczek czekolady jest rozkładem normalnym $N(155,6)$."
   ]
  },
  {
   "cell_type": "code",
   "execution_count": 43,
   "metadata": {
    "ExecuteTime": {
     "end_time": "2023-05-20T08:16:19.406007Z",
     "start_time": "2023-05-20T08:16:19.390492Z"
    },
    "id": "sv7WLcfgrHQ4"
   },
   "outputs": [
    {
     "name": "stdout",
     "output_type": "stream",
     "text": [
      "[0.006209665325776132, 0.19611871563786695, 0.5953432380727137, 0.19611871563786698, 0.006209665325776159] 1.0\n"
     ]
    },
    {
     "data": {
      "text/plain": [
       "Power_divergenceResult(statistic=6.681482455436003, pvalue=0.1537086879913707)"
      ]
     },
     "execution_count": 43,
     "metadata": {},
     "output_type": "execute_result"
    }
   ],
   "source": [
    "wyniki = np.array([2, 21, 64, 12, 1])\n",
    "\n",
    "normal = stats.norm(loc=155, scale=6)\n",
    "\n",
    "#zakres = [130, 140, 150, 160, 170, 180]  # BŁĄD, bo prawdopodobieństwa nie sumują się do 1\n",
    "zakres = [-np.infty, 140, 150, 160, 170, np.infty]  # \"lekka zmiana hipotezy roboczej\"\n",
    "\n",
    "p = []\n",
    "for i in range(len(zakres)-1):\n",
    "    p.append(normal.cdf(zakres[i+1]) - normal.cdf(zakres[i]))\n",
    "    \n",
    "print(p, np.sum(p))\n",
    "\n",
    "stats.chisquare(f_obs = wyniki, f_exp = 100*np.array(p))"
   ]
  },
  {
   "cell_type": "code",
   "execution_count": 42,
   "metadata": {
    "ExecuteTime": {
     "end_time": "2023-05-20T08:15:51.657225Z",
     "start_time": "2023-05-20T08:15:51.649826Z"
    },
    "id": "_MmiX2sGm_Ls"
   },
   "outputs": [
    {
     "data": {
      "text/plain": [
       "Jarque_beraResult(statistic=4.3001663498376885, pvalue=0.11647446961603891)"
      ]
     },
     "execution_count": 42,
     "metadata": {},
     "output_type": "execute_result"
    }
   ],
   "source": [
    "# inny test (dla reprezentantów przedziału - w tym wypadku średnich)\n",
    "\n",
    "x = np.concatenate([[135] * 2, [145] * 21, [155] * 64, [165] * 12, [175] * 1])\n",
    "stats.jarque_bera(x)  # sprawdzenie tylko normalności rozkładu (rodzina rozkładów)"
   ]
  },
  {
   "cell_type": "code",
   "execution_count": null,
   "metadata": {
    "id": "y4WEFqTon5nw"
   },
   "outputs": [],
   "source": []
  },
  {
   "cell_type": "markdown",
   "metadata": {
    "id": "eQiHZUql2C0_"
   },
   "source": [
    "# Dystrybuanta empiryczna\n",
    "Mamy próbę $X_1,X_2,...,X_n$. Wówczas dystrybuantę empiryczną definiujemy jako:\n",
    "\\begin{equation*}\n",
    "\\hat{F}(t) = \\frac{\\#X_i: X_i\\leqslant t}{n}\n",
    "\\end{equation*}\n",
    "Niech nasza próbka będzie: $\\{X_1,X_2,X_3,X_4,X_5,X_6\\} = \\{10,20,70,30,40,30\\}$\n",
    "\\begin{equation*}\n",
    "\\hat{F}(35) = \\frac{\\#X_i: X_i\\leqslant 35}{6}  = \\frac{4}{6} = \\frac{2}{3}\n",
    "\\end{equation*}\n"
   ]
  },
  {
   "cell_type": "markdown",
   "metadata": {
    "id": "_2xX3Gjz4smD"
   },
   "source": [
    "# Test Kołmogorowa-Smirnowa \n",
    "Hipoteza zerowa i alternatywna\n",
    "\\begin{equation*}\n",
    "    H_0: F_1 = F_2,\\\\\n",
    "    H_1: F_1 \\neq F_2,\n",
    "\\end{equation*}\n",
    "gdzie $F_1$ jest dystrybuantą pierwszej próby, a $F_2$  drugiej próby.\n",
    "\n",
    "Założenie: Rozkłady badanych cech powinny być ciągłe.\n",
    "\n",
    "Niech $X_1, \\ldots, X_{n}$ będzie próbą losową pochodzącą z pierwszej populacji, natomiast $Y_1, \\ldots, Y_{m}$ próbą losową pochodzącą z drugiej populacji.\n",
    "\n",
    "Statystyka testowa:\n",
    "\\begin{equation*}\n",
    "    D_{n, m} = \\sup_x |\\hat{F}_n(x) - \\hat{F}_m(x)|,\n",
    "\\end{equation*}\n",
    "gdzie $\\hat{F}_n(x)$ i $\\hat{F}_m(x)$ oznaczają, odpowiednio, dystrybuanty empiryczne wyznaczone na podstawie pierwszej i drugiej próbki.\n",
    "\n",
    "Zbyt duże wartości tej statystyki świadczą przeciw hipotezie zerowej, stąd obszar krytyczny testu ma postać\n",
    "\\begin{equation*}\n",
    "    W_{\\alpha} = [d(\\alpha, n, m), 1],\n",
    "\\end{equation*}\n",
    "gdzie $d(\\alpha, n, m)$ jest wartością krytyczną rozkładu statystyki~$D_{n, m}$.\n"
   ]
  },
  {
   "cell_type": "markdown",
   "metadata": {
    "id": "7yp0PNw2lXsk"
   },
   "source": [
    "# Zadanie 4\n",
    "W jednej ze szkół uczniowie przystąpili do egzaminu z języka obcego, z którego można otrzymać max 50 punktów. Dwunastu z nich wybrało język angielski, a dziewięciu język niemiecki. Uzyskane przez nich rezultaty przedstawia poniższa tabela:\n",
    "\n",
    "| J. angielski | J. niemiecki |\n",
    "|:---------:|:----------:|\n",
    "|     12    |     28     |\n",
    "|     41    |     14     |\n",
    "|     38    |     32     |\n",
    "|     27    |     49     |\n",
    "|     35    |     43     |\n",
    "|     19    |     21     |\n",
    "|     23    |     33     |\n",
    "|     47    |     40     |\n",
    "|     25    |     15     |\n",
    "|     15    |            |\n",
    "|     31    |            |\n",
    "|     28    |            |\n",
    "\n",
    "Sprawdź czy jest istotna róznica między wynikami z testu z języka angielskiego i z test z języka niemieckiego."
   ]
  },
  {
   "cell_type": "code",
   "execution_count": 44,
   "metadata": {
    "ExecuteTime": {
     "end_time": "2023-05-20T08:29:28.748551Z",
     "start_time": "2023-05-20T08:29:28.742485Z"
    },
    "id": "BHWgjuWSoqC5"
   },
   "outputs": [],
   "source": [
    "ang = np.array([12, 41, 38, 27, 35, 19, 23, 47, 25, 15, 31, 28])\n",
    "nie = np.array([28, 14, 32, 49, 43, 21, 33, 40, 15])"
   ]
  },
  {
   "cell_type": "code",
   "execution_count": 45,
   "metadata": {
    "ExecuteTime": {
     "end_time": "2023-05-20T08:30:44.300025Z",
     "start_time": "2023-05-20T08:30:44.291096Z"
    },
    "id": "CngQaw6wrTiY"
   },
   "outputs": [
    {
     "data": {
      "text/plain": [
       "array([12, 41, 38, 27, 35, 19, 23, 47, 25, 15, 31, 28, 28, 14, 32, 49, 43,\n",
       "       21, 33, 40, 15])"
      ]
     },
     "execution_count": 45,
     "metadata": {},
     "output_type": "execute_result"
    }
   ],
   "source": [
    "ang_nie = np.concatenate((ang, nie))\n",
    "label = np.concatenate((np.repeat('ang', len(ang)), np.repeat('nie', len(nie))))\n",
    "\n",
    "ang_nie  # stworzenie jednej wspólnej próbki (tylko na potrzeby wizualizacji!)"
   ]
  },
  {
   "cell_type": "code",
   "execution_count": 46,
   "metadata": {
    "ExecuteTime": {
     "end_time": "2023-05-20T08:30:49.145418Z",
     "start_time": "2023-05-20T08:30:48.920971Z"
    },
    "id": "eYsEWxq7rRyY"
   },
   "outputs": [
    {
     "data": {
      "text/plain": [
       "<AxesSubplot:ylabel='Proportion'>"
      ]
     },
     "execution_count": 46,
     "metadata": {},
     "output_type": "execute_result"
    },
    {
     "data": {
      "image/png": "[encoded data removed]",
      "text/plain": [
       "<Figure size 432x288 with 1 Axes>"
      ]
     },
     "metadata": {
      "needs_background": "light"
     },
     "output_type": "display_data"
    }
   ],
   "source": [
    "sns.ecdfplot(x = ang_nie, hue = label)  # graficzne porównanie dystrybuant empirycznych"
   ]
  },
  {
   "cell_type": "code",
   "execution_count": 47,
   "metadata": {
    "ExecuteTime": {
     "end_time": "2023-05-20T08:31:38.303286Z",
     "start_time": "2023-05-20T08:31:38.293664Z"
    },
    "id": "UeklHhXPrW6Q"
   },
   "outputs": [
    {
     "data": {
      "text/plain": [
       "KstestResult(statistic=0.2222222222222222, pvalue=0.9317660667505872)"
      ]
     },
     "execution_count": 47,
     "metadata": {},
     "output_type": "execute_result"
    }
   ],
   "source": [
    "stats.ks_2samp(data1 = ang, data2 = nie)  # test bada największą różnicę pomiędzy dystrybuantami"
   ]
  },
  {
   "cell_type": "markdown",
   "metadata": {
    "id": "KkQwOQa1xT70"
   },
   "source": [
    "# Zadanie 5\n",
    "Korzystając z testu Kołmogorowa-Smirnowa zbadać, czy rozkłady zużycia paliwa (zmienna `mpg`) przez samochody produkowane w Europie i w Japonii różnią się istotnie. Przeprowadzić badania na podstawie danych dotyczących parametrów kilku wybranych marek samochodów zamieszczonych w pliku `samochody.csv`."
   ]
  },
  {
   "cell_type": "code",
   "execution_count": 52,
   "metadata": {
    "ExecuteTime": {
     "end_time": "2023-05-20T08:35:59.500012Z",
     "start_time": "2023-05-20T08:35:59.483489Z"
    },
    "id": "WT6pvqyhZ2Ez"
   },
   "outputs": [],
   "source": [
    "samochody = pd.read_csv('../../data/samochody.csv', sep='\\t')\n",
    "\n",
    "europa = samochody.mpg[samochody.producent == 2]\n",
    "japonia = samochody.mpg[samochody.producent == 3]"
   ]
  },
  {
   "cell_type": "code",
   "execution_count": 55,
   "metadata": {
    "ExecuteTime": {
     "end_time": "2023-05-20T08:38:23.568153Z",
     "start_time": "2023-05-20T08:38:23.404003Z"
    },
    "id": "vlcgiXSbrx_s"
   },
   "outputs": [
    {
     "data": {
      "text/plain": [
       "KstestResult(statistic=0.22377622377622378, pvalue=0.3288024902540198)"
      ]
     },
     "execution_count": 55,
     "metadata": {},
     "output_type": "execute_result"
    },
    {
     "data": {
      "image/png": "[encoded data removed]",
      "text/plain": [
       "<Figure size 432x288 with 1 Axes>"
      ]
     },
     "metadata": {
      "needs_background": "light"
     },
     "output_type": "display_data"
    }
   ],
   "source": [
    "total = np.concatenate((europa, japonia))\n",
    "label = np.concatenate((np.repeat('eu', len(europa)), np.repeat('jp', len(japonia))))\n",
    "\n",
    "sns.ecdfplot(x = total, hue = label)\n",
    "\n",
    "stats.ks_2samp(data1 = europa, data2 = japonia)"
   ]
  },
  {
   "cell_type": "markdown",
   "metadata": {
    "id": "OylpPnpm8rsD"
   },
   "source": [
    "# Test Kruskala-Wallisa\n",
    "Uogólnienie testu Kołmogorowa-Smirnowa. Hipoteza zerowa i alternatywna:\n",
    "\\begin{equation*}\n",
    "    H_0: F_1 = F_2 = \\ldots = F_k,\\\\\n",
    "    H_1: \\neg H_0 \n",
    "\\end{equation*}\n",
    "Sprawdzamy hipotezę czy rozkłady wszystkich prób są takie same. Hipotezą alternatywną jest to, czy rozkład badanej cechy nie we wszystkich populacjach jest taki sam.\n",
    "\n",
    "Założenia: Rozważane rozkłady powinny być ciągłe.\n",
    "\n",
    "\n"
   ]
  },
  {
   "cell_type": "markdown",
   "metadata": {
    "id": "uvESjoAWA6kK"
   },
   "source": [
    "Załóżmy, że mamy $k$ próbek o licznościach $n_1, \\ldots, n_k$, przy czym $\\sum_{i=1}^k n_i = n$;\n",
    "\n",
    " Obserwacje pochodzące ze wszystkich $k$ prób ustawiamy w porządku rosnącym;\n",
    "\n",
    "Numerujemy kolejnymi liczbami naturalnymi (nadajemy tzw. rangi). Jeżeli kilka kolejnych wyników ma tę samą wartość, to każdemu z nich przypisujemy rangę będącą średnią arytmetyczną przypisanych im liczb naturalnych;\n",
    "\n",
    " Dla każdej próbki oddzielnie wyznaczamy sumę rang $R_i$, po czym obliczamy wartość  statystyki testowej.\n",
    "\n"
   ]
  },
  {
   "cell_type": "markdown",
   "metadata": {
    "id": "hs5rbdLbA-nr"
   },
   "source": [
    "Postać statystyki testowej testu Kruskala-Wallisa jest postaci\n",
    "\\begin{equation*}\n",
    "    \\begin{split}\n",
    "        T &= \\frac{12}{n(n+1)}\\sum_{i=1}^k n_i\\left(\\frac{R_i}{n_i} - \\frac{(n+1)}{2}\\right)^2 \\\\\n",
    "        &= \\frac{12}{n(n+1)} \\sum_{i=1}^k \\frac{R_i^2}{n_i} - 3(n+1).\n",
    "    \\end{split}\n",
    "\\end{equation*}\n",
    "\n",
    "Przy założeniu prawdziwości hipotezy zerowej statystyka ma asymptotyczny rozkład chi-kwadrat o $k-1$ stopniach swobody.\n",
    "\n",
    "Obszar krytyczny ma postać\n",
    "\\begin{equation*}\n",
    "    W_{\\alpha} = [\\chi^2_{1-\\alpha, k-1}, +\\infty),\n",
    "\\end{equation*}\n",
    "gdzie $\\chi^2_{1-\\alpha, k-1}$ oznacza kwantyl rzędu $1-\\alpha$ rozkładu chi-kwadrat o $k-1$ stopniach swobody (tj. \\textit{duże wartości statystyki świadczą przeciwko hipotezie zerowej})."
   ]
  },
  {
   "cell_type": "markdown",
   "metadata": {
    "id": "061uK7MLxT72"
   },
   "source": [
    "# Zadanie 6\n",
    "Piętnastu pacjentów będących w podobnej kondycji psychofizycznej i cierpiących na tę samą chorobę psychiczną zostało w sposób losowy podzielonych na trzy grupy, po czym każda z grup została podana innej formie terapii. Po upływie 6 miesięcy wszystkich 15 pacjentów poddano badaniu (w skali od 0 do 100), którego wyniki zawiera poniższa tabela:\n",
    "\n",
    "| Terapia I | Terapia II | Terapia III |\n",
    "|:---------:|:----------:|:-----------:|\n",
    "|     73    |     96     |      12     |\n",
    "|     79    |     92     |      26     |\n",
    "|     86    |     89     |      33     |\n",
    "|     91    |     95     |      8      |\n",
    "|     35    |     76     |      78     |\n",
    "\n",
    "Posługując się odpowiednim testem stwierdzić, czy zastosowane formy terapii są równie skuteczne. Przyjąć poziom istotności 0.05."
   ]
  },
  {
   "cell_type": "code",
   "execution_count": 57,
   "metadata": {
    "ExecuteTime": {
     "end_time": "2023-05-20T08:46:32.969879Z",
     "start_time": "2023-05-20T08:46:32.963195Z"
    },
    "id": "aJoFrE6GqIa0"
   },
   "outputs": [
    {
     "name": "stdout",
     "output_type": "stream",
     "text": [
      "[ 8 12 26 33 35 73 76 78 79 86 89 91 92 95 96]\n"
     ]
    }
   ],
   "source": [
    "t1 = [73, 79, 86, 91, 35]\n",
    "t2 = [96, 92, 89, 95, 76]\n",
    "t3 = [12, 26, 33, 8, 78]\n",
    "\n",
    "t_all = np.concatenate((t1, t2, t3))\n",
    "print(np.sort(t_all))"
   ]
  },
  {
   "cell_type": "code",
   "execution_count": 58,
   "metadata": {
    "ExecuteTime": {
     "end_time": "2023-05-20T08:46:47.319903Z",
     "start_time": "2023-05-20T08:46:47.310076Z"
    },
    "id": "P6uCvwHIsDbQ"
   },
   "outputs": [
    {
     "data": {
      "text/plain": [
       "KruskalResult(statistic=8.879999999999995, pvalue=0.011795938519751595)"
      ]
     },
     "execution_count": 58,
     "metadata": {},
     "output_type": "execute_result"
    }
   ],
   "source": [
    "stats.kruskal(t1, t2, t3)"
   ]
  },
  {
   "cell_type": "markdown",
   "metadata": {
    "id": "ADA9gxEGxT74"
   },
   "source": [
    "# Zadanie 7\n",
    "Na podstawie danych dotyczących parametrów kilku wybranych marek samochodów (plik `samochody.csv`) stwierdzić, czy istnieją istotne różnice w mocy silników samochodowych produkowanych w USA, Japonii i Europie."
   ]
  },
  {
   "cell_type": "markdown",
   "metadata": {
    "id": "3HSM9acoxT74"
   },
   "source": [
    "$\n",
    "H_0: F_{\\text{USA}} = F_{\\text{Japonia}} = F_{\\text{Europa}}\n",
    "$\n",
    "\n",
    "$\n",
    "H_1: \\neg H_0\n",
    "$"
   ]
  },
  {
   "cell_type": "code",
   "execution_count": 66,
   "metadata": {
    "ExecuteTime": {
     "end_time": "2023-05-20T08:50:54.492074Z",
     "start_time": "2023-05-20T08:50:54.433652Z"
    },
    "id": "CumEkUHJprDT"
   },
   "outputs": [
    {
     "data": {
      "text/html": [
       "<div>\n",
       "<style scoped>\n",
       "    .dataframe tbody tr th:only-of-type {\n",
       "        vertical-align: middle;\n",
       "    }\n",
       "\n",
       "    .dataframe tbody tr th {\n",
       "        vertical-align: top;\n",
       "    }\n",
       "\n",
       "    .dataframe thead th {\n",
       "        text-align: right;\n",
       "    }\n",
       "</style>\n",
       "<table border=\"1\" class=\"dataframe\">\n",
       "  <thead>\n",
       "    <tr style=\"text-align: right;\">\n",
       "      <th></th>\n",
       "      <th>mpg</th>\n",
       "      <th>cylindry</th>\n",
       "      <th>moc</th>\n",
       "      <th>przysp</th>\n",
       "      <th>rok</th>\n",
       "      <th>waga</th>\n",
       "      <th>producent</th>\n",
       "      <th>marka</th>\n",
       "      <th>model</th>\n",
       "      <th>cena</th>\n",
       "      <th>legenda</th>\n",
       "    </tr>\n",
       "  </thead>\n",
       "  <tbody>\n",
       "    <tr>\n",
       "      <th>0</th>\n",
       "      <td>43.1</td>\n",
       "      <td>4</td>\n",
       "      <td>48.0</td>\n",
       "      <td>21.5</td>\n",
       "      <td>78</td>\n",
       "      <td>1985</td>\n",
       "      <td>2</td>\n",
       "      <td>Volkswagen</td>\n",
       "      <td>Rabbit Dl</td>\n",
       "      <td>2400</td>\n",
       "      <td>America=1</td>\n",
       "    </tr>\n",
       "    <tr>\n",
       "      <th>1</th>\n",
       "      <td>36.1</td>\n",
       "      <td>4</td>\n",
       "      <td>66.0</td>\n",
       "      <td>14.4</td>\n",
       "      <td>78</td>\n",
       "      <td>1800</td>\n",
       "      <td>1</td>\n",
       "      <td>Ford</td>\n",
       "      <td>Fiesta</td>\n",
       "      <td>1900</td>\n",
       "      <td>Europe=2</td>\n",
       "    </tr>\n",
       "    <tr>\n",
       "      <th>2</th>\n",
       "      <td>32.8</td>\n",
       "      <td>4</td>\n",
       "      <td>52.0</td>\n",
       "      <td>19.4</td>\n",
       "      <td>78</td>\n",
       "      <td>1985</td>\n",
       "      <td>3</td>\n",
       "      <td>Mazda</td>\n",
       "      <td>GLC Deluxe</td>\n",
       "      <td>2200</td>\n",
       "      <td>Japan =3</td>\n",
       "    </tr>\n",
       "    <tr>\n",
       "      <th>3</th>\n",
       "      <td>39.4</td>\n",
       "      <td>4</td>\n",
       "      <td>70.0</td>\n",
       "      <td>18.6</td>\n",
       "      <td>78</td>\n",
       "      <td>2070</td>\n",
       "      <td>3</td>\n",
       "      <td>Datsun</td>\n",
       "      <td>B210 GX</td>\n",
       "      <td>2725</td>\n",
       "      <td></td>\n",
       "    </tr>\n",
       "    <tr>\n",
       "      <th>4</th>\n",
       "      <td>36.1</td>\n",
       "      <td>4</td>\n",
       "      <td>60.0</td>\n",
       "      <td>16.4</td>\n",
       "      <td>78</td>\n",
       "      <td>1800</td>\n",
       "      <td>3</td>\n",
       "      <td>Honda</td>\n",
       "      <td>Civic CVCC</td>\n",
       "      <td>2250</td>\n",
       "      <td></td>\n",
       "    </tr>\n",
       "  </tbody>\n",
       "</table>\n",
       "</div>"
      ],
      "text/plain": [
       "    mpg  cylindry   moc  przysp  rok  waga  producent       marka       model  \\\n",
       "0  43.1         4  48.0    21.5   78  1985          2  Volkswagen  Rabbit Dl    \n",
       "1  36.1         4  66.0    14.4   78  1800          1  Ford        Fiesta       \n",
       "2  32.8         4  52.0    19.4   78  1985          3  Mazda       GLC Deluxe   \n",
       "3  39.4         4  70.0    18.6   78  2070          3  Datsun      B210 GX      \n",
       "4  36.1         4  60.0    16.4   78  1800          3  Honda       Civic CVCC   \n",
       "\n",
       "   cena    legenda  \n",
       "0  2400  America=1  \n",
       "1  1900   Europe=2  \n",
       "2  2200   Japan =3  \n",
       "3  2725             \n",
       "4  2250             "
      ]
     },
     "execution_count": 66,
     "metadata": {},
     "output_type": "execute_result"
    }
   ],
   "source": [
    "samochody = pd.read_csv(\"../../data/samochody.csv\",sep = '\\t')\n",
    "samochody.head()"
   ]
  },
  {
   "cell_type": "code",
   "execution_count": 68,
   "metadata": {
    "ExecuteTime": {
     "end_time": "2023-05-20T08:53:36.544003Z",
     "start_time": "2023-05-20T08:53:36.368136Z"
    }
   },
   "outputs": [
    {
     "data": {
      "text/plain": [
       "KruskalResult(statistic=30.095091656185954, pvalue=2.9169828830351756e-07)"
      ]
     },
     "execution_count": 68,
     "metadata": {},
     "output_type": "execute_result"
    },
    {
     "data": {
      "image/png": "[encoded data removed]",
      "text/plain": [
       "<Figure size 432x288 with 1 Axes>"
      ]
     },
     "metadata": {
      "needs_background": "light"
     },
     "output_type": "display_data"
    }
   ],
   "source": [
    "usa = samochody.moc[samochody.producent == 1].dropna()\n",
    "europa = samochody.moc[samochody.producent == 2].dropna()\n",
    "japonia = samochody.moc[samochody.producent == 3].dropna()\n",
    "\n",
    "total = np.concatenate((usa, europa, japonia))\n",
    "label = np.concatenate((np.repeat('usa', len(usa)), np.repeat('eu', len(europa)), np.repeat('jp', len(japonia))))\n",
    "\n",
    "sns.ecdfplot(x = total, hue = label)\n",
    "\n",
    "stats.kruskal(usa, europa, japonia)\n",
    "# stats.kruskal(usa, europa, japonia, nan_policy='omit')  # ogólniejszy sposób (decyzja, co robimy z NaN)"
   ]
  }
 ],
 "metadata": {
  "colab": {
   "provenance": []
  },
  "hide_input": false,
  "kernelspec": {
   "display_name": "Python 3 (ipykernel)",
   "language": "python",
   "name": "python3"
  },
  "language_info": {
   "codemirror_mode": {
    "name": "ipython",
    "version": 3
   },
   "file_extension": ".py",
   "mimetype": "text/x-python",
   "name": "python",
   "nbconvert_exporter": "python",
   "pygments_lexer": "ipython3",
   "version": "3.10.6"
  },
  "toc": {
   "base_numbering": 1,
   "nav_menu": {},
   "number_sections": true,
   "sideBar": true,
   "skip_h1_title": true,
   "title_cell": "Table of Contents",
   "title_sidebar": "Contents",
   "toc_cell": false,
   "toc_position": {},
   "toc_section_display": true,
   "toc_window_display": false
  },
  "varInspector": {
   "cols": {
    "lenName": 16,
    "lenType": 16,
    "lenVar": 40
   },
   "kernels_config": {
    "python": {
     "delete_cmd_postfix": "",
     "delete_cmd_prefix": "del ",
     "library": "var_list.py",
     "varRefreshCmd": "print(var_dic_list())"
    },
    "r": {
     "delete_cmd_postfix": ") ",
     "delete_cmd_prefix": "rm(",
     "library": "var_list.r",
     "varRefreshCmd": "cat(var_dic_list()) "
    }
   },
   "types_to_exclude": [
    "module",
    "function",
    "builtin_function_or_method",
    "instance",
    "_Feature"
   ],
   "window_display": false
  }
 },
 "nbformat": 4,
 "nbformat_minor": 1
}
