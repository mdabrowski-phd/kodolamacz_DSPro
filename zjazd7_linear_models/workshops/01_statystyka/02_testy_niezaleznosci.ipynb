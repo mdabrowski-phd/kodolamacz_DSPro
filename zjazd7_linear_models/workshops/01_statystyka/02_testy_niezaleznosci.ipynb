{
 "cells": [
  {
   "cell_type": "markdown",
   "metadata": {
    "id": "YnVZdI9OcnhK"
   },
   "source": [
    "# Testy niezależności"
   ]
  },
  {
   "cell_type": "code",
   "execution_count": 1,
   "metadata": {
    "ExecuteTime": {
     "end_time": "2023-05-20T09:24:37.884293Z",
     "start_time": "2023-05-20T09:24:37.379419Z"
    },
    "id": "xzxq1DC2cnhP"
   },
   "outputs": [],
   "source": [
    "import numpy as np\n",
    "from scipy import stats\n",
    "from statsmodels.stats.contingency_tables import mcnemar"
   ]
  },
  {
   "cell_type": "markdown",
   "metadata": {
    "id": "cCSx_ZHOFiRX"
   },
   "source": [
    "## Niezależność\n",
    "Mamy dwie zmienne losowe $(X,Y)$. Mówimy, że są one niezależne, gdy dla dowolnych zdarzeń $A$ i $B$ mamy\n",
    "\n",
    "$\\mathbb{P}(X\\in A,Y \\in B) = \\mathbb{P}(X\\in A)\\mathbb{P}(Y \\in B)$\n",
    "\n",
    "Jeśli mamy tablicę z ilością obserwacji które mają pewną wartość cechy 1 i pewną wartość cechy 2 (np. wykształcenie rodziców i dzieci patrz zad 1.) to wówczas wcześniejszy wzór probabilistyczny opisujemy danymi empirycznymi:  \n",
    "\n",
    "$\\frac{n_{11}}{n} = \\frac{n_{11}+n_{12}}{n}\\frac{n_{11}+n_{21}}{n}$"
   ]
  },
  {
   "cell_type": "markdown",
   "metadata": {
    "id": "nk9RdQaUeT7E"
   },
   "source": [
    "## Test niezależności chi-kwadrat\n",
    "\n",
    "Hipotezy:\n",
    "\\begin{equation*}\n",
    "    H_0: \\text{ cechy są niezależne}\n",
    "\\end{equation*}\n",
    "wobec hipotezy alternatywnej\n",
    "\\begin{equation*}\n",
    "    H_1: \\text{ cechy są zależne}.\n",
    "\\end{equation*}\n",
    "\n",
    "Statystyka testowa jest dana wzorem \n",
    "\\begin{equation*}\n",
    "    T = \\sum_{j=1}^{rc}\\frac{(O_j - E_j)^2}{E_j},\n",
    "\\end{equation*}\n",
    "gdzie $O_j$ oznacza liczbę obserwacji w $j$-tej komórce tabeli korelacyjnej, natomiast $E_j$ jest tzw. oczekiwaną liczbą obserwacji, która powinna znaleźć się w $j$-tej komórce, jeżeli rozpatrywanej cechy są istotnie niezależne.\n",
    "\n",
    "Oczekiwaną liczbę obserwacji wylicza się dla każdej komórki ze wzoru\n",
    "\\begin{equation*}\n",
    "    E_j = \\frac{\\sum_j^r\\sum_j^c}{n},\n",
    "\\end{equation*}\n",
    "gdzie $\\sum_j^r$ oznacza sumę obserwacji w wierszu, w którym położona jest $j$-ta komórka, $\\sum_j^c$ jest sumą obserwacji w kolumnie, do której należy $j$-ta komórka, zaś $n$ jest licznością próby.\n",
    "\n",
    "Przy założeniu prawdziwości hipotezy zerowej oraz dla licznej próby $(n\\geq 100)$, statystyka testowa $T$ ma w przybliżeniu rozkład chi-kwadrat o $(r-1)(c-1)$ stopniach swobody.\n",
    "\n",
    "Duże wartości statystyki testowej przemawiają przeciwko hipotezie zerowej. Stąd obszar krytyczny ma postać\n",
    "\\begin{equation*}\n",
    "    W_{\\alpha} = [\\chi^2_{1-\\alpha, (r-1)(c-1)}, +\\infty).\n",
    "\\end{equation*}\n"
   ]
  },
  {
   "cell_type": "markdown",
   "metadata": {
    "id": "16Sk6ZlFcnhS"
   },
   "source": [
    "# Zadanie 1 \n",
    "Na podstawie poniższych danych zbadać, czy istnieje zależnośc między wykształceniem dzieci i wykształceniem rodziców. Przyjąć poziom istotności 0.01.\n",
    "\n",
    "|                      | Wykształcenie rodziców |       |\n",
    "|----------------------|------------------------|------|\n",
    "| Wykształcenie dzieci | wyższe                 | inne |\n",
    "| wyższe               | 180                    | 120  |\n",
    "| inne                 | 55                     | 145  |"
   ]
  },
  {
   "cell_type": "code",
   "execution_count": 8,
   "metadata": {
    "ExecuteTime": {
     "end_time": "2023-05-20T09:26:37.663266Z",
     "start_time": "2023-05-20T09:26:37.655089Z"
    },
    "id": "9Zjyo5QKsp9Y"
   },
   "outputs": [
    {
     "data": {
      "text/plain": [
       "(49.58684597885722,\n",
       " 1.897818905361828e-12,\n",
       " 1,\n",
       " array([[141., 159.],\n",
       "        [ 94., 106.]]))"
      ]
     },
     "execution_count": 8,
     "metadata": {},
     "output_type": "execute_result"
    }
   ],
   "source": [
    "tab = np.array([[180, 120],\n",
    "                [55, 145]])\n",
    "\n",
    "results = stats.chi2_contingency(tab)\n",
    "results  # odrzucamy hipotezę zerową H0"
   ]
  },
  {
   "cell_type": "markdown",
   "metadata": {
    "id": "o2nh7OUFcnhZ"
   },
   "source": [
    "# Zadanie 2\n",
    "Na podstawie wyników badania 200 losowo wybranych osób stwierdzić, czy istnieje zależność między płcią a preferowanym miejscem spędzania wakacji. Przyjąć poziom istotności 0.05.\n",
    "\n",
    "|           | Preferowane miejsce spędzania wakacji |         |       |\n",
    "|-----------|---------------------------------------|---------|-------|\n",
    "|           |                  góry                 | jeziora | morze |\n",
    "| Kobiety   |                   32                  |    32   |   41  |\n",
    "| Mężczyźni |                   39                  |    33   |   23  |"
   ]
  },
  {
   "cell_type": "code",
   "execution_count": 10,
   "metadata": {
    "ExecuteTime": {
     "end_time": "2023-05-20T09:29:33.069302Z",
     "start_time": "2023-05-20T09:29:33.061343Z"
    },
    "id": "UUMBKDRdJR51"
   },
   "outputs": [
    {
     "data": {
      "text/plain": [
       "(5.281228531784497,\n",
       " 0.07131744822282321,\n",
       " 2,\n",
       " array([[37.275, 34.125, 33.6  ],\n",
       "        [33.725, 30.875, 30.4  ]]))"
      ]
     },
     "execution_count": 10,
     "metadata": {},
     "output_type": "execute_result"
    }
   ],
   "source": [
    "tab = np.array([[32, 32, 41],\n",
    "                [39, 33, 23]])\n",
    "\n",
    "results = stats.chi2_contingency(tab)\n",
    "results  # nie odrzucamy hipotezy zerowej H0 (chociaż wynik p_value jest na granicy p0 = 0.05)"
   ]
  },
  {
   "cell_type": "code",
   "execution_count": 12,
   "metadata": {
    "ExecuteTime": {
     "end_time": "2023-05-20T09:34:11.570653Z",
     "start_time": "2023-05-20T09:34:11.562596Z"
    }
   },
   "outputs": [
    {
     "data": {
      "text/plain": [
       "(4.386886333480762,\n",
       " 0.03621639600703492,\n",
       " 1,\n",
       " array([[71.4, 33.6],\n",
       "        [64.6, 30.4]]))"
      ]
     },
     "execution_count": 12,
     "metadata": {},
     "output_type": "execute_result"
    }
   ],
   "source": [
    "tab = np.array([[64, 41],\n",
    "                [72, 23]])\n",
    "\n",
    "results = stats.chi2_contingency(tab)\n",
    "results  # odrzucamy hipotezę zerową H0 (przy połączeniu preferencji 'gór' i 'jezior')"
   ]
  },
  {
   "cell_type": "markdown",
   "metadata": {
    "id": "Oh4uaAbycnhb"
   },
   "source": [
    "# Zadanie 3\n",
    "W sondażu opinii publicznej zbadano 1000 wyborców. Respondenci zostali sklasyfikowani według płci (mężczyzna lub kobieta) i według preferencji głosowania (republikanin, demokrata lub niezależny). Wyniki pokazano w tabeli awaryjnej poniżej.\n",
    "\n",
    "|           | Republikanie | Demokraci | Niezależni |\n",
    "|:---------:|:------------:|:---------:|:----------:|\n",
    "| Mężczyzna |      200     |    150    |     50     |\n",
    "|  Kobieta  |      250     |    300    |     50     |\n",
    "\n",
    "Czy istnieje różnica między kobietami i mężczyznami? Czy preferencje mężczyzn w głosowaniu różnią się znacznie od preferencji kobiet? Użyj poziomu istotności 0.05."
   ]
  },
  {
   "cell_type": "code",
   "execution_count": 11,
   "metadata": {
    "ExecuteTime": {
     "end_time": "2023-05-20T09:32:18.267695Z",
     "start_time": "2023-05-20T09:32:18.260058Z"
    },
    "id": "3SjVba2CJTO5"
   },
   "outputs": [
    {
     "data": {
      "text/plain": [
       "(16.203703703703702,\n",
       " 0.0003029775487145488,\n",
       " 2,\n",
       " array([[180., 180.,  40.],\n",
       "        [270., 270.,  60.]]))"
      ]
     },
     "execution_count": 11,
     "metadata": {},
     "output_type": "execute_result"
    }
   ],
   "source": [
    "tab = np.array([[200, 150, 50],\n",
    "                [250, 300, 50]])\n",
    "\n",
    "results = stats.chi2_contingency(tab)\n",
    "results  # odrzucamy hipotezę zerową H0"
   ]
  },
  {
   "cell_type": "markdown",
   "metadata": {
    "id": "3e64hp3tfe-g"
   },
   "source": [
    "## Dokładny test Fishera\n",
    " \n",
    "*   Test niezależności stosowany zamiast testu $\\chi^2$, gdy liczebności w komórkach w tabeli są mniejsze niż 5, a całkowita liczba obserwacji jest nie większa niż 20.\n",
    "*   Stosowany dla danych dostępnych w formie tablicy $2\\times 2$.  \n",
    "\n",
    "|           | $B_1$ | $B_2$ |\n",
    "|:---------:|:------------:|:---------:|\n",
    "| $A_1$ |      $n_{11}$    |    $n_{12}$    |\n",
    "| $A_2$  |      $n_{21}$     |    $n_{22}$    |\n",
    "\n",
    "W ramach testu Fishera obliczane jest prawdopodobieństwo otrzymania danego rozkładu z tablicy. Rozpatrywane  są  wszelkie możliwe  kombinacje  liczebności  komórek  w  oparciu  o liczebności brzegowe zgodnie ze wzorem:\n",
    "\\begin{equation*}\n",
    "    p = \\frac{{n_{11}+n_{12}\\choose n_{11}}{n_{21}+n_{22}\\choose n_{21}}}{{n \\choose n_{11}+n_{12}}}\n",
    "\\end{equation*}\n",
    "\n",
    "Dokładny poziom istotności $p$ jest sumą tych prawdopodobieństw, które są mniejsze lub równe badanemu prawdopodobieństwu."
   ]
  },
  {
   "cell_type": "markdown",
   "metadata": {
    "id": "CNf6FVKMcnhc"
   },
   "source": [
    "# Zadanie 4\n",
    "Poniższa tabela podaje zestawienie efektów dwóch form terapii nowotworu krtani (zabiegu chirurgicznego i radioterapii) po upływie dwóch lat od zakończenia terapii.\n",
    "\n",
    "|                     | Opanowanie nowotworu | Nieopanowanie nowotworu |\n",
    "|:-------------------:|:--------------------:|:-----------------------:|\n",
    "| Zabieg chirurgiczny |          20          |            2            |\n",
    "|     Radioterapia    |          14          |            3            |\n",
    "\n",
    "Korzystając z tzw. dokładanego testu Fishera stwierdzić, czy wyniki obu zastosowanych form terapii różnią się istotnie."
   ]
  },
  {
   "cell_type": "code",
   "execution_count": 14,
   "metadata": {
    "ExecuteTime": {
     "end_time": "2023-05-20T09:43:04.704615Z",
     "start_time": "2023-05-20T09:43:04.691014Z"
    },
    "id": "3iCTfOgCs_XE"
   },
   "outputs": [
    {
     "data": {
      "text/plain": [
       "(2.142857142857143, 0.6362354257091098)"
      ]
     },
     "execution_count": 14,
     "metadata": {},
     "output_type": "execute_result"
    }
   ],
   "source": [
    "tab = np.array([[20, 2],\n",
    "                [14, 3]])\n",
    "\n",
    "stats.fisher_exact(tab)  # obie terapie są jednakowo skuteczne (nie odrzucamy hipotezy H0)"
   ]
  },
  {
   "cell_type": "markdown",
   "metadata": {
    "id": "H8r-YpeDcnhf"
   },
   "source": [
    "# Zadanie 5\n",
    "Badając  wpływ  sposobu  karmienia  niemowląt  na stan  ich  uzębienia  uzyskano  wyniki przedstawione  w  poniższej tabeli.\n",
    "\n",
    "|          |           | Niemowlęta z uzębieniem |          |\n",
    "|:--------:|:---------:|:-----------------------:|:--------:|\n",
    "|          |           |        normalnym        | wadliwym |\n",
    "| Karmione |  piersią  |            4            |    16    |\n",
    "|          | z butelki |            1            |    21    |\n",
    "\n",
    "Na poziomie istotności 0.05, stwierdzić, czy sposób karmienia niemowląt a ich stan uzębienia są zmiennymi niezależnymi."
   ]
  },
  {
   "cell_type": "code",
   "execution_count": 15,
   "metadata": {
    "ExecuteTime": {
     "end_time": "2023-05-20T09:45:45.170915Z",
     "start_time": "2023-05-20T09:45:45.160752Z"
    },
    "id": "1EPDKXW6xT65"
   },
   "outputs": [
    {
     "data": {
      "text/plain": [
       "(5.25, 0.17448405253283306)"
      ]
     },
     "execution_count": 15,
     "metadata": {},
     "output_type": "execute_result"
    }
   ],
   "source": [
    "tab = np.array([[4, 16],\n",
    "                [1, 21]])\n",
    "\n",
    "stats.fisher_exact(tab)  # nie odrzucamy hipotezy H0 o niezależności zdarzeń"
   ]
  },
  {
   "cell_type": "markdown",
   "metadata": {
    "id": "rDIiQwDb6GK6"
   },
   "source": [
    "## Test McNemara\n",
    "Służy do weryfikacji hipotezy o zgodności pomiędzy wynikami dwukrotnych pomiarów cechy $X$. \n",
    "\n",
    "Tabela kontyngencji o wymiarach $2\\times 2$:\n",
    "\n",
    "|           | Kategoria 1 | Kategoria 2 |\n",
    "|:---------:|:------------:|:---------:|\n",
    "| Kategoria 1 |      $O_{11}$    |    $O_{12}$    |\n",
    "| Kategoria 2  |      $O_{21}$     |    $O_{22}$    |\n",
    "\n",
    "Hipotezy\n",
    "\\begin{equation*}\n",
    "    H_0: O_{12} = O_{21}\\\\\n",
    "    H_1: O_{12} \\neq O_{21},\n",
    "\\end{equation*}\n",
    "gdzie $O_{12}$ i $O_{21}$ są licznościami obserwowanymi występującymi poza główną przekątną macierzy kontyngencji $2\\times 2$, czyli licznościami mówiącymi o braku zgodności wyników dwukrotnych pomiarów. \n",
    "\n",
    "Statystyka testowa jest dana wzorem\n",
    "\\begin{equation*}\n",
    "    T = \\frac{(O_{12} - O_{21})^2}{O_{12} + O_{21}}.\n",
    "\\end{equation*}\n",
    " Statystyka ta ma asymptotycznie (dla dużych liczności) rozkład chi-kwadrat z jednym stopniem swobody. \n"
   ]
  },
  {
   "cell_type": "markdown",
   "metadata": {
    "id": "-ZISC6iqcnhg"
   },
   "source": [
    "# Zadanie 6\n",
    "Po roku, który minął od powołania nowego rządu, losowo wybrana grupa 1600 osób została poproszona o ocenę gabinetu. Po upływie kolejnego roku ta sama grupa osób została powtórnie poproszona o wyrażenie swej opinii. Wyniki sondażu znajdują się w poniższej tabeli.\n",
    "\n",
    "|                                 |             |  Ocena po drugim roku rządów |             |\n",
    "|:-------------------------------:|:-----------:|:----------------------------:|:-----------:|\n",
    "|                                 |             |           Poparcie           | Dezaprobata |\n",
    "|  Ocena po pierwszym roku rządów |   Poparcie  |              794             |     150     |\n",
    "|                                 | Dezaprobata |              86              |     570     |\n",
    "\n",
    "Czy na podstawie tego badania można stwierdzić, że stopień poparcia dla gabinetu uległ istotnej zmianie?"
   ]
  },
  {
   "cell_type": "code",
   "execution_count": 17,
   "metadata": {
    "ExecuteTime": {
     "end_time": "2023-05-20T09:48:43.100116Z",
     "start_time": "2023-05-20T09:48:43.093426Z"
    },
    "id": "EzNw1F2AtOoU"
   },
   "outputs": [
    {
     "name": "stdout",
     "output_type": "stream",
     "text": [
      "pvalue      3.715936139571387e-05\n",
      "statistic   86.0\n"
     ]
    }
   ],
   "source": [
    "tab = np.array([[794, 150],\n",
    "                [86, 570]])\n",
    "\n",
    "print(mcnemar(tab))  # odrzucamy hipotezę zerową H0 (zatem poziom poparcia istotnie uległ zmianie)"
   ]
  },
  {
   "cell_type": "markdown",
   "metadata": {
    "id": "QstLGPS4cnhi"
   },
   "source": [
    "# Zadanie 7\n",
    "Przeprowadzono ankietę, w której pytano się ankietowanych „Czy wirusem HIV można się zakazić przez podanie ręki?”. Odpowiedź „Tak” udzieliło 67 osób z pośród 100 ankietowanych. Po zastosowanej ankiecie przeprowadzono wśród uczestników, wykład na temat choroby AIDS i metodach przenoszenia wirusa HIV. Po wykładzie ponowiono pytanie. W wyniku badania: odpowiedzi „Tak” udzieliło 20 osób, w tym 0 osób co wcześniej udzieliło odpowiedzi „Nie”. Odpowiedzi „Nie” udzieliło 80 osób, w tym 47 osób co wcześniej udzieliło odpowiedzi „Tak”. Pytanie jakie stawia badacz brzmi: Czy przeprowadzony wykład wpłynął na rodzaj udzielanych odpowiedzi?."
   ]
  },
  {
   "cell_type": "markdown",
   "metadata": {
    "id": "yVtOXldNcnhi"
   },
   "source": [
    "|                  |     | Po  wykładzie |     |\n",
    "|:----------------:|:---:|:-------------:|:---:|\n",
    "|                  |     |      Tak      | Nie |\n",
    "|  Przed wykładem  | Tak |       20      |  47 |\n",
    "|                  | Nie |       0       |  33 |"
   ]
  },
  {
   "cell_type": "code",
   "execution_count": 18,
   "metadata": {
    "ExecuteTime": {
     "end_time": "2023-05-20T09:51:06.705968Z",
     "start_time": "2023-05-20T09:51:06.699489Z"
    },
    "id": "vDZCAHbYtQq4"
   },
   "outputs": [
    {
     "name": "stdout",
     "output_type": "stream",
     "text": [
      "pvalue      1.4210854715202004e-14\n",
      "statistic   0.0\n"
     ]
    }
   ],
   "source": [
    "tab = np.array([[20, 47],\n",
    "                [0, 33]])\n",
    "\n",
    "print(mcnemar(tab))  # odrzucamy hipotezę zerową H0 (zatem wykład wpłynął na udzielane odpowiedzi)"
   ]
  }
 ],
 "metadata": {
  "colab": {
   "provenance": []
  },
  "hide_input": false,
  "kernelspec": {
   "display_name": "Python 3 (ipykernel)",
   "language": "python",
   "name": "python3"
  },
  "language_info": {
   "codemirror_mode": {
    "name": "ipython",
    "version": 3
   },
   "file_extension": ".py",
   "mimetype": "text/x-python",
   "name": "python",
   "nbconvert_exporter": "python",
   "pygments_lexer": "ipython3",
   "version": "3.10.6"
  },
  "toc": {
   "base_numbering": 1,
   "nav_menu": {},
   "number_sections": true,
   "sideBar": true,
   "skip_h1_title": true,
   "title_cell": "Table of Contents",
   "title_sidebar": "Contents",
   "toc_cell": false,
   "toc_position": {},
   "toc_section_display": true,
   "toc_window_display": false
  },
  "varInspector": {
   "cols": {
    "lenName": 16,
    "lenType": 16,
    "lenVar": 40
   },
   "kernels_config": {
    "python": {
     "delete_cmd_postfix": "",
     "delete_cmd_prefix": "del ",
     "library": "var_list.py",
     "varRefreshCmd": "print(var_dic_list())"
    },
    "r": {
     "delete_cmd_postfix": ") ",
     "delete_cmd_prefix": "rm(",
     "library": "var_list.r",
     "varRefreshCmd": "cat(var_dic_list()) "
    }
   },
   "types_to_exclude": [
    "module",
    "function",
    "builtin_function_or_method",
    "instance",
    "_Feature"
   ],
   "window_display": false
  }
 },
 "nbformat": 4,
 "nbformat_minor": 1
}
