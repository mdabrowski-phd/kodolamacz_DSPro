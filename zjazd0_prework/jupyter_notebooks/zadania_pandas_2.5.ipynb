{
 "cells": [
  {
   "cell_type": "code",
   "execution_count": 67,
   "id": "2f5e1911",
   "metadata": {
    "ExecuteTime": {
     "end_time": "2023-03-21T22:24:13.592544Z",
     "start_time": "2023-03-21T22:24:13.482169Z"
    }
   },
   "outputs": [],
   "source": [
    "import matplotlib.pyplot as plt\n",
    "import pandas as pd\n",
    "data = pd.read_csv(\"./bank/bank-full.csv\", sep=\";\")"
   ]
  },
  {
   "cell_type": "markdown",
   "id": "7cbe1e39",
   "metadata": {},
   "source": [
    "a) Dla danych bank.csv narysuj wykres liniowy prawdopodobieństwa skorzystania z oferty banku (zmienna y równa “yes”) w zależności od wieku osoby (prawdopodobieństwo to jest tym samym co procent osób w danym wieku spełniających danych warunek). Innymi słowy: wizualizujemy prawdopodobieństwo warunkowe “sukcesu” względem wieku. Dlaczego wykres ten jest taki “poszarpany”? Czy trafnie opisuje on analizowane prawdopodobieństwo?"
   ]
  },
  {
   "cell_type": "code",
   "execution_count": 68,
   "id": "f6372a0e",
   "metadata": {
    "ExecuteTime": {
     "end_time": "2023-03-21T22:24:15.267951Z",
     "start_time": "2023-03-21T22:24:15.155526Z"
    }
   },
   "outputs": [
    {
     "data": {
      "text/plain": [
       "[<matplotlib.lines.Line2D at 0x7f6c5eb376a0>]"
      ]
     },
     "execution_count": 68,
     "metadata": {},
     "output_type": "execute_result"
    },
    {
     "data": {
      "image/png": "[encoded data removed]",
      "text/plain": [
       "<Figure size 432x288 with 1 Axes>"
      ]
     },
     "metadata": {
      "needs_background": "light"
     },
     "output_type": "display_data"
    }
   ],
   "source": [
    "data_plot = data[data.y == \"yes\"].groupby(\"age\").count().y\n",
    "plt.plot(data_plot / data_plot.sum())"
   ]
  },
  {
   "cell_type": "markdown",
   "id": "fc4d9bf9",
   "metadata": {},
   "source": [
    "b) Stwórz analogiczny wykres, ale zamiast dla danego wieku uwzględniać osoby tylko w tym wieku, uwzględnij osoby o wieku podobnym (np. dane wiek $\\pm 5$). Osoby w jakim wieku najczęściej korzystały z oferty? Czy, gdybyśmy chcieli zbudować algorytm, który na podstawie wszystkich danych miałby nauczyć się przewidywać, kto skorzysta z oferty, to wiek byłby użyteczną informacją? Czy na podstawie utworzonego wykresu można wysnuć wniosek, że z punktu widzenia przewidywania nie ma znaczenia czy ta osoba jest wieku 30 czy 50 lat? Odpowiedź spróbuj poprzeć analizą tych danych. "
   ]
  },
  {
   "cell_type": "code",
   "execution_count": 119,
   "id": "57e71576",
   "metadata": {
    "ExecuteTime": {
     "end_time": "2023-03-21T22:49:56.126063Z",
     "start_time": "2023-03-21T22:49:55.992826Z"
    }
   },
   "outputs": [
    {
     "data": {
      "text/plain": [
       "<BarContainer object of 8 artists>"
      ]
     },
     "execution_count": 119,
     "metadata": {},
     "output_type": "execute_result"
    },
    {
     "data": {
      "image/png": "[encoded data removed]",
      "text/plain": [
       "<Figure size 432x288 with 1 Axes>"
      ]
     },
     "metadata": {
      "needs_background": "light"
     },
     "output_type": "display_data"
    }
   ],
   "source": [
    "age_groups = pd.cut(data_plot.index, bins=range(18, 99, 10), right=False)\n",
    "data_grouped = data_plot.groupby(age_groups).sum()\n",
    "plt.bar(data_grouped.index.astype(str), data_grouped / data_plot.sum())"
   ]
  },
  {
   "cell_type": "markdown",
   "id": "b1b7a6a7",
   "metadata": {},
   "source": [
    "Odnieś się do następującego stwierdzenia: \n",
    "\n",
    "*Model statystyczny mówiący, że stworzony wykres opisuje prawdopodobieństwo skorzystania z oferty w zależności od wieku, jest prawdziwy.*"
   ]
  }
 ],
 "metadata": {
  "hide_input": false,
  "kernelspec": {
   "display_name": "Python 3 (ipykernel)",
   "language": "python",
   "name": "python3"
  },
  "language_info": {
   "codemirror_mode": {
    "name": "ipython",
    "version": 3
   },
   "file_extension": ".py",
   "mimetype": "text/x-python",
   "name": "python",
   "nbconvert_exporter": "python",
   "pygments_lexer": "ipython3",
   "version": "3.10.6"
  },
  "toc": {
   "base_numbering": 1,
   "nav_menu": {},
   "number_sections": true,
   "sideBar": true,
   "skip_h1_title": false,
   "title_cell": "Table of Contents",
   "title_sidebar": "Contents",
   "toc_cell": false,
   "toc_position": {},
   "toc_section_display": true,
   "toc_window_display": false
  },
  "varInspector": {
   "cols": {
    "lenName": 16,
    "lenType": 16,
    "lenVar": 40
   },
   "kernels_config": {
    "python": {
     "delete_cmd_postfix": "",
     "delete_cmd_prefix": "del ",
     "library": "var_list.py",
     "varRefreshCmd": "print(var_dic_list())"
    },
    "r": {
     "delete_cmd_postfix": ") ",
     "delete_cmd_prefix": "rm(",
     "library": "var_list.r",
     "varRefreshCmd": "cat(var_dic_list()) "
    }
   },
   "types_to_exclude": [
    "module",
    "function",
    "builtin_function_or_method",
    "instance",
    "_Feature"
   ],
   "window_display": false
  }
 },
 "nbformat": 4,
 "nbformat_minor": 5
}
