{
 "cells": [
  {
   "cell_type": "markdown",
   "id": "c1846e2b",
   "metadata": {},
   "source": [
    "Wygeneruj 10 000 wartości z rozkładu normalnego o średniej 0 i odchyleniu 1. Oblicz ile procent wartości wpada w przedział [-3,3]. Powtórz eksperyment dla dowolnej innej średniej (m) i dowolnego odchylenia standardowego (s) i przedziału [m-3s, m+3s]. Czy wyniki się pokrywają? Powtórz eksperyment kilkukrotnie."
   ]
  },
  {
   "cell_type": "code",
   "execution_count": 1,
   "id": "cecf4996",
   "metadata": {},
   "outputs": [],
   "source": [
    "import numpy as np"
   ]
  },
  {
   "cell_type": "code",
   "execution_count": 143,
   "id": "55d9424f",
   "metadata": {},
   "outputs": [
    {
     "data": {
      "text/plain": [
       "0.9976"
      ]
     },
     "execution_count": 143,
     "metadata": {},
     "output_type": "execute_result"
    }
   ],
   "source": [
    "m = 2\n",
    "s = 6\n",
    "\n",
    "data = np.random.normal(loc=m, scale=s, size=10_000)\n",
    "np.sum(np.logical_and(data >= m-3*s, data <= m+3*s)) / np.size(data)"
   ]
  }
 ],
 "metadata": {
  "kernelspec": {
   "display_name": "Python 3 (ipykernel)",
   "language": "python",
   "name": "python3"
  },
  "language_info": {
   "codemirror_mode": {
    "name": "ipython",
    "version": 3
   },
   "file_extension": ".py",
   "mimetype": "text/x-python",
   "name": "python",
   "nbconvert_exporter": "python",
   "pygments_lexer": "ipython3",
   "version": "3.11.2"
  },
  "varInspector": {
   "cols": {
    "lenName": 16,
    "lenType": 16,
    "lenVar": 40
   },
   "kernels_config": {
    "python": {
     "delete_cmd_postfix": "",
     "delete_cmd_prefix": "del ",
     "library": "var_list.py",
     "varRefreshCmd": "print(var_dic_list())"
    },
    "r": {
     "delete_cmd_postfix": ") ",
     "delete_cmd_prefix": "rm(",
     "library": "var_list.r",
     "varRefreshCmd": "cat(var_dic_list()) "
    }
   },
   "types_to_exclude": [
    "module",
    "function",
    "builtin_function_or_method",
    "instance",
    "_Feature"
   ],
   "window_display": false
  }
 },
 "nbformat": 4,
 "nbformat_minor": 5
}
