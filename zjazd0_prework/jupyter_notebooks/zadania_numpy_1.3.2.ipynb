{
 "cells": [
  {
   "cell_type": "code",
   "execution_count": 70,
   "id": "b11a87b9",
   "metadata": {},
   "outputs": [
    {
     "data": {
      "text/plain": [
       "array([[ 0,  1,  2,  3,  4],\n",
       "       [ 5,  6,  7,  8,  9],\n",
       "       [10, 11, 12, 13, 14],\n",
       "       [15, 16, 17, 18, 19]])"
      ]
     },
     "execution_count": 70,
     "metadata": {},
     "output_type": "execute_result"
    }
   ],
   "source": [
    "import numpy as np\n",
    "M = np.arange(20).reshape((4, 5))\n",
    "M"
   ]
  },
  {
   "cell_type": "markdown",
   "id": "50eb424c",
   "metadata": {},
   "source": [
    "a) Często stosowanym zabiegiem podczas przygotowywania danych do nauki algorytmów uczenia maszynowego jest standaryzacja danych, która polega na tym, że w każdej kolumnie danej macierzy liczb od wszystkich wartości w kolumnie odejmujemy średnią z kolumny i dzielimy te różnice przez odchylenie standardowe w danej kolumnie. Zaimplementuj standaryzację i dla przykładowej macierzy oblicz średnie i odchylenia standardowe w kolumnach po standaryzacji."
   ]
  },
  {
   "cell_type": "code",
   "execution_count": 74,
   "id": "7273b32a",
   "metadata": {},
   "outputs": [
    {
     "name": "stdout",
     "output_type": "stream",
     "text": [
      "[[-1.34164079 -1.34164079 -1.34164079 -1.34164079 -1.34164079]\n",
      " [-0.4472136  -0.4472136  -0.4472136  -0.4472136  -0.4472136 ]\n",
      " [ 0.4472136   0.4472136   0.4472136   0.4472136   0.4472136 ]\n",
      " [ 1.34164079  1.34164079  1.34164079  1.34164079  1.34164079]]\n",
      "[0. 0. 0. 0. 0.]\n",
      "[1. 1. 1. 1. 1.]\n"
     ]
    }
   ],
   "source": [
    "a = M\n",
    "a = a - np.mean(a, 0)\n",
    "a = a / np.std(a, 0)\n",
    "print(a)\n",
    "print(np.mean(a, 0))\n",
    "print(np.std(a, 0))"
   ]
  },
  {
   "cell_type": "markdown",
   "id": "9b6112e5",
   "metadata": {},
   "source": [
    "b) Czasem również wykorzystywane jest przekształcenie polegające na tym, że dzielimy wartości w każdej kolumnie przez wartość największą w danej kolumnie. Zaimplementuj tę transformację i dla przykładowej macierzy o wartościach dodatnich, oblicz wartości maksymalne w kolumnach po takim przekształceniu macierzy."
   ]
  },
  {
   "cell_type": "code",
   "execution_count": 75,
   "id": "ca66501b",
   "metadata": {},
   "outputs": [
    {
     "name": "stdout",
     "output_type": "stream",
     "text": [
      "[[0.         0.0625     0.11764706 0.16666667 0.21052632]\n",
      " [0.33333333 0.375      0.41176471 0.44444444 0.47368421]\n",
      " [0.66666667 0.6875     0.70588235 0.72222222 0.73684211]\n",
      " [1.         1.         1.         1.         1.        ]]\n",
      "[1. 1. 1. 1. 1.]\n"
     ]
    }
   ],
   "source": [
    "b = M\n",
    "b = b / np.max(b, 0)\n",
    "print(b)\n",
    "print(np.max(b, 0))"
   ]
  },
  {
   "cell_type": "markdown",
   "id": "2de3dab8",
   "metadata": {},
   "source": [
    "c) Innym użytecznym zabiegiem jest tzw. normalizacja wierszy, która może być realizowana w różnych wariantach. Zaimplementuj normalizację macierzy polegającą na tym, że każdy wiersz (wszystkie wartości w wierszu) dzielimy przez sumę wartości w danym wierszu oraz taką, która polega na tym, że wiersze dzielimy przez pierwiastek z sumy kwadratów wartości w danym wierszu (czyli przez tzw. normę euklidesową wektora)."
   ]
  },
  {
   "cell_type": "code",
   "execution_count": 98,
   "id": "d47233cc",
   "metadata": {},
   "outputs": [
    {
     "name": "stdout",
     "output_type": "stream",
     "text": [
      "[[0.         0.1        0.2        0.3        0.4       ]\n",
      " [0.14285714 0.17142857 0.2        0.22857143 0.25714286]\n",
      " [0.16666667 0.18333333 0.2        0.21666667 0.23333333]\n",
      " [0.17647059 0.18823529 0.2        0.21176471 0.22352941]]\n"
     ]
    }
   ],
   "source": [
    "c = M\n",
    "c = c / np.sum(c, 1).reshape(np.size(c, 0), 1)\n",
    "print(c)"
   ]
  },
  {
   "cell_type": "code",
   "execution_count": 102,
   "id": "f29ae2de",
   "metadata": {},
   "outputs": [
    {
     "name": "stdout",
     "output_type": "stream",
     "text": [
      "[[0.         0.18257419 0.36514837 0.54772256 0.73029674]\n",
      " [0.31311215 0.37573457 0.438357   0.50097943 0.56360186]\n",
      " [0.37011661 0.40712827 0.44413993 0.48115159 0.51816325]\n",
      " [0.39324188 0.419458   0.44567413 0.47189025 0.49810638]]\n"
     ]
    }
   ],
   "source": [
    "d = M\n",
    "d = d / np.sqrt(np.sum(d**2, 1)).reshape(np.size(d, 0), 1)\n",
    "print(d)"
   ]
  }
 ],
 "metadata": {
  "kernelspec": {
   "display_name": "Python 3 (ipykernel)",
   "language": "python",
   "name": "python3"
  },
  "language_info": {
   "codemirror_mode": {
    "name": "ipython",
    "version": 3
   },
   "file_extension": ".py",
   "mimetype": "text/x-python",
   "name": "python",
   "nbconvert_exporter": "python",
   "pygments_lexer": "ipython3",
   "version": "3.11.2"
  },
  "varInspector": {
   "cols": {
    "lenName": 16,
    "lenType": 16,
    "lenVar": 40
   },
   "kernels_config": {
    "python": {
     "delete_cmd_postfix": "",
     "delete_cmd_prefix": "del ",
     "library": "var_list.py",
     "varRefreshCmd": "print(var_dic_list())"
    },
    "r": {
     "delete_cmd_postfix": ") ",
     "delete_cmd_prefix": "rm(",
     "library": "var_list.r",
     "varRefreshCmd": "cat(var_dic_list()) "
    }
   },
   "types_to_exclude": [
    "module",
    "function",
    "builtin_function_or_method",
    "instance",
    "_Feature"
   ],
   "window_display": false
  }
 },
 "nbformat": 4,
 "nbformat_minor": 5
}
