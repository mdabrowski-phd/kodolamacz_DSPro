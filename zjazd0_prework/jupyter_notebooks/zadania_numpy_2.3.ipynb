{
 "cells": [
  {
   "cell_type": "code",
   "execution_count": 2,
   "id": "466758ac",
   "metadata": {},
   "outputs": [],
   "source": [
    "import numpy as np\n",
    "import matplotlib.pyplot as plt"
   ]
  },
  {
   "cell_type": "markdown",
   "id": "a00ae45a",
   "metadata": {},
   "source": [
    "Metoda Gaussa Seidla jest numeryczną metodą rozwiązywania równań. Jeżeli mamy układ równań postaci:\n",
    "\n",
    "\\begin{equation}\n",
    "a_{11}x_1 + a_{12}x_2 + a_{13}x_3 = b_1 \\\\\n",
    "a_{21}x_1 + a_{22}x_2 + a_{23}x_3 = b_2 \\\\\n",
    "a_{31}x_1 + a_{32}x_2 + a_{33}x_3 = b_3\n",
    "\\end{equation}\n",
    "\n",
    "to metoda wygląda następująco:\n",
    "\n",
    "1) Wyznaczamy z pierwszego równania pierwszą zmienną, z drugiego drugą i trzeciego trzecią:\n",
    "\n",
    "\\begin{equation}\n",
    "x_1  = (b_1  - a_{12} x_2 - a_{13}  x_3) / a_{11} \\\\\n",
    "x_2  = (b_2  - a_{21} x_1 - a_{23} x_3) / a_{22} \\\\\n",
    "x_3  = (b_3  - a_{31} x_1 - a_{32} x_2) / a_{33}\n",
    "\\end{equation}\n",
    "\n",
    "\n",
    "2) Przyjmujemy dowolne trzy wartości “początkowe” dla każdej zmiennej, np. $x = [0, 0, 0]$.\n",
    "\n",
    "3) Powtarzamy w kółko wyliczanie wartości kolejnych zmiennych według powyższych wzorów, aktualizując po każdym kroku wartości zmiennej \\\n",
    "i wykorzystując je w kolejnych wyliczeniach (przykład: https://pl.wikipedia.org/wiki/Metoda_Gaussa-Seidla#Przyk%C5%82ady). \n",
    "\n",
    "W każdym kolejnym kroku algorytmu aktualne wartości zmiennych będą coraz bliższe wartościom, które są rozwiązaniem tego układu równań.\n",
    "\n",
    "**Zaimplementuj metodę Gaussa Seidla dla układu trzech równań.** Przyjmijmy, że współczynniki $a_{ij}$ przechowywane będą w numpy’owej macierzy 3x3,\\\n",
    "a współczynniki $b_1$, $b_2$, $b_3$ w tablicy o długości 3."
   ]
  },
  {
   "cell_type": "markdown",
   "id": "00f243e9",
   "metadata": {},
   "source": [
    "a) Zaimplementuj metodę dla określonej liczby iteracji (np. 30). Sprawdź, czy dla macierzy $A$ współczynników $a_{ij}$ postaci:\n",
    "\n",
    "\\begin{bmatrix}\n",
    "5 & 2 & 1 \\\\\n",
    "2 & 3 & 1 \\\\\n",
    "1 & 2 & 4\n",
    "\\end{bmatrix}\n",
    "\n",
    "oraz współczynników $b = [ 12, 11, 17]$ metoda znajduje poprawne rozwiązanie, czyli $x_1 = 1$, $x_2 = 2$, $x_3 = 3$. Przyjmij za wartości startowe $x = [0, 1, 5]$."
   ]
  },
  {
   "cell_type": "code",
   "execution_count": 14,
   "id": "cc99003b",
   "metadata": {},
   "outputs": [],
   "source": [
    "a = np.array([[5, 2, 1],\n",
    "              [2, 3, 1],\n",
    "              [1, 2, 4]])\n",
    "\n",
    "b = np.array([12, 11, 17])\n",
    "\n",
    "x = np.array([0, 0, 0])"
   ]
  },
  {
   "cell_type": "code",
   "execution_count": 15,
   "id": "7e85d47b",
   "metadata": {},
   "outputs": [
    {
     "name": "stdout",
     "output_type": "stream",
     "text": [
      "[1 2 3]\n"
     ]
    }
   ],
   "source": [
    "for _ in range(30):\n",
    "    \n",
    "    x[0]  = (b[0]  - a[0][1] * x[1] - a[0][2] * x[2]) / a[0][0]\n",
    "    x[1]  = (b[1]  - a[1][0] * x[0] - a[1][2] * x[2]) / a[1][1]\n",
    "    x[2]  = (b[2]  - a[2][0] * x[0] - a[2][1] * x[1]) / a[2][2]\n",
    "    \n",
    "print(x)    "
   ]
  },
  {
   "cell_type": "markdown",
   "id": "4a4976fa",
   "metadata": {},
   "source": [
    "b) Zaimplementuj metodę tak, aby zatrzymywała się po uzyskaniu zbieżności - kiedy różnice między wartościami zmiennych w kolejnych iteracjach nie różnią się o więcej niż 0,01%. Ale jednocześnie przyjmijmy, że metoda nie może wykonać więcej niż 50 iteracji - jeżeli w takim czasie nie uzyska zbieżności to i tak zatrzymujemy jej działanie (w takiej sytuacji kod powinien wypisać komunikat o braku uzyskania zbieżności). Przetestuj jej działanie na różnych przypadkach, samodzielnie dobierając dowolne współczynniki $a$ i $b$, ale tak aby rozwiązaniem były wartości $x = [1, 2, 3]$, a w macierzy $A$ wartości na przekątnej (wartości $a_{11}$, $a_{22}$, $a_{33}$) były największe w swoich kolumnach i wierszach (tak jak to jest w przykładzie z punktu a) - wtedy mamy pewność, że metoda zadziała)."
   ]
  },
  {
   "cell_type": "code",
   "execution_count": 12,
   "id": "a9d93bbd",
   "metadata": {},
   "outputs": [],
   "source": [
    "a = np.array([[5, 2, 1],\n",
    "              [1, 3, 3],\n",
    "              [1, 1, 5]])\n",
    "\n",
    "b = a.dot([1, 2, 3])\n",
    "\n",
    "x = np.array([0, 0, 0])"
   ]
  },
  {
   "cell_type": "code",
   "execution_count": 13,
   "id": "2f6380c9",
   "metadata": {},
   "outputs": [
    {
     "name": "stdout",
     "output_type": "stream",
     "text": [
      "Po 5 iteracjach uzyskano rozwiązanie: x = [1 2 3]\n"
     ]
    }
   ],
   "source": [
    "x0 = np.array([0, 0, 0])\n",
    "\n",
    "for i in range(50):\n",
    "    \n",
    "    x0[:] = x\n",
    "    \n",
    "    x[0]  = (b[0]  - a[0][1] * x[1] - a[0][2] * x[2]) / a[0][0]\n",
    "    x[1]  = (b[1]  - a[1][0] * x[0] - a[1][2] * x[2]) / a[1][1]\n",
    "    x[2]  = (b[2]  - a[2][0] * x[0] - a[2][1] * x[1]) / a[2][2]\n",
    "    \n",
    "    if all(np.abs(x - x0) < 0.0001 * np.abs(x0)):\n",
    "        \n",
    "        print(f\"Po {i+1} iteracjach uzyskano rozwiązanie: x = {x}\")\n",
    "        break\n",
    "        \n",
    "    if i == 49:\n",
    "        print(f\"Brak zbieżności po wykonaniu {i+1} iteracji!\")"
   ]
  },
  {
   "cell_type": "markdown",
   "id": "2fec66c1",
   "metadata": {},
   "source": [
    "c) Dla dowolnego przykładu narysuj wykres, na którym przedstawisz wartości poszczególnych zmiennych w zależności od iteracji (trzy linie na jednym wykresie odpowiadające wartościom trzech zmiennych w kolejnych krokach metody)."
   ]
  },
  {
   "cell_type": "code",
   "execution_count": 8,
   "id": "b0bdda55",
   "metadata": {},
   "outputs": [],
   "source": [
    "a = np.array([[5, 2, 1],\n",
    "              [1, 3, 3],\n",
    "              [1, 1, 5]])\n",
    "\n",
    "b = a.dot([1, 5, 3])\n",
    "\n",
    "x = np.array([0, 0, 0])"
   ]
  },
  {
   "cell_type": "code",
   "execution_count": 9,
   "id": "13b6a94d",
   "metadata": {},
   "outputs": [
    {
     "name": "stdout",
     "output_type": "stream",
     "text": [
      "Po 4 iteracjach uzyskano rozwiązanie: x = [1 5 3]\n"
     ]
    },
    {
     "data": {
      "image/png": "[encoded data removed]",
      "text/plain": [
       "<Figure size 640x480 with 1 Axes>"
      ]
     },
     "metadata": {},
     "output_type": "display_data"
    }
   ],
   "source": [
    "x0 = np.array([0, 0, 0])\n",
    "x0[:] = x\n",
    "x_list = np.zeros([50, 3])\n",
    "\n",
    "for i in range(50):\n",
    "    \n",
    "    x[0]  = (b[0]  - a[0][1] * x[1] - a[0][2] * x[2]) / a[0][0]\n",
    "    x[1]  = (b[1]  - a[1][0] * x[0] - a[1][2] * x[2]) / a[1][1]\n",
    "    x[2]  = (b[2]  - a[2][0] * x[0] - a[2][1] * x[1]) / a[2][2]\n",
    "    \n",
    "    x_list[i] = x\n",
    "    \n",
    "    if all(np.abs(x - x0) < 0.0001 * np.abs(x0)):\n",
    "        \n",
    "        print(f\"Po {i} iteracjach uzyskano rozwiązanie: x = {x}\")\n",
    "        break\n",
    "        \n",
    "    if i == 49:\n",
    "        print(f\"Brak zbieżności po wykonaniu {i+1} iteracji!\")  \n",
    "    \n",
    "    x0[:] = x\n",
    "        \n",
    "plt.plot(range(i), x_list[0:i, :], 'o--')\n",
    "plt.show()"
   ]
  },
  {
   "cell_type": "markdown",
   "id": "b1c79310",
   "metadata": {},
   "source": [
    "d) Zaimplementuj metodę Gaussa Seidla w postaci funkcji z argumentami:\n",
    "\n",
    "- A - macierz współczynników $a$\n",
    "- b  - tablica współczynników $b$\n",
    "- x_start - tablica początkowych wartości dla zmiennych\n",
    "- tol - względna różnica między kolejnymi wartości, poniżej której uznajemy, że uzyskaliśmy zbieżność \n",
    "- max_iter - dopuszczalna liczba iteracji\n",
    "- add_plot - wartość logiczna mówiąca o tym, czy funkcja dodatkowo ma wyświetlić wykres z przebiegu działania algorytmu\n",
    "\n",
    "Funkcja powinna zwracać tablicę z trzema wartościami będącymi rozwiązaniem układu równań."
   ]
  },
  {
   "cell_type": "code",
   "execution_count": 10,
   "id": "d4bc19a3",
   "metadata": {},
   "outputs": [],
   "source": [
    "def gauss_seidl_method(A, b, x_start=np.array([0, 0, 0]), tol=0.0001, max_iter=50, add_plot=False):\n",
    "    \n",
    "    x0 = np.array([0, 0, 0])\n",
    "    x0[:] = x_start\n",
    "    x_list = np.zeros([max_iter, 3])\n",
    "\n",
    "    for i in range(max_iter):\n",
    "\n",
    "        x[0]  = (b[0]  - A[0][1] * x[1] - A[0][2] * x[2]) / A[0][0]\n",
    "        x[1]  = (b[1]  - A[1][0] * x[0] - A[1][2] * x[2]) / A[1][1]\n",
    "        x[2]  = (b[2]  - A[2][0] * x[0] - A[2][1] * x[1]) / A[2][2]\n",
    "        \n",
    "        x_list[i] = x\n",
    "\n",
    "        if all(np.abs(x - x0) < tol * np.abs(x0)):\n",
    "\n",
    "            print(f\"Po {i} iteracjach uzyskano rozwiązanie: x = {x}\")\n",
    "            break\n",
    "            \n",
    "        if i == 49:\n",
    "            print(f\"Brak zbieżności po wykonaniu {i+1} iteracji!\")\n",
    "\n",
    "        x0[:] = x\n",
    "\n",
    "    if add_plot:\n",
    "        plt.plot(range(i), x_list[0:i, :], 'o--')\n",
    "        plt.show()\n",
    "        \n",
    "    return x"
   ]
  },
  {
   "cell_type": "code",
   "execution_count": 11,
   "id": "b2b820ea",
   "metadata": {},
   "outputs": [
    {
     "name": "stdout",
     "output_type": "stream",
     "text": [
      "Po 2 iteracjach uzyskano rozwiązanie: x = [1 2 3]\n"
     ]
    },
    {
     "data": {
      "image/png": "[encoded data removed]",
      "text/plain": [
       "<Figure size 640x480 with 1 Axes>"
      ]
     },
     "metadata": {},
     "output_type": "display_data"
    }
   ],
   "source": [
    "a = np.array([[5, 2, 1],\n",
    "              [2, 3, 1],\n",
    "              [1, 2, 4]])\n",
    "\n",
    "b = np.array([12, 11, 17])\n",
    "\n",
    "x = np.array([0, 0, 0])\n",
    "\n",
    "x_solve = gauss_seidl_method(a, b, add_plot=True)"
   ]
  },
  {
   "cell_type": "code",
   "execution_count": null,
   "id": "6dd78a86",
   "metadata": {},
   "outputs": [],
   "source": []
  }
 ],
 "metadata": {
  "hide_input": false,
  "kernelspec": {
   "display_name": "Python 3 (ipykernel)",
   "language": "python",
   "name": "python3"
  },
  "language_info": {
   "codemirror_mode": {
    "name": "ipython",
    "version": 3
   },
   "file_extension": ".py",
   "mimetype": "text/x-python",
   "name": "python",
   "nbconvert_exporter": "python",
   "pygments_lexer": "ipython3",
   "version": "3.11.2"
  },
  "toc": {
   "base_numbering": 1,
   "nav_menu": {},
   "number_sections": true,
   "sideBar": true,
   "skip_h1_title": false,
   "title_cell": "Table of Contents",
   "title_sidebar": "Contents",
   "toc_cell": false,
   "toc_position": {},
   "toc_section_display": true,
   "toc_window_display": false
  },
  "varInspector": {
   "cols": {
    "lenName": 16,
    "lenType": 16,
    "lenVar": 40
   },
   "kernels_config": {
    "python": {
     "delete_cmd_postfix": "",
     "delete_cmd_prefix": "del ",
     "library": "var_list.py",
     "varRefreshCmd": "print(var_dic_list())"
    },
    "r": {
     "delete_cmd_postfix": ") ",
     "delete_cmd_prefix": "rm(",
     "library": "var_list.r",
     "varRefreshCmd": "cat(var_dic_list()) "
    }
   },
   "types_to_exclude": [
    "module",
    "function",
    "builtin_function_or_method",
    "instance",
    "_Feature"
   ],
   "window_display": false
  }
 },
 "nbformat": 4,
 "nbformat_minor": 5
}
