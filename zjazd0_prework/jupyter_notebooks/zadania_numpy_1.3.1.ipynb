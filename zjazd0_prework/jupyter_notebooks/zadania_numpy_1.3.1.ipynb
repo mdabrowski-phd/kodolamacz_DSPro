{
 "cells": [
  {
   "cell_type": "markdown",
   "id": "e99c5176",
   "metadata": {},
   "source": [
    "Zaimportuj bibliotekę numpy (użyj aliasu np). Zdefiniuj dwie tablice:\n",
    "\n",
    "x = np.arange(0, 60, 10) \\\n",
    "y = np.array([7, 35, 22, 19, 40, 39])"
   ]
  },
  {
   "cell_type": "code",
   "execution_count": 42,
   "id": "3f4a775b",
   "metadata": {},
   "outputs": [
    {
     "name": "stdout",
     "output_type": "stream",
     "text": [
      "[ 0 10 20 30 40 50]\n",
      "[ 7 35 22 19 40 39]\n"
     ]
    }
   ],
   "source": [
    "import numpy as np\n",
    "\n",
    "x = np.arange(0, 60, 10)\n",
    "y = np.array([7, 35, 22, 19, 40, 39])\n",
    "\n",
    "print(x)\n",
    "print(y)"
   ]
  },
  {
   "cell_type": "markdown",
   "id": "fc929b5a",
   "metadata": {},
   "source": [
    "a) Oblicz na ilu pozycjach wartości w wektorze x są większe niż w wektorze y."
   ]
  },
  {
   "cell_type": "code",
   "execution_count": 18,
   "id": "1bc4f4ab",
   "metadata": {},
   "outputs": [
    {
     "data": {
      "text/plain": [
       "2"
      ]
     },
     "execution_count": 18,
     "metadata": {},
     "output_type": "execute_result"
    }
   ],
   "source": [
    "np.sum(x>y)"
   ]
  },
  {
   "cell_type": "markdown",
   "id": "ff030b2d",
   "metadata": {},
   "source": [
    "b) Oblicz jaka jest średnia różnica między wartościami w wektorach x i y."
   ]
  },
  {
   "cell_type": "code",
   "execution_count": 19,
   "id": "a6f4b590",
   "metadata": {},
   "outputs": [
    {
     "data": {
      "text/plain": [
       "2.0"
      ]
     },
     "execution_count": 19,
     "metadata": {},
     "output_type": "execute_result"
    }
   ],
   "source": [
    "np.mean(y-x)"
   ]
  },
  {
   "cell_type": "markdown",
   "id": "f82f3ea1",
   "metadata": {},
   "source": [
    "c) Oblicz jaka jest średnia z wartości bezwzględnych różnic między wartościami w wektorach x i y."
   ]
  },
  {
   "cell_type": "code",
   "execution_count": 20,
   "id": "8b60fd05",
   "metadata": {},
   "outputs": [
    {
     "data": {
      "text/plain": [
       "9.333333333333334"
      ]
     },
     "execution_count": 20,
     "metadata": {},
     "output_type": "execute_result"
    }
   ],
   "source": [
    "np.mean(np.abs(y-x))"
   ]
  },
  {
   "cell_type": "markdown",
   "id": "4e4d7e59",
   "metadata": {},
   "source": [
    "d) Oblicz jaka jest średnia z wartość kwadratu różnic między wartościami w wektorach x i y."
   ]
  },
  {
   "cell_type": "code",
   "execution_count": 22,
   "id": "42b7edc6",
   "metadata": {},
   "outputs": [
    {
     "data": {
      "text/plain": [
       "153.33333333333334"
      ]
     },
     "execution_count": 22,
     "metadata": {},
     "output_type": "execute_result"
    }
   ],
   "source": [
    "np.mean((y-x)**2)"
   ]
  },
  {
   "cell_type": "markdown",
   "id": "14731e54",
   "metadata": {},
   "source": [
    "e) Oblicz na ilu pozycjach wektory x i y różnią się o więcej niż 10."
   ]
  },
  {
   "cell_type": "code",
   "execution_count": 45,
   "id": "5a46c4ab",
   "metadata": {},
   "outputs": [
    {
     "data": {
      "text/plain": [
       "3"
      ]
     },
     "execution_count": 45,
     "metadata": {},
     "output_type": "execute_result"
    }
   ],
   "source": [
    "np.sum(np.abs(y-x) > 10)"
   ]
  },
  {
   "cell_type": "markdown",
   "id": "330547a5",
   "metadata": {},
   "source": [
    "f) Zwróć te wartości z tablicy x, których pierwiastek nie różni się o więcej niż 1 od pierwiastka z wartości w wektorze y, stojących na odpowiadających im pozycjach."
   ]
  },
  {
   "cell_type": "code",
   "execution_count": 28,
   "id": "cecc3b81",
   "metadata": {},
   "outputs": [
    {
     "data": {
      "text/plain": [
       "array([20, 40, 50])"
      ]
     },
     "execution_count": 28,
     "metadata": {},
     "output_type": "execute_result"
    }
   ],
   "source": [
    "x[np.abs(np.sqrt(x)-np.sqrt(y)) <= 1]"
   ]
  },
  {
   "cell_type": "markdown",
   "id": "204b5a73",
   "metadata": {},
   "source": [
    "g) Zwróć te elementy z wektora x, które od wartości najmniejszej w wektorze x nie różnią się o więcej niż 30."
   ]
  },
  {
   "cell_type": "code",
   "execution_count": 32,
   "id": "7e4d7ff9",
   "metadata": {},
   "outputs": [
    {
     "data": {
      "text/plain": [
       "array([ 0, 10, 20, 30])"
      ]
     },
     "execution_count": 32,
     "metadata": {},
     "output_type": "execute_result"
    }
   ],
   "source": [
    "x[x-np.min(x) <= 30]"
   ]
  },
  {
   "cell_type": "markdown",
   "id": "db484d85",
   "metadata": {},
   "source": [
    "h) Zamień w wektorze x wartości większe niż średnia z wartości wektora x na wartość 10."
   ]
  },
  {
   "cell_type": "code",
   "execution_count": 38,
   "id": "4db00ffa",
   "metadata": {},
   "outputs": [
    {
     "name": "stdout",
     "output_type": "stream",
     "text": [
      "[ 0 10 10 10 10 10]\n"
     ]
    }
   ],
   "source": [
    "x = np.where(x > np.mean(x), 10, x)\n",
    "print(x)"
   ]
  }
 ],
 "metadata": {
  "kernelspec": {
   "display_name": "Python 3 (ipykernel)",
   "language": "python",
   "name": "python3"
  },
  "language_info": {
   "codemirror_mode": {
    "name": "ipython",
    "version": 3
   },
   "file_extension": ".py",
   "mimetype": "text/x-python",
   "name": "python",
   "nbconvert_exporter": "python",
   "pygments_lexer": "ipython3",
   "version": "3.11.2"
  },
  "varInspector": {
   "cols": {
    "lenName": 16,
    "lenType": 16,
    "lenVar": 40
   },
   "kernels_config": {
    "python": {
     "delete_cmd_postfix": "",
     "delete_cmd_prefix": "del ",
     "library": "var_list.py",
     "varRefreshCmd": "print(var_dic_list())"
    },
    "r": {
     "delete_cmd_postfix": ") ",
     "delete_cmd_prefix": "rm(",
     "library": "var_list.r",
     "varRefreshCmd": "cat(var_dic_list()) "
    }
   },
   "types_to_exclude": [
    "module",
    "function",
    "builtin_function_or_method",
    "instance",
    "_Feature"
   ],
   "window_display": false
  }
 },
 "nbformat": 4,
 "nbformat_minor": 5
}
