{
 "cells": [
  {
   "cell_type": "markdown",
   "id": "6e4403be",
   "metadata": {},
   "source": [
    "**Podczas zajęć omawialiśmy 3 główne rodzaje sieci:**\n",
    "- sieci neuronowe zwykłe,\n",
    "- konwolucyjne sieci neuronowe (głównie do obrazów),\n",
    "- rekurencyjne sieci neuronowe wraz z modyfikacjami (głównie do NLP).\n",
    "\n",
    "**Do każdego z 3 tematów zostało przygotowane jedno zadanie do zrobienia. Powodzenia!**\n",
    "\n",
    "<br>\n",
    "\n",
    "_Pamiętaj, nie musisz robić tych zadań w całości/wszystkich. Jeśli wybierasz jedno - wybierz to, z którego tematu umiesz najmniej, a chcesz coś umieć. Możesz je wykorzystać jako praktykę przed rozmową rekrutacyjną do pracy z sieciami neuronowymi._"
   ]
  },
  {
   "cell_type": "markdown",
   "id": "f5c51147",
   "metadata": {},
   "source": [
    "# Case study 1: Sieci neuronowe\n",
    "\n",
    "**Zoptymalizuj i oceń sieć neuronową na danych `digits`. Wybierz parametry do testowania. Skorzystaj ze znanych sobie dobrych praktyk.**\n",
    "\n",
    "1. Wykorzystaj bibliotekę `sklearn` i zrób `GridSearch` parametrów z `CrossValidation` (np. `cv=5`).\n",
    "2. Wykorzystaj bibliotekę `tensorflow` i korzystaj z **regularyzacji**, **dropoutów**, ... - przyrostowo badaj sieci. \n",
    "\n",
    "_Pamiętaj o skalowaniu danych i `EarlyStopping` jako metodzie na określenie liczby epok._\n",
    "\n",
    "<br>\n",
    "\n",
    "**_Jakaś estymacja czasowa kompletnie niewiążąca:_**\n",
    "1. 2h z ponownym przejrzeniem materiałów (notebook 2.) i poszukaniem jak robić `GridSearch` z `CV`\n",
    "2. 2h z ponownym przejrzeniem materiałów (notebook 3.)"
   ]
  },
  {
   "cell_type": "code",
   "execution_count": 61,
   "id": "ba6f41b2",
   "metadata": {
    "ExecuteTime": {
     "end_time": "2023-09-05T19:45:25.357452Z",
     "start_time": "2023-09-05T19:45:25.340234Z"
    }
   },
   "outputs": [],
   "source": [
    "from sklearn.datasets import load_digits\n",
    "from sklearn.model_selection import train_test_split\n",
    "\n",
    "digits = load_digits()\n",
    "X, y = digits.data, digits.target"
   ]
  },
  {
   "cell_type": "code",
   "execution_count": 62,
   "id": "9dca0388",
   "metadata": {
    "ExecuteTime": {
     "end_time": "2023-09-05T19:45:27.587626Z",
     "start_time": "2023-09-05T19:45:27.110218Z"
    }
   },
   "outputs": [
    {
     "data": {
      "image/png": "[encoded data removed]",
      "text/plain": [
       "<Figure size 518.4x518.4 with 12 Axes>"
      ]
     },
     "metadata": {},
     "output_type": "display_data"
    }
   ],
   "source": [
    "import matplotlib.pyplot as plt\n",
    "\n",
    "n_col = 4\n",
    "n_row = 3\n",
    "\n",
    "plt.figure(figsize=(1.8 * n_col, 2.4 * n_row))\n",
    "plt.subplots_adjust(bottom=0, left=.01, right=.99, top=.90, hspace=.35)\n",
    "\n",
    "for i in range(n_row * n_col):\n",
    "    \n",
    "    plt.subplot(n_row, n_col, i + 1)\n",
    "    plt.imshow(digits.images[i], cmap=plt.cm.gray)\n",
    "    plt.xticks(())\n",
    "    plt.yticks(())\n",
    "    \n",
    "plt.show()"
   ]
  },
  {
   "cell_type": "code",
   "execution_count": 63,
   "id": "48d31bcd",
   "metadata": {
    "ExecuteTime": {
     "end_time": "2023-09-05T19:45:31.737383Z",
     "start_time": "2023-09-05T19:45:31.729085Z"
    }
   },
   "outputs": [
    {
     "data": {
      "text/plain": [
       "(1797, 10)"
      ]
     },
     "execution_count": 63,
     "metadata": {},
     "output_type": "execute_result"
    }
   ],
   "source": [
    "from sklearn.preprocessing import OneHotEncoder\n",
    "\n",
    "encoder = OneHotEncoder(sparse_output=False)\n",
    "y = encoder.fit_transform(y.reshape(-1, 1))\n",
    "\n",
    "y.shape"
   ]
  },
  {
   "cell_type": "code",
   "execution_count": 64,
   "id": "bc4fabb0",
   "metadata": {
    "ExecuteTime": {
     "end_time": "2023-09-05T19:45:33.788570Z",
     "start_time": "2023-09-05T19:45:33.782001Z"
    }
   },
   "outputs": [],
   "source": [
    "X_train, X_test, y_train, y_test = train_test_split(X, y, test_size=300, random_state=123)"
   ]
  },
  {
   "cell_type": "markdown",
   "id": "51cf464a",
   "metadata": {},
   "source": [
    "## Scikit-learn"
   ]
  },
  {
   "cell_type": "code",
   "execution_count": 87,
   "id": "db6d78d8",
   "metadata": {
    "ExecuteTime": {
     "end_time": "2023-09-05T20:39:57.709193Z",
     "start_time": "2023-09-05T20:39:57.705061Z"
    }
   },
   "outputs": [],
   "source": [
    "from sklearn.preprocessing import StandardScaler, MinMaxScaler\n",
    "from sklearn.neural_network import MLPClassifier\n",
    "\n",
    "from sklearn.pipeline import Pipeline, make_pipeline\n",
    "from sklearn.model_selection import GridSearchCV\n",
    "from sklearn.metrics import accuracy_score"
   ]
  },
  {
   "cell_type": "code",
   "execution_count": 69,
   "id": "27fa5707",
   "metadata": {
    "ExecuteTime": {
     "end_time": "2023-09-05T19:46:54.397127Z",
     "start_time": "2023-09-05T19:46:50.376288Z"
    }
   },
   "outputs": [
    {
     "data": {
      "text/plain": [
       "0.93"
      ]
     },
     "execution_count": 69,
     "metadata": {},
     "output_type": "execute_result"
    }
   ],
   "source": [
    "model = make_pipeline(StandardScaler(), MLPClassifier(hidden_layer_sizes=[10], max_iter=1000, random_state=123))\n",
    "model.fit(X_train, y_train)\n",
    "\n",
    "y_pred = model.predict(X_test)\n",
    "accuracy_score(y_test, y_pred)"
   ]
  },
  {
   "cell_type": "code",
   "execution_count": 92,
   "id": "fcb01ef2",
   "metadata": {
    "ExecuteTime": {
     "end_time": "2023-09-05T21:02:03.048691Z",
     "start_time": "2023-09-05T21:02:01.278741Z"
    }
   },
   "outputs": [
    {
     "name": "stdout",
     "output_type": "stream",
     "text": [
      "number: 10, accuracy: 0.86\n",
      "number: 50, accuracy: 0.9333333333333333\n",
      "number: 100, accuracy: 0.95\n",
      "number: 200, accuracy: 0.9266666666666666\n",
      "number: 300, accuracy: 0.9266666666666666\n"
     ]
    }
   ],
   "source": [
    "for number in [10, 50, 100, 200, 300]:\n",
    "    \n",
    "    model = make_pipeline(StandardScaler(),\n",
    "                          MLPClassifier(hidden_layer_sizes=[number],\n",
    "                                        learning_rate_init=0.1,\n",
    "                                        activation='logistic',\n",
    "                                        max_iter=10_000,\n",
    "                                        validation_fraction=0.2,\n",
    "                                        early_stopping=True,\n",
    "                                        n_iter_no_change=5,\n",
    "                                        random_state=123)\n",
    "                         )\n",
    "    \n",
    "    model.fit(X_train, y_train)\n",
    "\n",
    "    y_pred = model.predict(X_test)\n",
    "    print(f\"number: {number}, accuracy: {accuracy_score(y_test, y_pred)}\")"
   ]
  },
  {
   "cell_type": "code",
   "execution_count": 89,
   "id": "fa437dca",
   "metadata": {
    "ExecuteTime": {
     "end_time": "2023-09-05T20:56:15.952102Z",
     "start_time": "2023-09-05T20:54:54.954117Z"
    }
   },
   "outputs": [
    {
     "name": "stdout",
     "output_type": "stream",
     "text": [
      "{'classifier__activation': 'logistic', 'classifier__hidden_layer_sizes': 100, 'classifier__learning_rate_init': 0.1}\n",
      "accuracy: 0.9366666666666666\n"
     ]
    }
   ],
   "source": [
    "pipe = Pipeline([(\"scaler\", MinMaxScaler()),\n",
    "                 (\"classifier\", MLPClassifier(max_iter=10_000,\n",
    "                                              early_stopping=True,\n",
    "                                              n_iter_no_change=5,\n",
    "                                              random_state=123))\n",
    "                ])\n",
    "\n",
    "param_grid = {\"classifier__learning_rate_init\": [1e-4, 0.001, 0.01, 0.1],\n",
    "              \"classifier__hidden_layer_sizes\": [10, 50, 100, 200, 300],\n",
    "              \"classifier__activation\": ['identity', 'logistic', 'tanh', 'relu']}\n",
    "\n",
    "gs = GridSearchCV(pipe, param_grid, scoring='accuracy', cv=5)\n",
    "\n",
    "gs.fit(X_train, y_train)\n",
    "print(gs.best_params_)\n",
    "\n",
    "y_pred = gs.predict(X_test)\n",
    "print(f'accuracy: {accuracy_score(y_test, y_pred)}')"
   ]
  },
  {
   "cell_type": "markdown",
   "id": "442184fb",
   "metadata": {},
   "source": [
    "## Tensorflow (Keras)"
   ]
  },
  {
   "cell_type": "code",
   "execution_count": 94,
   "id": "0d02899d",
   "metadata": {
    "ExecuteTime": {
     "end_time": "2023-09-05T21:17:36.356731Z",
     "start_time": "2023-09-05T21:17:36.351892Z"
    }
   },
   "outputs": [],
   "source": [
    "from tensorflow.keras.models import Sequential\n",
    "from tensorflow.keras.layers import Dense, Flatten, Dropout\n",
    "\n",
    "from tensorflow.keras.regularizers import l2\n",
    "from tensorflow.keras.optimizers import Adam\n",
    "from tensorflow.keras.callbacks import EarlyStopping\n",
    "\n",
    "import tensorflow as tf\n",
    "tf.keras.utils.set_random_seed(123)"
   ]
  },
  {
   "cell_type": "code",
   "execution_count": 95,
   "id": "c67ec9c6",
   "metadata": {
    "ExecuteTime": {
     "end_time": "2023-09-05T21:17:44.189983Z",
     "start_time": "2023-09-05T21:17:44.181715Z"
    }
   },
   "outputs": [],
   "source": [
    "from sklearn.preprocessing import StandardScaler\n",
    "\n",
    "scaler = StandardScaler()\n",
    "\n",
    "X_train = scaler.fit_transform(X_train)\n",
    "X_test = scaler.transform(X_test)"
   ]
  },
  {
   "cell_type": "code",
   "execution_count": 109,
   "id": "2b94fbf8",
   "metadata": {
    "ExecuteTime": {
     "end_time": "2023-09-05T21:26:46.328984Z",
     "start_time": "2023-09-05T21:26:46.273353Z"
    }
   },
   "outputs": [
    {
     "name": "stdout",
     "output_type": "stream",
     "text": [
      "Model: \"sequential_7\"\n",
      "_________________________________________________________________\n",
      " Layer (type)                Output Shape              Param #   \n",
      "=================================================================\n",
      " dense_12 (Dense)            (None, 50)                3250      \n",
      "                                                                 \n",
      " dropout_3 (Dropout)         (None, 50)                0         \n",
      "                                                                 \n",
      " dense_13 (Dense)            (None, 10)                510       \n",
      "                                                                 \n",
      "=================================================================\n",
      "Total params: 3,760\n",
      "Trainable params: 3,760\n",
      "Non-trainable params: 0\n",
      "_________________________________________________________________\n"
     ]
    }
   ],
   "source": [
    "n_classes = 10\n",
    "model = Sequential()\n",
    "\n",
    "model.add(Dense(50,\n",
    "                activation=\"relu\",\n",
    "                kernel_regularizer=l2(0.01),\n",
    "                bias_regularizer=l2(0.01),\n",
    "                input_shape=(X_train.shape[1], ))\n",
    "         )\n",
    "\n",
    "model.add(Dropout(0.2))\n",
    "model.add(Dense(n_classes, activation='softmax'))\n",
    "\n",
    "model.compile(loss=\"categorical_crossentropy\", optimizer=\"adam\", metrics=[\"categorical_accuracy\"])\n",
    "model.summary()"
   ]
  },
  {
   "cell_type": "code",
   "execution_count": 110,
   "id": "176c32cf",
   "metadata": {
    "ExecuteTime": {
     "end_time": "2023-09-05T21:27:03.261814Z",
     "start_time": "2023-09-05T21:26:51.220110Z"
    }
   },
   "outputs": [
    {
     "name": "stdout",
     "output_type": "stream",
     "text": [
      "Epoch 1/100\n",
      "75/75 [==============================] - 1s 4ms/step - loss: 2.2883 - categorical_accuracy: 0.4369 - val_loss: 1.6258 - val_categorical_accuracy: 0.7567\n",
      "Epoch 2/100\n",
      "75/75 [==============================] - 0s 2ms/step - loss: 1.4039 - categorical_accuracy: 0.7761 - val_loss: 1.1375 - val_categorical_accuracy: 0.8600\n",
      "Epoch 3/100\n",
      "75/75 [==============================] - 0s 2ms/step - loss: 1.0557 - categorical_accuracy: 0.8622 - val_loss: 0.9034 - val_categorical_accuracy: 0.9133\n",
      "Epoch 4/100\n",
      "75/75 [==============================] - 0s 2ms/step - loss: 0.8821 - categorical_accuracy: 0.9023 - val_loss: 0.7661 - val_categorical_accuracy: 0.9333\n",
      "Epoch 5/100\n",
      "75/75 [==============================] - 0s 3ms/step - loss: 0.7586 - categorical_accuracy: 0.9206 - val_loss: 0.6735 - val_categorical_accuracy: 0.9600\n",
      "Epoch 6/100\n",
      "75/75 [==============================] - 0s 2ms/step - loss: 0.6654 - categorical_accuracy: 0.9357 - val_loss: 0.6078 - val_categorical_accuracy: 0.9600\n",
      "Epoch 7/100\n",
      "75/75 [==============================] - 0s 2ms/step - loss: 0.5967 - categorical_accuracy: 0.9541 - val_loss: 0.5435 - val_categorical_accuracy: 0.9733\n",
      "Epoch 8/100\n",
      "75/75 [==============================] - 0s 2ms/step - loss: 0.5363 - categorical_accuracy: 0.9515 - val_loss: 0.4986 - val_categorical_accuracy: 0.9767\n",
      "Epoch 9/100\n",
      "75/75 [==============================] - 0s 2ms/step - loss: 0.5063 - categorical_accuracy: 0.9607 - val_loss: 0.4623 - val_categorical_accuracy: 0.9767\n",
      "Epoch 10/100\n",
      "75/75 [==============================] - 0s 2ms/step - loss: 0.4580 - categorical_accuracy: 0.9632 - val_loss: 0.4300 - val_categorical_accuracy: 0.9800\n",
      "Epoch 11/100\n",
      "75/75 [==============================] - 0s 2ms/step - loss: 0.4329 - categorical_accuracy: 0.9657 - val_loss: 0.4023 - val_categorical_accuracy: 0.9800\n",
      "Epoch 12/100\n",
      "75/75 [==============================] - 0s 2ms/step - loss: 0.4108 - categorical_accuracy: 0.9541 - val_loss: 0.3740 - val_categorical_accuracy: 0.9867\n",
      "Epoch 13/100\n",
      "75/75 [==============================] - 0s 2ms/step - loss: 0.3734 - categorical_accuracy: 0.9758 - val_loss: 0.3560 - val_categorical_accuracy: 0.9900\n",
      "Epoch 14/100\n",
      "75/75 [==============================] - 0s 2ms/step - loss: 0.3572 - categorical_accuracy: 0.9724 - val_loss: 0.3351 - val_categorical_accuracy: 0.9867\n",
      "Epoch 15/100\n",
      "75/75 [==============================] - 0s 2ms/step - loss: 0.3291 - categorical_accuracy: 0.9825 - val_loss: 0.3189 - val_categorical_accuracy: 0.9867\n",
      "Epoch 16/100\n",
      "75/75 [==============================] - 0s 2ms/step - loss: 0.3221 - categorical_accuracy: 0.9741 - val_loss: 0.3137 - val_categorical_accuracy: 0.9867\n",
      "Epoch 17/100\n",
      "75/75 [==============================] - 0s 2ms/step - loss: 0.3051 - categorical_accuracy: 0.9816 - val_loss: 0.2979 - val_categorical_accuracy: 0.9867\n",
      "Epoch 18/100\n",
      "75/75 [==============================] - 0s 2ms/step - loss: 0.2979 - categorical_accuracy: 0.9808 - val_loss: 0.2878 - val_categorical_accuracy: 0.9833\n",
      "Epoch 19/100\n",
      "75/75 [==============================] - 0s 2ms/step - loss: 0.2823 - categorical_accuracy: 0.9808 - val_loss: 0.2788 - val_categorical_accuracy: 0.9833\n",
      "Epoch 20/100\n",
      "75/75 [==============================] - 0s 2ms/step - loss: 0.2683 - categorical_accuracy: 0.9858 - val_loss: 0.2658 - val_categorical_accuracy: 0.9833\n",
      "Epoch 21/100\n",
      "75/75 [==============================] - 0s 2ms/step - loss: 0.2583 - categorical_accuracy: 0.9799 - val_loss: 0.2617 - val_categorical_accuracy: 0.9867\n",
      "Epoch 22/100\n",
      "75/75 [==============================] - 0s 2ms/step - loss: 0.2561 - categorical_accuracy: 0.9833 - val_loss: 0.2553 - val_categorical_accuracy: 0.9833\n",
      "Epoch 23/100\n",
      "75/75 [==============================] - 0s 2ms/step - loss: 0.2477 - categorical_accuracy: 0.9850 - val_loss: 0.2477 - val_categorical_accuracy: 0.9867\n",
      "Epoch 24/100\n",
      "75/75 [==============================] - 0s 2ms/step - loss: 0.2367 - categorical_accuracy: 0.9866 - val_loss: 0.2386 - val_categorical_accuracy: 0.9867\n",
      "Epoch 25/100\n",
      "75/75 [==============================] - 0s 2ms/step - loss: 0.2362 - categorical_accuracy: 0.9799 - val_loss: 0.2355 - val_categorical_accuracy: 0.9833\n",
      "Epoch 26/100\n",
      "75/75 [==============================] - 0s 2ms/step - loss: 0.2210 - categorical_accuracy: 0.9891 - val_loss: 0.2297 - val_categorical_accuracy: 0.9900\n",
      "Epoch 27/100\n",
      "75/75 [==============================] - 0s 2ms/step - loss: 0.2223 - categorical_accuracy: 0.9883 - val_loss: 0.2290 - val_categorical_accuracy: 0.9867\n",
      "Epoch 28/100\n",
      "75/75 [==============================] - 0s 2ms/step - loss: 0.2087 - categorical_accuracy: 0.9875 - val_loss: 0.2258 - val_categorical_accuracy: 0.9833\n",
      "Epoch 29/100\n",
      "75/75 [==============================] - 0s 2ms/step - loss: 0.2173 - categorical_accuracy: 0.9883 - val_loss: 0.2268 - val_categorical_accuracy: 0.9767\n",
      "Epoch 30/100\n",
      "75/75 [==============================] - 0s 2ms/step - loss: 0.2097 - categorical_accuracy: 0.9883 - val_loss: 0.2227 - val_categorical_accuracy: 0.9867\n",
      "Epoch 31/100\n",
      "75/75 [==============================] - 0s 2ms/step - loss: 0.2037 - categorical_accuracy: 0.9891 - val_loss: 0.2165 - val_categorical_accuracy: 0.9833\n",
      "Epoch 32/100\n",
      "75/75 [==============================] - 0s 2ms/step - loss: 0.1987 - categorical_accuracy: 0.9866 - val_loss: 0.2106 - val_categorical_accuracy: 0.9900\n",
      "Epoch 33/100\n",
      "75/75 [==============================] - 0s 2ms/step - loss: 0.1915 - categorical_accuracy: 0.9908 - val_loss: 0.2088 - val_categorical_accuracy: 0.9800\n",
      "Epoch 34/100\n",
      "75/75 [==============================] - 0s 2ms/step - loss: 0.1923 - categorical_accuracy: 0.9875 - val_loss: 0.2036 - val_categorical_accuracy: 0.9800\n",
      "Epoch 35/100\n",
      "75/75 [==============================] - 0s 2ms/step - loss: 0.1887 - categorical_accuracy: 0.9900 - val_loss: 0.2025 - val_categorical_accuracy: 0.9833\n",
      "Epoch 36/100\n",
      "75/75 [==============================] - 0s 2ms/step - loss: 0.1909 - categorical_accuracy: 0.9891 - val_loss: 0.2007 - val_categorical_accuracy: 0.9867\n",
      "Epoch 37/100\n",
      "75/75 [==============================] - 0s 2ms/step - loss: 0.1869 - categorical_accuracy: 0.9891 - val_loss: 0.1958 - val_categorical_accuracy: 0.9900\n",
      "Epoch 38/100\n",
      "75/75 [==============================] - 0s 2ms/step - loss: 0.1766 - categorical_accuracy: 0.9891 - val_loss: 0.1922 - val_categorical_accuracy: 0.9833\n",
      "Epoch 39/100\n",
      "75/75 [==============================] - 0s 2ms/step - loss: 0.1785 - categorical_accuracy: 0.9916 - val_loss: 0.1912 - val_categorical_accuracy: 0.9867\n",
      "Epoch 40/100\n",
      "75/75 [==============================] - 0s 2ms/step - loss: 0.1765 - categorical_accuracy: 0.9850 - val_loss: 0.1844 - val_categorical_accuracy: 0.9867\n",
      "Epoch 41/100\n",
      "75/75 [==============================] - 0s 2ms/step - loss: 0.1709 - categorical_accuracy: 0.9925 - val_loss: 0.1825 - val_categorical_accuracy: 0.9833\n",
      "Epoch 42/100\n",
      "75/75 [==============================] - 0s 2ms/step - loss: 0.1696 - categorical_accuracy: 0.9891 - val_loss: 0.1825 - val_categorical_accuracy: 0.9833\n",
      "Epoch 43/100\n",
      "75/75 [==============================] - 0s 2ms/step - loss: 0.1652 - categorical_accuracy: 0.9942 - val_loss: 0.1817 - val_categorical_accuracy: 0.9900\n",
      "Epoch 44/100\n",
      "75/75 [==============================] - 0s 2ms/step - loss: 0.1708 - categorical_accuracy: 0.9925 - val_loss: 0.1814 - val_categorical_accuracy: 0.9800\n",
      "Epoch 45/100\n",
      "75/75 [==============================] - 0s 3ms/step - loss: 0.1560 - categorical_accuracy: 0.9933 - val_loss: 0.1739 - val_categorical_accuracy: 0.9900\n",
      "Epoch 46/100\n",
      "75/75 [==============================] - 0s 2ms/step - loss: 0.1569 - categorical_accuracy: 0.9916 - val_loss: 0.1748 - val_categorical_accuracy: 0.9800\n",
      "Epoch 47/100\n",
      "75/75 [==============================] - 0s 2ms/step - loss: 0.1622 - categorical_accuracy: 0.9900 - val_loss: 0.1724 - val_categorical_accuracy: 0.9800\n",
      "Epoch 48/100\n",
      "75/75 [==============================] - 0s 3ms/step - loss: 0.1548 - categorical_accuracy: 0.9908 - val_loss: 0.1753 - val_categorical_accuracy: 0.9867\n",
      "Epoch 49/100\n",
      "75/75 [==============================] - 0s 2ms/step - loss: 0.1605 - categorical_accuracy: 0.9875 - val_loss: 0.1710 - val_categorical_accuracy: 0.9800\n",
      "Epoch 50/100\n",
      "75/75 [==============================] - 0s 2ms/step - loss: 0.1540 - categorical_accuracy: 0.9916 - val_loss: 0.1718 - val_categorical_accuracy: 0.9767\n",
      "Epoch 51/100\n",
      "75/75 [==============================] - 0s 3ms/step - loss: 0.1543 - categorical_accuracy: 0.9908 - val_loss: 0.1718 - val_categorical_accuracy: 0.9800\n",
      "Epoch 52/100\n",
      "75/75 [==============================] - 0s 2ms/step - loss: 0.1420 - categorical_accuracy: 0.9933 - val_loss: 0.1695 - val_categorical_accuracy: 0.9833\n",
      "Epoch 53/100\n",
      "75/75 [==============================] - 0s 2ms/step - loss: 0.1471 - categorical_accuracy: 0.9950 - val_loss: 0.1732 - val_categorical_accuracy: 0.9767\n",
      "Epoch 54/100\n",
      "75/75 [==============================] - 0s 2ms/step - loss: 0.1413 - categorical_accuracy: 0.9925 - val_loss: 0.1636 - val_categorical_accuracy: 0.9867\n",
      "Epoch 55/100\n",
      "75/75 [==============================] - 0s 2ms/step - loss: 0.1428 - categorical_accuracy: 0.9908 - val_loss: 0.1602 - val_categorical_accuracy: 0.9800\n",
      "Epoch 56/100\n",
      "75/75 [==============================] - 0s 2ms/step - loss: 0.1419 - categorical_accuracy: 0.9908 - val_loss: 0.1579 - val_categorical_accuracy: 0.9833\n",
      "Epoch 57/100\n",
      "75/75 [==============================] - 0s 2ms/step - loss: 0.1436 - categorical_accuracy: 0.9908 - val_loss: 0.1643 - val_categorical_accuracy: 0.9800\n",
      "Epoch 58/100\n",
      "75/75 [==============================] - 0s 2ms/step - loss: 0.1325 - categorical_accuracy: 0.9975 - val_loss: 0.1575 - val_categorical_accuracy: 0.9800\n",
      "Epoch 59/100\n",
      "75/75 [==============================] - 0s 2ms/step - loss: 0.1351 - categorical_accuracy: 0.9933 - val_loss: 0.1517 - val_categorical_accuracy: 0.9867\n",
      "Epoch 60/100\n",
      "75/75 [==============================] - 0s 2ms/step - loss: 0.1328 - categorical_accuracy: 0.9916 - val_loss: 0.1513 - val_categorical_accuracy: 0.9833\n",
      "Epoch 61/100\n",
      "75/75 [==============================] - 0s 2ms/step - loss: 0.1306 - categorical_accuracy: 0.9942 - val_loss: 0.1564 - val_categorical_accuracy: 0.9800\n",
      "Epoch 62/100\n",
      "75/75 [==============================] - 0s 3ms/step - loss: 0.1334 - categorical_accuracy: 0.9925 - val_loss: 0.1524 - val_categorical_accuracy: 0.9833\n",
      "Epoch 63/100\n",
      "75/75 [==============================] - 0s 2ms/step - loss: 0.1268 - categorical_accuracy: 0.9967 - val_loss: 0.1569 - val_categorical_accuracy: 0.9800\n",
      "10/10 [==============================] - 0s 2ms/step\n"
     ]
    },
    {
     "data": {
      "text/plain": [
       "0.97"
      ]
     },
     "execution_count": 110,
     "metadata": {},
     "output_type": "execute_result"
    }
   ],
   "source": [
    "early_stopping = EarlyStopping(patience=3, monitor=\"val_loss\", restore_best_weights=True)\n",
    "\n",
    "model.fit(X_train, y_train, \n",
    "          batch_size=16, \n",
    "          validation_split=0.2, \n",
    "          callbacks=[early_stopping], \n",
    "          epochs=100\n",
    "         )\n",
    "\n",
    "accuracy_score(y_test, np.round(model.predict(X_test)))"
   ]
  },
  {
   "cell_type": "markdown",
   "id": "096cc4b5",
   "metadata": {},
   "source": [
    "# Case study 2: Konwolucyjne sieci neuronowe"
   ]
  },
  {
   "cell_type": "markdown",
   "id": "fca11693",
   "metadata": {},
   "source": [
    "**Weź udział w konkursie na Kagglu: https://www.kaggle.com/competitions/cifar-10/overview**"
   ]
  },
  {
   "cell_type": "markdown",
   "id": "805a3cb7",
   "metadata": {},
   "source": [
    "> 1. Zapoznaj się z danymi (rozmiary, wygląd, itp.) i przygotuj je"
   ]
  },
  {
   "cell_type": "code",
   "execution_count": 28,
   "id": "9ee14a22",
   "metadata": {
    "ExecuteTime": {
     "end_time": "2023-09-08T18:07:49.010631Z",
     "start_time": "2023-09-08T18:07:48.232693Z"
    }
   },
   "outputs": [],
   "source": [
    "from tensorflow.keras.datasets import cifar10\n",
    "\n",
    "(X_train, y_train), (X_test, y_test) = cifar10.load_data()"
   ]
  },
  {
   "cell_type": "code",
   "execution_count": 29,
   "id": "cc6eaee7",
   "metadata": {
    "ExecuteTime": {
     "end_time": "2023-09-08T18:07:50.928264Z",
     "start_time": "2023-09-08T18:07:50.921963Z"
    }
   },
   "outputs": [
    {
     "data": {
      "text/plain": [
       "((50000, 32, 32, 3), (10000, 32, 32, 3), (50000, 1), (10000, 1))"
      ]
     },
     "execution_count": 29,
     "metadata": {},
     "output_type": "execute_result"
    }
   ],
   "source": [
    "X_train.shape, X_test.shape, y_train.shape, y_test.shape"
   ]
  },
  {
   "cell_type": "code",
   "execution_count": 30,
   "id": "1df142af",
   "metadata": {
    "ExecuteTime": {
     "end_time": "2023-09-08T18:07:53.111203Z",
     "start_time": "2023-09-08T18:07:52.329431Z"
    }
   },
   "outputs": [
    {
     "data": {
      "image/png": "[encoded data removed]",
      "text/plain": [
       "<Figure size 432x288 with 9 Axes>"
      ]
     },
     "metadata": {
      "needs_background": "light"
     },
     "output_type": "display_data"
    }
   ],
   "source": [
    "import matplotlib.pyplot as plt\n",
    "\n",
    "for i in range(9):\n",
    "    \n",
    "    plt.subplot(330 + 1 + i)  # siatka 3 x 3, a potem pozycja obrazka\n",
    "    plt.imshow(X_train[i])\n",
    "    \n",
    "plt.show()  "
   ]
  },
  {
   "cell_type": "code",
   "execution_count": 31,
   "id": "31819224",
   "metadata": {
    "ExecuteTime": {
     "end_time": "2023-09-08T18:07:57.471465Z",
     "start_time": "2023-09-08T18:07:56.815017Z"
    }
   },
   "outputs": [],
   "source": [
    "X_train = X_train / 255\n",
    "X_test = X_test / 255"
   ]
  },
  {
   "cell_type": "code",
   "execution_count": 32,
   "id": "4f69d9a8",
   "metadata": {
    "ExecuteTime": {
     "end_time": "2023-09-08T18:07:58.431306Z",
     "start_time": "2023-09-08T18:07:58.424749Z"
    }
   },
   "outputs": [
    {
     "data": {
      "text/plain": [
       "(10,)"
      ]
     },
     "execution_count": 32,
     "metadata": {},
     "output_type": "execute_result"
    }
   ],
   "source": [
    "np.unique(y_train).shape"
   ]
  },
  {
   "cell_type": "code",
   "execution_count": 33,
   "id": "e77a61bd",
   "metadata": {
    "ExecuteTime": {
     "end_time": "2023-09-08T18:08:00.636919Z",
     "start_time": "2023-09-08T18:08:00.629465Z"
    }
   },
   "outputs": [
    {
     "data": {
      "text/plain": [
       "array([[6],\n",
       "       [9],\n",
       "       [9],\n",
       "       [4],\n",
       "       [1],\n",
       "       [1],\n",
       "       [2],\n",
       "       [7],\n",
       "       [8],\n",
       "       [3]], dtype=uint8)"
      ]
     },
     "execution_count": 33,
     "metadata": {},
     "output_type": "execute_result"
    }
   ],
   "source": [
    "y_train[:10]"
   ]
  },
  {
   "cell_type": "code",
   "execution_count": 34,
   "id": "24f056d8",
   "metadata": {
    "ExecuteTime": {
     "end_time": "2023-09-08T18:08:04.042656Z",
     "start_time": "2023-09-08T18:08:04.037093Z"
    }
   },
   "outputs": [],
   "source": [
    "from tensorflow.keras.utils import to_categorical\n",
    "\n",
    "y_train = to_categorical(y_train)\n",
    "y_test = to_categorical(y_test)"
   ]
  },
  {
   "cell_type": "code",
   "execution_count": 35,
   "id": "a44ad028",
   "metadata": {
    "ExecuteTime": {
     "end_time": "2023-09-08T18:08:06.067679Z",
     "start_time": "2023-09-08T18:08:06.060887Z"
    }
   },
   "outputs": [
    {
     "data": {
      "text/plain": [
       "array([[0., 0., 0., 0., 0., 0., 1., 0., 0., 0.],\n",
       "       [0., 0., 0., 0., 0., 0., 0., 0., 0., 1.],\n",
       "       [0., 0., 0., 0., 0., 0., 0., 0., 0., 1.],\n",
       "       [0., 0., 0., 0., 1., 0., 0., 0., 0., 0.],\n",
       "       [0., 1., 0., 0., 0., 0., 0., 0., 0., 0.],\n",
       "       [0., 1., 0., 0., 0., 0., 0., 0., 0., 0.],\n",
       "       [0., 0., 1., 0., 0., 0., 0., 0., 0., 0.],\n",
       "       [0., 0., 0., 0., 0., 0., 0., 1., 0., 0.],\n",
       "       [0., 0., 0., 0., 0., 0., 0., 0., 1., 0.],\n",
       "       [0., 0., 0., 1., 0., 0., 0., 0., 0., 0.]], dtype=float32)"
      ]
     },
     "execution_count": 35,
     "metadata": {},
     "output_type": "execute_result"
    }
   ],
   "source": [
    "y_train[:10]"
   ]
  },
  {
   "cell_type": "markdown",
   "id": "e7c2bb72",
   "metadata": {
    "ExecuteTime": {
     "end_time": "2023-09-08T17:58:12.092144Z",
     "start_time": "2023-09-08T17:58:12.085152Z"
    }
   },
   "source": [
    "> 2. Zaimplementuj i sprawdź zwykłe sieci konwolucyjne (notebooki 4, 5)"
   ]
  },
  {
   "cell_type": "code",
   "execution_count": 43,
   "id": "016eae3d",
   "metadata": {
    "ExecuteTime": {
     "end_time": "2023-09-08T18:28:31.045267Z",
     "start_time": "2023-09-08T18:28:31.040556Z"
    }
   },
   "outputs": [],
   "source": [
    "from tensorflow.keras.models import Sequential\n",
    "from tensorflow.keras.layers import Dense, Dropout, Flatten, Conv2D, MaxPooling2D, AveragePooling2D\n",
    "\n",
    "np.random.seed(123)"
   ]
  },
  {
   "cell_type": "code",
   "execution_count": 38,
   "id": "8632e7c9",
   "metadata": {
    "ExecuteTime": {
     "end_time": "2023-09-08T18:08:34.650200Z",
     "start_time": "2023-09-08T18:08:34.568966Z"
    }
   },
   "outputs": [
    {
     "name": "stdout",
     "output_type": "stream",
     "text": [
      "Model: \"sequential_1\"\n",
      "_________________________________________________________________\n",
      " Layer (type)                Output Shape              Param #   \n",
      "=================================================================\n",
      " conv2d_1 (Conv2D)           (None, 32, 32, 32)        2432      \n",
      "                                                                 \n",
      " flatten_1 (Flatten)         (None, 32768)             0         \n",
      "                                                                 \n",
      " dense_1 (Dense)             (None, 10)                327690    \n",
      "                                                                 \n",
      "=================================================================\n",
      "Total params: 330,122\n",
      "Trainable params: 330,122\n",
      "Non-trainable params: 0\n",
      "_________________________________________________________________\n"
     ]
    }
   ],
   "source": [
    "model = Sequential()\n",
    "\n",
    "model.add(Conv2D(filters=32, kernel_size=5, activation='relu', input_shape=X_train[0].shape, padding=\"same\"))\n",
    "model.add(Flatten())\n",
    "model.add(Dense(10, activation='softmax'))\n",
    "\n",
    "model.compile(loss='categorical_crossentropy', optimizer=\"adam\", metrics=['categorical_accuracy'])\n",
    "model.summary()"
   ]
  },
  {
   "cell_type": "code",
   "execution_count": 41,
   "id": "335a1e2b",
   "metadata": {
    "ExecuteTime": {
     "end_time": "2023-09-08T18:14:01.779351Z",
     "start_time": "2023-09-08T18:11:34.823321Z"
    }
   },
   "outputs": [
    {
     "name": "stdout",
     "output_type": "stream",
     "text": [
      "Epoch 1/100\n",
      "   4/1250 [..............................] - ETA: 24s - loss: 0.9582 - categorical_accuracy: 0.6719"
     ]
    },
    {
     "name": "stderr",
     "output_type": "stream",
     "text": [
      "2023-09-08 20:11:35.435464: W tensorflow/tsl/framework/cpu_allocator_impl.cc:82] Allocation of 491520000 exceeds 10% of free system memory.\n"
     ]
    },
    {
     "name": "stdout",
     "output_type": "stream",
     "text": [
      "1250/1250 [==============================] - 19s 15ms/step - loss: 1.0337 - categorical_accuracy: 0.6432 - val_loss: 1.2697 - val_categorical_accuracy: 0.5688\n",
      "Epoch 2/100\n",
      "1250/1250 [==============================] - 20s 16ms/step - loss: 0.9470 - categorical_accuracy: 0.6717 - val_loss: 1.2379 - val_categorical_accuracy: 0.5845\n",
      "Epoch 3/100\n",
      "1250/1250 [==============================] - 21s 17ms/step - loss: 0.8626 - categorical_accuracy: 0.6997 - val_loss: 1.2878 - val_categorical_accuracy: 0.5895\n",
      "Epoch 4/100\n",
      "1250/1250 [==============================] - 20s 16ms/step - loss: 0.7881 - categorical_accuracy: 0.7265 - val_loss: 1.2756 - val_categorical_accuracy: 0.5854\n",
      "Epoch 5/100\n",
      "1250/1250 [==============================] - 22s 17ms/step - loss: 0.7159 - categorical_accuracy: 0.7534 - val_loss: 1.3307 - val_categorical_accuracy: 0.5894\n",
      "Epoch 6/100\n",
      "1250/1250 [==============================] - 23s 18ms/step - loss: 0.6478 - categorical_accuracy: 0.7757 - val_loss: 1.3780 - val_categorical_accuracy: 0.5863\n",
      "Epoch 7/100\n",
      "1250/1250 [==============================] - 22s 18ms/step - loss: 0.5856 - categorical_accuracy: 0.7996 - val_loss: 1.4290 - val_categorical_accuracy: 0.5869\n"
     ]
    },
    {
     "data": {
      "text/plain": [
       "<keras.callbacks.History at 0x7f453dadf640>"
      ]
     },
     "execution_count": 41,
     "metadata": {},
     "output_type": "execute_result"
    }
   ],
   "source": [
    "from tensorflow.keras.callbacks import EarlyStopping\n",
    "\n",
    "early_stopping = EarlyStopping(patience=5, monitor=\"val_loss\", restore_best_weights=True)\n",
    "\n",
    "model.fit(X_train, y_train, validation_split=0.2, epochs=100, callbacks=[early_stopping], batch_size=32)"
   ]
  },
  {
   "cell_type": "code",
   "execution_count": 42,
   "id": "cf7134f1",
   "metadata": {
    "ExecuteTime": {
     "end_time": "2023-09-08T18:22:59.683947Z",
     "start_time": "2023-09-08T18:22:57.119353Z"
    }
   },
   "outputs": [
    {
     "data": {
      "text/plain": [
       "[1.2403626441955566, 0.5800999999046326]"
      ]
     },
     "execution_count": 42,
     "metadata": {},
     "output_type": "execute_result"
    }
   ],
   "source": [
    "model.evaluate(X_test, y_test, verbose=0)"
   ]
  },
  {
   "cell_type": "markdown",
   "id": "8071410d",
   "metadata": {},
   "source": [
    "> 3. *Poszukaj optymalnych parametrów (liczba warstw, bloki konwolucyjne, warstwy `Dense`, filtry - rozmiar i liczba, paddingi, dropouty, itp.)"
   ]
  },
  {
   "cell_type": "code",
   "execution_count": 45,
   "id": "ba61b8f4",
   "metadata": {
    "ExecuteTime": {
     "end_time": "2023-09-08T18:34:43.121427Z",
     "start_time": "2023-09-08T18:34:43.031016Z"
    }
   },
   "outputs": [
    {
     "name": "stdout",
     "output_type": "stream",
     "text": [
      "Model: \"sequential_3\"\n",
      "_________________________________________________________________\n",
      " Layer (type)                Output Shape              Param #   \n",
      "=================================================================\n",
      " conv2d_4 (Conv2D)           (None, 32, 32, 6)         456       \n",
      "                                                                 \n",
      " average_pooling2d_2 (Averag  (None, 16, 16, 6)        0         \n",
      " ePooling2D)                                                     \n",
      "                                                                 \n",
      " conv2d_5 (Conv2D)           (None, 12, 12, 16)        2416      \n",
      "                                                                 \n",
      " average_pooling2d_3 (Averag  (None, 6, 6, 16)         0         \n",
      " ePooling2D)                                                     \n",
      "                                                                 \n",
      " flatten_3 (Flatten)         (None, 576)               0         \n",
      "                                                                 \n",
      " dense_5 (Dense)             (None, 128)               73856     \n",
      "                                                                 \n",
      " dense_6 (Dense)             (None, 84)                10836     \n",
      "                                                                 \n",
      " dense_7 (Dense)             (None, 10)                850       \n",
      "                                                                 \n",
      "=================================================================\n",
      "Total params: 88,414\n",
      "Trainable params: 88,414\n",
      "Non-trainable params: 0\n",
      "_________________________________________________________________\n"
     ]
    }
   ],
   "source": [
    "model = Sequential()\n",
    "\n",
    "model.add(Conv2D(filters=6, kernel_size=5, activation='sigmoid', input_shape=X_train[0].shape, padding=\"same\"))\n",
    "model.add(AveragePooling2D(pool_size=2, strides=2))  # UWAGA: 'avg_pooling' z parametrem 'strides=2'\n",
    "\n",
    "model.add(Conv2D(filters=16, kernel_size=5, activation='sigmoid'))  # UWAGA: brak 'paddingu'\n",
    "model.add(AveragePooling2D(pool_size=2, strides=2))\n",
    "\n",
    "model.add(Flatten())\n",
    "model.add(Dense(128, activation='sigmoid'))\n",
    "model.add(Dense(84, activation='sigmoid'))\n",
    "model.add(Dense(10, activation='softmax'))\n",
    "\n",
    "early_stopping = EarlyStopping(patience=5, monitor=\"val_loss\", restore_best_weights=True)\n",
    "\n",
    "model.compile(loss='categorical_crossentropy', optimizer=\"adam\", metrics=['categorical_accuracy'])\n",
    "model.summary()"
   ]
  },
  {
   "cell_type": "code",
   "execution_count": 46,
   "id": "5d290836",
   "metadata": {
    "ExecuteTime": {
     "end_time": "2023-09-08T18:40:29.494256Z",
     "start_time": "2023-09-08T18:34:49.739844Z"
    }
   },
   "outputs": [
    {
     "name": "stdout",
     "output_type": "stream",
     "text": [
      "Epoch 1/100\n"
     ]
    },
    {
     "name": "stderr",
     "output_type": "stream",
     "text": [
      "2023-09-08 20:34:50.083549: W tensorflow/tsl/framework/cpu_allocator_impl.cc:82] Allocation of 491520000 exceeds 10% of free system memory.\n"
     ]
    },
    {
     "name": "stdout",
     "output_type": "stream",
     "text": [
      "1250/1250 [==============================] - 14s 10ms/step - loss: 2.0823 - categorical_accuracy: 0.2206 - val_loss: 1.9692 - val_categorical_accuracy: 0.2780\n",
      "Epoch 2/100\n",
      "1250/1250 [==============================] - 12s 10ms/step - loss: 1.8750 - categorical_accuracy: 0.3043 - val_loss: 1.8183 - val_categorical_accuracy: 0.3373\n",
      "Epoch 3/100\n",
      "1250/1250 [==============================] - 12s 10ms/step - loss: 1.7172 - categorical_accuracy: 0.3735 - val_loss: 1.6567 - val_categorical_accuracy: 0.3979\n",
      "Epoch 4/100\n",
      "1250/1250 [==============================] - 12s 10ms/step - loss: 1.6187 - categorical_accuracy: 0.4094 - val_loss: 1.5960 - val_categorical_accuracy: 0.4217\n",
      "Epoch 5/100\n",
      "1250/1250 [==============================] - 12s 10ms/step - loss: 1.5489 - categorical_accuracy: 0.4365 - val_loss: 1.5479 - val_categorical_accuracy: 0.4504\n",
      "Epoch 6/100\n",
      "1250/1250 [==============================] - 13s 10ms/step - loss: 1.4868 - categorical_accuracy: 0.4622 - val_loss: 1.4865 - val_categorical_accuracy: 0.4624\n",
      "Epoch 7/100\n",
      "1250/1250 [==============================] - 12s 10ms/step - loss: 1.4305 - categorical_accuracy: 0.4824 - val_loss: 1.4424 - val_categorical_accuracy: 0.4794\n",
      "Epoch 8/100\n",
      "1250/1250 [==============================] - 12s 10ms/step - loss: 1.3833 - categorical_accuracy: 0.5028 - val_loss: 1.4036 - val_categorical_accuracy: 0.4928\n",
      "Epoch 9/100\n",
      "1250/1250 [==============================] - 12s 10ms/step - loss: 1.3477 - categorical_accuracy: 0.5153 - val_loss: 1.3621 - val_categorical_accuracy: 0.5114\n",
      "Epoch 10/100\n",
      "1250/1250 [==============================] - 12s 10ms/step - loss: 1.3105 - categorical_accuracy: 0.5298 - val_loss: 1.3815 - val_categorical_accuracy: 0.5089\n",
      "Epoch 11/100\n",
      "1250/1250 [==============================] - 13s 10ms/step - loss: 1.2777 - categorical_accuracy: 0.5413 - val_loss: 1.3524 - val_categorical_accuracy: 0.5186\n",
      "Epoch 12/100\n",
      "1250/1250 [==============================] - 13s 10ms/step - loss: 1.2489 - categorical_accuracy: 0.5532 - val_loss: 1.3158 - val_categorical_accuracy: 0.5255\n",
      "Epoch 13/100\n",
      "1250/1250 [==============================] - 13s 10ms/step - loss: 1.2248 - categorical_accuracy: 0.5612 - val_loss: 1.3184 - val_categorical_accuracy: 0.5335\n",
      "Epoch 14/100\n",
      "1250/1250 [==============================] - 13s 10ms/step - loss: 1.1989 - categorical_accuracy: 0.5706 - val_loss: 1.2882 - val_categorical_accuracy: 0.5402\n",
      "Epoch 15/100\n",
      "1250/1250 [==============================] - 12s 10ms/step - loss: 1.1745 - categorical_accuracy: 0.5804 - val_loss: 1.2688 - val_categorical_accuracy: 0.5460\n",
      "Epoch 16/100\n",
      "1250/1250 [==============================] - 12s 10ms/step - loss: 1.1529 - categorical_accuracy: 0.5909 - val_loss: 1.2705 - val_categorical_accuracy: 0.5486\n",
      "Epoch 17/100\n",
      "1250/1250 [==============================] - 12s 10ms/step - loss: 1.1324 - categorical_accuracy: 0.5971 - val_loss: 1.2914 - val_categorical_accuracy: 0.5454\n",
      "Epoch 18/100\n",
      "1250/1250 [==============================] - 12s 10ms/step - loss: 1.1104 - categorical_accuracy: 0.6058 - val_loss: 1.2602 - val_categorical_accuracy: 0.5537\n",
      "Epoch 19/100\n",
      "1250/1250 [==============================] - 13s 10ms/step - loss: 1.0916 - categorical_accuracy: 0.6148 - val_loss: 1.2933 - val_categorical_accuracy: 0.5452\n",
      "Epoch 20/100\n",
      "1250/1250 [==============================] - 12s 10ms/step - loss: 1.0689 - categorical_accuracy: 0.6211 - val_loss: 1.2401 - val_categorical_accuracy: 0.5631\n",
      "Epoch 21/100\n",
      "1250/1250 [==============================] - 13s 10ms/step - loss: 1.0553 - categorical_accuracy: 0.6259 - val_loss: 1.2583 - val_categorical_accuracy: 0.5548\n",
      "Epoch 22/100\n",
      "1250/1250 [==============================] - 12s 10ms/step - loss: 1.0362 - categorical_accuracy: 0.6322 - val_loss: 1.2286 - val_categorical_accuracy: 0.5685\n",
      "Epoch 23/100\n",
      "1250/1250 [==============================] - 13s 10ms/step - loss: 1.0202 - categorical_accuracy: 0.6388 - val_loss: 1.2421 - val_categorical_accuracy: 0.5656\n",
      "Epoch 24/100\n",
      "1250/1250 [==============================] - 12s 10ms/step - loss: 1.0042 - categorical_accuracy: 0.6454 - val_loss: 1.2500 - val_categorical_accuracy: 0.5621\n",
      "Epoch 25/100\n",
      "1250/1250 [==============================] - 14s 11ms/step - loss: 0.9849 - categorical_accuracy: 0.6514 - val_loss: 1.2373 - val_categorical_accuracy: 0.5708\n",
      "Epoch 26/100\n",
      "1250/1250 [==============================] - 12s 10ms/step - loss: 0.9668 - categorical_accuracy: 0.6580 - val_loss: 1.2466 - val_categorical_accuracy: 0.5707\n",
      "Epoch 27/100\n",
      "1250/1250 [==============================] - 12s 10ms/step - loss: 0.9520 - categorical_accuracy: 0.6664 - val_loss: 1.2410 - val_categorical_accuracy: 0.5710\n"
     ]
    },
    {
     "data": {
      "text/plain": [
       "[1.2161840200424194, 0.5656999945640564]"
      ]
     },
     "execution_count": 46,
     "metadata": {},
     "output_type": "execute_result"
    }
   ],
   "source": [
    "model.fit(X_train, y_train, validation_split=0.2, epochs=100, callbacks=[early_stopping], batch_size=32)\n",
    "\n",
    "model.evaluate(X_test, y_test, verbose=0)"
   ]
  },
  {
   "cell_type": "markdown",
   "id": "fa6d6163",
   "metadata": {},
   "source": [
    "> 4. Wykorzystaj transfer learning, np. z `VGG19`, `EfficientNetV2`, `ResNext` (notebook 6)"
   ]
  },
  {
   "cell_type": "code",
   "execution_count": null,
   "id": "80227c3f",
   "metadata": {},
   "outputs": [],
   "source": [
    "# TODO"
   ]
  },
  {
   "cell_type": "code",
   "execution_count": 48,
   "id": "71d381e4",
   "metadata": {
    "ExecuteTime": {
     "end_time": "2023-09-08T18:43:09.610546Z",
     "start_time": "2023-09-08T18:43:08.845606Z"
    }
   },
   "outputs": [
    {
     "name": "stdout",
     "output_type": "stream",
     "text": [
      "Model: \"vgg19\"\n",
      "_________________________________________________________________\n",
      " Layer (type)                Output Shape              Param #   \n",
      "=================================================================\n",
      " input_1 (InputLayer)        [(None, 32, 32, 3)]       0         \n",
      "                                                                 \n",
      " block1_conv1 (Conv2D)       (None, 32, 32, 64)        1792      \n",
      "                                                                 \n",
      " block1_conv2 (Conv2D)       (None, 32, 32, 64)        36928     \n",
      "                                                                 \n",
      " block1_pool (MaxPooling2D)  (None, 16, 16, 64)        0         \n",
      "                                                                 \n",
      " block2_conv1 (Conv2D)       (None, 16, 16, 128)       73856     \n",
      "                                                                 \n",
      " block2_conv2 (Conv2D)       (None, 16, 16, 128)       147584    \n",
      "                                                                 \n",
      " block2_pool (MaxPooling2D)  (None, 8, 8, 128)         0         \n",
      "                                                                 \n",
      " block3_conv1 (Conv2D)       (None, 8, 8, 256)         295168    \n",
      "                                                                 \n",
      " block3_conv2 (Conv2D)       (None, 8, 8, 256)         590080    \n",
      "                                                                 \n",
      " block3_conv3 (Conv2D)       (None, 8, 8, 256)         590080    \n",
      "                                                                 \n",
      " block3_conv4 (Conv2D)       (None, 8, 8, 256)         590080    \n",
      "                                                                 \n",
      " block3_pool (MaxPooling2D)  (None, 4, 4, 256)         0         \n",
      "                                                                 \n",
      " block4_conv1 (Conv2D)       (None, 4, 4, 512)         1180160   \n",
      "                                                                 \n",
      " block4_conv2 (Conv2D)       (None, 4, 4, 512)         2359808   \n",
      "                                                                 \n",
      " block4_conv3 (Conv2D)       (None, 4, 4, 512)         2359808   \n",
      "                                                                 \n",
      " block4_conv4 (Conv2D)       (None, 4, 4, 512)         2359808   \n",
      "                                                                 \n",
      " block4_pool (MaxPooling2D)  (None, 2, 2, 512)         0         \n",
      "                                                                 \n",
      " block5_conv1 (Conv2D)       (None, 2, 2, 512)         2359808   \n",
      "                                                                 \n",
      " block5_conv2 (Conv2D)       (None, 2, 2, 512)         2359808   \n",
      "                                                                 \n",
      " block5_conv3 (Conv2D)       (None, 2, 2, 512)         2359808   \n",
      "                                                                 \n",
      " block5_conv4 (Conv2D)       (None, 2, 2, 512)         2359808   \n",
      "                                                                 \n",
      " block5_pool (MaxPooling2D)  (None, 1, 1, 512)         0         \n",
      "                                                                 \n",
      "=================================================================\n",
      "Total params: 20,024,384\n",
      "Trainable params: 20,024,384\n",
      "Non-trainable params: 0\n",
      "_________________________________________________________________\n"
     ]
    }
   ],
   "source": [
    "from tensorflow.keras.applications.vgg19 import VGG19\n",
    "\n",
    "base_model = VGG19(weights='imagenet', include_top=False, input_shape=(32, 32, 3))\n",
    "base_model.summary()"
   ]
  },
  {
   "cell_type": "code",
   "execution_count": 50,
   "id": "5d04eaaa",
   "metadata": {
    "ExecuteTime": {
     "end_time": "2023-09-08T18:43:44.944081Z",
     "start_time": "2023-09-08T18:43:44.888452Z"
    }
   },
   "outputs": [
    {
     "name": "stdout",
     "output_type": "stream",
     "text": [
      "Model: \"sequential_5\"\n",
      "_________________________________________________________________\n",
      " Layer (type)                Output Shape              Param #   \n",
      "=================================================================\n",
      " flatten_5 (Flatten)         (None, 512)               0         \n",
      "                                                                 \n",
      " dense_10 (Dense)            (None, 128)               65664     \n",
      "                                                                 \n",
      " dropout_1 (Dropout)         (None, 128)               0         \n",
      "                                                                 \n",
      " dense_11 (Dense)            (None, 10)                1290      \n",
      "                                                                 \n",
      "=================================================================\n",
      "Total params: 66,954\n",
      "Trainable params: 66,954\n",
      "Non-trainable params: 0\n",
      "_________________________________________________________________\n"
     ]
    }
   ],
   "source": [
    "top_model = Sequential()\n",
    "top_model.add(Flatten(input_shape=base_model.output_shape[1:]))  # pierwszym parametrem 'output_shape' jest 'None'\n",
    "top_model.add(Dense(128, activation='tanh'))\n",
    "top_model.add(Dropout(0.5))\n",
    "top_model.add(Dense(10, activation='softmax'))\n",
    "\n",
    "top_model.summary()"
   ]
  },
  {
   "cell_type": "code",
   "execution_count": 51,
   "id": "91ba3bea",
   "metadata": {
    "ExecuteTime": {
     "end_time": "2023-09-08T18:44:12.049846Z",
     "start_time": "2023-09-08T18:44:11.950934Z"
    }
   },
   "outputs": [
    {
     "name": "stdout",
     "output_type": "stream",
     "text": [
      "Model: \"sequential_6\"\n",
      "_________________________________________________________________\n",
      " Layer (type)                Output Shape              Param #   \n",
      "=================================================================\n",
      " vgg19 (Functional)          (None, 1, 1, 512)         20024384  \n",
      "                                                                 \n",
      " sequential_5 (Sequential)   (None, 10)                66954     \n",
      "                                                                 \n",
      "=================================================================\n",
      "Total params: 20,091,338\n",
      "Trainable params: 66,954\n",
      "Non-trainable params: 20,024,384\n",
      "_________________________________________________________________\n"
     ]
    }
   ],
   "source": [
    "model = Sequential()\n",
    "model.add(base_model)\n",
    "model.add(top_model)\n",
    "\n",
    "base_model.trainable = False  # wagi bazowego modelu nie będą się zmieniać\n",
    "model.summary()\n",
    "\n"
   ]
  },
  {
   "cell_type": "code",
   "execution_count": 52,
   "id": "e98b49cf",
   "metadata": {
    "ExecuteTime": {
     "end_time": "2023-09-08T19:53:53.559797Z",
     "start_time": "2023-09-08T18:46:00.382094Z"
    }
   },
   "outputs": [
    {
     "name": "stdout",
     "output_type": "stream",
     "text": [
      "Epoch 1/100\n"
     ]
    },
    {
     "name": "stderr",
     "output_type": "stream",
     "text": [
      "2023-09-08 20:46:00.730527: W tensorflow/tsl/framework/cpu_allocator_impl.cc:82] Allocation of 491520000 exceeds 10% of free system memory.\n"
     ]
    },
    {
     "name": "stdout",
     "output_type": "stream",
     "text": [
      "1250/1250 [==============================] - 148s 118ms/step - loss: 1.5431 - accuracy: 0.4550 - val_loss: 1.3215 - val_accuracy: 0.5283\n",
      "Epoch 2/100\n",
      "1250/1250 [==============================] - 156s 125ms/step - loss: 1.3647 - accuracy: 0.5207 - val_loss: 1.2632 - val_accuracy: 0.5538\n",
      "Epoch 3/100\n",
      "1250/1250 [==============================] - 162s 130ms/step - loss: 1.3235 - accuracy: 0.5365 - val_loss: 1.2481 - val_accuracy: 0.5594\n",
      "Epoch 4/100\n",
      "1250/1250 [==============================] - 177s 141ms/step - loss: 1.2949 - accuracy: 0.5478 - val_loss: 1.2557 - val_accuracy: 0.5569\n",
      "Epoch 5/100\n",
      "1250/1250 [==============================] - 158s 126ms/step - loss: 1.2829 - accuracy: 0.5526 - val_loss: 1.2196 - val_accuracy: 0.5717\n",
      "Epoch 6/100\n",
      "1250/1250 [==============================] - 154s 123ms/step - loss: 1.2694 - accuracy: 0.5567 - val_loss: 1.2485 - val_accuracy: 0.5631\n",
      "Epoch 7/100\n",
      "1250/1250 [==============================] - 159s 127ms/step - loss: 1.2588 - accuracy: 0.5598 - val_loss: 1.2277 - val_accuracy: 0.5657\n",
      "Epoch 8/100\n",
      "1250/1250 [==============================] - 154s 123ms/step - loss: 1.2485 - accuracy: 0.5651 - val_loss: 1.2241 - val_accuracy: 0.5730\n",
      "Epoch 9/100\n",
      "1250/1250 [==============================] - 153s 122ms/step - loss: 1.2410 - accuracy: 0.5713 - val_loss: 1.2122 - val_accuracy: 0.5722\n",
      "Epoch 10/100\n",
      "1250/1250 [==============================] - 152s 122ms/step - loss: 1.2384 - accuracy: 0.5667 - val_loss: 1.2079 - val_accuracy: 0.5747\n",
      "Epoch 11/100\n",
      "1250/1250 [==============================] - 154s 123ms/step - loss: 1.2318 - accuracy: 0.5706 - val_loss: 1.2185 - val_accuracy: 0.5685\n",
      "Epoch 12/100\n",
      "1250/1250 [==============================] - 152s 122ms/step - loss: 1.2262 - accuracy: 0.5734 - val_loss: 1.2042 - val_accuracy: 0.5739\n",
      "Epoch 13/100\n",
      "1250/1250 [==============================] - 151s 121ms/step - loss: 1.2236 - accuracy: 0.5767 - val_loss: 1.2118 - val_accuracy: 0.5706\n",
      "Epoch 14/100\n",
      "1250/1250 [==============================] - 165s 132ms/step - loss: 1.2173 - accuracy: 0.5757 - val_loss: 1.2021 - val_accuracy: 0.5761\n",
      "Epoch 15/100\n",
      "1250/1250 [==============================] - 152s 121ms/step - loss: 1.2134 - accuracy: 0.5802 - val_loss: 1.2013 - val_accuracy: 0.5758\n",
      "Epoch 16/100\n",
      "1250/1250 [==============================] - 152s 121ms/step - loss: 1.2091 - accuracy: 0.5790 - val_loss: 1.1958 - val_accuracy: 0.5762\n",
      "Epoch 17/100\n",
      "1250/1250 [==============================] - 151s 120ms/step - loss: 1.2051 - accuracy: 0.5814 - val_loss: 1.2035 - val_accuracy: 0.5739\n",
      "Epoch 18/100\n",
      "1250/1250 [==============================] - 153s 122ms/step - loss: 1.2023 - accuracy: 0.5821 - val_loss: 1.1898 - val_accuracy: 0.5813\n",
      "Epoch 19/100\n",
      "1250/1250 [==============================] - 153s 123ms/step - loss: 1.2002 - accuracy: 0.5822 - val_loss: 1.1910 - val_accuracy: 0.5785\n",
      "Epoch 20/100\n",
      "1250/1250 [==============================] - 153s 122ms/step - loss: 1.1979 - accuracy: 0.5804 - val_loss: 1.1908 - val_accuracy: 0.5836\n",
      "Epoch 21/100\n",
      "1250/1250 [==============================] - 153s 123ms/step - loss: 1.1946 - accuracy: 0.5841 - val_loss: 1.1875 - val_accuracy: 0.5814\n",
      "Epoch 22/100\n",
      "1250/1250 [==============================] - 153s 123ms/step - loss: 1.1895 - accuracy: 0.5856 - val_loss: 1.1940 - val_accuracy: 0.5792\n",
      "Epoch 23/100\n",
      "1250/1250 [==============================] - 154s 123ms/step - loss: 1.1862 - accuracy: 0.5902 - val_loss: 1.1964 - val_accuracy: 0.5762\n",
      "Epoch 24/100\n",
      "1250/1250 [==============================] - 164s 131ms/step - loss: 1.1889 - accuracy: 0.5884 - val_loss: 1.1924 - val_accuracy: 0.5823\n",
      "Epoch 25/100\n",
      "1250/1250 [==============================] - 160s 128ms/step - loss: 1.1829 - accuracy: 0.5882 - val_loss: 1.1878 - val_accuracy: 0.5819\n",
      "Epoch 26/100\n",
      "1250/1250 [==============================] - 150s 120ms/step - loss: 1.1822 - accuracy: 0.5878 - val_loss: 1.2014 - val_accuracy: 0.5750\n"
     ]
    },
    {
     "data": {
      "text/plain": [
       "[1.205295205116272, 0.5771999955177307]"
      ]
     },
     "execution_count": 52,
     "metadata": {},
     "output_type": "execute_result"
    }
   ],
   "source": [
    "model.compile(loss='categorical_crossentropy', optimizer='adam', metrics=['accuracy'])\n",
    "early_stopping = EarlyStopping(patience=5, monitor=\"val_loss\", restore_best_weights=True)\n",
    "\n",
    "model.fit(X_train, y_train, validation_split=0.2, epochs=100, callbacks=[early_stopping], batch_size=32)\n",
    "model.evaluate(X_test, y_test, verbose=0)"
   ]
  },
  {
   "cell_type": "markdown",
   "id": "51ee5396",
   "metadata": {},
   "source": [
    "> 5. Wykorzystaj augmentację danych przy najlepszej dotychczasowej sieci (notebook 6)"
   ]
  },
  {
   "cell_type": "code",
   "execution_count": 53,
   "id": "78c17740",
   "metadata": {
    "ExecuteTime": {
     "end_time": "2023-09-08T19:54:52.568902Z",
     "start_time": "2023-09-08T19:54:52.561866Z"
    }
   },
   "outputs": [],
   "source": [
    "from tensorflow.keras.preprocessing.image import ImageDataGenerator\n",
    "\n",
    "datagen = ImageDataGenerator(\n",
    "                rotation_range=30,\n",
    "                width_shift_range=0.1,\n",
    "                height_shift_range=0.1,\n",
    "                shear_range=0.1,\n",
    "                zoom_range=0.2,\n",
    "                horizontal_flip=True,\n",
    "    )"
   ]
  },
  {
   "cell_type": "code",
   "execution_count": 55,
   "id": "3ae3961a",
   "metadata": {
    "ExecuteTime": {
     "end_time": "2023-09-08T20:14:13.694888Z",
     "start_time": "2023-09-08T19:55:24.994658Z"
    }
   },
   "outputs": [
    {
     "name": "stdout",
     "output_type": "stream",
     "text": [
      "Epoch 1/100\n"
     ]
    },
    {
     "name": "stderr",
     "output_type": "stream",
     "text": [
      "/tmp/ipykernel_206/3875422917.py:3: UserWarning: `Model.fit_generator` is deprecated and will be removed in a future version. Please use `Model.fit`, which supports generators.\n",
      "  model.fit_generator(datagen.flow(X_train, y_train, batch_size=32),\n"
     ]
    },
    {
     "name": "stdout",
     "output_type": "stream",
     "text": [
      "1562/1562 [==============================] - 184s 118ms/step - loss: 1.4727 - accuracy: 0.4827 - val_loss: 1.2497 - val_accuracy: 0.5617\n",
      "Epoch 2/100\n",
      "1562/1562 [==============================] - 187s 120ms/step - loss: 1.4542 - accuracy: 0.4915 - val_loss: 1.2800 - val_accuracy: 0.5504\n",
      "Epoch 3/100\n",
      "1562/1562 [==============================] - 190s 122ms/step - loss: 1.4499 - accuracy: 0.4918 - val_loss: 1.2589 - val_accuracy: 0.5617\n",
      "Epoch 4/100\n",
      "1562/1562 [==============================] - 189s 121ms/step - loss: 1.4421 - accuracy: 0.4957 - val_loss: 1.2738 - val_accuracy: 0.5569\n",
      "Epoch 5/100\n",
      "1562/1562 [==============================] - 189s 121ms/step - loss: 1.4387 - accuracy: 0.4960 - val_loss: 1.2632 - val_accuracy: 0.5590\n",
      "Epoch 6/100\n",
      "1562/1562 [==============================] - 189s 121ms/step - loss: 1.4358 - accuracy: 0.4971 - val_loss: 1.2831 - val_accuracy: 0.5537\n"
     ]
    },
    {
     "data": {
      "text/plain": [
       "<keras.callbacks.History at 0x7f453d7a7790>"
      ]
     },
     "execution_count": 55,
     "metadata": {},
     "output_type": "execute_result"
    }
   ],
   "source": [
    "early_stopping = EarlyStopping(patience=5, restore_best_weights=True)\n",
    "\n",
    "model.fit_generator(datagen.flow(X_train, y_train, batch_size=32),\n",
    "                            steps_per_epoch=X_train.shape[0] // 32,\n",
    "                            epochs=100,\n",
    "                            validation_data=(X_test, y_test),\n",
    "                            callbacks=[early_stopping])"
   ]
  },
  {
   "cell_type": "markdown",
   "id": "b5895bbe",
   "metadata": {},
   "source": [
    "### Modele `emsemble`\n",
    "\n",
    "> 6. Sprawdź, czy model `ensemble` ([ARTYKUŁ](https://machinelearningmastery.com/ensemble-methods-for-deep-learning-neural-networks/)) będzie działał lepiej.\n",
    "\n",
    "**modele** `average ensemble`: https://machinelearningmastery.com/model-averaging-ensemble-for-deep-learning-neural-networks/  \n",
    "\n",
    "**UWAGA:**: _Analizę przeprowadziłem dla innego (mniejszego) zbioru danych, żeby obliczenia były szybsze (wnioski powinny być analogiczne)._"
   ]
  },
  {
   "cell_type": "code",
   "execution_count": 58,
   "id": "dbb63446",
   "metadata": {
    "ExecuteTime": {
     "end_time": "2023-09-08T20:34:24.606748Z",
     "start_time": "2023-09-08T20:34:24.438961Z"
    }
   },
   "outputs": [
    {
     "data": {
      "image/png": "[encoded data removed]",
      "text/plain": [
       "<Figure size 432x288 with 1 Axes>"
      ]
     },
     "metadata": {
      "needs_background": "light"
     },
     "output_type": "display_data"
    }
   ],
   "source": [
    "# scatter plot of blobs dataset\n",
    "\n",
    "from sklearn.datasets import make_blobs\n",
    "from matplotlib import pyplot\n",
    "from pandas import DataFrame\n",
    "\n",
    "# generate 2d classification dataset\n",
    "X, y = make_blobs(n_samples=500, centers=3, n_features=2, cluster_std=2, random_state=2)\n",
    "\n",
    "# scatter plot, dots colored by class value\n",
    "df = DataFrame(dict(x=X[:, 0], y=X[:, 1], label=y))\n",
    "grouped = df.groupby('label')\n",
    "\n",
    "colors = {0: 'red', 1: 'blue', 2: 'green'}\n",
    "fig, ax = pyplot.subplots()\n",
    "\n",
    "for key, group in grouped:\n",
    "    group.plot(ax=ax, kind='scatter', x='x', y='y', label=key, color=colors[key])\n",
    "\n",
    "pyplot.show()"
   ]
  },
  {
   "cell_type": "code",
   "execution_count": 59,
   "id": "b741ef05",
   "metadata": {
    "ExecuteTime": {
     "end_time": "2023-09-08T20:36:54.023656Z",
     "start_time": "2023-09-08T20:36:44.419617Z"
    }
   },
   "outputs": [
    {
     "name": "stdout",
     "output_type": "stream",
     "text": [
      "Train: 0.840, Test: 0.757\n"
     ]
    },
    {
     "data": {
      "image/png": "[encoded data removed]",
      "text/plain": [
       "<Figure size 432x288 with 1 Axes>"
      ]
     },
     "metadata": {
      "needs_background": "light"
     },
     "output_type": "display_data"
    }
   ],
   "source": [
    "# fit high variance mlp on blobs classification problem\n",
    "\n",
    "from keras.utils import to_categorical\n",
    "from keras.models import Sequential\n",
    "from keras.layers import Dense\n",
    "\n",
    "# generate 2d classification dataset\n",
    "X, y = make_blobs(n_samples=500, centers=3, n_features=2, cluster_std=2, random_state=2)\n",
    "y = to_categorical(y)\n",
    "\n",
    "# split into train and test\n",
    "n_train = int(0.3 * X.shape[0])\n",
    "trainX, testX = X[:n_train, :], X[n_train:, :]\n",
    "trainy, testy = y[:n_train], y[n_train:]\n",
    "\n",
    "# define model\n",
    "model = Sequential()\n",
    "model.add(Dense(15, input_dim=2, activation='relu'))\n",
    "model.add(Dense(3, activation='softmax'))\n",
    "\n",
    "model.compile(loss='categorical_crossentropy', optimizer='adam', metrics=['accuracy'])\n",
    "\n",
    "# fit model\n",
    "history = model.fit(trainX, trainy, validation_data=(testX, testy), epochs=200, verbose=0)\n",
    "\n",
    "# evaluate the model\n",
    "_, train_acc = model.evaluate(trainX, trainy, verbose=0)\n",
    "_, test_acc = model.evaluate(testX, testy, verbose=0)\n",
    "print('Train: %.3f, Test: %.3f' % (train_acc, test_acc))\n",
    "\n",
    "# learning curves of model accuracy\n",
    "pyplot.plot(history.history['accuracy'], label='train')\n",
    "pyplot.plot(history.history['val_accuracy'], label='test')\n",
    "pyplot.legend()\n",
    "pyplot.show()"
   ]
  },
  {
   "cell_type": "code",
   "execution_count": 61,
   "id": "bd5a5931",
   "metadata": {
    "ExecuteTime": {
     "end_time": "2023-09-08T20:47:34.713576Z",
     "start_time": "2023-09-08T20:46:22.321701Z"
    }
   },
   "outputs": [
    {
     "name": "stdout",
     "output_type": "stream",
     "text": [
      "> 0.723\n",
      "> 0.760\n",
      "> 0.786\n",
      "> 0.766\n",
      "> 0.777\n",
      "> 0.749\n",
      "> 0.754\n",
      "> 0.780\n",
      "> 0.729\n",
      "> 0.766\n",
      "> 0.769\n",
      "> 0.754\n",
      "> 0.783\n",
      "> 0.783\n",
      "> 0.794\n",
      "> 0.760\n",
      "> 0.769\n",
      "> 0.757\n",
      "> 0.760\n",
      "> 0.766\n",
      "> 0.746\n",
      "> 0.774\n",
      "> 0.797\n",
      "> 0.726\n",
      "> 0.783\n",
      "> 0.751\n",
      "> 0.763\n",
      "> 0.743\n",
      "> 0.754\n",
      "> 0.780\n",
      "Scores Mean: 0.763, Standard Deviation: 0.019\n"
     ]
    },
    {
     "data": {
      "image/png": "[encoded data removed]",
      "text/plain": [
       "<Figure size 432x288 with 1 Axes>"
      ]
     },
     "metadata": {
      "needs_background": "light"
     },
     "output_type": "display_data"
    },
    {
     "data": {
      "image/png": "[encoded data removed]",
      "text/plain": [
       "<Figure size 432x288 with 1 Axes>"
      ]
     },
     "metadata": {
      "needs_background": "light"
     },
     "output_type": "display_data"
    }
   ],
   "source": [
    "# demonstrate high variance of mlp model on blobs classification problem\n",
    "import numpy as np\n",
    "\n",
    "# fit and evaluate a neural net model on the dataset\n",
    "def evaluate_model(trainX, trainy, testX, testy):\n",
    "    \n",
    "    # define model\n",
    "    model = Sequential()\n",
    "    model.add(Dense(15, input_dim=2, activation='relu'))\n",
    "    model.add(Dense(3, activation='softmax'))\n",
    "    \n",
    "    model.compile(loss='categorical_crossentropy', optimizer='adam', metrics=['accuracy'])\n",
    "     \n",
    "    # fit model\n",
    "    model.fit(trainX, trainy, epochs=200, verbose=0)\n",
    "    \n",
    "    # evaluate the model\n",
    "    _, test_acc = model.evaluate(testX, testy, verbose=0)\n",
    "    \n",
    "    return test_acc\n",
    " \n",
    "# generate 2d classification dataset\n",
    "X, y = make_blobs(n_samples=500, centers=3, n_features=2, cluster_std=2, random_state=2)\n",
    "y = to_categorical(y)\n",
    "\n",
    "# split into train and test\n",
    "n_train = int(0.3 * X.shape[0])\n",
    "trainX, testX = X[:n_train, :], X[n_train:, :]\n",
    "trainy, testy = y[:n_train], y[n_train:]\n",
    "\n",
    "# repeated evaluation\n",
    "n_repeats = 30\n",
    "\n",
    "scores = list()\n",
    "for _ in range(n_repeats):\n",
    "    \n",
    "    score = evaluate_model(trainX, trainy, testX, testy)\n",
    "    print('> %.3f' % score)\n",
    "    scores.append(score)\n",
    "\n",
    "# summarize the distribution of scores\n",
    "print('Scores Mean: %.3f, Standard Deviation: %.3f' % (np.mean(scores), np.std(scores)))\n",
    "\n",
    "# histogram of distribution\n",
    "pyplot.hist(scores, bins=10)\n",
    "pyplot.show()\n",
    "\n",
    "# boxplot of distribution\n",
    "pyplot.boxplot(scores)\n",
    "pyplot.show()"
   ]
  },
  {
   "cell_type": "code",
   "execution_count": 68,
   "id": "a47c6610",
   "metadata": {
    "ExecuteTime": {
     "end_time": "2023-09-08T21:04:58.332673Z",
     "start_time": "2023-09-08T21:04:58.325280Z"
    }
   },
   "outputs": [],
   "source": [
    "# model averaging ensemble and a study of ensemble size on test accuracy\n",
    "\n",
    "from sklearn.metrics import accuracy_score\n",
    " \n",
    "# fit model on dataset\n",
    "def fit_model(trainX, trainy):\n",
    "    \n",
    "    # define model\n",
    "    model = Sequential()\n",
    "    model.add(Dense(15, input_dim=2, activation='relu'))\n",
    "    model.add(Dense(3, activation='softmax'))\n",
    "    \n",
    "    model.compile(loss='categorical_crossentropy', optimizer='adam', metrics=['accuracy'])\n",
    " \n",
    "    # fit model\n",
    "    model.fit(trainX, trainy, epochs=200, verbose=0)\n",
    "    \n",
    "    return model\n",
    " \n",
    "# make an ensemble prediction for multi-class classification\n",
    "def ensemble_predictions(members, testX):\n",
    "    \n",
    "    # make predictions\n",
    "    yhats = [model.predict(testX) for model in members]\n",
    "    yhats = np.array(yhats)\n",
    "\n",
    "    # sum across ensemble members\n",
    "    summed = np.sum(yhats, axis=0)\n",
    " \n",
    "    # argmax across classes\n",
    "    result = np.argmax(summed, axis=1)\n",
    " \n",
    "    return result\n",
    " \n",
    "# evaluate ensemble model\n",
    "def evaluate_members(members, testX, testy):\n",
    "    \n",
    "    # make prediction\n",
    "    yhat = ensemble_predictions(members, testX)\n",
    " \n",
    "    # calculate accuracy\n",
    "    return accuracy_score(testy, yhat)"
   ]
  },
  {
   "cell_type": "code",
   "execution_count": 70,
   "id": "3b9ab982",
   "metadata": {
    "ExecuteTime": {
     "end_time": "2023-09-08T21:18:44.120831Z",
     "start_time": "2023-09-08T21:12:49.980207Z"
    }
   },
   "outputs": [
    {
     "name": "stdout",
     "output_type": "stream",
     "text": [
      "11/11 [==============================] - 0s 1ms/step\n",
      "11/11 [==============================] - 0s 1ms/step\n",
      "11/11 [==============================] - 0s 1ms/step\n",
      "11/11 [==============================] - 0s 1ms/step\n",
      "11/11 [==============================] - 0s 1ms/step\n",
      "> 0.777\n",
      "11/11 [==============================] - 0s 1ms/step\n",
      "11/11 [==============================] - 0s 1ms/step\n",
      "11/11 [==============================] - 0s 1ms/step\n",
      "11/11 [==============================] - 0s 2ms/step\n",
      "11/11 [==============================] - 0s 2ms/step\n",
      "> 0.774\n",
      "11/11 [==============================] - 0s 1ms/step\n",
      "11/11 [==============================] - 0s 2ms/step\n",
      "11/11 [==============================] - 0s 1ms/step\n",
      "11/11 [==============================] - 0s 1ms/step\n",
      "11/11 [==============================] - 0s 1ms/step\n",
      "> 0.769\n",
      "11/11 [==============================] - 0s 1ms/step\n",
      "11/11 [==============================] - 0s 2ms/step\n",
      "11/11 [==============================] - 0s 2ms/step\n",
      "11/11 [==============================] - 0s 1ms/step\n",
      "11/11 [==============================] - 0s 2ms/step\n",
      "> 0.754\n",
      "11/11 [==============================] - 0s 1ms/step\n",
      "11/11 [==============================] - 0s 1ms/step\n",
      "11/11 [==============================] - 0s 1ms/step\n",
      "11/11 [==============================] - 0s 1ms/step\n",
      "11/11 [==============================] - 0s 1ms/step\n",
      "> 0.769\n",
      "11/11 [==============================] - 0s 1ms/step\n",
      "11/11 [==============================] - 0s 1ms/step\n",
      "11/11 [==============================] - 0s 1ms/step\n",
      "11/11 [==============================] - 0s 1ms/step\n",
      "11/11 [==============================] - 0s 1ms/step\n",
      "> 0.757\n",
      "11/11 [==============================] - 0s 1ms/step\n",
      "11/11 [==============================] - 0s 1ms/step\n",
      "11/11 [==============================] - 0s 1ms/step\n",
      "11/11 [==============================] - 0s 1ms/step\n",
      "11/11 [==============================] - 0s 1ms/step\n",
      "> 0.771\n",
      "11/11 [==============================] - 0s 1ms/step\n",
      "11/11 [==============================] - 0s 1ms/step\n",
      "11/11 [==============================] - 0s 1ms/step\n",
      "11/11 [==============================] - 0s 1ms/step\n",
      "11/11 [==============================] - 0s 1ms/step\n",
      "> 0.769\n",
      "11/11 [==============================] - 0s 1ms/step\n",
      "11/11 [==============================] - 0s 1ms/step\n",
      "11/11 [==============================] - 0s 1ms/step\n",
      "11/11 [==============================] - 0s 1ms/step\n",
      "11/11 [==============================] - 0s 1ms/step\n",
      "> 0.766\n",
      "11/11 [==============================] - 0s 1ms/step\n",
      "11/11 [==============================] - 0s 1ms/step\n",
      "11/11 [==============================] - 0s 1ms/step\n",
      "11/11 [==============================] - 0s 1ms/step\n",
      "11/11 [==============================] - 0s 1ms/step\n",
      "> 0.760\n",
      "11/11 [==============================] - 0s 1ms/step\n",
      "11/11 [==============================] - 0s 1ms/step\n",
      "11/11 [==============================] - 0s 1ms/step\n",
      "11/11 [==============================] - 0s 1ms/step\n",
      "11/11 [==============================] - 0s 1ms/step\n",
      "> 0.766\n",
      "11/11 [==============================] - 0s 2ms/step\n",
      "11/11 [==============================] - 0s 1ms/step\n",
      "11/11 [==============================] - 0s 2ms/step\n",
      "11/11 [==============================] - 0s 1ms/step\n",
      "11/11 [==============================] - 0s 1ms/step\n",
      "> 0.760\n",
      "11/11 [==============================] - 0s 2ms/step\n",
      "11/11 [==============================] - 0s 1ms/step\n",
      "11/11 [==============================] - 0s 1ms/step\n",
      "11/11 [==============================] - 0s 1ms/step\n",
      "11/11 [==============================] - 0s 1ms/step\n",
      "> 0.763\n",
      "11/11 [==============================] - 0s 1ms/step\n",
      "11/11 [==============================] - 0s 1ms/step\n",
      "11/11 [==============================] - 0s 1ms/step\n",
      "11/11 [==============================] - 0s 1ms/step\n",
      "11/11 [==============================] - 0s 2ms/step\n",
      "> 0.771\n",
      "11/11 [==============================] - 0s 1ms/step\n",
      "11/11 [==============================] - 0s 1ms/step\n",
      "11/11 [==============================] - 0s 1ms/step\n",
      "11/11 [==============================] - 0s 1ms/step\n",
      "11/11 [==============================] - 0s 1ms/step\n",
      "> 0.769\n",
      "11/11 [==============================] - 0s 2ms/step\n",
      "11/11 [==============================] - 0s 2ms/step\n",
      "11/11 [==============================] - 0s 1ms/step\n",
      "11/11 [==============================] - 0s 2ms/step\n",
      "11/11 [==============================] - 0s 1ms/step\n",
      "> 0.777\n",
      "11/11 [==============================] - 0s 1ms/step\n",
      "11/11 [==============================] - 0s 1ms/step\n",
      "11/11 [==============================] - 0s 1ms/step\n",
      "11/11 [==============================] - 0s 1ms/step\n",
      "11/11 [==============================] - 0s 1ms/step\n",
      "> 0.769\n",
      "11/11 [==============================] - 0s 1ms/step\n",
      "11/11 [==============================] - 0s 2ms/step\n",
      "11/11 [==============================] - 0s 1ms/step\n",
      "11/11 [==============================] - 0s 1ms/step\n",
      "11/11 [==============================] - 0s 1ms/step\n",
      "> 0.766\n",
      "11/11 [==============================] - 0s 2ms/step\n",
      "11/11 [==============================] - 0s 1ms/step\n",
      "11/11 [==============================] - 0s 1ms/step\n",
      "11/11 [==============================] - 0s 1ms/step\n",
      "11/11 [==============================] - 0s 1ms/step\n",
      "> 0.769\n",
      "11/11 [==============================] - 0s 2ms/step\n",
      "11/11 [==============================] - 0s 1ms/step\n",
      "11/11 [==============================] - 0s 1ms/step\n",
      "11/11 [==============================] - 0s 1ms/step\n",
      "11/11 [==============================] - 0s 1ms/step\n",
      "> 0.771\n",
      "11/11 [==============================] - 0s 2ms/step\n",
      "11/11 [==============================] - 0s 1ms/step\n",
      "11/11 [==============================] - 0s 1ms/step\n",
      "11/11 [==============================] - 0s 2ms/step\n",
      "11/11 [==============================] - 0s 2ms/step\n",
      "> 0.769\n",
      "11/11 [==============================] - 0s 1ms/step\n",
      "11/11 [==============================] - 0s 1ms/step\n",
      "11/11 [==============================] - 0s 2ms/step\n",
      "11/11 [==============================] - 0s 2ms/step\n",
      "11/11 [==============================] - 0s 2ms/step\n",
      "> 0.766\n",
      "11/11 [==============================] - 0s 2ms/step\n",
      "11/11 [==============================] - 0s 1ms/step\n",
      "11/11 [==============================] - 0s 2ms/step\n",
      "11/11 [==============================] - 0s 2ms/step\n",
      "11/11 [==============================] - 0s 2ms/step\n",
      "> 0.754\n",
      "11/11 [==============================] - 0s 2ms/step\n",
      "11/11 [==============================] - 0s 2ms/step\n",
      "11/11 [==============================] - 0s 2ms/step\n",
      "11/11 [==============================] - 0s 2ms/step\n",
      "11/11 [==============================] - 0s 2ms/step\n",
      "> 0.766\n",
      "11/11 [==============================] - 0s 1ms/step\n",
      "11/11 [==============================] - 0s 1ms/step\n",
      "11/11 [==============================] - 0s 2ms/step\n",
      "11/11 [==============================] - 0s 1ms/step\n",
      "11/11 [==============================] - 0s 2ms/step\n",
      "> 0.760\n",
      "11/11 [==============================] - 0s 1ms/step\n",
      "11/11 [==============================] - 0s 2ms/step\n",
      "11/11 [==============================] - 0s 1ms/step\n",
      "11/11 [==============================] - 0s 2ms/step\n",
      "11/11 [==============================] - 0s 2ms/step\n",
      "> 0.766\n",
      "11/11 [==============================] - 0s 1ms/step\n",
      "11/11 [==============================] - 0s 2ms/step\n",
      "11/11 [==============================] - 0s 2ms/step\n",
      "11/11 [==============================] - 0s 2ms/step\n",
      "11/11 [==============================] - 0s 1ms/step\n",
      "> 0.763\n",
      "11/11 [==============================] - 0s 2ms/step\n",
      "11/11 [==============================] - 0s 1ms/step\n",
      "11/11 [==============================] - 0s 2ms/step\n",
      "11/11 [==============================] - 0s 2ms/step\n",
      "11/11 [==============================] - 0s 1ms/step\n",
      "> 0.763\n",
      "11/11 [==============================] - 0s 1ms/step\n",
      "11/11 [==============================] - 0s 2ms/step\n",
      "11/11 [==============================] - 0s 2ms/step\n",
      "11/11 [==============================] - 0s 2ms/step\n",
      "11/11 [==============================] - 0s 2ms/step\n",
      "> 0.760\n",
      "11/11 [==============================] - 0s 1ms/step\n",
      "11/11 [==============================] - 0s 2ms/step\n",
      "11/11 [==============================] - 0s 2ms/step\n",
      "11/11 [==============================] - 0s 2ms/step\n",
      "11/11 [==============================] - 0s 2ms/step\n",
      "> 0.774\n",
      "Scores Mean: 0.766, Standard Deviation: 0.006\n"
     ]
    }
   ],
   "source": [
    "# generate 2d classification dataset\n",
    "X, y = make_blobs(n_samples=500, centers=3, n_features=2, cluster_std=2, random_state=2)\n",
    "\n",
    "# split into train and test\n",
    "n_train = int(0.3 * X.shape[0])\n",
    "trainX, testX = X[:n_train, :], X[n_train:, :]\n",
    "trainy, testy = y[:n_train], y[n_train:]\n",
    "\n",
    "trainy = to_categorical(trainy)\n",
    "\n",
    "# repeated evaluation\n",
    "n_repeats = 30\n",
    "n_members = 5\n",
    "\n",
    "scores = list()\n",
    "for _ in range(n_repeats):\n",
    "    \n",
    "    # fit all models\n",
    "    members = [fit_model(trainX, trainy) for _ in range(n_members)]\n",
    "    \n",
    "    # evaluate ensemble\n",
    "    score = evaluate_members(members, testX, testy)\n",
    "    print('> %.3f' % score)\n",
    "    scores.append(score)\n",
    "\n",
    "# summarize the distribution of scores\n",
    "print('Scores Mean: %.3f, Standard Deviation: %.3f' % (np.mean(scores), np.std(scores)))"
   ]
  },
  {
   "cell_type": "markdown",
   "id": "1665c806",
   "metadata": {},
   "source": [
    "# Case study 3: Rekurencyjne sieci neuronowe"
   ]
  },
  {
   "cell_type": "markdown",
   "id": "83da5582",
   "metadata": {},
   "source": [
    "W notebooku na _**Kaggle**_ jest pokazane jak można korzystać z gotowych **Embeddingów**. Pod koniec zajęć zacząłem pokazywać na żywym organizmie wykorzystywanie takich kagglowych notebooków. Warto zwrócić uwagę na natępujące rzeczy:\n",
    "\n",
    "1. **W pracy Data Science warto wykorzystywać gotowce** - to co ktoś zrobił: _poradniki_, _artykuły_, _**Kaggle**_\n",
    "2. **Warto testować coś najmniejszym kosztem**: zdecydowałem się na upload małych ilości danych do _**Kaggla**_ zamiast download dużych **Embeddingów** + nie musiałem wyszukiwać kawałków kodu do skopiowania; jednak podejście ze ściągnięciem embeddingów mogłoby być też efektywnym podejściem\n",
    "3. **Po takim wstępnym wykorzystaniu czyjegoś kodu warto go dobrze przetestować.** Na zajęciach nie zdążyłem dojść do tego kroku, ale ostatecznie na różny sposób sprawdziłem, czy embeddingi wczytałem i zintegrowałem dobrze. Ślady tego sprawdzania są w noteboku.\n",
    "4. **Takie działania zawsze zajmują czas, a my często go nie doszacowujemy.** Myślałem, że w pół godziny uda mi się pokazać takie zintegrowanie. Ostatecznie trwało to nawet około 1.5h, bo skończyłem około 18:00 bez porządkowania kodu.\n",
    "\n",
    "### *Zadanie dodatkowe:\n",
    "Nie czytając notebooka _\"o wykorzystaniu Embeddingów\"_ (https://www.kaggle.com/code/makowtoms/lstm-using-pretrained-embeddings) wykorzystaj notebook _\"oryginalny\"_ (https://www.kaggle.com/code/neeraj17/lstm-using-pretrained-embeddings), by wytrenować sieć na **pretrained Embedingach** z Facebooka. \n",
    "\n",
    "<details>\n",
    "<summary>Wskazówki - kliknij, by zobaczyć</summary>\n",
    "\n",
    "- Zapoznaj się z dokumentacją: https://www.tensorflow.org/api_docs/python/tf/keras/datasets/imdb/get_word_index\n",
    "\n",
    "- Możesz skorzystać z kodu bezpośrednio w dokumentacji i użyć `inverted_word_index` (odwrócona kolejność `(id, word)`) zamiast `word_index`.\n",
    "    \n",
    "</details>\n"
   ]
  },
  {
   "cell_type": "markdown",
   "id": "436fcf2a",
   "metadata": {},
   "source": [
    "### Zadanie\n",
    "\n",
    "**Na danych `imdb` (i/lub danych z załączonego notebooka `movie-review-sentiment-analysis-kernels-only`) przestestować:**\n",
    "\n",
    "1. Embeddingi tworzone w locie **_vs_** Gotowe embeddingi z notebooka https://www.kaggle.com/code/makowtoms/lstm-using-pretrained-embeddings\n",
    "\n",
    "**Następnie przetestować poniższe sieci:**\n",
    "\n",
    "2. `SimpleRNN`\n",
    "3. `LSTM` - porównaj na zbiorze testowym jakość działania modelu wziętego z najlepszej iteracji oraz modelu po zatrzymaniu uczenia\n",
    "4. `LSTM` + warstwa dense na końcu\n",
    "5. `Bidirectional LSTM`\n",
    "6. `Dwuwarstwowy LSTM`\n",
    "7. `CNN + LSTM` - przepuścić dane przez warstwę konwolucyjną (`Conv1D`) + `MaxPooling`, a następnie dołożyć `LSTM`"
   ]
  },
  {
   "cell_type": "code",
   "execution_count": 15,
   "id": "e53974c0",
   "metadata": {},
   "outputs": [],
   "source": [
    "# TODO"
   ]
  }
 ],
 "metadata": {
  "hide_input": false,
  "kernelspec": {
   "display_name": "Python 3 (ipykernel)",
   "language": "python",
   "name": "python3"
  },
  "language_info": {
   "codemirror_mode": {
    "name": "ipython",
    "version": 3
   },
   "file_extension": ".py",
   "mimetype": "text/x-python",
   "name": "python",
   "nbconvert_exporter": "python",
   "pygments_lexer": "ipython3",
   "version": "3.10.6"
  },
  "toc": {
   "base_numbering": 1,
   "nav_menu": {},
   "number_sections": true,
   "sideBar": true,
   "skip_h1_title": true,
   "title_cell": "Table of Contents",
   "title_sidebar": "Contents",
   "toc_cell": false,
   "toc_position": {},
   "toc_section_display": true,
   "toc_window_display": false
  },
  "varInspector": {
   "cols": {
    "lenName": 16,
    "lenType": 16,
    "lenVar": 40
   },
   "kernels_config": {
    "python": {
     "delete_cmd_postfix": "",
     "delete_cmd_prefix": "del ",
     "library": "var_list.py",
     "varRefreshCmd": "print(var_dic_list())"
    },
    "r": {
     "delete_cmd_postfix": ") ",
     "delete_cmd_prefix": "rm(",
     "library": "var_list.r",
     "varRefreshCmd": "cat(var_dic_list()) "
    }
   },
   "types_to_exclude": [
    "module",
    "function",
    "builtin_function_or_method",
    "instance",
    "_Feature"
   ],
   "window_display": false
  }
 },
 "nbformat": 4,
 "nbformat_minor": 5
}
