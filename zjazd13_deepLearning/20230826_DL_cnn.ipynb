{
 "cells": [
  {
   "cell_type": "markdown",
   "id": "7ac310f6",
   "metadata": {},
   "source": [
    "# Konwolucyjne sieci neuronowe - CNN\n",
    "\n",
    "https://www.youtube.com/watch?v=HGwBXDKFk9I&list=PLblh5JKOoLUIxGDQs4LFFD--41Vzf-ME1&index=14"
   ]
  },
  {
   "cell_type": "markdown",
   "id": "15cfd0a3",
   "metadata": {},
   "source": [
    "## Teoria\n",
    "\n",
    "1. **Czym jest filtr/kernel?** - macierz przykładana do wycinków obrazu (obliczamy jej konwolucję z kolejnymi fragmentami obrazu)\n",
    "\n",
    " - rozmiar filtra - zazwyczaj 3x3\n",
    " - liczba używanych filtrów (ile może ich być) - może być dużo, każdy na innym kanale; np. jeden szuka krawędzi poziomych, a drugi pionowych\n",
    " - wygląd input/output - np. przy obrazku 6x6: mamy wejście 6x6, wyjście 4x4\n",
    "\n",
    "2. **Co się dzieje z obrazkami 3D? Jak zastosować filtry?**\n",
    "Obrazek 6x6x3 -> filtr 3x3 staje się tensorem 3x3x3 i liczy jedną wartość w kolejnej warstwie, stąd output ma wymiary 4x4x1. Przy 2 filtrach (2 kanały) wymiary outputu byłyby 4x4x2.  \n",
    "\n",
    "3. **Co to padding?**\n",
    "Dodanie zerowych pikseli wokół, by zachować wielkość obrazka.\n",
    "Przeciwdziała temu, by kolejne wielkości obrazka były równe np. 7x7 -> 5x5 -> 3x3 -> 1x1\n",
    "\n",
    "4. **Co to stride?**\n",
    "Wizualizacja poniżej.\n",
    "\n",
    "5. **Co to kanały?**\n",
    "Niezależne filtry nakładane w jednej warstwie\n",
    "\n",
    "6. **Na czym jest pooling?** - z każdego fragmentu obrazu (np. 2x2) branie największej wartości (Max) lub średniej (Mean/Average).\n",
    " - 2 główne rodzaje: Max Pooling, Mean Pooling\n",
    " - typowa wielkość: 2x2"
   ]
  },
  {
   "cell_type": "markdown",
   "id": "83a15b21",
   "metadata": {},
   "source": [
    "### Parametry operacji splotowych\n",
    "\n",
    "#### Rozmiar filtra.\n",
    "\n",
    "Z reguły 3x3, w wyjątkowych sytuacjach 5x5.\n",
    "\n",
    "#### _Strides_ - wielkość kroku przesunięcia\n",
    "\n",
    "Określa dokładność z jaką chcemy skanować dane. Z reguły krok wynosi 1. Natomiast dla dużych obrazów krok większy (2 - większych raczej się nie używa, bo filtry są z reguły 3x3) przyspieszy obliczenia a model może działać tak samo dobrze.\n",
    "\n",
    "Strides = (1,1)\n",
    "\n",
    "<img src=\"Grafika/Stride1.png\" width=\"600\">\n",
    "\n",
    "Strides = (2,2)\n",
    "\n",
    "<img src=\"Grafika/Stride2.png\" width=\"600\">\n",
    "\n",
    "Źródło: https://adeshpande3.github.io/adeshpande3.github.io/A-Beginner's-Guide-To-Understanding-Convolutional-Neural-Networks-Part-2/"
   ]
  },
  {
   "cell_type": "markdown",
   "id": "5ee82d69",
   "metadata": {},
   "source": [
    "<img src=\"Grafika/conv3D.jpg\" width=\"700\">\n"
   ]
  },
  {
   "cell_type": "markdown",
   "id": "34eafe93",
   "metadata": {},
   "source": [
    "## Praktyka - obrazki 2D (szare)\n",
    "\n",
    "### Przygotowanie danych"
   ]
  },
  {
   "cell_type": "code",
   "execution_count": 2,
   "id": "b893bdb6",
   "metadata": {
    "ExecuteTime": {
     "end_time": "2023-08-26T21:40:38.331945Z",
     "start_time": "2023-08-26T21:40:38.326667Z"
    }
   },
   "outputs": [],
   "source": [
    "import numpy as np\n",
    "import pandas as pd\n",
    "import matplotlib.pyplot as plt\n",
    "\n",
    "from sklearn.model_selection import train_test_split\n",
    "from sklearn.preprocessing import StandardScaler\n",
    "from sklearn.metrics import accuracy_score"
   ]
  },
  {
   "cell_type": "code",
   "execution_count": 13,
   "id": "c9222484",
   "metadata": {
    "ExecuteTime": {
     "end_time": "2023-08-26T21:43:10.404689Z",
     "start_time": "2023-08-26T21:43:10.388940Z"
    }
   },
   "outputs": [],
   "source": [
    "from sklearn.datasets import load_digits\n",
    "\n",
    "digits = load_digits()\n",
    "X, y = digits.data, digits.target"
   ]
  },
  {
   "cell_type": "code",
   "execution_count": 14,
   "id": "4d2e1613",
   "metadata": {
    "ExecuteTime": {
     "end_time": "2023-08-26T21:43:13.215037Z",
     "start_time": "2023-08-26T21:43:13.207873Z"
    }
   },
   "outputs": [
    {
     "data": {
      "text/plain": [
       "(array([0, 1, 2, 3, 4, 5, 6, 7, 8, 9]),\n",
       " array([178, 182, 177, 183, 181, 182, 181, 179, 174, 180]))"
      ]
     },
     "execution_count": 14,
     "metadata": {},
     "output_type": "execute_result"
    }
   ],
   "source": [
    "np.unique(y, return_counts=True)"
   ]
  },
  {
   "cell_type": "code",
   "execution_count": 15,
   "id": "34f10dfe",
   "metadata": {
    "ExecuteTime": {
     "end_time": "2023-08-26T21:43:15.677189Z",
     "start_time": "2023-08-26T21:43:15.669224Z"
    },
    "scrolled": true
   },
   "outputs": [
    {
     "data": {
      "text/plain": [
       "array([[1., 0., 0., ..., 0., 0., 0.],\n",
       "       [0., 1., 0., ..., 0., 0., 0.],\n",
       "       [0., 0., 1., ..., 0., 0., 0.],\n",
       "       ...,\n",
       "       [0., 0., 0., ..., 0., 1., 0.],\n",
       "       [0., 0., 0., ..., 0., 0., 1.],\n",
       "       [0., 0., 0., ..., 0., 1., 0.]], dtype=float32)"
      ]
     },
     "execution_count": 15,
     "metadata": {},
     "output_type": "execute_result"
    }
   ],
   "source": [
    "from tensorflow.keras.utils import to_categorical\n",
    "\n",
    "y = to_categorical(y)  # one-hot encoding\n",
    "y"
   ]
  },
  {
   "cell_type": "code",
   "execution_count": 16,
   "id": "9c624243",
   "metadata": {
    "ExecuteTime": {
     "end_time": "2023-08-26T21:44:04.153773Z",
     "start_time": "2023-08-26T21:44:04.144263Z"
    }
   },
   "outputs": [],
   "source": [
    "X_train, X_test, y_train, y_test = train_test_split(X, y, test_size=300)\n",
    "\n",
    "X_train = np.array([x.reshape((8, 8, 1)) for x in X_train])\n",
    "X_test = np.array([x.reshape((8, 8, 1)) for x in X_test])\n",
    "\n",
    "X_train = X_train / 255  # skalowanie\n",
    "X_test = X_test / 255"
   ]
  },
  {
   "cell_type": "code",
   "execution_count": 17,
   "id": "d936ed07",
   "metadata": {
    "ExecuteTime": {
     "end_time": "2023-08-26T21:44:15.208971Z",
     "start_time": "2023-08-26T21:44:15.201907Z"
    }
   },
   "outputs": [
    {
     "data": {
      "text/plain": [
       "(10, array([1., 0., 0., 0., 0., 0., 0., 0., 0., 0.], dtype=float32))"
      ]
     },
     "execution_count": 17,
     "metadata": {},
     "output_type": "execute_result"
    }
   ],
   "source": [
    "n_classes = y.shape[1]\n",
    "n_classes, y[0]"
   ]
  },
  {
   "cell_type": "code",
   "execution_count": 24,
   "id": "98b851d2",
   "metadata": {
    "ExecuteTime": {
     "end_time": "2023-08-26T22:05:29.671506Z",
     "start_time": "2023-08-26T22:05:29.388800Z"
    }
   },
   "outputs": [
    {
     "data": {
      "image/png": "[encoded data removed]",
      "text/plain": [
       "<Figure size 518.4x518.4 with 12 Axes>"
      ]
     },
     "metadata": {},
     "output_type": "display_data"
    }
   ],
   "source": [
    "images = X_train[:12]\n",
    "n_col = 4\n",
    "n_row = 3\n",
    "\n",
    "plt.figure(figsize=(1.8 * n_col, 2.4 * n_row))\n",
    "plt.subplots_adjust(bottom=0, left=.01, right=.99, top=.90, hspace=.35)\n",
    "\n",
    "for i in range(n_row * n_col):\n",
    "    \n",
    "    plt.subplot(n_row, n_col, i + 1)\n",
    "    plt.imshow(images[i], cmap=plt.cm.gray)\n",
    "    plt.xticks(())\n",
    "    plt.yticks(())\n",
    "    \n",
    "plt.show()"
   ]
  },
  {
   "cell_type": "code",
   "execution_count": 25,
   "id": "21432f64",
   "metadata": {
    "ExecuteTime": {
     "end_time": "2023-08-26T22:06:22.786179Z",
     "start_time": "2023-08-26T22:06:22.778927Z"
    }
   },
   "outputs": [
    {
     "data": {
      "text/plain": [
       "array([[0., 0., 0., 0., 0., 0., 0., 0., 1., 0.],\n",
       "       [0., 0., 0., 0., 1., 0., 0., 0., 0., 0.],\n",
       "       [0., 0., 1., 0., 0., 0., 0., 0., 0., 0.],\n",
       "       [0., 0., 0., 0., 0., 0., 0., 0., 1., 0.],\n",
       "       [0., 0., 0., 1., 0., 0., 0., 0., 0., 0.],\n",
       "       [0., 0., 0., 0., 1., 0., 0., 0., 0., 0.],\n",
       "       [0., 0., 0., 0., 0., 0., 0., 1., 0., 0.],\n",
       "       [0., 1., 0., 0., 0., 0., 0., 0., 0., 0.],\n",
       "       [0., 0., 0., 0., 0., 0., 0., 0., 0., 1.],\n",
       "       [0., 0., 0., 0., 1., 0., 0., 0., 0., 0.],\n",
       "       [0., 1., 0., 0., 0., 0., 0., 0., 0., 0.],\n",
       "       [0., 1., 0., 0., 0., 0., 0., 0., 0., 0.]], dtype=float32)"
      ]
     },
     "execution_count": 25,
     "metadata": {},
     "output_type": "execute_result"
    }
   ],
   "source": [
    "y_train[:12]  # prawdziwe etykiety"
   ]
  },
  {
   "cell_type": "markdown",
   "id": "e644f802",
   "metadata": {},
   "source": [
    "### Klasyczna sieć neuronowa"
   ]
  },
  {
   "cell_type": "code",
   "execution_count": 26,
   "id": "3f13b641",
   "metadata": {
    "ExecuteTime": {
     "end_time": "2023-08-26T22:07:36.130688Z",
     "start_time": "2023-08-26T22:07:36.122269Z"
    }
   },
   "outputs": [],
   "source": [
    "from tensorflow.keras.models import Sequential\n",
    "from tensorflow.keras.layers import Dense, Flatten, Dropout\n",
    "\n",
    "from tensorflow.keras.callbacks import EarlyStopping"
   ]
  },
  {
   "cell_type": "code",
   "execution_count": 28,
   "id": "50b73e46",
   "metadata": {
    "ExecuteTime": {
     "end_time": "2023-08-26T22:09:39.215814Z",
     "start_time": "2023-08-26T22:09:39.174080Z"
    }
   },
   "outputs": [
    {
     "name": "stdout",
     "output_type": "stream",
     "text": [
      "Model: \"sequential_1\"\n",
      "_________________________________________________________________\n",
      " Layer (type)                Output Shape              Param #   \n",
      "=================================================================\n",
      " flatten_1 (Flatten)         (None, 64)                0         \n",
      "                                                                 \n",
      " dense_1 (Dense)             (None, 10)                650       \n",
      "                                                                 \n",
      "=================================================================\n",
      "Total params: 650\n",
      "Trainable params: 650\n",
      "Non-trainable params: 0\n",
      "_________________________________________________________________\n"
     ]
    }
   ],
   "source": [
    "model = Sequential()\n",
    "\n",
    "model.add(Flatten(input_shape=(8, 8, 1)))\n",
    "model.add(Dense(n_classes, activation=\"softmax\"))\n",
    "\n",
    "model.compile(loss=\"categorical_crossentropy\", optimizer=\"adam\", metrics=[\"accuracy\"])\n",
    "model.summary()"
   ]
  },
  {
   "cell_type": "code",
   "execution_count": 33,
   "id": "d25e80eb",
   "metadata": {
    "ExecuteTime": {
     "end_time": "2023-08-26T22:13:10.901784Z",
     "start_time": "2023-08-26T22:12:59.632878Z"
    }
   },
   "outputs": [
    {
     "name": "stdout",
     "output_type": "stream",
     "text": [
      "Epoch 1/100\n",
      "38/38 [==============================] - 0s 4ms/step - loss: 0.1598 - accuracy: 0.9733 - val_loss: 0.1816 - val_accuracy: 0.9633\n",
      "Epoch 2/100\n",
      "38/38 [==============================] - 0s 3ms/step - loss: 0.1597 - accuracy: 0.9733 - val_loss: 0.1814 - val_accuracy: 0.9633\n",
      "Epoch 3/100\n",
      "38/38 [==============================] - 0s 3ms/step - loss: 0.1596 - accuracy: 0.9733 - val_loss: 0.1814 - val_accuracy: 0.9633\n",
      "Epoch 4/100\n",
      "38/38 [==============================] - 0s 3ms/step - loss: 0.1595 - accuracy: 0.9733 - val_loss: 0.1813 - val_accuracy: 0.9633\n",
      "Epoch 5/100\n",
      "38/38 [==============================] - 0s 3ms/step - loss: 0.1594 - accuracy: 0.9733 - val_loss: 0.1812 - val_accuracy: 0.9633\n",
      "Epoch 6/100\n",
      "38/38 [==============================] - 0s 3ms/step - loss: 0.1593 - accuracy: 0.9733 - val_loss: 0.1811 - val_accuracy: 0.9633\n",
      "Epoch 7/100\n",
      "38/38 [==============================] - 0s 3ms/step - loss: 0.1591 - accuracy: 0.9733 - val_loss: 0.1811 - val_accuracy: 0.9633\n",
      "Epoch 8/100\n",
      "38/38 [==============================] - 0s 3ms/step - loss: 0.1590 - accuracy: 0.9733 - val_loss: 0.1811 - val_accuracy: 0.9633\n",
      "Epoch 9/100\n",
      "38/38 [==============================] - 0s 3ms/step - loss: 0.1589 - accuracy: 0.9733 - val_loss: 0.1810 - val_accuracy: 0.9633\n",
      "Epoch 10/100\n",
      "38/38 [==============================] - 0s 3ms/step - loss: 0.1588 - accuracy: 0.9733 - val_loss: 0.1808 - val_accuracy: 0.9633\n",
      "Epoch 11/100\n",
      "38/38 [==============================] - 0s 3ms/step - loss: 0.1586 - accuracy: 0.9733 - val_loss: 0.1807 - val_accuracy: 0.9633\n",
      "Epoch 12/100\n",
      "38/38 [==============================] - 0s 3ms/step - loss: 0.1585 - accuracy: 0.9733 - val_loss: 0.1808 - val_accuracy: 0.9633\n",
      "Epoch 13/100\n",
      "38/38 [==============================] - 0s 3ms/step - loss: 0.1584 - accuracy: 0.9741 - val_loss: 0.1808 - val_accuracy: 0.9633\n",
      "Epoch 14/100\n",
      "38/38 [==============================] - 0s 3ms/step - loss: 0.1583 - accuracy: 0.9741 - val_loss: 0.1806 - val_accuracy: 0.9633\n",
      "Epoch 15/100\n",
      "38/38 [==============================] - 0s 3ms/step - loss: 0.1582 - accuracy: 0.9741 - val_loss: 0.1806 - val_accuracy: 0.9633\n",
      "Epoch 16/100\n",
      "38/38 [==============================] - 0s 3ms/step - loss: 0.1581 - accuracy: 0.9741 - val_loss: 0.1804 - val_accuracy: 0.9633\n",
      "Epoch 17/100\n",
      "38/38 [==============================] - 0s 3ms/step - loss: 0.1580 - accuracy: 0.9741 - val_loss: 0.1804 - val_accuracy: 0.9633\n",
      "Epoch 18/100\n",
      "38/38 [==============================] - 0s 3ms/step - loss: 0.1579 - accuracy: 0.9733 - val_loss: 0.1802 - val_accuracy: 0.9633\n",
      "Epoch 19/100\n",
      "38/38 [==============================] - 0s 3ms/step - loss: 0.1578 - accuracy: 0.9733 - val_loss: 0.1802 - val_accuracy: 0.9633\n",
      "Epoch 20/100\n",
      "38/38 [==============================] - 0s 3ms/step - loss: 0.1576 - accuracy: 0.9733 - val_loss: 0.1799 - val_accuracy: 0.9633\n",
      "Epoch 21/100\n",
      "38/38 [==============================] - 0s 3ms/step - loss: 0.1575 - accuracy: 0.9733 - val_loss: 0.1799 - val_accuracy: 0.9633\n",
      "Epoch 22/100\n",
      "38/38 [==============================] - 0s 3ms/step - loss: 0.1574 - accuracy: 0.9733 - val_loss: 0.1798 - val_accuracy: 0.9633\n",
      "Epoch 23/100\n",
      "38/38 [==============================] - 0s 3ms/step - loss: 0.1573 - accuracy: 0.9733 - val_loss: 0.1797 - val_accuracy: 0.9633\n",
      "Epoch 24/100\n",
      "38/38 [==============================] - 0s 3ms/step - loss: 0.1571 - accuracy: 0.9733 - val_loss: 0.1796 - val_accuracy: 0.9633\n",
      "Epoch 25/100\n",
      "38/38 [==============================] - 0s 3ms/step - loss: 0.1570 - accuracy: 0.9733 - val_loss: 0.1796 - val_accuracy: 0.9633\n",
      "Epoch 26/100\n",
      "38/38 [==============================] - 0s 3ms/step - loss: 0.1569 - accuracy: 0.9733 - val_loss: 0.1795 - val_accuracy: 0.9633\n",
      "Epoch 27/100\n",
      "38/38 [==============================] - 0s 3ms/step - loss: 0.1568 - accuracy: 0.9733 - val_loss: 0.1793 - val_accuracy: 0.9633\n",
      "Epoch 28/100\n",
      "38/38 [==============================] - 0s 3ms/step - loss: 0.1567 - accuracy: 0.9733 - val_loss: 0.1794 - val_accuracy: 0.9633\n",
      "Epoch 29/100\n",
      "38/38 [==============================] - 0s 3ms/step - loss: 0.1566 - accuracy: 0.9733 - val_loss: 0.1793 - val_accuracy: 0.9633\n",
      "Epoch 30/100\n",
      "38/38 [==============================] - 0s 3ms/step - loss: 0.1565 - accuracy: 0.9733 - val_loss: 0.1792 - val_accuracy: 0.9633\n",
      "Epoch 31/100\n",
      "38/38 [==============================] - 0s 3ms/step - loss: 0.1564 - accuracy: 0.9733 - val_loss: 0.1791 - val_accuracy: 0.9633\n",
      "Epoch 32/100\n",
      "38/38 [==============================] - 0s 3ms/step - loss: 0.1563 - accuracy: 0.9733 - val_loss: 0.1789 - val_accuracy: 0.9633\n",
      "Epoch 33/100\n",
      "38/38 [==============================] - 0s 3ms/step - loss: 0.1561 - accuracy: 0.9733 - val_loss: 0.1788 - val_accuracy: 0.9633\n",
      "Epoch 34/100\n",
      "38/38 [==============================] - 0s 3ms/step - loss: 0.1561 - accuracy: 0.9733 - val_loss: 0.1787 - val_accuracy: 0.9633\n",
      "Epoch 35/100\n",
      "38/38 [==============================] - 0s 3ms/step - loss: 0.1559 - accuracy: 0.9733 - val_loss: 0.1785 - val_accuracy: 0.9633\n",
      "Epoch 36/100\n",
      "38/38 [==============================] - 0s 3ms/step - loss: 0.1558 - accuracy: 0.9733 - val_loss: 0.1785 - val_accuracy: 0.9633\n",
      "Epoch 37/100\n",
      "38/38 [==============================] - 0s 3ms/step - loss: 0.1557 - accuracy: 0.9733 - val_loss: 0.1784 - val_accuracy: 0.9633\n",
      "Epoch 38/100\n",
      "38/38 [==============================] - 0s 3ms/step - loss: 0.1556 - accuracy: 0.9733 - val_loss: 0.1785 - val_accuracy: 0.9633\n",
      "Epoch 39/100\n",
      "38/38 [==============================] - 0s 3ms/step - loss: 0.1555 - accuracy: 0.9741 - val_loss: 0.1784 - val_accuracy: 0.9633\n",
      "Epoch 40/100\n",
      "38/38 [==============================] - 0s 3ms/step - loss: 0.1554 - accuracy: 0.9741 - val_loss: 0.1783 - val_accuracy: 0.9633\n",
      "Epoch 41/100\n",
      "38/38 [==============================] - 0s 3ms/step - loss: 0.1553 - accuracy: 0.9741 - val_loss: 0.1783 - val_accuracy: 0.9633\n",
      "Epoch 42/100\n",
      "38/38 [==============================] - 0s 3ms/step - loss: 0.1551 - accuracy: 0.9733 - val_loss: 0.1781 - val_accuracy: 0.9633\n",
      "Epoch 43/100\n",
      "38/38 [==============================] - 0s 3ms/step - loss: 0.1551 - accuracy: 0.9741 - val_loss: 0.1781 - val_accuracy: 0.9633\n",
      "Epoch 44/100\n",
      "38/38 [==============================] - 0s 3ms/step - loss: 0.1550 - accuracy: 0.9741 - val_loss: 0.1780 - val_accuracy: 0.9633\n",
      "Epoch 45/100\n",
      "38/38 [==============================] - 0s 3ms/step - loss: 0.1548 - accuracy: 0.9741 - val_loss: 0.1778 - val_accuracy: 0.9633\n",
      "Epoch 46/100\n",
      "38/38 [==============================] - 0s 3ms/step - loss: 0.1547 - accuracy: 0.9741 - val_loss: 0.1779 - val_accuracy: 0.9633\n",
      "Epoch 47/100\n",
      "38/38 [==============================] - 0s 3ms/step - loss: 0.1546 - accuracy: 0.9741 - val_loss: 0.1778 - val_accuracy: 0.9633\n",
      "Epoch 48/100\n",
      "38/38 [==============================] - 0s 3ms/step - loss: 0.1545 - accuracy: 0.9733 - val_loss: 0.1777 - val_accuracy: 0.9633\n",
      "Epoch 49/100\n",
      "38/38 [==============================] - 0s 3ms/step - loss: 0.1544 - accuracy: 0.9741 - val_loss: 0.1776 - val_accuracy: 0.9633\n",
      "Epoch 50/100\n",
      "38/38 [==============================] - 0s 3ms/step - loss: 0.1543 - accuracy: 0.9741 - val_loss: 0.1775 - val_accuracy: 0.9633\n",
      "Epoch 51/100\n",
      "38/38 [==============================] - 0s 3ms/step - loss: 0.1542 - accuracy: 0.9741 - val_loss: 0.1775 - val_accuracy: 0.9633\n",
      "Epoch 52/100\n",
      "38/38 [==============================] - 0s 3ms/step - loss: 0.1541 - accuracy: 0.9741 - val_loss: 0.1773 - val_accuracy: 0.9633\n",
      "Epoch 53/100\n",
      "38/38 [==============================] - 0s 3ms/step - loss: 0.1539 - accuracy: 0.9733 - val_loss: 0.1771 - val_accuracy: 0.9633\n",
      "Epoch 54/100\n",
      "38/38 [==============================] - 0s 3ms/step - loss: 0.1539 - accuracy: 0.9741 - val_loss: 0.1772 - val_accuracy: 0.9633\n",
      "Epoch 55/100\n",
      "38/38 [==============================] - 0s 3ms/step - loss: 0.1537 - accuracy: 0.9741 - val_loss: 0.1769 - val_accuracy: 0.9633\n",
      "Epoch 56/100\n",
      "38/38 [==============================] - 0s 3ms/step - loss: 0.1537 - accuracy: 0.9741 - val_loss: 0.1769 - val_accuracy: 0.9633\n",
      "Epoch 57/100\n",
      "38/38 [==============================] - 0s 3ms/step - loss: 0.1535 - accuracy: 0.9741 - val_loss: 0.1769 - val_accuracy: 0.9633\n",
      "Epoch 58/100\n",
      "38/38 [==============================] - 0s 3ms/step - loss: 0.1534 - accuracy: 0.9733 - val_loss: 0.1767 - val_accuracy: 0.9633\n"
     ]
    },
    {
     "name": "stdout",
     "output_type": "stream",
     "text": [
      "Epoch 59/100\n",
      "38/38 [==============================] - 0s 3ms/step - loss: 0.1533 - accuracy: 0.9741 - val_loss: 0.1766 - val_accuracy: 0.9633\n",
      "Epoch 60/100\n",
      "38/38 [==============================] - 0s 3ms/step - loss: 0.1532 - accuracy: 0.9733 - val_loss: 0.1765 - val_accuracy: 0.9633\n",
      "Epoch 61/100\n",
      "38/38 [==============================] - 0s 3ms/step - loss: 0.1531 - accuracy: 0.9741 - val_loss: 0.1766 - val_accuracy: 0.9633\n",
      "Epoch 62/100\n",
      "38/38 [==============================] - 0s 3ms/step - loss: 0.1530 - accuracy: 0.9741 - val_loss: 0.1766 - val_accuracy: 0.9633\n",
      "Epoch 63/100\n",
      "38/38 [==============================] - 0s 3ms/step - loss: 0.1529 - accuracy: 0.9741 - val_loss: 0.1764 - val_accuracy: 0.9633\n",
      "Epoch 64/100\n",
      "38/38 [==============================] - 0s 3ms/step - loss: 0.1528 - accuracy: 0.9741 - val_loss: 0.1765 - val_accuracy: 0.9633\n",
      "Epoch 65/100\n",
      "38/38 [==============================] - 0s 3ms/step - loss: 0.1527 - accuracy: 0.9741 - val_loss: 0.1765 - val_accuracy: 0.9633\n",
      "Epoch 66/100\n",
      "38/38 [==============================] - 0s 3ms/step - loss: 0.1526 - accuracy: 0.9741 - val_loss: 0.1763 - val_accuracy: 0.9633\n",
      "Epoch 67/100\n",
      "38/38 [==============================] - 0s 3ms/step - loss: 0.1525 - accuracy: 0.9749 - val_loss: 0.1763 - val_accuracy: 0.9633\n",
      "Epoch 68/100\n",
      "38/38 [==============================] - 0s 3ms/step - loss: 0.1523 - accuracy: 0.9749 - val_loss: 0.1762 - val_accuracy: 0.9633\n",
      "Epoch 69/100\n",
      "38/38 [==============================] - 0s 3ms/step - loss: 0.1522 - accuracy: 0.9749 - val_loss: 0.1761 - val_accuracy: 0.9633\n",
      "Epoch 70/100\n",
      "38/38 [==============================] - 0s 3ms/step - loss: 0.1522 - accuracy: 0.9749 - val_loss: 0.1762 - val_accuracy: 0.9633\n",
      "Epoch 71/100\n",
      "38/38 [==============================] - 0s 3ms/step - loss: 0.1521 - accuracy: 0.9758 - val_loss: 0.1761 - val_accuracy: 0.9633\n",
      "Epoch 72/100\n",
      "38/38 [==============================] - 0s 3ms/step - loss: 0.1520 - accuracy: 0.9749 - val_loss: 0.1760 - val_accuracy: 0.9633\n",
      "Epoch 73/100\n",
      "38/38 [==============================] - 0s 3ms/step - loss: 0.1518 - accuracy: 0.9749 - val_loss: 0.1758 - val_accuracy: 0.9633\n",
      "Epoch 74/100\n",
      "38/38 [==============================] - 0s 3ms/step - loss: 0.1517 - accuracy: 0.9749 - val_loss: 0.1758 - val_accuracy: 0.9633\n",
      "Epoch 75/100\n",
      "38/38 [==============================] - 0s 3ms/step - loss: 0.1516 - accuracy: 0.9741 - val_loss: 0.1757 - val_accuracy: 0.9633\n",
      "Epoch 76/100\n",
      "38/38 [==============================] - 0s 3ms/step - loss: 0.1515 - accuracy: 0.9741 - val_loss: 0.1755 - val_accuracy: 0.9633\n",
      "Epoch 77/100\n",
      "38/38 [==============================] - 0s 3ms/step - loss: 0.1514 - accuracy: 0.9741 - val_loss: 0.1755 - val_accuracy: 0.9633\n",
      "Epoch 78/100\n",
      "38/38 [==============================] - 0s 3ms/step - loss: 0.1513 - accuracy: 0.9749 - val_loss: 0.1755 - val_accuracy: 0.9633\n",
      "Epoch 79/100\n",
      "38/38 [==============================] - 0s 3ms/step - loss: 0.1512 - accuracy: 0.9749 - val_loss: 0.1754 - val_accuracy: 0.9633\n",
      "Epoch 80/100\n",
      "38/38 [==============================] - 0s 3ms/step - loss: 0.1511 - accuracy: 0.9741 - val_loss: 0.1752 - val_accuracy: 0.9633\n",
      "Epoch 81/100\n",
      "38/38 [==============================] - 0s 3ms/step - loss: 0.1510 - accuracy: 0.9749 - val_loss: 0.1751 - val_accuracy: 0.9633\n",
      "Epoch 82/100\n",
      "38/38 [==============================] - 0s 3ms/step - loss: 0.1509 - accuracy: 0.9749 - val_loss: 0.1751 - val_accuracy: 0.9633\n",
      "Epoch 83/100\n",
      "38/38 [==============================] - 0s 3ms/step - loss: 0.1508 - accuracy: 0.9741 - val_loss: 0.1749 - val_accuracy: 0.9633\n",
      "Epoch 84/100\n",
      "38/38 [==============================] - 0s 3ms/step - loss: 0.1507 - accuracy: 0.9741 - val_loss: 0.1748 - val_accuracy: 0.9633\n",
      "Epoch 85/100\n",
      "38/38 [==============================] - 0s 3ms/step - loss: 0.1506 - accuracy: 0.9741 - val_loss: 0.1748 - val_accuracy: 0.9633\n",
      "Epoch 86/100\n",
      "38/38 [==============================] - 0s 3ms/step - loss: 0.1505 - accuracy: 0.9741 - val_loss: 0.1747 - val_accuracy: 0.9633\n",
      "Epoch 87/100\n",
      "38/38 [==============================] - 0s 3ms/step - loss: 0.1504 - accuracy: 0.9749 - val_loss: 0.1747 - val_accuracy: 0.9633\n",
      "Epoch 88/100\n",
      "38/38 [==============================] - 0s 3ms/step - loss: 0.1503 - accuracy: 0.9749 - val_loss: 0.1746 - val_accuracy: 0.9633\n",
      "Epoch 89/100\n",
      "38/38 [==============================] - 0s 3ms/step - loss: 0.1502 - accuracy: 0.9741 - val_loss: 0.1745 - val_accuracy: 0.9633\n",
      "Epoch 90/100\n",
      "38/38 [==============================] - 0s 3ms/step - loss: 0.1500 - accuracy: 0.9749 - val_loss: 0.1745 - val_accuracy: 0.9633\n",
      "Epoch 91/100\n",
      "38/38 [==============================] - 0s 3ms/step - loss: 0.1500 - accuracy: 0.9749 - val_loss: 0.1744 - val_accuracy: 0.9633\n",
      "Epoch 92/100\n",
      "38/38 [==============================] - 0s 3ms/step - loss: 0.1498 - accuracy: 0.9749 - val_loss: 0.1744 - val_accuracy: 0.9633\n",
      "Epoch 93/100\n",
      "38/38 [==============================] - 0s 3ms/step - loss: 0.1497 - accuracy: 0.9749 - val_loss: 0.1743 - val_accuracy: 0.9633\n",
      "Epoch 94/100\n",
      "38/38 [==============================] - 0s 3ms/step - loss: 0.1497 - accuracy: 0.9749 - val_loss: 0.1741 - val_accuracy: 0.9633\n",
      "Epoch 95/100\n",
      "38/38 [==============================] - 0s 3ms/step - loss: 0.1496 - accuracy: 0.9749 - val_loss: 0.1740 - val_accuracy: 0.9633\n",
      "Epoch 96/100\n",
      "38/38 [==============================] - 0s 3ms/step - loss: 0.1495 - accuracy: 0.9749 - val_loss: 0.1741 - val_accuracy: 0.9633\n",
      "Epoch 97/100\n",
      "38/38 [==============================] - 0s 3ms/step - loss: 0.1494 - accuracy: 0.9749 - val_loss: 0.1738 - val_accuracy: 0.9633\n",
      "Epoch 98/100\n",
      "38/38 [==============================] - 0s 3ms/step - loss: 0.1492 - accuracy: 0.9749 - val_loss: 0.1738 - val_accuracy: 0.9633\n",
      "Epoch 99/100\n",
      "38/38 [==============================] - 0s 3ms/step - loss: 0.1492 - accuracy: 0.9758 - val_loss: 0.1737 - val_accuracy: 0.9633\n",
      "Epoch 100/100\n",
      "38/38 [==============================] - 0s 3ms/step - loss: 0.1491 - accuracy: 0.9758 - val_loss: 0.1737 - val_accuracy: 0.9633\n"
     ]
    },
    {
     "data": {
      "text/plain": [
       "<keras.callbacks.History at 0x7f094863b2b0>"
      ]
     },
     "execution_count": 33,
     "metadata": {},
     "output_type": "execute_result"
    }
   ],
   "source": [
    "early_stopping = EarlyStopping(patience=3, restore_best_weights=True)\n",
    "\n",
    "model.fit(X_train, y_train, callbacks=[early_stopping], epochs=100, validation_split=0.2)"
   ]
  },
  {
   "cell_type": "code",
   "execution_count": 34,
   "id": "f4ec2cd8",
   "metadata": {
    "ExecuteTime": {
     "end_time": "2023-08-26T22:13:13.513113Z",
     "start_time": "2023-08-26T22:13:13.420721Z"
    }
   },
   "outputs": [
    {
     "name": "stdout",
     "output_type": "stream",
     "text": [
      "10/10 [==============================] - 0s 2ms/step - loss: 0.1792 - accuracy: 0.9600\n"
     ]
    },
    {
     "data": {
      "text/plain": [
       "[0.17915652692317963, 0.9599999785423279]"
      ]
     },
     "execution_count": 34,
     "metadata": {},
     "output_type": "execute_result"
    }
   ],
   "source": [
    "model.evaluate(X_test, y_test)"
   ]
  },
  {
   "cell_type": "markdown",
   "id": "4934796f",
   "metadata": {},
   "source": [
    "## Sieć konwolucyjna"
   ]
  },
  {
   "cell_type": "code",
   "execution_count": 35,
   "id": "48c553b7",
   "metadata": {
    "ExecuteTime": {
     "end_time": "2023-08-26T22:14:33.588492Z",
     "start_time": "2023-08-26T22:14:33.584447Z"
    }
   },
   "outputs": [],
   "source": [
    "from tensorflow.keras.layers import Conv2D, MaxPooling2D"
   ]
  },
  {
   "cell_type": "code",
   "execution_count": 37,
   "id": "04f6d19b",
   "metadata": {
    "ExecuteTime": {
     "end_time": "2023-08-26T22:15:18.428395Z",
     "start_time": "2023-08-26T22:15:18.421434Z"
    }
   },
   "outputs": [],
   "source": [
    "?Conv2D"
   ]
  },
  {
   "cell_type": "code",
   "execution_count": 36,
   "id": "494454d5",
   "metadata": {
    "ExecuteTime": {
     "end_time": "2023-08-26T22:14:35.399771Z",
     "start_time": "2023-08-26T22:14:35.350770Z"
    }
   },
   "outputs": [],
   "source": [
    "?MaxPooling2D"
   ]
  },
  {
   "cell_type": "code",
   "execution_count": 38,
   "id": "1b7f27fb",
   "metadata": {
    "ExecuteTime": {
     "end_time": "2023-08-26T22:15:51.877422Z",
     "start_time": "2023-08-26T22:15:51.781986Z"
    },
    "scrolled": true
   },
   "outputs": [
    {
     "name": "stdout",
     "output_type": "stream",
     "text": [
      "Model: \"sequential_2\"\n",
      "_________________________________________________________________\n",
      " Layer (type)                Output Shape              Param #   \n",
      "=================================================================\n",
      " conv2d (Conv2D)             (None, 6, 6, 10)          100       \n",
      "                                                                 \n",
      " flatten_2 (Flatten)         (None, 360)               0         \n",
      "                                                                 \n",
      " dense_2 (Dense)             (None, 10)                3610      \n",
      "                                                                 \n",
      "=================================================================\n",
      "Total params: 3,710\n",
      "Trainable params: 3,710\n",
      "Non-trainable params: 0\n",
      "_________________________________________________________________\n"
     ]
    }
   ],
   "source": [
    "model = Sequential()\n",
    "\n",
    "model.add(Conv2D(filters=10, kernel_size=3, activation='relu', input_shape=(8, 8, 1)))\n",
    "model.add(Flatten())\n",
    "model.add(Dense(n_classes, activation='softmax'))\n",
    "\n",
    "model.compile(loss='categorical_crossentropy', optimizer=\"adam\", metrics=['categorical_accuracy'])\n",
    "model.summary()"
   ]
  },
  {
   "cell_type": "code",
   "execution_count": 39,
   "id": "d7cd4514",
   "metadata": {
    "ExecuteTime": {
     "end_time": "2023-08-26T22:17:50.002248Z",
     "start_time": "2023-08-26T22:17:40.608229Z"
    }
   },
   "outputs": [
    {
     "name": "stdout",
     "output_type": "stream",
     "text": [
      "Epoch 1/100\n",
      "75/75 [==============================] - 1s 4ms/step - loss: 2.2794 - categorical_accuracy: 0.3166 - val_loss: 2.2366 - val_categorical_accuracy: 0.6633\n",
      "Epoch 2/100\n",
      "75/75 [==============================] - 0s 3ms/step - loss: 2.1673 - categorical_accuracy: 0.6349 - val_loss: 2.0752 - val_categorical_accuracy: 0.7833\n",
      "Epoch 3/100\n",
      "75/75 [==============================] - 0s 3ms/step - loss: 1.9587 - categorical_accuracy: 0.7794 - val_loss: 1.8187 - val_categorical_accuracy: 0.8533\n",
      "Epoch 4/100\n",
      "75/75 [==============================] - 0s 3ms/step - loss: 1.6660 - categorical_accuracy: 0.8346 - val_loss: 1.4951 - val_categorical_accuracy: 0.8900\n",
      "Epoch 5/100\n",
      "75/75 [==============================] - 0s 3ms/step - loss: 1.3472 - categorical_accuracy: 0.8797 - val_loss: 1.1973 - val_categorical_accuracy: 0.9033\n",
      "Epoch 6/100\n",
      "75/75 [==============================] - 0s 3ms/step - loss: 1.0712 - categorical_accuracy: 0.8855 - val_loss: 0.9477 - val_categorical_accuracy: 0.9267\n",
      "Epoch 7/100\n",
      "75/75 [==============================] - 0s 3ms/step - loss: 0.8611 - categorical_accuracy: 0.8947 - val_loss: 0.7667 - val_categorical_accuracy: 0.9133\n",
      "Epoch 8/100\n",
      "75/75 [==============================] - 0s 3ms/step - loss: 0.7120 - categorical_accuracy: 0.8997 - val_loss: 0.6389 - val_categorical_accuracy: 0.9300\n",
      "Epoch 9/100\n",
      "75/75 [==============================] - 0s 3ms/step - loss: 0.6029 - categorical_accuracy: 0.9056 - val_loss: 0.5546 - val_categorical_accuracy: 0.9367\n",
      "Epoch 10/100\n",
      "75/75 [==============================] - 0s 3ms/step - loss: 0.5265 - categorical_accuracy: 0.9039 - val_loss: 0.4865 - val_categorical_accuracy: 0.9200\n",
      "Epoch 11/100\n",
      "75/75 [==============================] - 0s 3ms/step - loss: 0.4689 - categorical_accuracy: 0.9123 - val_loss: 0.4412 - val_categorical_accuracy: 0.9300\n",
      "Epoch 12/100\n",
      "75/75 [==============================] - 0s 3ms/step - loss: 0.4256 - categorical_accuracy: 0.9140 - val_loss: 0.4012 - val_categorical_accuracy: 0.9333\n",
      "Epoch 13/100\n",
      "75/75 [==============================] - 0s 3ms/step - loss: 0.3912 - categorical_accuracy: 0.9165 - val_loss: 0.3703 - val_categorical_accuracy: 0.9367\n",
      "Epoch 14/100\n",
      "75/75 [==============================] - 0s 3ms/step - loss: 0.3636 - categorical_accuracy: 0.9265 - val_loss: 0.3434 - val_categorical_accuracy: 0.9400\n",
      "Epoch 15/100\n",
      "75/75 [==============================] - 0s 3ms/step - loss: 0.3363 - categorical_accuracy: 0.9265 - val_loss: 0.3222 - val_categorical_accuracy: 0.9467\n",
      "Epoch 16/100\n",
      "75/75 [==============================] - 0s 3ms/step - loss: 0.3168 - categorical_accuracy: 0.9315 - val_loss: 0.3077 - val_categorical_accuracy: 0.9400\n",
      "Epoch 17/100\n",
      "75/75 [==============================] - 0s 3ms/step - loss: 0.2998 - categorical_accuracy: 0.9332 - val_loss: 0.2960 - val_categorical_accuracy: 0.9400\n",
      "Epoch 18/100\n",
      "75/75 [==============================] - 0s 3ms/step - loss: 0.2866 - categorical_accuracy: 0.9315 - val_loss: 0.2779 - val_categorical_accuracy: 0.9467\n",
      "Epoch 19/100\n",
      "75/75 [==============================] - 0s 3ms/step - loss: 0.2702 - categorical_accuracy: 0.9398 - val_loss: 0.2656 - val_categorical_accuracy: 0.9433\n",
      "Epoch 20/100\n",
      "75/75 [==============================] - 0s 3ms/step - loss: 0.2599 - categorical_accuracy: 0.9390 - val_loss: 0.2640 - val_categorical_accuracy: 0.9367\n",
      "Epoch 21/100\n",
      "75/75 [==============================] - 0s 3ms/step - loss: 0.2477 - categorical_accuracy: 0.9373 - val_loss: 0.2462 - val_categorical_accuracy: 0.9500\n",
      "Epoch 22/100\n",
      "75/75 [==============================] - 0s 3ms/step - loss: 0.2385 - categorical_accuracy: 0.9449 - val_loss: 0.2437 - val_categorical_accuracy: 0.9433\n",
      "Epoch 23/100\n",
      "75/75 [==============================] - 0s 3ms/step - loss: 0.2290 - categorical_accuracy: 0.9499 - val_loss: 0.2363 - val_categorical_accuracy: 0.9433\n",
      "Epoch 24/100\n",
      "75/75 [==============================] - 0s 3ms/step - loss: 0.2210 - categorical_accuracy: 0.9499 - val_loss: 0.2264 - val_categorical_accuracy: 0.9400\n",
      "Epoch 25/100\n",
      "75/75 [==============================] - 0s 3ms/step - loss: 0.2141 - categorical_accuracy: 0.9490 - val_loss: 0.2245 - val_categorical_accuracy: 0.9433\n",
      "Epoch 26/100\n",
      "75/75 [==============================] - 0s 3ms/step - loss: 0.2085 - categorical_accuracy: 0.9507 - val_loss: 0.2200 - val_categorical_accuracy: 0.9433\n",
      "Epoch 27/100\n",
      "75/75 [==============================] - 0s 3ms/step - loss: 0.2006 - categorical_accuracy: 0.9574 - val_loss: 0.2164 - val_categorical_accuracy: 0.9467\n",
      "Epoch 28/100\n",
      "75/75 [==============================] - 0s 3ms/step - loss: 0.1955 - categorical_accuracy: 0.9566 - val_loss: 0.2092 - val_categorical_accuracy: 0.9500\n",
      "Epoch 29/100\n",
      "75/75 [==============================] - 0s 3ms/step - loss: 0.1908 - categorical_accuracy: 0.9532 - val_loss: 0.2055 - val_categorical_accuracy: 0.9500\n",
      "Epoch 30/100\n",
      "75/75 [==============================] - 0s 3ms/step - loss: 0.1854 - categorical_accuracy: 0.9641 - val_loss: 0.2026 - val_categorical_accuracy: 0.9433\n",
      "Epoch 31/100\n",
      "75/75 [==============================] - 0s 3ms/step - loss: 0.1813 - categorical_accuracy: 0.9582 - val_loss: 0.1984 - val_categorical_accuracy: 0.9500\n",
      "Epoch 32/100\n",
      "75/75 [==============================] - 0s 3ms/step - loss: 0.1737 - categorical_accuracy: 0.9632 - val_loss: 0.1909 - val_categorical_accuracy: 0.9533\n",
      "Epoch 33/100\n",
      "75/75 [==============================] - 0s 3ms/step - loss: 0.1711 - categorical_accuracy: 0.9591 - val_loss: 0.1940 - val_categorical_accuracy: 0.9567\n",
      "Epoch 34/100\n",
      "75/75 [==============================] - 0s 3ms/step - loss: 0.1664 - categorical_accuracy: 0.9641 - val_loss: 0.1889 - val_categorical_accuracy: 0.9467\n",
      "Epoch 35/100\n",
      "75/75 [==============================] - 0s 3ms/step - loss: 0.1657 - categorical_accuracy: 0.9649 - val_loss: 0.1888 - val_categorical_accuracy: 0.9500\n",
      "Epoch 36/100\n",
      "75/75 [==============================] - 0s 3ms/step - loss: 0.1618 - categorical_accuracy: 0.9649 - val_loss: 0.1895 - val_categorical_accuracy: 0.9500\n",
      "Epoch 37/100\n",
      "75/75 [==============================] - 0s 3ms/step - loss: 0.1556 - categorical_accuracy: 0.9674 - val_loss: 0.1831 - val_categorical_accuracy: 0.9500\n",
      "Epoch 38/100\n",
      "75/75 [==============================] - 0s 3ms/step - loss: 0.1542 - categorical_accuracy: 0.9683 - val_loss: 0.1811 - val_categorical_accuracy: 0.9567\n",
      "Epoch 39/100\n",
      "75/75 [==============================] - 0s 3ms/step - loss: 0.1492 - categorical_accuracy: 0.9724 - val_loss: 0.1824 - val_categorical_accuracy: 0.9533\n",
      "Epoch 40/100\n",
      "75/75 [==============================] - 0s 3ms/step - loss: 0.1479 - categorical_accuracy: 0.9657 - val_loss: 0.1764 - val_categorical_accuracy: 0.9500\n",
      "Epoch 41/100\n",
      "75/75 [==============================] - 0s 3ms/step - loss: 0.1450 - categorical_accuracy: 0.9666 - val_loss: 0.1809 - val_categorical_accuracy: 0.9567\n",
      "Epoch 42/100\n",
      "75/75 [==============================] - 0s 3ms/step - loss: 0.1428 - categorical_accuracy: 0.9666 - val_loss: 0.1758 - val_categorical_accuracy: 0.9533\n",
      "Epoch 43/100\n",
      "75/75 [==============================] - 0s 3ms/step - loss: 0.1411 - categorical_accuracy: 0.9657 - val_loss: 0.1799 - val_categorical_accuracy: 0.9533\n",
      "Epoch 44/100\n",
      "75/75 [==============================] - 0s 3ms/step - loss: 0.1398 - categorical_accuracy: 0.9683 - val_loss: 0.1819 - val_categorical_accuracy: 0.9567\n",
      "Epoch 45/100\n",
      "75/75 [==============================] - 0s 3ms/step - loss: 0.1350 - categorical_accuracy: 0.9666 - val_loss: 0.1761 - val_categorical_accuracy: 0.9633\n"
     ]
    },
    {
     "data": {
      "text/plain": [
       "<keras.callbacks.History at 0x7f09487428f0>"
      ]
     },
     "execution_count": 39,
     "metadata": {},
     "output_type": "execute_result"
    }
   ],
   "source": [
    "early_stopping = EarlyStopping(patience=3, monitor=\"val_loss\", restore_best_weights=True)\n",
    "\n",
    "model.fit(X_train, y_train, validation_split=0.2, epochs=100, callbacks=[early_stopping], batch_size=16)"
   ]
  },
  {
   "cell_type": "code",
   "execution_count": 40,
   "id": "6ea5aa48",
   "metadata": {
    "ExecuteTime": {
     "end_time": "2023-08-26T22:18:25.284309Z",
     "start_time": "2023-08-26T22:18:25.204791Z"
    }
   },
   "outputs": [
    {
     "data": {
      "text/plain": [
       "[0.16939181089401245, 0.95333331823349]"
      ]
     },
     "execution_count": 40,
     "metadata": {},
     "output_type": "execute_result"
    }
   ],
   "source": [
    "model.evaluate(X_test, y_test, verbose=0)"
   ]
  },
  {
   "cell_type": "markdown",
   "id": "831dcf48",
   "metadata": {},
   "source": [
    "### Zadanie 1 - Zbuduj sieć konwolucyjną\n",
    "- Ustaw _padding_ \"same\" - przeanalizuj `model.summary()` względem poprzedniego modelu\n",
    "- Dodaj _pooling_ po warstwie _konwolucyjnej_\n",
    "- Dodaj warstwę _gęstą_ po _flatten_"
   ]
  },
  {
   "cell_type": "code",
   "execution_count": 41,
   "id": "f6460990",
   "metadata": {
    "ExecuteTime": {
     "end_time": "2023-08-26T22:29:33.545144Z",
     "start_time": "2023-08-26T22:29:33.473364Z"
    }
   },
   "outputs": [
    {
     "name": "stdout",
     "output_type": "stream",
     "text": [
      "Model: \"sequential_3\"\n",
      "_________________________________________________________________\n",
      " Layer (type)                Output Shape              Param #   \n",
      "=================================================================\n",
      " conv2d_1 (Conv2D)           (None, 8, 8, 10)          100       \n",
      "                                                                 \n",
      " max_pooling2d (MaxPooling2D  (None, 4, 4, 10)         0         \n",
      " )                                                               \n",
      "                                                                 \n",
      " flatten_3 (Flatten)         (None, 160)               0         \n",
      "                                                                 \n",
      " dense_3 (Dense)             (None, 20)                3220      \n",
      "                                                                 \n",
      " dense_4 (Dense)             (None, 10)                210       \n",
      "                                                                 \n",
      "=================================================================\n",
      "Total params: 3,530\n",
      "Trainable params: 3,530\n",
      "Non-trainable params: 0\n",
      "_________________________________________________________________\n"
     ]
    }
   ],
   "source": [
    "model = Sequential()\n",
    "\n",
    "model.add(Conv2D(10, 3, activation='relu', input_shape=(8,8,1), padding=\"same\"))\n",
    "model.add(MaxPooling2D((2,2)))\n",
    "model.add(Flatten())\n",
    "\n",
    "# nowa warstwa gęsta (można przetestować różne f. aktywacji i liczby neuronów)\n",
    "model.add(Dense(20, activation='sigmoid'))\n",
    "model.add(Dense(n_classes, activation='softmax'))\n",
    "\n",
    "model.compile(loss='categorical_crossentropy', optimizer=\"adam\", metrics=['categorical_accuracy'])\n",
    "model.summary()"
   ]
  },
  {
   "cell_type": "code",
   "execution_count": 42,
   "id": "848062cd",
   "metadata": {
    "ExecuteTime": {
     "end_time": "2023-08-26T22:30:10.361163Z",
     "start_time": "2023-08-26T22:29:50.666570Z"
    }
   },
   "outputs": [
    {
     "name": "stdout",
     "output_type": "stream",
     "text": [
      "Epoch 1/100\n",
      "75/75 [==============================] - 1s 5ms/step - loss: 2.3944 - categorical_accuracy: 0.0961 - val_loss: 2.3198 - val_categorical_accuracy: 0.1000\n",
      "Epoch 2/100\n",
      "75/75 [==============================] - 0s 3ms/step - loss: 2.3048 - categorical_accuracy: 0.1036 - val_loss: 2.2995 - val_categorical_accuracy: 0.0900\n",
      "Epoch 3/100\n",
      "75/75 [==============================] - 0s 3ms/step - loss: 2.2931 - categorical_accuracy: 0.1328 - val_loss: 2.2890 - val_categorical_accuracy: 0.1200\n",
      "Epoch 4/100\n",
      "75/75 [==============================] - 0s 3ms/step - loss: 2.2861 - categorical_accuracy: 0.1278 - val_loss: 2.2782 - val_categorical_accuracy: 0.3133\n",
      "Epoch 5/100\n",
      "75/75 [==============================] - 0s 3ms/step - loss: 2.2713 - categorical_accuracy: 0.2439 - val_loss: 2.2630 - val_categorical_accuracy: 0.2433\n",
      "Epoch 6/100\n",
      "75/75 [==============================] - 0s 3ms/step - loss: 2.2525 - categorical_accuracy: 0.3417 - val_loss: 2.2364 - val_categorical_accuracy: 0.5667\n",
      "Epoch 7/100\n",
      "75/75 [==============================] - 0s 3ms/step - loss: 2.2238 - categorical_accuracy: 0.5280 - val_loss: 2.2027 - val_categorical_accuracy: 0.5467\n",
      "Epoch 8/100\n",
      "75/75 [==============================] - 0s 3ms/step - loss: 2.1819 - categorical_accuracy: 0.6032 - val_loss: 2.1514 - val_categorical_accuracy: 0.5667\n",
      "Epoch 9/100\n",
      "75/75 [==============================] - 0s 3ms/step - loss: 2.1207 - categorical_accuracy: 0.6057 - val_loss: 2.0795 - val_categorical_accuracy: 0.6167\n",
      "Epoch 10/100\n",
      "75/75 [==============================] - 0s 3ms/step - loss: 2.0388 - categorical_accuracy: 0.6424 - val_loss: 1.9802 - val_categorical_accuracy: 0.6567\n",
      "Epoch 11/100\n",
      "75/75 [==============================] - 0s 3ms/step - loss: 1.9323 - categorical_accuracy: 0.6508 - val_loss: 1.8609 - val_categorical_accuracy: 0.6733\n",
      "Epoch 12/100\n",
      "75/75 [==============================] - 0s 3ms/step - loss: 1.8080 - categorical_accuracy: 0.6700 - val_loss: 1.7335 - val_categorical_accuracy: 0.6967\n",
      "Epoch 13/100\n",
      "75/75 [==============================] - 0s 3ms/step - loss: 1.6741 - categorical_accuracy: 0.7043 - val_loss: 1.6023 - val_categorical_accuracy: 0.7333\n",
      "Epoch 14/100\n",
      "75/75 [==============================] - 0s 3ms/step - loss: 1.5451 - categorical_accuracy: 0.7143 - val_loss: 1.4760 - val_categorical_accuracy: 0.7667\n",
      "Epoch 15/100\n",
      "75/75 [==============================] - 0s 3ms/step - loss: 1.4217 - categorical_accuracy: 0.7619 - val_loss: 1.3584 - val_categorical_accuracy: 0.7833\n",
      "Epoch 16/100\n",
      "75/75 [==============================] - 0s 3ms/step - loss: 1.3071 - categorical_accuracy: 0.7803 - val_loss: 1.2474 - val_categorical_accuracy: 0.8233\n",
      "Epoch 17/100\n",
      "75/75 [==============================] - 0s 3ms/step - loss: 1.2078 - categorical_accuracy: 0.7920 - val_loss: 1.1549 - val_categorical_accuracy: 0.8400\n",
      "Epoch 18/100\n",
      "75/75 [==============================] - 0s 3ms/step - loss: 1.1166 - categorical_accuracy: 0.8195 - val_loss: 1.0673 - val_categorical_accuracy: 0.8467\n",
      "Epoch 19/100\n",
      "75/75 [==============================] - 0s 3ms/step - loss: 1.0352 - categorical_accuracy: 0.8321 - val_loss: 0.9924 - val_categorical_accuracy: 0.8567\n",
      "Epoch 20/100\n",
      "75/75 [==============================] - 0s 3ms/step - loss: 0.9634 - categorical_accuracy: 0.8338 - val_loss: 0.9232 - val_categorical_accuracy: 0.8733\n",
      "Epoch 21/100\n",
      "75/75 [==============================] - 0s 3ms/step - loss: 0.8986 - categorical_accuracy: 0.8538 - val_loss: 0.8644 - val_categorical_accuracy: 0.8800\n",
      "Epoch 22/100\n",
      "75/75 [==============================] - 0s 3ms/step - loss: 0.8412 - categorical_accuracy: 0.8672 - val_loss: 0.8084 - val_categorical_accuracy: 0.8967\n",
      "Epoch 23/100\n",
      "75/75 [==============================] - 0s 3ms/step - loss: 0.7861 - categorical_accuracy: 0.8780 - val_loss: 0.7645 - val_categorical_accuracy: 0.8933\n",
      "Epoch 24/100\n",
      "75/75 [==============================] - 0s 3ms/step - loss: 0.7394 - categorical_accuracy: 0.8805 - val_loss: 0.7157 - val_categorical_accuracy: 0.8933\n",
      "Epoch 25/100\n",
      "75/75 [==============================] - 0s 3ms/step - loss: 0.6951 - categorical_accuracy: 0.8830 - val_loss: 0.6801 - val_categorical_accuracy: 0.9067\n",
      "Epoch 26/100\n",
      "75/75 [==============================] - 0s 3ms/step - loss: 0.6565 - categorical_accuracy: 0.8972 - val_loss: 0.6420 - val_categorical_accuracy: 0.9033\n",
      "Epoch 27/100\n",
      "75/75 [==============================] - 0s 3ms/step - loss: 0.6212 - categorical_accuracy: 0.9023 - val_loss: 0.6048 - val_categorical_accuracy: 0.9067\n",
      "Epoch 28/100\n",
      "75/75 [==============================] - 0s 3ms/step - loss: 0.5880 - categorical_accuracy: 0.9073 - val_loss: 0.5749 - val_categorical_accuracy: 0.9133\n",
      "Epoch 29/100\n",
      "75/75 [==============================] - 0s 3ms/step - loss: 0.5584 - categorical_accuracy: 0.9123 - val_loss: 0.5467 - val_categorical_accuracy: 0.9133\n",
      "Epoch 30/100\n",
      "75/75 [==============================] - 0s 3ms/step - loss: 0.5285 - categorical_accuracy: 0.9114 - val_loss: 0.5237 - val_categorical_accuracy: 0.9200\n",
      "Epoch 31/100\n",
      "75/75 [==============================] - 0s 3ms/step - loss: 0.5050 - categorical_accuracy: 0.9173 - val_loss: 0.4981 - val_categorical_accuracy: 0.9267\n",
      "Epoch 32/100\n",
      "75/75 [==============================] - 0s 4ms/step - loss: 0.4808 - categorical_accuracy: 0.9198 - val_loss: 0.4743 - val_categorical_accuracy: 0.9200\n",
      "Epoch 33/100\n",
      "75/75 [==============================] - 0s 3ms/step - loss: 0.4587 - categorical_accuracy: 0.9190 - val_loss: 0.4542 - val_categorical_accuracy: 0.9233\n",
      "Epoch 34/100\n",
      "75/75 [==============================] - 0s 3ms/step - loss: 0.4382 - categorical_accuracy: 0.9223 - val_loss: 0.4368 - val_categorical_accuracy: 0.9233\n",
      "Epoch 35/100\n",
      "75/75 [==============================] - 0s 3ms/step - loss: 0.4202 - categorical_accuracy: 0.9265 - val_loss: 0.4191 - val_categorical_accuracy: 0.9267\n",
      "Epoch 36/100\n",
      "75/75 [==============================] - 0s 3ms/step - loss: 0.4013 - categorical_accuracy: 0.9357 - val_loss: 0.4071 - val_categorical_accuracy: 0.9267\n",
      "Epoch 37/100\n",
      "75/75 [==============================] - 0s 3ms/step - loss: 0.3848 - categorical_accuracy: 0.9332 - val_loss: 0.3910 - val_categorical_accuracy: 0.9233\n",
      "Epoch 38/100\n",
      "75/75 [==============================] - 0s 3ms/step - loss: 0.3701 - categorical_accuracy: 0.9332 - val_loss: 0.3735 - val_categorical_accuracy: 0.9300\n",
      "Epoch 39/100\n",
      "75/75 [==============================] - 0s 3ms/step - loss: 0.3569 - categorical_accuracy: 0.9415 - val_loss: 0.3618 - val_categorical_accuracy: 0.9267\n",
      "Epoch 40/100\n",
      "75/75 [==============================] - 0s 3ms/step - loss: 0.3412 - categorical_accuracy: 0.9373 - val_loss: 0.3513 - val_categorical_accuracy: 0.9233\n",
      "Epoch 41/100\n",
      "75/75 [==============================] - 0s 3ms/step - loss: 0.3289 - categorical_accuracy: 0.9424 - val_loss: 0.3390 - val_categorical_accuracy: 0.9400\n",
      "Epoch 42/100\n",
      "75/75 [==============================] - 0s 3ms/step - loss: 0.3175 - categorical_accuracy: 0.9407 - val_loss: 0.3311 - val_categorical_accuracy: 0.9433\n",
      "Epoch 43/100\n",
      "75/75 [==============================] - 0s 3ms/step - loss: 0.3056 - categorical_accuracy: 0.9407 - val_loss: 0.3229 - val_categorical_accuracy: 0.9433\n",
      "Epoch 44/100\n",
      "75/75 [==============================] - 0s 3ms/step - loss: 0.2961 - categorical_accuracy: 0.9407 - val_loss: 0.3087 - val_categorical_accuracy: 0.9333\n",
      "Epoch 45/100\n",
      "75/75 [==============================] - 0s 3ms/step - loss: 0.2864 - categorical_accuracy: 0.9490 - val_loss: 0.3043 - val_categorical_accuracy: 0.9467\n",
      "Epoch 46/100\n",
      "75/75 [==============================] - 0s 3ms/step - loss: 0.2761 - categorical_accuracy: 0.9457 - val_loss: 0.2994 - val_categorical_accuracy: 0.9433\n",
      "Epoch 47/100\n",
      "75/75 [==============================] - 0s 3ms/step - loss: 0.2673 - categorical_accuracy: 0.9457 - val_loss: 0.2908 - val_categorical_accuracy: 0.9433\n",
      "Epoch 48/100\n",
      "75/75 [==============================] - 0s 3ms/step - loss: 0.2590 - categorical_accuracy: 0.9499 - val_loss: 0.2807 - val_categorical_accuracy: 0.9400\n",
      "Epoch 49/100\n",
      "75/75 [==============================] - 0s 3ms/step - loss: 0.2519 - categorical_accuracy: 0.9490 - val_loss: 0.2729 - val_categorical_accuracy: 0.9500\n",
      "Epoch 50/100\n",
      "75/75 [==============================] - 0s 3ms/step - loss: 0.2439 - categorical_accuracy: 0.9499 - val_loss: 0.2717 - val_categorical_accuracy: 0.9500\n",
      "Epoch 51/100\n",
      "75/75 [==============================] - 0s 3ms/step - loss: 0.2378 - categorical_accuracy: 0.9557 - val_loss: 0.2608 - val_categorical_accuracy: 0.9533\n",
      "Epoch 52/100\n",
      "75/75 [==============================] - 0s 3ms/step - loss: 0.2308 - categorical_accuracy: 0.9515 - val_loss: 0.2544 - val_categorical_accuracy: 0.9533\n",
      "Epoch 53/100\n",
      "75/75 [==============================] - 0s 3ms/step - loss: 0.2238 - categorical_accuracy: 0.9541 - val_loss: 0.2523 - val_categorical_accuracy: 0.9500\n",
      "Epoch 54/100\n",
      "75/75 [==============================] - 0s 3ms/step - loss: 0.2163 - categorical_accuracy: 0.9574 - val_loss: 0.2484 - val_categorical_accuracy: 0.9467\n",
      "Epoch 55/100\n",
      "75/75 [==============================] - 0s 3ms/step - loss: 0.2109 - categorical_accuracy: 0.9582 - val_loss: 0.2429 - val_categorical_accuracy: 0.9500\n",
      "Epoch 56/100\n",
      "75/75 [==============================] - 0s 3ms/step - loss: 0.2068 - categorical_accuracy: 0.9524 - val_loss: 0.2386 - val_categorical_accuracy: 0.9467\n",
      "Epoch 57/100\n",
      "75/75 [==============================] - 0s 3ms/step - loss: 0.1992 - categorical_accuracy: 0.9616 - val_loss: 0.2271 - val_categorical_accuracy: 0.9533\n",
      "Epoch 58/100\n",
      "75/75 [==============================] - 0s 3ms/step - loss: 0.1955 - categorical_accuracy: 0.9607 - val_loss: 0.2255 - val_categorical_accuracy: 0.9533\n",
      "Epoch 59/100\n",
      "75/75 [==============================] - 0s 3ms/step - loss: 0.1889 - categorical_accuracy: 0.9616 - val_loss: 0.2203 - val_categorical_accuracy: 0.9533\n",
      "Epoch 60/100\n",
      "75/75 [==============================] - 0s 3ms/step - loss: 0.1862 - categorical_accuracy: 0.9624 - val_loss: 0.2165 - val_categorical_accuracy: 0.9533\n",
      "Epoch 61/100\n",
      "75/75 [==============================] - 0s 3ms/step - loss: 0.1810 - categorical_accuracy: 0.9616 - val_loss: 0.2152 - val_categorical_accuracy: 0.9533\n",
      "Epoch 62/100\n",
      "75/75 [==============================] - 0s 3ms/step - loss: 0.1757 - categorical_accuracy: 0.9657 - val_loss: 0.2077 - val_categorical_accuracy: 0.9567\n",
      "Epoch 63/100\n",
      "75/75 [==============================] - 0s 3ms/step - loss: 0.1711 - categorical_accuracy: 0.9657 - val_loss: 0.2078 - val_categorical_accuracy: 0.9567\n",
      "Epoch 64/100\n",
      "75/75 [==============================] - 0s 3ms/step - loss: 0.1658 - categorical_accuracy: 0.9691 - val_loss: 0.2103 - val_categorical_accuracy: 0.9533\n",
      "Epoch 65/100\n",
      "75/75 [==============================] - 0s 3ms/step - loss: 0.1646 - categorical_accuracy: 0.9666 - val_loss: 0.2016 - val_categorical_accuracy: 0.9567\n",
      "Epoch 66/100\n",
      "75/75 [==============================] - 0s 3ms/step - loss: 0.1598 - categorical_accuracy: 0.9708 - val_loss: 0.1984 - val_categorical_accuracy: 0.9567\n",
      "Epoch 67/100\n",
      "75/75 [==============================] - 0s 3ms/step - loss: 0.1561 - categorical_accuracy: 0.9699 - val_loss: 0.1939 - val_categorical_accuracy: 0.9567\n",
      "Epoch 68/100\n",
      "75/75 [==============================] - 0s 3ms/step - loss: 0.1529 - categorical_accuracy: 0.9683 - val_loss: 0.1872 - val_categorical_accuracy: 0.9600\n",
      "Epoch 69/100\n",
      "75/75 [==============================] - 0s 3ms/step - loss: 0.1489 - categorical_accuracy: 0.9708 - val_loss: 0.1891 - val_categorical_accuracy: 0.9600\n",
      "Epoch 70/100\n",
      "75/75 [==============================] - 0s 3ms/step - loss: 0.1457 - categorical_accuracy: 0.9724 - val_loss: 0.1816 - val_categorical_accuracy: 0.9567\n",
      "Epoch 71/100\n",
      "75/75 [==============================] - 0s 3ms/step - loss: 0.1432 - categorical_accuracy: 0.9683 - val_loss: 0.1801 - val_categorical_accuracy: 0.9600\n",
      "Epoch 72/100\n",
      "75/75 [==============================] - 0s 3ms/step - loss: 0.1406 - categorical_accuracy: 0.9758 - val_loss: 0.1810 - val_categorical_accuracy: 0.9567\n",
      "Epoch 73/100\n",
      "75/75 [==============================] - 0s 3ms/step - loss: 0.1361 - categorical_accuracy: 0.9741 - val_loss: 0.1747 - val_categorical_accuracy: 0.9600\n",
      "Epoch 74/100\n",
      "75/75 [==============================] - 0s 3ms/step - loss: 0.1330 - categorical_accuracy: 0.9741 - val_loss: 0.1724 - val_categorical_accuracy: 0.9600\n",
      "Epoch 75/100\n",
      "75/75 [==============================] - 0s 3ms/step - loss: 0.1300 - categorical_accuracy: 0.9758 - val_loss: 0.1720 - val_categorical_accuracy: 0.9600\n",
      "Epoch 76/100\n",
      "75/75 [==============================] - 0s 3ms/step - loss: 0.1281 - categorical_accuracy: 0.9766 - val_loss: 0.1728 - val_categorical_accuracy: 0.9567\n",
      "Epoch 77/100\n",
      "75/75 [==============================] - 0s 3ms/step - loss: 0.1248 - categorical_accuracy: 0.9774 - val_loss: 0.1692 - val_categorical_accuracy: 0.9567\n",
      "Epoch 78/100\n",
      "75/75 [==============================] - 0s 3ms/step - loss: 0.1216 - categorical_accuracy: 0.9749 - val_loss: 0.1609 - val_categorical_accuracy: 0.9600\n",
      "Epoch 79/100\n",
      "75/75 [==============================] - 0s 3ms/step - loss: 0.1207 - categorical_accuracy: 0.9758 - val_loss: 0.1638 - val_categorical_accuracy: 0.9567\n",
      "Epoch 80/100\n",
      "75/75 [==============================] - 0s 3ms/step - loss: 0.1171 - categorical_accuracy: 0.9783 - val_loss: 0.1610 - val_categorical_accuracy: 0.9600\n",
      "Epoch 81/100\n",
      "75/75 [==============================] - 0s 3ms/step - loss: 0.1139 - categorical_accuracy: 0.9783 - val_loss: 0.1658 - val_categorical_accuracy: 0.9567\n"
     ]
    },
    {
     "data": {
      "text/plain": [
       "<keras.callbacks.History at 0x7f095a9fa8c0>"
      ]
     },
     "execution_count": 42,
     "metadata": {},
     "output_type": "execute_result"
    }
   ],
   "source": [
    "early_stopping = EarlyStopping(patience=3, monitor=\"val_loss\", restore_best_weights=True)\n",
    "\n",
    "model.fit(X_train, y_train, validation_split=0.2, epochs=100, callbacks=[early_stopping], batch_size=16)"
   ]
  },
  {
   "cell_type": "code",
   "execution_count": 43,
   "id": "7f601dbb",
   "metadata": {
    "ExecuteTime": {
     "end_time": "2023-08-26T22:30:15.313604Z",
     "start_time": "2023-08-26T22:30:15.225958Z"
    }
   },
   "outputs": [
    {
     "data": {
      "text/plain": [
       "[0.1401974856853485, 0.9666666388511658]"
      ]
     },
     "execution_count": 43,
     "metadata": {},
     "output_type": "execute_result"
    }
   ],
   "source": [
    "model.evaluate(X_test, y_test, verbose=0)"
   ]
  },
  {
   "cell_type": "markdown",
   "id": "e56cd6fa",
   "metadata": {},
   "source": [
    "### Zadanie 2 - Wykorzystaj 2 warstwy konwolucyjne (po każdej użyj _pooling_)\n",
    "\n",
    "- Warto sprawdzić _accuracy_ na _X_test_ po każdej modyfikacji. Gdy zacznie rosnąć to przerwać modyfikacje w tym kierunku i szukać innych.\n",
    "- Warto również dodać i sprawdzić _regularyzację L2_ i warstwy typu _dropout_."
   ]
  },
  {
   "cell_type": "code",
   "execution_count": 44,
   "id": "308ff048",
   "metadata": {
    "ExecuteTime": {
     "end_time": "2023-08-26T22:34:01.752423Z",
     "start_time": "2023-08-26T22:34:01.645017Z"
    }
   },
   "outputs": [
    {
     "name": "stdout",
     "output_type": "stream",
     "text": [
      "Model: \"sequential_4\"\n",
      "_________________________________________________________________\n",
      " Layer (type)                Output Shape              Param #   \n",
      "=================================================================\n",
      " conv2d_2 (Conv2D)           (None, 8, 8, 16)          160       \n",
      "                                                                 \n",
      " max_pooling2d_1 (MaxPooling  (None, 4, 4, 16)         0         \n",
      " 2D)                                                             \n",
      "                                                                 \n",
      " conv2d_3 (Conv2D)           (None, 4, 4, 32)          4640      \n",
      "                                                                 \n",
      " max_pooling2d_2 (MaxPooling  (None, 2, 2, 32)         0         \n",
      " 2D)                                                             \n",
      "                                                                 \n",
      " flatten_4 (Flatten)         (None, 128)               0         \n",
      "                                                                 \n",
      " dense_5 (Dense)             (None, 20)                2580      \n",
      "                                                                 \n",
      " dense_6 (Dense)             (None, 10)                210       \n",
      "                                                                 \n",
      "=================================================================\n",
      "Total params: 7,590\n",
      "Trainable params: 7,590\n",
      "Non-trainable params: 0\n",
      "_________________________________________________________________\n"
     ]
    }
   ],
   "source": [
    "model = Sequential()\n",
    "\n",
    "# zwiększona liczba kanałów do 16 (można sprawdzić jaka liczba kanałów działa najlepiej)\n",
    "model.add(Conv2D(16, 3, activation='relu', input_shape=(8, 8, 1), padding=\"same\"))\n",
    "model.add(MaxPooling2D((2, 2)))\n",
    "\n",
    "# nowa warstwa konwolucyjna, zazwyczaj w kolejnych warstwach po poolingu liczba kanałów zwiększa się dwukrotnie\n",
    "model.add(Conv2D(32, 3, activation='relu', padding=\"same\"))\n",
    "model.add(MaxPooling2D((2, 2)))\n",
    "\n",
    "model.add(Flatten())\n",
    "\n",
    "model.add(Dense(20, activation='sigmoid'))\n",
    "model.add(Dense(n_classes, activation='softmax'))\n",
    "\n",
    "model.compile(loss='categorical_crossentropy', optimizer=\"adam\", metrics=['categorical_accuracy'])\n",
    "model.summary()"
   ]
  },
  {
   "cell_type": "code",
   "execution_count": 45,
   "id": "94b7d3db",
   "metadata": {
    "ExecuteTime": {
     "end_time": "2023-08-26T22:34:39.429040Z",
     "start_time": "2023-08-26T22:34:21.310400Z"
    }
   },
   "outputs": [
    {
     "name": "stdout",
     "output_type": "stream",
     "text": [
      "Epoch 1/100\n",
      "75/75 [==============================] - 1s 6ms/step - loss: 2.3974 - categorical_accuracy: 0.0944 - val_loss: 2.3078 - val_categorical_accuracy: 0.0967\n",
      "Epoch 2/100\n",
      "75/75 [==============================] - 0s 4ms/step - loss: 2.3035 - categorical_accuracy: 0.1220 - val_loss: 2.2987 - val_categorical_accuracy: 0.0900\n",
      "Epoch 3/100\n",
      "75/75 [==============================] - 0s 4ms/step - loss: 2.2931 - categorical_accuracy: 0.1303 - val_loss: 2.2900 - val_categorical_accuracy: 0.1467\n",
      "Epoch 4/100\n",
      "75/75 [==============================] - 0s 4ms/step - loss: 2.2773 - categorical_accuracy: 0.1504 - val_loss: 2.2601 - val_categorical_accuracy: 0.1733\n",
      "Epoch 5/100\n",
      "75/75 [==============================] - 0s 4ms/step - loss: 2.2352 - categorical_accuracy: 0.2648 - val_loss: 2.1902 - val_categorical_accuracy: 0.2933\n",
      "Epoch 6/100\n",
      "75/75 [==============================] - 0s 4ms/step - loss: 2.1197 - categorical_accuracy: 0.3617 - val_loss: 2.0335 - val_categorical_accuracy: 0.4000\n",
      "Epoch 7/100\n",
      "75/75 [==============================] - 0s 4ms/step - loss: 1.9134 - categorical_accuracy: 0.5071 - val_loss: 1.7852 - val_categorical_accuracy: 0.5567\n",
      "Epoch 8/100\n",
      "75/75 [==============================] - 0s 4ms/step - loss: 1.6837 - categorical_accuracy: 0.5923 - val_loss: 1.5722 - val_categorical_accuracy: 0.6733\n",
      "Epoch 9/100\n",
      "75/75 [==============================] - 0s 4ms/step - loss: 1.4757 - categorical_accuracy: 0.7026 - val_loss: 1.3956 - val_categorical_accuracy: 0.6100\n",
      "Epoch 10/100\n",
      "75/75 [==============================] - 0s 4ms/step - loss: 1.3004 - categorical_accuracy: 0.7502 - val_loss: 1.2260 - val_categorical_accuracy: 0.7833\n",
      "Epoch 11/100\n",
      "75/75 [==============================] - 0s 4ms/step - loss: 1.1484 - categorical_accuracy: 0.7953 - val_loss: 1.0655 - val_categorical_accuracy: 0.8167\n",
      "Epoch 12/100\n",
      "75/75 [==============================] - 0s 4ms/step - loss: 1.0182 - categorical_accuracy: 0.8221 - val_loss: 0.9690 - val_categorical_accuracy: 0.8367\n",
      "Epoch 13/100\n",
      "75/75 [==============================] - 0s 4ms/step - loss: 0.9102 - categorical_accuracy: 0.8496 - val_loss: 0.8589 - val_categorical_accuracy: 0.8567\n",
      "Epoch 14/100\n",
      "75/75 [==============================] - 0s 4ms/step - loss: 0.8171 - categorical_accuracy: 0.8747 - val_loss: 0.7666 - val_categorical_accuracy: 0.8633\n",
      "Epoch 15/100\n",
      "75/75 [==============================] - 0s 4ms/step - loss: 0.7438 - categorical_accuracy: 0.8680 - val_loss: 0.7031 - val_categorical_accuracy: 0.8667\n",
      "Epoch 16/100\n",
      "75/75 [==============================] - 0s 4ms/step - loss: 0.6748 - categorical_accuracy: 0.8864 - val_loss: 0.6470 - val_categorical_accuracy: 0.8800\n",
      "Epoch 17/100\n",
      "75/75 [==============================] - 0s 4ms/step - loss: 0.6195 - categorical_accuracy: 0.9031 - val_loss: 0.6116 - val_categorical_accuracy: 0.8767\n",
      "Epoch 18/100\n",
      "75/75 [==============================] - 0s 4ms/step - loss: 0.5772 - categorical_accuracy: 0.8997 - val_loss: 0.5525 - val_categorical_accuracy: 0.9033\n",
      "Epoch 19/100\n",
      "75/75 [==============================] - 0s 4ms/step - loss: 0.5355 - categorical_accuracy: 0.9064 - val_loss: 0.5278 - val_categorical_accuracy: 0.8967\n",
      "Epoch 20/100\n",
      "75/75 [==============================] - 0s 4ms/step - loss: 0.4997 - categorical_accuracy: 0.9165 - val_loss: 0.4927 - val_categorical_accuracy: 0.9133\n",
      "Epoch 21/100\n",
      "75/75 [==============================] - 0s 4ms/step - loss: 0.4678 - categorical_accuracy: 0.9240 - val_loss: 0.4769 - val_categorical_accuracy: 0.9033\n",
      "Epoch 22/100\n",
      "75/75 [==============================] - 0s 4ms/step - loss: 0.4430 - categorical_accuracy: 0.9206 - val_loss: 0.4404 - val_categorical_accuracy: 0.9067\n",
      "Epoch 23/100\n",
      "75/75 [==============================] - 0s 4ms/step - loss: 0.4184 - categorical_accuracy: 0.9323 - val_loss: 0.4206 - val_categorical_accuracy: 0.9167\n",
      "Epoch 24/100\n",
      "75/75 [==============================] - 0s 4ms/step - loss: 0.3969 - categorical_accuracy: 0.9315 - val_loss: 0.4105 - val_categorical_accuracy: 0.9100\n",
      "Epoch 25/100\n",
      "75/75 [==============================] - 0s 4ms/step - loss: 0.3739 - categorical_accuracy: 0.9365 - val_loss: 0.3926 - val_categorical_accuracy: 0.9167\n",
      "Epoch 26/100\n",
      "75/75 [==============================] - 0s 4ms/step - loss: 0.3563 - categorical_accuracy: 0.9407 - val_loss: 0.3853 - val_categorical_accuracy: 0.9133\n",
      "Epoch 27/100\n",
      "75/75 [==============================] - 0s 4ms/step - loss: 0.3386 - categorical_accuracy: 0.9474 - val_loss: 0.3560 - val_categorical_accuracy: 0.9200\n",
      "Epoch 28/100\n",
      "75/75 [==============================] - 0s 4ms/step - loss: 0.3226 - categorical_accuracy: 0.9407 - val_loss: 0.3416 - val_categorical_accuracy: 0.9200\n",
      "Epoch 29/100\n",
      "75/75 [==============================] - 0s 4ms/step - loss: 0.3080 - categorical_accuracy: 0.9541 - val_loss: 0.3281 - val_categorical_accuracy: 0.9233\n",
      "Epoch 30/100\n",
      "75/75 [==============================] - 0s 4ms/step - loss: 0.2953 - categorical_accuracy: 0.9482 - val_loss: 0.3212 - val_categorical_accuracy: 0.9300\n",
      "Epoch 31/100\n",
      "75/75 [==============================] - 0s 4ms/step - loss: 0.2838 - categorical_accuracy: 0.9524 - val_loss: 0.3136 - val_categorical_accuracy: 0.9233\n",
      "Epoch 32/100\n",
      "75/75 [==============================] - 0s 4ms/step - loss: 0.2687 - categorical_accuracy: 0.9549 - val_loss: 0.2981 - val_categorical_accuracy: 0.9367\n",
      "Epoch 33/100\n",
      "75/75 [==============================] - 0s 4ms/step - loss: 0.2597 - categorical_accuracy: 0.9549 - val_loss: 0.2787 - val_categorical_accuracy: 0.9400\n",
      "Epoch 34/100\n",
      "75/75 [==============================] - 0s 4ms/step - loss: 0.2490 - categorical_accuracy: 0.9582 - val_loss: 0.2882 - val_categorical_accuracy: 0.9333\n",
      "Epoch 35/100\n",
      "75/75 [==============================] - 0s 4ms/step - loss: 0.2390 - categorical_accuracy: 0.9641 - val_loss: 0.2809 - val_categorical_accuracy: 0.9367\n",
      "Epoch 36/100\n",
      "75/75 [==============================] - 0s 4ms/step - loss: 0.2347 - categorical_accuracy: 0.9582 - val_loss: 0.2665 - val_categorical_accuracy: 0.9400\n",
      "Epoch 37/100\n",
      "75/75 [==============================] - 0s 4ms/step - loss: 0.2177 - categorical_accuracy: 0.9683 - val_loss: 0.2457 - val_categorical_accuracy: 0.9333\n",
      "Epoch 38/100\n",
      "75/75 [==============================] - 0s 4ms/step - loss: 0.2081 - categorical_accuracy: 0.9699 - val_loss: 0.2551 - val_categorical_accuracy: 0.9133\n",
      "Epoch 39/100\n",
      "75/75 [==============================] - 0s 4ms/step - loss: 0.2031 - categorical_accuracy: 0.9691 - val_loss: 0.2424 - val_categorical_accuracy: 0.9333\n",
      "Epoch 40/100\n",
      "75/75 [==============================] - 0s 4ms/step - loss: 0.1956 - categorical_accuracy: 0.9691 - val_loss: 0.2358 - val_categorical_accuracy: 0.9433\n",
      "Epoch 41/100\n",
      "75/75 [==============================] - 0s 4ms/step - loss: 0.1953 - categorical_accuracy: 0.9641 - val_loss: 0.2195 - val_categorical_accuracy: 0.9367\n",
      "Epoch 42/100\n",
      "75/75 [==============================] - 0s 4ms/step - loss: 0.1827 - categorical_accuracy: 0.9666 - val_loss: 0.2129 - val_categorical_accuracy: 0.9500\n",
      "Epoch 43/100\n",
      "75/75 [==============================] - 0s 4ms/step - loss: 0.1751 - categorical_accuracy: 0.9733 - val_loss: 0.2173 - val_categorical_accuracy: 0.9433\n",
      "Epoch 44/100\n",
      "75/75 [==============================] - 0s 4ms/step - loss: 0.1695 - categorical_accuracy: 0.9733 - val_loss: 0.2131 - val_categorical_accuracy: 0.9567\n",
      "Epoch 45/100\n",
      "75/75 [==============================] - 0s 4ms/step - loss: 0.1664 - categorical_accuracy: 0.9741 - val_loss: 0.2009 - val_categorical_accuracy: 0.9400\n",
      "Epoch 46/100\n",
      "75/75 [==============================] - 0s 4ms/step - loss: 0.1578 - categorical_accuracy: 0.9774 - val_loss: 0.2071 - val_categorical_accuracy: 0.9300\n",
      "Epoch 47/100\n",
      "75/75 [==============================] - 0s 4ms/step - loss: 0.1511 - categorical_accuracy: 0.9758 - val_loss: 0.2033 - val_categorical_accuracy: 0.9467\n",
      "Epoch 48/100\n",
      "75/75 [==============================] - 0s 4ms/step - loss: 0.1472 - categorical_accuracy: 0.9766 - val_loss: 0.1898 - val_categorical_accuracy: 0.9567\n",
      "Epoch 49/100\n",
      "75/75 [==============================] - 0s 4ms/step - loss: 0.1384 - categorical_accuracy: 0.9799 - val_loss: 0.1870 - val_categorical_accuracy: 0.9533\n",
      "Epoch 50/100\n",
      "75/75 [==============================] - 0s 4ms/step - loss: 0.1359 - categorical_accuracy: 0.9791 - val_loss: 0.1758 - val_categorical_accuracy: 0.9567\n",
      "Epoch 51/100\n",
      "75/75 [==============================] - 0s 4ms/step - loss: 0.1293 - categorical_accuracy: 0.9816 - val_loss: 0.1810 - val_categorical_accuracy: 0.9567\n",
      "Epoch 52/100\n",
      "75/75 [==============================] - 0s 4ms/step - loss: 0.1249 - categorical_accuracy: 0.9825 - val_loss: 0.1726 - val_categorical_accuracy: 0.9533\n",
      "Epoch 53/100\n",
      "75/75 [==============================] - 0s 4ms/step - loss: 0.1224 - categorical_accuracy: 0.9816 - val_loss: 0.1695 - val_categorical_accuracy: 0.9567\n",
      "Epoch 54/100\n",
      "75/75 [==============================] - 0s 4ms/step - loss: 0.1177 - categorical_accuracy: 0.9825 - val_loss: 0.1749 - val_categorical_accuracy: 0.9467\n",
      "Epoch 55/100\n",
      "75/75 [==============================] - 0s 4ms/step - loss: 0.1151 - categorical_accuracy: 0.9825 - val_loss: 0.1665 - val_categorical_accuracy: 0.9467\n",
      "Epoch 56/100\n",
      "75/75 [==============================] - 0s 4ms/step - loss: 0.1121 - categorical_accuracy: 0.9850 - val_loss: 0.1538 - val_categorical_accuracy: 0.9567\n",
      "Epoch 57/100\n",
      "75/75 [==============================] - 0s 4ms/step - loss: 0.1061 - categorical_accuracy: 0.9858 - val_loss: 0.1619 - val_categorical_accuracy: 0.9500\n",
      "Epoch 58/100\n",
      "75/75 [==============================] - 0s 4ms/step - loss: 0.1074 - categorical_accuracy: 0.9833 - val_loss: 0.1674 - val_categorical_accuracy: 0.9467\n",
      "Epoch 59/100\n",
      "75/75 [==============================] - 0s 4ms/step - loss: 0.1016 - categorical_accuracy: 0.9841 - val_loss: 0.1587 - val_categorical_accuracy: 0.9567\n"
     ]
    },
    {
     "data": {
      "text/plain": [
       "<keras.callbacks.History at 0x7f095a868910>"
      ]
     },
     "execution_count": 45,
     "metadata": {},
     "output_type": "execute_result"
    }
   ],
   "source": [
    "early_stopping = EarlyStopping(patience=3, monitor=\"val_loss\", restore_best_weights=True)\n",
    "\n",
    "model.fit(X_train, y_train, validation_split=0.2, epochs=100, callbacks=[early_stopping], batch_size=16)"
   ]
  },
  {
   "cell_type": "code",
   "execution_count": 46,
   "id": "4ec2d31f",
   "metadata": {
    "ExecuteTime": {
     "end_time": "2023-08-26T22:34:46.071794Z",
     "start_time": "2023-08-26T22:34:45.982730Z"
    }
   },
   "outputs": [
    {
     "data": {
      "text/plain": [
       "[0.1557731181383133, 0.95333331823349]"
      ]
     },
     "execution_count": 46,
     "metadata": {},
     "output_type": "execute_result"
    }
   ],
   "source": [
    "model.evaluate(X_test, y_test, verbose=0)"
   ]
  }
 ],
 "metadata": {
  "hide_input": false,
  "kernelspec": {
   "display_name": "Python 3 (ipykernel)",
   "language": "python",
   "name": "python3"
  },
  "language_info": {
   "codemirror_mode": {
    "name": "ipython",
    "version": 3
   },
   "file_extension": ".py",
   "mimetype": "text/x-python",
   "name": "python",
   "nbconvert_exporter": "python",
   "pygments_lexer": "ipython3",
   "version": "3.10.6"
  },
  "toc": {
   "base_numbering": 1,
   "nav_menu": {},
   "number_sections": true,
   "sideBar": true,
   "skip_h1_title": true,
   "title_cell": "Table of Contents",
   "title_sidebar": "Contents",
   "toc_cell": false,
   "toc_position": {},
   "toc_section_display": true,
   "toc_window_display": false
  },
  "varInspector": {
   "cols": {
    "lenName": 16,
    "lenType": 16,
    "lenVar": 40
   },
   "kernels_config": {
    "python": {
     "delete_cmd_postfix": "",
     "delete_cmd_prefix": "del ",
     "library": "var_list.py",
     "varRefreshCmd": "print(var_dic_list())"
    },
    "r": {
     "delete_cmd_postfix": ") ",
     "delete_cmd_prefix": "rm(",
     "library": "var_list.r",
     "varRefreshCmd": "cat(var_dic_list()) "
    }
   },
   "types_to_exclude": [
    "module",
    "function",
    "builtin_function_or_method",
    "instance",
    "_Feature"
   ],
   "window_display": false
  }
 },
 "nbformat": 4,
 "nbformat_minor": 5
}
