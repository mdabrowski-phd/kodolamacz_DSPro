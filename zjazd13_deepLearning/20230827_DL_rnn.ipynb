{
 "cells": [
  {
   "cell_type": "markdown",
   "id": "b458a00f",
   "metadata": {},
   "source": [
    "# Transfer learning (uczenie transferowe) + augmentacja danych (obrazów)\n",
    "\n",
    "**Case study**: Utwórz notatnik **_Kaggle_** do datasetu https://www.kaggle.com/datasets/samuelcortinhas/cats-and-dogs-image-classification?select=test"
   ]
  },
  {
   "cell_type": "code",
   "execution_count": 23,
   "id": "67d666a3",
   "metadata": {
    "ExecuteTime": {
     "end_time": "2023-08-27T07:35:44.586348Z",
     "start_time": "2023-08-27T07:35:42.157015Z"
    }
   },
   "outputs": [],
   "source": [
    "import numpy as np\n",
    "import matplotlib.pyplot as plt\n",
    "import pandas as pd\n",
    "import sklearn\n",
    "import tensorflow as tf\n",
    "import nltk"
   ]
  },
  {
   "cell_type": "code",
   "execution_count": 5,
   "id": "5503fcca",
   "metadata": {
    "ExecuteTime": {
     "end_time": "2023-08-27T06:33:05.668346Z",
     "start_time": "2023-08-27T06:33:05.274534Z"
    }
   },
   "outputs": [],
   "source": [
    "# wstępnie wytrenowany model\n",
    "\n",
    "from tensorflow.keras.applications.vgg19 import VGG19\n",
    "\n",
    "base_model = VGG19(weights='imagenet', include_top=False, input_shape=(150, 150, 3))"
   ]
  },
  {
   "cell_type": "markdown",
   "id": "ddabe74f",
   "metadata": {},
   "source": [
    "**realizacja zadania**: https://www.kaggle.com/micdab/cats-and-dogs-kodolamacz-13-dl/edit"
   ]
  },
  {
   "cell_type": "markdown",
   "id": "611c123e",
   "metadata": {},
   "source": [
    "# Rekurencyjne sieci neuronowe (RNN)\n",
    "\n",
    "**Zastosowania**:\n",
    "- ceny akcji\n",
    "- tłumaczenia językowe\n",
    "- klasyfikacja tekstu (_sentyment_)\n",
    "- sumaryzacja / streszczenia\n",
    "\n",
    "**Problemy językowe** - korzystamy z **transformerów**\n",
    "\n",
    "_Duże modele językowe_ - raczej nie dotrenowujemy, a umiejętnie korzystamy (np. _ChatGPT_ jest dość tani w korzystaniu)\n",
    "\n",
    "**Co w zamian?**\n",
    "- umiejętne przeszukiwanie swoich zbiorów wiedzy (kontekst)\n",
    "- dawanie przykładów `input --> output`\n",
    "- kilka razy pytanie w różny sposób (informacje, gramatyka)"
   ]
  },
  {
   "cell_type": "markdown",
   "id": "66607d5f",
   "metadata": {},
   "source": [
    "## Case study - analiza sentymentów IMDB (filmy)\n",
    "\n",
    "https://www.tensorflow.org/api_docs/python/tf/keras/datasets/imdb/load_data"
   ]
  },
  {
   "cell_type": "markdown",
   "id": "4f16685b",
   "metadata": {},
   "source": [
    "### Przygotowanie danych"
   ]
  },
  {
   "cell_type": "code",
   "execution_count": 2,
   "id": "e9c78e43",
   "metadata": {
    "ExecuteTime": {
     "end_time": "2023-08-27T12:10:51.203284Z",
     "start_time": "2023-08-27T12:10:51.198997Z"
    }
   },
   "outputs": [],
   "source": [
    "import numpy as np\n",
    "import matplotlib.pyplot as plt\n",
    "import pandas as pd\n",
    "import sklearn\n",
    "import tensorflow as tf\n",
    "import nltk"
   ]
  },
  {
   "cell_type": "code",
   "execution_count": 31,
   "id": "62aaa629",
   "metadata": {
    "ExecuteTime": {
     "end_time": "2023-08-27T13:14:24.323162Z",
     "start_time": "2023-08-27T13:14:21.272566Z"
    }
   },
   "outputs": [],
   "source": [
    "from tensorflow.keras.datasets import imdb\n",
    "\n",
    "maxlen = 400\n",
    "\n",
    "(X_train, y_train), (X_test, y_test) = imdb.load_data(num_words=5000, skip_top=10, maxlen=maxlen)\n",
    "# (X_train, y_train), (X_test, y_test) = imdb.load_data(num_words=5000, skip_top=10, maxlen=1000)"
   ]
  },
  {
   "cell_type": "code",
   "execution_count": 32,
   "id": "14f81461",
   "metadata": {
    "ExecuteTime": {
     "end_time": "2023-08-27T13:14:26.321102Z",
     "start_time": "2023-08-27T13:14:25.681187Z"
    }
   },
   "outputs": [
    {
     "data": {
      "image/png": "[encoded data removed]",
      "text/plain": [
       "<Figure size 432x288 with 1 Axes>"
      ]
     },
     "metadata": {
      "needs_background": "light"
     },
     "output_type": "display_data"
    }
   ],
   "source": [
    "lens = [len(x) for x in X_train]  # 'x' jest sekwencją słów w konkretnej recenzji\n",
    "\n",
    "plt.hist(lens)\n",
    "plt.show()"
   ]
  },
  {
   "cell_type": "code",
   "execution_count": 33,
   "id": "b1ae1482",
   "metadata": {
    "ExecuteTime": {
     "end_time": "2023-08-27T13:14:28.877682Z",
     "start_time": "2023-08-27T13:14:28.585154Z"
    }
   },
   "outputs": [
    {
     "data": {
      "text/plain": [
       "(10, 4999)"
      ]
     },
     "execution_count": 33,
     "metadata": {},
     "output_type": "execute_result"
    }
   ],
   "source": [
    "# indeksy konkretnych tokenów, oznaczających słowa występujące w recenzjach\n",
    "\n",
    "words = [word for x in X_train for word in x if word!=2]  # liczba '2' oznacza prawdopodobnie specjalny token, np. '\\n'\n",
    "\n",
    "min(words), max(words)"
   ]
  },
  {
   "cell_type": "code",
   "execution_count": 34,
   "id": "62bb2b36",
   "metadata": {
    "ExecuteTime": {
     "end_time": "2023-08-27T13:14:34.379854Z",
     "start_time": "2023-08-27T13:14:34.375378Z"
    }
   },
   "outputs": [],
   "source": [
    "from tensorflow.keras.preprocessing import sequence"
   ]
  },
  {
   "cell_type": "code",
   "execution_count": 35,
   "id": "ab2c182c",
   "metadata": {
    "ExecuteTime": {
     "end_time": "2023-08-27T13:14:36.908433Z",
     "start_time": "2023-08-27T13:14:36.902133Z"
    }
   },
   "outputs": [
    {
     "data": {
      "text/plain": [
       "[218, 189, 141, 147, 43, 123, 233, 130, 99, 117]"
      ]
     },
     "execution_count": 35,
     "metadata": {},
     "output_type": "execute_result"
    }
   ],
   "source": [
    "lens[:10]  # długości poszczególnych sekwencji tokenów"
   ]
  },
  {
   "cell_type": "code",
   "execution_count": 36,
   "id": "bad1faf9",
   "metadata": {
    "ExecuteTime": {
     "end_time": "2023-08-27T13:14:39.195048Z",
     "start_time": "2023-08-27T13:14:38.710697Z"
    }
   },
   "outputs": [
    {
     "data": {
      "text/plain": [
       "array([[   0,    0,    0,    0,    0,    0,    0,    0,    0,    0,    0,\n",
       "           0,    0,    0,    0,    0,    0,    0,    0,    0,    0,    0,\n",
       "           0,    0,    0,    0,    0,    0,    0,    0,    0,    0,    0,\n",
       "           0,    0,    0,    0,    0,    0,    0,    0,    0,    0,    0,\n",
       "           0,    0,    0,    0,    0,    0,    0,    0,    0,    0,    0,\n",
       "           0,    0,    0,    0,    0,    0,    0,    0,    0,    0,    0,\n",
       "           0,    0,    0,    0,    0,    0,    0,    0,    0,    0,    0,\n",
       "           0,    0,    0,    0,    0,    0,    0,    0,    0,    0,    0,\n",
       "           0,    0,    0,    0,    0,    0,    0,    0,    0,    0,    0,\n",
       "           0,    0,    0,    0,    0,    0,    0,    0,    0,    0,    0,\n",
       "           0,    0,    0,    0,    0,    0,    0,    0,    0,    0,    0,\n",
       "           0,    0,    0,    0,    0,    0,    0,    0,    0,    0,    0,\n",
       "           0,    0,    0,    0,    0,    0,    0,    0,    0,    0,    0,\n",
       "           0,    0,    0,    0,    0,    0,    0,    0,    0,    0,    0,\n",
       "           0,    0,    0,    0,    0,    0,    0,    0,    0,    0,    0,\n",
       "           0,    0,    0,    0,    0,    0,    0,    0,    0,    0,    0,\n",
       "           0,    0,    0,    0,    0,    0,    2,   14,   22,   16,   43,\n",
       "         530,  973, 1622, 1385,   65,  458, 4468,   66, 3941,    2,  173,\n",
       "          36,  256,    2,   25,  100,   43,  838,  112,   50,  670,    2,\n",
       "           2,   35,  480,  284,    2,  150,    2,  172,  112,  167,    2,\n",
       "         336,  385,   39,    2,  172, 4536, 1111,   17,  546,   38,   13,\n",
       "         447,    2,  192,   50,   16,    2,  147, 2025,   19,   14,   22,\n",
       "           2, 1920, 4613,  469,    2,   22,   71,   87,   12,   16,   43,\n",
       "         530,   38,   76,   15,   13, 1247,    2,   22,   17,  515,   17,\n",
       "          12,   16,  626,   18,    2,    2,   62,  386,   12,    2,  316,\n",
       "           2,  106,    2,    2, 2223,    2,   16,  480,   66, 3785,   33,\n",
       "           2,  130,   12,   16,   38,  619,    2,   25,  124,   51,   36,\n",
       "         135,   48,   25, 1415,   33,    2,   22,   12,  215,   28,   77,\n",
       "          52,    2,   14,  407,   16,   82,    2,    2,    2,  107,  117,\n",
       "           2,   15,  256,    2,    2,    2, 3766,    2,  723,   36,   71,\n",
       "          43,  530,  476,   26,  400,  317,   46,    2,    2,    2, 1029,\n",
       "          13,  104,   88,    2,  381,   15,  297,   98,   32, 2071,   56,\n",
       "          26,  141,    2,  194,    2,   18,    2,  226,   22,   21,  134,\n",
       "         476,   26,  480,    2,  144,   30,    2,   18,   51,   36,   28,\n",
       "         224,   92,   25,  104,    2,  226,   65,   16,   38, 1334,   88,\n",
       "          12,   16,  283,    2,   16, 4472,  113,  103,   32,   15,   16,\n",
       "           2,   19,  178,   32],\n",
       "       [   0,    0,    0,    0,    0,    0,    0,    0,    0,    0,    0,\n",
       "           0,    0,    0,    0,    0,    0,    0,    0,    0,    0,    0,\n",
       "           0,    0,    0,    0,    0,    0,    0,    0,    0,    0,    0,\n",
       "           0,    0,    0,    0,    0,    0,    0,    0,    0,    0,    0,\n",
       "           0,    0,    0,    0,    0,    0,    0,    0,    0,    0,    0,\n",
       "           0,    0,    0,    0,    0,    0,    0,    0,    0,    0,    0,\n",
       "           0,    0,    0,    0,    0,    0,    0,    0,    0,    0,    0,\n",
       "           0,    0,    0,    0,    0,    0,    0,    0,    0,    0,    0,\n",
       "           0,    0,    0,    0,    0,    0,    0,    0,    0,    0,    0,\n",
       "           0,    0,    0,    0,    0,    0,    0,    0,    0,    0,    0,\n",
       "           0,    0,    0,    0,    0,    0,    0,    0,    0,    0,    0,\n",
       "           0,    0,    0,    0,    0,    0,    0,    0,    0,    0,    0,\n",
       "           0,    0,    0,    0,    0,    0,    0,    0,    0,    0,    0,\n",
       "           0,    0,    0,    0,    0,    0,    0,    0,    0,    0,    0,\n",
       "           0,    0,    0,    0,    0,    0,    0,    0,    0,    0,    0,\n",
       "           0,    0,    0,    0,    0,    0,    0,    0,    0,    0,    0,\n",
       "           0,    0,    0,    0,    0,    0,    0,    0,    0,    0,    0,\n",
       "           0,    0,    0,    0,    0,    0,    0,    0,    0,    0,    0,\n",
       "           0,    0,    0,    0,    0,    0,    0,    0,    0,    0,    0,\n",
       "           0,    0,    2,  194, 1153,  194,    2,   78,  228,    2,    2,\n",
       "        1463, 4369,    2,  134,   26,    2,  715,    2,  118, 1634,   14,\n",
       "         394,   20,   13,  119,  954,  189,  102,    2,  207,  110, 3103,\n",
       "          21,   14,   69,  188,    2,   30,   23,    2,    2,  249,  126,\n",
       "          93,    2,  114,    2, 2300, 1523,    2,  647,    2,  116,    2,\n",
       "          35,    2,    2,  229,    2,  340, 1322,    2,  118,    2,    2,\n",
       "         130, 4901,   19,    2, 1002,    2,   89,   29,  952,   46,   37,\n",
       "           2,  455,    2,   45,   43,   38, 1543, 1905,  398,    2, 1649,\n",
       "          26,    2,    2,  163,   11, 3215,    2,    2, 1153,    2,  194,\n",
       "         775,    2,    2,    2,  349, 2637,  148,  605,    2,    2,   15,\n",
       "         123,  125,   68,    2,    2,   15,  349,  165, 4362,   98,    2,\n",
       "           2,  228,    2,   43,    2, 1157,   15,  299,  120,    2,  120,\n",
       "         174,   11,  220,  175,  136,   50,    2, 4373,  228,    2,    2,\n",
       "           2,  656,  245, 2350,    2,    2,    2,  131,  152,  491,   18,\n",
       "           2,   32,    2, 1212,   14,    2,    2,  371,   78,   22,  625,\n",
       "          64, 1382,    2,    2,  168,  145,   23,    2, 1690,   15,   16,\n",
       "           2, 1355,    2,   28,    2,   52,  154,  462,   33,   89,   78,\n",
       "         285,   16,  145,   95]], dtype=int32)"
      ]
     },
     "execution_count": 36,
     "metadata": {},
     "output_type": "execute_result"
    }
   ],
   "source": [
    "# padding za pomocą zer, aby wyrównać długość sekwencji\n",
    "\n",
    "X_train = sequence.pad_sequences(X_train, maxlen=maxlen)\n",
    "X_test = sequence.pad_sequences(X_test, maxlen=maxlen)\n",
    "\n",
    "X_train[:2]  # zera są wstawiane na początku, żeby uniknąć zaniku gradientów w sieci"
   ]
  },
  {
   "cell_type": "code",
   "execution_count": 37,
   "id": "dc45799e",
   "metadata": {
    "ExecuteTime": {
     "end_time": "2023-08-27T13:14:44.498598Z",
     "start_time": "2023-08-27T13:14:44.491194Z"
    }
   },
   "outputs": [
    {
     "data": {
      "text/plain": [
       "((3000, 400), (1000, 400), (3000,), (1000,))"
      ]
     },
     "execution_count": 37,
     "metadata": {},
     "output_type": "execute_result"
    }
   ],
   "source": [
    "n_train = 3000\n",
    "n_test = 1000\n",
    "\n",
    "X_train, y_train, X_test, y_test = X_train[:n_train], y_train[:n_train], X_test[:n_test], y_test[:n_test]\n",
    "X_train.shape, X_test.shape, y_train.shape, y_test.shape"
   ]
  },
  {
   "cell_type": "markdown",
   "id": "0c84f892",
   "metadata": {},
   "source": [
    "### Embeddings (osadzenia słów)"
   ]
  },
  {
   "cell_type": "code",
   "execution_count": 46,
   "id": "548b7223",
   "metadata": {
    "ExecuteTime": {
     "end_time": "2023-08-27T13:43:57.936243Z",
     "start_time": "2023-08-27T13:43:57.932417Z"
    }
   },
   "outputs": [],
   "source": [
    "from tensorflow.keras.models import Sequential\n",
    "from tensorflow.keras.layers import Dense, Dropout, SimpleRNN, LSTM, Bidirectional, Embedding\n",
    "from tensorflow.keras.callbacks import EarlyStopping"
   ]
  },
  {
   "cell_type": "code",
   "execution_count": 30,
   "id": "1ff76fc8",
   "metadata": {
    "ExecuteTime": {
     "end_time": "2023-08-27T13:12:58.432322Z",
     "start_time": "2023-08-27T13:12:58.427063Z"
    }
   },
   "outputs": [],
   "source": [
    "?Embedding\n",
    "?SimpleRNN"
   ]
  },
  {
   "cell_type": "code",
   "execution_count": 40,
   "id": "fa2e25bd",
   "metadata": {
    "ExecuteTime": {
     "end_time": "2023-08-27T13:27:27.784068Z",
     "start_time": "2023-08-27T13:27:27.647321Z"
    }
   },
   "outputs": [
    {
     "name": "stdout",
     "output_type": "stream",
     "text": [
      "Model: \"sequential_2\"\n",
      "_________________________________________________________________\n",
      " Layer (type)                Output Shape              Param #   \n",
      "=================================================================\n",
      " embedding_2 (Embedding)     (None, 400, 50)           250000    \n",
      "                                                                 \n",
      " simple_rnn_2 (SimpleRNN)    (None, 32)                2656      \n",
      "                                                                 \n",
      " dense_2 (Dense)             (None, 1)                 33        \n",
      "                                                                 \n",
      "=================================================================\n",
      "Total params: 252,689\n",
      "Trainable params: 252,689\n",
      "Non-trainable params: 0\n",
      "_________________________________________________________________\n"
     ]
    }
   ],
   "source": [
    "n_features = 5000  # liczba tokenów\n",
    "n_embeddings = 50  # wymiar przestrzeni\n",
    "\n",
    "model = Sequential()\n",
    "\n",
    "model.add(Embedding(input_dim=n_features, output_dim=n_embeddings, input_length=maxlen))\n",
    "\n",
    "model.add(SimpleRNN(32))\n",
    "\n",
    "model.add(Dense(1, activation=\"sigmoid\"))\n",
    "\n",
    "model.compile(loss=\"binary_crossentropy\", optimizer=\"adam\", metrics=[\"accuracy\"])\n",
    "model.summary()"
   ]
  },
  {
   "cell_type": "code",
   "execution_count": 41,
   "id": "e8ccb636",
   "metadata": {
    "ExecuteTime": {
     "end_time": "2023-08-27T13:28:12.524521Z",
     "start_time": "2023-08-27T13:27:33.667977Z"
    }
   },
   "outputs": [
    {
     "name": "stdout",
     "output_type": "stream",
     "text": [
      "Epoch 1/100\n",
      "75/75 [==============================] - 9s 104ms/step - loss: 0.6938 - accuracy: 0.5083 - val_loss: 0.6915 - val_accuracy: 0.5183\n",
      "Epoch 2/100\n",
      "75/75 [==============================] - 7s 99ms/step - loss: 0.5533 - accuracy: 0.8021 - val_loss: 0.6712 - val_accuracy: 0.6083\n",
      "Epoch 3/100\n",
      "75/75 [==============================] - 7s 97ms/step - loss: 0.2433 - accuracy: 0.9633 - val_loss: 0.7963 - val_accuracy: 0.5633\n",
      "Epoch 4/100\n",
      "75/75 [==============================] - 7s 99ms/step - loss: 0.0514 - accuracy: 0.9971 - val_loss: 0.9067 - val_accuracy: 0.5633\n",
      "Epoch 5/100\n",
      "75/75 [==============================] - 7s 100ms/step - loss: 0.0163 - accuracy: 1.0000 - val_loss: 0.9999 - val_accuracy: 0.5567\n"
     ]
    },
    {
     "data": {
      "text/plain": [
       "<keras.callbacks.History at 0x7fe89af47b80>"
      ]
     },
     "execution_count": 41,
     "metadata": {},
     "output_type": "execute_result"
    }
   ],
   "source": [
    "early_stopping = EarlyStopping(patience=3)\n",
    "\n",
    "model.fit(X_train, y_train, epochs=100, callbacks=[early_stopping], validation_split=0.2)"
   ]
  },
  {
   "cell_type": "code",
   "execution_count": 43,
   "id": "73b23887",
   "metadata": {
    "ExecuteTime": {
     "end_time": "2023-08-27T13:28:58.839020Z",
     "start_time": "2023-08-27T13:28:57.902494Z"
    }
   },
   "outputs": [
    {
     "name": "stdout",
     "output_type": "stream",
     "text": [
      "32/32 [==============================] - 1s 27ms/step - loss: 0.9620 - accuracy: 0.5800\n"
     ]
    },
    {
     "data": {
      "text/plain": [
       "[0.9620493054389954, 0.5799999833106995]"
      ]
     },
     "execution_count": 43,
     "metadata": {},
     "output_type": "execute_result"
    }
   ],
   "source": [
    "model.evaluate(X_test, y_test)"
   ]
  },
  {
   "cell_type": "markdown",
   "id": "0596fc4e",
   "metadata": {},
   "source": [
    "### Zadanie: zmodyfikuj podstawową sieć"
   ]
  },
  {
   "cell_type": "markdown",
   "id": "60bee527",
   "metadata": {},
   "source": [
    "**Dodatkowy Dense**"
   ]
  },
  {
   "cell_type": "code",
   "execution_count": 63,
   "id": "1d9774c8",
   "metadata": {
    "ExecuteTime": {
     "end_time": "2023-08-27T14:26:00.769718Z",
     "start_time": "2023-08-27T14:26:00.649924Z"
    }
   },
   "outputs": [
    {
     "name": "stdout",
     "output_type": "stream",
     "text": [
      "Model: \"sequential_15\"\n",
      "_________________________________________________________________\n",
      " Layer (type)                Output Shape              Param #   \n",
      "=================================================================\n",
      " embedding_15 (Embedding)    (None, 400, 50)           250000    \n",
      "                                                                 \n",
      " simple_rnn_14 (SimpleRNN)   (None, 32)                2656      \n",
      "                                                                 \n",
      " dense_12 (Dense)            (None, 32)                1056      \n",
      "                                                                 \n",
      " dense_13 (Dense)            (None, 1)                 33        \n",
      "                                                                 \n",
      "=================================================================\n",
      "Total params: 253,745\n",
      "Trainable params: 253,745\n",
      "Non-trainable params: 0\n",
      "_________________________________________________________________\n"
     ]
    }
   ],
   "source": [
    "n_features = 5000  # liczba tokenów\n",
    "n_embeddings = 50  # wymiar przestrzeni\n",
    "\n",
    "model = Sequential()\n",
    "\n",
    "model.add(Embedding(input_dim=n_features, output_dim=n_embeddings, input_length=maxlen))\n",
    "\n",
    "model.add(SimpleRNN(32))\n",
    "\n",
    "model.add(Dense(32, activation=\"sigmoid\"))\n",
    "model.add(Dense(1, activation=\"sigmoid\"))\n",
    "\n",
    "model.compile(loss=\"binary_crossentropy\", optimizer=\"adam\", metrics=[\"accuracy\"])\n",
    "model.summary()"
   ]
  },
  {
   "cell_type": "code",
   "execution_count": 64,
   "id": "9e3b291f",
   "metadata": {
    "ExecuteTime": {
     "end_time": "2023-08-27T14:27:10.045262Z",
     "start_time": "2023-08-27T14:26:09.816336Z"
    }
   },
   "outputs": [
    {
     "name": "stdout",
     "output_type": "stream",
     "text": [
      "Epoch 1/100\n",
      "75/75 [==============================] - 8s 98ms/step - loss: 0.6986 - accuracy: 0.5063 - val_loss: 0.6912 - val_accuracy: 0.5067\n",
      "Epoch 2/100\n",
      "75/75 [==============================] - 7s 94ms/step - loss: 0.6676 - accuracy: 0.6062 - val_loss: 0.6628 - val_accuracy: 0.6167\n",
      "Epoch 3/100\n",
      "75/75 [==============================] - 7s 94ms/step - loss: 0.5317 - accuracy: 0.7788 - val_loss: 0.5488 - val_accuracy: 0.7400\n",
      "Epoch 4/100\n",
      "75/75 [==============================] - 8s 101ms/step - loss: 0.2834 - accuracy: 0.9154 - val_loss: 0.5488 - val_accuracy: 0.7317\n",
      "Epoch 5/100\n",
      "75/75 [==============================] - 7s 97ms/step - loss: 0.0993 - accuracy: 0.9867 - val_loss: 0.5099 - val_accuracy: 0.8017\n",
      "Epoch 6/100\n",
      "75/75 [==============================] - 7s 93ms/step - loss: 0.0815 - accuracy: 0.9833 - val_loss: 0.5602 - val_accuracy: 0.7733\n",
      "Epoch 7/100\n",
      "75/75 [==============================] - 8s 103ms/step - loss: 0.0228 - accuracy: 0.9992 - val_loss: 0.5927 - val_accuracy: 0.7783\n",
      "Epoch 8/100\n",
      "75/75 [==============================] - 7s 96ms/step - loss: 0.0135 - accuracy: 0.9996 - val_loss: 0.6149 - val_accuracy: 0.7900\n",
      "32/32 [==============================] - 1s 27ms/step - loss: 0.6974 - accuracy: 0.7630\n"
     ]
    },
    {
     "data": {
      "text/plain": [
       "[0.697429895401001, 0.7630000114440918]"
      ]
     },
     "execution_count": 64,
     "metadata": {},
     "output_type": "execute_result"
    }
   ],
   "source": [
    "early_stopping = EarlyStopping(patience=3)\n",
    "\n",
    "model.fit(X_train, y_train, epochs=100, callbacks=[early_stopping], validation_split=0.2)\n",
    "\n",
    "model.evaluate(X_test, y_test)"
   ]
  },
  {
   "cell_type": "markdown",
   "id": "c548564c",
   "metadata": {},
   "source": [
    "**Dropout**"
   ]
  },
  {
   "cell_type": "code",
   "execution_count": 65,
   "id": "2a296a70",
   "metadata": {
    "ExecuteTime": {
     "end_time": "2023-08-27T14:28:23.236211Z",
     "start_time": "2023-08-27T14:28:23.120127Z"
    }
   },
   "outputs": [
    {
     "name": "stdout",
     "output_type": "stream",
     "text": [
      "Model: \"sequential_16\"\n",
      "_________________________________________________________________\n",
      " Layer (type)                Output Shape              Param #   \n",
      "=================================================================\n",
      " embedding_16 (Embedding)    (None, 400, 50)           250000    \n",
      "                                                                 \n",
      " dropout (Dropout)           (None, 400, 50)           0         \n",
      "                                                                 \n",
      " simple_rnn_15 (SimpleRNN)   (None, 32)                2656      \n",
      "                                                                 \n",
      " dense_14 (Dense)            (None, 1)                 33        \n",
      "                                                                 \n",
      "=================================================================\n",
      "Total params: 252,689\n",
      "Trainable params: 252,689\n",
      "Non-trainable params: 0\n",
      "_________________________________________________________________\n"
     ]
    }
   ],
   "source": [
    "n_features = 5000  # liczba tokenów\n",
    "n_embeddings = 50  # wymiar przestrzeni\n",
    "\n",
    "model = Sequential()\n",
    "\n",
    "model.add(Embedding(input_dim=n_features, output_dim=n_embeddings, input_length=maxlen))\n",
    "model.add(Dropout(0.5))\n",
    "\n",
    "model.add(SimpleRNN(32))\n",
    "\n",
    "model.add(Dense(1, activation=\"sigmoid\"))\n",
    "\n",
    "model.compile(loss=\"binary_crossentropy\", optimizer=\"adam\", metrics=[\"accuracy\"])\n",
    "model.summary()"
   ]
  },
  {
   "cell_type": "code",
   "execution_count": 66,
   "id": "72575119",
   "metadata": {
    "ExecuteTime": {
     "end_time": "2023-08-27T14:29:30.856422Z",
     "start_time": "2023-08-27T14:28:30.433807Z"
    }
   },
   "outputs": [
    {
     "name": "stdout",
     "output_type": "stream",
     "text": [
      "Epoch 1/100\n",
      "75/75 [==============================] - 10s 115ms/step - loss: 0.6965 - accuracy: 0.5167 - val_loss: 0.6889 - val_accuracy: 0.5217\n",
      "Epoch 2/100\n",
      "75/75 [==============================] - 8s 110ms/step - loss: 0.6133 - accuracy: 0.7317 - val_loss: 0.6364 - val_accuracy: 0.6567\n",
      "Epoch 3/100\n",
      "75/75 [==============================] - 8s 113ms/step - loss: 0.4176 - accuracy: 0.8350 - val_loss: 0.4940 - val_accuracy: 0.7717\n",
      "Epoch 4/100\n",
      "75/75 [==============================] - 9s 116ms/step - loss: 0.2780 - accuracy: 0.9075 - val_loss: 0.4450 - val_accuracy: 0.8067\n",
      "Epoch 5/100\n",
      "75/75 [==============================] - 8s 107ms/step - loss: 0.1444 - accuracy: 0.9663 - val_loss: 0.4711 - val_accuracy: 0.8017\n",
      "Epoch 6/100\n",
      "75/75 [==============================] - 8s 106ms/step - loss: 0.0774 - accuracy: 0.9821 - val_loss: 0.5633 - val_accuracy: 0.7567\n",
      "Epoch 7/100\n",
      "75/75 [==============================] - 8s 108ms/step - loss: 0.0412 - accuracy: 0.9942 - val_loss: 0.5362 - val_accuracy: 0.7783\n",
      "32/32 [==============================] - 1s 31ms/step - loss: 0.5577 - accuracy: 0.7850\n"
     ]
    },
    {
     "data": {
      "text/plain": [
       "[0.557651698589325, 0.7850000262260437]"
      ]
     },
     "execution_count": 66,
     "metadata": {},
     "output_type": "execute_result"
    }
   ],
   "source": [
    "early_stopping = EarlyStopping(patience=3)\n",
    "\n",
    "model.fit(X_train, y_train, epochs=100, callbacks=[early_stopping], validation_split=0.2)\n",
    "\n",
    "model.evaluate(X_test, y_test)"
   ]
  },
  {
   "cell_type": "markdown",
   "id": "5de8652d",
   "metadata": {},
   "source": [
    "**Bidirectional RNN**"
   ]
  },
  {
   "cell_type": "code",
   "execution_count": 44,
   "id": "b13d4d91",
   "metadata": {
    "ExecuteTime": {
     "end_time": "2023-08-27T13:42:10.361381Z",
     "start_time": "2023-08-27T13:42:10.183114Z"
    }
   },
   "outputs": [
    {
     "name": "stdout",
     "output_type": "stream",
     "text": [
      "Model: \"sequential_3\"\n",
      "_________________________________________________________________\n",
      " Layer (type)                Output Shape              Param #   \n",
      "=================================================================\n",
      " embedding_3 (Embedding)     (None, 400, 50)           250000    \n",
      "                                                                 \n",
      " bidirectional (Bidirectiona  (None, 64)               5312      \n",
      " l)                                                              \n",
      "                                                                 \n",
      " dense_3 (Dense)             (None, 1)                 65        \n",
      "                                                                 \n",
      "=================================================================\n",
      "Total params: 255,377\n",
      "Trainable params: 255,377\n",
      "Non-trainable params: 0\n",
      "_________________________________________________________________\n"
     ]
    }
   ],
   "source": [
    "n_features = 5000  # liczba tokenów\n",
    "n_embeddings = 50  # wymiar przestrzeni\n",
    "\n",
    "model = Sequential()\n",
    "\n",
    "model.add(Embedding(input_dim=n_features, output_dim=n_embeddings, input_length=maxlen))\n",
    "\n",
    "model.add(Bidirectional(SimpleRNN(32)))\n",
    "\n",
    "model.add(Dense(1, activation=\"sigmoid\"))\n",
    "\n",
    "model.compile(loss=\"binary_crossentropy\", optimizer=\"adam\", metrics=[\"accuracy\"])\n",
    "model.summary()"
   ]
  },
  {
   "cell_type": "code",
   "execution_count": 45,
   "id": "e22af48d",
   "metadata": {
    "ExecuteTime": {
     "end_time": "2023-08-27T13:43:30.639698Z",
     "start_time": "2023-08-27T13:42:27.035752Z"
    }
   },
   "outputs": [
    {
     "name": "stdout",
     "output_type": "stream",
     "text": [
      "Epoch 1/100\n",
      "75/75 [==============================] - 11s 118ms/step - loss: 0.6983 - accuracy: 0.4979 - val_loss: 0.6928 - val_accuracy: 0.5300\n",
      "Epoch 2/100\n",
      "75/75 [==============================] - 9s 114ms/step - loss: 0.6680 - accuracy: 0.6296 - val_loss: 0.6883 - val_accuracy: 0.5750\n",
      "Epoch 3/100\n",
      "75/75 [==============================] - 9s 115ms/step - loss: 0.6051 - accuracy: 0.7446 - val_loss: 0.6768 - val_accuracy: 0.5517\n",
      "Epoch 4/100\n",
      "75/75 [==============================] - 9s 121ms/step - loss: 0.4225 - accuracy: 0.9029 - val_loss: 0.6157 - val_accuracy: 0.6667\n",
      "Epoch 5/100\n",
      "75/75 [==============================] - 9s 119ms/step - loss: 0.1749 - accuracy: 0.9812 - val_loss: 0.6217 - val_accuracy: 0.6550\n",
      "Epoch 6/100\n",
      "75/75 [==============================] - 8s 112ms/step - loss: 0.0465 - accuracy: 0.9987 - val_loss: 0.7093 - val_accuracy: 0.6333\n",
      "Epoch 7/100\n",
      "75/75 [==============================] - 8s 108ms/step - loss: 0.0178 - accuracy: 1.0000 - val_loss: 0.6721 - val_accuracy: 0.6833\n",
      "32/32 [==============================] - 1s 32ms/step - loss: 0.7505 - accuracy: 0.6680\n"
     ]
    },
    {
     "data": {
      "text/plain": [
       "[0.7504892945289612, 0.6679999828338623]"
      ]
     },
     "execution_count": 45,
     "metadata": {},
     "output_type": "execute_result"
    }
   ],
   "source": [
    "early_stopping = EarlyStopping(patience=3)\n",
    "\n",
    "model.fit(X_train, y_train, epochs=100, callbacks=[early_stopping], validation_split=0.2)\n",
    "\n",
    "model.evaluate(X_test, y_test)"
   ]
  },
  {
   "cell_type": "markdown",
   "id": "7c3cf3cc",
   "metadata": {},
   "source": [
    "**LSTM (Long Short-Term Memory**"
   ]
  },
  {
   "cell_type": "code",
   "execution_count": 47,
   "id": "829c9fcb",
   "metadata": {
    "ExecuteTime": {
     "end_time": "2023-08-27T13:44:15.037795Z",
     "start_time": "2023-08-27T13:44:14.769806Z"
    }
   },
   "outputs": [
    {
     "name": "stdout",
     "output_type": "stream",
     "text": [
      "Model: \"sequential_4\"\n",
      "_________________________________________________________________\n",
      " Layer (type)                Output Shape              Param #   \n",
      "=================================================================\n",
      " embedding_4 (Embedding)     (None, 400, 50)           250000    \n",
      "                                                                 \n",
      " lstm (LSTM)                 (None, 32)                10624     \n",
      "                                                                 \n",
      " dense_4 (Dense)             (None, 1)                 33        \n",
      "                                                                 \n",
      "=================================================================\n",
      "Total params: 260,657\n",
      "Trainable params: 260,657\n",
      "Non-trainable params: 0\n",
      "_________________________________________________________________\n"
     ]
    }
   ],
   "source": [
    "n_features = 5000  # liczba tokenów\n",
    "n_embeddings = 50  # wymiar przestrzeni\n",
    "\n",
    "model = Sequential()\n",
    "\n",
    "model.add(Embedding(input_dim=n_features, output_dim=n_embeddings, input_length=maxlen))\n",
    "\n",
    "model.add(LSTM(32))\n",
    "\n",
    "model.add(Dense(1, activation=\"sigmoid\"))\n",
    "\n",
    "model.compile(loss=\"binary_crossentropy\", optimizer=\"adam\", metrics=[\"accuracy\"])\n",
    "model.summary()"
   ]
  },
  {
   "cell_type": "code",
   "execution_count": 48,
   "id": "c23ba248",
   "metadata": {
    "ExecuteTime": {
     "end_time": "2023-08-27T13:45:33.768938Z",
     "start_time": "2023-08-27T13:44:22.862803Z"
    }
   },
   "outputs": [
    {
     "name": "stdout",
     "output_type": "stream",
     "text": [
      "Epoch 1/100\n",
      "75/75 [==============================] - 16s 185ms/step - loss: 0.6849 - accuracy: 0.5813 - val_loss: 0.6384 - val_accuracy: 0.7100\n",
      "Epoch 2/100\n",
      "75/75 [==============================] - 13s 180ms/step - loss: 0.4441 - accuracy: 0.8279 - val_loss: 0.3553 - val_accuracy: 0.8450\n",
      "Epoch 3/100\n",
      "75/75 [==============================] - 13s 179ms/step - loss: 0.2003 - accuracy: 0.9329 - val_loss: 0.3569 - val_accuracy: 0.8533\n",
      "Epoch 4/100\n",
      "75/75 [==============================] - 13s 172ms/step - loss: 0.1166 - accuracy: 0.9679 - val_loss: 0.3966 - val_accuracy: 0.8233\n",
      "Epoch 5/100\n",
      "75/75 [==============================] - 13s 177ms/step - loss: 0.0964 - accuracy: 0.9733 - val_loss: 0.4518 - val_accuracy: 0.8100\n",
      "32/32 [==============================] - 2s 66ms/step - loss: 0.4364 - accuracy: 0.8260\n"
     ]
    },
    {
     "data": {
      "text/plain": [
       "[0.43640032410621643, 0.8259999752044678]"
      ]
     },
     "execution_count": 48,
     "metadata": {},
     "output_type": "execute_result"
    }
   ],
   "source": [
    "early_stopping = EarlyStopping(patience=3)\n",
    "\n",
    "model.fit(X_train, y_train, epochs=100, callbacks=[early_stopping], validation_split=0.2)\n",
    "\n",
    "model.evaluate(X_test, y_test)"
   ]
  },
  {
   "cell_type": "markdown",
   "id": "ea4f594d",
   "metadata": {},
   "source": [
    "**Bidirectional LSTM**"
   ]
  },
  {
   "cell_type": "code",
   "execution_count": 61,
   "id": "df3cb7a6",
   "metadata": {
    "ExecuteTime": {
     "end_time": "2023-08-27T14:01:20.322270Z",
     "start_time": "2023-08-27T14:01:19.835745Z"
    }
   },
   "outputs": [
    {
     "name": "stdout",
     "output_type": "stream",
     "text": [
      "Model: \"sequential_14\"\n",
      "_________________________________________________________________\n",
      " Layer (type)                Output Shape              Param #   \n",
      "=================================================================\n",
      " embedding_14 (Embedding)    (None, 400, 50)           250000    \n",
      "                                                                 \n",
      " bidirectional_1 (Bidirectio  (None, 64)               21248     \n",
      " nal)                                                            \n",
      "                                                                 \n",
      " dense_11 (Dense)            (None, 1)                 65        \n",
      "                                                                 \n",
      "=================================================================\n",
      "Total params: 271,313\n",
      "Trainable params: 271,313\n",
      "Non-trainable params: 0\n",
      "_________________________________________________________________\n"
     ]
    }
   ],
   "source": [
    "n_features = 5000  # liczba tokenów\n",
    "n_embeddings = 50  # wymiar przestrzeni\n",
    "\n",
    "model = Sequential()\n",
    "\n",
    "model.add(Embedding(input_dim=n_features, output_dim=n_embeddings, input_length=maxlen))\n",
    "\n",
    "model.add(Bidirectional(LSTM(32)))\n",
    "\n",
    "model.add(Dense(1, activation=\"sigmoid\"))\n",
    "\n",
    "model.compile(loss=\"binary_crossentropy\", optimizer=\"adam\", metrics=[\"accuracy\"])\n",
    "model.summary()"
   ]
  },
  {
   "cell_type": "code",
   "execution_count": 62,
   "id": "3ffafe3b",
   "metadata": {
    "ExecuteTime": {
     "end_time": "2023-08-27T14:02:49.851157Z",
     "start_time": "2023-08-27T14:01:25.771397Z"
    }
   },
   "outputs": [
    {
     "name": "stdout",
     "output_type": "stream",
     "text": [
      "Epoch 1/100\n",
      "75/75 [==============================] - 15s 164ms/step - loss: 0.6671 - accuracy: 0.6125 - val_loss: 0.6269 - val_accuracy: 0.6050\n",
      "Epoch 2/100\n",
      "75/75 [==============================] - 11s 153ms/step - loss: 0.4954 - accuracy: 0.7821 - val_loss: 0.4432 - val_accuracy: 0.8067\n",
      "Epoch 3/100\n",
      "75/75 [==============================] - 12s 164ms/step - loss: 0.3617 - accuracy: 0.8650 - val_loss: 0.4127 - val_accuracy: 0.8267\n",
      "Epoch 4/100\n",
      "75/75 [==============================] - 11s 146ms/step - loss: 0.2420 - accuracy: 0.9196 - val_loss: 0.3916 - val_accuracy: 0.8333\n",
      "Epoch 5/100\n",
      "75/75 [==============================] - 11s 144ms/step - loss: 0.1739 - accuracy: 0.9421 - val_loss: 0.4062 - val_accuracy: 0.8133\n",
      "Epoch 6/100\n",
      "75/75 [==============================] - 11s 145ms/step - loss: 0.1187 - accuracy: 0.9688 - val_loss: 0.4978 - val_accuracy: 0.7917\n",
      "Epoch 7/100\n",
      "75/75 [==============================] - 11s 145ms/step - loss: 0.1563 - accuracy: 0.9479 - val_loss: 0.4480 - val_accuracy: 0.8333\n",
      "32/32 [==============================] - 2s 63ms/step - loss: 0.4649 - accuracy: 0.8290\n"
     ]
    },
    {
     "data": {
      "text/plain": [
       "[0.4649234116077423, 0.8289999961853027]"
      ]
     },
     "execution_count": 62,
     "metadata": {},
     "output_type": "execute_result"
    }
   ],
   "source": [
    "early_stopping = EarlyStopping(patience=3)\n",
    "\n",
    "model.fit(X_train, y_train, epochs=100, callbacks=[early_stopping], validation_split=0.2)\n",
    "\n",
    "model.evaluate(X_test, y_test)"
   ]
  },
  {
   "cell_type": "markdown",
   "id": "60719d1f",
   "metadata": {},
   "source": [
    "**Dwuwarstwowy RNN**"
   ]
  },
  {
   "cell_type": "code",
   "execution_count": 57,
   "id": "793e6187",
   "metadata": {
    "ExecuteTime": {
     "end_time": "2023-08-27T13:55:41.182216Z",
     "start_time": "2023-08-27T13:55:40.996997Z"
    }
   },
   "outputs": [
    {
     "name": "stdout",
     "output_type": "stream",
     "text": [
      "Model: \"sequential_12\"\n",
      "_________________________________________________________________\n",
      " Layer (type)                Output Shape              Param #   \n",
      "=================================================================\n",
      " embedding_12 (Embedding)    (None, 400, 50)           250000    \n",
      "                                                                 \n",
      " simple_rnn_12 (SimpleRNN)   (None, 400, 32)           2656      \n",
      "                                                                 \n",
      " simple_rnn_13 (SimpleRNN)   (None, 32)                2080      \n",
      "                                                                 \n",
      " dense_9 (Dense)             (None, 1)                 33        \n",
      "                                                                 \n",
      "=================================================================\n",
      "Total params: 254,769\n",
      "Trainable params: 254,769\n",
      "Non-trainable params: 0\n",
      "_________________________________________________________________\n"
     ]
    }
   ],
   "source": [
    "n_features = 5000  # liczba tokenów\n",
    "n_embeddings = 50  # wymiar przestrzeni\n",
    "\n",
    "model = Sequential()\n",
    "\n",
    "model.add(Embedding(input_dim=n_features, output_dim=n_embeddings, input_length=maxlen))\n",
    "\n",
    "model.add(SimpleRNN(32, return_sequences=True))  # potrezbne, żeby nie wyrzucać całej macierzy wyników\n",
    "model.add(SimpleRNN(32))\n",
    "\n",
    "model.add(Dense(1, activation=\"sigmoid\"))\n",
    "\n",
    "model.compile(loss=\"binary_crossentropy\", optimizer=\"adam\", metrics=[\"accuracy\"])\n",
    "model.summary()"
   ]
  },
  {
   "cell_type": "code",
   "execution_count": 58,
   "id": "50cebc2e",
   "metadata": {
    "ExecuteTime": {
     "end_time": "2023-08-27T13:57:09.580014Z",
     "start_time": "2023-08-27T13:56:10.649397Z"
    }
   },
   "outputs": [
    {
     "name": "stdout",
     "output_type": "stream",
     "text": [
      "Epoch 1/100\n",
      "75/75 [==============================] - 17s 199ms/step - loss: 0.6963 - accuracy: 0.5158 - val_loss: 0.6968 - val_accuracy: 0.4967\n",
      "Epoch 2/100\n",
      "75/75 [==============================] - 14s 183ms/step - loss: 0.5352 - accuracy: 0.7312 - val_loss: 0.7646 - val_accuracy: 0.5383\n",
      "Epoch 3/100\n",
      "75/75 [==============================] - 13s 173ms/step - loss: 0.1184 - accuracy: 0.9729 - val_loss: 1.0315 - val_accuracy: 0.5300\n",
      "Epoch 4/100\n",
      "75/75 [==============================] - 13s 176ms/step - loss: 0.0149 - accuracy: 0.9996 - val_loss: 1.2428 - val_accuracy: 0.5117\n",
      "32/32 [==============================] - 2s 54ms/step - loss: 1.1740 - accuracy: 0.5440\n"
     ]
    },
    {
     "data": {
      "text/plain": [
       "[1.173995852470398, 0.5440000295639038]"
      ]
     },
     "execution_count": 58,
     "metadata": {},
     "output_type": "execute_result"
    }
   ],
   "source": [
    "early_stopping = EarlyStopping(patience=3)\n",
    "\n",
    "model.fit(X_train, y_train, epochs=100, callbacks=[early_stopping], validation_split=0.2)\n",
    "\n",
    "model.evaluate(X_test, y_test)"
   ]
  },
  {
   "cell_type": "markdown",
   "id": "b7444b29",
   "metadata": {},
   "source": [
    "**Dwuwarstwowy LSTM**"
   ]
  },
  {
   "cell_type": "code",
   "execution_count": 59,
   "id": "9a4f15ef",
   "metadata": {
    "ExecuteTime": {
     "end_time": "2023-08-27T13:58:14.640196Z",
     "start_time": "2023-08-27T13:58:14.175194Z"
    }
   },
   "outputs": [
    {
     "name": "stdout",
     "output_type": "stream",
     "text": [
      "Model: \"sequential_13\"\n",
      "_________________________________________________________________\n",
      " Layer (type)                Output Shape              Param #   \n",
      "=================================================================\n",
      " embedding_13 (Embedding)    (None, 400, 50)           250000    \n",
      "                                                                 \n",
      " lstm_3 (LSTM)               (None, 400, 32)           10624     \n",
      "                                                                 \n",
      " lstm_4 (LSTM)               (None, 32)                8320      \n",
      "                                                                 \n",
      " dense_10 (Dense)            (None, 1)                 33        \n",
      "                                                                 \n",
      "=================================================================\n",
      "Total params: 268,977\n",
      "Trainable params: 268,977\n",
      "Non-trainable params: 0\n",
      "_________________________________________________________________\n"
     ]
    }
   ],
   "source": [
    "n_features = 5000  # liczba tokenów\n",
    "n_embeddings = 50  # wymiar przestrzeni\n",
    "\n",
    "model = Sequential()\n",
    "\n",
    "model.add(Embedding(input_dim=n_features, output_dim=n_embeddings, input_length=maxlen))\n",
    "\n",
    "model.add(LSTM(32, return_sequences=True))  # potrezbne, żeby nie wyrzucać całej macierzy wyników\n",
    "model.add(LSTM(32))\n",
    "\n",
    "model.add(Dense(1, activation=\"sigmoid\"))\n",
    "\n",
    "model.compile(loss=\"binary_crossentropy\", optimizer=\"adam\", metrics=[\"accuracy\"])\n",
    "model.summary()"
   ]
  },
  {
   "cell_type": "code",
   "execution_count": 60,
   "id": "fd569235",
   "metadata": {
    "ExecuteTime": {
     "end_time": "2023-08-27T14:00:39.346834Z",
     "start_time": "2023-08-27T13:58:22.829012Z"
    }
   },
   "outputs": [
    {
     "name": "stdout",
     "output_type": "stream",
     "text": [
      "Epoch 1/100\n",
      "75/75 [==============================] - 28s 335ms/step - loss: 0.6690 - accuracy: 0.5779 - val_loss: 0.5770 - val_accuracy: 0.7200\n",
      "Epoch 2/100\n",
      "75/75 [==============================] - 24s 324ms/step - loss: 0.4058 - accuracy: 0.8263 - val_loss: 0.4195 - val_accuracy: 0.8250\n",
      "Epoch 3/100\n",
      "75/75 [==============================] - 27s 356ms/step - loss: 0.1870 - accuracy: 0.9354 - val_loss: 0.5331 - val_accuracy: 0.8033\n",
      "Epoch 4/100\n",
      "75/75 [==============================] - 26s 350ms/step - loss: 0.0803 - accuracy: 0.9767 - val_loss: 0.6215 - val_accuracy: 0.8083\n",
      "Epoch 5/100\n",
      "75/75 [==============================] - 27s 358ms/step - loss: 0.0539 - accuracy: 0.9879 - val_loss: 0.6623 - val_accuracy: 0.7783\n",
      "32/32 [==============================] - 4s 128ms/step - loss: 0.6329 - accuracy: 0.7810\n"
     ]
    },
    {
     "data": {
      "text/plain": [
       "[0.6328763961791992, 0.781000018119812]"
      ]
     },
     "execution_count": 60,
     "metadata": {},
     "output_type": "execute_result"
    }
   ],
   "source": [
    "early_stopping = EarlyStopping(patience=3)\n",
    "\n",
    "model.fit(X_train, y_train, epochs=100, callbacks=[early_stopping], validation_split=0.2)\n",
    "\n",
    "model.evaluate(X_test, y_test)"
   ]
  },
  {
   "cell_type": "markdown",
   "id": "fa31958b",
   "metadata": {},
   "source": [
    "## Gotowe, wytrenowane zanurzenia słów (embeddings)\n",
    "\n",
    "**realizacja zadania**: https://www.kaggle.com/code/micdab/lstm-using-pretrained-embeddings/edit"
   ]
  }
 ],
 "metadata": {
  "hide_input": false,
  "kernelspec": {
   "display_name": "Python 3 (ipykernel)",
   "language": "python",
   "name": "python3"
  },
  "language_info": {
   "codemirror_mode": {
    "name": "ipython",
    "version": 3
   },
   "file_extension": ".py",
   "mimetype": "text/x-python",
   "name": "python",
   "nbconvert_exporter": "python",
   "pygments_lexer": "ipython3",
   "version": "3.10.6"
  },
  "toc": {
   "base_numbering": 1,
   "nav_menu": {},
   "number_sections": true,
   "sideBar": true,
   "skip_h1_title": true,
   "title_cell": "Table of Contents",
   "title_sidebar": "Contents",
   "toc_cell": false,
   "toc_position": {},
   "toc_section_display": true,
   "toc_window_display": false
  },
  "varInspector": {
   "cols": {
    "lenName": 16,
    "lenType": 16,
    "lenVar": 40
   },
   "kernels_config": {
    "python": {
     "delete_cmd_postfix": "",
     "delete_cmd_prefix": "del ",
     "library": "var_list.py",
     "varRefreshCmd": "print(var_dic_list())"
    },
    "r": {
     "delete_cmd_postfix": ") ",
     "delete_cmd_prefix": "rm(",
     "library": "var_list.r",
     "varRefreshCmd": "cat(var_dic_list()) "
    }
   },
   "types_to_exclude": [
    "module",
    "function",
    "builtin_function_or_method",
    "instance",
    "_Feature"
   ],
   "window_display": false
  }
 },
 "nbformat": 4,
 "nbformat_minor": 5
}
