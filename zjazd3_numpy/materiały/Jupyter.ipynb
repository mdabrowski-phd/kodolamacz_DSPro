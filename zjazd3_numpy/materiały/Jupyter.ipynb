{
 "cells": [
  {
   "cell_type": "markdown",
   "metadata": {},
   "source": [
    "## Jupyter Notebook - narzędzie do pisania kodu oraz tekstu"
   ]
  },
  {
   "cell_type": "code",
   "execution_count": null,
   "metadata": {
    "scrolled": true
   },
   "outputs": [],
   "source": [
    "def test_function(x):\n",
    "    print(x)\n",
    "    print(\"This function is to show how to use code in Jupyter Notebook\")\n",
    "    \n",
    "test_function(\"hello\")"
   ]
  },
  {
   "cell_type": "markdown",
   "metadata": {},
   "source": [
    "Przykładowy *tekst* w formacie `Markdown`.\n",
    "- Więcej jego możliwości...\n",
    "- ...poznamy później\n",
    "---\n",
    "Struktura zawartości Jupyter Notebooka oparta jest o komórki - każda z nich funkcjonuje niezależnie i możemy wpisać do niej kod lub tekst"
   ]
  },
  {
   "cell_type": "markdown",
   "metadata": {},
   "source": [
    "## Poruszanie się po notebooku i podstawowe skróty klawiszowe\n",
    "Jupyter Notebook działa w dwóch trybach:\n",
    "- tryb edycji (zielony) - możemy edytować zawartość komórki\n",
    "- tryb poleceń (niebieski) - możemy korzystać z jupyterowych komend"
   ]
  },
  {
   "cell_type": "markdown",
   "metadata": {},
   "source": [
    "### Przełączanie się miedzy trybami\n",
    "Aby przejść z trybu poleceń do trybu edycji, czyli \"wejść do komórki\" używamy klawisza `Enter`.\n",
    "\n",
    "Aby przejść z trybu edycji do trybu poleceń, czyli \"wyjść z komórki\" używamy klawisza `Esc`"
   ]
  },
  {
   "cell_type": "markdown",
   "metadata": {},
   "source": [
    "### Przechodzenie miedzy komórkami\n",
    "Aby poruszać się po notebooku w kierunku góra-dół używamy strzałek będąc w trybie poleceń (niebieskim)"
   ]
  },
  {
   "cell_type": "markdown",
   "metadata": {},
   "source": [
    "### Uruchamianie komórek\n",
    "Aby uruchomić komórkę z kodem lub tekstem należy będąc w niej nacisnąć `Shift + Enter` lub `Control + Enter`. Polecenie działa zarówno w trybie edycji (zielonym) jak i trybie poleceń (niebieskim).\n",
    "\n",
    "Spróbuj uruchomić poniższe komórki obiema komendami i zwróć uwagę na różnicę."
   ]
  },
  {
   "cell_type": "code",
   "execution_count": 1,
   "metadata": {
    "ExecuteTime": {
     "end_time": "2023-03-25T08:22:00.446501Z",
     "start_time": "2023-03-25T08:22:00.429286Z"
    }
   },
   "outputs": [
    {
     "name": "stdout",
     "output_type": "stream",
     "text": [
      "4\n"
     ]
    }
   ],
   "source": [
    "print(2+2)"
   ]
  },
  {
   "cell_type": "code",
   "execution_count": 3,
   "metadata": {
    "ExecuteTime": {
     "end_time": "2023-03-25T08:22:24.766963Z",
     "start_time": "2023-03-25T08:22:24.760127Z"
    }
   },
   "outputs": [
    {
     "name": "stdout",
     "output_type": "stream",
     "text": [
      "hello\n"
     ]
    }
   ],
   "source": [
    "if 2 > 1:\n",
    "    print(\"hello\")"
   ]
  },
  {
   "cell_type": "markdown",
   "metadata": {},
   "source": [
    "Komórkę sformatowaną jako `Markdown` **również** można *uruchomić*"
   ]
  },
  {
   "cell_type": "markdown",
   "metadata": {},
   "source": [
    "### Tworzenie oraz usuwanie komórek\n",
    "Aby dodać nową komórkę wciśnij w trybie poleceń `a` (*above*) lub `b` (*below*)\n",
    "\n",
    "Aby usunąć komórkę wciśnij `x`. Aby cofnąć usunięcie należy wcisnąć `z`."
   ]
  },
  {
   "cell_type": "markdown",
   "metadata": {},
   "source": [
    "## Tekst (markdown)"
   ]
  },
  {
   "cell_type": "markdown",
   "metadata": {},
   "source": [
    "- Każda komórka może być w trybie kodu lub markdown\n",
    "- Istnieje więcej trybów, ale nie będziemy się nimi zajmować\n",
    "- Aby komórka była traktowana jako kod należy w trybie edycji wcisnąć klawisz `y`\n",
    "- Aby komórka była traktowana jako markdown należy w trybie edycji wcisnąć klawisz `m`"
   ]
  },
  {
   "cell_type": "markdown",
   "metadata": {},
   "source": [
    "### Możliwości trybu markdown"
   ]
  },
  {
   "cell_type": "markdown",
   "metadata": {},
   "source": [
    "Markdown daje nam liczne możliwości pod względem formatowania kodu. Są to na przykład nagłówki, które tworzymy za pomocą znaku `#` na początku linijki. Liczba hashy określa poziom nagłówka, a co za tym idzie - wielkość liter.\n",
    "- --\n",
    "*Możemy pisać kursywą jeśli otoczymy tekst gwiazdkami*\n",
    "- --\n",
    "**Możemy wyboldować tekst podwójnymi gwiazdkami**\n",
    "- --\n",
    "`Możemy pisać również w taki sposób`\n",
    "- --\n",
    "- Możemy\n",
    "- tworzyć\n",
    "- listę\n",
    "- punktów\n",
    "\n",
    "```python\n",
    "print(\"hello\")\n",
    "```"
   ]
  },
  {
   "cell_type": "markdown",
   "metadata": {},
   "source": [
    "## Kod"
   ]
  },
  {
   "cell_type": "code",
   "execution_count": 4,
   "metadata": {
    "ExecuteTime": {
     "end_time": "2023-03-25T08:25:35.122566Z",
     "start_time": "2023-03-25T08:25:35.117917Z"
    }
   },
   "outputs": [],
   "source": [
    "x = 1"
   ]
  },
  {
   "cell_type": "code",
   "execution_count": 5,
   "metadata": {
    "ExecuteTime": {
     "end_time": "2023-03-25T08:25:37.989068Z",
     "start_time": "2023-03-25T08:25:37.984520Z"
    }
   },
   "outputs": [],
   "source": [
    "y = 3"
   ]
  },
  {
   "cell_type": "code",
   "execution_count": 6,
   "metadata": {
    "ExecuteTime": {
     "end_time": "2023-03-25T08:25:39.666783Z",
     "start_time": "2023-03-25T08:25:39.655547Z"
    }
   },
   "outputs": [
    {
     "name": "stdout",
     "output_type": "stream",
     "text": [
      "1\n",
      "3\n"
     ]
    },
    {
     "data": {
      "text/plain": [
       "4"
      ]
     },
     "execution_count": 6,
     "metadata": {},
     "output_type": "execute_result"
    }
   ],
   "source": [
    "print(x)\n",
    "print(y)\n",
    "x + y"
   ]
  },
  {
   "cell_type": "markdown",
   "metadata": {},
   "source": [
    "###### Uwagi:\n",
    "- aby kod się wykonał nalezy uruchomić komórkę\n",
    "- po lewej stronie każdej komórki z kodem znajduje się licznik wykonanych komórek\n",
    "- puste nawiasy kwadratowe oznaczają że komórka nie została uruchomiona. Gwiazdka oznacza że komórka jest w trakcie uruchamiania\n",
    "- należy uważać na kolejność pisania kodu. JN może działać nawet jeśli nie piszemy kodu z góry na dół, ale otwierając notebook na nowo mogą pojawić się błędy"
   ]
  },
  {
   "cell_type": "markdown",
   "metadata": {},
   "source": [
    "## Komendy konsolowe"
   ]
  },
  {
   "cell_type": "code",
   "execution_count": 7,
   "metadata": {
    "ExecuteTime": {
     "end_time": "2023-03-25T08:27:41.380801Z",
     "start_time": "2023-03-25T08:27:41.254052Z"
    }
   },
   "outputs": [
    {
     "name": "stdout",
     "output_type": "stream",
     "text": [
      "'Jupyter - zadania.ipynb'  'Numpy - klasteryzacja.ipynb'     Numpy.ipynb\r\n",
      " Jupyter.ipynb\t\t   'Numpy - kolko i krzyzyk.ipynb'   dumps\r\n"
     ]
    }
   ],
   "source": [
    "!ls  # !dir (Windows)"
   ]
  },
  {
   "cell_type": "code",
   "execution_count": 8,
   "metadata": {
    "ExecuteTime": {
     "end_time": "2023-03-25T08:27:48.944876Z",
     "start_time": "2023-03-25T08:27:48.815559Z"
    }
   },
   "outputs": [
    {
     "name": "stdout",
     "output_type": "stream",
     "text": [
      "{\r\n",
      " \"cells\": [\r\n",
      "  {\r\n",
      "   \"cell_type\": \"markdown\",\r\n",
      "   \"metadata\": {},\r\n",
      "   \"source\": [\r\n",
      "    \"## Jupyter Notebook - narzędzie do pisania kodu oraz tekstu\"\r\n",
      "   ]\r\n",
      "  },\r\n",
      "  {\r\n",
      "   \"cell_type\": \"code\",\r\n",
      "   \"execution_count\": null,\r\n",
      "   \"metadata\": {\r\n",
      "    \"scrolled\": true\r\n",
      "   },\r\n",
      "   \"outputs\": [],\r\n",
      "   \"source\": [\r\n",
      "    \"def test_function(x):\\n\",\r\n",
      "    \"    print(x)\\n\",\r\n",
      "    \"    print(\\\"This function is to show how to use code in Jupyter Notebook\\\")\\n\",\r\n",
      "    \"    \\n\",\r\n",
      "    \"test_function(\\\"hello\\\")\"\r\n",
      "   ]\r\n",
      "  },\r\n",
      "  {\r\n",
      "   \"cell_type\": \"markdown\",\r\n",
      "   \"metadata\": {},\r\n",
      "   \"source\": [\r\n",
      "    \"Przykładowy *tekst* w formacie `Markdown`.\\n\",\r\n",
      "    \"- Więcej jego możliwości...\\n\",\r\n",
      "    \"- ...poznamy później\\n\",\r\n",
      "    \"---\\n\",\r\n",
      "    \"Struktura zawartości Jupyter Notebooka oparta jest o komórki - każda z nich funkcjonuje niezależnie i możemy wpisać do niej kod lub tekst\"\r\n",
      "   ]\r\n",
      "  },\r\n",
      "  {\r\n",
      "   \"cell_type\": \"markdown\",\r\n",
      "   \"metadata\": {},\r\n",
      "   \"source\": [\r\n",
      "    \"## Poruszanie się po notebooku i podstawowe skróty klawiszowe\\n\",\r\n",
      "    \"Jupyter Notebook działa w dwóch trybach:\\n\",\r\n",
      "    \"- tryb edycji (zielony) - możemy edytować zawartość komórki\\n\",\r\n",
      "    \"- tryb poleceń (niebieski) - możemy korzystać z jupyterowych komend\"\r\n",
      "   ]\r\n",
      "  },\r\n",
      "  {\r\n",
      "   \"cell_type\": \"markdown\",\r\n",
      "   \"metadata\": {},\r\n",
      "   \"source\": [\r\n",
      "    \"### Przełączanie się miedzy trybami\\n\",\r\n",
      "    \"Aby przejść z trybu poleceń do trybu edycji, czyli \\\"wejść do komórki\\\" używamy klawisza `Enter`.\\n\",\r\n",
      "    \"\\n\",\r\n",
      "    \"Aby przejść z trybu edycji do trybu poleceń, czyli \\\"wyjść z komórki\\\" używamy klawisza `Esc`\"\r\n",
      "   ]\r\n",
      "  },\r\n",
      "  {\r\n",
      "   \"cell_type\": \"markdown\",\r\n",
      "   \"metadata\": {},\r\n",
      "   \"source\": [\r\n",
      "    \"### Przechodzenie miedzy komórkami\\n\",\r\n",
      "    \"Aby poruszać się po notebooku w kierunku góra-dół używamy strzałek będąc w trybie poleceń (niebieskim)\"\r\n",
      "   ]\r\n",
      "  },\r\n",
      "  {\r\n",
      "   \"cell_type\": \"markdown\",\r\n",
      "   \"metadata\": {},\r\n",
      "   \"source\": [\r\n",
      "    \"### Uruchamianie komórek\\n\",\r\n",
      "    \"Aby uruchomić komórkę z kodem lub tekstem należy będąc w niej nacisnąć `Shift + Enter` lub `Control + Enter`. Polecenie działa zarówno w trybie edycji (zielonym) jak i trybie poleceń (niebieskim).\\n\",\r\n",
      "    \"\\n\",\r\n",
      "    \"Spróbuj uruchomić poniższe komórki obiema komendami i zwróć uwagę na różnicę.\"\r\n",
      "   ]\r\n",
      "  },\r\n",
      "  {\r\n",
      "   \"cell_type\": \"code\",\r\n",
      "   \"execution_count\": 1,\r\n",
      "   \"metadata\": {\r\n",
      "    \"ExecuteTime\": {\r\n",
      "     \"end_time\": \"2023-03-25T08:22:00.446501Z\",\r\n",
      "     \"start_time\": \"2023-03-25T08:22:00.429286Z\"\r\n",
      "    }\r\n",
      "   },\r\n",
      "   \"outputs\": [\r\n",
      "    {\r\n",
      "     \"name\": \"stdout\",\r\n",
      "     \"output_type\": \"stream\",\r\n",
      "     \"text\": [\r\n",
      "      \"4\\n\"\r\n",
      "     ]\r\n",
      "    }\r\n",
      "   ],\r\n",
      "   \"source\": [\r\n",
      "    \"print(2+2)\"\r\n",
      "   ]\r\n",
      "  },\r\n",
      "  {\r\n",
      "   \"cell_type\": \"code\",\r\n",
      "   \"execution_count\": 3,\r\n",
      "   \"metadata\": {\r\n",
      "    \"ExecuteTime\": {\r\n",
      "     \"end_time\": \"2023-03-25T08:22:24.766963Z\",\r\n",
      "     \"start_time\": \"2023-03-25T08:22:24.760127Z\"\r\n",
      "    }\r\n",
      "   },\r\n",
      "   \"outputs\": [\r\n",
      "    {\r\n",
      "     \"name\": \"stdout\",\r\n",
      "     \"output_type\": \"stream\",\r\n",
      "     \"text\": [\r\n",
      "      \"hello\\n\"\r\n",
      "     ]\r\n",
      "    }\r\n",
      "   ],\r\n",
      "   \"source\": [\r\n",
      "    \"if 2 > 1:\\n\",\r\n",
      "    \"    print(\\\"hello\\\")\"\r\n",
      "   ]\r\n",
      "  },\r\n",
      "  {\r\n",
      "   \"cell_type\": \"markdown\",\r\n",
      "   \"metadata\": {},\r\n",
      "   \"source\": [\r\n",
      "    \"Komórkę sformatowaną jako `Markdown` **również** można *uruchomić*\"\r\n",
      "   ]\r\n",
      "  },\r\n",
      "  {\r\n",
      "   \"cell_type\": \"markdown\",\r\n",
      "   \"metadata\": {},\r\n",
      "   \"source\": [\r\n",
      "    \"### Tworzenie oraz usuwanie komórek\\n\",\r\n",
      "    \"Aby dodać nową komórkę wciśnij w trybie poleceń `a` (*above*) lub `b` (*below*)\\n\",\r\n",
      "    \"\\n\",\r\n",
      "    \"Aby usunąć komórkę wciśnij `x`. Aby cofnąć usunięcie należy wcisnąć `z`.\"\r\n",
      "   ]\r\n",
      "  },\r\n",
      "  {\r\n",
      "   \"cell_type\": \"markdown\",\r\n",
      "   \"metadata\": {},\r\n",
      "   \"source\": [\r\n",
      "    \"## Tekst (markdown)\"\r\n",
      "   ]\r\n",
      "  },\r\n",
      "  {\r\n",
      "   \"cell_type\": \"markdown\",\r\n",
      "   \"metadata\": {},\r\n",
      "   \"source\": [\r\n",
      "    \"- Każda komórka może być w trybie kodu lub markdown\\n\",\r\n",
      "    \"- Istnieje więcej trybów, ale nie będziemy się nimi zajmować\\n\",\r\n",
      "    \"- Aby komórka była traktowana jako kod należy w trybie edycji wcisnąć klawisz `y`\\n\",\r\n",
      "    \"- Aby komórka była traktowana jako markdown należy w trybie edycji wcisnąć klawisz `m`\"\r\n",
      "   ]\r\n",
      "  },\r\n",
      "  {\r\n",
      "   \"cell_type\": \"markdown\",\r\n",
      "   \"metadata\": {},\r\n",
      "   \"source\": [\r\n",
      "    \"### Możliwości trybu markdown\"\r\n",
      "   ]\r\n",
      "  },\r\n",
      "  {\r\n",
      "   \"cell_type\": \"markdown\",\r\n",
      "   \"metadata\": {},\r\n",
      "   \"source\": [\r\n",
      "    \"Markdown daje nam liczne możliwości pod względem formatowania kodu. Są to na przykład nagłówki, które tworzymy za pomocą znaku `#` na początku linijki. Liczba hashy określa poziom nagłówka, a co za tym idzie - wielkość liter.\\n\",\r\n",
      "    \"- --\\n\",\r\n",
      "    \"*Możemy pisać kursywą jeśli otoczymy tekst gwiazdkami*\\n\",\r\n",
      "    \"- --\\n\",\r\n",
      "    \"**Możemy wyboldować tekst podwójnymi gwiazdkami**\\n\",\r\n",
      "    \"- --\\n\",\r\n",
      "    \"`Możemy pisać również w taki sposób`\\n\",\r\n",
      "    \"- --\\n\",\r\n",
      "    \"- Możemy\\n\",\r\n",
      "    \"- tworzyć\\n\",\r\n",
      "    \"- listę\\n\",\r\n",
      "    \"- punktów\\n\",\r\n",
      "    \"\\n\",\r\n",
      "    \"```python\\n\",\r\n",
      "    \"print(\\\"hello\\\")\\n\",\r\n",
      "    \"```\"\r\n",
      "   ]\r\n",
      "  },\r\n",
      "  {\r\n",
      "   \"cell_type\": \"markdown\",\r\n",
      "   \"metadata\": {},\r\n",
      "   \"source\": [\r\n",
      "    \"## Kod\"\r\n",
      "   ]\r\n",
      "  },\r\n",
      "  {\r\n",
      "   \"cell_type\": \"code\",\r\n",
      "   \"execution_count\": 4,\r\n",
      "   \"metadata\": {\r\n",
      "    \"ExecuteTime\": {\r\n",
      "     \"end_time\": \"2023-03-25T08:25:35.122566Z\",\r\n",
      "     \"start_time\": \"2023-03-25T08:25:35.117917Z\"\r\n",
      "    }\r\n",
      "   },\r\n",
      "   \"outputs\": [],\r\n",
      "   \"source\": [\r\n",
      "    \"x = 1\"\r\n",
      "   ]\r\n",
      "  },\r\n",
      "  {\r\n",
      "   \"cell_type\": \"code\",\r\n",
      "   \"execution_count\": 5,\r\n",
      "   \"metadata\": {\r\n",
      "    \"ExecuteTime\": {\r\n",
      "     \"end_time\": \"2023-03-25T08:25:37.989068Z\",\r\n",
      "     \"start_time\": \"2023-03-25T08:25:37.984520Z\"\r\n",
      "    }\r\n",
      "   },\r\n",
      "   \"outputs\": [],\r\n",
      "   \"source\": [\r\n",
      "    \"y = 3\"\r\n",
      "   ]\r\n",
      "  },\r\n",
      "  {\r\n",
      "   \"cell_type\": \"code\",\r\n",
      "   \"execution_count\": 6,\r\n",
      "   \"metadata\": {\r\n",
      "    \"ExecuteTime\": {\r\n",
      "     \"end_time\": \"2023-03-25T08:25:39.666783Z\",\r\n",
      "     \"start_time\": \"2023-03-25T08:25:39.655547Z\"\r\n",
      "    }\r\n",
      "   },\r\n",
      "   \"outputs\": [\r\n",
      "    {\r\n",
      "     \"name\": \"stdout\",\r\n",
      "     \"output_type\": \"stream\",\r\n",
      "     \"text\": [\r\n",
      "      \"1\\n\",\r\n",
      "      \"3\\n\"\r\n",
      "     ]\r\n",
      "    },\r\n",
      "    {\r\n",
      "     \"data\": {\r\n",
      "      \"text/plain\": [\r\n",
      "       \"4\"\r\n",
      "      ]\r\n",
      "     },\r\n",
      "     \"execution_count\": 6,\r\n",
      "     \"metadata\": {},\r\n",
      "     \"output_type\": \"execute_result\"\r\n",
      "    }\r\n",
      "   ],\r\n",
      "   \"source\": [\r\n",
      "    \"print(x)\\n\",\r\n",
      "    \"print(y)\\n\",\r\n",
      "    \"x + y\"\r\n",
      "   ]\r\n",
      "  },\r\n",
      "  {\r\n",
      "   \"cell_type\": \"markdown\",\r\n",
      "   \"metadata\": {},\r\n",
      "   \"source\": [\r\n",
      "    \"###### Uwagi:\\n\",\r\n",
      "    \"- aby kod się wykonał nalezy uruchomić komórkę\\n\",\r\n",
      "    \"- po lewej stronie każdej komórki z kodem znajduje się licznik wykonanych komórek\\n\",\r\n",
      "    \"- puste nawiasy kwadratowe oznaczają że komórka nie została uruchomiona. Gwiazdka oznacza że komórka jest w trakcie uruchamiania\\n\",\r\n",
      "    \"- należy uważać na kolejność pisania kodu. JN może działać nawet jeśli nie piszemy kodu z góry na dół, ale otwierając notebook na nowo mogą pojawić się błędy\"\r\n",
      "   ]\r\n",
      "  },\r\n",
      "  {\r\n",
      "   \"cell_type\": \"markdown\",\r\n",
      "   \"metadata\": {},\r\n",
      "   \"source\": [\r\n",
      "    \"## Komendy konsolowe\"\r\n",
      "   ]\r\n",
      "  },\r\n",
      "  {\r\n",
      "   \"cell_type\": \"code\",\r\n",
      "   \"execution_count\": null,\r\n",
      "   \"metadata\": {},\r\n",
      "   \"outputs\": [],\r\n",
      "   \"source\": [\r\n",
      "    \"!ls  # !dir (Windows)\"\r\n",
      "   ]\r\n",
      "  },\r\n",
      "  {\r\n",
      "   \"cell_type\": \"code\",\r\n",
      "   \"execution_count\": null,\r\n",
      "   \"metadata\": {},\r\n",
      "   \"outputs\": [],\r\n",
      "   \"source\": [\r\n",
      "    \"!cat Jupyter.ipynb  # !type Jupyter.ipynb (Windows)\"\r\n",
      "   ]\r\n",
      "  },\r\n",
      "  {\r\n",
      "   \"cell_type\": \"code\",\r\n",
      "   \"execution_count\": null,\r\n",
      "   \"metadata\": {},\r\n",
      "   \"outputs\": [],\r\n",
      "   \"source\": [\r\n",
      "    \"!which python  # !where python (Windows)\"\r\n",
      "   ]\r\n",
      "  },\r\n",
      "  {\r\n",
      "   \"cell_type\": \"code\",\r\n",
      "   \"execution_count\": null,\r\n",
      "   \"metadata\": {},\r\n",
      "   \"outputs\": [],\r\n",
      "   \"source\": [\r\n",
      "    \"pip install numpy\"\r\n",
      "   ]\r\n",
      "  },\r\n",
      "  {\r\n",
      "   \"cell_type\": \"markdown\",\r\n",
      "   \"metadata\": {},\r\n",
      "   \"source\": [\r\n",
      "    \"### `nbextensions`\\n\",\r\n",
      "    \"\\n\",\r\n",
      "    \"https://jupyter-contrib-nbextensions.readthedocs.io/en/latest/install.html\\n\",\r\n",
      "    \"\\n\",\r\n",
      "    \"Rozszerzenia do JN, np. automatyczne numerowanie nagłówków i generowanie spisu treści\\n\",\r\n",
      "    \"\\n\",\r\n",
      "    \"pip\\n\",\r\n",
      "    \"```\\n\",\r\n",
      "    \"pip install jupyter_contrib_nbextensions\\n\",\r\n",
      "    \"jupyter contrib nbextension install --user\\n\",\r\n",
      "    \"jupyter nbextension enable varInspector/main\\n\",\r\n",
      "    \"```\\n\",\r\n",
      "    \"\\n\",\r\n",
      "    \"conda\\n\",\r\n",
      "    \"```\\n\",\r\n",
      "    \"conda install -c conda-forge jupyter_contrib_nbextensions\\n\",\r\n",
      "    \"jupyter nbextensions_configurator enable --user\\n\",\r\n",
      "    \"```\"\r\n",
      "   ]\r\n",
      "  },\r\n",
      "  {\r\n",
      "   \"cell_type\": \"markdown\",\r\n",
      "   \"metadata\": {},\r\n",
      "   \"source\": [\r\n",
      "    \"### Kernel Jupyter Notebooka\"\r\n",
      "   ]\r\n",
      "  },\r\n",
      "  {\r\n",
      "   \"cell_type\": \"markdown\",\r\n",
      "   \"metadata\": {},\r\n",
      "   \"source\": [\r\n",
      "    \"- JN uruchomiony jest w terminalu (konsoli). Zamknięcie przeglądarki nie wyłącza go\\n\",\r\n",
      "    \"- Aby zresetować stan notebooka (zmienne w pamięci itp.) nalezy zrestartować kernel\\n\",\r\n",
      "    \"- Jeżeli jakaś komórka wykonuje się zbyt długo i chcemy ją zatrzymać nalezy wykonać `Interrupt`\"\r\n",
      "   ]\r\n",
      "  },\r\n",
      "  {\r\n",
      "   \"cell_type\": \"markdown\",\r\n",
      "   \"metadata\": {},\r\n",
      "   \"source\": [\r\n",
      "    \"### Autouzupełnianie kodu i sprawdzanie dokumentacji\"\r\n",
      "   ]\r\n",
      "  },\r\n",
      "  {\r\n",
      "   \"cell_type\": \"code\",\r\n",
      "   \"execution_count\": null,\r\n",
      "   \"metadata\": {},\r\n",
      "   \"outputs\": [],\r\n",
      "   \"source\": [\r\n",
      "    \"my_variable = 1\"\r\n",
      "   ]\r\n",
      "  },\r\n",
      "  {\r\n",
      "   \"cell_type\": \"code\",\r\n",
      "   \"execution_count\": null,\r\n",
      "   \"metadata\": {},\r\n",
      "   \"outputs\": [],\r\n",
      "   \"source\": [\r\n",
      "    \"my_variable\"\r\n",
      "   ]\r\n",
      "  },\r\n",
      "  {\r\n",
      "   \"cell_type\": \"code\",\r\n",
      "   \"execution_count\": null,\r\n",
      "   \"metadata\": {},\r\n",
      "   \"outputs\": [],\r\n",
      "   \"source\": [\r\n",
      "    \"my_variable2 = 3\"\r\n",
      "   ]\r\n",
      "  },\r\n",
      "  {\r\n",
      "   \"cell_type\": \"code\",\r\n",
      "   \"execution_count\": null,\r\n",
      "   \"metadata\": {},\r\n",
      "   \"outputs\": [],\r\n",
      "   \"source\": [\r\n",
      "    \"my_variable2\"\r\n",
      "   ]\r\n",
      "  },\r\n",
      "  {\r\n",
      "   \"cell_type\": \"code\",\r\n",
      "   \"execution_count\": null,\r\n",
      "   \"metadata\": {},\r\n",
      "   \"outputs\": [],\r\n",
      "   \"source\": []\r\n",
      "  },\r\n",
      "  {\r\n",
      "   \"cell_type\": \"markdown\",\r\n",
      "   \"metadata\": {},\r\n",
      "   \"source\": [\r\n",
      "    \"Zacznij pisać poniżej nazwę zmiennej `my_variable` i wciśnij `Tab`\"\r\n",
      "   ]\r\n",
      "  },\r\n",
      "  {\r\n",
      "   \"cell_type\": \"code\",\r\n",
      "   \"execution_count\": null,\r\n",
      "   \"metadata\": {},\r\n",
      "   \"outputs\": [],\r\n",
      "   \"source\": [\r\n",
      "    \"# ...\"\r\n",
      "   ]\r\n",
      "  },\r\n",
      "  {\r\n",
      "   \"cell_type\": \"markdown\",\r\n",
      "   \"metadata\": {},\r\n",
      "   \"source\": [\r\n",
      "    \"---\"\r\n",
      "   ]\r\n",
      "  },\r\n",
      "  {\r\n",
      "   \"cell_type\": \"code\",\r\n",
      "   \"execution_count\": null,\r\n",
      "   \"metadata\": {},\r\n",
      "   \"outputs\": [],\r\n",
      "   \"source\": [\r\n",
      "    \"import numpy as np\"\r\n",
      "   ]\r\n",
      "  },\r\n",
      "  {\r\n",
      "   \"cell_type\": \"code\",\r\n",
      "   \"execution_count\": null,\r\n",
      "   \"metadata\": {},\r\n",
      "   \"outputs\": [],\r\n",
      "   \"source\": [\r\n",
      "    \"np.array(    # wciśnij Shift + Tab\"\r\n",
      "   ]\r\n",
      "  },\r\n",
      "  {\r\n",
      "   \"cell_type\": \"markdown\",\r\n",
      "   \"metadata\": {},\r\n",
      "   \"source\": [\r\n",
      "    \"## Podsumowanie najważniejszych skrótów klawiszowych\"\r\n",
      "   ]\r\n",
      "  },\r\n",
      "  {\r\n",
      "   \"cell_type\": \"markdown\",\r\n",
      "   \"metadata\": {},\r\n",
      "   \"source\": [\r\n",
      "    \"`Shift + Enter`, `Control + Enter` - uruchom komórkę\\n\",\r\n",
      "    \"\\n\",\r\n",
      "    \"`Escape` - wyjdź do trybu poleceń\\n\",\r\n",
      "    \"\\n\",\r\n",
      "    \"`Enter` - wejdź do trybu edycji\\n\",\r\n",
      "    \"\\n\",\r\n",
      "    \"`Arrow Up`, `Arrow Down` - przełączaj się między komórkami\\n\",\r\n",
      "    \"\\n\",\r\n",
      "    \"`a`, `b` - utwórz komórkę powyżej lub poniżej\\n\",\r\n",
      "    \"\\n\",\r\n",
      "    \"`m`, `y` - przełącz w tryb markdown lub kod\\n\",\r\n",
      "    \"\\n\",\r\n",
      "    \"`x` - usuń komórkę\\n\",\r\n",
      "    \"\\n\",\r\n",
      "    \"`z` - cofnij usunięcie\"\r\n",
      "   ]\r\n",
      "  }\r\n",
      " ],\r\n",
      " \"metadata\": {\r\n",
      "  \"hide_input\": false,\r\n",
      "  \"kernelspec\": {\r\n",
      "   \"display_name\": \"Python 3 (ipykernel)\",\r\n",
      "   \"language\": \"python\",\r\n",
      "   \"name\": \"python3\"\r\n",
      "  },\r\n",
      "  \"language_info\": {\r\n",
      "   \"codemirror_mode\": {\r\n",
      "    \"name\": \"ipython\",\r\n",
      "    \"version\": 3\r\n",
      "   },\r\n",
      "   \"file_extension\": \".py\",\r\n",
      "   \"mimetype\": \"text/x-python\",\r\n",
      "   \"name\": \"python\",\r\n",
      "   \"nbconvert_exporter\": \"python\",\r\n",
      "   \"pygments_lexer\": \"ipython3\",\r\n",
      "   \"version\": \"3.10.6\"\r\n",
      "  },\r\n",
      "  \"toc\": {\r\n",
      "   \"base_numbering\": 1,\r\n",
      "   \"nav_menu\": {},\r\n",
      "   \"number_sections\": true,\r\n",
      "   \"sideBar\": true,\r\n",
      "   \"skip_h1_title\": false,\r\n",
      "   \"title_cell\": \"Table of Contents\",\r\n",
      "   \"title_sidebar\": \"Contents\",\r\n",
      "   \"toc_cell\": false,\r\n",
      "   \"toc_position\": {\r\n",
      "    \"height\": \"calc(100% - 180px)\",\r\n",
      "    \"left\": \"10px\",\r\n",
      "    \"top\": \"150px\",\r\n",
      "    \"width\": \"253.267px\"\r\n",
      "   },\r\n",
      "   \"toc_section_display\": true,\r\n",
      "   \"toc_window_display\": true\r\n",
      "  },\r\n",
      "  \"varInspector\": {\r\n",
      "   \"cols\": {\r\n",
      "    \"lenName\": 16,\r\n",
      "    \"lenType\": 16,\r\n",
      "    \"lenVar\": 40\r\n",
      "   },\r\n",
      "   \"kernels_config\": {\r\n",
      "    \"python\": {\r\n",
      "     \"delete_cmd_postfix\": \"\",\r\n",
      "     \"delete_cmd_prefix\": \"del \",\r\n",
      "     \"library\": \"var_list.py\",\r\n",
      "     \"varRefreshCmd\": \"print(var_dic_list())\"\r\n",
      "    },\r\n",
      "    \"r\": {\r\n",
      "     \"delete_cmd_postfix\": \") \",\r\n",
      "     \"delete_cmd_prefix\": \"rm(\",\r\n",
      "     \"library\": \"var_list.r\",\r\n",
      "     \"varRefreshCmd\": \"cat(var_dic_list()) \"\r\n",
      "    }\r\n",
      "   },\r\n",
      "   \"types_to_exclude\": [\r\n",
      "    \"module\",\r\n",
      "    \"function\",\r\n",
      "    \"builtin_function_or_method\",\r\n",
      "    \"instance\",\r\n",
      "    \"_Feature\"\r\n",
      "   ],\r\n",
      "   \"window_display\": true\r\n",
      "  }\r\n",
      " },\r\n",
      " \"nbformat\": 4,\r\n",
      " \"nbformat_minor\": 2\r\n",
      "}\r\n"
     ]
    }
   ],
   "source": [
    "!cat Jupyter.ipynb  # !type Jupyter.ipynb (Windows)"
   ]
  },
  {
   "cell_type": "code",
   "execution_count": 20,
   "metadata": {
    "ExecuteTime": {
     "end_time": "2023-03-25T08:32:45.459881Z",
     "start_time": "2023-03-25T08:32:45.212271Z"
    }
   },
   "outputs": [
    {
     "name": "stdout",
     "output_type": "stream",
     "text": [
      "/usr/bin/python3\n",
      "/mnt/e/DataSciencePRO/bootcamp_2023-02-25/materiały\n"
     ]
    }
   ],
   "source": [
    "!which python3  # !where python (Windows) # !which python (Anaconda env)\n",
    "!pwd"
   ]
  },
  {
   "cell_type": "code",
   "execution_count": null,
   "metadata": {},
   "outputs": [],
   "source": [
    "pip install numpy"
   ]
  },
  {
   "cell_type": "markdown",
   "metadata": {},
   "source": [
    "### `nbextensions`\n",
    "\n",
    "https://jupyter-contrib-nbextensions.readthedocs.io/en/latest/install.html\n",
    "\n",
    "Rozszerzenia do JN, np. automatyczne numerowanie nagłówków i generowanie spisu treści\n",
    "\n",
    "pip\n",
    "```\n",
    "pip install jupyter_contrib_nbextensions\n",
    "jupyter contrib nbextension install --user\n",
    "jupyter nbextension enable varInspector/main\n",
    "```\n",
    "\n",
    "conda\n",
    "```\n",
    "conda install -c conda-forge jupyter_contrib_nbextensions\n",
    "jupyter nbextensions_configurator enable --user\n",
    "```"
   ]
  },
  {
   "cell_type": "markdown",
   "metadata": {},
   "source": [
    "### Kernel Jupyter Notebooka"
   ]
  },
  {
   "cell_type": "markdown",
   "metadata": {},
   "source": [
    "- JN uruchomiony jest w terminalu (konsoli). Zamknięcie przeglądarki nie wyłącza go\n",
    "- Aby zresetować stan notebooka (zmienne w pamięci itp.) nalezy zrestartować kernel\n",
    "- Jeżeli jakaś komórka wykonuje się zbyt długo i chcemy ją zatrzymać nalezy wykonać `Interrupt`"
   ]
  },
  {
   "cell_type": "markdown",
   "metadata": {},
   "source": [
    "### Autouzupełnianie kodu i sprawdzanie dokumentacji"
   ]
  },
  {
   "cell_type": "code",
   "execution_count": 1,
   "metadata": {
    "ExecuteTime": {
     "end_time": "2023-03-25T09:02:19.307780Z",
     "start_time": "2023-03-25T09:02:19.302863Z"
    }
   },
   "outputs": [],
   "source": [
    "my_variable = 1"
   ]
  },
  {
   "cell_type": "code",
   "execution_count": 5,
   "metadata": {
    "ExecuteTime": {
     "end_time": "2023-03-25T09:07:38.324814Z",
     "start_time": "2023-03-25T09:07:38.317864Z"
    }
   },
   "outputs": [
    {
     "data": {
      "text/plain": [
       "1"
      ]
     },
     "execution_count": 5,
     "metadata": {},
     "output_type": "execute_result"
    }
   ],
   "source": [
    "my_variable"
   ]
  },
  {
   "cell_type": "code",
   "execution_count": 3,
   "metadata": {
    "ExecuteTime": {
     "end_time": "2023-03-25T09:07:11.940456Z",
     "start_time": "2023-03-25T09:07:11.934402Z"
    }
   },
   "outputs": [],
   "source": [
    "my_variable2 = 3"
   ]
  },
  {
   "cell_type": "code",
   "execution_count": 4,
   "metadata": {
    "ExecuteTime": {
     "end_time": "2023-03-25T09:07:14.311889Z",
     "start_time": "2023-03-25T09:07:14.302991Z"
    }
   },
   "outputs": [
    {
     "data": {
      "text/plain": [
       "3"
      ]
     },
     "execution_count": 4,
     "metadata": {},
     "output_type": "execute_result"
    }
   ],
   "source": [
    "my_variable2"
   ]
  },
  {
   "cell_type": "markdown",
   "metadata": {},
   "source": [
    "Zacznij pisać poniżej nazwę zmiennej `my_variable` i wciśnij `Tab`"
   ]
  },
  {
   "cell_type": "code",
   "execution_count": 7,
   "metadata": {
    "ExecuteTime": {
     "end_time": "2023-03-25T09:08:14.714549Z",
     "start_time": "2023-03-25T09:08:14.707581Z"
    }
   },
   "outputs": [
    {
     "data": {
      "text/plain": [
       "1"
      ]
     },
     "execution_count": 7,
     "metadata": {},
     "output_type": "execute_result"
    }
   ],
   "source": [
    "my_variable"
   ]
  },
  {
   "cell_type": "markdown",
   "metadata": {},
   "source": [
    "---"
   ]
  },
  {
   "cell_type": "code",
   "execution_count": null,
   "metadata": {},
   "outputs": [],
   "source": [
    "import numpy as np"
   ]
  },
  {
   "cell_type": "code",
   "execution_count": null,
   "metadata": {},
   "outputs": [],
   "source": [
    "np.array(    # wciśnij Shift + Tab"
   ]
  },
  {
   "cell_type": "markdown",
   "metadata": {},
   "source": [
    "## Podsumowanie najważniejszych skrótów klawiszowych"
   ]
  },
  {
   "cell_type": "markdown",
   "metadata": {},
   "source": [
    "`Shift + Enter`, `Control + Enter` - uruchom komórkę\n",
    "\n",
    "`Escape` - wyjdź do trybu poleceń\n",
    "\n",
    "`Enter` - wejdź do trybu edycji\n",
    "\n",
    "`Arrow Up`, `Arrow Down` - przełączaj się między komórkami\n",
    "\n",
    "`a`, `b` - utwórz komórkę powyżej lub poniżej\n",
    "\n",
    "`m`, `y` - przełącz w tryb markdown lub kod\n",
    "\n",
    "`x` - usuń komórkę\n",
    "\n",
    "`z` - cofnij usunięcie"
   ]
  }
 ],
 "metadata": {
  "hide_input": false,
  "kernelspec": {
   "display_name": "Python 3 (ipykernel)",
   "language": "python",
   "name": "python3"
  },
  "language_info": {
   "codemirror_mode": {
    "name": "ipython",
    "version": 3
   },
   "file_extension": ".py",
   "mimetype": "text/x-python",
   "name": "python",
   "nbconvert_exporter": "python",
   "pygments_lexer": "ipython3",
   "version": "3.10.6"
  },
  "toc": {
   "base_numbering": 1,
   "nav_menu": {},
   "number_sections": true,
   "sideBar": true,
   "skip_h1_title": false,
   "title_cell": "Table of Contents",
   "title_sidebar": "Contents",
   "toc_cell": false,
   "toc_position": {
    "height": "calc(100% - 180px)",
    "left": "10px",
    "top": "150px",
    "width": "253.267px"
   },
   "toc_section_display": true,
   "toc_window_display": true
  },
  "varInspector": {
   "cols": {
    "lenName": 16,
    "lenType": 16,
    "lenVar": 40
   },
   "kernels_config": {
    "python": {
     "delete_cmd_postfix": "",
     "delete_cmd_prefix": "del ",
     "library": "var_list.py",
     "varRefreshCmd": "print(var_dic_list())"
    },
    "r": {
     "delete_cmd_postfix": ") ",
     "delete_cmd_prefix": "rm(",
     "library": "var_list.r",
     "varRefreshCmd": "cat(var_dic_list()) "
    }
   },
   "types_to_exclude": [
    "module",
    "function",
    "builtin_function_or_method",
    "instance",
    "_Feature"
   ],
   "window_display": false
  }
 },
 "nbformat": 4,
 "nbformat_minor": 2
}
