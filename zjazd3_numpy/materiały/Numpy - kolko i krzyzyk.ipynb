{
 "cells": [
  {
   "cell_type": "markdown",
   "metadata": {},
   "source": [
    "# Gra w kółko i krzyżyk\n",
    "\n",
    "Korzystając z poniższych wytycznych zaimplementuj kolejne etapy gry w kółko i krzyżyk. Będziemy stosować się do następujących wytycznych:\n",
    "- plansza do gry to macierz stringów 3x3 \n",
    "- pozycje na planszy są wyznaczane przez współrzędne (y, x), analogiczne jak podczas odnoszenia się do danego elementu macierzy\n",
    "- w podstawowej wersji gry będzie uczestniczyć dwóch graczy-ludzi. Można również zaprogramować rozgrywkę z komputerem"
   ]
  },
  {
   "cell_type": "code",
   "execution_count": 1,
   "metadata": {
    "ExecuteTime": {
     "end_time": "2023-03-26T09:28:57.192088Z",
     "start_time": "2023-03-26T09:28:57.186692Z"
    }
   },
   "outputs": [],
   "source": [
    "import numpy as np "
   ]
  },
  {
   "cell_type": "markdown",
   "metadata": {},
   "source": [
    "## Wygenerowanie pustej planszy\n",
    "\n",
    "Napisz funkcję `generate_board` która zwróci pustą planszę do gry. Powinna to być macierz stringów 3x3. Niech puste pole będzie oznaczone przez kropkę: \".\"."
   ]
  },
  {
   "cell_type": "code",
   "execution_count": 2,
   "metadata": {
    "ExecuteTime": {
     "end_time": "2023-03-26T09:28:59.994151Z",
     "start_time": "2023-03-26T09:28:59.990066Z"
    }
   },
   "outputs": [],
   "source": [
    "def generate_board():\n",
    "    return np.full((3, 3), '.')"
   ]
  },
  {
   "cell_type": "code",
   "execution_count": 3,
   "metadata": {
    "ExecuteTime": {
     "end_time": "2023-03-26T09:29:01.344085Z",
     "start_time": "2023-03-26T09:29:01.338161Z"
    }
   },
   "outputs": [
    {
     "name": "stdout",
     "output_type": "stream",
     "text": [
      "[['.' '.' '.']\n",
      " ['.' '.' '.']\n",
      " ['.' '.' '.']]\n"
     ]
    }
   ],
   "source": [
    "board = generate_board()\n",
    "print(board)"
   ]
  },
  {
   "cell_type": "markdown",
   "metadata": {},
   "source": [
    "## Kładzenie na planszy nowych elementów\n",
    "\n",
    "Napisz funkcję `put_item_on_board`, która będzie przyjmować oraz zwracać następujące wartości:\n",
    "\n",
    "###### Parametry:\n",
    "- `board`: plansza przechowująca aktualny stan rozgrywki\n",
    "- `coordinates`: tuple ze współrzędnymi (y, x) na których chcemy położyć kolejny element\n",
    "- `mark`: litera x lub o, w zależności od tego jaki znaczek chcemy położyć\n",
    "\n",
    "###### Outputy:\n",
    "- `board`: zaktualizowana plansza\n",
    "- `is_success`: zmienna logiczna zależna od tego czy położenie nowego elementu odbyło się prawidłowo (podpowiedź: jeśli będziemy próbowali położyć element na zajętym polu to wartość tego outputa będzie równa `False`)\n",
    "\n",
    "Podpowiedź:\n",
    "Żeby odwołać się do konkretnego elementu macierzy możemy do kwadratowych nawiasów podać bezpośrednio tuple:\n",
    "\n",
    "`x = A[(1, 2)]`"
   ]
  },
  {
   "cell_type": "code",
   "execution_count": 4,
   "metadata": {
    "ExecuteTime": {
     "end_time": "2023-03-26T09:29:05.064593Z",
     "start_time": "2023-03-26T09:29:05.058215Z"
    }
   },
   "outputs": [],
   "source": [
    "def put_item_on_board(board, coordinates, mark):\n",
    "    \n",
    "    is_success = False\n",
    "    y, x = coordinates\n",
    "    \n",
    "    if mark not in ('x', 'o'):\n",
    "        return board, is_success\n",
    "    \n",
    "    if not((0 <= x <= 2) and (0 <= y <= 2)):\n",
    "        return board, is_success\n",
    "    \n",
    "    if board[coordinates] != '.':\n",
    "        return board, is_success\n",
    "\n",
    "    board[coordinates] = mark\n",
    "    is_success = True\n",
    "        \n",
    "    return board, is_success"
   ]
  },
  {
   "cell_type": "code",
   "execution_count": 5,
   "metadata": {
    "ExecuteTime": {
     "end_time": "2023-03-26T09:29:06.271967Z",
     "start_time": "2023-03-26T09:29:06.265206Z"
    }
   },
   "outputs": [
    {
     "name": "stdout",
     "output_type": "stream",
     "text": [
      "[['.' '.' '.']\n",
      " ['.' '.' '.']\n",
      " ['.' '.' '.']]\n"
     ]
    }
   ],
   "source": [
    "board = generate_board()\n",
    "print(board)"
   ]
  },
  {
   "cell_type": "code",
   "execution_count": 6,
   "metadata": {
    "ExecuteTime": {
     "end_time": "2023-03-26T09:29:12.617134Z",
     "start_time": "2023-03-26T09:29:12.610028Z"
    }
   },
   "outputs": [
    {
     "name": "stdout",
     "output_type": "stream",
     "text": [
      "[['.' '.' '.']\n",
      " ['.' '.' '.']\n",
      " ['.' '.' 'x']]\n",
      "True\n"
     ]
    }
   ],
   "source": [
    "board, is_success = put_item_on_board(board, (2, 2), 'x')\n",
    "print(board)\n",
    "print(is_success)"
   ]
  },
  {
   "cell_type": "markdown",
   "metadata": {},
   "source": [
    "## Sprawdzenie czy po ruchu gracza należy zakończyć grę\n",
    "\n",
    "Napisz funkcję `check_if_game_over` która sprawdzi czy gra powinna się zakończyć. Powinna ona przyjmować oraz zwracać:\n",
    "\n",
    "###### Parametr:\n",
    "- `board`: plansza ze stanem rozgrywki po ruchu\n",
    "\n",
    "###### Output:\n",
    "- `is_game_over`: zmienna logiczna która określi czy gra się powinna już skończyć czy jeszcze nie"
   ]
  },
  {
   "cell_type": "code",
   "execution_count": 26,
   "metadata": {
    "ExecuteTime": {
     "end_time": "2023-03-26T09:52:49.826149Z",
     "start_time": "2023-03-26T09:52:49.819338Z"
    }
   },
   "outputs": [],
   "source": [
    "def check_if_game_over(board):\n",
    "        \n",
    "    # brak pustych pól\n",
    "    if np.all(board != '.'):\n",
    "        return True  # is_game_over\n",
    "    \n",
    "    # wiersze i kolumny\n",
    "    for i in range(board.shape[0]):\n",
    "        \n",
    "        if np.all(board[i] == 'x') or np.all(board[i] == 'o'):\n",
    "            return True\n",
    "        \n",
    "        if np.all(board[:, i] == 'x') or np.all(board[:, i] == 'o'):\n",
    "            return True\n",
    "            \n",
    "    # lewa przekątna\n",
    "    if np.all(board.diagonal() == 'x') or np.all(board.diagonal() == 'o'):\n",
    "        return True\n",
    "    \n",
    "    # prawa przekątna\n",
    "    if np.all(np.fliplr(board).diagonal() == 'x') or np.all(np.fliplr(board).diagonal() == 'o'):\n",
    "        return True\n",
    "    \n",
    "    return False  # is_game_over"
   ]
  },
  {
   "cell_type": "code",
   "execution_count": null,
   "metadata": {
    "ExecuteTime": {
     "end_time": "2023-03-26T09:42:58.555468Z",
     "start_time": "2023-03-26T09:42:58.555447Z"
    }
   },
   "outputs": [],
   "source": [
    "board = generate_board()\n",
    "print(board)"
   ]
  },
  {
   "cell_type": "code",
   "execution_count": 9,
   "metadata": {
    "ExecuteTime": {
     "end_time": "2023-03-26T09:29:21.781470Z",
     "start_time": "2023-03-26T09:29:21.772968Z"
    }
   },
   "outputs": [
    {
     "name": "stdout",
     "output_type": "stream",
     "text": [
      "[['.' '.' '.']\n",
      " ['.' '.' '.']\n",
      " ['o' '.' '.']]\n",
      "True\n"
     ]
    }
   ],
   "source": [
    "board, is_success = put_item_on_board(board, (2, 0), 'o')\n",
    "print(board)\n",
    "print(is_success)"
   ]
  },
  {
   "cell_type": "code",
   "execution_count": 10,
   "metadata": {
    "ExecuteTime": {
     "end_time": "2023-03-26T09:29:23.748988Z",
     "start_time": "2023-03-26T09:29:23.740561Z"
    }
   },
   "outputs": [
    {
     "data": {
      "text/plain": [
       "False"
      ]
     },
     "execution_count": 10,
     "metadata": {},
     "output_type": "execute_result"
    }
   ],
   "source": [
    "is_game_over = check_if_game_over(board)\n",
    "is_game_over"
   ]
  },
  {
   "cell_type": "markdown",
   "metadata": {},
   "source": [
    "## Pobranie od gracza współrzędnych\n",
    "\n",
    "Napisz funkcję `get_coordinates_from_player` , która pobierze od gracza współrzędne na których chce położyć swój znaczek. Skorzystaj w niej z wbudowanej funkcji Pythona `input()`. \n",
    "\n",
    "Funkcja ta powinna zwracać wybrane współrzędne jako tuple."
   ]
  },
  {
   "cell_type": "code",
   "execution_count": 11,
   "metadata": {
    "ExecuteTime": {
     "end_time": "2023-03-26T09:29:26.926138Z",
     "start_time": "2023-03-26T09:29:26.919835Z"
    }
   },
   "outputs": [],
   "source": [
    "def get_coordinates_from_player():\n",
    "    \n",
    "    while True:\n",
    "        \n",
    "        coordinates: list = input('Podaj wiersz i kolumnę (oddzielone spacją): ').split()  # type annotation\n",
    "        \n",
    "        if coordinates[0].isnumeric() and coordinates[1].isnumeric():\n",
    "            return int(coordinates[0]), int(coordinates[1])"
   ]
  },
  {
   "cell_type": "code",
   "execution_count": 108,
   "metadata": {
    "ExecuteTime": {
     "end_time": "2023-03-26T08:53:20.111397Z",
     "start_time": "2023-03-26T08:53:20.100693Z"
    }
   },
   "outputs": [
    {
     "data": {
      "text/plain": [
       "True"
      ]
     },
     "execution_count": 108,
     "metadata": {},
     "output_type": "execute_result"
    }
   ],
   "source": [
    "'666'.isnumeric()"
   ]
  },
  {
   "cell_type": "code",
   "execution_count": 12,
   "metadata": {
    "ExecuteTime": {
     "end_time": "2023-03-26T09:29:29.936805Z",
     "start_time": "2023-03-26T09:29:27.812660Z"
    }
   },
   "outputs": [
    {
     "name": "stdout",
     "output_type": "stream",
     "text": [
      "Podaj wiersz i kolumnę (oddzielone spacją): 4 5\n"
     ]
    },
    {
     "data": {
      "text/plain": [
       "(4, 5)"
      ]
     },
     "execution_count": 12,
     "metadata": {},
     "output_type": "execute_result"
    }
   ],
   "source": [
    "get_coordinates_from_player()"
   ]
  },
  {
   "cell_type": "markdown",
   "metadata": {},
   "source": [
    "## Napisz kod, który pozwoli zagrać w kółko i krzyżyk\n",
    "\n",
    "Wykorzystaj napisane wcześniej funkcje. Przyda się również funkcja `clear_output` którą zaimportujesz w następujący sposób:\n",
    "\n",
    "`from IPython.display import clear_output`\n",
    "\n",
    "Służy ona do czyszczenia tego co znajduje się na wyjściu komórki JN. Dzięki takiemu czyszczeniu w każdej turze będziemy mogli widzieć tylko aktualny stan planszy.\n",
    "\n",
    "Całość gry zamknij w pętli `while` dzięki czemu gra będzie się toczyć tak długo aż celowo nie wyjdziesz z pętli."
   ]
  },
  {
   "cell_type": "code",
   "execution_count": 21,
   "metadata": {
    "ExecuteTime": {
     "end_time": "2023-03-26T09:43:45.189161Z",
     "start_time": "2023-03-26T09:43:45.183420Z"
    }
   },
   "outputs": [],
   "source": [
    "from IPython.display import clear_output"
   ]
  },
  {
   "cell_type": "code",
   "execution_count": 27,
   "metadata": {
    "ExecuteTime": {
     "end_time": "2023-03-26T09:54:35.861983Z",
     "start_time": "2023-03-26T09:53:33.948047Z"
    }
   },
   "outputs": [
    {
     "name": "stdout",
     "output_type": "stream",
     "text": [
      "[['o' 'o' 'x']\n",
      " ['x' 'x' 'o']\n",
      " ['o' 'x' 'x']]\n",
      "Remis!\n"
     ]
    }
   ],
   "source": [
    "players = ['x', 'o']\n",
    "\n",
    "board = generate_board()\n",
    "print(board)\n",
    "\n",
    "is_game_over = check_if_game_over(board)\n",
    "\n",
    "move = 0\n",
    "while not is_game_over:\n",
    "    \n",
    "    current_player = players[move%2]\n",
    "    is_success = False\n",
    "    \n",
    "    while not is_success:\n",
    "        coordinates = get_coordinates_from_player()\n",
    "        board, is_success = put_item_on_board(board, coordinates, current_player)\n",
    "    \n",
    "    clear_output()\n",
    "    print(board)\n",
    "    \n",
    "    move += 1\n",
    "    \n",
    "    is_game_over = check_if_game_over(board)\n",
    "    \n",
    "if np.all(board != '.'):\n",
    "    print('Remis!')\n",
    "\n",
    "else:\n",
    "    print(f'Wygrał gracz \"{current_player}\"')"
   ]
  }
 ],
 "metadata": {
  "hide_input": false,
  "kernelspec": {
   "display_name": "Python 3 (ipykernel)",
   "language": "python",
   "name": "python3"
  },
  "language_info": {
   "codemirror_mode": {
    "name": "ipython",
    "version": 3
   },
   "file_extension": ".py",
   "mimetype": "text/x-python",
   "name": "python",
   "nbconvert_exporter": "python",
   "pygments_lexer": "ipython3",
   "version": "3.10.6"
  },
  "toc": {
   "base_numbering": 1,
   "nav_menu": {},
   "number_sections": true,
   "sideBar": true,
   "skip_h1_title": true,
   "title_cell": "Table of Contents",
   "title_sidebar": "Contents",
   "toc_cell": false,
   "toc_position": {},
   "toc_section_display": true,
   "toc_window_display": false
  },
  "varInspector": {
   "cols": {
    "lenName": 16,
    "lenType": 16,
    "lenVar": 40
   },
   "kernels_config": {
    "python": {
     "delete_cmd_postfix": "",
     "delete_cmd_prefix": "del ",
     "library": "var_list.py",
     "varRefreshCmd": "print(var_dic_list())"
    },
    "r": {
     "delete_cmd_postfix": ") ",
     "delete_cmd_prefix": "rm(",
     "library": "var_list.r",
     "varRefreshCmd": "cat(var_dic_list()) "
    }
   },
   "types_to_exclude": [
    "module",
    "function",
    "builtin_function_or_method",
    "instance",
    "_Feature"
   ],
   "window_display": false
  }
 },
 "nbformat": 4,
 "nbformat_minor": 4
}
