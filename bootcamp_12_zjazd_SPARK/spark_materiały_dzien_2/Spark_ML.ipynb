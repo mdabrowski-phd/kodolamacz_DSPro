{
 "cells": [
  {
   "cell_type": "code",
   "execution_count": 1,
   "metadata": {
    "ExecuteTime": {
     "end_time": "2023-08-13T07:04:21.716894Z",
     "start_time": "2023-08-13T07:04:14.939748Z"
    },
    "id": "ICWh785LaRuo"
   },
   "outputs": [
    {
     "name": "stderr",
     "output_type": "stream",
     "text": [
      "23/08/13 09:04:17 WARN Utils: Your hostname, md-ASUS resolves to a loopback address: 127.0.1.1; using 192.168.30.211 instead (on interface eth0)\n",
      "23/08/13 09:04:17 WARN Utils: Set SPARK_LOCAL_IP if you need to bind to another address\n",
      "Setting default log level to \"WARN\".\n",
      "To adjust logging level use sc.setLogLevel(newLevel). For SparkR, use setLogLevel(newLevel).\n",
      "23/08/13 09:04:19 WARN NativeCodeLoader: Unable to load native-hadoop library for your platform... using builtin-java classes where applicable\n"
     ]
    }
   ],
   "source": [
    "# !pip install pyspark\n",
    "import pyspark\n",
    "\n",
    "from pyspark.sql import SparkSession\n",
    "from pyspark.sql import functions as f\n",
    "\n",
    "spark = SparkSession.builder.appName('my_app').master(\"local[*]\").getOrCreate()"
   ]
  },
  {
   "cell_type": "markdown",
   "metadata": {
    "id": "ilXUFle3aMfI"
   },
   "source": [
    "## Wektory"
   ]
  },
  {
   "cell_type": "code",
   "execution_count": 2,
   "metadata": {
    "ExecuteTime": {
     "end_time": "2023-08-13T07:04:32.701360Z",
     "start_time": "2023-08-13T07:04:32.273854Z"
    },
    "id": "phGsVaQQaMfK"
   },
   "outputs": [],
   "source": [
    "from pyspark.ml.linalg import Vectors\n",
    "from pyspark.ml import feature  # obsługa zmiennych"
   ]
  },
  {
   "cell_type": "markdown",
   "metadata": {
    "id": "wJx4O1YqaMfM"
   },
   "source": [
    "**Dwa typy wektorów:**\n",
    "- `sparse` - większość wartości to zera, w celu optymalizacji zajmowanej pamięci podawane są tylko indeksy (wraz z wartościami) gdzie `wartość != 0`\n",
    "- `dense` - podane są wszystkie wartości"
   ]
  },
  {
   "cell_type": "code",
   "execution_count": 3,
   "metadata": {
    "ExecuteTime": {
     "end_time": "2023-08-13T07:04:46.812202Z",
     "start_time": "2023-08-13T07:04:39.289634Z"
    },
    "id": "LXhnUXkyaMfO"
   },
   "outputs": [
    {
     "name": "stderr",
     "output_type": "stream",
     "text": [
      "                                                                                \r"
     ]
    },
    {
     "name": "stdout",
     "output_type": "stream",
     "text": [
      "+--------------------+-----+---+\n",
      "|            features|categ|num|\n",
      "+--------------------+-----+---+\n",
      "|(4,[0,3],[1.0,-2.0])|    A|  1|\n",
      "|   [4.0,5.0,0.0,3.0]|    B|  6|\n",
      "|   [6.0,7.0,0.0,8.0]|    A|  3|\n",
      "| (4,[0,3],[9.0,1.0])|    B|  2|\n",
      "| (4,[1,2],[1.0,2.0])|    C|  4|\n",
      "+--------------------+-----+---+\n",
      "\n"
     ]
    }
   ],
   "source": [
    "data = [(Vectors.sparse(4, [(0, 1.0), (3, -2.0)]), \"A\", 1),  # długość wektora, a potem pary niezerowych (indeks, wartość)\n",
    "        (Vectors.dense([4.0, 5.0, 0.0, 3.0]), \"B\", 6),       # standardowy wektor o długości 4 z wartościami elementów\n",
    "        (Vectors.dense([6.0, 7.0, 0.0, 8.0]), \"A\", 3),\n",
    "        (Vectors.sparse(4, [(0, 9.0), (3, 1.0)]), \"B\", 2), \n",
    "        (Vectors.sparse(4, [(1, 1.0), (2, 2.0)]), \"C\", 4)]\n",
    "\n",
    "dummy_df = spark.createDataFrame(data, [\"features\", \"categ\", \"num\"])\n",
    "dummy_df.show()"
   ]
  },
  {
   "cell_type": "code",
   "execution_count": 4,
   "metadata": {
    "ExecuteTime": {
     "end_time": "2023-08-13T07:07:28.417595Z",
     "start_time": "2023-08-13T07:07:28.411291Z"
    },
    "id": "WEJ8hNPpaMfQ"
   },
   "outputs": [
    {
     "name": "stdout",
     "output_type": "stream",
     "text": [
      "root\n",
      " |-- features: vector (nullable = true)\n",
      " |-- categ: string (nullable = true)\n",
      " |-- num: long (nullable = true)\n",
      "\n"
     ]
    }
   ],
   "source": [
    "dummy_df.printSchema()"
   ]
  },
  {
   "cell_type": "markdown",
   "metadata": {
    "id": "Q0qsad6caMfT"
   },
   "source": [
    "**Przechodzenie od kolumny kategorycznej do wektora**"
   ]
  },
  {
   "cell_type": "code",
   "execution_count": 7,
   "metadata": {
    "ExecuteTime": {
     "end_time": "2023-08-13T07:20:25.451647Z",
     "start_time": "2023-08-13T07:20:25.412471Z"
    },
    "id": "5J0P4GMpaMfV"
   },
   "outputs": [],
   "source": [
    "indexer = feature.StringIndexer(inputCol=\"categ\", outputCol=\"categIndex\")  # inputCol, outputCol"
   ]
  },
  {
   "cell_type": "code",
   "execution_count": 8,
   "metadata": {
    "ExecuteTime": {
     "end_time": "2023-08-13T07:20:38.036788Z",
     "start_time": "2023-08-13T07:20:36.725584Z"
    },
    "id": "eTSUrEvnaMfY"
   },
   "outputs": [
    {
     "name": "stderr",
     "output_type": "stream",
     "text": [
      "                                                                                \r"
     ]
    }
   ],
   "source": [
    "IDXmodel = indexer.fit(dummy_df)"
   ]
  },
  {
   "cell_type": "code",
   "execution_count": 9,
   "metadata": {
    "ExecuteTime": {
     "end_time": "2023-08-13T07:20:47.168224Z",
     "start_time": "2023-08-13T07:20:46.500915Z"
    },
    "id": "jcRcOYUxaMfa"
   },
   "outputs": [
    {
     "name": "stdout",
     "output_type": "stream",
     "text": [
      "+--------------------+-----+---+----------+\n",
      "|            features|categ|num|categIndex|\n",
      "+--------------------+-----+---+----------+\n",
      "|(4,[0,3],[1.0,-2.0])|    A|  1|       0.0|\n",
      "|   [4.0,5.0,0.0,3.0]|    B|  6|       1.0|\n",
      "|   [6.0,7.0,0.0,8.0]|    A|  3|       0.0|\n",
      "| (4,[0,3],[9.0,1.0])|    B|  2|       1.0|\n",
      "| (4,[1,2],[1.0,2.0])|    C|  4|       2.0|\n",
      "+--------------------+-----+---+----------+\n",
      "\n"
     ]
    }
   ],
   "source": [
    "dummy_df1 = IDXmodel.transform(dummy_df)\n",
    "dummy_df1.show()"
   ]
  },
  {
   "cell_type": "code",
   "execution_count": 10,
   "metadata": {
    "ExecuteTime": {
     "end_time": "2023-08-13T07:22:02.730869Z",
     "start_time": "2023-08-13T07:22:02.714565Z"
    },
    "id": "SVjw_yhLaMfb"
   },
   "outputs": [],
   "source": [
    "# OneHotEncoderEstimator\n",
    "OHencoder = feature.OneHotEncoder(inputCols=[\"categIndex\"], outputCols=[\"categVect\"])  # inputCols, outputCols"
   ]
  },
  {
   "cell_type": "code",
   "execution_count": 11,
   "metadata": {
    "ExecuteTime": {
     "end_time": "2023-08-13T07:22:05.375188Z",
     "start_time": "2023-08-13T07:22:05.322991Z"
    },
    "id": "ackm6WbpaMfe"
   },
   "outputs": [],
   "source": [
    "OHmodel = OHencoder.fit(dummy_df1)"
   ]
  },
  {
   "cell_type": "code",
   "execution_count": 12,
   "metadata": {
    "ExecuteTime": {
     "end_time": "2023-08-13T07:22:18.831841Z",
     "start_time": "2023-08-13T07:22:18.029973Z"
    },
    "id": "bTWP78gwaMff"
   },
   "outputs": [
    {
     "name": "stdout",
     "output_type": "stream",
     "text": [
      "+--------------------+-----+---+----------+-------------+\n",
      "|            features|categ|num|categIndex|    categVect|\n",
      "+--------------------+-----+---+----------+-------------+\n",
      "|(4,[0,3],[1.0,-2.0])|    A|  1|       0.0|(2,[0],[1.0])|\n",
      "|   [4.0,5.0,0.0,3.0]|    B|  6|       1.0|(2,[1],[1.0])|\n",
      "|   [6.0,7.0,0.0,8.0]|    A|  3|       0.0|(2,[0],[1.0])|\n",
      "| (4,[0,3],[9.0,1.0])|    B|  2|       1.0|(2,[1],[1.0])|\n",
      "| (4,[1,2],[1.0,2.0])|    C|  4|       2.0|    (2,[],[])|\n",
      "+--------------------+-----+---+----------+-------------+\n",
      "\n"
     ]
    }
   ],
   "source": [
    "dummy_df2 = OHmodel.transform(dummy_df1)\n",
    "dummy_df2.show()"
   ]
  },
  {
   "cell_type": "markdown",
   "metadata": {
    "id": "PiVBNcONaMfj"
   },
   "source": [
    "**Łączenie zmiennych w wektory**"
   ]
  },
  {
   "cell_type": "code",
   "execution_count": 13,
   "metadata": {
    "ExecuteTime": {
     "end_time": "2023-08-13T07:27:13.147110Z",
     "start_time": "2023-08-13T07:27:12.182842Z"
    },
    "id": "-cs5rn-xaMfk"
   },
   "outputs": [
    {
     "name": "stdout",
     "output_type": "stream",
     "text": [
      "+--------------------+-----+---+----------+-------------+------------------------------+\n",
      "|features            |categ|num|categIndex|categVect    |featuresFull                  |\n",
      "+--------------------+-----+---+----------+-------------+------------------------------+\n",
      "|(4,[0,3],[1.0,-2.0])|A    |1  |0.0       |(2,[0],[1.0])|[1.0,0.0,0.0,-2.0,1.0,0.0,1.0]|\n",
      "|[4.0,5.0,0.0,3.0]   |B    |6  |1.0       |(2,[1],[1.0])|[4.0,5.0,0.0,3.0,0.0,1.0,6.0] |\n",
      "|[6.0,7.0,0.0,8.0]   |A    |3  |0.0       |(2,[0],[1.0])|[6.0,7.0,0.0,8.0,1.0,0.0,3.0] |\n",
      "|(4,[0,3],[9.0,1.0]) |B    |2  |1.0       |(2,[1],[1.0])|[9.0,0.0,0.0,1.0,0.0,1.0,2.0] |\n",
      "|(4,[1,2],[1.0,2.0]) |C    |4  |2.0       |(2,[],[])    |(7,[1,2,6],[1.0,2.0,4.0])     |\n",
      "+--------------------+-----+---+----------+-------------+------------------------------+\n",
      "\n"
     ]
    }
   ],
   "source": [
    "# inputCols, ale: outputCol\n",
    "vectAssembler = feature.VectorAssembler(inputCols=[\"features\", \"categVect\", \"num\"], outputCol=\"featuresFull\")\n",
    "\n",
    "dummy_df3 = vectAssembler.transform(dummy_df2)\n",
    "dummy_df3.show(truncate=False)"
   ]
  },
  {
   "cell_type": "markdown",
   "metadata": {
    "id": "qpLWM3r5aMf-"
   },
   "source": [
    "**Skalowanie zmiennych**"
   ]
  },
  {
   "cell_type": "code",
   "execution_count": 14,
   "metadata": {
    "ExecuteTime": {
     "end_time": "2023-08-13T07:28:47.188893Z",
     "start_time": "2023-08-13T07:28:47.177685Z"
    },
    "id": "JwYhLRjhaMf_"
   },
   "outputs": [],
   "source": [
    "scaler = feature.StandardScaler(inputCol=\"featuresFull\", outputCol=\"featuresScal\")"
   ]
  },
  {
   "cell_type": "code",
   "execution_count": 15,
   "metadata": {
    "ExecuteTime": {
     "end_time": "2023-08-13T07:28:50.602214Z",
     "start_time": "2023-08-13T07:28:50.053760Z"
    },
    "id": "K_4fNivQaMf_"
   },
   "outputs": [],
   "source": [
    "scalerModel = scaler.fit(dummy_df3)"
   ]
  },
  {
   "cell_type": "code",
   "execution_count": 16,
   "metadata": {
    "ExecuteTime": {
     "end_time": "2023-08-13T07:29:04.521044Z",
     "start_time": "2023-08-13T07:29:03.337542Z"
    },
    "id": "RMS6BWFmaMgA"
   },
   "outputs": [
    {
     "name": "stdout",
     "output_type": "stream",
     "text": [
      "+------------------------------+\n",
      "|featuresFull                  |\n",
      "+------------------------------+\n",
      "|[1.0,0.0,0.0,-2.0,1.0,0.0,1.0]|\n",
      "|[4.0,5.0,0.0,3.0,0.0,1.0,6.0] |\n",
      "|[6.0,7.0,0.0,8.0,1.0,0.0,3.0] |\n",
      "|[9.0,0.0,0.0,1.0,0.0,1.0,2.0] |\n",
      "|(7,[1,2,6],[1.0,2.0,4.0])     |\n",
      "+------------------------------+\n",
      "\n",
      "+-------------------------------------------------------------------------------------------------------+\n",
      "|featuresScal                                                                                           |\n",
      "+-------------------------------------------------------------------------------------------------------+\n",
      "|[0.2721655269759087,0.0,0.0,-0.5252257314388902,1.8257418583505538,0.0,0.5198752449100363]             |\n",
      "|[1.0886621079036347,1.5579423821243896,0.0,0.7878385971583353,0.0,1.8257418583505538,3.119251469460218]|\n",
      "|[1.632993161855452,2.1811193349741456,0.0,2.1009029257555607,1.8257418583505538,0.0,1.559625734730109] |\n",
      "|[2.449489742783178,0.0,0.0,0.2626128657194451,0.0,1.8257418583505538,1.0397504898200727]               |\n",
      "|(7,[1,2,6],[0.3115884764248779,2.23606797749979,2.0795009796401454])                                   |\n",
      "+-------------------------------------------------------------------------------------------------------+\n",
      "\n"
     ]
    }
   ],
   "source": [
    "dummy_df3.select(\"featuresFull\").show(truncate=False)\n",
    "\n",
    "scalerModel.transform(dummy_df3).select(\"featuresScal\").show(truncate=False)"
   ]
  },
  {
   "cell_type": "markdown",
   "metadata": {
    "id": "vG-Ekk6taMgB"
   },
   "source": [
    "**Skalowanie `min-max` _(w wyniku transformacji powstaje `DenseVector`)_**"
   ]
  },
  {
   "cell_type": "code",
   "execution_count": 17,
   "metadata": {
    "ExecuteTime": {
     "end_time": "2023-08-13T07:30:12.196435Z",
     "start_time": "2023-08-13T07:30:12.184175Z"
    },
    "id": "w45qEEpeaMgC"
   },
   "outputs": [],
   "source": [
    "# X_std = (X - X.min(axis=0)) / (X.max(axis=0) - X.min(axis=0))\n",
    "# X_scaled = X_std * (X_std.max() - X_std.min()) + X_std.min()\n",
    "\n",
    "MMscaler = feature.MinMaxScaler(inputCol=\"featuresFull\", outputCol=\"featuresScal\")"
   ]
  },
  {
   "cell_type": "code",
   "execution_count": 18,
   "metadata": {
    "ExecuteTime": {
     "end_time": "2023-08-13T07:30:49.041484Z",
     "start_time": "2023-08-13T07:30:48.611739Z"
    },
    "id": "AFqtb4UmaMgC"
   },
   "outputs": [],
   "source": [
    "MMscalerModel = MMscaler.fit(dummy_df3)"
   ]
  },
  {
   "cell_type": "code",
   "execution_count": 19,
   "metadata": {
    "ExecuteTime": {
     "end_time": "2023-08-13T07:30:54.236659Z",
     "start_time": "2023-08-13T07:30:53.202368Z"
    },
    "id": "Y2j2Co9jaMgD"
   },
   "outputs": [
    {
     "name": "stdout",
     "output_type": "stream",
     "text": [
      "+------------------------------+\n",
      "|featuresFull                  |\n",
      "+------------------------------+\n",
      "|[1.0,0.0,0.0,-2.0,1.0,0.0,1.0]|\n",
      "|[4.0,5.0,0.0,3.0,0.0,1.0,6.0] |\n",
      "|[6.0,7.0,0.0,8.0,1.0,0.0,3.0] |\n",
      "|[9.0,0.0,0.0,1.0,0.0,1.0,2.0] |\n",
      "|(7,[1,2,6],[1.0,2.0,4.0])     |\n",
      "+------------------------------+\n",
      "\n",
      "+------------------------------------------------------------+\n",
      "|featuresScal                                                |\n",
      "+------------------------------------------------------------+\n",
      "|(7,[0,4],[0.1111111111111111,1.0])                          |\n",
      "|[0.4444444444444444,0.7142857142857142,0.0,0.5,0.0,1.0,1.0] |\n",
      "|[0.6666666666666666,1.0,0.0,1.0,1.0,0.0,0.4]                |\n",
      "|[1.0,0.0,0.0,0.30000000000000004,0.0,1.0,0.2]               |\n",
      "|[0.0,0.14285714285714285,1.0,0.2,0.0,0.0,0.6000000000000001]|\n",
      "+------------------------------------------------------------+\n",
      "\n"
     ]
    }
   ],
   "source": [
    "dummy_df3.select(\"featuresFull\").show(truncate=False)\n",
    "\n",
    "MMscalerModel.transform(dummy_df3).select(\"featuresScal\").show(truncate=False)"
   ]
  },
  {
   "cell_type": "markdown",
   "metadata": {
    "id": "u9KBptrPaMgE"
   },
   "source": [
    "**PCA**"
   ]
  },
  {
   "cell_type": "code",
   "execution_count": 20,
   "metadata": {
    "ExecuteTime": {
     "end_time": "2023-08-13T07:31:38.222037Z",
     "start_time": "2023-08-13T07:31:38.208114Z"
    },
    "id": "dvgRFX4YaMgE"
   },
   "outputs": [],
   "source": [
    "pca = feature.PCA(k=3, inputCol=\"featuresFull\", outputCol=\"featuresPCA\")"
   ]
  },
  {
   "cell_type": "code",
   "execution_count": 21,
   "metadata": {
    "ExecuteTime": {
     "end_time": "2023-08-13T07:31:44.460730Z",
     "start_time": "2023-08-13T07:31:40.311461Z"
    },
    "id": "aJBBtgRqaMgE"
   },
   "outputs": [
    {
     "name": "stderr",
     "output_type": "stream",
     "text": [
      "                                                                                \r"
     ]
    }
   ],
   "source": [
    "PCAmodel = pca.fit(dummy_df3)"
   ]
  },
  {
   "cell_type": "code",
   "execution_count": 22,
   "metadata": {
    "ExecuteTime": {
     "end_time": "2023-08-13T07:31:46.286267Z",
     "start_time": "2023-08-13T07:31:45.685027Z"
    },
    "id": "a39JNZ41aMgF"
   },
   "outputs": [
    {
     "name": "stdout",
     "output_type": "stream",
     "text": [
      "+------------------------------+--------------------------------------------------------------+\n",
      "|featuresFull                  |featuresPCA                                                   |\n",
      "+------------------------------+--------------------------------------------------------------+\n",
      "|[1.0,0.0,0.0,-2.0,1.0,0.0,1.0]|[0.83086263635747,0.8263675323478634,-1.31104932792516]       |\n",
      "|[4.0,5.0,0.0,3.0,0.0,1.0,6.0] |[-7.36978449442349,-0.8524399357794814,-5.302300671552504]    |\n",
      "|[6.0,7.0,0.0,8.0,1.0,0.0,3.0] |[-12.433855979366033,0.006784898917439053,-1.2633329470730525]|\n",
      "|[9.0,0.0,0.0,1.0,0.0,1.0,2.0] |[-4.867266422112711,6.86274574617497,-3.658108599245715]      |\n",
      "|(7,[1,2,6],[1.0,2.0,4.0])     |[-0.9319103583071204,-1.8364015478262758,-3.5681300808770082] |\n",
      "+------------------------------+--------------------------------------------------------------+\n",
      "\n"
     ]
    }
   ],
   "source": [
    "PCAmodel.transform(dummy_df3).select(\"featuresFull\", \"featuresPCA\").show(truncate=False)"
   ]
  },
  {
   "cell_type": "code",
   "execution_count": 23,
   "metadata": {
    "ExecuteTime": {
     "end_time": "2023-08-13T07:31:48.868745Z",
     "start_time": "2023-08-13T07:31:48.840688Z"
    },
    "id": "Nmi0FyRQaMgG"
   },
   "outputs": [
    {
     "data": {
      "text/plain": [
       "DenseVector([0.6419, 0.27, 0.0687])"
      ]
     },
     "execution_count": 23,
     "metadata": {},
     "output_type": "execute_result"
    }
   ],
   "source": [
    "PCAmodel.explainedVariance"
   ]
  },
  {
   "cell_type": "markdown",
   "metadata": {
    "id": "kVwvuw3faMgH"
   },
   "source": [
    "## Pipeline"
   ]
  },
  {
   "cell_type": "code",
   "execution_count": 24,
   "metadata": {
    "ExecuteTime": {
     "end_time": "2023-08-13T07:37:12.473622Z",
     "start_time": "2023-08-13T07:37:12.469488Z"
    },
    "id": "sB5IRexCaMgH"
   },
   "outputs": [],
   "source": [
    "from pyspark.ml import Pipeline"
   ]
  },
  {
   "cell_type": "code",
   "execution_count": null,
   "metadata": {
    "id": "dT26SUnTaMgH"
   },
   "outputs": [],
   "source": [
    "# przygotowanie estymatorów/transformerów\n",
    "\n",
    "indexer = feature.StringIndexer(inputCol=\"categ\", outputCol=\"categIndex\")\n",
    "OHencoder = feature.OneHotEncoder(inputCols=[\"categIndex\"], outputCols=[\"categVect\"])\n",
    "vectAssembler = feature.VectorAssembler(inputCols=[\"features\", \"num\", \"categVect\"], outputCol=\"featuresFull\")\n",
    "scaler = feature.StandardScaler(inputCol=\"featuresFull\", outputCol=\"featuresScal\")"
   ]
  },
  {
   "cell_type": "code",
   "execution_count": 25,
   "metadata": {
    "ExecuteTime": {
     "end_time": "2023-08-13T07:38:49.973206Z",
     "start_time": "2023-08-13T07:38:49.968303Z"
    },
    "id": "65YJropvaMgI"
   },
   "outputs": [],
   "source": [
    "# utworzenie estymatora\n",
    "pipeline = Pipeline(stages=[indexer, OHencoder, vectAssembler, scaler])"
   ]
  },
  {
   "cell_type": "code",
   "execution_count": 26,
   "metadata": {
    "ExecuteTime": {
     "end_time": "2023-08-13T07:39:05.982985Z",
     "start_time": "2023-08-13T07:39:04.875601Z"
    },
    "id": "NZYIMW1haMgI"
   },
   "outputs": [],
   "source": [
    "# utworzenie transformera\n",
    "pipelineModel = pipeline.fit(dummy_df)"
   ]
  },
  {
   "cell_type": "code",
   "execution_count": 27,
   "metadata": {
    "ExecuteTime": {
     "end_time": "2023-08-13T07:39:11.642786Z",
     "start_time": "2023-08-13T07:39:10.923144Z"
    },
    "id": "uSEi8MnLaMgK"
   },
   "outputs": [
    {
     "name": "stdout",
     "output_type": "stream",
     "text": [
      "+-------------------------------------------------------------------------------------------------------+\n",
      "|featuresScal                                                                                           |\n",
      "+-------------------------------------------------------------------------------------------------------+\n",
      "|[0.2721655269759087,0.0,0.0,-0.5252257314388902,1.8257418583505538,0.0,0.5198752449100363]             |\n",
      "|[1.0886621079036347,1.5579423821243896,0.0,0.7878385971583353,0.0,1.8257418583505538,3.119251469460218]|\n",
      "|[1.632993161855452,2.1811193349741456,0.0,2.1009029257555607,1.8257418583505538,0.0,1.559625734730109] |\n",
      "|[2.449489742783178,0.0,0.0,0.2626128657194451,0.0,1.8257418583505538,1.0397504898200727]               |\n",
      "|(7,[1,2,6],[0.3115884764248779,2.23606797749979,2.0795009796401454])                                   |\n",
      "+-------------------------------------------------------------------------------------------------------+\n",
      "\n"
     ]
    }
   ],
   "source": [
    "# transformacja\n",
    "pipelineModel.transform(dummy_df).select(\"featuresScal\").show(truncate=False)"
   ]
  },
  {
   "cell_type": "code",
   "execution_count": 28,
   "metadata": {
    "ExecuteTime": {
     "end_time": "2023-08-13T07:40:41.243630Z",
     "start_time": "2023-08-13T07:40:27.741769Z"
    },
    "id": "ivLpbKgAaMgL"
   },
   "outputs": [
    {
     "name": "stderr",
     "output_type": "stream",
     "text": [
      "                                                                                \r"
     ]
    }
   ],
   "source": [
    "# zapisanie potoku (pipeline)\n",
    "pipelineModel.save(\"pipe\")"
   ]
  },
  {
   "cell_type": "code",
   "execution_count": 29,
   "metadata": {
    "ExecuteTime": {
     "end_time": "2023-08-13T07:41:04.448334Z",
     "start_time": "2023-08-13T07:40:57.880843Z"
    },
    "id": "l5ZzkiIiaMgL"
   },
   "outputs": [],
   "source": [
    "# wczytanie modelu\n",
    "from pyspark.ml import PipelineModel\n",
    "\n",
    "pip = PipelineModel.load(\"pipe\")"
   ]
  },
  {
   "cell_type": "code",
   "execution_count": 30,
   "metadata": {
    "ExecuteTime": {
     "end_time": "2023-08-13T07:41:13.781973Z",
     "start_time": "2023-08-13T07:41:12.975861Z"
    },
    "id": "GJkbUgc1aMgM"
   },
   "outputs": [
    {
     "name": "stdout",
     "output_type": "stream",
     "text": [
      "+-------------------------------------------------------------------------------------------------------+\n",
      "|featuresScal                                                                                           |\n",
      "+-------------------------------------------------------------------------------------------------------+\n",
      "|[0.2721655269759087,0.0,0.0,-0.5252257314388902,1.8257418583505538,0.0,0.5198752449100363]             |\n",
      "|[1.0886621079036347,1.5579423821243896,0.0,0.7878385971583353,0.0,1.8257418583505538,3.119251469460218]|\n",
      "|[1.632993161855452,2.1811193349741456,0.0,2.1009029257555607,1.8257418583505538,0.0,1.559625734730109] |\n",
      "|[2.449489742783178,0.0,0.0,0.2626128657194451,0.0,1.8257418583505538,1.0397504898200727]               |\n",
      "|(7,[1,2,6],[0.3115884764248779,2.23606797749979,2.0795009796401454])                                   |\n",
      "+-------------------------------------------------------------------------------------------------------+\n",
      "\n"
     ]
    }
   ],
   "source": [
    "pip.transform(dummy_df).select(\"featuresScal\").show(truncate=False)"
   ]
  },
  {
   "cell_type": "markdown",
   "metadata": {
    "id": "Ih8sWPsBj5Bm"
   },
   "source": [
    "### **ZADANIE 1**: przygotowanie danych e-commerce"
   ]
  },
  {
   "cell_type": "markdown",
   "metadata": {
    "id": "4367febb"
   },
   "source": [
    "1. Wczytaj dane `online_retail.csv`"
   ]
  },
  {
   "cell_type": "code",
   "execution_count": 62,
   "metadata": {
    "ExecuteTime": {
     "end_time": "2023-08-13T08:25:12.913426Z",
     "start_time": "2023-08-13T08:25:12.322858Z"
    }
   },
   "outputs": [
    {
     "name": "stdout",
     "output_type": "stream",
     "text": [
      "+---------+---------+--------------------+--------+------------+---------+----------+--------------+\n",
      "|InvoiceNo|StockCode|         Description|Quantity| InvoiceDate|UnitPrice|CustomerID|       Country|\n",
      "+---------+---------+--------------------+--------+------------+---------+----------+--------------+\n",
      "|   536365|   85123A|WHITE HANGING HEA...|       6|12/1/10 8:26|     2.55|     17850|United Kingdom|\n",
      "|   536365|    71053| WHITE METAL LANTERN|       6|12/1/10 8:26|     3.39|     17850|United Kingdom|\n",
      "|   536365|   84406B|CREAM CUPID HEART...|       8|12/1/10 8:26|     2.75|     17850|United Kingdom|\n",
      "|   536365|   84029G|KNITTED UNION FLA...|       6|12/1/10 8:26|     3.39|     17850|United Kingdom|\n",
      "|   536365|   84029E|RED WOOLLY HOTTIE...|       6|12/1/10 8:26|     3.39|     17850|United Kingdom|\n",
      "+---------+---------+--------------------+--------+------------+---------+----------+--------------+\n",
      "only showing top 5 rows\n",
      "\n",
      "root\n",
      " |-- InvoiceNo: string (nullable = true)\n",
      " |-- StockCode: string (nullable = true)\n",
      " |-- Description: string (nullable = true)\n",
      " |-- Quantity: integer (nullable = true)\n",
      " |-- InvoiceDate: string (nullable = true)\n",
      " |-- UnitPrice: double (nullable = true)\n",
      " |-- CustomerID: integer (nullable = true)\n",
      " |-- Country: string (nullable = true)\n",
      "\n"
     ]
    }
   ],
   "source": [
    "df = spark.read.csv(\"./online_retail.csv\", header=True, inferSchema=True)\n",
    "\n",
    "df.show(5)\n",
    "df.printSchema()"
   ]
  },
  {
   "cell_type": "markdown",
   "metadata": {
    "id": "40b161a7"
   },
   "source": [
    "#### Eksploracja danych "
   ]
  },
  {
   "cell_type": "markdown",
   "metadata": {
    "id": "b9917326"
   },
   "source": [
    "2. Sprawdź ilość wierszy"
   ]
  },
  {
   "cell_type": "code",
   "execution_count": 40,
   "metadata": {
    "ExecuteTime": {
     "end_time": "2023-08-13T07:50:27.849006Z",
     "start_time": "2023-08-13T07:50:27.633772Z"
    }
   },
   "outputs": [
    {
     "data": {
      "text/plain": [
       "541909"
      ]
     },
     "execution_count": 40,
     "metadata": {},
     "output_type": "execute_result"
    }
   ],
   "source": [
    "df.count()  # relatywnie duży zbiór danych (pół miliona rekordów)"
   ]
  },
  {
   "cell_type": "markdown",
   "metadata": {
    "id": "c6696d89"
   },
   "source": [
    "3. Sprawdź ilość klientów (unikalną wartość dla `CustomerID`)"
   ]
  },
  {
   "cell_type": "code",
   "execution_count": 41,
   "metadata": {
    "ExecuteTime": {
     "end_time": "2023-08-13T07:50:32.057461Z",
     "start_time": "2023-08-13T07:50:30.922062Z"
    }
   },
   "outputs": [
    {
     "name": "stderr",
     "output_type": "stream",
     "text": [
      "                                                                                \r"
     ]
    },
    {
     "data": {
      "text/plain": [
       "4373"
      ]
     },
     "execution_count": 41,
     "metadata": {},
     "output_type": "execute_result"
    }
   ],
   "source": [
    "df.select('CustomerID').distinct().count()  # bardzo mało unikalnych klientów"
   ]
  },
  {
   "cell_type": "markdown",
   "metadata": {
    "id": "4a6360ea"
   },
   "source": [
    "4. Z którego kraju pochodzi najwięcej klientów? (`f.countDistinct`)"
   ]
  },
  {
   "cell_type": "code",
   "execution_count": 47,
   "metadata": {
    "ExecuteTime": {
     "end_time": "2023-08-13T07:55:27.461457Z",
     "start_time": "2023-08-13T07:55:26.974143Z"
    },
    "id": "8d804942"
   },
   "outputs": [
    {
     "name": "stdout",
     "output_type": "stream",
     "text": [
      "+--------------+--------+\n",
      "|       Country|#clients|\n",
      "+--------------+--------+\n",
      "|United Kingdom|    3950|\n",
      "|       Germany|      95|\n",
      "|        France|      87|\n",
      "|         Spain|      31|\n",
      "|       Belgium|      25|\n",
      "+--------------+--------+\n",
      "only showing top 5 rows\n",
      "\n"
     ]
    }
   ],
   "source": [
    "from pyspark.sql import functions as f\n",
    "\n",
    "df.groupby('Country') \\\n",
    "    .agg(f.count_distinct('CustomerID') \\\n",
    "    .alias('#clients')) \\\n",
    "    .sort('#clients', ascending=False) \\\n",
    "    .show(5)"
   ]
  },
  {
   "cell_type": "markdown",
   "metadata": {
    "id": "dc8039f6"
   },
   "source": [
    "5. Kiedy dokonany był pierwszy a kiedy ostatni zakup ?"
   ]
  },
  {
   "cell_type": "code",
   "execution_count": 63,
   "metadata": {
    "ExecuteTime": {
     "end_time": "2023-08-13T08:25:22.360547Z",
     "start_time": "2023-08-13T08:25:22.266057Z"
    },
    "id": "d9f47c20"
   },
   "outputs": [
    {
     "name": "stdout",
     "output_type": "stream",
     "text": [
      "+---------+---------+--------------------+--------+------------+---------+----------+--------------+--------------+\n",
      "|InvoiceNo|StockCode|         Description|Quantity| InvoiceDate|UnitPrice|CustomerID|       Country|Invoice_date_2|\n",
      "+---------+---------+--------------------+--------+------------+---------+----------+--------------+--------------+\n",
      "|   536365|   85123A|WHITE HANGING HEA...|       6|12/1/10 8:26|     2.55|     17850|United Kingdom|    2010-12-01|\n",
      "|   536365|    71053| WHITE METAL LANTERN|       6|12/1/10 8:26|     3.39|     17850|United Kingdom|    2010-12-01|\n",
      "|   536365|   84406B|CREAM CUPID HEART...|       8|12/1/10 8:26|     2.75|     17850|United Kingdom|    2010-12-01|\n",
      "|   536365|   84029G|KNITTED UNION FLA...|       6|12/1/10 8:26|     3.39|     17850|United Kingdom|    2010-12-01|\n",
      "|   536365|   84029E|RED WOOLLY HOTTIE...|       6|12/1/10 8:26|     3.39|     17850|United Kingdom|    2010-12-01|\n",
      "+---------+---------+--------------------+--------+------------+---------+----------+--------------+--------------+\n",
      "only showing top 5 rows\n",
      "\n",
      "root\n",
      " |-- InvoiceNo: string (nullable = true)\n",
      " |-- StockCode: string (nullable = true)\n",
      " |-- Description: string (nullable = true)\n",
      " |-- Quantity: integer (nullable = true)\n",
      " |-- InvoiceDate: string (nullable = true)\n",
      " |-- UnitPrice: double (nullable = true)\n",
      " |-- CustomerID: integer (nullable = true)\n",
      " |-- Country: string (nullable = true)\n",
      " |-- Invoice_date_2: date (nullable = true)\n",
      "\n"
     ]
    }
   ],
   "source": [
    "df = df.withColumn(\"Invoice_date_2\", f.to_date(\"InvoiceDate\", \"M/d/yy H:m\"))\n",
    "df.show(5)\n",
    "\n",
    "df.printSchema()"
   ]
  },
  {
   "cell_type": "code",
   "execution_count": 52,
   "metadata": {
    "ExecuteTime": {
     "end_time": "2023-08-13T08:00:26.531556Z",
     "start_time": "2023-08-13T08:00:25.029326Z"
    },
    "id": "qURG7is4n-iF"
   },
   "outputs": [
    {
     "name": "stderr",
     "output_type": "stream",
     "text": [
      "\r",
      "[Stage 165:=======>                                                 (1 + 7) / 8]\r",
      "\r",
      "                                                                                \r"
     ]
    },
    {
     "name": "stdout",
     "output_type": "stream",
     "text": [
      "+---------+---------+--------------------+--------+------------+---------+----------+--------------+--------------+\n",
      "|InvoiceNo|StockCode|         Description|Quantity| InvoiceDate|UnitPrice|CustomerID|       Country|Invoice_date_2|\n",
      "+---------+---------+--------------------+--------+------------+---------+----------+--------------+--------------+\n",
      "|   536365|   85123A|WHITE HANGING HEA...|       6|12/1/10 8:26|     2.55|     17850|United Kingdom|    2010-12-01|\n",
      "+---------+---------+--------------------+--------+------------+---------+----------+--------------+--------------+\n",
      "only showing top 1 row\n",
      "\n"
     ]
    },
    {
     "name": "stderr",
     "output_type": "stream",
     "text": [
      "\r",
      "[Stage 166:=======>                                                 (1 + 7) / 8]\r"
     ]
    },
    {
     "name": "stdout",
     "output_type": "stream",
     "text": [
      "+---------+---------+--------------------+--------+------------+---------+----------+--------------+--------------+\n",
      "|InvoiceNo|StockCode|         Description|Quantity| InvoiceDate|UnitPrice|CustomerID|       Country|Invoice_date_2|\n",
      "+---------+---------+--------------------+--------+------------+---------+----------+--------------+--------------+\n",
      "|   581475|    22596|CHRISTMAS STAR WI...|      36|12/9/11 8:39|     0.39|     13069|United Kingdom|    2011-12-09|\n",
      "+---------+---------+--------------------+--------+------------+---------+----------+--------------+--------------+\n",
      "only showing top 1 row\n",
      "\n"
     ]
    },
    {
     "name": "stderr",
     "output_type": "stream",
     "text": [
      "\r",
      "                                                                                \r"
     ]
    }
   ],
   "source": [
    "df.orderBy('Invoice_date_2').show(1)\n",
    "df.orderBy('Invoice_date_2', ascending=False).show(1)"
   ]
  },
  {
   "cell_type": "markdown",
   "metadata": {
    "id": "7b44bb9b"
   },
   "source": [
    "#### Przygotowanie danych do uczenia (features engineering)"
   ]
  },
  {
   "cell_type": "markdown",
   "metadata": {
    "id": "d26c3463"
   },
   "source": [
    "- `Nowość w czasie`: Kiedy ostatnio każdy klient dokonał zakupu?\n",
    "\n",
    "- `Częstotliwość`: Jak często coś kupowali?\n",
    "\n",
    "- `Wartość pieniężna`: Ile pieniędzy średnio wydają na zakupy?"
   ]
  },
  {
   "cell_type": "markdown",
   "metadata": {
    "id": "6ccd259f"
   },
   "source": [
    "6. Dla każdej transakcji oblicz ile czasu upłynęło od pierwszej transakcji (policzonej w poprzednim punkcie) i dodaj wynik do reszty tabeli. Następnie dla każdego klienta policz jego max czas (`recency` = nowosc w czasie)"
   ]
  },
  {
   "cell_type": "code",
   "execution_count": 64,
   "metadata": {
    "ExecuteTime": {
     "end_time": "2023-08-13T08:25:31.008003Z",
     "start_time": "2023-08-13T08:25:30.908949Z"
    },
    "id": "782505c5"
   },
   "outputs": [
    {
     "name": "stdout",
     "output_type": "stream",
     "text": [
      "+---------+---------+--------------------+--------+------------+---------+----------+--------------+--------------+----------+\n",
      "|InvoiceNo|StockCode|         Description|Quantity| InvoiceDate|UnitPrice|CustomerID|       Country|Invoice_date_2| from_date|\n",
      "+---------+---------+--------------------+--------+------------+---------+----------+--------------+--------------+----------+\n",
      "|   536365|   85123A|WHITE HANGING HEA...|       6|12/1/10 8:26|     2.55|     17850|United Kingdom|    2010-12-01|2010-12-01|\n",
      "|   536365|    71053| WHITE METAL LANTERN|       6|12/1/10 8:26|     3.39|     17850|United Kingdom|    2010-12-01|2010-12-01|\n",
      "|   536365|   84406B|CREAM CUPID HEART...|       8|12/1/10 8:26|     2.75|     17850|United Kingdom|    2010-12-01|2010-12-01|\n",
      "|   536365|   84029G|KNITTED UNION FLA...|       6|12/1/10 8:26|     3.39|     17850|United Kingdom|    2010-12-01|2010-12-01|\n",
      "|   536365|   84029E|RED WOOLLY HOTTIE...|       6|12/1/10 8:26|     3.39|     17850|United Kingdom|    2010-12-01|2010-12-01|\n",
      "+---------+---------+--------------------+--------+------------+---------+----------+--------------+--------------+----------+\n",
      "only showing top 5 rows\n",
      "\n"
     ]
    }
   ],
   "source": [
    "df = df.withColumn(\"from_date\", f.lit(\"12/1/10\"))  # wstawianie kolumny o jednakowej wartości dla wszystkich rekordów\n",
    "df = df.withColumn(\"from_date\", f.to_date(\"from_date\", \"M/d/yy\"))\n",
    "\n",
    "df.show(5)"
   ]
  },
  {
   "cell_type": "code",
   "execution_count": 65,
   "metadata": {
    "ExecuteTime": {
     "end_time": "2023-08-13T08:29:42.620584Z",
     "start_time": "2023-08-13T08:29:34.857946Z"
    },
    "id": "kNfMa9lPoEFT"
   },
   "outputs": [
    {
     "name": "stderr",
     "output_type": "stream",
     "text": [
      "\r",
      "[Stage 183:=======>                                                 (1 + 7) / 8]\r",
      "\r",
      "                                                                                \r"
     ]
    },
    {
     "data": {
      "text/html": [
       "<div>\n",
       "<style scoped>\n",
       "    .dataframe tbody tr th:only-of-type {\n",
       "        vertical-align: middle;\n",
       "    }\n",
       "\n",
       "    .dataframe tbody tr th {\n",
       "        vertical-align: top;\n",
       "    }\n",
       "\n",
       "    .dataframe thead th {\n",
       "        text-align: right;\n",
       "    }\n",
       "</style>\n",
       "<table border=\"1\" class=\"dataframe\">\n",
       "  <thead>\n",
       "    <tr style=\"text-align: right;\">\n",
       "      <th></th>\n",
       "      <th>InvoiceNo</th>\n",
       "      <th>StockCode</th>\n",
       "      <th>Description</th>\n",
       "      <th>Quantity</th>\n",
       "      <th>InvoiceDate</th>\n",
       "      <th>UnitPrice</th>\n",
       "      <th>CustomerID</th>\n",
       "      <th>Country</th>\n",
       "      <th>Invoice_date_2</th>\n",
       "      <th>from_date</th>\n",
       "      <th>time_diff</th>\n",
       "    </tr>\n",
       "  </thead>\n",
       "  <tbody>\n",
       "    <tr>\n",
       "      <th>0</th>\n",
       "      <td>536365</td>\n",
       "      <td>85123A</td>\n",
       "      <td>WHITE HANGING HEART T-LIGHT HOLDER</td>\n",
       "      <td>6</td>\n",
       "      <td>12/1/10 8:26</td>\n",
       "      <td>2.55</td>\n",
       "      <td>17850.0</td>\n",
       "      <td>United Kingdom</td>\n",
       "      <td>2010-12-01</td>\n",
       "      <td>2010-12-01</td>\n",
       "      <td>0 days</td>\n",
       "    </tr>\n",
       "    <tr>\n",
       "      <th>1</th>\n",
       "      <td>536365</td>\n",
       "      <td>71053</td>\n",
       "      <td>WHITE METAL LANTERN</td>\n",
       "      <td>6</td>\n",
       "      <td>12/1/10 8:26</td>\n",
       "      <td>3.39</td>\n",
       "      <td>17850.0</td>\n",
       "      <td>United Kingdom</td>\n",
       "      <td>2010-12-01</td>\n",
       "      <td>2010-12-01</td>\n",
       "      <td>0 days</td>\n",
       "    </tr>\n",
       "    <tr>\n",
       "      <th>2</th>\n",
       "      <td>536365</td>\n",
       "      <td>84406B</td>\n",
       "      <td>CREAM CUPID HEARTS COAT HANGER</td>\n",
       "      <td>8</td>\n",
       "      <td>12/1/10 8:26</td>\n",
       "      <td>2.75</td>\n",
       "      <td>17850.0</td>\n",
       "      <td>United Kingdom</td>\n",
       "      <td>2010-12-01</td>\n",
       "      <td>2010-12-01</td>\n",
       "      <td>0 days</td>\n",
       "    </tr>\n",
       "    <tr>\n",
       "      <th>3</th>\n",
       "      <td>536365</td>\n",
       "      <td>84029G</td>\n",
       "      <td>KNITTED UNION FLAG HOT WATER BOTTLE</td>\n",
       "      <td>6</td>\n",
       "      <td>12/1/10 8:26</td>\n",
       "      <td>3.39</td>\n",
       "      <td>17850.0</td>\n",
       "      <td>United Kingdom</td>\n",
       "      <td>2010-12-01</td>\n",
       "      <td>2010-12-01</td>\n",
       "      <td>0 days</td>\n",
       "    </tr>\n",
       "    <tr>\n",
       "      <th>4</th>\n",
       "      <td>536365</td>\n",
       "      <td>84029E</td>\n",
       "      <td>RED WOOLLY HOTTIE WHITE HEART.</td>\n",
       "      <td>6</td>\n",
       "      <td>12/1/10 8:26</td>\n",
       "      <td>3.39</td>\n",
       "      <td>17850.0</td>\n",
       "      <td>United Kingdom</td>\n",
       "      <td>2010-12-01</td>\n",
       "      <td>2010-12-01</td>\n",
       "      <td>0 days</td>\n",
       "    </tr>\n",
       "    <tr>\n",
       "      <th>...</th>\n",
       "      <td>...</td>\n",
       "      <td>...</td>\n",
       "      <td>...</td>\n",
       "      <td>...</td>\n",
       "      <td>...</td>\n",
       "      <td>...</td>\n",
       "      <td>...</td>\n",
       "      <td>...</td>\n",
       "      <td>...</td>\n",
       "      <td>...</td>\n",
       "      <td>...</td>\n",
       "    </tr>\n",
       "    <tr>\n",
       "      <th>541904</th>\n",
       "      <td>581587</td>\n",
       "      <td>22613</td>\n",
       "      <td>PACK OF 20 SPACEBOY NAPKINS</td>\n",
       "      <td>12</td>\n",
       "      <td>12/9/11 12:50</td>\n",
       "      <td>0.85</td>\n",
       "      <td>12680.0</td>\n",
       "      <td>France</td>\n",
       "      <td>2011-12-09</td>\n",
       "      <td>2010-12-01</td>\n",
       "      <td>373 days</td>\n",
       "    </tr>\n",
       "    <tr>\n",
       "      <th>541905</th>\n",
       "      <td>581587</td>\n",
       "      <td>22899</td>\n",
       "      <td>CHILDREN'S APRON DOLLY GIRL</td>\n",
       "      <td>6</td>\n",
       "      <td>12/9/11 12:50</td>\n",
       "      <td>2.10</td>\n",
       "      <td>12680.0</td>\n",
       "      <td>France</td>\n",
       "      <td>2011-12-09</td>\n",
       "      <td>2010-12-01</td>\n",
       "      <td>373 days</td>\n",
       "    </tr>\n",
       "    <tr>\n",
       "      <th>541906</th>\n",
       "      <td>581587</td>\n",
       "      <td>23254</td>\n",
       "      <td>CHILDRENS CUTLERY DOLLY GIRL</td>\n",
       "      <td>4</td>\n",
       "      <td>12/9/11 12:50</td>\n",
       "      <td>4.15</td>\n",
       "      <td>12680.0</td>\n",
       "      <td>France</td>\n",
       "      <td>2011-12-09</td>\n",
       "      <td>2010-12-01</td>\n",
       "      <td>373 days</td>\n",
       "    </tr>\n",
       "    <tr>\n",
       "      <th>541907</th>\n",
       "      <td>581587</td>\n",
       "      <td>23255</td>\n",
       "      <td>CHILDRENS CUTLERY CIRCUS PARADE</td>\n",
       "      <td>4</td>\n",
       "      <td>12/9/11 12:50</td>\n",
       "      <td>4.15</td>\n",
       "      <td>12680.0</td>\n",
       "      <td>France</td>\n",
       "      <td>2011-12-09</td>\n",
       "      <td>2010-12-01</td>\n",
       "      <td>373 days</td>\n",
       "    </tr>\n",
       "    <tr>\n",
       "      <th>541908</th>\n",
       "      <td>581587</td>\n",
       "      <td>22138</td>\n",
       "      <td>BAKING SET 9 PIECE RETROSPOT</td>\n",
       "      <td>3</td>\n",
       "      <td>12/9/11 12:50</td>\n",
       "      <td>4.95</td>\n",
       "      <td>12680.0</td>\n",
       "      <td>France</td>\n",
       "      <td>2011-12-09</td>\n",
       "      <td>2010-12-01</td>\n",
       "      <td>373 days</td>\n",
       "    </tr>\n",
       "  </tbody>\n",
       "</table>\n",
       "<p>541909 rows × 11 columns</p>\n",
       "</div>"
      ],
      "text/plain": [
       "       InvoiceNo StockCode                          Description  Quantity  \\\n",
       "0         536365    85123A   WHITE HANGING HEART T-LIGHT HOLDER         6   \n",
       "1         536365     71053                  WHITE METAL LANTERN         6   \n",
       "2         536365    84406B       CREAM CUPID HEARTS COAT HANGER         8   \n",
       "3         536365    84029G  KNITTED UNION FLAG HOT WATER BOTTLE         6   \n",
       "4         536365    84029E       RED WOOLLY HOTTIE WHITE HEART.         6   \n",
       "...          ...       ...                                  ...       ...   \n",
       "541904    581587     22613          PACK OF 20 SPACEBOY NAPKINS        12   \n",
       "541905    581587     22899         CHILDREN'S APRON DOLLY GIRL          6   \n",
       "541906    581587     23254        CHILDRENS CUTLERY DOLLY GIRL          4   \n",
       "541907    581587     23255      CHILDRENS CUTLERY CIRCUS PARADE         4   \n",
       "541908    581587     22138        BAKING SET 9 PIECE RETROSPOT          3   \n",
       "\n",
       "          InvoiceDate  UnitPrice  CustomerID         Country Invoice_date_2  \\\n",
       "0        12/1/10 8:26       2.55     17850.0  United Kingdom     2010-12-01   \n",
       "1        12/1/10 8:26       3.39     17850.0  United Kingdom     2010-12-01   \n",
       "2        12/1/10 8:26       2.75     17850.0  United Kingdom     2010-12-01   \n",
       "3        12/1/10 8:26       3.39     17850.0  United Kingdom     2010-12-01   \n",
       "4        12/1/10 8:26       3.39     17850.0  United Kingdom     2010-12-01   \n",
       "...               ...        ...         ...             ...            ...   \n",
       "541904  12/9/11 12:50       0.85     12680.0          France     2011-12-09   \n",
       "541905  12/9/11 12:50       2.10     12680.0          France     2011-12-09   \n",
       "541906  12/9/11 12:50       4.15     12680.0          France     2011-12-09   \n",
       "541907  12/9/11 12:50       4.15     12680.0          France     2011-12-09   \n",
       "541908  12/9/11 12:50       4.95     12680.0          France     2011-12-09   \n",
       "\n",
       "         from_date time_diff  \n",
       "0       2010-12-01    0 days  \n",
       "1       2010-12-01    0 days  \n",
       "2       2010-12-01    0 days  \n",
       "3       2010-12-01    0 days  \n",
       "4       2010-12-01    0 days  \n",
       "...            ...       ...  \n",
       "541904  2010-12-01  373 days  \n",
       "541905  2010-12-01  373 days  \n",
       "541906  2010-12-01  373 days  \n",
       "541907  2010-12-01  373 days  \n",
       "541908  2010-12-01  373 days  \n",
       "\n",
       "[541909 rows x 11 columns]"
      ]
     },
     "execution_count": 65,
     "metadata": {},
     "output_type": "execute_result"
    }
   ],
   "source": [
    "df = df.withColumn(\"time_diff\", f.col('Invoice_date_2') - f.col('from_date'))\n",
    "df.toPandas()"
   ]
  },
  {
   "cell_type": "code",
   "execution_count": 66,
   "metadata": {
    "ExecuteTime": {
     "end_time": "2023-08-13T08:30:40.416377Z",
     "start_time": "2023-08-13T08:30:39.780438Z"
    }
   },
   "outputs": [
    {
     "name": "stdout",
     "output_type": "stream",
     "text": [
      "+----------+------------------+\n",
      "|CustomerID|           recency|\n",
      "+----------+------------------+\n",
      "|     17420|INTERVAL '323' DAY|\n",
      "|     16861|INTERVAL '314' DAY|\n",
      "|     16503|INTERVAL '267' DAY|\n",
      "|     15727|INTERVAL '357' DAY|\n",
      "|     17389|INTERVAL '373' DAY|\n",
      "|     15447| INTERVAL '43' DAY|\n",
      "|     14450|INTERVAL '193' DAY|\n",
      "|     15100| INTERVAL '43' DAY|\n",
      "|     12471|INTERVAL '371' DAY|\n",
      "|     16916|INTERVAL '350' DAY|\n",
      "|     14514|INTERVAL '312' DAY|\n",
      "|     16500|INTERVAL '369' DAY|\n",
      "|     12626|INTERVAL '350' DAY|\n",
      "|     18161|INTERVAL '363' DAY|\n",
      "|     15967|INTERVAL '350' DAY|\n",
      "|     17809|INTERVAL '357' DAY|\n",
      "|     15738|INTERVAL '355' DAY|\n",
      "|     17044|INTERVAL '365' DAY|\n",
      "|     12393|INTERVAL '301' DAY|\n",
      "|     16791|INTERVAL '344' DAY|\n",
      "+----------+------------------+\n",
      "only showing top 20 rows\n",
      "\n"
     ]
    }
   ],
   "source": [
    "df.groupBy('CustomerID').agg(f.max('time_diff').alias('recency')).show()"
   ]
  },
  {
   "cell_type": "code",
   "execution_count": 67,
   "metadata": {
    "ExecuteTime": {
     "end_time": "2023-08-13T08:32:14.263170Z",
     "start_time": "2023-08-13T08:32:05.773656Z"
    }
   },
   "outputs": [
    {
     "name": "stderr",
     "output_type": "stream",
     "text": [
      "                                                                                \r"
     ]
    },
    {
     "data": {
      "text/html": [
       "<div>\n",
       "<style scoped>\n",
       "    .dataframe tbody tr th:only-of-type {\n",
       "        vertical-align: middle;\n",
       "    }\n",
       "\n",
       "    .dataframe tbody tr th {\n",
       "        vertical-align: top;\n",
       "    }\n",
       "\n",
       "    .dataframe thead th {\n",
       "        text-align: right;\n",
       "    }\n",
       "</style>\n",
       "<table border=\"1\" class=\"dataframe\">\n",
       "  <thead>\n",
       "    <tr style=\"text-align: right;\">\n",
       "      <th></th>\n",
       "      <th>CustomerID</th>\n",
       "      <th>InvoiceNo</th>\n",
       "      <th>StockCode</th>\n",
       "      <th>Description</th>\n",
       "      <th>Quantity</th>\n",
       "      <th>InvoiceDate</th>\n",
       "      <th>UnitPrice</th>\n",
       "      <th>Country</th>\n",
       "      <th>Invoice_date_2</th>\n",
       "      <th>from_date</th>\n",
       "      <th>time_diff</th>\n",
       "      <th>recency</th>\n",
       "    </tr>\n",
       "  </thead>\n",
       "  <tbody>\n",
       "    <tr>\n",
       "      <th>0</th>\n",
       "      <td>17850</td>\n",
       "      <td>536365</td>\n",
       "      <td>85123A</td>\n",
       "      <td>WHITE HANGING HEART T-LIGHT HOLDER</td>\n",
       "      <td>6</td>\n",
       "      <td>12/1/10 8:26</td>\n",
       "      <td>2.55</td>\n",
       "      <td>United Kingdom</td>\n",
       "      <td>2010-12-01</td>\n",
       "      <td>2010-12-01</td>\n",
       "      <td>0 days</td>\n",
       "      <td>71 days</td>\n",
       "    </tr>\n",
       "    <tr>\n",
       "      <th>1</th>\n",
       "      <td>17850</td>\n",
       "      <td>536365</td>\n",
       "      <td>71053</td>\n",
       "      <td>WHITE METAL LANTERN</td>\n",
       "      <td>6</td>\n",
       "      <td>12/1/10 8:26</td>\n",
       "      <td>3.39</td>\n",
       "      <td>United Kingdom</td>\n",
       "      <td>2010-12-01</td>\n",
       "      <td>2010-12-01</td>\n",
       "      <td>0 days</td>\n",
       "      <td>71 days</td>\n",
       "    </tr>\n",
       "    <tr>\n",
       "      <th>2</th>\n",
       "      <td>17850</td>\n",
       "      <td>536365</td>\n",
       "      <td>84406B</td>\n",
       "      <td>CREAM CUPID HEARTS COAT HANGER</td>\n",
       "      <td>8</td>\n",
       "      <td>12/1/10 8:26</td>\n",
       "      <td>2.75</td>\n",
       "      <td>United Kingdom</td>\n",
       "      <td>2010-12-01</td>\n",
       "      <td>2010-12-01</td>\n",
       "      <td>0 days</td>\n",
       "      <td>71 days</td>\n",
       "    </tr>\n",
       "    <tr>\n",
       "      <th>3</th>\n",
       "      <td>17850</td>\n",
       "      <td>536365</td>\n",
       "      <td>84029G</td>\n",
       "      <td>KNITTED UNION FLAG HOT WATER BOTTLE</td>\n",
       "      <td>6</td>\n",
       "      <td>12/1/10 8:26</td>\n",
       "      <td>3.39</td>\n",
       "      <td>United Kingdom</td>\n",
       "      <td>2010-12-01</td>\n",
       "      <td>2010-12-01</td>\n",
       "      <td>0 days</td>\n",
       "      <td>71 days</td>\n",
       "    </tr>\n",
       "    <tr>\n",
       "      <th>4</th>\n",
       "      <td>17850</td>\n",
       "      <td>536365</td>\n",
       "      <td>84029E</td>\n",
       "      <td>RED WOOLLY HOTTIE WHITE HEART.</td>\n",
       "      <td>6</td>\n",
       "      <td>12/1/10 8:26</td>\n",
       "      <td>3.39</td>\n",
       "      <td>United Kingdom</td>\n",
       "      <td>2010-12-01</td>\n",
       "      <td>2010-12-01</td>\n",
       "      <td>0 days</td>\n",
       "      <td>71 days</td>\n",
       "    </tr>\n",
       "    <tr>\n",
       "      <th>...</th>\n",
       "      <td>...</td>\n",
       "      <td>...</td>\n",
       "      <td>...</td>\n",
       "      <td>...</td>\n",
       "      <td>...</td>\n",
       "      <td>...</td>\n",
       "      <td>...</td>\n",
       "      <td>...</td>\n",
       "      <td>...</td>\n",
       "      <td>...</td>\n",
       "      <td>...</td>\n",
       "      <td>...</td>\n",
       "    </tr>\n",
       "    <tr>\n",
       "      <th>406824</th>\n",
       "      <td>12680</td>\n",
       "      <td>581587</td>\n",
       "      <td>22613</td>\n",
       "      <td>PACK OF 20 SPACEBOY NAPKINS</td>\n",
       "      <td>12</td>\n",
       "      <td>12/9/11 12:50</td>\n",
       "      <td>0.85</td>\n",
       "      <td>France</td>\n",
       "      <td>2011-12-09</td>\n",
       "      <td>2010-12-01</td>\n",
       "      <td>373 days</td>\n",
       "      <td>373 days</td>\n",
       "    </tr>\n",
       "    <tr>\n",
       "      <th>406825</th>\n",
       "      <td>12680</td>\n",
       "      <td>581587</td>\n",
       "      <td>22899</td>\n",
       "      <td>CHILDREN'S APRON DOLLY GIRL</td>\n",
       "      <td>6</td>\n",
       "      <td>12/9/11 12:50</td>\n",
       "      <td>2.10</td>\n",
       "      <td>France</td>\n",
       "      <td>2011-12-09</td>\n",
       "      <td>2010-12-01</td>\n",
       "      <td>373 days</td>\n",
       "      <td>373 days</td>\n",
       "    </tr>\n",
       "    <tr>\n",
       "      <th>406826</th>\n",
       "      <td>12680</td>\n",
       "      <td>581587</td>\n",
       "      <td>23254</td>\n",
       "      <td>CHILDRENS CUTLERY DOLLY GIRL</td>\n",
       "      <td>4</td>\n",
       "      <td>12/9/11 12:50</td>\n",
       "      <td>4.15</td>\n",
       "      <td>France</td>\n",
       "      <td>2011-12-09</td>\n",
       "      <td>2010-12-01</td>\n",
       "      <td>373 days</td>\n",
       "      <td>373 days</td>\n",
       "    </tr>\n",
       "    <tr>\n",
       "      <th>406827</th>\n",
       "      <td>12680</td>\n",
       "      <td>581587</td>\n",
       "      <td>23255</td>\n",
       "      <td>CHILDRENS CUTLERY CIRCUS PARADE</td>\n",
       "      <td>4</td>\n",
       "      <td>12/9/11 12:50</td>\n",
       "      <td>4.15</td>\n",
       "      <td>France</td>\n",
       "      <td>2011-12-09</td>\n",
       "      <td>2010-12-01</td>\n",
       "      <td>373 days</td>\n",
       "      <td>373 days</td>\n",
       "    </tr>\n",
       "    <tr>\n",
       "      <th>406828</th>\n",
       "      <td>12680</td>\n",
       "      <td>581587</td>\n",
       "      <td>22138</td>\n",
       "      <td>BAKING SET 9 PIECE RETROSPOT</td>\n",
       "      <td>3</td>\n",
       "      <td>12/9/11 12:50</td>\n",
       "      <td>4.95</td>\n",
       "      <td>France</td>\n",
       "      <td>2011-12-09</td>\n",
       "      <td>2010-12-01</td>\n",
       "      <td>373 days</td>\n",
       "      <td>373 days</td>\n",
       "    </tr>\n",
       "  </tbody>\n",
       "</table>\n",
       "<p>406829 rows × 12 columns</p>\n",
       "</div>"
      ],
      "text/plain": [
       "        CustomerID InvoiceNo StockCode                          Description  \\\n",
       "0            17850    536365    85123A   WHITE HANGING HEART T-LIGHT HOLDER   \n",
       "1            17850    536365     71053                  WHITE METAL LANTERN   \n",
       "2            17850    536365    84406B       CREAM CUPID HEARTS COAT HANGER   \n",
       "3            17850    536365    84029G  KNITTED UNION FLAG HOT WATER BOTTLE   \n",
       "4            17850    536365    84029E       RED WOOLLY HOTTIE WHITE HEART.   \n",
       "...            ...       ...       ...                                  ...   \n",
       "406824       12680    581587     22613          PACK OF 20 SPACEBOY NAPKINS   \n",
       "406825       12680    581587     22899         CHILDREN'S APRON DOLLY GIRL    \n",
       "406826       12680    581587     23254        CHILDRENS CUTLERY DOLLY GIRL    \n",
       "406827       12680    581587     23255      CHILDRENS CUTLERY CIRCUS PARADE   \n",
       "406828       12680    581587     22138        BAKING SET 9 PIECE RETROSPOT    \n",
       "\n",
       "        Quantity    InvoiceDate  UnitPrice         Country Invoice_date_2  \\\n",
       "0              6   12/1/10 8:26       2.55  United Kingdom     2010-12-01   \n",
       "1              6   12/1/10 8:26       3.39  United Kingdom     2010-12-01   \n",
       "2              8   12/1/10 8:26       2.75  United Kingdom     2010-12-01   \n",
       "3              6   12/1/10 8:26       3.39  United Kingdom     2010-12-01   \n",
       "4              6   12/1/10 8:26       3.39  United Kingdom     2010-12-01   \n",
       "...          ...            ...        ...             ...            ...   \n",
       "406824        12  12/9/11 12:50       0.85          France     2011-12-09   \n",
       "406825         6  12/9/11 12:50       2.10          France     2011-12-09   \n",
       "406826         4  12/9/11 12:50       4.15          France     2011-12-09   \n",
       "406827         4  12/9/11 12:50       4.15          France     2011-12-09   \n",
       "406828         3  12/9/11 12:50       4.95          France     2011-12-09   \n",
       "\n",
       "         from_date time_diff  recency  \n",
       "0       2010-12-01    0 days  71 days  \n",
       "1       2010-12-01    0 days  71 days  \n",
       "2       2010-12-01    0 days  71 days  \n",
       "3       2010-12-01    0 days  71 days  \n",
       "4       2010-12-01    0 days  71 days  \n",
       "...            ...       ...      ...  \n",
       "406824  2010-12-01  373 days 373 days  \n",
       "406825  2010-12-01  373 days 373 days  \n",
       "406826  2010-12-01  373 days 373 days  \n",
       "406827  2010-12-01  373 days 373 days  \n",
       "406828  2010-12-01  373 days 373 days  \n",
       "\n",
       "[406829 rows x 12 columns]"
      ]
     },
     "execution_count": 67,
     "metadata": {},
     "output_type": "execute_result"
    }
   ],
   "source": [
    "df = df.join(df.groupBy('CustomerID').agg(f.max('time_diff').alias('recency')), on='CustomerID')\n",
    "df.toPandas()"
   ]
  },
  {
   "cell_type": "markdown",
   "metadata": {
    "id": "bCwt8hto0MhV"
   },
   "source": [
    "7. Oblicz ilość transakcji dla każdego klienta i połącz wynik z resztą danych"
   ]
  },
  {
   "cell_type": "code",
   "execution_count": 68,
   "metadata": {
    "ExecuteTime": {
     "end_time": "2023-08-13T08:36:06.857063Z",
     "start_time": "2023-08-13T08:36:05.693417Z"
    },
    "id": "711f45fd"
   },
   "outputs": [
    {
     "name": "stdout",
     "output_type": "stream",
     "text": [
      "+----------+---------+\n",
      "|CustomerID|frequency|\n",
      "+----------+---------+\n",
      "|     15727|        7|\n",
      "|     17389|       43|\n",
      "|     16503|        5|\n",
      "|     17420|        3|\n",
      "|     15447|        1|\n",
      "|     16861|        3|\n",
      "|     14450|        3|\n",
      "|     13623|        7|\n",
      "|     13285|        4|\n",
      "|     14570|        2|\n",
      "|     16339|        1|\n",
      "|     16386|        2|\n",
      "|     18024|        3|\n",
      "|     12940|        4|\n",
      "|     16574|        1|\n",
      "|     17679|        2|\n",
      "|     15619|        1|\n",
      "|     15790|        1|\n",
      "|     13832|        2|\n",
      "|     15957|        1|\n",
      "+----------+---------+\n",
      "only showing top 20 rows\n",
      "\n"
     ]
    }
   ],
   "source": [
    "df.groupBy('CustomerID').agg(f.count_distinct('InvoiceNo').alias('frequency')).show()"
   ]
  },
  {
   "cell_type": "code",
   "execution_count": 69,
   "metadata": {
    "ExecuteTime": {
     "end_time": "2023-08-13T08:37:09.281557Z",
     "start_time": "2023-08-13T08:37:00.267284Z"
    }
   },
   "outputs": [
    {
     "name": "stderr",
     "output_type": "stream",
     "text": [
      "                                                                                \r"
     ]
    },
    {
     "data": {
      "text/html": [
       "<div>\n",
       "<style scoped>\n",
       "    .dataframe tbody tr th:only-of-type {\n",
       "        vertical-align: middle;\n",
       "    }\n",
       "\n",
       "    .dataframe tbody tr th {\n",
       "        vertical-align: top;\n",
       "    }\n",
       "\n",
       "    .dataframe thead th {\n",
       "        text-align: right;\n",
       "    }\n",
       "</style>\n",
       "<table border=\"1\" class=\"dataframe\">\n",
       "  <thead>\n",
       "    <tr style=\"text-align: right;\">\n",
       "      <th></th>\n",
       "      <th>CustomerID</th>\n",
       "      <th>InvoiceNo</th>\n",
       "      <th>StockCode</th>\n",
       "      <th>Description</th>\n",
       "      <th>Quantity</th>\n",
       "      <th>InvoiceDate</th>\n",
       "      <th>UnitPrice</th>\n",
       "      <th>Country</th>\n",
       "      <th>Invoice_date_2</th>\n",
       "      <th>from_date</th>\n",
       "      <th>time_diff</th>\n",
       "      <th>recency</th>\n",
       "      <th>frequency</th>\n",
       "    </tr>\n",
       "  </thead>\n",
       "  <tbody>\n",
       "    <tr>\n",
       "      <th>0</th>\n",
       "      <td>17850</td>\n",
       "      <td>536365</td>\n",
       "      <td>85123A</td>\n",
       "      <td>WHITE HANGING HEART T-LIGHT HOLDER</td>\n",
       "      <td>6</td>\n",
       "      <td>12/1/10 8:26</td>\n",
       "      <td>2.55</td>\n",
       "      <td>United Kingdom</td>\n",
       "      <td>2010-12-01</td>\n",
       "      <td>2010-12-01</td>\n",
       "      <td>0 days</td>\n",
       "      <td>71 days</td>\n",
       "      <td>35</td>\n",
       "    </tr>\n",
       "    <tr>\n",
       "      <th>1</th>\n",
       "      <td>17850</td>\n",
       "      <td>536365</td>\n",
       "      <td>71053</td>\n",
       "      <td>WHITE METAL LANTERN</td>\n",
       "      <td>6</td>\n",
       "      <td>12/1/10 8:26</td>\n",
       "      <td>3.39</td>\n",
       "      <td>United Kingdom</td>\n",
       "      <td>2010-12-01</td>\n",
       "      <td>2010-12-01</td>\n",
       "      <td>0 days</td>\n",
       "      <td>71 days</td>\n",
       "      <td>35</td>\n",
       "    </tr>\n",
       "    <tr>\n",
       "      <th>2</th>\n",
       "      <td>17850</td>\n",
       "      <td>536365</td>\n",
       "      <td>84406B</td>\n",
       "      <td>CREAM CUPID HEARTS COAT HANGER</td>\n",
       "      <td>8</td>\n",
       "      <td>12/1/10 8:26</td>\n",
       "      <td>2.75</td>\n",
       "      <td>United Kingdom</td>\n",
       "      <td>2010-12-01</td>\n",
       "      <td>2010-12-01</td>\n",
       "      <td>0 days</td>\n",
       "      <td>71 days</td>\n",
       "      <td>35</td>\n",
       "    </tr>\n",
       "    <tr>\n",
       "      <th>3</th>\n",
       "      <td>17850</td>\n",
       "      <td>536365</td>\n",
       "      <td>84029G</td>\n",
       "      <td>KNITTED UNION FLAG HOT WATER BOTTLE</td>\n",
       "      <td>6</td>\n",
       "      <td>12/1/10 8:26</td>\n",
       "      <td>3.39</td>\n",
       "      <td>United Kingdom</td>\n",
       "      <td>2010-12-01</td>\n",
       "      <td>2010-12-01</td>\n",
       "      <td>0 days</td>\n",
       "      <td>71 days</td>\n",
       "      <td>35</td>\n",
       "    </tr>\n",
       "    <tr>\n",
       "      <th>4</th>\n",
       "      <td>17850</td>\n",
       "      <td>536365</td>\n",
       "      <td>84029E</td>\n",
       "      <td>RED WOOLLY HOTTIE WHITE HEART.</td>\n",
       "      <td>6</td>\n",
       "      <td>12/1/10 8:26</td>\n",
       "      <td>3.39</td>\n",
       "      <td>United Kingdom</td>\n",
       "      <td>2010-12-01</td>\n",
       "      <td>2010-12-01</td>\n",
       "      <td>0 days</td>\n",
       "      <td>71 days</td>\n",
       "      <td>35</td>\n",
       "    </tr>\n",
       "    <tr>\n",
       "      <th>...</th>\n",
       "      <td>...</td>\n",
       "      <td>...</td>\n",
       "      <td>...</td>\n",
       "      <td>...</td>\n",
       "      <td>...</td>\n",
       "      <td>...</td>\n",
       "      <td>...</td>\n",
       "      <td>...</td>\n",
       "      <td>...</td>\n",
       "      <td>...</td>\n",
       "      <td>...</td>\n",
       "      <td>...</td>\n",
       "      <td>...</td>\n",
       "    </tr>\n",
       "    <tr>\n",
       "      <th>406824</th>\n",
       "      <td>12680</td>\n",
       "      <td>581587</td>\n",
       "      <td>22613</td>\n",
       "      <td>PACK OF 20 SPACEBOY NAPKINS</td>\n",
       "      <td>12</td>\n",
       "      <td>12/9/11 12:50</td>\n",
       "      <td>0.85</td>\n",
       "      <td>France</td>\n",
       "      <td>2011-12-09</td>\n",
       "      <td>2010-12-01</td>\n",
       "      <td>373 days</td>\n",
       "      <td>373 days</td>\n",
       "      <td>4</td>\n",
       "    </tr>\n",
       "    <tr>\n",
       "      <th>406825</th>\n",
       "      <td>12680</td>\n",
       "      <td>581587</td>\n",
       "      <td>22899</td>\n",
       "      <td>CHILDREN'S APRON DOLLY GIRL</td>\n",
       "      <td>6</td>\n",
       "      <td>12/9/11 12:50</td>\n",
       "      <td>2.10</td>\n",
       "      <td>France</td>\n",
       "      <td>2011-12-09</td>\n",
       "      <td>2010-12-01</td>\n",
       "      <td>373 days</td>\n",
       "      <td>373 days</td>\n",
       "      <td>4</td>\n",
       "    </tr>\n",
       "    <tr>\n",
       "      <th>406826</th>\n",
       "      <td>12680</td>\n",
       "      <td>581587</td>\n",
       "      <td>23254</td>\n",
       "      <td>CHILDRENS CUTLERY DOLLY GIRL</td>\n",
       "      <td>4</td>\n",
       "      <td>12/9/11 12:50</td>\n",
       "      <td>4.15</td>\n",
       "      <td>France</td>\n",
       "      <td>2011-12-09</td>\n",
       "      <td>2010-12-01</td>\n",
       "      <td>373 days</td>\n",
       "      <td>373 days</td>\n",
       "      <td>4</td>\n",
       "    </tr>\n",
       "    <tr>\n",
       "      <th>406827</th>\n",
       "      <td>12680</td>\n",
       "      <td>581587</td>\n",
       "      <td>23255</td>\n",
       "      <td>CHILDRENS CUTLERY CIRCUS PARADE</td>\n",
       "      <td>4</td>\n",
       "      <td>12/9/11 12:50</td>\n",
       "      <td>4.15</td>\n",
       "      <td>France</td>\n",
       "      <td>2011-12-09</td>\n",
       "      <td>2010-12-01</td>\n",
       "      <td>373 days</td>\n",
       "      <td>373 days</td>\n",
       "      <td>4</td>\n",
       "    </tr>\n",
       "    <tr>\n",
       "      <th>406828</th>\n",
       "      <td>12680</td>\n",
       "      <td>581587</td>\n",
       "      <td>22138</td>\n",
       "      <td>BAKING SET 9 PIECE RETROSPOT</td>\n",
       "      <td>3</td>\n",
       "      <td>12/9/11 12:50</td>\n",
       "      <td>4.95</td>\n",
       "      <td>France</td>\n",
       "      <td>2011-12-09</td>\n",
       "      <td>2010-12-01</td>\n",
       "      <td>373 days</td>\n",
       "      <td>373 days</td>\n",
       "      <td>4</td>\n",
       "    </tr>\n",
       "  </tbody>\n",
       "</table>\n",
       "<p>406829 rows × 13 columns</p>\n",
       "</div>"
      ],
      "text/plain": [
       "        CustomerID InvoiceNo StockCode                          Description  \\\n",
       "0            17850    536365    85123A   WHITE HANGING HEART T-LIGHT HOLDER   \n",
       "1            17850    536365     71053                  WHITE METAL LANTERN   \n",
       "2            17850    536365    84406B       CREAM CUPID HEARTS COAT HANGER   \n",
       "3            17850    536365    84029G  KNITTED UNION FLAG HOT WATER BOTTLE   \n",
       "4            17850    536365    84029E       RED WOOLLY HOTTIE WHITE HEART.   \n",
       "...            ...       ...       ...                                  ...   \n",
       "406824       12680    581587     22613          PACK OF 20 SPACEBOY NAPKINS   \n",
       "406825       12680    581587     22899         CHILDREN'S APRON DOLLY GIRL    \n",
       "406826       12680    581587     23254        CHILDRENS CUTLERY DOLLY GIRL    \n",
       "406827       12680    581587     23255      CHILDRENS CUTLERY CIRCUS PARADE   \n",
       "406828       12680    581587     22138        BAKING SET 9 PIECE RETROSPOT    \n",
       "\n",
       "        Quantity    InvoiceDate  UnitPrice         Country Invoice_date_2  \\\n",
       "0              6   12/1/10 8:26       2.55  United Kingdom     2010-12-01   \n",
       "1              6   12/1/10 8:26       3.39  United Kingdom     2010-12-01   \n",
       "2              8   12/1/10 8:26       2.75  United Kingdom     2010-12-01   \n",
       "3              6   12/1/10 8:26       3.39  United Kingdom     2010-12-01   \n",
       "4              6   12/1/10 8:26       3.39  United Kingdom     2010-12-01   \n",
       "...          ...            ...        ...             ...            ...   \n",
       "406824        12  12/9/11 12:50       0.85          France     2011-12-09   \n",
       "406825         6  12/9/11 12:50       2.10          France     2011-12-09   \n",
       "406826         4  12/9/11 12:50       4.15          France     2011-12-09   \n",
       "406827         4  12/9/11 12:50       4.15          France     2011-12-09   \n",
       "406828         3  12/9/11 12:50       4.95          France     2011-12-09   \n",
       "\n",
       "         from_date time_diff  recency  frequency  \n",
       "0       2010-12-01    0 days  71 days         35  \n",
       "1       2010-12-01    0 days  71 days         35  \n",
       "2       2010-12-01    0 days  71 days         35  \n",
       "3       2010-12-01    0 days  71 days         35  \n",
       "4       2010-12-01    0 days  71 days         35  \n",
       "...            ...       ...      ...        ...  \n",
       "406824  2010-12-01  373 days 373 days          4  \n",
       "406825  2010-12-01  373 days 373 days          4  \n",
       "406826  2010-12-01  373 days 373 days          4  \n",
       "406827  2010-12-01  373 days 373 days          4  \n",
       "406828  2010-12-01  373 days 373 days          4  \n",
       "\n",
       "[406829 rows x 13 columns]"
      ]
     },
     "execution_count": 69,
     "metadata": {},
     "output_type": "execute_result"
    }
   ],
   "source": [
    "df = df.join(df.groupBy('CustomerID').agg(f.count_distinct('InvoiceNo').alias('frequency')), on='CustomerID')\n",
    "df.toPandas()"
   ]
  },
  {
   "cell_type": "markdown",
   "metadata": {
    "id": "9961bf07"
   },
   "source": [
    "8. Oblicz ile każdy klient wydał w sklepie (stworz najpierw kolumnę z wartością `Quantity x UnitPrice`)"
   ]
  },
  {
   "cell_type": "code",
   "execution_count": 70,
   "metadata": {
    "ExecuteTime": {
     "end_time": "2023-08-13T08:46:34.647975Z",
     "start_time": "2023-08-13T08:46:25.847617Z"
    },
    "id": "209b67f7"
   },
   "outputs": [
    {
     "name": "stderr",
     "output_type": "stream",
     "text": [
      "                                                                                \r"
     ]
    },
    {
     "data": {
      "text/html": [
       "<div>\n",
       "<style scoped>\n",
       "    .dataframe tbody tr th:only-of-type {\n",
       "        vertical-align: middle;\n",
       "    }\n",
       "\n",
       "    .dataframe tbody tr th {\n",
       "        vertical-align: top;\n",
       "    }\n",
       "\n",
       "    .dataframe thead th {\n",
       "        text-align: right;\n",
       "    }\n",
       "</style>\n",
       "<table border=\"1\" class=\"dataframe\">\n",
       "  <thead>\n",
       "    <tr style=\"text-align: right;\">\n",
       "      <th></th>\n",
       "      <th>CustomerID</th>\n",
       "      <th>InvoiceNo</th>\n",
       "      <th>StockCode</th>\n",
       "      <th>Description</th>\n",
       "      <th>Quantity</th>\n",
       "      <th>InvoiceDate</th>\n",
       "      <th>UnitPrice</th>\n",
       "      <th>Country</th>\n",
       "      <th>Invoice_date_2</th>\n",
       "      <th>from_date</th>\n",
       "      <th>time_diff</th>\n",
       "      <th>recency</th>\n",
       "      <th>frequency</th>\n",
       "      <th>value</th>\n",
       "    </tr>\n",
       "  </thead>\n",
       "  <tbody>\n",
       "    <tr>\n",
       "      <th>0</th>\n",
       "      <td>17850</td>\n",
       "      <td>536365</td>\n",
       "      <td>85123A</td>\n",
       "      <td>WHITE HANGING HEART T-LIGHT HOLDER</td>\n",
       "      <td>6</td>\n",
       "      <td>12/1/10 8:26</td>\n",
       "      <td>2.55</td>\n",
       "      <td>United Kingdom</td>\n",
       "      <td>2010-12-01</td>\n",
       "      <td>2010-12-01</td>\n",
       "      <td>0 days</td>\n",
       "      <td>71 days</td>\n",
       "      <td>35</td>\n",
       "      <td>15.30</td>\n",
       "    </tr>\n",
       "    <tr>\n",
       "      <th>1</th>\n",
       "      <td>17850</td>\n",
       "      <td>536365</td>\n",
       "      <td>71053</td>\n",
       "      <td>WHITE METAL LANTERN</td>\n",
       "      <td>6</td>\n",
       "      <td>12/1/10 8:26</td>\n",
       "      <td>3.39</td>\n",
       "      <td>United Kingdom</td>\n",
       "      <td>2010-12-01</td>\n",
       "      <td>2010-12-01</td>\n",
       "      <td>0 days</td>\n",
       "      <td>71 days</td>\n",
       "      <td>35</td>\n",
       "      <td>20.34</td>\n",
       "    </tr>\n",
       "    <tr>\n",
       "      <th>2</th>\n",
       "      <td>17850</td>\n",
       "      <td>536365</td>\n",
       "      <td>84406B</td>\n",
       "      <td>CREAM CUPID HEARTS COAT HANGER</td>\n",
       "      <td>8</td>\n",
       "      <td>12/1/10 8:26</td>\n",
       "      <td>2.75</td>\n",
       "      <td>United Kingdom</td>\n",
       "      <td>2010-12-01</td>\n",
       "      <td>2010-12-01</td>\n",
       "      <td>0 days</td>\n",
       "      <td>71 days</td>\n",
       "      <td>35</td>\n",
       "      <td>22.00</td>\n",
       "    </tr>\n",
       "    <tr>\n",
       "      <th>3</th>\n",
       "      <td>17850</td>\n",
       "      <td>536365</td>\n",
       "      <td>84029G</td>\n",
       "      <td>KNITTED UNION FLAG HOT WATER BOTTLE</td>\n",
       "      <td>6</td>\n",
       "      <td>12/1/10 8:26</td>\n",
       "      <td>3.39</td>\n",
       "      <td>United Kingdom</td>\n",
       "      <td>2010-12-01</td>\n",
       "      <td>2010-12-01</td>\n",
       "      <td>0 days</td>\n",
       "      <td>71 days</td>\n",
       "      <td>35</td>\n",
       "      <td>20.34</td>\n",
       "    </tr>\n",
       "    <tr>\n",
       "      <th>4</th>\n",
       "      <td>17850</td>\n",
       "      <td>536365</td>\n",
       "      <td>84029E</td>\n",
       "      <td>RED WOOLLY HOTTIE WHITE HEART.</td>\n",
       "      <td>6</td>\n",
       "      <td>12/1/10 8:26</td>\n",
       "      <td>3.39</td>\n",
       "      <td>United Kingdom</td>\n",
       "      <td>2010-12-01</td>\n",
       "      <td>2010-12-01</td>\n",
       "      <td>0 days</td>\n",
       "      <td>71 days</td>\n",
       "      <td>35</td>\n",
       "      <td>20.34</td>\n",
       "    </tr>\n",
       "    <tr>\n",
       "      <th>...</th>\n",
       "      <td>...</td>\n",
       "      <td>...</td>\n",
       "      <td>...</td>\n",
       "      <td>...</td>\n",
       "      <td>...</td>\n",
       "      <td>...</td>\n",
       "      <td>...</td>\n",
       "      <td>...</td>\n",
       "      <td>...</td>\n",
       "      <td>...</td>\n",
       "      <td>...</td>\n",
       "      <td>...</td>\n",
       "      <td>...</td>\n",
       "      <td>...</td>\n",
       "    </tr>\n",
       "    <tr>\n",
       "      <th>406824</th>\n",
       "      <td>12680</td>\n",
       "      <td>581587</td>\n",
       "      <td>22613</td>\n",
       "      <td>PACK OF 20 SPACEBOY NAPKINS</td>\n",
       "      <td>12</td>\n",
       "      <td>12/9/11 12:50</td>\n",
       "      <td>0.85</td>\n",
       "      <td>France</td>\n",
       "      <td>2011-12-09</td>\n",
       "      <td>2010-12-01</td>\n",
       "      <td>373 days</td>\n",
       "      <td>373 days</td>\n",
       "      <td>4</td>\n",
       "      <td>10.20</td>\n",
       "    </tr>\n",
       "    <tr>\n",
       "      <th>406825</th>\n",
       "      <td>12680</td>\n",
       "      <td>581587</td>\n",
       "      <td>22899</td>\n",
       "      <td>CHILDREN'S APRON DOLLY GIRL</td>\n",
       "      <td>6</td>\n",
       "      <td>12/9/11 12:50</td>\n",
       "      <td>2.10</td>\n",
       "      <td>France</td>\n",
       "      <td>2011-12-09</td>\n",
       "      <td>2010-12-01</td>\n",
       "      <td>373 days</td>\n",
       "      <td>373 days</td>\n",
       "      <td>4</td>\n",
       "      <td>12.60</td>\n",
       "    </tr>\n",
       "    <tr>\n",
       "      <th>406826</th>\n",
       "      <td>12680</td>\n",
       "      <td>581587</td>\n",
       "      <td>23254</td>\n",
       "      <td>CHILDRENS CUTLERY DOLLY GIRL</td>\n",
       "      <td>4</td>\n",
       "      <td>12/9/11 12:50</td>\n",
       "      <td>4.15</td>\n",
       "      <td>France</td>\n",
       "      <td>2011-12-09</td>\n",
       "      <td>2010-12-01</td>\n",
       "      <td>373 days</td>\n",
       "      <td>373 days</td>\n",
       "      <td>4</td>\n",
       "      <td>16.60</td>\n",
       "    </tr>\n",
       "    <tr>\n",
       "      <th>406827</th>\n",
       "      <td>12680</td>\n",
       "      <td>581587</td>\n",
       "      <td>23255</td>\n",
       "      <td>CHILDRENS CUTLERY CIRCUS PARADE</td>\n",
       "      <td>4</td>\n",
       "      <td>12/9/11 12:50</td>\n",
       "      <td>4.15</td>\n",
       "      <td>France</td>\n",
       "      <td>2011-12-09</td>\n",
       "      <td>2010-12-01</td>\n",
       "      <td>373 days</td>\n",
       "      <td>373 days</td>\n",
       "      <td>4</td>\n",
       "      <td>16.60</td>\n",
       "    </tr>\n",
       "    <tr>\n",
       "      <th>406828</th>\n",
       "      <td>12680</td>\n",
       "      <td>581587</td>\n",
       "      <td>22138</td>\n",
       "      <td>BAKING SET 9 PIECE RETROSPOT</td>\n",
       "      <td>3</td>\n",
       "      <td>12/9/11 12:50</td>\n",
       "      <td>4.95</td>\n",
       "      <td>France</td>\n",
       "      <td>2011-12-09</td>\n",
       "      <td>2010-12-01</td>\n",
       "      <td>373 days</td>\n",
       "      <td>373 days</td>\n",
       "      <td>4</td>\n",
       "      <td>14.85</td>\n",
       "    </tr>\n",
       "  </tbody>\n",
       "</table>\n",
       "<p>406829 rows × 14 columns</p>\n",
       "</div>"
      ],
      "text/plain": [
       "        CustomerID InvoiceNo StockCode                          Description  \\\n",
       "0            17850    536365    85123A   WHITE HANGING HEART T-LIGHT HOLDER   \n",
       "1            17850    536365     71053                  WHITE METAL LANTERN   \n",
       "2            17850    536365    84406B       CREAM CUPID HEARTS COAT HANGER   \n",
       "3            17850    536365    84029G  KNITTED UNION FLAG HOT WATER BOTTLE   \n",
       "4            17850    536365    84029E       RED WOOLLY HOTTIE WHITE HEART.   \n",
       "...            ...       ...       ...                                  ...   \n",
       "406824       12680    581587     22613          PACK OF 20 SPACEBOY NAPKINS   \n",
       "406825       12680    581587     22899         CHILDREN'S APRON DOLLY GIRL    \n",
       "406826       12680    581587     23254        CHILDRENS CUTLERY DOLLY GIRL    \n",
       "406827       12680    581587     23255      CHILDRENS CUTLERY CIRCUS PARADE   \n",
       "406828       12680    581587     22138        BAKING SET 9 PIECE RETROSPOT    \n",
       "\n",
       "        Quantity    InvoiceDate  UnitPrice         Country Invoice_date_2  \\\n",
       "0              6   12/1/10 8:26       2.55  United Kingdom     2010-12-01   \n",
       "1              6   12/1/10 8:26       3.39  United Kingdom     2010-12-01   \n",
       "2              8   12/1/10 8:26       2.75  United Kingdom     2010-12-01   \n",
       "3              6   12/1/10 8:26       3.39  United Kingdom     2010-12-01   \n",
       "4              6   12/1/10 8:26       3.39  United Kingdom     2010-12-01   \n",
       "...          ...            ...        ...             ...            ...   \n",
       "406824        12  12/9/11 12:50       0.85          France     2011-12-09   \n",
       "406825         6  12/9/11 12:50       2.10          France     2011-12-09   \n",
       "406826         4  12/9/11 12:50       4.15          France     2011-12-09   \n",
       "406827         4  12/9/11 12:50       4.15          France     2011-12-09   \n",
       "406828         3  12/9/11 12:50       4.95          France     2011-12-09   \n",
       "\n",
       "         from_date time_diff  recency  frequency  value  \n",
       "0       2010-12-01    0 days  71 days         35  15.30  \n",
       "1       2010-12-01    0 days  71 days         35  20.34  \n",
       "2       2010-12-01    0 days  71 days         35  22.00  \n",
       "3       2010-12-01    0 days  71 days         35  20.34  \n",
       "4       2010-12-01    0 days  71 days         35  20.34  \n",
       "...            ...       ...      ...        ...    ...  \n",
       "406824  2010-12-01  373 days 373 days          4  10.20  \n",
       "406825  2010-12-01  373 days 373 days          4  12.60  \n",
       "406826  2010-12-01  373 days 373 days          4  16.60  \n",
       "406827  2010-12-01  373 days 373 days          4  16.60  \n",
       "406828  2010-12-01  373 days 373 days          4  14.85  \n",
       "\n",
       "[406829 rows x 14 columns]"
      ]
     },
     "execution_count": 70,
     "metadata": {},
     "output_type": "execute_result"
    }
   ],
   "source": [
    "df = df.withColumn(\"value\", f.col('Quantity') * f.col('UnitPrice'))\n",
    "df.toPandas()"
   ]
  },
  {
   "cell_type": "code",
   "execution_count": 72,
   "metadata": {
    "ExecuteTime": {
     "end_time": "2023-08-13T08:48:44.440950Z",
     "start_time": "2023-08-13T08:48:42.821382Z"
    }
   },
   "outputs": [
    {
     "name": "stderr",
     "output_type": "stream",
     "text": [
      "\r",
      "[Stage 238:=======>                                                 (1 + 7) / 8]\r",
      "\r",
      "[Stage 239:>                                                        (0 + 8) / 8]\r"
     ]
    },
    {
     "name": "stdout",
     "output_type": "stream",
     "text": [
      "+----------+--------------+\n",
      "|CustomerID|monetary_value|\n",
      "+----------+--------------+\n",
      "|     17420|        598.83|\n",
      "|     16861|        151.65|\n",
      "|     16503|       1421.43|\n",
      "|     15727|       5178.96|\n",
      "|     17389|      31300.08|\n",
      "|     15447|        155.17|\n",
      "|     14450|        483.25|\n",
      "|     15100|         635.1|\n",
      "|     12471|      18740.92|\n",
      "|     16916|        576.26|\n",
      "|     14514|       1055.35|\n",
      "|     16500|        400.86|\n",
      "|     12626|       6388.35|\n",
      "|     18161|       1612.79|\n",
      "|     15967|        418.83|\n",
      "|     17809|       4627.62|\n",
      "|     15738|       4788.77|\n",
      "|     17044|        897.43|\n",
      "|     12393|        1582.6|\n",
      "|     16791|       1706.28|\n",
      "+----------+--------------+\n",
      "only showing top 20 rows\n",
      "\n"
     ]
    },
    {
     "name": "stderr",
     "output_type": "stream",
     "text": [
      "\r",
      "[Stage 239:=================================================>       (7 + 1) / 8]\r",
      "\r",
      "                                                                                \r"
     ]
    }
   ],
   "source": [
    "df.groupBy('CustomerID').agg(f.round(f.sum('value'), 2).alias('monetary_value')).show()"
   ]
  },
  {
   "cell_type": "code",
   "execution_count": 73,
   "metadata": {
    "ExecuteTime": {
     "end_time": "2023-08-13T08:49:47.839559Z",
     "start_time": "2023-08-13T08:49:36.027784Z"
    }
   },
   "outputs": [
    {
     "name": "stderr",
     "output_type": "stream",
     "text": [
      "                                                                                \r"
     ]
    },
    {
     "data": {
      "text/html": [
       "<div>\n",
       "<style scoped>\n",
       "    .dataframe tbody tr th:only-of-type {\n",
       "        vertical-align: middle;\n",
       "    }\n",
       "\n",
       "    .dataframe tbody tr th {\n",
       "        vertical-align: top;\n",
       "    }\n",
       "\n",
       "    .dataframe thead th {\n",
       "        text-align: right;\n",
       "    }\n",
       "</style>\n",
       "<table border=\"1\" class=\"dataframe\">\n",
       "  <thead>\n",
       "    <tr style=\"text-align: right;\">\n",
       "      <th></th>\n",
       "      <th>CustomerID</th>\n",
       "      <th>InvoiceNo</th>\n",
       "      <th>StockCode</th>\n",
       "      <th>Description</th>\n",
       "      <th>Quantity</th>\n",
       "      <th>InvoiceDate</th>\n",
       "      <th>UnitPrice</th>\n",
       "      <th>Country</th>\n",
       "      <th>Invoice_date_2</th>\n",
       "      <th>from_date</th>\n",
       "      <th>time_diff</th>\n",
       "      <th>recency</th>\n",
       "      <th>frequency</th>\n",
       "      <th>value</th>\n",
       "      <th>monetary_value</th>\n",
       "    </tr>\n",
       "  </thead>\n",
       "  <tbody>\n",
       "    <tr>\n",
       "      <th>0</th>\n",
       "      <td>12347</td>\n",
       "      <td>537626</td>\n",
       "      <td>85116</td>\n",
       "      <td>BLACK CANDELABRA T-LIGHT HOLDER</td>\n",
       "      <td>12</td>\n",
       "      <td>12/7/10 14:57</td>\n",
       "      <td>2.10</td>\n",
       "      <td>Iceland</td>\n",
       "      <td>2010-12-07</td>\n",
       "      <td>2010-12-01</td>\n",
       "      <td>6 days</td>\n",
       "      <td>371 days</td>\n",
       "      <td>7</td>\n",
       "      <td>25.2</td>\n",
       "      <td>4310.0</td>\n",
       "    </tr>\n",
       "    <tr>\n",
       "      <th>1</th>\n",
       "      <td>12347</td>\n",
       "      <td>537626</td>\n",
       "      <td>22375</td>\n",
       "      <td>AIRLINE BAG VINTAGE JET SET BROWN</td>\n",
       "      <td>4</td>\n",
       "      <td>12/7/10 14:57</td>\n",
       "      <td>4.25</td>\n",
       "      <td>Iceland</td>\n",
       "      <td>2010-12-07</td>\n",
       "      <td>2010-12-01</td>\n",
       "      <td>6 days</td>\n",
       "      <td>371 days</td>\n",
       "      <td>7</td>\n",
       "      <td>17.0</td>\n",
       "      <td>4310.0</td>\n",
       "    </tr>\n",
       "    <tr>\n",
       "      <th>2</th>\n",
       "      <td>12347</td>\n",
       "      <td>537626</td>\n",
       "      <td>71477</td>\n",
       "      <td>COLOUR GLASS. STAR T-LIGHT HOLDER</td>\n",
       "      <td>12</td>\n",
       "      <td>12/7/10 14:57</td>\n",
       "      <td>3.25</td>\n",
       "      <td>Iceland</td>\n",
       "      <td>2010-12-07</td>\n",
       "      <td>2010-12-01</td>\n",
       "      <td>6 days</td>\n",
       "      <td>371 days</td>\n",
       "      <td>7</td>\n",
       "      <td>39.0</td>\n",
       "      <td>4310.0</td>\n",
       "    </tr>\n",
       "    <tr>\n",
       "      <th>3</th>\n",
       "      <td>12347</td>\n",
       "      <td>537626</td>\n",
       "      <td>22492</td>\n",
       "      <td>MINI PAINT SET VINTAGE</td>\n",
       "      <td>36</td>\n",
       "      <td>12/7/10 14:57</td>\n",
       "      <td>0.65</td>\n",
       "      <td>Iceland</td>\n",
       "      <td>2010-12-07</td>\n",
       "      <td>2010-12-01</td>\n",
       "      <td>6 days</td>\n",
       "      <td>371 days</td>\n",
       "      <td>7</td>\n",
       "      <td>23.4</td>\n",
       "      <td>4310.0</td>\n",
       "    </tr>\n",
       "    <tr>\n",
       "      <th>4</th>\n",
       "      <td>12347</td>\n",
       "      <td>537626</td>\n",
       "      <td>22771</td>\n",
       "      <td>CLEAR DRAWER KNOB ACRYLIC EDWARDIAN</td>\n",
       "      <td>12</td>\n",
       "      <td>12/7/10 14:57</td>\n",
       "      <td>1.25</td>\n",
       "      <td>Iceland</td>\n",
       "      <td>2010-12-07</td>\n",
       "      <td>2010-12-01</td>\n",
       "      <td>6 days</td>\n",
       "      <td>371 days</td>\n",
       "      <td>7</td>\n",
       "      <td>15.0</td>\n",
       "      <td>4310.0</td>\n",
       "    </tr>\n",
       "    <tr>\n",
       "      <th>...</th>\n",
       "      <td>...</td>\n",
       "      <td>...</td>\n",
       "      <td>...</td>\n",
       "      <td>...</td>\n",
       "      <td>...</td>\n",
       "      <td>...</td>\n",
       "      <td>...</td>\n",
       "      <td>...</td>\n",
       "      <td>...</td>\n",
       "      <td>...</td>\n",
       "      <td>...</td>\n",
       "      <td>...</td>\n",
       "      <td>...</td>\n",
       "      <td>...</td>\n",
       "      <td>...</td>\n",
       "    </tr>\n",
       "    <tr>\n",
       "      <th>406824</th>\n",
       "      <td>18269</td>\n",
       "      <td>537817</td>\n",
       "      <td>22418</td>\n",
       "      <td>10 COLOUR SPACEBOY PEN</td>\n",
       "      <td>24</td>\n",
       "      <td>12/8/10 13:53</td>\n",
       "      <td>0.85</td>\n",
       "      <td>United Kingdom</td>\n",
       "      <td>2010-12-08</td>\n",
       "      <td>2010-12-01</td>\n",
       "      <td>7 days</td>\n",
       "      <td>15 days</td>\n",
       "      <td>2</td>\n",
       "      <td>20.4</td>\n",
       "      <td>138.9</td>\n",
       "    </tr>\n",
       "    <tr>\n",
       "      <th>406825</th>\n",
       "      <td>18269</td>\n",
       "      <td>537817</td>\n",
       "      <td>22451</td>\n",
       "      <td>SILK PURSE BABUSHKA RED</td>\n",
       "      <td>6</td>\n",
       "      <td>12/8/10 13:53</td>\n",
       "      <td>3.35</td>\n",
       "      <td>United Kingdom</td>\n",
       "      <td>2010-12-08</td>\n",
       "      <td>2010-12-01</td>\n",
       "      <td>7 days</td>\n",
       "      <td>15 days</td>\n",
       "      <td>2</td>\n",
       "      <td>20.1</td>\n",
       "      <td>138.9</td>\n",
       "    </tr>\n",
       "    <tr>\n",
       "      <th>406826</th>\n",
       "      <td>18269</td>\n",
       "      <td>537817</td>\n",
       "      <td>22450</td>\n",
       "      <td>SILK PURSE BABUSHKA BLUE</td>\n",
       "      <td>6</td>\n",
       "      <td>12/8/10 13:53</td>\n",
       "      <td>3.35</td>\n",
       "      <td>United Kingdom</td>\n",
       "      <td>2010-12-08</td>\n",
       "      <td>2010-12-01</td>\n",
       "      <td>7 days</td>\n",
       "      <td>15 days</td>\n",
       "      <td>2</td>\n",
       "      <td>20.1</td>\n",
       "      <td>138.9</td>\n",
       "    </tr>\n",
       "    <tr>\n",
       "      <th>406827</th>\n",
       "      <td>18269</td>\n",
       "      <td>537817</td>\n",
       "      <td>22449</td>\n",
       "      <td>SILK PURSE BABUSHKA PINK</td>\n",
       "      <td>6</td>\n",
       "      <td>12/8/10 13:53</td>\n",
       "      <td>3.35</td>\n",
       "      <td>United Kingdom</td>\n",
       "      <td>2010-12-08</td>\n",
       "      <td>2010-12-01</td>\n",
       "      <td>7 days</td>\n",
       "      <td>15 days</td>\n",
       "      <td>2</td>\n",
       "      <td>20.1</td>\n",
       "      <td>138.9</td>\n",
       "    </tr>\n",
       "    <tr>\n",
       "      <th>406828</th>\n",
       "      <td>18269</td>\n",
       "      <td>C539278</td>\n",
       "      <td>22617</td>\n",
       "      <td>BAKING SET SPACEBOY DESIGN</td>\n",
       "      <td>-6</td>\n",
       "      <td>12/16/10 15:39</td>\n",
       "      <td>4.95</td>\n",
       "      <td>United Kingdom</td>\n",
       "      <td>2010-12-16</td>\n",
       "      <td>2010-12-01</td>\n",
       "      <td>15 days</td>\n",
       "      <td>15 days</td>\n",
       "      <td>2</td>\n",
       "      <td>-29.7</td>\n",
       "      <td>138.9</td>\n",
       "    </tr>\n",
       "  </tbody>\n",
       "</table>\n",
       "<p>406829 rows × 15 columns</p>\n",
       "</div>"
      ],
      "text/plain": [
       "        CustomerID InvoiceNo StockCode                          Description  \\\n",
       "0            12347    537626     85116      BLACK CANDELABRA T-LIGHT HOLDER   \n",
       "1            12347    537626     22375    AIRLINE BAG VINTAGE JET SET BROWN   \n",
       "2            12347    537626     71477    COLOUR GLASS. STAR T-LIGHT HOLDER   \n",
       "3            12347    537626     22492              MINI PAINT SET VINTAGE    \n",
       "4            12347    537626     22771  CLEAR DRAWER KNOB ACRYLIC EDWARDIAN   \n",
       "...            ...       ...       ...                                  ...   \n",
       "406824       18269    537817     22418               10 COLOUR SPACEBOY PEN   \n",
       "406825       18269    537817     22451              SILK PURSE BABUSHKA RED   \n",
       "406826       18269    537817     22450             SILK PURSE BABUSHKA BLUE   \n",
       "406827       18269    537817     22449             SILK PURSE BABUSHKA PINK   \n",
       "406828       18269   C539278     22617           BAKING SET SPACEBOY DESIGN   \n",
       "\n",
       "        Quantity     InvoiceDate  UnitPrice         Country Invoice_date_2  \\\n",
       "0             12   12/7/10 14:57       2.10         Iceland     2010-12-07   \n",
       "1              4   12/7/10 14:57       4.25         Iceland     2010-12-07   \n",
       "2             12   12/7/10 14:57       3.25         Iceland     2010-12-07   \n",
       "3             36   12/7/10 14:57       0.65         Iceland     2010-12-07   \n",
       "4             12   12/7/10 14:57       1.25         Iceland     2010-12-07   \n",
       "...          ...             ...        ...             ...            ...   \n",
       "406824        24   12/8/10 13:53       0.85  United Kingdom     2010-12-08   \n",
       "406825         6   12/8/10 13:53       3.35  United Kingdom     2010-12-08   \n",
       "406826         6   12/8/10 13:53       3.35  United Kingdom     2010-12-08   \n",
       "406827         6   12/8/10 13:53       3.35  United Kingdom     2010-12-08   \n",
       "406828        -6  12/16/10 15:39       4.95  United Kingdom     2010-12-16   \n",
       "\n",
       "         from_date time_diff  recency  frequency  value  monetary_value  \n",
       "0       2010-12-01    6 days 371 days          7   25.2          4310.0  \n",
       "1       2010-12-01    6 days 371 days          7   17.0          4310.0  \n",
       "2       2010-12-01    6 days 371 days          7   39.0          4310.0  \n",
       "3       2010-12-01    6 days 371 days          7   23.4          4310.0  \n",
       "4       2010-12-01    6 days 371 days          7   15.0          4310.0  \n",
       "...            ...       ...      ...        ...    ...             ...  \n",
       "406824  2010-12-01    7 days  15 days          2   20.4           138.9  \n",
       "406825  2010-12-01    7 days  15 days          2   20.1           138.9  \n",
       "406826  2010-12-01    7 days  15 days          2   20.1           138.9  \n",
       "406827  2010-12-01    7 days  15 days          2   20.1           138.9  \n",
       "406828  2010-12-01   15 days  15 days          2  -29.7           138.9  \n",
       "\n",
       "[406829 rows x 15 columns]"
      ]
     },
     "execution_count": 73,
     "metadata": {},
     "output_type": "execute_result"
    }
   ],
   "source": [
    "df = df.join(df.groupBy('CustomerID').agg(f.round(f.sum('value'), 2).alias('monetary_value')), on='CustomerID')\n",
    "df.toPandas()"
   ]
  },
  {
   "cell_type": "markdown",
   "metadata": {
    "id": "Kf6hdV-H0onW"
   },
   "source": [
    "9. Wybierz z tabeli unikalne wartości dla kolumn `recency`, `frequency`, `monetary_value`, `CustomerID`"
   ]
  },
  {
   "cell_type": "code",
   "execution_count": 89,
   "metadata": {
    "ExecuteTime": {
     "end_time": "2023-08-13T09:17:55.425401Z",
     "start_time": "2023-08-13T09:17:52.680073Z"
    },
    "id": "b4b8942a"
   },
   "outputs": [
    {
     "name": "stderr",
     "output_type": "stream",
     "text": [
      "                                                                                \r"
     ]
    },
    {
     "name": "stdout",
     "output_type": "stream",
     "text": [
      "+----------+------------------+---------+--------------+\n",
      "|CustomerID|           recency|frequency|monetary_value|\n",
      "+----------+------------------+---------+--------------+\n",
      "|     12346| INTERVAL '48' DAY|        2|           0.0|\n",
      "|     12347|INTERVAL '371' DAY|        7|        4310.0|\n",
      "|     12349|INTERVAL '355' DAY|        1|       1757.55|\n",
      "|     12355|INTERVAL '159' DAY|        1|         459.4|\n",
      "|     12356|INTERVAL '351' DAY|        3|       2811.43|\n",
      "+----------+------------------+---------+--------------+\n",
      "only showing top 5 rows\n",
      "\n"
     ]
    }
   ],
   "source": [
    "final_df = df.select(['CustomerID', 'recency', 'frequency', 'monetary_value']).distinct()\n",
    "final_df.show(5)"
   ]
  },
  {
   "cell_type": "markdown",
   "metadata": {
    "id": "59d891d5"
   },
   "source": [
    "#### Machine learning - przygotowanie (scale & transform)"
   ]
  },
  {
   "cell_type": "markdown",
   "metadata": {
    "id": "cb24d6da"
   },
   "source": [
    "10. Za pomocą `VectorAssembler` utwórz jedną kolumnę z kolumn `recency`,`frequency`,`monetary_value`"
   ]
  },
  {
   "cell_type": "code",
   "execution_count": 90,
   "metadata": {
    "ExecuteTime": {
     "end_time": "2023-08-13T09:18:34.480513Z",
     "start_time": "2023-08-13T09:18:34.474921Z"
    },
    "id": "ivzZrvlD07WO"
   },
   "outputs": [
    {
     "name": "stdout",
     "output_type": "stream",
     "text": [
      "root\n",
      " |-- CustomerID: integer (nullable = true)\n",
      " |-- recency: interval day (nullable = true)\n",
      " |-- frequency: long (nullable = false)\n",
      " |-- monetary_value: double (nullable = true)\n",
      "\n"
     ]
    }
   ],
   "source": [
    "final_df.printSchema()"
   ]
  },
  {
   "cell_type": "code",
   "execution_count": 91,
   "metadata": {
    "ExecuteTime": {
     "end_time": "2023-08-13T09:18:39.069755Z",
     "start_time": "2023-08-13T09:18:36.236907Z"
    },
    "id": "yKOJe9yd1dbX"
   },
   "outputs": [
    {
     "name": "stderr",
     "output_type": "stream",
     "text": [
      "                                                                                \r"
     ]
    },
    {
     "name": "stdout",
     "output_type": "stream",
     "text": [
      "+----------+-------+---------+--------------+\n",
      "|CustomerID|recency|frequency|monetary_value|\n",
      "+----------+-------+---------+--------------+\n",
      "|     12346|     48|        2|           0.0|\n",
      "|     12347|    371|        7|        4310.0|\n",
      "|     12349|    355|        1|       1757.55|\n",
      "|     12355|    159|        1|         459.4|\n",
      "|     12356|    351|        3|       2811.43|\n",
      "+----------+-------+---------+--------------+\n",
      "only showing top 5 rows\n",
      "\n",
      "root\n",
      " |-- CustomerID: integer (nullable = true)\n",
      " |-- recency: long (nullable = true)\n",
      " |-- frequency: long (nullable = false)\n",
      " |-- monetary_value: double (nullable = true)\n",
      "\n"
     ]
    }
   ],
   "source": [
    "final_df = final_df.withColumn(\"recency\", final_df.recency.cast('long'))  # zmiana typu kolumny z 'timeDelta' na 'long'\n",
    "final_df.show(5)\n",
    "\n",
    "final_df.printSchema()"
   ]
  },
  {
   "cell_type": "code",
   "execution_count": 92,
   "metadata": {
    "ExecuteTime": {
     "end_time": "2023-08-13T09:18:45.025489Z",
     "start_time": "2023-08-13T09:18:42.084097Z"
    },
    "id": "4de220cd"
   },
   "outputs": [
    {
     "name": "stderr",
     "output_type": "stream",
     "text": [
      "                                                                                \r"
     ]
    },
    {
     "name": "stdout",
     "output_type": "stream",
     "text": [
      "+----------+-------+---------+--------------+-------------------+\n",
      "|CustomerID|recency|frequency|monetary_value|featuresFull       |\n",
      "+----------+-------+---------+--------------+-------------------+\n",
      "|12346     |48     |2        |0.0           |[48.0,2.0,0.0]     |\n",
      "|12347     |371    |7        |4310.0        |[371.0,7.0,4310.0] |\n",
      "|12349     |355    |1        |1757.55       |[355.0,1.0,1757.55]|\n",
      "|12355     |159    |1        |459.4         |[159.0,1.0,459.4]  |\n",
      "|12356     |351    |3        |2811.43       |[351.0,3.0,2811.43]|\n",
      "+----------+-------+---------+--------------+-------------------+\n",
      "only showing top 5 rows\n",
      "\n"
     ]
    }
   ],
   "source": [
    "vectAssembler = feature.VectorAssembler(inputCols=[\"recency\", \"frequency\", \"monetary_value\"], outputCol=\"featuresFull\")\n",
    "\n",
    "final_df = vectAssembler.transform(final_df)\n",
    "final_df.show(5, truncate=False)"
   ]
  },
  {
   "cell_type": "markdown",
   "metadata": {
    "id": "b7daecef"
   },
   "source": [
    "11. Za pomocą `StandardScaler` wystandarduj wartości w nowo utworzonej kolumnie"
   ]
  },
  {
   "cell_type": "code",
   "execution_count": 93,
   "metadata": {
    "ExecuteTime": {
     "end_time": "2023-08-13T09:18:55.523506Z",
     "start_time": "2023-08-13T09:18:50.103957Z"
    }
   },
   "outputs": [
    {
     "name": "stderr",
     "output_type": "stream",
     "text": [
      "                                                                                \r"
     ]
    },
    {
     "name": "stdout",
     "output_type": "stream",
     "text": [
      "+----------+-------+---------+--------------+-------------------+------------------------------------------------------------+\n",
      "|CustomerID|recency|frequency|monetary_value|featuresFull       |featuresScal                                                |\n",
      "+----------+-------+---------+--------------+-------------------+------------------------------------------------------------+\n",
      "|12346     |48     |2        |0.0           |[48.0,2.0,0.0]     |[0.4763221295769767,0.21416132869209512,0.0]                |\n",
      "|12347     |371    |7        |4310.0        |[371.0,7.0,4310.0] |[3.6815731265220495,0.7495646504223329,0.5243726751937274]  |\n",
      "|12349     |355    |1        |1757.55       |[355.0,1.0,1757.55]|[3.5227990833297236,0.10708066434604756,0.21383090377882497]|\n",
      "|12355     |159    |1        |459.4         |[159.0,1.0,459.4]  |[1.5778170542237353,0.10708066434604756,0.05589253062273744]|\n",
      "|12356     |351    |3        |2811.43       |[351.0,3.0,2811.43]|[3.483105572531642,0.32124199303814266,0.3420503643201626]  |\n",
      "+----------+-------+---------+--------------+-------------------+------------------------------------------------------------+\n",
      "only showing top 5 rows\n",
      "\n"
     ]
    }
   ],
   "source": [
    "scaler = feature.StandardScaler(inputCol=\"featuresFull\", outputCol=\"featuresScal\")\n",
    "\n",
    "scalerModel = scaler.fit(final_df)\n",
    "\n",
    "final_df = scalerModel.transform(final_df)\n",
    "final_df.show(5, truncate=False)"
   ]
  },
  {
   "cell_type": "markdown",
   "metadata": {
    "id": "ZfVQs_69aMgY"
   },
   "source": [
    "## Klasyfikacja - przygotowanie danych"
   ]
  },
  {
   "cell_type": "code",
   "execution_count": 94,
   "metadata": {
    "ExecuteTime": {
     "end_time": "2023-08-13T09:24:51.544341Z",
     "start_time": "2023-08-13T09:24:51.540118Z"
    },
    "id": "ef4LEvioaMgZ"
   },
   "outputs": [],
   "source": [
    "from pyspark.ml import classification"
   ]
  },
  {
   "cell_type": "markdown",
   "metadata": {
    "id": "z2gB8w93aMgZ"
   },
   "source": [
    "https://archive.ics.uci.edu/ml/datasets/adult"
   ]
  },
  {
   "cell_type": "code",
   "execution_count": 150,
   "metadata": {
    "ExecuteTime": {
     "end_time": "2023-08-13T10:35:41.875598Z",
     "start_time": "2023-08-13T10:35:40.955771Z"
    },
    "id": "KxFZH4dzaMga"
   },
   "outputs": [
    {
     "data": {
      "text/html": [
       "<div>\n",
       "<style scoped>\n",
       "    .dataframe tbody tr th:only-of-type {\n",
       "        vertical-align: middle;\n",
       "    }\n",
       "\n",
       "    .dataframe tbody tr th {\n",
       "        vertical-align: top;\n",
       "    }\n",
       "\n",
       "    .dataframe thead th {\n",
       "        text-align: right;\n",
       "    }\n",
       "</style>\n",
       "<table border=\"1\" class=\"dataframe\">\n",
       "  <thead>\n",
       "    <tr style=\"text-align: right;\">\n",
       "      <th></th>\n",
       "      <th>age</th>\n",
       "      <th>workclass</th>\n",
       "      <th>fnlwgt</th>\n",
       "      <th>education</th>\n",
       "      <th>education-num</th>\n",
       "      <th>marital-status</th>\n",
       "      <th>occupation</th>\n",
       "      <th>relationship</th>\n",
       "      <th>race</th>\n",
       "      <th>sex</th>\n",
       "      <th>capital-gain</th>\n",
       "      <th>capital-loss</th>\n",
       "      <th>hours-per-week</th>\n",
       "      <th>native-country</th>\n",
       "      <th>earnings</th>\n",
       "    </tr>\n",
       "  </thead>\n",
       "  <tbody>\n",
       "    <tr>\n",
       "      <th>0</th>\n",
       "      <td>39</td>\n",
       "      <td>State-gov</td>\n",
       "      <td>77516</td>\n",
       "      <td>Bachelors</td>\n",
       "      <td>13</td>\n",
       "      <td>Never-married</td>\n",
       "      <td>Adm-clerical</td>\n",
       "      <td>Not-in-family</td>\n",
       "      <td>White</td>\n",
       "      <td>Male</td>\n",
       "      <td>2174</td>\n",
       "      <td>0</td>\n",
       "      <td>40</td>\n",
       "      <td>United-States</td>\n",
       "      <td>&lt;=50K</td>\n",
       "    </tr>\n",
       "    <tr>\n",
       "      <th>1</th>\n",
       "      <td>50</td>\n",
       "      <td>Self-emp-not-inc</td>\n",
       "      <td>83311</td>\n",
       "      <td>Bachelors</td>\n",
       "      <td>13</td>\n",
       "      <td>Married-civ-spouse</td>\n",
       "      <td>Exec-managerial</td>\n",
       "      <td>Husband</td>\n",
       "      <td>White</td>\n",
       "      <td>Male</td>\n",
       "      <td>0</td>\n",
       "      <td>0</td>\n",
       "      <td>13</td>\n",
       "      <td>United-States</td>\n",
       "      <td>&lt;=50K</td>\n",
       "    </tr>\n",
       "    <tr>\n",
       "      <th>2</th>\n",
       "      <td>38</td>\n",
       "      <td>Private</td>\n",
       "      <td>215646</td>\n",
       "      <td>HS-grad</td>\n",
       "      <td>9</td>\n",
       "      <td>Divorced</td>\n",
       "      <td>Handlers-cleaners</td>\n",
       "      <td>Not-in-family</td>\n",
       "      <td>White</td>\n",
       "      <td>Male</td>\n",
       "      <td>0</td>\n",
       "      <td>0</td>\n",
       "      <td>40</td>\n",
       "      <td>United-States</td>\n",
       "      <td>&lt;=50K</td>\n",
       "    </tr>\n",
       "    <tr>\n",
       "      <th>3</th>\n",
       "      <td>53</td>\n",
       "      <td>Private</td>\n",
       "      <td>234721</td>\n",
       "      <td>11th</td>\n",
       "      <td>7</td>\n",
       "      <td>Married-civ-spouse</td>\n",
       "      <td>Handlers-cleaners</td>\n",
       "      <td>Husband</td>\n",
       "      <td>Black</td>\n",
       "      <td>Male</td>\n",
       "      <td>0</td>\n",
       "      <td>0</td>\n",
       "      <td>40</td>\n",
       "      <td>United-States</td>\n",
       "      <td>&lt;=50K</td>\n",
       "    </tr>\n",
       "    <tr>\n",
       "      <th>4</th>\n",
       "      <td>28</td>\n",
       "      <td>Private</td>\n",
       "      <td>338409</td>\n",
       "      <td>Bachelors</td>\n",
       "      <td>13</td>\n",
       "      <td>Married-civ-spouse</td>\n",
       "      <td>Prof-specialty</td>\n",
       "      <td>Wife</td>\n",
       "      <td>Black</td>\n",
       "      <td>Female</td>\n",
       "      <td>0</td>\n",
       "      <td>0</td>\n",
       "      <td>40</td>\n",
       "      <td>Cuba</td>\n",
       "      <td>&lt;=50K</td>\n",
       "    </tr>\n",
       "  </tbody>\n",
       "</table>\n",
       "</div>"
      ],
      "text/plain": [
       "   age         workclass  fnlwgt  education  education-num  \\\n",
       "0   39         State-gov   77516  Bachelors             13   \n",
       "1   50  Self-emp-not-inc   83311  Bachelors             13   \n",
       "2   38           Private  215646    HS-grad              9   \n",
       "3   53           Private  234721       11th              7   \n",
       "4   28           Private  338409  Bachelors             13   \n",
       "\n",
       "       marital-status         occupation   relationship   race     sex  \\\n",
       "0       Never-married       Adm-clerical  Not-in-family  White    Male   \n",
       "1  Married-civ-spouse    Exec-managerial        Husband  White    Male   \n",
       "2            Divorced  Handlers-cleaners  Not-in-family  White    Male   \n",
       "3  Married-civ-spouse  Handlers-cleaners        Husband  Black    Male   \n",
       "4  Married-civ-spouse     Prof-specialty           Wife  Black  Female   \n",
       "\n",
       "   capital-gain  capital-loss  hours-per-week native-country earnings  \n",
       "0          2174             0              40  United-States    <=50K  \n",
       "1             0             0              13  United-States    <=50K  \n",
       "2             0             0              40  United-States    <=50K  \n",
       "3             0             0              40  United-States    <=50K  \n",
       "4             0             0              40           Cuba    <=50K  "
      ]
     },
     "execution_count": 150,
     "metadata": {},
     "output_type": "execute_result"
    }
   ],
   "source": [
    "col_names = [\"age\", \"workclass\", \"fnlwgt\", \"education\", \"education-num\", \"marital-status\", \"occupation\", \"relationship\",\n",
    "             \"race\", \"sex\", \"capital-gain\", \"capital-loss\", \"hours-per-week\", \"native-country\", \"earnings\"]\n",
    "\n",
    "df = spark.read.csv(\"../spark materiały_dzien_1/adult.data\", header=False, inferSchema=True, ignoreLeadingWhiteSpace=True)\n",
    "\n",
    "df.toDF(*col_names).toPandas().head()  # zmiana nazw kolumn (inny sposób poniżej)"
   ]
  },
  {
   "cell_type": "code",
   "execution_count": 151,
   "metadata": {
    "ExecuteTime": {
     "end_time": "2023-08-13T10:35:43.833796Z",
     "start_time": "2023-08-13T10:35:43.702026Z"
    },
    "id": "EvXJhw02aMga"
   },
   "outputs": [
    {
     "name": "stdout",
     "output_type": "stream",
     "text": [
      "-RECORD 0----------------------------\n",
      " age            | 39                 \n",
      " workclass      | State-gov          \n",
      " education      | Bachelors          \n",
      " education-num  | 13                 \n",
      " marital-status | Never-married      \n",
      " occupation     | Adm-clerical       \n",
      " relationship   | Not-in-family      \n",
      " race           | White              \n",
      " sex            | Male               \n",
      " capital-gain   | 2174               \n",
      " capital-loss   | 0                  \n",
      " hours-per-week | 40                 \n",
      " native-country | United-States      \n",
      " earnings       | <=50K              \n",
      "-RECORD 1----------------------------\n",
      " age            | 50                 \n",
      " workclass      | Self-emp-not-inc   \n",
      " education      | Bachelors          \n",
      " education-num  | 13                 \n",
      " marital-status | Married-civ-spouse \n",
      " occupation     | Exec-managerial    \n",
      " relationship   | Husband            \n",
      " race           | White              \n",
      " sex            | Male               \n",
      " capital-gain   | 0                  \n",
      " capital-loss   | 0                  \n",
      " hours-per-week | 13                 \n",
      " native-country | United-States      \n",
      " earnings       | <=50K              \n",
      "-RECORD 2----------------------------\n",
      " age            | 38                 \n",
      " workclass      | Private            \n",
      " education      | HS-grad            \n",
      " education-num  | 9                  \n",
      " marital-status | Divorced           \n",
      " occupation     | Handlers-cleaners  \n",
      " relationship   | Not-in-family      \n",
      " race           | White              \n",
      " sex            | Male               \n",
      " capital-gain   | 0                  \n",
      " capital-loss   | 0                  \n",
      " hours-per-week | 40                 \n",
      " native-country | United-States      \n",
      " earnings       | <=50K              \n",
      "only showing top 3 rows\n",
      "\n"
     ]
    }
   ],
   "source": [
    "df = df.select(*[f.col(old).alias(new) for old, new in zip(df.columns, col_names)]).drop(\"fnlwgt\").dropna(\"any\")\n",
    "df.show(3, vertical=True)"
   ]
  },
  {
   "cell_type": "markdown",
   "metadata": {
    "id": "KiKJXFUtaMgb"
   },
   "source": [
    "### **ZADANIE 2:**\n",
    "1 podziel `df` na zbiór treningowy i ewaluacyjny\n",
    "\n",
    "2 na podstawie kolumny `earnings` stwórz zmienną celu `label` z wartościami zakodowanymi jako 0 i 1\n",
    "\n",
    "3 stwórz (przeskalowaną) kolumnę `features` zawierającą wektory powstałe na podstawie pozostałych kolumn\n",
    "\n",
    "4 wynikowe DFy nazwij `df_train` i `df_eval`"
   ]
  },
  {
   "cell_type": "code",
   "execution_count": 158,
   "metadata": {
    "ExecuteTime": {
     "end_time": "2023-08-13T10:36:55.309069Z",
     "start_time": "2023-08-13T10:36:55.298293Z"
    },
    "id": "mbxlol9baMgc"
   },
   "outputs": [],
   "source": [
    "# 1 \n",
    "df_train, df_test = df.randomSplit([0.7, 0.3], 42)"
   ]
  },
  {
   "cell_type": "code",
   "execution_count": 153,
   "metadata": {
    "ExecuteTime": {
     "end_time": "2023-08-13T10:35:51.553269Z",
     "start_time": "2023-08-13T10:35:51.545677Z"
    }
   },
   "outputs": [],
   "source": [
    "# 2\n",
    "indexer = feature.StringIndexer(inputCol=\"earnings\", outputCol=\"label\")"
   ]
  },
  {
   "cell_type": "code",
   "execution_count": 154,
   "metadata": {
    "ExecuteTime": {
     "end_time": "2023-08-13T10:35:55.150720Z",
     "start_time": "2023-08-13T10:35:55.141559Z"
    }
   },
   "outputs": [
    {
     "name": "stdout",
     "output_type": "stream",
     "text": [
      "root\n",
      " |-- age: integer (nullable = true)\n",
      " |-- workclass: string (nullable = true)\n",
      " |-- education: string (nullable = true)\n",
      " |-- education-num: integer (nullable = true)\n",
      " |-- marital-status: string (nullable = true)\n",
      " |-- occupation: string (nullable = true)\n",
      " |-- relationship: string (nullable = true)\n",
      " |-- race: string (nullable = true)\n",
      " |-- sex: string (nullable = true)\n",
      " |-- capital-gain: integer (nullable = true)\n",
      " |-- capital-loss: integer (nullable = true)\n",
      " |-- hours-per-week: integer (nullable = true)\n",
      " |-- native-country: string (nullable = true)\n",
      " |-- earnings: string (nullable = true)\n",
      "\n",
      "category columns: ['workclass', 'education', 'marital-status', 'occupation', 'relationship', 'race', 'sex', 'native-country'] \n",
      "numerical columns: ['age', 'education-num', 'capital-gain', 'capital-loss', 'hours-per-week']\n"
     ]
    }
   ],
   "source": [
    "# 3\n",
    "df.printSchema()\n",
    "\n",
    "categ_col = [el[0] for el in df.dtypes if el[1] == 'string' and el[0] != \"earnings\"]\n",
    "num_col = [el[0] for el in df.dtypes if el[1] != 'string']\n",
    "\n",
    "print(f'category columns: {categ_col} \\nnumerical columns: {num_col}')\n",
    "\n",
    "categ_col_idx = [col+\"_idx\" for col in categ_col]\n",
    "categ_col_ohe = [col+\"_ohe\" for col in categ_col]"
   ]
  },
  {
   "cell_type": "code",
   "execution_count": 155,
   "metadata": {
    "ExecuteTime": {
     "end_time": "2023-08-13T10:36:00.485785Z",
     "start_time": "2023-08-13T10:36:00.463474Z"
    }
   },
   "outputs": [],
   "source": [
    "#przygotowanie estymatorów/transformerów\n",
    "\n",
    "indexer_features = feature.StringIndexer(inputCols=categ_col, outputCols=categ_col_idx)\n",
    "OHencoder = feature.OneHotEncoder(inputCols=categ_col_idx, outputCols=categ_col_ohe)\n",
    "vectAssembler = feature.VectorAssembler(inputCols=categ_col_ohe+num_col, outputCol=\"featuresFull\")\n",
    "scaler = feature.StandardScaler(inputCol=\"featuresFull\", outputCol=\"features\")\n",
    "\n",
    "pipeline = Pipeline(stages=[indexer, indexer_features, OHencoder, vectAssembler, scaler])"
   ]
  },
  {
   "cell_type": "code",
   "execution_count": 159,
   "metadata": {
    "ExecuteTime": {
     "end_time": "2023-08-13T10:37:12.167478Z",
     "start_time": "2023-08-13T10:37:01.894204Z"
    }
   },
   "outputs": [
    {
     "name": "stderr",
     "output_type": "stream",
     "text": [
      "\r",
      "[Stage 649:>                                                        (0 + 1) / 1]\r",
      "\r",
      "                                                                                \r"
     ]
    },
    {
     "data": {
      "text/html": [
       "<div>\n",
       "<style scoped>\n",
       "    .dataframe tbody tr th:only-of-type {\n",
       "        vertical-align: middle;\n",
       "    }\n",
       "\n",
       "    .dataframe tbody tr th {\n",
       "        vertical-align: top;\n",
       "    }\n",
       "\n",
       "    .dataframe thead th {\n",
       "        text-align: right;\n",
       "    }\n",
       "</style>\n",
       "<table border=\"1\" class=\"dataframe\">\n",
       "  <thead>\n",
       "    <tr style=\"text-align: right;\">\n",
       "      <th></th>\n",
       "      <th>age</th>\n",
       "      <th>workclass</th>\n",
       "      <th>education</th>\n",
       "      <th>education-num</th>\n",
       "      <th>marital-status</th>\n",
       "      <th>occupation</th>\n",
       "      <th>relationship</th>\n",
       "      <th>race</th>\n",
       "      <th>sex</th>\n",
       "      <th>capital-gain</th>\n",
       "      <th>...</th>\n",
       "      <th>workclass_ohe</th>\n",
       "      <th>education_ohe</th>\n",
       "      <th>marital-status_ohe</th>\n",
       "      <th>occupation_ohe</th>\n",
       "      <th>relationship_ohe</th>\n",
       "      <th>race_ohe</th>\n",
       "      <th>sex_ohe</th>\n",
       "      <th>native-country_ohe</th>\n",
       "      <th>featuresFull</th>\n",
       "      <th>features</th>\n",
       "    </tr>\n",
       "  </thead>\n",
       "  <tbody>\n",
       "    <tr>\n",
       "      <th>0</th>\n",
       "      <td>17</td>\n",
       "      <td>?</td>\n",
       "      <td>10th</td>\n",
       "      <td>6</td>\n",
       "      <td>Never-married</td>\n",
       "      <td>?</td>\n",
       "      <td>Other-relative</td>\n",
       "      <td>White</td>\n",
       "      <td>Male</td>\n",
       "      <td>0</td>\n",
       "      <td>...</td>\n",
       "      <td>(0.0, 0.0, 0.0, 1.0, 0.0, 0.0, 0.0, 0.0)</td>\n",
       "      <td>(0.0, 0.0, 0.0, 0.0, 0.0, 0.0, 0.0, 1.0, 0.0, ...</td>\n",
       "      <td>(0.0, 1.0, 0.0, 0.0, 0.0, 0.0)</td>\n",
       "      <td>(0.0, 0.0, 0.0, 0.0, 0.0, 0.0, 0.0, 1.0, 0.0, ...</td>\n",
       "      <td>(0.0, 0.0, 0.0, 0.0, 0.0)</td>\n",
       "      <td>(1.0, 0.0, 0.0, 0.0)</td>\n",
       "      <td>(1.0)</td>\n",
       "      <td>(1.0, 0.0, 0.0, 0.0, 0.0, 0.0, 0.0, 0.0, 0.0, ...</td>\n",
       "      <td>(0.0, 0.0, 0.0, 1.0, 0.0, 0.0, 0.0, 0.0, 0.0, ...</td>\n",
       "      <td>(0.0, 0.0, 0.0, 4.336497144146086, 0.0, 0.0, 0...</td>\n",
       "    </tr>\n",
       "    <tr>\n",
       "      <th>1</th>\n",
       "      <td>17</td>\n",
       "      <td>?</td>\n",
       "      <td>10th</td>\n",
       "      <td>6</td>\n",
       "      <td>Never-married</td>\n",
       "      <td>?</td>\n",
       "      <td>Other-relative</td>\n",
       "      <td>White</td>\n",
       "      <td>Male</td>\n",
       "      <td>0</td>\n",
       "      <td>...</td>\n",
       "      <td>(0.0, 0.0, 0.0, 1.0, 0.0, 0.0, 0.0, 0.0)</td>\n",
       "      <td>(0.0, 0.0, 0.0, 0.0, 0.0, 0.0, 0.0, 1.0, 0.0, ...</td>\n",
       "      <td>(0.0, 1.0, 0.0, 0.0, 0.0, 0.0)</td>\n",
       "      <td>(0.0, 0.0, 0.0, 0.0, 0.0, 0.0, 0.0, 1.0, 0.0, ...</td>\n",
       "      <td>(0.0, 0.0, 0.0, 0.0, 0.0)</td>\n",
       "      <td>(1.0, 0.0, 0.0, 0.0)</td>\n",
       "      <td>(1.0)</td>\n",
       "      <td>(1.0, 0.0, 0.0, 0.0, 0.0, 0.0, 0.0, 0.0, 0.0, ...</td>\n",
       "      <td>(0.0, 0.0, 0.0, 1.0, 0.0, 0.0, 0.0, 0.0, 0.0, ...</td>\n",
       "      <td>(0.0, 0.0, 0.0, 4.336497144146086, 0.0, 0.0, 0...</td>\n",
       "    </tr>\n",
       "    <tr>\n",
       "      <th>2</th>\n",
       "      <td>17</td>\n",
       "      <td>?</td>\n",
       "      <td>10th</td>\n",
       "      <td>6</td>\n",
       "      <td>Never-married</td>\n",
       "      <td>?</td>\n",
       "      <td>Own-child</td>\n",
       "      <td>Black</td>\n",
       "      <td>Male</td>\n",
       "      <td>0</td>\n",
       "      <td>...</td>\n",
       "      <td>(0.0, 0.0, 0.0, 1.0, 0.0, 0.0, 0.0, 0.0)</td>\n",
       "      <td>(0.0, 0.0, 0.0, 0.0, 0.0, 0.0, 0.0, 1.0, 0.0, ...</td>\n",
       "      <td>(0.0, 1.0, 0.0, 0.0, 0.0, 0.0)</td>\n",
       "      <td>(0.0, 0.0, 0.0, 0.0, 0.0, 0.0, 0.0, 1.0, 0.0, ...</td>\n",
       "      <td>(0.0, 0.0, 1.0, 0.0, 0.0)</td>\n",
       "      <td>(0.0, 1.0, 0.0, 0.0)</td>\n",
       "      <td>(1.0)</td>\n",
       "      <td>(1.0, 0.0, 0.0, 0.0, 0.0, 0.0, 0.0, 0.0, 0.0, ...</td>\n",
       "      <td>(0.0, 0.0, 0.0, 1.0, 0.0, 0.0, 0.0, 0.0, 0.0, ...</td>\n",
       "      <td>(0.0, 0.0, 0.0, 4.336497144146086, 0.0, 0.0, 0...</td>\n",
       "    </tr>\n",
       "    <tr>\n",
       "      <th>3</th>\n",
       "      <td>17</td>\n",
       "      <td>?</td>\n",
       "      <td>10th</td>\n",
       "      <td>6</td>\n",
       "      <td>Never-married</td>\n",
       "      <td>?</td>\n",
       "      <td>Own-child</td>\n",
       "      <td>Other</td>\n",
       "      <td>Female</td>\n",
       "      <td>0</td>\n",
       "      <td>...</td>\n",
       "      <td>(0.0, 0.0, 0.0, 1.0, 0.0, 0.0, 0.0, 0.0)</td>\n",
       "      <td>(0.0, 0.0, 0.0, 0.0, 0.0, 0.0, 0.0, 1.0, 0.0, ...</td>\n",
       "      <td>(0.0, 1.0, 0.0, 0.0, 0.0, 0.0)</td>\n",
       "      <td>(0.0, 0.0, 0.0, 0.0, 0.0, 0.0, 0.0, 1.0, 0.0, ...</td>\n",
       "      <td>(0.0, 0.0, 1.0, 0.0, 0.0)</td>\n",
       "      <td>(0.0, 0.0, 0.0, 0.0)</td>\n",
       "      <td>(0.0)</td>\n",
       "      <td>(1.0, 0.0, 0.0, 0.0, 0.0, 0.0, 0.0, 0.0, 0.0, ...</td>\n",
       "      <td>(0.0, 0.0, 0.0, 1.0, 0.0, 0.0, 0.0, 0.0, 0.0, ...</td>\n",
       "      <td>(0.0, 0.0, 0.0, 4.336497144146086, 0.0, 0.0, 0...</td>\n",
       "    </tr>\n",
       "    <tr>\n",
       "      <th>4</th>\n",
       "      <td>17</td>\n",
       "      <td>?</td>\n",
       "      <td>10th</td>\n",
       "      <td>6</td>\n",
       "      <td>Never-married</td>\n",
       "      <td>?</td>\n",
       "      <td>Own-child</td>\n",
       "      <td>White</td>\n",
       "      <td>Female</td>\n",
       "      <td>0</td>\n",
       "      <td>...</td>\n",
       "      <td>(0.0, 0.0, 0.0, 1.0, 0.0, 0.0, 0.0, 0.0)</td>\n",
       "      <td>(0.0, 0.0, 0.0, 0.0, 0.0, 0.0, 0.0, 1.0, 0.0, ...</td>\n",
       "      <td>(0.0, 1.0, 0.0, 0.0, 0.0, 0.0)</td>\n",
       "      <td>(0.0, 0.0, 0.0, 0.0, 0.0, 0.0, 0.0, 1.0, 0.0, ...</td>\n",
       "      <td>(0.0, 0.0, 1.0, 0.0, 0.0)</td>\n",
       "      <td>(1.0, 0.0, 0.0, 0.0)</td>\n",
       "      <td>(0.0)</td>\n",
       "      <td>(1.0, 0.0, 0.0, 0.0, 0.0, 0.0, 0.0, 0.0, 0.0, ...</td>\n",
       "      <td>(0.0, 0.0, 0.0, 1.0, 0.0, 0.0, 0.0, 0.0, 0.0, ...</td>\n",
       "      <td>(0.0, 0.0, 0.0, 4.336497144146086, 0.0, 0.0, 0...</td>\n",
       "    </tr>\n",
       "  </tbody>\n",
       "</table>\n",
       "<p>5 rows × 33 columns</p>\n",
       "</div>"
      ],
      "text/plain": [
       "   age workclass education  education-num marital-status occupation  \\\n",
       "0   17         ?      10th              6  Never-married          ?   \n",
       "1   17         ?      10th              6  Never-married          ?   \n",
       "2   17         ?      10th              6  Never-married          ?   \n",
       "3   17         ?      10th              6  Never-married          ?   \n",
       "4   17         ?      10th              6  Never-married          ?   \n",
       "\n",
       "     relationship   race     sex  capital-gain  ...  \\\n",
       "0  Other-relative  White    Male             0  ...   \n",
       "1  Other-relative  White    Male             0  ...   \n",
       "2       Own-child  Black    Male             0  ...   \n",
       "3       Own-child  Other  Female             0  ...   \n",
       "4       Own-child  White  Female             0  ...   \n",
       "\n",
       "                              workclass_ohe  \\\n",
       "0  (0.0, 0.0, 0.0, 1.0, 0.0, 0.0, 0.0, 0.0)   \n",
       "1  (0.0, 0.0, 0.0, 1.0, 0.0, 0.0, 0.0, 0.0)   \n",
       "2  (0.0, 0.0, 0.0, 1.0, 0.0, 0.0, 0.0, 0.0)   \n",
       "3  (0.0, 0.0, 0.0, 1.0, 0.0, 0.0, 0.0, 0.0)   \n",
       "4  (0.0, 0.0, 0.0, 1.0, 0.0, 0.0, 0.0, 0.0)   \n",
       "\n",
       "                                       education_ohe  \\\n",
       "0  (0.0, 0.0, 0.0, 0.0, 0.0, 0.0, 0.0, 1.0, 0.0, ...   \n",
       "1  (0.0, 0.0, 0.0, 0.0, 0.0, 0.0, 0.0, 1.0, 0.0, ...   \n",
       "2  (0.0, 0.0, 0.0, 0.0, 0.0, 0.0, 0.0, 1.0, 0.0, ...   \n",
       "3  (0.0, 0.0, 0.0, 0.0, 0.0, 0.0, 0.0, 1.0, 0.0, ...   \n",
       "4  (0.0, 0.0, 0.0, 0.0, 0.0, 0.0, 0.0, 1.0, 0.0, ...   \n",
       "\n",
       "               marital-status_ohe  \\\n",
       "0  (0.0, 1.0, 0.0, 0.0, 0.0, 0.0)   \n",
       "1  (0.0, 1.0, 0.0, 0.0, 0.0, 0.0)   \n",
       "2  (0.0, 1.0, 0.0, 0.0, 0.0, 0.0)   \n",
       "3  (0.0, 1.0, 0.0, 0.0, 0.0, 0.0)   \n",
       "4  (0.0, 1.0, 0.0, 0.0, 0.0, 0.0)   \n",
       "\n",
       "                                      occupation_ohe  \\\n",
       "0  (0.0, 0.0, 0.0, 0.0, 0.0, 0.0, 0.0, 1.0, 0.0, ...   \n",
       "1  (0.0, 0.0, 0.0, 0.0, 0.0, 0.0, 0.0, 1.0, 0.0, ...   \n",
       "2  (0.0, 0.0, 0.0, 0.0, 0.0, 0.0, 0.0, 1.0, 0.0, ...   \n",
       "3  (0.0, 0.0, 0.0, 0.0, 0.0, 0.0, 0.0, 1.0, 0.0, ...   \n",
       "4  (0.0, 0.0, 0.0, 0.0, 0.0, 0.0, 0.0, 1.0, 0.0, ...   \n",
       "\n",
       "            relationship_ohe              race_ohe  sex_ohe  \\\n",
       "0  (0.0, 0.0, 0.0, 0.0, 0.0)  (1.0, 0.0, 0.0, 0.0)    (1.0)   \n",
       "1  (0.0, 0.0, 0.0, 0.0, 0.0)  (1.0, 0.0, 0.0, 0.0)    (1.0)   \n",
       "2  (0.0, 0.0, 1.0, 0.0, 0.0)  (0.0, 1.0, 0.0, 0.0)    (1.0)   \n",
       "3  (0.0, 0.0, 1.0, 0.0, 0.0)  (0.0, 0.0, 0.0, 0.0)    (0.0)   \n",
       "4  (0.0, 0.0, 1.0, 0.0, 0.0)  (1.0, 0.0, 0.0, 0.0)    (0.0)   \n",
       "\n",
       "                                  native-country_ohe  \\\n",
       "0  (1.0, 0.0, 0.0, 0.0, 0.0, 0.0, 0.0, 0.0, 0.0, ...   \n",
       "1  (1.0, 0.0, 0.0, 0.0, 0.0, 0.0, 0.0, 0.0, 0.0, ...   \n",
       "2  (1.0, 0.0, 0.0, 0.0, 0.0, 0.0, 0.0, 0.0, 0.0, ...   \n",
       "3  (1.0, 0.0, 0.0, 0.0, 0.0, 0.0, 0.0, 0.0, 0.0, ...   \n",
       "4  (1.0, 0.0, 0.0, 0.0, 0.0, 0.0, 0.0, 0.0, 0.0, ...   \n",
       "\n",
       "                                        featuresFull  \\\n",
       "0  (0.0, 0.0, 0.0, 1.0, 0.0, 0.0, 0.0, 0.0, 0.0, ...   \n",
       "1  (0.0, 0.0, 0.0, 1.0, 0.0, 0.0, 0.0, 0.0, 0.0, ...   \n",
       "2  (0.0, 0.0, 0.0, 1.0, 0.0, 0.0, 0.0, 0.0, 0.0, ...   \n",
       "3  (0.0, 0.0, 0.0, 1.0, 0.0, 0.0, 0.0, 0.0, 0.0, ...   \n",
       "4  (0.0, 0.0, 0.0, 1.0, 0.0, 0.0, 0.0, 0.0, 0.0, ...   \n",
       "\n",
       "                                            features  \n",
       "0  (0.0, 0.0, 0.0, 4.336497144146086, 0.0, 0.0, 0...  \n",
       "1  (0.0, 0.0, 0.0, 4.336497144146086, 0.0, 0.0, 0...  \n",
       "2  (0.0, 0.0, 0.0, 4.336497144146086, 0.0, 0.0, 0...  \n",
       "3  (0.0, 0.0, 0.0, 4.336497144146086, 0.0, 0.0, 0...  \n",
       "4  (0.0, 0.0, 0.0, 4.336497144146086, 0.0, 0.0, 0...  \n",
       "\n",
       "[5 rows x 33 columns]"
      ]
     },
     "execution_count": 159,
     "metadata": {},
     "output_type": "execute_result"
    }
   ],
   "source": [
    "# 4\n",
    "pipe_model = pipeline.fit(df_train)\n",
    "\n",
    "df_train = pipe_model.transform(df_train)\n",
    "df_eval = pipe_model.transform(df_test)\n",
    "\n",
    "df_train.toPandas().head()"
   ]
  },
  {
   "cell_type": "markdown",
   "metadata": {
    "id": "w7WMvZoraMgg"
   },
   "source": [
    "**Ostatnie przygotowania**"
   ]
  },
  {
   "cell_type": "code",
   "execution_count": 168,
   "metadata": {
    "ExecuteTime": {
     "end_time": "2023-08-13T10:39:28.647617Z",
     "start_time": "2023-08-13T10:39:28.582389Z"
    },
    "id": "PHlJW0EoaMgi"
   },
   "outputs": [
    {
     "name": "stdout",
     "output_type": "stream",
     "text": [
      "+-----+--------------------+\n",
      "|label|            features|\n",
      "+-----+--------------------+\n",
      "|  0.0|(99,[3,15,24,36,4...|\n",
      "|  0.0|(99,[3,15,24,36,4...|\n",
      "|  0.0|(99,[3,15,24,36,4...|\n",
      "|  0.0|(99,[3,15,24,36,4...|\n",
      "|  0.0|(99,[3,15,24,36,4...|\n",
      "|  0.0|(99,[3,15,24,36,4...|\n",
      "|  0.0|(99,[3,15,24,36,4...|\n",
      "|  0.0|(99,[3,15,24,36,4...|\n",
      "|  0.0|(99,[3,15,24,36,4...|\n",
      "|  0.0|(99,[3,15,24,36,4...|\n",
      "+-----+--------------------+\n",
      "only showing top 10 rows\n",
      "\n"
     ]
    }
   ],
   "source": [
    "df_train = df_train.select(\"label\", \"features\")\n",
    "df_eval = df_eval.select(\"label\", \"features\")\n",
    "\n",
    "df_train.show(10)  # można użyć 'truncate=False' żeby zobaczyć, że wynikowe 'features' są różne"
   ]
  },
  {
   "cell_type": "code",
   "execution_count": 165,
   "metadata": {
    "ExecuteTime": {
     "end_time": "2023-08-13T10:38:34.852539Z",
     "start_time": "2023-08-13T10:38:34.778998Z"
    },
    "id": "W3Scpdm6aMgj"
   },
   "outputs": [
    {
     "data": {
      "text/plain": [
       "DataFrame[label: double, features: vector]"
      ]
     },
     "execution_count": 165,
     "metadata": {},
     "output_type": "execute_result"
    }
   ],
   "source": [
    "# zachowanie przetransformowanych DataFrame w pamięci podręcznej (RAM)\n",
    "df_train.cache()\n",
    "df_eval.cache()"
   ]
  },
  {
   "cell_type": "code",
   "execution_count": 166,
   "metadata": {
    "ExecuteTime": {
     "end_time": "2023-08-13T10:38:38.823075Z",
     "start_time": "2023-08-13T10:38:37.398758Z"
    },
    "id": "Ek-HfwQeaMgl"
   },
   "outputs": [
    {
     "name": "stdout",
     "output_type": "stream",
     "text": [
      "Train:\n"
     ]
    },
    {
     "name": "stderr",
     "output_type": "stream",
     "text": [
      "\r",
      "[Stage 653:>                                                        (0 + 1) / 1]\r",
      "\r",
      "                                                                                \r"
     ]
    },
    {
     "name": "stdout",
     "output_type": "stream",
     "text": [
      "+-----+-----+\n",
      "|label|count|\n",
      "+-----+-----+\n",
      "|  0.0|17414|\n",
      "|  1.0| 5461|\n",
      "+-----+-----+\n",
      "\n",
      "Eval:\n",
      "+-----+-----+\n",
      "|label|count|\n",
      "+-----+-----+\n",
      "|  0.0| 7306|\n",
      "|  1.0| 2380|\n",
      "+-----+-----+\n",
      "\n"
     ]
    }
   ],
   "source": [
    "# sprawdzenie zbalansowania klas\n",
    "\n",
    "print(\"Train:\")\n",
    "df_train.groupBy(\"label\").count().show()\n",
    "\n",
    "print(\"Eval:\")\n",
    "df_eval.groupBy(\"label\").count().show()"
   ]
  },
  {
   "cell_type": "markdown",
   "metadata": {
    "id": "Q4WsqnOdaMgm"
   },
   "source": [
    " "
   ]
  },
  {
   "cell_type": "markdown",
   "metadata": {},
   "source": [
    "## Klasyfikacja - różne modele"
   ]
  },
  {
   "cell_type": "markdown",
   "metadata": {
    "id": "X5Sr-I5qaMgm"
   },
   "source": [
    "### Regresja logistyczna"
   ]
  },
  {
   "cell_type": "code",
   "execution_count": 169,
   "metadata": {
    "ExecuteTime": {
     "end_time": "2023-08-13T11:17:40.948654Z",
     "start_time": "2023-08-13T11:17:40.868056Z"
    },
    "id": "CVJjUZTgaMgn"
   },
   "outputs": [],
   "source": [
    "lr = classification.LogisticRegression(maxIter=100)"
   ]
  },
  {
   "cell_type": "code",
   "execution_count": 170,
   "metadata": {
    "ExecuteTime": {
     "end_time": "2023-08-13T11:17:53.898640Z",
     "start_time": "2023-08-13T11:17:44.048345Z"
    },
    "id": "IKzGHeMgaMgo"
   },
   "outputs": [],
   "source": [
    "lrModel = lr.fit(df_train)"
   ]
  },
  {
   "cell_type": "code",
   "execution_count": 171,
   "metadata": {
    "ExecuteTime": {
     "end_time": "2023-08-13T11:18:13.237017Z",
     "start_time": "2023-08-13T11:18:13.221965Z"
    },
    "id": "MBGcnNNhaMgo"
   },
   "outputs": [
    {
     "data": {
      "text/plain": [
       "DenseVector([0.1195, -0.0554, 0.0161, 0.3467, -0.0077, 0.0838, 0.1235, -0.2308, 1.2144, 0.7871, -0.2696, -0.3507, 0.1791, 0.7714, -0.0424, 0.8735, 0.9751, -0.287, 0.7776, 0.3989, -0.3501, 0.8862, 0.688, -0.2852, -1.5105, -0.9485, -0.5117, -0.483, -0.3337, 0.1965, 0.4094, 0.3198, 0.1618, 0.2199, -0.1254, 0.0667, -0.3217, 0.0584, -0.0726, -0.1017, 0.1704, 0.1236, -0.824, 0.2883, 0.5033, -0.0505, 0.3162, 0.394, 0.216, 0.1411, 0.1273, -0.004, 0.4099, 0.1362, -0.044, -0.0098, 0.0576, 0.0238, 0.0316, -0.0027, 0.0296, -0.011, 0.0187, -0.0069, -0.056, 0.0247, -0.0219, -0.0431, -0.0402, 0.0378, 0.0417, -0.0668, -0.0634, 0.0185, 0.0126, 0.0193, 0.0083, -0.0238, 0.0026, 0.0231, -0.0094, -0.3282, 0.0311, 0.0184, -0.0224, 0.0168, 0.0047, -0.0194, -0.0125, 0.006, 0.0096, -0.2245, 0.0003, -0.196, 0.3383, 2.8936, 2.3354, 0.2631, 0.3949])"
      ]
     },
     "execution_count": 171,
     "metadata": {},
     "output_type": "execute_result"
    }
   ],
   "source": [
    "lrModel.coefficients"
   ]
  },
  {
   "cell_type": "code",
   "execution_count": 172,
   "metadata": {
    "ExecuteTime": {
     "end_time": "2023-08-13T11:18:15.842981Z",
     "start_time": "2023-08-13T11:18:15.836143Z"
    },
    "id": "2hEDGOtbaMgp"
   },
   "outputs": [
    {
     "data": {
      "text/plain": [
       "-18.890890917184684"
      ]
     },
     "execution_count": 172,
     "metadata": {},
     "output_type": "execute_result"
    }
   ],
   "source": [
    "lrModel.intercept"
   ]
  },
  {
   "cell_type": "code",
   "execution_count": 173,
   "metadata": {
    "ExecuteTime": {
     "end_time": "2023-08-13T11:18:57.337475Z",
     "start_time": "2023-08-13T11:18:57.329285Z"
    },
    "id": "9GwgVXSyaMgp"
   },
   "outputs": [
    {
     "data": {
      "text/plain": [
       "pyspark.ml.classification.BinaryLogisticRegressionTrainingSummary"
      ]
     },
     "execution_count": 173,
     "metadata": {},
     "output_type": "execute_result"
    }
   ],
   "source": [
    "trainingSummary = lrModel.summary\n",
    "type(trainingSummary)"
   ]
  },
  {
   "cell_type": "code",
   "execution_count": 174,
   "metadata": {
    "ExecuteTime": {
     "end_time": "2023-08-13T11:19:02.857461Z",
     "start_time": "2023-08-13T11:19:00.996941Z"
    },
    "id": "2Wqb26nCaMgq"
   },
   "outputs": [
    {
     "name": "stdout",
     "output_type": "stream",
     "text": [
      "+--------------------+--------------------+\n",
      "|                 FPR|                 TPR|\n",
      "+--------------------+--------------------+\n",
      "|                 0.0|                 0.0|\n",
      "|                 0.0|0.005493499359091741|\n",
      "|                 0.0| 0.01025453213697125|\n",
      "|                 0.0|0.014466214978941586|\n",
      "|                 0.0|0.018311664530305805|\n",
      "|5.742506029631331E-5|0.021790880791063907|\n",
      "|1.148501205926266...| 0.02527009705182201|\n",
      "|1.148501205926266...| 0.02893242995788317|\n",
      "|1.148501205926266...| 0.03259476286394433|\n",
      "|1.148501205926266...| 0.03625709577000549|\n",
      "|1.148501205926266...| 0.04010254532136971|\n",
      "|1.148501205926266...| 0.04376487822743087|\n",
      "|1.148501205926266...| 0.04761032777879509|\n",
      "|1.148501205926266...| 0.05127266068485625|\n",
      "|1.148501205926266...| 0.05511811023622047|\n",
      "|1.148501205926266...| 0.05878044314228163|\n",
      "|1.148501205926266...|0.062442776048342793|\n",
      "|2.297002411852532...| 0.06573887566379784|\n",
      "|2.871253014815665...| 0.06921809192455594|\n",
      "|3.445503617778798...| 0.07269730818531404|\n",
      "|4.019754220741932E-4| 0.07617652444607215|\n",
      "|4.019754220741932E-4| 0.07983885735213331|\n",
      "|4.019754220741932E-4| 0.08350119025819447|\n",
      "|4.594004823705065E-4| 0.08698040651895257|\n",
      "|4.594004823705065E-4| 0.09064273942501373|\n",
      "|4.594004823705065E-4|  0.0943050723310749|\n",
      "|5.742506029631331E-4| 0.09760117194652994|\n",
      "|6.316756632594464E-4| 0.10108038820728804|\n",
      "|6.891007235557597E-4| 0.10455960446804614|\n",
      "|8.039508441483864E-4| 0.10803882072880425|\n",
      "| 9.18800964741013E-4| 0.11133492034425929|\n",
      "|9.762260250373263E-4|  0.1148141366050174|\n",
      "|9.762260250373263E-4| 0.11847646951107856|\n",
      "|0.001148501205926...| 0.12158945248123054|\n",
      "|0.001205926266222...| 0.12506866874198866|\n",
      "|0.001205926266222...| 0.12873100164804982|\n",
      "|0.001263351326518...|  0.1322102179088079|\n",
      "|0.001320776386815...| 0.13568943416956603|\n",
      "|0.001493051567704146|   0.138802417139718|\n",
      "|0.001493051567704146| 0.14246475004577916|\n",
      "|0.001607901688296...|  0.1457608496612342|\n",
      "|0.001665326748593086| 0.14924006592199232|\n",
      "|0.001722751808889...| 0.15290239882805348|\n",
      "|0.001895026989778...| 0.15601538179820545|\n",
      "|0.002124727230963...| 0.15894524812305438|\n",
      "|0.002182152291259...|  0.1624244643838125|\n",
      "|0.002354427472148...| 0.16572056399926754|\n",
      "|0.002526702653037...| 0.16883354696941952|\n",
      "|0.002871253014815...| 0.17139718000366233|\n",
      "|0.003043528195704...| 0.17469327961911738|\n",
      "|0.003158378316297232| 0.17798937923457242|\n",
      "|0.003445503617778...| 0.18110236220472442|\n",
      "|0.003502928678075112|  0.1845815784654825|\n",
      "|0.003675203858964052|  0.1876945614356345|\n",
      "|0.003904904100149...| 0.19062442776048344|\n",
      "|0.004019754220741932| 0.19392052737593848|\n",
      "|0.004134604341334559| 0.19721662699139353|\n",
      "|0.004249454461927185| 0.20051272660684857|\n",
      "|0.004479154703112438| 0.20362570957700055|\n",
      "|0.004594004823705065|  0.2069218091924556|\n",
      "|0.004766280004594005|  0.2100347921626076|\n",
      "|0.004938555185482945| 0.21333089177806264|\n",
      "|0.005110830366371...|  0.2164438747482146|\n",
      "|0.005283105547260825|  0.2195568577183666|\n",
      "|0.005570230848742391| 0.22230360739791247|\n",
      "|0.005627655909038704| 0.22596594030397363|\n",
      "|0.005857356150223958| 0.22889580662882256|\n",
      "|0.006087056391409211| 0.23200878959897456|\n",
      "|0.006259331572298151| 0.23548800585973265|\n",
      "|0.006374181692890777|  0.2387841054751877|\n",
      "|0.006718732054668...|  0.2413477385094305|\n",
      "|0.006833582175261284| 0.24482695477018862|\n",
      "|0.007005857356150224|  0.2479399377403406|\n",
      "| 0.00729298265763179|  0.2506866874198865|\n",
      "|0.007465257838520731|  0.2545321369712507|\n",
      "|0.007809808200298611| 0.25727888665079657|\n",
      "| 0.00815435856207649| 0.25984251968503935|\n",
      "|0.008556333984150684|  0.2624061527192822|\n",
      "| 0.00884345928563225|  0.2658853689800403|\n",
      "| 0.00918800964741013|  0.2684490020142831|\n",
      "|0.009417709888595383| 0.27174510162973814|\n",
      "| 0.00953256000918801|  0.2750412012451932|\n",
      "| 0.00970483519007695|  0.2785204175059513|\n",
      "|0.009934535431262203|  0.2816334004761033|\n",
      "|0.010279085793040082| 0.28438015015564916|\n",
      "|0.010508786034225335|  0.2876762497711042|\n",
      "|0.010681061215114276| 0.29133858267716534|\n",
      "|0.010853336396003216| 0.29445156564731734|\n",
      "|0.011197886757781095|  0.2971983153268632|\n",
      "|0.011427586998966349|  0.3001281816517121|\n",
      "|0.011772137360744228| 0.30305804797656105|\n",
      "|0.012116687722522109|  0.3056216810108039|\n",
      "|0.012403813024003675|  0.3085515473356528|\n",
      "|0.012576088204892616|  0.3120307635964109|\n",
      "|0.012863213506374182| 0.31496062992125984|\n",
      "|0.013035488687263121|   0.318622962827321|\n",
      "|0.013380039049041002| 0.32155282915216993|\n",
      "|0.013609739290226255|   0.325032045412928|\n",
      "|0.013954289652004135| 0.32777879509247393|\n",
      "|0.014241414953485701| 0.33107489470792895|\n",
      "| 0.01475824049615252|  0.3336385277421718|\n",
      "|0.014930515677041461|  0.3371177440029299|\n",
      "|0.015332491099115653|  0.3402307269730819|\n",
      "|0.015906741702078786|  0.3424281267167186|\n",
      "|0.016193867003560354| 0.34517487639626443|\n",
      "|0.016366142184449293| 0.34847097601171945|\n",
      "|0.016710692546227174| 0.35121772569126536|\n",
      "|0.017227518088893994|   0.353232008789599|\n",
      "|0.017801768691857126|  0.3561618751144479|\n",
      "| 0.01803146893304238|  0.3607397912470244|\n",
      "|  0.0185482944757092|  0.3631203076359641|\n",
      "| 0.01872056965659814| 0.36659952389672223|\n",
      "| 0.01906512001837602|   0.369163156930965|\n",
      "|0.019524520500746524|  0.3724592565464201|\n",
      "|0.020213621224302286|  0.3741073063541476|\n",
      "|0.020558171586080164|  0.3768540560336935|\n",
      "| 0.02084529688756173|  0.3801501556491485|\n",
      "|  0.0211324221890433| 0.38399560520051274|\n",
      "| 0.02136212243022855| 0.38692547152536166|\n",
      "| 0.02187894797289537|  0.3902215711408167|\n",
      "+--------------------+--------------------+\n",
      "only showing top 120 rows\n",
      "\n"
     ]
    }
   ],
   "source": [
    "trainingSummary.roc.show(120)"
   ]
  },
  {
   "cell_type": "code",
   "execution_count": 182,
   "metadata": {
    "ExecuteTime": {
     "end_time": "2023-08-13T11:24:34.827008Z",
     "start_time": "2023-08-13T11:24:34.729452Z"
    },
    "id": "OvUFEhldaMgq",
    "scrolled": true
   },
   "outputs": [
    {
     "data": {
      "text/html": [
       "<div>\n",
       "<style scoped>\n",
       "    .dataframe tbody tr th:only-of-type {\n",
       "        vertical-align: middle;\n",
       "    }\n",
       "\n",
       "    .dataframe tbody tr th {\n",
       "        vertical-align: top;\n",
       "    }\n",
       "\n",
       "    .dataframe thead th {\n",
       "        text-align: right;\n",
       "    }\n",
       "</style>\n",
       "<table border=\"1\" class=\"dataframe\">\n",
       "  <thead>\n",
       "    <tr style=\"text-align: right;\">\n",
       "      <th></th>\n",
       "      <th>FPR</th>\n",
       "      <th>TPR</th>\n",
       "    </tr>\n",
       "  </thead>\n",
       "  <tbody>\n",
       "    <tr>\n",
       "      <th>0</th>\n",
       "      <td>0.000000</td>\n",
       "      <td>0.000000</td>\n",
       "    </tr>\n",
       "    <tr>\n",
       "      <th>1</th>\n",
       "      <td>0.000000</td>\n",
       "      <td>0.005493</td>\n",
       "    </tr>\n",
       "    <tr>\n",
       "      <th>2</th>\n",
       "      <td>0.000000</td>\n",
       "      <td>0.010255</td>\n",
       "    </tr>\n",
       "    <tr>\n",
       "      <th>3</th>\n",
       "      <td>0.000000</td>\n",
       "      <td>0.014466</td>\n",
       "    </tr>\n",
       "    <tr>\n",
       "      <th>4</th>\n",
       "      <td>0.000000</td>\n",
       "      <td>0.018312</td>\n",
       "    </tr>\n",
       "    <tr>\n",
       "      <th>...</th>\n",
       "      <td>...</td>\n",
       "      <td>...</td>\n",
       "    </tr>\n",
       "    <tr>\n",
       "      <th>1024</th>\n",
       "      <td>0.997014</td>\n",
       "      <td>1.000000</td>\n",
       "    </tr>\n",
       "    <tr>\n",
       "      <th>1025</th>\n",
       "      <td>0.998162</td>\n",
       "      <td>1.000000</td>\n",
       "    </tr>\n",
       "    <tr>\n",
       "      <th>1026</th>\n",
       "      <td>0.999311</td>\n",
       "      <td>1.000000</td>\n",
       "    </tr>\n",
       "    <tr>\n",
       "      <th>1027</th>\n",
       "      <td>1.000000</td>\n",
       "      <td>1.000000</td>\n",
       "    </tr>\n",
       "    <tr>\n",
       "      <th>1028</th>\n",
       "      <td>1.000000</td>\n",
       "      <td>1.000000</td>\n",
       "    </tr>\n",
       "  </tbody>\n",
       "</table>\n",
       "<p>1029 rows × 2 columns</p>\n",
       "</div>"
      ],
      "text/plain": [
       "           FPR       TPR\n",
       "0     0.000000  0.000000\n",
       "1     0.000000  0.005493\n",
       "2     0.000000  0.010255\n",
       "3     0.000000  0.014466\n",
       "4     0.000000  0.018312\n",
       "...        ...       ...\n",
       "1024  0.997014  1.000000\n",
       "1025  0.998162  1.000000\n",
       "1026  0.999311  1.000000\n",
       "1027  1.000000  1.000000\n",
       "1028  1.000000  1.000000\n",
       "\n",
       "[1029 rows x 2 columns]"
      ]
     },
     "execution_count": 182,
     "metadata": {},
     "output_type": "execute_result"
    }
   ],
   "source": [
    "trainingSummary.roc.toPandas()"
   ]
  },
  {
   "cell_type": "code",
   "execution_count": 176,
   "metadata": {
    "ExecuteTime": {
     "end_time": "2023-08-13T11:20:33.894641Z",
     "start_time": "2023-08-13T11:20:33.812429Z"
    },
    "id": "vKt6HjaYaMgr"
   },
   "outputs": [
    {
     "name": "stdout",
     "output_type": "stream",
     "text": [
      "+--------------------+------------------+\n",
      "|              recall|         precision|\n",
      "+--------------------+------------------+\n",
      "|                 0.0|               1.0|\n",
      "|0.005493499359091741|               1.0|\n",
      "| 0.01025453213697125|               1.0|\n",
      "|0.014466214978941586|               1.0|\n",
      "|0.018311664530305805|               1.0|\n",
      "|0.021790880791063907|0.9916666666666667|\n",
      "| 0.02527009705182201|0.9857142857142858|\n",
      "| 0.02893242995788317|            0.9875|\n",
      "| 0.03259476286394433|0.9888888888888889|\n",
      "| 0.03625709577000549|              0.99|\n",
      "| 0.04010254532136971|0.9909502262443439|\n",
      "| 0.04376487822743087| 0.991701244813278|\n",
      "| 0.04761032777879509|0.9923664122137404|\n",
      "| 0.05127266068485625|0.9929078014184397|\n",
      "| 0.05511811023622047|0.9933993399339934|\n",
      "| 0.05878044314228163|0.9938080495356038|\n",
      "|0.062442776048342793|0.9941690962099126|\n",
      "| 0.06573887566379784|0.9889807162534435|\n",
      "| 0.06921809192455594|0.9869451697127938|\n",
      "| 0.07269730818531404|0.9851116625310173|\n",
      "| 0.07617652444607215| 0.983451536643026|\n",
      "| 0.07983885735213331|0.9841986455981941|\n",
      "| 0.08350119025819447|0.9848812095032398|\n",
      "| 0.08698040651895257|0.9834368530020704|\n",
      "| 0.09064273942501373|0.9840954274353877|\n",
      "|  0.0943050723310749|0.9847036328871893|\n",
      "| 0.09760117194652994|0.9815837937384899|\n",
      "| 0.10108038820728804|0.9804618117229129|\n",
      "| 0.10455960446804614|0.9794168096054888|\n",
      "| 0.10803882072880425|0.9768211920529801|\n",
      "| 0.11133492034425929|0.9743589743589743|\n",
      "|  0.1148141366050174|0.9736024844720497|\n",
      "| 0.11847646951107856|0.9743975903614458|\n",
      "| 0.12158945248123054|0.9707602339181286|\n",
      "| 0.12506866874198866|0.9701704545454546|\n",
      "| 0.12873100164804982|0.9709944751381215|\n",
      "|  0.1322102179088079|0.9704301075268817|\n",
      "| 0.13568943416956603|0.9698952879581152|\n",
      "|   0.138802417139718|0.9668367346938775|\n",
      "| 0.14246475004577916|0.9676616915422885|\n",
      "|  0.1457608496612342|0.9660194174757282|\n",
      "| 0.14924006592199232|0.9656398104265402|\n",
      "| 0.15290239882805348|0.9653179190751445|\n",
      "| 0.15601538179820545|0.9627118644067797|\n",
      "| 0.15894524812305438|0.9591160220994475|\n",
      "|  0.1624244643838125|0.9589189189189189|\n",
      "| 0.16572056399926754|0.9566596194503171|\n",
      "| 0.16883354696941952|0.9544513457556936|\n",
      "| 0.17139718000366233| 0.949290060851927|\n",
      "| 0.17469327961911738|0.9473684210526315|\n",
      "| 0.17798937923457242|0.9464459591041869|\n",
      "| 0.18110236220472442|0.9428026692087702|\n",
      "|  0.1845815784654825|0.9429373246024322|\n",
      "|  0.1876945614356345|0.9412304866850322|\n",
      "| 0.19062442776048344|0.9386834986474302|\n",
      "| 0.19392052737593848|0.9379982285208148|\n",
      "| 0.19721662699139353|0.9373368146214099|\n",
      "| 0.20051272660684857|0.9366980325064157|\n",
      "| 0.20362570957700055| 0.934453781512605|\n",
      "|  0.2069218091924556|0.9338842975206612|\n",
      "|  0.2100347921626076| 0.932520325203252|\n",
      "| 0.21333089177806264|0.9312549960031974|\n",
      "|  0.2164438747482146|0.9299763965381589|\n",
      "|  0.2195568577183666|0.9287374128582494|\n",
      "| 0.22230360739791247|0.9260106788710908|\n",
      "| 0.22596594030397363|0.9264264264264265|\n",
      "| 0.22889580662882256|0.9245562130177515|\n",
      "| 0.23200878959897456|0.9227967953386744|\n",
      "| 0.23548800585973265|0.9218637992831541|\n",
      "|  0.2387841054751877|0.9215547703180212|\n",
      "|  0.2413477385094305|0.9184668989547038|\n",
      "| 0.24482695477018862|0.9182692307692307|\n",
      "|  0.2479399377403406|0.9173441734417345|\n",
      "|  0.2506866874198865|0.9151069518716578|\n",
      "|  0.2545321369712507|0.9144736842105263|\n",
      "| 0.25727888665079657|0.9117456197274497|\n",
      "| 0.25984251968503935|0.9090326713645099|\n",
      "|  0.2624061527192822|0.9058154235145386|\n",
      "|  0.2658853689800403|0.9041095890410958|\n",
      "|  0.2684490020142831|0.9015990159901599|\n",
      "| 0.27174510162973814|0.9004854368932039|\n",
      "|  0.2750412012451932|0.9004796163069544|\n",
      "|  0.2785204175059513|               0.9|\n",
      "|  0.2816334004761033|0.8988895382817066|\n",
      "| 0.28438015015564916|0.8966512702078522|\n",
      "|  0.2876762497711042|0.8956670467502851|\n",
      "| 0.29133858267716534| 0.895329206527856|\n",
      "| 0.29445156564731734|0.8948247078464107|\n",
      "|  0.2971983153268632|0.8927392739273927|\n",
      "|  0.3001281816517121|0.8917301414581066|\n",
      "| 0.30305804797656105|0.8897849462365591|\n",
      "|  0.3056216810108039|0.8877659574468085|\n",
      "|  0.3085515473356528|0.8863755917937928|\n",
      "|  0.3120307635964109|0.8861154446177847|\n",
      "| 0.31496062992125984|0.8847736625514403|\n",
      "|   0.318622962827321|0.8845958312150483|\n",
      "| 0.32155282915216993|0.8828557063851181|\n",
      "|   0.325032045412928|0.8822067594433399|\n",
      "| 0.32777879509247393|0.8804722085587802|\n",
      "| 0.33107489470792895|0.8793774319066148|\n",
      "|  0.3336385277421718|0.8763828763828764|\n",
      "|  0.3371177440029299|0.8762494050452165|\n",
      "|  0.3402307269730819|0.8743529411764706|\n",
      "|  0.3424281267167186|0.8709827666511412|\n",
      "| 0.34517487639626443|0.8698661744347024|\n",
      "| 0.34847097601171945|0.8697440585009141|\n",
      "| 0.35121772569126536|0.8682661837935718|\n",
      "|   0.353232008789599|0.8654104979811574|\n",
      "|  0.3561618751144479|0.8625277161862528|\n",
      "|  0.3607397912470244| 0.862521891418564|\n",
      "|  0.3631203076359641|0.8599306157849089|\n",
      "| 0.36659952389672223|0.8599656357388317|\n",
      "|   0.369163156930965| 0.858603066439523|\n",
      "|  0.3724592565464201|0.8567818028643639|\n",
      "|  0.3741073063541476| 0.853027139874739|\n",
      "|  0.3768540560336935|0.8518211920529801|\n",
      "|  0.3801501556491485|0.8511685116851169|\n",
      "| 0.38399560520051274| 0.850709939148073|\n",
      "| 0.38692547152536166|0.8503018108651912|\n",
      "|  0.3902215711408167| 0.848328025477707|\n",
      "+--------------------+------------------+\n",
      "only showing top 120 rows\n",
      "\n"
     ]
    }
   ],
   "source": [
    "trainingSummary.pr.show(120)"
   ]
  },
  {
   "cell_type": "code",
   "execution_count": 177,
   "metadata": {
    "ExecuteTime": {
     "end_time": "2023-08-13T11:20:43.017706Z",
     "start_time": "2023-08-13T11:20:42.993056Z"
    },
    "id": "zVlg9WbUaMgs"
   },
   "outputs": [
    {
     "data": {
      "text/plain": [
       "0.9084036480991468"
      ]
     },
     "execution_count": 177,
     "metadata": {},
     "output_type": "execute_result"
    }
   ],
   "source": [
    "trainingSummary.areaUnderROC"
   ]
  },
  {
   "cell_type": "code",
   "execution_count": 178,
   "metadata": {
    "ExecuteTime": {
     "end_time": "2023-08-13T11:20:45.918988Z",
     "start_time": "2023-08-13T11:20:45.686487Z"
    },
    "id": "aoeTX1wBaMgs"
   },
   "outputs": [
    {
     "data": {
      "text/plain": [
       "0.8521092896174863"
      ]
     },
     "execution_count": 178,
     "metadata": {},
     "output_type": "execute_result"
    }
   ],
   "source": [
    "trainingSummary.accuracy"
   ]
  },
  {
   "cell_type": "code",
   "execution_count": 179,
   "metadata": {
    "ExecuteTime": {
     "end_time": "2023-08-13T11:20:52.135022Z",
     "start_time": "2023-08-13T11:20:51.966282Z"
    },
    "id": "Isht5uB7aMgu"
   },
   "outputs": [
    {
     "name": "stdout",
     "output_type": "stream",
     "text": [
      "+-----+--------------------+--------------------+--------------------+----------+\n",
      "|label|            features|       rawPrediction|         probability|prediction|\n",
      "+-----+--------------------+--------------------+--------------------+----------+\n",
      "|  0.0|(99,[3,15,24,36,4...|[7.46914970741281...|[0.99942991207685...|       0.0|\n",
      "|  0.0|(99,[3,15,24,36,4...|[7.27705351689928...|[0.99930925822207...|       0.0|\n",
      "|  0.0|(99,[3,15,24,36,4...|[7.29325073524101...|[0.99932034865393...|       0.0|\n",
      "|  0.0|(99,[3,15,24,36,4...|[8.64035056744107...|[0.99982320635919...|       0.0|\n",
      "|  0.0|(99,[3,15,24,36,4...|[8.54061890992579...|[0.99980466885499...|       0.0|\n",
      "|  0.0|(99,[3,15,24,36,4...|[8.18844256065098...|[0.99972223090094...|       0.0|\n",
      "|  0.0|(99,[3,15,24,36,4...|[8.02836240188971...|[0.99967402453184...|       0.0|\n",
      "|  0.0|(99,[3,15,24,36,4...|[8.02836240188971...|[0.99967402453184...|       0.0|\n",
      "|  0.0|(99,[3,15,24,36,4...|[7.38804176684461...|[0.99938177629371...|       0.0|\n",
      "|  0.0|(99,[3,15,24,36,4...|[7.15922357462141...|[0.99922294616984...|       0.0|\n",
      "|  0.0|(99,[3,15,24,36,4...|[7.15922357462141...|[0.99922294616984...|       0.0|\n",
      "|  0.0|(99,[3,15,24,36,4...|[6.99914341586013...|[0.99908816879115...|       0.0|\n",
      "|  0.0|(99,[3,15,24,36,4...|[6.83906325709886...|[0.99893003976008...|       0.0|\n",
      "|  0.0|(99,[3,15,24,36,4...|[6.51890293957631...|[0.99852688657110...|       0.0|\n",
      "|  0.0|(99,[3,15,24,36,4...|[6.51890293957631...|[0.99852688657110...|       0.0|\n",
      "|  0.0|(99,[3,15,24,36,4...|[6.51890293957631...|[0.99852688657110...|       0.0|\n",
      "|  0.0|(99,[3,15,24,36,4...|[6.51890293957631...|[0.99852688657110...|       0.0|\n",
      "|  0.0|(99,[3,13,24,36,4...|[7.31813148300090...|[0.99933703917942...|       0.0|\n",
      "|  0.0|(99,[3,13,24,36,4...|[8.13531066823162...|[0.99970707783517...|       0.0|\n",
      "|  0.0|(99,[3,13,24,36,4...|[7.65036422199038...|[0.99952435557042...|       0.0|\n",
      "+-----+--------------------+--------------------+--------------------+----------+\n",
      "only showing top 20 rows\n",
      "\n"
     ]
    }
   ],
   "source": [
    "trainingSummary.predictions.show()"
   ]
  },
  {
   "cell_type": "code",
   "execution_count": 180,
   "metadata": {
    "ExecuteTime": {
     "end_time": "2023-08-13T11:22:15.264611Z",
     "start_time": "2023-08-13T11:22:15.119974Z"
    },
    "id": "tl9jBwKsaMgw"
   },
   "outputs": [
    {
     "name": "stdout",
     "output_type": "stream",
     "text": [
      "+-----+--------------------+--------------------+--------------------+----------+\n",
      "|label|            features|       rawPrediction|         probability|prediction|\n",
      "+-----+--------------------+--------------------+--------------------+----------+\n",
      "|  0.0|(99,[3,15,24,36,4...|[7.52206892746420...|[0.99945928044343...|       0.0|\n",
      "|  0.0|(99,[3,15,24,36,4...|[8.18844256065098...|[0.99972223090094...|       0.0|\n",
      "|  0.0|(99,[3,15,24,36,4...|[8.12441049714647...|[0.99970386841916...|       0.0|\n",
      "|  0.0|(99,[3,15,24,36,4...|[8.02836240188971...|[0.99967402453184...|       0.0|\n",
      "|  0.0|(99,[3,15,24,36,4...|[7.38804176684461...|[0.99938177629371...|       0.0|\n",
      "|  0.0|(99,[3,15,24,36,4...|[-2.8936533533836...|[0.05246819369720...|       1.0|\n",
      "|  0.0|(99,[3,15,24,36,4...|[7.54341595564847...|[0.99947069482440...|       0.0|\n",
      "|  0.0|(99,[3,15,24,36,4...|[6.83906325709886...|[0.99893003976008...|       0.0|\n",
      "|  0.0|(99,[3,15,24,36,4...|[6.83906325709886...|[0.99893003976008...|       0.0|\n",
      "|  0.0|(99,[3,15,24,36,4...|[6.51890293957631...|[0.99852688657110...|       0.0|\n",
      "|  0.0|(99,[3,15,24,36,4...|[6.51890293957631...|[0.99852688657110...|       0.0|\n",
      "|  0.0|(99,[3,15,24,36,4...|[6.51890293957631...|[0.99852688657110...|       0.0|\n",
      "|  0.0|(99,[3,15,24,36,4...|[6.51890293957631...|[0.99852688657110...|       0.0|\n",
      "|  0.0|(99,[3,15,24,36,4...|[6.51299187830930...|[0.99851816606234...|       0.0|\n",
      "|  0.0|(99,[3,13,24,36,4...|[7.70290503711058...|[0.99954869016051...|       0.0|\n",
      "|  0.0|(99,[3,13,24,36,4...|[8.46130303697129...|[0.99978854841768...|       0.0|\n",
      "|  0.0|(99,[3,13,24,36,4...|[7.49499003318652...|[0.99944444655395...|       0.0|\n",
      "|  0.0|(99,[3,13,24,36,4...|[8.38547588863908...|[0.99977189488847...|       0.0|\n",
      "|  0.0|(99,[3,13,24,36,4...|[8.06531557111653...|[0.99968584679394...|       0.0|\n",
      "|  0.0|(99,[3,13,24,36,4...|[8.00128350761203...|[0.99966507987380...|       0.0|\n",
      "+-----+--------------------+--------------------+--------------------+----------+\n",
      "only showing top 20 rows\n",
      "\n"
     ]
    }
   ],
   "source": [
    "# predykcje\n",
    "lrModel.transform(df_eval).show()"
   ]
  },
  {
   "cell_type": "markdown",
   "metadata": {
    "collapsed": true,
    "id": "u-pqX8pxaMgy"
   },
   "source": [
    "### SVM"
   ]
  },
  {
   "cell_type": "code",
   "execution_count": 183,
   "metadata": {
    "ExecuteTime": {
     "end_time": "2023-08-13T11:25:03.339500Z",
     "start_time": "2023-08-13T11:25:03.324958Z"
    },
    "id": "n2KTzRQDaMg0"
   },
   "outputs": [],
   "source": [
    "svm = classification.LinearSVC(maxIter=100)"
   ]
  },
  {
   "cell_type": "code",
   "execution_count": 184,
   "metadata": {
    "ExecuteTime": {
     "end_time": "2023-08-13T11:25:22.090815Z",
     "start_time": "2023-08-13T11:25:06.248717Z"
    },
    "id": "KePuGNBBaMg0"
   },
   "outputs": [],
   "source": [
    "svmModel = svm.fit(df_train)"
   ]
  },
  {
   "cell_type": "code",
   "execution_count": 185,
   "metadata": {
    "ExecuteTime": {
     "end_time": "2023-08-13T11:25:24.631056Z",
     "start_time": "2023-08-13T11:25:24.617015Z"
    },
    "id": "LQLqz-1waMg1"
   },
   "outputs": [
    {
     "data": {
      "text/plain": [
       "DenseVector([0.0334, -0.0591, -0.0041, -0.0333, -0.0179, 0.049, 0.0604, -0.0223, -0.1256, -0.0539, 0.1835, 0.1166, -0.0387, -0.0466, -0.0163, -0.0504, -0.042, 0.0774, -0.0102, -0.0225, 0.0664, 0.0133, 0.0104, 0.2382, -0.2641, -0.1016, -0.0563, -0.0451, -0.049, -0.0458, 0.1824, 0.1211, -0.0339, 0.0102, -0.1452, -0.0516, -0.0339, -0.0571, -0.0785, -0.1114, 0.0707, 0.0064, -0.1552, 0.3136, 0.0394, -0.0377, 0.0186, 0.2608, 0.0888, 0.0735, 0.0611, -0.0094, 0.1975, 0.0401, -0.0298, -0.0362, 0.0221, 0.0074, 0.0148, -0.0006, 0.0022, -0.0199, 0.0064, -0.013, -0.0681, 0.0059, -0.0126, -0.0226, -0.0507, 0.0091, 0.0128, -0.0644, -0.0068, 0.0044, 0.0026, 0.0041, 0.0058, -0.0221, -0.0004, 0.0095, -0.0198, -0.034, 0.0268, 0.0032, -0.0133, -0.0099, -0.0021, -0.009, -0.0169, 0.0024, -0.0021, -0.0174, -0.0011, 0.0046, 0.1437, 0.2451, 1.7857, 0.1961, 0.2022])"
      ]
     },
     "execution_count": 185,
     "metadata": {},
     "output_type": "execute_result"
    }
   ],
   "source": [
    "svmModel.coefficients"
   ]
  },
  {
   "cell_type": "code",
   "execution_count": 186,
   "metadata": {
    "ExecuteTime": {
     "end_time": "2023-08-13T11:25:26.887502Z",
     "start_time": "2023-08-13T11:25:26.880491Z"
    },
    "id": "lwrUvP5SaMg1"
   },
   "outputs": [
    {
     "data": {
      "text/plain": [
       "-4.556880210922177"
      ]
     },
     "execution_count": 186,
     "metadata": {},
     "output_type": "execute_result"
    }
   ],
   "source": [
    "svmModel.intercept"
   ]
  },
  {
   "cell_type": "code",
   "execution_count": 187,
   "metadata": {
    "ExecuteTime": {
     "end_time": "2023-08-13T11:25:29.189383Z",
     "start_time": "2023-08-13T11:25:29.021548Z"
    },
    "id": "2p9pu1IWaMg2"
   },
   "outputs": [
    {
     "name": "stdout",
     "output_type": "stream",
     "text": [
      "+-----+--------------------+--------------------+----------+\n",
      "|label|            features|       rawPrediction|prediction|\n",
      "+-----+--------------------+--------------------+----------+\n",
      "|  0.0|(99,[3,15,24,36,4...|[4.02634101387953...|       0.0|\n",
      "|  0.0|(99,[3,15,24,36,4...|[4.43370424351513...|       0.0|\n",
      "|  0.0|(99,[3,15,24,36,4...|[4.40091618696056...|       0.0|\n",
      "|  0.0|(99,[3,15,24,36,4...|[4.35173410212869...|       0.0|\n",
      "|  0.0|(99,[3,15,24,36,4...|[4.02385353658290...|       0.0|\n",
      "|  0.0|(99,[3,15,24,36,4...|[-3.9023068350281...|       1.0|\n",
      "|  0.0|(99,[3,15,24,36,4...|[4.12965682107067...|       0.0|\n",
      "|  0.0|(99,[3,15,24,36,4...|[3.76898819897030...|       0.0|\n",
      "|  0.0|(99,[3,15,24,36,4...|[3.76898819897030...|       0.0|\n",
      "|  0.0|(99,[3,15,24,36,4...|[3.60504791619741...|       0.0|\n",
      "|  0.0|(99,[3,15,24,36,4...|[3.60504791619741...|       0.0|\n",
      "|  0.0|(99,[3,15,24,36,4...|[3.60504791619741...|       0.0|\n",
      "|  0.0|(99,[3,15,24,36,4...|[3.60504791619741...|       0.0|\n",
      "|  0.0|(99,[3,15,24,36,4...|[3.51967114982204...|       0.0|\n",
      "|  0.0|(99,[3,13,24,36,4...|[4.01874053809877...|       0.0|\n",
      "|  0.0|(99,[3,13,24,36,4...|[4.71839570678859...|       0.0|\n",
      "|  0.0|(99,[3,13,24,36,4...|[3.87849407943927...|       0.0|\n",
      "|  0.0|(99,[3,13,24,36,4...|[4.40061550701590...|       0.0|\n",
      "|  0.0|(99,[3,13,24,36,4...|[4.23667522424301...|       0.0|\n",
      "|  0.0|(99,[3,13,24,36,4...|[4.20388716768843...|       0.0|\n",
      "+-----+--------------------+--------------------+----------+\n",
      "only showing top 20 rows\n",
      "\n"
     ]
    }
   ],
   "source": [
    "# predykcje\n",
    "svmModel.transform(df_eval).show()"
   ]
  },
  {
   "cell_type": "markdown",
   "metadata": {
    "id": "i1sfrFqqaMg3"
   },
   "source": [
    "### Drzewo decyzyjne"
   ]
  },
  {
   "cell_type": "code",
   "execution_count": 188,
   "metadata": {
    "ExecuteTime": {
     "end_time": "2023-08-13T11:25:39.424550Z",
     "start_time": "2023-08-13T11:25:39.397903Z"
    },
    "id": "HnfR7TkUaMg3"
   },
   "outputs": [],
   "source": [
    "tree = classification.DecisionTreeClassifier()"
   ]
  },
  {
   "cell_type": "code",
   "execution_count": 189,
   "metadata": {
    "ExecuteTime": {
     "end_time": "2023-08-13T11:25:43.907328Z",
     "start_time": "2023-08-13T11:25:41.945119Z"
    },
    "id": "TfcLbjPdaMg4"
   },
   "outputs": [],
   "source": [
    "treeModel = tree.fit(df_train)"
   ]
  },
  {
   "cell_type": "code",
   "execution_count": 190,
   "metadata": {
    "ExecuteTime": {
     "end_time": "2023-08-13T11:25:45.857866Z",
     "start_time": "2023-08-13T11:25:45.852238Z"
    },
    "id": "t7-SEiNYaMg9"
   },
   "outputs": [
    {
     "data": {
      "text/plain": [
       "5"
      ]
     },
     "execution_count": 190,
     "metadata": {},
     "output_type": "execute_result"
    }
   ],
   "source": [
    "treeModel.depth"
   ]
  },
  {
   "cell_type": "code",
   "execution_count": 191,
   "metadata": {
    "ExecuteTime": {
     "end_time": "2023-08-13T11:25:48.391395Z",
     "start_time": "2023-08-13T11:25:48.384934Z"
    },
    "id": "uwC5EHc1aMg9"
   },
   "outputs": [
    {
     "data": {
      "text/plain": [
       "35"
      ]
     },
     "execution_count": 191,
     "metadata": {},
     "output_type": "execute_result"
    }
   ],
   "source": [
    "treeModel.numNodes"
   ]
  },
  {
   "cell_type": "code",
   "execution_count": 192,
   "metadata": {
    "ExecuteTime": {
     "end_time": "2023-08-13T11:25:51.326295Z",
     "start_time": "2023-08-13T11:25:51.318636Z"
    },
    "id": "utndVG3EaMg-",
    "scrolled": true
   },
   "outputs": [
    {
     "name": "stdout",
     "output_type": "stream",
     "text": [
      "DecisionTreeClassificationModel: uid=DecisionTreeClassifier_886399278c18, depth=5, numNodes=35, numClasses=2, numFeatures=99\n",
      "  If (feature 23 <= 1.0035900941414533)\n",
      "   If (feature 96 <= 1.0012372970722383)\n",
      "    If (feature 95 <= 4.873830618810881)\n",
      "     If (feature 98 <= 3.6074818888073166)\n",
      "      If (feature 43 <= 1.0192656067064028)\n",
      "       Predict: 0.0\n",
      "      Else (feature 43 > 1.0192656067064028)\n",
      "       Predict: 1.0\n",
      "     Else (feature 98 > 3.6074818888073166)\n",
      "      Predict: 0.0\n",
      "    Else (feature 95 > 4.873830618810881)\n",
      "     Predict: 0.0\n",
      "   Else (feature 96 > 1.0012372970722383)\n",
      "    If (feature 94 <= 1.5689317394691287)\n",
      "     Predict: 0.0\n",
      "    Else (feature 94 > 1.5689317394691287)\n",
      "     Predict: 1.0\n",
      "  Else (feature 23 > 1.0035900941414533)\n",
      "   If (feature 95 <= 4.873830618810881)\n",
      "    If (feature 96 <= 1.0012372970722383)\n",
      "     If (feature 95 <= 3.7041112702962695)\n",
      "      If (feature 97 <= 4.405840064461252)\n",
      "       Predict: 0.0\n",
      "      Else (feature 97 > 4.405840064461252)\n",
      "       Predict: 1.0\n",
      "     Else (feature 95 > 3.7041112702962695)\n",
      "      Predict: 0.0\n",
      "    Else (feature 96 > 1.0012372970722383)\n",
      "     If (feature 54 <= 3.5925724754976027)\n",
      "      Predict: 1.0\n",
      "     Else (feature 54 > 3.5925724754976027)\n",
      "      Predict: 0.0\n",
      "   Else (feature 95 > 4.873830618810881)\n",
      "    If (feature 96 <= 1.0012372970722383)\n",
      "     If (feature 97 <= 4.405840064461252)\n",
      "      If (feature 98 <= 2.472543766485914)\n",
      "       Predict: 0.0\n",
      "      Else (feature 98 > 2.472543766485914)\n",
      "       Predict: 1.0\n",
      "     Else (feature 97 > 4.405840064461252)\n",
      "      If (feature 76 <= 13.591102613447678)\n",
      "       Predict: 1.0\n",
      "      Else (feature 76 > 13.591102613447678)\n",
      "       Predict: 0.0\n",
      "    Else (feature 96 > 1.0012372970722383)\n",
      "     If (feature 39 <= 2.900952271283373)\n",
      "      Predict: 1.0\n",
      "     Else (feature 39 > 2.900952271283373)\n",
      "      If (feature 1 <= 1.8805741480684497)\n",
      "       Predict: 1.0\n",
      "      Else (feature 1 > 1.8805741480684497)\n",
      "       Predict: 0.0\n",
      "\n"
     ]
    }
   ],
   "source": [
    "print(treeModel.toDebugString)"
   ]
  },
  {
   "cell_type": "code",
   "execution_count": 193,
   "metadata": {
    "ExecuteTime": {
     "end_time": "2023-08-13T11:25:59.598933Z",
     "start_time": "2023-08-13T11:25:59.378836Z"
    },
    "id": "okysjH6vaMg-"
   },
   "outputs": [
    {
     "name": "stdout",
     "output_type": "stream",
     "text": [
      "+-----+--------------------+--------------+--------------------+----------+\n",
      "|label|            features| rawPrediction|         probability|prediction|\n",
      "+-----+--------------------+--------------+--------------------+----------+\n",
      "|  0.0|(99,[3,15,24,36,4...|[8135.0,119.0]|[0.98558274775866...|       0.0|\n",
      "|  0.0|(99,[3,15,24,36,4...|[8135.0,119.0]|[0.98558274775866...|       0.0|\n",
      "|  0.0|(99,[3,15,24,36,4...|[8135.0,119.0]|[0.98558274775866...|       0.0|\n",
      "|  0.0|(99,[3,15,24,36,4...|[8135.0,119.0]|[0.98558274775866...|       0.0|\n",
      "|  0.0|(99,[3,15,24,36,4...|[8135.0,119.0]|[0.98558274775866...|       0.0|\n",
      "|  0.0|(99,[3,15,24,36,4...|     [3.0,0.0]|           [1.0,0.0]|       0.0|\n",
      "|  0.0|(99,[3,15,24,36,4...|[8135.0,119.0]|[0.98558274775866...|       0.0|\n",
      "|  0.0|(99,[3,15,24,36,4...|[8135.0,119.0]|[0.98558274775866...|       0.0|\n",
      "|  0.0|(99,[3,15,24,36,4...|[8135.0,119.0]|[0.98558274775866...|       0.0|\n",
      "|  0.0|(99,[3,15,24,36,4...|[8135.0,119.0]|[0.98558274775866...|       0.0|\n",
      "|  0.0|(99,[3,15,24,36,4...|[8135.0,119.0]|[0.98558274775866...|       0.0|\n",
      "|  0.0|(99,[3,15,24,36,4...|[8135.0,119.0]|[0.98558274775866...|       0.0|\n",
      "|  0.0|(99,[3,15,24,36,4...|[8135.0,119.0]|[0.98558274775866...|       0.0|\n",
      "|  0.0|(99,[3,15,24,36,4...|[8135.0,119.0]|[0.98558274775866...|       0.0|\n",
      "|  0.0|(99,[3,13,24,36,4...|[8135.0,119.0]|[0.98558274775866...|       0.0|\n",
      "|  0.0|(99,[3,13,24,36,4...|[8135.0,119.0]|[0.98558274775866...|       0.0|\n",
      "|  0.0|(99,[3,13,24,36,4...|[8135.0,119.0]|[0.98558274775866...|       0.0|\n",
      "|  0.0|(99,[3,13,24,36,4...|[8135.0,119.0]|[0.98558274775866...|       0.0|\n",
      "|  0.0|(99,[3,13,24,36,4...|[8135.0,119.0]|[0.98558274775866...|       0.0|\n",
      "|  0.0|(99,[3,13,24,36,4...|[8135.0,119.0]|[0.98558274775866...|       0.0|\n",
      "+-----+--------------------+--------------+--------------------+----------+\n",
      "only showing top 20 rows\n",
      "\n"
     ]
    }
   ],
   "source": [
    "# predykcje\n",
    "treeModel.transform(df_eval).show()"
   ]
  },
  {
   "cell_type": "markdown",
   "metadata": {
    "id": "4R2iN9CwaMg_"
   },
   "source": [
    "### Las losowy"
   ]
  },
  {
   "cell_type": "code",
   "execution_count": 194,
   "metadata": {
    "ExecuteTime": {
     "end_time": "2023-08-13T11:26:12.288415Z",
     "start_time": "2023-08-13T11:26:12.258020Z"
    },
    "id": "8WtpFbw1aMg_"
   },
   "outputs": [],
   "source": [
    "forest = classification.RandomForestClassifier()"
   ]
  },
  {
   "cell_type": "code",
   "execution_count": 195,
   "metadata": {
    "ExecuteTime": {
     "end_time": "2023-08-13T11:26:18.775389Z",
     "start_time": "2023-08-13T11:26:15.488602Z"
    },
    "id": "ruU6dZfYaMhA"
   },
   "outputs": [],
   "source": [
    "forestModel = forest.fit(df_train)"
   ]
  },
  {
   "cell_type": "code",
   "execution_count": 196,
   "metadata": {
    "ExecuteTime": {
     "end_time": "2023-08-13T11:26:21.269981Z",
     "start_time": "2023-08-13T11:26:21.247765Z"
    },
    "id": "rEmPTLwkaMhA"
   },
   "outputs": [
    {
     "data": {
      "text/plain": [
       "SparseVector(99, {0: 0.0002, 1: 0.0001, 2: 0.0002, 3: 0.0005, 4: 0.0001, 5: 0.002, 6: 0.0006, 8: 0.0111, 10: 0.0144, 11: 0.0309, 12: 0.0004, 14: 0.0001, 15: 0.001, 17: 0.0099, 20: 0.0062, 22: 0.0004, 23: 0.2683, 24: 0.0586, 25: 0.0041, 26: 0.003, 27: 0.0005, 29: 0.0013, 30: 0.0237, 31: 0.0213, 32: 0.0, 33: 0.0002, 34: 0.0086, 35: 0.0011, 36: 0.0005, 38: 0.0002, 39: 0.0013, 40: 0.0002, 41: 0.0, 43: 0.1619, 44: 0.0251, 45: 0.0069, 46: 0.0085, 47: 0.005, 48: 0.0001, 49: 0.0001, 50: 0.0001, 51: 0.0001, 52: 0.0061, 53: 0.0001, 54: 0.0022, 55: 0.0002, 57: 0.0001, 61: 0.0001, 63: 0.0003, 65: 0.0001, 66: 0.0001, 68: 0.0, 69: 0.0001, 75: 0.0, 77: 0.0001, 78: 0.0002, 79: 0.0001, 80: 0.0, 81: 0.0, 87: 0.0, 94: 0.0317, 95: 0.0901, 96: 0.1318, 97: 0.018, 98: 0.0398})"
      ]
     },
     "execution_count": 196,
     "metadata": {},
     "output_type": "execute_result"
    }
   ],
   "source": [
    "forestModel.featureImportances"
   ]
  },
  {
   "cell_type": "code",
   "execution_count": 197,
   "metadata": {
    "ExecuteTime": {
     "end_time": "2023-08-13T11:26:24.873589Z",
     "start_time": "2023-08-13T11:26:24.810731Z"
    },
    "id": "4NvK63ewaMhB"
   },
   "outputs": [
    {
     "name": "stdout",
     "output_type": "stream",
     "text": [
      "RandomForestClassificationModel: uid=RandomForestClassifier_009ec1af8ddf, numTrees=20, numClasses=2, numFeatures=99\n",
      "  Tree 0 (weight 1.0):\n",
      "    If (feature 31 <= 1.5160103368044824)\n",
      "     If (feature 95 <= 4.873830618810881)\n",
      "      If (feature 25 <= 1.4599784308832806)\n",
      "       If (feature 34 <= 1.6508711694001317)\n",
      "        If (feature 96 <= 0.42415776050710774)\n",
      "         Predict: 0.0\n",
      "        Else (feature 96 > 0.42415776050710774)\n",
      "         Predict: 1.0\n",
      "       Else (feature 34 > 1.6508711694001317)\n",
      "        If (feature 79 <= 15.444127847290664)\n",
      "         Predict: 0.0\n",
      "        Else (feature 79 > 15.444127847290664)\n",
      "         Predict: 1.0\n",
      "      Else (feature 25 > 1.4599784308832806)\n",
      "       If (feature 98 <= 3.4453478713328303)\n",
      "        If (feature 96 <= 1.0012372970722383)\n",
      "         Predict: 0.0\n",
      "        Else (feature 96 > 1.0012372970722383)\n",
      "         Predict: 1.0\n",
      "       Else (feature 98 > 3.4453478713328303)\n",
      "        Predict: 0.0\n",
      "     Else (feature 95 > 4.873830618810881)\n",
      "      If (feature 17 <= 3.881887003705412)\n",
      "       If (feature 44 <= 1.149283736719202)\n",
      "        If (feature 46 <= 1.6226502456205374)\n",
      "         Predict: 1.0\n",
      "        Else (feature 46 > 1.6226502456205374)\n",
      "         Predict: 0.0\n",
      "       Else (feature 44 > 1.149283736719202)\n",
      "        Predict: 0.0\n",
      "      Else (feature 17 > 3.881887003705412)\n",
      "       Predict: 1.0\n",
      "    Else (feature 31 > 1.5160103368044824)\n",
      "     If (feature 8 <= 1.0695035626828624)\n",
      "      If (feature 23 <= 1.0035900941414533)\n",
      "       If (feature 94 <= 2.3716410015231015)\n",
      "        Predict: 0.0\n",
      "       Else (feature 94 > 2.3716410015231015)\n",
      "        If (feature 96 <= 1.0012372970722383)\n",
      "         Predict: 0.0\n",
      "        Else (feature 96 > 1.0012372970722383)\n",
      "         Predict: 1.0\n",
      "      Else (feature 23 > 1.0035900941414533)\n",
      "       Predict: 1.0\n",
      "     Else (feature 8 > 1.0695035626828624)\n",
      "      If (feature 2 <= 2.0211210663416637)\n",
      "       If (feature 43 <= 1.0192656067064028)\n",
      "        If (feature 50 <= 2.835235488466264)\n",
      "         Predict: 0.0\n",
      "        Else (feature 50 > 2.835235488466264)\n",
      "         Predict: 1.0\n",
      "       Else (feature 43 > 1.0192656067064028)\n",
      "        Predict: 0.0\n",
      "      Else (feature 2 > 2.0211210663416637)\n",
      "       Predict: 1.0\n",
      "  Tree 1 (weight 1.0):\n",
      "    If (feature 54 <= 3.5925724754976027)\n",
      "     If (feature 23 <= 1.0035900941414533)\n",
      "      Predict: 0.0\n",
      "     Else (feature 23 > 1.0035900941414533)\n",
      "      If (feature 31 <= 1.5160103368044824)\n",
      "       If (feature 30 <= 1.5091992993458365)\n",
      "        Predict: 0.0\n",
      "       Else (feature 30 > 1.5091992993458365)\n",
      "        Predict: 1.0\n",
      "      Else (feature 31 > 1.5160103368044824)\n",
      "       If (feature 94 <= 2.3716410015231015)\n",
      "        If (feature 1 <= 1.8805741480684497)\n",
      "         Predict: 0.0\n",
      "        Else (feature 1 > 1.8805741480684497)\n",
      "         Predict: 1.0\n",
      "       Else (feature 94 > 2.3716410015231015)\n",
      "        If (feature 98 <= 2.472543766485914)\n",
      "         Predict: 0.0\n",
      "        Else (feature 98 > 2.472543766485914)\n",
      "         Predict: 1.0\n",
      "    Else (feature 54 > 3.5925724754976027)\n",
      "     If (feature 11 <= 2.241715919048179)\n",
      "      If (feature 5 <= 2.7533341557039197)\n",
      "       Predict: 0.0\n",
      "      Else (feature 5 > 2.7533341557039197)\n",
      "       Predict: 1.0\n",
      "     Else (feature 11 > 2.241715919048179)\n",
      "      Predict: 0.0\n",
      "  Tree 2 (weight 1.0):\n",
      "    If (feature 23 <= 1.0035900941414533)\n",
      "     If (feature 20 <= 4.571373721288232)\n",
      "      Predict: 0.0\n",
      "     Else (feature 20 > 4.571373721288232)\n",
      "      If (feature 94 <= 2.3716410015231015)\n",
      "       If (feature 2 <= 2.0211210663416637)\n",
      "        Predict: 0.0\n",
      "       Else (feature 2 > 2.0211210663416637)\n",
      "        Predict: 1.0\n",
      "      Else (feature 94 > 2.3716410015231015)\n",
      "       Predict: 1.0\n",
      "    Else (feature 23 > 1.0035900941414533)\n",
      "     If (feature 17 <= 3.881887003705412)\n",
      "      If (feature 97 <= 4.279009006149483)\n",
      "       Predict: 0.0\n",
      "      Else (feature 97 > 4.279009006149483)\n",
      "       If (feature 54 <= 3.5925724754976027)\n",
      "        Predict: 1.0\n",
      "       Else (feature 54 > 3.5925724754976027)\n",
      "        Predict: 0.0\n",
      "     Else (feature 17 > 3.881887003705412)\n",
      "      If (feature 36 <= 2.163520475518899)\n",
      "       Predict: 1.0\n",
      "      Else (feature 36 > 2.163520475518899)\n",
      "       Predict: 0.0\n",
      "  Tree 3 (weight 1.0):\n",
      "    If (feature 23 <= 1.0035900941414533)\n",
      "     If (feature 44 <= 1.149283736719202)\n",
      "      If (feature 34 <= 1.6508711694001317)\n",
      "       Predict: 0.0\n",
      "      Else (feature 34 > 1.6508711694001317)\n",
      "       If (feature 77 <= 14.838887465954263)\n",
      "        Predict: 0.0\n",
      "       Else (feature 77 > 14.838887465954263)\n",
      "        Predict: 1.0\n",
      "     Else (feature 44 > 1.149283736719202)\n",
      "      If (feature 29 <= 1.4976626128584876)\n",
      "       If (feature 95 <= 5.263737068315751)\n",
      "        Predict: 0.0\n",
      "       Else (feature 95 > 5.263737068315751)\n",
      "        If (feature 5 <= 2.7533341557039197)\n",
      "         Predict: 0.0\n",
      "        Else (feature 5 > 2.7533341557039197)\n",
      "         Predict: 1.0\n",
      "      Else (feature 29 > 1.4976626128584876)\n",
      "       If (feature 48 <= 1.4164572059319427)\n",
      "        Predict: 0.0\n",
      "       Else (feature 48 > 1.4164572059319427)\n",
      "        If (feature 96 <= 1.0012372970722383)\n",
      "         Predict: 0.0\n",
      "        Else (feature 96 > 1.0012372970722383)\n",
      "         Predict: 1.0\n",
      "    Else (feature 23 > 1.0035900941414533)\n",
      "     If (feature 54 <= 3.5925724754976027)\n",
      "      If (feature 30 <= 1.5091992993458365)\n",
      "       If (feature 10 <= 1.3537338657788678)\n",
      "        If (feature 17 <= 3.881887003705412)\n",
      "         Predict: 0.0\n",
      "        Else (feature 17 > 3.881887003705412)\n",
      "         Predict: 1.0\n",
      "       Else (feature 10 > 1.3537338657788678)\n",
      "        If (feature 87 <= 20.979388613749705)\n",
      "         Predict: 1.0\n",
      "        Else (feature 87 > 20.979388613749705)\n",
      "         Predict: 0.0\n",
      "      Else (feature 30 > 1.5091992993458365)\n",
      "       Predict: 1.0\n",
      "     Else (feature 54 > 3.5925724754976027)\n",
      "      If (feature 95 <= 3.7041112702962695)\n",
      "       Predict: 0.0\n",
      "      Else (feature 95 > 3.7041112702962695)\n",
      "       If (feature 10 <= 1.3537338657788678)\n",
      "        Predict: 0.0\n",
      "       Else (feature 10 > 1.3537338657788678)\n",
      "        If (feature 98 <= 2.877878810172129)\n",
      "         Predict: 0.0\n",
      "        Else (feature 98 > 2.877878810172129)\n",
      "         Predict: 1.0\n",
      "  Tree 4 (weight 1.0):\n",
      "    If (feature 24 <= 1.0625686720834735)\n",
      "     If (feature 44 <= 1.149283736719202)\n",
      "      If (feature 94 <= 2.1527202936901997)\n",
      "       If (feature 43 <= 1.0192656067064028)\n",
      "        If (feature 78 <= 15.13242421365648)\n",
      "         Predict: 0.0\n",
      "        Else (feature 78 > 15.13242421365648)\n",
      "         Predict: 1.0\n",
      "       Else (feature 43 > 1.0192656067064028)\n",
      "        Predict: 0.0\n",
      "      Else (feature 94 > 2.1527202936901997)\n",
      "       If (feature 31 <= 1.5160103368044824)\n",
      "        If (feature 98 <= 3.283213853858344)\n",
      "         Predict: 0.0\n",
      "        Else (feature 98 > 3.283213853858344)\n",
      "         Predict: 1.0\n",
      "       Else (feature 31 > 1.5160103368044824)\n",
      "        If (feature 52 <= 1.0601513655442052)\n",
      "         Predict: 0.0\n",
      "        Else (feature 52 > 1.0601513655442052)\n",
      "         Predict: 1.0\n",
      "     Else (feature 44 > 1.149283736719202)\n",
      "      If (feature 96 <= 1.0012372970722383)\n",
      "       If (feature 17 <= 3.881887003705412)\n",
      "        Predict: 0.0\n",
      "       Else (feature 17 > 3.881887003705412)\n",
      "        If (feature 53 <= 1.629766886499123)\n",
      "         Predict: 1.0\n",
      "        Else (feature 53 > 1.629766886499123)\n",
      "         Predict: 0.0\n",
      "      Else (feature 96 > 1.0012372970722383)\n",
      "       Predict: 1.0\n",
      "    Else (feature 24 > 1.0625686720834735)\n",
      "     If (feature 20 <= 4.571373721288232)\n",
      "      If (feature 45 <= 1.36884738708565)\n",
      "       Predict: 0.0\n",
      "      Else (feature 45 > 1.36884738708565)\n",
      "       If (feature 49 <= 1.6937882953141605)\n",
      "        If (feature 96 <= 1.0012372970722383)\n",
      "         Predict: 0.0\n",
      "        Else (feature 96 > 1.0012372970722383)\n",
      "         Predict: 1.0\n",
      "       Else (feature 49 > 1.6937882953141605)\n",
      "        Predict: 0.0\n",
      "     Else (feature 20 > 4.571373721288232)\n",
      "      Predict: 0.0\n",
      "  Tree 5 (weight 1.0):\n",
      "    If (feature 11 <= 2.241715919048179)\n",
      "     If (feature 98 <= 3.5264148800700736)\n",
      "      If (feature 27 <= 2.917122360855718)\n",
      "       If (feature 5 <= 2.7533341557039197)\n",
      "        If (feature 97 <= 4.261769833175068)\n",
      "         Predict: 0.0\n",
      "        Else (feature 97 > 4.261769833175068)\n",
      "         Predict: 1.0\n",
      "       Else (feature 5 > 2.7533341557039197)\n",
      "        If (feature 94 <= 2.225693862967834)\n",
      "         Predict: 0.0\n",
      "        Else (feature 94 > 2.225693862967834)\n",
      "         Predict: 1.0\n",
      "      Else (feature 27 > 2.917122360855718)\n",
      "       If (feature 30 <= 1.5091992993458365)\n",
      "        If (feature 96 <= 1.0012372970722383)\n",
      "         Predict: 0.0\n",
      "        Else (feature 96 > 1.0012372970722383)\n",
      "         Predict: 1.0\n",
      "       Else (feature 30 > 1.5091992993458365)\n",
      "        If (feature 94 <= 4.852742356962654)\n",
      "         Predict: 0.0\n",
      "        Else (feature 94 > 4.852742356962654)\n",
      "         Predict: 1.0\n",
      "     Else (feature 98 > 3.5264148800700736)\n",
      "      If (feature 94 <= 2.1527202936901997)\n",
      "       If (feature 31 <= 1.5160103368044824)\n",
      "        If (feature 96 <= 1.0012372970722383)\n",
      "         Predict: 0.0\n",
      "        Else (feature 96 > 1.0012372970722383)\n",
      "         Predict: 1.0\n",
      "       Else (feature 31 > 1.5160103368044824)\n",
      "        If (feature 20 <= 4.571373721288232)\n",
      "         Predict: 0.0\n",
      "        Else (feature 20 > 4.571373721288232)\n",
      "         Predict: 1.0\n",
      "      Else (feature 94 > 2.1527202936901997)\n",
      "       If (feature 52 <= 1.0601513655442052)\n",
      "        Predict: 0.0\n",
      "       Else (feature 52 > 1.0601513655442052)\n",
      "        If (feature 44 <= 1.149283736719202)\n",
      "         Predict: 1.0\n",
      "        Else (feature 44 > 1.149283736719202)\n",
      "         Predict: 0.0\n",
      "    Else (feature 11 > 2.241715919048179)\n",
      "     If (feature 52 <= 1.0601513655442052)\n",
      "      If (feature 57 <= 7.774687675320327)\n",
      "       If (feature 96 <= 0.26766273654465694)\n",
      "        Predict: 0.0\n",
      "       Else (feature 96 > 0.26766273654465694)\n",
      "        If (feature 94 <= 4.487874510574484)\n",
      "         Predict: 1.0\n",
      "        Else (feature 94 > 4.487874510574484)\n",
      "         Predict: 0.0\n",
      "      Else (feature 57 > 7.774687675320327)\n",
      "       Predict: 0.0\n",
      "     Else (feature 52 > 1.0601513655442052)\n",
      "      If (feature 24 <= 1.0625686720834735)\n",
      "       If (feature 30 <= 1.5091992993458365)\n",
      "        If (feature 44 <= 1.149283736719202)\n",
      "         Predict: 1.0\n",
      "        Else (feature 44 > 1.149283736719202)\n",
      "         Predict: 0.0\n",
      "       Else (feature 30 > 1.5091992993458365)\n",
      "        If (feature 65 <= 10.028717512933264)\n",
      "         Predict: 1.0\n",
      "        Else (feature 65 > 10.028717512933264)\n",
      "         Predict: 0.0\n",
      "      Else (feature 24 > 1.0625686720834735)\n",
      "       Predict: 0.0\n",
      "  Tree 6 (weight 1.0):\n",
      "    If (feature 96 <= 1.0012372970722383)\n",
      "     If (feature 23 <= 1.0035900941414533)\n",
      "      If (feature 20 <= 4.571373721288232)\n",
      "       Predict: 0.0\n",
      "      Else (feature 20 > 4.571373721288232)\n",
      "       If (feature 94 <= 2.225693862967834)\n",
      "        If (feature 57 <= 7.774687675320327)\n",
      "         Predict: 0.0\n",
      "        Else (feature 57 > 7.774687675320327)\n",
      "         Predict: 1.0\n",
      "       Else (feature 94 > 2.225693862967834)\n",
      "        If (feature 30 <= 1.5091992993458365)\n",
      "         Predict: 0.0\n",
      "        Else (feature 30 > 1.5091992993458365)\n",
      "         Predict: 1.0\n",
      "     Else (feature 23 > 1.0035900941414533)\n",
      "      If (feature 10 <= 1.3537338657788678)\n",
      "       If (feature 30 <= 1.5091992993458365)\n",
      "        Predict: 0.0\n",
      "       Else (feature 30 > 1.5091992993458365)\n",
      "        If (feature 8 <= 1.0695035626828624)\n",
      "         Predict: 1.0\n",
      "        Else (feature 8 > 1.0695035626828624)\n",
      "         Predict: 0.0\n",
      "      Else (feature 10 > 1.3537338657788678)\n",
      "       If (feature 81 <= 16.509383470911505)\n",
      "        If (feature 98 <= 3.202146845121101)\n",
      "         Predict: 0.0\n",
      "        Else (feature 98 > 3.202146845121101)\n",
      "         Predict: 1.0\n",
      "       Else (feature 81 > 16.509383470911505)\n",
      "        Predict: 0.0\n",
      "    Else (feature 96 > 1.0012372970722383)\n",
      "     If (feature 43 <= 1.0192656067064028)\n",
      "      If (feature 98 <= 1.0133376092155384)\n",
      "       If (feature 41 <= 3.588684996235986)\n",
      "        If (feature 94 <= 1.5689317394691287)\n",
      "         Predict: 0.0\n",
      "        Else (feature 94 > 1.5689317394691287)\n",
      "         Predict: 1.0\n",
      "       Else (feature 41 > 3.588684996235986)\n",
      "        Predict: 0.0\n",
      "      Else (feature 98 > 1.0133376092155384)\n",
      "       Predict: 1.0\n",
      "     Else (feature 43 > 1.0192656067064028)\n",
      "      Predict: 1.0\n",
      "  Tree 7 (weight 1.0):\n",
      "    If (feature 30 <= 1.5091992993458365)\n",
      "     If (feature 23 <= 1.0035900941414533)\n",
      "      If (feature 96 <= 1.0012372970722383)\n",
      "       Predict: 0.0\n",
      "      Else (feature 96 > 1.0012372970722383)\n",
      "       If (feature 94 <= 1.5689317394691287)\n",
      "        Predict: 0.0\n",
      "       Else (feature 94 > 1.5689317394691287)\n",
      "        Predict: 1.0\n",
      "     Else (feature 23 > 1.0035900941414533)\n",
      "      If (feature 95 <= 4.873830618810881)\n",
      "       If (feature 12 <= 2.4407339234471292)\n",
      "        If (feature 96 <= 1.0012372970722383)\n",
      "         Predict: 0.0\n",
      "        Else (feature 96 > 1.0012372970722383)\n",
      "         Predict: 1.0\n",
      "       Else (feature 12 > 2.4407339234471292)\n",
      "        Predict: 0.0\n",
      "      Else (feature 95 > 4.873830618810881)\n",
      "       If (feature 95 <= 5.263737068315751)\n",
      "        If (feature 4 <= 2.5786728776078207)\n",
      "         Predict: 1.0\n",
      "        Else (feature 4 > 2.5786728776078207)\n",
      "         Predict: 0.0\n",
      "       Else (feature 95 > 5.263737068315751)\n",
      "        If (feature 38 <= 2.4985169475403777)\n",
      "         Predict: 1.0\n",
      "        Else (feature 38 > 2.4985169475403777)\n",
      "         Predict: 0.0\n",
      "    Else (feature 30 > 1.5091992993458365)\n",
      "     If (feature 24 <= 1.0625686720834735)\n",
      "      If (feature 6 <= 2.898950698586086)\n",
      "       If (feature 46 <= 1.6226502456205374)\n",
      "        If (feature 23 <= 1.0035900941414533)\n",
      "         Predict: 0.0\n",
      "        Else (feature 23 > 1.0035900941414533)\n",
      "         Predict: 1.0\n",
      "       Else (feature 46 > 1.6226502456205374)\n",
      "        If (feature 63 <= 9.11743149204179)\n",
      "         Predict: 0.0\n",
      "        Else (feature 63 > 9.11743149204179)\n",
      "         Predict: 1.0\n",
      "      Else (feature 6 > 2.898950698586086)\n",
      "       If (feature 52 <= 1.0601513655442052)\n",
      "        If (feature 95 <= 4.873830618810881)\n",
      "         Predict: 0.0\n",
      "        Else (feature 95 > 4.873830618810881)\n",
      "         Predict: 1.0\n",
      "       Else (feature 52 > 1.0601513655442052)\n",
      "        If (feature 98 <= 1.0133376092155384)\n",
      "         Predict: 0.0\n",
      "        Else (feature 98 > 1.0133376092155384)\n",
      "         Predict: 1.0\n",
      "     Else (feature 24 > 1.0625686720834735)\n",
      "      If (feature 11 <= 2.241715919048179)\n",
      "       If (feature 2 <= 2.0211210663416637)\n",
      "        Predict: 0.0\n",
      "       Else (feature 2 > 2.0211210663416637)\n",
      "        If (feature 94 <= 3.393270971409976)\n",
      "         Predict: 0.0\n",
      "        Else (feature 94 > 3.393270971409976)\n",
      "         Predict: 1.0\n",
      "      Else (feature 11 > 2.241715919048179)\n",
      "       If (feature 45 <= 1.36884738708565)\n",
      "        If (feature 2 <= 2.0211210663416637)\n",
      "         Predict: 0.0\n",
      "        Else (feature 2 > 2.0211210663416637)\n",
      "         Predict: 1.0\n",
      "       Else (feature 45 > 1.36884738708565)\n",
      "        Predict: 0.0\n",
      "  Tree 8 (weight 1.0):\n",
      "    If (feature 11 <= 2.241715919048179)\n",
      "     If (feature 43 <= 1.0192656067064028)\n",
      "      If (feature 94 <= 2.1527202936901997)\n",
      "       If (feature 98 <= 3.283213853858344)\n",
      "        If (feature 96 <= 1.0012372970722383)\n",
      "         Predict: 0.0\n",
      "        Else (feature 96 > 1.0012372970722383)\n",
      "         Predict: 1.0\n",
      "       Else (feature 98 > 3.283213853858344)\n",
      "        If (feature 69 <= 10.814555346797274)\n",
      "         Predict: 0.0\n",
      "        Else (feature 69 > 10.814555346797274)\n",
      "         Predict: 1.0\n",
      "      Else (feature 94 > 2.1527202936901997)\n",
      "       Predict: 0.0\n",
      "     Else (feature 43 > 1.0192656067064028)\n",
      "      If (feature 15 <= 2.9847468366136733)\n",
      "       If (feature 95 <= 4.873830618810881)\n",
      "        Predict: 0.0\n",
      "       Else (feature 95 > 4.873830618810881)\n",
      "        Predict: 1.0\n",
      "      Else (feature 15 > 2.9847468366136733)\n",
      "       Predict: 0.0\n",
      "    Else (feature 11 > 2.241715919048179)\n",
      "     If (feature 44 <= 1.149283736719202)\n",
      "      If (feature 97 <= 3.6805634300376413)\n",
      "       If (feature 45 <= 1.36884738708565)\n",
      "        Predict: 1.0\n",
      "       Else (feature 45 > 1.36884738708565)\n",
      "        Predict: 0.0\n",
      "      Else (feature 97 > 3.6805634300376413)\n",
      "       If (feature 66 <= 10.117641721103137)\n",
      "        If (feature 94 <= 2.0797467244125656)\n",
      "         Predict: 0.0\n",
      "        Else (feature 94 > 2.0797467244125656)\n",
      "         Predict: 1.0\n",
      "       Else (feature 66 > 10.117641721103137)\n",
      "        Predict: 0.0\n",
      "     Else (feature 44 > 1.149283736719202)\n",
      "      If (feature 94 <= 2.444614570800735)\n",
      "       Predict: 0.0\n",
      "      Else (feature 94 > 2.444614570800735)\n",
      "       If (feature 30 <= 1.5091992993458365)\n",
      "        If (feature 48 <= 1.4164572059319427)\n",
      "         Predict: 1.0\n",
      "        Else (feature 48 > 1.4164572059319427)\n",
      "         Predict: 0.0\n",
      "       Else (feature 30 > 1.5091992993458365)\n",
      "        Predict: 1.0\n",
      "  Tree 9 (weight 1.0):\n",
      "    If (feature 43 <= 1.0192656067064028)\n",
      "     If (feature 95 <= 4.873830618810881)\n",
      "      If (feature 94 <= 2.0797467244125656)\n",
      "       If (feature 23 <= 1.0035900941414533)\n",
      "        If (feature 96 <= 1.0012372970722383)\n",
      "         Predict: 0.0\n",
      "        Else (feature 96 > 1.0012372970722383)\n",
      "         Predict: 1.0\n",
      "       Else (feature 23 > 1.0035900941414533)\n",
      "        Predict: 0.0\n",
      "      Else (feature 94 > 2.0797467244125656)\n",
      "       If (feature 98 <= 3.7696159062818024)\n",
      "        Predict: 0.0\n",
      "       Else (feature 98 > 3.7696159062818024)\n",
      "        If (feature 96 <= 1.0012372970722383)\n",
      "         Predict: 0.0\n",
      "        Else (feature 96 > 1.0012372970722383)\n",
      "         Predict: 1.0\n",
      "     Else (feature 95 > 4.873830618810881)\n",
      "      If (feature 10 <= 1.3537338657788678)\n",
      "       If (feature 96 <= 1.0012372970722383)\n",
      "        If (feature 47 <= 2.350163942221254)\n",
      "         Predict: 0.0\n",
      "        Else (feature 47 > 2.350163942221254)\n",
      "         Predict: 1.0\n",
      "       Else (feature 96 > 1.0012372970722383)\n",
      "        Predict: 1.0\n",
      "      Else (feature 10 > 1.3537338657788678)\n",
      "       Predict: 0.0\n",
      "    Else (feature 43 > 1.0192656067064028)\n",
      "     If (feature 8 <= 1.0695035626828624)\n",
      "      If (feature 22 <= 6.892869433553474)\n",
      "       If (feature 10 <= 1.3537338657788678)\n",
      "        If (feature 11 <= 2.241715919048179)\n",
      "         Predict: 0.0\n",
      "        Else (feature 11 > 2.241715919048179)\n",
      "         Predict: 1.0\n",
      "       Else (feature 10 > 1.3537338657788678)\n",
      "        If (feature 80 <= 16.509383470911505)\n",
      "         Predict: 1.0\n",
      "        Else (feature 80 > 16.509383470911505)\n",
      "         Predict: 0.0\n",
      "      Else (feature 22 > 6.892869433553474)\n",
      "       If (feature 75 <= 12.792032146607118)\n",
      "        Predict: 0.0\n",
      "       Else (feature 75 > 12.792032146607118)\n",
      "        Predict: 1.0\n",
      "     Else (feature 8 > 1.0695035626828624)\n",
      "      If (feature 40 <= 2.9803757253708567)\n",
      "       If (feature 30 <= 1.5091992993458365)\n",
      "        Predict: 0.0\n",
      "       Else (feature 30 > 1.5091992993458365)\n",
      "        If (feature 53 <= 1.629766886499123)\n",
      "         Predict: 0.0\n",
      "        Else (feature 53 > 1.629766886499123)\n",
      "         Predict: 1.0\n",
      "      Else (feature 40 > 2.9803757253708567)\n",
      "       If (feature 0 <= 1.08794593549784)\n",
      "        Predict: 0.0\n",
      "       Else (feature 0 > 1.08794593549784)\n",
      "        If (feature 94 <= 3.6121916792428777)\n",
      "         Predict: 0.0\n",
      "        Else (feature 94 > 3.6121916792428777)\n",
      "         Predict: 1.0\n",
      "  Tree 10 (weight 1.0):\n",
      "    If (feature 24 <= 1.0625686720834735)\n",
      "     If (feature 26 <= 2.8408469938568555)\n",
      "      If (feature 34 <= 1.6508711694001317)\n",
      "       If (feature 96 <= 1.0012372970722383)\n",
      "        If (feature 20 <= 4.571373721288232)\n",
      "         Predict: 0.0\n",
      "        Else (feature 20 > 4.571373721288232)\n",
      "         Predict: 1.0\n",
      "       Else (feature 96 > 1.0012372970722383)\n",
      "        Predict: 1.0\n",
      "      Else (feature 34 > 1.6508711694001317)\n",
      "       If (feature 96 <= 0.42415776050710774)\n",
      "        Predict: 0.0\n",
      "       Else (feature 96 > 0.42415776050710774)\n",
      "        If (feature 94 <= 2.663535278633637)\n",
      "         Predict: 1.0\n",
      "        Else (feature 94 > 2.663535278633637)\n",
      "         Predict: 0.0\n",
      "     Else (feature 26 > 2.8408469938568555)\n",
      "      Predict: 0.0\n",
      "    Else (feature 24 > 1.0625686720834735)\n",
      "     If (feature 96 <= 1.0012372970722383)\n",
      "      Predict: 0.0\n",
      "     Else (feature 96 > 1.0012372970722383)\n",
      "      If (feature 34 <= 1.6508711694001317)\n",
      "       If (feature 98 <= 1.0133376092155384)\n",
      "        Predict: 0.0\n",
      "       Else (feature 98 > 1.0133376092155384)\n",
      "        Predict: 1.0\n",
      "      Else (feature 34 > 1.6508711694001317)\n",
      "       Predict: 0.0\n",
      "  Tree 11 (weight 1.0):\n",
      "    If (feature 23 <= 1.0035900941414533)\n",
      "     If (feature 17 <= 3.881887003705412)\n",
      "      If (feature 11 <= 2.241715919048179)\n",
      "       If (feature 94 <= 2.444614570800735)\n",
      "        If (feature 96 <= 1.0012372970722383)\n",
      "         Predict: 0.0\n",
      "        Else (feature 96 > 1.0012372970722383)\n",
      "         Predict: 1.0\n",
      "       Else (feature 94 > 2.444614570800735)\n",
      "        Predict: 0.0\n",
      "      Else (feature 11 > 2.241715919048179)\n",
      "       If (feature 96 <= 0.31504135690707336)\n",
      "        Predict: 0.0\n",
      "       Else (feature 96 > 0.31504135690707336)\n",
      "        Predict: 1.0\n",
      "     Else (feature 17 > 3.881887003705412)\n",
      "      If (feature 39 <= 2.900952271283373)\n",
      "       If (feature 94 <= 2.3716410015231015)\n",
      "        Predict: 0.0\n",
      "       Else (feature 94 > 2.3716410015231015)\n",
      "        If (feature 98 <= 3.5264148800700736)\n",
      "         Predict: 0.0\n",
      "        Else (feature 98 > 3.5264148800700736)\n",
      "         Predict: 1.0\n",
      "      Else (feature 39 > 2.900952271283373)\n",
      "       Predict: 0.0\n",
      "    Else (feature 23 > 1.0035900941414533)\n",
      "     If (feature 35 <= 2.0782738704475228)\n",
      "      If (feature 96 <= 1.0012372970722383)\n",
      "       If (feature 97 <= 4.1755739683029915)\n",
      "        If (feature 98 <= 3.3642808625955873)\n",
      "         Predict: 0.0\n",
      "        Else (feature 98 > 3.3642808625955873)\n",
      "         Predict: 1.0\n",
      "       Else (feature 97 > 4.1755739683029915)\n",
      "        Predict: 1.0\n",
      "      Else (feature 96 > 1.0012372970722383)\n",
      "       If (feature 55 <= 3.791338545749341)\n",
      "        If (feature 95 <= 0.5848596742573057)\n",
      "         Predict: 0.0\n",
      "        Else (feature 95 > 0.5848596742573057)\n",
      "         Predict: 1.0\n",
      "       Else (feature 55 > 3.791338545749341)\n",
      "        Predict: 1.0\n",
      "     Else (feature 35 > 2.0782738704475228)\n",
      "      If (feature 96 <= 0.42415776050710774)\n",
      "       If (feature 68 <= 10.498652889448854)\n",
      "        If (feature 10 <= 1.3537338657788678)\n",
      "         Predict: 0.0\n",
      "        Else (feature 10 > 1.3537338657788678)\n",
      "         Predict: 1.0\n",
      "       Else (feature 68 > 10.498652889448854)\n",
      "        Predict: 1.0\n",
      "      Else (feature 96 > 0.42415776050710774)\n",
      "       If (feature 96 <= 1.0012372970722383)\n",
      "        If (feature 49 <= 1.6937882953141605)\n",
      "         Predict: 0.0\n",
      "        Else (feature 49 > 1.6937882953141605)\n",
      "         Predict: 1.0\n",
      "       Else (feature 96 > 1.0012372970722383)\n",
      "        Predict: 1.0\n",
      "  Tree 12 (weight 1.0):\n",
      "    If (feature 43 <= 1.0192656067064028)\n",
      "     If (feature 23 <= 1.0035900941414533)\n",
      "      If (feature 17 <= 3.881887003705412)\n",
      "       Predict: 0.0\n",
      "      Else (feature 17 > 3.881887003705412)\n",
      "       If (feature 34 <= 1.6508711694001317)\n",
      "        If (feature 32 <= 1.5564133645376637)\n",
      "         Predict: 1.0\n",
      "        Else (feature 32 > 1.5564133645376637)\n",
      "         Predict: 0.0\n",
      "       Else (feature 34 > 1.6508711694001317)\n",
      "        Predict: 0.0\n",
      "     Else (feature 23 > 1.0035900941414533)\n",
      "      If (feature 10 <= 1.3537338657788678)\n",
      "       If (feature 47 <= 2.350163942221254)\n",
      "        Predict: 0.0\n",
      "       Else (feature 47 > 2.350163942221254)\n",
      "        If (feature 11 <= 2.241715919048179)\n",
      "         Predict: 0.0\n",
      "        Else (feature 11 > 2.241715919048179)\n",
      "         Predict: 1.0\n",
      "      Else (feature 10 > 1.3537338657788678)\n",
      "       If (feature 30 <= 1.5091992993458365)\n",
      "        If (feature 0 <= 1.08794593549784)\n",
      "         Predict: 0.0\n",
      "        Else (feature 0 > 1.08794593549784)\n",
      "         Predict: 1.0\n",
      "       Else (feature 30 > 1.5091992993458365)\n",
      "        If (feature 47 <= 2.350163942221254)\n",
      "         Predict: 0.0\n",
      "        Else (feature 47 > 2.350163942221254)\n",
      "         Predict: 1.0\n",
      "    Else (feature 43 > 1.0192656067064028)\n",
      "     If (feature 11 <= 2.241715919048179)\n",
      "      If (feature 20 <= 4.571373721288232)\n",
      "       If (feature 31 <= 1.5160103368044824)\n",
      "        Predict: 0.0\n",
      "       Else (feature 31 > 1.5160103368044824)\n",
      "        Predict: 1.0\n",
      "      Else (feature 20 > 4.571373721288232)\n",
      "       If (feature 2 <= 2.0211210663416637)\n",
      "        If (feature 29 <= 1.4976626128584876)\n",
      "         Predict: 1.0\n",
      "        Else (feature 29 > 1.4976626128584876)\n",
      "         Predict: 0.0\n",
      "       Else (feature 2 > 2.0211210663416637)\n",
      "        If (feature 31 <= 1.5160103368044824)\n",
      "         Predict: 0.0\n",
      "        Else (feature 31 > 1.5160103368044824)\n",
      "         Predict: 1.0\n",
      "     Else (feature 11 > 2.241715919048179)\n",
      "      If (feature 38 <= 2.4985169475403777)\n",
      "       If (feature 94 <= 2.225693862967834)\n",
      "        If (feature 0 <= 1.08794593549784)\n",
      "         Predict: 0.0\n",
      "        Else (feature 0 > 1.08794593549784)\n",
      "         Predict: 1.0\n",
      "       Else (feature 94 > 2.225693862967834)\n",
      "        Predict: 1.0\n",
      "      Else (feature 38 > 2.4985169475403777)\n",
      "       Predict: 0.0\n",
      "  Tree 13 (weight 1.0):\n",
      "    If (feature 96 <= 1.0012372970722383)\n",
      "     If (feature 11 <= 2.241715919048179)\n",
      "      Predict: 0.0\n",
      "     Else (feature 11 > 2.241715919048179)\n",
      "      If (feature 55 <= 3.791338545749341)\n",
      "       If (feature 43 <= 1.0192656067064028)\n",
      "        If (feature 51 <= 5.267359064673626)\n",
      "         Predict: 0.0\n",
      "        Else (feature 51 > 5.267359064673626)\n",
      "         Predict: 1.0\n",
      "       Else (feature 43 > 1.0192656067064028)\n",
      "        Predict: 1.0\n",
      "      Else (feature 55 > 3.791338545749341)\n",
      "       If (feature 43 <= 1.0192656067064028)\n",
      "        Predict: 0.0\n",
      "       Else (feature 43 > 1.0192656067064028)\n",
      "        If (feature 29 <= 1.4976626128584876)\n",
      "         Predict: 1.0\n",
      "        Else (feature 29 > 1.4976626128584876)\n",
      "         Predict: 0.0\n",
      "    Else (feature 96 > 1.0012372970722383)\n",
      "     If (feature 10 <= 1.3537338657788678)\n",
      "      If (feature 39 <= 2.900952271283373)\n",
      "       If (feature 98 <= 2.877878810172129)\n",
      "        If (feature 25 <= 1.4599784308832806)\n",
      "         Predict: 1.0\n",
      "        Else (feature 25 > 1.4599784308832806)\n",
      "         Predict: 0.0\n",
      "       Else (feature 98 > 2.877878810172129)\n",
      "        Predict: 1.0\n",
      "      Else (feature 39 > 2.900952271283373)\n",
      "       If (feature 98 <= 2.0672087227996983)\n",
      "        Predict: 0.0\n",
      "       Else (feature 98 > 2.0672087227996983)\n",
      "        If (feature 11 <= 2.241715919048179)\n",
      "         Predict: 1.0\n",
      "        Else (feature 11 > 2.241715919048179)\n",
      "         Predict: 0.0\n",
      "     Else (feature 10 > 1.3537338657788678)\n",
      "      Predict: 1.0\n",
      "  Tree 14 (weight 1.0):\n",
      "    If (feature 43 <= 1.0192656067064028)\n",
      "     If (feature 20 <= 4.571373721288232)\n",
      "      If (feature 23 <= 1.0035900941414533)\n",
      "       Predict: 0.0\n",
      "      Else (feature 23 > 1.0035900941414533)\n",
      "       If (feature 33 <= 1.592510085090796)\n",
      "        If (feature 95 <= 4.873830618810881)\n",
      "         Predict: 0.0\n",
      "        Else (feature 95 > 4.873830618810881)\n",
      "         Predict: 1.0\n",
      "       Else (feature 33 > 1.592510085090796)\n",
      "        If (feature 96 <= 1.0012372970722383)\n",
      "         Predict: 0.0\n",
      "        Else (feature 96 > 1.0012372970722383)\n",
      "         Predict: 1.0\n",
      "     Else (feature 20 > 4.571373721288232)\n",
      "      If (feature 96 <= 0.42415776050710774)\n",
      "       If (feature 55 <= 3.791338545749341)\n",
      "        If (feature 47 <= 2.350163942221254)\n",
      "         Predict: 0.0\n",
      "        Else (feature 47 > 2.350163942221254)\n",
      "         Predict: 1.0\n",
      "       Else (feature 55 > 3.791338545749341)\n",
      "        Predict: 0.0\n",
      "      Else (feature 96 > 0.42415776050710774)\n",
      "       Predict: 1.0\n",
      "    Else (feature 43 > 1.0192656067064028)\n",
      "     If (feature 78 <= 15.13242421365648)\n",
      "      If (feature 94 <= 2.5905617093560034)\n",
      "       If (feature 31 <= 1.5160103368044824)\n",
      "        If (feature 95 <= 4.48392416930601)\n",
      "         Predict: 0.0\n",
      "        Else (feature 95 > 4.48392416930601)\n",
      "         Predict: 1.0\n",
      "       Else (feature 31 > 1.5160103368044824)\n",
      "        Predict: 1.0\n",
      "      Else (feature 94 > 2.5905617093560034)\n",
      "       If (feature 10 <= 1.3537338657788678)\n",
      "        If (feature 8 <= 1.0695035626828624)\n",
      "         Predict: 1.0\n",
      "        Else (feature 8 > 1.0695035626828624)\n",
      "         Predict: 0.0\n",
      "       Else (feature 10 > 1.3537338657788678)\n",
      "        Predict: 1.0\n",
      "     Else (feature 78 > 15.13242421365648)\n",
      "      Predict: 0.0\n",
      "  Tree 15 (weight 1.0):\n",
      "    If (feature 43 <= 1.0192656067064028)\n",
      "     If (feature 96 <= 1.0012372970722383)\n",
      "      Predict: 0.0\n",
      "     Else (feature 96 > 1.0012372970722383)\n",
      "      If (feature 10 <= 1.3537338657788678)\n",
      "       If (feature 94 <= 1.5689317394691287)\n",
      "        Predict: 0.0\n",
      "       Else (feature 94 > 1.5689317394691287)\n",
      "        Predict: 1.0\n",
      "      Else (feature 10 > 1.3537338657788678)\n",
      "       Predict: 1.0\n",
      "    Else (feature 43 > 1.0192656067064028)\n",
      "     If (feature 29 <= 1.4976626128584876)\n",
      "      If (feature 17 <= 3.881887003705412)\n",
      "       If (feature 31 <= 1.5160103368044824)\n",
      "        If (feature 97 <= 4.1755739683029915)\n",
      "         Predict: 0.0\n",
      "        Else (feature 97 > 4.1755739683029915)\n",
      "         Predict: 1.0\n",
      "       Else (feature 31 > 1.5160103368044824)\n",
      "        Predict: 1.0\n",
      "      Else (feature 17 > 3.881887003705412)\n",
      "       If (feature 94 <= 4.487874510574484)\n",
      "        Predict: 1.0\n",
      "       Else (feature 94 > 4.487874510574484)\n",
      "        Predict: 0.0\n",
      "     Else (feature 29 > 1.4976626128584876)\n",
      "      If (feature 95 <= 3.7041112702962695)\n",
      "       Predict: 0.0\n",
      "      Else (feature 95 > 3.7041112702962695)\n",
      "       If (feature 11 <= 2.241715919048179)\n",
      "        If (feature 10 <= 1.3537338657788678)\n",
      "         Predict: 0.0\n",
      "        Else (feature 10 > 1.3537338657788678)\n",
      "         Predict: 1.0\n",
      "       Else (feature 11 > 2.241715919048179)\n",
      "        Predict: 1.0\n",
      "  Tree 16 (weight 1.0):\n",
      "    If (feature 46 <= 1.6226502456205374)\n",
      "     If (feature 8 <= 1.0695035626828624)\n",
      "      If (feature 98 <= 3.3642808625955873)\n",
      "       If (feature 47 <= 2.350163942221254)\n",
      "        Predict: 0.0\n",
      "       Else (feature 47 > 2.350163942221254)\n",
      "        If (feature 11 <= 2.241715919048179)\n",
      "         Predict: 0.0\n",
      "        Else (feature 11 > 2.241715919048179)\n",
      "         Predict: 1.0\n",
      "      Else (feature 98 > 3.3642808625955873)\n",
      "       If (feature 39 <= 2.900952271283373)\n",
      "        If (feature 44 <= 1.149283736719202)\n",
      "         Predict: 1.0\n",
      "        Else (feature 44 > 1.149283736719202)\n",
      "         Predict: 0.0\n",
      "       Else (feature 39 > 2.900952271283373)\n",
      "        If (feature 14 <= 2.8186076559325057)\n",
      "         Predict: 0.0\n",
      "        Else (feature 14 > 2.8186076559325057)\n",
      "         Predict: 1.0\n",
      "     Else (feature 8 > 1.0695035626828624)\n",
      "      If (feature 45 <= 1.36884738708565)\n",
      "       If (feature 43 <= 1.0192656067064028)\n",
      "        Predict: 0.0\n",
      "       Else (feature 43 > 1.0192656067064028)\n",
      "        If (feature 97 <= 4.1755739683029915)\n",
      "         Predict: 0.0\n",
      "        Else (feature 97 > 4.1755739683029915)\n",
      "         Predict: 1.0\n",
      "      Else (feature 45 > 1.36884738708565)\n",
      "       Predict: 0.0\n",
      "    Else (feature 46 > 1.6226502456205374)\n",
      "     If (feature 94 <= 2.9554295557441725)\n",
      "      If (feature 24 <= 1.0625686720834735)\n",
      "       If (feature 96 <= 1.0012372970722383)\n",
      "        Predict: 0.0\n",
      "       Else (feature 96 > 1.0012372970722383)\n",
      "        Predict: 1.0\n",
      "      Else (feature 24 > 1.0625686720834735)\n",
      "       Predict: 0.0\n",
      "     Else (feature 94 > 2.9554295557441725)\n",
      "      If (feature 95 <= 4.873830618810881)\n",
      "       If (feature 97 <= 3.56235195821308)\n",
      "        If (feature 63 <= 9.11743149204179)\n",
      "         Predict: 0.0\n",
      "        Else (feature 63 > 9.11743149204179)\n",
      "         Predict: 1.0\n",
      "       Else (feature 97 > 3.56235195821308)\n",
      "        If (feature 94 <= 3.1013766942994403)\n",
      "         Predict: 1.0\n",
      "        Else (feature 94 > 3.1013766942994403)\n",
      "         Predict: 0.0\n",
      "      Else (feature 95 > 4.873830618810881)\n",
      "       If (feature 49 <= 1.6937882953141605)\n",
      "        If (feature 61 <= 8.926051171568599)\n",
      "         Predict: 0.0\n",
      "        Else (feature 61 > 8.926051171568599)\n",
      "         Predict: 1.0\n",
      "       Else (feature 49 > 1.6937882953141605)\n",
      "        Predict: 0.0\n",
      "  Tree 17 (weight 1.0):\n",
      "    If (feature 23 <= 1.0035900941414533)\n",
      "     If (feature 48 <= 1.4164572059319427)\n",
      "      If (feature 94 <= 2.3716410015231015)\n",
      "       If (feature 95 <= 4.48392416930601)\n",
      "        Predict: 0.0\n",
      "       Else (feature 95 > 4.48392416930601)\n",
      "        If (feature 96 <= 0.2878449700789265)\n",
      "         Predict: 0.0\n",
      "        Else (feature 96 > 0.2878449700789265)\n",
      "         Predict: 1.0\n",
      "      Else (feature 94 > 2.3716410015231015)\n",
      "       Predict: 0.0\n",
      "     Else (feature 48 > 1.4164572059319427)\n",
      "      If (feature 96 <= 1.0012372970722383)\n",
      "       Predict: 0.0\n",
      "      Else (feature 96 > 1.0012372970722383)\n",
      "       Predict: 1.0\n",
      "    Else (feature 23 > 1.0035900941414533)\n",
      "     If (feature 96 <= 1.0012372970722383)\n",
      "      If (feature 6 <= 2.898950698586086)\n",
      "       If (feature 94 <= 2.225693862967834)\n",
      "        If (feature 97 <= 4.086915364434571)\n",
      "         Predict: 0.0\n",
      "        Else (feature 97 > 4.086915364434571)\n",
      "         Predict: 1.0\n",
      "       Else (feature 94 > 2.225693862967834)\n",
      "        If (feature 95 <= 4.873830618810881)\n",
      "         Predict: 0.0\n",
      "        Else (feature 95 > 4.873830618810881)\n",
      "         Predict: 1.0\n",
      "      Else (feature 6 > 2.898950698586086)\n",
      "       If (feature 94 <= 2.3716410015231015)\n",
      "        Predict: 0.0\n",
      "       Else (feature 94 > 2.3716410015231015)\n",
      "        If (feature 51 <= 5.267359064673626)\n",
      "         Predict: 1.0\n",
      "        Else (feature 51 > 5.267359064673626)\n",
      "         Predict: 0.0\n",
      "     Else (feature 96 > 1.0012372970722383)\n",
      "      If (feature 43 <= 1.0192656067064028)\n",
      "       If (feature 55 <= 3.791338545749341)\n",
      "        If (feature 54 <= 3.5925724754976027)\n",
      "         Predict: 1.0\n",
      "        Else (feature 54 > 3.5925724754976027)\n",
      "         Predict: 0.0\n",
      "       Else (feature 55 > 3.791338545749341)\n",
      "        Predict: 1.0\n",
      "      Else (feature 43 > 1.0192656067064028)\n",
      "       Predict: 1.0\n",
      "  Tree 18 (weight 1.0):\n",
      "    If (feature 95 <= 4.873830618810881)\n",
      "     If (feature 3 <= 2.168248572073043)\n",
      "      If (feature 94 <= 2.444614570800735)\n",
      "       Predict: 0.0\n",
      "      Else (feature 94 > 2.444614570800735)\n",
      "       If (feature 34 <= 1.6508711694001317)\n",
      "        If (feature 97 <= 4.279009006149483)\n",
      "         Predict: 0.0\n",
      "        Else (feature 97 > 4.279009006149483)\n",
      "         Predict: 1.0\n",
      "       Else (feature 34 > 1.6508711694001317)\n",
      "        Predict: 0.0\n",
      "     Else (feature 3 > 2.168248572073043)\n",
      "      If (feature 27 <= 2.917122360855718)\n",
      "       If (feature 94 <= 3.393270971409976)\n",
      "        Predict: 0.0\n",
      "       Else (feature 94 > 3.393270971409976)\n",
      "        If (feature 96 <= 1.0012372970722383)\n",
      "         Predict: 0.0\n",
      "        Else (feature 96 > 1.0012372970722383)\n",
      "         Predict: 1.0\n",
      "      Else (feature 27 > 2.917122360855718)\n",
      "       Predict: 0.0\n",
      "    Else (feature 95 > 4.873830618810881)\n",
      "     If (feature 24 <= 1.0625686720834735)\n",
      "      If (feature 30 <= 1.5091992993458365)\n",
      "       If (feature 25 <= 1.4599784308832806)\n",
      "        If (feature 36 <= 2.163520475518899)\n",
      "         Predict: 1.0\n",
      "        Else (feature 36 > 2.163520475518899)\n",
      "         Predict: 0.0\n",
      "       Else (feature 25 > 1.4599784308832806)\n",
      "        Predict: 0.0\n",
      "      Else (feature 30 > 1.5091992993458365)\n",
      "       If (feature 23 <= 1.0035900941414533)\n",
      "        Predict: 0.0\n",
      "       Else (feature 23 > 1.0035900941414533)\n",
      "        Predict: 1.0\n",
      "     Else (feature 24 > 1.0625686720834735)\n",
      "      If (feature 10 <= 1.3537338657788678)\n",
      "       If (feature 98 <= 3.5264148800700736)\n",
      "        Predict: 0.0\n",
      "       Else (feature 98 > 3.5264148800700736)\n",
      "        If (feature 96 <= 1.0012372970722383)\n",
      "         Predict: 0.0\n",
      "        Else (feature 96 > 1.0012372970722383)\n",
      "         Predict: 1.0\n",
      "      Else (feature 10 > 1.3537338657788678)\n",
      "       Predict: 0.0\n",
      "  Tree 19 (weight 1.0):\n",
      "    If (feature 95 <= 4.873830618810881)\n",
      "     If (feature 23 <= 1.0035900941414533)\n",
      "      Predict: 0.0\n",
      "     Else (feature 23 > 1.0035900941414533)\n",
      "      If (feature 34 <= 1.6508711694001317)\n",
      "       Predict: 0.0\n",
      "      Else (feature 34 > 1.6508711694001317)\n",
      "       If (feature 65 <= 10.028717512933264)\n",
      "        Predict: 0.0\n",
      "       Else (feature 65 > 10.028717512933264)\n",
      "        If (feature 94 <= 2.9554295557441725)\n",
      "         Predict: 0.0\n",
      "        Else (feature 94 > 2.9554295557441725)\n",
      "         Predict: 1.0\n",
      "    Else (feature 95 > 4.873830618810881)\n",
      "     If (feature 17 <= 3.881887003705412)\n",
      "      If (feature 40 <= 2.9803757253708567)\n",
      "       If (feature 45 <= 1.36884738708565)\n",
      "        If (feature 96 <= 1.0012372970722383)\n",
      "         Predict: 0.0\n",
      "        Else (feature 96 > 1.0012372970722383)\n",
      "         Predict: 1.0\n",
      "       Else (feature 45 > 1.36884738708565)\n",
      "        Predict: 0.0\n",
      "      Else (feature 40 > 2.9803757253708567)\n",
      "       If (feature 57 <= 7.774687675320327)\n",
      "        Predict: 0.0\n",
      "       Else (feature 57 > 7.774687675320327)\n",
      "        Predict: 1.0\n",
      "     Else (feature 17 > 3.881887003705412)\n",
      "      If (feature 52 <= 1.0601513655442052)\n",
      "       If (feature 96 <= 0.2878449700789265)\n",
      "        Predict: 0.0\n",
      "       Else (feature 96 > 0.2878449700789265)\n",
      "        Predict: 1.0\n",
      "      Else (feature 52 > 1.0601513655442052)\n",
      "       If (feature 23 <= 1.0035900941414533)\n",
      "        Predict: 0.0\n",
      "       Else (feature 23 > 1.0035900941414533)\n",
      "        If (feature 66 <= 10.117641721103137)\n",
      "         Predict: 1.0\n",
      "        Else (feature 66 > 10.117641721103137)\n",
      "         Predict: 0.0\n",
      "\n"
     ]
    }
   ],
   "source": [
    "print(forestModel.toDebugString)"
   ]
  },
  {
   "cell_type": "code",
   "execution_count": 198,
   "metadata": {
    "ExecuteTime": {
     "end_time": "2023-08-13T11:26:32.178581Z",
     "start_time": "2023-08-13T11:26:32.014123Z"
    },
    "id": "X95MPw6oaMhB"
   },
   "outputs": [
    {
     "name": "stdout",
     "output_type": "stream",
     "text": [
      "+-----+--------------------+--------------------+--------------------+----------+\n",
      "|label|            features|       rawPrediction|         probability|prediction|\n",
      "+-----+--------------------+--------------------+--------------------+----------+\n",
      "|  0.0|(99,[3,15,24,36,4...|[18.7199027359335...|[0.93599513679667...|       0.0|\n",
      "|  0.0|(99,[3,15,24,36,4...|[18.6663953604359...|[0.93331976802179...|       0.0|\n",
      "|  0.0|(99,[3,15,24,36,4...|[18.6663953604359...|[0.93331976802179...|       0.0|\n",
      "|  0.0|(99,[3,15,24,36,4...|[18.6663953604359...|[0.93331976802179...|       0.0|\n",
      "|  0.0|(99,[3,15,24,36,4...|[18.6663953604359...|[0.93331976802179...|       0.0|\n",
      "|  0.0|(99,[3,15,24,36,4...|[11.4623472227092...|[0.57311736113546...|       0.0|\n",
      "|  0.0|(99,[3,15,24,36,4...|[18.6663953604359...|[0.93331976802179...|       0.0|\n",
      "|  0.0|(99,[3,15,24,36,4...|[18.6663953604359...|[0.93331976802179...|       0.0|\n",
      "|  0.0|(99,[3,15,24,36,4...|[18.6663953604359...|[0.93331976802179...|       0.0|\n",
      "|  0.0|(99,[3,15,24,36,4...|[18.6663953604359...|[0.93331976802179...|       0.0|\n",
      "|  0.0|(99,[3,15,24,36,4...|[18.6663953604359...|[0.93331976802179...|       0.0|\n",
      "|  0.0|(99,[3,15,24,36,4...|[18.6663953604359...|[0.93331976802179...|       0.0|\n",
      "|  0.0|(99,[3,15,24,36,4...|[18.6663953604359...|[0.93331976802179...|       0.0|\n",
      "|  0.0|(99,[3,15,24,36,4...|[18.6663953604359...|[0.93331976802179...|       0.0|\n",
      "|  0.0|(99,[3,13,24,36,4...|[18.6035796802846...|[0.93017898401423...|       0.0|\n",
      "|  0.0|(99,[3,13,24,36,4...|[18.7199027359335...|[0.93599513679667...|       0.0|\n",
      "|  0.0|(99,[3,13,24,36,4...|[18.7199027359335...|[0.93599513679667...|       0.0|\n",
      "|  0.0|(99,[3,13,24,36,4...|[18.6663953604359...|[0.93331976802179...|       0.0|\n",
      "|  0.0|(99,[3,13,24,36,4...|[18.6663953604359...|[0.93331976802179...|       0.0|\n",
      "|  0.0|(99,[3,13,24,36,4...|[18.6663953604359...|[0.93331976802179...|       0.0|\n",
      "+-----+--------------------+--------------------+--------------------+----------+\n",
      "only showing top 20 rows\n",
      "\n"
     ]
    }
   ],
   "source": [
    "# predykcje\n",
    "forestModel.transform(df_eval).show()"
   ]
  },
  {
   "cell_type": "markdown",
   "metadata": {
    "id": "mznxHQBBaMhC"
   },
   "source": [
    "### Gradient-Boosted Trees"
   ]
  },
  {
   "cell_type": "code",
   "execution_count": 199,
   "metadata": {
    "ExecuteTime": {
     "end_time": "2023-08-13T11:26:43.859370Z",
     "start_time": "2023-08-13T11:26:43.834167Z"
    },
    "id": "r61MPdnqaMhC"
   },
   "outputs": [],
   "source": [
    "gbt = classification.GBTClassifier()"
   ]
  },
  {
   "cell_type": "code",
   "execution_count": 200,
   "metadata": {
    "ExecuteTime": {
     "end_time": "2023-08-13T11:27:05.578798Z",
     "start_time": "2023-08-13T11:26:46.873749Z"
    },
    "id": "RwCFBe9maMhC"
   },
   "outputs": [],
   "source": [
    "gbtModel = gbt.fit(df_train)"
   ]
  },
  {
   "cell_type": "code",
   "execution_count": 201,
   "metadata": {
    "ExecuteTime": {
     "end_time": "2023-08-13T11:27:08.480686Z",
     "start_time": "2023-08-13T11:27:08.466941Z"
    },
    "id": "_-9pO25jaMhD"
   },
   "outputs": [
    {
     "data": {
      "text/plain": [
       "SparseVector(99, {0: 0.0009, 1: 0.0178, 2: 0.0018, 3: 0.0007, 4: 0.0004, 5: 0.0044, 6: 0.0054, 8: 0.0079, 9: 0.0062, 10: 0.0035, 11: 0.0032, 12: 0.0019, 15: 0.0004, 16: 0.0003, 19: 0.0008, 20: 0.0006, 23: 0.2384, 24: 0.0004, 25: 0.0005, 26: 0.0014, 27: 0.0003, 29: 0.002, 30: 0.0478, 31: 0.011, 32: 0.0007, 33: 0.0024, 34: 0.0221, 37: 0.0025, 38: 0.0059, 39: 0.0216, 40: 0.0048, 41: 0.0001, 43: 0.0074, 44: 0.0021, 45: 0.0008, 47: 0.0118, 48: 0.0018, 49: 0.0004, 50: 0.0008, 51: 0.0017, 52: 0.0142, 53: 0.0069, 54: 0.0001, 55: 0.001, 56: 0.0016, 57: 0.001, 58: 0.001, 60: 0.0004, 62: 0.0004, 63: 0.0013, 64: 0.001, 66: 0.0007, 68: 0.0003, 69: 0.0003, 70: 0.0008, 73: 0.0003, 76: 0.0001, 79: 0.0007, 82: 0.0008, 83: 0.0004, 84: 0.0005, 88: 0.001, 94: 0.1433, 95: 0.1359, 96: 0.101, 97: 0.0601, 98: 0.0801})"
      ]
     },
     "execution_count": 201,
     "metadata": {},
     "output_type": "execute_result"
    }
   ],
   "source": [
    "gbtModel.featureImportances"
   ]
  },
  {
   "cell_type": "code",
   "execution_count": 202,
   "metadata": {
    "ExecuteTime": {
     "end_time": "2023-08-13T11:27:11.643217Z",
     "start_time": "2023-08-13T11:27:11.620155Z"
    },
    "id": "plXYfYYKaMhD"
   },
   "outputs": [
    {
     "name": "stdout",
     "output_type": "stream",
     "text": [
      "GBTClassificationModel: uid = GBTClassifier_7e1dee46fcd8, numTrees=20, numClasses=2, numFeatures=99\n",
      "  Tree 0 (weight 1.0):\n",
      "    If (feature 23 <= 1.0035900941414533)\n",
      "     If (feature 96 <= 1.0012372970722383)\n",
      "      If (feature 95 <= 4.873830618810881)\n",
      "       If (feature 98 <= 3.6074818888073166)\n",
      "        If (feature 43 <= 1.0192656067064028)\n",
      "         Predict: -0.9711654955173249\n",
      "        Else (feature 43 > 1.0192656067064028)\n",
      "         Predict: 0.3333333333333333\n",
      "       Else (feature 98 > 3.6074818888073166)\n",
      "        If (feature 94 <= 3.028403125021806)\n",
      "         Predict: -0.9086918349429324\n",
      "        Else (feature 94 > 3.028403125021806)\n",
      "         Predict: -0.7183770883054893\n",
      "      Else (feature 95 > 4.873830618810881)\n",
      "       If (feature 98 <= 3.5264148800700736)\n",
      "        If (feature 94 <= 2.444614570800735)\n",
      "         Predict: -0.9536019536019537\n",
      "        Else (feature 94 > 2.444614570800735)\n",
      "         Predict: -0.6885644768856448\n",
      "       Else (feature 98 > 3.5264148800700736)\n",
      "        If (feature 94 <= 2.2986674322454674)\n",
      "         Predict: -0.75\n",
      "        Else (feature 94 > 2.2986674322454674)\n",
      "         Predict: -0.24390243902439024\n",
      "     Else (feature 96 > 1.0012372970722383)\n",
      "      If (feature 94 <= 1.4959581701914946)\n",
      "       Predict: -1.0\n",
      "      Else (feature 94 > 1.4959581701914946)\n",
      "       If (feature 94 <= 3.8311123870757795)\n",
      "        Predict: 1.0\n",
      "       Else (feature 94 > 3.8311123870757795)\n",
      "        If (feature 1 <= 1.8805741480684497)\n",
      "         Predict: 0.9393939393939394\n",
      "        Else (feature 1 > 1.8805741480684497)\n",
      "         Predict: 0.3333333333333333\n",
      "    Else (feature 23 > 1.0035900941414533)\n",
      "     If (feature 95 <= 4.873830618810881)\n",
      "      If (feature 96 <= 1.0012372970722383)\n",
      "       If (feature 95 <= 3.7041112702962695)\n",
      "        If (feature 97 <= 4.2863972231385175)\n",
      "         Predict: -0.5371441795880583\n",
      "        Else (feature 97 > 4.2863972231385175)\n",
      "         Predict: 0.3691275167785235\n",
      "       Else (feature 95 > 3.7041112702962695)\n",
      "        If (feature 94 <= 2.444614570800735)\n",
      "         Predict: -0.45454545454545453\n",
      "        Else (feature 94 > 2.444614570800735)\n",
      "         Predict: -0.029934043632673768\n",
      "      Else (feature 96 > 1.0012372970722383)\n",
      "       If (feature 54 <= 3.5925724754976027)\n",
      "        If (feature 94 <= 4.4149009412968505)\n",
      "         Predict: 1.0\n",
      "        Else (feature 94 > 4.4149009412968505)\n",
      "         Predict: 0.7\n",
      "       Else (feature 54 > 3.5925724754976027)\n",
      "        Predict: -1.0\n",
      "     Else (feature 95 > 4.873830618810881)\n",
      "      If (feature 96 <= 1.0012372970722383)\n",
      "       If (feature 97 <= 4.2863972231385175)\n",
      "        If (feature 98 <= 2.472543766485914)\n",
      "         Predict: -0.2894736842105263\n",
      "        Else (feature 98 > 2.472543766485914)\n",
      "         Predict: 0.34904805077062556\n",
      "       Else (feature 97 > 4.2863972231385175)\n",
      "        If (feature 76 <= 13.591102613447678)\n",
      "         Predict: 0.9338235294117647\n",
      "        Else (feature 76 > 13.591102613447678)\n",
      "         Predict: -1.0\n",
      "      Else (feature 96 > 1.0012372970722383)\n",
      "       If (feature 39 <= 2.900952271283373)\n",
      "        If (feature 94 <= 4.852742356962654)\n",
      "         Predict: 1.0\n",
      "        Else (feature 94 > 4.852742356962654)\n",
      "         Predict: 0.9130434782608695\n",
      "       Else (feature 39 > 2.900952271283373)\n",
      "        If (feature 1 <= 1.8805741480684497)\n",
      "         Predict: 1.0\n",
      "        Else (feature 1 > 1.8805741480684497)\n",
      "         Predict: -1.0\n",
      "  Tree 1 (weight 0.1):\n",
      "    If (feature 94 <= 2.1527202936901997)\n",
      "     If (feature 96 <= 1.0012372970722383)\n",
      "      If (feature 97 <= 4.2863972231385175)\n",
      "       If (feature 43 <= 1.0192656067064028)\n",
      "        If (feature 94 <= 2.006773155134932)\n",
      "         Predict: -0.4971054164296725\n",
      "        Else (feature 94 > 2.006773155134932)\n",
      "         Predict: -0.36626048654219884\n",
      "       Else (feature 43 > 1.0192656067064028)\n",
      "        If (feature 95 <= 4.873830618810881)\n",
      "         Predict: -0.544602495844162\n",
      "        Else (feature 95 > 4.873830618810881)\n",
      "         Predict: -1.0199058141118602\n",
      "      Else (feature 97 > 4.2863972231385175)\n",
      "       If (feature 95 <= 3.314204820791399)\n",
      "        If (feature 37 <= 2.3470891347119385)\n",
      "         Predict: -1.1630345839371656\n",
      "        Else (feature 37 > 2.3470891347119385)\n",
      "         Predict: 1.2935433506727207\n",
      "       Else (feature 95 > 3.314204820791399)\n",
      "        If (feature 98 <= 3.283213853858344)\n",
      "         Predict: -0.11542594112051861\n",
      "        Else (feature 98 > 3.283213853858344)\n",
      "         Predict: 0.5386760802814569\n",
      "     Else (feature 96 > 1.0012372970722383)\n",
      "      If (feature 98 <= 2.0672087227996983)\n",
      "       Predict: -0.4768116880884702\n",
      "      Else (feature 98 > 2.0672087227996983)\n",
      "       Predict: 0.4768116880884701\n",
      "    Else (feature 94 > 2.1527202936901997)\n",
      "     If (feature 23 <= 1.0035900941414533)\n",
      "      If (feature 95 <= 5.653643517820622)\n",
      "       If (feature 96 <= 1.0012372970722383)\n",
      "        If (feature 52 <= 1.0601513655442052)\n",
      "         Predict: -0.42616260145550544\n",
      "        Else (feature 52 > 1.0601513655442052)\n",
      "         Predict: -0.218388496882517\n",
      "       Else (feature 96 > 1.0012372970722383)\n",
      "        If (feature 32 <= 1.5564133645376637)\n",
      "         Predict: 0.47785008984617694\n",
      "        Else (feature 32 > 1.5564133645376637)\n",
      "         Predict: 0.18141960221848416\n",
      "      Else (feature 95 > 5.653643517820622)\n",
      "       If (feature 26 <= 2.8408469938568555)\n",
      "        If (feature 97 <= 4.2863972231385175)\n",
      "         Predict: 0.503519060563563\n",
      "        Else (feature 97 > 4.2863972231385175)\n",
      "         Predict: 2.2467672065640336\n",
      "       Else (feature 26 > 2.8408469938568555)\n",
      "        If (feature 2 <= 2.0211210663416637)\n",
      "         Predict: 2.5110864690900963\n",
      "        Else (feature 2 > 2.0211210663416637)\n",
      "         Predict: -0.805881992784883\n",
      "     Else (feature 23 > 1.0035900941414533)\n",
      "      If (feature 30 <= 1.5091992993458365)\n",
      "       If (feature 95 <= 2.9242983712865285)\n",
      "        If (feature 96 <= 0.41290864673390837)\n",
      "         Predict: -0.6206286105010981\n",
      "        Else (feature 96 > 0.41290864673390837)\n",
      "         Predict: 0.3407675300612099\n",
      "       Else (feature 95 > 2.9242983712865285)\n",
      "        If (feature 96 <= 0.3227172227758447)\n",
      "         Predict: -0.011065995385323343\n",
      "        Else (feature 96 > 0.3227172227758447)\n",
      "         Predict: 0.5391398433708127\n",
      "      Else (feature 30 > 1.5091992993458365)\n",
      "       If (feature 1 <= 1.8805741480684497)\n",
      "        If (feature 8 <= 1.0695035626828624)\n",
      "         Predict: 0.5635331092146993\n",
      "        Else (feature 8 > 1.0695035626828624)\n",
      "         Predict: 1.0249033134490992\n",
      "       Else (feature 1 > 1.8805741480684497)\n",
      "        If (feature 97 <= 3.6805634300376413)\n",
      "         Predict: -0.2857094221769871\n",
      "        Else (feature 97 > 3.6805634300376413)\n",
      "         Predict: 0.9840643599875724\n",
      "  Tree 2 (weight 0.1):\n",
      "    If (feature 23 <= 1.0035900941414533)\n",
      "     If (feature 95 <= 5.263737068315751)\n",
      "      If (feature 96 <= 1.0012372970722383)\n",
      "       If (feature 97 <= 3.747057382938957)\n",
      "        If (feature 30 <= 1.5091992993458365)\n",
      "         Predict: -0.40238382867219347\n",
      "        Else (feature 30 > 1.5091992993458365)\n",
      "         Predict: -0.20189263858150963\n",
      "       Else (feature 97 > 3.747057382938957)\n",
      "        If (feature 97 <= 3.862806115767173)\n",
      "         Predict: 3.1402569571800325\n",
      "        Else (feature 97 > 3.862806115767173)\n",
      "         Predict: -0.1276211510695947\n",
      "      Else (feature 96 > 1.0012372970722383)\n",
      "       If (feature 94 <= 1.4959581701914946)\n",
      "        Predict: -0.4381935810427206\n",
      "       Else (feature 94 > 1.4959581701914946)\n",
      "        If (feature 32 <= 1.5564133645376637)\n",
      "         Predict: 0.4343023512291478\n",
      "        Else (feature 32 > 1.5564133645376637)\n",
      "         Predict: 0.16424486536788407\n",
      "     Else (feature 95 > 5.263737068315751)\n",
      "      If (feature 30 <= 1.5091992993458365)\n",
      "       If (feature 11 <= 2.241715919048179)\n",
      "        If (feature 1 <= 1.8805741480684497)\n",
      "         Predict: 0.20786965845220504\n",
      "        Else (feature 1 > 1.8805741480684497)\n",
      "         Predict: 1.3394689819803756\n",
      "       Else (feature 11 > 2.241715919048179)\n",
      "        If (feature 96 <= 0.41290864673390837)\n",
      "         Predict: -0.28644475099205985\n",
      "        Else (feature 96 > 0.41290864673390837)\n",
      "         Predict: 0.47328294104074614\n",
      "      Else (feature 30 > 1.5091992993458365)\n",
      "       If (feature 97 <= 0.9136761676440046)\n",
      "        If (feature 94 <= 3.247323832854708)\n",
      "         Predict: 0.15048339122339868\n",
      "        Else (feature 94 > 3.247323832854708)\n",
      "         Predict: 1.1200873519476646\n",
      "       Else (feature 97 > 0.9136761676440046)\n",
      "        If (feature 98 <= 3.283213853858344)\n",
      "         Predict: 3.3748726612440336\n",
      "        Else (feature 98 > 3.283213853858344)\n",
      "         Predict: 2.2788810162946973\n",
      "    Else (feature 23 > 1.0035900941414533)\n",
      "     If (feature 98 <= 3.3642808625955873)\n",
      "      If (feature 94 <= 2.663535278633637)\n",
      "       If (feature 94 <= 1.7878524473020305)\n",
      "        If (feature 10 <= 1.3537338657788678)\n",
      "         Predict: -0.8780955741493299\n",
      "        Else (feature 10 > 1.3537338657788678)\n",
      "         Predict: -2.136149830928792\n",
      "       Else (feature 94 > 1.7878524473020305)\n",
      "        If (feature 96 <= 0.3190116323564378)\n",
      "         Predict: -0.4039612603418147\n",
      "        Else (feature 96 > 0.3190116323564378)\n",
      "         Predict: 0.363944062116526\n",
      "      Else (feature 94 > 2.663535278633637)\n",
      "       If (feature 98 <= 2.796811801434886)\n",
      "        If (feature 95 <= 4.48392416930601)\n",
      "         Predict: -0.7108179583769695\n",
      "        Else (feature 95 > 4.48392416930601)\n",
      "         Predict: 0.07772676365349739\n",
      "       Else (feature 98 > 2.796811801434886)\n",
      "        If (feature 95 <= 2.9242983712865285)\n",
      "         Predict: -0.4384742213797422\n",
      "        Else (feature 95 > 2.9242983712865285)\n",
      "         Predict: 0.14721706305499177\n",
      "     Else (feature 98 > 3.3642808625955873)\n",
      "      If (feature 39 <= 2.900952271283373)\n",
      "       If (feature 94 <= 2.2986674322454674)\n",
      "        If (feature 44 <= 1.149283736719202)\n",
      "         Predict: -0.1685298770589076\n",
      "        Else (feature 44 > 1.149283736719202)\n",
      "         Predict: 2.9141270447103267\n",
      "       Else (feature 94 > 2.2986674322454674)\n",
      "        If (feature 34 <= 1.6508711694001317)\n",
      "         Predict: 0.41139903221434415\n",
      "        Else (feature 34 > 1.6508711694001317)\n",
      "         Predict: -0.5822880898839539\n",
      "      Else (feature 39 > 2.900952271283373)\n",
      "       If (feature 95 <= 3.7041112702962695)\n",
      "        If (feature 98 <= 4.093883941230775)\n",
      "         Predict: -0.702384208764088\n",
      "        Else (feature 98 > 4.093883941230775)\n",
      "         Predict: -0.02161643663440448\n",
      "       Else (feature 95 > 3.7041112702962695)\n",
      "        If (feature 1 <= 1.8805741480684497)\n",
      "         Predict: -0.47524221372646874\n",
      "        Else (feature 1 > 1.8805741480684497)\n",
      "         Predict: -1.3532977875196872\n",
      "  Tree 3 (weight 0.1):\n",
      "    If (feature 23 <= 1.0035900941414533)\n",
      "     If (feature 95 <= 5.263737068315751)\n",
      "      If (feature 96 <= 1.0012372970722383)\n",
      "       If (feature 94 <= 2.006773155134932)\n",
      "        If (feature 47 <= 2.350163942221254)\n",
      "         Predict: -0.4171220786732621\n",
      "        Else (feature 47 > 2.350163942221254)\n",
      "         Predict: 1.5687782179264786\n",
      "       Else (feature 94 > 2.006773155134932)\n",
      "        If (feature 52 <= 1.0601513655442052)\n",
      "         Predict: -0.36549095778552587\n",
      "        Else (feature 52 > 1.0601513655442052)\n",
      "         Predict: -0.1966674187710579\n",
      "      Else (feature 96 > 1.0012372970722383)\n",
      "       If (feature 94 <= 1.4959581701914946)\n",
      "        Predict: -0.40514968028459836\n",
      "       Else (feature 94 > 1.4959581701914946)\n",
      "        If (feature 98 <= 2.472543766485914)\n",
      "         Predict: 0.7592655093393832\n",
      "        Else (feature 98 > 2.472543766485914)\n",
      "         Predict: 0.36027725988984316\n",
      "     Else (feature 95 > 5.263737068315751)\n",
      "      If (feature 30 <= 1.5091992993458365)\n",
      "       If (feature 11 <= 2.241715919048179)\n",
      "        If (feature 94 <= 2.2986674322454674)\n",
      "         Predict: -0.3177430875639204\n",
      "        Else (feature 94 > 2.2986674322454674)\n",
      "         Predict: 0.5272376378148906\n",
      "       Else (feature 11 > 2.241715919048179)\n",
      "        If (feature 96 <= 0.41290864673390837)\n",
      "         Predict: -0.25003389079134236\n",
      "        Else (feature 96 > 0.41290864673390837)\n",
      "         Predict: 0.4252850462806511\n",
      "      Else (feature 30 > 1.5091992993458365)\n",
      "       If (feature 98 <= 3.202146845121101)\n",
      "        If (feature 6 <= 2.898950698586086)\n",
      "         Predict: -0.7817346443870266\n",
      "        Else (feature 6 > 2.898950698586086)\n",
      "         Predict: 2.9649478802501577\n",
      "       Else (feature 98 > 3.202146845121101)\n",
      "        If (feature 94 <= 3.247323832854708)\n",
      "         Predict: 0.3479987182325013\n",
      "        Else (feature 94 > 3.247323832854708)\n",
      "         Predict: 1.3049761342705\n",
      "    Else (feature 23 > 1.0035900941414533)\n",
      "     If (feature 30 <= 1.5091992993458365)\n",
      "      If (feature 96 <= 0.3227172227758447)\n",
      "       If (feature 34 <= 1.6508711694001317)\n",
      "        If (feature 95 <= 2.9242983712865285)\n",
      "         Predict: -0.5000100999037442\n",
      "        Else (feature 95 > 2.9242983712865285)\n",
      "         Predict: -0.03848956075581924\n",
      "       Else (feature 34 > 1.6508711694001317)\n",
      "        If (feature 95 <= 3.7041112702962695)\n",
      "         Predict: -0.5628986277759686\n",
      "        Else (feature 95 > 3.7041112702962695)\n",
      "         Predict: -1.0783074483272004\n",
      "      Else (feature 96 > 0.3227172227758447)\n",
      "       If (feature 98 <= 2.472543766485914)\n",
      "        If (feature 96 <= 1.0012372970722383)\n",
      "         Predict: -0.6165645011792814\n",
      "        Else (feature 96 > 1.0012372970722383)\n",
      "         Predict: 0.5098211590385375\n",
      "       Else (feature 98 > 2.472543766485914)\n",
      "        If (feature 95 <= 4.873830618810881)\n",
      "         Predict: 0.5676496882376546\n",
      "        Else (feature 95 > 4.873830618810881)\n",
      "         Predict: 0.282907192954556\n",
      "     Else (feature 30 > 1.5091992993458365)\n",
      "      If (feature 1 <= 1.8805741480684497)\n",
      "       If (feature 94 <= 2.1527202936901997)\n",
      "        If (feature 94 <= 1.7878524473020305)\n",
      "         Predict: -1.0607613382821381\n",
      "        Else (feature 94 > 1.7878524473020305)\n",
      "         Predict: -0.03643159863716\n",
      "       Else (feature 94 > 2.1527202936901997)\n",
      "        If (feature 8 <= 1.0695035626828624)\n",
      "         Predict: 0.4389922259565773\n",
      "        Else (feature 8 > 1.0695035626828624)\n",
      "         Predict: 0.8448244592249867\n",
      "      Else (feature 1 > 1.8805741480684497)\n",
      "       If (feature 97 <= 3.6805634300376413)\n",
      "        If (feature 96 <= 0.30564503834357737)\n",
      "         Predict: -0.34042695284973\n",
      "        Else (feature 96 > 0.30564503834357737)\n",
      "         Predict: 0.647870462964317\n",
      "       Else (feature 97 > 3.6805634300376413)\n",
      "        If (feature 95 <= 4.09401771980114)\n",
      "         Predict: 1.2341061513319473\n",
      "        Else (feature 95 > 4.09401771980114)\n",
      "         Predict: 0.4346520236526717\n",
      "  Tree 4 (weight 0.1):\n",
      "    If (feature 94 <= 2.1527202936901997)\n",
      "     If (feature 96 <= 1.0012372970722383)\n",
      "      If (feature 47 <= 2.350163942221254)\n",
      "       If (feature 97 <= 4.2863972231385175)\n",
      "        If (feature 88 <= 20.979388613749705)\n",
      "         Predict: -0.39390026497829367\n",
      "        Else (feature 88 > 20.979388613749705)\n",
      "         Predict: 3.1856381641300686\n",
      "       Else (feature 97 > 4.2863972231385175)\n",
      "        If (feature 98 <= 3.283213853858344)\n",
      "         Predict: -0.17947254163801518\n",
      "        Else (feature 98 > 3.283213853858344)\n",
      "         Predict: 0.5202391318606413\n",
      "      Else (feature 47 > 2.350163942221254)\n",
      "       If (feature 95 <= 4.09401771980114)\n",
      "        If (feature 66 <= 10.117641721103137)\n",
      "         Predict: -0.43712450299287275\n",
      "        Else (feature 66 > 10.117641721103137)\n",
      "         Predict: 3.099489322727287\n",
      "       Else (feature 95 > 4.09401771980114)\n",
      "        If (feature 51 <= 5.267359064673626)\n",
      "         Predict: 0.35605063640464074\n",
      "        Else (feature 51 > 5.267359064673626)\n",
      "         Predict: 2.9809134484455413\n",
      "     Else (feature 96 > 1.0012372970722383)\n",
      "      If (feature 98 <= 2.0672087227996983)\n",
      "       If (feature 23 <= 1.0035900941414533)\n",
      "        Predict: -0.3765841318352991\n",
      "       Else (feature 23 > 1.0035900941414533)\n",
      "        Predict: -0.5111745503937395\n",
      "      Else (feature 98 > 2.0672087227996983)\n",
      "       If (feature 19 <= 4.387671509666606)\n",
      "        If (feature 43 <= 1.0192656067064028)\n",
      "         Predict: 0.3796833669767583\n",
      "        Else (feature 43 > 1.0192656067064028)\n",
      "         Predict: 0.40441025642202455\n",
      "       Else (feature 19 > 4.387671509666606)\n",
      "        Predict: 0.4630139096804733\n",
      "    Else (feature 94 > 2.1527202936901997)\n",
      "     If (feature 98 <= 3.3642808625955873)\n",
      "      If (feature 96 <= 0.3227172227758447)\n",
      "       If (feature 47 <= 2.350163942221254)\n",
      "        If (feature 98 <= 2.877878810172129)\n",
      "         Predict: -0.4318162689924152\n",
      "        Else (feature 98 > 2.877878810172129)\n",
      "         Predict: -0.16204448322926973\n",
      "       Else (feature 47 > 2.350163942221254)\n",
      "        If (feature 34 <= 1.6508711694001317)\n",
      "         Predict: 0.3143762847420386\n",
      "        Else (feature 34 > 1.6508711694001317)\n",
      "         Predict: -0.39317190573078337\n",
      "      Else (feature 96 > 0.3227172227758447)\n",
      "       If (feature 98 <= 2.472543766485914)\n",
      "        If (feature 96 <= 1.0012372970722383)\n",
      "         Predict: -0.4800433934628059\n",
      "        Else (feature 96 > 1.0012372970722383)\n",
      "         Predict: 0.5457684871893758\n",
      "       Else (feature 98 > 2.472543766485914)\n",
      "        If (feature 16 <= 3.612206575100408)\n",
      "         Predict: 0.31463966519471587\n",
      "        Else (feature 16 > 3.612206575100408)\n",
      "         Predict: -0.6283272912527001\n",
      "     Else (feature 98 > 3.3642808625955873)\n",
      "      If (feature 43 <= 1.0192656067064028)\n",
      "       If (feature 97 <= 3.747057382938957)\n",
      "        If (feature 95 <= 3.7041112702962695)\n",
      "         Predict: -0.289751746675085\n",
      "        Else (feature 95 > 3.7041112702962695)\n",
      "         Predict: -0.012356639253097072\n",
      "       Else (feature 97 > 3.747057382938957)\n",
      "        If (feature 97 <= 3.862806115767173)\n",
      "         Predict: 2.423264565863412\n",
      "        Else (feature 97 > 3.862806115767173)\n",
      "         Predict: 0.48142899931561906\n",
      "      Else (feature 43 > 1.0192656067064028)\n",
      "       If (feature 39 <= 2.900952271283373)\n",
      "        If (feature 1 <= 1.8805741480684497)\n",
      "         Predict: 0.36223771488191575\n",
      "        Else (feature 1 > 1.8805741480684497)\n",
      "         Predict: -0.05333475200614151\n",
      "       Else (feature 39 > 2.900952271283373)\n",
      "        If (feature 95 <= 3.7041112702962695)\n",
      "         Predict: -0.18291472046688984\n",
      "        Else (feature 95 > 3.7041112702962695)\n",
      "         Predict: -0.8614813121144048\n",
      "  Tree 5 (weight 0.1):\n",
      "    If (feature 23 <= 1.0035900941414533)\n",
      "     If (feature 95 <= 5.263737068315751)\n",
      "      If (feature 96 <= 1.0012372970722383)\n",
      "       If (feature 98 <= 3.7696159062818024)\n",
      "        If (feature 47 <= 2.350163942221254)\n",
      "         Predict: -0.3187956527349684\n",
      "        Else (feature 47 > 2.350163942221254)\n",
      "         Predict: 1.304516198923213\n",
      "       Else (feature 98 > 3.7696159062818024)\n",
      "        If (feature 94 <= 2.006773155134932)\n",
      "         Predict: -0.35220001867822476\n",
      "        Else (feature 94 > 2.006773155134932)\n",
      "         Predict: -0.07266655847378561\n",
      "      Else (feature 96 > 1.0012372970722383)\n",
      "       If (feature 98 <= 2.877878810172129)\n",
      "        If (feature 32 <= 1.5564133645376637)\n",
      "         Predict: 0.2711751677081762\n",
      "        Else (feature 32 > 1.5564133645376637)\n",
      "         Predict: -0.9354951860835463\n",
      "       Else (feature 98 > 2.877878810172129)\n",
      "        If (feature 1 <= 1.8805741480684497)\n",
      "         Predict: 0.37927420978781956\n",
      "        Else (feature 1 > 1.8805741480684497)\n",
      "         Predict: 0.019942531803770355\n",
      "     Else (feature 95 > 5.263737068315751)\n",
      "      If (feature 30 <= 1.5091992993458365)\n",
      "       If (feature 11 <= 2.241715919048179)\n",
      "        If (feature 1 <= 1.8805741480684497)\n",
      "         Predict: 0.13513650681367254\n",
      "        Else (feature 1 > 1.8805741480684497)\n",
      "         Predict: 1.0660046414189244\n",
      "       Else (feature 11 > 2.241715919048179)\n",
      "        If (feature 96 <= 0.41290864673390837)\n",
      "         Predict: -0.20016839015800547\n",
      "        Else (feature 96 > 0.41290864673390837)\n",
      "         Predict: 0.372844005715537\n",
      "      Else (feature 30 > 1.5091992993458365)\n",
      "       If (feature 94 <= 2.225693862967834)\n",
      "        If (feature 98 <= 3.5264148800700736)\n",
      "         Predict: -0.45756506883149406\n",
      "        Else (feature 98 > 3.5264148800700736)\n",
      "         Predict: -0.7272572271796516\n",
      "       Else (feature 94 > 2.225693862967834)\n",
      "        If (feature 98 <= 3.202146845121101)\n",
      "         Predict: -0.4709591053556431\n",
      "        Else (feature 98 > 3.202146845121101)\n",
      "         Predict: 0.7463356094928711\n",
      "    Else (feature 23 > 1.0035900941414533)\n",
      "     If (feature 94 <= 2.5905617093560034)\n",
      "      If (feature 94 <= 1.7878524473020305)\n",
      "       If (feature 10 <= 1.3537338657788678)\n",
      "        If (feature 98 <= 3.6885488975445595)\n",
      "         Predict: -0.6936224087367049\n",
      "        Else (feature 98 > 3.6885488975445595)\n",
      "         Predict: -0.1245680095595436\n",
      "       Else (feature 10 > 1.3537338657788678)\n",
      "        If (feature 62 <= 9.11743149204179)\n",
      "         Predict: -1.6382138720994541\n",
      "        Else (feature 62 > 9.11743149204179)\n",
      "         Predict: 1.8309278426473483\n",
      "      Else (feature 94 > 1.7878524473020305)\n",
      "       If (feature 95 <= 3.314204820791399)\n",
      "        If (feature 84 <= 18.911806208005913)\n",
      "         Predict: -0.6403950534061588\n",
      "        Else (feature 84 > 18.911806208005913)\n",
      "         Predict: 3.1542839295528893\n",
      "       Else (feature 95 > 3.314204820791399)\n",
      "        If (feature 96 <= 0.3190116323564378)\n",
      "         Predict: -0.15242116886015414\n",
      "        Else (feature 96 > 0.3190116323564378)\n",
      "         Predict: 0.3380435686893351\n",
      "     Else (feature 94 > 2.5905617093560034)\n",
      "      If (feature 98 <= 2.796811801434886)\n",
      "       If (feature 95 <= 4.48392416930601)\n",
      "        If (feature 47 <= 2.350163942221254)\n",
      "         Predict: -0.6748821355442162\n",
      "        Else (feature 47 > 2.350163942221254)\n",
      "         Predict: -0.030269511919467158\n",
      "       Else (feature 95 > 4.48392416930601)\n",
      "        If (feature 40 <= 2.9803757253708567)\n",
      "         Predict: 0.0663441031316426\n",
      "        Else (feature 40 > 2.9803757253708567)\n",
      "         Predict: 2.10668259920627\n",
      "      Else (feature 98 > 2.796811801434886)\n",
      "       If (feature 34 <= 1.6508711694001317)\n",
      "        If (feature 39 <= 2.900952271283373)\n",
      "         Predict: 0.2002269986179374\n",
      "        Else (feature 39 > 2.900952271283373)\n",
      "         Predict: -0.5105167636814586\n",
      "       Else (feature 34 > 1.6508711694001317)\n",
      "        If (feature 95 <= 3.7041112702962695)\n",
      "         Predict: -0.30383526988774157\n",
      "        Else (feature 95 > 3.7041112702962695)\n",
      "         Predict: -1.1480556348359676\n",
      "  Tree 6 (weight 0.1):\n",
      "    If (feature 23 <= 1.0035900941414533)\n",
      "     If (feature 95 <= 4.873830618810881)\n",
      "      If (feature 97 <= 4.2863972231385175)\n",
      "       If (feature 96 <= 1.0012372970722383)\n",
      "        If (feature 31 <= 1.5160103368044824)\n",
      "         Predict: -0.3048876501003682\n",
      "        Else (feature 31 > 1.5160103368044824)\n",
      "         Predict: -0.0919613164225263\n",
      "       Else (feature 96 > 1.0012372970722383)\n",
      "        If (feature 98 <= 2.877878810172129)\n",
      "         Predict: -0.22933002437303518\n",
      "        Else (feature 98 > 2.877878810172129)\n",
      "         Predict: 0.3159038894011561\n",
      "      Else (feature 97 > 4.2863972231385175)\n",
      "       If (feature 94 <= 2.663535278633637)\n",
      "        If (feature 41 <= 3.588684996235986)\n",
      "         Predict: -0.35557623877154226\n",
      "        Else (feature 41 > 3.588684996235986)\n",
      "         Predict: 0.5849534124792708\n",
      "       Else (feature 94 > 2.663535278633637)\n",
      "        If (feature 98 <= 4.904554028603206)\n",
      "         Predict: 0.41107906567557867\n",
      "        Else (feature 98 > 4.904554028603206)\n",
      "         Predict: 3.310885328438876\n",
      "     Else (feature 95 > 4.873830618810881)\n",
      "      If (feature 52 <= 1.0601513655442052)\n",
      "       If (feature 47 <= 2.350163942221254)\n",
      "        If (feature 96 <= 0.41290864673390837)\n",
      "         Predict: -0.27338531795168647\n",
      "        Else (feature 96 > 0.41290864673390837)\n",
      "         Predict: 0.2974376807239485\n",
      "       Else (feature 47 > 2.350163942221254)\n",
      "        If (feature 30 <= 1.5091992993458365)\n",
      "         Predict: 3.2345819062682866\n",
      "        Else (feature 30 > 1.5091992993458365)\n",
      "         Predict: 3.423841007416236\n",
      "      Else (feature 52 > 1.0601513655442052)\n",
      "       If (feature 94 <= 2.0797467244125656)\n",
      "        If (feature 1 <= 1.8805741480684497)\n",
      "         Predict: -0.2844474307674836\n",
      "        Else (feature 1 > 1.8805741480684497)\n",
      "         Predict: 0.3180188314539656\n",
      "       Else (feature 94 > 2.0797467244125656)\n",
      "        If (feature 6 <= 2.898950698586086)\n",
      "         Predict: 0.1571265816422059\n",
      "        Else (feature 6 > 2.898950698586086)\n",
      "         Predict: 0.9378744808947715\n",
      "    Else (feature 23 > 1.0035900941414533)\n",
      "     If (feature 30 <= 1.5091992993458365)\n",
      "      If (feature 96 <= 0.3227172227758447)\n",
      "       If (feature 97 <= 4.2863972231385175)\n",
      "        If (feature 97 <= 3.6805634300376413)\n",
      "         Predict: -0.1179202023508935\n",
      "        Else (feature 97 > 3.6805634300376413)\n",
      "         Predict: -1.277894342206955\n",
      "       Else (feature 97 > 4.2863972231385175)\n",
      "        If (feature 9 <= 1.1967551200643087)\n",
      "         Predict: 0.25070100421951375\n",
      "        Else (feature 9 > 1.1967551200643087)\n",
      "         Predict: 1.3415102558227892\n",
      "      Else (feature 96 > 0.3227172227758447)\n",
      "       If (feature 98 <= 2.472543766485914)\n",
      "        If (feature 96 <= 1.0012372970722383)\n",
      "         Predict: -0.3996013194735514\n",
      "        Else (feature 96 > 1.0012372970722383)\n",
      "         Predict: 0.43877052025289914\n",
      "       Else (feature 98 > 2.472543766485914)\n",
      "        If (feature 95 <= 2.534391921781658)\n",
      "         Predict: -0.1751523371314858\n",
      "        Else (feature 95 > 2.534391921781658)\n",
      "         Predict: 0.37915441748063206\n",
      "     Else (feature 30 > 1.5091992993458365)\n",
      "      If (feature 1 <= 1.8805741480684497)\n",
      "       If (feature 98 <= 3.9317499237562887)\n",
      "        If (feature 8 <= 1.0695035626828624)\n",
      "         Predict: 0.14376592290351559\n",
      "        Else (feature 8 > 1.0695035626828624)\n",
      "         Predict: 0.6722138771591147\n",
      "       Else (feature 98 > 3.9317499237562887)\n",
      "        If (feature 12 <= 2.4407339234471292)\n",
      "         Predict: 0.4865637373837373\n",
      "        Else (feature 12 > 2.4407339234471292)\n",
      "         Predict: 1.4126522107338682\n",
      "      Else (feature 1 > 1.8805741480684497)\n",
      "       If (feature 97 <= 3.6805634300376413)\n",
      "        If (feature 48 <= 1.4164572059319427)\n",
      "         Predict: -0.9697271708812426\n",
      "        Else (feature 48 > 1.4164572059319427)\n",
      "         Predict: -0.10960866412065862\n",
      "       Else (feature 97 > 3.6805634300376413)\n",
      "        If (feature 9 <= 1.1967551200643087)\n",
      "         Predict: 0.6161691724670442\n",
      "        Else (feature 9 > 1.1967551200643087)\n",
      "         Predict: 1.7824976635861303\n",
      "  Tree 7 (weight 0.1):\n",
      "    If (feature 94 <= 2.0797467244125656)\n",
      "     If (feature 47 <= 2.350163942221254)\n",
      "      If (feature 98 <= 5.228822063552178)\n",
      "       If (feature 88 <= 20.979388613749705)\n",
      "        If (feature 96 <= 1.0012372970722383)\n",
      "         Predict: -0.33201053191788854\n",
      "        Else (feature 96 > 1.0012372970722383)\n",
      "         Predict: 0.24434957341456992\n",
      "       Else (feature 88 > 20.979388613749705)\n",
      "        Predict: 2.8260771238763027\n",
      "      Else (feature 98 > 5.228822063552178)\n",
      "       If (feature 50 <= 2.835235488466264)\n",
      "        If (feature 30 <= 1.5091992993458365)\n",
      "         Predict: -0.1826182378538488\n",
      "        Else (feature 30 > 1.5091992993458365)\n",
      "         Predict: 0.8558400379873505\n",
      "       Else (feature 50 > 2.835235488466264)\n",
      "        Predict: 3.632483461247874\n",
      "     Else (feature 47 > 2.350163942221254)\n",
      "      If (feature 95 <= 3.7041112702962695)\n",
      "       If (feature 98 <= 4.093883941230775)\n",
      "        If (feature 97 <= 3.9022099397086936)\n",
      "         Predict: -0.5426369211974773\n",
      "        Else (feature 97 > 3.9022099397086936)\n",
      "         Predict: 1.4551981165976002\n",
      "       Else (feature 98 > 4.093883941230775)\n",
      "        Predict: 3.180830449068626\n",
      "      Else (feature 95 > 3.7041112702962695)\n",
      "       If (feature 4 <= 2.5786728776078207)\n",
      "        If (feature 98 <= 1.5808066703762398)\n",
      "         Predict: -0.974260009502307\n",
      "        Else (feature 98 > 1.5808066703762398)\n",
      "         Predict: 0.3784683026497705\n",
      "       Else (feature 4 > 2.5786728776078207)\n",
      "        If (feature 11 <= 2.241715919048179)\n",
      "         Predict: -1.1809406596075853\n",
      "        Else (feature 11 > 2.241715919048179)\n",
      "         Predict: 1.4168422382627064\n",
      "    Else (feature 94 > 2.0797467244125656)\n",
      "     If (feature 98 <= 3.3642808625955873)\n",
      "      If (feature 31 <= 1.5160103368044824)\n",
      "       If (feature 30 <= 1.5091992993458365)\n",
      "        If (feature 96 <= 0.3227172227758447)\n",
      "         Predict: -0.22953175563920045\n",
      "        Else (feature 96 > 0.3227172227758447)\n",
      "         Predict: 0.13672478933318533\n",
      "       Else (feature 30 > 1.5091992993458365)\n",
      "        If (feature 97 <= 4.2863972231385175)\n",
      "         Predict: 0.05535580407775564\n",
      "        Else (feature 97 > 4.2863972231385175)\n",
      "         Predict: 0.7158488116796029\n",
      "      Else (feature 31 > 1.5160103368044824)\n",
      "       If (feature 10 <= 1.3537338657788678)\n",
      "        If (feature 23 <= 1.0035900941414533)\n",
      "         Predict: 0.05663659181221324\n",
      "        Else (feature 23 > 1.0035900941414533)\n",
      "         Predict: 0.43173601486122093\n",
      "       Else (feature 10 > 1.3537338657788678)\n",
      "        If (feature 0 <= 1.08794593549784)\n",
      "         Predict: -0.26842130919170687\n",
      "        Else (feature 0 > 1.08794593549784)\n",
      "         Predict: 0.10017442738673056\n",
      "     Else (feature 98 > 3.3642808625955873)\n",
      "      If (feature 52 <= 1.0601513655442052)\n",
      "       If (feature 95 <= 5.653643517820622)\n",
      "        If (feature 96 <= 0.2931386706780792)\n",
      "         Predict: -0.24944888533278403\n",
      "        Else (feature 96 > 0.2931386706780792)\n",
      "         Predict: 0.3217935662173825\n",
      "       Else (feature 95 > 5.653643517820622)\n",
      "        If (feature 98 <= 4.904554028603206)\n",
      "         Predict: 0.782246250651058\n",
      "        Else (feature 98 > 4.904554028603206)\n",
      "         Predict: -0.36032715979283725\n",
      "      Else (feature 52 > 1.0601513655442052)\n",
      "       If (feature 39 <= 2.900952271283373)\n",
      "        If (feature 30 <= 1.5091992993458365)\n",
      "         Predict: 0.1335712592287775\n",
      "        Else (feature 30 > 1.5091992993458365)\n",
      "         Predict: 0.38458524857942183\n",
      "       Else (feature 39 > 2.900952271283373)\n",
      "        If (feature 97 <= 4.1755739683029915)\n",
      "         Predict: -0.3590724417840642\n",
      "        Else (feature 97 > 4.1755739683029915)\n",
      "         Predict: 1.1547532615141105\n",
      "  Tree 8 (weight 0.1):\n",
      "    If (feature 23 <= 1.0035900941414533)\n",
      "     If (feature 95 <= 4.48392416930601)\n",
      "      If (feature 97 <= 4.2863972231385175)\n",
      "       If (feature 96 <= 1.0012372970722383)\n",
      "        If (feature 25 <= 1.4599784308832806)\n",
      "         Predict: -0.2887893539333768\n",
      "        Else (feature 25 > 1.4599784308832806)\n",
      "         Predict: -0.19328740829763275\n",
      "       Else (feature 96 > 1.0012372970722383)\n",
      "        If (feature 98 <= 2.877878810172129)\n",
      "         Predict: -0.2237179896149124\n",
      "        Else (feature 98 > 2.877878810172129)\n",
      "         Predict: 0.27809541261350157\n",
      "      Else (feature 97 > 4.2863972231385175)\n",
      "       If (feature 5 <= 2.7533341557039197)\n",
      "        If (feature 94 <= 2.663535278633637)\n",
      "         Predict: -0.24606303928428722\n",
      "        Else (feature 94 > 2.663535278633637)\n",
      "         Predict: 0.40983818390197996\n",
      "       Else (feature 5 > 2.7533341557039197)\n",
      "        If (feature 9 <= 1.1967551200643087)\n",
      "         Predict: 3.387932888821563\n",
      "        Else (feature 9 > 1.1967551200643087)\n",
      "         Predict: -0.8204727929604019\n",
      "     Else (feature 95 > 4.48392416930601)\n",
      "      If (feature 52 <= 1.0601513655442052)\n",
      "       If (feature 97 <= 3.747057382938957)\n",
      "        If (feature 96 <= 0.41290864673390837)\n",
      "         Predict: -0.24933760835907465\n",
      "        Else (feature 96 > 0.41290864673390837)\n",
      "         Predict: 0.22667599965968402\n",
      "       Else (feature 97 > 3.747057382938957)\n",
      "        If (feature 97 <= 3.862806115767173)\n",
      "         Predict: 2.3370216193241697\n",
      "        Else (feature 97 > 3.862806115767173)\n",
      "         Predict: 0.04778623045850735\n",
      "      Else (feature 52 > 1.0601513655442052)\n",
      "       If (feature 94 <= 2.006773155134932)\n",
      "        If (feature 26 <= 2.8408469938568555)\n",
      "         Predict: -0.26105104166080073\n",
      "        Else (feature 26 > 2.8408469938568555)\n",
      "         Predict: 0.7952055456659153\n",
      "       Else (feature 94 > 2.006773155134932)\n",
      "        If (feature 98 <= 3.9317499237562887)\n",
      "         Predict: 0.027176618597822656\n",
      "        Else (feature 98 > 3.9317499237562887)\n",
      "         Predict: 0.38526536138652134\n",
      "    Else (feature 23 > 1.0035900941414533)\n",
      "     If (feature 95 <= 2.9242983712865285)\n",
      "      If (feature 96 <= 0.41290864673390837)\n",
      "       If (feature 5 <= 2.7533341557039197)\n",
      "        If (feature 15 <= 2.9847468366136733)\n",
      "         Predict: -0.4507278342047674\n",
      "        Else (feature 15 > 2.9847468366136733)\n",
      "         Predict: -0.20328877761077774\n",
      "       Else (feature 5 > 2.7533341557039197)\n",
      "        If (feature 29 <= 1.4976626128584876)\n",
      "         Predict: -0.2637344518998087\n",
      "        Else (feature 29 > 1.4976626128584876)\n",
      "         Predict: 1.7920630643196034\n",
      "      Else (feature 96 > 0.41290864673390837)\n",
      "       If (feature 94 <= 3.247323832854708)\n",
      "        If (feature 73 <= 11.820577299756357)\n",
      "         Predict: -0.33324256192641216\n",
      "        Else (feature 73 > 11.820577299756357)\n",
      "         Predict: 3.070051491023558\n",
      "       Else (feature 94 > 3.247323832854708)\n",
      "        If (feature 37 <= 2.3470891347119385)\n",
      "         Predict: 0.8848431528016177\n",
      "        Else (feature 37 > 2.3470891347119385)\n",
      "         Predict: -2.2357483777055247\n",
      "     Else (feature 95 > 2.9242983712865285)\n",
      "      If (feature 94 <= 2.663535278633637)\n",
      "       If (feature 94 <= 1.7878524473020305)\n",
      "        If (feature 37 <= 2.3470891347119385)\n",
      "         Predict: -0.5875366538469352\n",
      "        Else (feature 37 > 2.3470891347119385)\n",
      "         Predict: 0.4096756329878275\n",
      "       Else (feature 94 > 1.7878524473020305)\n",
      "        If (feature 97 <= 4.2863972231385175)\n",
      "         Predict: -0.1072010183466277\n",
      "        Else (feature 97 > 4.2863972231385175)\n",
      "         Predict: 0.46966494975911005\n",
      "      Else (feature 94 > 2.663535278633637)\n",
      "       If (feature 1 <= 1.8805741480684497)\n",
      "        If (feature 94 <= 4.4149009412968505)\n",
      "         Predict: 0.2260741024278764\n",
      "        Else (feature 94 > 4.4149009412968505)\n",
      "         Predict: -0.16965565916247355\n",
      "       Else (feature 1 > 1.8805741480684497)\n",
      "        If (feature 9 <= 1.1967551200643087)\n",
      "         Predict: -0.09783402743174163\n",
      "        Else (feature 9 > 1.1967551200643087)\n",
      "         Predict: -0.6317797525055034\n",
      "  Tree 9 (weight 0.1):\n",
      "    If (feature 23 <= 1.0035900941414533)\n",
      "     If (feature 30 <= 1.5091992993458365)\n",
      "      If (feature 31 <= 1.5160103368044824)\n",
      "       If (feature 96 <= 1.0012372970722383)\n",
      "        If (feature 97 <= 4.2863972231385175)\n",
      "         Predict: -0.2584941406893087\n",
      "        Else (feature 97 > 4.2863972231385175)\n",
      "         Predict: 0.06437241061736579\n",
      "       Else (feature 96 > 1.0012372970722383)\n",
      "        If (feature 98 <= 2.877878810172129)\n",
      "         Predict: -0.11739141201914073\n",
      "        Else (feature 98 > 2.877878810172129)\n",
      "         Predict: 0.3200569024992779\n",
      "      Else (feature 31 > 1.5160103368044824)\n",
      "       If (feature 52 <= 1.0601513655442052)\n",
      "        If (feature 97 <= 3.747057382938957)\n",
      "         Predict: -0.1999996731261395\n",
      "        Else (feature 97 > 3.747057382938957)\n",
      "         Predict: 0.384352771468584\n",
      "       Else (feature 52 > 1.0601513655442052)\n",
      "        If (feature 94 <= 2.444614570800735)\n",
      "         Predict: -0.1268149574083977\n",
      "        Else (feature 94 > 2.444614570800735)\n",
      "         Predict: 0.369514396566713\n",
      "     Else (feature 30 > 1.5091992993458365)\n",
      "      If (feature 97 <= 3.747057382938957)\n",
      "       If (feature 44 <= 1.149283736719202)\n",
      "        If (feature 47 <= 2.350163942221254)\n",
      "         Predict: -0.22014548070900405\n",
      "        Else (feature 47 > 2.350163942221254)\n",
      "         Predict: 3.0278977190837537\n",
      "       Else (feature 44 > 1.149283736719202)\n",
      "        If (feature 98 <= 4.904554028603206)\n",
      "         Predict: 0.058133856133973344\n",
      "        Else (feature 98 > 4.904554028603206)\n",
      "         Predict: 0.8979971348962216\n",
      "      Else (feature 97 > 3.747057382938957)\n",
      "       If (feature 94 <= 2.0797467244125656)\n",
      "        If (feature 98 <= 3.283213853858344)\n",
      "         Predict: -0.35785294886698754\n",
      "        Else (feature 98 > 3.283213853858344)\n",
      "         Predict: -0.4970424924237236\n",
      "       Else (feature 94 > 2.0797467244125656)\n",
      "        If (feature 98 <= 3.202146845121101)\n",
      "         Predict: -0.5038760457419496\n",
      "        Else (feature 98 > 3.202146845121101)\n",
      "         Predict: 1.3250888254545086\n",
      "    Else (feature 23 > 1.0035900941414533)\n",
      "     If (feature 95 <= 2.9242983712865285)\n",
      "      If (feature 96 <= 0.41290864673390837)\n",
      "       If (feature 98 <= 4.012816932493532)\n",
      "        If (feature 33 <= 1.592510085090796)\n",
      "         Predict: -0.3989450765877722\n",
      "        Else (feature 33 > 1.592510085090796)\n",
      "         Predict: 0.1677378980756722\n",
      "       Else (feature 98 > 4.012816932493532)\n",
      "        If (feature 29 <= 1.4976626128584876)\n",
      "         Predict: -0.22512799767579791\n",
      "        Else (feature 29 > 1.4976626128584876)\n",
      "         Predict: 0.3727897483015376\n",
      "      Else (feature 96 > 0.41290864673390837)\n",
      "       If (feature 1 <= 1.8805741480684497)\n",
      "        If (feature 94 <= 4.852742356962654)\n",
      "         Predict: 0.17105055409305947\n",
      "        Else (feature 94 > 4.852742356962654)\n",
      "         Predict: -2.103713102073347\n",
      "       Else (feature 1 > 1.8805741480684497)\n",
      "        If (feature 98 <= 3.283213853858344)\n",
      "         Predict: -0.8685661067355909\n",
      "        Else (feature 98 > 3.283213853858344)\n",
      "         Predict: 1.6652899497285707\n",
      "     Else (feature 95 > 2.9242983712865285)\n",
      "      If (feature 34 <= 1.6508711694001317)\n",
      "       If (feature 94 <= 2.663535278633637)\n",
      "        If (feature 94 <= 1.7878524473020305)\n",
      "         Predict: -0.4617280170391206\n",
      "        Else (feature 94 > 1.7878524473020305)\n",
      "         Predict: -0.04753994038709172\n",
      "       Else (feature 94 > 2.663535278633637)\n",
      "        If (feature 39 <= 2.900952271283373)\n",
      "         Predict: 0.15446846809065234\n",
      "        Else (feature 39 > 2.900952271283373)\n",
      "         Predict: -0.4513511018998134\n",
      "      Else (feature 34 > 1.6508711694001317)\n",
      "       If (feature 95 <= 3.7041112702962695)\n",
      "        If (feature 96 <= 0.41290864673390837)\n",
      "         Predict: -0.3228529866370898\n",
      "        Else (feature 96 > 0.41290864673390837)\n",
      "         Predict: 0.9210507245543234\n",
      "       Else (feature 95 > 3.7041112702962695)\n",
      "        If (feature 94 <= 2.2986674322454674)\n",
      "         Predict: -0.23464413150187965\n",
      "        Else (feature 94 > 2.2986674322454674)\n",
      "         Predict: -0.8733275222976922\n",
      "  Tree 10 (weight 0.1):\n",
      "    If (feature 23 <= 1.0035900941414533)\n",
      "     If (feature 98 <= 4.012816932493532)\n",
      "      If (feature 94 <= 2.444614570800735)\n",
      "       If (feature 47 <= 2.350163942221254)\n",
      "        If (feature 96 <= 1.0012372970722383)\n",
      "         Predict: -0.2672044783230624\n",
      "        Else (feature 96 > 1.0012372970722383)\n",
      "         Predict: 0.24557452879575975\n",
      "       Else (feature 47 > 2.350163942221254)\n",
      "        If (feature 8 <= 1.0695035626828624)\n",
      "         Predict: 2.07053454687371\n",
      "        Else (feature 8 > 1.0695035626828624)\n",
      "         Predict: -0.5141480615735565\n",
      "      Else (feature 94 > 2.444614570800735)\n",
      "       If (feature 52 <= 1.0601513655442052)\n",
      "        If (feature 96 <= 1.0012372970722383)\n",
      "         Predict: -0.22558305987313765\n",
      "        Else (feature 96 > 1.0012372970722383)\n",
      "         Predict: 0.33487555391091617\n",
      "       Else (feature 52 > 1.0601513655442052)\n",
      "        If (feature 95 <= 3.7041112702962695)\n",
      "         Predict: -0.19659471264246522\n",
      "        Else (feature 95 > 3.7041112702962695)\n",
      "         Predict: 0.08540597275970634\n",
      "     Else (feature 98 > 4.012816932493532)\n",
      "      If (feature 95 <= 4.48392416930601)\n",
      "       If (feature 94 <= 2.7365088479112707)\n",
      "        If (feature 30 <= 1.5091992993458365)\n",
      "         Predict: -0.2421586337453094\n",
      "        Else (feature 30 > 1.5091992993458365)\n",
      "         Predict: 0.14575405874213934\n",
      "       Else (feature 94 > 2.7365088479112707)\n",
      "        If (feature 97 <= 3.747057382938957)\n",
      "         Predict: -0.03343381662643281\n",
      "        Else (feature 97 > 3.747057382938957)\n",
      "         Predict: 0.9993216370246318\n",
      "      Else (feature 95 > 4.48392416930601)\n",
      "       If (feature 6 <= 2.898950698586086)\n",
      "        If (feature 94 <= 3.8311123870757795)\n",
      "         Predict: 0.13003454207469237\n",
      "        Else (feature 94 > 3.8311123870757795)\n",
      "         Predict: -0.41746449337352187\n",
      "       Else (feature 6 > 2.898950698586086)\n",
      "        If (feature 94 <= 3.1743502635770744)\n",
      "         Predict: 0.45574938683159527\n",
      "        Else (feature 94 > 3.1743502635770744)\n",
      "         Predict: 1.4924310871205042\n",
      "    Else (feature 23 > 1.0035900941414533)\n",
      "     If (feature 53 <= 1.629766886499123)\n",
      "      If (feature 98 <= 4.012816932493532)\n",
      "       If (feature 82 <= 17.355802519485252)\n",
      "        If (feature 31 <= 1.5160103368044824)\n",
      "         Predict: -0.45625671473748813\n",
      "        Else (feature 31 > 1.5160103368044824)\n",
      "         Predict: -0.04238501790157152\n",
      "       Else (feature 82 > 17.355802519485252)\n",
      "        If (feature 39 <= 2.900952271283373)\n",
      "         Predict: 2.4167635244632177\n",
      "        Else (feature 39 > 2.900952271283373)\n",
      "         Predict: -0.6491016153258968\n",
      "      Else (feature 98 > 4.012816932493532)\n",
      "       If (feature 98 <= 4.904554028603206)\n",
      "        If (feature 49 <= 1.6937882953141605)\n",
      "         Predict: 0.12211262028789384\n",
      "        Else (feature 49 > 1.6937882953141605)\n",
      "         Predict: 1.493232687080273\n",
      "       Else (feature 98 > 4.904554028603206)\n",
      "        If (feature 70 <= 11.28398243529037)\n",
      "         Predict: -0.5821439791281874\n",
      "        Else (feature 70 > 11.28398243529037)\n",
      "         Predict: 2.050166339603612\n",
      "     Else (feature 53 > 1.629766886499123)\n",
      "      If (feature 38 <= 2.4985169475403777)\n",
      "       If (feature 98 <= 3.202146845121101)\n",
      "        If (feature 95 <= 5.263737068315751)\n",
      "         Predict: -0.25049157556603163\n",
      "        Else (feature 95 > 5.263737068315751)\n",
      "         Predict: 0.39373914555490824\n",
      "       Else (feature 98 > 3.202146845121101)\n",
      "        If (feature 34 <= 1.6508711694001317)\n",
      "         Predict: 0.10712445767609229\n",
      "        Else (feature 34 > 1.6508711694001317)\n",
      "         Predict: -0.3940063607166059\n",
      "      Else (feature 38 > 2.4985169475403777)\n",
      "       If (feature 19 <= 4.387671509666606)\n",
      "        If (feature 95 <= 4.48392416930601)\n",
      "         Predict: -0.5020516859294221\n",
      "        Else (feature 95 > 4.48392416930601)\n",
      "         Predict: -1.2254283102229997\n",
      "       Else (feature 19 > 4.387671509666606)\n",
      "        If (feature 2 <= 2.0211210663416637)\n",
      "         Predict: 1.8095447358089132\n",
      "        Else (feature 2 > 2.0211210663416637)\n",
      "         Predict: -1.0442130152835567\n",
      "  Tree 11 (weight 0.1):\n",
      "    If (feature 94 <= 2.0797467244125656)\n",
      "     If (feature 47 <= 2.350163942221254)\n",
      "      If (feature 98 <= 3.5264148800700736)\n",
      "       If (feature 23 <= 1.0035900941414533)\n",
      "        If (feature 97 <= 4.2863972231385175)\n",
      "         Predict: -0.2589265320349761\n",
      "        Else (feature 97 > 4.2863972231385175)\n",
      "         Predict: 0.04885248678985546\n",
      "       Else (feature 23 > 1.0035900941414533)\n",
      "        If (feature 9 <= 1.1967551200643087)\n",
      "         Predict: -0.5307001254360267\n",
      "        Else (feature 9 > 1.1967551200643087)\n",
      "         Predict: -0.02767896563601529\n",
      "      Else (feature 98 > 3.5264148800700736)\n",
      "       If (feature 57 <= 7.774687675320327)\n",
      "        If (feature 5 <= 2.7533341557039197)\n",
      "         Predict: -0.19646775947654524\n",
      "        Else (feature 5 > 2.7533341557039197)\n",
      "         Predict: 0.4384573118324707\n",
      "       Else (feature 57 > 7.774687675320327)\n",
      "        If (feature 94 <= 2.006773155134932)\n",
      "         Predict: 0.2420991230419373\n",
      "        Else (feature 94 > 2.006773155134932)\n",
      "         Predict: 3.283817377923977\n",
      "     Else (feature 47 > 2.350163942221254)\n",
      "      If (feature 95 <= 3.7041112702962695)\n",
      "       If (feature 98 <= 4.093883941230775)\n",
      "        If (feature 97 <= 3.9022099397086936)\n",
      "         Predict: -0.4085549487992101\n",
      "        Else (feature 97 > 3.9022099397086936)\n",
      "         Predict: 1.1108793574223697\n",
      "       Else (feature 98 > 4.093883941230775)\n",
      "        Predict: 2.6991892403846514\n",
      "      Else (feature 95 > 3.7041112702962695)\n",
      "       If (feature 5 <= 2.7533341557039197)\n",
      "        If (feature 98 <= 1.5808066703762398)\n",
      "         Predict: -0.7711183326100224\n",
      "        Else (feature 98 > 1.5808066703762398)\n",
      "         Predict: 0.26338762649200376\n",
      "       Else (feature 5 > 2.7533341557039197)\n",
      "        Predict: 3.1637578478763864\n",
      "    Else (feature 94 > 2.0797467244125656)\n",
      "     If (feature 96 <= 0.3227172227758447)\n",
      "      If (feature 97 <= 4.2863972231385175)\n",
      "       If (feature 97 <= 3.862806115767173)\n",
      "        If (feature 95 <= 5.653643517820622)\n",
      "         Predict: -0.09529333548898723\n",
      "        Else (feature 95 > 5.653643517820622)\n",
      "         Predict: 0.3658052797730663\n",
      "       Else (feature 97 > 3.862806115767173)\n",
      "        If (feature 23 <= 1.0035900941414533)\n",
      "         Predict: -0.5180311271178405\n",
      "        Else (feature 23 > 1.0035900941414533)\n",
      "         Predict: -1.216288908524646\n",
      "      Else (feature 97 > 4.2863972231385175)\n",
      "       If (feature 95 <= 1.7545790227719171)\n",
      "        If (feature 55 <= 3.791338545749341)\n",
      "         Predict: -1.546910049569779\n",
      "        Else (feature 55 > 3.791338545749341)\n",
      "         Predict: 1.410292131452593\n",
      "       Else (feature 95 > 1.7545790227719171)\n",
      "        If (feature 9 <= 1.1967551200643087)\n",
      "         Predict: 0.30604014329888357\n",
      "        Else (feature 9 > 1.1967551200643087)\n",
      "         Predict: 0.9202102413114305\n",
      "     Else (feature 96 > 0.3227172227758447)\n",
      "      If (feature 98 <= 3.4453478713328303)\n",
      "       If (feature 94 <= 4.050033094908681)\n",
      "        If (feature 98 <= 1.6618736791134827)\n",
      "         Predict: -0.48315792457203166\n",
      "        Else (feature 98 > 1.6618736791134827)\n",
      "         Predict: 0.24059809354172484\n",
      "       Else (feature 94 > 4.050033094908681)\n",
      "        If (feature 48 <= 1.4164572059319427)\n",
      "         Predict: -0.989728980236868\n",
      "        Else (feature 48 > 1.4164572059319427)\n",
      "         Predict: 0.019104590350564152\n",
      "      Else (feature 98 > 3.4453478713328303)\n",
      "       If (feature 37 <= 2.3470891347119385)\n",
      "        If (feature 34 <= 1.6508711694001317)\n",
      "         Predict: 0.32222279407180954\n",
      "        Else (feature 34 > 1.6508711694001317)\n",
      "         Predict: -0.8425992826329995\n",
      "       Else (feature 37 > 2.3470891347119385)\n",
      "        If (feature 96 <= 1.0012372970722383)\n",
      "         Predict: 1.9121733013256583\n",
      "        Else (feature 96 > 1.0012372970722383)\n",
      "         Predict: 0.29941014338155014\n",
      "  Tree 12 (weight 0.1):\n",
      "    If (feature 23 <= 1.0035900941414533)\n",
      "     If (feature 95 <= 4.873830618810881)\n",
      "      If (feature 98 <= 3.7696159062818024)\n",
      "       If (feature 96 <= 1.0012372970722383)\n",
      "        If (feature 31 <= 1.5160103368044824)\n",
      "         Predict: -0.22950766860599336\n",
      "        Else (feature 31 > 1.5160103368044824)\n",
      "         Predict: -0.06495727446242017\n",
      "       Else (feature 96 > 1.0012372970722383)\n",
      "        If (feature 94 <= 4.852742356962654)\n",
      "         Predict: 0.2642068397035156\n",
      "        Else (feature 94 > 4.852742356962654)\n",
      "         Predict: -0.4014033887632834\n",
      "      Else (feature 98 > 3.7696159062818024)\n",
      "       If (feature 94 <= 2.7365088479112707)\n",
      "        If (feature 79 <= 15.444127847290664)\n",
      "         Predict: -0.17871593942634756\n",
      "        Else (feature 79 > 15.444127847290664)\n",
      "         Predict: 1.7114976723390924\n",
      "       Else (feature 94 > 2.7365088479112707)\n",
      "        If (feature 97 <= 3.747057382938957)\n",
      "         Predict: -0.00794578810784664\n",
      "        Else (feature 97 > 3.747057382938957)\n",
      "         Predict: 0.9168271691073178\n",
      "     Else (feature 95 > 4.873830618810881)\n",
      "      If (feature 94 <= 3.028403125021806)\n",
      "       If (feature 43 <= 1.0192656067064028)\n",
      "        If (feature 0 <= 1.08794593549784)\n",
      "         Predict: -0.2748085595775865\n",
      "        Else (feature 0 > 1.08794593549784)\n",
      "         Predict: -0.0845786631328986\n",
      "       Else (feature 43 > 1.0192656067064028)\n",
      "        If (feature 1 <= 1.8805741480684497)\n",
      "         Predict: 3.3162708527935734\n",
      "        Else (feature 1 > 1.8805741480684497)\n",
      "         Predict: 2.372545316916939\n",
      "      Else (feature 94 > 3.028403125021806)\n",
      "       If (feature 30 <= 1.5091992993458365)\n",
      "        If (feature 70 <= 11.28398243529037)\n",
      "         Predict: -0.010029026000924304\n",
      "        Else (feature 70 > 11.28398243529037)\n",
      "         Predict: 3.536621869602105\n",
      "       Else (feature 30 > 1.5091992993458365)\n",
      "        If (feature 1 <= 1.8805741480684497)\n",
      "         Predict: 0.5183705052344824\n",
      "        Else (feature 1 > 1.8805741480684497)\n",
      "         Predict: -0.44975327443404595\n",
      "    Else (feature 23 > 1.0035900941414533)\n",
      "     If (feature 98 <= 3.3642808625955873)\n",
      "      If (feature 6 <= 2.898950698586086)\n",
      "       If (feature 53 <= 1.629766886499123)\n",
      "        If (feature 94 <= 3.028403125021806)\n",
      "         Predict: -0.45921729745264683\n",
      "        Else (feature 94 > 3.028403125021806)\n",
      "         Predict: -0.20858563593362028\n",
      "       Else (feature 53 > 1.629766886499123)\n",
      "        If (feature 94 <= 4.852742356962654)\n",
      "         Predict: -0.022882530488661176\n",
      "        Else (feature 94 > 4.852742356962654)\n",
      "         Predict: -0.4463247863024365\n",
      "      Else (feature 6 > 2.898950698586086)\n",
      "       If (feature 98 <= 3.202146845121101)\n",
      "        If (feature 40 <= 2.9803757253708567)\n",
      "         Predict: -1.2719803813904897\n",
      "        Else (feature 40 > 2.9803757253708567)\n",
      "         Predict: 2.918011135109664\n",
      "       Else (feature 98 > 3.202146845121101)\n",
      "        If (feature 48 <= 1.4164572059319427)\n",
      "         Predict: 0.06863279844792652\n",
      "        Else (feature 48 > 1.4164572059319427)\n",
      "         Predict: 0.6816384007669763\n",
      "     Else (feature 98 > 3.3642808625955873)\n",
      "      If (feature 1 <= 1.8805741480684497)\n",
      "       If (feature 94 <= 2.5905617093560034)\n",
      "        If (feature 98 <= 3.4453478713328303)\n",
      "         Predict: 1.0862727191224404\n",
      "        Else (feature 98 > 3.4453478713328303)\n",
      "         Predict: -0.01310002893881631\n",
      "       Else (feature 94 > 2.5905617093560034)\n",
      "        If (feature 8 <= 1.0695035626828624)\n",
      "         Predict: 0.1553839513114921\n",
      "        Else (feature 8 > 1.0695035626828624)\n",
      "         Predict: 0.46070177805098955\n",
      "      Else (feature 1 > 1.8805741480684497)\n",
      "       If (feature 10 <= 1.3537338657788678)\n",
      "        If (feature 12 <= 2.4407339234471292)\n",
      "         Predict: 0.06024129591973412\n",
      "        Else (feature 12 > 2.4407339234471292)\n",
      "         Predict: -0.8900048142459517\n",
      "       Else (feature 10 > 1.3537338657788678)\n",
      "        If (feature 97 <= 0.19086227221673951)\n",
      "         Predict: -0.8010254779106749\n",
      "        Else (feature 97 > 0.19086227221673951)\n",
      "         Predict: 0.591430074920968\n",
      "  Tree 13 (weight 0.1):\n",
      "    If (feature 23 <= 1.0035900941414533)\n",
      "     If (feature 95 <= 4.48392416930601)\n",
      "      If (feature 94 <= 2.444614570800735)\n",
      "       If (feature 79 <= 15.444127847290664)\n",
      "        If (feature 47 <= 2.350163942221254)\n",
      "         Predict: -0.23112009983418152\n",
      "        Else (feature 47 > 2.350163942221254)\n",
      "         Predict: 0.7701459353011918\n",
      "       Else (feature 79 > 15.444127847290664)\n",
      "        If (feature 24 <= 1.0625686720834735)\n",
      "         Predict: 3.605354707708685\n",
      "        Else (feature 24 > 1.0625686720834735)\n",
      "         Predict: -0.29940072636354076\n",
      "      Else (feature 94 > 2.444614570800735)\n",
      "       If (feature 31 <= 1.5160103368044824)\n",
      "        If (feature 97 <= 4.2863972231385175)\n",
      "         Predict: -0.17292708914201635\n",
      "        Else (feature 97 > 4.2863972231385175)\n",
      "         Predict: 0.28051075145363674\n",
      "       Else (feature 31 > 1.5160103368044824)\n",
      "        If (feature 52 <= 1.0601513655442052)\n",
      "         Predict: -0.09028777196742487\n",
      "        Else (feature 52 > 1.0601513655442052)\n",
      "         Predict: 0.75084065806164\n",
      "     Else (feature 95 > 4.48392416930601)\n",
      "      If (feature 94 <= 2.006773155134932)\n",
      "       If (feature 47 <= 2.350163942221254)\n",
      "        If (feature 96 <= 1.0012372970722383)\n",
      "         Predict: -0.22971478327385744\n",
      "        Else (feature 96 > 1.0012372970722383)\n",
      "         Predict: 0.3346006188181481\n",
      "       Else (feature 47 > 2.350163942221254)\n",
      "        Predict: 2.3548267480413188\n",
      "      Else (feature 94 > 2.006773155134932)\n",
      "       If (feature 52 <= 1.0601513655442052)\n",
      "        If (feature 96 <= 0.41290864673390837)\n",
      "         Predict: -0.13675598776036094\n",
      "        Else (feature 96 > 0.41290864673390837)\n",
      "         Predict: 0.24077209292004534\n",
      "       Else (feature 52 > 1.0601513655442052)\n",
      "        If (feature 98 <= 3.202146845121101)\n",
      "         Predict: -0.21179873881927544\n",
      "        Else (feature 98 > 3.202146845121101)\n",
      "         Predict: 0.1655108665528042\n",
      "    Else (feature 23 > 1.0035900941414533)\n",
      "     If (feature 30 <= 1.5091992993458365)\n",
      "      If (feature 96 <= 0.3227172227758447)\n",
      "       If (feature 40 <= 2.9803757253708567)\n",
      "        If (feature 95 <= 5.653643517820622)\n",
      "         Predict: -0.0979016294294761\n",
      "        Else (feature 95 > 5.653643517820622)\n",
      "         Predict: 0.3584521168265025\n",
      "       Else (feature 40 > 2.9803757253708567)\n",
      "        If (feature 94 <= 2.006773155134932)\n",
      "         Predict: -0.42613975261016535\n",
      "        Else (feature 94 > 2.006773155134932)\n",
      "         Predict: 0.5097779076027006\n",
      "      Else (feature 96 > 0.3227172227758447)\n",
      "       If (feature 66 <= 10.117641721103137)\n",
      "        If (feature 63 <= 9.11743149204179)\n",
      "         Predict: 0.22396681495426582\n",
      "        Else (feature 63 > 9.11743149204179)\n",
      "         Predict: -1.3495532860810329\n",
      "       Else (feature 66 > 10.117641721103137)\n",
      "        If (feature 4 <= 2.5786728776078207)\n",
      "         Predict: -1.1345614672411903\n",
      "        Else (feature 4 > 2.5786728776078207)\n",
      "         Predict: -2.9124513750703462\n",
      "     Else (feature 30 > 1.5091992993458365)\n",
      "      If (feature 1 <= 1.8805741480684497)\n",
      "       If (feature 55 <= 3.791338545749341)\n",
      "        If (feature 94 <= 1.7878524473020305)\n",
      "         Predict: -0.6646587499830586\n",
      "        Else (feature 94 > 1.7878524473020305)\n",
      "         Predict: 0.2591236693220916\n",
      "       Else (feature 55 > 3.791338545749341)\n",
      "        If (feature 47 <= 2.350163942221254)\n",
      "         Predict: -0.3090354948741925\n",
      "        Else (feature 47 > 2.350163942221254)\n",
      "         Predict: -2.9368618990499717\n",
      "      Else (feature 1 > 1.8805741480684497)\n",
      "       If (feature 56 <= 6.782282995965491)\n",
      "        If (feature 97 <= 3.6805634300376413)\n",
      "         Predict: -0.12330415637723868\n",
      "        Else (feature 97 > 3.6805634300376413)\n",
      "         Predict: 0.5612862382057323\n",
      "       Else (feature 56 > 6.782282995965491)\n",
      "        If (feature 10 <= 1.3537338657788678)\n",
      "         Predict: -2.284433004385227\n",
      "        Else (feature 10 > 1.3537338657788678)\n",
      "         Predict: -2.417745099941891\n",
      "  Tree 14 (weight 0.1):\n",
      "    If (feature 23 <= 1.0035900941414533)\n",
      "     If (feature 30 <= 1.5091992993458365)\n",
      "      If (feature 31 <= 1.5160103368044824)\n",
      "       If (feature 96 <= 1.0012372970722383)\n",
      "        If (feature 98 <= 3.283213853858344)\n",
      "         Predict: -0.21383836292177916\n",
      "        Else (feature 98 > 3.283213853858344)\n",
      "         Predict: -0.12615351181976434\n",
      "       Else (feature 96 > 1.0012372970722383)\n",
      "        If (feature 98 <= 2.877878810172129)\n",
      "         Predict: -0.12616349096400456\n",
      "        Else (feature 98 > 2.877878810172129)\n",
      "         Predict: 0.28808825062617205\n",
      "      Else (feature 31 > 1.5160103368044824)\n",
      "       If (feature 52 <= 1.0601513655442052)\n",
      "        If (feature 6 <= 2.898950698586086)\n",
      "         Predict: -0.15052025485907494\n",
      "        Else (feature 6 > 2.898950698586086)\n",
      "         Predict: 0.3299599952587721\n",
      "       Else (feature 52 > 1.0601513655442052)\n",
      "        If (feature 56 <= 6.782282995965491)\n",
      "         Predict: 0.08768976606976411\n",
      "        Else (feature 56 > 6.782282995965491)\n",
      "         Predict: 3.5228364775860825\n",
      "     Else (feature 30 > 1.5091992993458365)\n",
      "      If (feature 20 <= 4.571373721288232)\n",
      "       If (feature 44 <= 1.149283736719202)\n",
      "        If (feature 97 <= 3.747057382938957)\n",
      "         Predict: -0.17308347263456483\n",
      "        Else (feature 97 > 3.747057382938957)\n",
      "         Predict: 1.0608173517896267\n",
      "       Else (feature 44 > 1.149283736719202)\n",
      "        If (feature 83 <= 18.911806208005913)\n",
      "         Predict: 0.08581896652776254\n",
      "        Else (feature 83 > 18.911806208005913)\n",
      "         Predict: 3.6903140028095294\n",
      "      Else (feature 20 > 4.571373721288232)\n",
      "       If (feature 1 <= 1.8805741480684497)\n",
      "        If (feature 97 <= 0.19086227221673951)\n",
      "         Predict: 2.0915712710409564\n",
      "        Else (feature 97 > 0.19086227221673951)\n",
      "         Predict: 0.6753694637359047\n",
      "       Else (feature 1 > 1.8805741480684497)\n",
      "        Predict: -0.6943491460524314\n",
      "    Else (feature 23 > 1.0035900941414533)\n",
      "     If (feature 95 <= 2.9242983712865285)\n",
      "      If (feature 94 <= 2.5905617093560034)\n",
      "       If (feature 5 <= 2.7533341557039197)\n",
      "        If (feature 88 <= 20.979388613749705)\n",
      "         Predict: -0.4132747193505182\n",
      "        Else (feature 88 > 20.979388613749705)\n",
      "         Predict: 2.7531049613271676\n",
      "       Else (feature 5 > 2.7533341557039197)\n",
      "        Predict: 2.9964431878011055\n",
      "      Else (feature 94 > 2.5905617093560034)\n",
      "       If (feature 96 <= 0.41290864673390837)\n",
      "        If (feature 94 <= 4.852742356962654)\n",
      "         Predict: -0.16000406744603987\n",
      "        Else (feature 94 > 4.852742356962654)\n",
      "         Predict: -0.495077117048231\n",
      "       Else (feature 96 > 0.41290864673390837)\n",
      "        If (feature 29 <= 1.4976626128584876)\n",
      "         Predict: 0.14175682575971021\n",
      "        Else (feature 29 > 1.4976626128584876)\n",
      "         Predict: 1.3882744371337863\n",
      "     Else (feature 95 > 2.9242983712865285)\n",
      "      If (feature 97 <= 4.2863972231385175)\n",
      "       If (feature 97 <= 3.6805634300376413)\n",
      "        If (feature 94 <= 2.0797467244125656)\n",
      "         Predict: -0.2105618626325071\n",
      "        Else (feature 94 > 2.0797467244125656)\n",
      "         Predict: 0.04942471840039305\n",
      "       Else (feature 97 > 3.6805634300376413)\n",
      "        If (feature 30 <= 1.5091992993458365)\n",
      "         Predict: -0.9349845629777013\n",
      "        Else (feature 30 > 1.5091992993458365)\n",
      "         Predict: -1.9429751999562133\n",
      "      Else (feature 97 > 4.2863972231385175)\n",
      "       If (feature 9 <= 1.1967551200643087)\n",
      "        If (feature 12 <= 2.4407339234471292)\n",
      "         Predict: 0.2295821707949816\n",
      "        Else (feature 12 > 2.4407339234471292)\n",
      "         Predict: 1.0317072554868167\n",
      "       Else (feature 9 > 1.1967551200643087)\n",
      "        If (feature 3 <= 2.168248572073043)\n",
      "         Predict: 1.034449453595113\n",
      "        Else (feature 3 > 2.168248572073043)\n",
      "         Predict: -2.3277544645392823\n",
      "  Tree 15 (weight 0.1):\n",
      "    If (feature 94 <= 2.006773155134932)\n",
      "     If (feature 47 <= 2.350163942221254)\n",
      "      If (feature 37 <= 2.3470891347119385)\n",
      "       If (feature 98 <= 5.228822063552178)\n",
      "        If (feature 23 <= 1.0035900941414533)\n",
      "         Predict: -0.21369742166446504\n",
      "        Else (feature 23 > 1.0035900941414533)\n",
      "         Predict: -0.34949335303157414\n",
      "       Else (feature 98 > 5.228822063552178)\n",
      "        If (feature 50 <= 2.835235488466264)\n",
      "         Predict: 0.017662596252070163\n",
      "        Else (feature 50 > 2.835235488466264)\n",
      "         Predict: 3.4652713123142496\n",
      "      Else (feature 37 > 2.3470891347119385)\n",
      "       If (feature 51 <= 5.267359064673626)\n",
      "        If (feature 43 <= 1.0192656067064028)\n",
      "         Predict: -0.24563390454529394\n",
      "        Else (feature 43 > 1.0192656067064028)\n",
      "         Predict: 0.3868702736878452\n",
      "       Else (feature 51 > 5.267359064673626)\n",
      "        Predict: 3.776079013830067\n",
      "     Else (feature 47 > 2.350163942221254)\n",
      "      If (feature 63 <= 9.11743149204179)\n",
      "       If (feature 12 <= 2.4407339234471292)\n",
      "        If (feature 96 <= 0.2831468107971785)\n",
      "         Predict: -0.1499731019265264\n",
      "        Else (feature 96 > 0.2831468107971785)\n",
      "         Predict: 0.6704765269671084\n",
      "       Else (feature 12 > 2.4407339234471292)\n",
      "        If (feature 98 <= 2.877878810172129)\n",
      "         Predict: -0.870548070187559\n",
      "        Else (feature 98 > 2.877878810172129)\n",
      "         Predict: 1.1918513748442736\n",
      "      Else (feature 63 > 9.11743149204179)\n",
      "       Predict: 3.0933299284026297\n",
      "    Else (feature 94 > 2.006773155134932)\n",
      "     If (feature 30 <= 1.5091992993458365)\n",
      "      If (feature 31 <= 1.5160103368044824)\n",
      "       If (feature 96 <= 0.3227172227758447)\n",
      "        If (feature 33 <= 1.592510085090796)\n",
      "         Predict: -0.14407127244820572\n",
      "        Else (feature 33 > 1.592510085090796)\n",
      "         Predict: 0.06050740464710619\n",
      "       Else (feature 96 > 0.3227172227758447)\n",
      "        If (feature 94 <= 4.4149009412968505)\n",
      "         Predict: 0.20268213512153738\n",
      "        Else (feature 94 > 4.4149009412968505)\n",
      "         Predict: -0.15654083669014682\n",
      "      Else (feature 31 > 1.5160103368044824)\n",
      "       If (feature 2 <= 2.0211210663416637)\n",
      "        If (feature 64 <= 9.695182263906057)\n",
      "         Predict: 0.16160388311890592\n",
      "        Else (feature 64 > 9.695182263906057)\n",
      "         Predict: -2.152487981750037\n",
      "       Else (feature 2 > 2.0211210663416637)\n",
      "        If (feature 98 <= 4.093883941230775)\n",
      "         Predict: -0.07592709452245279\n",
      "        Else (feature 98 > 4.093883941230775)\n",
      "         Predict: -0.7386133240303638\n",
      "     Else (feature 30 > 1.5091992993458365)\n",
      "      If (feature 97 <= 4.2863972231385175)\n",
      "       If (feature 97 <= 0.19086227221673951)\n",
      "        If (feature 1 <= 1.8805741480684497)\n",
      "         Predict: 0.1570148770296853\n",
      "        Else (feature 1 > 1.8805741480684497)\n",
      "         Predict: -0.14425184052486517\n",
      "       Else (feature 97 > 0.19086227221673951)\n",
      "        If (feature 23 <= 1.0035900941414533)\n",
      "         Predict: -0.03186471782773067\n",
      "        Else (feature 23 > 1.0035900941414533)\n",
      "         Predict: -1.8421936001235681\n",
      "      Else (feature 97 > 4.2863972231385175)\n",
      "       If (feature 94 <= 2.225693862967834)\n",
      "        If (feature 94 <= 2.0797467244125656)\n",
      "         Predict: -0.36058170457080724\n",
      "        Else (feature 94 > 2.0797467244125656)\n",
      "         Predict: 2.086962087559593\n",
      "       Else (feature 94 > 2.225693862967834)\n",
      "        If (feature 95 <= 4.873830618810881)\n",
      "         Predict: 0.7084373840294473\n",
      "        Else (feature 95 > 4.873830618810881)\n",
      "         Predict: 0.28845882971833287\n",
      "  Tree 16 (weight 0.1):\n",
      "    If (feature 23 <= 1.0035900941414533)\n",
      "     If (feature 98 <= 4.012816932493532)\n",
      "      If (feature 96 <= 1.0012372970722383)\n",
      "       If (feature 94 <= 2.444614570800735)\n",
      "        If (feature 47 <= 2.350163942221254)\n",
      "         Predict: -0.2051730337543408\n",
      "        Else (feature 47 > 2.350163942221254)\n",
      "         Predict: 0.9795890719034711\n",
      "       Else (feature 94 > 2.444614570800735)\n",
      "        If (feature 52 <= 1.0601513655442052)\n",
      "         Predict: -0.17606716017843582\n",
      "        Else (feature 52 > 1.0601513655442052)\n",
      "         Predict: -0.037747301037628134\n",
      "      Else (feature 96 > 1.0012372970722383)\n",
      "       If (feature 94 <= 1.4959581701914946)\n",
      "        Predict: -0.32833804386552606\n",
      "       Else (feature 94 > 1.4959581701914946)\n",
      "        If (feature 32 <= 1.5564133645376637)\n",
      "         Predict: 0.2851351371879914\n",
      "        Else (feature 32 > 1.5564133645376637)\n",
      "         Predict: -0.05182819200317042\n",
      "     Else (feature 98 > 4.012816932493532)\n",
      "      If (feature 45 <= 1.36884738708565)\n",
      "       If (feature 95 <= 4.48392416930601)\n",
      "        If (feature 79 <= 15.444127847290664)\n",
      "         Predict: -0.05924518205944178\n",
      "        Else (feature 79 > 15.444127847290664)\n",
      "         Predict: 3.3048893990515467\n",
      "       Else (feature 95 > 4.48392416930601)\n",
      "        If (feature 94 <= 3.8311123870757795)\n",
      "         Predict: 0.19593887973541588\n",
      "        Else (feature 94 > 3.8311123870757795)\n",
      "         Predict: -0.31789553615342103\n",
      "      Else (feature 45 > 1.36884738708565)\n",
      "       If (feature 94 <= 3.46624454068761)\n",
      "        If (feature 69 <= 10.814555346797274)\n",
      "         Predict: -0.2957085042947546\n",
      "        Else (feature 69 > 10.814555346797274)\n",
      "         Predict: 2.922258586734422\n",
      "       Else (feature 94 > 3.46624454068761)\n",
      "        If (feature 95 <= 2.9242983712865285)\n",
      "         Predict: 3.497228804248198\n",
      "        Else (feature 95 > 2.9242983712865285)\n",
      "         Predict: 0.02822733420930122\n",
      "    Else (feature 23 > 1.0035900941414533)\n",
      "     If (feature 38 <= 2.4985169475403777)\n",
      "      If (feature 34 <= 1.6508711694001317)\n",
      "       If (feature 39 <= 2.900952271283373)\n",
      "        If (feature 94 <= 4.852742356962654)\n",
      "         Predict: 0.06994397652053272\n",
      "        Else (feature 94 > 4.852742356962654)\n",
      "         Predict: -0.3291069357496313\n",
      "       Else (feature 39 > 2.900952271283373)\n",
      "        If (feature 98 <= 4.012816932493532)\n",
      "         Predict: -0.5096754054225182\n",
      "        Else (feature 98 > 4.012816932493532)\n",
      "         Predict: -0.14113200929412534\n",
      "      Else (feature 34 > 1.6508711694001317)\n",
      "       If (feature 57 <= 7.774687675320327)\n",
      "        If (feature 98 <= 4.499218984916991)\n",
      "         Predict: -0.3402396525125617\n",
      "        Else (feature 98 > 4.499218984916991)\n",
      "         Predict: 0.12745074966492093\n",
      "       Else (feature 57 > 7.774687675320327)\n",
      "        If (feature 98 <= 4.093883941230775)\n",
      "         Predict: 2.882344101054715\n",
      "        Else (feature 98 > 4.093883941230775)\n",
      "         Predict: -0.8570166954472818\n",
      "     Else (feature 38 > 2.4985169475403777)\n",
      "      If (feature 58 <= 8.266092873872593)\n",
      "       If (feature 19 <= 4.387671509666606)\n",
      "        If (feature 98 <= 5.228822063552178)\n",
      "         Predict: -0.46487437998553455\n",
      "        Else (feature 98 > 5.228822063552178)\n",
      "         Predict: 0.3822576299166308\n",
      "       Else (feature 19 > 4.387671509666606)\n",
      "        If (feature 2 <= 2.0211210663416637)\n",
      "         Predict: 1.6278188822274682\n",
      "        Else (feature 2 > 2.0211210663416637)\n",
      "         Predict: -0.848951252401493\n",
      "      Else (feature 58 > 8.266092873872593)\n",
      "       Predict: 2.809257097868624\n",
      "  Tree 17 (weight 0.1):\n",
      "    If (feature 23 <= 1.0035900941414533)\n",
      "     If (feature 95 <= 5.263737068315751)\n",
      "      If (feature 98 <= 3.7696159062818024)\n",
      "       If (feature 96 <= 1.0012372970722383)\n",
      "        If (feature 97 <= 4.2863972231385175)\n",
      "         Predict: -0.17497845545279903\n",
      "        Else (feature 97 > 4.2863972231385175)\n",
      "         Predict: 0.10391062775466628\n",
      "       Else (feature 96 > 1.0012372970722383)\n",
      "        If (feature 9 <= 1.1967551200643087)\n",
      "         Predict: 0.2588894394716091\n",
      "        Else (feature 9 > 1.1967551200643087)\n",
      "         Predict: -0.03321322005723607\n",
      "      Else (feature 98 > 3.7696159062818024)\n",
      "       If (feature 45 <= 1.36884738708565)\n",
      "        If (feature 48 <= 1.4164572059319427)\n",
      "         Predict: -0.30761277835753936\n",
      "        Else (feature 48 > 1.4164572059319427)\n",
      "         Predict: 0.031588452017792285\n",
      "       Else (feature 45 > 1.36884738708565)\n",
      "        If (feature 56 <= 6.782282995965491)\n",
      "         Predict: -0.2587012100828307\n",
      "        Else (feature 56 > 6.782282995965491)\n",
      "         Predict: 2.9049888523960945\n",
      "     Else (feature 95 > 5.263737068315751)\n",
      "      If (feature 26 <= 2.8408469938568555)\n",
      "       If (feature 51 <= 5.267359064673626)\n",
      "        If (feature 94 <= 2.2986674322454674)\n",
      "         Predict: -0.20233771756208405\n",
      "        Else (feature 94 > 2.2986674322454674)\n",
      "         Predict: 0.08366617059701253\n",
      "       Else (feature 51 > 5.267359064673626)\n",
      "        If (feature 2 <= 2.0211210663416637)\n",
      "         Predict: 1.9841206611334723\n",
      "        Else (feature 2 > 2.0211210663416637)\n",
      "         Predict: 2.8810651672331726\n",
      "      Else (feature 26 > 2.8408469938568555)\n",
      "       If (feature 5 <= 2.7533341557039197)\n",
      "        If (feature 98 <= 4.499218984916991)\n",
      "         Predict: 0.7990083396257898\n",
      "        Else (feature 98 > 4.499218984916991)\n",
      "         Predict: -1.3367920299489375\n",
      "       Else (feature 5 > 2.7533341557039197)\n",
      "        If (feature 31 <= 1.5160103368044824)\n",
      "         Predict: 1.330088504369581\n",
      "        Else (feature 31 > 1.5160103368044824)\n",
      "         Predict: 2.722796377387996\n",
      "    Else (feature 23 > 1.0035900941414533)\n",
      "     If (feature 53 <= 1.629766886499123)\n",
      "      If (feature 58 <= 8.266092873872593)\n",
      "       If (feature 31 <= 1.5160103368044824)\n",
      "        If (feature 60 <= 8.864897396066938)\n",
      "         Predict: -0.30263556513575995\n",
      "        Else (feature 60 > 8.864897396066938)\n",
      "         Predict: 0.3247496208761764\n",
      "       Else (feature 31 > 1.5160103368044824)\n",
      "        If (feature 94 <= 2.444614570800735)\n",
      "         Predict: -0.6967689060038297\n",
      "        Else (feature 94 > 2.444614570800735)\n",
      "         Predict: 0.25201391372989557\n",
      "      Else (feature 58 > 8.266092873872593)\n",
      "       If (feature 43 <= 1.0192656067064028)\n",
      "        If (feature 94 <= 3.3202974021323417)\n",
      "         Predict: 2.7219477512336505\n",
      "        Else (feature 94 > 3.3202974021323417)\n",
      "         Predict: 1.5411195818301842\n",
      "       Else (feature 43 > 1.0192656067064028)\n",
      "        If (feature 33 <= 1.592510085090796)\n",
      "         Predict: -0.05376663587710761\n",
      "        Else (feature 33 > 1.592510085090796)\n",
      "         Predict: 2.1582649779797967\n",
      "     Else (feature 53 > 1.629766886499123)\n",
      "      If (feature 98 <= 3.202146845121101)\n",
      "       If (feature 47 <= 2.350163942221254)\n",
      "        If (feature 5 <= 2.7533341557039197)\n",
      "         Predict: -0.29071705113559176\n",
      "        Else (feature 5 > 2.7533341557039197)\n",
      "         Predict: 0.6768789218804134\n",
      "       Else (feature 47 > 2.350163942221254)\n",
      "        If (feature 95 <= 4.09401771980114)\n",
      "         Predict: -0.14327845129312142\n",
      "        Else (feature 95 > 4.09401771980114)\n",
      "         Predict: 0.6402723959826654\n",
      "      Else (feature 98 > 3.202146845121101)\n",
      "       If (feature 8 <= 1.0695035626828624)\n",
      "        If (feature 97 <= 4.2863972231385175)\n",
      "         Predict: -0.027766712600039493\n",
      "        Else (feature 97 > 4.2863972231385175)\n",
      "         Predict: 0.33227993283215795\n",
      "       Else (feature 8 > 1.0695035626828624)\n",
      "        If (feature 94 <= 2.663535278633637)\n",
      "         Predict: -0.07911640624232724\n",
      "        Else (feature 94 > 2.663535278633637)\n",
      "         Predict: 0.33460833175081434\n",
      "  Tree 18 (weight 0.1):\n",
      "    If (feature 94 <= 2.006773155134932)\n",
      "     If (feature 96 <= 1.0012372970722383)\n",
      "      If (feature 47 <= 2.350163942221254)\n",
      "       If (feature 37 <= 2.3470891347119385)\n",
      "        If (feature 98 <= 5.228822063552178)\n",
      "         Predict: -0.204494117732235\n",
      "        Else (feature 98 > 5.228822063552178)\n",
      "         Predict: 0.05929056657336673\n",
      "       Else (feature 37 > 2.3470891347119385)\n",
      "        If (feature 51 <= 5.267359064673626)\n",
      "         Predict: -0.07281279004059926\n",
      "        Else (feature 51 > 5.267359064673626)\n",
      "         Predict: 3.5811636126657405\n",
      "      Else (feature 47 > 2.350163942221254)\n",
      "       If (feature 63 <= 9.11743149204179)\n",
      "        If (feature 5 <= 2.7533341557039197)\n",
      "         Predict: -0.051644781611768185\n",
      "        Else (feature 5 > 2.7533341557039197)\n",
      "         Predict: 2.457498370622168\n",
      "       Else (feature 63 > 9.11743149204179)\n",
      "        Predict: 2.632632684224539\n",
      "     Else (feature 96 > 1.0012372970722383)\n",
      "      If (feature 98 <= 2.0672087227996983)\n",
      "       If (feature 98 <= 1.6618736791134827)\n",
      "        If (feature 3 <= 2.168248572073043)\n",
      "         Predict: -0.3241760943495147\n",
      "        Else (feature 3 > 2.168248572073043)\n",
      "         Predict: -0.3071929139797206\n",
      "       Else (feature 98 > 1.6618736791134827)\n",
      "        Predict: -0.2749631665395851\n",
      "      Else (feature 98 > 2.0672087227996983)\n",
      "       If (feature 94 <= 1.422984600913861)\n",
      "        Predict: 0.5902110673314618\n",
      "       Else (feature 94 > 1.422984600913861)\n",
      "        If (feature 12 <= 2.4407339234471292)\n",
      "         Predict: 0.3134583525423791\n",
      "        Else (feature 12 > 2.4407339234471292)\n",
      "         Predict: 0.22738568140256157\n",
      "    Else (feature 94 > 2.006773155134932)\n",
      "     If (feature 96 <= 0.3227172227758447)\n",
      "      If (feature 97 <= 4.2863972231385175)\n",
      "       If (feature 97 <= 3.862806115767173)\n",
      "        If (feature 97 <= 3.8209395528293078)\n",
      "         Predict: -0.05947018645429731\n",
      "        Else (feature 97 > 3.8209395528293078)\n",
      "         Predict: 2.138988701631218\n",
      "       Else (feature 97 > 3.862806115767173)\n",
      "        If (feature 23 <= 1.0035900941414533)\n",
      "         Predict: -0.42526964001648343\n",
      "        Else (feature 23 > 1.0035900941414533)\n",
      "         Predict: -0.8375818258219498\n",
      "      Else (feature 97 > 4.2863972231385175)\n",
      "       If (feature 95 <= 3.7041112702962695)\n",
      "        If (feature 5 <= 2.7533341557039197)\n",
      "         Predict: -0.15054820240962113\n",
      "        Else (feature 5 > 2.7533341557039197)\n",
      "         Predict: 1.1736969140028835\n",
      "       Else (feature 95 > 3.7041112702962695)\n",
      "        If (feature 29 <= 1.4976626128584876)\n",
      "         Predict: 0.3007620201773056\n",
      "        Else (feature 29 > 1.4976626128584876)\n",
      "         Predict: 1.1792810835272927\n",
      "     Else (feature 96 > 0.3227172227758447)\n",
      "      If (feature 98 <= 3.283213853858344)\n",
      "       If (feature 96 <= 1.0012372970722383)\n",
      "        If (feature 95 <= 5.653643517820622)\n",
      "         Predict: 0.036600069053270026\n",
      "        Else (feature 95 > 5.653643517820622)\n",
      "         Predict: -1.0167094938371077\n",
      "       Else (feature 96 > 1.0012372970722383)\n",
      "        If (feature 98 <= 2.472543766485914)\n",
      "         Predict: 0.4902241247196572\n",
      "        Else (feature 98 > 2.472543766485914)\n",
      "         Predict: 0.21133169377102995\n",
      "      Else (feature 98 > 3.283213853858344)\n",
      "       If (feature 37 <= 2.3470891347119385)\n",
      "        If (feature 68 <= 10.498652889448854)\n",
      "         Predict: 0.23411012911417514\n",
      "        Else (feature 68 > 10.498652889448854)\n",
      "         Predict: -2.8638510996370314\n",
      "       Else (feature 37 > 2.3470891347119385)\n",
      "        If (feature 96 <= 1.0012372970722383)\n",
      "         Predict: 1.3019576788933112\n",
      "        Else (feature 96 > 1.0012372970722383)\n",
      "         Predict: 0.24919212263796128\n",
      "  Tree 19 (weight 0.1):\n",
      "    If (feature 23 <= 1.0035900941414533)\n",
      "     If (feature 95 <= 4.09401771980114)\n",
      "      If (feature 94 <= 2.663535278633637)\n",
      "       If (feature 47 <= 2.350163942221254)\n",
      "        If (feature 30 <= 1.5091992993458365)\n",
      "         Predict: -0.18560517612188218\n",
      "        Else (feature 30 > 1.5091992993458365)\n",
      "         Predict: -0.07102186996074594\n",
      "       Else (feature 47 > 2.350163942221254)\n",
      "        If (feature 8 <= 1.0695035626828624)\n",
      "         Predict: 3.321190483850445\n",
      "        Else (feature 8 > 1.0695035626828624)\n",
      "         Predict: -0.514783713286247\n",
      "      Else (feature 94 > 2.663535278633637)\n",
      "       If (feature 52 <= 1.0601513655442052)\n",
      "        If (feature 63 <= 9.11743149204179)\n",
      "         Predict: -0.16163586666996085\n",
      "        Else (feature 63 > 9.11743149204179)\n",
      "         Predict: 3.7689667200228314\n",
      "       Else (feature 52 > 1.0601513655442052)\n",
      "        If (feature 40 <= 2.9803757253708567)\n",
      "         Predict: -0.052994644073583105\n",
      "        Else (feature 40 > 2.9803757253708567)\n",
      "         Predict: 1.0877183720843562\n",
      "     Else (feature 95 > 4.09401771980114)\n",
      "      If (feature 94 <= 3.028403125021806)\n",
      "       If (feature 43 <= 1.0192656067064028)\n",
      "        If (feature 27 <= 2.917122360855718)\n",
      "         Predict: -0.11293474207032447\n",
      "        Else (feature 27 > 2.917122360855718)\n",
      "         Predict: 0.634385604323572\n",
      "       Else (feature 43 > 1.0192656067064028)\n",
      "        If (feature 1 <= 1.8805741480684497)\n",
      "         Predict: 2.5056591931115726\n",
      "        Else (feature 1 > 1.8805741480684497)\n",
      "         Predict: 1.7288289019502665\n",
      "      Else (feature 94 > 3.028403125021806)\n",
      "       If (feature 97 <= 4.2863972231385175)\n",
      "        If (feature 6 <= 2.898950698586086)\n",
      "         Predict: -0.00538810869646725\n",
      "        Else (feature 6 > 2.898950698586086)\n",
      "         Predict: 0.5833780349674924\n",
      "       Else (feature 97 > 4.2863972231385175)\n",
      "        If (feature 32 <= 1.5564133645376637)\n",
      "         Predict: 1.185822800782451\n",
      "        Else (feature 32 > 1.5564133645376637)\n",
      "         Predict: -0.8263923866748584\n",
      "    Else (feature 23 > 1.0035900941414533)\n",
      "     If (feature 38 <= 2.4985169475403777)\n",
      "      If (feature 34 <= 1.6508711694001317)\n",
      "       If (feature 39 <= 2.900952271283373)\n",
      "        If (feature 94 <= 4.4149009412968505)\n",
      "         Predict: 0.07070364399050728\n",
      "        Else (feature 94 > 4.4149009412968505)\n",
      "         Predict: -0.1530703791016979\n",
      "       Else (feature 39 > 2.900952271283373)\n",
      "        If (feature 98 <= 4.012816932493532)\n",
      "         Predict: -0.4372662110471873\n",
      "        Else (feature 98 > 4.012816932493532)\n",
      "         Predict: -0.12651227651947988\n",
      "      Else (feature 34 > 1.6508711694001317)\n",
      "       If (feature 57 <= 7.774687675320327)\n",
      "        If (feature 8 <= 1.0695035626828624)\n",
      "         Predict: -0.35108508005027084\n",
      "        Else (feature 8 > 1.0695035626828624)\n",
      "         Predict: -0.12955117818333878\n",
      "       Else (feature 57 > 7.774687675320327)\n",
      "        If (feature 94 <= 2.225693862967834)\n",
      "         Predict: -0.7042272642220185\n",
      "        Else (feature 94 > 2.225693862967834)\n",
      "         Predict: 2.444695092929303\n",
      "     Else (feature 38 > 2.4985169475403777)\n",
      "      If (feature 58 <= 8.266092873872593)\n",
      "       If (feature 19 <= 4.387671509666606)\n",
      "        If (feature 56 <= 6.782282995965491)\n",
      "         Predict: -0.3854309123636441\n",
      "        Else (feature 56 > 6.782282995965491)\n",
      "         Predict: 1.2776902219504649\n",
      "       Else (feature 19 > 4.387671509666606)\n",
      "        If (feature 1 <= 1.8805741480684497)\n",
      "         Predict: 0.3170660841419793\n",
      "        Else (feature 1 > 1.8805741480684497)\n",
      "         Predict: 2.4873948835268083\n",
      "      Else (feature 58 > 8.266092873872593)\n",
      "       Predict: 2.316457247213407\n",
      "\n"
     ]
    }
   ],
   "source": [
    "print(gbtModel.toDebugString)"
   ]
  },
  {
   "cell_type": "code",
   "execution_count": 203,
   "metadata": {
    "ExecuteTime": {
     "end_time": "2023-08-13T11:27:17.796152Z",
     "start_time": "2023-08-13T11:27:17.585048Z"
    },
    "id": "bNmeF2rjaMhE"
   },
   "outputs": [
    {
     "name": "stdout",
     "output_type": "stream",
     "text": [
      "+-----+--------------------+--------------------+--------------------+----------+\n",
      "|label|            features|       rawPrediction|         probability|prediction|\n",
      "+-----+--------------------+--------------------+--------------------+----------+\n",
      "|  0.0|(99,[3,15,24,36,4...|[1.51096892197482...|[0.95355542317705...|       0.0|\n",
      "|  0.0|(99,[3,15,24,36,4...|[1.51096892197482...|[0.95355542317705...|       0.0|\n",
      "|  0.0|(99,[3,15,24,36,4...|[1.51096892197482...|[0.95355542317705...|       0.0|\n",
      "|  0.0|(99,[3,15,24,36,4...|[1.51096892197482...|[0.95355542317705...|       0.0|\n",
      "|  0.0|(99,[3,15,24,36,4...|[1.51096892197482...|[0.95355542317705...|       0.0|\n",
      "|  0.0|(99,[3,15,24,36,4...|[1.00267317803291...|[0.88135726925531...|       0.0|\n",
      "|  0.0|(99,[3,15,24,36,4...|[1.51096892197482...|[0.95355542317705...|       0.0|\n",
      "|  0.0|(99,[3,15,24,36,4...|[1.51096892197482...|[0.95355542317705...|       0.0|\n",
      "|  0.0|(99,[3,15,24,36,4...|[1.51096892197482...|[0.95355542317705...|       0.0|\n",
      "|  0.0|(99,[3,15,24,36,4...|[1.51096892197482...|[0.95355542317705...|       0.0|\n",
      "|  0.0|(99,[3,15,24,36,4...|[1.51096892197482...|[0.95355542317705...|       0.0|\n",
      "|  0.0|(99,[3,15,24,36,4...|[1.51096892197482...|[0.95355542317705...|       0.0|\n",
      "|  0.0|(99,[3,15,24,36,4...|[1.51096892197482...|[0.95355542317705...|       0.0|\n",
      "|  0.0|(99,[3,15,24,36,4...|[1.51096892197482...|[0.95355542317705...|       0.0|\n",
      "|  0.0|(99,[3,13,24,36,4...|[1.51096892197482...|[0.95355542317705...|       0.0|\n",
      "|  0.0|(99,[3,13,24,36,4...|[0.83720631348457...|[0.84216325251763...|       0.0|\n",
      "|  0.0|(99,[3,13,24,36,4...|[1.51096892197482...|[0.95355542317705...|       0.0|\n",
      "|  0.0|(99,[3,13,24,36,4...|[1.51096892197482...|[0.95355542317705...|       0.0|\n",
      "|  0.0|(99,[3,13,24,36,4...|[1.51096892197482...|[0.95355542317705...|       0.0|\n",
      "|  0.0|(99,[3,13,24,36,4...|[1.51096892197482...|[0.95355542317705...|       0.0|\n",
      "+-----+--------------------+--------------------+--------------------+----------+\n",
      "only showing top 20 rows\n",
      "\n"
     ]
    }
   ],
   "source": [
    "# predykcje\n",
    "gbtModel.transform(df_eval).show()"
   ]
  },
  {
   "cell_type": "markdown",
   "metadata": {
    "id": "ihz9BH2oaMhF"
   },
   "source": [
    "### Naiwny Bayes"
   ]
  },
  {
   "cell_type": "code",
   "execution_count": 204,
   "metadata": {
    "ExecuteTime": {
     "end_time": "2023-08-13T11:27:26.836831Z",
     "start_time": "2023-08-13T11:27:26.816086Z"
    },
    "id": "UCvO_rkDaMhH"
   },
   "outputs": [],
   "source": [
    "bayes = classification.NaiveBayes()"
   ]
  },
  {
   "cell_type": "code",
   "execution_count": 205,
   "metadata": {
    "ExecuteTime": {
     "end_time": "2023-08-13T11:27:55.017752Z",
     "start_time": "2023-08-13T11:27:54.102260Z"
    },
    "id": "htrhZX-uaMhI"
   },
   "outputs": [],
   "source": [
    "bayesModel = bayes.fit(df_train)"
   ]
  },
  {
   "cell_type": "code",
   "execution_count": 208,
   "metadata": {
    "ExecuteTime": {
     "end_time": "2023-08-13T11:28:49.907443Z",
     "start_time": "2023-08-13T11:28:49.794762Z"
    },
    "id": "eQmm5MNZaMhI"
   },
   "outputs": [
    {
     "name": "stdout",
     "output_type": "stream",
     "text": [
      "+-----+--------------------+--------------------+--------------------+----------+\n",
      "|label|            features|       rawPrediction|         probability|prediction|\n",
      "+-----+--------------------+--------------------+--------------------+----------+\n",
      "|  0.0|(99,[3,15,24,36,4...|[-130.22225462507...|[0.99999999999999...|       0.0|\n",
      "|  0.0|(99,[3,15,24,36,4...|[-117.69902941287...|[0.99999999999996...|       0.0|\n",
      "|  0.0|(99,[3,15,24,36,4...|[-118.08460833743...|[0.99999999999996...|       0.0|\n",
      "|  0.0|(99,[3,15,24,36,4...|[-118.66297672428...|[0.99999999999996...|       0.0|\n",
      "|  0.0|(99,[3,15,24,36,4...|[-122.51876596994...|[0.99999999999996...|       0.0|\n",
      "|  0.0|(99,[3,15,24,36,4...|[-154.62418932850...|[0.99999991987258...|       0.0|\n",
      "|  0.0|(99,[3,15,24,36,4...|[-123.28386080512...|[0.99999999999994...|       0.0|\n",
      "|  0.0|(99,[3,15,24,36,4...|[-127.52522897534...|[0.99999999999993...|       0.0|\n",
      "|  0.0|(99,[3,15,24,36,4...|[-127.52522897534...|[0.99999999999993...|       0.0|\n",
      "|  0.0|(99,[3,15,24,36,4...|[-129.45312359817...|[0.99999999999993...|       0.0|\n",
      "|  0.0|(99,[3,15,24,36,4...|[-129.45312359817...|[0.99999999999993...|       0.0|\n",
      "|  0.0|(99,[3,15,24,36,4...|[-129.45312359817...|[0.99999999999993...|       0.0|\n",
      "|  0.0|(99,[3,15,24,36,4...|[-129.45312359817...|[0.99999999999993...|       0.0|\n",
      "|  0.0|(99,[3,15,24,36,4...|[-128.56638940077...|[0.99999999999990...|       0.0|\n",
      "|  0.0|(99,[3,13,24,36,4...|[-105.25257356144...|[0.99999999992870...|       0.0|\n",
      "|  0.0|(99,[3,13,24,36,4...|[-415.45408218261...|[1.0,4.9421795471...|       0.0|\n",
      "|  0.0|(99,[3,13,24,36,4...|[-127.06484017991...|[0.99999999999999...|       0.0|\n",
      "|  0.0|(99,[3,13,24,36,4...|[-113.19208873172...|[0.99999999999999...|       0.0|\n",
      "|  0.0|(99,[3,13,24,36,4...|[-115.11998335455...|[0.99999999999999...|       0.0|\n",
      "|  0.0|(99,[3,13,24,36,4...|[-115.50556227912...|[0.99999999999999...|       0.0|\n",
      "+-----+--------------------+--------------------+--------------------+----------+\n",
      "only showing top 20 rows\n",
      "\n"
     ]
    }
   ],
   "source": [
    "# predykcje\n",
    "bayesModel.transform(df_eval).show()"
   ]
  },
  {
   "cell_type": "markdown",
   "metadata": {
    "id": "GJLlJjMLaMhJ"
   },
   "source": [
    "### MLP (Multilayer Perceptron Classifier)"
   ]
  },
  {
   "cell_type": "code",
   "execution_count": 209,
   "metadata": {
    "ExecuteTime": {
     "end_time": "2023-08-13T11:29:19.799890Z",
     "start_time": "2023-08-13T11:29:19.779883Z"
    },
    "id": "dBFaek1WaMhJ"
   },
   "outputs": [],
   "source": [
    "mlp = classification.MultilayerPerceptronClassifier(maxIter=100, layers=[99, 40, 2])"
   ]
  },
  {
   "cell_type": "code",
   "execution_count": 210,
   "metadata": {
    "ExecuteTime": {
     "end_time": "2023-08-13T11:30:15.063482Z",
     "start_time": "2023-08-13T11:29:23.172113Z"
    },
    "id": "8ex8nJ5aaMhK"
   },
   "outputs": [
    {
     "name": "stderr",
     "output_type": "stream",
     "text": [
      "                                                                                \r"
     ]
    }
   ],
   "source": [
    "mlpModel = mlp.fit(df_train)"
   ]
  },
  {
   "cell_type": "code",
   "execution_count": 211,
   "metadata": {
    "ExecuteTime": {
     "end_time": "2023-08-13T11:30:21.695610Z",
     "start_time": "2023-08-13T11:30:21.688308Z"
    },
    "id": "UiLIrirHaMhK"
   },
   "outputs": [
    {
     "data": {
      "text/plain": [
       "Param(parent='MultilayerPerceptronClassifier_031cd4566c78', name='layers', doc='Sizes of layers from input layer to output layer E.g., Array(780, 100, 10) means 780 inputs, one hidden layer with 100 neurons and output layer of 10 neurons.')"
      ]
     },
     "execution_count": 211,
     "metadata": {},
     "output_type": "execute_result"
    }
   ],
   "source": [
    "mlpModel.layers"
   ]
  },
  {
   "cell_type": "code",
   "execution_count": 212,
   "metadata": {
    "ExecuteTime": {
     "end_time": "2023-08-13T11:30:25.371423Z",
     "start_time": "2023-08-13T11:30:25.328642Z"
    },
    "id": "kZWfkiPkaMhL",
    "scrolled": true
   },
   "outputs": [
    {
     "data": {
      "text/plain": [
       "DenseVector([0.4554, 0.0799, -0.3209, -0.5527, -0.5395, 0.1238, 0.4076, 0.1991, 0.0017, 0.0417, -0.246, 0.0569, 0.0098, 0.0508, 0.1935, 0.2084, 0.0494, -0.2959, 0.3071, 0.2938, 0.2929, 0.5414, -0.1394, 0.0676, -0.5613, 0.0717, 0.0099, -0.0438, -0.0494, -0.5785, 0.2934, -0.5305, 0.7413, 0.3741, 0.3226, -0.2936, -0.0678, -0.2394, -0.1923, 0.2054, -0.0133, -0.5194, 0.2991, 0.5876, -0.0347, 0.2392, -0.4287, 0.5326, -0.1049, 0.081, 0.6194, 0.0582, -0.005, 0.0321, -0.4554, -0.2595, -0.0199, 0.1833, -0.2674, -0.1143, -0.2589, 0.3905, -0.119, 0.5428, 0.2706, 0.1393, 0.2098, 0.0832, -0.4661, 0.1729, -0.1038, 0.7462, 0.4569, -0.0656, -0.1719, 0.305, 0.5263, 0.1837, 0.248, -0.2002, -0.2307, 0.1757, 0.0525, 0.3714, 0.3729, 0.2492, 0.0255, 0.0313, 0.4708, -0.2347, 0.4038, -0.2095, 0.1342, -0.1592, -0.5457, 0.1209, -0.0947, 0.1603, 0.1936, -0.23, 0.2671, -0.3586, 0.3603, -0.1111, -0.0873, 0.1819, -0.0504, 0.77, -0.1483, 0.6284, -0.2005, 0.4716, 0.1073, -0.2856, -0.0123, -0.0717, 0.2, 0.1138, 0.3074, 0.0664, 0.4384, 0.0803, 0.2285, -0.0464, -0.2621, 0.2753, 0.1881, 0.2503, 0.0064, 0.0453, 0.1512, -0.0008, -0.2162, -0.2216, -0.3179, -0.1185, 0.2641, -0.2852, 0.2391, 0.4176, -0.0004, 0.2403, 0.1882, -0.166, -0.1271, -0.1084, 0.1758, -0.1176, -0.0509, -0.0982, -0.0646, -0.0365, 0.3184, 0.3784, -0.3345, -0.0908, 0.1435, -0.1327, -0.6037, 0.1232, -0.0321, -0.1797, 0.3165, -0.5013, -0.0679, 0.5843, 0.433, 0.1191, -0.1794, -0.1817, 0.0774, -0.0412, -0.3753, 0.2345, -0.3177, 0.1068, -0.052, -0.0743, -0.1338, -0.0389, 0.0722, 0.1027, -0.3455, -0.0151, 0.4368, -0.1592, -0.1959, -0.6675, -0.1215, 0.3468, -0.0343, 0.4573, 0.3147, -0.4711, -0.3506, -0.0329, -0.5458, -0.0675, 0.3267, 0.2109, -0.1986, 0.0872, -0.032, 0.2316, 0.3736, -0.0314, 0.0414, 0.0375, 0.3578, 0.2602, -0.0976, 0.1942, -0.0736, 0.1811, 0.0809, -0.4256, 0.0982, 0.055, 0.0783, -0.1252, -0.0217, -0.0763, -0.2237, -0.2494, 0.5467, 0.2447, -0.2118, -0.091, -0.5719, -0.3945, -0.313, 0.2256, -1.2737, -0.3521, -0.2817, 0.0936, 0.4082, -0.0349, 0.0618, -0.2802, -0.5127, -0.0225, -0.2509, 0.3527, -0.0422, -0.098, 0.0191, -0.148, -0.9764, -0.0031, -0.6108, -0.2724, -0.1794, 0.1333, 0.4214, -0.1178, -0.3161, 0.2869, 0.1386, -0.2418, 0.3454, -1.0967, 0.3776, 0.1169, -0.4017, 0.2099, 0.0998, 0.0208, 0.3243, -0.2873, -0.3494, -0.1101, 0.1881, 0.0574, -0.2074, -0.2241, -0.0999, 0.4385, -0.0179, 0.0707, -0.1737, 0.1733, 0.0407, 0.1767, -0.1874, -0.2014, -0.1247, 0.2181, -0.089, 0.1684, -0.0734, -0.0722, 0.1335, 0.1651, -0.1289, 0.0458, 0.2373, -0.0184, 0.2193, -0.1887, 0.1446, 0.0909, -0.1163, -0.1927, 0.2017, 0.061, 0.0904, 0.1212, -0.175, -0.0884, 0.0362, 0.0147, -0.1563, -0.185, -0.2137, -0.0797, 0.1176, 0.0554, 0.1669, -0.2054, 0.5442, -0.073, -0.0503, 0.1352, -0.2569, 0.1716, 0.2062, -0.0717, -0.3897, -0.0741, 0.6332, -0.0512, -0.0647, -0.3706, 0.2515, -0.1376, 0.2155, -0.2408, 0.0146, 0.2377, 0.0393, 0.2134, 0.2269, 0.2181, -0.6211, 0.0374, -0.204, -0.0367, -0.7375, -0.2562, 0.3373, 0.5295, -0.5083, 0.5842, -0.1394, -0.2838, -0.6424, -0.1763, 0.3729, 0.2536, -0.7063, 0.161, 0.0521, -0.5676, -0.013, -1.1434, 0.7652, 0.2277, 0.6344, 0.0217, 0.0566, 0.2529, 0.2587, -0.1543, -0.2854, -0.1814, -0.0435, 0.2102, -0.1267, 0.0139, -0.0245, -0.0214, -0.1855, -0.1878, 0.3388, -0.1201, 0.2438, 0.1899, 0.06, 0.2854, 0.1147, -0.0725, 0.6104, 0.4313, -0.1493, -0.1939, 0.2807, 0.0888, 0.0222, -0.0499, -0.0469, -0.194, 0.2732, -0.0032, 0.2065, 0.5228, -0.4622, 0.1616, 0.0286, 0.3929, -0.2919, -0.133, 0.3285, 0.1803, 0.456, -0.0747, -0.0512, 0.0574, -0.0666, -0.4731, 0.1373, 0.0728, 0.0398, 0.1398, 0.1751, 0.167, 0.122, 0.2074, 0.0922, 0.2424, -0.0579, -0.0156, -0.5586, -0.5593, 0.3107, 0.2321, -0.2942, -0.7342, 0.6749, -0.4458, 0.4312, -0.1831, 0.1863, 0.3916, 0.3938, 0.3622, 0.1236, 0.0843, -0.5187, 0.1559, -0.2846, -0.1595, 0.165, 0.401, 0.2728, -0.0671, 0.03, 0.4697, -0.2028, 0.1145, -0.4272, -0.9651, -0.2078, -0.3303, 0.4071, 0.1956, 0.0281, 0.5184, 0.2187, 0.4531, -0.0429, -0.2895, -0.2807, -0.8046, 0.0995, 0.0999, 0.3352, 0.6341, 0.0524, -0.1679, 0.3865, 0.1833, -0.0424, -0.334, 0.1473, -0.5514, -0.3576, -0.1483, 0.5898, 0.1805, 0.3067, -0.0231, -0.0187, 0.1319, 0.4516, -0.2513, 0.1764, -0.1839, -0.2769, 0.0919, -0.1339, 0.0053, -0.1888, -0.0405, -0.1404, 0.0765, -0.1932, 0.3166, 0.0083, -0.603, -0.172, -0.0691, 0.4441, 0.1975, -0.1522, -0.2046, 0.2955, 0.452, -0.5018, 0.2117, 0.3595, -0.0189, 0.0605, 0.277, 0.0699, 0.5982, 0.0116, 0.4157, -0.0769, -0.0445, 0.1504, -0.2507, -0.0907, -0.192, -0.1515, 0.003, 0.2278, 0.004, 0.1313, -0.0781, 0.1156, 0.0732, -0.3117, 0.1868, -0.473, -0.0747, 0.0343, -0.0574, 0.2726, 0.1861, 0.1754, -0.2258, 0.7671, -0.0343, 0.2081, -0.1624, 0.0142, -0.1271, -0.6603, -0.0686, -0.3402, 0.0045, -0.1687, 0.0081, 0.0903, 0.1681, 0.1289, -0.068, -0.1325, -0.3032, -0.2683, 0.0739, -0.3032, 0.0151, 0.4379, 0.1372, -0.1469, 0.1613, -0.3447, -0.248, -0.147, -0.3082, 0.2378, -0.2565, -0.8151, 0.2827, 0.1777, -0.1197, -0.3311, -0.2405, 0.1696, 0.1042, -0.1172, -0.2302, 0.1278, -0.0024, 0.4906, 0.5694, -0.329, 0.0612, 0.2875, -0.0308, 0.016, -0.0852, 0.0154, 0.2838, 0.1703, 0.4989, -0.2727, -0.0424, -0.0027, -0.1658, -0.2242, -0.277, -0.3798, 0.4064, 0.1677, -0.3204, 0.5403, -0.0716, -0.2742, 0.9189, 0.0516, -0.0222, 0.5902, -0.2566, 0.0619, -0.0956, -0.3365, 0.2049, -0.103, -0.2751, -0.104, 0.3408, -0.0101, 0.03, 0.1342, 0.7714, 0.5995, 0.245, 0.0368, -0.111, -0.17, 0.4953, -0.2167, 0.3213, 1.071, -0.1512, -0.0728, 0.0502, 0.2579, 0.2451, -0.0869, 0.1373, 0.2722, 0.241, 0.1124, 0.0558, -0.037, 0.2381, -0.1277, 0.5051, 0.2203, -0.3114, -0.1288, -0.1018, 0.1554, -0.4483, 0.5155, -0.1473, -0.1724, 0.3883, 0.6125, 0.0866, 0.2192, 0.0968, -0.046, -0.5184, 0.2347, 0.3428, 0.1762, -0.0522, 0.1935, -0.5238, 0.1591, -0.4756, 0.088, -0.196, 0.2897, 0.2831, -0.2582, -0.2215, 0.1356, 0.2772, -0.0343, 0.4012, -0.1517, 0.0423, 0.1759, -0.2653, -0.1459, -0.4826, -0.3454, 0.2379, -0.7747, 0.3927, 0.038, -0.359, 0.6778, 0.4933, -0.4385, -0.1364, 0.1422, -0.5733, -0.2306, 0.1321, -0.0093, -0.2708, -0.2243, -0.0951, 0.2733, 0.2591, -0.0264, 0.3933, 0.0081, 0.5159, -0.0498, 0.3398, -0.2562, -0.1139, 0.1512, 0.1693, -0.2282, 0.0907, 0.1507, 0.2699, 0.2272, -0.1568, -0.2385, 0.1045, -0.1236, 0.367, 0.1138, -0.3285, -0.0647, -0.0662, 0.1331, 0.0917, 0.497, -0.8229, -0.1574, -0.0927, 0.0572, 0.0191, 0.2235, 0.3049, 0.0227, -0.4645, -0.2143, 0.3717, -0.3066, 0.2027, -0.1517, 0.0432, 0.1618, 0.3962, 0.2354, -0.1766, -0.1797, -0.2027, -0.2846, -0.2074, -0.0673, -0.0716, 0.4049, -0.1026, 0.1111, -0.0633, 0.4618, 0.1658, 0.117, 0.3581, 0.0019, -0.2322, 0.1103, -0.0482, 0.1964, -0.0243, -0.3841, -0.3078, -0.2122, -0.0626, -0.7089, 0.2993, -0.2351, 0.0171, 0.5433, -0.2315, 0.1193, 0.2839, 0.3184, 0.3253, 0.1162, 0.0292, 0.3687, -0.0283, -0.3844, -0.4038, -0.118, 0.376, 0.0465, 0.165, 0.0574, 0.1688, -0.8895, -0.3881, -0.0747, 0.2985, -0.0865, -0.1501, -0.529, -0.4812, -0.2422, 0.1532, 0.4112, -0.0759, -0.1865, -0.0492, 0.4776, 0.4367, -0.0868, -0.1325, -1.0244, -0.3033, -0.0732, 0.1031, 0.3423, 0.7535, -0.6041, -0.2263, -0.034, 0.5617, -0.034, -0.571, -0.3375, 0.5814, 0.2563, -0.1019, 0.6399, 0.0108, -0.1142, -0.152, 0.0189, 0.093, 0.2999, 0.5246, 0.1785, -0.0183, -0.0887, -0.0689, 0.0145, -0.1137, -0.1746, -0.1934, -0.5436, -0.1035, 0.2593, -0.4712, 0.1764, -0.1787, -0.1956, -0.1119, 0.5741, -0.1734, 0.0146, -0.052, 0.0629, -0.3945, -0.0747, 0.0914, -0.2414, 0.2502, -0.1331, -0.0208, 0.2049, 0.1709, 0.2487, -0.0377, -0.2749, 0.0774, 0.1189, -0.2331, -0.0262, -0.0428, 0.0515, 0.3952, -0.0366, -0.0762, -0.1239, -0.0393, -0.0878, 0.1316, 0.0018, 0.0801, 0.2232, 0.2501, 0.1465, 0.4621, -0.5511, 0.0999, -0.005, 0.1634, 0.2075, 0.2687, 0.1196, -0.3094, -0.1714, -0.2263, 0.3648, 0.0663, -0.0327, -0.0424, -0.0585, 0.1277, 0.4826, -0.6741, 0.0697, 0.2544, 0.5498, 0.3067, 0.376, -0.0505, 0.2666, 0.9408, 0.3179, -0.5917, -0.2262, 0.0797, 0.1181, -0.2646, -0.5816, -0.3881, 0.1366, -0.371, 0.4604, 0.3159, 0.07, -0.107, 0.4253, 1.0332, -0.5502, -0.162, -0.0632, -0.8555, -0.5385, 0.3922, -0.3904, -0.0643, 0.5229, -0.757, 0.391, 0.151, 0.0777, 0.0732, -0.1082, 0.614, 0.6853, 0.7271, 0.0699, -0.4975, 0.0514, 0.1996, 0.0076, -0.405, -0.3548, 0.3775, 0.1791, -0.2276, 0.1252, 0.1267, 0.7188, 0.7581, 0.0434, -0.0567, -0.3952, -0.1185, 0.1936, -0.3295, -0.8964, -0.6762, -0.0052, 0.4606, 0.9167, 0.8673, -0.1114, -0.0937, -0.6164, 0.0458, -0.1042, 0.8649, -0.3733, 0.2093, -0.1973, -0.1408, -0.0495, 0.7502, 0.3205, -0.2085, -0.1383, -0.2319, -0.2734, 0.1971, 0.1735, -0.3978, 0.2372, 0.4236, -0.1351, -0.0205, 0.4483, -0.1054, -0.2475, 0.5644, 0.1614, 0.3938, 0.1812, 0.1634, -0.1721, 0.5902, -0.2917, -0.3387, 0.1862, 0.1015, 0.2848, 0.1219, 0.1468, -0.0061, -0.2647, 0.5954, 0.1373, 0.3037, -0.2663, -0.3409, 0.0477, 0.3708, -0.3882, 0.725, 0.3615, 0.3568, -0.2742, -0.1192, -0.0102, 0.1927, -0.1628, -0.1065, -0.3873, 0.1529, 0.1975, 0.0681, -0.1515, 0.1483, 0.4144, -0.5352, 0.0012, 0.0558, -0.1558, 0.1285, 0.0501, 0.0662, -0.4444, -0.6216, 0.0267, -0.0954, 0.0141, 0.5866, 0.0387, 0.1326, 0.4739, 0.34, -0.1757, 0.1786, 0.1945, 0.0557, 0.1059, -0.48, -0.0663, -0.5741, 0.3295, -0.5342, 0.1077, -0.017, -0.0975, 0.1807, 0.1658, -0.2627, -0.6748, -0.0585, -0.0475, -0.1165, 0.1421, 0.5713, -0.2463, 0.6574, -0.0484, 0.026, -0.1803, -0.1372, 0.2622, 0.0654, -0.664, -0.6071, -0.2736, -0.4665, 0.0962, 0.4638, 0.2858, -0.1787, 0.3104, -0.3407, 0.4527, 0.3327, -0.0881, 0.1167, -0.1238, 0.0302, -0.076, 0.3603, 0.7075, 0.3991, -0.2398, 0.0054, -0.1837, -0.2064, -0.4485, -0.169, 0.0197, 0.0981, -0.1584, -0.1752, -0.2554, 0.1287, 0.2631, -0.0398, 0.1913, 0.0481, -0.382, -0.0746, 0.0782, -0.139, -0.0448, -0.0305, 0.0965, 0.5547, -0.2279, -0.0092, 0.1265, -0.2819, 0.3903, -0.351, 0.4441, 0.145, -0.0835, 0.2486, 0.2328, 0.1452, -0.0749, 0.5589, -0.1386, 0.0374, 0.4555, 0.2008, 0.3305, -0.0067, -0.0367, -0.1322, 0.1975, -0.0549, -0.0663, 0.0229, 0.0938, -0.0067, -0.3313, -0.1142, 0.2421, -0.3001, 0.3486, 0.0794, -0.0088, 0.1647, 0.0346, -0.225, 0.0981, -0.0935, -0.2611, -0.3265, 0.0376, 0.3413, -0.4138, 0.1714, -0.2886, 0.0146, -0.0215, -0.624, -0.0741, -0.4551, -0.0168, -0.0412, -0.0835, 0.4162, -0.08, 0.3708, 0.4822, -0.007, 0.2502, 0.2401, -0.0574, -0.4832, -0.1311, 0.2954, 0.2071, -0.1034, -0.1896, -0.6265, -0.0061, 0.2049, -0.4377, 0.2, -0.0832, -0.1227, -0.275, -0.1211, 0.2917, -0.5209, -0.0844, -0.3025, 0.1349, 0.3949, -0.4517, 0.3099, 0.0827, -0.7703, 0.4647, 0.2109, 0.1443, 0.1481, 0.3289, 0.3953, -0.3921, -0.3317, -0.2837, 0.3971, 0.469, 0.0828, 0.2123, 0.3092, 0.6091, 0.0622, 0.0537, 0.381, -0.0429, -0.2767, 0.1064, 0.0005, -0.3427, 0.1199, 0.4166, 0.0993, -0.0515, 0.3789, -0.8147, 0.4355, -0.1594, 0.2286, -0.2956, -0.5128, -0.3297, -0.2047, 0.0323, 0.1349, -0.558, -0.1628, 0.4395, 0.3144, -0.2764, 0.1391, -0.1201, 0.566, 0.2802, -0.4235, 0.0897, 0.0582, -0.1916, -0.252, -0.163, -0.3339, -0.1917, 0.1053, 0.236, -0.1346, 0.1457, 0.3173, 0.0727, 0.2905, -0.1998, -0.2478, 0.1238, 0.0751, 0.1873, -0.3252, -0.2194, -0.3542, 0.0471, 0.1656, -0.0564, 0.0355, 0.1252, -0.1162, 0.1069, -0.3808, -0.6782, 0.3845, -0.0248, -0.2103, 0.1258, 0.344, 0.1232, -1.1566, -0.1197, 0.134, 0.2944, 0.3093, -0.0, 0.0365, -0.3381, -0.0299, -0.091, 0.165, -0.1478, -0.0825, -0.144, -0.2225, 0.0727, 0.121, 0.2321, -0.0533, -0.0192, -0.0845, 0.1837, 0.2473, 0.0138, 0.5951, -0.3198, -0.5414, 0.7269, -0.151, 0.2199, -0.1639, 0.0629, -0.3919, 1.0762, -0.2629, -0.2672, -0.3729, -0.1526, 0.2361, -0.0709, -0.1584, 0.8806, 0.1475, 0.2806, -0.3918, -0.4911, -0.2095, 0.0484, -0.4583, -0.245, -0.1177, 0.1293, -0.193, -0.0458, -0.0938, -0.303, 0.3591, -0.3541, 0.2452, 0.2708, -0.3039, -0.0645, -0.3258, 0.3428, -0.0356, 0.1021, 0.6453, 1.0307, 0.0885, 0.3446, 0.1878, 0.2521, -0.0676, -0.0423, 0.4958, -0.3727, 0.2824, 0.1393, -0.1926, -0.3035, 0.1946, 0.4001, -0.1491, 0.275, -0.1074, -0.5703, -0.0162, 0.2906, -0.0175, -0.271, 0.5231, 0.2293, -0.0174, -0.0631, -0.0576, 0.0904, -0.4626, -0.2743, -0.0001, -0.4837, -0.1325, -0.1903, -0.2582, 0.048, 0.0211, -0.2613, -0.2434, -0.3043, 0.0738, 0.2312, -0.1797, -0.0369, 0.2078, 0.4295, 0.3199, 0.1653, 0.1817, 0.2112, -0.109, -0.0608, 0.2224, 0.432, 0.1846, -0.3335, -0.2239, 0.2732, -0.2097, -0.0283, -0.1005, -0.1689, 0.1897, 0.2148, 0.1204, 0.1926, 0.0464, 0.1276, 0.1472, 0.0666, 0.214, -0.2156, -0.0071, 0.0547, 0.2297, -0.296, 0.0235, 0.1958, -0.2218, 0.1432, 0.7896, -0.089, -0.0876, -0.2086, 0.153, -0.3773, 0.0549, -0.0777, 0.4434, -0.0285, -0.4114, 0.0665, -0.4345, -0.6209, -0.2945, -0.0478, -0.2162, -0.5901, 0.2486, 0.2077, -0.006, -0.091, -0.1674, -0.0977, 0.1683, 0.2546, 0.0949, 0.399, 0.2798, 0.0862, 0.1516, -0.7615, 0.1702, -0.1474, -0.666, 0.2231, -0.2587, -0.0805, 0.2463, -0.5011, -0.0452, -0.3332, -0.0673, -0.3842, 0.2279, -0.3603, 0.2901, -0.0235, -0.0934, -0.1462, -0.0896, -0.3776, 0.5179, 0.1969, 0.1246, -0.2827, 0.1071, 0.2246, 0.0513, -0.1997, -0.3135, -0.0263, -0.0928, 0.1229, -0.074, 0.2447, -0.1374, 0.1541, 0.4061, 0.0426, 0.0537, -0.2861, -0.2053, 0.1172, 0.4273, 0.1791, -0.2846, -0.2233, 0.0795, 0.8491, 0.3496, -0.0403, -0.1356, -0.0629, -0.1065, 0.1174, 0.2854, 0.2952, -0.0715, -0.2375, 0.1043, 0.0411, -0.1547, -0.4138, 0.5471, 0.0698, 0.0798, -0.3722, -0.117, -0.2378, -0.301, -0.5335, 0.4393, 0.2363, -0.2892, -0.4512, 0.1171, 0.0642, 0.6202, 0.1915, 0.4496, -0.1358, -0.1512, -0.1412, 0.5927, 0.3908, -0.0306, -0.1746, 0.7907, -0.3446, 0.2946, 0.2053, 0.2133, 0.0146, -0.0543, 0.8189, 0.2508, -0.0679, 0.2765, -0.1822, -0.1597, 0.1843, -0.0277, 0.748, -0.358, 0.1458, 0.1177, 0.226, 0.2156, -0.0478, -0.1291, 0.6967, 0.1391, -0.2124, 0.0252, 0.1259, -0.0701, -0.307, -0.0948, 0.0097, 0.21, -0.1297, 0.0194, -0.1734, 0.1673, 0.0315, -0.316, 0.383, -0.6872, -0.2553, -0.1385, 0.0609, 0.1813, 0.126, -0.5607, 0.2785, -0.1296, 0.2839, -0.3623, -0.1674, 0.6906, -0.132, -0.1366, 0.3715, 0.4083, -0.1548, 0.0568, -0.273, -0.1709, -0.3392, -0.0169, 0.4594, -0.1642, 0.218, -0.1626, -0.8683, 0.2345, -0.3577, -0.24, 0.2429, -0.3555, -0.0803, 0.1497, 0.0162, 0.7626, 0.5593, -0.2787, -0.1155, 0.204, -0.9428, 0.2781, 0.0282, 0.1142, 0.1201, -0.0182, 0.303, -0.3064, 0.3232, -0.1731, 0.1067, 0.0707, -0.1042, 0.7226, 0.257, -0.0535, 0.2577, -0.1231, -0.204, -0.1239, 0.1241, -0.1907, -0.4954, -0.0647, -0.0815, -0.0587, 0.076, -0.1948, 0.4617, 0.3414, 0.0661, -0.0359, -0.5001, -0.2407, 0.1302, 0.1136, -0.2816, -0.4628, -0.0045, 0.3729, 0.6578, 0.0605, 0.0529, 0.0419, -0.0776, -0.0555, 0.107, 0.0903, -0.1836, -0.0282, 0.2026, 0.2272, 0.3767, -0.178, 0.0148, 0.0901, 0.2351, 0.5739, 0.5408, -0.0619, 0.2657, 0.5671, 0.3577, -0.3867, -0.4891, 0.0844, -0.301, -0.4577, -0.3144, -0.4763, -0.2254, -0.1548, 0.2518, 0.4217, -0.0707, -0.2391, 0.4918, 0.5412, -0.6526, 0.1654, 0.2579, -0.9774, -0.2443, 0.0212, 0.2141, -0.4363, 0.2402, -0.9758, -0.5757, 0.2038, 0.1501, -0.2898, 0.1106, 0.2498, -0.3873, -0.5484, -0.5205, -0.3055, 0.2765, -0.0504, 0.0953, -0.1168, 0.2906, -0.0616, 0.199, -0.2189, 0.1328, 0.1161, -0.0986, -0.5355, -0.0366, 0.0141, 0.1159, 0.0828, -0.1001, 0.3018, -0.1656, -0.1211, 0.1676, -0.229, 0.336, 0.2424, 0.141, -0.1187, 0.1982, -0.4711, -0.3938, 0.502, -0.2146, -0.1195, -0.1543, -0.0984, -0.297, -0.2547, 0.1669, 0.0339, -0.3817, -0.065, 0.3435, 0.1284, -0.2817, -0.7091, -0.0319, 0.1095, 0.3905, -0.2662, -0.4108, 0.3451, 0.2485, 0.9905, -0.0104, -0.1025, -0.3315, -0.1196, 0.1687, -0.2865, 0.184, -0.5487, -0.0344, 0.4629, -0.6494, 0.6878, 0.3307, 0.1072, -0.6868, -0.1135, -0.6042, 0.427, -0.0837, -0.1519, -0.023, -0.6564, -0.1477, -0.0522, 0.5037, 0.0403, -0.1309, -0.3299, 0.0349, 0.168, 0.3288, -0.2787, -0.0694, 0.2668, 0.3386, -0.0332, -0.4932, 0.3498, 0.128, 0.2313, -0.3373, 0.252, 0.485, 0.161, 0.1678, -0.5114, 0.2408, -0.0671, -0.1185, -0.1947, -0.5613, 0.2334, 0.2465, 0.1966, 0.2916, -0.09, 0.1767, 0.3267, -0.1663, -0.0656, -0.2423, 0.5017, 0.2903, -1.6182, -0.414, -0.1354, 0.3886, -0.0691, 0.0146, -0.1375, -0.1618, 0.0982, 0.0697, -0.041, -0.1394, -0.0853, -0.2434, -0.5018, -0.2064, -0.3485, 0.1537, -0.5014, 0.0827, 0.0129, 0.0059, 0.3077, 0.3886, 0.5006, 0.1922, 0.546, -0.2756, -0.687, 0.0833, -0.0369, 0.3174, -0.1916, -0.4546, -0.5274, -0.2192, 0.1202, 0.3101, -0.2383, 0.2852, -0.1102, 0.323, 0.3269, -0.1678, 0.166, 0.3752, -0.0321, -0.1455, 0.3181, 0.3045, -0.0622, -0.2558, -0.0903, 0.1668, -0.2337, -0.1788, 0.446, -0.1079, -0.2189, 0.421, 0.1797, -0.1891, 0.1749, 0.8833, 0.2476, -0.1707, 0.443, 0.2593, -0.2451, -0.1682, 0.1797, -0.1065, -0.2577, -0.113, -0.1578, 0.1455, 0.3372, -0.0128, -0.1998, -0.0693, -0.8247, -0.305, -0.3598, -0.5666, -0.0793, -0.3006, -0.102, -0.074, 0.0424, -0.1971, -0.0034, 0.2929, -0.1843, -0.2713, 0.0652, 0.2513, -0.1125, 0.1361, 0.032, -0.896, -0.1363, 0.0766, -0.3403, 0.1513, -0.471, -0.2764, -0.6177, -0.2544, 1.0083, 0.1454, -0.03, -0.2541, -0.1129, -0.3846, 0.0559, -0.4367, -0.1319, 0.2106, 0.4837, -0.2289, 0.4714, 0.1531, -0.1743, 0.1207, 0.0166, 0.4514, -0.1311, -0.2947, 0.1332, -0.07, 0.0248, -0.1947, 0.0499, -0.2246, -0.0118, -0.3779, -0.7428, -0.3868, 0.115, 0.0316, -0.065, 0.0198, -0.5074, -0.6968, 0.268, -0.1549, -0.0236, 0.2112, -0.1568, 0.2092, 0.3004, -0.0885, -0.2172, 0.8196, 0.1014, -0.4388, -0.3281, -0.2495, -0.3683, 0.1058, 0.1599, -0.0549, 0.2998, -0.2363, -0.1259, 0.4318, 0.0755, 0.1211, 0.0207, -0.1317, -0.1588, -0.1941, 0.0267, -0.0936, -0.1252, -0.3363, 0.5962, -0.0298, -0.0422, -0.0365, -0.0085, -0.1147, -0.1564, -0.3341, -0.0679, -0.1757, 0.5821, 0.188, 0.1031, 0.0307, 0.2447, 0.0255, 0.1672, 0.212, 0.0719, -0.0612, -0.2743, 0.0588, -0.3593, 0.5129, -0.6988, -0.4029, -0.0322, -0.0875, 0.5076, 0.4357, -0.1131, 0.1528, 0.4088, 0.6579, -0.3573, -0.1507, 0.2727, -0.1496, -0.2213, -0.4687, -0.3555, -0.1155, -0.4562, -0.1915, 0.1436, 0.0853, 0.3222, -0.186, 0.1991, -0.7614, -0.2805, -0.0759, -0.3009, -0.0688, 0.1103, -0.7483, -0.2122, 0.382, -0.3111, 0.2971, 0.4222, 0.2778, 0.0401, 0.0468, 0.3194, 0.4991, -0.1539, 0.0254, 0.0146, 0.1656, 0.1891, 0.1909, 0.1898, 0.293, -0.2376, -0.1286, 0.2086, 0.7309, -0.367, -0.0028, 0.9114, -0.1045, 0.0759, 0.0999, 0.2297, -0.2353, 0.1396, -0.4001, -0.2652, 0.0397, 0.3482, 0.9639, 0.1999, -0.1516, -0.3227, -0.6423, -0.1296, 0.2854, 0.1939, 0.1432, -0.2586, -0.1801, -0.4982, -0.6009, -0.0627, 0.4113, 0.2887, -0.0953, -0.3837, -0.3662, -0.0669, -0.3418, -0.3007, -0.0619, 0.4136, 0.1791, -0.2273, -0.3467, 0.4484, 0.1332, 0.4505, 0.1576, 0.2513, -0.5578, 0.0977, 0.1412, 0.3701, 0.1083, -0.6457, 0.0028, 0.872, -0.2758, -0.0451, -0.2564, -0.0304, 0.0525, 0.0256, 0.1924, 0.3865, 0.1793, -0.1773, -0.1769, 0.4224, -0.0456, -0.1212, 0.4723, 0.2561, -0.4196, 0.1637, -0.0106, 0.0491, 0.1094, 0.0306, -0.917, -0.2308, -0.1228, -0.175, 0.2811, -0.161, 0.0221, -0.847, 0.2316, 0.1289, -0.177, 0.2119, 0.0059, 0.0734, -0.2369, -0.0457, 0.0846, 0.0534, -0.1256, 0.0667, -0.1897, -0.1441, 0.3633, 0.0713, -0.0109, -0.0243, -0.1356, 0.1525, -0.084, -0.2274, -0.2881, -0.5104, 0.138, 0.4874, 0.1231, 0.2248, 0.013, -0.0376, -0.0688, 0.1487, -0.3441, 0.1376, -0.1112, -0.1538, 0.0166, 0.1757, -0.1952, -0.6138, 0.0017, 0.0649, -0.1179, -0.1083, -0.0761, -0.6079, -0.3967, -0.1687, -0.2119, -0.1231, 0.3203, 0.1148, -0.3344, 0.0056, -0.082, -0.0855, -0.4199, 0.3131, 0.1634, -0.2283, 0.1351, 0.0437, -0.0246, 0.2486, 0.2457, 0.2857, 0.096, -0.1753, 0.1575, 0.1289, -0.2103, -0.4071, 0.4808, -0.0395, 0.2421, -0.0173, -0.1445, 0.2005, 0.0981, 0.4833, 0.0112, 0.0206, 0.085, 0.21, 0.1945, 0.2322, -0.374, 0.037, -0.1709, -0.0522, -0.1039, 0.0973, -0.0719, 0.0793, 0.0693, -0.3737, 0.0696, 0.0537, 0.239, 0.2163, -0.0027, 0.7708, -0.031, 0.4716, -0.2758, -0.2414, -0.5239, -0.223, 0.0013, 0.1421, 0.2297, 0.2424, 0.0227, 0.2237, 0.016, 0.0004, -0.4416, 0.1803, -0.1722, 0.302, -0.2126, 0.1026, -0.0408, 0.1359, 0.2698, -0.5302, -0.173, -0.5176, -0.1747, 0.2365, -0.2054, 0.5021, -0.1288, 0.0068, -0.2207, -0.2247, 0.2121, 0.2291, 0.2372, -0.0619, 0.0364, -0.0903, 0.1629, -0.5765, 0.2829, 0.0266, -0.0466, 0.0076, 0.0849, -0.0758, 0.0944, 0.1663, -0.1153, -0.1508, 0.2887, -0.0068, -0.4488, 0.0868, 0.403, 0.0064, 0.3242, -0.0911, -0.4316, -0.0785, -0.1382, 0.1516, -0.2907, 0.4361, -0.1097, -0.2027, -0.5419, 0.1022, 0.2469, -0.0505, -0.2367, 0.3265, -0.0901, 0.2871, 0.0885, -0.092, 0.0683, -0.1073, 0.2087, 0.1321, -0.0308, -0.1955, -0.15, -0.0918, -0.1956, 0.05, -0.0956, 0.0404, -0.0233, 0.0249, -0.023, 0.1452, -0.4352, -0.1341, 0.3748, 0.0868, 0.2126, -0.1193, 0.0409, -0.3541, -0.2049, 0.2643, 0.1753, -0.3916, -0.0979, -0.1008, -0.2641, 0.2814, -0.1715, 0.1378, 0.1544, 0.341, 0.4902, 0.2136, -0.039, -0.1611, 0.042, -0.1973, 0.2254, 0.3993, 0.1062, -0.039, -0.0853, -0.1425, 0.0708, -0.2349, -0.1535, 0.1162, -0.0032, 0.2482, 0.1941, -0.0118, 0.164, 0.0455, 0.3639, -0.1285, -0.1889, 0.0738, -0.2418, 0.0136, -0.1898, 0.2767, -0.1252, 0.1692, -0.0605, -0.0277, 0.0138, -0.1016, 0.0988, 0.0572, -0.0868, 0.2802, 0.0842, -0.0734, 0.1302, 0.0896, 0.0365, 0.0914, -0.1267, 0.6602, 0.6467, -0.2256, 0.2774, -0.0276, 0.2315, -0.1174, -0.2947, 0.1521, 0.1012, -0.2474, 0.3092, -0.1814, -0.3553, 0.3091, -0.0438, 0.1089, -0.1562, 0.0418, -0.2604, 0.0844, -0.0945, -0.1834, 0.0555, 0.0327, -0.2213, -0.008, -0.1796, -0.0849, 0.0526, 0.0908, 0.2605, -0.0914, -0.4074, -0.0521, 0.3182, -0.2151, 0.125, 0.1942, 0.1654, 0.1072, -0.1075, 0.1151, 0.2846, -0.1288, -0.2029, 0.2403, -0.1732, 0.1088, -0.3872, -0.1602, 0.1032, 0.225, -0.2509, 0.2442, -0.0185, -0.6289, -0.2314, -0.2781, -0.5032, -0.2443, -0.1918, 0.0491, 0.6275, 0.1256, 0.0971, -0.1835, -0.2119, -0.1369, -0.0513, -0.1424, 0.0971, 0.4842, -0.7067, 0.2804, -0.1629, 0.2689, -0.1622, 0.2519, 0.0624, 0.3129, -0.1657, 0.1572, 0.2387, 0.0933, -0.4575, 0.1616, 0.1221, -0.1474, 0.0033, 0.2293, 0.1596, 0.132, -0.2897, -0.0751, 0.3778, 0.223, 0.4476, 0.0313, 0.176, -0.1338, 0.0323, -0.1503, -0.2501, -0.0951, -0.0413, -0.1362, 0.0936, 0.2288, -0.2337, -0.0318, -0.0479, -0.2313, 0.0732, 0.0582, 0.2044, 0.0007, 0.0911, -0.496, -0.1685, -0.0053, -0.0595, -0.2672, 0.2854, -0.0676, 0.2051, 0.099, 0.1658, 0.1002, 0.3065, 0.0662, 0.1777, -0.1119, -0.106, -0.1943, 0.1776, 0.0162, -0.2106, 0.3254, 0.0462, -0.2172, 0.0063, 0.1719, -0.5508, -0.1259, -0.1873, -0.5189, 0.1604, -0.2221, -0.1848, -0.0107, -0.0998, -0.0408, 0.368, -0.0359, -0.1682, 0.3376, 0.1297, 0.4893, -0.2021, 0.5577, 0.1234, -0.0818, -0.2127, -0.135, -0.0686, 0.2265, -0.2255, 0.0951, 0.0115, 0.0135, -0.0957, -0.2725, 0.2421, 0.316, -0.223, 0.0388, -0.167, 0.2367, 0.1908, 0.1343, 0.1786, -0.552, 0.3819, 0.1345, 0.2338, 0.1192, 0.1975, -0.1126, -0.2359, 0.2318, 0.2071, 0.0613, -0.2795, 0.1821, -0.0432, 0.2686, -0.017, 0.2637, -0.2232, 0.4341, 0.3229, -0.0372, 0.197, 0.1736, 0.1295, -0.0458, 0.2291, -0.1164, -0.4866, 0.0453, 0.0893, -0.049, -0.048, 0.1405, 0.1374, -0.3519, 0.2409, -0.0996, 0.0412, -0.2398, -0.0412, -0.2917, -0.1534, 0.0759, -0.038, -0.2632, 0.099, 0.2235, 0.1659, -0.1777, 0.1192, 0.3209, -0.0477, -0.0337, -0.1999, -0.1776, 0.1138, -0.1061, -0.6925, -0.0772, -0.0597, 0.46, 0.2562, 0.191, 0.4257, 0.2234, -0.0338, -0.2865, 0.1946, 0.5181, -0.2281, 0.0313, -0.2942, -0.0676, 0.0447, 0.2612, 0.0154, -0.1357, 0.286, 0.0997, -0.2022, -0.1082, -0.1011, -0.0568, -0.022, 0.0237, -0.0772, 0.3097, 0.0988, -0.4306, -0.4817, 0.0162, 0.1646, 0.0395, -0.2408, 0.1379, 0.1694, -0.1669, 0.149, 0.0028, -0.1477, 0.2257, -0.1494, 0.1537, 0.3645, -0.222, 0.2368, 0.2038, 0.2065, -0.0077, -0.1352, -0.0726, -0.2172, 0.3278, -0.2078, -0.1597, 0.0414, -0.0069, 0.196, -0.0648, 0.1243, 0.2055, -0.2574, -0.3951, -0.2077, -0.2144, 0.1483, 0.3101, -0.2258, -0.0077, -0.7198, -0.1942, -0.0496, 0.2148, -0.162, -0.0646, 0.1348, -0.0822, 0.1298, -0.4593, -0.0909, 0.1525, -0.3998, 0.0269, 0.2387, -0.1914, 0.189, 0.0001, 0.1658, -0.1451, 0.2377, 0.0773, 0.1319, 0.0254, -0.1503, -0.0098, 0.0677, 0.1216, -0.5335, -0.248, -0.2269, -0.1239, 0.0436, -0.1512, 0.1787, 0.026, 0.3239, -0.0998, -0.1008, -0.1972, -0.1358, -0.0909, 0.185, 0.0015, -0.1269, -0.1676, 0.0196, -0.2294, -0.1584, -0.0221, -0.4012, 0.2249, 0.2366, 0.1966, -0.25, -0.1974, -0.0122, -0.1495, 0.1409, 0.3748, 0.0832, -0.0496, -0.2973, 0.0875, 0.3166, 0.1413, -0.0328, -0.2271, -0.4543, -0.1891, -0.2178, -0.5539, -0.2417, 0.1311, 0.0517, 0.0573, 0.4381, 0.2958, -0.2262, 0.1334, 0.0476, 0.1005, 0.0543, 0.0346, -0.12, 0.0513, 0.2067, -0.2128, -0.3111, 0.1921, 0.2971, 0.1563, -0.0891, 0.1679, 0.2369, 0.2272, 0.2007, -0.2734, 0.0669, 0.2173, -0.1575, -0.1164, 0.138, -0.0676, 0.2699, 0.2853, -0.1553, -0.1102, -0.1946, -0.1491, -0.0096, 0.2176, 0.1271, -0.1031, -0.0141, -0.0564, 0.1777, -0.1151, -0.2193, 0.0641, 0.1698, 0.1044, 0.1291, 0.2186, 0.1205, -0.0678, 0.23, -0.0851, -0.0698, -0.1904, -0.0395, 0.2457, -0.2136, 0.1672, 0.1742, 0.0636, -0.1662, -0.1284, 0.0989, 0.0129, -0.1734, -0.0879, -0.2859, 0.2593, 0.0673, 0.1533, 0.0902, -0.1042, -0.2009, -0.0009, 0.0749, 0.091, -0.2616, -0.2698, -0.2306, -0.0185, 0.0338, -0.004, -0.2315, 0.0942, 0.2259, -0.0261, -0.0421, 0.099, 0.4914, -0.2298, 0.1402, -0.235, -0.0543, -0.2564, -0.1949, 0.2378, -0.1325, 0.2361, 0.0311, 0.1509, -0.1517, -0.2538, 0.1263, -0.1637, -0.0505, -0.2146, 0.2736, -0.071, 0.0978, -0.423, -0.1596, 0.2234, -0.1352, -0.171, 0.0962, 0.1801, 0.0282, 0.0539, -0.1526, -0.0462, 0.0898, -0.1545, -0.0517, -0.1128, -0.1282, -0.5287, -0.063, -0.0368, 0.0918, 0.1073, 0.2374, -0.2802, -0.1535, -0.2968, 0.2298, 0.5219, -0.1414, 0.1775, 0.1, 0.2132, 0.0092, -0.2135, -0.187, 0.1047, 0.0739, 0.0603, -0.2282, -0.0077, -0.2334, -0.1322, 0.2283, -0.1752, -0.0247, -0.2078, 0.0517, 0.3365, 0.0955, 0.2231, -0.075, -0.1233, 0.1283, -0.0591, -0.1949, 0.1771, 0.0888, 0.0062, 0.3014, 0.1666, -0.1717, -0.1641, 0.1931, 0.0713, -0.0692, 0.372, 0.4085, -0.2363, -0.0341, 0.0109, -0.0415, -0.1178, 0.0786, 0.2035, 0.106, 0.055, 0.0903, -0.1016, -0.1078, -0.1114, 0.1168, 0.0905, -0.214, -0.0335, -0.4827, -0.279, -0.2327, -0.3, -0.0462, -0.2619, 0.4598, -0.2546, -0.0711, 0.1455, -0.1927, 0.0132, 0.0539, 0.3748, 0.1647, -0.1425, -0.1801, -0.1145, -0.0342, -0.2929, -0.1323, 0.1608, -0.2074, 0.0167, -0.0649, 0.1457, -0.3185, 0.1179, -0.1424, -0.108, 0.207, 0.1035, -0.0872, 0.167, -0.22, -0.1536, 0.0365, -0.0153, 0.0884, -0.195, -0.1958, -0.2495, -0.1038, -0.1331, -0.387, 0.0127, -0.0813, -0.2062, -0.2254, -0.2071, 0.0785, -0.2113, -0.345, 0.1743, -0.087, -0.0839, -0.2394, -0.138, 0.1727, -0.2485, -0.2117, 0.3745, 0.1899, 0.1698, -0.0749, -0.1924, 0.0263, -0.1309, -0.0189, -0.1032, -0.1459, 0.1271, -0.0704, 0.1455, -0.2049, 0.088, -0.1821, -0.2096, 0.2127, -0.1339, 0.0875, -0.1359, 0.0551, 0.3045, 0.0392, -0.1319, -0.0016, 0.2372, 0.1601, 0.1054, 0.3106, 0.1696, -0.148, 0.0496, 0.0049, 0.044, -0.0046, 0.1151, 0.2404, 0.0951, -0.2641, 0.0645, 0.2375, -0.2411, 0.0308, -0.1359, 0.0777, -0.1562, -0.0796, 0.0486, -0.2006, -0.1089, 0.1164, 0.0094, -0.0111, -0.0852, -0.2103, -0.0645, 0.0229, -0.2158, -0.0195, 0.1764, -0.0574, -0.0659, 0.2615, 0.1919, 0.103, -0.1549, -0.2574, -0.165, -0.045, -0.0576, -0.3478, -0.1878, -0.1119, 0.1701, -0.0805, 0.1318, 0.1034, 0.1777, -0.0083, 0.0774, 0.0053, 0.0858, -0.124, 0.0981, -0.0334, -0.0863, 0.1292, -0.197, -0.1898, 0.1666, -0.0427, 0.0563, 0.1675, -0.0119, -0.1156, -0.2296, 0.1567, 0.2424, -0.0602, -0.1118, -0.1188, 0.0932, 0.1877, 0.2151, -0.2062, -0.1747, 0.1179, -0.232, 0.2753, -0.153, 0.1242, -0.2248, 0.1405, 0.0736, 0.1327, -0.1804, -0.1488, -0.0714, 0.2163, 0.2494, 0.2173, 0.0192, 0.1069, -0.2027, -0.0326, -0.1849, -0.0282, -0.079, 0.2324, -0.0219, 0.1173, -0.0731, 0.0376, -0.1014, 0.1255, 0.1458, 0.0019, -0.1746, -0.1737, 0.1957, 0.2254, 0.0375, -0.1595, 0.186, -0.2256, 0.1545, 0.2057, 0.2191, 0.051, 0.1919, 0.2225, 0.0479, 0.0779, 0.0442, 0.0757, -0.1083, 0.1128, -0.43, -0.0288, 0.0258, 0.371, 0.2929, 0.22, 0.1833, 0.2344, 0.0586, 0.0857, -0.0601, -0.3208, 0.0932, -0.2334, -0.1474, -0.0328, 0.0933, -0.0137, -0.0687, -0.1914, -0.0042, -0.0269, -0.131, 0.0382, -0.1618, 0.1183, -0.0622, 0.3047, -0.0999, -0.1979, 0.2462, -0.0942, -0.0035, -0.1275, 0.2083, -0.3295, 0.168, 0.1407, -0.1749, -0.1847, -0.1726, 0.1945, -0.1924, -0.1798, -0.0542, 0.2471, -0.0846, 0.0533, 0.1131, -0.0949, -0.2839, 0.0706, 0.0246, -0.0178, -0.1355, 0.2179, 0.1389, 0.2002, 0.5217, 0.1734, -0.1619, -0.2065, -0.1093, 0.2018, -0.2007, -0.0233, -0.0266, -0.2371, 0.222, -0.1654, -0.1506, 0.1836, -0.1081, -0.0807, -0.1987, -0.0982, 0.099, -0.1514, -0.1622, 0.0804, 0.1914, 0.1747, 0.397, -0.1046, -0.0824, -0.5, -0.0949, -0.1879, -0.01, -0.1928, 0.2292, -0.2748, -0.2151, 0.1761, 0.0642, -0.2127, 0.0587, -0.223, -0.1895, 0.2097, -0.0653, 0.3556, 0.1917, -0.0086, 0.0843, 0.0276, 0.1122, -0.2076, 0.1993, 0.2886, -0.1984, -0.014, 0.2176, 0.1245, 0.07, 0.2399, 0.2048, 0.1267, -0.0803, -0.0395, -0.0841, 0.0363, -0.1024, 0.0248, -0.0456, 0.1571, -0.1172, 0.0797, 0.2113, -0.1127, 0.0671, -0.1374, 0.0612, 0.2018, -0.069, -0.1951, 0.147, -0.0769, -0.1338, -0.033, -0.1684, -0.0732, -0.2372, 0.1095, -0.2896, 0.1092, -0.0945, -0.2035, -0.3383, 0.0418, 0.088, -0.1512, -0.1309, -0.1536, 0.1459, 0.1063, -0.0822, 0.0063, -0.11, 0.2284, 0.3324, -0.0729, -0.1183, -0.1903, -0.1006, 0.1805, 0.2145, 0.1823, 0.2048, -0.0828, -0.2121, 0.2069, 0.4031, 0.2704, 0.0695, -0.0252, -0.0507, -0.0729, 0.215, -0.1744, -0.1322, 0.0876, -0.1086, -0.1943, -0.4228, -0.5063, -0.1534, -0.0601, -0.2486, -0.1722, 0.3142, 0.0796, 0.16, -0.2858, -0.1251, 0.2208, 0.1775, -0.1372, -0.1244, 0.2111, 0.1963, -0.1858, 0.1332, 0.3465, -0.0592, -0.0231, -0.2511, 0.2363, 0.0103, -0.1002, 0.1849, 0.1895, 0.2212, -0.1537, 0.1804, -0.0786, 0.2071, 0.2821, 0.1312, -0.0291, -0.1879, -0.2461, -0.0292, 0.208, -0.2132, 0.2255, 0.1435, -0.156, -0.0294, 0.3609, -0.2294, 0.2413, 0.0288, -0.3244, -0.2079, -0.1117, -0.0164, 0.249, -0.1143, -0.0764, 0.2088, -0.0305, 0.4674, 0.0621, -0.1932, -0.1975, -0.2146, 0.1895, -0.0238, 0.1641, 0.1561, -0.2641, -0.1466, -0.1357, -0.0478, -0.3084, -0.2337, -0.1323, -0.2104, -0.2103, 0.0484, -0.276, 0.0089, -0.2266, 0.2341, -0.0653, -0.3905, 0.4525, -0.2196, 0.1172, -0.1424, 0.1038, -0.1104, -0.2703, -0.0195, -0.1998, -0.0842, -0.0329, 0.1734, -0.0473, 0.2218, 0.206, -0.113, 0.0667, -0.1204, 0.2393, -0.2456, 0.2169, 0.1533, -0.0443, -0.2472, 0.1579, 0.1139, -0.2228, 0.0452, -0.2136, -0.1188, -0.1503, -0.0451, -0.1057, -0.2194, -0.0707, -0.0709, 0.0661, 0.2044, -0.005, 0.1339, -0.234, 0.0188, 0.2114, 0.1976, -0.1542, -0.0223, -0.1385, 0.2255, -0.1597, 0.1225, -0.1084, 0.2098, 0.0454, -0.0358, -0.0863, -0.2288, 0.3833, 0.1269, 0.1571, 0.1427, 0.1959, -0.1312, -0.1725, -0.1189, -0.0824, 0.0358, 0.1697, -0.2241, 0.1116, 0.1789, -0.2162, -0.2152, -0.2327, 0.198, 0.2253, 0.0375, 0.0015, 0.0406, -0.0616, 0.128, -0.028, -0.1617, 0.0169, 0.1966, 0.0067, 0.1523, 0.1834, -0.1684, -0.1592, 0.0806, -0.041, 0.0811, 0.0287, 0.1727, -0.2247, 0.1716, 0.1111, -0.2076, -0.0105, 0.1409, -0.1198, 0.0096, -0.0565, -0.0427, -0.1176, -0.0767, -0.0627, -0.0914, 0.1298, 0.0327, 0.2018, -0.0247, -0.2291, -0.0695, 0.1036, -0.0791, -0.0466, 0.1123, -0.1239, 0.1567, 0.0164, -0.111, -0.22, -0.1747, 0.1579, -0.1494, -0.1319, 0.1266, 0.0656, -0.1808, 0.1398, 0.161, -0.0307, 0.1688, 0.1978, 0.2211, 0.054, 0.1795, 0.2096, 0.0319, 0.1852, 0.1529, -0.0551, 0.2069, 0.0741, -0.0445, -0.1822, -0.0673, 0.0007, 0.0542, -0.1124, -0.2326, -0.0985, 0.1762, -0.1229, 0.0283, 0.2128, -0.375, 0.0792, 0.1751, -0.0449, 0.2305, -0.2184, -0.2359, 0.1765, -0.0309, 0.1183, 0.1978, -0.3663, -0.2061, 0.1462, 0.0791, -0.2131, 0.241, 0.0977, 0.0924, 0.0027, -0.1325, 0.0256, 0.0269, 0.2048, 0.2068, 0.1977, 0.0282, -0.127, 0.0746, 0.0368, 0.1181, 0.2335, -0.2248, -0.05, 0.0537, 0.1999, 0.187, 0.0174, -0.1177, 0.1478, -0.2256, -0.1322, 0.1444, 0.0228, 0.1743, -0.1347, 0.24, -0.1305, -0.1696, 0.0931, -0.2095, -0.1452, 0.1746, -0.7475, -1.6467, -0.0912, 0.6114, -0.1814, 1.2878, -2.2127, -1.8591, 0.3909, 0.3054, -1.0556, -0.0097, 0.6032, 0.7201, 0.27, -0.3647, -0.2634, 0.6268, 0.3611, -0.2264, -1.1223, 0.5292, -0.2926, 0.0933, 0.4398, 0.4486, 0.0844, 0.4255, 2.5125, 0.3227, -0.1818, 0.3552, 0.3678, -0.8062, -0.3077, 0.5209, 2.0783, 1.3538, 0.1802, -0.3499, 0.171, 0.2638, 0.1923, -0.5158, 0.2518, -0.1271, 0.3823, -0.0599, -0.2121, 0.1421, 0.517, 0.1289, 0.2367, 0.4684, -0.1393, -0.0963, -0.2217, 0.3648, -0.3046, -0.2153, -0.0529, -0.1721, -0.0963, -0.2498, 0.0392, 0.023, -0.3225, 0.3055, -0.728, 0.0128, -0.481, 0.0727, -0.3368, -0.4412, 0.0964, 0.2023, -0.3293, 0.0099, -0.2601, -0.2943, -0.1113, -1.0105, -0.1027, -0.8454, 0.4635, -2.4047, -0.3255, -1.1441, -1.2491, 0.6272, 0.1203, 0.0182, 0.1215, 0.0596, 1.4092, -0.7229, -0.4582, 0.4255, -1.6582, -0.0485, -1.0083, -3.3595, 0.0445, -0.2098, 0.4875, 0.3518, -0.267, -1.6834, 1.7756, 0.7567, -0.1181, -1.1998, -1.5026, -0.4755, -0.2428, 0.3497, 0.1177, -0.3422, -0.7656, -1.0789, -0.6429, 0.1884, -0.0262, 0.0068, -0.2798, -0.3215, 0.009, -0.3237, -0.5645, -0.0083, -0.1383, -0.0618, -0.0125, 0.2226, 0.5348, 0.0997, -0.1955, 0.228, -0.6748, 0.1549, -0.2497, -0.1762, 0.4304, -0.1986, -0.4515, 0.2788, -0.1099, -0.9512, -0.1787, 0.2193, -0.4509, -0.1735, 0.272, -0.2674, 0.0475, -0.266, -0.1563, -0.0547, 0.3256, -0.0506, -0.4871, -0.321, 0.2147, 0.3575, 0.8015, -2.266, -0.0596, -0.1175, 0.3649, 0.1195, -0.3399, 0.1546, 0.1677, 0.3447, 0.3077, -0.4057, -0.4849, 0.4563, 0.2829, -0.3729, -0.3966, -0.0022, 0.2489, 0.2149, 1.0642, 0.0361, -0.151, 0.1712, -0.6428, 1.2899, -0.4334, -0.1403, -1.879, -1.0491, -0.0944, 0.2195, 0.6346, -0.3872, 0.9388, -0.2678, -0.0375, 0.2165, 0.2242, -0.2417, -0.145, 0.4047, 0.143, 0.3432, 0.028, 0.1815, 0.0504, 0.1345, -0.1489, 0.2251, -0.2693, 0.1512, -0.1579, -0.0219, 0.0356, 0.0509, 0.1198, 0.0794, -0.0636, 0.2044, 0.0911, 0.0647, -0.0922, 0.0625, -0.1892, -0.0884, 0.1205, 0.1417, 0.0267, 0.1455, -0.2712, -0.0302, -0.3167, -0.0576, -0.0488, -0.0626, 0.978, -0.9882, 1.0689, -0.6458, -0.5142, 0.2639, 0.8673, -0.654, -0.3877, 0.5591, 1.3429, -1.0342, 1.0412, -1.024, 1.2593, -1.1386, 0.5801, -1.0968, 0.3449, -0.4522, -1.1667, 0.7076, -0.1349, -0.1722, -0.6871, 0.3777, -0.0613, 0.2569, -1.0432, 0.9893, 0.4952, -0.7078, 0.2419, -0.0966, -0.0166, -0.0393, 1.0869, -0.6522, 0.545, -0.6231, 0.6949, -0.776, 1.0419, -0.8721, 0.5798, -0.459, 0.5397, -0.5702, -0.8936, 1.2381, -0.0816, 0.1051, -0.3477, 0.3339, 1.2886, -0.846, -0.808, 0.9044, -1.1892, 1.048, -1.0132, 0.7749, 0.2506, -0.5518, 0.87, -0.9296, 1.1365, -1.0207, -0.4874, 0.6753, -0.3983, 0.1668, -0.9957, 1.488, 0.7541, -1.1348, 1.6016, -1.3417, 0.1988, -0.0425, 0.5502, -0.38])"
      ]
     },
     "execution_count": 212,
     "metadata": {},
     "output_type": "execute_result"
    }
   ],
   "source": [
    "mlpModel.weights"
   ]
  },
  {
   "cell_type": "code",
   "execution_count": 213,
   "metadata": {
    "ExecuteTime": {
     "end_time": "2023-08-13T11:30:37.724642Z",
     "start_time": "2023-08-13T11:30:37.589334Z"
    },
    "id": "n-NOtTXJaMhM"
   },
   "outputs": [
    {
     "name": "stdout",
     "output_type": "stream",
     "text": [
      "+-----+--------------------+--------------------+--------------------+----------+\n",
      "|label|            features|       rawPrediction|         probability|prediction|\n",
      "+-----+--------------------+--------------------+--------------------+----------+\n",
      "|  0.0|(99,[3,15,24,36,4...|[8.33850320116604...|[0.99999987502801...|       0.0|\n",
      "|  0.0|(99,[3,15,24,36,4...|[10.1364571223475...|[0.99999999673114...|       0.0|\n",
      "|  0.0|(99,[3,15,24,36,4...|[10.0640369548416...|[0.99999999619331...|       0.0|\n",
      "|  0.0|(99,[3,15,24,36,4...|[9.94242214528446...|[0.99999999509148...|       0.0|\n",
      "|  0.0|(99,[3,15,24,36,4...|[8.42715713531269...|[0.99999989949395...|       0.0|\n",
      "|  0.0|(99,[3,15,24,36,4...|[0.36308311511216...|[0.73634239094714...|       0.0|\n",
      "|  0.0|(99,[3,15,24,36,4...|[10.0237207801741...|[0.99999999567692...|       0.0|\n",
      "|  0.0|(99,[3,15,24,36,4...|[8.58350522878193...|[0.99999992826007...|       0.0|\n",
      "|  0.0|(99,[3,15,24,36,4...|[8.58350522878193...|[0.99999992826007...|       0.0|\n",
      "|  0.0|(99,[3,15,24,36,4...|[7.70618745393087...|[0.99999961085164...|       0.0|\n",
      "|  0.0|(99,[3,15,24,36,4...|[7.70618745393087...|[0.99999961085164...|       0.0|\n",
      "|  0.0|(99,[3,15,24,36,4...|[7.70618745393087...|[0.99999961085164...|       0.0|\n",
      "|  0.0|(99,[3,15,24,36,4...|[7.70618745393087...|[0.99999961085164...|       0.0|\n",
      "|  0.0|(99,[3,15,24,36,4...|[8.21655032090642...|[0.99999985850889...|       0.0|\n",
      "|  0.0|(99,[3,13,24,36,4...|[8.61101161397659...|[0.99999991229837...|       0.0|\n",
      "|  0.0|(99,[3,13,24,36,4...|[4.55884387079574...|[0.99984271471676...|       0.0|\n",
      "|  0.0|(99,[3,13,24,36,4...|[8.68379390541178...|[0.99999994115913...|       0.0|\n",
      "|  0.0|(99,[3,13,24,36,4...|[10.0374267735020...|[0.99999999610725...|       0.0|\n",
      "|  0.0|(99,[3,13,24,36,4...|[9.64827018751285...|[0.99999999109753...|       0.0|\n",
      "|  0.0|(99,[3,13,24,36,4...|[9.55007677920255...|[0.99999998906642...|       0.0|\n",
      "+-----+--------------------+--------------------+--------------------+----------+\n",
      "only showing top 20 rows\n",
      "\n"
     ]
    }
   ],
   "source": [
    "# predykcje\n",
    "mlpModel.transform(df_eval).show()"
   ]
  },
  {
   "cell_type": "markdown",
   "metadata": {
    "id": "HcLFgw5FaMhM"
   },
   "source": [
    "## Klasyfikacja - ewaluacja"
   ]
  },
  {
   "cell_type": "code",
   "execution_count": 214,
   "metadata": {
    "ExecuteTime": {
     "end_time": "2023-08-13T11:31:40.836513Z",
     "start_time": "2023-08-13T11:31:40.831898Z"
    },
    "id": "V6qBSAK-aMhM"
   },
   "outputs": [],
   "source": [
    "from pyspark.ml import evaluation"
   ]
  },
  {
   "cell_type": "code",
   "execution_count": 215,
   "metadata": {
    "ExecuteTime": {
     "end_time": "2023-08-13T11:31:48.188564Z",
     "start_time": "2023-08-13T11:31:48.177759Z"
    },
    "id": "y9BSQ9TvaMhO"
   },
   "outputs": [],
   "source": [
    "evaluator = evaluation.BinaryClassificationEvaluator()  # metric_name='areuUnderROC' lub metric_name='areaUnderPR'"
   ]
  },
  {
   "cell_type": "code",
   "execution_count": 216,
   "metadata": {
    "ExecuteTime": {
     "end_time": "2023-08-13T11:31:57.430357Z",
     "start_time": "2023-08-13T11:31:56.732475Z"
    },
    "id": "_RraKRaWaMhO"
   },
   "outputs": [
    {
     "data": {
      "text/plain": [
       "0.9064497178559369"
      ]
     },
     "execution_count": 216,
     "metadata": {},
     "output_type": "execute_result"
    }
   ],
   "source": [
    "# AUC - regresja\n",
    "evaluator.evaluate(lrModel.transform(df_eval))"
   ]
  },
  {
   "cell_type": "code",
   "execution_count": 217,
   "metadata": {
    "ExecuteTime": {
     "end_time": "2023-08-13T11:32:13.499985Z",
     "start_time": "2023-08-13T11:32:12.814895Z"
    },
    "id": "q7Yuo50yaMhP"
   },
   "outputs": [
    {
     "data": {
      "text/plain": [
       "0.9041854628519912"
      ]
     },
     "execution_count": 217,
     "metadata": {},
     "output_type": "execute_result"
    }
   ],
   "source": [
    "# AUC - SVM\n",
    "evaluator.evaluate(svmModel.transform(df_eval))"
   ]
  },
  {
   "cell_type": "code",
   "execution_count": 218,
   "metadata": {
    "ExecuteTime": {
     "end_time": "2023-08-13T11:32:15.997534Z",
     "start_time": "2023-08-13T11:32:15.700128Z"
    },
    "id": "I81T9_U_aMhQ"
   },
   "outputs": [
    {
     "data": {
      "text/plain": [
       "0.7600720140232385"
      ]
     },
     "execution_count": 218,
     "metadata": {},
     "output_type": "execute_result"
    }
   ],
   "source": [
    "# AUC - drzewo decyzyjne\n",
    "evaluator.evaluate(treeModel.transform(df_eval))"
   ]
  },
  {
   "cell_type": "code",
   "execution_count": 219,
   "metadata": {
    "ExecuteTime": {
     "end_time": "2023-08-13T11:32:19.060174Z",
     "start_time": "2023-08-13T11:32:18.209149Z"
    },
    "id": "1Wzgq1UyaMhR"
   },
   "outputs": [
    {
     "data": {
      "text/plain": [
       "0.8862898458041858"
      ]
     },
     "execution_count": 219,
     "metadata": {},
     "output_type": "execute_result"
    }
   ],
   "source": [
    "# AUC - las losowy\n",
    "evaluator.evaluate(forestModel.transform(df_eval))"
   ]
  },
  {
   "cell_type": "code",
   "execution_count": 220,
   "metadata": {
    "ExecuteTime": {
     "end_time": "2023-08-13T11:32:22.062261Z",
     "start_time": "2023-08-13T11:32:21.526955Z"
    },
    "id": "OzJwgQgraMhR"
   },
   "outputs": [
    {
     "data": {
      "text/plain": [
       "0.9094762679229919"
      ]
     },
     "execution_count": 220,
     "metadata": {},
     "output_type": "execute_result"
    }
   ],
   "source": [
    "# AUC - gbt\n",
    "evaluator.evaluate(gbtModel.transform(df_eval))"
   ]
  },
  {
   "cell_type": "code",
   "execution_count": 221,
   "metadata": {
    "ExecuteTime": {
     "end_time": "2023-08-13T11:32:28.407363Z",
     "start_time": "2023-08-13T11:32:27.598456Z"
    },
    "id": "oC3JamdeaMhS"
   },
   "outputs": [
    {
     "data": {
      "text/plain": [
       "0.5523512963904423"
      ]
     },
     "execution_count": 221,
     "metadata": {},
     "output_type": "execute_result"
    }
   ],
   "source": [
    "# AUC - NB\n",
    "evaluator.evaluate(bayesModel.transform(df_eval))"
   ]
  },
  {
   "cell_type": "code",
   "execution_count": 222,
   "metadata": {
    "ExecuteTime": {
     "end_time": "2023-08-13T11:32:32.445713Z",
     "start_time": "2023-08-13T11:32:31.361765Z"
    },
    "id": "iUe_xCd6aMhT"
   },
   "outputs": [
    {
     "data": {
      "text/plain": [
       "0.8964583040990849"
      ]
     },
     "execution_count": 222,
     "metadata": {},
     "output_type": "execute_result"
    }
   ],
   "source": [
    "# AUC - MLP\n",
    "evaluator.evaluate(mlpModel.transform(df_eval))"
   ]
  },
  {
   "cell_type": "markdown",
   "metadata": {
    "id": "zmfZ9eOwaMhT"
   },
   "source": [
    " "
   ]
  },
  {
   "cell_type": "markdown",
   "metadata": {
    "id": "cO6ndrf5aMhU"
   },
   "source": [
    "> **PRZYKŁAD:**\n",
    "- napisz funkcję do obliczania `accuracy`\n",
    "- oblicz `accuracy` powyższych modeli"
   ]
  },
  {
   "cell_type": "code",
   "execution_count": 223,
   "metadata": {
    "ExecuteTime": {
     "end_time": "2023-08-13T11:36:13.577198Z",
     "start_time": "2023-08-13T11:36:13.569914Z"
    },
    "id": "rnpQbm4-aMhV"
   },
   "outputs": [],
   "source": [
    "def calculate_acc(df, label=\"label\", prediction=\"prediction\"):\n",
    "    \n",
    "    temp = df.select(f.when(df[label] == df[prediction], 1).otherwise(0).alias(\"same\"))\n",
    "    \n",
    "    return temp.select(f.avg(\"same\")).collect()[0][0]"
   ]
  },
  {
   "cell_type": "code",
   "execution_count": 224,
   "metadata": {
    "ExecuteTime": {
     "end_time": "2023-08-13T11:36:21.370527Z",
     "start_time": "2023-08-13T11:36:20.998981Z"
    },
    "id": "d1Q4q_qVaMhV"
   },
   "outputs": [
    {
     "data": {
      "text/plain": [
       "0.8526739624199876"
      ]
     },
     "execution_count": 224,
     "metadata": {},
     "output_type": "execute_result"
    }
   ],
   "source": [
    "calculate_acc(lrModel.transform(df_eval))"
   ]
  },
  {
   "cell_type": "code",
   "execution_count": 225,
   "metadata": {
    "ExecuteTime": {
     "end_time": "2023-08-13T11:36:24.117307Z",
     "start_time": "2023-08-13T11:36:23.865385Z"
    },
    "id": "uIyDPpvAaMhW"
   },
   "outputs": [
    {
     "data": {
      "text/plain": [
       "0.8512285773281024"
      ]
     },
     "execution_count": 225,
     "metadata": {},
     "output_type": "execute_result"
    }
   ],
   "source": [
    "calculate_acc(svmModel.transform(df_eval))"
   ]
  },
  {
   "cell_type": "code",
   "execution_count": 226,
   "metadata": {
    "ExecuteTime": {
     "end_time": "2023-08-13T11:36:26.241830Z",
     "start_time": "2023-08-13T11:36:26.040574Z"
    },
    "id": "Lwjjr5eyaMhW"
   },
   "outputs": [
    {
     "data": {
      "text/plain": [
       "0.840491430931241"
      ]
     },
     "execution_count": 226,
     "metadata": {},
     "output_type": "execute_result"
    }
   ],
   "source": [
    "calculate_acc(treeModel.transform(df_eval))"
   ]
  },
  {
   "cell_type": "code",
   "execution_count": 227,
   "metadata": {
    "ExecuteTime": {
     "end_time": "2023-08-13T11:36:28.708238Z",
     "start_time": "2023-08-13T11:36:28.382531Z"
    },
    "id": "rRSIG3CRaMhX"
   },
   "outputs": [
    {
     "data": {
      "text/plain": [
       "0.829444559157547"
      ]
     },
     "execution_count": 227,
     "metadata": {},
     "output_type": "execute_result"
    }
   ],
   "source": [
    "calculate_acc(forestModel.transform(df_eval))"
   ]
  },
  {
   "cell_type": "code",
   "execution_count": 228,
   "metadata": {
    "ExecuteTime": {
     "end_time": "2023-08-13T11:36:31.502997Z",
     "start_time": "2023-08-13T11:36:31.171720Z"
    },
    "id": "35W6GynkaMhX"
   },
   "outputs": [
    {
     "data": {
      "text/plain": [
       "0.8540161057195953"
      ]
     },
     "execution_count": 228,
     "metadata": {},
     "output_type": "execute_result"
    }
   ],
   "source": [
    "calculate_acc(gbtModel.transform(df_eval))"
   ]
  },
  {
   "cell_type": "code",
   "execution_count": 229,
   "metadata": {
    "ExecuteTime": {
     "end_time": "2023-08-13T11:36:37.497475Z",
     "start_time": "2023-08-13T11:36:37.232646Z"
    },
    "id": "kGO_BaOKaMhY"
   },
   "outputs": [
    {
     "data": {
      "text/plain": [
       "0.7901094362998141"
      ]
     },
     "execution_count": 229,
     "metadata": {},
     "output_type": "execute_result"
    }
   ],
   "source": [
    "calculate_acc(bayesModel.transform(df_eval))"
   ]
  },
  {
   "cell_type": "code",
   "execution_count": 230,
   "metadata": {
    "ExecuteTime": {
     "end_time": "2023-08-13T11:36:40.563680Z",
     "start_time": "2023-08-13T11:36:40.169250Z"
    },
    "id": "ecgpHYl1aMhY"
   },
   "outputs": [
    {
     "data": {
      "text/plain": [
       "0.8476151145983895"
      ]
     },
     "execution_count": 230,
     "metadata": {},
     "output_type": "execute_result"
    }
   ],
   "source": [
    "calculate_acc(mlpModel.transform(df_eval))"
   ]
  },
  {
   "cell_type": "markdown",
   "metadata": {
    "id": "OsEZKIysaMhZ"
   },
   "source": [
    "### **ZADANIE 3**\n",
    "- popraw `accuracy` dwóch modeli"
   ]
  },
  {
   "cell_type": "code",
   "execution_count": 231,
   "metadata": {
    "ExecuteTime": {
     "end_time": "2023-08-13T11:42:27.850953Z",
     "start_time": "2023-08-13T11:42:26.143598Z"
    },
    "id": "X9CEU8RwaMha"
   },
   "outputs": [
    {
     "name": "stdout",
     "output_type": "stream",
     "text": [
      "AUC: 0.7600720140232385\n",
      "acc: 0.840491430931241\n"
     ]
    }
   ],
   "source": [
    "# model 1 - przed optymalizacją\n",
    "\n",
    "tree = classification.DecisionTreeClassifier()\n",
    "treeModel = tree.fit(df_train)\n",
    "\n",
    "print(f'AUC: {evaluator.evaluate(treeModel.transform(df_eval))}')\n",
    "print(f'acc: {calculate_acc(treeModel.transform(df_eval))}')"
   ]
  },
  {
   "cell_type": "code",
   "execution_count": 238,
   "metadata": {
    "ExecuteTime": {
     "end_time": "2023-08-13T11:46:45.675613Z",
     "start_time": "2023-08-13T11:46:43.412761Z"
    },
    "id": "X9CEU8RwaMha"
   },
   "outputs": [
    {
     "name": "stdout",
     "output_type": "stream",
     "text": [
      "AUC: 0.790780054151417\n",
      "acc: 0.8547387982655379\n"
     ]
    }
   ],
   "source": [
    "# model 1 - po optymalizacji\n",
    "\n",
    "tree = classification.DecisionTreeClassifier(maxDepth=10, maxBins=100)\n",
    "treeModel = tree.fit(df_train)\n",
    "\n",
    "print(f'AUC: {evaluator.evaluate(treeModel.transform(df_eval))}')\n",
    "print(f'acc: {calculate_acc(treeModel.transform(df_eval))}')"
   ]
  },
  {
   "cell_type": "code",
   "execution_count": 239,
   "metadata": {
    "ExecuteTime": {
     "end_time": "2023-08-13T11:49:05.950713Z",
     "start_time": "2023-08-13T11:49:04.273153Z"
    },
    "id": "L2TaFycSaMha"
   },
   "outputs": [
    {
     "name": "stdout",
     "output_type": "stream",
     "text": [
      "AUC: 0.5523512963904423\n",
      "acc: 0.7901094362998141\n"
     ]
    }
   ],
   "source": [
    "# model 2 - przed optymalizacją\n",
    "\n",
    "bayes = classification.NaiveBayes()\n",
    "bayesModel = bayes.fit(df_train)\n",
    "\n",
    "print(f'AUC: {evaluator.evaluate(bayesModel.transform(df_eval))}')\n",
    "print(f'acc: {calculate_acc(bayesModel.transform(df_eval))}')"
   ]
  },
  {
   "cell_type": "code",
   "execution_count": 250,
   "metadata": {
    "ExecuteTime": {
     "end_time": "2023-08-13T11:54:23.420059Z",
     "start_time": "2023-08-13T11:54:22.214499Z"
    },
    "id": "L2TaFycSaMha"
   },
   "outputs": [
    {
     "name": "stdout",
     "output_type": "stream",
     "text": [
      "AUC: 0.7577921738090253\n",
      "acc: 0.4894693371876936\n"
     ]
    }
   ],
   "source": [
    "# model 2 - po optymalizacji\n",
    "\n",
    "bayes = classification.NaiveBayes(modelType='gaussian')\n",
    "bayesModel = bayes.fit(df_train)\n",
    "\n",
    "print(f'AUC: {evaluator.evaluate(bayesModel.transform(df_eval))}')\n",
    "print(f'acc: {calculate_acc(bayesModel.transform(df_eval))}')"
   ]
  },
  {
   "cell_type": "markdown",
   "metadata": {
    "id": "upoCfjBWaMhb"
   },
   "source": [
    " "
   ]
  },
  {
   "cell_type": "markdown",
   "metadata": {
    "id": "ik1CM0nvaMhb"
   },
   "source": [
    "## Regresja - przygotowanie danych"
   ]
  },
  {
   "cell_type": "code",
   "execution_count": 251,
   "metadata": {
    "ExecuteTime": {
     "end_time": "2023-08-13T11:54:52.865115Z",
     "start_time": "2023-08-13T11:54:52.859966Z"
    },
    "id": "dXW7_hXGaMhb"
   },
   "outputs": [],
   "source": [
    "from pyspark.ml import regression"
   ]
  },
  {
   "cell_type": "markdown",
   "metadata": {
    "id": "j6MAEqcdaMhc"
   },
   "source": [
    "https://archive.ics.uci.edu/ml/datasets/wine+quality"
   ]
  },
  {
   "cell_type": "code",
   "execution_count": 254,
   "metadata": {
    "ExecuteTime": {
     "end_time": "2023-08-13T11:55:51.521114Z",
     "start_time": "2023-08-13T11:55:50.793846Z"
    },
    "id": "stQCLY1vaMhc"
   },
   "outputs": [],
   "source": [
    "wine_red = spark.read.csv(\"./winequality-red.csv\", header=True, inferSchema=True, sep=\";\") \\\n",
    ".withColumn(\"type\", f.lit(0))\n",
    "\n",
    "wine_white = spark.read.csv(\"./winequality-white.csv\", header=True, inferSchema=True, sep=\";\") \\\n",
    ".withColumn(\"type\", f.lit(1))"
   ]
  },
  {
   "cell_type": "code",
   "execution_count": 297,
   "metadata": {
    "ExecuteTime": {
     "end_time": "2023-08-13T12:17:44.742465Z",
     "start_time": "2023-08-13T12:17:44.734955Z"
    },
    "id": "3Rr4fn1vaMhd"
   },
   "outputs": [],
   "source": [
    "wine = wine_red.union(wine_white)"
   ]
  },
  {
   "cell_type": "code",
   "execution_count": 298,
   "metadata": {
    "ExecuteTime": {
     "end_time": "2023-08-13T12:17:46.655975Z",
     "start_time": "2023-08-13T12:17:46.648701Z"
    },
    "id": "mH6UXFE1aMhd"
   },
   "outputs": [
    {
     "data": {
      "text/plain": [
       "['fixed_acidity',\n",
       " 'volatile_acidity',\n",
       " 'citric_acid',\n",
       " 'residual_sugar',\n",
       " 'chlorides',\n",
       " 'free_sulfur_dioxide',\n",
       " 'total_sulfur_dioxide',\n",
       " 'density',\n",
       " 'pH',\n",
       " 'sulphates',\n",
       " 'alcohol',\n",
       " 'quality',\n",
       " 'type']"
      ]
     },
     "execution_count": 298,
     "metadata": {},
     "output_type": "execute_result"
    }
   ],
   "source": [
    "cols = [col.replace(\" \", \"_\") for col in wine.columns]\n",
    "cols"
   ]
  },
  {
   "cell_type": "code",
   "execution_count": 299,
   "metadata": {
    "ExecuteTime": {
     "end_time": "2023-08-13T12:17:53.263452Z",
     "start_time": "2023-08-13T12:17:53.250235Z"
    },
    "id": "gyLBHkTnaMhe"
   },
   "outputs": [
    {
     "name": "stdout",
     "output_type": "stream",
     "text": [
      "root\n",
      " |-- fixed_acidity: double (nullable = true)\n",
      " |-- volatile_acidity: double (nullable = true)\n",
      " |-- citric_acid: double (nullable = true)\n",
      " |-- residual_sugar: double (nullable = true)\n",
      " |-- chlorides: double (nullable = true)\n",
      " |-- free_sulfur_dioxide: double (nullable = true)\n",
      " |-- total_sulfur_dioxide: double (nullable = true)\n",
      " |-- density: double (nullable = true)\n",
      " |-- pH: double (nullable = true)\n",
      " |-- sulphates: double (nullable = true)\n",
      " |-- alcohol: double (nullable = true)\n",
      " |-- quality: integer (nullable = true)\n",
      " |-- type: integer (nullable = false)\n",
      "\n"
     ]
    }
   ],
   "source": [
    "wine = wine.toDF(*cols)\n",
    "wine.printSchema()"
   ]
  },
  {
   "cell_type": "markdown",
   "metadata": {
    "id": "Bs0D8sh2aMhf"
   },
   "source": [
    "### **ZADANIE 4:**\n",
    "\n",
    "1. usuń wiersze zawierające braki danych\n",
    "2. zmień nazwę kolumny `quality` na `label`\n",
    "3. podziel `wine` na zbiór treningowy i ewaluacyjny\n",
    "4. z pozostałych zmiennych stwórz (przeskalowaną) kolumnę `features` zawierającą wektory\n",
    "5. wynikowym DFom nadaj nazwę `wine_train` i `wine_eval`"
   ]
  },
  {
   "cell_type": "code",
   "execution_count": 300,
   "metadata": {
    "ExecuteTime": {
     "end_time": "2023-08-13T12:19:00.882177Z",
     "start_time": "2023-08-13T12:19:00.670397Z"
    },
    "id": "YP61yNeZaMhg"
   },
   "outputs": [
    {
     "data": {
      "text/plain": [
       "6497"
      ]
     },
     "execution_count": 300,
     "metadata": {},
     "output_type": "execute_result"
    }
   ],
   "source": [
    "# 1\n",
    "wine = wine.dropna()\n",
    "wine.count()"
   ]
  },
  {
   "cell_type": "code",
   "execution_count": 301,
   "metadata": {
    "ExecuteTime": {
     "end_time": "2023-08-13T12:19:03.064480Z",
     "start_time": "2023-08-13T12:19:02.783929Z"
    },
    "id": "VyQAWhiaaMhg"
   },
   "outputs": [
    {
     "data": {
      "text/html": [
       "<div>\n",
       "<style scoped>\n",
       "    .dataframe tbody tr th:only-of-type {\n",
       "        vertical-align: middle;\n",
       "    }\n",
       "\n",
       "    .dataframe tbody tr th {\n",
       "        vertical-align: top;\n",
       "    }\n",
       "\n",
       "    .dataframe thead th {\n",
       "        text-align: right;\n",
       "    }\n",
       "</style>\n",
       "<table border=\"1\" class=\"dataframe\">\n",
       "  <thead>\n",
       "    <tr style=\"text-align: right;\">\n",
       "      <th></th>\n",
       "      <th>fixed_acidity</th>\n",
       "      <th>volatile_acidity</th>\n",
       "      <th>citric_acid</th>\n",
       "      <th>residual_sugar</th>\n",
       "      <th>chlorides</th>\n",
       "      <th>free_sulfur_dioxide</th>\n",
       "      <th>total_sulfur_dioxide</th>\n",
       "      <th>density</th>\n",
       "      <th>pH</th>\n",
       "      <th>sulphates</th>\n",
       "      <th>alcohol</th>\n",
       "      <th>label</th>\n",
       "      <th>type</th>\n",
       "    </tr>\n",
       "  </thead>\n",
       "  <tbody>\n",
       "    <tr>\n",
       "      <th>0</th>\n",
       "      <td>7.4</td>\n",
       "      <td>0.70</td>\n",
       "      <td>0.00</td>\n",
       "      <td>1.9</td>\n",
       "      <td>0.076</td>\n",
       "      <td>11.0</td>\n",
       "      <td>34.0</td>\n",
       "      <td>0.9978</td>\n",
       "      <td>3.51</td>\n",
       "      <td>0.56</td>\n",
       "      <td>9.4</td>\n",
       "      <td>5</td>\n",
       "      <td>0</td>\n",
       "    </tr>\n",
       "    <tr>\n",
       "      <th>1</th>\n",
       "      <td>7.8</td>\n",
       "      <td>0.88</td>\n",
       "      <td>0.00</td>\n",
       "      <td>2.6</td>\n",
       "      <td>0.098</td>\n",
       "      <td>25.0</td>\n",
       "      <td>67.0</td>\n",
       "      <td>0.9968</td>\n",
       "      <td>3.20</td>\n",
       "      <td>0.68</td>\n",
       "      <td>9.8</td>\n",
       "      <td>5</td>\n",
       "      <td>0</td>\n",
       "    </tr>\n",
       "    <tr>\n",
       "      <th>2</th>\n",
       "      <td>7.8</td>\n",
       "      <td>0.76</td>\n",
       "      <td>0.04</td>\n",
       "      <td>2.3</td>\n",
       "      <td>0.092</td>\n",
       "      <td>15.0</td>\n",
       "      <td>54.0</td>\n",
       "      <td>0.9970</td>\n",
       "      <td>3.26</td>\n",
       "      <td>0.65</td>\n",
       "      <td>9.8</td>\n",
       "      <td>5</td>\n",
       "      <td>0</td>\n",
       "    </tr>\n",
       "    <tr>\n",
       "      <th>3</th>\n",
       "      <td>11.2</td>\n",
       "      <td>0.28</td>\n",
       "      <td>0.56</td>\n",
       "      <td>1.9</td>\n",
       "      <td>0.075</td>\n",
       "      <td>17.0</td>\n",
       "      <td>60.0</td>\n",
       "      <td>0.9980</td>\n",
       "      <td>3.16</td>\n",
       "      <td>0.58</td>\n",
       "      <td>9.8</td>\n",
       "      <td>6</td>\n",
       "      <td>0</td>\n",
       "    </tr>\n",
       "    <tr>\n",
       "      <th>4</th>\n",
       "      <td>7.4</td>\n",
       "      <td>0.70</td>\n",
       "      <td>0.00</td>\n",
       "      <td>1.9</td>\n",
       "      <td>0.076</td>\n",
       "      <td>11.0</td>\n",
       "      <td>34.0</td>\n",
       "      <td>0.9978</td>\n",
       "      <td>3.51</td>\n",
       "      <td>0.56</td>\n",
       "      <td>9.4</td>\n",
       "      <td>5</td>\n",
       "      <td>0</td>\n",
       "    </tr>\n",
       "  </tbody>\n",
       "</table>\n",
       "</div>"
      ],
      "text/plain": [
       "   fixed_acidity  volatile_acidity  citric_acid  residual_sugar  chlorides  \\\n",
       "0            7.4              0.70         0.00             1.9      0.076   \n",
       "1            7.8              0.88         0.00             2.6      0.098   \n",
       "2            7.8              0.76         0.04             2.3      0.092   \n",
       "3           11.2              0.28         0.56             1.9      0.075   \n",
       "4            7.4              0.70         0.00             1.9      0.076   \n",
       "\n",
       "   free_sulfur_dioxide  total_sulfur_dioxide  density    pH  sulphates  \\\n",
       "0                 11.0                  34.0   0.9978  3.51       0.56   \n",
       "1                 25.0                  67.0   0.9968  3.20       0.68   \n",
       "2                 15.0                  54.0   0.9970  3.26       0.65   \n",
       "3                 17.0                  60.0   0.9980  3.16       0.58   \n",
       "4                 11.0                  34.0   0.9978  3.51       0.56   \n",
       "\n",
       "   alcohol  label  type  \n",
       "0      9.4      5     0  \n",
       "1      9.8      5     0  \n",
       "2      9.8      5     0  \n",
       "3      9.8      6     0  \n",
       "4      9.4      5     0  "
      ]
     },
     "execution_count": 301,
     "metadata": {},
     "output_type": "execute_result"
    }
   ],
   "source": [
    "# 2\n",
    "wine = wine.withColumnRenamed(\"quality\", \"label\")\n",
    "wine.toPandas().head()"
   ]
  },
  {
   "cell_type": "code",
   "execution_count": 302,
   "metadata": {
    "ExecuteTime": {
     "end_time": "2023-08-13T12:19:08.404257Z",
     "start_time": "2023-08-13T12:19:08.393809Z"
    },
    "id": "2nnHwaAJaMhh"
   },
   "outputs": [],
   "source": [
    "# 3\n",
    "wine_train, wine_test = wine.randomSplit([0.7, 0.3], 42)"
   ]
  },
  {
   "cell_type": "code",
   "execution_count": 305,
   "metadata": {
    "ExecuteTime": {
     "end_time": "2023-08-13T12:19:40.168309Z",
     "start_time": "2023-08-13T12:19:40.161865Z"
    }
   },
   "outputs": [
    {
     "name": "stdout",
     "output_type": "stream",
     "text": [
      "['fixed_acidity', 'volatile_acidity', 'citric_acid', 'residual_sugar', 'chlorides', 'free_sulfur_dioxide', 'total_sulfur_dioxide', 'density', 'pH', 'sulphates', 'alcohol', 'type']\n"
     ]
    }
   ],
   "source": [
    "# 4\n",
    "features_col = wine.columns\n",
    "features_col.remove('label')\n",
    "print(features_col)"
   ]
  },
  {
   "cell_type": "code",
   "execution_count": 306,
   "metadata": {
    "ExecuteTime": {
     "end_time": "2023-08-13T12:19:42.493821Z",
     "start_time": "2023-08-13T12:19:42.477681Z"
    },
    "id": "Koani-9laMhh"
   },
   "outputs": [],
   "source": [
    "#przygotowanie estymatorów/transformerów\n",
    "\n",
    "vectAssembler = feature.VectorAssembler(inputCols=features_col, outputCol=\"featuresFull\")\n",
    "scaler = feature.StandardScaler(inputCol=\"featuresFull\", outputCol=\"features\")\n",
    "\n",
    "pipeline = Pipeline(stages=[vectAssembler, scaler])"
   ]
  },
  {
   "cell_type": "code",
   "execution_count": 307,
   "metadata": {
    "ExecuteTime": {
     "end_time": "2023-08-13T12:19:45.091611Z",
     "start_time": "2023-08-13T12:19:44.480027Z"
    },
    "id": "JMR5hJz1aMhh"
   },
   "outputs": [],
   "source": [
    "# 5\n",
    "pipe_model = pipeline.fit(wine_train)\n",
    "\n",
    "wine_train = pipe_model.transform(wine_train)\n",
    "wine_eval = pipe_model.transform(wine_test)"
   ]
  },
  {
   "cell_type": "markdown",
   "metadata": {
    "id": "I6psGmhaaMhi"
   },
   "source": [
    "**Ostatnie przygotowania**"
   ]
  },
  {
   "cell_type": "code",
   "execution_count": 308,
   "metadata": {
    "ExecuteTime": {
     "end_time": "2023-08-13T12:19:52.849086Z",
     "start_time": "2023-08-13T12:19:52.369644Z"
    },
    "id": "msaA_YH5aMhi"
   },
   "outputs": [
    {
     "data": {
      "text/html": [
       "<div>\n",
       "<style scoped>\n",
       "    .dataframe tbody tr th:only-of-type {\n",
       "        vertical-align: middle;\n",
       "    }\n",
       "\n",
       "    .dataframe tbody tr th {\n",
       "        vertical-align: top;\n",
       "    }\n",
       "\n",
       "    .dataframe thead th {\n",
       "        text-align: right;\n",
       "    }\n",
       "</style>\n",
       "<table border=\"1\" class=\"dataframe\">\n",
       "  <thead>\n",
       "    <tr style=\"text-align: right;\">\n",
       "      <th></th>\n",
       "      <th>label</th>\n",
       "      <th>features</th>\n",
       "    </tr>\n",
       "  </thead>\n",
       "  <tbody>\n",
       "    <tr>\n",
       "      <th>0</th>\n",
       "      <td>4</td>\n",
       "      <td>[3.567142004687321, 3.13945111998625, 1.036114...</td>\n",
       "    </tr>\n",
       "    <tr>\n",
       "      <th>1</th>\n",
       "      <td>6</td>\n",
       "      <td>[3.6446885700066107, 3.6224435999841345, 1.174...</td>\n",
       "    </tr>\n",
       "    <tr>\n",
       "      <th>2</th>\n",
       "      <td>6</td>\n",
       "      <td>[3.877328265964479, 2.294214279989952, 0.06907...</td>\n",
       "    </tr>\n",
       "    <tr>\n",
       "      <th>3</th>\n",
       "      <td>6</td>\n",
       "      <td>[3.877328265964479, 2.4149623999894234, 3.4537...</td>\n",
       "    </tr>\n",
       "    <tr>\n",
       "      <th>4</th>\n",
       "      <td>8</td>\n",
       "      <td>[3.877328265964479, 2.535710519988894, 1.65778...</td>\n",
       "    </tr>\n",
       "    <tr>\n",
       "      <th>...</th>\n",
       "      <td>...</td>\n",
       "      <td>...</td>\n",
       "    </tr>\n",
       "    <tr>\n",
       "      <th>4626</th>\n",
       "      <td>5</td>\n",
       "      <td>[7.987296227886827, 1.5093514999933895, 3.3155...</td>\n",
       "    </tr>\n",
       "    <tr>\n",
       "      <th>4627</th>\n",
       "      <td>6</td>\n",
       "      <td>[8.297482489163984, 1.3282293199941828, 3.8681...</td>\n",
       "    </tr>\n",
       "    <tr>\n",
       "      <th>4628</th>\n",
       "      <td>6</td>\n",
       "      <td>[8.297482489163984, 1.3282293199941828, 3.8681...</td>\n",
       "    </tr>\n",
       "    <tr>\n",
       "      <th>4629</th>\n",
       "      <td>3</td>\n",
       "      <td>[9.150494707676172, 1.3886033799939184, 2.6248...</td>\n",
       "    </tr>\n",
       "    <tr>\n",
       "      <th>4630</th>\n",
       "      <td>6</td>\n",
       "      <td>[11.01161227533912, 1.6300996199928608, 3.3846...</td>\n",
       "    </tr>\n",
       "  </tbody>\n",
       "</table>\n",
       "<p>4631 rows × 2 columns</p>\n",
       "</div>"
      ],
      "text/plain": [
       "      label                                           features\n",
       "0         4  [3.567142004687321, 3.13945111998625, 1.036114...\n",
       "1         6  [3.6446885700066107, 3.6224435999841345, 1.174...\n",
       "2         6  [3.877328265964479, 2.294214279989952, 0.06907...\n",
       "3         6  [3.877328265964479, 2.4149623999894234, 3.4537...\n",
       "4         8  [3.877328265964479, 2.535710519988894, 1.65778...\n",
       "...     ...                                                ...\n",
       "4626      5  [7.987296227886827, 1.5093514999933895, 3.3155...\n",
       "4627      6  [8.297482489163984, 1.3282293199941828, 3.8681...\n",
       "4628      6  [8.297482489163984, 1.3282293199941828, 3.8681...\n",
       "4629      3  [9.150494707676172, 1.3886033799939184, 2.6248...\n",
       "4630      6  [11.01161227533912, 1.6300996199928608, 3.3846...\n",
       "\n",
       "[4631 rows x 2 columns]"
      ]
     },
     "execution_count": 308,
     "metadata": {},
     "output_type": "execute_result"
    }
   ],
   "source": [
    "wine_train = wine_train.select(\"label\", \"features\")\n",
    "wine_eval = wine_eval.select(\"label\", \"features\")\n",
    "\n",
    "wine_train.toPandas()"
   ]
  },
  {
   "cell_type": "code",
   "execution_count": 309,
   "metadata": {
    "ExecuteTime": {
     "end_time": "2023-08-13T12:19:58.420772Z",
     "start_time": "2023-08-13T12:19:58.355900Z"
    },
    "id": "N3puNnYNaMhj"
   },
   "outputs": [
    {
     "data": {
      "text/plain": [
       "DataFrame[label: int, features: vector]"
      ]
     },
     "execution_count": 309,
     "metadata": {},
     "output_type": "execute_result"
    }
   ],
   "source": [
    "wine_train.cache()\n",
    "wine_eval.cache()"
   ]
  },
  {
   "cell_type": "code",
   "execution_count": 310,
   "metadata": {
    "ExecuteTime": {
     "end_time": "2023-08-13T12:20:03.676371Z",
     "start_time": "2023-08-13T12:20:02.902480Z"
    },
    "id": "6WMuTV-taMhk"
   },
   "outputs": [
    {
     "name": "stdout",
     "output_type": "stream",
     "text": [
      "Train:\n",
      "+-------+------------------+\n",
      "|summary|             label|\n",
      "+-------+------------------+\n",
      "|  count|              4631|\n",
      "|   mean|5.8168862016843015|\n",
      "| stddev|0.8791709597478697|\n",
      "|    min|                 3|\n",
      "|    max|                 9|\n",
      "+-------+------------------+\n",
      "\n",
      "Eval:\n",
      "+-------+------------------+\n",
      "|summary|             label|\n",
      "+-------+------------------+\n",
      "|  count|              1866|\n",
      "|   mean| 5.822079314040729|\n",
      "| stddev|0.8586198577914707|\n",
      "|    min|                 3|\n",
      "|    max|                 9|\n",
      "+-------+------------------+\n",
      "\n"
     ]
    }
   ],
   "source": [
    "print(\"Train:\")\n",
    "wine_train.describe(\"label\").show()\n",
    "\n",
    "print(\"Eval:\")\n",
    "wine_eval.describe(\"label\").show()"
   ]
  },
  {
   "cell_type": "markdown",
   "metadata": {},
   "source": [
    "## Regresja - różne modele"
   ]
  },
  {
   "cell_type": "markdown",
   "metadata": {
    "id": "wCYn7zUnaMhk"
   },
   "source": [
    "### Regresja liniowa"
   ]
  },
  {
   "cell_type": "code",
   "execution_count": 311,
   "metadata": {
    "ExecuteTime": {
     "end_time": "2023-08-13T12:20:44.628315Z",
     "start_time": "2023-08-13T12:20:44.608459Z"
    },
    "id": "kBbz93myaMhk"
   },
   "outputs": [],
   "source": [
    "reg = regression.LinearRegression(maxIter=500)"
   ]
  },
  {
   "cell_type": "code",
   "execution_count": 312,
   "metadata": {
    "ExecuteTime": {
     "end_time": "2023-08-13T12:20:48.152520Z",
     "start_time": "2023-08-13T12:20:47.463416Z"
    },
    "id": "UJaYUfoQaMhl"
   },
   "outputs": [
    {
     "name": "stderr",
     "output_type": "stream",
     "text": [
      "23/08/13 14:20:47 WARN Instrumentation: [67d4641a] regParam is zero, which might cause numerical instability and overfitting.\n"
     ]
    }
   ],
   "source": [
    "regModel = reg.fit(wine_train)"
   ]
  },
  {
   "cell_type": "code",
   "execution_count": 313,
   "metadata": {
    "ExecuteTime": {
     "end_time": "2023-08-13T12:20:56.549897Z",
     "start_time": "2023-08-13T12:20:56.537092Z"
    },
    "id": "3V9-aM1raMhl"
   },
   "outputs": [
    {
     "data": {
      "text/plain": [
       "DenseVector([0.1008, -0.2373, -0.0113, 0.2762, -0.0232, 0.0946, -0.0873, -0.2824, 0.0662, 0.1057, 0.2789, -0.1337])"
      ]
     },
     "execution_count": 313,
     "metadata": {},
     "output_type": "execute_result"
    }
   ],
   "source": [
    "regModel.coefficients"
   ]
  },
  {
   "cell_type": "code",
   "execution_count": 314,
   "metadata": {
    "ExecuteTime": {
     "end_time": "2023-08-13T12:20:59.417214Z",
     "start_time": "2023-08-13T12:20:59.410578Z"
    },
    "id": "F-vbSL8KaMhm"
   },
   "outputs": [
    {
     "data": {
      "text/plain": [
       "94.4248010100462"
      ]
     },
     "execution_count": 314,
     "metadata": {},
     "output_type": "execute_result"
    }
   ],
   "source": [
    "regModel.intercept"
   ]
  },
  {
   "cell_type": "code",
   "execution_count": 315,
   "metadata": {
    "ExecuteTime": {
     "end_time": "2023-08-13T12:21:02.796500Z",
     "start_time": "2023-08-13T12:21:02.788197Z"
    },
    "id": "8HMuFZ20aMhm"
   },
   "outputs": [
    {
     "data": {
      "text/plain": [
       "pyspark.ml.regression.LinearRegressionTrainingSummary"
      ]
     },
     "execution_count": 315,
     "metadata": {},
     "output_type": "execute_result"
    }
   ],
   "source": [
    "trainSummary = regModel.summary\n",
    "type(trainSummary)"
   ]
  },
  {
   "cell_type": "code",
   "execution_count": 316,
   "metadata": {
    "ExecuteTime": {
     "end_time": "2023-08-13T12:21:05.974346Z",
     "start_time": "2023-08-13T12:21:05.968256Z"
    },
    "id": "xQcsgmIpaMhm"
   },
   "outputs": [
    {
     "data": {
      "text/plain": [
       "0.5735071995096598"
      ]
     },
     "execution_count": 316,
     "metadata": {},
     "output_type": "execute_result"
    }
   ],
   "source": [
    "trainSummary.meanAbsoluteError"
   ]
  },
  {
   "cell_type": "code",
   "execution_count": 317,
   "metadata": {
    "ExecuteTime": {
     "end_time": "2023-08-13T12:21:11.736390Z",
     "start_time": "2023-08-13T12:21:11.729207Z"
    },
    "id": "V-PUP1dwaMhn"
   },
   "outputs": [
    {
     "data": {
      "text/plain": [
       "0.5486947582555972"
      ]
     },
     "execution_count": 317,
     "metadata": {},
     "output_type": "execute_result"
    }
   ],
   "source": [
    "trainSummary.meanSquaredError"
   ]
  },
  {
   "cell_type": "code",
   "execution_count": 318,
   "metadata": {
    "ExecuteTime": {
     "end_time": "2023-08-13T12:21:14.176541Z",
     "start_time": "2023-08-13T12:21:14.170432Z"
    },
    "id": "cWwLgyGYaMhn"
   },
   "outputs": [
    {
     "data": {
      "text/plain": [
       "0.2899679826341164"
      ]
     },
     "execution_count": 318,
     "metadata": {},
     "output_type": "execute_result"
    }
   ],
   "source": [
    "trainSummary.r2"
   ]
  },
  {
   "cell_type": "code",
   "execution_count": 319,
   "metadata": {
    "ExecuteTime": {
     "end_time": "2023-08-13T12:21:21.699259Z",
     "start_time": "2023-08-13T12:21:21.585563Z"
    },
    "id": "Jw-XDSBLaMhn"
   },
   "outputs": [
    {
     "name": "stdout",
     "output_type": "stream",
     "text": [
      "+-----+--------------------+-----------------+\n",
      "|label|            features|       prediction|\n",
      "+-----+--------------------+-----------------+\n",
      "|    7|[3.79978170064518...|7.088596128745706|\n",
      "|    6|[3.87732826596447...| 6.15688443368731|\n",
      "|    5|[3.87732826596447...|5.333178584375986|\n",
      "|    7|[3.95487483128376...|6.914388932219808|\n",
      "|    5|[4.03242139660305...|5.379341371926159|\n",
      "|    6|[4.03242139660305...|7.250840950574997|\n",
      "|    6|[4.03242139660305...|7.250840950574997|\n",
      "|    7|[4.10996796192234...|6.874580727314779|\n",
      "|    7|[4.10996796192234...|6.332254543381978|\n",
      "|    7|[4.18751452724163...|6.355781707478641|\n",
      "|    6|[4.18751452724163...|5.561944831913337|\n",
      "|    8|[4.26506109256092...|7.051003659599701|\n",
      "|    5|[4.34260765788021...|5.360276610654935|\n",
      "|    6|[4.34260765788021...|6.242332258147528|\n",
      "|    5|[4.34260765788021...|6.405827801454379|\n",
      "|    5|[4.34260765788021...|5.969597420455628|\n",
      "|    5|[4.34260765788021...|6.368553108958139|\n",
      "|    7|[4.34260765788021...|6.193197654055908|\n",
      "|    5|[4.34260765788021...|5.584978463934959|\n",
      "|    6|[4.42015422319950...|6.166647588160117|\n",
      "+-----+--------------------+-----------------+\n",
      "only showing top 20 rows\n",
      "\n"
     ]
    }
   ],
   "source": [
    "# predykcje\n",
    "regModel.transform(wine_eval).show()"
   ]
  },
  {
   "cell_type": "markdown",
   "metadata": {
    "id": "0k3cA4_2aMho"
   },
   "source": [
    "### Drzewo regresyjne"
   ]
  },
  {
   "cell_type": "code",
   "execution_count": 320,
   "metadata": {
    "ExecuteTime": {
     "end_time": "2023-08-13T12:21:37.731799Z",
     "start_time": "2023-08-13T12:21:37.721028Z"
    },
    "id": "JMrqOIm0aMho"
   },
   "outputs": [],
   "source": [
    "tree_reg = regression.DecisionTreeRegressor()"
   ]
  },
  {
   "cell_type": "code",
   "execution_count": 321,
   "metadata": {
    "ExecuteTime": {
     "end_time": "2023-08-13T12:21:41.214500Z",
     "start_time": "2023-08-13T12:21:40.442172Z"
    },
    "id": "9NHG37WaaMhp"
   },
   "outputs": [],
   "source": [
    "tree_regModel = tree_reg.fit(wine_train)"
   ]
  },
  {
   "cell_type": "code",
   "execution_count": 322,
   "metadata": {
    "ExecuteTime": {
     "end_time": "2023-08-13T12:21:44.226277Z",
     "start_time": "2023-08-13T12:21:44.220582Z"
    },
    "id": "YM_ATRK5aMhp",
    "scrolled": true
   },
   "outputs": [
    {
     "name": "stdout",
     "output_type": "stream",
     "text": [
      "DecisionTreeRegressionModel: uid=DecisionTreeRegressor_a8fd50d6a493, depth=5, numNodes=63, numFeatures=12\n",
      "  If (feature 10 <= 9.113586134636481)\n",
      "   If (feature 1 <= 1.5244450149933235)\n",
      "    If (feature 1 <= 1.2527617449945132)\n",
      "     If (feature 7 <= 329.8139994767736)\n",
      "      If (feature 0 <= 6.552684769479971)\n",
      "       Predict: 5.988207547169812\n",
      "      Else (feature 0 > 6.552684769479971)\n",
      "       Predict: 5.321428571428571\n",
      "     Else (feature 7 > 329.8139994767736)\n",
      "      If (feature 2 <= 2.1067668075847323)\n",
      "       Predict: 7.085106382978723\n",
      "      Else (feature 2 > 2.1067668075847323)\n",
      "       Predict: 6.0625\n",
      "    Else (feature 1 > 1.2527617449945132)\n",
      "     If (feature 9 <= 3.0223311418752203)\n",
      "      If (feature 10 <= 7.3882660114381355)\n",
      "       Predict: 5.2\n",
      "      Else (feature 10 > 7.3882660114381355)\n",
      "       Predict: 5.565217391304348\n",
      "     Else (feature 9 > 3.0223311418752203)\n",
      "      If (feature 10 <= 8.710083847759474)\n",
      "       Predict: 5.7406143344709895\n",
      "      Else (feature 10 > 8.710083847759474)\n",
      "       Predict: 6.225352112676056\n",
      "   Else (feature 1 > 1.5244450149933235)\n",
      "    If (feature 10 <= 8.22309832911476)\n",
      "     If (feature 1 <= 1.826315314992001)\n",
      "      If (feature 2 <= 1.8304695213441118)\n",
      "       Predict: 5.137931034482759\n",
      "      Else (feature 2 > 1.8304695213441118)\n",
      "       Predict: 5.536697247706422\n",
      "     Else (feature 1 > 1.826315314992001)\n",
      "      If (feature 9 <= 3.553730023963171)\n",
      "       Predict: 5.076923076923077\n",
      "      Else (feature 9 > 3.553730023963171)\n",
      "       Predict: 5.3056768558951966\n",
      "    Else (feature 10 > 8.22309832911476)\n",
      "     If (feature 9 <= 4.151553766312116)\n",
      "      If (feature 5 <= 0.47129948324339577)\n",
      "       Predict: 5.014285714285714\n",
      "      Else (feature 5 > 0.47129948324339577)\n",
      "       Predict: 5.59070796460177\n",
      "     Else (feature 9 > 4.151553766312116)\n",
      "      If (feature 0 <= 5.467032855009915)\n",
      "       Predict: 5.477611940298507\n",
      "      Else (feature 0 > 5.467032855009915)\n",
      "       Predict: 6.0062893081761\n",
      "  Else (feature 10 > 9.113586134636481)\n",
      "   If (feature 10 <= 9.746667308874603)\n",
      "    If (feature 2 <= 1.6232465566636463)\n",
      "     If (feature 5 <= 0.47129948324339577)\n",
      "      If (feature 9 <= 3.2880305829191956)\n",
      "       Predict: 4.0\n",
      "      Else (feature 9 > 3.2880305829191956)\n",
      "       Predict: 5.066666666666666\n",
      "     Else (feature 5 > 0.47129948324339577)\n",
      "      If (feature 5 <= 3.631778370875579)\n",
      "       Predict: 5.7215189873417724\n",
      "      Else (feature 5 > 3.631778370875579)\n",
      "       Predict: 3.0\n",
      "    Else (feature 2 > 1.6232465566636463)\n",
      "     If (feature 5 <= 0.7485344733865698)\n",
      "      If (feature 6 <= 0.7807313028831395)\n",
      "       Predict: 6.14\n",
      "      Else (feature 6 > 0.7807313028831395)\n",
      "       Predict: 5.476190476190476\n",
      "     Else (feature 5 > 0.7485344733865698)\n",
      "      If (feature 0 <= 5.311939724371337)\n",
      "       Predict: 6.357142857142857\n",
      "      Else (feature 0 > 5.311939724371337)\n",
      "       Predict: 6.103053435114504\n",
      "   Else (feature 10 > 9.746667308874603)\n",
      "    If (feature 5 <= 1.192110457615648)\n",
      "     If (feature 9 <= 4.550102927878079)\n",
      "      If (feature 2 <= 1.2088006273027154)\n",
      "       Predict: 5.605263157894737\n",
      "      Else (feature 2 > 1.2088006273027154)\n",
      "       Predict: 6.169082125603865\n",
      "     Else (feature 9 > 4.550102927878079)\n",
      "      If (feature 3 <= 1.0120330718479327)\n",
      "       Predict: 6.794520547945205\n",
      "      Else (feature 3 > 1.0120330718479327)\n",
      "       Predict: 5.888888888888889\n",
      "    Else (feature 5 > 1.192110457615648)\n",
      "     If (feature 3 <= 0.3581040100384993)\n",
      "      If (feature 8 <= 20.466433390926035)\n",
      "       Predict: 6.211538461538462\n",
      "      Else (feature 8 > 20.466433390926035)\n",
      "       Predict: 6.704545454545454\n",
      "     Else (feature 3 > 0.3581040100384993)\n",
      "      If (feature 10 <= 10.122341851829084)\n",
      "       Predict: 6.550387596899225\n",
      "      Else (feature 10 > 10.122341851829084)\n",
      "       Predict: 6.8428571428571425\n",
      "\n"
     ]
    }
   ],
   "source": [
    "print(tree_regModel.toDebugString)"
   ]
  },
  {
   "cell_type": "code",
   "execution_count": 323,
   "metadata": {
    "ExecuteTime": {
     "end_time": "2023-08-13T12:21:46.763162Z",
     "start_time": "2023-08-13T12:21:46.621740Z"
    },
    "id": "CMBpVL5TaMhp"
   },
   "outputs": [
    {
     "name": "stdout",
     "output_type": "stream",
     "text": [
      "+-----+--------------------+------------------+\n",
      "|label|            features|        prediction|\n",
      "+-----+--------------------+------------------+\n",
      "|    7|[3.79978170064518...| 6.794520547945205|\n",
      "|    6|[3.87732826596447...| 5.605263157894737|\n",
      "|    5|[3.87732826596447...| 6.357142857142857|\n",
      "|    7|[3.95487483128376...| 6.794520547945205|\n",
      "|    5|[4.03242139660305...|5.3056768558951966|\n",
      "|    6|[4.03242139660305...|6.8428571428571425|\n",
      "|    6|[4.03242139660305...|6.8428571428571425|\n",
      "|    7|[4.10996796192234...| 6.794520547945205|\n",
      "|    7|[4.10996796192234...| 6.794520547945205|\n",
      "|    7|[4.18751452724163...|6.8428571428571425|\n",
      "|    6|[4.18751452724163...| 5.477611940298507|\n",
      "|    8|[4.26506109256092...|6.8428571428571425|\n",
      "|    5|[4.34260765788021...|5.3056768558951966|\n",
      "|    6|[4.34260765788021...|  5.59070796460177|\n",
      "|    5|[4.34260765788021...| 5.605263157894737|\n",
      "|    5|[4.34260765788021...| 5.066666666666666|\n",
      "|    5|[4.34260765788021...| 5.605263157894737|\n",
      "|    7|[4.34260765788021...| 5.605263157894737|\n",
      "|    5|[4.34260765788021...|5.7215189873417724|\n",
      "|    6|[4.42015422319950...| 5.605263157894737|\n",
      "+-----+--------------------+------------------+\n",
      "only showing top 20 rows\n",
      "\n"
     ]
    }
   ],
   "source": [
    "# predykcje\n",
    "tree_regModel.transform(wine_eval).show()"
   ]
  },
  {
   "cell_type": "markdown",
   "metadata": {
    "id": "Hjihwp1VaMhq"
   },
   "source": [
    "### Las regresyjny"
   ]
  },
  {
   "cell_type": "code",
   "execution_count": 324,
   "metadata": {
    "ExecuteTime": {
     "end_time": "2023-08-13T12:21:55.525837Z",
     "start_time": "2023-08-13T12:21:55.508581Z"
    },
    "id": "2EDitP74aMhq"
   },
   "outputs": [],
   "source": [
    "forest_reg = regression.RandomForestRegressor()"
   ]
  },
  {
   "cell_type": "code",
   "execution_count": 325,
   "metadata": {
    "ExecuteTime": {
     "end_time": "2023-08-13T12:21:58.666144Z",
     "start_time": "2023-08-13T12:21:57.540581Z"
    },
    "id": "fWGS9S-EaMhu"
   },
   "outputs": [],
   "source": [
    "forest_regModel = forest_reg.fit(wine_train)"
   ]
  },
  {
   "cell_type": "code",
   "execution_count": 326,
   "metadata": {
    "ExecuteTime": {
     "end_time": "2023-08-13T12:21:59.928649Z",
     "start_time": "2023-08-13T12:21:59.914278Z"
    },
    "id": "UNkuBkhGaMhu"
   },
   "outputs": [
    {
     "data": {
      "text/plain": [
       "SparseVector(12, {0: 0.0162, 1: 0.1326, 2: 0.0747, 3: 0.0244, 4: 0.041, 5: 0.0711, 6: 0.029, 7: 0.1845, 8: 0.0208, 9: 0.0379, 10: 0.3644, 11: 0.0035})"
      ]
     },
     "execution_count": 326,
     "metadata": {},
     "output_type": "execute_result"
    }
   ],
   "source": [
    "forest_regModel.featureImportances"
   ]
  },
  {
   "cell_type": "code",
   "execution_count": 327,
   "metadata": {
    "ExecuteTime": {
     "end_time": "2023-08-13T12:22:02.608001Z",
     "start_time": "2023-08-13T12:22:02.593840Z"
    },
    "id": "txjjwooVaMhv"
   },
   "outputs": [
    {
     "name": "stdout",
     "output_type": "stream",
     "text": [
      "RandomForestRegressionModel: uid=RandomForestRegressor_51d3bf614acb, numTrees=20, numFeatures=12\n",
      "  Tree 0 (weight 1.0):\n",
      "    If (feature 4 <= 1.1167202647811711)\n",
      "     If (feature 10 <= 9.113586134636481)\n",
      "      If (feature 5 <= 0.9148754674724742)\n",
      "       If (feature 10 <= 8.111787353424543)\n",
      "        If (feature 8 <= 18.28583927012722)\n",
      "         Predict: 3.0\n",
      "        Else (feature 8 > 18.28583927012722)\n",
      "         Predict: 5.3\n",
      "       Else (feature 10 > 8.111787353424543)\n",
      "        If (feature 7 <= 328.009344053748)\n",
      "         Predict: 5.769230769230769\n",
      "        Else (feature 7 > 328.009344053748)\n",
      "         Predict: 5.148936170212766\n",
      "      Else (feature 5 > 0.9148754674724742)\n",
      "       If (feature 10 <= 8.306581560882423)\n",
      "        If (feature 1 <= 2.0376245249910756)\n",
      "         Predict: 5.809160305343512\n",
      "        Else (feature 1 > 2.0376245249910756)\n",
      "         Predict: 5.107142857142857\n",
      "       Else (feature 10 > 8.306581560882423)\n",
      "        If (feature 2 <= 0.10361148234023275)\n",
      "         Predict: 4.0\n",
      "        Else (feature 2 > 0.10361148234023275)\n",
      "         Predict: 6.138075313807532\n",
      "     Else (feature 10 > 9.113586134636481)\n",
      "      If (feature 0 <= 6.242498508202811)\n",
      "       If (feature 5 <= 0.5821934793006653)\n",
      "        If (feature 8 <= 21.650184485073964)\n",
      "         Predict: 5.340909090909091\n",
      "        Else (feature 8 > 21.650184485073964)\n",
      "         Predict: 3.0\n",
      "       Else (feature 5 > 0.5821934793006653)\n",
      "        If (feature 8 <= 20.217222634263315)\n",
      "         Predict: 6.5\n",
      "        Else (feature 8 > 20.217222634263315)\n",
      "         Predict: 6.743670886075949\n",
      "      Else (feature 0 > 6.242498508202811)\n",
      "       If (feature 2 <= 2.175841129144888)\n",
      "        If (feature 4 <= 0.8622776728057143)\n",
      "         Predict: 5.2727272727272725\n",
      "        Else (feature 4 > 0.8622776728057143)\n",
      "         Predict: 5.8\n",
      "       Else (feature 2 > 2.175841129144888)\n",
      "        If (feature 5 <= 1.0257694635297436)\n",
      "         Predict: 6.7\n",
      "        Else (feature 5 > 1.0257694635297436)\n",
      "         Predict: 6.176470588235294\n",
      "    Else (feature 4 > 1.1167202647811711)\n",
      "     If (feature 4 <= 1.851776641599157)\n",
      "      If (feature 10 <= 9.113586134636481)\n",
      "       If (feature 1 <= 1.5546320449931912)\n",
      "        If (feature 3 <= 2.5430574625922415)\n",
      "         Predict: 5.702857142857143\n",
      "        Else (feature 3 > 2.5430574625922415)\n",
      "         Predict: 6.128205128205129\n",
      "       Else (feature 1 > 1.5546320449931912)\n",
      "        If (feature 9 <= 3.354455443180189)\n",
      "         Predict: 5.202429149797571\n",
      "        Else (feature 9 > 3.354455443180189)\n",
      "         Predict: 5.5\n",
      "      Else (feature 10 > 9.113586134636481)\n",
      "       If (feature 5 <= 0.6515022268364588)\n",
      "        If (feature 9 <= 3.7530046047461525)\n",
      "         Predict: 5.1875\n",
      "        Else (feature 9 > 3.7530046047461525)\n",
      "         Predict: 6.111111111111111\n",
      "       Else (feature 5 > 0.6515022268364588)\n",
      "        If (feature 2 <= 1.968618164464422)\n",
      "         Predict: 6.041666666666667\n",
      "        Else (feature 2 > 1.968618164464422)\n",
      "         Predict: 6.317460317460317\n",
      "     Else (feature 4 > 1.851776641599157)\n",
      "      If (feature 10 <= 9.308380342094374)\n",
      "       If (feature 9 <= 3.819429465007146)\n",
      "        If (feature 1 <= 1.6753801649926623)\n",
      "         Predict: 5.6923076923076925\n",
      "        Else (feature 1 > 1.6753801649926623)\n",
      "         Predict: 5.091623036649215\n",
      "       Else (feature 9 > 3.819429465007146)\n",
      "        If (feature 10 <= 8.22309832911476)\n",
      "         Predict: 5.346715328467154\n",
      "        Else (feature 10 > 8.22309832911476)\n",
      "         Predict: 5.671875\n",
      "      Else (feature 10 > 9.308380342094374)\n",
      "       If (feature 1 <= 4.4223998949806305)\n",
      "        If (feature 6 <= 1.8334027225008556)\n",
      "         Predict: 6.3028571428571425\n",
      "        Else (feature 6 > 1.8334027225008556)\n",
      "         Predict: 5.5\n",
      "       Else (feature 1 > 4.4223998949806305)\n",
      "        If (feature 4 <= 2.3323904264416866)\n",
      "         Predict: 5.888888888888889\n",
      "        Else (feature 4 > 2.3323904264416866)\n",
      "         Predict: 4.888888888888889\n",
      "  Tree 1 (weight 1.0):\n",
      "    If (feature 7 <= 328.009344053748)\n",
      "     If (feature 6 <= 1.1667108234096353)\n",
      "      If (feature 9 <= 4.417253207356091)\n",
      "       If (feature 5 <= 0.5821934793006653)\n",
      "        If (feature 7 <= 327.6788210824979)\n",
      "         Predict: 4.277777777777778\n",
      "        Else (feature 7 > 327.6788210824979)\n",
      "         Predict: 5.222222222222222\n",
      "       Else (feature 5 > 0.5821934793006653)\n",
      "        If (feature 5 <= 1.0257694635297436)\n",
      "         Predict: 6.133333333333334\n",
      "        Else (feature 5 > 1.0257694635297436)\n",
      "         Predict: 5.428571428571429\n",
      "      Else (feature 9 > 4.417253207356091)\n",
      "       If (feature 11 <= 1.1495725628121944)\n",
      "        Predict: 8.0\n",
      "       Else (feature 11 > 1.1495725628121944)\n",
      "        Predict: 7.0\n",
      "     Else (feature 6 > 1.1667108234096353)\n",
      "      If (feature 7 <= 327.25575167929776)\n",
      "       If (feature 8 <= 22.024000620068048)\n",
      "        If (feature 1 <= 2.0376245249910756)\n",
      "         Predict: 6.567251461988304\n",
      "        Else (feature 1 > 2.0376245249910756)\n",
      "         Predict: 7.046153846153846\n",
      "       Else (feature 8 > 22.024000620068048)\n",
      "        If (feature 7 <= 327.05082743712273)\n",
      "         Predict: 8.0\n",
      "        Else (feature 7 > 327.05082743712273)\n",
      "         Predict: 7.0\n",
      "      Else (feature 7 > 327.25575167929776)\n",
      "       If (feature 10 <= 9.951201226705376)\n",
      "        If (feature 2 <= 1.6232465566636463)\n",
      "         Predict: 5.473684210526316\n",
      "        Else (feature 2 > 1.6232465566636463)\n",
      "         Predict: 6.184824902723736\n",
      "       Else (feature 10 > 9.951201226705376)\n",
      "        If (feature 2 <= 3.14288163098706)\n",
      "         Predict: 6.660944206008583\n",
      "        Else (feature 2 > 3.14288163098706)\n",
      "         Predict: 6.153846153846154\n",
      "    Else (feature 7 > 328.009344053748)\n",
      "     If (feature 10 <= 8.640514487953075)\n",
      "      If (feature 2 <= 1.8304695213441118)\n",
      "       If (feature 10 <= 8.22309832911476)\n",
      "        If (feature 1 <= 1.5244450149933235)\n",
      "         Predict: 5.440366972477064\n",
      "        Else (feature 1 > 1.5244450149933235)\n",
      "         Predict: 5.18739054290718\n",
      "       Else (feature 10 > 8.22309832911476)\n",
      "        If (feature 6 <= 2.061481530084694)\n",
      "         Predict: 5.341666666666667\n",
      "        Else (feature 6 > 2.061481530084694)\n",
      "         Predict: 5.8311688311688314\n",
      "      Else (feature 2 > 1.8304695213441118)\n",
      "       If (feature 3 <= 2.5430574625922415)\n",
      "        If (feature 1 <= 1.3735098649939843)\n",
      "         Predict: 5.897233201581027\n",
      "        Else (feature 1 > 1.3735098649939843)\n",
      "         Predict: 5.402887139107611\n",
      "       Else (feature 3 > 2.5430574625922415)\n",
      "        If (feature 2 <= 2.1067668075847323)\n",
      "         Predict: 6.294117647058823\n",
      "        Else (feature 2 > 2.1067668075847323)\n",
      "         Predict: 5.6325088339222615\n",
      "     Else (feature 10 > 8.640514487953075)\n",
      "      If (feature 2 <= 1.7613951997839568)\n",
      "       If (feature 5 <= 0.3604054871861262)\n",
      "        If (feature 0 <= 4.303834375220571)\n",
      "         Predict: 4.0\n",
      "        Else (feature 0 > 4.303834375220571)\n",
      "         Predict: 4.930232558139535\n",
      "       Else (feature 5 > 0.3604054871861262)\n",
      "        If (feature 4 <= 1.1732630629979393)\n",
      "         Predict: 5.333333333333333\n",
      "        Else (feature 4 > 1.1732630629979393)\n",
      "         Predict: 5.932\n",
      "      Else (feature 2 > 1.7613951997839568)\n",
      "       If (feature 9 <= 4.8158023689220535)\n",
      "        If (feature 3 <= 0.22316626712544163)\n",
      "         Predict: 4.636363636363637\n",
      "        Else (feature 3 > 0.22316626712544163)\n",
      "         Predict: 6.0715328467153284\n",
      "       Else (feature 9 > 4.8158023689220535)\n",
      "        If (feature 1 <= 2.0376245249910756)\n",
      "         Predict: 6.671052631578948\n",
      "        Else (feature 1 > 2.0376245249910756)\n",
      "         Predict: 6.184782608695652\n",
      "  Tree 2 (weight 1.0):\n",
      "    If (feature 7 <= 328.009344053748)\n",
      "     If (feature 9 <= 3.7530046047461525)\n",
      "      If (feature 5 <= 0.5821934793006653)\n",
      "       If (feature 5 <= 0.3604054871861262)\n",
      "        If (feature 1 <= 2.097998584990811)\n",
      "         Predict: 4.533333333333333\n",
      "        Else (feature 1 > 2.097998584990811)\n",
      "         Predict: 5.75\n",
      "       Else (feature 5 > 0.3604054871861262)\n",
      "        If (feature 1 <= 2.097998584990811)\n",
      "         Predict: 5.708333333333333\n",
      "        Else (feature 1 > 2.097998584990811)\n",
      "         Predict: 5.166666666666667\n",
      "      Else (feature 5 > 0.5821934793006653)\n",
      "       If (feature 0 <= 5.699672550967785)\n",
      "        If (feature 7 <= 327.6788210824979)\n",
      "         Predict: 6.536817102137767\n",
      "        Else (feature 7 > 327.6788210824979)\n",
      "         Predict: 6.179611650485437\n",
      "       Else (feature 0 > 5.699672550967785)\n",
      "        If (feature 1 <= 2.6111780949885635)\n",
      "         Predict: 6.03030303030303\n",
      "        Else (feature 1 > 2.6111780949885635)\n",
      "         Predict: 5.0\n",
      "     Else (feature 9 > 3.7530046047461525)\n",
      "      If (feature 8 <= 19.843406499269236)\n",
      "       If (feature 9 <= 4.018704045790128)\n",
      "        If (feature 3 <= 0.7369676728328536)\n",
      "         Predict: 6.333333333333333\n",
      "        Else (feature 3 > 0.7369676728328536)\n",
      "         Predict: 7.117647058823529\n",
      "       Else (feature 9 > 4.018704045790128)\n",
      "        If (feature 6 <= 2.5527281925729617)\n",
      "         Predict: 6.153846153846154\n",
      "        Else (feature 6 > 2.5527281925729617)\n",
      "         Predict: 6.769230769230769\n",
      "      Else (feature 8 > 19.843406499269236)\n",
      "       If (feature 6 <= 3.0615193787215245)\n",
      "        If (feature 1 <= 1.132013624995042)\n",
      "         Predict: 7.219512195121951\n",
      "        Else (feature 1 > 1.132013624995042)\n",
      "         Predict: 6.6911764705882355\n",
      "       Else (feature 6 > 3.0615193787215245)\n",
      "        If (feature 2 <= 3.626401881908146)\n",
      "         Predict: 5.666666666666667\n",
      "        Else (feature 2 > 3.626401881908146)\n",
      "         Predict: 7.0\n",
      "    Else (feature 7 > 328.009344053748)\n",
      "     If (feature 7 <= 329.02404957548583)\n",
      "      If (feature 2 <= 1.8304695213441118)\n",
      "       If (feature 6 <= 3.7633003251333355)\n",
      "        If (feature 3 <= 0.25430574625922414)\n",
      "         Predict: 4.869565217391305\n",
      "        Else (feature 3 > 0.25430574625922414)\n",
      "         Predict: 5.562076749435666\n",
      "       Else (feature 6 > 3.7633003251333355)\n",
      "        If (feature 5 <= 3.631778370875579)\n",
      "         Predict: 5.0\n",
      "        Else (feature 5 > 3.631778370875579)\n",
      "         Predict: 3.0\n",
      "      Else (feature 2 > 1.8304695213441118)\n",
      "       If (feature 10 <= 9.113586134636481)\n",
      "        If (feature 1 <= 1.7659412549922657)\n",
      "         Predict: 5.818930041152264\n",
      "        Else (feature 1 > 1.7659412549922657)\n",
      "         Predict: 5.302013422818792\n",
      "       Else (feature 10 > 9.113586134636481)\n",
      "        If (feature 0 <= 6.862871030757129)\n",
      "         Predict: 6.350943396226415\n",
      "        Else (feature 0 > 6.862871030757129)\n",
      "         Predict: 6.833333333333333\n",
      "     Else (feature 7 > 329.02404957548583)\n",
      "      If (feature 10 <= 9.204026302384797)\n",
      "       If (feature 1 <= 1.2527617449945132)\n",
      "        If (feature 5 <= 3.0218613925605964)\n",
      "         Predict: 6.237623762376238\n",
      "        Else (feature 5 > 3.0218613925605964)\n",
      "         Predict: 5.75\n",
      "       Else (feature 1 > 1.2527617449945132)\n",
      "        If (feature 2 <= 1.8304695213441118)\n",
      "         Predict: 5.321688500727802\n",
      "        Else (feature 2 > 1.8304695213441118)\n",
      "         Predict: 5.517274472168906\n",
      "      Else (feature 10 > 9.204026302384797)\n",
      "       If (feature 9 <= 3.819429465007146)\n",
      "        If (feature 5 <= 0.3604054871861262)\n",
      "         Predict: 5.0\n",
      "        Else (feature 5 > 0.3604054871861262)\n",
      "         Predict: 6.125\n",
      "       Else (feature 9 > 3.819429465007146)\n",
      "        If (feature 2 <= 2.037692486024577)\n",
      "         Predict: 5.62962962962963\n",
      "        Else (feature 2 > 2.037692486024577)\n",
      "         Predict: 6.493975903614458\n",
      "  Tree 3 (weight 1.0):\n",
      "    If (feature 7 <= 328.009344053748)\n",
      "     If (feature 5 <= 0.5821934793006653)\n",
      "      If (feature 3 <= 0.4826619265736295)\n",
      "       If (feature 1 <= 1.132013624995042)\n",
      "        If (feature 0 <= 4.458927505859151)\n",
      "         Predict: 4.0\n",
      "        Else (feature 0 > 4.458927505859151)\n",
      "         Predict: 5.0\n",
      "       Else (feature 1 > 1.132013624995042)\n",
      "        If (feature 9 <= 2.3580825392652818)\n",
      "         Predict: 4.642857142857143\n",
      "        Else (feature 9 > 2.3580825392652818)\n",
      "         Predict: 5.416666666666667\n",
      "      Else (feature 3 > 0.4826619265736295)\n",
      "       If (feature 8 <= 19.968011877600595)\n",
      "        If (feature 7 <= 327.8804400949605)\n",
      "         Predict: 6.176470588235294\n",
      "        Else (feature 7 > 327.8804400949605)\n",
      "         Predict: 8.0\n",
      "       Else (feature 8 > 19.968011877600595)\n",
      "        If (feature 0 <= 4.788500408466132)\n",
      "         Predict: 4.0\n",
      "        Else (feature 0 > 4.788500408466132)\n",
      "         Predict: 3.0\n",
      "     Else (feature 5 > 0.5821934793006653)\n",
      "      If (feature 3 <= 0.37886366279435435)\n",
      "       If (feature 4 <= 1.144991663889555)\n",
      "        If (feature 5 <= 2.8971056469961676)\n",
      "         Predict: 6.370716510903427\n",
      "        Else (feature 5 > 2.8971056469961676)\n",
      "         Predict: 5.666666666666667\n",
      "       Else (feature 4 > 1.144991663889555)\n",
      "        If (feature 7 <= 327.78293581844173)\n",
      "         Predict: 6.12\n",
      "        Else (feature 7 > 327.78293581844173)\n",
      "         Predict: 5.593220338983051\n",
      "      Else (feature 3 > 0.37886366279435435)\n",
      "       If (feature 4 <= 1.2580772603230912)\n",
      "        If (feature 6 <= 1.675502009558198)\n",
      "         Predict: 6.325757575757576\n",
      "        Else (feature 6 > 1.675502009558198)\n",
      "         Predict: 6.641160949868074\n",
      "       Else (feature 4 > 1.2580772603230912)\n",
      "        If (feature 6 <= 1.5702348675964266)\n",
      "         Predict: 7.222222222222222\n",
      "        Else (feature 6 > 1.5702348675964266)\n",
      "         Predict: 5.938775510204081\n",
      "    Else (feature 7 > 328.009344053748)\n",
      "     If (feature 10 <= 8.640514487953075)\n",
      "      If (feature 10 <= 8.22309832911476)\n",
      "       If (feature 3 <= 2.5430574625922415)\n",
      "        If (feature 5 <= 1.4138984497301872)\n",
      "         Predict: 5.247097844112769\n",
      "        Else (feature 5 > 1.4138984497301872)\n",
      "         Predict: 5.416551724137931\n",
      "       Else (feature 3 > 2.5430574625922415)\n",
      "        If (feature 1 <= 1.2527617449945132)\n",
      "         Predict: 6.478260869565218\n",
      "        Else (feature 1 > 1.2527617449945132)\n",
      "         Predict: 5.514619883040936\n",
      "      Else (feature 10 > 8.22309832911476)\n",
      "       If (feature 9 <= 3.819429465007146)\n",
      "        If (feature 2 <= 1.2088006273027154)\n",
      "         Predict: 5.057142857142857\n",
      "        Else (feature 2 > 1.2088006273027154)\n",
      "         Predict: 5.626016260162602\n",
      "       Else (feature 9 > 3.819429465007146)\n",
      "        If (feature 1 <= 1.0716395649953063)\n",
      "         Predict: 6.666666666666667\n",
      "        Else (feature 1 > 1.0716395649953063)\n",
      "         Predict: 5.665094339622642\n",
      "     Else (feature 10 > 8.640514487953075)\n",
      "      If (feature 2 <= 1.7613951997839568)\n",
      "       If (feature 9 <= 2.490932259787269)\n",
      "        If (feature 5 <= 2.3149121676955025)\n",
      "         Predict: 4.9523809523809526\n",
      "        Else (feature 5 > 2.3149121676955025)\n",
      "         Predict: 3.0\n",
      "       Else (feature 9 > 2.490932259787269)\n",
      "        If (feature 10 <= 9.531002293474794)\n",
      "         Predict: 5.668202764976958\n",
      "        Else (feature 10 > 9.531002293474794)\n",
      "         Predict: 6.1692307692307695\n",
      "      Else (feature 2 > 1.7613951997839568)\n",
      "       If (feature 10 <= 9.746667308874603)\n",
      "        If (feature 9 <= 2.8894814213532323)\n",
      "         Predict: 5.8449197860962565\n",
      "        Else (feature 9 > 2.8894814213532323)\n",
      "         Predict: 6.098484848484849\n",
      "       Else (feature 10 > 9.746667308874603)\n",
      "        If (feature 6 <= 2.201837719367056)\n",
      "         Predict: 6.357664233576642\n",
      "        Else (feature 6 > 2.201837719367056)\n",
      "         Predict: 6.7272727272727275\n",
      "  Tree 4 (weight 1.0):\n",
      "    If (feature 10 <= 8.870093375314145)\n",
      "     If (feature 3 <= 2.5430574625922415)\n",
      "      If (feature 7 <= 328.7695468876233)\n",
      "       If (feature 2 <= 1.6232465566636463)\n",
      "        If (feature 1 <= 3.6073500849842004)\n",
      "         Predict: 5.4\n",
      "        Else (feature 1 > 3.6073500849842004)\n",
      "         Predict: 4.4\n",
      "       Else (feature 2 > 1.6232465566636463)\n",
      "        If (feature 1 <= 1.615006104992927)\n",
      "         Predict: 5.981651376146789\n",
      "        Else (feature 1 > 1.615006104992927)\n",
      "         Predict: 5.434146341463415\n",
      "      Else (feature 7 > 328.7695468876233)\n",
      "       If (feature 1 <= 1.615006104992927)\n",
      "        If (feature 9 <= 2.3580825392652818)\n",
      "         Predict: 5.133333333333334\n",
      "        Else (feature 9 > 2.3580825392652818)\n",
      "         Predict: 5.658536585365853\n",
      "       Else (feature 1 > 1.615006104992927)\n",
      "        If (feature 10 <= 8.22309832911476)\n",
      "         Predict: 5.208588957055214\n",
      "        Else (feature 10 > 8.22309832911476)\n",
      "         Predict: 5.606060606060606\n",
      "     Else (feature 3 > 2.5430574625922415)\n",
      "      If (feature 1 <= 1.2527617449945132)\n",
      "       If (feature 2 <= 2.1067668075847323)\n",
      "        If (feature 2 <= 1.8304695213441118)\n",
      "         Predict: 6.0\n",
      "        Else (feature 2 > 1.8304695213441118)\n",
      "         Predict: 7.264705882352941\n",
      "       Else (feature 2 > 2.1067668075847323)\n",
      "        If (feature 4 <= 1.4559770540817798)\n",
      "         Predict: 5.916666666666667\n",
      "        Else (feature 4 > 1.4559770540817798)\n",
      "         Predict: 6.5625\n",
      "      Else (feature 1 > 1.2527617449945132)\n",
      "       If (feature 3 <= 3.0205294759769075)\n",
      "        If (feature 1 <= 1.826315314992001)\n",
      "         Predict: 5.873873873873874\n",
      "        Else (feature 1 > 1.826315314992001)\n",
      "         Predict: 5.4375\n",
      "       Else (feature 3 > 3.0205294759769075)\n",
      "        If (feature 8 <= 19.656498431772192)\n",
      "         Predict: 5.288288288288288\n",
      "        Else (feature 8 > 19.656498431772192)\n",
      "         Predict: 5.551020408163265\n",
      "    Else (feature 10 > 8.870093375314145)\n",
      "     If (feature 1 <= 3.6073500849842004)\n",
      "      If (feature 2 <= 1.6232465566636463)\n",
      "       If (feature 10 <= 9.951201226705376)\n",
      "        If (feature 5 <= 0.5821934793006653)\n",
      "         Predict: 4.9655172413793105\n",
      "        Else (feature 5 > 0.5821934793006653)\n",
      "         Predict: 5.883495145631068\n",
      "       Else (feature 10 > 9.951201226705376)\n",
      "        If (feature 9 <= 2.2252328187432937)\n",
      "         Predict: 8.0\n",
      "        Else (feature 9 > 2.2252328187432937)\n",
      "         Predict: 6.413793103448276\n",
      "      Else (feature 2 > 1.6232465566636463)\n",
      "       If (feature 10 <= 10.122341851829084)\n",
      "        If (feature 0 <= 5.311939724371337)\n",
      "         Predict: 6.3276955602537\n",
      "        Else (feature 0 > 5.311939724371337)\n",
      "         Predict: 6.102966841186737\n",
      "       Else (feature 10 > 10.122341851829084)\n",
      "        If (feature 1 <= 1.4640709549935877)\n",
      "         Predict: 6.419642857142857\n",
      "        Else (feature 1 > 1.4640709549935877)\n",
      "         Predict: 6.697297297297298\n",
      "     Else (feature 1 > 3.6073500849842004)\n",
      "      If (feature 10 <= 9.531002293474794)\n",
      "       If (feature 1 <= 4.4223998949806305)\n",
      "        If (feature 10 <= 9.204026302384797)\n",
      "         Predict: 5.285714285714286\n",
      "        Else (feature 10 > 9.204026302384797)\n",
      "         Predict: 5.8125\n",
      "       Else (feature 1 > 4.4223998949806305)\n",
      "        If (feature 7 <= 329.3677934655859)\n",
      "         Predict: 4.8\n",
      "        Else (feature 7 > 329.3677934655859)\n",
      "         Predict: 4.153846153846154\n",
      "      Else (feature 10 > 9.531002293474794)\n",
      "       If (feature 9 <= 3.8858543252681397)\n",
      "        If (feature 5 <= 0.7485344733865698)\n",
      "         Predict: 5.055555555555555\n",
      "        Else (feature 5 > 0.7485344733865698)\n",
      "         Predict: 6.1\n",
      "       Else (feature 9 > 3.8858543252681397)\n",
      "        If (feature 3 <= 0.2958250517709342)\n",
      "         Predict: 7.2\n",
      "        Else (feature 3 > 0.2958250517709342)\n",
      "         Predict: 6.111111111111111\n",
      "  Tree 5 (weight 1.0):\n",
      "    If (feature 10 <= 9.113586134636481)\n",
      "     If (feature 5 <= 1.3584514517015525)\n",
      "      If (feature 9 <= 3.819429465007146)\n",
      "       If (feature 4 <= 1.060177466564403)\n",
      "        If (feature 1 <= 1.9621569499914062)\n",
      "         Predict: 5.757894736842105\n",
      "        Else (feature 1 > 1.9621569499914062)\n",
      "         Predict: 4.8\n",
      "       Else (feature 4 > 1.060177466564403)\n",
      "        If (feature 1 <= 1.7659412549922657)\n",
      "         Predict: 5.521472392638037\n",
      "        Else (feature 1 > 1.7659412549922657)\n",
      "         Predict: 5.049861495844875\n",
      "      Else (feature 9 > 3.819429465007146)\n",
      "       If (feature 0 <= 8.103616075865762)\n",
      "        If (feature 10 <= 8.22309832911476)\n",
      "         Predict: 5.2959641255605385\n",
      "        Else (feature 10 > 8.22309832911476)\n",
      "         Predict: 5.719512195121951\n",
      "       Else (feature 0 > 8.103616075865762)\n",
      "        If (feature 4 <= 3.321889395235129)\n",
      "         Predict: 6.064516129032258\n",
      "        Else (feature 4 > 3.321889395235129)\n",
      "         Predict: 5.333333333333333\n",
      "     Else (feature 5 > 1.3584514517015525)\n",
      "      If (feature 7 <= 328.5381808077482)\n",
      "       If (feature 8 <= 20.65334145842308)\n",
      "        If (feature 1 <= 1.5546320449931912)\n",
      "         Predict: 6.0920245398773005\n",
      "        Else (feature 1 > 1.5546320449931912)\n",
      "         Predict: 5.445378151260504\n",
      "       Else (feature 8 > 20.65334145842308)\n",
      "        If (feature 2 <= 0.8634290195019395)\n",
      "         Predict: 5.0\n",
      "        Else (feature 2 > 0.8634290195019395)\n",
      "         Predict: 6.628571428571429\n",
      "      Else (feature 7 > 328.5381808077482)\n",
      "       If (feature 0 <= 5.389486289690627)\n",
      "        If (feature 6 <= 2.465005574271485)\n",
      "         Predict: 5.792929292929293\n",
      "        Else (feature 6 > 2.465005574271485)\n",
      "         Predict: 5.398809523809524\n",
      "       Else (feature 0 > 5.389486289690627)\n",
      "        If (feature 4 <= 1.7104196460572365)\n",
      "         Predict: 5.80895008605852\n",
      "        Else (feature 4 > 1.7104196460572365)\n",
      "         Predict: 5.495238095238095\n",
      "    Else (feature 10 > 9.113586134636481)\n",
      "     If (feature 2 <= 1.6232465566636463)\n",
      "      If (feature 6 <= 1.1667108234096353)\n",
      "       If (feature 10 <= 9.308380342094374)\n",
      "        If (feature 0 <= 6.862871030757129)\n",
      "         Predict: 4.421052631578948\n",
      "        Else (feature 0 > 6.862871030757129)\n",
      "         Predict: 6.0\n",
      "       Else (feature 10 > 9.308380342094374)\n",
      "        If (feature 9 <= 4.018704045790128)\n",
      "         Predict: 5.53125\n",
      "        Else (feature 9 > 4.018704045790128)\n",
      "         Predict: 6.257142857142857\n",
      "      Else (feature 6 > 1.1667108234096353)\n",
      "       If (feature 4 <= 0.8057348745889462)\n",
      "        If (feature 1 <= 2.6111780949885635)\n",
      "         Predict: 6.8125\n",
      "        Else (feature 1 > 2.6111780949885635)\n",
      "         Predict: 8.0\n",
      "       Else (feature 4 > 0.8057348745889462)\n",
      "        If (feature 10 <= 10.47714558684165)\n",
      "         Predict: 5.852459016393443\n",
      "        Else (feature 10 > 10.47714558684165)\n",
      "         Predict: 6.875\n",
      "     Else (feature 2 > 1.6232465566636463)\n",
      "      If (feature 7 <= 327.25575167929776)\n",
      "       If (feature 8 <= 21.2140656609142)\n",
      "        If (feature 10 <= 10.47714558684165)\n",
      "         Predict: 6.375\n",
      "        Else (feature 10 > 10.47714558684165)\n",
      "         Predict: 6.765625\n",
      "       Else (feature 8 > 21.2140656609142)\n",
      "        If (feature 4 <= 0.7209206772637939)\n",
      "         Predict: 8.333333333333334\n",
      "        Else (feature 4 > 0.7209206772637939)\n",
      "         Predict: 7.1\n",
      "      Else (feature 7 > 327.25575167929776)\n",
      "       If (feature 10 <= 9.746667308874603)\n",
      "        If (feature 5 <= 0.7485344733865698)\n",
      "         Predict: 5.897435897435898\n",
      "        Else (feature 5 > 0.7485344733865698)\n",
      "         Predict: 6.22007722007722\n",
      "       Else (feature 10 > 9.746667308874603)\n",
      "        If (feature 5 <= 1.192110457615648)\n",
      "         Predict: 6.251256281407035\n",
      "        Else (feature 5 > 1.192110457615648)\n",
      "         Predict: 6.65625\n",
      "  Tree 6 (weight 1.0):\n",
      "    If (feature 1 <= 3.335666814985391)\n",
      "     If (feature 7 <= 327.8804400949605)\n",
      "      If (feature 5 <= 0.5821934793006653)\n",
      "       If (feature 6 <= 0.3772072586963483)\n",
      "        Predict: 3.0\n",
      "       Else (feature 6 > 0.3772072586963483)\n",
      "        If (feature 8 <= 20.154919945097635)\n",
      "         Predict: 5.574468085106383\n",
      "        Else (feature 8 > 20.154919945097635)\n",
      "         Predict: 4.5625\n",
      "      Else (feature 5 > 0.5821934793006653)\n",
      "       If (feature 4 <= 1.1167202647811711)\n",
      "        If (feature 6 <= 1.675502009558198)\n",
      "         Predict: 6.286407766990291\n",
      "        Else (feature 6 > 1.675502009558198)\n",
      "         Predict: 6.651416122004357\n",
      "       Else (feature 4 > 1.1167202647811711)\n",
      "        If (feature 0 <= 5.699672550967785)\n",
      "         Predict: 6.271186440677966\n",
      "        Else (feature 0 > 5.699672550967785)\n",
      "         Predict: 5.771929824561403\n",
      "     Else (feature 7 > 327.8804400949605)\n",
      "      If (feature 9 <= 4.550102927878079)\n",
      "       If (feature 1 <= 1.2527617449945132)\n",
      "        If (feature 7 <= 329.8139994767736)\n",
      "         Predict: 5.985882352941177\n",
      "        Else (feature 7 > 329.8139994767736)\n",
      "         Predict: 6.63855421686747\n",
      "       Else (feature 1 > 1.2527617449945132)\n",
      "        If (feature 2 <= 1.8304695213441118)\n",
      "         Predict: 5.3963133640553\n",
      "        Else (feature 2 > 1.8304695213441118)\n",
      "         Predict: 5.6930488644184445\n",
      "      Else (feature 9 > 4.550102927878079)\n",
      "       If (feature 6 <= 3.3203011027108795)\n",
      "        If (feature 10 <= 9.746667308874603)\n",
      "         Predict: 5.977961432506887\n",
      "        Else (feature 10 > 9.746667308874603)\n",
      "         Predict: 6.73015873015873\n",
      "       Else (feature 6 > 3.3203011027108795)\n",
      "        If (feature 2 <= 1.968618164464422)\n",
      "         Predict: 4.666666666666667\n",
      "        Else (feature 2 > 1.968618164464422)\n",
      "         Predict: 5.428571428571429\n",
      "    Else (feature 1 > 3.335666814985391)\n",
      "     If (feature 6 <= 1.675502009558198)\n",
      "      If (feature 10 <= 9.531002293474794)\n",
      "       If (feature 6 <= 0.2543955930742814)\n",
      "        If (feature 4 <= 1.5125198522985481)\n",
      "         Predict: 5.8\n",
      "        Else (feature 4 > 1.5125198522985481)\n",
      "         Predict: 4.648648648648648\n",
      "       Else (feature 6 > 0.2543955930742814)\n",
      "        If (feature 3 <= 0.2958250517709342)\n",
      "         Predict: 4.111111111111111\n",
      "        Else (feature 3 > 0.2958250517709342)\n",
      "         Predict: 5.317784256559767\n",
      "      Else (feature 10 > 9.531002293474794)\n",
      "       If (feature 7 <= 327.05082743712273)\n",
      "        Predict: 8.0\n",
      "       Else (feature 7 > 327.05082743712273)\n",
      "        If (feature 5 <= 1.0257694635297436)\n",
      "         Predict: 5.8\n",
      "        Else (feature 5 > 1.0257694635297436)\n",
      "         Predict: 6.5\n",
      "     Else (feature 6 > 1.675502009558198)\n",
      "      If (feature 7 <= 327.4144027054978)\n",
      "       If (feature 0 <= 4.788500408466132)\n",
      "        Predict: 6.0\n",
      "       Else (feature 0 > 4.788500408466132)\n",
      "        Predict: 7.0\n",
      "      Else (feature 7 > 327.4144027054978)\n",
      "       If (feature 4 <= 1.7104196460572365)\n",
      "        If (feature 6 <= 1.921125340802332)\n",
      "         Predict: 4.0\n",
      "        Else (feature 6 > 1.921125340802332)\n",
      "         Predict: 4.8\n",
      "       Else (feature 4 > 1.7104196460572365)\n",
      "        If (feature 9 <= 3.2216057226582016)\n",
      "         Predict: 4.636363636363637\n",
      "        Else (feature 9 > 3.2216057226582016)\n",
      "         Predict: 5.096774193548387\n",
      "  Tree 7 (weight 1.0):\n",
      "    If (feature 10 <= 9.113586134636481)\n",
      "     If (feature 1 <= 1.43388392499372)\n",
      "      If (feature 5 <= 0.3604054871861262)\n",
      "       If (feature 0 <= 8.103616075865762)\n",
      "        If (feature 7 <= 328.1118061748356)\n",
      "         Predict: 4.5\n",
      "        Else (feature 7 > 328.1118061748356)\n",
      "         Predict: 3.0\n",
      "       Else (feature 0 > 8.103616075865762)\n",
      "        Predict: 6.0\n",
      "      Else (feature 5 > 0.3604054871861262)\n",
      "       If (feature 2 <= 3.14288163098706)\n",
      "        If (feature 9 <= 4.018704045790128)\n",
      "         Predict: 5.917329093799682\n",
      "        Else (feature 9 > 4.018704045790128)\n",
      "         Predict: 6.223140495867769\n",
      "       Else (feature 2 > 3.14288163098706)\n",
      "        If (feature 9 <= 2.3580825392652818)\n",
      "         Predict: 5.0\n",
      "        Else (feature 9 > 2.3580825392652818)\n",
      "         Predict: 5.729508196721311\n",
      "     Else (feature 1 > 1.43388392499372)\n",
      "      If (feature 2 <= 1.8304695213441118)\n",
      "       If (feature 9 <= 3.6201548842241653)\n",
      "        If (feature 2 <= 0.10361148234023275)\n",
      "         Predict: 4.621621621621622\n",
      "        Else (feature 2 > 0.10361148234023275)\n",
      "         Predict: 5.162271805273834\n",
      "       Else (feature 9 > 3.6201548842241653)\n",
      "        If (feature 5 <= 3.631778370875579)\n",
      "         Predict: 5.497674418604651\n",
      "        Else (feature 5 > 3.631778370875579)\n",
      "         Predict: 4.615384615384615\n",
      "      Else (feature 2 > 1.8304695213441118)\n",
      "       If (feature 1 <= 1.826315314992001)\n",
      "        If (feature 2 <= 2.1067668075847323)\n",
      "         Predict: 5.7846153846153845\n",
      "        Else (feature 2 > 2.1067668075847323)\n",
      "         Predict: 5.583720930232558\n",
      "       Else (feature 1 > 1.826315314992001)\n",
      "        If (feature 7 <= 329.9098511384361)\n",
      "         Predict: 5.305194805194805\n",
      "        Else (feature 7 > 329.9098511384361)\n",
      "         Predict: 5.532258064516129\n",
      "    Else (feature 10 > 9.113586134636481)\n",
      "     If (feature 10 <= 10.122341851829084)\n",
      "      If (feature 5 <= 0.7485344733865698)\n",
      "       If (feature 10 <= 9.746667308874603)\n",
      "        If (feature 7 <= 328.21922614049186)\n",
      "         Predict: 5.191489361702128\n",
      "        Else (feature 7 > 328.21922614049186)\n",
      "         Predict: 5.67816091954023\n",
      "       Else (feature 10 > 9.746667308874603)\n",
      "        If (feature 3 <= 0.3373443572826443)\n",
      "         Predict: 5.357142857142857\n",
      "        Else (feature 3 > 0.3373443572826443)\n",
      "         Predict: 6.28169014084507\n",
      "      Else (feature 5 > 0.7485344733865698)\n",
      "       If (feature 1 <= 3.048890029986647)\n",
      "        If (feature 0 <= 5.699672550967785)\n",
      "         Predict: 6.380255941499086\n",
      "        Else (feature 0 > 5.699672550967785)\n",
      "         Predict: 6.08252427184466\n",
      "       Else (feature 1 > 3.048890029986647)\n",
      "        If (feature 4 <= 1.5125198522985481)\n",
      "         Predict: 5.083333333333333\n",
      "        Else (feature 4 > 1.5125198522985481)\n",
      "         Predict: 5.925925925925926\n",
      "     Else (feature 10 > 10.122341851829084)\n",
      "      If (feature 6 <= 1.1667108234096353)\n",
      "       If (feature 11 <= 1.1495725628121944)\n",
      "        If (feature 2 <= 1.2088006273027154)\n",
      "         Predict: 5.8\n",
      "        Else (feature 2 > 1.2088006273027154)\n",
      "         Predict: 6.631578947368421\n",
      "       Else (feature 11 > 1.1495725628121944)\n",
      "        If (feature 8 <= 20.279525323428995)\n",
      "         Predict: 7.0\n",
      "        Else (feature 8 > 20.279525323428995)\n",
      "         Predict: 4.0\n",
      "      Else (feature 6 > 1.1667108234096353)\n",
      "       If (feature 3 <= 0.5553207112191221)\n",
      "        If (feature 8 <= 20.40413070176036)\n",
      "         Predict: 6.316239316239316\n",
      "        Else (feature 8 > 20.40413070176036)\n",
      "         Predict: 6.741935483870968\n",
      "       Else (feature 3 > 0.5553207112191221)\n",
      "        If (feature 2 <= 1.7613951997839568)\n",
      "         Predict: 6.411764705882353\n",
      "        Else (feature 2 > 1.7613951997839568)\n",
      "         Predict: 6.93719806763285\n",
      "  Tree 8 (weight 1.0):\n",
      "    If (feature 7 <= 328.009344053748)\n",
      "     If (feature 10 <= 9.951201226705376)\n",
      "      If (feature 5 <= 0.5821934793006653)\n",
      "       If (feature 10 <= 9.113586134636481)\n",
      "        If (feature 1 <= 1.6753801649926623)\n",
      "         Predict: 5.8\n",
      "        Else (feature 1 > 1.6753801649926623)\n",
      "         Predict: 5.066666666666666\n",
      "       Else (feature 10 > 9.113586134636481)\n",
      "        If (feature 6 <= 1.7632246278596746)\n",
      "         Predict: 4.866666666666666\n",
      "        Else (feature 6 > 1.7632246278596746)\n",
      "         Predict: 3.6\n",
      "      Else (feature 5 > 0.5821934793006653)\n",
      "       If (feature 4 <= 1.060177466564403)\n",
      "        If (feature 2 <= 1.6232465566636463)\n",
      "         Predict: 5.642857142857143\n",
      "        Else (feature 2 > 1.6232465566636463)\n",
      "         Predict: 6.40377358490566\n",
      "       Else (feature 4 > 1.060177466564403)\n",
      "        If (feature 9 <= 5.679325552314974)\n",
      "         Predict: 5.927536231884058\n",
      "        Else (feature 9 > 5.679325552314974)\n",
      "         Predict: 8.0\n",
      "     Else (feature 10 > 9.951201226705376)\n",
      "      If (feature 0 <= 5.699672550967785)\n",
      "       If (feature 1 <= 4.4223998949806305)\n",
      "        If (feature 8 <= 21.650184485073964)\n",
      "         Predict: 6.648192771084338\n",
      "        Else (feature 8 > 21.650184485073964)\n",
      "         Predict: 7.038461538461538\n",
      "       Else (feature 1 > 4.4223998949806305)\n",
      "        If (feature 0 <= 4.788500408466132)\n",
      "         Predict: 4.0\n",
      "        Else (feature 0 > 4.788500408466132)\n",
      "         Predict: 7.0\n",
      "      Else (feature 0 > 5.699672550967785)\n",
      "       If (feature 5 <= 1.4138984497301872)\n",
      "        If (feature 1 <= 3.048890029986647)\n",
      "         Predict: 5.821428571428571\n",
      "        Else (feature 1 > 3.048890029986647)\n",
      "         Predict: 8.0\n",
      "       Else (feature 5 > 1.4138984497301872)\n",
      "        If (feature 9 <= 3.088756002136214)\n",
      "         Predict: 6.136363636363637\n",
      "        Else (feature 9 > 3.088756002136214)\n",
      "         Predict: 6.666666666666667\n",
      "    Else (feature 7 > 328.009344053748)\n",
      "     If (feature 2 <= 1.6232465566636463)\n",
      "      If (feature 7 <= 329.10337508858584)\n",
      "       If (feature 9 <= 4.151553766312116)\n",
      "        If (feature 10 <= 8.362237048727518)\n",
      "         Predict: 5.104046242774566\n",
      "        Else (feature 10 > 8.362237048727518)\n",
      "         Predict: 5.624\n",
      "       Else (feature 9 > 4.151553766312116)\n",
      "        If (feature 0 <= 5.932312246925653)\n",
      "         Predict: 5.851851851851852\n",
      "        Else (feature 0 > 5.932312246925653)\n",
      "         Predict: 7.333333333333333\n",
      "      Else (feature 7 > 329.10337508858584)\n",
      "       If (feature 9 <= 3.686579744485159)\n",
      "        If (feature 5 <= 0.3604054871861262)\n",
      "         Predict: 4.484848484848484\n",
      "        Else (feature 5 > 0.3604054871861262)\n",
      "         Predict: 5.050279329608938\n",
      "       Else (feature 9 > 3.686579744485159)\n",
      "        If (feature 1 <= 3.909220384982879)\n",
      "         Predict: 5.565789473684211\n",
      "        Else (feature 1 > 3.909220384982879)\n",
      "         Predict: 5.2\n",
      "     Else (feature 2 > 1.6232465566636463)\n",
      "      If (feature 1 <= 1.1772941699948438)\n",
      "       If (feature 3 <= 2.5430574625922415)\n",
      "        If (feature 8 <= 19.282682296778106)\n",
      "         Predict: 5.6521739130434785\n",
      "        Else (feature 8 > 19.282682296778106)\n",
      "         Predict: 6.144736842105263\n",
      "       Else (feature 3 > 2.5430574625922415)\n",
      "        If (feature 8 <= 18.597352715955623)\n",
      "         Predict: 7.08\n",
      "        Else (feature 8 > 18.597352715955623)\n",
      "         Predict: 6.391304347826087\n",
      "      Else (feature 1 > 1.1772941699948438)\n",
      "       If (feature 10 <= 8.870093375314145)\n",
      "        If (feature 10 <= 8.22309832911476)\n",
      "         Predict: 5.43655303030303\n",
      "        Else (feature 10 > 8.22309832911476)\n",
      "         Predict: 5.649253731343284\n",
      "       Else (feature 10 > 8.870093375314145)\n",
      "        If (feature 5 <= 1.5941011933232503)\n",
      "         Predict: 6.041916167664671\n",
      "        Else (feature 5 > 1.5941011933232503)\n",
      "         Predict: 6.349557522123894\n",
      "  Tree 9 (weight 1.0):\n",
      "    If (feature 10 <= 8.870093375314145)\n",
      "     If (feature 1 <= 1.2527617449945132)\n",
      "      If (feature 4 <= 1.5690626505153165)\n",
      "       If (feature 0 <= 6.862871030757129)\n",
      "        If (feature 2 <= 4.248070775949542)\n",
      "         Predict: 6.101408450704225\n",
      "        Else (feature 2 > 4.248070775949542)\n",
      "         Predict: 5.473684210526316\n",
      "       Else (feature 0 > 6.862871030757129)\n",
      "        If (feature 5 <= 1.3584514517015525)\n",
      "         Predict: 5.375\n",
      "        Else (feature 5 > 1.3584514517015525)\n",
      "         Predict: 4.0\n",
      "      Else (feature 4 > 1.5690626505153165)\n",
      "       If (feature 7 <= 329.8139994767736)\n",
      "        If (feature 7 <= 328.33160395071684)\n",
      "         Predict: 6.363636363636363\n",
      "        Else (feature 7 > 328.33160395071684)\n",
      "         Predict: 5.723404255319149\n",
      "       Else (feature 7 > 329.8139994767736)\n",
      "        If (feature 5 <= 3.0218613925605964)\n",
      "         Predict: 7.447368421052632\n",
      "        Else (feature 5 > 3.0218613925605964)\n",
      "         Predict: 6.0\n",
      "     Else (feature 1 > 1.2527617449945132)\n",
      "      If (feature 1 <= 1.826315314992001)\n",
      "       If (feature 10 <= 8.362237048727518)\n",
      "        If (feature 10 <= 7.3882660114381355)\n",
      "         Predict: 5.3625\n",
      "        Else (feature 10 > 7.3882660114381355)\n",
      "         Predict: 5.538961038961039\n",
      "       Else (feature 10 > 8.362237048727518)\n",
      "        If (feature 3 <= 0.4826619265736295)\n",
      "         Predict: 6.009009009009009\n",
      "        Else (feature 3 > 0.4826619265736295)\n",
      "         Predict: 5.612121212121212\n",
      "      Else (feature 1 > 1.826315314992001)\n",
      "       If (feature 10 <= 8.22309832911476)\n",
      "        If (feature 4 <= 1.144991663889555)\n",
      "         Predict: 5.433333333333334\n",
      "        Else (feature 4 > 1.144991663889555)\n",
      "         Predict: 5.172209026128266\n",
      "       Else (feature 10 > 8.22309832911476)\n",
      "        If (feature 9 <= 3.2216057226582016)\n",
      "         Predict: 5.242105263157895\n",
      "        Else (feature 9 > 3.2216057226582016)\n",
      "         Predict: 5.6544850498338874\n",
      "    Else (feature 10 > 8.870093375314145)\n",
      "     If (feature 5 <= 0.8594284694438392)\n",
      "      If (feature 0 <= 6.862871030757129)\n",
      "       If (feature 1 <= 2.339494824989754)\n",
      "        If (feature 2 <= 3.14288163098706)\n",
      "         Predict: 6.045714285714285\n",
      "        Else (feature 2 > 3.14288163098706)\n",
      "         Predict: 5.2105263157894735\n",
      "       Else (feature 1 > 2.339494824989754)\n",
      "        If (feature 5 <= 0.47129948324339577)\n",
      "         Predict: 5.0\n",
      "        Else (feature 5 > 0.47129948324339577)\n",
      "         Predict: 5.678571428571429\n",
      "      Else (feature 0 > 6.862871030757129)\n",
      "       If (feature 2 <= 2.175841129144888)\n",
      "        Predict: 5.0\n",
      "       Else (feature 2 > 2.175841129144888)\n",
      "        If (feature 3 <= 0.5086114925184483)\n",
      "         Predict: 6.519230769230769\n",
      "        Else (feature 3 > 0.5086114925184483)\n",
      "         Predict: 6.212765957446808\n",
      "     Else (feature 5 > 0.8594284694438392)\n",
      "      If (feature 7 <= 327.78293581844173)\n",
      "       If (feature 10 <= 10.47714558684165)\n",
      "        If (feature 8 <= 20.40413070176036)\n",
      "         Predict: 6.266666666666667\n",
      "        Else (feature 8 > 20.40413070176036)\n",
      "         Predict: 6.64367816091954\n",
      "       Else (feature 10 > 10.47714558684165)\n",
      "        If (feature 8 <= 22.024000620068048)\n",
      "         Predict: 6.747191011235955\n",
      "        Else (feature 8 > 22.024000620068048)\n",
      "         Predict: 7.777777777777778\n",
      "      Else (feature 7 > 327.78293581844173)\n",
      "       If (feature 10 <= 9.746667308874603)\n",
      "        If (feature 4 <= 0.9753632692392508)\n",
      "         Predict: 6.220183486238532\n",
      "        Else (feature 4 > 0.9753632692392508)\n",
      "         Predict: 5.997506234413965\n",
      "       Else (feature 10 > 9.746667308874603)\n",
      "        If (feature 1 <= 2.8073937899877044)\n",
      "         Predict: 6.666666666666667\n",
      "        Else (feature 1 > 2.8073937899877044)\n",
      "         Predict: 6.081081081081081\n",
      "  Tree 10 (weight 1.0):\n",
      "    If (feature 7 <= 328.1118061748356)\n",
      "     If (feature 5 <= 0.47129948324339577)\n",
      "      If (feature 11 <= 1.1495725628121944)\n",
      "       Predict: 8.0\n",
      "      Else (feature 11 > 1.1495725628121944)\n",
      "       If (feature 10 <= 9.746667308874603)\n",
      "        If (feature 2 <= 2.452138415385508)\n",
      "         Predict: 4.285714285714286\n",
      "        Else (feature 2 > 2.452138415385508)\n",
      "         Predict: 5.0\n",
      "       Else (feature 10 > 9.746667308874603)\n",
      "        If (feature 8 <= 19.968011877600595)\n",
      "         Predict: 5.882352941176471\n",
      "        Else (feature 8 > 19.968011877600595)\n",
      "         Predict: 4.0\n",
      "     Else (feature 5 > 0.47129948324339577)\n",
      "      If (feature 4 <= 1.060177466564403)\n",
      "       If (feature 8 <= 20.466433390926035)\n",
      "        If (feature 3 <= 0.3581040100384993)\n",
      "         Predict: 6.062146892655368\n",
      "        Else (feature 3 > 0.3581040100384993)\n",
      "         Predict: 6.5094936708860756\n",
      "       Else (feature 8 > 20.466433390926035)\n",
      "        If (feature 3 <= 0.3581040100384993)\n",
      "         Predict: 6.471544715447155\n",
      "        Else (feature 3 > 0.3581040100384993)\n",
      "         Predict: 6.916666666666667\n",
      "      Else (feature 4 > 1.060177466564403)\n",
      "       If (feature 6 <= 2.7281734291759143)\n",
      "        If (feature 7 <= 327.05082743712273)\n",
      "         Predict: 6.958333333333333\n",
      "        Else (feature 7 > 327.05082743712273)\n",
      "         Predict: 6.205816554809844\n",
      "       Else (feature 6 > 2.7281734291759143)\n",
      "        If (feature 10 <= 8.640514487953075)\n",
      "         Predict: 5.176470588235294\n",
      "        Else (feature 10 > 8.640514487953075)\n",
      "         Predict: 5.953846153846154\n",
      "    Else (feature 7 > 328.1118061748356)\n",
      "     If (feature 10 <= 8.640514487953075)\n",
      "      If (feature 5 <= 1.5941011933232503)\n",
      "       If (feature 10 <= 8.111787353424543)\n",
      "        If (feature 6 <= 3.0615193787215245)\n",
      "         Predict: 5.209003215434084\n",
      "        Else (feature 6 > 3.0615193787215245)\n",
      "         Predict: 4.822222222222222\n",
      "       Else (feature 10 > 8.111787353424543)\n",
      "        If (feature 1 <= 3.909220384982879)\n",
      "         Predict: 5.537593984962406\n",
      "        Else (feature 1 > 3.909220384982879)\n",
      "         Predict: 5.018518518518518\n",
      "      Else (feature 5 > 1.5941011933232503)\n",
      "       If (feature 4 <= 1.7104196460572365)\n",
      "        If (feature 2 <= 1.8304695213441118)\n",
      "         Predict: 5.379746835443038\n",
      "        Else (feature 2 > 1.8304695213441118)\n",
      "         Predict: 5.772606382978723\n",
      "       Else (feature 4 > 1.7104196460572365)\n",
      "        If (feature 2 <= 3.626401881908146)\n",
      "         Predict: 5.186813186813187\n",
      "        Else (feature 2 > 3.626401881908146)\n",
      "         Predict: 5.62962962962963\n",
      "     Else (feature 10 > 8.640514487953075)\n",
      "      If (feature 5 <= 1.5941011933232503)\n",
      "       If (feature 9 <= 4.417253207356091)\n",
      "        If (feature 4 <= 0.8622776728057143)\n",
      "         Predict: 6.695652173913044\n",
      "        Else (feature 4 > 0.8622776728057143)\n",
      "         Predict: 5.619753086419753\n",
      "       Else (feature 9 > 4.417253207356091)\n",
      "        If (feature 4 <= 0.9188204710224825)\n",
      "         Predict: 4.0\n",
      "        Else (feature 4 > 0.9188204710224825)\n",
      "         Predict: 6.278301886792453\n",
      "      Else (feature 5 > 1.5941011933232503)\n",
      "       If (feature 10 <= 9.746667308874603)\n",
      "        If (feature 4 <= 3.321889395235129)\n",
      "         Predict: 6.046583850931677\n",
      "        Else (feature 4 > 3.321889395235129)\n",
      "         Predict: 8.0\n",
      "       Else (feature 10 > 9.746667308874603)\n",
      "        If (feature 7 <= 328.33160395071684)\n",
      "         Predict: 6.384615384615385\n",
      "        Else (feature 7 > 328.33160395071684)\n",
      "         Predict: 6.886363636363637\n",
      "  Tree 11 (weight 1.0):\n",
      "    If (feature 7 <= 328.1118061748356)\n",
      "     If (feature 10 <= 9.746667308874603)\n",
      "      If (feature 2 <= 1.6923208782238013)\n",
      "       If (feature 3 <= 0.3165847045267892)\n",
      "        If (feature 1 <= 2.0376245249910756)\n",
      "         Predict: 5.512820512820513\n",
      "        Else (feature 1 > 2.0376245249910756)\n",
      "         Predict: 4.8\n",
      "       Else (feature 3 > 0.3165847045267892)\n",
      "        If (feature 8 <= 19.282682296778106)\n",
      "         Predict: 5.166666666666667\n",
      "        Else (feature 8 > 19.282682296778106)\n",
      "         Predict: 5.9655172413793105\n",
      "      Else (feature 2 > 1.6923208782238013)\n",
      "       If (feature 2 <= 2.5212127369456634)\n",
      "        If (feature 2 <= 1.968618164464422)\n",
      "         Predict: 5.991596638655462\n",
      "        Else (feature 2 > 1.968618164464422)\n",
      "         Predict: 6.29616724738676\n",
      "       Else (feature 2 > 2.5212127369456634)\n",
      "        If (feature 9 <= 3.4873051637021772)\n",
      "         Predict: 5.602150537634409\n",
      "        Else (feature 9 > 3.4873051637021772)\n",
      "         Predict: 6.127272727272727\n",
      "     Else (feature 10 > 9.746667308874603)\n",
      "      If (feature 4 <= 1.2863486594314755)\n",
      "       If (feature 5 <= 0.5821934793006653)\n",
      "        If (feature 8 <= 19.968011877600595)\n",
      "         Predict: 6.0\n",
      "        Else (feature 8 > 19.968011877600595)\n",
      "         Predict: 4.181818181818182\n",
      "       Else (feature 5 > 0.5821934793006653)\n",
      "        If (feature 5 <= 1.192110457615648)\n",
      "         Predict: 6.3816793893129775\n",
      "        Else (feature 5 > 1.192110457615648)\n",
      "         Predict: 6.783847980997625\n",
      "      Else (feature 4 > 1.2863486594314755)\n",
      "       If (feature 6 <= 2.465005574271485)\n",
      "        If (feature 5 <= 0.47129948324339577)\n",
      "         Predict: 5.5\n",
      "        Else (feature 5 > 0.47129948324339577)\n",
      "         Predict: 6.053571428571429\n",
      "       Else (feature 6 > 2.465005574271485)\n",
      "        If (feature 4 <= 1.3146200585398597)\n",
      "         Predict: 7.5\n",
      "        Else (feature 4 > 1.3146200585398597)\n",
      "         Predict: 6.230769230769231\n",
      "    Else (feature 7 > 328.1118061748356)\n",
      "     If (feature 10 <= 8.362237048727518)\n",
      "      If (feature 2 <= 1.8304695213441118)\n",
      "       If (feature 3 <= 2.0915350151523944)\n",
      "        If (feature 10 <= 7.889165402044111)\n",
      "         Predict: 5.048109965635739\n",
      "        Else (feature 10 > 7.889165402044111)\n",
      "         Predict: 5.331378299120234\n",
      "       Else (feature 3 > 2.0915350151523944)\n",
      "        If (feature 4 <= 1.399434255865012)\n",
      "         Predict: 5.632911392405063\n",
      "        Else (feature 4 > 1.399434255865012)\n",
      "         Predict: 5.12987012987013\n",
      "      Else (feature 2 > 1.8304695213441118)\n",
      "       If (feature 1 <= 1.2527617449945132)\n",
      "        If (feature 10 <= 7.638715706741123)\n",
      "         Predict: 6.719101123595506\n",
      "        Else (feature 10 > 7.638715706741123)\n",
      "         Predict: 5.8125\n",
      "       Else (feature 1 > 1.2527617449945132)\n",
      "        If (feature 3 <= 2.5430574625922415)\n",
      "         Predict: 5.387096774193548\n",
      "        Else (feature 3 > 2.5430574625922415)\n",
      "         Predict: 5.569767441860465\n",
      "     Else (feature 10 > 8.362237048727518)\n",
      "      If (feature 9 <= 4.550102927878079)\n",
      "       If (feature 5 <= 0.9148754674724742)\n",
      "        If (feature 3 <= 0.6124097562977234)\n",
      "         Predict: 5.573705179282869\n",
      "        Else (feature 3 > 0.6124097562977234)\n",
      "         Predict: 5.24793388429752\n",
      "       Else (feature 5 > 0.9148754674724742)\n",
      "        If (feature 2 <= 2.5212127369456634)\n",
      "         Predict: 5.880952380952381\n",
      "        Else (feature 2 > 2.5212127369456634)\n",
      "         Predict: 6.1419753086419755\n",
      "      Else (feature 9 > 4.550102927878079)\n",
      "       If (feature 8 <= 18.784260783452666)\n",
      "        If (feature 10 <= 9.531002293474794)\n",
      "         Predict: 5.5\n",
      "        Else (feature 10 > 9.531002293474794)\n",
      "         Predict: 4.0\n",
      "       Else (feature 8 > 18.784260783452666)\n",
      "        If (feature 10 <= 9.447519061707132)\n",
      "         Predict: 6.083333333333333\n",
      "        Else (feature 10 > 9.447519061707132)\n",
      "         Predict: 6.675675675675675\n",
      "  Tree 12 (weight 1.0):\n",
      "    If (feature 10 <= 9.113586134636481)\n",
      "     If (feature 1 <= 1.2527617449945132)\n",
      "      If (feature 9 <= 2.3580825392652818)\n",
      "       If (feature 0 <= 6.397591638841391)\n",
      "        If (feature 10 <= 8.779653207565831)\n",
      "         Predict: 5.6923076923076925\n",
      "        Else (feature 10 > 8.779653207565831)\n",
      "         Predict: 5.2\n",
      "       Else (feature 0 > 6.397591638841391)\n",
      "        If (feature 0 <= 7.328150422672866)\n",
      "         Predict: 4.5\n",
      "        Else (feature 0 > 7.328150422672866)\n",
      "         Predict: 3.0\n",
      "      Else (feature 9 > 2.3580825392652818)\n",
      "       If (feature 5 <= 1.5941011933232503)\n",
      "        If (feature 7 <= 327.6788210824979)\n",
      "         Predict: 7.0\n",
      "        Else (feature 7 > 327.6788210824979)\n",
      "         Predict: 5.782608695652174\n",
      "       Else (feature 5 > 1.5941011933232503)\n",
      "        If (feature 3 <= 2.750653990150792)\n",
      "         Predict: 6.139917695473251\n",
      "        Else (feature 3 > 2.750653990150792)\n",
      "         Predict: 6.794117647058823\n",
      "     Else (feature 1 > 1.2527617449945132)\n",
      "      If (feature 1 <= 1.5244450149933235)\n",
      "       If (feature 9 <= 3.553730023963171)\n",
      "        If (feature 6 <= 1.1667108234096353)\n",
      "         Predict: 4.428571428571429\n",
      "        Else (feature 6 > 1.1667108234096353)\n",
      "         Predict: 5.6277915632754345\n",
      "       Else (feature 9 > 3.553730023963171)\n",
      "        If (feature 4 <= 0.9753632692392508)\n",
      "         Predict: 5.458333333333333\n",
      "        Else (feature 4 > 0.9753632692392508)\n",
      "         Predict: 5.976\n",
      "      Else (feature 1 > 1.5244450149933235)\n",
      "       If (feature 9 <= 3.819429465007146)\n",
      "        If (feature 1 <= 1.9621569499914062)\n",
      "         Predict: 5.448343079922028\n",
      "        Else (feature 1 > 1.9621569499914062)\n",
      "         Predict: 5.187779433681073\n",
      "       Else (feature 9 > 3.819429465007146)\n",
      "        If (feature 5 <= 1.0257694635297436)\n",
      "         Predict: 5.627777777777778\n",
      "        Else (feature 5 > 1.0257694635297436)\n",
      "         Predict: 5.431635388739946\n",
      "    Else (feature 10 > 9.113586134636481)\n",
      "     If (feature 2 <= 1.7613951997839568)\n",
      "      If (feature 1 <= 3.6073500849842004)\n",
      "       If (feature 7 <= 327.8804400949605)\n",
      "        If (feature 8 <= 20.902552215085798)\n",
      "         Predict: 6.211764705882353\n",
      "        Else (feature 8 > 20.902552215085798)\n",
      "         Predict: 6.925\n",
      "       Else (feature 7 > 327.8804400949605)\n",
      "        If (feature 6 <= 3.7633003251333355)\n",
      "         Predict: 5.828282828282828\n",
      "        Else (feature 6 > 3.7633003251333355)\n",
      "         Predict: 3.0\n",
      "      Else (feature 1 > 3.6073500849842004)\n",
      "       If (feature 2 <= 0.5180574117011638)\n",
      "        If (feature 10 <= 9.531002293474794)\n",
      "         Predict: 4.764705882352941\n",
      "        Else (feature 10 > 9.531002293474794)\n",
      "         Predict: 6.2\n",
      "       Else (feature 2 > 0.5180574117011638)\n",
      "        If (feature 9 <= 3.4873051637021772)\n",
      "         Predict: 4.538461538461538\n",
      "        Else (feature 9 > 3.4873051637021772)\n",
      "         Predict: 5.25\n",
      "     Else (feature 2 > 1.7613951997839568)\n",
      "      If (feature 4 <= 1.1167202647811711)\n",
      "       If (feature 10 <= 10.122341851829084)\n",
      "        If (feature 8 <= 20.217222634263315)\n",
      "         Predict: 6.211538461538462\n",
      "        Else (feature 8 > 20.217222634263315)\n",
      "         Predict: 6.6223776223776225\n",
      "       Else (feature 10 > 10.122341851829084)\n",
      "        If (feature 6 <= 1.675502009558198)\n",
      "         Predict: 6.378947368421053\n",
      "        Else (feature 6 > 1.675502009558198)\n",
      "         Predict: 6.895734597156398\n",
      "      Else (feature 4 > 1.1167202647811711)\n",
      "       If (feature 5 <= 3.2852346331966116)\n",
      "        If (feature 2 <= 2.728435701626129)\n",
      "         Predict: 6.30976430976431\n",
      "        Else (feature 2 > 2.728435701626129)\n",
      "         Predict: 6.063926940639269\n",
      "       Else (feature 5 > 3.2852346331966116)\n",
      "        If (feature 6 <= 2.9387077130994577)\n",
      "         Predict: 6.4\n",
      "        Else (feature 6 > 2.9387077130994577)\n",
      "         Predict: 7.25\n",
      "  Tree 13 (weight 1.0):\n",
      "    If (feature 10 <= 9.113586134636481)\n",
      "     If (feature 5 <= 1.3584514517015525)\n",
      "      If (feature 0 <= 8.103616075865762)\n",
      "       If (feature 4 <= 1.1732630629979393)\n",
      "        If (feature 11 <= 1.1495725628121944)\n",
      "         Predict: 7.0\n",
      "        Else (feature 11 > 1.1495725628121944)\n",
      "         Predict: 5.636871508379889\n",
      "       Else (feature 4 > 1.1732630629979393)\n",
      "        If (feature 1 <= 1.313135804994249)\n",
      "         Predict: 5.715686274509804\n",
      "        Else (feature 1 > 1.313135804994249)\n",
      "         Predict: 5.243636363636363\n",
      "      Else (feature 0 > 8.103616075865762)\n",
      "       If (feature 3 <= 0.8978549816907301)\n",
      "        If (feature 1 <= 2.097998584990811)\n",
      "         Predict: 6.25\n",
      "        Else (feature 1 > 2.097998584990811)\n",
      "         Predict: 5.625\n",
      "       Else (feature 3 > 0.8978549816907301)\n",
      "        If (feature 6 <= 0.7807313028831395)\n",
      "         Predict: 5.0\n",
      "        Else (feature 6 > 0.7807313028831395)\n",
      "         Predict: 3.0\n",
      "     Else (feature 5 > 1.3584514517015525)\n",
      "      If (feature 1 <= 1.43388392499372)\n",
      "       If (feature 5 <= 3.0218613925605964)\n",
      "        If (feature 10 <= 7.638715706741123)\n",
      "         Predict: 6.351145038167939\n",
      "        Else (feature 10 > 7.638715706741123)\n",
      "         Predict: 6.035046728971962\n",
      "       Else (feature 5 > 3.0218613925605964)\n",
      "        If (feature 8 <= 19.843406499269236)\n",
      "         Predict: 5.888888888888889\n",
      "        Else (feature 8 > 19.843406499269236)\n",
      "         Predict: 5.537037037037037\n",
      "      Else (feature 1 > 1.43388392499372)\n",
      "       If (feature 7 <= 328.21922614049186)\n",
      "        If (feature 10 <= 8.640514487953075)\n",
      "         Predict: 5.466666666666667\n",
      "        Else (feature 10 > 8.640514487953075)\n",
      "         Predict: 5.985915492957746\n",
      "       Else (feature 7 > 328.21922614049186)\n",
      "        If (feature 1 <= 1.7659412549922657)\n",
      "         Predict: 5.583838383838384\n",
      "        Else (feature 1 > 1.7659412549922657)\n",
      "         Predict: 5.27892234548336\n",
      "    Else (feature 10 > 9.113586134636481)\n",
      "     If (feature 1 <= 3.335666814985391)\n",
      "      If (feature 2 <= 1.7613951997839568)\n",
      "       If (feature 6 <= 3.3203011027108795)\n",
      "        If (feature 4 <= 2.728190013959064)\n",
      "         Predict: 6.048648648648649\n",
      "        Else (feature 4 > 2.728190013959064)\n",
      "         Predict: 4.0\n",
      "       Else (feature 6 > 3.3203011027108795)\n",
      "        Predict: 3.0\n",
      "      Else (feature 2 > 1.7613951997839568)\n",
      "       If (feature 5 <= 1.192110457615648)\n",
      "        If (feature 9 <= 4.417253207356091)\n",
      "         Predict: 6.010752688172043\n",
      "        Else (feature 9 > 4.417253207356091)\n",
      "         Predict: 6.526315789473684\n",
      "       Else (feature 5 > 1.192110457615648)\n",
      "        If (feature 0 <= 5.467032855009915)\n",
      "         Predict: 6.595194085027726\n",
      "        Else (feature 0 > 5.467032855009915)\n",
      "         Predict: 6.317241379310345\n",
      "     Else (feature 1 > 3.335666814985391)\n",
      "      If (feature 5 <= 1.5247924457874569)\n",
      "       If (feature 7 <= 328.33160395071684)\n",
      "        If (feature 10 <= 9.204026302384797)\n",
      "         Predict: 4.0\n",
      "        Else (feature 10 > 9.204026302384797)\n",
      "         Predict: 6.363636363636363\n",
      "       Else (feature 7 > 328.33160395071684)\n",
      "        If (feature 9 <= 4.018704045790128)\n",
      "         Predict: 5.0227272727272725\n",
      "        Else (feature 9 > 4.018704045790128)\n",
      "         Predict: 5.852941176470588\n",
      "      Else (feature 5 > 1.5247924457874569)\n",
      "       If (feature 4 <= 0.8622776728057143)\n",
      "        Predict: 8.0\n",
      "       Else (feature 4 > 0.8622776728057143)\n",
      "        If (feature 3 <= 0.4619022738177745)\n",
      "         Predict: 5.833333333333333\n",
      "        Else (feature 3 > 0.4619022738177745)\n",
      "         Predict: 6.444444444444445\n",
      "  Tree 14 (weight 1.0):\n",
      "    If (feature 2 <= 1.6232465566636463)\n",
      "     If (feature 7 <= 327.54661189399786)\n",
      "      If (feature 3 <= 0.37886366279435435)\n",
      "       If (feature 2 <= 0.5180574117011638)\n",
      "        If (feature 5 <= 0.5821934793006653)\n",
      "         Predict: 5.0\n",
      "        Else (feature 5 > 0.5821934793006653)\n",
      "         Predict: 7.5\n",
      "       Else (feature 2 > 0.5180574117011638)\n",
      "        If (feature 6 <= 1.991303435443513)\n",
      "         Predict: 5.888888888888889\n",
      "        Else (feature 6 > 1.991303435443513)\n",
      "         Predict: 5.0\n",
      "      Else (feature 3 > 0.37886366279435435)\n",
      "       If (feature 0 <= 5.156846593732757)\n",
      "        If (feature 8 <= 21.400973728411245)\n",
      "         Predict: 7.2\n",
      "        Else (feature 8 > 21.400973728411245)\n",
      "         Predict: 6.285714285714286\n",
      "       Else (feature 0 > 5.156846593732757)\n",
      "        If (feature 7 <= 327.4144027054978)\n",
      "         Predict: 6.0\n",
      "        Else (feature 7 > 327.4144027054978)\n",
      "         Predict: 7.0\n",
      "     Else (feature 7 > 327.54661189399786)\n",
      "      If (feature 9 <= 3.819429465007146)\n",
      "       If (feature 5 <= 1.192110457615648)\n",
      "        If (feature 9 <= 3.354455443180189)\n",
      "         Predict: 4.921875\n",
      "        Else (feature 9 > 3.354455443180189)\n",
      "         Predict: 5.222222222222222\n",
      "       Else (feature 5 > 1.192110457615648)\n",
      "        If (feature 7 <= 328.33160395071684)\n",
      "         Predict: 5.6875\n",
      "        Else (feature 7 > 328.33160395071684)\n",
      "         Predict: 5.336170212765958\n",
      "      Else (feature 9 > 3.819429465007146)\n",
      "       If (feature 10 <= 8.362237048727518)\n",
      "        If (feature 8 <= 20.154919945097635)\n",
      "         Predict: 5.125\n",
      "        Else (feature 8 > 20.154919945097635)\n",
      "         Predict: 5.464\n",
      "       Else (feature 10 > 8.362237048727518)\n",
      "        If (feature 10 <= 10.47714558684165)\n",
      "         Predict: 5.786206896551724\n",
      "        Else (feature 10 > 10.47714558684165)\n",
      "         Predict: 6.571428571428571\n",
      "    Else (feature 2 > 1.6232465566636463)\n",
      "     If (feature 7 <= 328.43241345694815)\n",
      "      If (feature 10 <= 8.870093375314145)\n",
      "       If (feature 4 <= 1.1732630629979393)\n",
      "        If (feature 6 <= 1.1667108234096353)\n",
      "         Predict: 4.666666666666667\n",
      "        Else (feature 6 > 1.1667108234096353)\n",
      "         Predict: 6.015503875968992\n",
      "       Else (feature 4 > 1.1732630629979393)\n",
      "        If (feature 8 <= 19.282682296778106)\n",
      "         Predict: 5.183333333333334\n",
      "        Else (feature 8 > 19.282682296778106)\n",
      "         Predict: 5.675925925925926\n",
      "      Else (feature 10 > 8.870093375314145)\n",
      "       If (feature 0 <= 5.699672550967785)\n",
      "        If (feature 5 <= 0.9148754674724742)\n",
      "         Predict: 6.0638297872340425\n",
      "        Else (feature 5 > 0.9148754674724742)\n",
      "         Predict: 6.5379901960784315\n",
      "       Else (feature 0 > 5.699672550967785)\n",
      "        If (feature 3 <= 0.8978549816907301)\n",
      "         Predict: 5.863414634146341\n",
      "        Else (feature 3 > 0.8978549816907301)\n",
      "         Predict: 6.540983606557377\n",
      "     Else (feature 7 > 328.43241345694815)\n",
      "      If (feature 1 <= 1.2527617449945132)\n",
      "       If (feature 7 <= 329.8139994767736)\n",
      "        If (feature 8 <= 19.34498498594379)\n",
      "         Predict: 5.384615384615385\n",
      "        Else (feature 8 > 19.34498498594379)\n",
      "         Predict: 6.073891625615763\n",
      "       Else (feature 7 > 329.8139994767736)\n",
      "        If (feature 2 <= 2.175841129144888)\n",
      "         Predict: 7.108695652173913\n",
      "        Else (feature 2 > 2.175841129144888)\n",
      "         Predict: 5.951219512195122\n",
      "      Else (feature 1 > 1.2527617449945132)\n",
      "       If (feature 10 <= 8.640514487953075)\n",
      "        If (feature 3 <= 2.5430574625922415)\n",
      "         Predict: 5.353794642857143\n",
      "        Else (feature 3 > 2.5430574625922415)\n",
      "         Predict: 5.658536585365853\n",
      "       Else (feature 10 > 8.640514487953075)\n",
      "        If (feature 10 <= 9.531002293474794)\n",
      "         Predict: 5.840193704600484\n",
      "        Else (feature 10 > 9.531002293474794)\n",
      "         Predict: 6.44\n",
      "  Tree 15 (weight 1.0):\n",
      "    If (feature 10 <= 8.99531822296564)\n",
      "     If (feature 10 <= 8.22309832911476)\n",
      "      If (feature 2 <= 1.8304695213441118)\n",
      "       If (feature 4 <= 1.399434255865012)\n",
      "        If (feature 3 <= 0.6124097562977234)\n",
      "         Predict: 5.064516129032258\n",
      "        Else (feature 3 > 0.6124097562977234)\n",
      "         Predict: 5.5\n",
      "       Else (feature 4 > 1.399434255865012)\n",
      "        If (feature 9 <= 3.553730023963171)\n",
      "         Predict: 4.98015873015873\n",
      "        Else (feature 9 > 3.553730023963171)\n",
      "         Predict: 5.32258064516129\n",
      "      Else (feature 2 > 1.8304695213441118)\n",
      "       If (feature 7 <= 329.8139994767736)\n",
      "        If (feature 8 <= 20.65334145842308)\n",
      "         Predict: 5.452145214521452\n",
      "        Else (feature 8 > 20.65334145842308)\n",
      "         Predict: 5.794117647058823\n",
      "       Else (feature 7 > 329.8139994767736)\n",
      "        If (feature 6 <= 2.3597384323097135)\n",
      "         Predict: 5.347107438016529\n",
      "        Else (feature 6 > 2.3597384323097135)\n",
      "         Predict: 5.9\n",
      "     Else (feature 10 > 8.22309832911476)\n",
      "      If (feature 4 <= 1.2863486594314755)\n",
      "       If (feature 2 <= 1.6232465566636463)\n",
      "        If (feature 3 <= 1.2974782972409393)\n",
      "         Predict: 5.090909090909091\n",
      "        Else (feature 3 > 1.2974782972409393)\n",
      "         Predict: 5.666666666666667\n",
      "       Else (feature 2 > 1.6232465566636463)\n",
      "        If (feature 2 <= 2.037692486024577)\n",
      "         Predict: 6.04\n",
      "        Else (feature 2 > 2.037692486024577)\n",
      "         Predict: 5.812260536398467\n",
      "      Else (feature 4 > 1.2863486594314755)\n",
      "       If (feature 9 <= 4.8158023689220535)\n",
      "        If (feature 5 <= 0.5821934793006653)\n",
      "         Predict: 5.202702702702703\n",
      "        Else (feature 5 > 0.5821934793006653)\n",
      "         Predict: 5.620985010706638\n",
      "       Else (feature 9 > 4.8158023689220535)\n",
      "        If (feature 3 <= 0.3581040100384993)\n",
      "         Predict: 6.583333333333333\n",
      "        Else (feature 3 > 0.3581040100384993)\n",
      "         Predict: 5.966101694915254\n",
      "    Else (feature 10 > 8.99531822296564)\n",
      "     If (feature 2 <= 1.6232465566636463)\n",
      "      If (feature 10 <= 9.746667308874603)\n",
      "       If (feature 6 <= 3.5176769938892014)\n",
      "        If (feature 5 <= 0.6515022268364588)\n",
      "         Predict: 4.981481481481482\n",
      "        Else (feature 5 > 0.6515022268364588)\n",
      "         Predict: 5.785714285714286\n",
      "       Else (feature 6 > 3.5176769938892014)\n",
      "        Predict: 3.0\n",
      "      Else (feature 10 > 9.746667308874603)\n",
      "       If (feature 5 <= 0.47129948324339577)\n",
      "        If (feature 9 <= 3.8858543252681397)\n",
      "         Predict: 4.916666666666667\n",
      "        Else (feature 9 > 3.8858543252681397)\n",
      "         Predict: 6.5\n",
      "       Else (feature 5 > 0.47129948324339577)\n",
      "        If (feature 9 <= 4.417253207356091)\n",
      "         Predict: 6.133333333333334\n",
      "        Else (feature 9 > 4.417253207356091)\n",
      "         Predict: 7.176470588235294\n",
      "     Else (feature 2 > 1.6232465566636463)\n",
      "      If (feature 0 <= 5.467032855009915)\n",
      "       If (feature 7 <= 327.6788210824979)\n",
      "        If (feature 1 <= 1.70556719499253)\n",
      "         Predict: 6.50625\n",
      "        Else (feature 1 > 1.70556719499253)\n",
      "         Predict: 6.771739130434782\n",
      "       Else (feature 7 > 327.6788210824979)\n",
      "        If (feature 5 <= 1.5941011933232503)\n",
      "         Predict: 6.055944055944056\n",
      "        Else (feature 5 > 1.5941011933232503)\n",
      "         Predict: 6.433497536945813\n",
      "      Else (feature 0 > 5.467032855009915)\n",
      "       If (feature 10 <= 9.746667308874603)\n",
      "        If (feature 11 <= 1.1495725628121944)\n",
      "         Predict: 6.176923076923077\n",
      "        Else (feature 11 > 1.1495725628121944)\n",
      "         Predict: 5.900900900900901\n",
      "       Else (feature 10 > 9.746667308874603)\n",
      "        If (feature 4 <= 1.0319060674560188)\n",
      "         Predict: 6.550387596899225\n",
      "        Else (feature 4 > 1.0319060674560188)\n",
      "         Predict: 6.276190476190476\n",
      "  Tree 16 (weight 1.0):\n",
      "    If (feature 10 <= 9.113586134636481)\n",
      "     If (feature 4 <= 1.851776641599157)\n",
      "      If (feature 5 <= 0.8594284694438392)\n",
      "       If (feature 9 <= 4.417253207356091)\n",
      "        If (feature 1 <= 1.3735098649939843)\n",
      "         Predict: 5.7727272727272725\n",
      "        Else (feature 1 > 1.3735098649939843)\n",
      "         Predict: 5.074257425742574\n",
      "       Else (feature 9 > 4.417253207356091)\n",
      "        If (feature 6 <= 1.3246115363522928)\n",
      "         Predict: 6.695652173913044\n",
      "        Else (feature 6 > 1.3246115363522928)\n",
      "         Predict: 5.0\n",
      "      Else (feature 5 > 0.8594284694438392)\n",
      "       If (feature 1 <= 1.4640709549935877)\n",
      "        If (feature 4 <= 1.5690626505153165)\n",
      "         Predict: 5.868852459016393\n",
      "        Else (feature 4 > 1.5690626505153165)\n",
      "         Predict: 6.333333333333333\n",
      "       Else (feature 1 > 1.4640709549935877)\n",
      "        If (feature 10 <= 8.111787353424543)\n",
      "         Predict: 5.3056\n",
      "        Else (feature 10 > 8.111787353424543)\n",
      "         Predict: 5.661469933184855\n",
      "     Else (feature 4 > 1.851776641599157)\n",
      "      If (feature 6 <= 3.1843310443435913)\n",
      "       If (feature 5 <= 2.8971056469961676)\n",
      "        If (feature 2 <= 2.1067668075847323)\n",
      "         Predict: 5.281362007168458\n",
      "        Else (feature 2 > 2.1067668075847323)\n",
      "         Predict: 5.5359477124183005\n",
      "       Else (feature 5 > 2.8971056469961676)\n",
      "        If (feature 8 <= 19.34498498594379)\n",
      "         Predict: 5.7\n",
      "        Else (feature 8 > 19.34498498594379)\n",
      "         Predict: 6.333333333333333\n",
      "      Else (feature 6 > 3.1843310443435913)\n",
      "       If (feature 9 <= 2.5573571200482634)\n",
      "        Predict: 3.0\n",
      "       Else (feature 9 > 2.5573571200482634)\n",
      "        If (feature 0 <= 5.525192778999383)\n",
      "         Predict: 5.045454545454546\n",
      "        Else (feature 0 > 5.525192778999383)\n",
      "         Predict: 4.0\n",
      "    Else (feature 10 > 9.113586134636481)\n",
      "     If (feature 2 <= 1.6232465566636463)\n",
      "      If (feature 10 <= 9.951201226705376)\n",
      "       If (feature 10 <= 9.308380342094374)\n",
      "        If (feature 3 <= 0.37886366279435435)\n",
      "         Predict: 6.142857142857143\n",
      "        Else (feature 3 > 0.37886366279435435)\n",
      "         Predict: 4.483870967741935\n",
      "       Else (feature 10 > 9.308380342094374)\n",
      "        If (feature 9 <= 5.679325552314974)\n",
      "         Predict: 5.706521739130435\n",
      "        Else (feature 9 > 5.679325552314974)\n",
      "         Predict: 4.666666666666667\n",
      "      Else (feature 10 > 9.951201226705376)\n",
      "       If (feature 9 <= 2.2252328187432937)\n",
      "        Predict: 8.0\n",
      "       Else (feature 9 > 2.2252328187432937)\n",
      "        If (feature 2 <= 0.8634290195019395)\n",
      "         Predict: 5.955555555555556\n",
      "        Else (feature 2 > 0.8634290195019395)\n",
      "         Predict: 6.566037735849057\n",
      "     Else (feature 2 > 1.6232465566636463)\n",
      "      If (feature 2 <= 2.728435701626129)\n",
      "       If (feature 0 <= 5.311939724371337)\n",
      "        If (feature 3 <= 0.25430574625922414)\n",
      "         Predict: 6.1866666666666665\n",
      "        Else (feature 3 > 0.25430574625922414)\n",
      "         Predict: 6.584867075664621\n",
      "       Else (feature 0 > 5.311939724371337)\n",
      "        If (feature 1 <= 2.339494824989754)\n",
      "         Predict: 6.231738035264484\n",
      "        Else (feature 1 > 2.339494824989754)\n",
      "         Predict: 6.522222222222222\n",
      "      Else (feature 2 > 2.728435701626129)\n",
      "       If (feature 7 <= 327.78293581844173)\n",
      "        If (feature 4 <= 0.7209206772637939)\n",
      "         Predict: 4.571428571428571\n",
      "        Else (feature 4 > 0.7209206772637939)\n",
      "         Predict: 5.975609756097561\n",
      "       Else (feature 7 > 327.78293581844173)\n",
      "        If (feature 8 <= 21.2140656609142)\n",
      "         Predict: 6.265700483091788\n",
      "        Else (feature 8 > 21.2140656609142)\n",
      "         Predict: 6.9\n",
      "  Tree 17 (weight 1.0):\n",
      "    If (feature 7 <= 328.009344053748)\n",
      "     If (feature 10 <= 9.746667308874603)\n",
      "      If (feature 3 <= 0.22316626712544163)\n",
      "       If (feature 9 <= 2.6902068405702506)\n",
      "        If (feature 1 <= 1.70556719499253)\n",
      "         Predict: 5.7\n",
      "        Else (feature 1 > 1.70556719499253)\n",
      "         Predict: 4.555555555555555\n",
      "       Else (feature 9 > 2.6902068405702506)\n",
      "        If (feature 1 <= 1.5244450149933235)\n",
      "         Predict: 6.25\n",
      "        Else (feature 1 > 1.5244450149933235)\n",
      "         Predict: 5.285714285714286\n",
      "      Else (feature 3 > 0.22316626712544163)\n",
      "       If (feature 6 <= 2.7281734291759143)\n",
      "        If (feature 8 <= 20.217222634263315)\n",
      "         Predict: 6.011904761904762\n",
      "        Else (feature 8 > 20.217222634263315)\n",
      "         Predict: 6.369230769230769\n",
      "       Else (feature 6 > 2.7281734291759143)\n",
      "        If (feature 4 <= 1.0036346683476347)\n",
      "         Predict: 6.111111111111111\n",
      "        Else (feature 4 > 1.0036346683476347)\n",
      "         Predict: 5.549019607843137\n",
      "     Else (feature 10 > 9.746667308874603)\n",
      "      If (feature 8 <= 20.902552215085798)\n",
      "       If (feature 0 <= 5.699672550967785)\n",
      "        If (feature 2 <= 1.2088006273027154)\n",
      "         Predict: 5.666666666666667\n",
      "        Else (feature 2 > 1.2088006273027154)\n",
      "         Predict: 6.565410199556541\n",
      "       Else (feature 0 > 5.699672550967785)\n",
      "        If (feature 0 <= 5.777219116287075)\n",
      "         Predict: 4.857142857142857\n",
      "        Else (feature 0 > 5.777219116287075)\n",
      "         Predict: 6.267326732673268\n",
      "      Else (feature 8 > 20.902552215085798)\n",
      "       If (feature 3 <= 0.2750653990150792)\n",
      "        If (feature 3 <= 0.22316626712544163)\n",
      "         Predict: 5.0\n",
      "        Else (feature 3 > 0.22316626712544163)\n",
      "         Predict: 6.2\n",
      "       Else (feature 3 > 0.2750653990150792)\n",
      "        If (feature 6 <= 1.921125340802332)\n",
      "         Predict: 6.771428571428571\n",
      "        Else (feature 6 > 1.921125340802332)\n",
      "         Predict: 7.275\n",
      "    Else (feature 7 > 328.009344053748)\n",
      "     If (feature 7 <= 329.02404957548583)\n",
      "      If (feature 10 <= 8.362237048727518)\n",
      "       If (feature 1 <= 1.70556719499253)\n",
      "        If (feature 0 <= 6.552684769479971)\n",
      "         Predict: 5.67843137254902\n",
      "        Else (feature 0 > 6.552684769479971)\n",
      "         Predict: 4.615384615384615\n",
      "       Else (feature 1 > 1.70556719499253)\n",
      "        If (feature 5 <= 0.6515022268364588)\n",
      "         Predict: 4.695652173913044\n",
      "        Else (feature 5 > 0.6515022268364588)\n",
      "         Predict: 5.237288135593221\n",
      "      Else (feature 10 > 8.362237048727518)\n",
      "       If (feature 2 <= 1.6232465566636463)\n",
      "        If (feature 7 <= 328.6637795368232)\n",
      "         Predict: 5.564102564102564\n",
      "        Else (feature 7 > 328.6637795368232)\n",
      "         Predict: 5.826086956521739\n",
      "       Else (feature 2 > 1.6232465566636463)\n",
      "        If (feature 8 <= 18.28583927012722)\n",
      "         Predict: 5.130434782608695\n",
      "        Else (feature 8 > 18.28583927012722)\n",
      "         Predict: 6.11\n",
      "     Else (feature 7 > 329.02404957548583)\n",
      "      If (feature 1 <= 1.2527617449945132)\n",
      "       If (feature 8 <= 20.466433390926035)\n",
      "        If (feature 2 <= 2.1067668075847323)\n",
      "         Predict: 6.636363636363637\n",
      "        Else (feature 2 > 2.1067668075847323)\n",
      "         Predict: 6.0813953488372094\n",
      "       Else (feature 8 > 20.466433390926035)\n",
      "        If (feature 4 <= 1.060177466564403)\n",
      "         Predict: 4.4\n",
      "        Else (feature 4 > 1.060177466564403)\n",
      "         Predict: 5.901639344262295\n",
      "      Else (feature 1 > 1.2527617449945132)\n",
      "       If (feature 10 <= 8.494418832359663)\n",
      "        If (feature 1 <= 1.615006104992927)\n",
      "         Predict: 5.5647840531561465\n",
      "        Else (feature 1 > 1.615006104992927)\n",
      "         Predict: 5.25494071146245\n",
      "       Else (feature 10 > 8.494418832359663)\n",
      "        If (feature 2 <= 2.797510023186284)\n",
      "         Predict: 5.646496815286624\n",
      "        Else (feature 2 > 2.797510023186284)\n",
      "         Predict: 6.15819209039548\n",
      "  Tree 18 (weight 1.0):\n",
      "    If (feature 10 <= 9.308380342094374)\n",
      "     If (feature 1 <= 1.8866893749917368)\n",
      "      If (feature 10 <= 8.494418832359663)\n",
      "       If (feature 2 <= 1.8304695213441118)\n",
      "        If (feature 0 <= 4.303834375220571)\n",
      "         Predict: 3.3333333333333335\n",
      "        Else (feature 0 > 4.303834375220571)\n",
      "         Predict: 5.383966244725738\n",
      "       Else (feature 2 > 1.8304695213441118)\n",
      "        If (feature 2 <= 2.383064093825353)\n",
      "         Predict: 5.916897506925208\n",
      "        Else (feature 2 > 2.383064093825353)\n",
      "         Predict: 5.61936936936937\n",
      "      Else (feature 10 > 8.494418832359663)\n",
      "       If (feature 5 <= 1.3584514517015525)\n",
      "        If (feature 7 <= 329.45042420839843)\n",
      "         Predict: 5.7272727272727275\n",
      "        Else (feature 7 > 329.45042420839843)\n",
      "         Predict: 6.4\n",
      "       Else (feature 5 > 1.3584514517015525)\n",
      "        If (feature 8 <= 20.279525323428995)\n",
      "         Predict: 5.984939759036145\n",
      "        Else (feature 8 > 20.279525323428995)\n",
      "         Predict: 6.363636363636363\n",
      "     Else (feature 1 > 1.8866893749917368)\n",
      "      If (feature 9 <= 3.819429465007146)\n",
      "       If (feature 5 <= 1.192110457615648)\n",
      "        If (feature 5 <= 0.47129948324339577)\n",
      "         Predict: 4.779816513761468\n",
      "        Else (feature 5 > 0.47129948324339577)\n",
      "         Predict: 5.0625\n",
      "       Else (feature 5 > 1.192110457615648)\n",
      "        If (feature 10 <= 7.944820889889217)\n",
      "         Predict: 5.138211382113822\n",
      "        Else (feature 10 > 7.944820889889217)\n",
      "         Predict: 5.432584269662922\n",
      "      Else (feature 9 > 3.819429465007146)\n",
      "       If (feature 6 <= 0.9561765394860922)\n",
      "        If (feature 1 <= 3.6073500849842004)\n",
      "         Predict: 5.81858407079646\n",
      "        Else (feature 1 > 3.6073500849842004)\n",
      "         Predict: 5.541666666666667\n",
      "       Else (feature 6 > 0.9561765394860922)\n",
      "        If (feature 7 <= 328.6637795368232)\n",
      "         Predict: 5.8\n",
      "        Else (feature 7 > 328.6637795368232)\n",
      "         Predict: 5.268398268398268\n",
      "    Else (feature 10 > 9.308380342094374)\n",
      "     If (feature 5 <= 0.5821934793006653)\n",
      "      If (feature 11 <= 1.1495725628121944)\n",
      "       If (feature 8 <= 21.400973728411245)\n",
      "        If (feature 1 <= 4.4223998949806305)\n",
      "         Predict: 6.386363636363637\n",
      "        Else (feature 1 > 4.4223998949806305)\n",
      "         Predict: 5.0\n",
      "       Else (feature 8 > 21.400973728411245)\n",
      "        If (feature 4 <= 2.5020188210919905)\n",
      "         Predict: 5.705882352941177\n",
      "        Else (feature 4 > 2.5020188210919905)\n",
      "         Predict: 4.0\n",
      "      Else (feature 11 > 1.1495725628121944)\n",
      "       If (feature 6 <= 0.3772072586963483)\n",
      "        If (feature 6 <= 0.2543955930742814)\n",
      "         Predict: 5.0\n",
      "        Else (feature 6 > 0.2543955930742814)\n",
      "         Predict: 3.0\n",
      "       Else (feature 6 > 0.3772072586963483)\n",
      "        If (feature 9 <= 2.2252328187432937)\n",
      "         Predict: 4.142857142857143\n",
      "        Else (feature 9 > 2.2252328187432937)\n",
      "         Predict: 5.381818181818182\n",
      "     Else (feature 5 > 0.5821934793006653)\n",
      "      If (feature 7 <= 327.6788210824979)\n",
      "       If (feature 8 <= 20.902552215085798)\n",
      "        If (feature 3 <= 0.5553207112191221)\n",
      "         Predict: 6.35752688172043\n",
      "        Else (feature 3 > 0.5553207112191221)\n",
      "         Predict: 6.857843137254902\n",
      "       Else (feature 8 > 20.902552215085798)\n",
      "        If (feature 6 <= 1.8334027225008556)\n",
      "         Predict: 6.4375\n",
      "        Else (feature 6 > 1.8334027225008556)\n",
      "         Predict: 7.293103448275862\n",
      "      Else (feature 7 > 327.6788210824979)\n",
      "       If (feature 10 <= 9.746667308874603)\n",
      "        If (feature 3 <= 0.4619022738177745)\n",
      "         Predict: 5.855769230769231\n",
      "        Else (feature 3 > 0.4619022738177745)\n",
      "         Predict: 6.265822784810126\n",
      "       Else (feature 10 > 9.746667308874603)\n",
      "        If (feature 3 <= 1.1469708147609905)\n",
      "         Predict: 6.314814814814815\n",
      "        Else (feature 3 > 1.1469708147609905)\n",
      "         Predict: 6.742424242424242\n",
      "  Tree 19 (weight 1.0):\n",
      "    If (feature 1 <= 3.335666814985391)\n",
      "     If (feature 2 <= 1.7613951997839568)\n",
      "      If (feature 7 <= 327.8804400949605)\n",
      "       If (feature 1 <= 2.4602429449892247)\n",
      "        If (feature 5 <= 0.47129948324339577)\n",
      "         Predict: 4.0\n",
      "        Else (feature 5 > 0.47129948324339577)\n",
      "         Predict: 6.308411214953271\n",
      "       Else (feature 1 > 2.4602429449892247)\n",
      "        If (feature 7 <= 327.25575167929776)\n",
      "         Predict: 7.526315789473684\n",
      "        Else (feature 7 > 327.25575167929776)\n",
      "         Predict: 6.153846153846154\n",
      "      Else (feature 7 > 327.8804400949605)\n",
      "       If (feature 5 <= 0.5821934793006653)\n",
      "        If (feature 10 <= 7.638715706741123)\n",
      "         Predict: 4.125\n",
      "        Else (feature 10 > 7.638715706741123)\n",
      "         Predict: 5.2875\n",
      "       Else (feature 5 > 0.5821934793006653)\n",
      "        If (feature 7 <= 329.618990923736)\n",
      "         Predict: 5.552577319587629\n",
      "        Else (feature 7 > 329.618990923736)\n",
      "         Predict: 5.2105263157894735\n",
      "     Else (feature 2 > 1.7613951997839568)\n",
      "      If (feature 6 <= 2.7281734291759143)\n",
      "       If (feature 2 <= 2.5212127369456634)\n",
      "        If (feature 7 <= 328.1118061748356)\n",
      "         Predict: 6.433534743202417\n",
      "        Else (feature 7 > 328.1118061748356)\n",
      "         Predict: 5.943076923076923\n",
      "       Else (feature 2 > 2.5212127369456634)\n",
      "        If (feature 8 <= 18.784260783452666)\n",
      "         Predict: 5.447916666666667\n",
      "        Else (feature 8 > 18.784260783452666)\n",
      "         Predict: 5.939644970414201\n",
      "      Else (feature 6 > 2.7281734291759143)\n",
      "       If (feature 4 <= 0.9753632692392508)\n",
      "        If (feature 7 <= 329.1711322976921)\n",
      "         Predict: 6.535714285714286\n",
      "        Else (feature 7 > 329.1711322976921)\n",
      "         Predict: 5.44\n",
      "       Else (feature 4 > 0.9753632692392508)\n",
      "        If (feature 10 <= 9.204026302384797)\n",
      "         Predict: 5.621693121693122\n",
      "        Else (feature 10 > 9.204026302384797)\n",
      "         Predict: 6.1395348837209305\n",
      "    Else (feature 1 > 3.335666814985391)\n",
      "     If (feature 10 <= 9.308380342094374)\n",
      "      If (feature 3 <= 0.3165847045267892)\n",
      "       If (feature 5 <= 0.29109673965033267)\n",
      "        If (feature 10 <= 7.944820889889217)\n",
      "         Predict: 5.0\n",
      "        Else (feature 10 > 7.944820889889217)\n",
      "         Predict: 6.0\n",
      "       Else (feature 5 > 0.29109673965033267)\n",
      "        If (feature 9 <= 3.1551808623972075)\n",
      "         Predict: 4.666666666666667\n",
      "        Else (feature 9 > 3.1551808623972075)\n",
      "         Predict: 4.0\n",
      "      Else (feature 3 > 0.3165847045267892)\n",
      "       If (feature 9 <= 3.819429465007146)\n",
      "        If (feature 2 <= 2.5212127369456634)\n",
      "         Predict: 5.038095238095238\n",
      "        Else (feature 2 > 2.5212127369456634)\n",
      "         Predict: 4.454545454545454\n",
      "       Else (feature 9 > 3.819429465007146)\n",
      "        If (feature 6 <= 1.675502009558198)\n",
      "         Predict: 5.497652582159624\n",
      "        Else (feature 6 > 1.675502009558198)\n",
      "         Predict: 4.821428571428571\n",
      "     Else (feature 10 > 9.308380342094374)\n",
      "      If (feature 2 <= 2.175841129144888)\n",
      "       If (feature 9 <= 4.151553766312116)\n",
      "        If (feature 5 <= 0.47129948324339577)\n",
      "         Predict: 5.111111111111111\n",
      "        Else (feature 5 > 0.47129948324339577)\n",
      "         Predict: 5.65625\n",
      "       Else (feature 9 > 4.151553766312116)\n",
      "        If (feature 7 <= 328.1118061748356)\n",
      "         Predict: 8.0\n",
      "        Else (feature 7 > 328.1118061748356)\n",
      "         Predict: 6.409090909090909\n",
      "      Else (feature 2 > 2.175841129144888)\n",
      "       If (feature 7 <= 327.05082743712273)\n",
      "        Predict: 8.0\n",
      "       Else (feature 7 > 327.05082743712273)\n",
      "        If (feature 9 <= 3.819429465007146)\n",
      "         Predict: 5.0\n",
      "        Else (feature 9 > 3.819429465007146)\n",
      "         Predict: 6.466666666666667\n",
      "\n"
     ]
    }
   ],
   "source": [
    "print(forest_regModel.toDebugString)"
   ]
  },
  {
   "cell_type": "code",
   "execution_count": 328,
   "metadata": {
    "ExecuteTime": {
     "end_time": "2023-08-13T12:22:14.141045Z",
     "start_time": "2023-08-13T12:22:13.955876Z"
    },
    "id": "unRHG5shaMhw",
    "scrolled": false
   },
   "outputs": [
    {
     "name": "stdout",
     "output_type": "stream",
     "text": [
      "+-----+--------------------+------------------+\n",
      "|label|            features|        prediction|\n",
      "+-----+--------------------+------------------+\n",
      "|    7|[3.79978170064518...| 6.584500398216221|\n",
      "|    6|[3.87732826596447...| 5.950576126991017|\n",
      "|    5|[3.87732826596447...| 5.882790160553404|\n",
      "|    7|[3.95487483128376...| 6.556831526779023|\n",
      "|    5|[4.03242139660305...| 5.269292408362675|\n",
      "|    6|[4.03242139660305...| 6.537117540160466|\n",
      "|    6|[4.03242139660305...| 6.537117540160466|\n",
      "|    7|[4.10996796192234...|  6.51070240501822|\n",
      "|    7|[4.10996796192234...| 5.876062314384201|\n",
      "|    7|[4.18751452724163...|  6.26620611472278|\n",
      "|    6|[4.18751452724163...| 5.601050485098492|\n",
      "|    8|[4.26506109256092...| 6.577973448723993|\n",
      "|    5|[4.34260765788021...|5.4178974575959735|\n",
      "|    6|[4.34260765788021...| 5.655227534556642|\n",
      "|    5|[4.34260765788021...| 6.026719908638333|\n",
      "|    5|[4.34260765788021...|  5.52844747427398|\n",
      "|    5|[4.34260765788021...|5.9635899289825405|\n",
      "|    7|[4.34260765788021...| 5.886848121753046|\n",
      "|    5|[4.34260765788021...|  5.70936222268079|\n",
      "|    6|[4.42015422319950...| 5.924193196119264|\n",
      "+-----+--------------------+------------------+\n",
      "only showing top 20 rows\n",
      "\n"
     ]
    }
   ],
   "source": [
    "# predykcje\n",
    "forest_regModel.transform(wine_eval).show()"
   ]
  },
  {
   "cell_type": "markdown",
   "metadata": {
    "id": "i1HZ8T9zaMhw"
   },
   "source": [
    "### Gradient-Boosted Trees regression"
   ]
  },
  {
   "cell_type": "code",
   "execution_count": 329,
   "metadata": {
    "ExecuteTime": {
     "end_time": "2023-08-13T12:22:23.760078Z",
     "start_time": "2023-08-13T12:22:23.743842Z"
    },
    "id": "sHQVkdB8aMhx"
   },
   "outputs": [],
   "source": [
    "gbt_reg = regression.GBTRegressor()"
   ]
  },
  {
   "cell_type": "code",
   "execution_count": 330,
   "metadata": {
    "ExecuteTime": {
     "end_time": "2023-08-13T12:22:37.151881Z",
     "start_time": "2023-08-13T12:22:26.129830Z"
    },
    "id": "P7f0XULJaMhx"
   },
   "outputs": [],
   "source": [
    "gbt_regModel = gbt_reg.fit(wine_train)"
   ]
  },
  {
   "cell_type": "code",
   "execution_count": 331,
   "metadata": {
    "ExecuteTime": {
     "end_time": "2023-08-13T12:22:55.702815Z",
     "start_time": "2023-08-13T12:22:55.688712Z"
    },
    "id": "xOg9A9iEaMhz"
   },
   "outputs": [
    {
     "data": {
      "text/plain": [
       "SparseVector(12, {0: 0.0813, 1: 0.1014, 2: 0.0625, 3: 0.0714, 4: 0.0766, 5: 0.0978, 6: 0.1021, 7: 0.0487, 8: 0.0867, 9: 0.1064, 10: 0.1651})"
      ]
     },
     "execution_count": 331,
     "metadata": {},
     "output_type": "execute_result"
    }
   ],
   "source": [
    "gbt_regModel.featureImportances"
   ]
  },
  {
   "cell_type": "code",
   "execution_count": 332,
   "metadata": {
    "ExecuteTime": {
     "end_time": "2023-08-13T12:22:58.315142Z",
     "start_time": "2023-08-13T12:22:58.303782Z"
    },
    "id": "tcRTqPmiaMhz"
   },
   "outputs": [
    {
     "name": "stdout",
     "output_type": "stream",
     "text": [
      "GBTRegressionModel: uid=GBTRegressor_7ec4f311bfc8, numTrees=20, numFeatures=12\n",
      "  Tree 0 (weight 1.0):\n",
      "    If (feature 10 <= 9.113586134636481)\n",
      "     If (feature 1 <= 1.5244450149933235)\n",
      "      If (feature 1 <= 1.2527617449945132)\n",
      "       If (feature 7 <= 329.8139994767736)\n",
      "        If (feature 0 <= 6.552684769479971)\n",
      "         Predict: 5.988207547169812\n",
      "        Else (feature 0 > 6.552684769479971)\n",
      "         Predict: 5.321428571428571\n",
      "       Else (feature 7 > 329.8139994767736)\n",
      "        If (feature 2 <= 2.1067668075847323)\n",
      "         Predict: 7.085106382978723\n",
      "        Else (feature 2 > 2.1067668075847323)\n",
      "         Predict: 6.0625\n",
      "      Else (feature 1 > 1.2527617449945132)\n",
      "       If (feature 9 <= 3.0223311418752203)\n",
      "        If (feature 10 <= 7.3882660114381355)\n",
      "         Predict: 5.2\n",
      "        Else (feature 10 > 7.3882660114381355)\n",
      "         Predict: 5.565217391304348\n",
      "       Else (feature 9 > 3.0223311418752203)\n",
      "        If (feature 10 <= 8.710083847759474)\n",
      "         Predict: 5.7406143344709895\n",
      "        Else (feature 10 > 8.710083847759474)\n",
      "         Predict: 6.225352112676056\n",
      "     Else (feature 1 > 1.5244450149933235)\n",
      "      If (feature 10 <= 8.22309832911476)\n",
      "       If (feature 1 <= 1.826315314992001)\n",
      "        If (feature 2 <= 1.8304695213441118)\n",
      "         Predict: 5.137931034482759\n",
      "        Else (feature 2 > 1.8304695213441118)\n",
      "         Predict: 5.536697247706422\n",
      "       Else (feature 1 > 1.826315314992001)\n",
      "        If (feature 9 <= 3.553730023963171)\n",
      "         Predict: 5.076923076923077\n",
      "        Else (feature 9 > 3.553730023963171)\n",
      "         Predict: 5.3056768558951966\n",
      "      Else (feature 10 > 8.22309832911476)\n",
      "       If (feature 9 <= 4.151553766312116)\n",
      "        If (feature 5 <= 0.47129948324339577)\n",
      "         Predict: 5.014285714285714\n",
      "        Else (feature 5 > 0.47129948324339577)\n",
      "         Predict: 5.59070796460177\n",
      "       Else (feature 9 > 4.151553766312116)\n",
      "        If (feature 0 <= 5.467032855009915)\n",
      "         Predict: 5.477611940298507\n",
      "        Else (feature 0 > 5.467032855009915)\n",
      "         Predict: 6.0062893081761\n",
      "    Else (feature 10 > 9.113586134636481)\n",
      "     If (feature 10 <= 9.746667308874603)\n",
      "      If (feature 2 <= 1.6232465566636463)\n",
      "       If (feature 5 <= 0.47129948324339577)\n",
      "        If (feature 9 <= 3.2880305829191956)\n",
      "         Predict: 4.0\n",
      "        Else (feature 9 > 3.2880305829191956)\n",
      "         Predict: 5.066666666666666\n",
      "       Else (feature 5 > 0.47129948324339577)\n",
      "        If (feature 5 <= 3.631778370875579)\n",
      "         Predict: 5.7215189873417724\n",
      "        Else (feature 5 > 3.631778370875579)\n",
      "         Predict: 3.0\n",
      "      Else (feature 2 > 1.6232465566636463)\n",
      "       If (feature 5 <= 0.7485344733865698)\n",
      "        If (feature 6 <= 0.7807313028831395)\n",
      "         Predict: 6.14\n",
      "        Else (feature 6 > 0.7807313028831395)\n",
      "         Predict: 5.476190476190476\n",
      "       Else (feature 5 > 0.7485344733865698)\n",
      "        If (feature 0 <= 5.311939724371337)\n",
      "         Predict: 6.357142857142857\n",
      "        Else (feature 0 > 5.311939724371337)\n",
      "         Predict: 6.103053435114504\n",
      "     Else (feature 10 > 9.746667308874603)\n",
      "      If (feature 5 <= 1.192110457615648)\n",
      "       If (feature 9 <= 4.550102927878079)\n",
      "        If (feature 2 <= 1.2088006273027154)\n",
      "         Predict: 5.605263157894737\n",
      "        Else (feature 2 > 1.2088006273027154)\n",
      "         Predict: 6.169082125603865\n",
      "       Else (feature 9 > 4.550102927878079)\n",
      "        If (feature 3 <= 1.0120330718479327)\n",
      "         Predict: 6.794520547945205\n",
      "        Else (feature 3 > 1.0120330718479327)\n",
      "         Predict: 5.888888888888889\n",
      "      Else (feature 5 > 1.192110457615648)\n",
      "       If (feature 3 <= 0.3581040100384993)\n",
      "        If (feature 8 <= 20.466433390926035)\n",
      "         Predict: 6.211538461538462\n",
      "        Else (feature 8 > 20.466433390926035)\n",
      "         Predict: 6.704545454545454\n",
      "       Else (feature 3 > 0.3581040100384993)\n",
      "        If (feature 10 <= 10.122341851829084)\n",
      "         Predict: 6.550387596899225\n",
      "        Else (feature 10 > 10.122341851829084)\n",
      "         Predict: 6.8428571428571425\n",
      "  Tree 1 (weight 0.1):\n",
      "    If (feature 1 <= 3.6073500849842004)\n",
      "     If (feature 8 <= 19.033471540115386)\n",
      "      If (feature 0 <= 5.699672550967785)\n",
      "       If (feature 0 <= 5.622125985648495)\n",
      "        If (feature 6 <= 0.622830589940482)\n",
      "         Predict: -4.338164251207729\n",
      "        Else (feature 6 > 0.622830589940482)\n",
      "         Predict: -0.05807674374106753\n",
      "       Else (feature 0 > 5.622125985648495)\n",
      "        If (feature 9 <= 2.6902068405702506)\n",
      "         Predict: 0.1279602787248114\n",
      "        Else (feature 9 > 2.6902068405702506)\n",
      "         Predict: 1.538536887529077\n",
      "      Else (feature 0 > 5.699672550967785)\n",
      "       If (feature 7 <= 328.6637795368232)\n",
      "        If (feature 5 <= 0.29109673965033267)\n",
      "         Predict: -2.6259058559863573\n",
      "        Else (feature 5 > 0.29109673965033267)\n",
      "         Predict: -0.5619543325962132\n",
      "       Else (feature 7 > 328.6637795368232)\n",
      "        If (feature 6 <= 0.7807313028831395)\n",
      "         Predict: 0.7306181992186325\n",
      "        Else (feature 6 > 0.7807313028831395)\n",
      "         Predict: -0.24484322943546838\n",
      "     Else (feature 8 > 19.033471540115386)\n",
      "      If (feature 4 <= 1.1167202647811711)\n",
      "       If (feature 5 <= 0.5821934793006653)\n",
      "        If (feature 8 <= 20.40413070176036)\n",
      "         Predict: -0.12035574895446768\n",
      "        Else (feature 8 > 20.40413070176036)\n",
      "         Predict: -2.1587387048569107\n",
      "       Else (feature 5 > 0.5821934793006653)\n",
      "        If (feature 2 <= 4.248070775949542)\n",
      "         Predict: 0.3494361525031932\n",
      "        Else (feature 2 > 4.248070775949542)\n",
      "         Predict: -0.7409222500387743\n",
      "      Else (feature 4 > 1.1167202647811711)\n",
      "       If (feature 6 <= 0.622830589940482)\n",
      "        If (feature 3 <= 1.2974782972409393)\n",
      "         Predict: 0.40045559999218866\n",
      "        Else (feature 3 > 1.2974782972409393)\n",
      "         Predict: -1.9928896866551469\n",
      "       Else (feature 6 > 0.622830589940482)\n",
      "        If (feature 5 <= 1.5941011933232503)\n",
      "         Predict: -0.25273726746934194\n",
      "        Else (feature 5 > 1.5941011933232503)\n",
      "         Predict: 0.06244578494539322\n",
      "    Else (feature 1 > 3.6073500849842004)\n",
      "     If (feature 10 <= 7.3882660114381355)\n",
      "      If (feature 0 <= 4.691567201817019)\n",
      "       Predict: -2.1538461538461533\n",
      "      Else (feature 0 > 4.691567201817019)\n",
      "       Predict: -4.611353711790393\n",
      "     Else (feature 10 > 7.3882660114381355)\n",
      "      If (feature 9 <= 3.819429465007146)\n",
      "       If (feature 10 <= 8.02830412165688)\n",
      "        If (feature 7 <= 330.0453655566487)\n",
      "         Predict: -0.2645280483708428\n",
      "        Else (feature 7 > 330.0453655566487)\n",
      "         Predict: 0.7929363213206011\n",
      "       Else (feature 10 > 8.02830412165688)\n",
      "        If (feature 0 <= 6.087405377564233)\n",
      "         Predict: -1.0641171432740553\n",
      "        Else (feature 0 > 6.087405377564233)\n",
      "         Predict: -0.3826019489053408\n",
      "      Else (feature 9 > 3.819429465007146)\n",
      "       If (feature 5 <= 1.095078211065537)\n",
      "        If (feature 4 <= 1.5690626505153165)\n",
      "         Predict: 1.0537483567992698\n",
      "        Else (feature 4 > 1.5690626505153165)\n",
      "         Predict: 0.0029923931818282828\n",
      "       Else (feature 5 > 1.095078211065537)\n",
      "        If (feature 8 <= 18.28583927012722)\n",
      "         Predict: -3.611353711790393\n",
      "        Else (feature 8 > 18.28583927012722)\n",
      "         Predict: -0.6908939616096565\n",
      "  Tree 2 (weight 0.1):\n",
      "    If (feature 1 <= 3.6073500849842004)\n",
      "     If (feature 5 <= 1.5941011933232503)\n",
      "      If (feature 6 <= 0.622830589940482)\n",
      "       If (feature 9 <= 2.490932259787269)\n",
      "        If (feature 6 <= 0.3772072586963483)\n",
      "         Predict: -5.9064165102363475\n",
      "        Else (feature 6 > 0.3772072586963483)\n",
      "         Predict: -1.4383757838205589\n",
      "       Else (feature 9 > 2.490932259787269)\n",
      "        If (feature 3 <= 1.2974782972409393)\n",
      "         Predict: 0.3235115894176004\n",
      "        Else (feature 3 > 1.2974782972409393)\n",
      "         Predict: -1.5943117493241132\n",
      "      Else (feature 6 > 0.622830589940482)\n",
      "       If (feature 5 <= 0.5821934793006653)\n",
      "        If (feature 7 <= 329.3677934655859)\n",
      "         Predict: -0.8017223663976862\n",
      "        Else (feature 7 > 329.3677934655859)\n",
      "         Predict: 0.1565144213307645\n",
      "       Else (feature 5 > 0.5821934793006653)\n",
      "        If (feature 4 <= 1.060177466564403)\n",
      "         Predict: 0.18839626139651555\n",
      "        Else (feature 4 > 1.060177466564403)\n",
      "         Predict: -0.1993102131275412\n",
      "     Else (feature 5 > 1.5941011933232503)\n",
      "      If (feature 4 <= 1.2863486594314755)\n",
      "       If (feature 8 <= 20.279525323428995)\n",
      "        If (feature 2 <= 0.5180574117011638)\n",
      "         Predict: -2.7109827920016336\n",
      "        Else (feature 2 > 0.5180574117011638)\n",
      "         Predict: 0.11537888205501479\n",
      "       Else (feature 8 > 20.279525323428995)\n",
      "        If (feature 10 <= 9.308380342094374)\n",
      "         Predict: 0.7184236119993922\n",
      "        Else (feature 10 > 9.308380342094374)\n",
      "         Predict: 0.16011255843190117\n",
      "      Else (feature 4 > 1.2863486594314755)\n",
      "       If (feature 0 <= 5.079300028413467)\n",
      "        If (feature 10 <= 10.122341851829084)\n",
      "         Predict: -0.18460457006771536\n",
      "        Else (feature 10 > 10.122341851829084)\n",
      "         Predict: -1.647908283317295\n",
      "       Else (feature 0 > 5.079300028413467)\n",
      "        If (feature 3 <= 3.0205294759769075)\n",
      "         Predict: 0.15774902945961206\n",
      "        Else (feature 3 > 3.0205294759769075)\n",
      "         Predict: -0.26119811197111187\n",
      "    Else (feature 1 > 3.6073500849842004)\n",
      "     If (feature 6 <= 1.675502009558198)\n",
      "      If (feature 9 <= 2.5573571200482634)\n",
      "       If (feature 2 <= 1.2088006273027154)\n",
      "        If (feature 8 <= 19.282682296778106)\n",
      "         Predict: -3.2302145460287335\n",
      "        Else (feature 8 > 19.282682296778106)\n",
      "         Predict: -1.8578401314230533\n",
      "       Else (feature 2 > 1.2088006273027154)\n",
      "        If (feature 0 <= 5.234393159052047)\n",
      "         Predict: 0.18425200008338294\n",
      "        Else (feature 0 > 5.234393159052047)\n",
      "         Predict: 0.895104460577528\n",
      "      Else (feature 9 > 2.5573571200482634)\n",
      "       If (feature 10 <= 10.324092995267588)\n",
      "        If (feature 3 <= 0.3165847045267892)\n",
      "         Predict: -1.2645234117339572\n",
      "        Else (feature 3 > 0.3165847045267892)\n",
      "         Predict: -0.19638990411487225\n",
      "       Else (feature 10 > 10.324092995267588)\n",
      "        If (feature 3 <= 0.5086114925184483)\n",
      "         Predict: 1.5449040404705923\n",
      "        Else (feature 3 > 0.5086114925184483)\n",
      "         Predict: -0.8018017435203415\n",
      "     Else (feature 6 > 1.675502009558198)\n",
      "      If (feature 3 <= 0.3581040100384993)\n",
      "       If (feature 7 <= 329.2719418039234)\n",
      "        If (feature 8 <= 20.217222634263315)\n",
      "         Predict: -1.1215763332792839\n",
      "        Else (feature 8 > 20.217222634263315)\n",
      "         Predict: -1.8801858253646582\n",
      "       Else (feature 7 > 329.2719418039234)\n",
      "        If (feature 0 <= 6.552684769479971)\n",
      "         Predict: -2.4731749194684625\n",
      "        Else (feature 0 > 6.552684769479971)\n",
      "         Predict: -3.104895539422472\n",
      "      Else (feature 3 > 0.3581040100384993)\n",
      "       If (feature 10 <= 8.22309832911476)\n",
      "        If (feature 8 <= 18.28583927012722)\n",
      "         Predict: -1.9597021610122045\n",
      "        Else (feature 8 > 18.28583927012722)\n",
      "         Predict: -0.17035136036943851\n",
      "       Else (feature 10 > 8.22309832911476)\n",
      "        If (feature 0 <= 7.328150422672866)\n",
      "         Predict: -0.8080703334909216\n",
      "        Else (feature 0 > 7.328150422672866)\n",
      "         Predict: -2.555582607394342\n",
      "  Tree 3 (weight 0.1):\n",
      "    If (feature 1 <= 4.4223998949806305)\n",
      "     If (feature 8 <= 19.033471540115386)\n",
      "      If (feature 0 <= 5.699672550967785)\n",
      "       If (feature 0 <= 5.156846593732757)\n",
      "        If (feature 9 <= 2.9559062816142263)\n",
      "         Predict: -0.7034081927937642\n",
      "        Else (feature 9 > 2.9559062816142263)\n",
      "         Predict: -0.0435791717018348\n",
      "       Else (feature 0 > 5.156846593732757)\n",
      "        If (feature 5 <= 0.29109673965033267)\n",
      "         Predict: -3.1578274246014537\n",
      "        Else (feature 5 > 0.29109673965033267)\n",
      "         Predict: 0.18419934899740106\n",
      "      Else (feature 0 > 5.699672550967785)\n",
      "       If (feature 2 <= 3.350104595667525)\n",
      "        If (feature 5 <= 0.29109673965033267)\n",
      "         Predict: -1.954041591762247\n",
      "        Else (feature 5 > 0.29109673965033267)\n",
      "         Predict: -0.389443390499385\n",
      "       Else (feature 2 > 3.350104595667525)\n",
      "        If (feature 3 <= 0.39962331555020936)\n",
      "         Predict: 1.1819208735047957\n",
      "        Else (feature 3 > 0.39962331555020936)\n",
      "         Predict: -0.16749584821033306\n",
      "     Else (feature 8 > 19.033471540115386)\n",
      "      If (feature 4 <= 1.2580772603230912)\n",
      "       If (feature 5 <= 0.3604054871861262)\n",
      "        If (feature 0 <= 5.389486289690627)\n",
      "         Predict: -1.93071796351312\n",
      "        Else (feature 0 > 5.389486289690627)\n",
      "         Predict: 0.09995972329360174\n",
      "       Else (feature 5 > 0.3604054871861262)\n",
      "        If (feature 7 <= 329.9098511384361)\n",
      "         Predict: 0.1533656828596976\n",
      "        Else (feature 7 > 329.9098511384361)\n",
      "         Predict: 0.7962205837059143\n",
      "      Else (feature 4 > 1.2580772603230912)\n",
      "       If (feature 6 <= 0.622830589940482)\n",
      "        If (feature 0 <= 5.079300028413467)\n",
      "         Predict: -0.39081178349465656\n",
      "        Else (feature 0 > 5.079300028413467)\n",
      "         Predict: 0.22871571903815865\n",
      "       Else (feature 6 > 0.622830589940482)\n",
      "        If (feature 5 <= 0.8594284694438392)\n",
      "         Predict: -0.32245591470247786\n",
      "        Else (feature 5 > 0.8594284694438392)\n",
      "         Predict: -0.05089300507064704\n",
      "    Else (feature 1 > 4.4223998949806305)\n",
      "     If (feature 9 <= 3.686579744485159)\n",
      "      If (feature 8 <= 20.466433390926035)\n",
      "       If (feature 10 <= 8.306581560882423)\n",
      "        If (feature 5 <= 1.095078211065537)\n",
      "         Predict: 0.5880855210503486\n",
      "        Else (feature 5 > 1.095078211065537)\n",
      "         Predict: -0.08289000559439845\n",
      "       Else (feature 10 > 8.306581560882423)\n",
      "        If (feature 4 <= 1.6256054487320846)\n",
      "         Predict: -2.3007681325700484\n",
      "        Else (feature 4 > 1.6256054487320846)\n",
      "         Predict: -0.5192584652983587\n",
      "      Else (feature 8 > 20.466433390926035)\n",
      "       If (feature 5 <= 0.8594284694438392)\n",
      "        If (feature 3 <= 0.7369676728328536)\n",
      "         Predict: -0.5665399367029255\n",
      "        Else (feature 3 > 0.7369676728328536)\n",
      "         Predict: -2.7619276139486764\n",
      "       Else (feature 5 > 0.8594284694438392)\n",
      "        If (feature 3 <= 0.4411426210619194)\n",
      "         Predict: -3.488498682141213\n",
      "        Else (feature 3 > 0.4411426210619194)\n",
      "         Predict: -1.0321019933824327\n",
      "     Else (feature 9 > 3.686579744485159)\n",
      "      If (feature 7 <= 329.1711322976921)\n",
      "       If (feature 10 <= 7.889165402044111)\n",
      "        Predict: -2.5726742096037842\n",
      "       Else (feature 10 > 7.889165402044111)\n",
      "        If (feature 3 <= 0.5553207112191221)\n",
      "         Predict: 0.6903004941212624\n",
      "        Else (feature 3 > 0.5553207112191221)\n",
      "         Predict: -1.0395839861309912\n",
      "      Else (feature 7 > 329.1711322976921)\n",
      "       If (feature 8 <= 21.2140656609142)\n",
      "        If (feature 6 <= 2.833440571137686)\n",
      "         Predict: -0.12021327895163375\n",
      "        Else (feature 6 > 2.833440571137686)\n",
      "         Predict: -2.532120615402741\n",
      "       Else (feature 8 > 21.2140656609142)\n",
      "        If (feature 10 <= 7.736112810470062)\n",
      "         Predict: 1.4273257903962158\n",
      "        Else (feature 10 > 7.736112810470062)\n",
      "         Predict: -1.2469182299792858\n",
      "  Tree 4 (weight 0.1):\n",
      "    If (feature 5 <= 1.5941011933232503)\n",
      "     If (feature 9 <= 3.819429465007146)\n",
      "      If (feature 6 <= 1.1667108234096353)\n",
      "       If (feature 4 <= 1.7104196460572365)\n",
      "        If (feature 3 <= 2.750653990150792)\n",
      "         Predict: -0.7689738127503859\n",
      "        Else (feature 3 > 2.750653990150792)\n",
      "         Predict: 2.0551643235967845\n",
      "       Else (feature 4 > 1.7104196460572365)\n",
      "        If (feature 1 <= 4.4223998949806305)\n",
      "         Predict: -0.12171180224110119\n",
      "        Else (feature 1 > 4.4223998949806305)\n",
      "         Predict: -0.7471658003915412\n",
      "      Else (feature 6 > 1.1667108234096353)\n",
      "       If (feature 10 <= 10.47714558684165)\n",
      "        If (feature 6 <= 3.0615193787215245)\n",
      "         Predict: -0.09575491040663567\n",
      "        Else (feature 6 > 3.0615193787215245)\n",
      "         Predict: -0.7373981380396714\n",
      "       Else (feature 10 > 10.47714558684165)\n",
      "        If (feature 1 <= 1.2527617449945132)\n",
      "         Predict: 2.209106680612076\n",
      "        Else (feature 1 > 1.2527617449945132)\n",
      "         Predict: 0.29082007614616695\n",
      "     Else (feature 9 > 3.819429465007146)\n",
      "      If (feature 6 <= 1.1667108234096353)\n",
      "       If (feature 8 <= 21.650184485073964)\n",
      "        If (feature 0 <= 5.622125985648495)\n",
      "         Predict: 0.6151362308911631\n",
      "        Else (feature 0 > 5.622125985648495)\n",
      "         Predict: 0.19079198878238446\n",
      "       Else (feature 8 > 21.650184485073964)\n",
      "        If (feature 4 <= 2.247576229116534)\n",
      "         Predict: 0.24055409692407587\n",
      "        Else (feature 4 > 2.247576229116534)\n",
      "         Predict: -0.55690897449913\n",
      "      Else (feature 6 > 1.1667108234096353)\n",
      "       If (feature 0 <= 5.311939724371337)\n",
      "        If (feature 4 <= 1.5690626505153165)\n",
      "         Predict: 0.25900489588565007\n",
      "        Else (feature 4 > 1.5690626505153165)\n",
      "         Predict: -0.9736492311655469\n",
      "       Else (feature 0 > 5.311939724371337)\n",
      "        If (feature 9 <= 3.8858543252681397)\n",
      "         Predict: 0.3642251568392905\n",
      "        Else (feature 9 > 3.8858543252681397)\n",
      "         Predict: -0.5959324882319236\n",
      "    Else (feature 5 > 1.5941011933232503)\n",
      "     If (feature 6 <= 2.7281734291759143)\n",
      "      If (feature 8 <= 20.40413070176036)\n",
      "       If (feature 9 <= 2.490932259787269)\n",
      "        If (feature 1 <= 3.048890029986647)\n",
      "         Predict: -0.16416266039794422\n",
      "        Else (feature 1 > 3.048890029986647)\n",
      "         Predict: -2.403261914005627\n",
      "       Else (feature 9 > 2.490932259787269)\n",
      "        If (feature 4 <= 1.1167202647811711)\n",
      "         Predict: 0.3023418679603132\n",
      "        Else (feature 4 > 1.1167202647811711)\n",
      "         Predict: -0.013318807177456973\n",
      "      Else (feature 8 > 20.40413070176036)\n",
      "       If (feature 4 <= 1.851776641599157)\n",
      "        If (feature 10 <= 9.308380342094374)\n",
      "         Predict: 0.6735196983926959\n",
      "        Else (feature 10 > 9.308380342094374)\n",
      "         Predict: 0.11508637461542982\n",
      "       Else (feature 4 > 1.851776641599157)\n",
      "        If (feature 6 <= 1.8334027225008556)\n",
      "         Predict: 0.09334206800667101\n",
      "        Else (feature 6 > 1.8334027225008556)\n",
      "         Predict: -1.0015701980345812\n",
      "     Else (feature 6 > 2.7281734291759143)\n",
      "      If (feature 3 <= 0.3581040100384993)\n",
      "       If (feature 7 <= 328.7695468876233)\n",
      "        If (feature 6 <= 3.3203011027108795)\n",
      "         Predict: -0.5032375577784262\n",
      "        Else (feature 6 > 3.3203011027108795)\n",
      "         Predict: 0.275804906357056\n",
      "       Else (feature 7 > 328.7695468876233)\n",
      "        If (feature 2 <= 1.6923208782238013)\n",
      "         Predict: -0.41646029468514456\n",
      "        Else (feature 2 > 1.6923208782238013)\n",
      "         Predict: -3.959848335213289\n",
      "      Else (feature 3 > 0.3581040100384993)\n",
      "       If (feature 0 <= 5.311939724371337)\n",
      "        If (feature 1 <= 1.7659412549922657)\n",
      "         Predict: -0.29922520652736395\n",
      "        Else (feature 1 > 1.7659412549922657)\n",
      "         Predict: 0.19934408363075196\n",
      "       Else (feature 0 > 5.311939724371337)\n",
      "        If (feature 10 <= 9.447519061707132)\n",
      "         Predict: 0.1860287795652575\n",
      "        Else (feature 10 > 9.447519061707132)\n",
      "         Predict: -0.6059268857101817\n",
      "  Tree 5 (weight 0.1):\n",
      "    If (feature 5 <= 0.29109673965033267)\n",
      "     If (feature 4 <= 1.3428914576482436)\n",
      "      If (feature 8 <= 20.5910387692574)\n",
      "       If (feature 1 <= 1.132013624995042)\n",
      "        If (feature 2 <= 1.968618164464422)\n",
      "         Predict: -1.1247304325319174\n",
      "        Else (feature 2 > 1.968618164464422)\n",
      "         Predict: -3.2554912731533747\n",
      "       Else (feature 1 > 1.132013624995042)\n",
      "        If (feature 8 <= 19.033471540115386)\n",
      "         Predict: -1.0470769084720701\n",
      "        Else (feature 8 > 19.033471540115386)\n",
      "         Predict: -0.07664529715748891\n",
      "      Else (feature 8 > 20.5910387692574)\n",
      "       If (feature 2 <= 2.383064093825353)\n",
      "        If (feature 10 <= 7.889165402044111)\n",
      "         Predict: 0.07214025454234729\n",
      "        Else (feature 10 > 7.889165402044111)\n",
      "         Predict: -1.6075919094082576\n",
      "       Else (feature 2 > 2.383064093825353)\n",
      "        If (feature 0 <= 4.614020636497731)\n",
      "         Predict: -5.340777462172861\n",
      "        Else (feature 0 > 4.614020636497731)\n",
      "         Predict: -4.185194852936377\n",
      "     Else (feature 4 > 1.3428914576482436)\n",
      "      If (feature 1 <= 2.1885596749904144)\n",
      "       If (feature 2 <= 2.313989772265198)\n",
      "        If (feature 0 <= 5.389486289690627)\n",
      "         Predict: 1.144571912339078\n",
      "        Else (feature 0 > 5.389486289690627)\n",
      "         Predict: 3.6738575557799766\n",
      "       Else (feature 2 > 2.313989772265198)\n",
      "        If (feature 8 <= 19.033471540115386)\n",
      "         Predict: 1.2115697111241892\n",
      "        Else (feature 8 > 19.033471540115386)\n",
      "         Predict: 0.12428050122281377\n",
      "      Else (feature 1 > 2.1885596749904144)\n",
      "       If (feature 2 <= 2.728435701626129)\n",
      "        If (feature 0 <= 5.932312246925653)\n",
      "         Predict: -0.6147420626814355\n",
      "        Else (feature 0 > 5.932312246925653)\n",
      "         Predict: 0.3250117068434629\n",
      "       Else (feature 2 > 2.728435701626129)\n",
      "        If (feature 1 <= 3.6073500849842004)\n",
      "         Predict: -0.6491921707425988\n",
      "        Else (feature 1 > 3.6073500849842004)\n",
      "         Predict: -2.4347936227380247\n",
      "    Else (feature 5 > 0.29109673965033267)\n",
      "     If (feature 3 <= 0.22316626712544163)\n",
      "      If (feature 9 <= 3.2216057226582016)\n",
      "       If (feature 8 <= 21.650184485073964)\n",
      "        If (feature 10 <= 10.7665541236362)\n",
      "         Predict: -0.5761342243504277\n",
      "        Else (feature 10 > 10.7665541236362)\n",
      "         Predict: 1.0839575653490172\n",
      "       Else (feature 8 > 21.650184485073964)\n",
      "        If (feature 6 <= 1.8334027225008556)\n",
      "         Predict: -3.1885894286145753\n",
      "        Else (feature 6 > 1.8334027225008556)\n",
      "         Predict: -0.9038538240272302\n",
      "      Else (feature 9 > 3.2216057226582016)\n",
      "       If (feature 9 <= 3.420880303441183)\n",
      "        If (feature 6 <= 1.675502009558198)\n",
      "         Predict: -0.1264337712549457\n",
      "        Else (feature 6 > 1.675502009558198)\n",
      "         Predict: 3.231990343982296\n",
      "       Else (feature 9 > 3.420880303441183)\n",
      "        If (feature 2 <= 3.4191789172276805)\n",
      "         Predict: 0.014890945553388905\n",
      "        Else (feature 2 > 3.4191789172276805)\n",
      "         Predict: -1.5149531059213828\n",
      "     Else (feature 3 > 0.22316626712544163)\n",
      "      If (feature 4 <= 1.2863486594314755)\n",
      "       If (feature 8 <= 19.033471540115386)\n",
      "        If (feature 9 <= 4.550102927878079)\n",
      "         Predict: -0.04508802799952741\n",
      "        Else (feature 9 > 4.550102927878079)\n",
      "         Predict: -1.0832094607328062\n",
      "       Else (feature 8 > 19.033471540115386)\n",
      "        If (feature 2 <= 1.7613951997839568)\n",
      "         Predict: -0.05783507094686235\n",
      "        Else (feature 2 > 1.7613951997839568)\n",
      "         Predict: 0.18960656092331393\n",
      "      Else (feature 4 > 1.2863486594314755)\n",
      "       If (feature 6 <= 0.7807313028831395)\n",
      "        If (feature 9 <= 3.819429465007146)\n",
      "         Predict: -0.15606356600305601\n",
      "        Else (feature 9 > 3.819429465007146)\n",
      "         Predict: 0.251702972965254\n",
      "       Else (feature 6 > 0.7807313028831395)\n",
      "        If (feature 3 <= 2.5430574625922415)\n",
      "         Predict: -0.13516532708920662\n",
      "        Else (feature 3 > 2.5430574625922415)\n",
      "         Predict: 0.09528522322779023\n",
      "  Tree 6 (weight 0.1):\n",
      "    If (feature 2 <= 2.5212127369456634)\n",
      "     If (feature 2 <= 1.8304695213441118)\n",
      "      If (feature 1 <= 1.313135804994249)\n",
      "       If (feature 0 <= 5.622125985648495)\n",
      "        If (feature 7 <= 329.3677934655859)\n",
      "         Predict: -0.37473568536281276\n",
      "        Else (feature 7 > 329.3677934655859)\n",
      "         Predict: -1.335306628785678\n",
      "       Else (feature 0 > 5.622125985648495)\n",
      "        If (feature 10 <= 8.494418832359663)\n",
      "         Predict: -0.4918272890735862\n",
      "        Else (feature 10 > 8.494418832359663)\n",
      "         Predict: 1.7787445102490296\n",
      "      Else (feature 1 > 1.313135804994249)\n",
      "       If (feature 1 <= 3.909220384982879)\n",
      "        If (feature 1 <= 2.4602429449892247)\n",
      "         Predict: -0.09823248074358584\n",
      "        Else (feature 1 > 2.4602429449892247)\n",
      "         Predict: 0.13005558035659007\n",
      "       Else (feature 1 > 3.909220384982879)\n",
      "        If (feature 4 <= 1.0319060674560188)\n",
      "         Predict: -1.4845345130348306\n",
      "        Else (feature 4 > 1.0319060674560188)\n",
      "         Predict: -0.19480871271311412\n",
      "     Else (feature 2 > 1.8304695213441118)\n",
      "      If (feature 6 <= 2.833440571137686)\n",
      "       If (feature 6 <= 2.6404508108744382)\n",
      "        If (feature 0 <= 5.699672550967785)\n",
      "         Predict: 0.21446248821168054\n",
      "        Else (feature 0 > 5.699672550967785)\n",
      "         Predict: -0.023388073577253102\n",
      "       Else (feature 6 > 2.6404508108744382)\n",
      "        If (feature 0 <= 5.932312246925653)\n",
      "         Predict: 0.3835488578348752\n",
      "        Else (feature 0 > 5.932312246925653)\n",
      "         Predict: 1.5733927267207157\n",
      "      Else (feature 6 > 2.833440571137686)\n",
      "       If (feature 8 <= 19.158076918446746)\n",
      "        If (feature 9 <= 2.6902068405702506)\n",
      "         Predict: -1.7728531891750734\n",
      "        Else (feature 9 > 2.6902068405702506)\n",
      "         Predict: 0.6928301988497476\n",
      "       Else (feature 8 > 19.158076918446746)\n",
      "        If (feature 5 <= 2.578285408331518)\n",
      "         Predict: -0.45472144228590555\n",
      "        Else (feature 5 > 2.578285408331518)\n",
      "         Predict: 0.1373365515951031\n",
      "    Else (feature 2 > 2.5212127369456634)\n",
      "     If (feature 5 <= 1.192110457615648)\n",
      "      If (feature 6 <= 1.3246115363522928)\n",
      "       If (feature 8 <= 20.40413070176036)\n",
      "        If (feature 9 <= 4.217978626573109)\n",
      "         Predict: -0.2160615091945886\n",
      "        Else (feature 9 > 4.217978626573109)\n",
      "         Predict: 0.3700288308434357\n",
      "       Else (feature 8 > 20.40413070176036)\n",
      "        If (feature 3 <= 0.8978549816907301)\n",
      "         Predict: -0.3817914702453961\n",
      "        Else (feature 3 > 0.8978549816907301)\n",
      "         Predict: -1.9007050723159566\n",
      "      Else (feature 6 > 1.3246115363522928)\n",
      "       If (feature 9 <= 2.8230565610922387)\n",
      "        If (feature 2 <= 2.5902870585058184)\n",
      "         Predict: -1.359304227294841\n",
      "        Else (feature 2 > 2.5902870585058184)\n",
      "         Predict: 0.2209548750254852\n",
      "       Else (feature 9 > 2.8230565610922387)\n",
      "        If (feature 1 <= 1.9621569499914062)\n",
      "         Predict: -0.9603543505635792\n",
      "        Else (feature 1 > 1.9621569499914062)\n",
      "         Predict: -0.1677212532309188\n",
      "     Else (feature 5 > 1.192110457615648)\n",
      "      If (feature 8 <= 20.279525323428995)\n",
      "       If (feature 7 <= 327.6788210824979)\n",
      "        If (feature 9 <= 4.417253207356091)\n",
      "         Predict: -0.5596345895872618\n",
      "        Else (feature 9 > 4.417253207356091)\n",
      "         Predict: 0.7400585193045549\n",
      "       Else (feature 7 > 327.6788210824979)\n",
      "        If (feature 4 <= 1.0036346683476347)\n",
      "         Predict: 0.6562756628919362\n",
      "        Else (feature 4 > 1.0036346683476347)\n",
      "         Predict: -0.09429190297168501\n",
      "      Else (feature 8 > 20.279525323428995)\n",
      "       If (feature 9 <= 2.6902068405702506)\n",
      "        If (feature 2 <= 2.866584344746439)\n",
      "         Predict: 0.7312493358398235\n",
      "        Else (feature 2 > 2.866584344746439)\n",
      "         Predict: 1.9687851054244627\n",
      "       Else (feature 9 > 2.6902068405702506)\n",
      "        If (feature 10 <= 7.3882660114381355)\n",
      "         Predict: 2.3941809873028914\n",
      "        Else (feature 10 > 7.3882660114381355)\n",
      "         Predict: 0.014240678303694465\n",
      "  Tree 7 (weight 0.1):\n",
      "    If (feature 1 <= 3.335666814985391)\n",
      "     If (feature 9 <= 4.8158023689220535)\n",
      "      If (feature 5 <= 1.5941011933232503)\n",
      "       If (feature 6 <= 2.833440571137686)\n",
      "        If (feature 0 <= 5.467032855009915)\n",
      "         Predict: 0.04563819142138283\n",
      "        Else (feature 0 > 5.467032855009915)\n",
      "         Predict: -0.11781321788643133\n",
      "       Else (feature 6 > 2.833440571137686)\n",
      "        If (feature 8 <= 19.968011877600595)\n",
      "         Predict: -0.12825488262915347\n",
      "        Else (feature 8 > 19.968011877600595)\n",
      "         Predict: -0.8071338472290599\n",
      "      Else (feature 5 > 1.5941011933232503)\n",
      "       If (feature 10 <= 9.447519061707132)\n",
      "        If (feature 6 <= 2.3597384323097135)\n",
      "         Predict: 0.2891866689674684\n",
      "        Else (feature 6 > 2.3597384323097135)\n",
      "         Predict: 0.019607860318927597\n",
      "       Else (feature 10 > 9.447519061707132)\n",
      "        If (feature 1 <= 1.4640709549935877)\n",
      "         Predict: -0.4019537621835782\n",
      "        Else (feature 1 > 1.4640709549935877)\n",
      "         Predict: 0.0257891845465557\n",
      "     Else (feature 9 > 4.8158023689220535)\n",
      "      If (feature 8 <= 18.784260783452666)\n",
      "       If (feature 2 <= 1.5541722351034912)\n",
      "        If (feature 1 <= 2.4602429449892247)\n",
      "         Predict: -2.9524431365136117\n",
      "        Else (feature 1 > 2.4602429449892247)\n",
      "         Predict: -2.9981007487336466\n",
      "       Else (feature 2 > 1.5541722351034912)\n",
      "        If (feature 10 <= 7.3882660114381355)\n",
      "         Predict: 0.41667570788998987\n",
      "        Else (feature 10 > 7.3882660114381355)\n",
      "         Predict: -0.7532144117914124\n",
      "      Else (feature 8 > 18.784260783452666)\n",
      "       If (feature 6 <= 3.1843310443435913)\n",
      "        If (feature 5 <= 2.8971056469961676)\n",
      "         Predict: 0.2398088086219493\n",
      "        Else (feature 5 > 2.8971056469961676)\n",
      "         Predict: 1.3878556186631372\n",
      "       Else (feature 6 > 3.1843310443435913)\n",
      "        If (feature 2 <= 2.5902870585058184)\n",
      "         Predict: -1.3922878735019835\n",
      "        Else (feature 2 > 2.5902870585058184)\n",
      "         Predict: 0.22592549943422746\n",
      "    Else (feature 1 > 3.335666814985391)\n",
      "     If (feature 10 <= 7.3882660114381355)\n",
      "      If (feature 0 <= 4.691567201817019)\n",
      "       Predict: -1.3491246834387791\n",
      "      Else (feature 0 > 4.691567201817019)\n",
      "       If (feature 0 <= 7.328150422672866)\n",
      "        Predict: -3.3498454026581896\n",
      "       Else (feature 0 > 7.328150422672866)\n",
      "        Predict: -3.2035355037869273\n",
      "     Else (feature 10 > 7.3882660114381355)\n",
      "      If (feature 6 <= 1.675502009558198)\n",
      "       If (feature 0 <= 6.397591638841391)\n",
      "        If (feature 1 <= 3.909220384982879)\n",
      "         Predict: 0.2459305001600951\n",
      "        Else (feature 1 > 3.909220384982879)\n",
      "         Predict: -0.154385796787887\n",
      "       Else (feature 0 > 6.397591638841391)\n",
      "        If (feature 4 <= 2.134490632682998)\n",
      "         Predict: -0.8272940011010069\n",
      "        Else (feature 4 > 2.134490632682998)\n",
      "         Predict: -0.1405069949676265\n",
      "      Else (feature 6 > 1.675502009558198)\n",
      "       If (feature 3 <= 0.3581040100384993)\n",
      "        If (feature 5 <= 1.095078211065537)\n",
      "         Predict: -0.2412064352216555\n",
      "        Else (feature 5 > 1.095078211065537)\n",
      "         Predict: -1.3311507046874254\n",
      "       Else (feature 3 > 0.3581040100384993)\n",
      "        If (feature 8 <= 20.217222634263315)\n",
      "         Predict: -0.14133078775313024\n",
      "        Else (feature 8 > 20.217222634263315)\n",
      "         Predict: -0.5318899931717532\n",
      "  Tree 8 (weight 0.1):\n",
      "    If (feature 9 <= 3.819429465007146)\n",
      "     If (feature 6 <= 1.1667108234096353)\n",
      "      If (feature 3 <= 0.3373443572826443)\n",
      "       If (feature 8 <= 20.5910387692574)\n",
      "        If (feature 9 <= 2.3580825392652818)\n",
      "         Predict: -0.9944516277503634\n",
      "        Else (feature 9 > 2.3580825392652818)\n",
      "         Predict: -0.05618942020843681\n",
      "       Else (feature 8 > 20.5910387692574)\n",
      "        If (feature 10 <= 7.944820889889217)\n",
      "         Predict: -0.44615910459381514\n",
      "        Else (feature 10 > 7.944820889889217)\n",
      "         Predict: -1.2736373819099986\n",
      "      Else (feature 3 > 0.3373443572826443)\n",
      "       If (feature 3 <= 0.37886366279435435)\n",
      "        If (feature 9 <= 2.3580825392652818)\n",
      "         Predict: -2.317128772794587\n",
      "        Else (feature 9 > 2.3580825392652818)\n",
      "         Predict: 0.41945747014947277\n",
      "       Else (feature 3 > 0.37886366279435435)\n",
      "        If (feature 9 <= 3.7530046047461525)\n",
      "         Predict: -0.17920933452030915\n",
      "        Else (feature 9 > 3.7530046047461525)\n",
      "         Predict: -0.8480097710341432\n",
      "     Else (feature 6 > 1.1667108234096353)\n",
      "      If (feature 2 <= 0.10361148234023275)\n",
      "       If (feature 8 <= 19.656498431772192)\n",
      "        If (feature 0 <= 4.691567201817019)\n",
      "         Predict: -2.760218482701106\n",
      "        Else (feature 0 > 4.691567201817019)\n",
      "         Predict: -2.1980885584608316\n",
      "       Else (feature 8 > 19.656498431772192)\n",
      "        If (feature 9 <= 2.8230565610922387)\n",
      "         Predict: -0.9760610818050219\n",
      "        Else (feature 9 > 2.8230565610922387)\n",
      "         Predict: -0.11342936145563734\n",
      "      Else (feature 2 > 0.10361148234023275)\n",
      "       If (feature 2 <= 4.248070775949542)\n",
      "        If (feature 0 <= 8.103616075865762)\n",
      "         Predict: 0.010423271578973973\n",
      "        Else (feature 0 > 8.103616075865762)\n",
      "         Predict: -1.5710102055835993\n",
      "       Else (feature 2 > 4.248070775949542)\n",
      "        If (feature 0 <= 7.328150422672866)\n",
      "         Predict: -0.2906515969931904\n",
      "        Else (feature 0 > 7.328150422672866)\n",
      "         Predict: -3.0576630778832303\n",
      "    Else (feature 9 > 3.819429465007146)\n",
      "     If (feature 4 <= 2.728190013959064)\n",
      "      If (feature 10 <= 7.3882660114381355)\n",
      "       If (feature 8 <= 18.597352715955623)\n",
      "        If (feature 4 <= 1.5690626505153165)\n",
      "         Predict: -0.38224217772227526\n",
      "        Else (feature 4 > 1.5690626505153165)\n",
      "         Predict: 1.2198839079650163\n",
      "       Else (feature 8 > 18.597352715955623)\n",
      "        If (feature 1 <= 1.132013624995042)\n",
      "         Predict: 3.3123304690758784\n",
      "        Else (feature 1 > 1.132013624995042)\n",
      "         Predict: 1.14279585768215\n",
      "      Else (feature 10 > 7.3882660114381355)\n",
      "       If (feature 6 <= 3.3203011027108795)\n",
      "        If (feature 0 <= 5.467032855009915)\n",
      "         Predict: 0.23292945391986197\n",
      "        Else (feature 0 > 5.467032855009915)\n",
      "         Predict: 0.032620459136413295\n",
      "       Else (feature 6 > 3.3203011027108795)\n",
      "        If (feature 9 <= 4.151553766312116)\n",
      "         Predict: 0.48837804723829503\n",
      "        Else (feature 9 > 4.151553766312116)\n",
      "         Predict: -0.9925270058725619\n",
      "     Else (feature 4 > 2.728190013959064)\n",
      "      If (feature 9 <= 4.018704045790128)\n",
      "       If (feature 8 <= 21.400973728411245)\n",
      "        If (feature 5 <= 0.8594284694438392)\n",
      "         Predict: 1.0264766369364577\n",
      "        Else (feature 5 > 0.8594284694438392)\n",
      "         Predict: -0.5615910778680582\n",
      "       Else (feature 8 > 21.400973728411245)\n",
      "        If (feature 1 <= 2.4602429449892247)\n",
      "         Predict: -4.460096557467095\n",
      "        Else (feature 1 > 2.4602429449892247)\n",
      "         Predict: -1.2920085096956448\n",
      "      Else (feature 9 > 4.018704045790128)\n",
      "       If (feature 7 <= 329.8139994767736)\n",
      "        If (feature 2 <= 4.248070775949542)\n",
      "         Predict: -0.25158203190872414\n",
      "        Else (feature 2 > 4.248070775949542)\n",
      "         Predict: 0.464967797933738\n",
      "       Else (feature 7 > 329.8139994767736)\n",
      "        If (feature 3 <= 0.3373443572826443)\n",
      "         Predict: -4.088884223787694\n",
      "        Else (feature 3 > 0.3373443572826443)\n",
      "         Predict: -0.6813368394233682\n",
      "  Tree 9 (weight 0.1):\n",
      "    If (feature 10 <= 10.47714558684165)\n",
      "     If (feature 10 <= 9.746667308874603)\n",
      "      If (feature 8 <= 21.650184485073964)\n",
      "       If (feature 0 <= 4.303834375220571)\n",
      "        If (feature 10 <= 7.576103282915376)\n",
      "         Predict: -2.847280186436669\n",
      "        Else (feature 10 > 7.576103282915376)\n",
      "         Predict: -0.31243613741050275\n",
      "       Else (feature 0 > 4.303834375220571)\n",
      "        If (feature 9 <= 2.3580825392652818)\n",
      "         Predict: -0.21091323204142118\n",
      "        Else (feature 9 > 2.3580825392652818)\n",
      "         Predict: 0.04264512968030503\n",
      "      Else (feature 8 > 21.650184485073964)\n",
      "       If (feature 7 <= 328.5381808077482)\n",
      "        If (feature 0 <= 4.614020636497731)\n",
      "         Predict: -0.10927567761745643\n",
      "        Else (feature 0 > 4.614020636497731)\n",
      "         Predict: 0.6903992742356979\n",
      "       Else (feature 7 > 328.5381808077482)\n",
      "        If (feature 5 <= 3.631778370875579)\n",
      "         Predict: -0.3578367150564358\n",
      "        Else (feature 5 > 3.631778370875579)\n",
      "         Predict: -4.699797004785438\n",
      "     Else (feature 10 > 9.746667308874603)\n",
      "      If (feature 5 <= 3.2852346331966116)\n",
      "       If (feature 1 <= 1.9621569499914062)\n",
      "        If (feature 1 <= 0.996171989995637)\n",
      "         Predict: 0.3047896259447067\n",
      "        Else (feature 1 > 0.996171989995637)\n",
      "         Predict: -0.3248435615792269\n",
      "       Else (feature 1 > 1.9621569499914062)\n",
      "        If (feature 9 <= 2.2252328187432937)\n",
      "         Predict: 0.8992171261571105\n",
      "        Else (feature 9 > 2.2252328187432937)\n",
      "         Predict: -0.08612886791280554\n",
      "      Else (feature 5 > 3.2852346331966116)\n",
      "       If (feature 0 <= 4.788500408466132)\n",
      "        If (feature 8 <= 21.400973728411245)\n",
      "         Predict: 2.158310851382806\n",
      "        Else (feature 8 > 21.400973728411245)\n",
      "         Predict: 0.5557464217842503\n",
      "       Else (feature 0 > 4.788500408466132)\n",
      "        If (feature 0 <= 4.846660332455599)\n",
      "         Predict: -0.003479161041191503\n",
      "        Else (feature 0 > 4.846660332455599)\n",
      "         Predict: -1.0703693758975241\n",
      "    Else (feature 10 > 10.47714558684165)\n",
      "     If (feature 2 <= 2.5902870585058184)\n",
      "      If (feature 5 <= 1.2475574556442828)\n",
      "       If (feature 9 <= 2.2252328187432937)\n",
      "        If (feature 5 <= 1.0257694635297436)\n",
      "         Predict: 1.0961718760124506\n",
      "        Else (feature 5 > 1.0257694635297436)\n",
      "         Predict: 3.2805653407871542\n",
      "       Else (feature 9 > 2.2252328187432937)\n",
      "        If (feature 0 <= 6.164951942883523)\n",
      "         Predict: 0.4647652760294486\n",
      "        Else (feature 0 > 6.164951942883523)\n",
      "         Predict: -0.7920355132466114\n",
      "      Else (feature 5 > 1.2475574556442828)\n",
      "       If (feature 4 <= 1.851776641599157)\n",
      "        If (feature 1 <= 2.6111780949885635)\n",
      "         Predict: 0.05619637439462143\n",
      "        Else (feature 1 > 2.6111780949885635)\n",
      "         Predict: 0.7699388391379677\n",
      "       Else (feature 4 > 1.851776641599157)\n",
      "        If (feature 0 <= 5.622125985648495)\n",
      "         Predict: -1.0565238525202414\n",
      "        Else (feature 0 > 5.622125985648495)\n",
      "         Predict: -1.696890870497067\n",
      "     Else (feature 2 > 2.5902870585058184)\n",
      "      If (feature 8 <= 20.65334145842308)\n",
      "       If (feature 4 <= 0.8622776728057143)\n",
      "        If (feature 7 <= 327.6788210824979)\n",
      "         Predict: -1.5155315755586103\n",
      "        Else (feature 7 > 327.6788210824979)\n",
      "         Predict: -3.424758555076612\n",
      "       Else (feature 4 > 0.8622776728057143)\n",
      "        If (feature 4 <= 0.9188204710224825)\n",
      "         Predict: 0.8865516209848044\n",
      "        Else (feature 4 > 0.9188204710224825)\n",
      "         Predict: -0.45726689809728255\n",
      "      Else (feature 8 > 20.65334145842308)\n",
      "       If (feature 9 <= 2.8230565610922387)\n",
      "        If (feature 0 <= 4.846660332455599)\n",
      "         Predict: 2.0241108282229687\n",
      "        Else (feature 0 > 4.846660332455599)\n",
      "         Predict: 4.110673621533163\n",
      "       Else (feature 9 > 2.8230565610922387)\n",
      "        If (feature 0 <= 4.303834375220571)\n",
      "         Predict: -1.4090192578850438\n",
      "        Else (feature 0 > 4.303834375220571)\n",
      "         Predict: 0.20352314952274986\n",
      "  Tree 10 (weight 0.1):\n",
      "    If (feature 3 <= 0.22316626712544163)\n",
      "     If (feature 9 <= 3.2216057226582016)\n",
      "      If (feature 8 <= 21.650184485073964)\n",
      "       If (feature 8 <= 20.5910387692574)\n",
      "        If (feature 8 <= 19.968011877600595)\n",
      "         Predict: -0.23157586988995293\n",
      "        Else (feature 8 > 19.968011877600595)\n",
      "         Predict: -0.9377252152355828\n",
      "       Else (feature 8 > 20.5910387692574)\n",
      "        If (feature 1 <= 1.0716395649953063)\n",
      "         Predict: 2.300089823268463\n",
      "        Else (feature 1 > 1.0716395649953063)\n",
      "         Predict: 0.12112153295818498\n",
      "      Else (feature 8 > 21.650184485073964)\n",
      "       If (feature 6 <= 1.8334027225008556)\n",
      "        If (feature 0 <= 4.458927505859151)\n",
      "         Predict: -2.2557292589614146\n",
      "        Else (feature 0 > 4.458927505859151)\n",
      "         Predict: -2.826590864255607\n",
      "       Else (feature 6 > 1.8334027225008556)\n",
      "        If (feature 0 <= 4.303834375220571)\n",
      "         Predict: -0.13771307419840717\n",
      "        Else (feature 0 > 4.303834375220571)\n",
      "         Predict: -1.3525321099865266\n",
      "     Else (feature 9 > 3.2216057226582016)\n",
      "      If (feature 9 <= 3.420880303441183)\n",
      "       If (feature 6 <= 1.675502009558198)\n",
      "        If (feature 0 <= 5.156846593732757)\n",
      "         Predict: -0.472180797001205\n",
      "        Else (feature 0 > 5.156846593732757)\n",
      "         Predict: 0.969994350453339\n",
      "       Else (feature 6 > 1.675502009558198)\n",
      "        If (feature 2 <= 2.5212127369456634)\n",
      "         Predict: 2.713511275766093\n",
      "        Else (feature 2 > 2.5212127369456634)\n",
      "         Predict: 2.5138463187898212\n",
      "      Else (feature 9 > 3.420880303441183)\n",
      "       If (feature 8 <= 20.40413070176036)\n",
      "        If (feature 7 <= 327.25575167929776)\n",
      "         Predict: 1.5339529898089541\n",
      "        Else (feature 7 > 327.25575167929776)\n",
      "         Predict: -0.506314443242983\n",
      "       Else (feature 8 > 20.40413070176036)\n",
      "        If (feature 5 <= 1.095078211065537)\n",
      "         Predict: -0.47667549510596263\n",
      "        Else (feature 5 > 1.095078211065537)\n",
      "         Predict: 1.1281773107216326\n",
      "    Else (feature 3 > 0.22316626712544163)\n",
      "     If (feature 4 <= 1.2863486594314755)\n",
      "      If (feature 5 <= 0.5821934793006653)\n",
      "       If (feature 3 <= 1.1469708147609905)\n",
      "        If (feature 10 <= 9.447519061707132)\n",
      "         Predict: -0.2047087723899592\n",
      "        Else (feature 10 > 9.447519061707132)\n",
      "         Predict: -1.043652565539256\n",
      "       Else (feature 3 > 1.1469708147609905)\n",
      "        If (feature 7 <= 328.1118061748356)\n",
      "         Predict: 1.7284539288686929\n",
      "        Else (feature 7 > 328.1118061748356)\n",
      "         Predict: -0.12521689570340805\n",
      "      Else (feature 5 > 0.5821934793006653)\n",
      "       If (feature 9 <= 2.2252328187432937)\n",
      "        If (feature 1 <= 2.8073937899877044)\n",
      "         Predict: 0.4735242800353997\n",
      "        Else (feature 1 > 2.8073937899877044)\n",
      "         Predict: -1.420498373367783\n",
      "       Else (feature 9 > 2.2252328187432937)\n",
      "        If (feature 8 <= 18.908866161784026)\n",
      "         Predict: -0.15579737097776045\n",
      "        Else (feature 8 > 18.908866161784026)\n",
      "         Predict: 0.0925485675521984\n",
      "     Else (feature 4 > 1.2863486594314755)\n",
      "      If (feature 9 <= 2.3580825392652818)\n",
      "       If (feature 0 <= 4.924206897774889)\n",
      "        If (feature 8 <= 19.656498431772192)\n",
      "         Predict: -2.052782770046658\n",
      "        Else (feature 8 > 19.656498431772192)\n",
      "         Predict: -0.6684848630166982\n",
      "       Else (feature 0 > 4.924206897774889)\n",
      "        If (feature 6 <= 2.465005574271485)\n",
      "         Predict: -0.5054734632659335\n",
      "        Else (feature 6 > 2.465005574271485)\n",
      "         Predict: 0.7053773725820136\n",
      "      Else (feature 9 > 2.3580825392652818)\n",
      "       If (feature 6 <= 1.7632246278596746)\n",
      "        If (feature 3 <= 0.2750653990150792)\n",
      "         Predict: -0.521067399423262\n",
      "        Else (feature 3 > 0.2750653990150792)\n",
      "         Predict: 0.06112283909566901\n",
      "       Else (feature 6 > 1.7632246278596746)\n",
      "        If (feature 10 <= 8.710083847759474)\n",
      "         Predict: -0.029487856468176924\n",
      "        Else (feature 10 > 8.710083847759474)\n",
      "         Predict: -0.3007728820805777\n",
      "  Tree 11 (weight 0.1):\n",
      "    If (feature 2 <= 2.5212127369456634)\n",
      "     If (feature 2 <= 1.8304695213441118)\n",
      "      If (feature 1 <= 1.5244450149933235)\n",
      "       If (feature 10 <= 8.362237048727518)\n",
      "        If (feature 6 <= 2.201837719367056)\n",
      "         Predict: -0.12090127011866235\n",
      "        Else (feature 6 > 2.201837719367056)\n",
      "         Predict: -0.7767186309353141\n",
      "       Else (feature 10 > 8.362237048727518)\n",
      "        If (feature 0 <= 5.622125985648495)\n",
      "         Predict: -0.08394100525828292\n",
      "        Else (feature 0 > 5.622125985648495)\n",
      "         Predict: 1.090674155790536\n",
      "      Else (feature 1 > 1.5244450149933235)\n",
      "       If (feature 9 <= 3.354455443180189)\n",
      "        If (feature 6 <= 1.675502009558198)\n",
      "         Predict: -0.34336266190911363\n",
      "        Else (feature 6 > 1.675502009558198)\n",
      "         Predict: 0.0022967319207232093\n",
      "       Else (feature 9 > 3.354455443180189)\n",
      "        If (feature 8 <= 18.597352715955623)\n",
      "         Predict: 1.1564410766240203\n",
      "        Else (feature 8 > 18.597352715955623)\n",
      "         Predict: 0.03030836270192962\n",
      "     Else (feature 2 > 1.8304695213441118)\n",
      "      If (feature 6 <= 0.2543955930742814)\n",
      "       If (feature 10 <= 8.362237048727518)\n",
      "        If (feature 0 <= 5.622125985648495)\n",
      "         Predict: 2.8209540996747773\n",
      "        Else (feature 0 > 5.622125985648495)\n",
      "         Predict: 2.1957675465569313\n",
      "       Else (feature 10 > 8.362237048727518)\n",
      "        If (feature 3 <= 0.3581040100384993)\n",
      "         Predict: -0.3210024465454753\n",
      "        Else (feature 3 > 0.3581040100384993)\n",
      "         Predict: 1.214403696521281\n",
      "      Else (feature 6 > 0.2543955930742814)\n",
      "       If (feature 3 <= 1.8527990084600616)\n",
      "        If (feature 9 <= 3.4873051637021772)\n",
      "         Predict: -0.06108649153182222\n",
      "        Else (feature 9 > 3.4873051637021772)\n",
      "         Predict: 0.1720724690431232\n",
      "       Else (feature 3 > 1.8527990084600616)\n",
      "        If (feature 8 <= 19.905709188434912)\n",
      "         Predict: 0.4089128509603648\n",
      "        Else (feature 8 > 19.905709188434912)\n",
      "         Predict: -0.22469737067110945\n",
      "    Else (feature 2 > 2.5212127369456634)\n",
      "     If (feature 2 <= 2.5902870585058184)\n",
      "      If (feature 5 <= 1.192110457615648)\n",
      "       If (feature 4 <= 1.7104196460572365)\n",
      "        If (feature 8 <= 18.784260783452666)\n",
      "         Predict: 1.0399499172204063\n",
      "        Else (feature 8 > 18.784260783452666)\n",
      "         Predict: -1.3361549270555007\n",
      "       Else (feature 4 > 1.7104196460572365)\n",
      "        If (feature 1 <= 1.615006104992927)\n",
      "         Predict: 0.7905461711821595\n",
      "        Else (feature 1 > 1.615006104992927)\n",
      "         Predict: -0.26168262002228043\n",
      "      Else (feature 5 > 1.192110457615648)\n",
      "       If (feature 0 <= 4.691567201817019)\n",
      "        If (feature 0 <= 4.458927505859151)\n",
      "         Predict: -1.3474552296706666\n",
      "        Else (feature 0 > 4.458927505859151)\n",
      "         Predict: -2.9437002816392415\n",
      "       Else (feature 0 > 4.691567201817019)\n",
      "        If (feature 0 <= 5.079300028413467)\n",
      "         Predict: 0.7784998446952955\n",
      "        Else (feature 0 > 5.079300028413467)\n",
      "         Predict: -0.17748153697337463\n",
      "     Else (feature 2 > 2.5902870585058184)\n",
      "      If (feature 1 <= 3.335666814985391)\n",
      "       If (feature 1 <= 3.048890029986647)\n",
      "        If (feature 10 <= 9.447519061707132)\n",
      "         Predict: 0.010971607092445362\n",
      "        Else (feature 10 > 9.447519061707132)\n",
      "         Predict: -0.1607540182854402\n",
      "       Else (feature 1 > 3.048890029986647)\n",
      "        If (feature 0 <= 5.467032855009915)\n",
      "         Predict: 2.2062318320438496\n",
      "        Else (feature 0 > 5.467032855009915)\n",
      "         Predict: 0.16158195764137895\n",
      "      Else (feature 1 > 3.335666814985391)\n",
      "       If (feature 10 <= 7.576103282915376)\n",
      "        If (feature 0 <= 6.320045073522101)\n",
      "         Predict: 0.09211577931637294\n",
      "        Else (feature 0 > 6.320045073522101)\n",
      "         Predict: -3.0835433770767344\n",
      "       Else (feature 10 > 7.576103282915376)\n",
      "        If (feature 3 <= 0.25430574625922414)\n",
      "         Predict: 1.6148435925919529\n",
      "        Else (feature 3 > 0.25430574625922414)\n",
      "         Predict: -0.31703875042686663\n",
      "  Tree 12 (weight 0.1):\n",
      "    If (feature 8 <= 18.28583927012722)\n",
      "     If (feature 0 <= 4.788500408466132)\n",
      "      If (feature 2 <= 2.1067668075847323)\n",
      "       Predict: -0.8830796069010507\n",
      "      Else (feature 2 > 2.1067668075847323)\n",
      "       If (feature 0 <= 4.691567201817019)\n",
      "        Predict: -3.263934562307801\n",
      "       Else (feature 0 > 4.691567201817019)\n",
      "        Predict: -2.087625874186571\n",
      "     Else (feature 0 > 4.788500408466132)\n",
      "      If (feature 10 <= 8.779653207565831)\n",
      "       If (feature 7 <= 329.8139994767736)\n",
      "        If (feature 1 <= 1.132013624995042)\n",
      "         Predict: -0.45100846851161525\n",
      "        Else (feature 1 > 1.132013624995042)\n",
      "         Predict: 0.6295325495507132\n",
      "       Else (feature 7 > 329.8139994767736)\n",
      "        If (feature 5 <= 2.02381542804517)\n",
      "         Predict: -0.7386600656202392\n",
      "        Else (feature 5 > 2.02381542804517)\n",
      "         Predict: 0.22996415651770394\n",
      "      Else (feature 10 > 8.779653207565831)\n",
      "       If (feature 6 <= 2.9387077130994577)\n",
      "        If (feature 7 <= 327.8804400949605)\n",
      "         Predict: -0.12731563434856846\n",
      "        Else (feature 7 > 327.8804400949605)\n",
      "         Predict: -1.2150247555130513\n",
      "       Else (feature 6 > 2.9387077130994577)\n",
      "        Predict: -5.683679094312744\n",
      "    Else (feature 8 > 18.28583927012722)\n",
      "     If (feature 1 <= 4.4223998949806305)\n",
      "      If (feature 6 <= 2.833440571137686)\n",
      "       If (feature 5 <= 2.02381542804517)\n",
      "        If (feature 2 <= 2.383064093825353)\n",
      "         Predict: 0.05010735904575289\n",
      "        Else (feature 2 > 2.383064093825353)\n",
      "         Predict: -0.0757351090538827\n",
      "       Else (feature 5 > 2.02381542804517)\n",
      "        If (feature 9 <= 3.6201548842241653)\n",
      "         Predict: 0.058500263430656556\n",
      "        Else (feature 9 > 3.6201548842241653)\n",
      "         Predict: 0.3154427020830836\n",
      "      Else (feature 6 > 2.833440571137686)\n",
      "       If (feature 8 <= 21.02715759341716)\n",
      "        If (feature 8 <= 20.902552215085798)\n",
      "         Predict: -0.043198529263056736\n",
      "        Else (feature 8 > 20.902552215085798)\n",
      "         Predict: 0.8827725995637825\n",
      "       Else (feature 8 > 21.02715759341716)\n",
      "        If (feature 10 <= 7.576103282915376)\n",
      "         Predict: -2.2418479569235443\n",
      "        Else (feature 10 > 7.576103282915376)\n",
      "         Predict: -0.27475787780420197\n",
      "     Else (feature 1 > 4.4223998949806305)\n",
      "      If (feature 10 <= 9.531002293474794)\n",
      "       If (feature 10 <= 9.113586134636481)\n",
      "        If (feature 4 <= 1.7104196460572365)\n",
      "         Predict: -1.0083886383699112\n",
      "        Else (feature 4 > 1.7104196460572365)\n",
      "         Predict: -0.09752567479284593\n",
      "       Else (feature 10 > 9.113586134636481)\n",
      "        If (feature 4 <= 1.851776641599157)\n",
      "         Predict: -0.07539144644303011\n",
      "        Else (feature 4 > 1.851776641599157)\n",
      "         Predict: -1.7702258133851474\n",
      "      Else (feature 10 > 9.531002293474794)\n",
      "       If (feature 4 <= 1.1167202647811711)\n",
      "        If (feature 0 <= 4.614020636497731)\n",
      "         Predict: -1.0345249207836158\n",
      "        Else (feature 0 > 4.614020636497731)\n",
      "         Predict: -1.626288114144252\n",
      "       Else (feature 4 > 1.1167202647811711)\n",
      "        If (feature 5 <= 1.0257694635297436)\n",
      "         Predict: 0.7164587528178582\n",
      "        Else (feature 5 > 1.0257694635297436)\n",
      "         Predict: -0.2716198318407702\n",
      "  Tree 13 (weight 0.1):\n",
      "    If (feature 1 <= 3.335666814985391)\n",
      "     If (feature 8 <= 19.033471540115386)\n",
      "      If (feature 9 <= 5.679325552314974)\n",
      "       If (feature 6 <= 0.3772072586963483)\n",
      "        If (feature 1 <= 2.097998584990811)\n",
      "         Predict: 1.0337385384183047\n",
      "        Else (feature 1 > 2.097998584990811)\n",
      "         Predict: 0.09073133070721262\n",
      "       Else (feature 6 > 0.3772072586963483)\n",
      "        If (feature 5 <= 0.29109673965033267)\n",
      "         Predict: -1.1234633711193305\n",
      "        Else (feature 5 > 0.29109673965033267)\n",
      "         Predict: -0.06038252797120416\n",
      "      Else (feature 9 > 5.679325552314974)\n",
      "       If (feature 5 <= 0.5821934793006653)\n",
      "        If (feature 1 <= 2.1885596749904144)\n",
      "         Predict: -0.8706805455964126\n",
      "        Else (feature 1 > 2.1885596749904144)\n",
      "         Predict: -2.2338208233029184\n",
      "       Else (feature 5 > 0.5821934793006653)\n",
      "        If (feature 3 <= 0.39962331555020936)\n",
      "         Predict: 0.7467801066135804\n",
      "        Else (feature 3 > 0.39962331555020936)\n",
      "         Predict: -0.6363858518687995\n",
      "     Else (feature 8 > 19.033471540115386)\n",
      "      If (feature 8 <= 19.531893053440832)\n",
      "       If (feature 2 <= 1.4160235919831807)\n",
      "        If (feature 5 <= 0.47129948324339577)\n",
      "         Predict: 1.3255037978913446\n",
      "        Else (feature 5 > 0.47129948324339577)\n",
      "         Predict: -0.486501409810856\n",
      "       Else (feature 2 > 1.4160235919831807)\n",
      "        If (feature 3 <= 0.42038296830606436)\n",
      "         Predict: -0.05698839147182423\n",
      "        Else (feature 3 > 0.42038296830606436)\n",
      "         Predict: 0.22399561447458632\n",
      "      Else (feature 8 > 19.531893053440832)\n",
      "       If (feature 9 <= 4.8158023689220535)\n",
      "        If (feature 4 <= 1.3711628567566279)\n",
      "         Predict: 0.041370504034039204\n",
      "        Else (feature 4 > 1.3711628567566279)\n",
      "         Predict: -0.09294078691214326\n",
      "       Else (feature 9 > 4.8158023689220535)\n",
      "        If (feature 6 <= 3.1843310443435913)\n",
      "         Predict: 0.2097479641475348\n",
      "        Else (feature 6 > 3.1843310443435913)\n",
      "         Predict: -0.716438271783701\n",
      "    Else (feature 1 > 3.335666814985391)\n",
      "     If (feature 6 <= 1.675502009558198)\n",
      "      If (feature 0 <= 4.924206897774889)\n",
      "       If (feature 10 <= 9.447519061707132)\n",
      "        If (feature 5 <= 0.9148754674724742)\n",
      "         Predict: -0.4511483774138583\n",
      "        Else (feature 5 > 0.9148754674724742)\n",
      "         Predict: -1.3967400718622636\n",
      "       Else (feature 10 > 9.447519061707132)\n",
      "        If (feature 0 <= 4.846660332455599)\n",
      "         Predict: 0.28097327068635003\n",
      "        Else (feature 0 > 4.846660332455599)\n",
      "         Predict: -2.5675358300093745\n",
      "      Else (feature 0 > 4.924206897774889)\n",
      "       If (feature 7 <= 329.5297497214985)\n",
      "        If (feature 0 <= 6.397591638841391)\n",
      "         Predict: 0.18192076431411552\n",
      "        Else (feature 0 > 6.397591638841391)\n",
      "         Predict: -0.42594950286694927\n",
      "       Else (feature 7 > 329.5297497214985)\n",
      "        If (feature 3 <= 0.4619022738177745)\n",
      "         Predict: -0.35850188834098756\n",
      "        Else (feature 3 > 0.4619022738177745)\n",
      "         Predict: -0.016668442632975313\n",
      "     Else (feature 6 > 1.675502009558198)\n",
      "      If (feature 3 <= 2.314701282277836)\n",
      "       If (feature 6 <= 3.7633003251333355)\n",
      "        If (feature 8 <= 18.784260783452666)\n",
      "         Predict: 0.9308775315529711\n",
      "        Else (feature 8 > 18.784260783452666)\n",
      "         Predict: -0.38305442920466687\n",
      "       Else (feature 6 > 3.7633003251333355)\n",
      "        If (feature 2 <= 1.4160235919831807)\n",
      "         Predict: -0.06380813040272315\n",
      "        Else (feature 2 > 1.4160235919831807)\n",
      "         Predict: -2.725052715120184\n",
      "      Else (feature 3 > 2.314701282277836)\n",
      "       If (feature 0 <= 4.924206897774889)\n",
      "        Predict: 1.9988383526690487\n",
      "       Else (feature 0 > 4.924206897774889)\n",
      "        If (feature 5 <= 2.8971056469961676)\n",
      "         Predict: 0.25683662693689235\n",
      "        Else (feature 5 > 2.8971056469961676)\n",
      "         Predict: -1.2061562115401543\n",
      "  Tree 14 (weight 0.1):\n",
      "    If (feature 5 <= 0.29109673965033267)\n",
      "     If (feature 0 <= 5.932312246925653)\n",
      "      If (feature 3 <= 0.39962331555020936)\n",
      "       If (feature 6 <= 2.201837719367056)\n",
      "        If (feature 3 <= 0.3373443572826443)\n",
      "         Predict: -0.530101332440451\n",
      "        Else (feature 3 > 0.3373443572826443)\n",
      "         Predict: 0.16225306685089266\n",
      "       Else (feature 6 > 2.201837719367056)\n",
      "        Predict: 2.113892237359062\n",
      "      Else (feature 3 > 0.39962331555020936)\n",
      "       If (feature 1 <= 1.4640709549935877)\n",
      "        If (feature 4 <= 0.8622776728057143)\n",
      "         Predict: -3.779040442140893\n",
      "        Else (feature 4 > 0.8622776728057143)\n",
      "         Predict: -2.600855394561167\n",
      "       Else (feature 1 > 1.4640709549935877)\n",
      "        If (feature 0 <= 4.846660332455599)\n",
      "         Predict: 1.2110193683292423\n",
      "        Else (feature 0 > 4.846660332455599)\n",
      "         Predict: -0.9240320609134213\n",
      "     Else (feature 0 > 5.932312246925653)\n",
      "      If (feature 3 <= 0.2958250517709342)\n",
      "       If (feature 8 <= 19.531893053440832)\n",
      "        If (feature 0 <= 6.862871030757129)\n",
      "         Predict: -1.0971212713155563\n",
      "        Else (feature 0 > 6.862871030757129)\n",
      "         Predict: -2.01019864206584\n",
      "       Else (feature 8 > 19.531893053440832)\n",
      "        If (feature 1 <= 1.6753801649926623)\n",
      "         Predict: -0.18979631230008742\n",
      "        Else (feature 1 > 1.6753801649926623)\n",
      "         Predict: 0.11765447497931447\n",
      "      Else (feature 3 > 0.2958250517709342)\n",
      "       If (feature 7 <= 328.8687037789983)\n",
      "        If (feature 10 <= 9.951201226705376)\n",
      "         Predict: 1.078651408949404\n",
      "        Else (feature 10 > 9.951201226705376)\n",
      "         Predict: 0.09354874478041139\n",
      "       Else (feature 7 > 328.8687037789983)\n",
      "        If (feature 4 <= 2.247576229116534)\n",
      "         Predict: -0.3174507166741316\n",
      "        Else (feature 4 > 2.247576229116534)\n",
      "         Predict: 0.22501653258129933\n",
      "    Else (feature 5 > 0.29109673965033267)\n",
      "     If (feature 6 <= 0.3772072586963483)\n",
      "      If (feature 9 <= 4.550102927878079)\n",
      "       If (feature 0 <= 4.846660332455599)\n",
      "        If (feature 1 <= 3.6073500849842004)\n",
      "         Predict: 0.5446246752130968\n",
      "        Else (feature 1 > 3.6073500849842004)\n",
      "         Predict: -1.1181885066972768\n",
      "       Else (feature 0 > 4.846660332455599)\n",
      "        If (feature 9 <= 3.7530046047461525)\n",
      "         Predict: 0.22989056478030556\n",
      "        Else (feature 9 > 3.7530046047461525)\n",
      "         Predict: 0.6969856086519371\n",
      "      Else (feature 9 > 4.550102927878079)\n",
      "       If (feature 10 <= 9.531002293474794)\n",
      "        If (feature 2 <= 2.866584344746439)\n",
      "         Predict: -0.8757921440402748\n",
      "        Else (feature 2 > 2.866584344746439)\n",
      "         Predict: 0.1192536385879303\n",
      "       Else (feature 10 > 9.531002293474794)\n",
      "        If (feature 8 <= 20.030314566766272)\n",
      "         Predict: 1.0445682061445363\n",
      "        Else (feature 8 > 20.030314566766272)\n",
      "         Predict: 0.031818690933538285\n",
      "     Else (feature 6 > 0.3772072586963483)\n",
      "      If (feature 4 <= 1.399434255865012)\n",
      "       If (feature 2 <= 4.248070775949542)\n",
      "        If (feature 3 <= 1.8527990084600616)\n",
      "         Predict: 0.003526473830159027\n",
      "        Else (feature 3 > 1.8527990084600616)\n",
      "         Predict: 0.15661130761838646\n",
      "       Else (feature 2 > 4.248070775949542)\n",
      "        If (feature 7 <= 329.71980042996734)\n",
      "         Predict: 0.019593928724478935\n",
      "        Else (feature 7 > 329.71980042996734)\n",
      "         Predict: -0.8542723081846797\n",
      "      Else (feature 4 > 1.399434255865012)\n",
      "       If (feature 9 <= 2.3580825392652818)\n",
      "        If (feature 0 <= 5.079300028413467)\n",
      "         Predict: -1.383217868785133\n",
      "        Else (feature 0 > 5.079300028413467)\n",
      "         Predict: -0.19002886120150514\n",
      "       Else (feature 9 > 2.3580825392652818)\n",
      "        If (feature 9 <= 2.5573571200482634)\n",
      "         Predict: 0.2895771342390996\n",
      "        Else (feature 9 > 2.5573571200482634)\n",
      "         Predict: -0.05244792715473946\n",
      "  Tree 15 (weight 0.1):\n",
      "    If (feature 6 <= 1.7632246278596746)\n",
      "     If (feature 6 <= 1.675502009558198)\n",
      "      If (feature 9 <= 3.819429465007146)\n",
      "       If (feature 3 <= 3.0205294759769075)\n",
      "        If (feature 3 <= 1.697101612791149)\n",
      "         Predict: -0.043794261751807805\n",
      "        Else (feature 3 > 1.697101612791149)\n",
      "         Predict: -0.5272201885209702\n",
      "       Else (feature 3 > 3.0205294759769075)\n",
      "        If (feature 0 <= 5.467032855009915)\n",
      "         Predict: 0.8114756654696198\n",
      "        Else (feature 0 > 5.467032855009915)\n",
      "         Predict: 1.5397021868301444\n",
      "      Else (feature 9 > 3.819429465007146)\n",
      "       If (feature 4 <= 2.728190013959064)\n",
      "        If (feature 1 <= 2.4602429449892247)\n",
      "         Predict: 0.2719442023616653\n",
      "        Else (feature 1 > 2.4602429449892247)\n",
      "         Predict: 0.058780180211864104\n",
      "       Else (feature 4 > 2.728190013959064)\n",
      "        If (feature 9 <= 4.018704045790128)\n",
      "         Predict: 0.42051335484499613\n",
      "        Else (feature 9 > 4.018704045790128)\n",
      "         Predict: -0.3261536682172518\n",
      "     Else (feature 6 > 1.675502009558198)\n",
      "      If (feature 3 <= 2.5430574625922415)\n",
      "       If (feature 3 <= 2.314701282277836)\n",
      "        If (feature 3 <= 2.0915350151523944)\n",
      "         Predict: 0.22339822262585396\n",
      "        Else (feature 3 > 2.0915350151523944)\n",
      "         Predict: 1.9278098841918592\n",
      "       Else (feature 3 > 2.314701282277836)\n",
      "        If (feature 2 <= 1.8995438429042673)\n",
      "         Predict: -1.563645616330422\n",
      "        Else (feature 2 > 1.8995438429042673)\n",
      "         Predict: 0.3540572147810872\n",
      "      Else (feature 3 > 2.5430574625922415)\n",
      "       Predict: 3.4515056602817893\n",
      "    Else (feature 6 > 1.7632246278596746)\n",
      "     If (feature 6 <= 1.8334027225008556)\n",
      "      If (feature 1 <= 1.615006104992927)\n",
      "       If (feature 4 <= 1.060177466564403)\n",
      "        If (feature 7 <= 327.4144027054978)\n",
      "         Predict: -1.1846535755848167\n",
      "        Else (feature 7 > 327.4144027054978)\n",
      "         Predict: 0.32867371705050036\n",
      "       Else (feature 4 > 1.060177466564403)\n",
      "        If (feature 3 <= 0.4411426210619194)\n",
      "         Predict: -1.3950810833981535\n",
      "        Else (feature 3 > 0.4411426210619194)\n",
      "         Predict: -0.5406568447204276\n",
      "      Else (feature 1 > 1.615006104992927)\n",
      "       If (feature 10 <= 9.308380342094374)\n",
      "        If (feature 1 <= 2.6111780949885635)\n",
      "         Predict: 0.924344218531287\n",
      "        Else (feature 1 > 2.6111780949885635)\n",
      "         Predict: -0.5986449874360731\n",
      "       Else (feature 10 > 9.308380342094374)\n",
      "        If (feature 4 <= 0.9188204710224825)\n",
      "         Predict: -0.8412301778595979\n",
      "        Else (feature 4 > 0.9188204710224825)\n",
      "         Predict: -8.687619775097725E-5\n",
      "     Else (feature 6 > 1.8334027225008556)\n",
      "      If (feature 4 <= 1.7104196460572365)\n",
      "       If (feature 2 <= 2.037692486024577)\n",
      "        If (feature 2 <= 1.8304695213441118)\n",
      "         Predict: -0.008147108904549042\n",
      "        Else (feature 2 > 1.8304695213441118)\n",
      "         Predict: 0.29561536994019677\n",
      "       Else (feature 2 > 2.037692486024577)\n",
      "        If (feature 5 <= 0.9148754674724742)\n",
      "         Predict: -0.42011956930387206\n",
      "        Else (feature 5 > 0.9148754674724742)\n",
      "         Predict: -0.009935167106250557\n",
      "      Else (feature 4 > 1.7104196460572365)\n",
      "       If (feature 8 <= 20.65334145842308)\n",
      "        If (feature 0 <= 5.777219116287075)\n",
      "         Predict: 0.058353227840745446\n",
      "        Else (feature 0 > 5.777219116287075)\n",
      "         Predict: -0.45479377271212984\n",
      "       Else (feature 8 > 20.65334145842308)\n",
      "        If (feature 1 <= 1.313135804994249)\n",
      "         Predict: -2.042043854813911\n",
      "        Else (feature 1 > 1.313135804994249)\n",
      "         Predict: -0.5916838452969143\n",
      "  Tree 16 (weight 0.1):\n",
      "    If (feature 3 <= 3.0205294759769075)\n",
      "     If (feature 3 <= 2.750653990150792)\n",
      "      If (feature 6 <= 2.9387077130994577)\n",
      "       If (feature 10 <= 10.47714558684165)\n",
      "        If (feature 10 <= 9.746667308874603)\n",
      "         Predict: 0.025917836821310887\n",
      "        Else (feature 10 > 9.746667308874603)\n",
      "         Predict: -0.13252728944373252\n",
      "       Else (feature 10 > 10.47714558684165)\n",
      "        If (feature 9 <= 2.6902068405702506)\n",
      "         Predict: 0.41421216930326094\n",
      "        Else (feature 9 > 2.6902068405702506)\n",
      "         Predict: 0.025985533879605473\n",
      "      Else (feature 6 > 2.9387077130994577)\n",
      "       If (feature 9 <= 5.679325552314974)\n",
      "        If (feature 1 <= 1.826315314992001)\n",
      "         Predict: -0.1863416769732192\n",
      "        Else (feature 1 > 1.826315314992001)\n",
      "         Predict: 0.030699518701844522\n",
      "       Else (feature 9 > 5.679325552314974)\n",
      "        If (feature 2 <= 1.968618164464422)\n",
      "         Predict: 0.8725115596483022\n",
      "        Else (feature 2 > 1.968618164464422)\n",
      "         Predict: 2.0648884866163346\n",
      "     Else (feature 3 > 2.750653990150792)\n",
      "      If (feature 4 <= 1.3428914576482436)\n",
      "       If (feature 8 <= 20.154919945097635)\n",
      "        If (feature 0 <= 6.397591638841391)\n",
      "         Predict: -0.3691168800676109\n",
      "        Else (feature 0 > 6.397591638841391)\n",
      "         Predict: 1.456683046906915\n",
      "       Else (feature 8 > 20.154919945097635)\n",
      "        If (feature 7 <= 328.8687037789983)\n",
      "         Predict: -1.3023425571883394\n",
      "        Else (feature 7 > 328.8687037789983)\n",
      "         Predict: 1.319225143872596\n",
      "      Else (feature 4 > 1.3428914576482436)\n",
      "       If (feature 6 <= 3.5176769938892014)\n",
      "        If (feature 9 <= 3.354455443180189)\n",
      "         Predict: 0.2258100068809304\n",
      "        Else (feature 9 > 3.354455443180189)\n",
      "         Predict: 1.125107114696927\n",
      "       Else (feature 6 > 3.5176769938892014)\n",
      "        If (feature 10 <= 7.576103282915376)\n",
      "         Predict: 2.0203897990097546\n",
      "        Else (feature 10 > 7.576103282915376)\n",
      "         Predict: 0.38237622520213793\n",
      "    Else (feature 3 > 3.0205294759769075)\n",
      "     If (feature 4 <= 1.6256054487320846)\n",
      "      If (feature 1 <= 1.313135804994249)\n",
      "       If (feature 4 <= 1.144991663889555)\n",
      "        If (feature 2 <= 2.037692486024577)\n",
      "         Predict: -2.766446556599183\n",
      "        Else (feature 2 > 2.037692486024577)\n",
      "         Predict: -1.6565264708170204\n",
      "       Else (feature 4 > 1.144991663889555)\n",
      "        If (feature 6 <= 3.3203011027108795)\n",
      "         Predict: -0.4023074753116296\n",
      "        Else (feature 6 > 3.3203011027108795)\n",
      "         Predict: 0.45193893194432544\n",
      "      Else (feature 1 > 1.313135804994249)\n",
      "       If (feature 4 <= 0.7209206772637939)\n",
      "        Predict: 2.4924679080297505\n",
      "       Else (feature 4 > 0.7209206772637939)\n",
      "        If (feature 6 <= 2.289560337668533)\n",
      "         Predict: 0.3729185183327466\n",
      "        Else (feature 6 > 2.289560337668533)\n",
      "         Predict: -0.060764561653159806\n",
      "     Else (feature 4 > 1.6256054487320846)\n",
      "      If (feature 7 <= 329.618990923736)\n",
      "       If (feature 0 <= 4.788500408466132)\n",
      "        If (feature 2 <= 1.968618164464422)\n",
      "         Predict: -1.174701803327375\n",
      "        Else (feature 2 > 1.968618164464422)\n",
      "         Predict: -2.5048687289827836\n",
      "       Else (feature 0 > 4.788500408466132)\n",
      "        Predict: -4.869491297345242\n",
      "      Else (feature 7 > 329.618990923736)\n",
      "       If (feature 5 <= 2.3149121676955025)\n",
      "        If (feature 6 <= 2.833440571137686)\n",
      "         Predict: -0.31625294301202495\n",
      "        Else (feature 6 > 2.833440571137686)\n",
      "         Predict: -2.287344476462597\n",
      "       Else (feature 5 > 2.3149121676955025)\n",
      "        If (feature 6 <= 3.0615193787215245)\n",
      "         Predict: 0.9230437078430234\n",
      "        Else (feature 6 > 3.0615193787215245)\n",
      "         Predict: -0.30231388370958256\n",
      "  Tree 17 (weight 0.1):\n",
      "    If (feature 7 <= 327.05082743712273)\n",
      "     If (feature 8 <= 21.400973728411245)\n",
      "      If (feature 1 <= 2.339494824989754)\n",
      "       If (feature 2 <= 2.935658666306594)\n",
      "        If (feature 3 <= 0.3373443572826443)\n",
      "         Predict: 0.29504276469793844\n",
      "        Else (feature 3 > 0.3373443572826443)\n",
      "         Predict: -0.2406788125523591\n",
      "       Else (feature 2 > 2.935658666306594)\n",
      "        If (feature 0 <= 4.691567201817019)\n",
      "         Predict: -3.404071611420555\n",
      "        Else (feature 0 > 4.691567201817019)\n",
      "         Predict: -0.9752709655108376\n",
      "      Else (feature 1 > 2.339494824989754)\n",
      "       If (feature 9 <= 2.2252328187432937)\n",
      "        If (feature 2 <= 0.5180574117011638)\n",
      "         Predict: 2.146070147908034\n",
      "        Else (feature 2 > 0.5180574117011638)\n",
      "         Predict: 2.5329794599228457\n",
      "       Else (feature 9 > 2.2252328187432937)\n",
      "        If (feature 5 <= 1.9129214319879004)\n",
      "         Predict: 0.6637028511779299\n",
      "        Else (feature 5 > 1.9129214319879004)\n",
      "         Predict: -1.6322470312329145\n",
      "     Else (feature 8 > 21.400973728411245)\n",
      "      If (feature 3 <= 0.3165847045267892)\n",
      "       Predict: 3.2828242175958504\n",
      "      Else (feature 3 > 0.3165847045267892)\n",
      "       If (feature 1 <= 2.0376245249910756)\n",
      "        If (feature 5 <= 1.691133439873361)\n",
      "         Predict: 1.626584119604713\n",
      "        Else (feature 5 > 1.691133439873361)\n",
      "         Predict: 1.5014030403265242\n",
      "       Else (feature 1 > 2.0376245249910756)\n",
      "        Predict: 2.08039136619211\n",
      "    Else (feature 7 > 327.05082743712273)\n",
      "     If (feature 3 <= 0.22316626712544163)\n",
      "      If (feature 4 <= 1.399434255865012)\n",
      "       If (feature 2 <= 2.452138415385508)\n",
      "        If (feature 9 <= 3.4873051637021772)\n",
      "         Predict: -0.6264170254020043\n",
      "        Else (feature 9 > 3.4873051637021772)\n",
      "         Predict: 0.13153504739154917\n",
      "       Else (feature 2 > 2.452138415385508)\n",
      "        If (feature 4 <= 1.144991663889555)\n",
      "         Predict: 0.5622632714156542\n",
      "        Else (feature 4 > 1.144991663889555)\n",
      "         Predict: -0.7033329955952602\n",
      "      Else (feature 4 > 1.399434255865012)\n",
      "       If (feature 4 <= 1.6256054487320846)\n",
      "        If (feature 1 <= 1.4640709549935877)\n",
      "         Predict: 0.6824642141224458\n",
      "        Else (feature 1 > 1.4640709549935877)\n",
      "         Predict: 1.6969916872236912\n",
      "       Else (feature 4 > 1.6256054487320846)\n",
      "        If (feature 9 <= 2.8230565610922387)\n",
      "         Predict: -0.9965653986428231\n",
      "        Else (feature 9 > 2.8230565610922387)\n",
      "         Predict: 0.07213453849040477\n",
      "     Else (feature 3 > 0.22316626712544163)\n",
      "      If (feature 10 <= 9.447519061707132)\n",
      "       If (feature 4 <= 1.0036346683476347)\n",
      "        If (feature 7 <= 327.78293581844173)\n",
      "         Predict: 0.8119076831729369\n",
      "        Else (feature 7 > 327.78293581844173)\n",
      "         Predict: 0.0883507207564854\n",
      "       Else (feature 4 > 1.0036346683476347)\n",
      "        If (feature 10 <= 9.113586134636481)\n",
      "         Predict: 0.014231124763715061\n",
      "        Else (feature 10 > 9.113586134636481)\n",
      "         Predict: -0.18518610405776742\n",
      "      Else (feature 10 > 9.447519061707132)\n",
      "       If (feature 6 <= 3.3203011027108795)\n",
      "        If (feature 3 <= 3.394203225582298)\n",
      "         Predict: -0.03971532471440131\n",
      "        Else (feature 3 > 3.394203225582298)\n",
      "         Predict: -1.1669082758073361\n",
      "       Else (feature 6 > 3.3203011027108795)\n",
      "        If (feature 7 <= 327.8804400949605)\n",
      "         Predict: -1.4399881439028344\n",
      "        Else (feature 7 > 327.8804400949605)\n",
      "         Predict: -0.2986344887875891\n",
      "  Tree 18 (weight 0.1):\n",
      "    If (feature 1 <= 1.313135804994249)\n",
      "     If (feature 1 <= 1.1772941699948438)\n",
      "      If (feature 10 <= 8.362237048727518)\n",
      "       If (feature 10 <= 7.3882660114381355)\n",
      "        If (feature 1 <= 0.996171989995637)\n",
      "         Predict: -0.2143809177687491\n",
      "        Else (feature 1 > 0.996171989995637)\n",
      "         Predict: 1.2252132507971574\n",
      "       Else (feature 10 > 7.3882660114381355)\n",
      "        If (feature 9 <= 5.679325552314974)\n",
      "         Predict: -0.3745208597105702\n",
      "        Else (feature 9 > 5.679325552314974)\n",
      "         Predict: 1.4158006542352013\n",
      "      Else (feature 10 > 8.362237048727518)\n",
      "       If (feature 5 <= 1.8574744339592657)\n",
      "        If (feature 4 <= 3.321889395235129)\n",
      "         Predict: 0.3484585572662554\n",
      "        Else (feature 4 > 3.321889395235129)\n",
      "         Predict: 3.346642437570438\n",
      "       Else (feature 5 > 1.8574744339592657)\n",
      "        If (feature 9 <= 3.553730023963171)\n",
      "         Predict: -0.3039545563342577\n",
      "        Else (feature 9 > 3.553730023963171)\n",
      "         Predict: 0.33224480264359146\n",
      "     Else (feature 1 > 1.1772941699948438)\n",
      "      If (feature 9 <= 5.679325552314974)\n",
      "       If (feature 0 <= 4.788500408466132)\n",
      "        If (feature 6 <= 3.3203011027108795)\n",
      "         Predict: -0.47869508043053494\n",
      "        Else (feature 6 > 3.3203011027108795)\n",
      "         Predict: -3.5279326801515594\n",
      "       Else (feature 0 > 4.788500408466132)\n",
      "        If (feature 9 <= 3.354455443180189)\n",
      "         Predict: -0.005138977251856182\n",
      "        Else (feature 9 > 3.354455443180189)\n",
      "         Predict: -0.4341377163061619\n",
      "      Else (feature 9 > 5.679325552314974)\n",
      "       If (feature 0 <= 4.614020636497731)\n",
      "        If (feature 0 <= 4.458927505859151)\n",
      "         Predict: 2.616165113813878\n",
      "        Else (feature 0 > 4.458927505859151)\n",
      "         Predict: 3.198248185098704\n",
      "       Else (feature 0 > 4.614020636497731)\n",
      "        If (feature 0 <= 5.311939724371337)\n",
      "         Predict: -0.34425892260657154\n",
      "        Else (feature 0 > 5.311939724371337)\n",
      "         Predict: 0.7059523126615215\n",
      "    Else (feature 1 > 1.313135804994249)\n",
      "     If (feature 8 <= 20.466433390926035)\n",
      "      If (feature 3 <= 0.25430574625922414)\n",
      "       If (feature 9 <= 3.354455443180189)\n",
      "        If (feature 8 <= 19.656498431772192)\n",
      "         Predict: 0.09989896188520041\n",
      "        Else (feature 8 > 19.656498431772192)\n",
      "         Predict: -0.6414610702887197\n",
      "       Else (feature 9 > 3.354455443180189)\n",
      "        If (feature 1 <= 1.5244450149933235)\n",
      "         Predict: -1.3656631571312143\n",
      "        Else (feature 1 > 1.5244450149933235)\n",
      "         Predict: -0.4383483140455195\n",
      "      Else (feature 3 > 0.25430574625922414)\n",
      "       If (feature 6 <= 0.2543955930742814)\n",
      "        If (feature 3 <= 1.0120330718479327)\n",
      "         Predict: 0.39679852521227754\n",
      "        Else (feature 3 > 1.0120330718479327)\n",
      "         Predict: -2.13941343759922\n",
      "       Else (feature 6 > 0.2543955930742814)\n",
      "        If (feature 9 <= 3.2216057226582016)\n",
      "         Predict: 0.04865305573087993\n",
      "        Else (feature 9 > 3.2216057226582016)\n",
      "         Predict: -0.04426820153958925\n",
      "     Else (feature 8 > 20.466433390926035)\n",
      "      If (feature 7 <= 328.21922614049186)\n",
      "       If (feature 10 <= 9.204026302384797)\n",
      "        If (feature 3 <= 0.3165847045267892)\n",
      "         Predict: 0.2203833772526802\n",
      "        Else (feature 3 > 0.3165847045267892)\n",
      "         Predict: 1.42846175408586\n",
      "       Else (feature 10 > 9.204026302384797)\n",
      "        If (feature 1 <= 2.4602429449892247)\n",
      "         Predict: -0.010520059191703856\n",
      "        Else (feature 1 > 2.4602429449892247)\n",
      "         Predict: 0.5493330349741291\n",
      "      Else (feature 7 > 328.21922614049186)\n",
      "       If (feature 4 <= 1.2580772603230912)\n",
      "        If (feature 5 <= 1.3584514517015525)\n",
      "         Predict: -0.4492889096076676\n",
      "        Else (feature 5 > 1.3584514517015525)\n",
      "         Predict: 0.5373977222820119\n",
      "       Else (feature 4 > 1.2580772603230912)\n",
      "        If (feature 4 <= 1.3428914576482436)\n",
      "         Predict: -0.5470111008501327\n",
      "        Else (feature 4 > 1.3428914576482436)\n",
      "         Predict: -0.012731187561861219\n",
      "  Tree 19 (weight 0.1):\n",
      "    If (feature 5 <= 0.29109673965033267)\n",
      "     If (feature 0 <= 5.932312246925653)\n",
      "      If (feature 6 <= 2.061481530084694)\n",
      "       If (feature 3 <= 0.5553207112191221)\n",
      "        If (feature 10 <= 9.746667308874603)\n",
      "         Predict: -0.44690990259855873\n",
      "        Else (feature 10 > 9.746667308874603)\n",
      "         Predict: 0.3865560875306755\n",
      "       Else (feature 3 > 0.5553207112191221)\n",
      "        If (feature 10 <= 9.746667308874603)\n",
      "         Predict: -0.5434873266292521\n",
      "        Else (feature 10 > 9.746667308874603)\n",
      "         Predict: -2.1026050172751987\n",
      "      Else (feature 6 > 2.061481530084694)\n",
      "       If (feature 0 <= 5.311939724371337)\n",
      "        If (feature 10 <= 7.638715706741123)\n",
      "         Predict: 0.3309494992795958\n",
      "        Else (feature 10 > 7.638715706741123)\n",
      "         Predict: 0.7835741462525814\n",
      "       Else (feature 0 > 5.311939724371337)\n",
      "        Predict: 1.3281815144821199\n",
      "     Else (feature 0 > 5.932312246925653)\n",
      "      If (feature 2 <= 2.728435701626129)\n",
      "       If (feature 0 <= 7.328150422672866)\n",
      "        If (feature 3 <= 0.7369676728328536)\n",
      "         Predict: 0.07179224205448811\n",
      "        Else (feature 3 > 0.7369676728328536)\n",
      "         Predict: 1.2337836920152774\n",
      "       Else (feature 0 > 7.328150422672866)\n",
      "        If (feature 1 <= 1.826315314992001)\n",
      "         Predict: 1.2733938820921153\n",
      "        Else (feature 1 > 1.826315314992001)\n",
      "         Predict: 1.699295731680257\n",
      "      Else (feature 2 > 2.728435701626129)\n",
      "       If (feature 1 <= 3.048890029986647)\n",
      "        If (feature 8 <= 20.40413070176036)\n",
      "         Predict: 0.03171000378025441\n",
      "        Else (feature 8 > 20.40413070176036)\n",
      "         Predict: -0.7589815386044689\n",
      "       Else (feature 1 > 3.048890029986647)\n",
      "        If (feature 3 <= 0.39962331555020936)\n",
      "         Predict: 0.27277135967460353\n",
      "        Else (feature 3 > 0.39962331555020936)\n",
      "         Predict: -1.3135117029625685\n",
      "    Else (feature 5 > 0.29109673965033267)\n",
      "     If (feature 6 <= 0.2543955930742814)\n",
      "      If (feature 10 <= 9.204026302384797)\n",
      "       If (feature 7 <= 328.9546397515233)\n",
      "        If (feature 1 <= 3.048890029986647)\n",
      "         Predict: -2.576333708653314\n",
      "        Else (feature 1 > 3.048890029986647)\n",
      "         Predict: -1.4189573579247696\n",
      "       Else (feature 7 > 328.9546397515233)\n",
      "        If (feature 8 <= 19.968011877600595)\n",
      "         Predict: 1.4138267257909347\n",
      "        Else (feature 8 > 19.968011877600595)\n",
      "         Predict: -0.04182871011241962\n",
      "      Else (feature 10 > 9.204026302384797)\n",
      "       If (feature 9 <= 3.4873051637021772)\n",
      "        If (feature 1 <= 1.8866893749917368)\n",
      "         Predict: -0.044713372986674216\n",
      "        Else (feature 1 > 1.8866893749917368)\n",
      "         Predict: -0.2259394069816132\n",
      "       Else (feature 9 > 3.4873051637021772)\n",
      "        If (feature 3 <= 0.5086114925184483)\n",
      "         Predict: 1.3902453715779248\n",
      "        Else (feature 3 > 0.5086114925184483)\n",
      "         Predict: 0.27024028017818463\n",
      "     Else (feature 6 > 0.2543955930742814)\n",
      "      If (feature 9 <= 2.6902068405702506)\n",
      "       If (feature 7 <= 329.10337508858584)\n",
      "        If (feature 2 <= 2.1067668075847323)\n",
      "         Predict: -0.020204544407788596\n",
      "        Else (feature 2 > 2.1067668075847323)\n",
      "         Predict: 0.27701193013758313\n",
      "       Else (feature 7 > 329.10337508858584)\n",
      "        If (feature 7 <= 329.9098511384361)\n",
      "         Predict: -0.3579816509906823\n",
      "        Else (feature 7 > 329.9098511384361)\n",
      "         Predict: 0.33894920178197585\n",
      "      Else (feature 9 > 2.6902068405702506)\n",
      "       If (feature 2 <= 2.383064093825353)\n",
      "        If (feature 2 <= 1.8304695213441118)\n",
      "         Predict: -0.0431038855868064\n",
      "        Else (feature 2 > 1.8304695213441118)\n",
      "         Predict: 0.09177311674745774\n",
      "       Else (feature 2 > 2.383064093825353)\n",
      "        If (feature 10 <= 9.204026302384797)\n",
      "         Predict: -0.03464810636369876\n",
      "        Else (feature 10 > 9.204026302384797)\n",
      "         Predict: -0.18794771202126787\n",
      "\n"
     ]
    }
   ],
   "source": [
    "print(gbt_regModel.toDebugString)"
   ]
  },
  {
   "cell_type": "code",
   "execution_count": 333,
   "metadata": {
    "ExecuteTime": {
     "end_time": "2023-08-13T12:23:06.161567Z",
     "start_time": "2023-08-13T12:23:05.999421Z"
    },
    "id": "LcS7WHeDaMhz",
    "scrolled": false
   },
   "outputs": [
    {
     "name": "stdout",
     "output_type": "stream",
     "text": [
      "+-----+--------------------+------------------+\n",
      "|label|            features|        prediction|\n",
      "+-----+--------------------+------------------+\n",
      "|    7|[3.79978170064518...| 6.990817372018714|\n",
      "|    6|[3.87732826596447...| 6.083849171585131|\n",
      "|    5|[3.87732826596447...| 5.980633936018512|\n",
      "|    7|[3.95487483128376...| 6.985277089162348|\n",
      "|    5|[4.03242139660305...| 5.201648455120008|\n",
      "|    6|[4.03242139660305...| 6.896515093351612|\n",
      "|    6|[4.03242139660305...| 6.896515093351612|\n",
      "|    7|[4.10996796192234...| 6.953975621909426|\n",
      "|    7|[4.10996796192234...| 6.927208695053671|\n",
      "|    7|[4.18751452724163...| 6.774395135531267|\n",
      "|    6|[4.18751452724163...| 5.458805532864422|\n",
      "|    8|[4.26506109256092...| 7.064131040385137|\n",
      "|    5|[4.34260765788021...| 5.032879331609377|\n",
      "|    6|[4.34260765788021...|5.4731954147848985|\n",
      "|    5|[4.34260765788021...| 5.675287677020733|\n",
      "|    5|[4.34260765788021...|  5.04726130604063|\n",
      "|    5|[4.34260765788021...|  5.73451423476066|\n",
      "|    7|[4.34260765788021...|  5.84389719015777|\n",
      "|    5|[4.34260765788021...| 5.862303303741548|\n",
      "|    6|[4.42015422319950...| 5.166613930120423|\n",
      "+-----+--------------------+------------------+\n",
      "only showing top 20 rows\n",
      "\n"
     ]
    }
   ],
   "source": [
    "# predykcje\n",
    "gbt_regModel.transform(wine_eval).show()"
   ]
  },
  {
   "cell_type": "markdown",
   "metadata": {
    "id": "tb0r3BQcaMhz"
   },
   "source": [
    "## Regresja - ewaluacja"
   ]
  },
  {
   "cell_type": "markdown",
   "metadata": {},
   "source": [
    "**RMSE (root mean-squared error)**"
   ]
  },
  {
   "cell_type": "code",
   "execution_count": 334,
   "metadata": {
    "ExecuteTime": {
     "end_time": "2023-08-13T12:31:39.913061Z",
     "start_time": "2023-08-13T12:31:39.902192Z"
    },
    "id": "IORDZZICaMh1"
   },
   "outputs": [],
   "source": [
    "evaluator_reg = evaluation.RegressionEvaluator()"
   ]
  },
  {
   "cell_type": "code",
   "execution_count": 335,
   "metadata": {
    "ExecuteTime": {
     "end_time": "2023-08-13T12:31:44.436287Z",
     "start_time": "2023-08-13T12:31:44.293091Z"
    },
    "id": "idZXNupnaMh1"
   },
   "outputs": [
    {
     "data": {
      "text/plain": [
       "0.7116825029693381"
      ]
     },
     "execution_count": 335,
     "metadata": {},
     "output_type": "execute_result"
    }
   ],
   "source": [
    "# rmse - regresja\n",
    "evaluator_reg.evaluate(regModel.transform(wine_eval))"
   ]
  },
  {
   "cell_type": "code",
   "execution_count": 336,
   "metadata": {
    "ExecuteTime": {
     "end_time": "2023-08-13T12:31:47.444098Z",
     "start_time": "2023-08-13T12:31:47.313412Z"
    },
    "id": "HuMlu_jYaMh1"
   },
   "outputs": [
    {
     "data": {
      "text/plain": [
       "0.7188322423963592"
      ]
     },
     "execution_count": 336,
     "metadata": {},
     "output_type": "execute_result"
    }
   ],
   "source": [
    "# rmse - drzewo\n",
    "evaluator_reg.evaluate(tree_regModel.transform(wine_eval))"
   ]
  },
  {
   "cell_type": "code",
   "execution_count": 337,
   "metadata": {
    "ExecuteTime": {
     "end_time": "2023-08-13T12:31:49.636595Z",
     "start_time": "2023-08-13T12:31:49.465462Z"
    },
    "id": "XmcD-XK2aMh2"
   },
   "outputs": [
    {
     "data": {
      "text/plain": [
       "0.7053457505731172"
      ]
     },
     "execution_count": 337,
     "metadata": {},
     "output_type": "execute_result"
    }
   ],
   "source": [
    "# rmse - las\n",
    "evaluator_reg.evaluate(forest_regModel.transform(wine_eval))"
   ]
  },
  {
   "cell_type": "code",
   "execution_count": 338,
   "metadata": {
    "ExecuteTime": {
     "end_time": "2023-08-13T12:31:51.681040Z",
     "start_time": "2023-08-13T12:31:51.542567Z"
    },
    "id": "YWz3xDF8aMh2"
   },
   "outputs": [
    {
     "data": {
      "text/plain": [
       "0.6874828494648342"
      ]
     },
     "execution_count": 338,
     "metadata": {},
     "output_type": "execute_result"
    }
   ],
   "source": [
    "# rmse - gbt\n",
    "evaluator_reg.evaluate(gbt_regModel.transform(wine_eval))"
   ]
  },
  {
   "cell_type": "markdown",
   "metadata": {},
   "source": [
    "**MSE (mean-squared error)**"
   ]
  },
  {
   "cell_type": "code",
   "execution_count": 339,
   "metadata": {
    "ExecuteTime": {
     "end_time": "2023-08-13T12:31:57.107340Z",
     "start_time": "2023-08-13T12:31:57.099250Z"
    },
    "id": "0pb88xlHaMh3"
   },
   "outputs": [],
   "source": [
    "er = evaluation.RegressionEvaluator(metricName=\"mse\")"
   ]
  },
  {
   "cell_type": "code",
   "execution_count": 340,
   "metadata": {
    "ExecuteTime": {
     "end_time": "2023-08-13T12:32:00.083160Z",
     "start_time": "2023-08-13T12:31:59.971940Z"
    },
    "id": "tzcaVh-WaMh4"
   },
   "outputs": [
    {
     "data": {
      "text/plain": [
       "0.5064919850327019"
      ]
     },
     "execution_count": 340,
     "metadata": {},
     "output_type": "execute_result"
    }
   ],
   "source": [
    "er.evaluate(regModel.transform(wine_eval))"
   ]
  },
  {
   "cell_type": "code",
   "execution_count": 341,
   "metadata": {
    "ExecuteTime": {
     "end_time": "2023-08-13T12:32:02.072268Z",
     "start_time": "2023-08-13T12:32:01.958340Z"
    },
    "id": "TkyfbqZSaMh4"
   },
   "outputs": [
    {
     "data": {
      "text/plain": [
       "0.5167197927085782"
      ]
     },
     "execution_count": 341,
     "metadata": {},
     "output_type": "execute_result"
    }
   ],
   "source": [
    "er.evaluate(tree_regModel.transform(wine_eval))"
   ]
  },
  {
   "cell_type": "code",
   "execution_count": 342,
   "metadata": {
    "ExecuteTime": {
     "end_time": "2023-08-13T12:32:03.795318Z",
     "start_time": "2023-08-13T12:32:03.677656Z"
    },
    "id": "zHo0zYgWaMh5"
   },
   "outputs": [
    {
     "data": {
      "text/plain": [
       "0.49751262785155403"
      ]
     },
     "execution_count": 342,
     "metadata": {},
     "output_type": "execute_result"
    }
   ],
   "source": [
    "er.evaluate(forest_regModel.transform(wine_eval))"
   ]
  },
  {
   "cell_type": "code",
   "execution_count": 343,
   "metadata": {
    "ExecuteTime": {
     "end_time": "2023-08-13T12:32:09.922770Z",
     "start_time": "2023-08-13T12:32:09.597299Z"
    },
    "id": "zULCFAa3aMh6"
   },
   "outputs": [
    {
     "data": {
      "text/plain": [
       "0.4726326683082878"
      ]
     },
     "execution_count": 343,
     "metadata": {},
     "output_type": "execute_result"
    }
   ],
   "source": [
    "er.evaluate(gbt_regModel.transform(wine_eval))"
   ]
  },
  {
   "cell_type": "markdown",
   "metadata": {},
   "source": [
    "**R^2 (determination coefficient)**"
   ]
  },
  {
   "cell_type": "code",
   "execution_count": 344,
   "metadata": {
    "ExecuteTime": {
     "end_time": "2023-08-13T12:32:14.981588Z",
     "start_time": "2023-08-13T12:32:14.973547Z"
    },
    "id": "3lNSZdbOaMh6"
   },
   "outputs": [],
   "source": [
    "er2 = evaluation.RegressionEvaluator(metricName=\"r2\")"
   ]
  },
  {
   "cell_type": "code",
   "execution_count": 345,
   "metadata": {
    "ExecuteTime": {
     "end_time": "2023-08-13T12:32:17.146931Z",
     "start_time": "2023-08-13T12:32:17.053599Z"
    },
    "id": "VMbdIeGYaMh7"
   },
   "outputs": [
    {
     "data": {
      "text/plain": [
       "0.31260950326372294"
      ]
     },
     "execution_count": 345,
     "metadata": {},
     "output_type": "execute_result"
    }
   ],
   "source": [
    "er2.evaluate(regModel.transform(wine_eval))"
   ]
  },
  {
   "cell_type": "code",
   "execution_count": 346,
   "metadata": {
    "ExecuteTime": {
     "end_time": "2023-08-13T12:32:19.009829Z",
     "start_time": "2023-08-13T12:32:18.894141Z"
    },
    "id": "PaiGBJF3aMh8"
   },
   "outputs": [
    {
     "data": {
      "text/plain": [
       "0.2987287351437897"
      ]
     },
     "execution_count": 346,
     "metadata": {},
     "output_type": "execute_result"
    }
   ],
   "source": [
    "er2.evaluate(tree_regModel.transform(wine_eval))"
   ]
  },
  {
   "cell_type": "code",
   "execution_count": 347,
   "metadata": {
    "ExecuteTime": {
     "end_time": "2023-08-13T12:32:21.010897Z",
     "start_time": "2023-08-13T12:32:20.694926Z"
    },
    "id": "X3-26-w1aMh8"
   },
   "outputs": [
    {
     "data": {
      "text/plain": [
       "0.324795924718592"
      ]
     },
     "execution_count": 347,
     "metadata": {},
     "output_type": "execute_result"
    }
   ],
   "source": [
    "er2.evaluate(forest_regModel.transform(wine_eval))"
   ]
  },
  {
   "cell_type": "code",
   "execution_count": 348,
   "metadata": {
    "ExecuteTime": {
     "end_time": "2023-08-13T12:32:22.919553Z",
     "start_time": "2023-08-13T12:32:22.787612Z"
    },
    "id": "69czMXZXaMh8"
   },
   "outputs": [
    {
     "data": {
      "text/plain": [
       "0.3585620024742351"
      ]
     },
     "execution_count": 348,
     "metadata": {},
     "output_type": "execute_result"
    }
   ],
   "source": [
    "er2.evaluate(gbt_regModel.transform(wine_eval))"
   ]
  },
  {
   "cell_type": "markdown",
   "metadata": {
    "id": "PX4jeeFLaMh9"
   },
   "source": [
    "### **ZADANIE 5:**\n",
    "- popraw `R^2` jednego modelu"
   ]
  },
  {
   "cell_type": "code",
   "execution_count": 350,
   "metadata": {
    "ExecuteTime": {
     "end_time": "2023-08-13T12:39:48.896134Z",
     "start_time": "2023-08-13T12:39:47.681251Z"
    },
    "id": "pucGgNBSaMh9"
   },
   "outputs": [
    {
     "name": "stdout",
     "output_type": "stream",
     "text": [
      "MSE: 0.5167197927085782\n",
      "R^2: 0.2987287351437897\n"
     ]
    }
   ],
   "source": [
    "# model przed optymalizacją\n",
    "\n",
    "tree_reg = regression.DecisionTreeRegressor()\n",
    "tree_regModel = tree_reg.fit(wine_train)\n",
    "\n",
    "print(f'MSE: {er.evaluate(tree_regModel.transform(wine_eval))}')\n",
    "print(f'R^2: {er2.evaluate(tree_regModel.transform(wine_eval))}')"
   ]
  },
  {
   "cell_type": "code",
   "execution_count": 392,
   "metadata": {
    "ExecuteTime": {
     "end_time": "2023-08-13T12:48:40.510392Z",
     "start_time": "2023-08-13T12:48:39.602537Z"
    },
    "id": "pucGgNBSaMh9"
   },
   "outputs": [
    {
     "name": "stdout",
     "output_type": "stream",
     "text": [
      "MSE: 0.5149273162422765\n",
      "R^2: 0.30116141191848655\n"
     ]
    }
   ],
   "source": [
    "# model po optymalizacji\n",
    "\n",
    "tree_reg = regression.DecisionTreeRegressor(maxDepth=5, minInstancesPerNode=10, minInfoGain=0.01)\n",
    "tree_regModel = tree_reg.fit(wine_train)\n",
    "\n",
    "print(f'MSE: {er.evaluate(tree_regModel.transform(wine_eval))}')\n",
    "print(f'R^2: {er2.evaluate(tree_regModel.transform(wine_eval))}')"
   ]
  },
  {
   "cell_type": "markdown",
   "metadata": {
    "id": "Uu5gi6NuaMh-"
   },
   "source": [
    " "
   ]
  },
  {
   "cell_type": "markdown",
   "metadata": {
    "id": "pvqU2ZokaMh-"
   },
   "source": [
    "### Wybór najlepszych parametrów"
   ]
  },
  {
   "cell_type": "code",
   "execution_count": 393,
   "metadata": {
    "ExecuteTime": {
     "end_time": "2023-08-13T13:16:12.665212Z",
     "start_time": "2023-08-13T13:16:12.660825Z"
    },
    "id": "NHj_NbwqaMh_"
   },
   "outputs": [],
   "source": [
    "from pyspark.ml import tuning"
   ]
  },
  {
   "cell_type": "code",
   "execution_count": 394,
   "metadata": {
    "ExecuteTime": {
     "end_time": "2023-08-13T13:16:16.235856Z",
     "start_time": "2023-08-13T13:16:16.228189Z"
    },
    "id": "SgeTDfDcaMh_"
   },
   "outputs": [],
   "source": [
    "reg2 = regression.LinearRegression()"
   ]
  },
  {
   "cell_type": "code",
   "execution_count": 395,
   "metadata": {
    "ExecuteTime": {
     "end_time": "2023-08-13T13:17:02.385643Z",
     "start_time": "2023-08-13T13:17:02.379506Z"
    },
    "id": "BWPKTk5WaMiA"
   },
   "outputs": [],
   "source": [
    "grid = tuning.ParamGridBuilder() \\\n",
    "    .addGrid(reg2.maxIter, [100, 500, 1000]) \\\n",
    "    .addGrid(reg2.regParam, [0.0, 0.1, 0.2]) \\\n",
    "    .build()"
   ]
  },
  {
   "cell_type": "code",
   "execution_count": 396,
   "metadata": {
    "ExecuteTime": {
     "end_time": "2023-08-13T13:17:09.485701Z",
     "start_time": "2023-08-13T13:17:09.477878Z"
    },
    "id": "cX6yiVhSaMiB"
   },
   "outputs": [],
   "source": [
    "reg_eval = evaluation.RegressionEvaluator(metricName='r2')"
   ]
  },
  {
   "cell_type": "code",
   "execution_count": 397,
   "metadata": {
    "ExecuteTime": {
     "end_time": "2023-08-13T13:17:29.500440Z",
     "start_time": "2023-08-13T13:17:29.495931Z"
    },
    "id": "Vybqt4SgaMiC"
   },
   "outputs": [],
   "source": [
    "cv = tuning.CrossValidator(estimator=reg2, estimatorParamMaps=grid, evaluator=reg_eval, parallelism=2)"
   ]
  },
  {
   "cell_type": "code",
   "execution_count": 398,
   "metadata": {
    "ExecuteTime": {
     "end_time": "2023-08-13T13:17:46.472629Z",
     "start_time": "2023-08-13T13:17:42.467973Z"
    },
    "id": "ZsSAySisaMiD"
   },
   "outputs": [
    {
     "name": "stderr",
     "output_type": "stream",
     "text": [
      "23/08/13 15:17:42 WARN Instrumentation: [54be044d] regParam is zero, which might cause numerical instability and overfitting.\n",
      "23/08/13 15:17:42 WARN BlockManager: Block rdd_7307_0 already exists on this machine; not re-adding it\n",
      "23/08/13 15:17:43 WARN Instrumentation: [93afa42d] regParam is zero, which might cause numerical instability and overfitting.\n",
      "23/08/13 15:17:43 WARN Instrumentation: [79105d65] regParam is zero, which might cause numerical instability and overfitting.\n",
      "23/08/13 15:17:44 WARN Instrumentation: [04da7c13] regParam is zero, which might cause numerical instability and overfitting.\n",
      "23/08/13 15:17:44 WARN Instrumentation: [9df377b0] regParam is zero, which might cause numerical instability and overfitting.\n",
      "23/08/13 15:17:44 WARN Instrumentation: [6a0d4da2] regParam is zero, which might cause numerical instability and overfitting.\n",
      "23/08/13 15:17:45 WARN Instrumentation: [a3e271e7] regParam is zero, which might cause numerical instability and overfitting.\n",
      "23/08/13 15:17:45 WARN Instrumentation: [ad016284] regParam is zero, which might cause numerical instability and overfitting.\n",
      "23/08/13 15:17:45 WARN Instrumentation: [2693e542] regParam is zero, which might cause numerical instability and overfitting.\n",
      "23/08/13 15:17:46 WARN Instrumentation: [791fa40e] regParam is zero, which might cause numerical instability and overfitting.\n"
     ]
    }
   ],
   "source": [
    "cvModel = cv.fit(wine_train)"
   ]
  },
  {
   "cell_type": "code",
   "execution_count": 399,
   "metadata": {
    "ExecuteTime": {
     "end_time": "2023-08-13T13:17:50.749040Z",
     "start_time": "2023-08-13T13:17:50.743019Z"
    },
    "id": "iObk8M7eaMiD"
   },
   "outputs": [
    {
     "data": {
      "text/plain": [
       "[0.28393382951825347,\n",
       " 0.2789748315802018,\n",
       " 0.2698947573689127,\n",
       " 0.28393382951825347,\n",
       " 0.2789748315802018,\n",
       " 0.2698947573689127,\n",
       " 0.28393382951825347,\n",
       " 0.2789748315802018,\n",
       " 0.2698947573689127]"
      ]
     },
     "execution_count": 399,
     "metadata": {},
     "output_type": "execute_result"
    }
   ],
   "source": [
    "cvModel.avgMetrics"
   ]
  },
  {
   "cell_type": "markdown",
   "metadata": {
    "id": "aJZpuYDvaMiE"
   },
   "source": [
    "**Parametry najlepszego modelu**"
   ]
  },
  {
   "cell_type": "code",
   "execution_count": 400,
   "metadata": {
    "ExecuteTime": {
     "end_time": "2023-08-13T13:18:48.975598Z",
     "start_time": "2023-08-13T13:18:48.968987Z"
    },
    "id": "D1TFgwoQaMiE"
   },
   "outputs": [
    {
     "data": {
      "text/plain": [
       "100"
      ]
     },
     "execution_count": 400,
     "metadata": {},
     "output_type": "execute_result"
    }
   ],
   "source": [
    "cvModel.bestModel._java_obj.getMaxIter()"
   ]
  },
  {
   "cell_type": "code",
   "execution_count": 401,
   "metadata": {
    "ExecuteTime": {
     "end_time": "2023-08-13T13:18:51.692165Z",
     "start_time": "2023-08-13T13:18:51.685667Z"
    },
    "id": "_Q-oOobBaMiE"
   },
   "outputs": [
    {
     "data": {
      "text/plain": [
       "0.0"
      ]
     },
     "execution_count": 401,
     "metadata": {},
     "output_type": "execute_result"
    }
   ],
   "source": [
    "cvModel.bestModel._java_obj.getRegParam()"
   ]
  },
  {
   "cell_type": "markdown",
   "metadata": {
    "id": "aJZpuYDvaMiE"
   },
   "source": [
    "**Ewaluacja na danych testowych - najlepszy model**"
   ]
  },
  {
   "cell_type": "markdown",
   "metadata": {
    "id": "8DFk4LJ7aMiE"
   },
   "source": [
    " "
   ]
  },
  {
   "cell_type": "code",
   "execution_count": 402,
   "metadata": {
    "ExecuteTime": {
     "end_time": "2023-08-13T13:19:20.343581Z",
     "start_time": "2023-08-13T13:19:20.276405Z"
    },
    "id": "zBf-3l6FaMiF"
   },
   "outputs": [
    {
     "data": {
      "text/plain": [
       "0.31260950326372294"
      ]
     },
     "execution_count": 402,
     "metadata": {},
     "output_type": "execute_result"
    }
   ],
   "source": [
    "reg_eval.evaluate(cvModel.transform(wine_eval))"
   ]
  },
  {
   "cell_type": "markdown",
   "metadata": {
    "id": "EOYwv3UUaMiF"
   },
   "source": [
    "**Zapisanie i wczytanie modelu**"
   ]
  },
  {
   "cell_type": "code",
   "execution_count": 403,
   "metadata": {
    "ExecuteTime": {
     "end_time": "2023-08-13T13:21:42.570333Z",
     "start_time": "2023-08-13T13:21:34.266874Z"
    },
    "id": "oeolhMcyaMiF"
   },
   "outputs": [
    {
     "name": "stderr",
     "output_type": "stream",
     "text": [
      "                                                                                \r"
     ]
    }
   ],
   "source": [
    "cvModel.save(\"model\")"
   ]
  },
  {
   "cell_type": "code",
   "execution_count": 404,
   "metadata": {
    "ExecuteTime": {
     "end_time": "2023-08-13T13:22:03.519735Z",
     "start_time": "2023-08-13T13:21:59.808761Z"
    },
    "id": "1MwlVq3GaMiG"
   },
   "outputs": [],
   "source": [
    "readInModel = tuning.CrossValidatorModel.load(\"model\")"
   ]
  },
  {
   "cell_type": "code",
   "execution_count": 405,
   "metadata": {
    "ExecuteTime": {
     "end_time": "2023-08-13T13:22:05.984120Z",
     "start_time": "2023-08-13T13:22:05.913807Z"
    },
    "id": "qdrtVAJCaMiG"
   },
   "outputs": [
    {
     "data": {
      "text/plain": [
       "0.31260950326372294"
      ]
     },
     "execution_count": 405,
     "metadata": {},
     "output_type": "execute_result"
    }
   ],
   "source": [
    "reg_eval.evaluate(readInModel.transform(wine_eval))"
   ]
  },
  {
   "cell_type": "markdown",
   "metadata": {
    "id": "iEB_t_fpn5m3"
   },
   "source": [
    "## Zadanie 6\n",
    "\n",
    "\n",
    "\n",
    "1. Za pomocą `VectorAssembler` połącz kolumny `cylinders`, `displacement`, `horsepower`, `weight`, `acceleration` w jeden wektor\n",
    "2. Podziel dane na treningowe i testowe (`label=mpg`)\n",
    "3. Zastosuj `StandardScaler` na danych treningowych\n",
    "4. Wytrenuj `RandomForestRegressor`\n",
    "5. Zastosuj powyższe algorytmy na danych testowych\n",
    "6. Za pomocą `RegressionEvaluator` oblicz `R^2` i `RMSE`\n",
    "7. Za pomocą `ParamGridBuilder` i `CrossValidator` znajdź najlepszy model\n"
   ]
  },
  {
   "cell_type": "code",
   "execution_count": 469,
   "metadata": {
    "ExecuteTime": {
     "end_time": "2023-08-13T14:31:42.696462Z",
     "start_time": "2023-08-13T14:31:42.475272Z"
    },
    "id": "U4CZhI0an5LK"
   },
   "outputs": [
    {
     "name": "stdout",
     "output_type": "stream",
     "text": [
      "+----+---------+------------+----------+------+------------+---------+------+-------------------------+\n",
      "|mpg |cylinders|displacement|horsepower|weight|acceleration|modelyear|origin|carname                  |\n",
      "+----+---------+------------+----------+------+------------+---------+------+-------------------------+\n",
      "|18.0|8        |307.0       |130.0     |3504.0|12.0        |70       |1     |chevrolet chevelle malibu|\n",
      "|15.0|8        |350.0       |165.0     |3693.0|11.5        |70       |1     |buick skylark 320        |\n",
      "|18.0|8        |318.0       |150.0     |3436.0|11.0        |70       |1     |plymouth satellite       |\n",
      "|16.0|8        |304.0       |150.0     |3433.0|12.0        |70       |1     |amc rebel sst            |\n",
      "|17.0|8        |302.0       |140.0     |3449.0|10.5        |70       |1     |ford torino              |\n",
      "+----+---------+------------+----------+------+------------+---------+------+-------------------------+\n",
      "only showing top 5 rows\n",
      "\n",
      "root\n",
      " |-- mpg: string (nullable = true)\n",
      " |-- cylinders: string (nullable = true)\n",
      " |-- displacement: string (nullable = true)\n",
      " |-- horsepower: string (nullable = true)\n",
      " |-- weight: string (nullable = true)\n",
      " |-- acceleration: string (nullable = true)\n",
      " |-- modelyear: string (nullable = true)\n",
      " |-- origin: string (nullable = true)\n",
      " |-- carname: string (nullable = true)\n",
      "\n"
     ]
    }
   ],
   "source": [
    "from pyspark.ml.feature import VectorAssembler, StandardScaler\n",
    "from pyspark.ml.regression import RandomForestRegressor\n",
    "from pyspark.ml.evaluation import RegressionEvaluator\n",
    "\n",
    "auto_df_fixed = spark.read.format(\"csv\").option(\"header\", True).load(\"./auto-mpg_fixed.csv\")\n",
    "auto_df_fixed.show(5, truncate=False)\n",
    "\n",
    "auto_df_fixed.printSchema()"
   ]
  },
  {
   "cell_type": "code",
   "execution_count": 470,
   "metadata": {
    "ExecuteTime": {
     "end_time": "2023-08-13T14:31:47.367032Z",
     "start_time": "2023-08-13T14:31:47.259774Z"
    },
    "id": "HkW7ZQOaoFkN"
   },
   "outputs": [
    {
     "name": "stdout",
     "output_type": "stream",
     "text": [
      "+----+---------+------------+----------+------+------------+---------+------+--------------------+\n",
      "| mpg|cylinders|displacement|horsepower|weight|acceleration|modelyear|origin|             carname|\n",
      "+----+---------+------------+----------+------+------------+---------+------+--------------------+\n",
      "|18.0|        8|       307.0|     130.0|3504.0|        12.0|       70|     1|chevrolet chevell...|\n",
      "|15.0|        8|       350.0|     165.0|3693.0|        11.5|       70|     1|   buick skylark 320|\n",
      "|18.0|        8|       318.0|     150.0|3436.0|        11.0|       70|     1|  plymouth satellite|\n",
      "|16.0|        8|       304.0|     150.0|3433.0|        12.0|       70|     1|       amc rebel sst|\n",
      "|17.0|        8|       302.0|     140.0|3449.0|        10.5|       70|     1|         ford torino|\n",
      "+----+---------+------------+----------+------+------------+---------+------+--------------------+\n",
      "only showing top 5 rows\n",
      "\n",
      "root\n",
      " |-- mpg: double (nullable = true)\n",
      " |-- cylinders: integer (nullable = true)\n",
      " |-- displacement: double (nullable = true)\n",
      " |-- horsepower: double (nullable = true)\n",
      " |-- weight: double (nullable = true)\n",
      " |-- acceleration: double (nullable = true)\n",
      " |-- modelyear: integer (nullable = true)\n",
      " |-- origin: integer (nullable = true)\n",
      " |-- carname: string (nullable = true)\n",
      "\n"
     ]
    }
   ],
   "source": [
    "for column_name in (\"mpg displacement horsepower weight acceleration\".split()):\n",
    "    auto_df_fixed = auto_df_fixed.withColumn(column_name, col(column_name).cast(\"double\"))\n",
    "    \n",
    "for column_name in (\"cylinders modelyear origin\".split()):\n",
    "    auto_df_fixed = auto_df_fixed.withColumn(column_name, col(column_name).cast(\"int\"))\n",
    "    \n",
    "auto_df_fixed.show(5)\n",
    "\n",
    "auto_df_fixed.printSchema()"
   ]
  },
  {
   "cell_type": "code",
   "execution_count": 471,
   "metadata": {
    "ExecuteTime": {
     "end_time": "2023-08-13T14:31:52.662423Z",
     "start_time": "2023-08-13T14:31:52.539585Z"
    },
    "id": "bU0a2lhLofVa"
   },
   "outputs": [
    {
     "name": "stdout",
     "output_type": "stream",
     "text": [
      "+----+---------+------------+----------+------+------------+---------+------+--------------------+--------------------+\n",
      "| mpg|cylinders|displacement|horsepower|weight|acceleration|modelyear|origin|             carname|        featuresFull|\n",
      "+----+---------+------------+----------+------+------------+---------+------+--------------------+--------------------+\n",
      "|18.0|        8|       307.0|     130.0|3504.0|        12.0|       70|     1|chevrolet chevell...|[18.0,307.0,130.0...|\n",
      "|15.0|        8|       350.0|     165.0|3693.0|        11.5|       70|     1|   buick skylark 320|[15.0,350.0,165.0...|\n",
      "|18.0|        8|       318.0|     150.0|3436.0|        11.0|       70|     1|  plymouth satellite|[18.0,318.0,150.0...|\n",
      "|16.0|        8|       304.0|     150.0|3433.0|        12.0|       70|     1|       amc rebel sst|[16.0,304.0,150.0...|\n",
      "|17.0|        8|       302.0|     140.0|3449.0|        10.5|       70|     1|         ford torino|[17.0,302.0,140.0...|\n",
      "|15.0|        8|       429.0|     198.0|4341.0|        10.0|       70|     1|    ford galaxie 500|[15.0,429.0,198.0...|\n",
      "|14.0|        8|       454.0|     220.0|4354.0|         9.0|       70|     1|    chevrolet impala|[14.0,454.0,220.0...|\n",
      "|14.0|        8|       440.0|     215.0|4312.0|         8.5|       70|     1|   plymouth fury iii|[14.0,440.0,215.0...|\n",
      "|14.0|        8|       455.0|     225.0|4425.0|        10.0|       70|     1|    pontiac catalina|[14.0,455.0,225.0...|\n",
      "|15.0|        8|       390.0|     190.0|3850.0|         8.5|       70|     1|  amc ambassador dpl|[15.0,390.0,190.0...|\n",
      "|15.0|        8|       383.0|     170.0|3563.0|        10.0|       70|     1| dodge challenger se|[15.0,383.0,170.0...|\n",
      "|14.0|        8|       340.0|     160.0|3609.0|         8.0|       70|     1|  plymouth 'cuda 340|[14.0,340.0,160.0...|\n",
      "|15.0|        8|       400.0|     150.0|3761.0|         9.5|       70|     1|chevrolet monte c...|[15.0,400.0,150.0...|\n",
      "|14.0|        8|       455.0|     225.0|3086.0|        10.0|       70|     1|buick estate wago...|[14.0,455.0,225.0...|\n",
      "|24.0|        4|       113.0|      95.0|2372.0|        15.0|       70|     3|toyota corona mar...|[24.0,113.0,95.0,...|\n",
      "|22.0|        6|       198.0|      95.0|2833.0|        15.5|       70|     1|     plymouth duster|[22.0,198.0,95.0,...|\n",
      "|18.0|        6|       199.0|      97.0|2774.0|        15.5|       70|     1|          amc hornet|[18.0,199.0,97.0,...|\n",
      "|21.0|        6|       200.0|      85.0|2587.0|        16.0|       70|     1|       ford maverick|[21.0,200.0,85.0,...|\n",
      "|27.0|        4|        97.0|      88.0|2130.0|        14.5|       70|     3|        datsun pl510|[27.0,97.0,88.0,2...|\n",
      "|26.0|        4|        97.0|      46.0|1835.0|        20.5|       70|     2|vw 1131 deluxe sedan|[26.0,97.0,46.0,1...|\n",
      "+----+---------+------------+----------+------+------------+---------+------+--------------------+--------------------+\n",
      "only showing top 20 rows\n",
      "\n"
     ]
    }
   ],
   "source": [
    "# 1\n",
    "features_col = \"mpg displacement horsepower weight acceleration cylinders modelyear origin\".split()\n",
    "vectAssembler = VectorAssembler(inputCols=features_col, outputCol=\"featuresFull\", handleInvalid=\"skip\")\n",
    "\n",
    "auto_df_fixed = vectAssembler.transform(auto_df_fixed)\n",
    "auto_df_fixed.show()"
   ]
  },
  {
   "cell_type": "code",
   "execution_count": 472,
   "metadata": {
    "ExecuteTime": {
     "end_time": "2023-08-13T14:31:57.948242Z",
     "start_time": "2023-08-13T14:31:57.818772Z"
    },
    "id": "_hywZwenoull"
   },
   "outputs": [
    {
     "name": "stdout",
     "output_type": "stream",
     "text": [
      "+-----+---------+------------+----------+------+------------+---------+------+--------------------+--------------------+\n",
      "|label|cylinders|displacement|horsepower|weight|acceleration|modelyear|origin|             carname|        featuresFull|\n",
      "+-----+---------+------------+----------+------+------------+---------+------+--------------------+--------------------+\n",
      "|  9.0|        8|       304.0|     193.0|4732.0|        18.5|       70|     1|            hi 1200d|[9.0,304.0,193.0,...|\n",
      "| 10.0|        8|       307.0|     200.0|4376.0|        15.0|       70|     1|       chevrolet c20|[10.0,307.0,200.0...|\n",
      "| 11.0|        8|       318.0|     210.0|4382.0|        13.5|       70|     1|          dodge d200|[11.0,318.0,210.0...|\n",
      "| 11.0|        8|       350.0|     180.0|3664.0|        11.0|       73|     1|    oldsmobile omega|[11.0,350.0,180.0...|\n",
      "| 11.0|        8|       400.0|     150.0|4997.0|        14.0|       73|     1|    chevrolet impala|[11.0,400.0,150.0...|\n",
      "| 12.0|        8|       350.0|     160.0|4456.0|        13.5|       72|     1|oldsmobile delta ...|[12.0,350.0,160.0...|\n",
      "| 12.0|        8|       400.0|     167.0|4906.0|        12.5|       73|     1|        ford country|[12.0,400.0,167.0...|\n",
      "| 12.0|        8|       429.0|     198.0|4952.0|        11.5|       73|     1|mercury marquis b...|[12.0,429.0,198.0...|\n",
      "| 12.0|        8|       455.0|     225.0|4951.0|        11.0|       73|     1|buick electra 225...|[12.0,455.0,225.0...|\n",
      "| 13.0|        8|       307.0|     130.0|4098.0|        14.0|       72|     1|chevrolet chevell...|[13.0,307.0,130.0...|\n",
      "| 13.0|        8|       318.0|     150.0|3755.0|        14.0|       76|     1|          dodge d100|[13.0,318.0,150.0...|\n",
      "| 13.0|        8|       318.0|     150.0|3940.0|        13.2|       76|     1|plymouth volare p...|[13.0,318.0,150.0...|\n",
      "| 13.0|        8|       350.0|     145.0|4055.0|        12.0|       76|     1|       chevrolet c10|[13.0,350.0,145.0...|\n",
      "| 13.0|        8|       350.0|     155.0|4502.0|        13.5|       72|     1|buick lesabre custom|[13.0,350.0,155.0...|\n",
      "| 13.0|        8|       351.0|     158.0|4363.0|        13.0|       73|     1|            ford ltd|[13.0,351.0,158.0...|\n",
      "| 13.0|        8|       360.0|     170.0|4654.0|        13.0|       73|     1|plymouth custom s...|[13.0,360.0,170.0...|\n",
      "| 13.0|        8|       360.0|     175.0|3821.0|        11.0|       73|     1|amc ambassador br...|[13.0,360.0,175.0...|\n",
      "| 13.0|        8|       400.0|     190.0|4422.0|        12.5|       72|     1|chrysler newport ...|[13.0,400.0,190.0...|\n",
      "| 14.0|        8|       302.0|     137.0|4042.0|        14.5|       73|     1|    ford gran torino|[14.0,302.0,137.0...|\n",
      "| 14.0|        8|       304.0|     150.0|4257.0|        15.5|       74|     1|    amc matador (sw)|[14.0,304.0,150.0...|\n",
      "+-----+---------+------------+----------+------+------------+---------+------+--------------------+--------------------+\n",
      "only showing top 20 rows\n",
      "\n"
     ]
    }
   ],
   "source": [
    "# 2\n",
    "auto_df_fixed = auto_df_fixed.withColumnRenamed(\"mpg\", \"label\")\n",
    "auto_train, auto_eval = auto_df_fixed.randomSplit([0.7, 0.3], 42)\n",
    "\n",
    "auto_train.show()"
   ]
  },
  {
   "cell_type": "code",
   "execution_count": 473,
   "metadata": {
    "ExecuteTime": {
     "end_time": "2023-08-13T14:32:18.243375Z",
     "start_time": "2023-08-13T14:32:18.033535Z"
    },
    "id": "RZvmLktiphy5"
   },
   "outputs": [],
   "source": [
    "# 3 i 5\n",
    "scaler = StandardScaler(inputCol=\"featuresFull\", outputCol=\"features\")\n",
    "\n",
    "scalerModel = scaler.fit(auto_train)\n",
    "\n",
    "auto_train = scalerModel.transform(auto_train)\n",
    "auto_eval = scalerModel.transform(auto_eval)\n",
    "\n",
    "auto_train = auto_train.select(\"label\", \"features\")\n",
    "auto_eval = auto_eval.select(\"label\", \"features\")"
   ]
  },
  {
   "cell_type": "code",
   "execution_count": 474,
   "metadata": {
    "ExecuteTime": {
     "end_time": "2023-08-13T14:32:22.556756Z",
     "start_time": "2023-08-13T14:32:21.589012Z"
    },
    "id": "NUtoQ9WvpVns"
   },
   "outputs": [
    {
     "name": "stdout",
     "output_type": "stream",
     "text": [
      "+-----+--------------------+------------------+\n",
      "|label|            features|        prediction|\n",
      "+-----+--------------------+------------------+\n",
      "| 10.0|[1.29492403688120...|11.030357142857143|\n",
      "| 11.0|[1.42441644056932...| 11.96438492063492|\n",
      "| 12.0|[1.55390884425744...|11.985218253968254|\n",
      "| 12.0|[1.55390884425744...|12.222718253968255|\n",
      "| 13.0|[1.68340124794556...|14.182333333333332|\n",
      "+-----+--------------------+------------------+\n",
      "only showing top 5 rows\n",
      "\n"
     ]
    }
   ],
   "source": [
    "# 4 i 5\n",
    "forest_reg = regression.RandomForestRegressor(maxDepth=8)\n",
    "\n",
    "forest_regModel = forest_reg.fit(auto_train)\n",
    "predictions = forest_regModel.transform(auto_eval)\n",
    "\n",
    "predictions.show(5)"
   ]
  },
  {
   "cell_type": "code",
   "execution_count": 476,
   "metadata": {
    "ExecuteTime": {
     "end_time": "2023-08-13T14:33:57.696826Z",
     "start_time": "2023-08-13T14:33:57.487393Z"
    },
    "id": "0dMGJNqlouYe"
   },
   "outputs": [
    {
     "name": "stdout",
     "output_type": "stream",
     "text": [
      "RMSE: 0.859012033225024\n",
      "R^2: 0.9879090290193802\n"
     ]
    }
   ],
   "source": [
    "# 6\n",
    "er = evaluation.RegressionEvaluator(metricName='rmse')\n",
    "er2 = evaluation.RegressionEvaluator(metricName=\"r2\")\n",
    "\n",
    "print(f'RMSE: {er.evaluate(predictions)}')\n",
    "print(f'R^2: {er2.evaluate(predictions)}')"
   ]
  },
  {
   "cell_type": "code",
   "execution_count": 485,
   "metadata": {
    "ExecuteTime": {
     "end_time": "2023-08-13T14:42:36.861647Z",
     "start_time": "2023-08-13T14:42:27.018651Z"
    },
    "id": "BWPKTk5WaMiA"
   },
   "outputs": [
    {
     "data": {
      "text/plain": [
       "15"
      ]
     },
     "execution_count": 485,
     "metadata": {},
     "output_type": "execute_result"
    }
   ],
   "source": [
    "# 7\n",
    "grid = tuning.ParamGridBuilder() \\\n",
    "    .addGrid(forest_reg.maxDepth, [5, 10, 15, 20, 25]) \\\n",
    "    .build()\n",
    "\n",
    "cv = tuning.CrossValidator(estimator=forest_reg, estimatorParamMaps=grid, evaluator=er, parallelism=2)\n",
    "cvModel = cv.fit(auto_train)\n",
    "\n",
    "cvModel.bestModel._java_obj.getMaxDepth()"
   ]
  },
  {
   "cell_type": "code",
   "execution_count": 486,
   "metadata": {
    "ExecuteTime": {
     "end_time": "2023-08-13T14:42:41.253784Z",
     "start_time": "2023-08-13T14:42:40.963788Z"
    }
   },
   "outputs": [
    {
     "name": "stdout",
     "output_type": "stream",
     "text": [
      "RMSE: 0.8481621536341377\n",
      "R^2: 0.9882125337311262\n"
     ]
    }
   ],
   "source": [
    "print(f'RMSE: {er.evaluate(cvModel.transform(auto_eval))}')\n",
    "print(f'R^2: {er2.evaluate(cvModel.transform(auto_eval))}')"
   ]
  }
 ],
 "metadata": {
  "colab": {
   "provenance": [],
   "toc_visible": true
  },
  "hide_input": false,
  "kernelspec": {
   "display_name": "Python 3 (ipykernel)",
   "language": "python",
   "name": "python3"
  },
  "language_info": {
   "codemirror_mode": {
    "name": "ipython",
    "version": 3
   },
   "file_extension": ".py",
   "mimetype": "text/x-python",
   "name": "python",
   "nbconvert_exporter": "python",
   "pygments_lexer": "ipython3",
   "version": "3.10.6"
  },
  "toc": {
   "base_numbering": 1,
   "nav_menu": {},
   "number_sections": true,
   "sideBar": true,
   "skip_h1_title": false,
   "title_cell": "Table of Contents",
   "title_sidebar": "Contents",
   "toc_cell": false,
   "toc_position": {},
   "toc_section_display": true,
   "toc_window_display": true
  },
  "varInspector": {
   "cols": {
    "lenName": 16,
    "lenType": 16,
    "lenVar": 40
   },
   "kernels_config": {
    "python": {
     "delete_cmd_postfix": "",
     "delete_cmd_prefix": "del ",
     "library": "var_list.py",
     "varRefreshCmd": "print(var_dic_list())"
    },
    "r": {
     "delete_cmd_postfix": ") ",
     "delete_cmd_prefix": "rm(",
     "library": "var_list.r",
     "varRefreshCmd": "cat(var_dic_list()) "
    }
   },
   "types_to_exclude": [
    "module",
    "function",
    "builtin_function_or_method",
    "instance",
    "_Feature"
   ],
   "window_display": false
  }
 },
 "nbformat": 4,
 "nbformat_minor": 1
}
