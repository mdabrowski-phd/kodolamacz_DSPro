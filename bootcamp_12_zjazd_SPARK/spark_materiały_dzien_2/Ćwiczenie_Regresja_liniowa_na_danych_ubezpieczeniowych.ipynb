{
 "cells": [
  {
   "cell_type": "markdown",
   "id": "e7b2e2fb",
   "metadata": {
    "id": "637cb132"
   },
   "source": [
    "# Regresja liniowa na danych ubezpieczeniowych  "
   ]
  },
  {
   "cell_type": "code",
   "execution_count": 14,
   "id": "7be90ec2",
   "metadata": {
    "ExecuteTime": {
     "end_time": "2023-08-13T16:09:17.154871Z",
     "start_time": "2023-08-13T16:09:17.145482Z"
    },
    "colab": {
     "base_uri": "https://localhost:8080/"
    },
    "id": "dhb3oNOjsE8I",
    "outputId": "288cb8d3-4de5-4c62-98cf-07384c241263"
   },
   "outputs": [],
   "source": [
    "# !pip install pyspark\n",
    "import pyspark\n",
    "from pyspark.sql import SparkSession\n",
    "\n",
    "spark = SparkSession.builder.getOrCreate()"
   ]
  },
  {
   "cell_type": "markdown",
   "id": "3bba419d",
   "metadata": {},
   "source": [
    "> 1. Wczytaj dane`'insurance.csv`\n",
    "> 2. Za pomocą `StringIndexer` zamień kolumny `gender`, `smoker`, `region` na zmienne kategoryczne\n",
    "> 3. Użyj `VectorAssembler` i stwórz kolumnę [`age`, `bmi`, `children`, `gender_cat`, `smoker_cat`, `region_cat`]\n",
    "> 4. Zastosuj `StandardScaler`\n",
    "> 5. Za pomocą `randomSplit` podziel dane na treningowe i testowe\n",
    "> 6. Wytrenuj `LinearRegression` na danych treningowych\n",
    "> 7. Wytrenowany algorytm użyj do otrzymania predykcji na danych testowych\n",
    "> 8. Dowolną miarą sprawdź skuteczność algorytmu"
   ]
  },
  {
   "cell_type": "code",
   "execution_count": 15,
   "id": "7fcc593f",
   "metadata": {
    "ExecuteTime": {
     "end_time": "2023-08-13T16:09:20.696838Z",
     "start_time": "2023-08-13T16:09:20.324165Z"
    }
   },
   "outputs": [
    {
     "name": "stdout",
     "output_type": "stream",
     "text": [
      "+---+------+----+--------+------+---------+--------+\n",
      "|age|gender| bmi|children|smoker|   region|   label|\n",
      "+---+------+----+--------+------+---------+--------+\n",
      "| 19|female|27.9|       0|   yes|southwest|16884.92|\n",
      "| 18|  male|33.8|       1|    no|southeast| 1725.55|\n",
      "| 28|  male|33.0|       3|    no|southeast| 4449.46|\n",
      "| 33|  male|22.7|       0|    no|northwest|21984.47|\n",
      "| 32|  male|28.9|       0|    no|northwest| 3866.86|\n",
      "+---+------+----+--------+------+---------+--------+\n",
      "only showing top 5 rows\n",
      "\n",
      "root\n",
      " |-- age: integer (nullable = true)\n",
      " |-- gender: string (nullable = true)\n",
      " |-- bmi: double (nullable = true)\n",
      " |-- children: integer (nullable = true)\n",
      " |-- smoker: string (nullable = true)\n",
      " |-- region: string (nullable = true)\n",
      " |-- label: double (nullable = true)\n",
      "\n"
     ]
    }
   ],
   "source": [
    "from pyspark.ml import Pipeline\n",
    "from pyspark.ml.feature import StringIndexer, VectorAssembler, StandardScaler\n",
    "from pyspark.ml.regression import LinearRegression\n",
    "from pyspark.ml.evaluation import RegressionEvaluator\n",
    "\n",
    "df = spark.read.csv(\"./insurance.csv\", header=True, inferSchema=True)\n",
    "df = df.withColumnRenamed(\"expenses\", \"label\")\n",
    "\n",
    "df_train, df_eval = df.randomSplit([0.7, 0.3], 42)\n",
    "\n",
    "df.show(5)\n",
    "df.printSchema()"
   ]
  },
  {
   "cell_type": "code",
   "execution_count": 37,
   "id": "39e54e6c",
   "metadata": {
    "ExecuteTime": {
     "end_time": "2023-08-13T16:20:01.840493Z",
     "start_time": "2023-08-13T16:20:00.901470Z"
    },
    "id": "PvdKqGUumj-U"
   },
   "outputs": [
    {
     "name": "stdout",
     "output_type": "stream",
     "text": [
      "+--------+--------------------+------------------+\n",
      "|   label|            features|        prediction|\n",
      "+--------+--------------------+------------------+\n",
      "|  2201.1|[1.29065589749760...|  1138.14989662699|\n",
      "|18223.45|[1.29065589749760...|26413.987235709807|\n",
      "| 7323.73|[1.29065589749760...|2412.9604423219334|\n",
      "| 2203.47|[1.29065589749760...|  2715.21614252367|\n",
      "| 1622.19|[1.29065589749760...|3092.7575080650186|\n",
      "| 4561.19|[1.29065589749760...| 5139.895536941456|\n",
      "| 2205.98|[1.29065589749760...|3319.7275429271376|\n",
      "| 2211.13|[1.29065589749760...| 4562.334310423163|\n",
      "|36149.48|[1.29065589749760...|28146.982167266848|\n",
      "| 1631.67|[1.29065589749760...| 5376.467242922574|\n",
      "| 1631.82|[1.29065589749760...| 5410.051209611653|\n",
      "| 1633.96|[1.29065589749760...| 5913.810709947878|\n",
      "| 2217.47|[1.29065589749760...| 6107.196778120919|\n",
      "|  2217.6|[1.29065589749760...|6140.7807448099975|\n",
      "|38792.69|[1.29065589749760...|29926.932401788174|\n",
      "|12829.46|[1.29065589749760...|22269.607347105703|\n",
      "| 1702.46|[1.29065589749760...|-521.0164569850731|\n",
      "|  1704.7|[1.29065589749760...| 16.32701004023329|\n",
      "| 1705.62|[1.29065589749760...|251.41477686380676|\n",
      "|15518.18|[1.29065589749760...| 23928.69680181329|\n",
      "+--------+--------------------+------------------+\n",
      "only showing top 20 rows\n",
      "\n",
      "R^2: 0.8002779085287943\n"
     ]
    }
   ],
   "source": [
    "idx = StringIndexer(inputCols=[\"gender\", \"smoker\", \"region\"],\n",
    "                    outputCols=[\"gender_cat\", \"smoker_cat\", \"region_cat\"])\n",
    "\n",
    "va = VectorAssembler(inputCols= [\"age\", \"bmi\", \"children\", \"gender_cat\", \"smoker_cat\", \"region_cat\"],\n",
    "                     outputCol=\"featuresFull\")\n",
    "\n",
    "sc = StandardScaler(inputCol=\"featuresFull\", outputCol=\"features\")\n",
    "\n",
    "reg = LinearRegression(maxIter=5, regParam=10)\n",
    "er2 = RegressionEvaluator(metricName=\"r2\")\n",
    "\n",
    "pip = Pipeline(stages=[idx, va, sc, reg])\n",
    "\n",
    "pip_model = pip.fit(df_train)\n",
    "\n",
    "pred = pip_model.transform(df_eval)\n",
    "pred.select(\"label\", \"features\", \"prediction\").show()\n",
    "\n",
    "print(f'R^2: {er2.evaluate(pred)}')"
   ]
  },
  {
   "cell_type": "code",
   "execution_count": 57,
   "id": "aaeff18d",
   "metadata": {
    "ExecuteTime": {
     "end_time": "2023-08-13T16:32:28.878381Z",
     "start_time": "2023-08-13T16:32:28.660189Z"
    }
   },
   "outputs": [
    {
     "data": {
      "text/plain": [
       "(-1936.9065, 65665.71650000001, -3098.69339700117, 42048.882665404744)"
      ]
     },
     "execution_count": 57,
     "metadata": {},
     "output_type": "execute_result"
    },
    {
     "data": {
      "image/png": "[encoded data removed]",
      "text/plain": [
       "<Figure size 432x288 with 1 Axes>"
      ]
     },
     "metadata": {
      "needs_background": "light"
     },
     "output_type": "display_data"
    }
   ],
   "source": [
    "res = pred.select(\"label\", \"prediction\").toPandas()\n",
    "res.plot(\"label\", \"prediction\", kind=\"scatter\", grid=True).axis('equal')"
   ]
  }
 ],
 "metadata": {
  "colab": {
   "provenance": [],
   "toc_visible": true
  },
  "hide_input": false,
  "kernelspec": {
   "display_name": "Python 3 (ipykernel)",
   "language": "python",
   "name": "python3"
  },
  "language_info": {
   "codemirror_mode": {
    "name": "ipython",
    "version": 3
   },
   "file_extension": ".py",
   "mimetype": "text/x-python",
   "name": "python",
   "nbconvert_exporter": "python",
   "pygments_lexer": "ipython3",
   "version": "3.10.6"
  },
  "toc": {
   "base_numbering": 1,
   "nav_menu": {},
   "number_sections": true,
   "sideBar": true,
   "skip_h1_title": true,
   "title_cell": "Table of Contents",
   "title_sidebar": "Contents",
   "toc_cell": false,
   "toc_position": {},
   "toc_section_display": true,
   "toc_window_display": false
  },
  "varInspector": {
   "cols": {
    "lenName": 16,
    "lenType": 16,
    "lenVar": 40
   },
   "kernels_config": {
    "python": {
     "delete_cmd_postfix": "",
     "delete_cmd_prefix": "del ",
     "library": "var_list.py",
     "varRefreshCmd": "print(var_dic_list())"
    },
    "r": {
     "delete_cmd_postfix": ") ",
     "delete_cmd_prefix": "rm(",
     "library": "var_list.r",
     "varRefreshCmd": "cat(var_dic_list()) "
    }
   },
   "types_to_exclude": [
    "module",
    "function",
    "builtin_function_or_method",
    "instance",
    "_Feature"
   ],
   "window_display": false
  }
 },
 "nbformat": 4,
 "nbformat_minor": 5
}
