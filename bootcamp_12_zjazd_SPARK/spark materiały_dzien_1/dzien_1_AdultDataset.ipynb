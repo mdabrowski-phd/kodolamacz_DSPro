{
 "cells": [
  {
   "cell_type": "markdown",
   "metadata": {},
   "source": [
    "# Case study - zbiór `adults`"
   ]
  },
  {
   "cell_type": "code",
   "execution_count": 1,
   "metadata": {
    "ExecuteTime": {
     "end_time": "2023-08-12T16:25:27.505862Z",
     "start_time": "2023-08-12T16:25:19.145046Z"
    },
    "id": "yy-xpSCORJ4E"
   },
   "outputs": [
    {
     "name": "stderr",
     "output_type": "stream",
     "text": [
      "23/08/12 18:25:22 WARN Utils: Your hostname, md-ASUS resolves to a loopback address: 127.0.1.1; using 192.168.30.211 instead (on interface eth0)\n",
      "23/08/12 18:25:22 WARN Utils: Set SPARK_LOCAL_IP if you need to bind to another address\n",
      "Setting default log level to \"WARN\".\n",
      "To adjust logging level use sc.setLogLevel(newLevel). For SparkR, use setLogLevel(newLevel).\n",
      "23/08/12 18:25:24 WARN NativeCodeLoader: Unable to load native-hadoop library for your platform... using builtin-java classes where applicable\n",
      "23/08/12 18:25:26 WARN Utils: Service 'SparkUI' could not bind on port 4040. Attempting port 4041.\n"
     ]
    }
   ],
   "source": [
    "# !pip install pyspark\n",
    "import pyspark\n",
    "\n",
    "from pyspark.sql import SparkSession\n",
    "from pyspark.sql import Row\n",
    "from pyspark.sql import functions as f\n",
    "\n",
    "spark = SparkSession.builder.appName('DataFrame').master('local[*]').getOrCreate()"
   ]
  },
  {
   "cell_type": "code",
   "execution_count": 2,
   "metadata": {
    "ExecuteTime": {
     "end_time": "2023-08-12T16:25:37.869791Z",
     "start_time": "2023-08-12T16:25:27.515792Z"
    },
    "id": "MstW9mhCwgWa"
   },
   "outputs": [
    {
     "name": "stderr",
     "output_type": "stream",
     "text": [
      "                                                                                \r"
     ]
    },
    {
     "name": "stdout",
     "output_type": "stream",
     "text": [
      "-RECORD 0----------------------------\n",
      " age            | 39                 \n",
      " workclass      | State-gov          \n",
      " education      | Bachelors          \n",
      " education-num  | 13                 \n",
      " marital-status | Never-married      \n",
      " occupation     | Adm-clerical       \n",
      " relationship   | Not-in-family      \n",
      " race           | White              \n",
      " sex            | Male               \n",
      " capital-gain   | 2174               \n",
      " capital-loss   | 0                  \n",
      " hours-per-week | 40                 \n",
      " native-country | United-States      \n",
      " earnings       | <=50K              \n",
      "-RECORD 1----------------------------\n",
      " age            | 50                 \n",
      " workclass      | Self-emp-not-inc   \n",
      " education      | Bachelors          \n",
      " education-num  | 13                 \n",
      " marital-status | Married-civ-spouse \n",
      " occupation     | Exec-managerial    \n",
      " relationship   | Husband            \n",
      " race           | White              \n",
      " sex            | Male               \n",
      " capital-gain   | 0                  \n",
      " capital-loss   | 0                  \n",
      " hours-per-week | 13                 \n",
      " native-country | United-States      \n",
      " earnings       | <=50K              \n",
      "-RECORD 2----------------------------\n",
      " age            | 38                 \n",
      " workclass      | Private            \n",
      " education      | HS-grad            \n",
      " education-num  | 9                  \n",
      " marital-status | Divorced           \n",
      " occupation     | Handlers-cleaners  \n",
      " relationship   | Not-in-family      \n",
      " race           | White              \n",
      " sex            | Male               \n",
      " capital-gain   | 0                  \n",
      " capital-loss   | 0                  \n",
      " hours-per-week | 40                 \n",
      " native-country | United-States      \n",
      " earnings       | <=50K              \n",
      "only showing top 3 rows\n",
      "\n"
     ]
    }
   ],
   "source": [
    "col_names = [\"age\", \"workclass\", \"fnlwgt\", \"education\", \"education-num\", \"marital-status\", \"occupation\", \"relationship\",\n",
    "             \"race\", \"sex\", \"capital-gain\", \"capital-loss\", \"hours-per-week\", \"native-country\", \"earnings\"]\n",
    "\n",
    "df = spark.read.csv(\"adult.data\", header=False, inferSchema=True, ignoreLeadingWhiteSpace=True)\n",
    "\n",
    "df = df.select(*[f.col(old).alias(new) for old, new in zip(df.columns, col_names)]).drop(\"fnlwgt\").dropna(\"any\")\n",
    "\n",
    "df.show(3, vertical=True)"
   ]
  },
  {
   "cell_type": "code",
   "execution_count": 32,
   "metadata": {
    "ExecuteTime": {
     "end_time": "2023-08-12T17:10:00.895743Z",
     "start_time": "2023-08-12T17:09:59.901913Z"
    }
   },
   "outputs": [
    {
     "data": {
      "text/html": [
       "<div>\n",
       "<style scoped>\n",
       "    .dataframe tbody tr th:only-of-type {\n",
       "        vertical-align: middle;\n",
       "    }\n",
       "\n",
       "    .dataframe tbody tr th {\n",
       "        vertical-align: top;\n",
       "    }\n",
       "\n",
       "    .dataframe thead th {\n",
       "        text-align: right;\n",
       "    }\n",
       "</style>\n",
       "<table border=\"1\" class=\"dataframe\">\n",
       "  <thead>\n",
       "    <tr style=\"text-align: right;\">\n",
       "      <th></th>\n",
       "      <th>age</th>\n",
       "      <th>workclass</th>\n",
       "      <th>education</th>\n",
       "      <th>education-num</th>\n",
       "      <th>marital-status</th>\n",
       "      <th>occupation</th>\n",
       "      <th>relationship</th>\n",
       "      <th>race</th>\n",
       "      <th>sex</th>\n",
       "      <th>capital-gain</th>\n",
       "      <th>capital-loss</th>\n",
       "      <th>hours-per-week</th>\n",
       "      <th>native-country</th>\n",
       "      <th>earnings</th>\n",
       "    </tr>\n",
       "  </thead>\n",
       "  <tbody>\n",
       "    <tr>\n",
       "      <th>0</th>\n",
       "      <td>39</td>\n",
       "      <td>State-gov</td>\n",
       "      <td>Bachelors</td>\n",
       "      <td>13</td>\n",
       "      <td>Never-married</td>\n",
       "      <td>Adm-clerical</td>\n",
       "      <td>Not-in-family</td>\n",
       "      <td>White</td>\n",
       "      <td>Male</td>\n",
       "      <td>2174</td>\n",
       "      <td>0</td>\n",
       "      <td>40</td>\n",
       "      <td>United-States</td>\n",
       "      <td>&lt;=50K</td>\n",
       "    </tr>\n",
       "    <tr>\n",
       "      <th>1</th>\n",
       "      <td>50</td>\n",
       "      <td>Self-emp-not-inc</td>\n",
       "      <td>Bachelors</td>\n",
       "      <td>13</td>\n",
       "      <td>Married-civ-spouse</td>\n",
       "      <td>Exec-managerial</td>\n",
       "      <td>Husband</td>\n",
       "      <td>White</td>\n",
       "      <td>Male</td>\n",
       "      <td>0</td>\n",
       "      <td>0</td>\n",
       "      <td>13</td>\n",
       "      <td>United-States</td>\n",
       "      <td>&lt;=50K</td>\n",
       "    </tr>\n",
       "    <tr>\n",
       "      <th>2</th>\n",
       "      <td>38</td>\n",
       "      <td>Private</td>\n",
       "      <td>HS-grad</td>\n",
       "      <td>9</td>\n",
       "      <td>Divorced</td>\n",
       "      <td>Handlers-cleaners</td>\n",
       "      <td>Not-in-family</td>\n",
       "      <td>White</td>\n",
       "      <td>Male</td>\n",
       "      <td>0</td>\n",
       "      <td>0</td>\n",
       "      <td>40</td>\n",
       "      <td>United-States</td>\n",
       "      <td>&lt;=50K</td>\n",
       "    </tr>\n",
       "    <tr>\n",
       "      <th>3</th>\n",
       "      <td>53</td>\n",
       "      <td>Private</td>\n",
       "      <td>11th</td>\n",
       "      <td>7</td>\n",
       "      <td>Married-civ-spouse</td>\n",
       "      <td>Handlers-cleaners</td>\n",
       "      <td>Husband</td>\n",
       "      <td>Black</td>\n",
       "      <td>Male</td>\n",
       "      <td>0</td>\n",
       "      <td>0</td>\n",
       "      <td>40</td>\n",
       "      <td>United-States</td>\n",
       "      <td>&lt;=50K</td>\n",
       "    </tr>\n",
       "    <tr>\n",
       "      <th>4</th>\n",
       "      <td>28</td>\n",
       "      <td>Private</td>\n",
       "      <td>Bachelors</td>\n",
       "      <td>13</td>\n",
       "      <td>Married-civ-spouse</td>\n",
       "      <td>Prof-specialty</td>\n",
       "      <td>Wife</td>\n",
       "      <td>Black</td>\n",
       "      <td>Female</td>\n",
       "      <td>0</td>\n",
       "      <td>0</td>\n",
       "      <td>40</td>\n",
       "      <td>Cuba</td>\n",
       "      <td>&lt;=50K</td>\n",
       "    </tr>\n",
       "    <tr>\n",
       "      <th>...</th>\n",
       "      <td>...</td>\n",
       "      <td>...</td>\n",
       "      <td>...</td>\n",
       "      <td>...</td>\n",
       "      <td>...</td>\n",
       "      <td>...</td>\n",
       "      <td>...</td>\n",
       "      <td>...</td>\n",
       "      <td>...</td>\n",
       "      <td>...</td>\n",
       "      <td>...</td>\n",
       "      <td>...</td>\n",
       "      <td>...</td>\n",
       "      <td>...</td>\n",
       "    </tr>\n",
       "    <tr>\n",
       "      <th>32556</th>\n",
       "      <td>27</td>\n",
       "      <td>Private</td>\n",
       "      <td>Assoc-acdm</td>\n",
       "      <td>12</td>\n",
       "      <td>Married-civ-spouse</td>\n",
       "      <td>Tech-support</td>\n",
       "      <td>Wife</td>\n",
       "      <td>White</td>\n",
       "      <td>Female</td>\n",
       "      <td>0</td>\n",
       "      <td>0</td>\n",
       "      <td>38</td>\n",
       "      <td>United-States</td>\n",
       "      <td>&lt;=50K</td>\n",
       "    </tr>\n",
       "    <tr>\n",
       "      <th>32557</th>\n",
       "      <td>40</td>\n",
       "      <td>Private</td>\n",
       "      <td>HS-grad</td>\n",
       "      <td>9</td>\n",
       "      <td>Married-civ-spouse</td>\n",
       "      <td>Machine-op-inspct</td>\n",
       "      <td>Husband</td>\n",
       "      <td>White</td>\n",
       "      <td>Male</td>\n",
       "      <td>0</td>\n",
       "      <td>0</td>\n",
       "      <td>40</td>\n",
       "      <td>United-States</td>\n",
       "      <td>&gt;50K</td>\n",
       "    </tr>\n",
       "    <tr>\n",
       "      <th>32558</th>\n",
       "      <td>58</td>\n",
       "      <td>Private</td>\n",
       "      <td>HS-grad</td>\n",
       "      <td>9</td>\n",
       "      <td>Widowed</td>\n",
       "      <td>Adm-clerical</td>\n",
       "      <td>Unmarried</td>\n",
       "      <td>White</td>\n",
       "      <td>Female</td>\n",
       "      <td>0</td>\n",
       "      <td>0</td>\n",
       "      <td>40</td>\n",
       "      <td>United-States</td>\n",
       "      <td>&lt;=50K</td>\n",
       "    </tr>\n",
       "    <tr>\n",
       "      <th>32559</th>\n",
       "      <td>22</td>\n",
       "      <td>Private</td>\n",
       "      <td>HS-grad</td>\n",
       "      <td>9</td>\n",
       "      <td>Never-married</td>\n",
       "      <td>Adm-clerical</td>\n",
       "      <td>Own-child</td>\n",
       "      <td>White</td>\n",
       "      <td>Male</td>\n",
       "      <td>0</td>\n",
       "      <td>0</td>\n",
       "      <td>20</td>\n",
       "      <td>United-States</td>\n",
       "      <td>&lt;=50K</td>\n",
       "    </tr>\n",
       "    <tr>\n",
       "      <th>32560</th>\n",
       "      <td>52</td>\n",
       "      <td>Self-emp-inc</td>\n",
       "      <td>HS-grad</td>\n",
       "      <td>9</td>\n",
       "      <td>Married-civ-spouse</td>\n",
       "      <td>Exec-managerial</td>\n",
       "      <td>Wife</td>\n",
       "      <td>White</td>\n",
       "      <td>Female</td>\n",
       "      <td>15024</td>\n",
       "      <td>0</td>\n",
       "      <td>40</td>\n",
       "      <td>United-States</td>\n",
       "      <td>&gt;50K</td>\n",
       "    </tr>\n",
       "  </tbody>\n",
       "</table>\n",
       "<p>32561 rows × 14 columns</p>\n",
       "</div>"
      ],
      "text/plain": [
       "       age         workclass   education  education-num      marital-status  \\\n",
       "0       39         State-gov   Bachelors             13       Never-married   \n",
       "1       50  Self-emp-not-inc   Bachelors             13  Married-civ-spouse   \n",
       "2       38           Private     HS-grad              9            Divorced   \n",
       "3       53           Private        11th              7  Married-civ-spouse   \n",
       "4       28           Private   Bachelors             13  Married-civ-spouse   \n",
       "...    ...               ...         ...            ...                 ...   \n",
       "32556   27           Private  Assoc-acdm             12  Married-civ-spouse   \n",
       "32557   40           Private     HS-grad              9  Married-civ-spouse   \n",
       "32558   58           Private     HS-grad              9             Widowed   \n",
       "32559   22           Private     HS-grad              9       Never-married   \n",
       "32560   52      Self-emp-inc     HS-grad              9  Married-civ-spouse   \n",
       "\n",
       "              occupation   relationship   race     sex  capital-gain  \\\n",
       "0           Adm-clerical  Not-in-family  White    Male          2174   \n",
       "1        Exec-managerial        Husband  White    Male             0   \n",
       "2      Handlers-cleaners  Not-in-family  White    Male             0   \n",
       "3      Handlers-cleaners        Husband  Black    Male             0   \n",
       "4         Prof-specialty           Wife  Black  Female             0   \n",
       "...                  ...            ...    ...     ...           ...   \n",
       "32556       Tech-support           Wife  White  Female             0   \n",
       "32557  Machine-op-inspct        Husband  White    Male             0   \n",
       "32558       Adm-clerical      Unmarried  White  Female             0   \n",
       "32559       Adm-clerical      Own-child  White    Male             0   \n",
       "32560    Exec-managerial           Wife  White  Female         15024   \n",
       "\n",
       "       capital-loss  hours-per-week native-country earnings  \n",
       "0                 0              40  United-States    <=50K  \n",
       "1                 0              13  United-States    <=50K  \n",
       "2                 0              40  United-States    <=50K  \n",
       "3                 0              40  United-States    <=50K  \n",
       "4                 0              40           Cuba    <=50K  \n",
       "...             ...             ...            ...      ...  \n",
       "32556             0              38  United-States    <=50K  \n",
       "32557             0              40  United-States     >50K  \n",
       "32558             0              40  United-States    <=50K  \n",
       "32559             0              20  United-States    <=50K  \n",
       "32560             0              40  United-States     >50K  \n",
       "\n",
       "[32561 rows x 14 columns]"
      ]
     },
     "execution_count": 32,
     "metadata": {},
     "output_type": "execute_result"
    }
   ],
   "source": [
    "df.toPandas()"
   ]
  },
  {
   "cell_type": "markdown",
   "metadata": {},
   "source": [
    "##  ZADANIA"
   ]
  },
  {
   "cell_type": "markdown",
   "metadata": {
    "id": "DuzvO4eMu_r0"
   },
   "source": [
    "> 1. Oblicz średnią `capital-gain` oraz `capital-loss` dla każdej narodowości - wynik uporządkuj malejąco po średnim zysku"
   ]
  },
  {
   "cell_type": "code",
   "execution_count": 37,
   "metadata": {
    "ExecuteTime": {
     "end_time": "2023-08-12T17:13:06.596466Z",
     "start_time": "2023-08-12T17:13:05.976801Z"
    }
   },
   "outputs": [
    {
     "name": "stdout",
     "output_type": "stream",
     "text": [
      "+------------------+--------+--------+\n",
      "|    native-country|avg_gain|avg_loss|\n",
      "+------------------+--------+--------+\n",
      "|             India|  3605.0|   131.0|\n",
      "|             Japan|  2546.0|    58.0|\n",
      "|            Taiwan|  2147.0|   155.0|\n",
      "|              Iran|  2045.0|   127.0|\n",
      "|             South|  1870.0|   169.0|\n",
      "|                 ?|  1807.0|   118.0|\n",
      "|            Canada|  1504.0|   130.0|\n",
      "|Dominican-Republic|  1476.0|    25.0|\n",
      "|            Greece|  1284.0|   295.0|\n",
      "|     United-States|  1089.0|    89.0|\n",
      "|          Cambodia|  1028.0|   183.0|\n",
      "|       Philippines|  1018.0|    99.0|\n",
      "|           Germany|   887.0|    78.0|\n",
      "|           England|   865.0|    83.0|\n",
      "|           Hungary|   717.0|   128.0|\n",
      "|            Poland|   684.0|    34.0|\n",
      "|           Vietnam|   661.0|    87.0|\n",
      "|             Italy|   612.0|    27.0|\n",
      "|       El-Salvador|   574.0|    31.0|\n",
      "|            France|   547.0|     0.0|\n",
      "+------------------+--------+--------+\n",
      "only showing top 20 rows\n",
      "\n"
     ]
    }
   ],
   "source": [
    "df.groupby(\"native-country\") \\\n",
    "    .agg(f.round(f.avg(\"capital-gain\")).alias(\"avg_gain\"), f.round(f.avg(\"capital-loss\")).alias(\"avg_loss\")) \\\n",
    "    .sort(\"avg_gain\", ascending=False) \\\n",
    "    .show(20)"
   ]
  },
  {
   "cell_type": "markdown",
   "metadata": {
    "id": "DuzvO4eMu_r0"
   },
   "source": [
    "> 2. Oblicz jaki procent kobiet zarabia ponad 50K w podziale na wykształcenie - wynik zaokrąglij do 2 miejsc po przecinku"
   ]
  },
  {
   "cell_type": "code",
   "execution_count": 21,
   "metadata": {
    "ExecuteTime": {
     "end_time": "2023-08-12T16:50:35.972430Z",
     "start_time": "2023-08-12T16:50:35.332091Z"
    }
   },
   "outputs": [
    {
     "name": "stdout",
     "output_type": "stream",
     "text": [
      "+------------+--------+\n",
      "|   education|pct_rich|\n",
      "+------------+--------+\n",
      "|     Masters|    0.33|\n",
      "|        10th|    0.01|\n",
      "|     5th-6th|    0.02|\n",
      "|  Assoc-acdm|    0.13|\n",
      "|   Assoc-voc|    0.13|\n",
      "|     7th-8th|    0.01|\n",
      "|         9th|    0.03|\n",
      "|     HS-grad|    0.07|\n",
      "|   Bachelors|    0.21|\n",
      "|        11th|    0.02|\n",
      "|     1st-4th|     0.0|\n",
      "|   Preschool|     0.0|\n",
      "|        12th|    0.03|\n",
      "|   Doctorate|    0.58|\n",
      "|Some-college|    0.07|\n",
      "| Prof-school|    0.46|\n",
      "+------------+--------+\n",
      "\n"
     ]
    }
   ],
   "source": [
    "df.filter(df.sex == \"Female\") \\\n",
    "    .withColumn(\"is_rich\", f.when(f.col(\"earnings\") == \">50K\", 1).otherwise(0)) \\\n",
    "    .groupby(\"education\") \\\n",
    "    .agg(f.round(f.avg(\"is_rich\"), 2).alias(\"pct_rich\")) \\\n",
    "    .show()"
   ]
  },
  {
   "cell_type": "markdown",
   "metadata": {
    "id": "DuzvO4eMu_r0"
   },
   "source": [
    "> 3. Oblicz ile godzin średnio w ciągu tygodnia pracują osoby `Never-married` w stosunku do reszty społeczeństwa"
   ]
  },
  {
   "cell_type": "code",
   "execution_count": 35,
   "metadata": {
    "ExecuteTime": {
     "end_time": "2023-08-12T17:12:41.809132Z",
     "start_time": "2023-08-12T17:12:41.281642Z"
    }
   },
   "outputs": [
    {
     "name": "stdout",
     "output_type": "stream",
     "text": [
      "+--------------+---------+\n",
      "|marriage_group|avg_hours|\n",
      "+--------------+---------+\n",
      "| Never-married|     37.0|\n",
      "|        Others|     42.0|\n",
      "+--------------+---------+\n",
      "\n"
     ]
    }
   ],
   "source": [
    "df.withColumn(\"marriage_group\", f.when(f.col(\"marital-status\") == \"Never-married\", \"Never-married\").otherwise(\"Others\")) \\\n",
    "    .groupby(\"marriage_group\") \\\n",
    "    .agg(f.round(f.avg(\"hours-per-week\")).alias(\"avg_hours\")) \\\n",
    "    .show()"
   ]
  },
  {
   "cell_type": "markdown",
   "metadata": {
    "id": "DuzvO4eMu_r0"
   },
   "source": [
    "> 4. W jakim wieku najczęściej zarabia sie powyżej 50K?"
   ]
  },
  {
   "cell_type": "code",
   "execution_count": 42,
   "metadata": {
    "ExecuteTime": {
     "end_time": "2023-08-12T17:36:02.161749Z",
     "start_time": "2023-08-12T17:36:01.861984Z"
    }
   },
   "outputs": [
    {
     "name": "stdout",
     "output_type": "stream",
     "text": [
      "+---+--------+\n",
      "|age|pct_rich|\n",
      "+---+--------+\n",
      "| 50|    0.43|\n",
      "| 54|    0.42|\n",
      "| 47|    0.41|\n",
      "| 53|    0.41|\n",
      "| 51|    0.41|\n",
      "+---+--------+\n",
      "only showing top 5 rows\n",
      "\n"
     ]
    }
   ],
   "source": [
    "df.withColumn(\"is_rich\", f.when(f.col(\"earnings\") == \">50K\", 1).otherwise(0)) \\\n",
    "    .groupby(\"age\") \\\n",
    "    .agg(f.round(f.avg(\"is_rich\"), 2).alias(\"pct_rich\")) \\\n",
    "    .sort(\"pct_rich\", ascending=False) \\\n",
    "    .show(5)"
   ]
  },
  {
   "cell_type": "markdown",
   "metadata": {
    "id": "DuzvO4eMu_r0"
   },
   "source": [
    "> 5. W podziale ze względu na zmienną `race` oblicz stosunek liczby kobiet do mężczyzn"
   ]
  },
  {
   "cell_type": "code",
   "execution_count": 57,
   "metadata": {
    "ExecuteTime": {
     "end_time": "2023-08-12T18:14:20.656706Z",
     "start_time": "2023-08-12T18:14:19.902392Z"
    }
   },
   "outputs": [
    {
     "name": "stdout",
     "output_type": "stream",
     "text": [
      "+------------------+------+-----+\n",
      "|              race|   sex|count|\n",
      "+------------------+------+-----+\n",
      "|Amer-Indian-Eskimo|  Male|  192|\n",
      "|Amer-Indian-Eskimo|Female|  119|\n",
      "|Asian-Pac-Islander|  Male|  693|\n",
      "|Asian-Pac-Islander|Female|  346|\n",
      "|             Black|  Male| 1569|\n",
      "|             Black|Female| 1555|\n",
      "|             Other|  Male|  162|\n",
      "|             Other|Female|  109|\n",
      "|             White|Female| 8642|\n",
      "|             White|  Male|19174|\n",
      "+------------------+------+-----+\n",
      "\n",
      "+------------------+-------------+\n",
      "|              race|female / male|\n",
      "+------------------+-------------+\n",
      "|             Other|         0.67|\n",
      "|Amer-Indian-Eskimo|         0.62|\n",
      "|             White|         0.45|\n",
      "|Asian-Pac-Islander|          0.5|\n",
      "|             Black|         0.99|\n",
      "+------------------+-------------+\n",
      "\n"
     ]
    }
   ],
   "source": [
    "df.groupby(\"race\", \"sex\").count().sort(\"race\").show()\n",
    "\n",
    "df.withColumns({\"is_male\": f.when(f.col(\"sex\") == \"Male\", 1).otherwise(0),\n",
    "               \"is_female\": f.when(f.col(\"sex\") == \"Female\", 1).otherwise(0)}) \\\n",
    "    .groupby(\"race\") \\\n",
    "    .agg(f.round(f.sum(\"is_female\") / f.sum(\"is_male\"), 2).alias(\"female / male\")) \\\n",
    "    .show()"
   ]
  },
  {
   "cell_type": "markdown",
   "metadata": {
    "id": "DuzvO4eMu_r0"
   },
   "source": [
    "> 6. Oblicz różnicę pomiędzy średnim czasem pracy osób uzyskujących `capital-gain` a resztą populacji"
   ]
  },
  {
   "cell_type": "code",
   "execution_count": 88,
   "metadata": {
    "ExecuteTime": {
     "end_time": "2023-08-12T19:32:00.860936Z",
     "start_time": "2023-08-12T19:32:00.559029Z"
    },
    "id": "hvyIWGagu8GA"
   },
   "outputs": [
    {
     "name": "stdout",
     "output_type": "stream",
     "text": [
      "  has_capital_gain  avg_hours\n",
      "0             True      43.51\n",
      "1            False      40.16\n",
      "\n",
      "różnica: 3.35\n"
     ]
    }
   ],
   "source": [
    "df2 = df.withColumn(\"has_capital_gain\", f.when(f.col(\"capital-gain\") > 0, \"True\").otherwise(\"False\")) \\\n",
    "            .groupby(\"has_capital_gain\") \\\n",
    "            .agg(f.round(f.avg(\"hours-per-week\"), 2).alias(\"avg_hours\")) \\\n",
    "            .sort(\"avg_hours\", ascending=False).toPandas()\n",
    "\n",
    "print(df2)\n",
    "\n",
    "print(f'\\nróżnica: {round(df2.avg_hours[0] - df2.avg_hours[1], 2)}')"
   ]
  },
  {
   "cell_type": "code",
   "execution_count": null,
   "metadata": {},
   "outputs": [],
   "source": [
    "# inne rozwiązanie:\n",
    "\n",
    "df2 = df.withColumn(\"has_capital_gain\", f.when(f.col(\"capital-gain\") > 0, \"True\").otherwise(\"False\")) \\\n",
    "            .groupby(\"has_capital_gain\") \\\n",
    "            .agg(f.round(f.avg(\"hours-per-week\"), 2).alias(\"avg_hours\")) \\\n",
    "            .sort(\"avg_hours\", ascending=False).collect()\n",
    "\n",
    "print(f'\\nróżnica: {round(df2[0].avg_hours - df2[1].avg_hours, 2)}')"
   ]
  }
 ],
 "metadata": {
  "colab": {
   "provenance": [],
   "toc_visible": true
  },
  "hide_input": false,
  "kernelspec": {
   "display_name": "Python 3 (ipykernel)",
   "language": "python",
   "name": "python3"
  },
  "language_info": {
   "codemirror_mode": {
    "name": "ipython",
    "version": 3
   },
   "file_extension": ".py",
   "mimetype": "text/x-python",
   "name": "python",
   "nbconvert_exporter": "python",
   "pygments_lexer": "ipython3",
   "version": "3.10.6"
  },
  "toc": {
   "base_numbering": 1,
   "nav_menu": {},
   "number_sections": true,
   "sideBar": true,
   "skip_h1_title": true,
   "title_cell": "Table of Contents",
   "title_sidebar": "Contents",
   "toc_cell": false,
   "toc_position": {},
   "toc_section_display": true,
   "toc_window_display": false
  },
  "varInspector": {
   "cols": {
    "lenName": 16,
    "lenType": 16,
    "lenVar": 40
   },
   "kernels_config": {
    "python": {
     "delete_cmd_postfix": "",
     "delete_cmd_prefix": "del ",
     "library": "var_list.py",
     "varRefreshCmd": "print(var_dic_list())"
    },
    "r": {
     "delete_cmd_postfix": ") ",
     "delete_cmd_prefix": "rm(",
     "library": "var_list.r",
     "varRefreshCmd": "cat(var_dic_list()) "
    }
   },
   "types_to_exclude": [
    "module",
    "function",
    "builtin_function_or_method",
    "instance",
    "_Feature"
   ],
   "window_display": false
  }
 },
 "nbformat": 4,
 "nbformat_minor": 1
}
