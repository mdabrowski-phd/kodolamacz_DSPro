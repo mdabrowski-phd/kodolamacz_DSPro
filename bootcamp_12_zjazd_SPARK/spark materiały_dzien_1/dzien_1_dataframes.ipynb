{
 "cells": [
  {
   "cell_type": "code",
   "execution_count": 1,
   "metadata": {
    "ExecuteTime": {
     "end_time": "2023-08-12T17:21:01.298676Z",
     "start_time": "2023-08-12T17:21:01.289263Z"
    }
   },
   "outputs": [
    {
     "data": {
      "text/html": [
       "<style>.container { width:85% !important; }</style>"
      ],
      "text/plain": [
       "<IPython.core.display.HTML object>"
      ]
     },
     "metadata": {},
     "output_type": "display_data"
    }
   ],
   "source": [
    "from IPython.display import display, HTML\n",
    "display(HTML(\"<style>.container { width:85% !important; }</style>\"))"
   ]
  },
  {
   "cell_type": "code",
   "execution_count": 1,
   "metadata": {
    "ExecuteTime": {
     "end_time": "2023-08-12T06:56:07.309233Z",
     "start_time": "2023-08-12T06:56:03.006203Z"
    },
    "id": "lwLBToZviZVr"
   },
   "outputs": [
    {
     "name": "stdout",
     "output_type": "stream",
     "text": [
      "Defaulting to user installation because normal site-packages is not writeable\n",
      "Requirement already satisfied: pyspark in /home/mdabrowski-phd/.local/lib/python3.10/site-packages (3.4.1)\n",
      "Requirement already satisfied: py4j==0.10.9.7 in /home/mdabrowski-phd/.local/lib/python3.10/site-packages (from pyspark) (0.10.9.7)\n"
     ]
    }
   ],
   "source": [
    "# !pip install pyspark\n",
    "import pyspark"
   ]
  },
  {
   "cell_type": "code",
   "execution_count": 2,
   "metadata": {
    "ExecuteTime": {
     "end_time": "2023-08-12T06:56:19.250312Z",
     "start_time": "2023-08-12T06:56:11.100593Z"
    },
    "id": "32ewUHyEibzK"
   },
   "outputs": [
    {
     "name": "stderr",
     "output_type": "stream",
     "text": [
      "23/08/12 08:56:14 WARN Utils: Your hostname, md-ASUS resolves to a loopback address: 127.0.1.1; using 192.168.30.211 instead (on interface eth0)\n",
      "23/08/12 08:56:14 WARN Utils: Set SPARK_LOCAL_IP if you need to bind to another address\n",
      "Setting default log level to \"WARN\".\n",
      "To adjust logging level use sc.setLogLevel(newLevel). For SparkR, use setLogLevel(newLevel).\n",
      "23/08/12 08:56:16 WARN NativeCodeLoader: Unable to load native-hadoop library for your platform... using builtin-java classes where applicable\n",
      "23/08/12 08:56:17 WARN Utils: Service 'SparkUI' could not bind on port 4040. Attempting port 4041.\n"
     ]
    }
   ],
   "source": [
    "from pyspark.sql import SparkSession\n",
    "\n",
    "spark = SparkSession.builder \\\n",
    "    .master(\"local\") \\\n",
    "    .appName(\"Spark DataFrames\") \\  # możliwość podglądu zadania po nazwie w przeglądarce ('localhost:4040')\n",
    "    .getOrCreate()"
   ]
  },
  {
   "cell_type": "code",
   "execution_count": 3,
   "metadata": {
    "ExecuteTime": {
     "end_time": "2023-08-12T06:56:26.930875Z",
     "start_time": "2023-08-12T06:56:26.866486Z"
    },
    "id": "1fQ0MTwaRILv"
   },
   "outputs": [
    {
     "data": {
      "text/plain": [
       "[('spark.master', 'local'),\n",
       " ('spark.app.startTime', '1691823376337'),\n",
       " ('spark.app.id', 'local-1691823378086'),\n",
       " ('spark.executor.id', 'driver'),\n",
       " ('spark.driver.port', '44759'),\n",
       " ('spark.driver.extraJavaOptions',\n",
       "  '-Djava.net.preferIPv6Addresses=false -XX:+IgnoreUnrecognizedVMOptions --add-opens=java.base/java.lang=ALL-UNNAMED --add-opens=java.base/java.lang.invoke=ALL-UNNAMED --add-opens=java.base/java.lang.reflect=ALL-UNNAMED --add-opens=java.base/java.io=ALL-UNNAMED --add-opens=java.base/java.net=ALL-UNNAMED --add-opens=java.base/java.nio=ALL-UNNAMED --add-opens=java.base/java.util=ALL-UNNAMED --add-opens=java.base/java.util.concurrent=ALL-UNNAMED --add-opens=java.base/java.util.concurrent.atomic=ALL-UNNAMED --add-opens=java.base/sun.nio.ch=ALL-UNNAMED --add-opens=java.base/sun.nio.cs=ALL-UNNAMED --add-opens=java.base/sun.security.action=ALL-UNNAMED --add-opens=java.base/sun.util.calendar=ALL-UNNAMED --add-opens=java.security.jgss/sun.security.krb5=ALL-UNNAMED -Djdk.reflect.useDirectMethodHandle=false'),\n",
       " ('spark.app.submitTime', '1691823376048'),\n",
       " ('spark.rdd.compress', 'True'),\n",
       " ('spark.serializer.objectStreamReset', '100'),\n",
       " ('spark.submit.pyFiles', ''),\n",
       " ('spark.app.name', 'Spark DataFrames'),\n",
       " ('spark.submit.deployMode', 'client'),\n",
       " ('spark.ui.showConsoleProgress', 'true'),\n",
       " ('spark.driver.host', '192.168.30.211'),\n",
       " ('spark.executor.extraJavaOptions',\n",
       "  '-Djava.net.preferIPv6Addresses=false -XX:+IgnoreUnrecognizedVMOptions --add-opens=java.base/java.lang=ALL-UNNAMED --add-opens=java.base/java.lang.invoke=ALL-UNNAMED --add-opens=java.base/java.lang.reflect=ALL-UNNAMED --add-opens=java.base/java.io=ALL-UNNAMED --add-opens=java.base/java.net=ALL-UNNAMED --add-opens=java.base/java.nio=ALL-UNNAMED --add-opens=java.base/java.util=ALL-UNNAMED --add-opens=java.base/java.util.concurrent=ALL-UNNAMED --add-opens=java.base/java.util.concurrent.atomic=ALL-UNNAMED --add-opens=java.base/sun.nio.ch=ALL-UNNAMED --add-opens=java.base/sun.nio.cs=ALL-UNNAMED --add-opens=java.base/sun.security.action=ALL-UNNAMED --add-opens=java.base/sun.util.calendar=ALL-UNNAMED --add-opens=java.security.jgss/sun.security.krb5=ALL-UNNAMED -Djdk.reflect.useDirectMethodHandle=false')]"
      ]
     },
     "execution_count": 3,
     "metadata": {},
     "output_type": "execute_result"
    }
   ],
   "source": [
    "spark.sparkContext.getConf().getAll()  # sprawdzenie konfiguracji (domyślne wartości parametrów)"
   ]
  },
  {
   "cell_type": "code",
   "execution_count": 4,
   "metadata": {
    "ExecuteTime": {
     "end_time": "2023-08-12T06:56:37.996866Z",
     "start_time": "2023-08-12T06:56:33.579344Z"
    },
    "id": "0s_xG0Pficdd"
   },
   "outputs": [
    {
     "name": "stdout",
     "output_type": "stream",
     "text": [
      "23/08/12 08:56:36 WARN Utils: Your hostname, md-ASUS resolves to a loopback address: 127.0.1.1; using 192.168.30.211 instead (on interface eth0)\n",
      "23/08/12 08:56:36 WARN Utils: Set SPARK_LOCAL_IP if you need to bind to another address\n",
      "Welcome to\n",
      "      ____              __\n",
      "     / __/__  ___ _____/ /__\n",
      "    _\\ \\/ _ \\/ _ `/ __/  '_/\n",
      "   /___/ .__/\\_,_/_/ /_/\\_\\   version 3.4.1\n",
      "      /_/\n",
      "                        \n",
      "Using Scala version 2.12.17, OpenJDK 64-Bit Server VM, 1.8.0_382\n",
      "Branch HEAD\n",
      "Compiled by user centos on 2023-06-19T23:01:01Z\n",
      "Revision 6b1ff22dde1ead51cbf370be6e48a802daae58b6\n",
      "Url https://github.com/apache/spark\n",
      "Type --help for more information.\n"
     ]
    }
   ],
   "source": [
    "!spark-submit --version"
   ]
  },
  {
   "cell_type": "markdown",
   "metadata": {
    "id": "RCjpOy-i8sqt"
   },
   "source": [
    "# Creating DF (DataFrame)"
   ]
  },
  {
   "cell_type": "code",
   "execution_count": 10,
   "metadata": {
    "ExecuteTime": {
     "end_time": "2023-08-12T08:01:14.077341Z",
     "start_time": "2023-08-12T08:01:14.008374Z"
    },
    "id": "heBC1r0Dichw"
   },
   "outputs": [
    {
     "data": {
      "text/plain": [
       "DataFrame[a: bigint, b: double, c: string, d: date, e: timestamp]"
      ]
     },
     "execution_count": 10,
     "metadata": {},
     "output_type": "execute_result"
    }
   ],
   "source": [
    "from datetime import datetime, date\n",
    "import pandas as pd\n",
    "from pyspark.sql import Row\n",
    "\n",
    "df = spark.createDataFrame([\n",
    "    Row(a=1, b=2., c='string1', d=date(2000, 1, 1), e=datetime(2000, 1, 1, 12, 0)),\n",
    "    Row(a=2, b=3., c='string2', d=date(2000, 2, 1), e=datetime(2000, 1, 2, 12, 0)),\n",
    "    Row(a=4, b=5., c='string3', d=date(2000, 3, 1), e=datetime(2000, 1, 3, 12, 0))\n",
    "])\n",
    "df"
   ]
  },
  {
   "cell_type": "code",
   "execution_count": 11,
   "metadata": {
    "ExecuteTime": {
     "end_time": "2023-08-12T08:01:16.074191Z",
     "start_time": "2023-08-12T08:01:15.779284Z"
    }
   },
   "outputs": [
    {
     "name": "stdout",
     "output_type": "stream",
     "text": [
      "+---+---+-------+----------+-------------------+\n",
      "|  a|  b|      c|         d|                  e|\n",
      "+---+---+-------+----------+-------------------+\n",
      "|  1|2.0|string1|2000-01-01|2000-01-01 12:00:00|\n",
      "|  2|3.0|string2|2000-02-01|2000-01-02 12:00:00|\n",
      "|  4|5.0|string3|2000-03-01|2000-01-03 12:00:00|\n",
      "+---+---+-------+----------+-------------------+\n",
      "\n"
     ]
    }
   ],
   "source": [
    "df.show()"
   ]
  },
  {
   "cell_type": "code",
   "execution_count": 6,
   "metadata": {
    "ExecuteTime": {
     "end_time": "2023-08-12T07:13:24.575573Z",
     "start_time": "2023-08-12T07:13:24.363477Z"
    },
    "id": "VFMfthYwiclg"
   },
   "outputs": [
    {
     "data": {
      "text/plain": [
       "DataFrame[a: bigint, b: double, c: string, d: date, e: timestamp]"
      ]
     },
     "execution_count": 6,
     "metadata": {},
     "output_type": "execute_result"
    }
   ],
   "source": [
    "df = spark.createDataFrame([\n",
    "    (1, 2., 'string1', date(2000, 1, 1), datetime(2000, 1, 1, 12, 0)),\n",
    "    (2, 3., 'string2', date(2000, 2, 1), datetime(2000, 1, 2, 12, 0)),\n",
    "    (3, 4., 'string3', date(2000, 3, 1), datetime(2000, 1, 3, 12, 0))\n",
    "], schema='a long, b double, c string, d date, e timestamp')\n",
    "df"
   ]
  },
  {
   "cell_type": "code",
   "execution_count": 12,
   "metadata": {
    "ExecuteTime": {
     "end_time": "2023-08-12T08:01:57.357346Z",
     "start_time": "2023-08-12T08:01:57.169638Z"
    }
   },
   "outputs": [
    {
     "name": "stdout",
     "output_type": "stream",
     "text": [
      "+---+---+-------+----------+-------------------+\n",
      "|  a|  b|      c|         d|                  e|\n",
      "+---+---+-------+----------+-------------------+\n",
      "|  1|2.0|string1|2000-01-01|2000-01-01 12:00:00|\n",
      "|  2|3.0|string2|2000-02-01|2000-01-02 12:00:00|\n",
      "|  4|5.0|string3|2000-03-01|2000-01-03 12:00:00|\n",
      "+---+---+-------+----------+-------------------+\n",
      "\n"
     ]
    }
   ],
   "source": [
    "df.show()"
   ]
  },
  {
   "cell_type": "code",
   "execution_count": 14,
   "metadata": {
    "ExecuteTime": {
     "end_time": "2023-08-12T08:02:54.608567Z",
     "start_time": "2023-08-12T08:02:54.556309Z"
    },
    "id": "l5n1UhsNicsL"
   },
   "outputs": [
    {
     "data": {
      "text/plain": [
       "DataFrame[a: bigint, b: double, c: string, d: date, e: timestamp]"
      ]
     },
     "execution_count": 14,
     "metadata": {},
     "output_type": "execute_result"
    }
   ],
   "source": [
    "# konwersja 'pandas' DataFrame() do formatu 'Spark' DataFrame\n",
    "\n",
    "pandas_df = pd.DataFrame({\n",
    "    'a': [1, 2, 3],\n",
    "    'b': [2., 3., 4.],\n",
    "    'c': ['string1', 'string2', 'string3'],\n",
    "    'd': [date(2000, 1, 1), date(2000, 2, 1), date(2000, 3, 1)],\n",
    "    'e': [datetime(2000, 1, 1, 12, 0), datetime(2000, 1, 2, 12, 0), datetime(2000, 1, 3, 12, 0)]\n",
    "})\n",
    "\n",
    "df = spark.createDataFrame(pandas_df)\n",
    "df"
   ]
  },
  {
   "cell_type": "code",
   "execution_count": 15,
   "metadata": {
    "ExecuteTime": {
     "end_time": "2023-08-12T08:02:56.621272Z",
     "start_time": "2023-08-12T08:02:56.428488Z"
    }
   },
   "outputs": [
    {
     "name": "stdout",
     "output_type": "stream",
     "text": [
      "+---+---+-------+----------+-------------------+\n",
      "|  a|  b|      c|         d|                  e|\n",
      "+---+---+-------+----------+-------------------+\n",
      "|  1|2.0|string1|2000-01-01|2000-01-01 12:00:00|\n",
      "|  2|3.0|string2|2000-02-01|2000-01-02 12:00:00|\n",
      "|  3|4.0|string3|2000-03-01|2000-01-03 12:00:00|\n",
      "+---+---+-------+----------+-------------------+\n",
      "\n"
     ]
    }
   ],
   "source": [
    "df.show()"
   ]
  },
  {
   "cell_type": "code",
   "execution_count": 16,
   "metadata": {
    "ExecuteTime": {
     "end_time": "2023-08-12T08:03:51.348405Z",
     "start_time": "2023-08-12T08:03:51.306672Z"
    },
    "id": "kuqh5bVaRIMc"
   },
   "outputs": [
    {
     "data": {
      "text/plain": [
       "DataFrame[id: double, name: string, age: int, is_client: boolean, date: timestamp]"
      ]
     },
     "execution_count": 16,
     "metadata": {},
     "output_type": "execute_result"
    }
   ],
   "source": [
    "#  https://spark.apache.org/docs/latest/api/python/reference/pyspark.sql.html#data-types\n",
    "\n",
    "from pyspark.sql.types import (StructType, \n",
    "                               StructField, \n",
    "                               StringType, \n",
    "                               IntegerType, \n",
    "                               BooleanType, \n",
    "                               DoubleType, \n",
    "                               TimestampType\n",
    "                              )\n",
    "\n",
    "data = [(1.5, \"James\", 35, True, datetime(2000, 1, 1, 12, 0))]\n",
    "\n",
    "schema = StructType([ \\\n",
    "    StructField(\"id\", DoubleType()), \n",
    "    StructField(\"name\", StringType()), \n",
    "    StructField(\"age\", IntegerType()),\n",
    "    StructField(\"is_client\", BooleanType()),\n",
    "    StructField(\"date\", TimestampType())\n",
    "  ])\n",
    " \n",
    "df = spark.createDataFrame(data=data, schema=schema)\n",
    "df"
   ]
  },
  {
   "cell_type": "code",
   "execution_count": 19,
   "metadata": {
    "ExecuteTime": {
     "end_time": "2023-08-12T08:05:12.620205Z",
     "start_time": "2023-08-12T08:05:12.440161Z"
    }
   },
   "outputs": [
    {
     "name": "stdout",
     "output_type": "stream",
     "text": [
      "root\n",
      " |-- id: double (nullable = true)\n",
      " |-- name: string (nullable = true)\n",
      " |-- age: integer (nullable = true)\n",
      " |-- is_client: boolean (nullable = true)\n",
      " |-- date: timestamp (nullable = true)\n",
      "\n",
      "+---+-----+---+---------+-------------------+\n",
      "|id |name |age|is_client|date               |\n",
      "+---+-----+---+---------+-------------------+\n",
      "|1.5|James|35 |true     |2000-01-01 12:00:00|\n",
      "+---+-----+---+---------+-------------------+\n",
      "\n"
     ]
    }
   ],
   "source": [
    "# wyświetlanie schematu tabeli ('schema')\n",
    "\n",
    "df.printSchema()\n",
    "df.show(truncate=False)  # brak ucinania wartości w długich kolumnach (domyślnie 'True')"
   ]
  },
  {
   "cell_type": "code",
   "execution_count": 24,
   "metadata": {
    "ExecuteTime": {
     "end_time": "2023-08-12T08:12:56.577645Z",
     "start_time": "2023-08-12T08:12:56.247217Z"
    },
    "id": "Pg6OIPvQRIMf"
   },
   "outputs": [
    {
     "data": {
      "text/plain": [
       "DataFrame[_c0: string, _c1: string, _c2: string, _c3: string, _c4: string]"
      ]
     },
     "execution_count": 24,
     "metadata": {},
     "output_type": "execute_result"
    }
   ],
   "source": [
    "# Saving / reading data\n",
    "\n",
    "#df.write.csv('dummy_2')  # zapis danych do oddzielnego folderu (w formacie Spark DataFrame)\n",
    "\n",
    "df = spark.read.csv('dummy_2')\n",
    "df"
   ]
  },
  {
   "cell_type": "markdown",
   "metadata": {
    "id": "ffk85IYG8kaK"
   },
   "source": [
    "# DataFrame's details"
   ]
  },
  {
   "cell_type": "code",
   "execution_count": 26,
   "metadata": {
    "ExecuteTime": {
     "end_time": "2023-08-12T08:16:34.121339Z",
     "start_time": "2023-08-12T08:16:33.730379Z"
    },
    "scrolled": true
   },
   "outputs": [
    {
     "name": "stdout",
     "output_type": "stream",
     "text": [
      "+-----------+--------------+----------+--------------+---+-------------+--------------+----------------+--------------+\n",
      "|    Country|        Region|Hemisphere|HappinessScore|HDI|GDP_PerCapita|Beer_PerCapita|Spirit_PerCapita|Wine_PerCapita|\n",
      "+-----------+--------------+----------+--------------+---+-------------+--------------+----------------+--------------+\n",
      "|    Denmark|Western Europe|     north|         7.526|928|       53.579|           224|              81|           278|\n",
      "|Switzerland|Western Europe|     north|         7.509|943|       79.866|           185|             100|           280|\n",
      "|    Iceland|Western Europe|     north|         7.501|933|        60.53|           233|              61|            78|\n",
      "|     Norway|Western Europe|     north|         7.498|951|        70.89|           169|              71|           129|\n",
      "|    Finland|Western Europe|     north|         7.413|918|       43.433|           263|             133|            97|\n",
      "+-----------+--------------+----------+--------------+---+-------------+--------------+----------------+--------------+\n",
      "only showing top 5 rows\n",
      "\n"
     ]
    }
   ],
   "source": [
    "hac_df = spark.read.csv('HappinessAlcoholConsumption.csv', header=True, inferSchema=True)\n",
    "hac_df.show(5)"
   ]
  },
  {
   "cell_type": "markdown",
   "metadata": {
    "id": "4di7E-YJRIMn"
   },
   "source": [
    "**Displaying**"
   ]
  },
  {
   "cell_type": "code",
   "execution_count": 42,
   "metadata": {
    "ExecuteTime": {
     "end_time": "2023-08-12T08:23:19.543621Z",
     "start_time": "2023-08-12T08:23:19.463555Z"
    },
    "id": "HhGDNSQnRIMp"
   },
   "outputs": [
    {
     "data": {
      "text/plain": [
       "Row(Country='Denmark', Region='Western Europe', Hemisphere='north', HappinessScore=7.526, HDI=928, GDP_PerCapita=53.579, Beer_PerCapita=224, Spirit_PerCapita=81, Wine_PerCapita=278)"
      ]
     },
     "execution_count": 42,
     "metadata": {},
     "output_type": "execute_result"
    }
   ],
   "source": [
    "hac_df.head()"
   ]
  },
  {
   "cell_type": "code",
   "execution_count": 41,
   "metadata": {
    "ExecuteTime": {
     "end_time": "2023-08-12T08:22:59.754566Z",
     "start_time": "2023-08-12T08:22:59.643846Z"
    },
    "id": "tuGqVMYej0w0"
   },
   "outputs": [
    {
     "name": "stdout",
     "output_type": "stream",
     "text": [
      "+-----------+--------------+----------+--------------+---+-------------+--------------+----------------+--------------+\n",
      "|    Country|        Region|Hemisphere|HappinessScore|HDI|GDP_PerCapita|Beer_PerCapita|Spirit_PerCapita|Wine_PerCapita|\n",
      "+-----------+--------------+----------+--------------+---+-------------+--------------+----------------+--------------+\n",
      "|    Denmark|Western Europe|     north|         7.526|928|       53.579|           224|              81|           278|\n",
      "|Switzerland|Western Europe|     north|         7.509|943|       79.866|           185|             100|           280|\n",
      "|    Iceland|Western Europe|     north|         7.501|933|        60.53|           233|              61|            78|\n",
      "|     Norway|Western Europe|     north|         7.498|951|        70.89|           169|              71|           129|\n",
      "|    Finland|Western Europe|     north|         7.413|918|       43.433|           263|             133|            97|\n",
      "+-----------+--------------+----------+--------------+---+-------------+--------------+----------------+--------------+\n",
      "only showing top 5 rows\n",
      "\n"
     ]
    }
   ],
   "source": [
    "hac_df.show(5)"
   ]
  },
  {
   "cell_type": "code",
   "execution_count": 44,
   "metadata": {
    "ExecuteTime": {
     "end_time": "2023-08-12T08:25:48.081413Z",
     "start_time": "2023-08-12T08:25:47.975575Z"
    },
    "id": "sPw9t79Aj09c"
   },
   "outputs": [
    {
     "name": "stdout",
     "output_type": "stream",
     "text": [
      "-RECORD 0--------------------------\n",
      " Country          | Denmark        \n",
      " Region           | Western Europe \n",
      " Hemisphere       | north          \n",
      " HappinessScore   | 7.526          \n",
      " HDI              | 928            \n",
      " GDP_PerCapita    | 53.579         \n",
      " Beer_PerCapita   | 224            \n",
      " Spirit_PerCapita | 81             \n",
      " Wine_PerCapita   | 278            \n",
      "-RECORD 1--------------------------\n",
      " Country          | Switzerland    \n",
      " Region           | Western Europe \n",
      " Hemisphere       | north          \n",
      " HappinessScore   | 7.509          \n",
      " HDI              | 943            \n",
      " GDP_PerCapita    | 79.866         \n",
      " Beer_PerCapita   | 185            \n",
      " Spirit_PerCapita | 100            \n",
      " Wine_PerCapita   | 280            \n",
      "-RECORD 2--------------------------\n",
      " Country          | Iceland        \n",
      " Region           | Western Europe \n",
      " Hemisphere       | north          \n",
      " HappinessScore   | 7.501          \n",
      " HDI              | 933            \n",
      " GDP_PerCapita    | 60.53          \n",
      " Beer_PerCapita   | 233            \n",
      " Spirit_PerCapita | 61             \n",
      " Wine_PerCapita   | 78             \n",
      "only showing top 3 rows\n",
      "\n"
     ]
    }
   ],
   "source": [
    "hac_df.show(3, vertical=True)"
   ]
  },
  {
   "cell_type": "code",
   "execution_count": 34,
   "metadata": {
    "ExecuteTime": {
     "end_time": "2023-08-12T08:22:14.757829Z",
     "start_time": "2023-08-12T08:22:14.631590Z"
    },
    "id": "HoO1cOQnkkZd"
   },
   "outputs": [
    {
     "data": {
      "text/plain": [
       "[Row(Country='Denmark', Region='Western Europe', Hemisphere='north', HappinessScore=7.526, HDI=928, GDP_PerCapita=53.579, Beer_PerCapita=224, Spirit_PerCapita=81, Wine_PerCapita=278),\n",
       " Row(Country='Switzerland', Region='Western Europe', Hemisphere='north', HappinessScore=7.509, HDI=943, GDP_PerCapita=79.866, Beer_PerCapita=185, Spirit_PerCapita=100, Wine_PerCapita=280),\n",
       " Row(Country='Iceland', Region='Western Europe', Hemisphere='north', HappinessScore=7.501, HDI=933, GDP_PerCapita=60.53, Beer_PerCapita=233, Spirit_PerCapita=61, Wine_PerCapita=78)]"
      ]
     },
     "execution_count": 34,
     "metadata": {},
     "output_type": "execute_result"
    }
   ],
   "source": [
    "hac_df.take(3)  # zwraca listę, umożliwia dalsze indeksowanie"
   ]
  },
  {
   "cell_type": "code",
   "execution_count": 43,
   "metadata": {
    "ExecuteTime": {
     "end_time": "2023-08-12T08:23:30.193716Z",
     "start_time": "2023-08-12T08:23:30.059101Z"
    },
    "id": "iOFBLhN6j1O6"
   },
   "outputs": [
    {
     "data": {
      "text/plain": [
       "[Row(_c0='1.5', _c1='James', _c2='35', _c3='true', _c4='2000-01-01T12:00:00.000+01:00')]"
      ]
     },
     "execution_count": 43,
     "metadata": {},
     "output_type": "execute_result"
    }
   ],
   "source": [
    "df.collect()  # wszystkie wyniki zwracane do RAM (nie należy stosować dla dużych danych!)"
   ]
  },
  {
   "cell_type": "code",
   "execution_count": 45,
   "metadata": {
    "ExecuteTime": {
     "end_time": "2023-08-12T08:26:52.229482Z",
     "start_time": "2023-08-12T08:26:52.222044Z"
    },
    "id": "IJ1Udjbdj1DC"
   },
   "outputs": [
    {
     "data": {
      "text/plain": [
       "['Country',\n",
       " 'Region',\n",
       " 'Hemisphere',\n",
       " 'HappinessScore',\n",
       " 'HDI',\n",
       " 'GDP_PerCapita',\n",
       " 'Beer_PerCapita',\n",
       " 'Spirit_PerCapita',\n",
       " 'Wine_PerCapita']"
      ]
     },
     "execution_count": 45,
     "metadata": {},
     "output_type": "execute_result"
    }
   ],
   "source": [
    "hac_df.columns  # format 'pandas'"
   ]
  },
  {
   "cell_type": "code",
   "execution_count": 46,
   "metadata": {
    "ExecuteTime": {
     "end_time": "2023-08-12T08:26:58.162615Z",
     "start_time": "2023-08-12T08:26:58.155724Z"
    },
    "id": "BfpWpGXCRIM1"
   },
   "outputs": [
    {
     "data": {
      "text/plain": [
       "StructType([StructField('Country', StringType(), True), StructField('Region', StringType(), True), StructField('Hemisphere', StringType(), True), StructField('HappinessScore', DoubleType(), True), StructField('HDI', IntegerType(), True), StructField('GDP_PerCapita', DoubleType(), True), StructField('Beer_PerCapita', IntegerType(), True), StructField('Spirit_PerCapita', IntegerType(), True), StructField('Wine_PerCapita', IntegerType(), True)])"
      ]
     },
     "execution_count": 46,
     "metadata": {},
     "output_type": "execute_result"
    }
   ],
   "source": [
    "hac_df.schema  # format 'Spark' (schema)"
   ]
  },
  {
   "cell_type": "code",
   "execution_count": 47,
   "metadata": {
    "ExecuteTime": {
     "end_time": "2023-08-12T08:27:33.025586Z",
     "start_time": "2023-08-12T08:27:33.018373Z"
    },
    "id": "ixmr_FH9j1G8"
   },
   "outputs": [
    {
     "name": "stdout",
     "output_type": "stream",
     "text": [
      "root\n",
      " |-- Country: string (nullable = true)\n",
      " |-- Region: string (nullable = true)\n",
      " |-- Hemisphere: string (nullable = true)\n",
      " |-- HappinessScore: double (nullable = true)\n",
      " |-- HDI: integer (nullable = true)\n",
      " |-- GDP_PerCapita: double (nullable = true)\n",
      " |-- Beer_PerCapita: integer (nullable = true)\n",
      " |-- Spirit_PerCapita: integer (nullable = true)\n",
      " |-- Wine_PerCapita: integer (nullable = true)\n",
      "\n"
     ]
    }
   ],
   "source": [
    "hac_df.printSchema()"
   ]
  },
  {
   "cell_type": "code",
   "execution_count": 48,
   "metadata": {
    "ExecuteTime": {
     "end_time": "2023-08-12T08:27:51.008590Z",
     "start_time": "2023-08-12T08:27:51.001404Z"
    },
    "id": "2c1mIJR3RIM5"
   },
   "outputs": [
    {
     "data": {
      "text/plain": [
       "[('Country', 'string'),\n",
       " ('Region', 'string'),\n",
       " ('Hemisphere', 'string'),\n",
       " ('HappinessScore', 'double'),\n",
       " ('HDI', 'int'),\n",
       " ('GDP_PerCapita', 'double'),\n",
       " ('Beer_PerCapita', 'int'),\n",
       " ('Spirit_PerCapita', 'int'),\n",
       " ('Wine_PerCapita', 'int')]"
      ]
     },
     "execution_count": 48,
     "metadata": {},
     "output_type": "execute_result"
    }
   ],
   "source": [
    "hac_df.dtypes  # as a list of tupples"
   ]
  },
  {
   "cell_type": "code",
   "execution_count": 49,
   "metadata": {
    "ExecuteTime": {
     "end_time": "2023-08-12T08:29:53.561262Z",
     "start_time": "2023-08-12T08:29:53.098353Z"
    },
    "id": "UHOVWaZ0RIM7"
   },
   "outputs": [
    {
     "data": {
      "text/plain": [
       "122"
      ]
     },
     "execution_count": 49,
     "metadata": {},
     "output_type": "execute_result"
    }
   ],
   "source": [
    "hac_df.count()  # pandas len()"
   ]
  },
  {
   "cell_type": "code",
   "execution_count": 50,
   "metadata": {
    "ExecuteTime": {
     "end_time": "2023-08-12T08:29:58.336860Z",
     "start_time": "2023-08-12T08:29:57.993741Z"
    },
    "id": "k-ztn6PoRIM9"
   },
   "outputs": [
    {
     "data": {
      "text/plain": [
       "-0.451425211091511"
      ]
     },
     "execution_count": 50,
     "metadata": {},
     "output_type": "execute_result"
    }
   ],
   "source": [
    "hac_df.corr('GDP_PerCapita', 'HappinessScore')"
   ]
  },
  {
   "cell_type": "code",
   "execution_count": 51,
   "metadata": {
    "ExecuteTime": {
     "end_time": "2023-08-12T08:30:08.999573Z",
     "start_time": "2023-08-12T08:30:07.968894Z"
    },
    "id": "QQZ9Tw5cj1LH"
   },
   "outputs": [
    {
     "name": "stderr",
     "output_type": "stream",
     "text": [
      "23/08/12 10:30:08 WARN package: Truncated the string representation of a plan since it was too large. This behavior can be adjusted by setting 'spark.sql.debug.maxToStringFields'.\n"
     ]
    },
    {
     "name": "stdout",
     "output_type": "stream",
     "text": [
      "+-------+--------+--------------------+----------+------------------+------------------+-----------------+------------------+-----------------+-----------------+\n",
      "|summary| Country|              Region|Hemisphere|    HappinessScore|               HDI|    GDP_PerCapita|    Beer_PerCapita| Spirit_PerCapita|   Wine_PerCapita|\n",
      "+-------+--------+--------------------+----------+------------------+------------------+-----------------+------------------+-----------------+-----------------+\n",
      "|  count|     122|                 122|       122|               122|               122|              122|               122|              122|              122|\n",
      "|   mean|    null|                null|      null| 5.524827868852458| 740.8770491803278|91.48283606557379| 137.5655737704918|96.59836065573771|66.59836065573771|\n",
      "| stddev|    null|                null|      null|1.1487360549077443|149.84612371102796|209.5773133103142|104.81735296565127| 81.4350280833944|88.12150325620482|\n",
      "|    min| Albania|Australia and New...|      both|             3.069|               351|            1.029|                 1|                1|                1|\n",
      "|    max|Zimbabwe|      Western Europe|     south|             7.526|               951|            953.0|               376|              373|              370|\n",
      "+-------+--------+--------------------+----------+------------------+------------------+-----------------+------------------+-----------------+-----------------+\n",
      "\n"
     ]
    }
   ],
   "source": [
    "hac_df.describe().show(5)"
   ]
  },
  {
   "cell_type": "code",
   "execution_count": 52,
   "metadata": {
    "ExecuteTime": {
     "end_time": "2023-08-12T08:30:39.694263Z",
     "start_time": "2023-08-12T08:30:38.842127Z"
    },
    "id": "g_LRsFdZRINA"
   },
   "outputs": [
    {
     "name": "stdout",
     "output_type": "stream",
     "text": [
      "+-------+--------+--------------------+----------+------------------+------------------+-----------------+------------------+-----------------+-----------------+\n",
      "|summary| Country|              Region|Hemisphere|    HappinessScore|               HDI|    GDP_PerCapita|    Beer_PerCapita| Spirit_PerCapita|   Wine_PerCapita|\n",
      "+-------+--------+--------------------+----------+------------------+------------------+-----------------+------------------+-----------------+-----------------+\n",
      "|  count|     122|                 122|       122|               122|               122|              122|               122|              122|              122|\n",
      "|   mean|    null|                null|      null| 5.524827868852458| 740.8770491803278|91.48283606557379| 137.5655737704918|96.59836065573771|66.59836065573771|\n",
      "| stddev|    null|                null|      null|1.1487360549077443|149.84612371102796|209.5773133103142|104.81735296565127| 81.4350280833944|88.12150325620482|\n",
      "|    min| Albania|Australia and New...|      both|             3.069|               351|            1.029|                 1|                1|                1|\n",
      "|    25%|    null|                null|      null|             4.513|               662|            4.132|                37|               25|                5|\n",
      "|    50%|    null|                null|      null|             5.538|               757|           11.733|               124|               81|               16|\n",
      "|    75%|    null|                null|      null|             6.478|               862|           42.233|               225|              145|              113|\n",
      "|    max|Zimbabwe|      Western Europe|     south|             7.526|               951|            953.0|               376|              373|              370|\n",
      "+-------+--------+--------------------+----------+------------------+------------------+-----------------+------------------+-----------------+-----------------+\n",
      "\n"
     ]
    }
   ],
   "source": [
    "hac_df.summary().show()"
   ]
  },
  {
   "cell_type": "code",
   "execution_count": 54,
   "metadata": {
    "ExecuteTime": {
     "end_time": "2023-08-12T08:32:05.617109Z",
     "start_time": "2023-08-12T08:32:05.520845Z"
    },
    "id": "OKHblj8zkm40"
   },
   "outputs": [
    {
     "data": {
      "text/html": [
       "<div>\n",
       "<style scoped>\n",
       "    .dataframe tbody tr th:only-of-type {\n",
       "        vertical-align: middle;\n",
       "    }\n",
       "\n",
       "    .dataframe tbody tr th {\n",
       "        vertical-align: top;\n",
       "    }\n",
       "\n",
       "    .dataframe thead th {\n",
       "        text-align: right;\n",
       "    }\n",
       "</style>\n",
       "<table border=\"1\" class=\"dataframe\">\n",
       "  <thead>\n",
       "    <tr style=\"text-align: right;\">\n",
       "      <th></th>\n",
       "      <th>Country</th>\n",
       "      <th>Region</th>\n",
       "      <th>Hemisphere</th>\n",
       "      <th>HappinessScore</th>\n",
       "      <th>HDI</th>\n",
       "      <th>GDP_PerCapita</th>\n",
       "      <th>Beer_PerCapita</th>\n",
       "      <th>Spirit_PerCapita</th>\n",
       "      <th>Wine_PerCapita</th>\n",
       "    </tr>\n",
       "  </thead>\n",
       "  <tbody>\n",
       "    <tr>\n",
       "      <th>0</th>\n",
       "      <td>Denmark</td>\n",
       "      <td>Western Europe</td>\n",
       "      <td>north</td>\n",
       "      <td>7.526</td>\n",
       "      <td>928</td>\n",
       "      <td>53.579</td>\n",
       "      <td>224</td>\n",
       "      <td>81</td>\n",
       "      <td>278</td>\n",
       "    </tr>\n",
       "    <tr>\n",
       "      <th>1</th>\n",
       "      <td>Switzerland</td>\n",
       "      <td>Western Europe</td>\n",
       "      <td>north</td>\n",
       "      <td>7.509</td>\n",
       "      <td>943</td>\n",
       "      <td>79.866</td>\n",
       "      <td>185</td>\n",
       "      <td>100</td>\n",
       "      <td>280</td>\n",
       "    </tr>\n",
       "    <tr>\n",
       "      <th>2</th>\n",
       "      <td>Iceland</td>\n",
       "      <td>Western Europe</td>\n",
       "      <td>north</td>\n",
       "      <td>7.501</td>\n",
       "      <td>933</td>\n",
       "      <td>60.530</td>\n",
       "      <td>233</td>\n",
       "      <td>61</td>\n",
       "      <td>78</td>\n",
       "    </tr>\n",
       "    <tr>\n",
       "      <th>3</th>\n",
       "      <td>Norway</td>\n",
       "      <td>Western Europe</td>\n",
       "      <td>north</td>\n",
       "      <td>7.498</td>\n",
       "      <td>951</td>\n",
       "      <td>70.890</td>\n",
       "      <td>169</td>\n",
       "      <td>71</td>\n",
       "      <td>129</td>\n",
       "    </tr>\n",
       "    <tr>\n",
       "      <th>4</th>\n",
       "      <td>Finland</td>\n",
       "      <td>Western Europe</td>\n",
       "      <td>north</td>\n",
       "      <td>7.413</td>\n",
       "      <td>918</td>\n",
       "      <td>43.433</td>\n",
       "      <td>263</td>\n",
       "      <td>133</td>\n",
       "      <td>97</td>\n",
       "    </tr>\n",
       "    <tr>\n",
       "      <th>...</th>\n",
       "      <td>...</td>\n",
       "      <td>...</td>\n",
       "      <td>...</td>\n",
       "      <td>...</td>\n",
       "      <td>...</td>\n",
       "      <td>...</td>\n",
       "      <td>...</td>\n",
       "      <td>...</td>\n",
       "      <td>...</td>\n",
       "    </tr>\n",
       "    <tr>\n",
       "      <th>117</th>\n",
       "      <td>Tanzania</td>\n",
       "      <td>Sub-Saharan Africa</td>\n",
       "      <td>south</td>\n",
       "      <td>3.666</td>\n",
       "      <td>533</td>\n",
       "      <td>878.000</td>\n",
       "      <td>36</td>\n",
       "      <td>6</td>\n",
       "      <td>1</td>\n",
       "    </tr>\n",
       "    <tr>\n",
       "      <th>118</th>\n",
       "      <td>Liberia</td>\n",
       "      <td>Sub-Saharan Africa</td>\n",
       "      <td>north</td>\n",
       "      <td>3.622</td>\n",
       "      <td>432</td>\n",
       "      <td>455.000</td>\n",
       "      <td>19</td>\n",
       "      <td>152</td>\n",
       "      <td>2</td>\n",
       "    </tr>\n",
       "    <tr>\n",
       "      <th>119</th>\n",
       "      <td>Benin</td>\n",
       "      <td>Sub-Saharan Africa</td>\n",
       "      <td>north</td>\n",
       "      <td>3.484</td>\n",
       "      <td>512</td>\n",
       "      <td>789.000</td>\n",
       "      <td>34</td>\n",
       "      <td>4</td>\n",
       "      <td>13</td>\n",
       "    </tr>\n",
       "    <tr>\n",
       "      <th>120</th>\n",
       "      <td>Togo</td>\n",
       "      <td>Sub-Saharan Africa</td>\n",
       "      <td>north</td>\n",
       "      <td>3.303</td>\n",
       "      <td>500</td>\n",
       "      <td>577.000</td>\n",
       "      <td>36</td>\n",
       "      <td>2</td>\n",
       "      <td>19</td>\n",
       "    </tr>\n",
       "    <tr>\n",
       "      <th>121</th>\n",
       "      <td>Syria</td>\n",
       "      <td>Middle East and Northern Africa</td>\n",
       "      <td>north</td>\n",
       "      <td>3.069</td>\n",
       "      <td>536</td>\n",
       "      <td>2.058</td>\n",
       "      <td>5</td>\n",
       "      <td>35</td>\n",
       "      <td>16</td>\n",
       "    </tr>\n",
       "  </tbody>\n",
       "</table>\n",
       "<p>122 rows × 9 columns</p>\n",
       "</div>"
      ],
      "text/plain": [
       "         Country                           Region Hemisphere  HappinessScore  \\\n",
       "0        Denmark                   Western Europe      north           7.526   \n",
       "1    Switzerland                   Western Europe      north           7.509   \n",
       "2        Iceland                   Western Europe      north           7.501   \n",
       "3         Norway                   Western Europe      north           7.498   \n",
       "4        Finland                   Western Europe      north           7.413   \n",
       "..           ...                              ...        ...             ...   \n",
       "117     Tanzania               Sub-Saharan Africa      south           3.666   \n",
       "118      Liberia               Sub-Saharan Africa      north           3.622   \n",
       "119        Benin               Sub-Saharan Africa      north           3.484   \n",
       "120         Togo               Sub-Saharan Africa      north           3.303   \n",
       "121        Syria  Middle East and Northern Africa      north           3.069   \n",
       "\n",
       "     HDI  GDP_PerCapita  Beer_PerCapita  Spirit_PerCapita  Wine_PerCapita  \n",
       "0    928         53.579             224                81             278  \n",
       "1    943         79.866             185               100             280  \n",
       "2    933         60.530             233                61              78  \n",
       "3    951         70.890             169                71             129  \n",
       "4    918         43.433             263               133              97  \n",
       "..   ...            ...             ...               ...             ...  \n",
       "117  533        878.000              36                 6               1  \n",
       "118  432        455.000              19               152               2  \n",
       "119  512        789.000              34                 4              13  \n",
       "120  500        577.000              36                 2              19  \n",
       "121  536          2.058               5                35              16  \n",
       "\n",
       "[122 rows x 9 columns]"
      ]
     },
     "execution_count": 54,
     "metadata": {},
     "output_type": "execute_result"
    }
   ],
   "source": [
    "pandas_df = hac_df.toPandas()  # konwersja na 'pandas' DataFrame\n",
    "pandas_df"
   ]
  },
  {
   "cell_type": "markdown",
   "metadata": {
    "id": "9bTvcXdL9w2F"
   },
   "source": [
    "# Dropping data and filling missing values"
   ]
  },
  {
   "cell_type": "code",
   "execution_count": 60,
   "metadata": {
    "ExecuteTime": {
     "end_time": "2023-08-12T08:47:06.461721Z",
     "start_time": "2023-08-12T08:47:05.451416Z"
    },
    "id": "LzYZjhWmmkYQ"
   },
   "outputs": [
    {
     "name": "stdout",
     "output_type": "stream",
     "text": [
      "Country: 0\n",
      "Region: 0\n",
      "Hemisphere: 0\n",
      "HappinessScore: 0\n",
      "HDI: 0\n",
      "GDP_PerCapita: 0\n",
      "Beer_PerCapita: 0\n",
      "Spirit_PerCapita: 0\n",
      "Wine_PerCapita: 0\n"
     ]
    }
   ],
   "source": [
    "import pyspark.sql.functions as f\n",
    "\n",
    "for column in hac_df.columns:\n",
    "    \n",
    "    nan_count = hac_df.where(f.col(column).isNull()).count()\n",
    "    print(f'{column}: {nan_count}')"
   ]
  },
  {
   "cell_type": "code",
   "execution_count": 61,
   "metadata": {
    "ExecuteTime": {
     "end_time": "2023-08-12T08:48:27.957086Z",
     "start_time": "2023-08-12T08:48:27.911523Z"
    },
    "id": "xQjN66v0RIND"
   },
   "outputs": [
    {
     "data": {
      "text/plain": [
       "DataFrame[a: bigint, b: double, c: string]"
      ]
     },
     "execution_count": 61,
     "metadata": {},
     "output_type": "execute_result"
    }
   ],
   "source": [
    "df = spark.createDataFrame([\n",
    "    Row(a=1, b=float('nan'), c='string'),\n",
    "    Row(a=1, b=2.0, c='string'),\n",
    "    Row(a=1, b=2.0, c=None)\n",
    "])\n",
    "\n",
    "df"
   ]
  },
  {
   "cell_type": "code",
   "execution_count": 62,
   "metadata": {
    "ExecuteTime": {
     "end_time": "2023-08-12T08:50:47.702051Z",
     "start_time": "2023-08-12T08:50:47.372924Z"
    },
    "id": "bmcRGiRURING"
   },
   "outputs": [
    {
     "name": "stdout",
     "output_type": "stream",
     "text": [
      "+---+---+------+\n",
      "|  a|  b|     c|\n",
      "+---+---+------+\n",
      "|  1|2.0|string|\n",
      "|  1|2.0|  null|\n",
      "|  1|NaN|string|\n",
      "+---+---+------+\n",
      "\n"
     ]
    }
   ],
   "source": [
    "df.distinct().show()  # distinct rows (wyrzucenie duplikatów --> tu: bez znaczenia)"
   ]
  },
  {
   "cell_type": "code",
   "execution_count": 63,
   "metadata": {
    "ExecuteTime": {
     "end_time": "2023-08-12T08:51:30.855106Z",
     "start_time": "2023-08-12T08:51:30.539423Z"
    },
    "id": "95vJpfOWRINH"
   },
   "outputs": [
    {
     "name": "stdout",
     "output_type": "stream",
     "text": [
      "+---+---+------+\n",
      "|  a|  b|     c|\n",
      "+---+---+------+\n",
      "|  1|2.0|string|\n",
      "|  1|NaN|string|\n",
      "+---+---+------+\n",
      "\n"
     ]
    }
   ],
   "source": [
    "df.drop_duplicates(['a', 'b']).show()"
   ]
  },
  {
   "cell_type": "code",
   "execution_count": 64,
   "metadata": {
    "ExecuteTime": {
     "end_time": "2023-08-12T08:52:32.492478Z",
     "start_time": "2023-08-12T08:52:32.333505Z"
    },
    "id": "nI7wwaYhRINK"
   },
   "outputs": [
    {
     "name": "stdout",
     "output_type": "stream",
     "text": [
      "+---+---+------+\n",
      "|  a|  b|     c|\n",
      "+---+---+------+\n",
      "|  1|2.0|string|\n",
      "+---+---+------+\n",
      "\n"
     ]
    }
   ],
   "source": [
    "df.dropna().show()"
   ]
  },
  {
   "cell_type": "code",
   "execution_count": 65,
   "metadata": {
    "ExecuteTime": {
     "end_time": "2023-08-12T08:57:37.867045Z",
     "start_time": "2023-08-12T08:57:37.711188Z"
    },
    "id": "zTpVS27aRINN"
   },
   "outputs": [
    {
     "name": "stdout",
     "output_type": "stream",
     "text": [
      "+---+---+------+\n",
      "|  a|  b|     c|\n",
      "+---+---+------+\n",
      "|  1|2.0|string|\n",
      "|  1|2.0|  null|\n",
      "+---+---+------+\n",
      "\n"
     ]
    }
   ],
   "source": [
    "df.dropna(how='any', subset=['a', 'b']).show()  # how='all' (... oraz inne opcje)"
   ]
  },
  {
   "cell_type": "code",
   "execution_count": 66,
   "metadata": {
    "ExecuteTime": {
     "end_time": "2023-08-12T08:59:19.455602Z",
     "start_time": "2023-08-12T08:59:19.286940Z"
    },
    "id": "5l62cz-6RINO"
   },
   "outputs": [
    {
     "name": "stdout",
     "output_type": "stream",
     "text": [
      "+---+---+------+\n",
      "|  a|  b|     c|\n",
      "+---+---+------+\n",
      "|  1|7.0|string|\n",
      "|  1|2.0|string|\n",
      "|  1|2.0|  null|\n",
      "+---+---+------+\n",
      "\n"
     ]
    }
   ],
   "source": [
    "df.fillna(7.0, subset='b').show()"
   ]
  },
  {
   "cell_type": "code",
   "execution_count": 67,
   "metadata": {
    "ExecuteTime": {
     "end_time": "2023-08-12T08:59:30.326652Z",
     "start_time": "2023-08-12T08:59:30.173063Z"
    },
    "id": "mv7wHz3fRINP"
   },
   "outputs": [
    {
     "name": "stdout",
     "output_type": "stream",
     "text": [
      "+---+---+------+\n",
      "|  a|  b|     c|\n",
      "+---+---+------+\n",
      "|  1|8.0|string|\n",
      "|  1|2.0|string|\n",
      "|  1|2.0|     X|\n",
      "+---+---+------+\n",
      "\n"
     ]
    }
   ],
   "source": [
    "df.fillna({\"b\": 8.0, \"c\": \"X\"}).show()"
   ]
  },
  {
   "cell_type": "markdown",
   "metadata": {
    "id": "Ly-ovc_6RINT"
   },
   "source": [
    "## Zadanie 1: "
   ]
  },
  {
   "cell_type": "markdown",
   "metadata": {
    "id": "OaMyX8qbRINV"
   },
   "source": [
    "Wczytaj zbiór danych \"salaries.csv\":\n",
    "\n",
    "- sprawdź wielkość tabeli oraz typy dla poszczególnych kolumn. \n",
    "- Sprawdź, czy są braki danych w każdej z kolumn.\n",
    "- Sprawdź, czy nie ma zduplikowanych wierszy.\n",
    "\n",
    "źródło: https://www.kaggle.com/datasets/thedevastator/know-your-worth-tech-salaries-in-2016?resource=download"
   ]
  },
  {
   "cell_type": "code",
   "execution_count": 90,
   "metadata": {
    "ExecuteTime": {
     "end_time": "2023-08-12T09:14:33.333025Z",
     "start_time": "2023-08-12T09:14:32.949759Z"
    },
    "id": "qZlROiy7V4KT"
   },
   "outputs": [
    {
     "data": {
      "text/html": [
       "<div>\n",
       "<style scoped>\n",
       "    .dataframe tbody tr th:only-of-type {\n",
       "        vertical-align: middle;\n",
       "    }\n",
       "\n",
       "    .dataframe tbody tr th {\n",
       "        vertical-align: top;\n",
       "    }\n",
       "\n",
       "    .dataframe thead th {\n",
       "        text-align: right;\n",
       "    }\n",
       "</style>\n",
       "<table border=\"1\" class=\"dataframe\">\n",
       "  <thead>\n",
       "    <tr style=\"text-align: right;\">\n",
       "      <th></th>\n",
       "      <th>index</th>\n",
       "      <th>salary_id</th>\n",
       "      <th>employer_name</th>\n",
       "      <th>location_name</th>\n",
       "      <th>location_state</th>\n",
       "      <th>location_country</th>\n",
       "      <th>location_latitude</th>\n",
       "      <th>location_longitude</th>\n",
       "      <th>job_title</th>\n",
       "      <th>job_title_category</th>\n",
       "      <th>job_title_rank</th>\n",
       "      <th>total_experience_years</th>\n",
       "      <th>employer_experience_years</th>\n",
       "      <th>annual_base_pay</th>\n",
       "      <th>signing_bonus</th>\n",
       "      <th>annual_bonus</th>\n",
       "      <th>stock_value_bonus</th>\n",
       "      <th>comments</th>\n",
       "      <th>submitted_at</th>\n",
       "    </tr>\n",
       "  </thead>\n",
       "  <tbody>\n",
       "    <tr>\n",
       "      <th>0</th>\n",
       "      <td>0</td>\n",
       "      <td>1</td>\n",
       "      <td>opower</td>\n",
       "      <td>san francisco, ca</td>\n",
       "      <td>CA</td>\n",
       "      <td>US</td>\n",
       "      <td>37.77</td>\n",
       "      <td>-122.41</td>\n",
       "      <td>systems engineer</td>\n",
       "      <td>Engineering</td>\n",
       "      <td>None</td>\n",
       "      <td>13.0</td>\n",
       "      <td>2.0</td>\n",
       "      <td>125000.0</td>\n",
       "      <td>5000.0</td>\n",
       "      <td>0.0</td>\n",
       "      <td>5000 shares</td>\n",
       "      <td>Don't work here.</td>\n",
       "      <td>3/21/16 12:58</td>\n",
       "    </tr>\n",
       "    <tr>\n",
       "      <th>1</th>\n",
       "      <td>1</td>\n",
       "      <td>3</td>\n",
       "      <td>walmart</td>\n",
       "      <td>bentonville, ar</td>\n",
       "      <td>AR</td>\n",
       "      <td>US</td>\n",
       "      <td>36.36</td>\n",
       "      <td>-94.20</td>\n",
       "      <td>senior developer</td>\n",
       "      <td>Software</td>\n",
       "      <td>Senior</td>\n",
       "      <td>15.0</td>\n",
       "      <td>8.0</td>\n",
       "      <td>65000.0</td>\n",
       "      <td>NaN</td>\n",
       "      <td>5000.0</td>\n",
       "      <td>3,000</td>\n",
       "      <td>None</td>\n",
       "      <td>3/21/16 12:58</td>\n",
       "    </tr>\n",
       "    <tr>\n",
       "      <th>2</th>\n",
       "      <td>2</td>\n",
       "      <td>4</td>\n",
       "      <td>vertical knowledge</td>\n",
       "      <td>cleveland, oh</td>\n",
       "      <td>OH</td>\n",
       "      <td>US</td>\n",
       "      <td>41.47</td>\n",
       "      <td>-81.67</td>\n",
       "      <td>software engineer</td>\n",
       "      <td>Software</td>\n",
       "      <td>None</td>\n",
       "      <td>4.0</td>\n",
       "      <td>1.0</td>\n",
       "      <td>86000.0</td>\n",
       "      <td>5000.0</td>\n",
       "      <td>6000.0</td>\n",
       "      <td>0</td>\n",
       "      <td>None</td>\n",
       "      <td>3/21/16 12:59</td>\n",
       "    </tr>\n",
       "    <tr>\n",
       "      <th>3</th>\n",
       "      <td>3</td>\n",
       "      <td>6</td>\n",
       "      <td>netapp</td>\n",
       "      <td>waltham</td>\n",
       "      <td>None</td>\n",
       "      <td>None</td>\n",
       "      <td>NaN</td>\n",
       "      <td>NaN</td>\n",
       "      <td>mts</td>\n",
       "      <td>Other</td>\n",
       "      <td>None</td>\n",
       "      <td>4.0</td>\n",
       "      <td>0.0</td>\n",
       "      <td>105000.0</td>\n",
       "      <td>5000.0</td>\n",
       "      <td>8500.0</td>\n",
       "      <td>0</td>\n",
       "      <td>None</td>\n",
       "      <td>3/21/16 13:00</td>\n",
       "    </tr>\n",
       "    <tr>\n",
       "      <th>4</th>\n",
       "      <td>4</td>\n",
       "      <td>12</td>\n",
       "      <td>apple</td>\n",
       "      <td>cupertino</td>\n",
       "      <td>None</td>\n",
       "      <td>None</td>\n",
       "      <td>NaN</td>\n",
       "      <td>NaN</td>\n",
       "      <td>software engineer</td>\n",
       "      <td>Software</td>\n",
       "      <td>None</td>\n",
       "      <td>4.0</td>\n",
       "      <td>3.0</td>\n",
       "      <td>110000.0</td>\n",
       "      <td>5000.0</td>\n",
       "      <td>7000.0</td>\n",
       "      <td>150000</td>\n",
       "      <td>None</td>\n",
       "      <td>3/21/16 13:02</td>\n",
       "    </tr>\n",
       "  </tbody>\n",
       "</table>\n",
       "</div>"
      ],
      "text/plain": [
       "  index salary_id       employer_name      location_name location_state  \\\n",
       "0     0         1              opower  san francisco, ca             CA   \n",
       "1     1         3             walmart    bentonville, ar             AR   \n",
       "2     2         4  vertical knowledge      cleveland, oh             OH   \n",
       "3     3         6              netapp            waltham           None   \n",
       "4     4        12               apple          cupertino           None   \n",
       "\n",
       "  location_country  location_latitude  location_longitude          job_title  \\\n",
       "0               US              37.77             -122.41   systems engineer   \n",
       "1               US              36.36              -94.20   senior developer   \n",
       "2               US              41.47              -81.67  software engineer   \n",
       "3             None                NaN                 NaN                mts   \n",
       "4             None                NaN                 NaN  software engineer   \n",
       "\n",
       "  job_title_category job_title_rank  total_experience_years  \\\n",
       "0        Engineering           None                    13.0   \n",
       "1           Software         Senior                    15.0   \n",
       "2           Software           None                     4.0   \n",
       "3              Other           None                     4.0   \n",
       "4           Software           None                     4.0   \n",
       "\n",
       "   employer_experience_years  annual_base_pay  signing_bonus  annual_bonus  \\\n",
       "0                        2.0         125000.0         5000.0           0.0   \n",
       "1                        8.0          65000.0            NaN        5000.0   \n",
       "2                        1.0          86000.0         5000.0        6000.0   \n",
       "3                        0.0         105000.0         5000.0        8500.0   \n",
       "4                        3.0         110000.0         5000.0        7000.0   \n",
       "\n",
       "  stock_value_bonus          comments   submitted_at  \n",
       "0       5000 shares  Don't work here.  3/21/16 12:58  \n",
       "1             3,000              None  3/21/16 12:58  \n",
       "2                 0              None  3/21/16 12:59  \n",
       "3                 0              None  3/21/16 13:00  \n",
       "4            150000              None  3/21/16 13:02  "
      ]
     },
     "execution_count": 90,
     "metadata": {},
     "output_type": "execute_result"
    }
   ],
   "source": [
    "salaries_df = spark.read.csv('salaries.csv', header=True, inferSchema=True)\n",
    "salaries_df.toPandas().head()"
   ]
  },
  {
   "cell_type": "code",
   "execution_count": 70,
   "metadata": {
    "ExecuteTime": {
     "end_time": "2023-08-12T09:04:37.642261Z",
     "start_time": "2023-08-12T09:04:37.544960Z"
    }
   },
   "outputs": [
    {
     "data": {
      "text/plain": [
       "1658"
      ]
     },
     "execution_count": 70,
     "metadata": {},
     "output_type": "execute_result"
    }
   ],
   "source": [
    "salaries_df.count()  # wielkość tabeli (liczba wierszy)"
   ]
  },
  {
   "cell_type": "code",
   "execution_count": 81,
   "metadata": {
    "ExecuteTime": {
     "end_time": "2023-08-12T09:09:28.127255Z",
     "start_time": "2023-08-12T09:09:28.121675Z"
    }
   },
   "outputs": [
    {
     "name": "stdout",
     "output_type": "stream",
     "text": [
      "root\n",
      " |-- index: string (nullable = true)\n",
      " |-- salary_id: string (nullable = true)\n",
      " |-- employer_name: string (nullable = true)\n",
      " |-- location_name: string (nullable = true)\n",
      " |-- location_state: string (nullable = true)\n",
      " |-- location_country: string (nullable = true)\n",
      " |-- location_latitude: double (nullable = true)\n",
      " |-- location_longitude: double (nullable = true)\n",
      " |-- job_title: string (nullable = true)\n",
      " |-- job_title_category: string (nullable = true)\n",
      " |-- job_title_rank: string (nullable = true)\n",
      " |-- total_experience_years: double (nullable = true)\n",
      " |-- employer_experience_years: double (nullable = true)\n",
      " |-- annual_base_pay: double (nullable = true)\n",
      " |-- signing_bonus: double (nullable = true)\n",
      " |-- annual_bonus: double (nullable = true)\n",
      " |-- stock_value_bonus: string (nullable = true)\n",
      " |-- comments: string (nullable = true)\n",
      " |-- submitted_at: string (nullable = true)\n",
      "\n"
     ]
    }
   ],
   "source": [
    "# salaries_df.dtypes\n",
    "salaries_df.printSchema()"
   ]
  },
  {
   "cell_type": "code",
   "execution_count": 69,
   "metadata": {
    "ExecuteTime": {
     "end_time": "2023-08-12T09:03:02.468192Z",
     "start_time": "2023-08-12T09:03:00.422084Z"
    },
    "id": "hVaFRTnJVZOG"
   },
   "outputs": [
    {
     "name": "stdout",
     "output_type": "stream",
     "text": [
      "index: 0\n",
      "salary_id: 0\n",
      "employer_name: 6\n",
      "location_name: 2\n",
      "location_state: 1100\n",
      "location_country: 866\n",
      "location_latitude: 866\n",
      "location_longitude: 866\n",
      "job_title: 3\n",
      "job_title_category: 3\n",
      "job_title_rank: 1233\n",
      "total_experience_years: 50\n",
      "employer_experience_years: 50\n",
      "annual_base_pay: 7\n",
      "signing_bonus: 326\n",
      "annual_bonus: 322\n",
      "stock_value_bonus: 405\n",
      "comments: 1366\n",
      "submitted_at: 6\n"
     ]
    }
   ],
   "source": [
    "import pyspark.sql.functions as f\n",
    "\n",
    "for column in salaries_df.columns:\n",
    "    \n",
    "    nan_count = salaries_df.where(f.col(column).isNull()).count()\n",
    "    print(f'{column}: {nan_count}')  # niektóre z kolumna zawierają braki danych"
   ]
  },
  {
   "cell_type": "code",
   "execution_count": 92,
   "metadata": {
    "ExecuteTime": {
     "end_time": "2023-08-12T09:15:52.583692Z",
     "start_time": "2023-08-12T09:15:52.288122Z"
    },
    "id": "84KyQLZBWnBv"
   },
   "outputs": [
    {
     "data": {
      "text/plain": [
       "True"
      ]
     },
     "execution_count": 92,
     "metadata": {},
     "output_type": "execute_result"
    }
   ],
   "source": [
    "salaries_df.distinct().count() == salaries_df.count()  # brak duplikatów"
   ]
  },
  {
   "cell_type": "markdown",
   "metadata": {
    "id": "4x4MAggHRINW"
   },
   "source": [
    "# Adding, removing and modifying DataFrame columns"
   ]
  },
  {
   "cell_type": "code",
   "execution_count": 94,
   "metadata": {
    "ExecuteTime": {
     "end_time": "2023-08-12T09:17:07.274438Z",
     "start_time": "2023-08-12T09:17:07.262999Z"
    },
    "id": "Ihg2XH_xz4DH"
   },
   "outputs": [
    {
     "data": {
      "text/plain": [
       "Column<'Country'>"
      ]
     },
     "execution_count": 94,
     "metadata": {},
     "output_type": "execute_result"
    }
   ],
   "source": [
    "hac_df.Country  # 'lazy evaluations'!!"
   ]
  },
  {
   "cell_type": "code",
   "execution_count": 95,
   "metadata": {
    "ExecuteTime": {
     "end_time": "2023-08-12T09:17:11.271840Z",
     "start_time": "2023-08-12T09:17:11.264264Z"
    },
    "id": "DETOq84C9xdx"
   },
   "outputs": [
    {
     "data": {
      "text/plain": [
       "['Country',\n",
       " 'Region',\n",
       " 'Hemisphere',\n",
       " 'HappinessScore',\n",
       " 'HDI',\n",
       " 'GDP_PerCapita',\n",
       " 'Beer_PerCapita',\n",
       " 'Spirit_PerCapita',\n",
       " 'Wine_PerCapita']"
      ]
     },
     "execution_count": 95,
     "metadata": {},
     "output_type": "execute_result"
    }
   ],
   "source": [
    "hac_df.columns"
   ]
  },
  {
   "cell_type": "markdown",
   "metadata": {
    "id": "9RoHf6hDRINZ"
   },
   "source": [
    "**Selecting specified columns**"
   ]
  },
  {
   "cell_type": "code",
   "execution_count": 96,
   "metadata": {
    "ExecuteTime": {
     "end_time": "2023-08-12T09:17:18.072200Z",
     "start_time": "2023-08-12T09:17:17.974853Z"
    },
    "id": "yaATlT5A9xg_"
   },
   "outputs": [
    {
     "name": "stdout",
     "output_type": "stream",
     "text": [
      "+-----------+\n",
      "|    Country|\n",
      "+-----------+\n",
      "|    Denmark|\n",
      "|Switzerland|\n",
      "|    Iceland|\n",
      "|     Norway|\n",
      "|    Finland|\n",
      "+-----------+\n",
      "only showing top 5 rows\n",
      "\n"
     ]
    }
   ],
   "source": [
    "hac_df.select(hac_df.Country).show(5)"
   ]
  },
  {
   "cell_type": "code",
   "execution_count": 97,
   "metadata": {
    "ExecuteTime": {
     "end_time": "2023-08-12T09:18:13.363557Z",
     "start_time": "2023-08-12T09:18:13.276147Z"
    },
    "id": "cndt7TEkRINe"
   },
   "outputs": [
    {
     "name": "stdout",
     "output_type": "stream",
     "text": [
      "+-----------+\n",
      "|    Country|\n",
      "+-----------+\n",
      "|    Denmark|\n",
      "|Switzerland|\n",
      "|    Iceland|\n",
      "|     Norway|\n",
      "|    Finland|\n",
      "+-----------+\n",
      "only showing top 5 rows\n",
      "\n"
     ]
    }
   ],
   "source": [
    "hac_df.select(\"Country\").show(5)"
   ]
  },
  {
   "cell_type": "code",
   "execution_count": 98,
   "metadata": {
    "ExecuteTime": {
     "end_time": "2023-08-12T09:19:12.542809Z",
     "start_time": "2023-08-12T09:19:12.470170Z"
    },
    "id": "DMgZVosgRINe"
   },
   "outputs": [
    {
     "name": "stdout",
     "output_type": "stream",
     "text": [
      "+-----------+\n",
      "|    Country|\n",
      "+-----------+\n",
      "|    Denmark|\n",
      "|Switzerland|\n",
      "|    Iceland|\n",
      "|     Norway|\n",
      "|    Finland|\n",
      "+-----------+\n",
      "only showing top 5 rows\n",
      "\n"
     ]
    }
   ],
   "source": [
    "import pyspark.sql.functions as f\n",
    "\n",
    "hac_df.select(f.col('Country')).show(5)  # funkcja 'col' pozwala interpretować napis jako nazwę kolumny (czasem jest to ważne)"
   ]
  },
  {
   "cell_type": "code",
   "execution_count": 99,
   "metadata": {
    "ExecuteTime": {
     "end_time": "2023-08-12T09:19:57.322942Z",
     "start_time": "2023-08-12T09:19:57.221505Z"
    },
    "id": "2E9_ytgkRINh"
   },
   "outputs": [
    {
     "name": "stdout",
     "output_type": "stream",
     "text": [
      "+-----------+--------------+\n",
      "|    Country|        Region|\n",
      "+-----------+--------------+\n",
      "|    Denmark|Western Europe|\n",
      "|Switzerland|Western Europe|\n",
      "|    Iceland|Western Europe|\n",
      "|     Norway|Western Europe|\n",
      "|    Finland|Western Europe|\n",
      "+-----------+--------------+\n",
      "only showing top 5 rows\n",
      "\n"
     ]
    }
   ],
   "source": [
    "hac_df.select([\"Country\", \"Region\"]).show(5)"
   ]
  },
  {
   "cell_type": "code",
   "execution_count": 100,
   "metadata": {
    "ExecuteTime": {
     "end_time": "2023-08-12T09:20:05.572734Z",
     "start_time": "2023-08-12T09:20:05.458092Z"
    },
    "id": "1hVDTW0OtBol"
   },
   "outputs": [
    {
     "name": "stdout",
     "output_type": "stream",
     "text": [
      "+----------+--------------+---+-------------+--------------+----------------+--------------+\n",
      "|Hemisphere|HappinessScore|HDI|GDP_PerCapita|Beer_PerCapita|Spirit_PerCapita|Wine_PerCapita|\n",
      "+----------+--------------+---+-------------+--------------+----------------+--------------+\n",
      "|     north|         7.526|928|       53.579|           224|              81|           278|\n",
      "|     north|         7.509|943|       79.866|           185|             100|           280|\n",
      "|     north|         7.501|933|        60.53|           233|              61|            78|\n",
      "|     north|         7.498|951|        70.89|           169|              71|           129|\n",
      "|     north|         7.413|918|       43.433|           263|             133|            97|\n",
      "|     north|         7.404|922|       42.349|           240|             122|           100|\n",
      "|     north|         7.339|928|       45.638|           251|              88|           190|\n",
      "|     south|         7.334|915|       40.332|           203|              79|           175|\n",
      "|     south|         7.313|938|       49.897|           261|              72|           212|\n",
      "|     north|         7.291|932|       51.845|           152|              60|           186|\n",
      "|     north|         7.267|902|       37.181|            63|              69|             9|\n",
      "|     north|         7.119|906|       44.731|           279|              75|           191|\n",
      "|     north|         7.104|922|       57.589|           249|             158|            84|\n",
      "|     north|         7.087|791|       11.733|           149|              87|            11|\n",
      "|     north|         6.994|934|       42.233|           346|             117|           175|\n",
      "|      both|         6.952|758|        8.639|           245|             145|            16|\n",
      "|     north|         6.929|915|       41.261|           295|              84|           212|\n",
      "|     north|         6.907|934|         64.1|           313|             118|           165|\n",
      "|     north|         6.871|904|      100.739|           236|             133|           271|\n",
      "|     north|         6.778|772|        8.444|           238|              68|             5|\n",
      "+----------+--------------+---+-------------+--------------+----------------+--------------+\n",
      "only showing top 20 rows\n",
      "\n"
     ]
    }
   ],
   "source": [
    "hac_df.drop(\"Country\", \"Region\").show()"
   ]
  },
  {
   "cell_type": "markdown",
   "metadata": {
    "id": "zD-y3gCTRINi"
   },
   "source": [
    "**Creating new column based on existing one**"
   ]
  },
  {
   "cell_type": "code",
   "execution_count": 101,
   "metadata": {
    "ExecuteTime": {
     "end_time": "2023-08-12T09:21:54.118987Z",
     "start_time": "2023-08-12T09:21:53.932807Z"
    },
    "id": "Yav7LaLL9xkU"
   },
   "outputs": [
    {
     "name": "stdout",
     "output_type": "stream",
     "text": [
      "+-----------+--------------+----------+--------------+---+-------------+--------------+----------------+--------------+-------------+\n",
      "|    Country|        Region|Hemisphere|HappinessScore|HDI|GDP_PerCapita|Beer_PerCapita|Spirit_PerCapita|Wine_PerCapita|upper_Country|\n",
      "+-----------+--------------+----------+--------------+---+-------------+--------------+----------------+--------------+-------------+\n",
      "|    Denmark|Western Europe|     north|         7.526|928|       53.579|           224|              81|           278|      DENMARK|\n",
      "|Switzerland|Western Europe|     north|         7.509|943|       79.866|           185|             100|           280|  SWITZERLAND|\n",
      "|    Iceland|Western Europe|     north|         7.501|933|        60.53|           233|              61|            78|      ICELAND|\n",
      "|     Norway|Western Europe|     north|         7.498|951|        70.89|           169|              71|           129|       NORWAY|\n",
      "|    Finland|Western Europe|     north|         7.413|918|       43.433|           263|             133|            97|      FINLAND|\n",
      "+-----------+--------------+----------+--------------+---+-------------+--------------+----------------+--------------+-------------+\n",
      "only showing top 5 rows\n",
      "\n"
     ]
    }
   ],
   "source": [
    "from pyspark.sql.functions import upper  # wielkie litery ('uppercase')\n",
    "\n",
    "hac_df.withColumn('upper_Country', upper(hac_df.Country)).show(5)"
   ]
  },
  {
   "cell_type": "code",
   "execution_count": 102,
   "metadata": {
    "ExecuteTime": {
     "end_time": "2023-08-12T09:22:47.343634Z",
     "start_time": "2023-08-12T09:22:47.159099Z"
    },
    "id": "ljhYRw7gRINl"
   },
   "outputs": [
    {
     "name": "stdout",
     "output_type": "stream",
     "text": [
      "+---+-----+\n",
      "|HDI|HDI+1|\n",
      "+---+-----+\n",
      "|928|  929|\n",
      "|943|  944|\n",
      "|933|  934|\n",
      "|951|  952|\n",
      "|918|  919|\n",
      "+---+-----+\n",
      "only showing top 5 rows\n",
      "\n"
     ]
    }
   ],
   "source": [
    "hac_df.withColumn(\"HDI+1\", hac_df.HDI + 1).select(['HDI', 'HDI+1']).show(5)"
   ]
  },
  {
   "cell_type": "code",
   "execution_count": 103,
   "metadata": {
    "ExecuteTime": {
     "end_time": "2023-08-12T09:23:07.573896Z",
     "start_time": "2023-08-12T09:23:07.422163Z"
    },
    "id": "kHoL7Er_RINm"
   },
   "outputs": [
    {
     "name": "stdout",
     "output_type": "stream",
     "text": [
      "+-----------+--------------+----------+--------------+---+-------------+--------------+----------------+--------------+\n",
      "|      Place|        Region|Hemisphere|HappinessScore|HDI|GDP_PerCapita|Beer_PerCapita|Spirit_PerCapita|Wine_PerCapita|\n",
      "+-----------+--------------+----------+--------------+---+-------------+--------------+----------------+--------------+\n",
      "|    Denmark|Western Europe|     north|         7.526|928|       53.579|           224|              81|           278|\n",
      "|Switzerland|Western Europe|     north|         7.509|943|       79.866|           185|             100|           280|\n",
      "|    Iceland|Western Europe|     north|         7.501|933|        60.53|           233|              61|            78|\n",
      "|     Norway|Western Europe|     north|         7.498|951|        70.89|           169|              71|           129|\n",
      "|    Finland|Western Europe|     north|         7.413|918|       43.433|           263|             133|            97|\n",
      "+-----------+--------------+----------+--------------+---+-------------+--------------+----------------+--------------+\n",
      "only showing top 5 rows\n",
      "\n"
     ]
    }
   ],
   "source": [
    "hac_df.withColumnRenamed(\"Country\", \"Place\").show(5)"
   ]
  },
  {
   "cell_type": "markdown",
   "metadata": {
    "id": "LkpBfj41RINn"
   },
   "source": [
    "**Replacing value**"
   ]
  },
  {
   "cell_type": "code",
   "execution_count": 104,
   "metadata": {
    "ExecuteTime": {
     "end_time": "2023-08-12T09:24:50.355782Z",
     "start_time": "2023-08-12T09:24:50.156742Z"
    },
    "id": "8A4clWtN9xnv"
   },
   "outputs": [
    {
     "name": "stdout",
     "output_type": "stream",
     "text": [
      "+-----------+--------------+----------+--------------+---+-------------+--------------+----------------+--------------+\n",
      "|    Country|        Region|Hemisphere|HappinessScore|HDI|GDP_PerCapita|Beer_PerCapita|Spirit_PerCapita|Wine_PerCapita|\n",
      "+-----------+--------------+----------+--------------+---+-------------+--------------+----------------+--------------+\n",
      "|      Other|Western Europe|     north|         7.526|928|       53.579|           224|              81|           278|\n",
      "|Switzerland|Western Europe|     north|         7.509|943|       79.866|           185|             100|           280|\n",
      "|    Iceland|Western Europe|     north|         7.501|933|        60.53|           233|              61|            78|\n",
      "|     Norway|Western Europe|     north|         7.498|951|        70.89|           169|              71|           129|\n",
      "|    Finland|Western Europe|     north|         7.413|918|       43.433|           263|             133|            97|\n",
      "+-----------+--------------+----------+--------------+---+-------------+--------------+----------------+--------------+\n",
      "only showing top 5 rows\n",
      "\n"
     ]
    }
   ],
   "source": [
    "hac_df.replace('Denmark', 'Other', subset=['Country']).show(5)"
   ]
  },
  {
   "cell_type": "markdown",
   "metadata": {
    "id": "lS5mOT9IRINo"
   },
   "source": [
    "**Aliasing columns**"
   ]
  },
  {
   "cell_type": "code",
   "execution_count": 105,
   "metadata": {
    "ExecuteTime": {
     "end_time": "2023-08-12T09:26:42.218906Z",
     "start_time": "2023-08-12T09:26:42.050676Z"
    },
    "id": "3lN3eUnvRINp"
   },
   "outputs": [
    {
     "name": "stdout",
     "output_type": "stream",
     "text": [
      "+--------------+-----------+\n",
      "|         Place|    Country|\n",
      "+--------------+-----------+\n",
      "|Western Europe|    Denmark|\n",
      "|Western Europe|Switzerland|\n",
      "|Western Europe|    Iceland|\n",
      "|Western Europe|     Norway|\n",
      "|Western Europe|    Finland|\n",
      "+--------------+-----------+\n",
      "only showing top 5 rows\n",
      "\n"
     ]
    }
   ],
   "source": [
    "hac_df.select(hac_df.Region.name('Place'), hac_df.Country).show(5)"
   ]
  },
  {
   "cell_type": "code",
   "execution_count": 106,
   "metadata": {
    "ExecuteTime": {
     "end_time": "2023-08-12T09:27:48.538881Z",
     "start_time": "2023-08-12T09:27:48.315755Z"
    },
    "id": "Pi_6v5-QRINq"
   },
   "outputs": [
    {
     "name": "stdout",
     "output_type": "stream",
     "text": [
      "+--------------+-----------+\n",
      "|         Place|    Country|\n",
      "+--------------+-----------+\n",
      "|Western Europe|    Denmark|\n",
      "|Western Europe|Switzerland|\n",
      "|Western Europe|    Iceland|\n",
      "|Western Europe|     Norway|\n",
      "|Western Europe|    Finland|\n",
      "+--------------+-----------+\n",
      "only showing top 5 rows\n",
      "\n"
     ]
    }
   ],
   "source": [
    "hac_df.select(hac_df.Region.alias('Place'), hac_df.Country).show(5)"
   ]
  },
  {
   "cell_type": "markdown",
   "metadata": {
    "id": "9TGShwm9dkcJ"
   },
   "source": [
    "## Zadanie 2: "
   ]
  },
  {
   "cell_type": "markdown",
   "metadata": {
    "id": "Y0zWVnS1dDgX"
   },
   "source": [
    "W zbiorze danych `salary`: \n",
    "- zmien nazwy kolumn: `total_experience_years` -> `tot_exp_years`, `employer_experience_years` -> `emp_exp_years`\n",
    "- stwórz kolumnę `annual_total`, która wynosi `annual_base_pay + annual_bonus`\n",
    "- usuń kolumnę `salary_id`\n",
    "- zamień wartość \"apple\" w kolumnie `employer_name` na \"orange\""
   ]
  },
  {
   "cell_type": "code",
   "execution_count": 121,
   "metadata": {
    "ExecuteTime": {
     "end_time": "2023-08-12T09:48:12.595067Z",
     "start_time": "2023-08-12T09:48:12.446362Z"
    },
    "id": "H68l8N9smaLp"
   },
   "outputs": [
    {
     "name": "stdout",
     "output_type": "stream",
     "text": [
      "+-----+---------+------------------+-----------------+--------------+----------------+-----------------+------------------+-----------------+------------------+--------------+----------------------+-------------------------+---------------+-------------+------------+-----------------+----------------+-------------+\n",
      "|index|salary_id|     employer_name|    location_name|location_state|location_country|location_latitude|location_longitude|        job_title|job_title_category|job_title_rank|total_experience_years|employer_experience_years|annual_base_pay|signing_bonus|annual_bonus|stock_value_bonus|        comments| submitted_at|\n",
      "+-----+---------+------------------+-----------------+--------------+----------------+-----------------+------------------+-----------------+------------------+--------------+----------------------+-------------------------+---------------+-------------+------------+-----------------+----------------+-------------+\n",
      "|    0|        1|            opower|san francisco, ca|            CA|              US|            37.77|           -122.41| systems engineer|       Engineering|          null|                  13.0|                      2.0|       125000.0|       5000.0|         0.0|      5000 shares|Don't work here.|3/21/16 12:58|\n",
      "|    1|        3|           walmart|  bentonville, ar|            AR|              US|            36.36|             -94.2| senior developer|          Software|        Senior|                  15.0|                      8.0|        65000.0|         null|      5000.0|            3,000|            null|3/21/16 12:58|\n",
      "|    2|        4|vertical knowledge|    cleveland, oh|            OH|              US|            41.47|            -81.67|software engineer|          Software|          null|                   4.0|                      1.0|        86000.0|       5000.0|      6000.0|                0|            null|3/21/16 12:59|\n",
      "|    3|        6|            netapp|          waltham|          null|            null|             null|              null|              mts|             Other|          null|                   4.0|                      0.0|       105000.0|       5000.0|      8500.0|                0|            null|3/21/16 13:00|\n",
      "|    4|       12|             apple|        cupertino|          null|            null|             null|              null|software engineer|          Software|          null|                   4.0|                      3.0|       110000.0|       5000.0|      7000.0|           150000|            null|3/21/16 13:02|\n",
      "+-----+---------+------------------+-----------------+--------------+----------------+-----------------+------------------+-----------------+------------------+--------------+----------------------+-------------------------+---------------+-------------+------------+-----------------+----------------+-------------+\n",
      "only showing top 5 rows\n",
      "\n"
     ]
    }
   ],
   "source": [
    "import pyspark.sql.functions as f\n",
    "\n",
    "salaries_df.show(5)  # \"brzydkie\" wyświetlania, więc potem korzystamy z 'toPandas().head()'"
   ]
  },
  {
   "cell_type": "code",
   "execution_count": 124,
   "metadata": {
    "ExecuteTime": {
     "end_time": "2023-08-12T09:51:11.449075Z",
     "start_time": "2023-08-12T09:51:10.944814Z"
    }
   },
   "outputs": [
    {
     "data": {
      "text/html": [
       "<div>\n",
       "<style scoped>\n",
       "    .dataframe tbody tr th:only-of-type {\n",
       "        vertical-align: middle;\n",
       "    }\n",
       "\n",
       "    .dataframe tbody tr th {\n",
       "        vertical-align: top;\n",
       "    }\n",
       "\n",
       "    .dataframe thead th {\n",
       "        text-align: right;\n",
       "    }\n",
       "</style>\n",
       "<table border=\"1\" class=\"dataframe\">\n",
       "  <thead>\n",
       "    <tr style=\"text-align: right;\">\n",
       "      <th></th>\n",
       "      <th>index</th>\n",
       "      <th>salary_id</th>\n",
       "      <th>employer_name</th>\n",
       "      <th>location_name</th>\n",
       "      <th>location_state</th>\n",
       "      <th>location_country</th>\n",
       "      <th>location_latitude</th>\n",
       "      <th>location_longitude</th>\n",
       "      <th>job_title</th>\n",
       "      <th>job_title_category</th>\n",
       "      <th>job_title_rank</th>\n",
       "      <th>tot_exp_years</th>\n",
       "      <th>emp_exp_years</th>\n",
       "      <th>annual_base_pay</th>\n",
       "      <th>signing_bonus</th>\n",
       "      <th>annual_bonus</th>\n",
       "      <th>stock_value_bonus</th>\n",
       "      <th>comments</th>\n",
       "      <th>submitted_at</th>\n",
       "    </tr>\n",
       "  </thead>\n",
       "  <tbody>\n",
       "    <tr>\n",
       "      <th>0</th>\n",
       "      <td>0</td>\n",
       "      <td>1</td>\n",
       "      <td>opower</td>\n",
       "      <td>san francisco, ca</td>\n",
       "      <td>CA</td>\n",
       "      <td>US</td>\n",
       "      <td>37.77</td>\n",
       "      <td>-122.41</td>\n",
       "      <td>systems engineer</td>\n",
       "      <td>Engineering</td>\n",
       "      <td>None</td>\n",
       "      <td>13.0</td>\n",
       "      <td>2.0</td>\n",
       "      <td>125000.0</td>\n",
       "      <td>5000.0</td>\n",
       "      <td>0.0</td>\n",
       "      <td>5000 shares</td>\n",
       "      <td>Don't work here.</td>\n",
       "      <td>3/21/16 12:58</td>\n",
       "    </tr>\n",
       "    <tr>\n",
       "      <th>1</th>\n",
       "      <td>1</td>\n",
       "      <td>3</td>\n",
       "      <td>walmart</td>\n",
       "      <td>bentonville, ar</td>\n",
       "      <td>AR</td>\n",
       "      <td>US</td>\n",
       "      <td>36.36</td>\n",
       "      <td>-94.20</td>\n",
       "      <td>senior developer</td>\n",
       "      <td>Software</td>\n",
       "      <td>Senior</td>\n",
       "      <td>15.0</td>\n",
       "      <td>8.0</td>\n",
       "      <td>65000.0</td>\n",
       "      <td>NaN</td>\n",
       "      <td>5000.0</td>\n",
       "      <td>3,000</td>\n",
       "      <td>None</td>\n",
       "      <td>3/21/16 12:58</td>\n",
       "    </tr>\n",
       "    <tr>\n",
       "      <th>2</th>\n",
       "      <td>2</td>\n",
       "      <td>4</td>\n",
       "      <td>vertical knowledge</td>\n",
       "      <td>cleveland, oh</td>\n",
       "      <td>OH</td>\n",
       "      <td>US</td>\n",
       "      <td>41.47</td>\n",
       "      <td>-81.67</td>\n",
       "      <td>software engineer</td>\n",
       "      <td>Software</td>\n",
       "      <td>None</td>\n",
       "      <td>4.0</td>\n",
       "      <td>1.0</td>\n",
       "      <td>86000.0</td>\n",
       "      <td>5000.0</td>\n",
       "      <td>6000.0</td>\n",
       "      <td>0</td>\n",
       "      <td>None</td>\n",
       "      <td>3/21/16 12:59</td>\n",
       "    </tr>\n",
       "    <tr>\n",
       "      <th>3</th>\n",
       "      <td>3</td>\n",
       "      <td>6</td>\n",
       "      <td>netapp</td>\n",
       "      <td>waltham</td>\n",
       "      <td>None</td>\n",
       "      <td>None</td>\n",
       "      <td>NaN</td>\n",
       "      <td>NaN</td>\n",
       "      <td>mts</td>\n",
       "      <td>Other</td>\n",
       "      <td>None</td>\n",
       "      <td>4.0</td>\n",
       "      <td>0.0</td>\n",
       "      <td>105000.0</td>\n",
       "      <td>5000.0</td>\n",
       "      <td>8500.0</td>\n",
       "      <td>0</td>\n",
       "      <td>None</td>\n",
       "      <td>3/21/16 13:00</td>\n",
       "    </tr>\n",
       "    <tr>\n",
       "      <th>4</th>\n",
       "      <td>4</td>\n",
       "      <td>12</td>\n",
       "      <td>apple</td>\n",
       "      <td>cupertino</td>\n",
       "      <td>None</td>\n",
       "      <td>None</td>\n",
       "      <td>NaN</td>\n",
       "      <td>NaN</td>\n",
       "      <td>software engineer</td>\n",
       "      <td>Software</td>\n",
       "      <td>None</td>\n",
       "      <td>4.0</td>\n",
       "      <td>3.0</td>\n",
       "      <td>110000.0</td>\n",
       "      <td>5000.0</td>\n",
       "      <td>7000.0</td>\n",
       "      <td>150000</td>\n",
       "      <td>None</td>\n",
       "      <td>3/21/16 13:02</td>\n",
       "    </tr>\n",
       "  </tbody>\n",
       "</table>\n",
       "</div>"
      ],
      "text/plain": [
       "  index salary_id       employer_name      location_name location_state  \\\n",
       "0     0         1              opower  san francisco, ca             CA   \n",
       "1     1         3             walmart    bentonville, ar             AR   \n",
       "2     2         4  vertical knowledge      cleveland, oh             OH   \n",
       "3     3         6              netapp            waltham           None   \n",
       "4     4        12               apple          cupertino           None   \n",
       "\n",
       "  location_country  location_latitude  location_longitude          job_title  \\\n",
       "0               US              37.77             -122.41   systems engineer   \n",
       "1               US              36.36              -94.20   senior developer   \n",
       "2               US              41.47              -81.67  software engineer   \n",
       "3             None                NaN                 NaN                mts   \n",
       "4             None                NaN                 NaN  software engineer   \n",
       "\n",
       "  job_title_category job_title_rank  tot_exp_years  emp_exp_years  \\\n",
       "0        Engineering           None           13.0            2.0   \n",
       "1           Software         Senior           15.0            8.0   \n",
       "2           Software           None            4.0            1.0   \n",
       "3              Other           None            4.0            0.0   \n",
       "4           Software           None            4.0            3.0   \n",
       "\n",
       "   annual_base_pay  signing_bonus  annual_bonus stock_value_bonus  \\\n",
       "0         125000.0         5000.0           0.0       5000 shares   \n",
       "1          65000.0            NaN        5000.0             3,000   \n",
       "2          86000.0         5000.0        6000.0                 0   \n",
       "3         105000.0         5000.0        8500.0                 0   \n",
       "4         110000.0         5000.0        7000.0            150000   \n",
       "\n",
       "           comments   submitted_at  \n",
       "0  Don't work here.  3/21/16 12:58  \n",
       "1              None  3/21/16 12:58  \n",
       "2              None  3/21/16 12:59  \n",
       "3              None  3/21/16 13:00  \n",
       "4              None  3/21/16 13:02  "
      ]
     },
     "execution_count": 124,
     "metadata": {},
     "output_type": "execute_result"
    }
   ],
   "source": [
    "# salaries_df.withColumnRenamed(\"total_experience_years\", \"tot_exp_years\") \\\n",
    "#            .withColumnRenamed(\"employer_experience_years\", \"emp_exp_years\") \\\n",
    "#            .show(5)\n",
    "\n",
    "salaries_df.withColumnsRenamed({\"total_experience_years\": \"tot_exp_years\", \"employer_experience_years\": \"emp_exp_years\"}) \\\n",
    "    .toPandas().head()"
   ]
  },
  {
   "cell_type": "code",
   "execution_count": 126,
   "metadata": {
    "ExecuteTime": {
     "end_time": "2023-08-12T09:52:51.572460Z",
     "start_time": "2023-08-12T09:52:51.332319Z"
    }
   },
   "outputs": [
    {
     "data": {
      "text/html": [
       "<div>\n",
       "<style scoped>\n",
       "    .dataframe tbody tr th:only-of-type {\n",
       "        vertical-align: middle;\n",
       "    }\n",
       "\n",
       "    .dataframe tbody tr th {\n",
       "        vertical-align: top;\n",
       "    }\n",
       "\n",
       "    .dataframe thead th {\n",
       "        text-align: right;\n",
       "    }\n",
       "</style>\n",
       "<table border=\"1\" class=\"dataframe\">\n",
       "  <thead>\n",
       "    <tr style=\"text-align: right;\">\n",
       "      <th></th>\n",
       "      <th>index</th>\n",
       "      <th>salary_id</th>\n",
       "      <th>employer_name</th>\n",
       "      <th>location_name</th>\n",
       "      <th>location_state</th>\n",
       "      <th>location_country</th>\n",
       "      <th>location_latitude</th>\n",
       "      <th>location_longitude</th>\n",
       "      <th>job_title</th>\n",
       "      <th>job_title_category</th>\n",
       "      <th>job_title_rank</th>\n",
       "      <th>total_experience_years</th>\n",
       "      <th>employer_experience_years</th>\n",
       "      <th>annual_base_pay</th>\n",
       "      <th>signing_bonus</th>\n",
       "      <th>annual_bonus</th>\n",
       "      <th>stock_value_bonus</th>\n",
       "      <th>comments</th>\n",
       "      <th>submitted_at</th>\n",
       "      <th>annual_total</th>\n",
       "    </tr>\n",
       "  </thead>\n",
       "  <tbody>\n",
       "    <tr>\n",
       "      <th>0</th>\n",
       "      <td>0</td>\n",
       "      <td>1</td>\n",
       "      <td>opower</td>\n",
       "      <td>san francisco, ca</td>\n",
       "      <td>CA</td>\n",
       "      <td>US</td>\n",
       "      <td>37.77</td>\n",
       "      <td>-122.41</td>\n",
       "      <td>systems engineer</td>\n",
       "      <td>Engineering</td>\n",
       "      <td>None</td>\n",
       "      <td>13.0</td>\n",
       "      <td>2.0</td>\n",
       "      <td>125000.0</td>\n",
       "      <td>5000.0</td>\n",
       "      <td>0.0</td>\n",
       "      <td>5000 shares</td>\n",
       "      <td>Don't work here.</td>\n",
       "      <td>3/21/16 12:58</td>\n",
       "      <td>125000.0</td>\n",
       "    </tr>\n",
       "    <tr>\n",
       "      <th>1</th>\n",
       "      <td>1</td>\n",
       "      <td>3</td>\n",
       "      <td>walmart</td>\n",
       "      <td>bentonville, ar</td>\n",
       "      <td>AR</td>\n",
       "      <td>US</td>\n",
       "      <td>36.36</td>\n",
       "      <td>-94.20</td>\n",
       "      <td>senior developer</td>\n",
       "      <td>Software</td>\n",
       "      <td>Senior</td>\n",
       "      <td>15.0</td>\n",
       "      <td>8.0</td>\n",
       "      <td>65000.0</td>\n",
       "      <td>NaN</td>\n",
       "      <td>5000.0</td>\n",
       "      <td>3,000</td>\n",
       "      <td>None</td>\n",
       "      <td>3/21/16 12:58</td>\n",
       "      <td>70000.0</td>\n",
       "    </tr>\n",
       "    <tr>\n",
       "      <th>2</th>\n",
       "      <td>2</td>\n",
       "      <td>4</td>\n",
       "      <td>vertical knowledge</td>\n",
       "      <td>cleveland, oh</td>\n",
       "      <td>OH</td>\n",
       "      <td>US</td>\n",
       "      <td>41.47</td>\n",
       "      <td>-81.67</td>\n",
       "      <td>software engineer</td>\n",
       "      <td>Software</td>\n",
       "      <td>None</td>\n",
       "      <td>4.0</td>\n",
       "      <td>1.0</td>\n",
       "      <td>86000.0</td>\n",
       "      <td>5000.0</td>\n",
       "      <td>6000.0</td>\n",
       "      <td>0</td>\n",
       "      <td>None</td>\n",
       "      <td>3/21/16 12:59</td>\n",
       "      <td>92000.0</td>\n",
       "    </tr>\n",
       "    <tr>\n",
       "      <th>3</th>\n",
       "      <td>3</td>\n",
       "      <td>6</td>\n",
       "      <td>netapp</td>\n",
       "      <td>waltham</td>\n",
       "      <td>None</td>\n",
       "      <td>None</td>\n",
       "      <td>NaN</td>\n",
       "      <td>NaN</td>\n",
       "      <td>mts</td>\n",
       "      <td>Other</td>\n",
       "      <td>None</td>\n",
       "      <td>4.0</td>\n",
       "      <td>0.0</td>\n",
       "      <td>105000.0</td>\n",
       "      <td>5000.0</td>\n",
       "      <td>8500.0</td>\n",
       "      <td>0</td>\n",
       "      <td>None</td>\n",
       "      <td>3/21/16 13:00</td>\n",
       "      <td>113500.0</td>\n",
       "    </tr>\n",
       "    <tr>\n",
       "      <th>4</th>\n",
       "      <td>4</td>\n",
       "      <td>12</td>\n",
       "      <td>apple</td>\n",
       "      <td>cupertino</td>\n",
       "      <td>None</td>\n",
       "      <td>None</td>\n",
       "      <td>NaN</td>\n",
       "      <td>NaN</td>\n",
       "      <td>software engineer</td>\n",
       "      <td>Software</td>\n",
       "      <td>None</td>\n",
       "      <td>4.0</td>\n",
       "      <td>3.0</td>\n",
       "      <td>110000.0</td>\n",
       "      <td>5000.0</td>\n",
       "      <td>7000.0</td>\n",
       "      <td>150000</td>\n",
       "      <td>None</td>\n",
       "      <td>3/21/16 13:02</td>\n",
       "      <td>117000.0</td>\n",
       "    </tr>\n",
       "  </tbody>\n",
       "</table>\n",
       "</div>"
      ],
      "text/plain": [
       "  index salary_id       employer_name      location_name location_state  \\\n",
       "0     0         1              opower  san francisco, ca             CA   \n",
       "1     1         3             walmart    bentonville, ar             AR   \n",
       "2     2         4  vertical knowledge      cleveland, oh             OH   \n",
       "3     3         6              netapp            waltham           None   \n",
       "4     4        12               apple          cupertino           None   \n",
       "\n",
       "  location_country  location_latitude  location_longitude          job_title  \\\n",
       "0               US              37.77             -122.41   systems engineer   \n",
       "1               US              36.36              -94.20   senior developer   \n",
       "2               US              41.47              -81.67  software engineer   \n",
       "3             None                NaN                 NaN                mts   \n",
       "4             None                NaN                 NaN  software engineer   \n",
       "\n",
       "  job_title_category job_title_rank  total_experience_years  \\\n",
       "0        Engineering           None                    13.0   \n",
       "1           Software         Senior                    15.0   \n",
       "2           Software           None                     4.0   \n",
       "3              Other           None                     4.0   \n",
       "4           Software           None                     4.0   \n",
       "\n",
       "   employer_experience_years  annual_base_pay  signing_bonus  annual_bonus  \\\n",
       "0                        2.0         125000.0         5000.0           0.0   \n",
       "1                        8.0          65000.0            NaN        5000.0   \n",
       "2                        1.0          86000.0         5000.0        6000.0   \n",
       "3                        0.0         105000.0         5000.0        8500.0   \n",
       "4                        3.0         110000.0         5000.0        7000.0   \n",
       "\n",
       "  stock_value_bonus          comments   submitted_at  annual_total  \n",
       "0       5000 shares  Don't work here.  3/21/16 12:58      125000.0  \n",
       "1             3,000              None  3/21/16 12:58       70000.0  \n",
       "2                 0              None  3/21/16 12:59       92000.0  \n",
       "3                 0              None  3/21/16 13:00      113500.0  \n",
       "4            150000              None  3/21/16 13:02      117000.0  "
      ]
     },
     "execution_count": 126,
     "metadata": {},
     "output_type": "execute_result"
    }
   ],
   "source": [
    "# salaries_df.withColumn(\"annual_total\", sacolies_df['annual_base_pay'] + salaries_df['annual_bonus']).toPandas().head()\n",
    "salaries_df.withColumn(\"annual_total\", f.col('annual_base_pay') + f.col('annual_bonus')).toPandas().head()"
   ]
  },
  {
   "cell_type": "code",
   "execution_count": 119,
   "metadata": {
    "ExecuteTime": {
     "end_time": "2023-08-12T09:42:12.010380Z",
     "start_time": "2023-08-12T09:42:11.787821Z"
    }
   },
   "outputs": [
    {
     "data": {
      "text/html": [
       "<div>\n",
       "<style scoped>\n",
       "    .dataframe tbody tr th:only-of-type {\n",
       "        vertical-align: middle;\n",
       "    }\n",
       "\n",
       "    .dataframe tbody tr th {\n",
       "        vertical-align: top;\n",
       "    }\n",
       "\n",
       "    .dataframe thead th {\n",
       "        text-align: right;\n",
       "    }\n",
       "</style>\n",
       "<table border=\"1\" class=\"dataframe\">\n",
       "  <thead>\n",
       "    <tr style=\"text-align: right;\">\n",
       "      <th></th>\n",
       "      <th>index</th>\n",
       "      <th>employer_name</th>\n",
       "      <th>location_name</th>\n",
       "      <th>location_state</th>\n",
       "      <th>location_country</th>\n",
       "      <th>location_latitude</th>\n",
       "      <th>location_longitude</th>\n",
       "      <th>job_title</th>\n",
       "      <th>job_title_category</th>\n",
       "      <th>job_title_rank</th>\n",
       "      <th>total_experience_years</th>\n",
       "      <th>employer_experience_years</th>\n",
       "      <th>annual_base_pay</th>\n",
       "      <th>signing_bonus</th>\n",
       "      <th>annual_bonus</th>\n",
       "      <th>stock_value_bonus</th>\n",
       "      <th>comments</th>\n",
       "      <th>submitted_at</th>\n",
       "    </tr>\n",
       "  </thead>\n",
       "  <tbody>\n",
       "    <tr>\n",
       "      <th>0</th>\n",
       "      <td>0</td>\n",
       "      <td>opower</td>\n",
       "      <td>san francisco, ca</td>\n",
       "      <td>CA</td>\n",
       "      <td>US</td>\n",
       "      <td>37.77</td>\n",
       "      <td>-122.41</td>\n",
       "      <td>systems engineer</td>\n",
       "      <td>Engineering</td>\n",
       "      <td>None</td>\n",
       "      <td>13.0</td>\n",
       "      <td>2.0</td>\n",
       "      <td>125000.0</td>\n",
       "      <td>5000.0</td>\n",
       "      <td>0.0</td>\n",
       "      <td>5000 shares</td>\n",
       "      <td>Don't work here.</td>\n",
       "      <td>3/21/16 12:58</td>\n",
       "    </tr>\n",
       "    <tr>\n",
       "      <th>1</th>\n",
       "      <td>1</td>\n",
       "      <td>walmart</td>\n",
       "      <td>bentonville, ar</td>\n",
       "      <td>AR</td>\n",
       "      <td>US</td>\n",
       "      <td>36.36</td>\n",
       "      <td>-94.20</td>\n",
       "      <td>senior developer</td>\n",
       "      <td>Software</td>\n",
       "      <td>Senior</td>\n",
       "      <td>15.0</td>\n",
       "      <td>8.0</td>\n",
       "      <td>65000.0</td>\n",
       "      <td>NaN</td>\n",
       "      <td>5000.0</td>\n",
       "      <td>3,000</td>\n",
       "      <td>None</td>\n",
       "      <td>3/21/16 12:58</td>\n",
       "    </tr>\n",
       "    <tr>\n",
       "      <th>2</th>\n",
       "      <td>2</td>\n",
       "      <td>vertical knowledge</td>\n",
       "      <td>cleveland, oh</td>\n",
       "      <td>OH</td>\n",
       "      <td>US</td>\n",
       "      <td>41.47</td>\n",
       "      <td>-81.67</td>\n",
       "      <td>software engineer</td>\n",
       "      <td>Software</td>\n",
       "      <td>None</td>\n",
       "      <td>4.0</td>\n",
       "      <td>1.0</td>\n",
       "      <td>86000.0</td>\n",
       "      <td>5000.0</td>\n",
       "      <td>6000.0</td>\n",
       "      <td>0</td>\n",
       "      <td>None</td>\n",
       "      <td>3/21/16 12:59</td>\n",
       "    </tr>\n",
       "    <tr>\n",
       "      <th>3</th>\n",
       "      <td>3</td>\n",
       "      <td>netapp</td>\n",
       "      <td>waltham</td>\n",
       "      <td>None</td>\n",
       "      <td>None</td>\n",
       "      <td>NaN</td>\n",
       "      <td>NaN</td>\n",
       "      <td>mts</td>\n",
       "      <td>Other</td>\n",
       "      <td>None</td>\n",
       "      <td>4.0</td>\n",
       "      <td>0.0</td>\n",
       "      <td>105000.0</td>\n",
       "      <td>5000.0</td>\n",
       "      <td>8500.0</td>\n",
       "      <td>0</td>\n",
       "      <td>None</td>\n",
       "      <td>3/21/16 13:00</td>\n",
       "    </tr>\n",
       "    <tr>\n",
       "      <th>4</th>\n",
       "      <td>4</td>\n",
       "      <td>apple</td>\n",
       "      <td>cupertino</td>\n",
       "      <td>None</td>\n",
       "      <td>None</td>\n",
       "      <td>NaN</td>\n",
       "      <td>NaN</td>\n",
       "      <td>software engineer</td>\n",
       "      <td>Software</td>\n",
       "      <td>None</td>\n",
       "      <td>4.0</td>\n",
       "      <td>3.0</td>\n",
       "      <td>110000.0</td>\n",
       "      <td>5000.0</td>\n",
       "      <td>7000.0</td>\n",
       "      <td>150000</td>\n",
       "      <td>None</td>\n",
       "      <td>3/21/16 13:02</td>\n",
       "    </tr>\n",
       "  </tbody>\n",
       "</table>\n",
       "</div>"
      ],
      "text/plain": [
       "  index       employer_name      location_name location_state  \\\n",
       "0     0              opower  san francisco, ca             CA   \n",
       "1     1             walmart    bentonville, ar             AR   \n",
       "2     2  vertical knowledge      cleveland, oh             OH   \n",
       "3     3              netapp            waltham           None   \n",
       "4     4               apple          cupertino           None   \n",
       "\n",
       "  location_country  location_latitude  location_longitude          job_title  \\\n",
       "0               US              37.77             -122.41   systems engineer   \n",
       "1               US              36.36              -94.20   senior developer   \n",
       "2               US              41.47              -81.67  software engineer   \n",
       "3             None                NaN                 NaN                mts   \n",
       "4             None                NaN                 NaN  software engineer   \n",
       "\n",
       "  job_title_category job_title_rank  total_experience_years  \\\n",
       "0        Engineering           None                    13.0   \n",
       "1           Software         Senior                    15.0   \n",
       "2           Software           None                     4.0   \n",
       "3              Other           None                     4.0   \n",
       "4           Software           None                     4.0   \n",
       "\n",
       "   employer_experience_years  annual_base_pay  signing_bonus  annual_bonus  \\\n",
       "0                        2.0         125000.0         5000.0           0.0   \n",
       "1                        8.0          65000.0            NaN        5000.0   \n",
       "2                        1.0          86000.0         5000.0        6000.0   \n",
       "3                        0.0         105000.0         5000.0        8500.0   \n",
       "4                        3.0         110000.0         5000.0        7000.0   \n",
       "\n",
       "  stock_value_bonus          comments   submitted_at  \n",
       "0       5000 shares  Don't work here.  3/21/16 12:58  \n",
       "1             3,000              None  3/21/16 12:58  \n",
       "2                 0              None  3/21/16 12:59  \n",
       "3                 0              None  3/21/16 13:00  \n",
       "4            150000              None  3/21/16 13:02  "
      ]
     },
     "execution_count": 119,
     "metadata": {},
     "output_type": "execute_result"
    }
   ],
   "source": [
    "salaries_df.drop(\"salary_id\").toPandas().head()"
   ]
  },
  {
   "cell_type": "code",
   "execution_count": 120,
   "metadata": {
    "ExecuteTime": {
     "end_time": "2023-08-12T09:43:18.327984Z",
     "start_time": "2023-08-12T09:43:18.089675Z"
    }
   },
   "outputs": [
    {
     "data": {
      "text/html": [
       "<div>\n",
       "<style scoped>\n",
       "    .dataframe tbody tr th:only-of-type {\n",
       "        vertical-align: middle;\n",
       "    }\n",
       "\n",
       "    .dataframe tbody tr th {\n",
       "        vertical-align: top;\n",
       "    }\n",
       "\n",
       "    .dataframe thead th {\n",
       "        text-align: right;\n",
       "    }\n",
       "</style>\n",
       "<table border=\"1\" class=\"dataframe\">\n",
       "  <thead>\n",
       "    <tr style=\"text-align: right;\">\n",
       "      <th></th>\n",
       "      <th>index</th>\n",
       "      <th>salary_id</th>\n",
       "      <th>employer_name</th>\n",
       "      <th>location_name</th>\n",
       "      <th>location_state</th>\n",
       "      <th>location_country</th>\n",
       "      <th>location_latitude</th>\n",
       "      <th>location_longitude</th>\n",
       "      <th>job_title</th>\n",
       "      <th>job_title_category</th>\n",
       "      <th>job_title_rank</th>\n",
       "      <th>total_experience_years</th>\n",
       "      <th>employer_experience_years</th>\n",
       "      <th>annual_base_pay</th>\n",
       "      <th>signing_bonus</th>\n",
       "      <th>annual_bonus</th>\n",
       "      <th>stock_value_bonus</th>\n",
       "      <th>comments</th>\n",
       "      <th>submitted_at</th>\n",
       "    </tr>\n",
       "  </thead>\n",
       "  <tbody>\n",
       "    <tr>\n",
       "      <th>0</th>\n",
       "      <td>0</td>\n",
       "      <td>1</td>\n",
       "      <td>opower</td>\n",
       "      <td>san francisco, ca</td>\n",
       "      <td>CA</td>\n",
       "      <td>US</td>\n",
       "      <td>37.77</td>\n",
       "      <td>-122.41</td>\n",
       "      <td>systems engineer</td>\n",
       "      <td>Engineering</td>\n",
       "      <td>None</td>\n",
       "      <td>13.0</td>\n",
       "      <td>2.0</td>\n",
       "      <td>125000.0</td>\n",
       "      <td>5000.0</td>\n",
       "      <td>0.0</td>\n",
       "      <td>5000 shares</td>\n",
       "      <td>Don't work here.</td>\n",
       "      <td>3/21/16 12:58</td>\n",
       "    </tr>\n",
       "    <tr>\n",
       "      <th>1</th>\n",
       "      <td>1</td>\n",
       "      <td>3</td>\n",
       "      <td>walmart</td>\n",
       "      <td>bentonville, ar</td>\n",
       "      <td>AR</td>\n",
       "      <td>US</td>\n",
       "      <td>36.36</td>\n",
       "      <td>-94.20</td>\n",
       "      <td>senior developer</td>\n",
       "      <td>Software</td>\n",
       "      <td>Senior</td>\n",
       "      <td>15.0</td>\n",
       "      <td>8.0</td>\n",
       "      <td>65000.0</td>\n",
       "      <td>NaN</td>\n",
       "      <td>5000.0</td>\n",
       "      <td>3,000</td>\n",
       "      <td>None</td>\n",
       "      <td>3/21/16 12:58</td>\n",
       "    </tr>\n",
       "    <tr>\n",
       "      <th>2</th>\n",
       "      <td>2</td>\n",
       "      <td>4</td>\n",
       "      <td>vertical knowledge</td>\n",
       "      <td>cleveland, oh</td>\n",
       "      <td>OH</td>\n",
       "      <td>US</td>\n",
       "      <td>41.47</td>\n",
       "      <td>-81.67</td>\n",
       "      <td>software engineer</td>\n",
       "      <td>Software</td>\n",
       "      <td>None</td>\n",
       "      <td>4.0</td>\n",
       "      <td>1.0</td>\n",
       "      <td>86000.0</td>\n",
       "      <td>5000.0</td>\n",
       "      <td>6000.0</td>\n",
       "      <td>0</td>\n",
       "      <td>None</td>\n",
       "      <td>3/21/16 12:59</td>\n",
       "    </tr>\n",
       "    <tr>\n",
       "      <th>3</th>\n",
       "      <td>3</td>\n",
       "      <td>6</td>\n",
       "      <td>netapp</td>\n",
       "      <td>waltham</td>\n",
       "      <td>None</td>\n",
       "      <td>None</td>\n",
       "      <td>NaN</td>\n",
       "      <td>NaN</td>\n",
       "      <td>mts</td>\n",
       "      <td>Other</td>\n",
       "      <td>None</td>\n",
       "      <td>4.0</td>\n",
       "      <td>0.0</td>\n",
       "      <td>105000.0</td>\n",
       "      <td>5000.0</td>\n",
       "      <td>8500.0</td>\n",
       "      <td>0</td>\n",
       "      <td>None</td>\n",
       "      <td>3/21/16 13:00</td>\n",
       "    </tr>\n",
       "    <tr>\n",
       "      <th>4</th>\n",
       "      <td>4</td>\n",
       "      <td>12</td>\n",
       "      <td>orange</td>\n",
       "      <td>cupertino</td>\n",
       "      <td>None</td>\n",
       "      <td>None</td>\n",
       "      <td>NaN</td>\n",
       "      <td>NaN</td>\n",
       "      <td>software engineer</td>\n",
       "      <td>Software</td>\n",
       "      <td>None</td>\n",
       "      <td>4.0</td>\n",
       "      <td>3.0</td>\n",
       "      <td>110000.0</td>\n",
       "      <td>5000.0</td>\n",
       "      <td>7000.0</td>\n",
       "      <td>150000</td>\n",
       "      <td>None</td>\n",
       "      <td>3/21/16 13:02</td>\n",
       "    </tr>\n",
       "  </tbody>\n",
       "</table>\n",
       "</div>"
      ],
      "text/plain": [
       "  index salary_id       employer_name      location_name location_state  \\\n",
       "0     0         1              opower  san francisco, ca             CA   \n",
       "1     1         3             walmart    bentonville, ar             AR   \n",
       "2     2         4  vertical knowledge      cleveland, oh             OH   \n",
       "3     3         6              netapp            waltham           None   \n",
       "4     4        12              orange          cupertino           None   \n",
       "\n",
       "  location_country  location_latitude  location_longitude          job_title  \\\n",
       "0               US              37.77             -122.41   systems engineer   \n",
       "1               US              36.36              -94.20   senior developer   \n",
       "2               US              41.47              -81.67  software engineer   \n",
       "3             None                NaN                 NaN                mts   \n",
       "4             None                NaN                 NaN  software engineer   \n",
       "\n",
       "  job_title_category job_title_rank  total_experience_years  \\\n",
       "0        Engineering           None                    13.0   \n",
       "1           Software         Senior                    15.0   \n",
       "2           Software           None                     4.0   \n",
       "3              Other           None                     4.0   \n",
       "4           Software           None                     4.0   \n",
       "\n",
       "   employer_experience_years  annual_base_pay  signing_bonus  annual_bonus  \\\n",
       "0                        2.0         125000.0         5000.0           0.0   \n",
       "1                        8.0          65000.0            NaN        5000.0   \n",
       "2                        1.0          86000.0         5000.0        6000.0   \n",
       "3                        0.0         105000.0         5000.0        8500.0   \n",
       "4                        3.0         110000.0         5000.0        7000.0   \n",
       "\n",
       "  stock_value_bonus          comments   submitted_at  \n",
       "0       5000 shares  Don't work here.  3/21/16 12:58  \n",
       "1             3,000              None  3/21/16 12:58  \n",
       "2                 0              None  3/21/16 12:59  \n",
       "3                 0              None  3/21/16 13:00  \n",
       "4            150000              None  3/21/16 13:02  "
      ]
     },
     "execution_count": 120,
     "metadata": {},
     "output_type": "execute_result"
    }
   ],
   "source": [
    "salaries_df.replace('apple', 'orange', subset=['employer_name']).toPandas().head()"
   ]
  },
  {
   "cell_type": "code",
   "execution_count": 128,
   "metadata": {
    "ExecuteTime": {
     "end_time": "2023-08-12T09:55:32.710324Z",
     "start_time": "2023-08-12T09:55:32.634622Z"
    }
   },
   "outputs": [
    {
     "name": "stdout",
     "output_type": "stream",
     "text": [
      "== Parsed Logical Plan ==\n",
      "Project [index#4578, CASE WHEN (employer_name#4580 = apple) THEN cast(orange as string) ELSE employer_name#4580 END AS employer_name#6120, location_name#4581, location_state#4582, location_country#4583, location_latitude#4584, location_longitude#4585, job_title#4586, job_title_category#4587, job_title_rank#4588, tot_exp_years#6021, emp_exp_years#6041, annual_base_pay#4591, signing_bonus#4592, annual_bonus#4593, stock_value_bonus#4594, comments#4595, submitted_at#4596, annual_total#6061]\n",
      "+- Project [index#4578, employer_name#4580, location_name#4581, location_state#4582, location_country#4583, location_latitude#4584, location_longitude#4585, job_title#4586, job_title_category#4587, job_title_rank#4588, tot_exp_years#6021, emp_exp_years#6041, annual_base_pay#4591, signing_bonus#4592, annual_bonus#4593, stock_value_bonus#4594, comments#4595, submitted_at#4596, annual_total#6061]\n",
      "   +- Project [index#4578, salary_id#4579, employer_name#4580, location_name#4581, location_state#4582, location_country#4583, location_latitude#4584, location_longitude#4585, job_title#4586, job_title_category#4587, job_title_rank#4588, tot_exp_years#6021, emp_exp_years#6041, annual_base_pay#4591, signing_bonus#4592, annual_bonus#4593, stock_value_bonus#4594, comments#4595, submitted_at#4596, (annual_base_pay#4591 + annual_bonus#4593) AS annual_total#6061]\n",
      "      +- Project [index#4578, salary_id#4579, employer_name#4580, location_name#4581, location_state#4582, location_country#4583, location_latitude#4584, location_longitude#4585, job_title#4586, job_title_category#4587, job_title_rank#4588, tot_exp_years#6021, employer_experience_years#4590 AS emp_exp_years#6041, annual_base_pay#4591, signing_bonus#4592, annual_bonus#4593, stock_value_bonus#4594, comments#4595, submitted_at#4596]\n",
      "         +- Project [index#4578, salary_id#4579, employer_name#4580, location_name#4581, location_state#4582, location_country#4583, location_latitude#4584, location_longitude#4585, job_title#4586, job_title_category#4587, job_title_rank#4588, total_experience_years#4589 AS tot_exp_years#6021, employer_experience_years#4590, annual_base_pay#4591, signing_bonus#4592, annual_bonus#4593, stock_value_bonus#4594, comments#4595, submitted_at#4596]\n",
      "            +- Relation [index#4578,salary_id#4579,employer_name#4580,location_name#4581,location_state#4582,location_country#4583,location_latitude#4584,location_longitude#4585,job_title#4586,job_title_category#4587,job_title_rank#4588,total_experience_years#4589,employer_experience_years#4590,annual_base_pay#4591,signing_bonus#4592,annual_bonus#4593,stock_value_bonus#4594,comments#4595,submitted_at#4596] csv\n",
      "\n",
      "== Analyzed Logical Plan ==\n",
      "index: string, employer_name: string, location_name: string, location_state: string, location_country: string, location_latitude: double, location_longitude: double, job_title: string, job_title_category: string, job_title_rank: string, tot_exp_years: double, emp_exp_years: double, annual_base_pay: double, signing_bonus: double, annual_bonus: double, stock_value_bonus: string, comments: string, submitted_at: string, annual_total: double\n",
      "Project [index#4578, CASE WHEN (employer_name#4580 = apple) THEN cast(orange as string) ELSE employer_name#4580 END AS employer_name#6120, location_name#4581, location_state#4582, location_country#4583, location_latitude#4584, location_longitude#4585, job_title#4586, job_title_category#4587, job_title_rank#4588, tot_exp_years#6021, emp_exp_years#6041, annual_base_pay#4591, signing_bonus#4592, annual_bonus#4593, stock_value_bonus#4594, comments#4595, submitted_at#4596, annual_total#6061]\n",
      "+- Project [index#4578, employer_name#4580, location_name#4581, location_state#4582, location_country#4583, location_latitude#4584, location_longitude#4585, job_title#4586, job_title_category#4587, job_title_rank#4588, tot_exp_years#6021, emp_exp_years#6041, annual_base_pay#4591, signing_bonus#4592, annual_bonus#4593, stock_value_bonus#4594, comments#4595, submitted_at#4596, annual_total#6061]\n",
      "   +- Project [index#4578, salary_id#4579, employer_name#4580, location_name#4581, location_state#4582, location_country#4583, location_latitude#4584, location_longitude#4585, job_title#4586, job_title_category#4587, job_title_rank#4588, tot_exp_years#6021, emp_exp_years#6041, annual_base_pay#4591, signing_bonus#4592, annual_bonus#4593, stock_value_bonus#4594, comments#4595, submitted_at#4596, (annual_base_pay#4591 + annual_bonus#4593) AS annual_total#6061]\n",
      "      +- Project [index#4578, salary_id#4579, employer_name#4580, location_name#4581, location_state#4582, location_country#4583, location_latitude#4584, location_longitude#4585, job_title#4586, job_title_category#4587, job_title_rank#4588, tot_exp_years#6021, employer_experience_years#4590 AS emp_exp_years#6041, annual_base_pay#4591, signing_bonus#4592, annual_bonus#4593, stock_value_bonus#4594, comments#4595, submitted_at#4596]\n",
      "         +- Project [index#4578, salary_id#4579, employer_name#4580, location_name#4581, location_state#4582, location_country#4583, location_latitude#4584, location_longitude#4585, job_title#4586, job_title_category#4587, job_title_rank#4588, total_experience_years#4589 AS tot_exp_years#6021, employer_experience_years#4590, annual_base_pay#4591, signing_bonus#4592, annual_bonus#4593, stock_value_bonus#4594, comments#4595, submitted_at#4596]\n",
      "            +- Relation [index#4578,salary_id#4579,employer_name#4580,location_name#4581,location_state#4582,location_country#4583,location_latitude#4584,location_longitude#4585,job_title#4586,job_title_category#4587,job_title_rank#4588,total_experience_years#4589,employer_experience_years#4590,annual_base_pay#4591,signing_bonus#4592,annual_bonus#4593,stock_value_bonus#4594,comments#4595,submitted_at#4596] csv\n",
      "\n",
      "== Optimized Logical Plan ==\n",
      "Project [index#4578, CASE WHEN (employer_name#4580 = apple) THEN orange ELSE employer_name#4580 END AS employer_name#6120, location_name#4581, location_state#4582, location_country#4583, location_latitude#4584, location_longitude#4585, job_title#4586, job_title_category#4587, job_title_rank#4588, total_experience_years#4589 AS tot_exp_years#6021, employer_experience_years#4590 AS emp_exp_years#6041, annual_base_pay#4591, signing_bonus#4592, annual_bonus#4593, stock_value_bonus#4594, comments#4595, submitted_at#4596, (annual_base_pay#4591 + annual_bonus#4593) AS annual_total#6061]\n",
      "+- Relation [index#4578,salary_id#4579,employer_name#4580,location_name#4581,location_state#4582,location_country#4583,location_latitude#4584,location_longitude#4585,job_title#4586,job_title_category#4587,job_title_rank#4588,total_experience_years#4589,employer_experience_years#4590,annual_base_pay#4591,signing_bonus#4592,annual_bonus#4593,stock_value_bonus#4594,comments#4595,submitted_at#4596] csv\n",
      "\n",
      "== Physical Plan ==\n",
      "*(1) Project [index#4578, CASE WHEN (employer_name#4580 = apple) THEN orange ELSE employer_name#4580 END AS employer_name#6120, location_name#4581, location_state#4582, location_country#4583, location_latitude#4584, location_longitude#4585, job_title#4586, job_title_category#4587, job_title_rank#4588, total_experience_years#4589 AS tot_exp_years#6021, employer_experience_years#4590 AS emp_exp_years#6041, annual_base_pay#4591, signing_bonus#4592, annual_bonus#4593, stock_value_bonus#4594, comments#4595, submitted_at#4596, (annual_base_pay#4591 + annual_bonus#4593) AS annual_total#6061]\n",
      "+- FileScan csv [index#4578,employer_name#4580,location_name#4581,location_state#4582,location_country#4583,location_latitude#4584,location_longitude#4585,job_title#4586,job_title_category#4587,job_title_rank#4588,total_experience_years#4589,employer_experience_years#4590,annual_base_pay#4591,signing_bonus#4592,annual_bonus#4593,stock_value_bonus#4594,comments#4595,submitted_at#4596] Batched: false, DataFilters: [], Format: CSV, Location: InMemoryFileIndex(1 paths)[file:/mnt/e/DataSciencePRO/bootcamp_12_zjazd_SPARK/spark materiały_dzi..., PartitionFilters: [], PushedFilters: [], ReadSchema: struct<index:string,employer_name:string,location_name:string,location_state:string,location_coun...\n",
      "\n"
     ]
    }
   ],
   "source": [
    "salaries_df2 = salaries_df \\\n",
    "                .withColumnRenamed(\"total_experience_years\", \"tot_exp_years\") \\\n",
    "                .withColumnRenamed(\"employer_experience_years\", \"emp_exp_years\") \\\n",
    "                .withColumn(\"annual_total\", f.col(\"annual_base_pay\") + f.col(\"annual_bonus\")) \\\n",
    "                .drop(\"salary_id\") \\\n",
    "                .replace(\"apple\", \"orange\", subset=['employer_name'])\n",
    "\n",
    "salaries_df2.explain(extended=True)  # plan wykonania transformacji ('lazy evaluations')"
   ]
  },
  {
   "cell_type": "code",
   "execution_count": 129,
   "metadata": {
    "ExecuteTime": {
     "end_time": "2023-08-12T09:55:53.564679Z",
     "start_time": "2023-08-12T09:55:53.378279Z"
    }
   },
   "outputs": [
    {
     "name": "stdout",
     "output_type": "stream",
     "text": [
      "+-----+------------------+-----------------+--------------+----------------+-----------------+------------------+-----------------+------------------+--------------+-------------+-------------+---------------+-------------+------------+-----------------+----------------+-------------+------------+\n",
      "|index|     employer_name|    location_name|location_state|location_country|location_latitude|location_longitude|        job_title|job_title_category|job_title_rank|tot_exp_years|emp_exp_years|annual_base_pay|signing_bonus|annual_bonus|stock_value_bonus|        comments| submitted_at|annual_total|\n",
      "+-----+------------------+-----------------+--------------+----------------+-----------------+------------------+-----------------+------------------+--------------+-------------+-------------+---------------+-------------+------------+-----------------+----------------+-------------+------------+\n",
      "|    0|            opower|san francisco, ca|            CA|              US|            37.77|           -122.41| systems engineer|       Engineering|          null|         13.0|          2.0|       125000.0|       5000.0|         0.0|      5000 shares|Don't work here.|3/21/16 12:58|    125000.0|\n",
      "|    1|           walmart|  bentonville, ar|            AR|              US|            36.36|             -94.2| senior developer|          Software|        Senior|         15.0|          8.0|        65000.0|         null|      5000.0|            3,000|            null|3/21/16 12:58|     70000.0|\n",
      "|    2|vertical knowledge|    cleveland, oh|            OH|              US|            41.47|            -81.67|software engineer|          Software|          null|          4.0|          1.0|        86000.0|       5000.0|      6000.0|                0|            null|3/21/16 12:59|     92000.0|\n",
      "|    3|            netapp|          waltham|          null|            null|             null|              null|              mts|             Other|          null|          4.0|          0.0|       105000.0|       5000.0|      8500.0|                0|            null|3/21/16 13:00|    113500.0|\n",
      "|    4|            orange|        cupertino|          null|            null|             null|              null|software engineer|          Software|          null|          4.0|          3.0|       110000.0|       5000.0|      7000.0|           150000|            null|3/21/16 13:02|    117000.0|\n",
      "+-----+------------------+-----------------+--------------+----------------+-----------------+------------------+-----------------+------------------+--------------+-------------+-------------+---------------+-------------+------------+-----------------+----------------+-------------+------------+\n",
      "only showing top 5 rows\n",
      "\n"
     ]
    }
   ],
   "source": [
    "salaries_df2.show(5)  # wykonanie planu działania, zdefiniowanego powyżej!"
   ]
  },
  {
   "cell_type": "markdown",
   "metadata": {
    "id": "nyRyqrn7RINs"
   },
   "source": [
    "# Filtering data"
   ]
  },
  {
   "cell_type": "code",
   "execution_count": 130,
   "metadata": {
    "ExecuteTime": {
     "end_time": "2023-08-12T10:45:58.046160Z",
     "start_time": "2023-08-12T10:45:57.726678Z"
    },
    "id": "KnKFMDTIRINt"
   },
   "outputs": [
    {
     "name": "stdout",
     "output_type": "stream",
     "text": [
      "+-----------+--------------+----------+--------------+---+-------------+--------------+----------------+--------------+\n",
      "|    Country|        Region|Hemisphere|HappinessScore|HDI|GDP_PerCapita|Beer_PerCapita|Spirit_PerCapita|Wine_PerCapita|\n",
      "+-----------+--------------+----------+--------------+---+-------------+--------------+----------------+--------------+\n",
      "|    Denmark|Western Europe|     north|         7.526|928|       53.579|           224|              81|           278|\n",
      "|Switzerland|Western Europe|     north|         7.509|943|       79.866|           185|             100|           280|\n",
      "|    Iceland|Western Europe|     north|         7.501|933|        60.53|           233|              61|            78|\n",
      "|     Norway|Western Europe|     north|         7.498|951|        70.89|           169|              71|           129|\n",
      "|    Finland|Western Europe|     north|         7.413|918|       43.433|           263|             133|            97|\n",
      "+-----------+--------------+----------+--------------+---+-------------+--------------+----------------+--------------+\n",
      "only showing top 5 rows\n",
      "\n"
     ]
    }
   ],
   "source": [
    "hac_df.where(hac_df.Country.isNotNull()).show(5)  # 'where' is an alias for 'filter'!"
   ]
  },
  {
   "cell_type": "code",
   "execution_count": 131,
   "metadata": {
    "ExecuteTime": {
     "end_time": "2023-08-12T10:47:08.507112Z",
     "start_time": "2023-08-12T10:47:08.293439Z"
    },
    "id": "C8ZoR57_RINu"
   },
   "outputs": [
    {
     "name": "stdout",
     "output_type": "stream",
     "text": [
      "+----------+--------------------+----------+--------------+---+-------------+--------------+----------------+--------------+\n",
      "|   Country|              Region|Hemisphere|HappinessScore|HDI|GDP_PerCapita|Beer_PerCapita|Spirit_PerCapita|Wine_PerCapita|\n",
      "+----------+--------------------+----------+--------------+---+-------------+--------------+----------------+--------------+\n",
      "|    Israel|Middle East and N...|     north|         7.267|902|       37.181|            63|              69|             9|\n",
      "|Costa Rica|Latin America and...|     north|         7.087|791|       11.733|           149|              87|            11|\n",
      "|    Brazil|Latin America and...|      both|         6.952|758|        8.639|           245|             145|            16|\n",
      "|    Mexico|Latin America and...|     north|         6.778|772|        8.444|           238|              68|             5|\n",
      "|     Chile|Latin America and...|     south|         6.705|842|       13.961|           130|             124|           172|\n",
      "+----------+--------------------+----------+--------------+---+-------------+--------------+----------------+--------------+\n",
      "only showing top 5 rows\n",
      "\n"
     ]
    }
   ],
   "source": [
    "hac_df.filter(hac_df.GDP_PerCapita < 40).show(5)"
   ]
  },
  {
   "cell_type": "code",
   "execution_count": 137,
   "metadata": {
    "ExecuteTime": {
     "end_time": "2023-08-12T10:49:53.635565Z",
     "start_time": "2023-08-12T10:49:53.480657Z"
    },
    "id": "98_4KbaURINw"
   },
   "outputs": [
    {
     "name": "stdout",
     "output_type": "stream",
     "text": [
      "+--------------------+\n",
      "|             Country|\n",
      "+--------------------+\n",
      "|              Brazil|\n",
      "|             Belgium|\n",
      "|          Luxembourg|\n",
      "|      Czech Republic|\n",
      "|United Arab Emirates|\n",
      "+--------------------+\n",
      "only showing top 5 rows\n",
      "\n"
     ]
    }
   ],
   "source": [
    "hac_df.where(hac_df.Country.contains(\"b\") | hac_df.Country.contains(\"B\")).select('Country').show(5)"
   ]
  },
  {
   "cell_type": "code",
   "execution_count": 138,
   "metadata": {
    "ExecuteTime": {
     "end_time": "2023-08-12T10:50:08.031481Z",
     "start_time": "2023-08-12T10:50:07.908704Z"
    },
    "id": "afftkkseRINy"
   },
   "outputs": [
    {
     "name": "stdout",
     "output_type": "stream",
     "text": [
      "+--------------------+\n",
      "|             Country|\n",
      "+--------------------+\n",
      "|              Brazil|\n",
      "|             Belgium|\n",
      "|          Luxembourg|\n",
      "|      Czech Republic|\n",
      "|United Arab Emirates|\n",
      "+--------------------+\n",
      "only showing top 5 rows\n",
      "\n"
     ]
    }
   ],
   "source": [
    "hac_df.where(hac_df.Country.like('%b%') | hac_df.Country.like(\"%B%\")).select('Country').show(5)  # składnia SQL"
   ]
  },
  {
   "cell_type": "code",
   "execution_count": 144,
   "metadata": {
    "ExecuteTime": {
     "end_time": "2023-08-12T10:52:41.724875Z",
     "start_time": "2023-08-12T10:52:41.573401Z"
    },
    "id": "glWQ0hqVPe5m"
   },
   "outputs": [
    {
     "name": "stdout",
     "output_type": "stream",
     "text": [
      "+-------------+--------------------+----------+--------------+---+-------------+--------------+----------------+--------------+-----+\n",
      "|      Country|              Region|Hemisphere|HappinessScore|HDI|GDP_PerCapita|Beer_PerCapita|Spirit_PerCapita|Wine_PerCapita|happy|\n",
      "+-------------+--------------------+----------+--------------+---+-------------+--------------+----------------+--------------+-----+\n",
      "|      Denmark|      Western Europe|     north|         7.526|928|       53.579|           224|              81|           278|  yes|\n",
      "|  Switzerland|      Western Europe|     north|         7.509|943|       79.866|           185|             100|           280|  yes|\n",
      "|      Iceland|      Western Europe|     north|         7.501|933|        60.53|           233|              61|            78|  yes|\n",
      "|       Norway|      Western Europe|     north|         7.498|951|        70.89|           169|              71|           129|  yes|\n",
      "|      Finland|      Western Europe|     north|         7.413|918|       43.433|           263|             133|            97|  yes|\n",
      "|       Canada|       North America|     north|         7.404|922|       42.349|           240|             122|           100|  yes|\n",
      "|  Netherlands|      Western Europe|     north|         7.339|928|       45.638|           251|              88|           190|  yes|\n",
      "|  New Zealand|Australia and New...|     south|         7.334|915|       40.332|           203|              79|           175|  yes|\n",
      "|    Australia|Australia and New...|     south|         7.313|938|       49.897|           261|              72|           212|  yes|\n",
      "|       Sweden|      Western Europe|     north|         7.291|932|       51.845|           152|              60|           186|  yes|\n",
      "|       Israel|Middle East and N...|     north|         7.267|902|       37.181|            63|              69|             9|  yes|\n",
      "|      Austria|      Western Europe|     north|         7.119|906|       44.731|           279|              75|           191|  yes|\n",
      "|United States|       North America|     north|         7.104|922|       57.589|           249|             158|            84|  yes|\n",
      "|   Costa Rica|Latin America and...|     north|         7.087|791|       11.733|           149|              87|            11|  yes|\n",
      "|      Germany|      Western Europe|     north|         6.994|934|       42.233|           346|             117|           175|   no|\n",
      "|       Brazil|Latin America and...|      both|         6.952|758|        8.639|           245|             145|            16|   no|\n",
      "|      Belgium|      Western Europe|     north|         6.929|915|       41.261|           295|              84|           212|   no|\n",
      "|      Ireland|      Western Europe|     north|         6.907|934|         64.1|           313|             118|           165|   no|\n",
      "|   Luxembourg|      Western Europe|     north|         6.871|904|      100.739|           236|             133|           271|   no|\n",
      "|       Mexico|Latin America and...|     north|         6.778|772|        8.444|           238|              68|             5|   no|\n",
      "+-------------+--------------------+----------+--------------+---+-------------+--------------+----------------+--------------+-----+\n",
      "only showing top 20 rows\n",
      "\n"
     ]
    }
   ],
   "source": [
    " # instrukcja warunkowa podczas tworzenia nowych kolumn (if-else)\n",
    "hac_df.withColumn(\"happy\", f.when(f.col(\"HappinessScore\") > 7, \"yes\").otherwise(\"no\")).show(20)"
   ]
  },
  {
   "cell_type": "markdown",
   "metadata": {
    "id": "Xm5mT9ceRINz"
   },
   "source": [
    "## Zadanie 3:"
   ]
  },
  {
   "cell_type": "code",
   "execution_count": 148,
   "metadata": {
    "ExecuteTime": {
     "end_time": "2023-08-12T10:56:36.536869Z",
     "start_time": "2023-08-12T10:56:36.404529Z"
    },
    "id": "m8Hn7pFqh_je"
   },
   "outputs": [
    {
     "name": "stdout",
     "output_type": "stream",
     "text": [
      "+-----+---------+------------------+-----------------+--------------+----------------+-----------------+------------------+-----------------+------------------+--------------+----------------------+-------------------------+---------------+-------------+------------+-----------------+----------------+-------------+\n",
      "|index|salary_id|     employer_name|    location_name|location_state|location_country|location_latitude|location_longitude|        job_title|job_title_category|job_title_rank|total_experience_years|employer_experience_years|annual_base_pay|signing_bonus|annual_bonus|stock_value_bonus|        comments| submitted_at|\n",
      "+-----+---------+------------------+-----------------+--------------+----------------+-----------------+------------------+-----------------+------------------+--------------+----------------------+-------------------------+---------------+-------------+------------+-----------------+----------------+-------------+\n",
      "|    0|        1|            opower|san francisco, ca|            CA|              US|            37.77|           -122.41| systems engineer|       Engineering|          null|                  13.0|                      2.0|       125000.0|       5000.0|         0.0|      5000 shares|Don't work here.|3/21/16 12:58|\n",
      "|    1|        3|           walmart|  bentonville, ar|            AR|              US|            36.36|             -94.2| senior developer|          Software|        Senior|                  15.0|                      8.0|        65000.0|         null|      5000.0|            3,000|            null|3/21/16 12:58|\n",
      "|    2|        4|vertical knowledge|    cleveland, oh|            OH|              US|            41.47|            -81.67|software engineer|          Software|          null|                   4.0|                      1.0|        86000.0|       5000.0|      6000.0|                0|            null|3/21/16 12:59|\n",
      "|    3|        6|            netapp|          waltham|          null|            null|             null|              null|              mts|             Other|          null|                   4.0|                      0.0|       105000.0|       5000.0|      8500.0|                0|            null|3/21/16 13:00|\n",
      "|    4|       12|             apple|        cupertino|          null|            null|             null|              null|software engineer|          Software|          null|                   4.0|                      3.0|       110000.0|       5000.0|      7000.0|           150000|            null|3/21/16 13:02|\n",
      "+-----+---------+------------------+-----------------+--------------+----------------+-----------------+------------------+-----------------+------------------+--------------+----------------------+-------------------------+---------------+-------------+------------+-----------------+----------------+-------------+\n",
      "only showing top 5 rows\n",
      "\n"
     ]
    }
   ],
   "source": [
    "salaries_df.show(5)"
   ]
  },
  {
   "cell_type": "markdown",
   "metadata": {
    "id": "gHaIP-w-G6hY"
   },
   "source": [
    "Wybierz tylko te rekordy ze zbioru `salaries`, które dotycza osób `job_title_category` =  `Software` oraz pracują na stanowisku `Senior`"
   ]
  },
  {
   "cell_type": "code",
   "execution_count": 158,
   "metadata": {
    "ExecuteTime": {
     "end_time": "2023-08-12T11:10:21.546168Z",
     "start_time": "2023-08-12T11:10:21.422049Z"
    },
    "id": "wUp8xkoXglKx"
   },
   "outputs": [
    {
     "data": {
      "text/html": [
       "<div>\n",
       "<style scoped>\n",
       "    .dataframe tbody tr th:only-of-type {\n",
       "        vertical-align: middle;\n",
       "    }\n",
       "\n",
       "    .dataframe tbody tr th {\n",
       "        vertical-align: top;\n",
       "    }\n",
       "\n",
       "    .dataframe thead th {\n",
       "        text-align: right;\n",
       "    }\n",
       "</style>\n",
       "<table border=\"1\" class=\"dataframe\">\n",
       "  <thead>\n",
       "    <tr style=\"text-align: right;\">\n",
       "      <th></th>\n",
       "      <th>index</th>\n",
       "      <th>salary_id</th>\n",
       "      <th>employer_name</th>\n",
       "      <th>location_name</th>\n",
       "      <th>location_state</th>\n",
       "      <th>location_country</th>\n",
       "      <th>location_latitude</th>\n",
       "      <th>location_longitude</th>\n",
       "      <th>job_title</th>\n",
       "      <th>job_title_category</th>\n",
       "      <th>job_title_rank</th>\n",
       "      <th>total_experience_years</th>\n",
       "      <th>employer_experience_years</th>\n",
       "      <th>annual_base_pay</th>\n",
       "      <th>signing_bonus</th>\n",
       "      <th>annual_bonus</th>\n",
       "      <th>stock_value_bonus</th>\n",
       "      <th>comments</th>\n",
       "      <th>submitted_at</th>\n",
       "    </tr>\n",
       "  </thead>\n",
       "  <tbody>\n",
       "    <tr>\n",
       "      <th>0</th>\n",
       "      <td>1</td>\n",
       "      <td>3</td>\n",
       "      <td>walmart</td>\n",
       "      <td>bentonville, ar</td>\n",
       "      <td>AR</td>\n",
       "      <td>US</td>\n",
       "      <td>36.36</td>\n",
       "      <td>-94.2</td>\n",
       "      <td>senior developer</td>\n",
       "      <td>Software</td>\n",
       "      <td>Senior</td>\n",
       "      <td>15.0</td>\n",
       "      <td>8.0</td>\n",
       "      <td>65000.0</td>\n",
       "      <td>NaN</td>\n",
       "      <td>5000.0</td>\n",
       "      <td>3,000</td>\n",
       "      <td>None</td>\n",
       "      <td>3/21/16 12:58</td>\n",
       "    </tr>\n",
       "    <tr>\n",
       "      <th>1</th>\n",
       "      <td>7</td>\n",
       "      <td>17</td>\n",
       "      <td>knewton</td>\n",
       "      <td>new york city</td>\n",
       "      <td>NY</td>\n",
       "      <td>US</td>\n",
       "      <td>38.00</td>\n",
       "      <td>-97.0</td>\n",
       "      <td>senior software engineer</td>\n",
       "      <td>Software</td>\n",
       "      <td>Senior</td>\n",
       "      <td>8.0</td>\n",
       "      <td>2.0</td>\n",
       "      <td>135000.0</td>\n",
       "      <td>0.0</td>\n",
       "      <td>0.0</td>\n",
       "      <td>None</td>\n",
       "      <td>None</td>\n",
       "      <td>3/21/16 13:03</td>\n",
       "    </tr>\n",
       "    <tr>\n",
       "      <th>2</th>\n",
       "      <td>10</td>\n",
       "      <td>24</td>\n",
       "      <td>pensco trust company</td>\n",
       "      <td>denver, co</td>\n",
       "      <td>CO</td>\n",
       "      <td>US</td>\n",
       "      <td>39.82</td>\n",
       "      <td>-105.1</td>\n",
       "      <td>senior software engineer</td>\n",
       "      <td>Software</td>\n",
       "      <td>Senior</td>\n",
       "      <td>10.0</td>\n",
       "      <td>1.5</td>\n",
       "      <td>120000.0</td>\n",
       "      <td>0.0</td>\n",
       "      <td>6000.0</td>\n",
       "      <td>0</td>\n",
       "      <td>None</td>\n",
       "      <td>3/21/16 13:04</td>\n",
       "    </tr>\n",
       "    <tr>\n",
       "      <th>3</th>\n",
       "      <td>26</td>\n",
       "      <td>59</td>\n",
       "      <td>quick left</td>\n",
       "      <td>boulder co</td>\n",
       "      <td>CO</td>\n",
       "      <td>US</td>\n",
       "      <td>38.00</td>\n",
       "      <td>-97.0</td>\n",
       "      <td>senior developer</td>\n",
       "      <td>Software</td>\n",
       "      <td>Senior</td>\n",
       "      <td>6.0</td>\n",
       "      <td>1.0</td>\n",
       "      <td>120000.0</td>\n",
       "      <td>0.0</td>\n",
       "      <td>0.0</td>\n",
       "      <td>500</td>\n",
       "      <td>None</td>\n",
       "      <td>3/21/16 13:08</td>\n",
       "    </tr>\n",
       "    <tr>\n",
       "      <th>4</th>\n",
       "      <td>65</td>\n",
       "      <td>151</td>\n",
       "      <td>b2b</td>\n",
       "      <td>nj</td>\n",
       "      <td>None</td>\n",
       "      <td>None</td>\n",
       "      <td>NaN</td>\n",
       "      <td>NaN</td>\n",
       "      <td>senior developer</td>\n",
       "      <td>Software</td>\n",
       "      <td>Senior</td>\n",
       "      <td>10.0</td>\n",
       "      <td>3.0</td>\n",
       "      <td>140000.0</td>\n",
       "      <td>0.0</td>\n",
       "      <td>10000.0</td>\n",
       "      <td>0</td>\n",
       "      <td>None</td>\n",
       "      <td>3/21/16 13:17</td>\n",
       "    </tr>\n",
       "  </tbody>\n",
       "</table>\n",
       "</div>"
      ],
      "text/plain": [
       "  index salary_id         employer_name    location_name location_state  \\\n",
       "0     1         3               walmart  bentonville, ar             AR   \n",
       "1     7        17               knewton    new york city             NY   \n",
       "2    10        24  pensco trust company       denver, co             CO   \n",
       "3    26        59            quick left       boulder co             CO   \n",
       "4    65       151                   b2b               nj           None   \n",
       "\n",
       "  location_country  location_latitude  location_longitude  \\\n",
       "0               US              36.36               -94.2   \n",
       "1               US              38.00               -97.0   \n",
       "2               US              39.82              -105.1   \n",
       "3               US              38.00               -97.0   \n",
       "4             None                NaN                 NaN   \n",
       "\n",
       "                  job_title job_title_category job_title_rank  \\\n",
       "0          senior developer           Software         Senior   \n",
       "1  senior software engineer           Software         Senior   \n",
       "2  senior software engineer           Software         Senior   \n",
       "3          senior developer           Software         Senior   \n",
       "4          senior developer           Software         Senior   \n",
       "\n",
       "   total_experience_years  employer_experience_years  annual_base_pay  \\\n",
       "0                    15.0                        8.0          65000.0   \n",
       "1                     8.0                        2.0         135000.0   \n",
       "2                    10.0                        1.5         120000.0   \n",
       "3                     6.0                        1.0         120000.0   \n",
       "4                    10.0                        3.0         140000.0   \n",
       "\n",
       "   signing_bonus  annual_bonus stock_value_bonus comments   submitted_at  \n",
       "0            NaN        5000.0             3,000     None  3/21/16 12:58  \n",
       "1            0.0           0.0              None     None  3/21/16 13:03  \n",
       "2            0.0        6000.0                 0     None  3/21/16 13:04  \n",
       "3            0.0           0.0               500     None  3/21/16 13:08  \n",
       "4            0.0       10000.0                 0     None  3/21/16 13:17  "
      ]
     },
     "execution_count": 158,
     "metadata": {},
     "output_type": "execute_result"
    }
   ],
   "source": [
    "salaries_df.where((salaries_df['job_title_category'] == 'Software') & (salaries_df['job_title_rank'] == 'Senior')).toPandas().head()\n",
    "# salaries_df.filter((salaries_df.job_title_category == 'Software') & (salaries_df.job_title_rank == 'Senior')).toPandas().head()"
   ]
  },
  {
   "cell_type": "markdown",
   "metadata": {
    "id": "DEWZguRyRIN0"
   },
   "source": [
    "## Zadanie 4:"
   ]
  },
  {
   "cell_type": "markdown",
   "metadata": {
    "id": "glltyd2uG67V"
   },
   "source": [
    "Stwórz nową kolumnę, która bedzie informacją o tym, czy w danym wierszu występuje `job_title_rank`"
   ]
  },
  {
   "cell_type": "code",
   "execution_count": 163,
   "metadata": {
    "ExecuteTime": {
     "end_time": "2023-08-12T11:12:43.777993Z",
     "start_time": "2023-08-12T11:12:43.689414Z"
    },
    "id": "j4dcDkzTkGpe"
   },
   "outputs": [
    {
     "name": "stdout",
     "output_type": "stream",
     "text": [
      "+--------------+------------------+\n",
      "|job_title_rank|has_job_title_rank|\n",
      "+--------------+------------------+\n",
      "|          null|             false|\n",
      "|        Senior|              true|\n",
      "|          null|             false|\n",
      "|          null|             false|\n",
      "|          null|             false|\n",
      "+--------------+------------------+\n",
      "only showing top 5 rows\n",
      "\n"
     ]
    }
   ],
   "source": [
    "salaries_df.withColumn(\"has_job_title_rank\", f.when(f.col(\"job_title_rank\").isNotNull(), \"true\").otherwise(\"false\")) \\\n",
    "           .select(\"job_title_rank\", \"has_job_title_rank\").show(5)"
   ]
  },
  {
   "cell_type": "markdown",
   "metadata": {
    "id": "XL7uqHNA-NtU"
   },
   "source": [
    "# Grouping Data"
   ]
  },
  {
   "cell_type": "code",
   "execution_count": 164,
   "metadata": {
    "ExecuteTime": {
     "end_time": "2023-08-12T11:13:30.874740Z",
     "start_time": "2023-08-12T11:13:30.699638Z"
    },
    "id": "TY5JDjY0-PAr"
   },
   "outputs": [
    {
     "name": "stdout",
     "output_type": "stream",
     "text": [
      "+-----+------+---+---+\n",
      "|color| fruit| v1| v2|\n",
      "+-----+------+---+---+\n",
      "|  red|banana|  1| 10|\n",
      "| blue|banana|  2| 20|\n",
      "|  red|carrot|  3| 30|\n",
      "| blue| grape|  4| 40|\n",
      "|  red|carrot|  5| 50|\n",
      "|black|carrot|  6| 60|\n",
      "|  red|banana|  7| 70|\n",
      "|  red| grape|  8| 80|\n",
      "+-----+------+---+---+\n",
      "\n"
     ]
    }
   ],
   "source": [
    "df = spark.createDataFrame([\n",
    "    ['red', 'banana', 1, 10], ['blue', 'banana', 2, 20], ['red', 'carrot', 3, 30],\n",
    "    ['blue', 'grape', 4, 40], ['red', 'carrot', 5, 50], ['black', 'carrot', 6, 60],\n",
    "    ['red', 'banana', 7, 70], ['red', 'grape', 8, 80]],\n",
    "    schema=['color', 'fruit', 'v1', 'v2'])\n",
    "\n",
    "df.show()"
   ]
  },
  {
   "cell_type": "code",
   "execution_count": 166,
   "metadata": {
    "ExecuteTime": {
     "end_time": "2023-08-12T11:14:23.798324Z",
     "start_time": "2023-08-12T11:14:23.626706Z"
    },
    "id": "_zPrOZ90-PLr"
   },
   "outputs": [
    {
     "name": "stdout",
     "output_type": "stream",
     "text": [
      "+-----+-------+-------+\n",
      "|color|avg(v1)|avg(v2)|\n",
      "+-----+-------+-------+\n",
      "|  red|    4.8|   48.0|\n",
      "|black|    6.0|   60.0|\n",
      "| blue|    3.0|   30.0|\n",
      "+-----+-------+-------+\n",
      "\n"
     ]
    }
   ],
   "source": [
    "df.groupby('color').avg().show()  # 'groupby' jest aliasem dla 'groupBy'"
   ]
  },
  {
   "cell_type": "code",
   "execution_count": 167,
   "metadata": {
    "ExecuteTime": {
     "end_time": "2023-08-12T11:14:36.513968Z",
     "start_time": "2023-08-12T11:14:36.270739Z"
    },
    "id": "n8YsTcPaRIN4"
   },
   "outputs": [
    {
     "name": "stdout",
     "output_type": "stream",
     "text": [
      "+-----+-------+\n",
      "|color|max(v1)|\n",
      "+-----+-------+\n",
      "|  red|      8|\n",
      "|black|      6|\n",
      "| blue|      4|\n",
      "+-----+-------+\n",
      "\n"
     ]
    }
   ],
   "source": [
    "df.groupby('color').max('v1').show()"
   ]
  },
  {
   "cell_type": "code",
   "execution_count": 168,
   "metadata": {
    "ExecuteTime": {
     "end_time": "2023-08-12T11:14:45.271230Z",
     "start_time": "2023-08-12T11:14:45.033772Z"
    },
    "id": "Qg6_fAfPRIN5"
   },
   "outputs": [
    {
     "name": "stdout",
     "output_type": "stream",
     "text": [
      "+-----+------+-------+-------+\n",
      "|color| fruit|avg(v2)|avg(v1)|\n",
      "+-----+------+-------+-------+\n",
      "| blue| grape|   40.0|    4.0|\n",
      "|black|carrot|   60.0|    6.0|\n",
      "|  red|banana|   40.0|    4.0|\n",
      "|  red| grape|   80.0|    8.0|\n",
      "|  red|carrot|   40.0|    4.0|\n",
      "| blue|banana|   20.0|    2.0|\n",
      "+-----+------+-------+-------+\n",
      "\n"
     ]
    }
   ],
   "source": [
    "df.groupby('color', 'fruit').mean('v2', 'v1').show()"
   ]
  },
  {
   "cell_type": "code",
   "execution_count": 169,
   "metadata": {
    "ExecuteTime": {
     "end_time": "2023-08-12T11:16:20.884055Z",
     "start_time": "2023-08-12T11:16:20.165466Z"
    },
    "id": "gZ5Ha_-4RIN6"
   },
   "outputs": [
    {
     "name": "stdout",
     "output_type": "stream",
     "text": [
      "+-----+------+------+-----+\n",
      "|color|banana|carrot|grape|\n",
      "+-----+------+------+-----+\n",
      "|  red|    80|    80|   80|\n",
      "|black|  null|    60| null|\n",
      "| blue|    20|  null|   40|\n",
      "+-----+------+------+-----+\n",
      "\n"
     ]
    }
   ],
   "source": [
    "df.groupby('color').pivot('fruit').sum('v2').show()  # 'null' dla wartości niewystępujących w DataFrame"
   ]
  },
  {
   "cell_type": "code",
   "execution_count": 170,
   "metadata": {
    "ExecuteTime": {
     "end_time": "2023-08-12T11:17:29.170718Z",
     "start_time": "2023-08-12T11:17:28.910884Z"
    },
    "id": "B34paLjiKlpQ"
   },
   "outputs": [
    {
     "name": "stdout",
     "output_type": "stream",
     "text": [
      "+-----+------+------+------+---------+\n",
      "|color| fruit|v1_sum|v2_avg|count(v1)|\n",
      "+-----+------+------+------+---------+\n",
      "| blue| grape|     4|  40.0|        1|\n",
      "|black|carrot|     6|  60.0|        1|\n",
      "|  red|banana|     8|  40.0|        2|\n",
      "|  red| grape|     8|  80.0|        1|\n",
      "|  red|carrot|     8|  40.0|        2|\n",
      "| blue|banana|     2|  20.0|        1|\n",
      "+-----+------+------+------+---------+\n",
      "\n"
     ]
    }
   ],
   "source": [
    "df.groupBy([\"color\",\"fruit\"]).agg(f.sum(\"v1\").alias(\"v1_sum\"), f.avg(\"v2\").alias(\"v2_avg\"), f.count(\"v1\")).show()"
   ]
  },
  {
   "cell_type": "code",
   "execution_count": 175,
   "metadata": {
    "ExecuteTime": {
     "end_time": "2023-08-12T11:20:55.847043Z",
     "start_time": "2023-08-12T11:20:55.664774Z"
    },
    "id": "wDWzjcgRfTM2"
   },
   "outputs": [
    {
     "name": "stdout",
     "output_type": "stream",
     "text": [
      "+-----+------+-------------------+\n",
      "|color| fruit|(sum(v1) - avg(v2))|\n",
      "+-----+------+-------------------+\n",
      "| blue| grape|              -36.0|\n",
      "|black|carrot|              -54.0|\n",
      "|  red|banana|              -32.0|\n",
      "|  red| grape|              -72.0|\n",
      "|  red|carrot|              -32.0|\n",
      "| blue|banana|              -18.0|\n",
      "+-----+------+-------------------+\n",
      "\n"
     ]
    }
   ],
   "source": [
    "df.groupBy([\"color\",\"fruit\"]).agg((f.sum(\"v1\") - f.avg(\"v2\"))).show()"
   ]
  },
  {
   "cell_type": "code",
   "execution_count": 176,
   "metadata": {
    "ExecuteTime": {
     "end_time": "2023-08-12T11:20:57.772702Z",
     "start_time": "2023-08-12T11:20:57.587608Z"
    }
   },
   "outputs": [
    {
     "name": "stdout",
     "output_type": "stream",
     "text": [
      "+-----+------+-------------+\n",
      "|color| fruit|sum_minus_avg|\n",
      "+-----+------+-------------+\n",
      "| blue| grape|        -36.0|\n",
      "|black|carrot|        -54.0|\n",
      "|  red|banana|        -32.0|\n",
      "|  red| grape|        -72.0|\n",
      "|  red|carrot|        -32.0|\n",
      "| blue|banana|        -18.0|\n",
      "+-----+------+-------------+\n",
      "\n"
     ]
    }
   ],
   "source": [
    "df.groupBy([\"color\",\"fruit\"]).agg((f.sum(\"v1\") - f.avg(\"v2\")).alias(\"sum_minus_avg\")).show()"
   ]
  },
  {
   "cell_type": "markdown",
   "metadata": {
    "id": "lS5mOT9IRINo"
   },
   "source": [
    "**Sortowanie**"
   ]
  },
  {
   "cell_type": "code",
   "execution_count": 177,
   "metadata": {
    "ExecuteTime": {
     "end_time": "2023-08-12T11:21:04.279071Z",
     "start_time": "2023-08-12T11:21:04.106022Z"
    },
    "id": "NJRR422BlzyY"
   },
   "outputs": [
    {
     "name": "stdout",
     "output_type": "stream",
     "text": [
      "+-----+------+---+---+\n",
      "|color| fruit| v1| v2|\n",
      "+-----+------+---+---+\n",
      "|black|carrot|  6| 60|\n",
      "| blue|banana|  2| 20|\n",
      "| blue| grape|  4| 40|\n",
      "|  red|banana|  1| 10|\n",
      "|  red|carrot|  3| 30|\n",
      "|  red|carrot|  5| 50|\n",
      "|  red|banana|  7| 70|\n",
      "|  red| grape|  8| 80|\n",
      "+-----+------+---+---+\n",
      "\n"
     ]
    }
   ],
   "source": [
    "df.sort('color', 'v2').show()"
   ]
  },
  {
   "cell_type": "code",
   "execution_count": 178,
   "metadata": {
    "ExecuteTime": {
     "end_time": "2023-08-12T11:22:25.464316Z",
     "start_time": "2023-08-12T11:22:25.322109Z"
    },
    "id": "JALvk0wK-PSG"
   },
   "outputs": [
    {
     "name": "stdout",
     "output_type": "stream",
     "text": [
      "+-----+------+---+---+\n",
      "|color| fruit| v1| v2|\n",
      "+-----+------+---+---+\n",
      "|  red| grape|  8| 80|\n",
      "|  red|banana|  7| 70|\n",
      "|black|carrot|  6| 60|\n",
      "|  red|carrot|  5| 50|\n",
      "| blue| grape|  4| 40|\n",
      "|  red|carrot|  3| 30|\n",
      "| blue|banana|  2| 20|\n",
      "|  red|banana|  1| 10|\n",
      "+-----+------+---+---+\n",
      "\n"
     ]
    }
   ],
   "source": [
    "df.sort('v1', ascending=False).show()"
   ]
  },
  {
   "cell_type": "markdown",
   "metadata": {
    "id": "UWMQoW64RIN9"
   },
   "source": [
    "## Zadanie 5:"
   ]
  },
  {
   "cell_type": "code",
   "execution_count": 179,
   "metadata": {
    "ExecuteTime": {
     "end_time": "2023-08-12T11:22:52.211041Z",
     "start_time": "2023-08-12T11:22:52.129771Z"
    },
    "id": "7IsnSB9ZlClr"
   },
   "outputs": [
    {
     "name": "stdout",
     "output_type": "stream",
     "text": [
      "+-----+---------+------------------+-----------------+--------------+----------------+-----------------+------------------+-----------------+------------------+--------------+----------------------+-------------------------+---------------+-------------+------------+-----------------+----------------+-------------+\n",
      "|index|salary_id|     employer_name|    location_name|location_state|location_country|location_latitude|location_longitude|        job_title|job_title_category|job_title_rank|total_experience_years|employer_experience_years|annual_base_pay|signing_bonus|annual_bonus|stock_value_bonus|        comments| submitted_at|\n",
      "+-----+---------+------------------+-----------------+--------------+----------------+-----------------+------------------+-----------------+------------------+--------------+----------------------+-------------------------+---------------+-------------+------------+-----------------+----------------+-------------+\n",
      "|    0|        1|            opower|san francisco, ca|            CA|              US|            37.77|           -122.41| systems engineer|       Engineering|          null|                  13.0|                      2.0|       125000.0|       5000.0|         0.0|      5000 shares|Don't work here.|3/21/16 12:58|\n",
      "|    1|        3|           walmart|  bentonville, ar|            AR|              US|            36.36|             -94.2| senior developer|          Software|        Senior|                  15.0|                      8.0|        65000.0|         null|      5000.0|            3,000|            null|3/21/16 12:58|\n",
      "|    2|        4|vertical knowledge|    cleveland, oh|            OH|              US|            41.47|            -81.67|software engineer|          Software|          null|                   4.0|                      1.0|        86000.0|       5000.0|      6000.0|                0|            null|3/21/16 12:59|\n",
      "|    3|        6|            netapp|          waltham|          null|            null|             null|              null|              mts|             Other|          null|                   4.0|                      0.0|       105000.0|       5000.0|      8500.0|                0|            null|3/21/16 13:00|\n",
      "|    4|       12|             apple|        cupertino|          null|            null|             null|              null|software engineer|          Software|          null|                   4.0|                      3.0|       110000.0|       5000.0|      7000.0|           150000|            null|3/21/16 13:02|\n",
      "+-----+---------+------------------+-----------------+--------------+----------------+-----------------+------------------+-----------------+------------------+--------------+----------------------+-------------------------+---------------+-------------+------------+-----------------+----------------+-------------+\n",
      "only showing top 5 rows\n",
      "\n"
     ]
    }
   ],
   "source": [
    "salaries_df.show(5)"
   ]
  },
  {
   "cell_type": "markdown",
   "metadata": {
    "id": "CSXXmtNSlK58"
   },
   "source": [
    "Policz średnie zarobki per `location_state` i `job_title`"
   ]
  },
  {
   "cell_type": "code",
   "execution_count": 181,
   "metadata": {
    "ExecuteTime": {
     "end_time": "2023-08-12T11:26:28.679377Z",
     "start_time": "2023-08-12T11:26:28.440309Z"
    },
    "id": "midsvnlDlr5G"
   },
   "outputs": [
    {
     "name": "stdout",
     "output_type": "stream",
     "text": [
      "+--------------+--------------------+-----------------+\n",
      "|location_state|           job_title|avg(annual_total)|\n",
      "+--------------+--------------------+-----------------+\n",
      "|            IL|   software engineer|         102500.0|\n",
      "|          null|senior fullstack ...|            240.0|\n",
      "|            CA|       web developer|         125010.0|\n",
      "|            MN|senior front-end/...|             null|\n",
      "|          null|senior manager, d...|         145020.0|\n",
      "+--------------+--------------------+-----------------+\n",
      "only showing top 5 rows\n",
      "\n"
     ]
    }
   ],
   "source": [
    "salaries_df.withColumn(\"annual_total\", f.col(\"annual_base_pay\") + f.col(\"annual_bonus\")).groupby('location_state', 'job_title').avg('annual_total').show(5)"
   ]
  },
  {
   "cell_type": "markdown",
   "metadata": {
    "id": "e8HEBHbGRIN_"
   },
   "source": [
    "## Zadanie 6:"
   ]
  },
  {
   "cell_type": "markdown",
   "metadata": {
    "id": "G33nZ5Tmmbsm"
   },
   "source": [
    "Policz minimalny i maksymalny `signing_bonus` dla kazdego pracodawcy"
   ]
  },
  {
   "cell_type": "code",
   "execution_count": 201,
   "metadata": {
    "ExecuteTime": {
     "end_time": "2023-08-12T11:41:22.073675Z",
     "start_time": "2023-08-12T11:41:21.906847Z"
    },
    "id": "AlxiczuVmjz9"
   },
   "outputs": [
    {
     "name": "stdout",
     "output_type": "stream",
     "text": [
      "+--------------------+---------+------------------+\n",
      "|       employer_name|min_bonus|max(signing_bonus)|\n",
      "+--------------------+---------+------------------+\n",
      "|umbc imaging rese...|      0.0|               0.0|\n",
      "|               kapow|      0.0|               0.0|\n",
      "|  industrial company|      0.0|               0.0|\n",
      "|        definiens ag|   2000.0|            2000.0|\n",
      "|                 aig|  20000.0|           20000.0|\n",
      "|                xoom|      0.0|               0.0|\n",
      "|             ad-tech|      0.0|               0.0|\n",
      "|               elisa|      0.0|               0.0|\n",
      "|norwegian tax aut...|      0.0|               0.0|\n",
      "|       jamdeo canada|      0.0|               0.0|\n",
      "|            turnpost|      0.0|               0.0|\n",
      "|            plangrid|      0.0|               0.0|\n",
      "|      cybercom group|      0.0|               0.0|\n",
      "|            concepta|      0.0|               0.0|\n",
      "|             philips|   6000.0|            6000.0|\n",
      "|non-profit resear...|      0.0|               0.0|\n",
      "| booz allen hamilton|      0.0|               0.0|\n",
      "|            pzu s.a.|      0.0|               0.0|\n",
      "|       futureadvisor|      0.0|               0.0|\n",
      "|              cerner|      0.0|               0.0|\n",
      "+--------------------+---------+------------------+\n",
      "only showing top 20 rows\n",
      "\n"
     ]
    }
   ],
   "source": [
    "salaries_df.dropna(how='any', subset='signing_bonus') \\\n",
    "    .groupby('employer_name') \\\n",
    "    .agg(f.min('signing_bonus').alias('min_bonus'), f.max('signing_bonus')) \\\n",
    "    .show(20)"
   ]
  },
  {
   "cell_type": "markdown",
   "metadata": {
    "id": "yojLvCNmRIN_"
   },
   "source": [
    "# Joining and merging"
   ]
  },
  {
   "cell_type": "code",
   "execution_count": 206,
   "metadata": {
    "ExecuteTime": {
     "end_time": "2023-08-12T11:44:06.836888Z",
     "start_time": "2023-08-12T11:44:06.578511Z"
    },
    "id": "jP8PD4t6RIOA"
   },
   "outputs": [
    {
     "name": "stdout",
     "output_type": "stream",
     "text": [
      "+---+---+-------+\n",
      "|  a|  b|      c|\n",
      "+---+---+-------+\n",
      "|  1|2.0|string1|\n",
      "|  2|3.0|string2|\n",
      "|  4|5.0|string3|\n",
      "+---+---+-------+\n",
      "\n",
      "+---+------+\n",
      "|  a|     z|\n",
      "+---+------+\n",
      "|  1|last_1|\n",
      "|  2|last_2|\n",
      "|  6|last_3|\n",
      "+---+------+\n",
      "\n"
     ]
    }
   ],
   "source": [
    "df_1 = spark.createDataFrame([\n",
    "    Row(a=1, b=2., c='string1'),\n",
    "    Row(a=2, b=3., c='string2'),\n",
    "    Row(a=4, b=5., c='string3')\n",
    "])\n",
    "\n",
    "df_2 = spark.createDataFrame([\n",
    "    Row(a=1, z='last_1'),\n",
    "    Row(a=2, z='last_2'),\n",
    "    Row(a=6, z='last_3')\n",
    "])\n",
    "\n",
    "df_1.show()\n",
    "df_2.show()"
   ]
  },
  {
   "cell_type": "code",
   "execution_count": 203,
   "metadata": {
    "ExecuteTime": {
     "end_time": "2023-08-12T11:42:49.540800Z",
     "start_time": "2023-08-12T11:42:49.103453Z"
    },
    "id": "ZE2CaG1_RIOB"
   },
   "outputs": [
    {
     "name": "stdout",
     "output_type": "stream",
     "text": [
      "+---+---+-------+------+\n",
      "|  a|  b|      c|     z|\n",
      "+---+---+-------+------+\n",
      "|  1|2.0|string1|last_1|\n",
      "|  2|3.0|string2|last_2|\n",
      "+---+---+-------+------+\n",
      "\n"
     ]
    }
   ],
   "source": [
    "df_1.join(df_2, on='a', how='inner').show()  # bardzo dużo możliwości łączenia!"
   ]
  },
  {
   "cell_type": "code",
   "execution_count": 208,
   "metadata": {
    "ExecuteTime": {
     "end_time": "2023-08-12T11:44:49.585472Z",
     "start_time": "2023-08-12T11:44:49.252302Z"
    },
    "id": "s6-SVNVpRIOC"
   },
   "outputs": [
    {
     "name": "stdout",
     "output_type": "stream",
     "text": [
      "+---+-------+\n",
      "|  a|      z|\n",
      "+---+-------+\n",
      "|  1| last_1|\n",
      "|200|first_2|\n",
      "|300|first_3|\n",
      "+---+-------+\n",
      "\n",
      "+---+-------+\n",
      "|  a|      z|\n",
      "+---+-------+\n",
      "|  1| last_1|\n",
      "|  2| last_2|\n",
      "|  6| last_3|\n",
      "|  1| last_1|\n",
      "|200|first_2|\n",
      "|300|first_3|\n",
      "+---+-------+\n",
      "\n"
     ]
    }
   ],
   "source": [
    "df_3 = spark.createDataFrame([\n",
    "    Row(a=1, z='last_1'),\n",
    "    Row(a=200, z='first_2'),\n",
    "    Row(a=300, z='first_3')\n",
    "])\n",
    "\n",
    "df_3.show()\n",
    "df_2.union(df_3).show()  # łączenie w kierunku wierszy"
   ]
  },
  {
   "cell_type": "code",
   "execution_count": 209,
   "metadata": {
    "ExecuteTime": {
     "end_time": "2023-08-12T11:45:06.068735Z",
     "start_time": "2023-08-12T11:45:05.665228Z"
    },
    "id": "MyCcBQyaRIOD"
   },
   "outputs": [
    {
     "name": "stdout",
     "output_type": "stream",
     "text": [
      "+---+------+\n",
      "|  a|     z|\n",
      "+---+------+\n",
      "|  6|last_3|\n",
      "|  2|last_2|\n",
      "+---+------+\n",
      "\n"
     ]
    }
   ],
   "source": [
    "df_2.subtract(df_3).show()  # odejmowanie w kierunku wierszy (odwrotność 'union')"
   ]
  },
  {
   "cell_type": "markdown",
   "metadata": {
    "id": "yUQbzAn3-B4V"
   },
   "source": [
    "# UDFs (User-Defined Functions)"
   ]
  },
  {
   "cell_type": "code",
   "execution_count": 215,
   "metadata": {
    "ExecuteTime": {
     "end_time": "2023-08-12T11:53:56.465662Z",
     "start_time": "2023-08-12T11:53:55.620647Z"
    },
    "id": "u1-iF8gfRIOI"
   },
   "outputs": [
    {
     "name": "stderr",
     "output_type": "stream",
     "text": [
      "\r",
      "[Stage 361:>                                                        (0 + 1) / 1]\r"
     ]
    },
    {
     "name": "stdout",
     "output_type": "stream",
     "text": [
      "+---+------+\n",
      "| v1|power3|\n",
      "+---+------+\n",
      "|  1|     1|\n",
      "|  2|     8|\n",
      "|  3|    27|\n",
      "|  4|    64|\n",
      "|  5|   125|\n",
      "|  6|   216|\n",
      "|  7|   343|\n",
      "|  8|   512|\n",
      "+---+------+\n",
      "\n"
     ]
    },
    {
     "name": "stderr",
     "output_type": "stream",
     "text": [
      "\r",
      "                                                                                \r"
     ]
    }
   ],
   "source": [
    "from pyspark.sql.types import IntegerType  # Java jest językiem statycznie typowanym, należy podać typ zwracanego argumentu\n",
    "import pyspark.sql.functions as f\n",
    "\n",
    "def power3(value):\n",
    "    return(pow(value, 3))\n",
    "\n",
    "udfPower3 = f.udf(power3, IntegerType())  # returnType\n",
    "df.select(\"v1\", udfPower3(f.col('v1')).alias(\"power3\")).show()"
   ]
  },
  {
   "cell_type": "code",
   "execution_count": 216,
   "metadata": {
    "ExecuteTime": {
     "end_time": "2023-08-12T11:55:04.469576Z",
     "start_time": "2023-08-12T11:55:03.664268Z"
    },
    "id": "Rn8FpWZA9xrI"
   },
   "outputs": [
    {
     "name": "stdout",
     "output_type": "stream",
     "text": [
      "+---+----+\n",
      "| v1|plus|\n",
      "+---+----+\n",
      "|  1|   2|\n",
      "|  2|   3|\n",
      "|  3|   4|\n",
      "|  4|   5|\n",
      "|  5|   6|\n",
      "|  6|   7|\n",
      "|  7|   8|\n",
      "|  8|   9|\n",
      "+---+----+\n",
      "\n"
     ]
    },
    {
     "name": "stderr",
     "output_type": "stream",
     "text": [
      "\r",
      "[Stage 362:>                                                        (0 + 1) / 1]\r",
      "\r",
      "                                                                                \r"
     ]
    }
   ],
   "source": [
    "# inny sposób: DEKORATORY\n",
    "\n",
    "import pandas\n",
    "from pyspark.sql.functions import pandas_udf\n",
    "\n",
    "@pandas_udf(IntegerType())\n",
    "def pandas_plus_one(series: pd.Series) -> pd.Series:\n",
    "    return series + 1\n",
    "\n",
    "df.select(df.v1, pandas_plus_one(df.v1).name('plus')).show()"
   ]
  },
  {
   "cell_type": "markdown",
   "metadata": {
    "id": "S2r7i5zJ-7FG"
   },
   "source": [
    "# Spark SQL"
   ]
  },
  {
   "cell_type": "code",
   "execution_count": 220,
   "metadata": {
    "ExecuteTime": {
     "end_time": "2023-08-12T12:00:33.901453Z",
     "start_time": "2023-08-12T12:00:33.772116Z"
    }
   },
   "outputs": [
    {
     "name": "stdout",
     "output_type": "stream",
     "text": [
      "+-----+------+---+---+\n",
      "|color| fruit| v1| v2|\n",
      "+-----+------+---+---+\n",
      "|  red|banana|  1| 10|\n",
      "| blue|banana|  2| 20|\n",
      "|  red|carrot|  3| 30|\n",
      "| blue| grape|  4| 40|\n",
      "|  red|carrot|  5| 50|\n",
      "|black|carrot|  6| 60|\n",
      "|  red|banana|  7| 70|\n",
      "|  red| grape|  8| 80|\n",
      "+-----+------+---+---+\n",
      "\n"
     ]
    }
   ],
   "source": [
    "df.show()"
   ]
  },
  {
   "cell_type": "code",
   "execution_count": 218,
   "metadata": {
    "ExecuteTime": {
     "end_time": "2023-08-12T12:00:03.433367Z",
     "start_time": "2023-08-12T12:00:03.143843Z"
    },
    "id": "fer-EiNt-5kn"
   },
   "outputs": [
    {
     "name": "stdout",
     "output_type": "stream",
     "text": [
      "+--------+\n",
      "|count(1)|\n",
      "+--------+\n",
      "|       8|\n",
      "+--------+\n",
      "\n"
     ]
    }
   ],
   "source": [
    "df.createOrReplaceTempView(\"my_table\")  # UWAGA: wymagany jest zarejestrowany widok tabeli\n",
    "spark.sql(\"SELECT count(*) from my_table\").show()  # składnia SQL"
   ]
  },
  {
   "cell_type": "code",
   "execution_count": 221,
   "metadata": {
    "ExecuteTime": {
     "end_time": "2023-08-12T12:01:59.148245Z",
     "start_time": "2023-08-12T12:01:58.504631Z"
    },
    "id": "S-mUmUAQ_BFm"
   },
   "outputs": [
    {
     "name": "stdout",
     "output_type": "stream",
     "text": [
      "+-----------+\n",
      "|add_one(v1)|\n",
      "+-----------+\n",
      "|          2|\n",
      "|          3|\n",
      "|          4|\n",
      "|          5|\n",
      "|          6|\n",
      "|          7|\n",
      "|          8|\n",
      "|          9|\n",
      "+-----------+\n",
      "\n"
     ]
    },
    {
     "name": "stderr",
     "output_type": "stream",
     "text": [
      "\r",
      "[Stage 369:>                                                        (0 + 1) / 1]\r",
      "\r",
      "                                                                                \r"
     ]
    }
   ],
   "source": [
    "@pandas_udf(\"integer\")  # alias dla 'IntegerType()''\n",
    "def add_one(s: pd.Series) -> pd.Series:\n",
    "    return s + 1\n",
    "\n",
    "spark.udf.register(\"add_one\", add_one)\n",
    "spark.sql(\"SELECT add_one(v1) FROM my_table\").show()"
   ]
  },
  {
   "cell_type": "code",
   "execution_count": 222,
   "metadata": {
    "ExecuteTime": {
     "end_time": "2023-08-12T12:02:02.518342Z",
     "start_time": "2023-08-12T12:02:02.074445Z"
    },
    "id": "jlExuOad_BPK"
   },
   "outputs": [
    {
     "name": "stdout",
     "output_type": "stream",
     "text": [
      "+-----------+\n",
      "|add_one(v1)|\n",
      "+-----------+\n",
      "|          2|\n",
      "|          3|\n",
      "|          4|\n",
      "|          5|\n",
      "|          6|\n",
      "|          7|\n",
      "|          8|\n",
      "|          9|\n",
      "+-----------+\n",
      "\n",
      "+--------------+\n",
      "|(count(1) > 0)|\n",
      "+--------------+\n",
      "|          true|\n",
      "+--------------+\n",
      "\n",
      "+--------+-------+\n",
      "|(v1 * 2)|abs(v2)|\n",
      "+--------+-------+\n",
      "|       2|     10|\n",
      "|       4|     20|\n",
      "|       6|     30|\n",
      "|       8|     40|\n",
      "|      10|     50|\n",
      "|      12|     60|\n",
      "|      14|     70|\n",
      "|      16|     80|\n",
      "+--------+-------+\n",
      "\n"
     ]
    }
   ],
   "source": [
    "from pyspark.sql.functions import expr\n",
    "\n",
    "df.selectExpr('add_one(v1)').show()\n",
    "df.select(expr('count(*)') > 0).show()\n",
    "df.selectExpr(\"v1 * 2\", \"abs(v2)\").show()"
   ]
  },
  {
   "cell_type": "markdown",
   "metadata": {
    "id": "lgvWd6RFHHQw"
   },
   "source": [
    "# Ćwiczenia"
   ]
  },
  {
   "cell_type": "code",
   "execution_count": 210,
   "metadata": {
    "ExecuteTime": {
     "end_time": "2023-08-12T11:47:29.359954Z",
     "start_time": "2023-08-12T11:47:29.355533Z"
    },
    "id": "PWQuVrqVHFgG"
   },
   "outputs": [],
   "source": [
    "from pyspark.sql import SparkSession\n",
    "from pyspark.sql import functions as f"
   ]
  },
  {
   "cell_type": "code",
   "execution_count": 267,
   "metadata": {
    "ExecuteTime": {
     "end_time": "2023-08-12T12:39:19.043160Z",
     "start_time": "2023-08-12T12:39:15.848978Z"
    },
    "id": "BkZfWT6iHFc9"
   },
   "outputs": [
    {
     "name": "stderr",
     "output_type": "stream",
     "text": [
      "\r",
      "[Stage 547:>                                                        (0 + 1) / 1]\r"
     ]
    },
    {
     "name": "stdout",
     "output_type": "stream",
     "text": [
      "root\n",
      " |-- duration_sec: integer (nullable = true)\n",
      " |-- start_time: timestamp (nullable = true)\n",
      " |-- end_time: timestamp (nullable = true)\n",
      " |-- start_station_id: integer (nullable = true)\n",
      " |-- start_station_name: string (nullable = true)\n",
      " |-- start_station_latitude: double (nullable = true)\n",
      " |-- start_station_longitude: double (nullable = true)\n",
      " |-- end_station_id: integer (nullable = true)\n",
      " |-- end_station_name: string (nullable = true)\n",
      " |-- end_station_latitude: double (nullable = true)\n",
      " |-- end_station_longitude: double (nullable = true)\n",
      " |-- bike_id: integer (nullable = true)\n",
      " |-- user_type: string (nullable = true)\n",
      " |-- member_birth_year: integer (nullable = true)\n",
      " |-- member_gender: string (nullable = true)\n",
      "\n"
     ]
    },
    {
     "name": "stderr",
     "output_type": "stream",
     "text": [
      "\r",
      "                                                                                \r"
     ]
    }
   ],
   "source": [
    "spark = SparkSession.builder.appName('my_app').master(\"local[*]\").getOrCreate()\n",
    "\n",
    "goBike = spark.read.csv(\"./2017-fordgobike-tripdata.csv\", header=True, inferSchema=True)\n",
    "goBike.printSchema()"
   ]
  },
  {
   "cell_type": "code",
   "execution_count": 231,
   "metadata": {
    "ExecuteTime": {
     "end_time": "2023-08-12T12:18:42.606673Z",
     "start_time": "2023-08-12T12:18:42.526742Z"
    },
    "id": "CG6LN1XjHFSx"
   },
   "outputs": [
    {
     "name": "stdout",
     "output_type": "stream",
     "text": [
      "-RECORD 0---------------------------------------\n",
      " duration_sec            | 80110                \n",
      " start_time              | 2017-12-31 16:57:... \n",
      " end_time                | 2018-01-01 15:12:... \n",
      " start_station_id        | 74                   \n",
      " start_station_name      | Laguna St at Haye... \n",
      " start_station_latitude  | 37.776434819204745   \n",
      " start_station_longitude | -122.42624402046204  \n",
      " end_station_id          | 43                   \n",
      " end_station_name        | San Francisco Pub... \n",
      " end_station_latitude    | 37.7787677           \n",
      " end_station_longitude   | -122.4159292         \n",
      " bike_id                 | 96                   \n",
      " user_type               | Customer             \n",
      " member_birth_year       | 1987                 \n",
      " member_gender           | Male                 \n",
      "-RECORD 1---------------------------------------\n",
      " duration_sec            | 78800                \n",
      " start_time              | 2017-12-31 15:56:... \n",
      " end_time                | 2018-01-01 13:49:... \n",
      " start_station_id        | 284                  \n",
      " start_station_name      | Yerba Buena Cente... \n",
      " start_station_latitude  | 37.78487208436062    \n",
      " start_station_longitude | -122.40087568759917  \n",
      " end_station_id          | 96                   \n",
      " end_station_name        | Dolores St at 15t... \n",
      " end_station_latitude    | 37.7662102           \n",
      " end_station_longitude   | -122.4266136         \n",
      " bike_id                 | 88                   \n",
      " user_type               | Customer             \n",
      " member_birth_year       | 1965                 \n",
      " member_gender           | Female               \n",
      "-RECORD 2---------------------------------------\n",
      " duration_sec            | 45768                \n",
      " start_time              | 2017-12-31 22:45:... \n",
      " end_time                | 2018-01-01 11:28:... \n",
      " start_station_id        | 245                  \n",
      " start_station_name      | Downtown Berkeley... \n",
      " start_station_latitude  | 37.8703477           \n",
      " start_station_longitude | -122.2677637         \n",
      " end_station_id          | 245                  \n",
      " end_station_name        | Downtown Berkeley... \n",
      " end_station_latitude    | 37.8703477           \n",
      " end_station_longitude   | -122.2677637         \n",
      " bike_id                 | 1094                 \n",
      " user_type               | Customer             \n",
      " member_birth_year       | null                 \n",
      " member_gender           | null                 \n",
      "only showing top 3 rows\n",
      "\n"
     ]
    }
   ],
   "source": [
    "goBike.show(3, vertical=True)"
   ]
  },
  {
   "cell_type": "markdown",
   "metadata": {},
   "source": [
    "**Zapoznaj się z danymi:**"
   ]
  },
  {
   "cell_type": "markdown",
   "metadata": {
    "id": "Ydn8bDCWHvaR"
   },
   "source": [
    "> 1. Pozbądź się wierszy zawierających NULLe"
   ]
  },
  {
   "cell_type": "code",
   "execution_count": 232,
   "metadata": {
    "ExecuteTime": {
     "end_time": "2023-08-12T12:19:13.688924Z",
     "start_time": "2023-08-12T12:18:48.314939Z"
    }
   },
   "outputs": [
    {
     "name": "stderr",
     "output_type": "stream",
     "text": [
      "                                                                                \r"
     ]
    },
    {
     "name": "stdout",
     "output_type": "stream",
     "text": [
      "duration_sec: 0\n"
     ]
    },
    {
     "name": "stderr",
     "output_type": "stream",
     "text": [
      "                                                                                \r"
     ]
    },
    {
     "name": "stdout",
     "output_type": "stream",
     "text": [
      "start_time: 0\n"
     ]
    },
    {
     "name": "stderr",
     "output_type": "stream",
     "text": [
      "                                                                                \r"
     ]
    },
    {
     "name": "stdout",
     "output_type": "stream",
     "text": [
      "end_time: 0\n"
     ]
    },
    {
     "name": "stderr",
     "output_type": "stream",
     "text": [
      "                                                                                \r"
     ]
    },
    {
     "name": "stdout",
     "output_type": "stream",
     "text": [
      "start_station_id: 0\n"
     ]
    },
    {
     "name": "stderr",
     "output_type": "stream",
     "text": [
      "                                                                                \r"
     ]
    },
    {
     "name": "stdout",
     "output_type": "stream",
     "text": [
      "start_station_name: 0\n"
     ]
    },
    {
     "name": "stderr",
     "output_type": "stream",
     "text": [
      "                                                                                \r"
     ]
    },
    {
     "name": "stdout",
     "output_type": "stream",
     "text": [
      "start_station_latitude: 0\n"
     ]
    },
    {
     "name": "stderr",
     "output_type": "stream",
     "text": [
      "                                                                                \r"
     ]
    },
    {
     "name": "stdout",
     "output_type": "stream",
     "text": [
      "start_station_longitude: 0\n"
     ]
    },
    {
     "name": "stderr",
     "output_type": "stream",
     "text": [
      "                                                                                \r"
     ]
    },
    {
     "name": "stdout",
     "output_type": "stream",
     "text": [
      "end_station_id: 0\n"
     ]
    },
    {
     "name": "stderr",
     "output_type": "stream",
     "text": [
      "                                                                                \r"
     ]
    },
    {
     "name": "stdout",
     "output_type": "stream",
     "text": [
      "end_station_name: 0\n"
     ]
    },
    {
     "name": "stderr",
     "output_type": "stream",
     "text": [
      "                                                                                \r"
     ]
    },
    {
     "name": "stdout",
     "output_type": "stream",
     "text": [
      "end_station_latitude: 0\n"
     ]
    },
    {
     "name": "stderr",
     "output_type": "stream",
     "text": [
      "                                                                                \r"
     ]
    },
    {
     "name": "stdout",
     "output_type": "stream",
     "text": [
      "end_station_longitude: 0\n"
     ]
    },
    {
     "name": "stderr",
     "output_type": "stream",
     "text": [
      "                                                                                \r"
     ]
    },
    {
     "name": "stdout",
     "output_type": "stream",
     "text": [
      "bike_id: 0\n"
     ]
    },
    {
     "name": "stderr",
     "output_type": "stream",
     "text": [
      "                                                                                \r"
     ]
    },
    {
     "name": "stdout",
     "output_type": "stream",
     "text": [
      "user_type: 0\n"
     ]
    },
    {
     "name": "stderr",
     "output_type": "stream",
     "text": [
      "                                                                                \r"
     ]
    },
    {
     "name": "stdout",
     "output_type": "stream",
     "text": [
      "member_birth_year: 66541\n"
     ]
    },
    {
     "name": "stderr",
     "output_type": "stream",
     "text": [
      "\r",
      "[Stage 471:>                                                        (0 + 1) / 1]\r"
     ]
    },
    {
     "name": "stdout",
     "output_type": "stream",
     "text": [
      "member_gender: 66462\n"
     ]
    },
    {
     "name": "stderr",
     "output_type": "stream",
     "text": [
      "\r",
      "                                                                                \r"
     ]
    }
   ],
   "source": [
    "for column in goBike.columns:\n",
    "    \n",
    "    nan_count = goBike.where(f.col(column).isNull()).count()\n",
    "    print(f'{column}: {nan_count}')"
   ]
  },
  {
   "cell_type": "code",
   "execution_count": 268,
   "metadata": {
    "ExecuteTime": {
     "end_time": "2023-08-12T12:39:28.317091Z",
     "start_time": "2023-08-12T12:39:28.300000Z"
    }
   },
   "outputs": [],
   "source": [
    "goBike = goBike.dropna(how='any')\n",
    "\n",
    "# for column in goBike.columns:\n",
    "    \n",
    "#     nan_count = goBike.where(f.col(column).isNull()).count()\n",
    "#     print(f'{column}: {nan_count}')"
   ]
  },
  {
   "cell_type": "markdown",
   "metadata": {},
   "source": [
    "> 2. Sprawdź rozkład zmiennej \"member_gender\""
   ]
  },
  {
   "cell_type": "code",
   "execution_count": 269,
   "metadata": {
    "ExecuteTime": {
     "end_time": "2023-08-12T12:39:34.412309Z",
     "start_time": "2023-08-12T12:39:31.068759Z"
    }
   },
   "outputs": [
    {
     "name": "stdout",
     "output_type": "stream",
     "text": [
      "root\n",
      " |-- duration_sec: integer (nullable = true)\n",
      " |-- start_time: timestamp (nullable = true)\n",
      " |-- end_time: timestamp (nullable = true)\n",
      " |-- start_station_id: integer (nullable = true)\n",
      " |-- start_station_name: string (nullable = true)\n",
      " |-- start_station_latitude: double (nullable = true)\n",
      " |-- start_station_longitude: double (nullable = true)\n",
      " |-- end_station_id: integer (nullable = true)\n",
      " |-- end_station_name: string (nullable = true)\n",
      " |-- end_station_latitude: double (nullable = true)\n",
      " |-- end_station_longitude: double (nullable = true)\n",
      " |-- bike_id: integer (nullable = true)\n",
      " |-- user_type: string (nullable = true)\n",
      " |-- member_birth_year: integer (nullable = true)\n",
      " |-- member_gender: string (nullable = true)\n",
      "\n"
     ]
    },
    {
     "name": "stderr",
     "output_type": "stream",
     "text": [
      "\r",
      "[Stage 548:>                                                        (0 + 1) / 1]\r"
     ]
    },
    {
     "name": "stdout",
     "output_type": "stream",
     "text": [
      "+-------------+------+\n",
      "|member_gender| count|\n",
      "+-------------+------+\n",
      "|       Female| 98542|\n",
      "|        Other|  6299|\n",
      "|         Male|348318|\n",
      "+-------------+------+\n",
      "\n"
     ]
    },
    {
     "name": "stderr",
     "output_type": "stream",
     "text": [
      "\r",
      "                                                                                \r"
     ]
    }
   ],
   "source": [
    "goBike.printSchema()\n",
    "\n",
    "goBike.groupby('member_gender').count().show()"
   ]
  },
  {
   "cell_type": "markdown",
   "metadata": {},
   "source": [
    "> 3. Oblicz minimalny, maksymalny i średni wiek osób wypożyczających rowery"
   ]
  },
  {
   "cell_type": "code",
   "execution_count": 270,
   "metadata": {
    "ExecuteTime": {
     "end_time": "2023-08-12T12:41:12.330149Z",
     "start_time": "2023-08-12T12:41:12.212033Z"
    }
   },
   "outputs": [
    {
     "name": "stdout",
     "output_type": "stream",
     "text": [
      "+------------+--------------------+--------------------+----------------+--------------------+----------------------+-----------------------+--------------+--------------------+--------------------+---------------------+-------+----------+-----------------+-------------+---+\n",
      "|duration_sec|          start_time|            end_time|start_station_id|  start_station_name|start_station_latitude|start_station_longitude|end_station_id|    end_station_name|end_station_latitude|end_station_longitude|bike_id| user_type|member_birth_year|member_gender|age|\n",
      "+------------+--------------------+--------------------+----------------+--------------------+----------------------+-----------------------+--------------+--------------------+--------------------+---------------------+-------+----------+-----------------+-------------+---+\n",
      "|       80110|2017-12-31 16:57:...|2018-01-01 15:12:...|              74|Laguna St at Haye...|    37.776434819204745|    -122.42624402046204|            43|San Francisco Pub...|          37.7787677|         -122.4159292|     96|  Customer|             1987|         Male| 36|\n",
      "|       78800|2017-12-31 15:56:...|2018-01-01 13:49:...|             284|Yerba Buena Cente...|     37.78487208436062|    -122.40087568759917|            96|Dolores St at 15t...|          37.7662102|         -122.4266136|     88|  Customer|             1965|       Female| 58|\n",
      "|       43603|2017-12-31 14:23:...|2018-01-01 02:29:...|             239|Bancroft Way at T...|            37.8688126|            -122.258764|           247|Fulton St at Banc...|          37.8677892|         -122.2658964|   3167|Subscriber|             1997|       Female| 26|\n",
      "|        4507|2017-12-31 23:49:...|2018-01-01 01:04:...|             259|Addison St at Fou...|             37.866249|           -122.2993708|           259|Addison St at Fou...|           37.866249|         -122.2993708|   3539|  Customer|             1991|       Female| 32|\n",
      "|        2183|2017-12-31 23:52:...|2018-01-01 00:29:...|              67|San Francisco Cal...|            37.7766392|           -122.3955263|            24|Spear St at Folso...|          37.7896767|         -122.3904285|   2311|Subscriber|             1990|         Male| 33|\n",
      "+------------+--------------------+--------------------+----------------+--------------------+----------------------+-----------------------+--------------+--------------------+--------------------+---------------------+-------+----------+-----------------+-------------+---+\n",
      "only showing top 5 rows\n",
      "\n"
     ]
    }
   ],
   "source": [
    "goBike = goBike.withColumn('age', 2023 - f.col('member_birth_year'))\n",
    "goBike.show(5)\n",
    "\n",
    "goBike.agg(f.min('age'), f.max('age'), f.avg('age')).show(5)"
   ]
  },
  {
   "cell_type": "code",
   "execution_count": 272,
   "metadata": {
    "ExecuteTime": {
     "end_time": "2023-08-12T12:43:27.027280Z",
     "start_time": "2023-08-12T12:43:23.887646Z"
    }
   },
   "outputs": [
    {
     "name": "stderr",
     "output_type": "stream",
     "text": [
      "\r",
      "[Stage 555:>                                                        (0 + 1) / 1]\r"
     ]
    },
    {
     "name": "stdout",
     "output_type": "stream",
     "text": [
      "+--------+--------+------------------+\n",
      "|min(age)|max(age)|          avg(age)|\n",
      "+--------+--------+------------------+\n",
      "|      24|     137|42.595212717831934|\n",
      "+--------+--------+------------------+\n",
      "\n"
     ]
    },
    {
     "name": "stderr",
     "output_type": "stream",
     "text": [
      "\r",
      "                                                                                \r"
     ]
    }
   ],
   "source": [
    "# inny sposób:\n",
    "goBike.select((2023 - goBike.member_birth_year).alias('age')).agg(f.min('age'), f.max('age'), f.avg('age')).show()"
   ]
  },
  {
   "cell_type": "markdown",
   "metadata": {},
   "source": [
    "> 4. Oblicz liczbę unikalnych rowerów"
   ]
  },
  {
   "cell_type": "code",
   "execution_count": 308,
   "metadata": {
    "ExecuteTime": {
     "end_time": "2023-08-12T13:32:19.306984Z",
     "start_time": "2023-08-12T13:32:16.092156Z"
    }
   },
   "outputs": [
    {
     "name": "stderr",
     "output_type": "stream",
     "text": [
      "                                                                                \r"
     ]
    },
    {
     "data": {
      "text/plain": [
       "3670"
      ]
     },
     "execution_count": 308,
     "metadata": {},
     "output_type": "execute_result"
    }
   ],
   "source": [
    "# goBike.select('bike_id').count()\n",
    "goBike.select('bike_id').distinct().count()"
   ]
  },
  {
   "cell_type": "markdown",
   "metadata": {},
   "source": [
    "> 5. Oblicz liczbę unikalnych stacji"
   ]
  },
  {
   "cell_type": "code",
   "execution_count": 285,
   "metadata": {
    "ExecuteTime": {
     "end_time": "2023-08-12T13:08:08.093516Z",
     "start_time": "2023-08-12T13:08:01.905331Z"
    }
   },
   "outputs": [
    {
     "name": "stderr",
     "output_type": "stream",
     "text": [
      "                                                                                \r"
     ]
    },
    {
     "data": {
      "text/plain": [
       "272"
      ]
     },
     "execution_count": 285,
     "metadata": {},
     "output_type": "execute_result"
    }
   ],
   "source": [
    "goBike.select(goBike.start_station_id) \\\n",
    "    .union(goBike.select(goBike.end_station_id)) \\\n",
    "    .distinct() \\\n",
    "    .count()"
   ]
  },
  {
   "cell_type": "markdown",
   "metadata": {},
   "source": [
    "> 6. Sprawdź który rower był wypożyczony najdłużej, a który najkrócej w ciągu analizowanego okresu (oraz jak długo)"
   ]
  },
  {
   "cell_type": "code",
   "execution_count": 310,
   "metadata": {
    "ExecuteTime": {
     "end_time": "2023-08-12T13:40:13.946841Z",
     "start_time": "2023-08-12T13:40:10.684179Z"
    }
   },
   "outputs": [
    {
     "name": "stderr",
     "output_type": "stream",
     "text": [
      "\r",
      "[Stage 634:>                                                        (0 + 1) / 1]\r"
     ]
    },
    {
     "name": "stdout",
     "output_type": "stream",
     "text": [
      "+-------+--------------+\n",
      "|bike_id|total_duration|\n",
      "+-------+--------------+\n",
      "|   2178|        377954|\n",
      "+-------+--------------+\n",
      "only showing top 1 row\n",
      "\n"
     ]
    },
    {
     "name": "stderr",
     "output_type": "stream",
     "text": [
      "\r",
      "                                                                                \r"
     ]
    }
   ],
   "source": [
    "goBike.groupby('bike_id') \\\n",
    "    .agg(f.sum(\"duration_sec\").alias(\"total_duration\")) \\\n",
    "    .sort(\"total_duration\", ascending=False) \\\n",
    "    .show(1)"
   ]
  },
  {
   "cell_type": "code",
   "execution_count": 312,
   "metadata": {
    "ExecuteTime": {
     "end_time": "2023-08-12T13:40:36.991641Z",
     "start_time": "2023-08-12T13:40:33.759662Z"
    },
    "scrolled": true
   },
   "outputs": [
    {
     "name": "stderr",
     "output_type": "stream",
     "text": [
      "\r",
      "[Stage 637:>                                                        (0 + 1) / 1]\r"
     ]
    },
    {
     "name": "stdout",
     "output_type": "stream",
     "text": [
      "+-------+--------------+\n",
      "|bike_id|total_duration|\n",
      "+-------+--------------+\n",
      "|   2609|            74|\n",
      "+-------+--------------+\n",
      "only showing top 1 row\n",
      "\n"
     ]
    },
    {
     "name": "stderr",
     "output_type": "stream",
     "text": [
      "\r",
      "                                                                                \r"
     ]
    }
   ],
   "source": [
    "goBike.groupby('bike_id') \\\n",
    "    .agg(f.sum(\"duration_sec\").alias(\"total_duration\")) \\\n",
    "    .orderBy(\"total_duration\") \\  # 'orderBy' działa tu analogicznie do 'sort'\n",
    "    .show(1)  "
   ]
  },
  {
   "cell_type": "markdown",
   "metadata": {},
   "source": [
    "> 7. Oblicz średni czas pojedynczego wypożyczenia"
   ]
  },
  {
   "cell_type": "code",
   "execution_count": 331,
   "metadata": {
    "ExecuteTime": {
     "end_time": "2023-08-12T14:15:51.025119Z",
     "start_time": "2023-08-12T14:15:47.897998Z"
    }
   },
   "outputs": [
    {
     "name": "stderr",
     "output_type": "stream",
     "text": [
      "\r",
      "[Stage 664:>                                                        (0 + 1) / 1]\r"
     ]
    },
    {
     "name": "stdout",
     "output_type": "stream",
     "text": [
      "+---------------------------+\n",
      "|round(avg(duration_sec), 0)|\n",
      "+---------------------------+\n",
      "|                      833.0|\n",
      "+---------------------------+\n",
      "\n"
     ]
    },
    {
     "name": "stderr",
     "output_type": "stream",
     "text": [
      "\r",
      "                                                                                \r"
     ]
    }
   ],
   "source": [
    "# goBike.agg(f.avg('duration_sec')).show()\n",
    "goBike.select(f.round(f.avg('duration_sec'))).show()  # zaokrąglenie do liczby całkowitej"
   ]
  },
  {
   "cell_type": "markdown",
   "metadata": {},
   "source": [
    "> 8. Sprawdź pomiędzy którymi stacjami występował największy ruch (__hint__: `A -> B == B -> A`)"
   ]
  },
  {
   "cell_type": "code",
   "execution_count": 332,
   "metadata": {
    "ExecuteTime": {
     "end_time": "2023-08-12T14:19:24.118529Z",
     "start_time": "2023-08-12T14:19:23.980473Z"
    }
   },
   "outputs": [
    {
     "name": "stdout",
     "output_type": "stream",
     "text": [
      "+----------------+--------------+----------+\n",
      "|start_station_id|end_station_id|     route|\n",
      "+----------------+--------------+----------+\n",
      "|              74|            43|  [43, 74]|\n",
      "|             284|            96| [96, 284]|\n",
      "|             239|           247|[239, 247]|\n",
      "|             259|           259|[259, 259]|\n",
      "|              67|            24|  [24, 67]|\n",
      "|              67|            24|  [24, 67]|\n",
      "|              14|            27|  [14, 27]|\n",
      "|              14|            27|  [14, 27]|\n",
      "|              78|            15|  [15, 78]|\n",
      "|               4|           123|  [4, 123]|\n",
      "|             317|           296|[296, 317]|\n",
      "|             139|            99| [99, 139]|\n",
      "|             323|            14| [14, 323]|\n",
      "|             323|            14| [14, 323]|\n",
      "|             251|           259|[251, 259]|\n",
      "|               7|           230|  [7, 230]|\n",
      "|              96|            86|  [86, 96]|\n",
      "|             278|           314|[278, 314]|\n",
      "|             182|           195|[182, 195]|\n",
      "|              98|            62|  [62, 98]|\n",
      "+----------------+--------------+----------+\n",
      "only showing top 20 rows\n",
      "\n"
     ]
    }
   ],
   "source": [
    "goBike.withColumn(\"route\", f.when(f.col('start_station_id') < f.col('end_station_id'), f.array([f.col('start_station_id'), f.col('end_station_id')])) \\\n",
    "            .otherwise(f.array([f.col('end_station_id'), f.col('start_station_id')]))) \\\n",
    "            .select(\"start_station_id\", \"end_station_id\", \"route\").show()"
   ]
  },
  {
   "cell_type": "code",
   "execution_count": 333,
   "metadata": {
    "ExecuteTime": {
     "end_time": "2023-08-12T14:21:16.087341Z",
     "start_time": "2023-08-12T14:21:12.561870Z"
    }
   },
   "outputs": [
    {
     "name": "stderr",
     "output_type": "stream",
     "text": [
      "\r",
      "[Stage 668:>                                                        (0 + 1) / 1]\r"
     ]
    },
    {
     "name": "stdout",
     "output_type": "stream",
     "text": [
      "+----------+-----+\n",
      "|     route|count|\n",
      "+----------+-----+\n",
      "|   [6, 15]| 3282|\n",
      "|  [15, 81]| 2953|\n",
      "|  [21, 48]| 2939|\n",
      "|   [6, 16]| 2840|\n",
      "|  [15, 50]| 2220|\n",
      "|[182, 196]| 2153|\n",
      "|[182, 195]| 1910|\n",
      "|  [25, 30]| 1811|\n",
      "|  [22, 30]| 1746|\n",
      "|  [58, 67]| 1745|\n",
      "+----------+-----+\n",
      "only showing top 10 rows\n",
      "\n"
     ]
    },
    {
     "name": "stderr",
     "output_type": "stream",
     "text": [
      "\r",
      "                                                                                \r"
     ]
    }
   ],
   "source": [
    "goBike.withColumn(\"route\", f.when(f.col('start_station_id') < f.col('end_station_id'), f.array([f.col('start_station_id'), f.col('end_station_id')])) \\\n",
    "            .otherwise(f.array([f.col('end_station_id'), f.col('start_station_id')]))) \\\n",
    "            .groupby(\"route\") \\\n",
    "            .count() \\\n",
    "            .orderBy('count', ascending=False) \\\n",
    "            .show(10)"
   ]
  },
  {
   "cell_type": "markdown",
   "metadata": {},
   "source": [
    "> 9. Sprawdź, o której godzinie w ciągu dnia wypożyczano najwięcej rowerów"
   ]
  },
  {
   "cell_type": "code",
   "execution_count": 335,
   "metadata": {
    "ExecuteTime": {
     "end_time": "2023-08-12T14:24:43.442928Z",
     "start_time": "2023-08-12T14:24:39.887298Z"
    }
   },
   "outputs": [
    {
     "name": "stderr",
     "output_type": "stream",
     "text": [
      "\r",
      "[Stage 672:>                                                        (0 + 1) / 1]\r"
     ]
    },
    {
     "name": "stdout",
     "output_type": "stream",
     "text": [
      "+----------+-----+\n",
      "|start_hour|count|\n",
      "+----------+-----+\n",
      "|         8|54678|\n",
      "|        17|54620|\n",
      "|         9|42184|\n",
      "|        18|41752|\n",
      "|        16|35478|\n",
      "|         7|25656|\n",
      "|        19|23552|\n",
      "|        15|22491|\n",
      "|        12|21760|\n",
      "|        13|21155|\n",
      "|        10|20999|\n",
      "|        11|19139|\n",
      "|        14|18902|\n",
      "|        20|14628|\n",
      "|        21|10362|\n",
      "|         6| 8520|\n",
      "|        22| 6689|\n",
      "|        23| 4012|\n",
      "|         0| 2105|\n",
      "|         5| 2018|\n",
      "+----------+-----+\n",
      "only showing top 20 rows\n",
      "\n"
     ]
    },
    {
     "name": "stderr",
     "output_type": "stream",
     "text": [
      "\r",
      "                                                                                \r"
     ]
    }
   ],
   "source": [
    "goBike.select(f.hour(goBike.start_time).alias('start_hour')) \\  # f.hour() wydobywa godzinę z obiektu typu 'timestamp'\n",
    "    .groupby('start_hour') \\\n",
    "    .count() \\\n",
    "    .orderBy('count', ascending=False) \\\n",
    "    .show()"
   ]
  },
  {
   "cell_type": "markdown",
   "metadata": {},
   "source": [
    "> 10. Sprawdź *średnią liczbę wypożyczeń* dla poszczególnych dni tygodnia (__hint__: `java.text.SimpleDateFormat`)"
   ]
  },
  {
   "cell_type": "code",
   "execution_count": 338,
   "metadata": {
    "ExecuteTime": {
     "end_time": "2023-08-12T14:29:33.560625Z",
     "start_time": "2023-08-12T14:29:33.454988Z"
    },
    "id": "pZrtr2DyRIOd",
    "scrolled": false
   },
   "outputs": [
    {
     "name": "stdout",
     "output_type": "stream",
     "text": [
      "+-------+----------+\n",
      "|weekday|      date|\n",
      "+-------+----------+\n",
      "|    Sun|31.12.2017|\n",
      "|    Sun|31.12.2017|\n",
      "|    Sun|31.12.2017|\n",
      "|    Sun|31.12.2017|\n",
      "|    Sun|31.12.2017|\n",
      "|    Sun|31.12.2017|\n",
      "|    Sun|31.12.2017|\n",
      "|    Sun|31.12.2017|\n",
      "|    Sun|31.12.2017|\n",
      "|    Sun|31.12.2017|\n",
      "|    Sun|31.12.2017|\n",
      "|    Sun|31.12.2017|\n",
      "|    Sun|31.12.2017|\n",
      "|    Sun|31.12.2017|\n",
      "|    Sun|31.12.2017|\n",
      "|    Sun|31.12.2017|\n",
      "|    Sun|31.12.2017|\n",
      "|    Sun|31.12.2017|\n",
      "|    Sun|31.12.2017|\n",
      "|    Sun|31.12.2017|\n",
      "+-------+----------+\n",
      "only showing top 20 rows\n",
      "\n"
     ]
    }
   ],
   "source": [
    "goBike.select(f.date_format(\"start_time\", \"E\").alias(\"weekday\"),\n",
    "             f.date_format(\"start_time\", \"dd.MM.yyyy\").alias(\"date\")).show()"
   ]
  },
  {
   "cell_type": "code",
   "execution_count": 358,
   "metadata": {
    "ExecuteTime": {
     "end_time": "2023-08-12T15:42:43.140445Z",
     "start_time": "2023-08-12T15:42:35.163087Z"
    }
   },
   "outputs": [
    {
     "name": "stderr",
     "output_type": "stream",
     "text": [
      "\r",
      "[Stage 759:>                                                        (0 + 1) / 1]\r"
     ]
    },
    {
     "name": "stdout",
     "output_type": "stream",
     "text": [
      "+-------+---------+\n",
      "|weekday|avg_bikes|\n",
      "+-------+---------+\n",
      "|    Sun|   1214.0|\n",
      "|    Mon|   2828.0|\n",
      "|    Thu|   2859.0|\n",
      "|    Sat|   1362.0|\n",
      "|    Wed|   2976.0|\n",
      "|    Tue|   3095.0|\n",
      "|    Fri|   2667.0|\n",
      "+-------+---------+\n",
      "\n"
     ]
    },
    {
     "name": "stderr",
     "output_type": "stream",
     "text": [
      "\r",
      "                                                                                \r"
     ]
    }
   ],
   "source": [
    "# goBike.withColumn(\"weekday\", f.date_format(\"start_time\", \"E\")).groupby(\"weekday\").count().show()\n",
    "\n",
    "goBike.select(f.date_format(\"start_time\", \"E\").alias(\"weekday\"), f.date_format(\"start_time\", \"dd.MM.yyyy\").alias(\"date\")) \\\n",
    "    .groupby(\"weekday\", \"date\") \\\n",
    "    .count() \\\n",
    "    .groupby(\"weekday\") \\\n",
    "    .agg(f.round(f.avg(\"count\")).alias(\"avg_bikes\")) \\\n",
    "    .show()"
   ]
  }
 ],
 "metadata": {
  "colab": {
   "provenance": [],
   "toc_visible": true
  },
  "hide_input": false,
  "kernelspec": {
   "display_name": "Python 3 (ipykernel)",
   "language": "python",
   "name": "python3"
  },
  "language_info": {
   "codemirror_mode": {
    "name": "ipython",
    "version": 3
   },
   "file_extension": ".py",
   "mimetype": "text/x-python",
   "name": "python",
   "nbconvert_exporter": "python",
   "pygments_lexer": "ipython3",
   "version": "3.10.6"
  },
  "toc": {
   "base_numbering": 1,
   "nav_menu": {
    "height": "271.4px",
    "width": "228.4px"
   },
   "number_sections": true,
   "sideBar": true,
   "skip_h1_title": false,
   "title_cell": "Table of Contents",
   "title_sidebar": "Contents",
   "toc_cell": false,
   "toc_position": {
    "height": "calc(100% - 180px)",
    "left": "10px",
    "top": "150px",
    "width": "219px"
   },
   "toc_section_display": true,
   "toc_window_display": true
  },
  "varInspector": {
   "cols": {
    "lenName": 16,
    "lenType": 16,
    "lenVar": 40
   },
   "kernels_config": {
    "python": {
     "delete_cmd_postfix": "",
     "delete_cmd_prefix": "del ",
     "library": "var_list.py",
     "varRefreshCmd": "print(var_dic_list())"
    },
    "r": {
     "delete_cmd_postfix": ") ",
     "delete_cmd_prefix": "rm(",
     "library": "var_list.r",
     "varRefreshCmd": "cat(var_dic_list()) "
    }
   },
   "types_to_exclude": [
    "module",
    "function",
    "builtin_function_or_method",
    "instance",
    "_Feature"
   ],
   "window_display": false
  }
 },
 "nbformat": 4,
 "nbformat_minor": 1
}
