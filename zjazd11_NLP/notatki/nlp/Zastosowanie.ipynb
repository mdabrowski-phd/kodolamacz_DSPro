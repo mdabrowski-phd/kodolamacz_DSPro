{
 "cells": [
  {
   "cell_type": "code",
   "execution_count": 3,
   "id": "4b78be4a",
   "metadata": {
    "ExecuteTime": {
     "end_time": "2023-07-29T11:36:29.062797Z",
     "start_time": "2023-07-29T11:36:29.020709Z"
    }
   },
   "outputs": [
    {
     "data": {
      "text/html": [
       "<style>.container { max-width:100% !important; }</style>"
      ],
      "text/plain": [
       "<IPython.core.display.HTML object>"
      ]
     },
     "metadata": {},
     "output_type": "display_data"
    },
    {
     "data": {
      "text/html": [
       "<style>.output_result { max-width:100% !important; }</style>"
      ],
      "text/plain": [
       "<IPython.core.display.HTML object>"
      ]
     },
     "metadata": {},
     "output_type": "display_data"
    },
    {
     "data": {
      "text/html": [
       "<style>.output_area { max-width:100% !important; }</style>"
      ],
      "text/plain": [
       "<IPython.core.display.HTML object>"
      ]
     },
     "metadata": {},
     "output_type": "display_data"
    },
    {
     "data": {
      "text/html": [
       "<style>.input_area { max-width:100% !important; }</style>"
      ],
      "text/plain": [
       "<IPython.core.display.HTML object>"
      ]
     },
     "metadata": {},
     "output_type": "display_data"
    }
   ],
   "source": [
    "from IPython.core.display import display, HTML\n",
    "display(HTML(\"<style>.container { max-width:100% !important; }</style>\"))\n",
    "display(HTML(\"<style>.output_result { max-width:100% !important; }</style>\"))\n",
    "display(HTML(\"<style>.output_area { max-width:100% !important; }</style>\"))\n",
    "display(HTML(\"<style>.input_area { max-width:100% !important; }</style>\"))"
   ]
  },
  {
   "cell_type": "markdown",
   "id": "c445acf8",
   "metadata": {},
   "source": [
    "# Case study: Analiza danych tekstowych (_text mining_)"
   ]
  },
  {
   "cell_type": "markdown",
   "id": "7d19218d",
   "metadata": {},
   "source": [
    "Pobierz z _Wikipedii_ treść 11 artykułów."
   ]
  },
  {
   "cell_type": "code",
   "execution_count": 4,
   "id": "dc420356",
   "metadata": {
    "ExecuteTime": {
     "end_time": "2023-07-29T11:36:43.278486Z",
     "start_time": "2023-07-29T11:36:29.079723Z"
    }
   },
   "outputs": [
    {
     "name": "stdout",
     "output_type": "stream",
     "text": [
      "b'<!DOCTYPE html>\\n<html class=\"client-nojs vector-feature-language-in-header-enabled vector-feature-language-in-main-page-header-disabled vector-feature-sticky-header-disabled vector-feature-page-tools-'\n"
     ]
    }
   ],
   "source": [
    "#!pip install requests\n",
    "\n",
    "# from urllib.request import urlopen\n",
    "import requests\n",
    "\n",
    "wiki_url = \"http://en.wikipedia.org/wiki/\"\n",
    "titles = [\n",
    "    \"Integral\", \n",
    "    \"Riemann_integral\", \n",
    "    \"Riemann-Stieltjes_integral\", \n",
    "    \"Derivative\",\n",
    "    \"Limit_of_a_sequence\", \n",
    "    \"Edvard_Munch\", \n",
    "    \"Vincent_van_Gogh\", \n",
    "    \"Jan_Matejko\",\n",
    "    \"Lev_Tolstoj\", \n",
    "    \"Franz_Kafka\", \n",
    "    \"J._R._R._Tolkien\"\n",
    "]\n",
    "\n",
    "urls = [wiki_url + title for title in titles]\n",
    "\n",
    "# articles = [urlopen(url).read() for url in urls]\n",
    "articles = [requests.get(url).content for url in urls ]\n",
    "\n",
    "# Wyświetlamy pierwsze 200 znaków pierwszego artykułu\n",
    "print(articles[0][:200])"
   ]
  },
  {
   "cell_type": "markdown",
   "id": "adb1c5bb",
   "metadata": {},
   "source": [
    "Wczytaliśmy cały kod strony artykułu (włącznie z informacjami o nagłówkach, paskami nawigacyjnymi, ... ). Nas interesuje wyłącznie sama treść artykułów. W jaki sposób można wyciągnąć z kodu źródłowego strony wybrane informacje?\n",
    "\n",
    "\n",
    "## Scrapping\n",
    "\n",
    "Proces mający na celu wyciągnięcie z nieustrukturyzowanego zbioru danych tekstowych (a kod źródłowy strony internetowej jest takim zbiorem) wybranych informacji nazywany jest **scrapingiem**. W Pythonie najpopularniejszą biblioteką do scrapingu jest `BeautifulSoup`."
   ]
  },
  {
   "cell_type": "markdown",
   "id": "dd3fa327",
   "metadata": {},
   "source": [
    "Żeby \"zeskrapować\" jakiś tekst, najpierw trzeba rozpoznać w nim charakterystyczne elementy. Przeglądając kod źródłowy artykułów zauważymy, że artykuły na wiki są zamknięte w elemencie `<div>` o `id=bodyContent`, a poszczególne akapity artykułu to po prostu paragrafy (`<p>`). \n",
    "\n",
    "Czyli teraz z całej tej pobranej treści chcemy wyciągnąć wyłącznie elementy `<p>` znajdujące się wewnątrz elementu `<div>` o id `\"bodyContent\"`. Do tego właśnie służy biblioteka `BeautifulSoup`."
   ]
  },
  {
   "cell_type": "code",
   "execution_count": 5,
   "id": "397fef9f",
   "metadata": {
    "ExecuteTime": {
     "end_time": "2023-07-29T11:36:48.925874Z",
     "start_time": "2023-07-29T11:36:43.292719Z"
    }
   },
   "outputs": [
    {
     "name": "stdout",
     "output_type": "stream",
     "text": [
      "<p>In <a href=\"/wiki/Mathematics\" title=\"Mathematics\">mathematics</a>, an <b>integral</b> is the continuous analog of a <a href=\"/wiki/Summation\" title=\"Summation\">sum</a>, which is used to calculate <a href=\"/wiki/Area\" title=\"Area\">areas</a>, <a href=\"/wiki/Volume\" title=\"Volume\">volumes</a>, and their generalizations. Integration, the process of computing an integral, is one of the two fundamental operations of <a href=\"/wiki/Calculus\" title=\"Calculus\">calculus</a>,<sup class=\"reference\" id=\"cite_ref-1\"><a href=\"#cite_note-1\">[a]</a></sup> the other being <a href=\"/wiki/Derivative\" title=\"Derivative\">differentiation</a>. Integration started as a method to solve problems in mathematics and <a href=\"/wiki/Physics\" title=\"Physics\">physics</a>, such as finding the area under a curve, or determining displacement from velocity. Today integration is used in a wide variety of scientific fields.\n",
      "</p>\n"
     ]
    }
   ],
   "source": [
    "from bs4 import BeautifulSoup\n",
    "\n",
    "articles_paragraphs = [BeautifulSoup(article).find(\"div\", id=\"bodyContent\").find_all(\"p\") for article in articles]\n",
    "\n",
    "# wyświetlmy pierwszy paragraf pierwszego artykułu\n",
    "print(articles_paragraphs[0][0])"
   ]
  },
  {
   "cell_type": "markdown",
   "id": "5a325c65",
   "metadata": {},
   "source": [
    "Każdy paragraf jest reprezentowany jako obiekty klasy **Tag** biblioteki `BeautifulSoup`."
   ]
  },
  {
   "cell_type": "code",
   "execution_count": 6,
   "id": "43cf671a",
   "metadata": {
    "ExecuteTime": {
     "end_time": "2023-07-29T11:36:48.940638Z",
     "start_time": "2023-07-29T11:36:48.933872Z"
    }
   },
   "outputs": [
    {
     "name": "stdout",
     "output_type": "stream",
     "text": [
      "<class 'bs4.element.Tag'>\n"
     ]
    }
   ],
   "source": [
    "print(type(articles_paragraphs[0][0]))"
   ]
  },
  {
   "cell_type": "markdown",
   "id": "4b4b9643",
   "metadata": {},
   "source": [
    "Zrzutujmy paragrafy na typ string."
   ]
  },
  {
   "cell_type": "code",
   "execution_count": 7,
   "id": "2d4a098f",
   "metadata": {
    "ExecuteTime": {
     "end_time": "2023-07-29T11:36:49.248591Z",
     "start_time": "2023-07-29T11:36:48.945347Z"
    }
   },
   "outputs": [],
   "source": [
    "articles_paragraphs = [[str(paragraph) for paragraph in paragraphs] for paragraphs in articles_paragraphs]"
   ]
  },
  {
   "cell_type": "markdown",
   "id": "4e0d62de",
   "metadata": {},
   "source": [
    "Teraz każdy artykuł mamy porozbijany na zbiór paragrafów. Sklejmy te paragrafy tak, żeby artykuły znów stały się jednym ciągiem znaków."
   ]
  },
  {
   "cell_type": "code",
   "execution_count": 8,
   "id": "2a957b02",
   "metadata": {
    "ExecuteTime": {
     "end_time": "2023-07-29T11:36:49.270923Z",
     "start_time": "2023-07-29T11:36:49.253528Z"
    }
   },
   "outputs": [
    {
     "name": "stdout",
     "output_type": "stream",
     "text": [
      "<p>In <a href=\"/wiki/Mathematics\" title=\"Mathematics\">mathematics</a>, an <b>integral</b> is the continuous analog of a <a href=\"/wiki/Summation\" title=\"Summation\">sum</a>, which is used to calculate \n"
     ]
    }
   ],
   "source": [
    "scraped_articles = [\"\".join(paragraphs) for paragraphs in articles_paragraphs]\n",
    "\n",
    "# wyświetlmy pierwsze 200 znaków pierwszego, tak przetworzonego artykułu\n",
    "print(scraped_articles[0][:200])"
   ]
  },
  {
   "cell_type": "markdown",
   "id": "043b9f71",
   "metadata": {},
   "source": [
    "Pozbądźmy się z tekstu znaczników html, tak żeby w paragrafach został już czysty tekst. Do tego celu użyjemy biblioteki `re` (wyrażenia regularne). Za wzorzec znacznika html przyjmujemy `<.+?>` (znak \"<\" po którym następuje jedne lub więcej znaków, kończący się znakiem \">\" - leniwe)"
   ]
  },
  {
   "cell_type": "code",
   "execution_count": 9,
   "id": "c0790661",
   "metadata": {
    "ExecuteTime": {
     "end_time": "2023-07-29T11:36:49.331256Z",
     "start_time": "2023-07-29T11:36:49.279548Z"
    }
   },
   "outputs": [
    {
     "name": "stdout",
     "output_type": "stream",
     "text": [
      "In mathematics, an integral is the continuous analog of a sum, which is used to calculate areas, volumes, and their generalizations. Integration, the process of computing an integral, is one of the two fundamental operations of calculus,[a] the other being differentiation. Integration started as a method to solve problems in mathematics and physics, such as finding the area under a curve, or determining displacement from velocity. Today integration is used in a wide variety of scientific fields.\n",
      "The integrals enumerated here are called definite integrals, which can be interpreted as the signed area of the region in the plane that is bounded by the graph of a given function between two points in the real line. Conventionally, areas above the horizontal axis of the plane are positive while areas below are negative. Integrals also refer to the concept of an antiderivative, a function whose derivative is the given function; in this case, they are also called indefinite integrals. The fundamental theorem of calculus relates definite integrals with differentiation and provides a method to compute the definite integral of a function when its antiderivative is known; differentiation and integration are inverse operations.\n",
      "Although methods of calculating areas and volumes dated from ancient Greek mathematics, the principles of integration were formulated independently by Isaac Newton and Gottfried Wilhelm Leibniz in the late 17th century, who thought of the area under a curve as an infinite sum of rectangles of infinitesimal width. Bernhard Riemann later gave a rigorous definition of integrals, which is based on a limiting procedure that approximates the area of a curvilinear region by breaking the region into infinitesimally thin vertical slabs. In the early 20th century, Henri Lebesgue generalized Riemann's formulation by introducing what is now referred to as the Lebesgue integral; it is more robust than Riemann's in the sense that a wider class of functions are Lebesgue-integrable.\n",
      "Integrals may be generalized depending on the type of the function as well as the domain over which the integration is performed. For example, a line integral is defined for functions of two or more variables, and the interval of integration is replaced by a curve connecting the two endpoints of the interval. In a surface integral, the curve is replaced by a piece of a surface in three-dimensional space.\n",
      "The first documented systematic technique capable of determining integrals is the method of exhaustion of the ancient Greek astronomer Eudoxus (ca. 370 BC), which sought to find areas and volumes by breaking them up into an infinite number of divisions for which the area or volume was known.[1] This method was further developed and employed by Archimedes in the 3rd century BC and used to calculate the area of a circle, the surface area and volume of a sphere, area of an ellipse, the area under a parabola, the volume of a segment of a paraboloid of revolution, the volume of a segment of a hyperboloid of revolution, and the area of a spiral.[2]\n",
      "A similar method was independently developed in China around the 3rd century AD by Liu Hui, who used it to find the area of the circle. This method was later used in the 5th century by Chinese father-and-son mathematicians Zu Chongzhi and Zu Geng to find the volume of a sphere.[3]\n",
      "In the Middle East, Hasan Ibn al-Haytham, Latinized as Alhazen (c. 965 – c. 1040 AD) derived a formula for the sum of fourth powers.[4] He used the results to carry out what would now be called an integration of this function, where the formulae for the sums of integral squares and fourth powers allowed him to calculate the volume of a paraboloid.[5]\n",
      "The next significant advances in integral calculus did not begin to appear until the 17th century. At this time, the work of Cavalieri with his method of Indivisibles, and work by Fermat, began to lay the foundations of modern calculus,[6] with Cavalieri computing the integrals of xn up to degree n = 9 in Cavalieri's quadrature formula.[7] The case n = −1 required the invention of a function, hyperbolic logarithm, achieved by quadrature of the hyperbola in 1647.\n",
      "Further steps were made in the early 17th century by Barrow and Torricelli, who provided the first hints of a connection between integration and differentiation. Barrow provided the first proof of the fundamental theorem of calculus.[8] Wallis generalized Cavalieri's method, computing integrals of x to a general power, including negative powers and fractional powers.[9]\n",
      "The major advance in integration came in the 17th century with the independent discovery of the fundamental theorem of calculus by Leibniz and Newton.[10] The theorem demonstrates a connection between integration and differentiation. This connection, combined with the comparative ease of differentiation, can be exploited to calculate integrals. In particular, the fundamental theorem of calculus allows one to solve a much broader class of problems. Eq\n"
     ]
    }
   ],
   "source": [
    "import re\n",
    "\n",
    "cleaned_articles = [re.sub(\"<.+?>\", \"\", article) for article in scraped_articles]\n",
    "\n",
    "# wyświetlmy piersze 5000 znaków pierwszego, oczyszczonego w ten sposób artykuł\n",
    "print(cleaned_articles[0][:5000])"
   ]
  },
  {
   "cell_type": "markdown",
   "id": "81629735",
   "metadata": {},
   "source": [
    "## Preprocessing"
   ]
  },
  {
   "cell_type": "markdown",
   "id": "dc16deca",
   "metadata": {},
   "source": [
    "### Zamiana wielkich liter na małe"
   ]
  },
  {
   "cell_type": "code",
   "execution_count": 10,
   "id": "09d8cd7f",
   "metadata": {
    "ExecuteTime": {
     "end_time": "2023-07-29T11:36:49.357064Z",
     "start_time": "2023-07-29T11:36:49.338062Z"
    }
   },
   "outputs": [
    {
     "name": "stdout",
     "output_type": "stream",
     "text": [
      "in mathematics, an integral is the continuous analog of a sum, which is used to calculate areas, volumes, and their generalizations. integration, the process of computing an integral, is one of the tw\n"
     ]
    }
   ],
   "source": [
    "cleaned_articles = [a.lower() for a in cleaned_articles]\n",
    "\n",
    "# wyświetlmy piersze 200 znaków pierwszego artykułu\n",
    "print(cleaned_articles[0][:200])"
   ]
  },
  {
   "cell_type": "markdown",
   "id": "a3831467",
   "metadata": {},
   "source": [
    "### Tokenizacja"
   ]
  },
  {
   "cell_type": "code",
   "execution_count": 11,
   "id": "d3991d9d",
   "metadata": {
    "ExecuteTime": {
     "end_time": "2023-07-29T11:36:54.589542Z",
     "start_time": "2023-07-29T11:36:49.365503Z"
    }
   },
   "outputs": [
    {
     "name": "stdout",
     "output_type": "stream",
     "text": [
      "['in', 'mathematics', ',', 'an', 'integral', 'is', 'the', 'continuous', 'analog', 'of', 'a', 'sum', ',', 'which', 'is', 'used', 'to', 'calculate', 'areas', ',']\n"
     ]
    }
   ],
   "source": [
    "from nltk.tokenize import word_tokenize\n",
    "\n",
    "cleaned_articles = [word_tokenize(article) for article in cleaned_articles]\n",
    "\n",
    "# wyświetlmy pierwsz 20 tokenów pierwszego artykułu\n",
    "print(cleaned_articles[0][:20])"
   ]
  },
  {
   "cell_type": "markdown",
   "id": "3a40aed3",
   "metadata": {},
   "source": [
    "### Usuwanie znaków interpunkcyjnych"
   ]
  },
  {
   "cell_type": "code",
   "execution_count": 12,
   "id": "2ee5cd2a",
   "metadata": {
    "ExecuteTime": {
     "end_time": "2023-07-29T11:36:54.631085Z",
     "start_time": "2023-07-29T11:36:54.598928Z"
    }
   },
   "outputs": [
    {
     "name": "stdout",
     "output_type": "stream",
     "text": [
      "['in', 'mathematics', 'an', 'integral', 'is', 'the', 'continuous', 'analog', 'of', 'a', 'sum', 'which', 'is', 'used', 'to', 'calculate', 'areas', 'volumes', 'and', 'their']\n"
     ]
    }
   ],
   "source": [
    "import string\n",
    "\n",
    "cleaned_articles = [[token for token in article if token not in string.punctuation] for article in cleaned_articles]\n",
    "\n",
    "# wyświetlmy piersze 20 tokenów pierwszego artykułu\n",
    "print(cleaned_articles[0][:20])"
   ]
  },
  {
   "cell_type": "markdown",
   "id": "468fb5fe",
   "metadata": {},
   "source": [
    "### Usuwanie __stopwords__"
   ]
  },
  {
   "cell_type": "code",
   "execution_count": 13,
   "id": "c3ae4426",
   "metadata": {
    "ExecuteTime": {
     "end_time": "2023-07-29T11:36:54.826645Z",
     "start_time": "2023-07-29T11:36:54.637724Z"
    }
   },
   "outputs": [
    {
     "name": "stdout",
     "output_type": "stream",
     "text": [
      "['mathematics', 'integral', 'continuous', 'analog', 'sum', 'used', 'calculate', 'areas', 'volumes', 'generalizations', 'integration', 'process', 'computing', 'integral', 'one', 'two', 'fundamental', 'operations', 'calculus', 'differentiation']\n"
     ]
    }
   ],
   "source": [
    "from nltk.corpus import stopwords\n",
    "\n",
    "stopwords_list = stopwords.words('english')\n",
    "\n",
    "cleaned_articles = [[token for token in article if token not in stopwords_list] for article in cleaned_articles]\n",
    "\n",
    "# wyświetlmy pierwsze 20 tokenów pierwszego artykułu\n",
    "print(cleaned_articles[0][:20])"
   ]
  },
  {
   "cell_type": "markdown",
   "id": "ee0792c6",
   "metadata": {},
   "source": [
    "### Stemming"
   ]
  },
  {
   "cell_type": "code",
   "execution_count": 14,
   "id": "8d51178e",
   "metadata": {
    "ExecuteTime": {
     "end_time": "2023-07-29T11:36:56.328913Z",
     "start_time": "2023-07-29T11:36:54.832030Z"
    }
   },
   "outputs": [
    {
     "name": "stdout",
     "output_type": "stream",
     "text": [
      "['mathemat', 'integr', 'continu', 'analog', 'sum', 'use', 'calcul', 'area', 'volum', 'gener', 'integr', 'process', 'comput', 'integr', 'one', 'two', 'fundament', 'oper', 'calculu', 'differenti']\n"
     ]
    }
   ],
   "source": [
    "from nltk.stem import PorterStemmer  # najpopularniejszy stemmer\n",
    "\n",
    "stemmer = PorterStemmer()\n",
    "cleaned_articles = [[stemmer.stem(token) for token in article] for article in cleaned_articles]\n",
    "\n",
    "# wyświetlmy pierwsze 20 tokenów pierwszego artykułu\n",
    "print(cleaned_articles[0][:20])"
   ]
  },
  {
   "cell_type": "markdown",
   "id": "cc93e2fc",
   "metadata": {},
   "source": [
    "## TF-IDF Embedding (osadzanie/wektoryzacja)"
   ]
  },
  {
   "cell_type": "code",
   "execution_count": 15,
   "id": "c4b6a240",
   "metadata": {
    "ExecuteTime": {
     "end_time": "2023-07-29T11:36:56.811265Z",
     "start_time": "2023-07-29T11:36:56.332784Z"
    }
   },
   "outputs": [],
   "source": [
    "#!pip install gensim\n",
    "\n",
    "from gensim.corpora.dictionary import Dictionary\n",
    "from gensim.models.tfidfmodel import TfidfModel\n",
    "\n",
    "dictionary = Dictionary(cleaned_articles)\n",
    "bow_corpus = [dictionary.doc2bow(article) for article in cleaned_articles]\n",
    "tfidf_model = TfidfModel(bow_corpus)"
   ]
  },
  {
   "cell_type": "code",
   "execution_count": 16,
   "id": "082fba49",
   "metadata": {
    "ExecuteTime": {
     "end_time": "2023-07-29T11:36:56.832750Z",
     "start_time": "2023-07-29T11:36:56.816873Z"
    }
   },
   "outputs": [
    {
     "name": "stdout",
     "output_type": "stream",
     "text": [
      "[(1, 0.009205551443916363), (3, 0.009205551443916363), (4, 0.009205551443916363), (5, 0.009205551443916363), (6, 0.009205551443916363), (7, 0.001097691095942296), (8, 0.009205551443916363), (9, 0.027242083451491473), (10, 0.009205551443916363), (12, 0.006544550314620297), (13, 0.009205551443916363), (15, 0.009205551443916363), (16, 0.0003658970319807654), (17, 0.0007703774352945387), (18, 0.0007703774352945387), (19, 0.001222548056028167), (20, 0.001222548056028167), (21, 0.0017351768259862108), (22, 0.009205551443916363), (23, 0.006544550314620297), (24, 0.009205551443916363), (25, 0.0034703536519724216), (26, 0.02617820125848119), (27, 0.0017351768259862108), (28, 0.009205551443916363), (29, 0.009205551443916363), (30, 0.002326963310309385), (31, 0.009205551443916363), (33, 0.018411102887832726), (34, 0.009205551443916363), (35, 0.001222548056028167), (36, 0.0030268981612768305), (37, 0.0017351768259862108), (38, 0.0017351768259862108), (39, 0.0017351768259862108), (40, 0.0017351768259862108), (41, 0.0017351768259862108), (42, 0.0017351768259862108), (43, 0.0017351768259862108), (44, 0.0034703536519724216), (45, 0.0034703536519724216), (46, 0.009205551443916363), (48, 0.0017351768259862108), (49, 0.0017351768259862108), (50, 0.0017351768259862108), (51, 0.0017351768259862108), (52, 0.0017351768259862108), (53, 0.0017351768259862108), (54, 0.009205551443916363), (55, 0.0017351768259862108), (56, 0.0034703536519724216), (57, 0.018411102887832726), (59, 0.0017351768259862108), (60, 0.0017351768259862108), (61, 0.0030268981612768305), (62, 0.0030268981612768305), (63, 0.003883549185324232), (64, 0.0030268981612768305), (65, 0.0030268981612768305), (66, 0.002326963310309385), (67, 0.0017351768259862108), (68, 0.0017351768259862108), (69, 0.0003658970319807654), (70, 0.0017351768259862108), (71, 0.0017351768259862108), (72, 0.0017351768259862108), (73, 0.0017351768259862108), (74, 0.002326963310309385), (75, 0.0030268981612768305), (76, 0.002326963310309385), (77, 0.002326963310309385), (78, 0.0030268981612768305), (79, 0.002326963310309385), (80, 0.009205551443916363), (81, 0.0003658970319807654), (82, 0.002326963310309385), (83, 0.009205551443916363), (86, 0.009205551443916363), (87, 0.0007317940639615308), (88, 0.009205551443916363), (89, 0.009205551443916363), (90, 0.009205551443916363), (91, 0.009205551443916363), (92, 0.009205551443916363), (93, 0.006053796322553661), (94, 0.009205551443916363), (95, 0.02617820125848119), (96, 0.0030268981612768305), (97, 0.009205551443916363), (98, 0.027616654331749087), (99, 0.006544550314620297), (100, 0.003883549185324232), (101, 0.009205551443916363), (102, 0.009205551443916363), (104, 0.00465392662061877), (105, 0.0017351768259862108), (106, 0.006544550314620297), (107, 0.0030268981612768305), (108, 0.00465392662061877), (109, 0.01963365094386089)]\n"
     ]
    }
   ],
   "source": [
    "# stworzenie całego korpusu w modelu TF-IDF\n",
    "tfidf_corpus = tfidf_model[bow_corpus]\n",
    "\n",
    "# Wyświetlmy pierwsze 100 tokenów pierwszego artykułu\n",
    "print(tfidf_corpus[0][:100])"
   ]
  },
  {
   "cell_type": "markdown",
   "id": "0d02efd7",
   "metadata": {},
   "source": [
    "Wyświetlmy pierwsze 10 najczęściej występujących tokenów z pierwszego artykułu"
   ]
  },
  {
   "cell_type": "code",
   "execution_count": 17,
   "id": "d85eff82",
   "metadata": {
    "ExecuteTime": {
     "end_time": "2023-07-29T11:36:56.869058Z",
     "start_time": "2023-07-29T11:36:56.840704Z"
    }
   },
   "outputs": [
    {
     "data": {
      "text/plain": [
       "[(501, 0.7294824568677163),\n",
       " (417, 0.2652738173752699),\n",
       " (375, 0.1786432625249147),\n",
       " (737, 0.14465096874855807),\n",
       " (509, 0.13980777067167235),\n",
       " (292, 0.1396630043089526),\n",
       " (141, 0.1288777202148291),\n",
       " (161, 0.12712972277362689),\n",
       " (237, 0.12469911099013627),\n",
       " (831, 0.10474725323171445)]"
      ]
     },
     "execution_count": 17,
     "metadata": {},
     "output_type": "execute_result"
    }
   ],
   "source": [
    "first_article = sorted(tfidf_model[bow_corpus[0]], key=lambda x: x[1], reverse=True)[:10]\n",
    "first_article"
   ]
  },
  {
   "cell_type": "markdown",
   "id": "6404ab6f",
   "metadata": {},
   "source": [
    "Co to za słowa ?"
   ]
  },
  {
   "cell_type": "code",
   "execution_count": 18,
   "id": "0fb8c74c",
   "metadata": {
    "ExecuteTime": {
     "end_time": "2023-07-29T11:36:56.899771Z",
     "start_time": "2023-07-29T11:36:56.881248Z"
    }
   },
   "outputs": [
    {
     "data": {
      "text/plain": [
       "['integr',\n",
       " 'function',\n",
       " 'f',\n",
       " 'riemann',\n",
       " 'interv',\n",
       " 'differenti',\n",
       " 'antideriv',\n",
       " 'b',\n",
       " 'comput',\n",
       " 'surfac']"
      ]
     },
     "execution_count": 18,
     "metadata": {},
     "output_type": "execute_result"
    }
   ],
   "source": [
    "[dictionary[token[0]] for token in first_article]"
   ]
  },
  {
   "cell_type": "markdown",
   "id": "cefcf43a",
   "metadata": {},
   "source": [
    "## Analiza semantyczna"
   ]
  },
  {
   "cell_type": "markdown",
   "id": "cb5a1db7",
   "metadata": {},
   "source": [
    "Jednym z kolejnych etapów może być _analiza semantyczna_ (czyli znaczeniowa) przetwarzanych treści. Częstym zadaniem, które w tym miejscu pojawiaja się jest dopasowywanie tytułów (kategorii) do treści. Jednym z algorytmów odnoszących świetne wyniki w tej dziedzinie jest algorytm **LDA** (*ang. Latent Dirichlet allocation*), który do znalezienia najlepiej pasujących tytułów wykorzystuje analizę **PCA** podanego mu rozkładu **TF-IDF** lub **BoW**. Biblioteka `Gensim` posiada implementację tego algorytmu. Wystarczy przekazać do niej **słownik** oraz wynik zwrócony przez model **TF-IDF** lub **BoW**."
   ]
  },
  {
   "cell_type": "code",
   "execution_count": 19,
   "id": "a8f3db8e",
   "metadata": {
    "ExecuteTime": {
     "end_time": "2023-07-29T11:37:02.215839Z",
     "start_time": "2023-07-29T11:36:56.907571Z"
    }
   },
   "outputs": [
    {
     "name": "stderr",
     "output_type": "stream",
     "text": [
      "/home/mdabrowski-phd/.local/lib/python3.10/site-packages/gensim/models/ldamodel.py:850: RuntimeWarning: overflow encountered in exp2\n",
      "  perwordbound, np.exp2(-perwordbound), len(chunk), corpus_words\n"
     ]
    },
    {
     "name": "stdout",
     "output_type": "stream",
     "text": [
      "LdaModel<num_terms=7218, num_topics=30, decay=0.5, chunksize=100>\n"
     ]
    }
   ],
   "source": [
    "from gensim.models.ldamodel import LdaModel\n",
    "\n",
    "lda_model = LdaModel(\n",
    "    corpus=tfidf_corpus,\n",
    "    id2word=dictionary,\n",
    "    num_topics=30,\n",
    "    random_state=100,\n",
    "    update_every=1,\n",
    "    chunksize=100,\n",
    "    passes=10,\n",
    "    alpha=\"auto\"\n",
    ")\n",
    "\n",
    "print(lda_model)"
   ]
  },
  {
   "cell_type": "markdown",
   "id": "52a32ac4",
   "metadata": {},
   "source": [
    "W modelu **LDA** przyjęliśmy `num_topics=30` co oznacza, że model będzie szukał 30 najlepszych tytułów dla całego korpusu. Tytuł będzie zbudowanych z najczęściej występujących w tokenów. Biblioteka `pyldavis` do wizualizacji wyników zwróconych przez model umożliwia wyświetlenie wyników na wykresie."
   ]
  },
  {
   "cell_type": "code",
   "execution_count": 22,
   "id": "c1d88081",
   "metadata": {
    "ExecuteTime": {
     "end_time": "2023-07-29T11:38:32.991430Z",
     "start_time": "2023-07-29T11:38:32.986703Z"
    }
   },
   "outputs": [],
   "source": [
    "#!pip install pyldavis\n",
    "\n",
    "import pyLDAvis\n",
    "import pyLDAvis.gensim"
   ]
  },
  {
   "cell_type": "code",
   "execution_count": 23,
   "id": "ee9d0cde",
   "metadata": {
    "ExecuteTime": {
     "end_time": "2023-07-29T11:38:41.978247Z",
     "start_time": "2023-07-29T11:38:35.259217Z"
    }
   },
   "outputs": [
    {
     "name": "stderr",
     "output_type": "stream",
     "text": [
      "/home/mdabrowski-phd/.local/lib/python3.10/site-packages/sklearn/manifold/_mds.py:299: FutureWarning: The default value of `normalized_stress` will change to `'auto'` in version 1.4. To suppress this warning, manually set the value of `normalized_stress`.\n",
      "  warnings.warn(\n"
     ]
    },
    {
     "data": {
      "text/html": [
       "\n",
       "<link rel=\"stylesheet\" type=\"text/css\" href=\"https://cdn.jsdelivr.net/gh/bmabey/pyLDAvis@3.4.0/pyLDAvis/js/ldavis.v1.0.0.css\">\n",
       "\n",
       "\n",
       "<div id=\"ldavis_el651397513940778087521586948\" style=\"background-color:white;\"></div>\n",
       "<script type=\"text/javascript\">\n",
       "\n",
       "var ldavis_el651397513940778087521586948_data = {\"mdsDat\": {\"x\": [-0.003195336341396191, 0.0015560501097803276, 0.0035516284829331464, 0.0007305673170336705, 0.001032405161913037, -0.0005398532263157183, -0.0007107283332896709, 0.0021139607678372983, -0.0016142221256183495, -0.000306570383175046, -0.00013202432008081456, -0.00013102561471439763, -0.00013236746903965292, -0.00012955467813730888, -0.00013140145436543876, -0.00012735704176491028, -0.0001287351724572425, -0.00013337559109202104, -0.00013172235227640203, -0.00013112411043369353, -0.00013100786304509022, -0.00013224583061514848, -0.0001326249716493406, -0.00012841423149491583, -0.0001278140084143807, -0.00013168415681650723, -0.00012957756341349115, -0.00013231395929073873, -0.0001315622005716688, -0.00013196884002933824], \"y\": [0.001464576450451803, -0.0040168106606811175, 0.0010872479751611798, 0.0018490631851481754, -0.0006772907566864318, -0.0016148896084809698, 0.0012569333327335658, 0.0004421648472955089, -0.0013637911341694555, -5.7782511705063044e-05, 8.395315111663296e-05, 7.806490600693444e-05, 7.852583398214238e-05, 8.084751707290078e-05, 8.53387983025895e-05, 7.809660934345755e-05, 7.849208236168707e-05, 8.405043545184748e-05, 8.101398808337663e-05, 8.491443780249987e-05, 8.505510747977808e-05, 8.46399938664322e-05, 8.561404434510334e-05, 7.761660767706859e-05, 8.33458852095972e-05, 7.874718013765089e-05, 7.649750157640596e-05, 8.13298806761675e-05, 8.169197775617434e-05, 8.274294268435716e-05], \"topics\": [1, 2, 3, 4, 5, 6, 7, 8, 9, 10, 11, 12, 13, 14, 15, 16, 17, 18, 19, 20, 21, 22, 23, 24, 25, 26, 27, 28, 29, 30], \"cluster\": [1, 1, 1, 1, 1, 1, 1, 1, 1, 1, 1, 1, 1, 1, 1, 1, 1, 1, 1, 1, 1, 1, 1, 1, 1, 1, 1, 1, 1, 1], \"Freq\": [14.592731662567296, 13.478286649948256, 10.91899512693392, 9.271769436364737, 7.523400906030095, 6.817320402322855, 6.555847004460161, 6.2361795252293035, 4.456245713411279, 1.2881200014471537, 0.9430551785642475, 0.9430551785642475, 0.9430551785642475, 0.9430551785642475, 0.9430551785642475, 0.9430551785642475, 0.9430551785642475, 0.9430551785642475, 0.9430551785642475, 0.9430551785642475, 0.9430551785642475, 0.9430551785642475, 0.9430551785642475, 0.9430551785642475, 0.9430551785642475, 0.9430551785642475, 0.9430551785642475, 0.9430551785642475, 0.9430551785642475, 0.9430551785642475]}, \"tinfo\": {\"Term\": [\"integr\", \"tolstoy\", \"kafka\", \"tolkien\", \"munch\", \"riemann\", \"f\", \"n\", \"g\", \"van\", \"matejko\", \"gogh\", \"function\", \"x\", \"krak\\u00f3w\", \"deriv\", \"interv\", \"polish\", \"partit\", \"x_\", \"tolstoy\", \"matejko\", \"krak\\u00f3w\", \"polish\", \"poland\", \"jan\", \"histor\", \"russian\", \"paint\", \"1865\", \"fine\", \"gandhi\", \"jagiellonian\", \"art\", \"soviet\", \"anarchist\", \"yasnaya\", \"1862\", \"nation\", \"war\", \"w\", \"riemann\", \"integr\", \"interv\", \"partit\", \"sum\", \"lebesgu\", \"ti\", \"tag\", \"choos\", \"q\", \"function\", \"darboux\", \"f\", \"\\u03b5\", \"yj\", \"xi\", \"\\u03b4\", \"zero\", \"discontinu\", \"x\\u03b5\", \"0\", \"b\", \"deriv\", \"f\", \"differenti\", \"vector\", \"function\", \"v\", \"variabl\", \"\\u2032\", \"x\", \"rn\", \"quotient\", \"partial\", \"h\", \"notat\", \"linear\", \"tangent\", \"matrix\", \"rm\", \"direct\", \"higher-ord\", \"van\", \"gogh\", \"theo\", \"arl\", \"vincent\", \"paint\", \"gauguin\", \"cypress\", \"amsterdam\", \"colour\", \"1888\", \"1888.\", \"pari\", \"sunflow\", \"yellow\", \"portrait\", \"wheat\", \"breton\", \"gachet\", \"ear\", \"art\", \"museum\", \"tolkien\", \"lord\", \"edith\", \"ring\", \"hobbit\", \"beowulf\", \"fantasi\", \"oxford\", \"john\", \"birmingham\", \"reuel\", \"middle-earth\", \"english\", \"silmarillion\", \"lewi\", \"philolog\", \"colleg\", \"r.\", \"ronald\", \"languag\", \"munch\", \"cm\", \"oslo\", \"\\u00d7\", \"paint\", \"edvard\", \"museum\", \"norwegian\", \"scream\", \"norway\", \"oil\", \"friez\", \"laura\", \"kristiania\", \"color\", \"berlin\", \"canva\", \"1895\", \"sick\", \"nude\", \"self-portrait\", \"art\", \"exhibit\", \"kafka\", \"brod\", \"franz\", \"jewish\", \"stori\", \"insur\", \"felic\", \"czech\", \"literari\", \"der\", \"legal\", \"metamorphosi\", \"trial\", \"jew\", \"bauer\", \"ein\", \"pragu\", \"sentenc\", \"writer\", \"edit\", \"novel\", \"n\", \"x_\", \"converg\", \"sequenc\", \"l\", \"\\\\displaystyl\", \"tend\", \"metric\", \"infin\", \"\\\\textstyl\", \"x\", \"\\\\infti\", \"diverg\", \"\\u221e\", \"0\", \"minu\", \"\\\\varepsilon\", \"n\\\\to\", \"y_\", \"\\u03b5\", \"h\", \"g\", \"riemann\\u2013stieltj\", \"b\", \"p\", \"x\", \"f\", \"integr\", \"fenc\", \"cumul\", \"p\\u03b5\", \"distribut\", \"bound\", \"variat\", \"respect\", \"probabl\", \"densiti\", \"e\", \"banach\", \"integrand\", \"ill-behav\", \"function\", \"0\", \"partit\", \"riemann\", \"\\\\displaystyl\", \"lebesgu\", \"\\u2032\", \"antideriv\", \"comput\", \"b\", \"surfac\", \"integr\", \"area\", \"calculu\", \"curv\", \"volum\", \"integrand\", \"theorem\", \"fluid\", \"trapezoid\", \"quadratur\", \"method\", \"polynomi\", \"width\", \"d-finit\", \"algorithm\", \"flux\", \"domain\", \"interv\", \"function\", \"differenti\", \"sum\", \"riemann\", \"lebesgu\", \"vector\", \"f\", \"x\", \"v\", \"''\", \"'s\", \"1\", \"10\", \"2\", \"3\", \"4\", \"7\", \"8\", \"``\", \"also\", \"call\", \"consid\", \"exampl\", \"first\", \"follow\", \"gener\", \"howev\", \"may\", \"number\", \"'build\", \"+1\", \"+f\\\\mathbf\", \"+g\\\\mathbf\", \"-\\\\co\", \"...\", \".x\", \"0\", \"0.6203.\", \"1.\", \"1/5\", \"1040\", \"11\", \"12\", \"13\", \"14\", \"''\", \"'s\", \"1\", \"10\", \"2\", \"3\", \"4\", \"7\", \"8\", \"``\", \"also\", \"call\", \"consid\", \"exampl\", \"first\", \"follow\", \"gener\", \"howev\", \"may\", \"number\", \"'build\", \"+1\", \"+f\\\\mathbf\", \"+g\\\\mathbf\", \"-\\\\co\", \"...\", \".x\", \"0\", \"0.6203.\", \"1.\", \"1/5\", \"1040\", \"11\", \"12\", \"13\", \"14\", \"''\", \"'s\", \"1\", \"10\", \"2\", \"3\", \"4\", \"7\", \"8\", \"``\", \"also\", \"call\", \"consid\", \"exampl\", \"first\", \"follow\", \"gener\", \"howev\", \"may\", \"number\", \"'build\", \"+1\", \"+f\\\\mathbf\", \"+g\\\\mathbf\", \"-\\\\co\", \"...\", \".x\", \"0\", \"0.6203.\", \"1.\", \"1/5\", \"1040\", \"11\", \"12\", \"13\", \"14\", \"''\", \"'s\", \"1\", \"10\", \"2\", \"3\", \"4\", \"7\", \"8\", \"``\", \"also\", \"call\", \"consid\", \"exampl\", \"first\", \"follow\", \"gener\", \"howev\", \"may\", \"number\", \"'build\", \"+1\", \"+f\\\\mathbf\", \"+g\\\\mathbf\", \"-\\\\co\", \"...\", \".x\", \"0\", \"0.6203.\", \"1.\", \"1/5\", \"1040\", \"11\", \"12\", \"13\", \"14\", \"''\", \"'s\", \"1\", \"10\", \"2\", \"3\", \"4\", \"7\", \"8\", \"``\", \"also\", \"call\", \"consid\", \"exampl\", \"first\", \"follow\", \"gener\", \"howev\", \"may\", \"number\", \"'build\", \"+1\", \"+f\\\\mathbf\", \"+g\\\\mathbf\", \"-\\\\co\", \"...\", \".x\", \"0\", \"0.6203.\", \"1.\", \"1/5\", \"1040\", \"11\", \"12\", \"13\", \"14\", \"''\", \"'s\", \"1\", \"10\", \"2\", \"3\", \"4\", \"7\", \"8\", \"``\", \"also\", \"call\", \"consid\", \"exampl\", \"first\", \"follow\", \"gener\", \"howev\", \"may\", \"number\", \"'build\", \"+1\", \"+f\\\\mathbf\", \"+g\\\\mathbf\", \"-\\\\co\", \"...\", \".x\", \"0\", \"0.6203.\", \"1.\", \"1/5\", \"1040\", \"11\", \"12\", \"13\", \"14\", \"''\", \"'s\", \"1\", \"10\", \"2\", \"3\", \"4\", \"7\", \"8\", \"``\", \"also\", \"call\", \"consid\", \"exampl\", \"first\", \"follow\", \"gener\", \"howev\", \"may\", \"number\", \"'build\", \"+1\", \"+f\\\\mathbf\", \"+g\\\\mathbf\", \"-\\\\co\", \"...\", \".x\", \"0\", \"0.6203.\", \"1.\", \"1/5\", \"1040\", \"11\", \"12\", \"13\", \"14\", \"''\", \"'s\", \"1\", \"10\", \"2\", \"3\", \"4\", \"7\", \"8\", \"``\", \"also\", \"call\", \"consid\", \"exampl\", \"first\", \"follow\", \"gener\", \"howev\", \"may\", \"number\", \"'build\", \"+1\", \"+f\\\\mathbf\", \"+g\\\\mathbf\", \"-\\\\co\", \"...\", \".x\", \"0\", \"0.6203.\", \"1.\", \"1/5\", \"1040\", \"11\", \"12\", \"13\", \"14\", \"''\", \"'s\", \"1\", \"10\", \"2\", \"3\", \"4\", \"7\", \"8\", \"``\", \"also\", \"call\", \"consid\", \"exampl\", \"first\", \"follow\", \"gener\", \"howev\", \"may\", \"number\", \"'build\", \"+1\", \"+f\\\\mathbf\", \"+g\\\\mathbf\", \"-\\\\co\", \"...\", \".x\", \"0\", \"0.6203.\", \"1.\", \"1/5\", \"1040\", \"11\", \"12\", \"13\", \"14\", \"''\", \"'s\", \"1\", \"10\", \"2\", \"3\", \"4\", \"7\", \"8\", \"``\", \"also\", \"call\", \"consid\", \"exampl\", \"first\", \"follow\", \"gener\", \"howev\", \"may\", \"number\", \"'build\", \"+1\", \"+f\\\\mathbf\", \"+g\\\\mathbf\", \"-\\\\co\", \"...\", \".x\", \"0\", \"0.6203.\", \"1.\", \"1/5\", \"1040\", \"11\", \"12\", \"13\", \"14\", \"''\", \"'s\", \"1\", \"10\", \"2\", \"3\", \"4\", \"7\", \"8\", \"``\", \"also\", \"call\", \"consid\", \"exampl\", \"first\", \"follow\", \"gener\", \"howev\", \"may\", \"number\", \"'build\", \"+1\", \"+f\\\\mathbf\", \"+g\\\\mathbf\", \"-\\\\co\", \"...\", \".x\", \"0\", \"0.6203.\", \"1.\", \"1/5\", \"1040\", \"11\", \"12\", \"13\", \"14\", \"''\", \"'s\", \"1\", \"10\", \"2\", \"3\", \"4\", \"7\", \"8\", \"``\", \"also\", \"call\", \"consid\", \"exampl\", \"first\", \"follow\", \"gener\", \"howev\", \"may\", \"number\", \"'build\", \"+1\", \"+f\\\\mathbf\", \"+g\\\\mathbf\", \"-\\\\co\", \"...\", \".x\", \"0\", \"0.6203.\", \"1.\", \"1/5\", \"1040\", \"11\", \"12\", \"13\", \"14\", \"''\", \"'s\", \"1\", \"10\", \"2\", \"3\", \"4\", \"7\", \"8\", \"``\", \"also\", \"call\", \"consid\", \"exampl\", \"first\", \"follow\", \"gener\", \"howev\", \"may\", \"number\", \"'build\", \"+1\", \"+f\\\\mathbf\", \"+g\\\\mathbf\", \"-\\\\co\", \"...\", \".x\", \"0\", \"0.6203.\", \"1.\", \"1/5\", \"1040\", \"11\", \"12\", \"13\", \"14\", \"''\", \"'s\", \"1\", \"10\", \"2\", \"3\", \"4\", \"7\", \"8\", \"``\", \"also\", \"call\", \"consid\", \"exampl\", \"first\", \"follow\", \"gener\", \"howev\", \"may\", \"number\", \"'build\", \"+1\", \"+f\\\\mathbf\", \"+g\\\\mathbf\", \"-\\\\co\", \"...\", \".x\", \"0\", \"0.6203.\", \"1.\", \"1/5\", \"1040\", \"11\", \"12\", \"13\", \"14\", \"''\", \"'s\", \"1\", \"10\", \"2\", \"3\", \"4\", \"7\", \"8\", \"``\", \"also\", \"call\", \"consid\", \"exampl\", \"first\", \"follow\", \"gener\", \"howev\", \"may\", \"number\", \"'build\", \"+1\", \"+f\\\\mathbf\", \"+g\\\\mathbf\", \"-\\\\co\", \"...\", \".x\", \"0\", \"0.6203.\", \"1.\", \"1/5\", \"1040\", \"11\", \"12\", \"13\", \"14\", \"''\", \"'s\", \"1\", \"10\", \"2\", \"3\", \"4\", \"7\", \"8\", \"``\", \"also\", \"call\", \"consid\", \"exampl\", \"first\", \"follow\", \"gener\", \"howev\", \"may\", \"number\", \"'build\", \"+1\", \"+f\\\\mathbf\", \"+g\\\\mathbf\", \"-\\\\co\", \"...\", \".x\", \"0\", \"0.6203.\", \"1.\", \"1/5\", \"1040\", \"11\", \"12\", \"13\", \"14\", \"''\", \"'s\", \"1\", \"10\", \"2\", \"3\", \"4\", \"7\", \"8\", \"``\", \"also\", \"call\", \"consid\", \"exampl\", \"first\", \"follow\", \"gener\", \"howev\", \"may\", \"number\", \"'build\", \"+1\", \"+f\\\\mathbf\", \"+g\\\\mathbf\", \"-\\\\co\", \"...\", \".x\", \"0\", \"0.6203.\", \"1.\", \"1/5\", \"1040\", \"11\", \"12\", \"13\", \"14\", \"''\", \"'s\", \"1\", \"10\", \"2\", \"3\", \"4\", \"7\", \"8\", \"``\", \"also\", \"call\", \"consid\", \"exampl\", \"first\", \"follow\", \"gener\", \"howev\", \"may\", \"number\", \"'build\", \"+1\", \"+f\\\\mathbf\", \"+g\\\\mathbf\", \"-\\\\co\", \"...\", \".x\", \"0\", \"0.6203.\", \"1.\", \"1/5\", \"1040\", \"11\", \"12\", \"13\", \"14\", \"''\", \"'s\", \"1\", \"10\", \"2\", \"3\", \"4\", \"7\", \"8\", \"``\", \"also\", \"call\", \"consid\", \"exampl\", \"first\", \"follow\", \"gener\", \"howev\", \"may\", \"number\", \"'build\", \"+1\", \"+f\\\\mathbf\", \"+g\\\\mathbf\", \"-\\\\co\", \"...\", \".x\", \"0\", \"0.6203.\", \"1.\", \"1/5\", \"1040\", \"11\", \"12\", \"13\", \"14\", \"''\", \"'s\", \"1\", \"10\", \"2\", \"3\", \"4\", \"7\", \"8\", \"``\", \"also\", \"call\", \"consid\", \"exampl\", \"first\", \"follow\", \"gener\", \"howev\", \"may\", \"number\", \"'build\", \"+1\", \"+f\\\\mathbf\", \"+g\\\\mathbf\", \"-\\\\co\", \"...\", \".x\", \"0\", \"0.6203.\", \"1.\", \"1/5\", \"1040\", \"11\", \"12\", \"13\", \"14\"], \"Freq\": [0.0, 0.0, 0.0, 0.0, 0.0, 0.0, 0.0, 0.0, 0.0, 0.0, 0.0, 0.0, 0.0, 0.0, 0.0, 0.0, 0.0, 0.0, 0.0, 0.0, 0.06740216081913906, 0.04413252571107281, 0.03251213700039612, 0.02669913056147099, 0.012914586225607592, 0.012914650428429209, 0.01101937819564231, 0.010406222482229591, 0.011916475332463112, 0.002511082239005586, 0.0024586147054451632, 0.00239202971221314, 0.002385619801276557, 0.002386431966970001, 0.0023781865961369844, 0.002368745818152261, 0.0023601781985415167, 0.0023598734820727695, 0.0023596939611061738, 0.0023583740992541035, 0.002359497895566315, 0.05212281418042701, 0.0713258433134576, 0.02590021601611266, 0.022325895223788448, 0.019217894189466293, 0.0157524913643537, 0.013858830602523773, 0.011976013467844627, 0.0104807697912225, 0.009871559746654903, 0.014410450641410727, 0.0041794131596963645, 0.012854442146514595, 0.0025028575780117177, 0.0023491667705870744, 0.0022799599614128714, 0.0022785962972968, 0.002276080167086313, 0.0022347090747059026, 0.0022276624504325875, 0.0022438683634226314, 0.002571309913043762, 0.02377916880543109, 0.039652450363052205, 0.017230281574942014, 0.016513114050758757, 0.030794605674082026, 0.013040534801538738, 0.010621444507460021, 0.010122053459489647, 0.01756578485303621, 0.008267833788158617, 0.006906901167957371, 0.0054416991410161045, 0.004697888066027263, 0.004082046224232885, 0.003608332759775364, 0.002108118668137485, 0.0021074331787235548, 0.0018368381726390542, 0.0018069242275945067, 0.0017934882655454057, 0.028989033746121697, 0.028183004404475697, 0.009525844955466082, 0.007125750181018859, 0.005939164626994384, 0.010253786188149486, 0.004001167728262015, 0.0015287227782775096, 0.0015286487242313336, 0.0015286289555664647, 0.001524481928980609, 0.0015070026637764248, 0.0015091676463679132, 0.0015039212623635086, 0.0015026237476137723, 0.0015027133341823456, 0.0014995252447368027, 0.0014975635969839672, 0.0014975599884181577, 0.0014975592039473296, 0.001501191303881597, 0.0015010297028910011, 0.0340695665150204, 0.006737224221924146, 0.005367449925770326, 0.005271261008914914, 0.004377582869245214, 0.0012359304959120992, 0.00123305344466505, 0.0012266196405643322, 0.001222204953804125, 0.0012206255610092717, 0.0012186074621390462, 0.0012186026244051915, 0.0012189895158048012, 0.0012168623133052682, 0.0012168602763646978, 0.0012168565844099138, 0.0012161903775345737, 0.0012154263975118497, 0.001215263569574995, 0.0012146020731247245, 0.02907548639579258, 0.01079520404168467, 0.008318657183263068, 0.005623888029246277, 0.0053665086211174585, 0.001696364878627194, 0.0011645925512286741, 0.0011277591492402047, 0.001113200283037013, 0.0011057252558715083, 0.0011065908071905938, 0.0011038054231309752, 0.00110077905057268, 0.0011007752436696372, 0.0011005322940390902, 0.001099493355590512, 0.001100220474071679, 0.0010981332529579624, 0.0010981319839902816, 0.001098131753268885, 0.001099487356834202, 0.0011019724569962359, 0.0010982228882205148, 0.030604563905250806, 0.006314797350275331, 0.0010668952057167782, 0.0010634981197875889, 0.0010645997154794722, 0.0010630074493197942, 0.0010630001275357395, 0.0010644780185535914, 0.0010642379527854911, 0.0010624442266281837, 0.001061786708232837, 0.0010606506114069984, 0.0010606502785986322, 0.0010606477270678253, 0.0010606469505149711, 0.001060646728642727, 0.0010608880147081696, 0.0010595499032040915, 0.001060022491083993, 0.001059108932118972, 0.0010600281488262172, 0.021413389041138285, 0.010546502301538526, 0.007090929220653904, 0.006644793135081731, 0.005923408535467823, 0.005720969294166416, 0.004983475817077935, 0.0038684234802650666, 0.00382537149954384, 0.0037617059131975117, 0.008732430715660456, 0.0012167352201271028, 0.0012028229885760074, 0.001202670924453422, 0.0010867562744297386, 0.0010494944438418376, 0.0010494077008100784, 0.0010344326033029266, 0.0010344142416392696, 0.0010462170979326597, 0.0010461493497253734, 0.014853917473671374, 0.007066964362008153, 0.0034354566327074064, 0.0028429740599262136, 0.006830673525526257, 0.00756706426438482, 0.005362666233787155, 0.0008077199217329835, 0.0007362223543929174, 0.0007361836704561167, 0.0007284639251422093, 0.0007293051688048771, 0.0007203950441024009, 0.0007203803396819795, 0.000719416408367899, 0.0007187712990514664, 0.000718767227058119, 0.0007187712236441822, 0.0007188985111399319, 0.0007182922365748682, 0.001800290394506179, 0.0007208742573935674, 0.0008251236212999495, 0.0009020051933254599, 0.0007228153917037498, 0.0007251819739114555, 0.0007220477455504728, 0.00043736217119642526, 0.00042427866993041436, 0.0004318851914598698, 0.00031538021772316863, 0.0014855403496983504, 0.00022385290468561863, 0.0002139653073037712, 0.00021197280443952847, 0.00021165779146084938, 0.00021153487711080983, 0.0002111332856965292, 0.0002107936418940259, 0.00021079311876148448, 0.00021079032872126368, 0.0002103153461708626, 0.00021041894821124883, 0.000210145916619017, 0.00020978746184221255, 0.0002097867425349681, 0.00020978665534621122, 0.00021014500113706954, 0.00030871326403525504, 0.0003289482269112719, 0.00025519368805207665, 0.0002465264934977455, 0.0002796544720031364, 0.00022521939227532052, 0.00022526686655345248, 0.0002372682463603903, 0.00021877518406409677, 0.00021412606157430528, 0.00015193025646012296, 0.00015193025646012296, 0.00015193025646012296, 0.00015193025646012296, 0.00015193025646012296, 0.00015193025646012296, 0.00015193025646012296, 0.00015193025646012296, 0.00015193025646012296, 0.00015193025646012296, 0.00015193025646012296, 0.00015193025646012296, 0.00015193025646012296, 0.00015193025646012296, 0.00015193025646012296, 0.00015193025646012296, 0.00015193025646012296, 0.00015193025646012296, 0.00015193025646012296, 0.00015193025646012296, 0.00015193025646012296, 0.00015193025646012296, 0.00015193025646012296, 0.00015193025646012296, 0.00015193025646012296, 0.00015193025646012296, 0.00015193025646012296, 0.00015193025646012296, 0.00015193025646012296, 0.00015193025646012296, 0.00015193025646012296, 0.00015193025646012296, 0.00015193025646012296, 0.00015193025646012296, 0.00015193025646012296, 0.00015193025646012296, 0.00015193025646012296, 0.00015193025646012296, 0.00015193025646012296, 0.00015193025646012296, 0.00015193025646012296, 0.00015193025646012296, 0.00015193025646012296, 0.00015193025646012296, 0.00015193025646012296, 0.00015193025646012296, 0.00015193025646012296, 0.00015193025646012296, 0.00015193025646012296, 0.00015193025646012296, 0.00015193025646012296, 0.00015193025646012296, 0.00015193025646012296, 0.00015193025646012296, 0.00015193025646012296, 0.00015193025646012296, 0.00015193025646012296, 0.00015193025646012296, 0.00015193025646012296, 0.00015193025646012296, 0.00015193025646012296, 0.00015193025646012296, 0.00015193025646012296, 0.00015193025646012296, 0.00015193025646012296, 0.00015193025646012296, 0.00015193025646012296, 0.00015193025646012296, 0.00015193025646012296, 0.00015193025646012296, 0.00015193025646012296, 0.00015193025646012296, 0.00015193025646012296, 0.00015193025646012296, 0.00015193025646012296, 0.00015193025646012296, 0.00015193025646012296, 0.00015193025646012296, 0.00015193025646012296, 0.00015193025646012296, 0.00015193025646012296, 0.00015193025646012296, 0.00015193025646012296, 0.00015193025646012296, 0.00015193025646012296, 0.00015193025646012296, 0.00015193025646012296, 0.00015193025646012296, 0.00015193025646012296, 0.00015193025646012296, 0.00015193025646012296, 0.00015193025646012296, 0.00015193025646012296, 0.00015193025646012296, 0.00015193025646012296, 0.00015193025646012296, 0.00015193025646012296, 0.00015193025646012296, 0.00015193025646012296, 0.00015193025646012296, 0.00015193025646012296, 0.00015193025646012296, 0.00015193025646012296, 0.00015193025646012296, 0.00015193025646012296, 0.00015193025646012296, 0.00015193025646012296, 0.00015193025646012296, 0.00015193025646012296, 0.00015193025646012296, 0.00015193025646012296, 0.00015193025646012296, 0.00015193025646012296, 0.00015193025646012296, 0.00015193025646012296, 0.00015193025646012296, 0.00015193025646012296, 0.00015193025646012296, 0.00015193025646012296, 0.00015193025646012296, 0.00015193025646012296, 0.00015193025646012296, 0.00015193025646012296, 0.00015193025646012296, 0.00015193025646012296, 0.00015193025646012296, 0.00015193025646012296, 0.00015193025646012296, 0.00015193025646012296, 0.00015193025646012296, 0.00015193025646012296, 0.00015193025646012296, 0.00015193025646012296, 0.00015193025646012296, 0.00015193025646012296, 0.00015193025646012296, 0.00015193025646012296, 0.00015193025646012296, 0.00015193025646012296, 0.00015193025646012296, 0.00015193025646012296, 0.00015193025646012296, 0.00015193025646012296, 0.00015193025646012296, 0.00015193025646012296, 0.00015193025646012296, 0.00015193025646012296, 0.00015193025646012296, 0.00015193025646012296, 0.00015193025646012296, 0.00015193025646012296, 0.00015193025646012296, 0.00015193025646012296, 0.00015193025646012296, 0.00015193025646012296, 0.00015193025646012296, 0.00015193025646012296, 0.00015193025646012296, 0.00015193025646012296, 0.00015193025646012296, 0.00015193025646012296, 0.00015193025646012296, 0.00015193025646012296, 0.00015193025646012296, 0.00015193025646012296, 0.00015193025646012296, 0.00015193025646012296, 0.00015193025646012296, 0.00015193025646012296, 0.00015193025646012296, 0.00015193025646012296, 0.00015193025646012296, 0.00015193025646012296, 0.00015193025646012296, 0.00015193025646012296, 0.00015193025646012296, 0.00015193025646012296, 0.00015193025646012296, 0.00015193025646012296, 0.00015193025646012296, 0.00015193025646012296, 0.00015193025646012296, 0.00015193025646012296, 0.00015193025646012296, 0.00015193025646012296, 0.00015193025646012296, 0.00015193025646012296, 0.00015193025646012296, 0.00015193025646012296, 0.00015193025646012296, 0.00015193025646012296, 0.00015193025646012296, 0.00015193025646012296, 0.00015193025646012296, 0.00015193025646012296, 0.00015193025646012296, 0.00015193025646012296, 0.00015193025646012296, 0.00015193025646012296, 0.00015193025646012296, 0.00015193025646012296, 0.00015193025646012296, 0.00015193025646012296, 0.00015193025646012296, 0.00015193025646012296, 0.00015193025646012296, 0.00015193025646012296, 0.00015193025646012296, 0.00015193025646012296, 0.00015193025646012296, 0.00015193025646012296, 0.00015193025646012296, 0.00015193025646012296, 0.00015193025646012296, 0.00015193025646012296, 0.00015193025646012296, 0.00015193025646012296, 0.00015193025646012296, 0.00015193025646012296, 0.00015193025646012296, 0.00015193025646012296, 0.00015193025646012296, 0.00015193025646012296, 0.00015193025646012296, 0.00015193025646012296, 0.00015193025646012296, 0.00015193025646012296, 0.00015193025646012296, 0.00015193025646012296, 0.00015193025646012296, 0.00015193025646012296, 0.00015193025646012296, 0.00015193025646012296, 0.00015193025646012296, 0.00015193025646012296, 0.00015193025646012296, 0.00015193025646012296, 0.00015193025646012296, 0.00015193025646012296, 0.00015193025646012296, 0.00015193025646012296, 0.00015193025646012296, 0.00015193025646012296, 0.00015193025646012296, 0.00015193025646012296, 0.00015193025646012296, 0.00015193025646012296, 0.00015193025646012296, 0.00015193025646012296, 0.00015193025646012296, 0.00015193025646012296, 0.00015193025646012296, 0.00015193025646012296, 0.00015193025646012296, 0.00015193025646012296, 0.00015193025646012296, 0.00015193025646012296, 0.00015193025646012296, 0.00015193025646012296, 0.00015193025646012296, 0.00015193025646012296, 0.00015193025646012296, 0.00015193025646012296, 0.00015193025646012296, 0.00015193025646012296, 0.00015193025646012296, 0.00015193025646012296, 0.00015193025646012296, 0.00015193025646012296, 0.00015193025646012296, 0.00015193025646012296, 0.00015193025646012296, 0.00015193025646012296, 0.00015193025646012296, 0.00015193025646012296, 0.00015193025646012296, 0.00015193025646012296, 0.00015193025646012296, 0.00015193025646012296, 0.00015193025646012296, 0.00015193025646012296, 0.00015193025646012296, 0.00015193025646012296, 0.00015193025646012296, 0.00015193025646012296, 0.00015193025646012296, 0.00015193025646012296, 0.00015193025646012296, 0.00015193025646012296, 0.00015193025646012296, 0.00015193025646012296, 0.00015193025646012296, 0.00015193025646012296, 0.00015193025646012296, 0.00015193025646012296, 0.00015193025646012296, 0.00015193025646012296, 0.00015193025646012296, 0.00015193025646012296, 0.00015193025646012296, 0.00015193025646012296, 0.00015193025646012296, 0.00015193025646012296, 0.00015193025646012296, 0.00015193025646012296, 0.00015193025646012296, 0.00015193025646012296, 0.00015193025646012296, 0.00015193025646012296, 0.00015193025646012296, 0.00015193025646012296, 0.00015193025646012296, 0.00015193025646012296, 0.00015193025646012296, 0.00015193025646012296, 0.00015193025646012296, 0.00015193025646012296, 0.00015193025646012296, 0.00015193025646012296, 0.00015193025646012296, 0.00015193025646012296, 0.00015193025646012296, 0.00015193025646012296, 0.00015193025646012296, 0.00015193025646012296, 0.00015193025646012296, 0.00015193025646012296, 0.00015193025646012296, 0.00015193025646012296, 0.00015193025646012296, 0.00015193025646012296, 0.00015193025646012296, 0.00015193025646012296, 0.00015193025646012296, 0.00015193025646012296, 0.00015193025646012296, 0.00015193025646012296, 0.00015193025646012296, 0.00015193025646012296, 0.00015193025646012296, 0.00015193025646012296, 0.00015193025646012296, 0.00015193025646012296, 0.00015193025646012296, 0.00015193025646012296, 0.00015193025646012296, 0.00015193025646012296, 0.00015193025646012296, 0.00015193025646012296, 0.00015193025646012296, 0.00015193025646012296, 0.00015193025646012296, 0.00015193025646012296, 0.00015193025646012296, 0.00015193025646012296, 0.00015193025646012296, 0.00015193025646012296, 0.00015193025646012296, 0.00015193025646012296, 0.00015193025646012296, 0.00015193025646012296, 0.00015193025646012296, 0.00015193025646012296, 0.00015193025646012296, 0.00015193025646012296, 0.00015193025646012296, 0.00015193025646012296, 0.00015193025646012296, 0.00015193025646012296, 0.00015193025646012296, 0.00015193025646012296, 0.00015193025646012296, 0.00015193025646012296, 0.00015193025646012296, 0.00015193025646012296, 0.00015193025646012296, 0.00015193025646012296, 0.00015193025646012296, 0.00015193025646012296, 0.00015193025646012296, 0.00015193025646012296, 0.00015193025646012296, 0.00015193025646012296, 0.00015193025646012296, 0.00015193025646012296, 0.00015193025646012296, 0.00015193025646012296, 0.00015193025646012296, 0.00015193025646012296, 0.00015193025646012296, 0.00015193025646012296, 0.00015193025646012296, 0.00015193025646012296, 0.00015193025646012296, 0.00015193025646012296, 0.00015193025646012296, 0.00015193025646012296, 0.00015193025646012296, 0.00015193025646012296, 0.00015193025646012296, 0.00015193025646012296, 0.00015193025646012296, 0.00015193025646012296, 0.00015193025646012296, 0.00015193025646012296, 0.00015193025646012296, 0.00015193025646012296, 0.00015193025646012296, 0.00015193025646012296, 0.00015193025646012296, 0.00015193025646012296, 0.00015193025646012296, 0.00015193025646012296, 0.00015193025646012296, 0.00015193025646012296, 0.00015193025646012296, 0.00015193025646012296, 0.00015193025646012296, 0.00015193025646012296, 0.00015193025646012296, 0.00015193025646012296, 0.00015193025646012296, 0.00015193025646012296, 0.00015193025646012296, 0.00015193025646012296, 0.00015193025646012296, 0.00015193025646012296, 0.00015193025646012296, 0.00015193025646012296, 0.00015193025646012296, 0.00015193025646012296, 0.00015193025646012296, 0.00015193025646012296, 0.00015193025646012296, 0.00015193025646012296, 0.00015193025646012296, 0.00015193025646012296, 0.00015193025646012296, 0.00015193025646012296, 0.00015193025646012296, 0.00015193025646012296, 0.00015193025646012296, 0.00015193025646012296, 0.00015193025646012296, 0.00015193025646012296, 0.00015193025646012296, 0.00015193025646012296, 0.00015193025646012296, 0.00015193025646012296, 0.00015193025646012296, 0.00015193025646012296, 0.00015193025646012296, 0.00015193025646012296, 0.00015193025646012296, 0.00015193025646012296, 0.00015193025646012296, 0.00015193025646012296, 0.00015193025646012296, 0.00015193025646012296, 0.00015193025646012296, 0.00015193025646012296, 0.00015193025646012296, 0.00015193025646012296, 0.00015193025646012296, 0.00015193025646012296, 0.00015193025646012296, 0.00015193025646012296, 0.00015193025646012296, 0.00015193025646012296, 0.00015193025646012296, 0.00015193025646012296, 0.00015193025646012296, 0.00015193025646012296, 0.00015193025646012296, 0.00015193025646012296, 0.00015193025646012296, 0.00015193025646012296, 0.00015193025646012296, 0.00015193025646012296, 0.00015193025646012296, 0.00015193025646012296, 0.00015193025646012296, 0.00015193025646012296, 0.00015193025646012296, 0.00015193025646012296, 0.00015193025646012296, 0.00015193025646012296, 0.00015193025646012296, 0.00015193025646012296, 0.00015193025646012296, 0.00015193025646012296, 0.00015193025646012296, 0.00015193025646012296, 0.00015193025646012296, 0.00015193025646012296, 0.00015193025646012296, 0.00015193025646012296, 0.00015193025646012296, 0.00015193025646012296, 0.00015193025646012296, 0.00015193025646012296, 0.00015193025646012296, 0.00015193025646012296, 0.00015193025646012296, 0.00015193025646012296, 0.00015193025646012296, 0.00015193025646012296, 0.00015193025646012296, 0.00015193025646012296, 0.00015193025646012296, 0.00015193025646012296, 0.00015193025646012296, 0.00015193025646012296, 0.00015193025646012296, 0.00015193025646012296, 0.00015193025646012296, 0.00015193025646012296, 0.00015193025646012296, 0.00015193025646012296, 0.00015193025646012296, 0.00015193025646012296, 0.00015193025646012296, 0.00015193025646012296, 0.00015193025646012296, 0.00015193025646012296, 0.00015193025646012296, 0.00015193025646012296, 0.00015193025646012296, 0.00015193025646012296, 0.00015193025646012296, 0.00015193025646012296, 0.00015193025646012296, 0.00015193025646012296, 0.00015193025646012296, 0.00015193025646012296, 0.00015193025646012296, 0.00015193025646012296, 0.00015193025646012296, 0.00015193025646012296, 0.00015193025646012296, 0.00015193025646012296, 0.00015193025646012296, 0.00015193025646012296, 0.00015193025646012296, 0.00015193025646012296, 0.00015193025646012296, 0.00015193025646012296, 0.00015193025646012296, 0.00015193025646012296, 0.00015193025646012296, 0.00015193025646012296, 0.00015193025646012296, 0.00015193025646012296, 0.00015193025646012296, 0.00015193025646012296, 0.00015193025646012296, 0.00015193025646012296, 0.00015193025646012296, 0.00015193025646012296, 0.00015193025646012296, 0.00015193025646012296, 0.00015193025646012296, 0.00015193025646012296, 0.00015193025646012296, 0.00015193025646012296, 0.00015193025646012296, 0.00015193025646012296, 0.00015193025646012296, 0.00015193025646012296, 0.00015193025646012296, 0.00015193025646012296, 0.00015193025646012296, 0.00015193025646012296, 0.00015193025646012296, 0.00015193025646012296, 0.00015193025646012296, 0.00015193025646012296, 0.00015193025646012296, 0.00015193025646012296, 0.00015193025646012296, 0.00015193025646012296, 0.00015193025646012296, 0.00015193025646012296, 0.00015193025646012296, 0.00015193025646012296, 0.00015193025646012296, 0.00015193025646012296, 0.00015193025646012296, 0.00015193025646012296, 0.00015193025646012296, 0.00015193025646012296, 0.00015193025646012296, 0.00015193025646012296, 0.00015193025646012296, 0.00015193025646012296, 0.00015193025646012296, 0.00015193025646012296, 0.00015193025646012296, 0.00015193025646012296, 0.00015193025646012296, 0.00015193025646012296, 0.00015193025646012296, 0.00015193025646012296, 0.00015193025646012296, 0.00015193025646012296, 0.00015193025646012296, 0.00015193025646012296, 0.00015193025646012296, 0.00015193025646012296, 0.00015193025646012296, 0.00015193025646012296, 0.00015193025646012296, 0.00015193025646012296, 0.00015193025646012296, 0.00015193025646012296, 0.00015193025646012296, 0.00015193025646012296, 0.00015193025646012296, 0.00015193025646012296, 0.00015193025646012296, 0.00015193025646012296, 0.00015193025646012296, 0.00015193025646012296, 0.00015193025646012296, 0.00015193025646012296, 0.00015193025646012296, 0.00015193025646012296, 0.00015193025646012296, 0.00015193025646012296, 0.00015193025646012296, 0.00015193025646012296, 0.00015193025646012296, 0.00015193025646012296, 0.00015193025646012296, 0.00015193025646012296, 0.00015193025646012296, 0.00015193025646012296, 0.00015193025646012296, 0.00015193025646012296, 0.00015193025646012296, 0.00015193025646012296, 0.00015193025646012296, 0.00015193025646012296, 0.00015193025646012296, 0.00015193025646012296, 0.00015193025646012296, 0.00015193025646012296, 0.00015193025646012296, 0.00015193025646012296, 0.00015193025646012296, 0.00015193025646012296, 0.00015193025646012296, 0.00015193025646012296, 0.00015193025646012296, 0.00015193025646012296, 0.00015193025646012296, 0.00015193025646012296, 0.00015193025646012296, 0.00015193025646012296, 0.00015193025646012296, 0.00015193025646012296, 0.00015193025646012296, 0.00015193025646012296, 0.00015193025646012296, 0.00015193025646012296, 0.00015193025646012296, 0.00015193025646012296, 0.00015193025646012296, 0.00015193025646012296, 0.00015193025646012296, 0.00015193025646012296, 0.00015193025646012296, 0.00015193025646012296, 0.00015193025646012296, 0.00015193025646012296, 0.00015193025646012296, 0.00015193025646012296, 0.00015193025646012296, 0.00015193025646012296, 0.00015193025646012296, 0.00015193025646012296, 0.00015193025646012296, 0.00015193025646012296, 0.00015193025646012296, 0.00015193025646012296, 0.00015193025646012296, 0.00015193025646012296, 0.00015193025646012296, 0.00015193025646012296, 0.00015193025646012296, 0.00015193025646012296, 0.00015193025646012296, 0.00015193025646012296, 0.00015193025646012296, 0.00015193025646012296, 0.00015193025646012296, 0.00015193025646012296, 0.00015193025646012296, 0.00015193025646012296, 0.00015193025646012296, 0.00015193025646012296, 0.00015193025646012296, 0.00015193025646012296, 0.00015193025646012296, 0.00015193025646012296, 0.00015193025646012296, 0.00015193025646012296, 0.00015193025646012296, 0.00015193025646012296, 0.00015193025646012296, 0.00015193025646012296, 0.00015193025646012296, 0.00015193025646012296, 0.00015193025646012296, 0.00015193025646012296, 0.00015193025646012296, 0.00015193025646012296, 0.00015193025646012296, 0.00015193025646012296, 0.00015193025646012296], \"Total\": [0.0, 0.0, 0.0, 0.0, 0.0, 0.0, 0.0, 0.0, 0.0, 0.0, 0.0, 0.0, 0.0, 0.0, 0.0, 0.0, 0.0, 0.0, 0.0, 0.0, 0.08104933928876537, 0.05777970418069911, 0.046159315470022416, 0.04034630903109729, 0.026562525606094914, 0.02656284635671953, 0.024667251021311398, 0.02405340095185582, 0.03861457358918975, 0.01615826070863185, 0.016111303145436476, 0.016039208181839404, 0.01603279827090282, 0.016066432103813956, 0.016025365065763245, 0.01601744588762846, 0.01600735666816778, 0.016007051951699033, 0.016011999410984554, 0.016013742991043477, 0.01602244074800218, 0.06621797762903038, 0.09109256167351748, 0.039844757180182024, 0.036282709173153134, 0.033097446936082145, 0.029616396513815185, 0.027691430714060307, 0.025810482183407164, 0.024326048330838256, 0.023703800684107386, 0.058517835515425214, 0.018015772707066367, 0.07149200169148082, 0.016394902507138244, 0.016181407708039587, 0.01612140729716435, 0.016138979233797177, 0.016131479588768146, 0.016074072079337663, 0.016059903387885103, 0.01619273009221715, 0.019358761455822538, 0.03801928466899377, 0.07149200169148082, 0.03151477616040011, 0.030775499899208192, 0.058517835515425214, 0.027282176493065337, 0.02486497829659844, 0.02436706834466406, 0.04568695316226631, 0.02250244375003562, 0.021141511129834378, 0.01967767176284662, 0.018988797974627, 0.018321790539201285, 0.017851309621119246, 0.01634272863001452, 0.01634204314060059, 0.016079847475275848, 0.01605134199734279, 0.016028098227422443, 0.043476714624371866, 0.04267068643633286, 0.024011704634372674, 0.02161160985992545, 0.02042684550524449, 0.03861457358918975, 0.018491581270732638, 0.016014582457184134, 0.016014508403137957, 0.01601448863447309, 0.01601764023403534, 0.01599286234268305, 0.016016421527918087, 0.01598978094127013, 0.015989394660675994, 0.01600593947479706, 0.015987619181835666, 0.015983423275890588, 0.01598341966732478, 0.015983418882853952, 0.016066432103813956, 0.016097984721711277, 0.04883221950682528, 0.02149987721372896, 0.020130102917575138, 0.02003482488879323, 0.01914023586105003, 0.015998583487716947, 0.01599646701452262, 0.015990033432294146, 0.01598689270604299, 0.015983278552814117, 0.015981260453943893, 0.015981255616210038, 0.015987993196969332, 0.015979515305110114, 0.015979513268169543, 0.01597950957621476, 0.015980811820325205, 0.01597843862879231, 0.01597791656137984, 0.015984482258751403, 0.043952386159720344, 0.025672103805612363, 0.023195556947190762, 0.020506211211906395, 0.03861457358918975, 0.016573264642554916, 0.016097984721711277, 0.01600465891316793, 0.015991170077308183, 0.015982625019799235, 0.016000815155124616, 0.015980705187058703, 0.015977678814500407, 0.015977675007597364, 0.015980483963276598, 0.015982390651535762, 0.015993851507706547, 0.01597503301688569, 0.01597503174791801, 0.015975031517196613, 0.015998379820547172, 0.016066432103813956, 0.015999439549184164, 0.04552093342723934, 0.0212311668722638, 0.015989599255367574, 0.01598133725342478, 0.015999010425139203, 0.015979376971308294, 0.01597936964952424, 0.016002921211415506, 0.01600151315506709, 0.015983352283226185, 0.01597815623022134, 0.015977020133395498, 0.015977019800587133, 0.015977017249056327, 0.01597701647250347, 0.015977016250631228, 0.01599095683172771, 0.01597591942519259, 0.015985857203292264, 0.01598317730797508, 0.01600790379597516, 0.036447154869387176, 0.025524081375926728, 0.02209046234957115, 0.021624148019799068, 0.02089954981997272, 0.02073742261158442, 0.01997458588644014, 0.018841313955942827, 0.01880128943461723, 0.018738129578635406, 0.04568695316226631, 0.016189625695804892, 0.016176072681932222, 0.016176279813690877, 0.01619273009221715, 0.016026585616239784, 0.016025550648227332, 0.016007323078980718, 0.01600730471731706, 0.016394902507138244, 0.018988797974627, 0.030130620048481594, 0.02233105727027097, 0.019358761455822538, 0.01811126766490919, 0.04568695316226631, 0.07149200169148082, 0.09109256167351748, 0.016064324946175733, 0.015991916606122862, 0.01599187792218606, 0.015986392435064396, 0.0160058644797898, 0.015984951393555505, 0.01599715562711697, 0.015979066933295125, 0.015975184204110156, 0.015976268073425406, 0.015977718316649663, 0.015982235945874654, 0.015973986488304812, 0.058517835515425214, 0.01619273009221715, 0.036282709173153134, 0.06621797762903038, 0.02073742261158442, 0.029616396513815185, 0.02436706834466406, 0.01619760491325472, 0.0162084388850989, 0.019358761455822538, 0.01607798718545769, 0.09109256167351748, 0.016004019274382556, 0.015995152359091973, 0.015982210155655294, 0.015978405913675737, 0.015982235945874654, 0.015992653218127113, 0.015971036383952322, 0.01597103586081978, 0.015971033070779562, 0.015975657960965155, 0.015983692271247445, 0.01597537557438619, 0.01597003020390051, 0.015970029484593265, 0.01597002939740451, 0.01600279323774077, 0.039844757180182024, 0.058517835515425214, 0.03151477616040011, 0.033097446936082145, 0.06621797762903038, 0.029616396513815185, 0.030775499899208192, 0.07149200169148082, 0.04568695316226631, 0.027282176493065337, 0.01596733707398301, 0.01596733707398301, 0.01596733707398301, 0.01596733707398301, 0.01596733707398301, 0.01596733707398301, 0.01596733707398301, 0.01596733707398301, 0.01596733707398301, 0.01596733707398301, 0.01596733707398301, 0.01596733707398301, 0.01596733707398301, 0.01596733707398301, 0.01596733707398301, 0.01596733707398301, 0.01596733707398301, 0.01596733707398301, 0.01596733707398301, 0.01596733707398301, 0.015967842223843298, 0.015967842332829243, 0.015967842354626432, 0.015967842616192704, 0.015967842332829243, 0.01597591612886388, 0.015967842529003948, 0.01619273009221715, 0.015967842507206755, 0.015984542488404644, 0.01596784237642362, 0.015967842420018, 0.015969011464054085, 0.015971864880281236, 0.015971770838960002, 0.01597279810244677, 0.01596733707398301, 0.01596733707398301, 0.01596733707398301, 0.01596733707398301, 0.01596733707398301, 0.01596733707398301, 0.01596733707398301, 0.01596733707398301, 0.01596733707398301, 0.01596733707398301, 0.01596733707398301, 0.01596733707398301, 0.01596733707398301, 0.01596733707398301, 0.01596733707398301, 0.01596733707398301, 0.01596733707398301, 0.01596733707398301, 0.01596733707398301, 0.01596733707398301, 0.015967842223843298, 0.015967842332829243, 0.015967842354626432, 0.015967842616192704, 0.015967842332829243, 0.01597591612886388, 0.015967842529003948, 0.01619273009221715, 0.015967842507206755, 0.015984542488404644, 0.01596784237642362, 0.015967842420018, 0.015969011464054085, 0.015971864880281236, 0.015971770838960002, 0.01597279810244677, 0.01596733707398301, 0.01596733707398301, 0.01596733707398301, 0.01596733707398301, 0.01596733707398301, 0.01596733707398301, 0.01596733707398301, 0.01596733707398301, 0.01596733707398301, 0.01596733707398301, 0.01596733707398301, 0.01596733707398301, 0.01596733707398301, 0.01596733707398301, 0.01596733707398301, 0.01596733707398301, 0.01596733707398301, 0.01596733707398301, 0.01596733707398301, 0.01596733707398301, 0.015967842223843298, 0.015967842332829243, 0.015967842354626432, 0.015967842616192704, 0.015967842332829243, 0.01597591612886388, 0.015967842529003948, 0.01619273009221715, 0.015967842507206755, 0.015984542488404644, 0.01596784237642362, 0.015967842420018, 0.015969011464054085, 0.015971864880281236, 0.015971770838960002, 0.01597279810244677, 0.01596733707398301, 0.01596733707398301, 0.01596733707398301, 0.01596733707398301, 0.01596733707398301, 0.01596733707398301, 0.01596733707398301, 0.01596733707398301, 0.01596733707398301, 0.01596733707398301, 0.01596733707398301, 0.01596733707398301, 0.01596733707398301, 0.01596733707398301, 0.01596733707398301, 0.01596733707398301, 0.01596733707398301, 0.01596733707398301, 0.01596733707398301, 0.01596733707398301, 0.015967842223843298, 0.015967842332829243, 0.015967842354626432, 0.015967842616192704, 0.015967842332829243, 0.01597591612886388, 0.015967842529003948, 0.01619273009221715, 0.015967842507206755, 0.015984542488404644, 0.01596784237642362, 0.015967842420018, 0.015969011464054085, 0.015971864880281236, 0.015971770838960002, 0.01597279810244677, 0.01596733707398301, 0.01596733707398301, 0.01596733707398301, 0.01596733707398301, 0.01596733707398301, 0.01596733707398301, 0.01596733707398301, 0.01596733707398301, 0.01596733707398301, 0.01596733707398301, 0.01596733707398301, 0.01596733707398301, 0.01596733707398301, 0.01596733707398301, 0.01596733707398301, 0.01596733707398301, 0.01596733707398301, 0.01596733707398301, 0.01596733707398301, 0.01596733707398301, 0.015967842223843298, 0.015967842332829243, 0.015967842354626432, 0.015967842616192704, 0.015967842332829243, 0.01597591612886388, 0.015967842529003948, 0.01619273009221715, 0.015967842507206755, 0.015984542488404644, 0.01596784237642362, 0.015967842420018, 0.015969011464054085, 0.015971864880281236, 0.015971770838960002, 0.01597279810244677, 0.01596733707398301, 0.01596733707398301, 0.01596733707398301, 0.01596733707398301, 0.01596733707398301, 0.01596733707398301, 0.01596733707398301, 0.01596733707398301, 0.01596733707398301, 0.01596733707398301, 0.01596733707398301, 0.01596733707398301, 0.01596733707398301, 0.01596733707398301, 0.01596733707398301, 0.01596733707398301, 0.01596733707398301, 0.01596733707398301, 0.01596733707398301, 0.01596733707398301, 0.015967842223843298, 0.015967842332829243, 0.015967842354626432, 0.015967842616192704, 0.015967842332829243, 0.01597591612886388, 0.015967842529003948, 0.01619273009221715, 0.015967842507206755, 0.015984542488404644, 0.01596784237642362, 0.015967842420018, 0.015969011464054085, 0.015971864880281236, 0.015971770838960002, 0.01597279810244677, 0.01596733707398301, 0.01596733707398301, 0.01596733707398301, 0.01596733707398301, 0.01596733707398301, 0.01596733707398301, 0.01596733707398301, 0.01596733707398301, 0.01596733707398301, 0.01596733707398301, 0.01596733707398301, 0.01596733707398301, 0.01596733707398301, 0.01596733707398301, 0.01596733707398301, 0.01596733707398301, 0.01596733707398301, 0.01596733707398301, 0.01596733707398301, 0.01596733707398301, 0.015967842223843298, 0.015967842332829243, 0.015967842354626432, 0.015967842616192704, 0.015967842332829243, 0.01597591612886388, 0.015967842529003948, 0.01619273009221715, 0.015967842507206755, 0.015984542488404644, 0.01596784237642362, 0.015967842420018, 0.015969011464054085, 0.015971864880281236, 0.015971770838960002, 0.01597279810244677, 0.01596733707398301, 0.01596733707398301, 0.01596733707398301, 0.01596733707398301, 0.01596733707398301, 0.01596733707398301, 0.01596733707398301, 0.01596733707398301, 0.01596733707398301, 0.01596733707398301, 0.01596733707398301, 0.01596733707398301, 0.01596733707398301, 0.01596733707398301, 0.01596733707398301, 0.01596733707398301, 0.01596733707398301, 0.01596733707398301, 0.01596733707398301, 0.01596733707398301, 0.015967842223843298, 0.015967842332829243, 0.015967842354626432, 0.015967842616192704, 0.015967842332829243, 0.01597591612886388, 0.015967842529003948, 0.01619273009221715, 0.015967842507206755, 0.015984542488404644, 0.01596784237642362, 0.015967842420018, 0.015969011464054085, 0.015971864880281236, 0.015971770838960002, 0.01597279810244677, 0.01596733707398301, 0.01596733707398301, 0.01596733707398301, 0.01596733707398301, 0.01596733707398301, 0.01596733707398301, 0.01596733707398301, 0.01596733707398301, 0.01596733707398301, 0.01596733707398301, 0.01596733707398301, 0.01596733707398301, 0.01596733707398301, 0.01596733707398301, 0.01596733707398301, 0.01596733707398301, 0.01596733707398301, 0.01596733707398301, 0.01596733707398301, 0.01596733707398301, 0.015967842223843298, 0.015967842332829243, 0.015967842354626432, 0.015967842616192704, 0.015967842332829243, 0.01597591612886388, 0.015967842529003948, 0.01619273009221715, 0.015967842507206755, 0.015984542488404644, 0.01596784237642362, 0.015967842420018, 0.015969011464054085, 0.015971864880281236, 0.015971770838960002, 0.01597279810244677, 0.01596733707398301, 0.01596733707398301, 0.01596733707398301, 0.01596733707398301, 0.01596733707398301, 0.01596733707398301, 0.01596733707398301, 0.01596733707398301, 0.01596733707398301, 0.01596733707398301, 0.01596733707398301, 0.01596733707398301, 0.01596733707398301, 0.01596733707398301, 0.01596733707398301, 0.01596733707398301, 0.01596733707398301, 0.01596733707398301, 0.01596733707398301, 0.01596733707398301, 0.015967842223843298, 0.015967842332829243, 0.015967842354626432, 0.015967842616192704, 0.015967842332829243, 0.01597591612886388, 0.015967842529003948, 0.01619273009221715, 0.015967842507206755, 0.015984542488404644, 0.01596784237642362, 0.015967842420018, 0.015969011464054085, 0.015971864880281236, 0.015971770838960002, 0.01597279810244677, 0.01596733707398301, 0.01596733707398301, 0.01596733707398301, 0.01596733707398301, 0.01596733707398301, 0.01596733707398301, 0.01596733707398301, 0.01596733707398301, 0.01596733707398301, 0.01596733707398301, 0.01596733707398301, 0.01596733707398301, 0.01596733707398301, 0.01596733707398301, 0.01596733707398301, 0.01596733707398301, 0.01596733707398301, 0.01596733707398301, 0.01596733707398301, 0.01596733707398301, 0.015967842223843298, 0.015967842332829243, 0.015967842354626432, 0.015967842616192704, 0.015967842332829243, 0.01597591612886388, 0.015967842529003948, 0.01619273009221715, 0.015967842507206755, 0.015984542488404644, 0.01596784237642362, 0.015967842420018, 0.015969011464054085, 0.015971864880281236, 0.015971770838960002, 0.01597279810244677, 0.01596733707398301, 0.01596733707398301, 0.01596733707398301, 0.01596733707398301, 0.01596733707398301, 0.01596733707398301, 0.01596733707398301, 0.01596733707398301, 0.01596733707398301, 0.01596733707398301, 0.01596733707398301, 0.01596733707398301, 0.01596733707398301, 0.01596733707398301, 0.01596733707398301, 0.01596733707398301, 0.01596733707398301, 0.01596733707398301, 0.01596733707398301, 0.01596733707398301, 0.015967842223843298, 0.015967842332829243, 0.015967842354626432, 0.015967842616192704, 0.015967842332829243, 0.01597591612886388, 0.015967842529003948, 0.01619273009221715, 0.015967842507206755, 0.015984542488404644, 0.01596784237642362, 0.015967842420018, 0.015969011464054085, 0.015971864880281236, 0.015971770838960002, 0.01597279810244677, 0.01596733707398301, 0.01596733707398301, 0.01596733707398301, 0.01596733707398301, 0.01596733707398301, 0.01596733707398301, 0.01596733707398301, 0.01596733707398301, 0.01596733707398301, 0.01596733707398301, 0.01596733707398301, 0.01596733707398301, 0.01596733707398301, 0.01596733707398301, 0.01596733707398301, 0.01596733707398301, 0.01596733707398301, 0.01596733707398301, 0.01596733707398301, 0.01596733707398301, 0.015967842223843298, 0.015967842332829243, 0.015967842354626432, 0.015967842616192704, 0.015967842332829243, 0.01597591612886388, 0.015967842529003948, 0.01619273009221715, 0.015967842507206755, 0.015984542488404644, 0.01596784237642362, 0.015967842420018, 0.015969011464054085, 0.015971864880281236, 0.015971770838960002, 0.01597279810244677, 0.01596733707398301, 0.01596733707398301, 0.01596733707398301, 0.01596733707398301, 0.01596733707398301, 0.01596733707398301, 0.01596733707398301, 0.01596733707398301, 0.01596733707398301, 0.01596733707398301, 0.01596733707398301, 0.01596733707398301, 0.01596733707398301, 0.01596733707398301, 0.01596733707398301, 0.01596733707398301, 0.01596733707398301, 0.01596733707398301, 0.01596733707398301, 0.01596733707398301, 0.015967842223843298, 0.015967842332829243, 0.015967842354626432, 0.015967842616192704, 0.015967842332829243, 0.01597591612886388, 0.015967842529003948, 0.01619273009221715, 0.015967842507206755, 0.015984542488404644, 0.01596784237642362, 0.015967842420018, 0.015969011464054085, 0.015971864880281236, 0.015971770838960002, 0.01597279810244677, 0.01596733707398301, 0.01596733707398301, 0.01596733707398301, 0.01596733707398301, 0.01596733707398301, 0.01596733707398301, 0.01596733707398301, 0.01596733707398301, 0.01596733707398301, 0.01596733707398301, 0.01596733707398301, 0.01596733707398301, 0.01596733707398301, 0.01596733707398301, 0.01596733707398301, 0.01596733707398301, 0.01596733707398301, 0.01596733707398301, 0.01596733707398301, 0.01596733707398301, 0.015967842223843298, 0.015967842332829243, 0.015967842354626432, 0.015967842616192704, 0.015967842332829243, 0.01597591612886388, 0.015967842529003948, 0.01619273009221715, 0.015967842507206755, 0.015984542488404644, 0.01596784237642362, 0.015967842420018, 0.015969011464054085, 0.015971864880281236, 0.015971770838960002, 0.01597279810244677, 0.01596733707398301, 0.01596733707398301, 0.01596733707398301, 0.01596733707398301, 0.01596733707398301, 0.01596733707398301, 0.01596733707398301, 0.01596733707398301, 0.01596733707398301, 0.01596733707398301, 0.01596733707398301, 0.01596733707398301, 0.01596733707398301, 0.01596733707398301, 0.01596733707398301, 0.01596733707398301, 0.01596733707398301, 0.01596733707398301, 0.01596733707398301, 0.01596733707398301, 0.015967842223843298, 0.015967842332829243, 0.015967842354626432, 0.015967842616192704, 0.015967842332829243, 0.01597591612886388, 0.015967842529003948, 0.01619273009221715, 0.015967842507206755, 0.015984542488404644, 0.01596784237642362, 0.015967842420018, 0.015969011464054085, 0.015971864880281236, 0.015971770838960002, 0.01597279810244677, 0.01596733707398301, 0.01596733707398301, 0.01596733707398301, 0.01596733707398301, 0.01596733707398301, 0.01596733707398301, 0.01596733707398301, 0.01596733707398301, 0.01596733707398301, 0.01596733707398301, 0.01596733707398301, 0.01596733707398301, 0.01596733707398301, 0.01596733707398301, 0.01596733707398301, 0.01596733707398301, 0.01596733707398301, 0.01596733707398301, 0.01596733707398301, 0.01596733707398301, 0.015967842223843298, 0.015967842332829243, 0.015967842354626432, 0.015967842616192704, 0.015967842332829243, 0.01597591612886388, 0.015967842529003948, 0.01619273009221715, 0.015967842507206755, 0.015984542488404644, 0.01596784237642362, 0.015967842420018, 0.015969011464054085, 0.015971864880281236, 0.015971770838960002, 0.01597279810244677, 0.01596733707398301, 0.01596733707398301, 0.01596733707398301, 0.01596733707398301, 0.01596733707398301, 0.01596733707398301, 0.01596733707398301, 0.01596733707398301, 0.01596733707398301, 0.01596733707398301, 0.01596733707398301, 0.01596733707398301, 0.01596733707398301, 0.01596733707398301, 0.01596733707398301, 0.01596733707398301, 0.01596733707398301, 0.01596733707398301, 0.01596733707398301, 0.01596733707398301, 0.015967842223843298, 0.015967842332829243, 0.015967842354626432, 0.015967842616192704, 0.015967842332829243, 0.01597591612886388, 0.015967842529003948, 0.01619273009221715, 0.015967842507206755, 0.015984542488404644, 0.01596784237642362, 0.015967842420018, 0.015969011464054085, 0.015971864880281236, 0.015971770838960002, 0.01597279810244677, 0.01596733707398301, 0.01596733707398301, 0.01596733707398301, 0.01596733707398301, 0.01596733707398301, 0.01596733707398301, 0.01596733707398301, 0.01596733707398301, 0.01596733707398301, 0.01596733707398301, 0.01596733707398301, 0.01596733707398301, 0.01596733707398301, 0.01596733707398301, 0.01596733707398301, 0.01596733707398301, 0.01596733707398301, 0.01596733707398301, 0.01596733707398301, 0.01596733707398301, 0.015967842223843298, 0.015967842332829243, 0.015967842354626432, 0.015967842616192704, 0.015967842332829243, 0.01597591612886388, 0.015967842529003948, 0.01619273009221715, 0.015967842507206755, 0.015984542488404644, 0.01596784237642362, 0.015967842420018, 0.015969011464054085, 0.015971864880281236, 0.015971770838960002, 0.01597279810244677, 0.01596733707398301, 0.01596733707398301, 0.01596733707398301, 0.01596733707398301, 0.01596733707398301, 0.01596733707398301, 0.01596733707398301, 0.01596733707398301, 0.01596733707398301, 0.01596733707398301, 0.01596733707398301, 0.01596733707398301, 0.01596733707398301, 0.01596733707398301, 0.01596733707398301, 0.01596733707398301, 0.01596733707398301, 0.01596733707398301, 0.01596733707398301, 0.01596733707398301, 0.015967842223843298, 0.015967842332829243, 0.015967842354626432, 0.015967842616192704, 0.015967842332829243, 0.01597591612886388, 0.015967842529003948, 0.01619273009221715, 0.015967842507206755, 0.015984542488404644, 0.01596784237642362, 0.015967842420018, 0.015969011464054085, 0.015971864880281236, 0.015971770838960002, 0.01597279810244677], \"Category\": [\"Default\", \"Default\", \"Default\", \"Default\", \"Default\", \"Default\", \"Default\", \"Default\", \"Default\", \"Default\", \"Default\", \"Default\", \"Default\", \"Default\", \"Default\", \"Default\", \"Default\", \"Default\", \"Default\", \"Default\", \"Topic1\", \"Topic1\", \"Topic1\", \"Topic1\", \"Topic1\", \"Topic1\", \"Topic1\", \"Topic1\", \"Topic1\", \"Topic1\", \"Topic1\", \"Topic1\", \"Topic1\", \"Topic1\", \"Topic1\", \"Topic1\", \"Topic1\", \"Topic1\", \"Topic1\", \"Topic1\", \"Topic1\", \"Topic2\", \"Topic2\", \"Topic2\", \"Topic2\", \"Topic2\", \"Topic2\", \"Topic2\", \"Topic2\", \"Topic2\", \"Topic2\", \"Topic2\", \"Topic2\", \"Topic2\", \"Topic2\", \"Topic2\", \"Topic2\", \"Topic2\", \"Topic2\", \"Topic2\", \"Topic2\", \"Topic2\", \"Topic2\", \"Topic3\", \"Topic3\", \"Topic3\", \"Topic3\", \"Topic3\", \"Topic3\", \"Topic3\", \"Topic3\", \"Topic3\", \"Topic3\", \"Topic3\", \"Topic3\", \"Topic3\", \"Topic3\", \"Topic3\", \"Topic3\", \"Topic3\", \"Topic3\", \"Topic3\", \"Topic3\", \"Topic4\", \"Topic4\", \"Topic4\", \"Topic4\", \"Topic4\", \"Topic4\", \"Topic4\", \"Topic4\", \"Topic4\", \"Topic4\", \"Topic4\", \"Topic4\", \"Topic4\", \"Topic4\", \"Topic4\", \"Topic4\", \"Topic4\", \"Topic4\", \"Topic4\", \"Topic4\", \"Topic4\", \"Topic4\", \"Topic5\", \"Topic5\", \"Topic5\", \"Topic5\", \"Topic5\", \"Topic5\", \"Topic5\", \"Topic5\", \"Topic5\", \"Topic5\", \"Topic5\", \"Topic5\", \"Topic5\", \"Topic5\", \"Topic5\", \"Topic5\", \"Topic5\", \"Topic5\", \"Topic5\", \"Topic5\", \"Topic6\", \"Topic6\", \"Topic6\", \"Topic6\", \"Topic6\", \"Topic6\", \"Topic6\", \"Topic6\", \"Topic6\", \"Topic6\", \"Topic6\", \"Topic6\", \"Topic6\", \"Topic6\", \"Topic6\", \"Topic6\", \"Topic6\", \"Topic6\", \"Topic6\", \"Topic6\", \"Topic6\", \"Topic6\", \"Topic6\", \"Topic7\", \"Topic7\", \"Topic7\", \"Topic7\", \"Topic7\", \"Topic7\", \"Topic7\", \"Topic7\", \"Topic7\", \"Topic7\", \"Topic7\", \"Topic7\", \"Topic7\", \"Topic7\", \"Topic7\", \"Topic7\", \"Topic7\", \"Topic7\", \"Topic7\", \"Topic7\", \"Topic7\", \"Topic8\", \"Topic8\", \"Topic8\", \"Topic8\", \"Topic8\", \"Topic8\", \"Topic8\", \"Topic8\", \"Topic8\", \"Topic8\", \"Topic8\", \"Topic8\", \"Topic8\", \"Topic8\", \"Topic8\", \"Topic8\", \"Topic8\", \"Topic8\", \"Topic8\", \"Topic8\", \"Topic8\", \"Topic9\", \"Topic9\", \"Topic9\", \"Topic9\", \"Topic9\", \"Topic9\", \"Topic9\", \"Topic9\", \"Topic9\", \"Topic9\", \"Topic9\", \"Topic9\", \"Topic9\", \"Topic9\", \"Topic9\", \"Topic9\", \"Topic9\", \"Topic9\", \"Topic9\", \"Topic9\", \"Topic9\", \"Topic9\", \"Topic9\", \"Topic9\", \"Topic9\", \"Topic9\", \"Topic9\", \"Topic10\", \"Topic10\", \"Topic10\", \"Topic10\", \"Topic10\", \"Topic10\", \"Topic10\", \"Topic10\", \"Topic10\", \"Topic10\", \"Topic10\", \"Topic10\", \"Topic10\", \"Topic10\", \"Topic10\", \"Topic10\", \"Topic10\", \"Topic10\", \"Topic10\", \"Topic10\", \"Topic10\", \"Topic10\", \"Topic10\", \"Topic10\", \"Topic10\", \"Topic10\", \"Topic10\", \"Topic10\", \"Topic10\", \"Topic10\", \"Topic10\", \"Topic11\", \"Topic11\", \"Topic11\", \"Topic11\", \"Topic11\", \"Topic11\", \"Topic11\", \"Topic11\", \"Topic11\", \"Topic11\", \"Topic11\", \"Topic11\", \"Topic11\", \"Topic11\", \"Topic11\", \"Topic11\", \"Topic11\", \"Topic11\", \"Topic11\", \"Topic11\", \"Topic11\", \"Topic11\", \"Topic11\", \"Topic11\", \"Topic11\", \"Topic11\", \"Topic11\", \"Topic11\", \"Topic11\", \"Topic11\", \"Topic11\", \"Topic11\", \"Topic11\", \"Topic11\", \"Topic11\", \"Topic11\", \"Topic12\", \"Topic12\", \"Topic12\", \"Topic12\", \"Topic12\", \"Topic12\", \"Topic12\", \"Topic12\", \"Topic12\", \"Topic12\", \"Topic12\", \"Topic12\", \"Topic12\", \"Topic12\", \"Topic12\", \"Topic12\", \"Topic12\", \"Topic12\", \"Topic12\", \"Topic12\", \"Topic12\", \"Topic12\", \"Topic12\", \"Topic12\", \"Topic12\", \"Topic12\", \"Topic12\", \"Topic12\", \"Topic12\", \"Topic12\", \"Topic12\", \"Topic12\", \"Topic12\", \"Topic12\", \"Topic12\", \"Topic12\", \"Topic13\", \"Topic13\", \"Topic13\", \"Topic13\", \"Topic13\", \"Topic13\", \"Topic13\", \"Topic13\", \"Topic13\", \"Topic13\", \"Topic13\", \"Topic13\", \"Topic13\", \"Topic13\", \"Topic13\", \"Topic13\", \"Topic13\", \"Topic13\", \"Topic13\", \"Topic13\", \"Topic13\", \"Topic13\", \"Topic13\", \"Topic13\", \"Topic13\", \"Topic13\", \"Topic13\", \"Topic13\", \"Topic13\", \"Topic13\", \"Topic13\", \"Topic13\", \"Topic13\", \"Topic13\", \"Topic13\", \"Topic13\", \"Topic14\", \"Topic14\", \"Topic14\", \"Topic14\", \"Topic14\", \"Topic14\", \"Topic14\", \"Topic14\", \"Topic14\", \"Topic14\", \"Topic14\", \"Topic14\", \"Topic14\", \"Topic14\", \"Topic14\", \"Topic14\", \"Topic14\", \"Topic14\", \"Topic14\", \"Topic14\", \"Topic14\", \"Topic14\", \"Topic14\", \"Topic14\", \"Topic14\", \"Topic14\", \"Topic14\", \"Topic14\", \"Topic14\", \"Topic14\", \"Topic14\", \"Topic14\", \"Topic14\", \"Topic14\", \"Topic14\", \"Topic14\", \"Topic15\", \"Topic15\", \"Topic15\", \"Topic15\", \"Topic15\", \"Topic15\", \"Topic15\", \"Topic15\", \"Topic15\", \"Topic15\", \"Topic15\", \"Topic15\", \"Topic15\", \"Topic15\", \"Topic15\", \"Topic15\", \"Topic15\", \"Topic15\", \"Topic15\", \"Topic15\", \"Topic15\", \"Topic15\", \"Topic15\", \"Topic15\", \"Topic15\", \"Topic15\", \"Topic15\", \"Topic15\", \"Topic15\", \"Topic15\", \"Topic15\", \"Topic15\", \"Topic15\", \"Topic15\", \"Topic15\", \"Topic15\", \"Topic16\", \"Topic16\", \"Topic16\", \"Topic16\", \"Topic16\", \"Topic16\", \"Topic16\", \"Topic16\", \"Topic16\", \"Topic16\", \"Topic16\", \"Topic16\", \"Topic16\", \"Topic16\", \"Topic16\", \"Topic16\", \"Topic16\", \"Topic16\", \"Topic16\", \"Topic16\", \"Topic16\", \"Topic16\", \"Topic16\", \"Topic16\", \"Topic16\", \"Topic16\", \"Topic16\", \"Topic16\", \"Topic16\", \"Topic16\", \"Topic16\", \"Topic16\", \"Topic16\", \"Topic16\", \"Topic16\", \"Topic16\", \"Topic17\", \"Topic17\", \"Topic17\", \"Topic17\", \"Topic17\", \"Topic17\", \"Topic17\", \"Topic17\", \"Topic17\", \"Topic17\", \"Topic17\", \"Topic17\", \"Topic17\", \"Topic17\", \"Topic17\", \"Topic17\", \"Topic17\", \"Topic17\", \"Topic17\", \"Topic17\", \"Topic17\", \"Topic17\", \"Topic17\", \"Topic17\", \"Topic17\", \"Topic17\", \"Topic17\", \"Topic17\", \"Topic17\", \"Topic17\", \"Topic17\", \"Topic17\", \"Topic17\", \"Topic17\", \"Topic17\", \"Topic17\", \"Topic18\", \"Topic18\", \"Topic18\", \"Topic18\", \"Topic18\", \"Topic18\", \"Topic18\", \"Topic18\", \"Topic18\", \"Topic18\", \"Topic18\", \"Topic18\", \"Topic18\", \"Topic18\", \"Topic18\", \"Topic18\", \"Topic18\", \"Topic18\", \"Topic18\", \"Topic18\", \"Topic18\", \"Topic18\", \"Topic18\", \"Topic18\", \"Topic18\", \"Topic18\", \"Topic18\", \"Topic18\", \"Topic18\", \"Topic18\", \"Topic18\", \"Topic18\", \"Topic18\", \"Topic18\", \"Topic18\", \"Topic18\", \"Topic19\", \"Topic19\", \"Topic19\", \"Topic19\", \"Topic19\", \"Topic19\", \"Topic19\", \"Topic19\", \"Topic19\", \"Topic19\", \"Topic19\", \"Topic19\", \"Topic19\", \"Topic19\", \"Topic19\", \"Topic19\", \"Topic19\", \"Topic19\", \"Topic19\", \"Topic19\", \"Topic19\", \"Topic19\", \"Topic19\", \"Topic19\", \"Topic19\", \"Topic19\", \"Topic19\", \"Topic19\", \"Topic19\", \"Topic19\", \"Topic19\", \"Topic19\", \"Topic19\", \"Topic19\", \"Topic19\", \"Topic19\", \"Topic20\", \"Topic20\", \"Topic20\", \"Topic20\", \"Topic20\", \"Topic20\", \"Topic20\", \"Topic20\", \"Topic20\", \"Topic20\", \"Topic20\", \"Topic20\", \"Topic20\", \"Topic20\", \"Topic20\", \"Topic20\", \"Topic20\", \"Topic20\", \"Topic20\", \"Topic20\", \"Topic20\", \"Topic20\", \"Topic20\", \"Topic20\", \"Topic20\", \"Topic20\", \"Topic20\", \"Topic20\", \"Topic20\", \"Topic20\", \"Topic20\", \"Topic20\", \"Topic20\", \"Topic20\", \"Topic20\", \"Topic20\", \"Topic21\", \"Topic21\", \"Topic21\", \"Topic21\", \"Topic21\", \"Topic21\", \"Topic21\", \"Topic21\", \"Topic21\", \"Topic21\", \"Topic21\", \"Topic21\", \"Topic21\", \"Topic21\", \"Topic21\", \"Topic21\", \"Topic21\", \"Topic21\", \"Topic21\", \"Topic21\", \"Topic21\", \"Topic21\", \"Topic21\", \"Topic21\", \"Topic21\", \"Topic21\", \"Topic21\", \"Topic21\", \"Topic21\", \"Topic21\", \"Topic21\", \"Topic21\", \"Topic21\", \"Topic21\", \"Topic21\", \"Topic21\", \"Topic22\", \"Topic22\", \"Topic22\", \"Topic22\", \"Topic22\", \"Topic22\", \"Topic22\", \"Topic22\", \"Topic22\", \"Topic22\", \"Topic22\", \"Topic22\", \"Topic22\", \"Topic22\", \"Topic22\", \"Topic22\", \"Topic22\", \"Topic22\", \"Topic22\", \"Topic22\", \"Topic22\", \"Topic22\", \"Topic22\", \"Topic22\", \"Topic22\", \"Topic22\", \"Topic22\", \"Topic22\", \"Topic22\", \"Topic22\", \"Topic22\", \"Topic22\", \"Topic22\", \"Topic22\", \"Topic22\", \"Topic22\", \"Topic23\", \"Topic23\", \"Topic23\", \"Topic23\", \"Topic23\", \"Topic23\", \"Topic23\", \"Topic23\", \"Topic23\", \"Topic23\", \"Topic23\", \"Topic23\", \"Topic23\", \"Topic23\", \"Topic23\", \"Topic23\", \"Topic23\", \"Topic23\", \"Topic23\", \"Topic23\", \"Topic23\", \"Topic23\", \"Topic23\", \"Topic23\", \"Topic23\", \"Topic23\", \"Topic23\", \"Topic23\", \"Topic23\", \"Topic23\", \"Topic23\", \"Topic23\", \"Topic23\", \"Topic23\", \"Topic23\", \"Topic23\", \"Topic24\", \"Topic24\", \"Topic24\", \"Topic24\", \"Topic24\", \"Topic24\", \"Topic24\", \"Topic24\", \"Topic24\", \"Topic24\", \"Topic24\", \"Topic24\", \"Topic24\", \"Topic24\", \"Topic24\", \"Topic24\", \"Topic24\", \"Topic24\", \"Topic24\", \"Topic24\", \"Topic24\", \"Topic24\", \"Topic24\", \"Topic24\", \"Topic24\", \"Topic24\", \"Topic24\", \"Topic24\", \"Topic24\", \"Topic24\", \"Topic24\", \"Topic24\", \"Topic24\", \"Topic24\", \"Topic24\", \"Topic24\", \"Topic25\", \"Topic25\", \"Topic25\", \"Topic25\", \"Topic25\", \"Topic25\", \"Topic25\", \"Topic25\", \"Topic25\", \"Topic25\", \"Topic25\", \"Topic25\", \"Topic25\", \"Topic25\", \"Topic25\", \"Topic25\", \"Topic25\", \"Topic25\", \"Topic25\", \"Topic25\", \"Topic25\", \"Topic25\", \"Topic25\", \"Topic25\", \"Topic25\", \"Topic25\", \"Topic25\", \"Topic25\", \"Topic25\", \"Topic25\", \"Topic25\", \"Topic25\", \"Topic25\", \"Topic25\", \"Topic25\", \"Topic25\", \"Topic26\", \"Topic26\", \"Topic26\", \"Topic26\", \"Topic26\", \"Topic26\", \"Topic26\", \"Topic26\", \"Topic26\", \"Topic26\", \"Topic26\", \"Topic26\", \"Topic26\", \"Topic26\", \"Topic26\", \"Topic26\", \"Topic26\", \"Topic26\", \"Topic26\", \"Topic26\", \"Topic26\", \"Topic26\", \"Topic26\", \"Topic26\", \"Topic26\", \"Topic26\", \"Topic26\", \"Topic26\", \"Topic26\", \"Topic26\", \"Topic26\", \"Topic26\", \"Topic26\", \"Topic26\", \"Topic26\", \"Topic26\", \"Topic27\", \"Topic27\", \"Topic27\", \"Topic27\", \"Topic27\", \"Topic27\", \"Topic27\", \"Topic27\", \"Topic27\", \"Topic27\", \"Topic27\", \"Topic27\", \"Topic27\", \"Topic27\", \"Topic27\", \"Topic27\", \"Topic27\", \"Topic27\", \"Topic27\", \"Topic27\", \"Topic27\", \"Topic27\", \"Topic27\", \"Topic27\", \"Topic27\", \"Topic27\", \"Topic27\", \"Topic27\", \"Topic27\", \"Topic27\", \"Topic27\", \"Topic27\", \"Topic27\", \"Topic27\", \"Topic27\", \"Topic27\", \"Topic28\", \"Topic28\", \"Topic28\", \"Topic28\", \"Topic28\", \"Topic28\", \"Topic28\", \"Topic28\", \"Topic28\", \"Topic28\", \"Topic28\", \"Topic28\", \"Topic28\", \"Topic28\", \"Topic28\", \"Topic28\", \"Topic28\", \"Topic28\", \"Topic28\", \"Topic28\", \"Topic28\", \"Topic28\", \"Topic28\", \"Topic28\", \"Topic28\", \"Topic28\", \"Topic28\", \"Topic28\", \"Topic28\", \"Topic28\", \"Topic28\", \"Topic28\", \"Topic28\", \"Topic28\", \"Topic28\", \"Topic28\", \"Topic29\", \"Topic29\", \"Topic29\", \"Topic29\", \"Topic29\", \"Topic29\", \"Topic29\", \"Topic29\", \"Topic29\", \"Topic29\", \"Topic29\", \"Topic29\", \"Topic29\", \"Topic29\", \"Topic29\", \"Topic29\", \"Topic29\", \"Topic29\", \"Topic29\", \"Topic29\", \"Topic29\", \"Topic29\", \"Topic29\", \"Topic29\", \"Topic29\", \"Topic29\", \"Topic29\", \"Topic29\", \"Topic29\", \"Topic29\", \"Topic29\", \"Topic29\", \"Topic29\", \"Topic29\", \"Topic29\", \"Topic29\", \"Topic30\", \"Topic30\", \"Topic30\", \"Topic30\", \"Topic30\", \"Topic30\", \"Topic30\", \"Topic30\", \"Topic30\", \"Topic30\", \"Topic30\", \"Topic30\", \"Topic30\", \"Topic30\", \"Topic30\", \"Topic30\", \"Topic30\", \"Topic30\", \"Topic30\", \"Topic30\", \"Topic30\", \"Topic30\", \"Topic30\", \"Topic30\", \"Topic30\", \"Topic30\", \"Topic30\", \"Topic30\", \"Topic30\", \"Topic30\", \"Topic30\", \"Topic30\", \"Topic30\", \"Topic30\", \"Topic30\", \"Topic30\"], \"logprob\": [20.0, 19.0, 18.0, 17.0, 16.0, 15.0, 14.0, 13.0, 12.0, 11.0, 10.0, 9.0, 8.0, 7.0, 6.0, 5.0, 4.0, 3.0, 2.0, 1.0, -5.5285, -5.952, -6.2575, -6.4545, -7.1808, -7.1808, -7.3395, -7.3967, -7.2612, -8.8184, -8.8396, -8.867, -8.8697, -8.8694, -8.8728, -8.8768, -8.8804, -8.8805, -8.8806, -8.8812, -8.8807, -5.7061, -5.3925, -6.4055, -6.554, -6.7039, -6.9027, -7.0308, -7.1768, -7.3102, -7.3701, -6.9918, -8.2295, -7.106, -8.7423, -8.8056, -8.8356, -8.8362, -8.8373, -8.8556, -8.8588, -8.8515, -8.7153, -6.2803, -5.769, -6.6025, -6.645, -6.0218, -6.8811, -7.0863, -7.1344, -6.5832, -7.3368, -7.5166, -7.755, -7.902, -8.0425, -8.1659, -8.7033, -8.7037, -8.8411, -8.8575, -8.865, -5.9187, -5.9469, -7.0316, -7.3219, -7.504, -6.958, -7.899, -8.8612, -8.8612, -8.8612, -8.8639, -8.8755, -8.874, -8.8775, -8.8784, -8.8783, -8.8805, -8.8818, -8.8818, -8.8818, -8.8793, -8.8795, -5.5482, -7.169, -7.3963, -7.4144, -7.6002, -8.8648, -8.8672, -8.8724, -8.876, -8.8773, -8.8789, -8.8789, -8.8786, -8.8804, -8.8804, -8.8804, -8.8809, -8.8816, -8.8817, -8.8822, -5.6082, -6.599, -6.8596, -7.2511, -7.2979, -8.4496, -8.8257, -8.8579, -8.8709, -8.8776, -8.8768, -8.8793, -8.8821, -8.8821, -8.8823, -8.8832, -8.8826, -8.8845, -8.8845, -8.8845, -8.8833, -8.881, -8.8844, -5.5178, -7.0961, -8.8742, -8.8774, -8.8764, -8.8779, -8.8779, -8.8765, -8.8767, -8.8784, -8.879, -8.8801, -8.8801, -8.8801, -8.8801, -8.8801, -8.8799, -8.8811, -8.8807, -8.8816, -8.8807, -5.825, -6.5332, -6.9302, -6.9952, -7.1101, -7.1449, -7.2829, -7.5362, -7.5473, -7.5641, -6.722, -8.6928, -8.7043, -8.7045, -8.8058, -8.8407, -8.8408, -8.8551, -8.8552, -8.8438, -8.8439, -5.8547, -6.5975, -7.3188, -7.5081, -6.6315, -6.5291, -6.8735, -8.7665, -8.8592, -8.8592, -8.8698, -8.8686, -8.8809, -8.8809, -8.8823, -8.8831, -8.8832, -8.8831, -8.883, -8.8838, -7.965, -8.8802, -8.7452, -8.6561, -8.8775, -8.8743, -8.8786, -8.1388, -8.1692, -8.1514, -8.4658, -6.916, -8.8086, -8.8538, -8.8631, -8.8646, -8.8652, -8.8671, -8.8687, -8.8687, -8.8687, -8.871, -8.8705, -8.8718, -8.8735, -8.8735, -8.8735, -8.8718, -8.4872, -8.4237, -8.6775, -8.7121, -8.586, -8.8025, -8.8023, -8.7504, -8.8315, -8.853, -8.8843, -8.8843, -8.8843, -8.8843, -8.8843, -8.8843, -8.8843, -8.8843, -8.8843, -8.8843, -8.8843, -8.8843, -8.8843, -8.8843, -8.8843, -8.8843, -8.8843, -8.8843, -8.8843, -8.8843, -8.8843, -8.8843, -8.8843, -8.8843, -8.8843, -8.8843, -8.8843, -8.8843, -8.8843, -8.8843, -8.8843, -8.8843, -8.8843, -8.8843, -8.8843, -8.8843, -8.8843, -8.8843, -8.8843, -8.8843, -8.8843, -8.8843, -8.8843, -8.8843, -8.8843, -8.8843, -8.8843, -8.8843, -8.8843, -8.8843, -8.8843, -8.8843, -8.8843, -8.8843, -8.8843, -8.8843, -8.8843, -8.8843, -8.8843, -8.8843, -8.8843, -8.8843, -8.8843, -8.8843, -8.8843, -8.8843, -8.8843, -8.8843, -8.8843, -8.8843, -8.8843, -8.8843, -8.8843, -8.8843, -8.8843, -8.8843, -8.8843, -8.8843, -8.8843, -8.8843, -8.8843, -8.8843, -8.8843, -8.8843, -8.8843, -8.8843, -8.8843, -8.8843, -8.8843, -8.8843, -8.8843, -8.8843, -8.8843, -8.8843, -8.8843, -8.8843, -8.8843, -8.8843, -8.8843, -8.8843, -8.8843, -8.8843, -8.8843, -8.8843, -8.8843, -8.8843, -8.8843, -8.8843, -8.8843, -8.8843, -8.8843, -8.8843, -8.8843, -8.8843, -8.8843, -8.8843, -8.8843, -8.8843, -8.8843, -8.8843, -8.8843, -8.8843, -8.8843, -8.8843, -8.8843, -8.8843, -8.8843, -8.8843, -8.8843, -8.8843, -8.8843, -8.8843, -8.8843, -8.8843, -8.8843, -8.8843, -8.8843, -8.8843, -8.8843, -8.8843, -8.8843, -8.8843, -8.8843, -8.8843, -8.8843, -8.8843, -8.8843, -8.8843, -8.8843, -8.8843, -8.8843, -8.8843, -8.8843, -8.8843, -8.8843, -8.8843, -8.8843, -8.8843, -8.8843, -8.8843, -8.8843, -8.8843, -8.8843, -8.8843, -8.8843, -8.8843, -8.8843, -8.8843, -8.8843, -8.8843, -8.8843, -8.8843, -8.8843, -8.8843, -8.8843, -8.8843, -8.8843, -8.8843, -8.8843, -8.8843, -8.8843, -8.8843, -8.8843, -8.8843, -8.8843, -8.8843, -8.8843, -8.8843, -8.8843, -8.8843, -8.8843, -8.8843, -8.8843, -8.8843, -8.8843, -8.8843, -8.8843, -8.8843, -8.8843, -8.8843, -8.8843, -8.8843, -8.8843, -8.8843, -8.8843, -8.8843, -8.8843, -8.8843, -8.8843, -8.8843, -8.8843, -8.8843, -8.8843, -8.8843, -8.8843, -8.8843, -8.8843, -8.8843, -8.8843, -8.8843, -8.8843, -8.8843, -8.8843, -8.8843, -8.8843, -8.8843, -8.8843, -8.8843, -8.8843, -8.8843, -8.8843, -8.8843, -8.8843, -8.8843, -8.8843, -8.8843, -8.8843, -8.8843, -8.8843, -8.8843, -8.8843, -8.8843, -8.8843, -8.8843, -8.8843, -8.8843, -8.8843, -8.8843, -8.8843, -8.8843, -8.8843, -8.8843, -8.8843, -8.8843, -8.8843, -8.8843, -8.8843, -8.8843, -8.8843, -8.8843, -8.8843, -8.8843, -8.8843, -8.8843, -8.8843, -8.8843, -8.8843, -8.8843, -8.8843, -8.8843, -8.8843, -8.8843, -8.8843, -8.8843, -8.8843, -8.8843, -8.8843, -8.8843, -8.8843, -8.8843, -8.8843, -8.8843, -8.8843, -8.8843, -8.8843, -8.8843, -8.8843, -8.8843, -8.8843, -8.8843, -8.8843, -8.8843, -8.8843, -8.8843, -8.8843, -8.8843, -8.8843, -8.8843, -8.8843, -8.8843, -8.8843, -8.8843, -8.8843, -8.8843, -8.8843, -8.8843, -8.8843, -8.8843, -8.8843, -8.8843, -8.8843, -8.8843, -8.8843, -8.8843, -8.8843, -8.8843, -8.8843, -8.8843, -8.8843, -8.8843, -8.8843, -8.8843, -8.8843, -8.8843, -8.8843, -8.8843, -8.8843, -8.8843, -8.8843, -8.8843, -8.8843, -8.8843, -8.8843, -8.8843, -8.8843, -8.8843, -8.8843, -8.8843, -8.8843, -8.8843, -8.8843, -8.8843, -8.8843, -8.8843, -8.8843, -8.8843, -8.8843, -8.8843, -8.8843, -8.8843, -8.8843, -8.8843, -8.8843, -8.8843, -8.8843, -8.8843, -8.8843, -8.8843, -8.8843, -8.8843, -8.8843, -8.8843, -8.8843, -8.8843, -8.8843, -8.8843, -8.8843, -8.8843, -8.8843, -8.8843, -8.8843, -8.8843, -8.8843, -8.8843, -8.8843, -8.8843, -8.8843, -8.8843, -8.8843, -8.8843, -8.8843, -8.8843, -8.8843, -8.8843, -8.8843, -8.8843, -8.8843, -8.8843, -8.8843, -8.8843, -8.8843, -8.8843, -8.8843, -8.8843, -8.8843, -8.8843, -8.8843, -8.8843, -8.8843, -8.8843, -8.8843, -8.8843, -8.8843, -8.8843, -8.8843, -8.8843, -8.8843, -8.8843, -8.8843, -8.8843, -8.8843, -8.8843, -8.8843, -8.8843, -8.8843, -8.8843, -8.8843, -8.8843, -8.8843, -8.8843, -8.8843, -8.8843, -8.8843, -8.8843, -8.8843, -8.8843, -8.8843, -8.8843, -8.8843, -8.8843, -8.8843, -8.8843, -8.8843, -8.8843, -8.8843, -8.8843, -8.8843, -8.8843, -8.8843, -8.8843, -8.8843, -8.8843, -8.8843, -8.8843, -8.8843, -8.8843, -8.8843, -8.8843, -8.8843, -8.8843, -8.8843, -8.8843, -8.8843, -8.8843, -8.8843, -8.8843, -8.8843, -8.8843, -8.8843, -8.8843, -8.8843, -8.8843, -8.8843, -8.8843, -8.8843, -8.8843, -8.8843, -8.8843, -8.8843, -8.8843, -8.8843, -8.8843, -8.8843, -8.8843, -8.8843, -8.8843, -8.8843, -8.8843, -8.8843, -8.8843, -8.8843, -8.8843, -8.8843, -8.8843, -8.8843, -8.8843, -8.8843, -8.8843, -8.8843, -8.8843, -8.8843, -8.8843, -8.8843, -8.8843, -8.8843, -8.8843, -8.8843, -8.8843, -8.8843, -8.8843, -8.8843, -8.8843, -8.8843, -8.8843, -8.8843, -8.8843, -8.8843, -8.8843, -8.8843, -8.8843, -8.8843, -8.8843, -8.8843, -8.8843, -8.8843, -8.8843, -8.8843, -8.8843, -8.8843, -8.8843, -8.8843, -8.8843, -8.8843, -8.8843, -8.8843, -8.8843, -8.8843, -8.8843, -8.8843, -8.8843, -8.8843, -8.8843, -8.8843, -8.8843, -8.8843, -8.8843, -8.8843, -8.8843, -8.8843, -8.8843, -8.8843, -8.8843, -8.8843, -8.8843, -8.8843, -8.8843, -8.8843, -8.8843, -8.8843, -8.8843, -8.8843, -8.8843, -8.8843, -8.8843, -8.8843, -8.8843, -8.8843, -8.8843, -8.8843, -8.8843, -8.8843, -8.8843, -8.8843, -8.8843, -8.8843, -8.8843, -8.8843, -8.8843, -8.8843, -8.8843, -8.8843, -8.8843, -8.8843, -8.8843, -8.8843, -8.8843, -8.8843, -8.8843, -8.8843, -8.8843, -8.8843, -8.8843, -8.8843, -8.8843, -8.8843, -8.8843, -8.8843, -8.8843, -8.8843, -8.8843, -8.8843, -8.8843, -8.8843, -8.8843, -8.8843, -8.8843, -8.8843, -8.8843, -8.8843, -8.8843, -8.8843, -8.8843, -8.8843, -8.8843, -8.8843, -8.8843, -8.8843, -8.8843, -8.8843, -8.8843, -8.8843, -8.8843, -8.8843, -8.8843, -8.8843, -8.8843, -8.8843, -8.8843, -8.8843, -8.8843, -8.8843, -8.8843, -8.8843, -8.8843, -8.8843, -8.8843, -8.8843, -8.8843, -8.8843, -8.8843, -8.8843, -8.8843, -8.8843, -8.8843, -8.8843, -8.8843, -8.8843, -8.8843, -8.8843, -8.8843, -8.8843, -8.8843, -8.8843, -8.8843, -8.8843, -8.8843, -8.8843, -8.8843, -8.8843, -8.8843, -8.8843, -8.8843, -8.8843, -8.8843, -8.8843, -8.8843, -8.8843, -8.8843, -8.8843, -8.8843, -8.8843, -8.8843, -8.8843, -8.8843, -8.8843, -8.8843, -8.8843, -8.8843, -8.8843, -8.8843, -8.8843, -8.8843, -8.8843, -8.8843, -8.8843, -8.8843, -8.8843, -8.8843, -8.8843, -8.8843, -8.8843, -8.8843, -8.8843, -8.8843, -8.8843, -8.8843, -8.8843, -8.8843, -8.8843, -8.8843, -8.8843, -8.8843, -8.8843, -8.8843, -8.8843, -8.8843, -8.8843, -8.8843, -8.8843, -8.8843, -8.8843, -8.8843, -8.8843, -8.8843, -8.8843, -8.8843, -8.8843, -8.8843, -8.8843, -8.8843, -8.8843, -8.8843, -8.8843, -8.8843, -8.8843, -8.8843, -8.8843, -8.8843, -8.8843, -8.8843], \"loglift\": [20.0, 19.0, 18.0, 17.0, 16.0, 15.0, 14.0, 13.0, 12.0, 11.0, 10.0, 9.0, 8.0, 7.0, 6.0, 5.0, 4.0, 3.0, 2.0, 1.0, 1.7403, 1.6552, 1.5742, 1.5118, 1.2035, 1.2035, 1.1188, 1.0868, 0.7489, 0.0629, 0.0447, 0.0218, 0.0195, 0.0177, 0.0168, 0.0133, 0.0103, 0.0102, 0.0098, 0.0092, 0.0091, 1.7647, 1.7595, 1.5734, 1.5185, 1.4605, 1.3728, 1.3119, 1.2362, 1.1621, 1.1281, 0.6027, 0.543, 0.2882, 0.1246, 0.0743, 0.0481, 0.0464, 0.0458, 0.031, 0.0287, 0.0277, -0.0146, 1.7454, 1.6252, 1.6109, 1.5921, 1.5727, 1.4765, 1.3641, 1.3362, 1.2588, 1.2134, 1.0959, 0.9293, 0.8179, 0.7132, 0.6158, 0.1667, 0.1664, 0.0451, 0.0305, 0.0245, 1.9729, 1.9634, 1.4537, 1.2687, 1.1429, 1.0522, 0.8475, 0.0291, 0.0291, 0.0291, 0.0262, 0.0162, 0.0161, 0.0143, 0.0135, 0.0125, 0.0115, 0.0105, 0.0105, 0.0105, 0.0077, 0.0057, 2.2272, 1.4268, 1.2653, 1.2519, 1.1119, 0.0265, 0.0243, 0.0194, 0.016, 0.015, 0.0134, 0.0134, 0.0133, 0.0121, 0.0121, 0.0121, 0.0115, 0.011, 0.0109, 0.01, 2.2725, 1.8194, 1.6602, 1.392, 0.7123, 0.4064, 0.0594, 0.0331, 0.0209, 0.0147, 0.0143, 0.0131, 0.0105, 0.0105, 0.0101, 0.0091, 0.009, 0.0083, 0.0083, 0.0083, 0.0081, 0.0061, 0.0068, 2.3278, 1.5122, 0.0176, 0.015, 0.0149, 0.0146, 0.0146, 0.0145, 0.0144, 0.0138, 0.0135, 0.0125, 0.0125, 0.0125, 0.0125, 0.0125, 0.0119, 0.0116, 0.0114, 0.0107, 0.01, 2.243, 1.891, 1.6385, 1.5948, 1.514, 1.487, 1.3865, 1.1916, 1.1825, 1.1691, 1.12, 0.1866, 0.1759, 0.1758, 0.0734, 0.0489, 0.0488, 0.0356, 0.0356, 0.023, -0.1239, 2.4036, 1.9603, 1.3819, 1.2592, 1.2105, 0.8651, 0.2784, 0.1207, 0.0326, 0.0325, 0.0223, 0.0222, 0.0113, 0.0105, 0.0103, 0.0096, 0.0095, 0.0095, 0.0094, 0.009, -0.3705, -0.001, -0.6727, -1.1852, -0.2457, -0.5988, -0.408, 0.7401, 0.7091, 0.5492, 0.4206, 0.2359, 0.0824, 0.0378, 0.0292, 0.028, 0.0271, 0.0246, 0.0243, 0.0243, 0.0243, 0.0218, 0.0218, 0.021, 0.0196, 0.0196, 0.0196, 0.0193, -0.5083, -0.8292, -0.4642, -0.5478, -1.1152, -0.527, -0.5652, -1.3562, -0.9895, -0.4954, 0.0089, 0.0089, 0.0089, 0.0089, 0.0089, 0.0089, 0.0089, 0.0089, 0.0089, 0.0089, 0.0089, 0.0089, 0.0089, 0.0089, 0.0089, 0.0089, 0.0089, 0.0089, 0.0089, 0.0089, 0.0089, 0.0089, 0.0089, 0.0089, 0.0089, 0.0084, 0.0089, -0.0051, 0.0089, 0.0078, 0.0089, 0.0089, 0.0088, 0.0086, 0.0086, 0.0086, 0.0089, 0.0089, 0.0089, 0.0089, 0.0089, 0.0089, 0.0089, 0.0089, 0.0089, 0.0089, 0.0089, 0.0089, 0.0089, 0.0089, 0.0089, 0.0089, 0.0089, 0.0089, 0.0089, 0.0089, 0.0089, 0.0089, 0.0089, 0.0089, 0.0089, 0.0084, 0.0089, -0.0051, 0.0089, 0.0078, 0.0089, 0.0089, 0.0088, 0.0086, 0.0086, 0.0086, 0.0089, 0.0089, 0.0089, 0.0089, 0.0089, 0.0089, 0.0089, 0.0089, 0.0089, 0.0089, 0.0089, 0.0089, 0.0089, 0.0089, 0.0089, 0.0089, 0.0089, 0.0089, 0.0089, 0.0089, 0.0089, 0.0089, 0.0089, 0.0089, 0.0089, 0.0084, 0.0089, -0.0051, 0.0089, 0.0078, 0.0089, 0.0089, 0.0088, 0.0086, 0.0086, 0.0086, 0.0089, 0.0089, 0.0089, 0.0089, 0.0089, 0.0089, 0.0089, 0.0089, 0.0089, 0.0089, 0.0089, 0.0089, 0.0089, 0.0089, 0.0089, 0.0089, 0.0089, 0.0089, 0.0089, 0.0089, 0.0089, 0.0089, 0.0089, 0.0089, 0.0089, 0.0084, 0.0089, -0.0051, 0.0089, 0.0078, 0.0089, 0.0089, 0.0088, 0.0086, 0.0086, 0.0086, 0.0089, 0.0089, 0.0089, 0.0089, 0.0089, 0.0089, 0.0089, 0.0089, 0.0089, 0.0089, 0.0089, 0.0089, 0.0089, 0.0089, 0.0089, 0.0089, 0.0089, 0.0089, 0.0089, 0.0089, 0.0089, 0.0089, 0.0089, 0.0089, 0.0089, 0.0084, 0.0089, -0.0051, 0.0089, 0.0078, 0.0089, 0.0089, 0.0088, 0.0086, 0.0086, 0.0086, 0.0089, 0.0089, 0.0089, 0.0089, 0.0089, 0.0089, 0.0089, 0.0089, 0.0089, 0.0089, 0.0089, 0.0089, 0.0089, 0.0089, 0.0089, 0.0089, 0.0089, 0.0089, 0.0089, 0.0089, 0.0089, 0.0089, 0.0089, 0.0089, 0.0089, 0.0084, 0.0089, -0.0051, 0.0089, 0.0078, 0.0089, 0.0089, 0.0088, 0.0086, 0.0086, 0.0086, 0.0089, 0.0089, 0.0089, 0.0089, 0.0089, 0.0089, 0.0089, 0.0089, 0.0089, 0.0089, 0.0089, 0.0089, 0.0089, 0.0089, 0.0089, 0.0089, 0.0089, 0.0089, 0.0089, 0.0089, 0.0089, 0.0089, 0.0089, 0.0089, 0.0089, 0.0084, 0.0089, -0.0051, 0.0089, 0.0078, 0.0089, 0.0089, 0.0088, 0.0086, 0.0086, 0.0086, 0.0089, 0.0089, 0.0089, 0.0089, 0.0089, 0.0089, 0.0089, 0.0089, 0.0089, 0.0089, 0.0089, 0.0089, 0.0089, 0.0089, 0.0089, 0.0089, 0.0089, 0.0089, 0.0089, 0.0089, 0.0089, 0.0089, 0.0089, 0.0089, 0.0089, 0.0084, 0.0089, -0.0051, 0.0089, 0.0078, 0.0089, 0.0089, 0.0088, 0.0086, 0.0086, 0.0086, 0.0089, 0.0089, 0.0089, 0.0089, 0.0089, 0.0089, 0.0089, 0.0089, 0.0089, 0.0089, 0.0089, 0.0089, 0.0089, 0.0089, 0.0089, 0.0089, 0.0089, 0.0089, 0.0089, 0.0089, 0.0089, 0.0089, 0.0089, 0.0089, 0.0089, 0.0084, 0.0089, -0.0051, 0.0089, 0.0078, 0.0089, 0.0089, 0.0088, 0.0086, 0.0086, 0.0086, 0.0089, 0.0089, 0.0089, 0.0089, 0.0089, 0.0089, 0.0089, 0.0089, 0.0089, 0.0089, 0.0089, 0.0089, 0.0089, 0.0089, 0.0089, 0.0089, 0.0089, 0.0089, 0.0089, 0.0089, 0.0089, 0.0089, 0.0089, 0.0089, 0.0089, 0.0084, 0.0089, -0.0051, 0.0089, 0.0078, 0.0089, 0.0089, 0.0088, 0.0086, 0.0086, 0.0086, 0.0089, 0.0089, 0.0089, 0.0089, 0.0089, 0.0089, 0.0089, 0.0089, 0.0089, 0.0089, 0.0089, 0.0089, 0.0089, 0.0089, 0.0089, 0.0089, 0.0089, 0.0089, 0.0089, 0.0089, 0.0089, 0.0089, 0.0089, 0.0089, 0.0089, 0.0084, 0.0089, -0.0051, 0.0089, 0.0078, 0.0089, 0.0089, 0.0088, 0.0086, 0.0086, 0.0086, 0.0089, 0.0089, 0.0089, 0.0089, 0.0089, 0.0089, 0.0089, 0.0089, 0.0089, 0.0089, 0.0089, 0.0089, 0.0089, 0.0089, 0.0089, 0.0089, 0.0089, 0.0089, 0.0089, 0.0089, 0.0089, 0.0089, 0.0089, 0.0089, 0.0089, 0.0084, 0.0089, -0.0051, 0.0089, 0.0078, 0.0089, 0.0089, 0.0088, 0.0086, 0.0086, 0.0086, 0.0089, 0.0089, 0.0089, 0.0089, 0.0089, 0.0089, 0.0089, 0.0089, 0.0089, 0.0089, 0.0089, 0.0089, 0.0089, 0.0089, 0.0089, 0.0089, 0.0089, 0.0089, 0.0089, 0.0089, 0.0089, 0.0089, 0.0089, 0.0089, 0.0089, 0.0084, 0.0089, -0.0051, 0.0089, 0.0078, 0.0089, 0.0089, 0.0088, 0.0086, 0.0086, 0.0086, 0.0089, 0.0089, 0.0089, 0.0089, 0.0089, 0.0089, 0.0089, 0.0089, 0.0089, 0.0089, 0.0089, 0.0089, 0.0089, 0.0089, 0.0089, 0.0089, 0.0089, 0.0089, 0.0089, 0.0089, 0.0089, 0.0089, 0.0089, 0.0089, 0.0089, 0.0084, 0.0089, -0.0051, 0.0089, 0.0078, 0.0089, 0.0089, 0.0088, 0.0086, 0.0086, 0.0086, 0.0089, 0.0089, 0.0089, 0.0089, 0.0089, 0.0089, 0.0089, 0.0089, 0.0089, 0.0089, 0.0089, 0.0089, 0.0089, 0.0089, 0.0089, 0.0089, 0.0089, 0.0089, 0.0089, 0.0089, 0.0089, 0.0089, 0.0089, 0.0089, 0.0089, 0.0084, 0.0089, -0.0051, 0.0089, 0.0078, 0.0089, 0.0089, 0.0088, 0.0086, 0.0086, 0.0086, 0.0089, 0.0089, 0.0089, 0.0089, 0.0089, 0.0089, 0.0089, 0.0089, 0.0089, 0.0089, 0.0089, 0.0089, 0.0089, 0.0089, 0.0089, 0.0089, 0.0089, 0.0089, 0.0089, 0.0089, 0.0089, 0.0089, 0.0089, 0.0089, 0.0089, 0.0084, 0.0089, -0.0051, 0.0089, 0.0078, 0.0089, 0.0089, 0.0088, 0.0086, 0.0086, 0.0086, 0.0089, 0.0089, 0.0089, 0.0089, 0.0089, 0.0089, 0.0089, 0.0089, 0.0089, 0.0089, 0.0089, 0.0089, 0.0089, 0.0089, 0.0089, 0.0089, 0.0089, 0.0089, 0.0089, 0.0089, 0.0089, 0.0089, 0.0089, 0.0089, 0.0089, 0.0084, 0.0089, -0.0051, 0.0089, 0.0078, 0.0089, 0.0089, 0.0088, 0.0086, 0.0086, 0.0086, 0.0089, 0.0089, 0.0089, 0.0089, 0.0089, 0.0089, 0.0089, 0.0089, 0.0089, 0.0089, 0.0089, 0.0089, 0.0089, 0.0089, 0.0089, 0.0089, 0.0089, 0.0089, 0.0089, 0.0089, 0.0089, 0.0089, 0.0089, 0.0089, 0.0089, 0.0084, 0.0089, -0.0051, 0.0089, 0.0078, 0.0089, 0.0089, 0.0088, 0.0086, 0.0086, 0.0086, 0.0089, 0.0089, 0.0089, 0.0089, 0.0089, 0.0089, 0.0089, 0.0089, 0.0089, 0.0089, 0.0089, 0.0089, 0.0089, 0.0089, 0.0089, 0.0089, 0.0089, 0.0089, 0.0089, 0.0089, 0.0089, 0.0089, 0.0089, 0.0089, 0.0089, 0.0084, 0.0089, -0.0051, 0.0089, 0.0078, 0.0089, 0.0089, 0.0088, 0.0086, 0.0086, 0.0086, 0.0089, 0.0089, 0.0089, 0.0089, 0.0089, 0.0089, 0.0089, 0.0089, 0.0089, 0.0089, 0.0089, 0.0089, 0.0089, 0.0089, 0.0089, 0.0089, 0.0089, 0.0089, 0.0089, 0.0089, 0.0089, 0.0089, 0.0089, 0.0089, 0.0089, 0.0084, 0.0089, -0.0051, 0.0089, 0.0078, 0.0089, 0.0089, 0.0088, 0.0086, 0.0086, 0.0086]}, \"token.table\": {\"Topic\": [], \"Freq\": [], \"Term\": []}, \"R\": 20, \"lambda.step\": 0.01, \"plot.opts\": {\"xlab\": \"PC1\", \"ylab\": \"PC2\"}, \"topic.order\": [7, 20, 26, 17, 6, 12, 29, 2, 4, 11, 1, 23, 22, 25, 24, 27, 28, 21, 16, 19, 18, 15, 14, 13, 10, 9, 8, 5, 3, 30]};\n",
       "\n",
       "function LDAvis_load_lib(url, callback){\n",
       "  var s = document.createElement('script');\n",
       "  s.src = url;\n",
       "  s.async = true;\n",
       "  s.onreadystatechange = s.onload = callback;\n",
       "  s.onerror = function(){console.warn(\"failed to load library \" + url);};\n",
       "  document.getElementsByTagName(\"head\")[0].appendChild(s);\n",
       "}\n",
       "\n",
       "if(typeof(LDAvis) !== \"undefined\"){\n",
       "   // already loaded: just create the visualization\n",
       "   !function(LDAvis){\n",
       "       new LDAvis(\"#\" + \"ldavis_el651397513940778087521586948\", ldavis_el651397513940778087521586948_data);\n",
       "   }(LDAvis);\n",
       "}else if(typeof define === \"function\" && define.amd){\n",
       "   // require.js is available: use it to load d3/LDAvis\n",
       "   require.config({paths: {d3: \"https://d3js.org/d3.v5\"}});\n",
       "   require([\"d3\"], function(d3){\n",
       "      window.d3 = d3;\n",
       "      LDAvis_load_lib(\"https://cdn.jsdelivr.net/gh/bmabey/pyLDAvis@3.4.0/pyLDAvis/js/ldavis.v3.0.0.js\", function(){\n",
       "        new LDAvis(\"#\" + \"ldavis_el651397513940778087521586948\", ldavis_el651397513940778087521586948_data);\n",
       "      });\n",
       "    });\n",
       "}else{\n",
       "    // require.js not available: dynamically load d3 & LDAvis\n",
       "    LDAvis_load_lib(\"https://d3js.org/d3.v5.js\", function(){\n",
       "         LDAvis_load_lib(\"https://cdn.jsdelivr.net/gh/bmabey/pyLDAvis@3.4.0/pyLDAvis/js/ldavis.v3.0.0.js\", function(){\n",
       "                 new LDAvis(\"#\" + \"ldavis_el651397513940778087521586948\", ldavis_el651397513940778087521586948_data);\n",
       "            })\n",
       "         });\n",
       "}\n",
       "</script>"
      ],
      "text/plain": [
       "PreparedData(topic_coordinates=              x         y  topics  cluster       Freq\n",
       "topic                                                \n",
       "6     -0.003195  0.001465       1        1  14.592732\n",
       "19     0.001556 -0.004017       2        1  13.478287\n",
       "25     0.003552  0.001087       3        1  10.918995\n",
       "16     0.000731  0.001849       4        1   9.271769\n",
       "5      0.001032 -0.000677       5        1   7.523401\n",
       "11    -0.000540 -0.001615       6        1   6.817320\n",
       "28    -0.000711  0.001257       7        1   6.555847\n",
       "1      0.002114  0.000442       8        1   6.236180\n",
       "3     -0.001614 -0.001364       9        1   4.456246\n",
       "10    -0.000307 -0.000058      10        1   1.288120\n",
       "0     -0.000132  0.000084      11        1   0.943055\n",
       "22    -0.000131  0.000078      12        1   0.943055\n",
       "21    -0.000132  0.000079      13        1   0.943055\n",
       "24    -0.000130  0.000081      14        1   0.943055\n",
       "23    -0.000131  0.000085      15        1   0.943055\n",
       "26    -0.000127  0.000078      16        1   0.943055\n",
       "27    -0.000129  0.000078      17        1   0.943055\n",
       "20    -0.000133  0.000084      18        1   0.943055\n",
       "15    -0.000132  0.000081      19        1   0.943055\n",
       "18    -0.000131  0.000085      20        1   0.943055\n",
       "17    -0.000131  0.000085      21        1   0.943055\n",
       "14    -0.000132  0.000085      22        1   0.943055\n",
       "13    -0.000133  0.000086      23        1   0.943055\n",
       "12    -0.000128  0.000078      24        1   0.943055\n",
       "9     -0.000128  0.000083      25        1   0.943055\n",
       "8     -0.000132  0.000079      26        1   0.943055\n",
       "7     -0.000130  0.000076      27        1   0.943055\n",
       "4     -0.000132  0.000081      28        1   0.943055\n",
       "2     -0.000132  0.000082      29        1   0.943055\n",
       "29    -0.000132  0.000083      30        1   0.943055, topic_info=         Term      Freq     Total Category  logprob  loglift\n",
       "501    integr  0.000000  0.000000  Default  20.0000  20.0000\n",
       "5497  tolstoy  0.000000  0.000000  Default  19.0000  19.0000\n",
       "6027    kafka  0.000000  0.000000  Default  18.0000  18.0000\n",
       "7137  tolkien  0.000000  0.000000  Default  17.0000  17.0000\n",
       "2564    munch  0.000000  0.000000  Default  16.0000  16.0000\n",
       "...       ...       ...       ...      ...      ...      ...\n",
       "15       1040  0.000152  0.015968  Topic30  -8.8843   0.0089\n",
       "16         11  0.000152  0.015969  Topic30  -8.8843   0.0088\n",
       "17         12  0.000152  0.015972  Topic30  -8.8843   0.0086\n",
       "18         13  0.000152  0.015972  Topic30  -8.8843   0.0086\n",
       "19         14  0.000152  0.015973  Topic30  -8.8843   0.0086\n",
       "\n",
       "[968 rows x 6 columns], token_table=Empty DataFrame\n",
       "Columns: [Topic, Freq, Term]\n",
       "Index: [], R=20, lambda_step=0.01, plot_opts={'xlab': 'PC1', 'ylab': 'PC2'}, topic_order=[7, 20, 26, 17, 6, 12, 29, 2, 4, 11, 1, 23, 22, 25, 24, 27, 28, 21, 16, 19, 18, 15, 14, 13, 10, 9, 8, 5, 3, 30])"
      ]
     },
     "execution_count": 23,
     "metadata": {},
     "output_type": "execute_result"
    }
   ],
   "source": [
    "pyLDAvis.enable_notebook()\n",
    "\n",
    "vis = pyLDAvis.gensim.prepare(\n",
    "    lda_model, \n",
    "    tfidf_corpus, \n",
    "    dictionary, \n",
    "    mds=\"mmds\", \n",
    "    R=20  # liczba tokenów branych pod uwagę podczas analizy tytułu dla wybranego artykułu\n",
    ")\n",
    "\n",
    "vis"
   ]
  },
  {
   "cell_type": "markdown",
   "id": "713db5c1",
   "metadata": {},
   "source": [
    "Każdy ze znajdujących się po lewej stronie okręgów reprezentuje jakiś potencjalny tytuł (zbiór tokenów, z których ten tytuł można zbudować). Chcieliśmy znaleźć 30 propozycji tytułów. Algorytmowi udało się znaleźć 8 (co ma sens, ponieważ wczytaliśmy z wiki tylko 11 artykułów). Niektóre z nich (np. 3 i 4) nakładają się. Im bardziej tytuły będą od siebie odseparowane, tym lepiej. Po kliknięciu w wybraną propozycję (okrąg) po prawej stronie zobaczymy słowa powiązane z tym tytułem i ich wagi.\n",
    "\n",
    "## Zadanie\n",
    "\n",
    "Wynik mógłby być lepszy. Pierwszą rzeczą, którą napewno warto zrobić pod kątem poprawienia wyniku jest usunięcie tokenów, które nie niosą ze sobą wiele znaczenia, a nie było ich na liście stopwords. W przypadku propozycji tytułu numer 1 będą to napewno tokeny takie jak 'f', 'x', 'g', 'b', '`', ... Warto też pewnie zmniejszyć liczbę słów, z których próbujemy zbudować tytuł. Zostawmy to ćwiczenie do samodzielnego rozwiązania, bo jest ono dobrym sposobem na utrwalenie materiału.\n"
   ]
  },
  {
   "cell_type": "code",
   "execution_count": 28,
   "id": "7ccea69f",
   "metadata": {
    "ExecuteTime": {
     "end_time": "2023-07-29T12:21:34.406405Z",
     "start_time": "2023-07-29T12:21:34.400911Z"
    }
   },
   "outputs": [
    {
     "name": "stdout",
     "output_type": "stream",
     "text": [
      "['mathemat', 'integr', 'continu', 'analog', 'sum', 'use', 'calcul', 'area', 'volum', 'gener', 'integr', 'process', 'comput', 'integr', 'one', 'two', 'fundament', 'oper', 'calculu', 'differenti', 'integr', 'start', 'method', 'solv', 'problem', 'mathemat', 'physic', 'find', 'area', 'curv', 'determin', 'displac', 'veloc', 'today', 'integr', 'use', 'wide', 'varieti', 'scientif', 'field', 'integr', 'enumer', 'call', 'definit', 'integr', 'interpret', 'sign', 'area', 'region', 'plane', 'bound', 'graph', 'given', 'function', 'two', 'point', 'real', 'line', 'convent', 'area', 'horizont', 'axi', 'plane', 'posit', 'area', 'neg', 'integr', 'also', 'refer', 'concept', 'antideriv', 'function', 'whose', 'deriv', 'given', 'function', 'case', 'also', 'call', 'indefinit', 'integr', 'fundament', 'theorem', 'calculu', 'relat', 'definit', 'integr', 'differenti', 'provid', 'method', 'comput', 'definit', 'integr', 'function', 'antideriv', 'known', 'differenti', 'integr', 'invers', 'oper', 'although', 'method', 'calcul', 'area', 'volum', 'date', 'ancient', 'greek', 'mathemat', 'principl', 'integr', 'formul', 'independ', 'isaac', 'newton', 'gottfri', 'wilhelm', 'leibniz', 'late', '17th', 'centuri', 'thought', 'area', 'curv', 'infinit', 'sum', 'rectangl', 'infinitesim', 'width', 'bernhard', 'riemann', 'later', 'gave', 'rigor', 'definit', 'integr', 'base', 'limit', 'procedur', 'approxim', 'area', 'curvilinear', 'region', 'break', 'region', 'infinitesim', 'thin', 'vertic', 'slab', 'earli', '20th', 'centuri', 'henri', 'lebesgu', 'gener', 'riemann', \"'s\", 'formul', 'introduc', 'refer', 'lebesgu', 'integr', 'robust', 'riemann', \"'s\", 'sens', 'wider', 'class', 'function', 'lebesgue-integr', 'integr', 'may', 'gener', 'depend', 'type', 'function', 'well', 'domain', 'integr', 'perform', 'exampl', 'line', 'integr', 'defin', 'function', 'two', 'variabl', 'interv', 'integr', 'replac', 'curv', 'connect', 'two', 'endpoint', 'interv', 'surfac', 'integr', 'curv', 'replac', 'piec', 'surfac', 'three-dimension', 'space', 'first', 'document', 'systemat', 'techniqu', 'capabl', 'determin', 'integr', 'method', 'exhaust', 'ancient', 'greek', 'astronom', 'eudoxu', 'ca', '370', 'bc', 'sought', 'find', 'area', 'volum', 'break', 'infinit', 'number', 'divis', 'area', 'volum', 'known', '1', 'method', 'develop', 'employ', 'archimed', '3rd', 'centuri', 'bc', 'use', 'calcul', 'area', 'circl', 'surfac', 'area', 'volum', 'sphere', 'area', 'ellips', 'area', 'parabola', 'volum', 'segment', 'paraboloid', 'revolut', 'volum', 'segment', 'hyperboloid', 'revolut', 'area', 'spiral', '2', 'similar', 'method', 'independ', 'develop', 'china', 'around', '3rd', 'centuri', 'ad', 'liu', 'hui', 'use', 'find', 'area', 'circl', 'method', 'later', 'use', '5th', 'centuri', 'chines', 'father-and-son', 'mathematician', 'zu', 'chongzhi', 'zu', 'geng', 'find', 'volum', 'sphere', '3', 'middl', 'east', 'hasan', 'ibn', 'al-haytham', 'latin', 'alhazen', 'c.', '965', '–', 'c.', '1040', 'ad', 'deriv', 'formula', 'sum', 'fourth', 'power', '4', 'use', 'result', 'carri', 'would', 'call', 'integr', 'function', 'formula', 'sum', 'integr', 'squar', 'fourth', 'power', 'allow', 'calcul', 'volum', 'paraboloid', '5', 'next', 'signific', 'advanc', 'integr', 'calculu', 'begin', 'appear', '17th', 'centuri', 'time', 'work', 'cavalieri', 'method', 'indivis', 'work', 'fermat', 'began', 'lay', 'foundat', 'modern', 'calculu', '6', 'cavalieri', 'comput', 'integr', 'xn', 'degre', 'n', '9', 'cavalieri', \"'s\", 'quadratur', 'formula', '7', 'case', 'n', '−1', 'requir', 'invent', 'function', 'hyperbol', 'logarithm', 'achiev', 'quadratur', 'hyperbola', '1647.', 'step', 'made', 'earli', '17th', 'centuri', 'barrow', 'torricelli', 'provid', 'first', 'hint', 'connect', 'integr', 'differenti', 'barrow', 'provid', 'first', 'proof', 'fundament', 'theorem', 'calculu', '8', 'walli', 'gener', 'cavalieri', \"'s\", 'method', 'comput', 'integr', 'x', 'gener', 'power', 'includ', 'neg', 'power', 'fraction', 'power', '9', 'major', 'advanc', 'integr', 'came', '17th', 'centuri', 'independ', 'discoveri', 'fundament', 'theorem', 'calculu', 'leibniz', 'newton', '10', 'theorem', 'demonstr', 'connect', 'integr', 'differenti', 'connect', 'combin', 'compar', 'eas', 'differenti', 'exploit', 'calcul', 'integr', 'particular', 'fundament', 'theorem', 'calculu', 'allow', 'one', 'solv', 'much', 'broader', 'class', 'problem', 'equal', 'import', 'comprehens', 'mathemat', 'framework', 'leibniz', 'newton', 'develop', 'given', 'name', 'infinitesim', 'calculu', 'allow', 'precis', 'analysi', 'function', 'within', 'continu', 'domain', 'framework', 'eventu', 'becam', 'modern', 'calculu', 'whose', 'notat', 'integr', 'drawn', 'directli', 'work', 'leibniz', 'newton', 'leibniz', 'provid', 'systemat', 'approach', 'integr', 'work', 'lack', 'degre', 'rigour', 'bishop', 'berkeley', 'memor', 'attack', 'vanish', 'increment', 'use', 'newton', 'call']\n"
     ]
    }
   ],
   "source": [
    "print(cleaned_articles[0][:500])"
   ]
  },
  {
   "cell_type": "code",
   "execution_count": 38,
   "id": "796b385d",
   "metadata": {
    "ExecuteTime": {
     "end_time": "2023-07-29T13:21:40.293680Z",
     "start_time": "2023-07-29T13:21:40.249946Z"
    }
   },
   "outputs": [
    {
     "name": "stdout",
     "output_type": "stream",
     "text": [
      "['mathemat', 'integr', 'continu', 'analog', 'sum', 'use', 'calcul', 'area', 'volum', 'gener', 'integr', 'process', 'comput', 'integr', 'one', 'two', 'fundament', 'oper', 'calculu', 'differenti', 'integr', 'start', 'method', 'solv', 'problem', 'mathemat', 'physic', 'find', 'area', 'curv', 'determin', 'displac', 'veloc', 'today', 'integr', 'use', 'wide', 'varieti', 'scientif', 'field', 'integr', 'enumer', 'call', 'definit', 'integr', 'interpret', 'sign', 'area', 'region', 'plane', 'bound', 'graph', 'given', 'function', 'two', 'point', 'real', 'line', 'convent', 'area', 'horizont', 'axi', 'plane', 'posit', 'area', 'neg', 'integr', 'also', 'refer', 'concept', 'antideriv', 'function', 'whose', 'deriv', 'given', 'function', 'case', 'also', 'call', 'indefinit', 'integr', 'fundament', 'theorem', 'calculu', 'relat', 'definit', 'integr', 'differenti', 'provid', 'method', 'comput', 'definit', 'integr', 'function', 'antideriv', 'known', 'differenti', 'integr', 'invers', 'oper', 'although', 'method', 'calcul', 'area', 'volum', 'date', 'ancient', 'greek', 'mathemat', 'principl', 'integr', 'formul', 'independ', 'isaac', 'newton', 'gottfri', 'wilhelm', 'leibniz', 'late', '17th', 'centuri', 'thought', 'area', 'curv', 'infinit', 'sum', 'rectangl', 'infinitesim', 'width', 'bernhard', 'riemann', 'later', 'gave', 'rigor', 'definit', 'integr', 'base', 'limit', 'procedur', 'approxim', 'area', 'curvilinear', 'region', 'break', 'region', 'infinitesim', 'thin', 'vertic', 'slab', 'earli', '20th', 'centuri', 'henri', 'lebesgu', 'gener', 'riemann', 'formul', 'introduc', 'refer', 'lebesgu', 'integr', 'robust', 'riemann', 'sens', 'wider', 'class', 'function', 'lebesgue-integr', 'integr', 'may', 'gener', 'depend', 'type', 'function', 'well', 'domain', 'integr', 'perform', 'exampl', 'line', 'integr', 'defin', 'function', 'two', 'variabl', 'interv', 'integr', 'replac', 'curv', 'connect', 'two', 'endpoint', 'interv', 'surfac', 'integr', 'curv', 'replac', 'piec', 'surfac', 'three-dimension', 'space', 'first', 'document', 'systemat', 'techniqu', 'capabl', 'determin', 'integr', 'method', 'exhaust', 'ancient', 'greek', 'astronom', 'eudoxu', '370', 'sought', 'find', 'area', 'volum', 'break', 'infinit', 'number', 'divis', 'area', 'volum', 'known', 'method', 'develop', 'employ', 'archimed', '3rd', 'centuri', 'use', 'calcul', 'area', 'circl', 'surfac', 'area', 'volum', 'sphere', 'area', 'ellips', 'area', 'parabola', 'volum', 'segment', 'paraboloid', 'revolut', 'volum', 'segment', 'hyperboloid', 'revolut', 'area', 'spiral', 'similar', 'method', 'independ', 'develop', 'china', 'around', '3rd', 'centuri', 'liu', 'hui', 'use', 'find', 'area', 'circl', 'method', 'later', 'use', '5th', 'centuri', 'chines', 'father-and-son', 'mathematician', 'chongzhi', 'geng', 'find', 'volum', 'sphere', 'middl', 'east', 'hasan', 'ibn', 'latin', 'alhazen', '965', '1040', 'deriv', 'formula', 'sum', 'fourth', 'power', 'use', 'result', 'carri', 'would', 'call', 'integr', 'function', 'formula', 'sum', 'integr', 'squar', 'fourth', 'power', 'allow', 'calcul', 'volum', 'paraboloid', 'next', 'signific', 'advanc', 'integr', 'calculu', 'begin', 'appear', '17th', 'centuri', 'time', 'work', 'cavalieri', 'method', 'indivis', 'work', 'fermat', 'began', 'lay', 'foundat', 'modern', 'calculu', 'cavalieri', 'comput', 'integr', 'degre', 'cavalieri', 'quadratur', 'formula', 'case', 'requir', 'invent', 'function', 'hyperbol', 'logarithm', 'achiev', 'quadratur', 'hyperbola', '1647.', 'step', 'made', 'earli', '17th', 'centuri', 'barrow', 'torricelli', 'provid', 'first', 'hint', 'connect', 'integr', 'differenti', 'barrow', 'provid', 'first', 'proof', 'fundament', 'theorem', 'calculu', 'walli', 'gener', 'cavalieri', 'method', 'comput', 'integr', 'gener', 'power', 'includ', 'neg', 'power', 'fraction', 'power', 'major', 'advanc', 'integr', 'came', '17th', 'centuri', 'independ', 'discoveri', 'fundament', 'theorem', 'calculu', 'leibniz', 'newton', 'theorem', 'demonstr', 'connect', 'integr', 'differenti', 'connect', 'combin', 'compar', 'eas', 'differenti', 'exploit', 'calcul', 'integr', 'particular', 'fundament', 'theorem', 'calculu', 'allow', 'one', 'solv', 'much', 'broader', 'class', 'problem', 'equal', 'import', 'comprehens', 'mathemat', 'framework', 'leibniz', 'newton', 'develop', 'given', 'name', 'infinitesim', 'calculu', 'allow', 'precis', 'analysi', 'function', 'within', 'continu', 'domain', 'framework', 'eventu', 'becam', 'modern', 'calculu', 'whose', 'notat', 'integr', 'drawn', 'directli', 'work', 'leibniz', 'newton', 'leibniz', 'provid', 'systemat', 'approach', 'integr', 'work', 'lack', 'degre', 'rigour', 'bishop', 'berkeley', 'memor', 'attack', 'vanish', 'increment', 'use', 'newton', 'call', 'ghost', 'depart', 'quantiti', 'calculu', 'acquir', 'firmer', 'foot', 'develop', 'limit', 'integr', 'first', 'rigor', 'formal', 'use', 'limit', 'riemann', 'although', 'bound', 'piecewis', 'continu', 'function', 'riemann-integr', 'bound', 'interv', 'subsequ', 'gener', 'function', 'considered—particularli', 'context', 'fourier', 'analysis—to', 'riemann', 'definit', 'appli', 'lebesgu', 'formul', 'differ', 'definit', 'integr', 'found', 'measur', 'theori', 'subfield', 'real', 'analysi', 'definit', 'integr', 'extend', 'riemann', 'lebesgu', 'approach', 'propos', 'approach', 'base', 'real', 'number', 'system', 'one', 'common', 'today', 'altern', 'approach', 'exist', 'definit', 'integr', 'standard', 'part', 'infinit', 'riemann', 'sum', 'base', 'hyperr', 'number', 'system', 'notat', 'indefinit', 'integr', 'introduc', 'gottfri', 'wilhelm', 'leibniz', '1675', 'adapt', 'integr', 'symbol', 'letter', 'long', 'stand', 'summa', 'written', 'ſumma', 'latin', 'sum', 'total', 'modern', 'notat', 'definit', 'integr', 'limit', 'integr', 'sign', 'first', 'use', 'joseph', 'fourier', 'mémoir', 'french', 'academi', 'around', '1819–1820', 'reprint', 'book', '1822', 'isaac', 'newton', 'use', 'small', 'vertic', 'bar', 'variabl', 'indic', 'integr', 'place', 'variabl', 'insid', 'box', 'vertic', 'bar', 'easili', 'confus', 'use', 'indic', 'differenti', 'box', 'notat', 'difficult', 'printer', 'reproduc', 'notat', 'wide', 'adopt', 'term', 'first', 'print', 'latin', 'jacob', 'bernoulli', '1690', 'ergo', 'horum', 'integralia', 'aequantur', 'gener', 'integr', 'real-valu', 'function', 'respect', 'real', 'variabl', 'interv', 'written', 'integr', 'sign', 'repres', 'integr', 'symbol', 'call', 'differenti', 'variabl', 'indic', 'variabl', 'integr', 'accord', 'standard', 'iso', '80000-2:2019', 'differenti', 'symbol', 'print', 'roman', 'upright', 'style', 'oper', 'variabl', 'function', 'call', 'integrand', 'point', 'call', 'limit', 'bound', 'integr', 'integr', 'said', 'interv', 'call', 'interv', 'integr', 'function', 'said', 'integr', 'integr', 'domain', 'finit', 'limit', 'specifi', 'integr', 'call', 'definit', 'integr', 'limit', 'omit', 'integr', 'call', 'indefinit', 'integr', 'repres', 'class', 'function', 'antideriv', 'whose', 'deriv', 'integrand', 'fundament', 'theorem', 'calculu', 'relat', 'evalu', 'definit', 'integr', 'indefinit', 'integr', 'sever', 'extens', 'notat', 'integr', 'encompass', 'integr', 'unbound', 'domain', 'and/or', 'multipl', 'dimens', 'see', 'later', 'section', 'articl', 'advanc', 'set', 'uncommon', 'leav', 'simpl', 'riemann', 'integr', 'use', 'exact', 'type', 'integr', 'immateri', 'instanc', 'one', 'might', 'write', 'express', 'linear', 'integr', 'properti', 'share', 'riemann', 'integr', 'gener', 'thereof', 'integr', 'appear', 'mani', 'practic', 'situat', 'instanc', 'length', 'width', 'depth', 'swim', 'pool', 'rectangular', 'flat', 'bottom', 'one', 'determin', 'volum', 'water', 'contain', 'area', 'surfac', 'length', 'edg', 'oval', 'round', 'bottom', 'integr', 'requir', 'find', 'exact', 'rigor', 'valu', 'quantiti', 'case', 'one', 'may', 'divid', 'sought', 'quantiti', 'infinit', 'mani', 'infinitesim', 'piec', 'sum', 'piec', 'achiev', 'accur', 'approxim', 'exampl', 'find', 'area', 'region', 'bound', 'graph', 'function', 'one', 'cross', 'interv', 'five', 'step', 'fill', 'rectangl', 'use', 'right', 'end', 'height', 'piec', 'thu', 'sum', 'area', 'get', 'approxim', 'larger', 'exact', 'valu', 'altern', 'replac', 'subinterv', 'one', 'left', 'end', 'height', 'piec', 'approxim', 'one', 'get', 'low', 'twelv', 'subinterv', 'approxim', 'area', 'howev', 'number', 'piec', 'increas', 'infin', 'reach', 'limit', 'exact', 'valu', 'area', 'sought', 'case', 'one', 'write', 'mean', 'result', 'weight', 'sum', 'function', 'valu', 'multipli', 'infinitesim', 'step', 'width', 'denot', 'interv', 'mani', 'way', 'formal', 'defin', 'integr', 'equival', 'differ', 'exist', 'mostli', 'deal', 'differ', 'special', 'case', 'may', 'integr', 'definit', 'also', 'occasion', 'pedagog', 'reason', 'commonli', 'use', 'definit', 'riemann', 'integr', 'lebesgu', 'integr', 'riemann', 'integr', 'defin', 'term', 'riemann', 'sum', 'function', 'respect', 'tag', 'partit', 'interv', 'tag', 'partit', 'close', 'interv', 'real', 'line', 'finit', 'sequenc', 'partit', 'interv', 'sub-interv', 'index', 'tag', 'distinguish', 'point', 'riemann', 'sum', 'function', 'respect', 'tag', 'partit', 'defin', 'thu', 'term', 'sum', 'area', 'rectangl', 'height', 'equal', 'function', 'valu', 'distinguish', 'point', 'given', 'sub-interv', 'width', 'width', 'sub-interv', 'mesh', 'tag', 'partit', 'width', 'largest', 'sub-interv', 'form', 'partit', 'maxi=1', 'riemann', 'integr', 'function', 'interv', 'equal', 'chosen', 'tag', 'give', 'maximum', 'respect', 'minimum', 'valu', 'interv', 'riemann', 'sum', 'becom', 'upper', 'respect', 'lower', 'darboux', 'sum', 'suggest', 'close', 'connect', 'riemann', 'integr', 'darboux', 'integr', 'often', 'interest', 'theori', 'applic', 'abl', 'pass', 'limit', 'integr', 'instanc', 'sequenc', 'function', 'frequent', 'construct', 'approxim', 'suitabl', 'sens', 'solut', 'problem', 'integr', 'solut', 'function', 'limit', 'integr', 'approxim', 'howev', 'mani', 'function', 'obtain', 'limit', 'riemann-integr', 'limit', 'theorem', 'hold', 'riemann', 'integr', 'therefor', 'great', 'import', 'definit', 'integr', 'allow', 'wider', 'class', 'function', 'integr', 'integr', 'lebesgu', 'integr', 'exploit', 'follow', 'fact', 'enlarg', 'class', 'integr', 'function', 'valu', 'function', 'rearrang', 'domain', 'integr', 'function', 'remain', 'thu', 'henri', 'lebesgu', 'introduc', 'integr', 'bear', 'name', 'explain', 'integr', 'thu', 'letter', 'paul', 'montel', 'pay', 'certain', 'sum', 'collect', 'pocket', 'take', 'bill', 'coin', 'pocket', 'give', 'creditor', 'order', 'find', 'reach', 'total', 'sum', 'riemann', 'integr', 'proceed', 'differ', 'taken', 'money', 'pocket', 'order', 'bill', 'coin', 'accord', 'ident', 'valu', 'pay', 'sever', 'heap', 'one', 'creditor', 'integral.a', 'folland', 'put', 'comput', 'riemann', 'integr', 'one', 'partit', 'domain', 'subinterv', 'lebesgu', 'integr', 'one', 'effect', 'partit', 'rang', 'definit', 'lebesgu', 'integr', 'thu', 'begin', 'measur', 'simplest', 'case', 'lebesgu', 'measur', 'interv', 'width', 'lebesgu', 'integr', 'agre', 'proper', 'riemann', 'integr', 'exist', 'complic', 'case', 'set', 'measur', 'highli', 'fragment', 'continu', 'resembl', 'interv', 'use', 'partit', 'rang', 'philosophi', 'integr', 'non-neg', 'function', 'sum', 'area', 'thin', 'horizont', 'strip', 'area', 'let', 'lebesgu', 'integr', 'defin', 'integr', 'right', 'ordinari', 'improp', 'riemann', 'integr', 'strictli', 'decreas', 'posit', 'function', 'therefor', 'well-defin', 'improp', 'riemann', 'integr', 'suitabl', 'class', 'function', 'measur', 'function', 'defin', 'lebesgu', 'integr', 'gener', 'measur', 'function', 'lebesgue-integr', 'sum', 'absolut', 'valu', 'area', 'region', 'graph', 'finit', 'case', 'integr', 'riemannian', 'case', 'differ', 'area', 'area', 'although', 'riemann', 'lebesgu', 'integr', 'wide', 'use', 'definit', 'integr', 'number', 'other', 'exist', 'includ', 'collect', 'riemann-integr', 'function', 'close', 'interv', 'form', 'vector', 'space', 'oper', 'pointwis', 'addit', 'multipl', 'scalar', 'oper', 'integr', 'linear', 'function', 'vector', 'space', 'thu', 'collect', 'integr', 'function', 'close', 'take', 'linear', 'combin', 'integr', 'linear', 'combin', 'linear', 'combin', 'integr', 'similarli', 'set', 'real-valu', 'lebesgue-integr', 'function', 'given', 'measur', 'space', 'measur', 'close', 'take', 'linear', 'combin', 'henc', 'form', 'vector', 'space', 'lebesgu', 'integr', 'linear', 'function', 'vector', 'space', 'gener', 'consid', 'vector', 'space', 'measur', 'function', 'measur', 'space', 'take', 'valu', 'local', 'compact', 'complet', 'topolog', 'vector', 'space', 'local', 'compact', 'topolog', 'field', 'one', 'may', 'defin', 'abstract', 'integr', 'map', 'assign', 'function', 'element', 'symbol', 'compat', 'linear', 'combin', 'situat', 'linear', 'hold', 'subspac', 'function', 'whose', 'integr', 'element', 'finit', 'import', 'special', 'case', 'aris', 'finit', 'extens', 'field', 'number', 'finite-dimension', 'vector', 'space', 'complex', 'hilbert', 'space', 'linear', 'togeth', 'natur', 'continu', 'properti', 'normal', 'certain', 'class', 'simpl', 'function', 'may', 'use', 'give', 'altern', 'definit', 'integr', 'approach', 'daniel', 'case', 'real-valu', 'function', 'set', 'gener', 'nicola', 'bourbaki', 'function', 'valu', 'local', 'compact', 'topolog', 'vector', 'space', 'see', 'hildebrandt', '1953', 'axiomat', 'character', 'integr', 'number', 'gener', 'inequ', 'hold', 'riemann-integr', 'function', 'defin', 'close', 'bound', 'interv', 'gener', 'notion', 'integr', 'lebesgu', 'daniel', 'section', 'real-valu', 'riemann-integr', 'function', 'integr', 'interv', 'defin', 'mean', 'upper', 'lower', 'sum', 'function', 'evalu', 'partit', 'whose', 'valu', 'increas', 'geometr', 'signifi', 'integr', 'take', 'place', 'left', 'right', 'evalu', 'within', 'interv', 'interv', 'higher', 'index', 'lie', 'right', 'one', 'lower', 'index', 'valu', 'end-point', 'interv', 'call', 'limit', 'integr', 'integr', 'also', 'defin', 'impli', 'first', 'convent', 'necessari', 'consider', 'take', 'integr', 'subinterv', 'second', 'say', 'integr', 'taken', 'degener', 'interv', 'point', 'zero', 'one', 'reason', 'first', 'convent', 'integr', 'interv', 'impli', 'integr', 'subinterv', 'particular', 'integr', 'properti', 'element', 'first', 'convent', 'result', 'relat', 'well-defin', 'cyclic', 'permut', 'fundament', 'theorem', 'calculu', 'statement', 'differenti', 'integr', 'invers', 'oper', 'continu', 'function', 'first', 'integr', 'differenti', 'origin', 'function', 'retriev', 'import', 'consequ', 'sometim', 'call', 'second', 'fundament', 'theorem', 'calculu', 'allow', 'one', 'comput', 'integr', 'use', 'antideriv', 'function', 'integr', 'let', 'continu', 'real-valu', 'function', 'defin', 'close', 'interv', 'let', 'function', 'defin', 'continu', 'differenti', 'open', 'interv', 'let', 'real-valu', 'function', 'defin', 'close', 'interv', 'admit', 'antideriv', 'function', 'integr', 'proper', 'riemann', 'integr', 'assum', 'integrand', 'defin', 'finit', 'close', 'bound', 'interv', 'bracket', 'limit', 'integr', 'improp', 'integr', 'occur', 'one', 'condit', 'satisfi', 'case', 'integr', 'may', 'defin', 'consid', 'limit', 'sequenc', 'proper', 'riemann', 'integr', 'progress', 'larger', 'interv', 'interv', 'unbound', 'instanc', 'upper', 'end', 'improp', 'integr', 'limit', 'endpoint', 'goe', 'infin', 'integrand', 'defin', 'finit', 'half-open', 'interv', 'instanc', 'limit', 'may', 'provid', 'finit', 'result', 'improp', 'integr', 'limit', 'proper', 'integr', 'one', 'endpoint', 'interv', 'integr', 'approach', 'either', 'specifi', 'real', 'number', 'complic', 'case', 'limit', 'requir', 'endpoint', 'interior', 'point', 'definit', 'integr', 'posit', 'function', 'one', 'variabl', 'repres', 'area', 'region', 'graph', 'function', 'doubl', 'integr', 'posit', 'function', 'two', 'variabl', 'repres', 'volum', 'region', 'surfac', 'defin', 'function', 'plane', 'contain', 'domain', 'exampl', 'function', 'two', 'dimens', 'depend', 'two', 'real', 'variabl', 'integr', 'function', 'rectangl', 'given', 'cartesian', 'product', 'two', 'interv', 'written', 'differenti', 'indic', 'integr', 'taken', 'respect', 'area', 'doubl', 'integr', 'defin', 'use', 'riemann', 'sum', 'repres', 'sign', 'volum', 'graph', 'domain', 'suitabl', 'condit', 'continu', 'fubini', 'theorem', 'state', 'integr', 'express', 'equival', 'iter', 'integr', 'reduc', 'problem', 'comput', 'doubl', 'integr', 'comput', 'one-dimension', 'integr', 'anoth', 'notat', 'integr', 'use', 'doubl', 'integr', 'sign', 'integr', 'gener', 'domain', 'possibl', 'integr', 'function', 'respect', 'volum', 'region', 'denot', 'symbol', 'concept', 'integr', 'extend', 'gener', 'domain', 'integr', 'curv', 'line', 'surfac', 'insid', 'higher-dimension', 'space', 'integr', 'known', 'line', 'integr', 'surfac', 'integr', 'respect', 'import', 'applic', 'physic', 'deal', 'vector', 'field', 'line', 'integr', 'sometim', 'call', 'path', 'integr', 'integr', 'function', 'integr', 'evalu', 'along', 'curv', 'variou', 'differ', 'line', 'integr', 'use', 'case', 'close', 'curv', 'also', 'call', 'contour', 'integr', 'function', 'integr', 'may', 'scalar', 'field', 'vector', 'field', 'valu', 'line', 'integr', 'sum', 'valu', 'field', 'point', 'curv', 'weight', 'scalar', 'function', 'curv', 'commonli', 'arc', 'length', 'vector', 'field', 'scalar', 'product', 'vector', 'field', 'differenti', 'vector', 'curv', 'weight', 'distinguish', 'line', 'integr', 'simpler', 'integr', 'defin', 'interv', 'mani', 'simpl', 'formula', 'physic', 'natur', 'continu', 'analog', 'term', 'line', 'integr', 'exampl', 'fact', 'work', 'equal', 'forc', 'multipli', 'displac', 'may', 'express', 'term', 'vector', 'quantiti', 'object', 'move', 'along', 'path', 'vector', 'field', 'electr', 'field', 'gravit', 'field', 'total', 'work', 'done', 'field', 'object', 'obtain', 'sum', 'differenti', 'work', 'done', 'move', 'give', 'line', 'integr', 'surfac', 'integr', 'gener', 'doubl', 'integr', 'integr', 'surfac', 'may', 'curv', 'set', 'space', 'thought', 'doubl', 'integr', 'analog', 'line', 'integr', 'function', 'integr', 'may', 'scalar', 'field', 'vector', 'field', 'valu', 'surfac', 'integr', 'sum', 'field', 'point', 'surfac', 'achiev', 'split', 'surfac', 'surfac', 'element', 'provid', 'partit', 'riemann', 'sum', 'exampl', 'applic', 'surfac', 'integr', 'consid', 'vector', 'field', 'surfac', 'point', 'vector', 'imagin', 'fluid', 'flow', 'determin', 'veloc', 'fluid', 'flux', 'defin', 'quantiti', 'fluid', 'flow', 'unit', 'amount', 'time', 'find', 'flux', 'one', 'need', 'take', 'dot', 'product', 'unit', 'surfac', 'normal', 'point', 'give', 'scalar', 'field', 'integr', 'surfac', 'fluid', 'flux', 'exampl', 'may', 'physic', 'fluid', 'water', 'air', 'electr', 'magnet', 'flux', 'thu', 'surfac', 'integr', 'applic', 'physic', 'particularli', 'classic', 'theori', 'electromagnet', 'complex', 'analysi', 'integrand', 'complex-valu', 'function', 'complex', 'variabl', 'instead', 'real', 'function', 'real', 'variabl', 'complex', 'function', 'integr', 'along', 'curv', 'complex', 'plane', 'integr', 'denot', 'follow', 'known', 'contour', 'integr', 'differenti', 'form', 'mathemat', 'concept', 'field', 'multivari', 'calculu', 'differenti', 'topolog', 'tensor', 'differenti', 'form', 'organ', 'degre', 'exampl', 'one-form', 'weight', 'sum', 'differenti', 'coordin', 'function', 'three', 'dimens', 'differenti', 'one-form', 'integr', 'orient', 'path', 'result', 'integr', 'anoth', 'way', 'write', 'line', 'integr', 'basic', 'differenti', 'measur', 'infinitesim', 'orient', 'length', 'parallel', 'three', 'coordin', 'axe', 'differenti', 'two-form', 'sum', 'form', 'basic', 'two-form', 'measur', 'orient', 'area', 'parallel', 'coordin', 'two-plan', 'symbol', 'denot', 'wedg', 'product', 'similar', 'cross', 'product', 'sens', 'wedg', 'product', 'two', 'form', 'repres', 'orient', 'length', 'repres', 'orient', 'area', 'two-form', 'integr', 'orient', 'surfac', 'result', 'integr', 'equival', 'surfac', 'integr', 'give', 'flux', 'unlik', 'cross', 'product', 'three-dimension', 'vector', 'calculu', 'wedg', 'product', 'calculu', 'differenti', 'form', 'make', 'sens', 'arbitrari', 'dimens', 'gener', 'manifold', 'curv', 'surfac', 'higher-dimension', 'analog', 'exterior', 'deriv', 'play', 'role', 'gradient', 'curl', 'vector', 'calculu', 'stoke', 'theorem', 'simultan', 'gener', 'three', 'theorem', 'vector', 'calculu', 'diverg', 'theorem', 'green', 'theorem', 'kelvin-stok', 'theorem', 'discret', 'equival', 'integr', 'summat', 'summat', 'integr', 'put', 'foundat', 'use', 'theori', 'lebesgu', 'integr', 'time-scal', 'calculu', 'integr', 'perform', 'variabl', 'physic', 'space', 'time', 'dimens', 'space', 'function', 'refer', 'function', 'integr', 'integr', 'use', 'extens', 'mani', 'area', 'exampl', 'probabl', 'theori', 'integr', 'use', 'determin', 'probabl', 'random', 'variabl', 'fall', 'within', 'certain', 'rang', 'moreov', 'integr', 'entir', 'probabl', 'densiti', 'function', 'must', 'equal', 'provid', 'test', 'whether', 'function', 'neg', 'valu', 'could', 'densiti', 'function', 'integr', 'use', 'comput', 'area', 'two-dimension', 'region', 'curv', 'boundari', 'well', 'comput', 'volum', 'three-dimension', 'object', 'curv', 'boundari', 'area', 'two-dimension', 'region', 'calcul', 'use', 'aforement', 'definit', 'integr', 'volum', 'three-dimension', 'object', 'disc', 'washer', 'comput', 'disc', 'integr', 'use', 'equat', 'volum', 'cylind', 'radiu', 'case', 'simpl', 'disc', 'creat', 'rotat', 'curv', 'radiu', 'given', 'height', 'differenti', 'use', 'integr', 'bound', 'volum', 'disc', 'equal', 'veloc', 'express', 'function', 'time', 'work', 'done', 'forc', 'given', 'function', 'posit', 'initi', 'posit', 'final', 'posit', 'integr', 'also', 'use', 'thermodynam', 'thermodynam', 'integr', 'use', 'calcul', 'differ', 'free', 'energi', 'two', 'given', 'state', 'basic', 'techniqu', 'comput', 'definit', 'integr', 'one', 'real', 'variabl', 'base', 'fundament', 'theorem', 'calculu', 'let', 'function', 'integr', 'given', 'interv', 'find', 'antideriv', 'function', 'interv', 'provid', 'integrand', 'integr', 'singular', 'path', 'integr', 'fundament', 'theorem', 'calculu', 'sometim', 'necessari', 'use', 'one', 'mani', 'techniqu', 'develop', 'evalu', 'integr', 'techniqu', 'rewrit', 'one', 'integr', 'differ', 'one', 'hope', 'tractabl', 'techniqu', 'includ', 'integr', 'substitut', 'integr', 'part', 'integr', 'trigonometr', 'substitut', 'integr', 'partial', 'fraction', 'altern', 'method', 'exist', 'comput', 'complex', 'integr', 'mani', 'nonelementari', 'integr', 'expand', 'taylor', 'seri', 'integr', 'term', 'term', 'occasion', 'result', 'infinit', 'seri', 'sum', 'analyt', 'method', 'convolut', 'use', 'meijer', 'also', 'use', 'assum', 'integrand', 'written', 'product', 'meijer', 'also', 'mani', 'less', 'common', 'way', 'calcul', 'definit', 'integr', 'instanc', 'parsev', 'ident', 'use', 'transform', 'integr', 'rectangular', 'region', 'infinit', 'sum', 'occasion', 'integr', 'evalu', 'trick', 'exampl', 'see', 'gaussian', 'integr', 'comput', 'volum', 'solid', 'revolut', 'usual', 'done', 'disk', 'integr', 'shell', 'integr', 'specif', 'result', 'work', 'variou', 'techniqu', 'collect', 'list', 'integr', 'mani', 'problem', 'mathemat', 'physic', 'engin', 'involv', 'integr', 'explicit', 'formula', 'integr', 'desir', 'extens', 'tabl', 'integr', 'compil', 'publish', 'year', 'purpos', 'spread', 'comput', 'mani', 'profession', 'educ', 'student', 'turn', 'comput', 'algebra', 'system', 'specif', 'design', 'perform', 'difficult', 'tediou', 'task', 'includ', 'integr', 'symbol', 'integr', 'one', 'motiv', 'develop', 'first', 'system', 'like', 'macsyma', 'mapl', 'major', 'mathemat', 'difficulti', 'symbol', 'integr', 'mani', 'case', 'rel', 'simpl', 'function', 'integr', 'express', 'close', 'form', 'involv', 'elementari', 'function', 'includ', 'ration', 'exponenti', 'function', 'logarithm', 'trigonometr', 'function', 'invers', 'trigonometr', 'function', 'oper', 'multipl', 'composit', 'risch', 'algorithm', 'provid', 'gener', 'criterion', 'determin', 'whether', 'antideriv', 'elementari', 'function', 'elementari', 'comput', 'integr', 'elementari', 'howev', 'function', 'close', 'express', 'antideriv', 'except', 'consequ', 'computer', 'algebra', 'system', 'hope', 'abl', 'find', 'antideriv', 'randomli', 'construct', 'elementari', 'function', 'posit', 'side', 'block', 'antideriv', 'fix', 'advanc', 'may', 'still', 'possibl', 'decid', 'whether', 'antideriv', 'given', 'function', 'express', 'use', 'block', 'oper', 'multipl', 'composit', 'find', 'symbol', 'answer', 'whenev', 'exist', 'risch', 'algorithm', 'implement', 'mathematica', 'mapl', 'comput', 'algebra', 'system', 'function', 'antideriv', 'built', 'ration', 'function', 'radic', 'logarithm', 'exponenti', 'function', 'special', 'integrand', 'occur', 'often', 'enough', 'warrant', 'special', 'studi', 'particular', 'may', 'use', 'set', 'antideriv', 'special', 'function', 'like', 'legendr', 'function', 'hypergeometr', 'function', 'gamma', 'function', 'incomplet', 'gamma', 'function', 'extend', 'risch', 'algorithm', 'includ', 'function', 'possibl', 'challeng', 'activ', 'research', 'subject', 'recent', 'new', 'approach', 'emerg', 'use', 'function', 'solut', 'linear', 'differenti', 'equat', 'polynomi', 'coeffici', 'elementari', 'special', 'function', 'integr', 'function', 'also', 'function', 'provid', 'algorithm', 'express', 'antideriv', 'function', 'solut', 'differenti', 'equat', 'theori', 'also', 'allow', 'one', 'comput', 'definit', 'integr', 'sum', 'seri', 'given', 'first', 'coeffici', 'provid', 'algorithm', 'comput', 'coeffici', 'rule-bas', 'integr', 'system', 'facilit', 'integr', 'rubi', 'comput', 'algebra', 'system', 'rule-bas', 'integr', 'pattern', 'match', 'extens', 'system', 'symbol', 'integr', 'rule', 'integr', 'wide', 'varieti', 'integrand', 'system', 'use', '6600', 'integr', 'rule', 'comput', 'integr', 'method', 'bracket', 'gener', 'ramanujan', 'master', 'theorem', 'appli', 'wide', 'rang', 'univari', 'multivari', 'integr', 'set', 'rule', 'appli', 'coeffici', 'exponenti', 'term', 'integrand', 'power', 'seri', 'expans', 'determin', 'integr', 'method', 'close', 'relat', 'mellin', 'transform', 'definit', 'integr', 'may', 'approxim', 'use', 'sever', 'method', 'numer', 'integr', 'rectangl', 'method', 'reli', 'divid', 'region', 'function', 'seri', 'rectangl', 'correspond', 'function', 'valu', 'multipli', 'step', 'width', 'find', 'sum', 'better', 'approach', 'trapezoid', 'rule', 'replac', 'rectangl', 'use', 'riemann', 'sum', 'trapezoid', 'trapezoid', 'rule', 'weight', 'first', 'last', 'valu', 'one', 'half', 'multipli', 'step', 'width', 'obtain', 'better', 'approxim', 'idea', 'behind', 'trapezoid', 'rule', 'accur', 'approxim', 'function', 'yield', 'better', 'approxim', 'integr', 'carri', 'simpson', 'rule', 'approxim', 'integrand', 'piecewis', 'quadrat', 'function', 'riemann', 'sum', 'trapezoid', 'rule', 'simpson', 'rule', 'exampl', 'famili', 'quadratur', 'rule', 'call', 'newton–cot', 'formula', 'degre', 'newton–cot', 'quadratur', 'rule', 'approxim', 'polynomi', 'subinterv', 'degre', 'polynomi', 'polynomi', 'chosen', 'interpol', 'valu', 'function', 'interv', 'higher', 'degre', 'newton–cot', 'approxim', 'accur', 'requir', 'function', 'evalu', 'suffer', 'numer', 'inaccuraci', 'due', 'rung', 'phenomenon', 'one', 'solut', 'problem', 'clenshaw–curti', 'quadratur', 'integrand', 'approxim', 'expand', 'term', 'chebyshev', 'polynomi', 'romberg', 'method', 'halv', 'step', 'width', 'increment', 'give', 'trapezoid', 'approxim', 'denot', 'half', 'new', 'step', 'size', 'half', 'new', 'function', 'valu', 'need', 'comput', 'other', 'carri', 'previou', 'size', 'interpol', 'polynomi', 'approxim', 'extrapol', 'gaussian', 'quadratur', 'evalu', 'function', 'root', 'set', 'orthogon', 'polynomi', 'gaussian', 'method', 'exact', 'polynomi', 'degre', 'comput', 'higher-dimension', 'integr', 'exampl', 'volum', 'calcul', 'make', 'import', 'use', 'altern', 'mont', 'carlo', 'integr', 'area', 'arbitrari', 'two-dimension', 'shape', 'determin', 'use', 'measur', 'instrument', 'call', 'planimet', 'volum', 'irregular', 'object', 'measur', 'precis', 'fluid', 'displac', 'object', 'submerg', 'area', 'sometim', 'found', 'via', 'geometr', 'compass-and-straightedg', 'construct', 'equival', 'squar', 'kempf', 'jackson', 'moral', 'demonstr', 'mathemat', 'relat', 'allow', 'integr', 'calcul', 'mean', 'differenti', 'calculu', 'involv', 'dirac', 'delta', 'function', 'partial', 'deriv', 'oper', 'also', 'appli', 'function', 'integr', 'allow', 'comput', 'function', 'differenti', 'fundament', 'theorem', 'calculu', 'allow', 'straightforward', 'calcul', 'basic', 'function', 'sin']\n"
     ]
    }
   ],
   "source": [
    "filtered_articles = [[token for token in article if re.match(r'\\w{3,}', token)] for article in cleaned_articles]\n",
    "print(filtered_articles[0][:5000])"
   ]
  },
  {
   "cell_type": "code",
   "execution_count": 39,
   "id": "8e29f840",
   "metadata": {
    "ExecuteTime": {
     "end_time": "2023-07-29T13:26:09.149975Z",
     "start_time": "2023-07-29T13:26:09.041363Z"
    }
   },
   "outputs": [],
   "source": [
    "dictionary_filtered = Dictionary(filtered_articles)\n",
    "bow_corpus_filtered = [dictionary_filtered.doc2bow(article) for article in filtered_articles]\n",
    "\n",
    "tfidf_model_filtered = TfidfModel(bow_corpus_filtered)\n",
    "tfidf_corpus_filtered = tfidf_model_filtered[bow_corpus_filtered]"
   ]
  },
  {
   "cell_type": "code",
   "execution_count": 41,
   "id": "d5ad2be0",
   "metadata": {
    "ExecuteTime": {
     "end_time": "2023-07-29T13:27:25.068487Z",
     "start_time": "2023-07-29T13:27:21.291305Z"
    }
   },
   "outputs": [
    {
     "name": "stderr",
     "output_type": "stream",
     "text": [
      "/home/mdabrowski-phd/.local/lib/python3.10/site-packages/sklearn/manifold/_mds.py:299: FutureWarning: The default value of `normalized_stress` will change to `'auto'` in version 1.4. To suppress this warning, manually set the value of `normalized_stress`.\n",
      "  warnings.warn(\n"
     ]
    },
    {
     "data": {
      "text/html": [
       "\n",
       "<link rel=\"stylesheet\" type=\"text/css\" href=\"https://cdn.jsdelivr.net/gh/bmabey/pyLDAvis@3.4.0/pyLDAvis/js/ldavis.v1.0.0.css\">\n",
       "\n",
       "\n",
       "<div id=\"ldavis_el651397513092696323580047066\" style=\"background-color:white;\"></div>\n",
       "<script type=\"text/javascript\">\n",
       "\n",
       "var ldavis_el651397513092696323580047066_data = {\"mdsDat\": {\"x\": [0.0009824763811622794, 0.00022671778155837578, -0.0010296849557419625, -0.0005872726969842592, 0.0004284672764951294, 0.00030606163535707354, -3.98126067998646e-05, -0.00011021560354160877, -0.00011987575287265998, -5.686145863250333e-05], \"y\": [0.0032085418701097816, -0.001807474470770733, -0.0004945386842974749, 0.00021700231689679813, -0.0004307524277328206, -0.00018818697342099509, 7.835847128082048e-05, -0.00020698235901513, -0.00019654836911915424, -0.0001794193739310926], \"topics\": [1, 2, 3, 4, 5, 6, 7, 8, 9, 10], \"cluster\": [1, 1, 1, 1, 1, 1, 1, 1, 1, 1], \"Freq\": [27.810877158837606, 19.528235865319953, 17.612407126813558, 11.811175329285655, 10.042936723891692, 8.311695341039318, 3.051650304368015, 0.6367403578217286, 0.5971430838418895, 0.5971387087805832]}, \"tinfo\": {\"Term\": [\"integr\", \"function\", \"kafka\", \"tolstoy\", \"munch\", \"integr\", \"function\", \"riemann\", \"deriv\", \"interv\", \"matejko\", \"krak\\u00f3w\", \"sequenc\", \"converg\", \"polish\", \"kafka\", \"tolstoy\", \"brod\", \"russian\", \"novel\", \"van\", \"gogh\", \"theo\", \"arl\", \"vincent\", \"paint\", \"tolkien\", \"lord\", \"edith\", \"ring\", \"hobbit\", \"munch\", \"oslo\", \"edvard\", \"norwegian\", \"museum\", \"paint\", \"riemann\\u2013stieltj\", \"fenc\", \"cumul\", \"distribut\", \"probabl\", \"variat\", \"bound\", \"integr\", \"also\", \"call\", \"consid\", \"exampl\", \"first\", \"fri\", \"conclus\", \"headquart\", \"snipe\", \"affirm\", \"holm\", \"nemec\", \"tolstoy\", \"resurrect\", \"boxer\", \"lenin\", \"gandhi\", \"russian\", \"peac\", \"polyana\", \"also\", \"call\", \"consid\", \"exampl\", \"first\", \"integr\", \"function\", \"riemann\", \"munch\", \"deriv\", \"also\", \"call\", \"consid\", \"exampl\", \"first\", \"integr\", \"function\", \"tolstoy\", \"munch\", \"deriv\"], \"Freq\": [0.0, 0.0, 0.0, 0.0, 0.0, 0.08286445147992814, 0.05278145411791564, 0.04721107846605815, 0.032796819072306124, 0.02542303102604278, 0.022701529940320302, 0.017288162153376613, 0.01664249114676823, 0.017684910436609403, 0.014580558444571737, 0.0304544785365027, 0.03034588590788686, 0.007873954883059767, 0.00619228745311793, 0.005060950307828437, 0.014217796942679184, 0.013859036551245306, 0.005565673996147177, 0.004547698968251143, 0.004149433545122525, 0.00588588498035313, 0.017010959509506117, 0.004289600475770213, 0.0037266078034414, 0.0036937460135653345, 0.003483362132342897, 0.014039698895333954, 0.004663576223928968, 0.002810941031699677, 0.002400258831431536, 0.0025672881778979893, 0.003369917782624243, 0.0032447493787626873, 0.001298831957144226, 0.001137172040260092, 0.0010620046651498483, 0.0008360109132896903, 0.0008645504483520491, 0.0008936543222614434, 0.0010377335316078063, 0.00010750908122230054, 0.00010750908122230054, 0.00010750908122230054, 0.00010750908122230054, 0.00010750908122230054, 0.00010751889214753855, 0.00010751879900584326, 0.000107518302250135, 0.00010751757781472713, 0.00010751741222949104, 0.00010752509124481446, 0.0001075250394994282, 0.00010875254355267755, 0.0001075616959310664, 0.00010753118685131784, 0.00010754673116535527, 0.00010760135359510867, 0.0001075880136345266, 0.00010758117289446086, 0.0001075751704296528, 0.00010082485775398677, 0.00010082485775398677, 0.00010082485775398677, 0.00010082485775398677, 0.00010082485775398677, 0.00010082491598695252, 0.00010082489657596394, 0.00010082488687046964, 0.00010082488687046964, 0.00010082487716497535, 0.00010082411904504781, 0.00010082411904504781, 0.00010082411904504781, 0.00010082411904504781, 0.00010082411904504781, 0.00010082416757216371, 0.00010082415786674054, 0.00010082415786674054, 0.00010082414816131736, 0.00010082413845589417], \"Total\": [0.0, 0.0, 0.0, 0.0, 0.0, 0.09606405716436973, 0.0652425522568487, 0.059315642091447594, 0.04485476744381295, 0.03751975416260449, 0.03605794362394604, 0.030644574539426633, 0.030297169076095583, 0.033028791157043026, 0.027936970830621757, 0.044102742604988074, 0.043995394237824545, 0.021522216726927584, 0.019979079691210926, 0.01877551152728963, 0.028851371056633074, 0.028492609753081287, 0.020171767495832195, 0.019153791946437758, 0.018783007481879978, 0.027044383953912007, 0.0319092359385318, 0.01918787460449386, 0.01862488192181597, 0.01860464339168118, 0.018381636702733604, 0.029227430383167982, 0.01985130504870033, 0.017998669566880978, 0.017587988125676492, 0.02005457316236523, 0.027044383953912007, 0.01963075185086699, 0.017394608169785126, 0.017226975246523866, 0.01718592707473706, 0.017173003170769564, 0.017776994373151556, 0.0213379050085889, 0.09606405716436973, 0.016581287095948256, 0.016581287095948256, 0.016581287095948256, 0.016581287095948256, 0.016581287095948256, 0.016623518487922824, 0.01662352268865444, 0.01662354881391328, 0.01662358530304659, 0.016623592293916876, 0.01667844124765002, 0.016678444344745063, 0.043995394237824545, 0.017166590244191267, 0.01675324821342739, 0.01699738624507587, 0.018581324929738297, 0.019979079691210926, 0.01768935981280282, 0.01791093184740702, 0.016581287095948256, 0.016581287095948256, 0.016581287095948256, 0.016581287095948256, 0.016581287095948256, 0.09606405716436973, 0.0652425522568487, 0.059315642091447594, 0.029227430383167982, 0.04485476744381295, 0.016581287095948256, 0.016581287095948256, 0.016581287095948256, 0.016581287095948256, 0.016581287095948256, 0.09606405716436973, 0.0652425522568487, 0.043995394237824545, 0.029227430383167982, 0.04485476744381295], \"Category\": [\"Default\", \"Default\", \"Default\", \"Default\", \"Default\", \"Topic1\", \"Topic1\", \"Topic1\", \"Topic1\", \"Topic1\", \"Topic2\", \"Topic2\", \"Topic2\", \"Topic2\", \"Topic2\", \"Topic3\", \"Topic3\", \"Topic3\", \"Topic3\", \"Topic3\", \"Topic4\", \"Topic4\", \"Topic4\", \"Topic4\", \"Topic4\", \"Topic4\", \"Topic5\", \"Topic5\", \"Topic5\", \"Topic5\", \"Topic5\", \"Topic6\", \"Topic6\", \"Topic6\", \"Topic6\", \"Topic6\", \"Topic6\", \"Topic7\", \"Topic7\", \"Topic7\", \"Topic7\", \"Topic7\", \"Topic7\", \"Topic7\", \"Topic7\", \"Topic8\", \"Topic8\", \"Topic8\", \"Topic8\", \"Topic8\", \"Topic8\", \"Topic8\", \"Topic8\", \"Topic8\", \"Topic8\", \"Topic8\", \"Topic8\", \"Topic8\", \"Topic8\", \"Topic8\", \"Topic8\", \"Topic8\", \"Topic8\", \"Topic8\", \"Topic8\", \"Topic9\", \"Topic9\", \"Topic9\", \"Topic9\", \"Topic9\", \"Topic9\", \"Topic9\", \"Topic9\", \"Topic9\", \"Topic9\", \"Topic10\", \"Topic10\", \"Topic10\", \"Topic10\", \"Topic10\", \"Topic10\", \"Topic10\", \"Topic10\", \"Topic10\", \"Topic10\"], \"logprob\": [5.0, 4.0, 3.0, 2.0, 1.0, -5.9265, -6.3776, -6.4891, -6.8534, -7.1081, -6.8678, -7.1402, -7.1782, -7.1175, -7.3105, -6.4707, -6.4743, -7.8234, -8.0636, -8.2654, -6.8329, -6.8584, -7.7708, -7.9727, -8.0644, -7.7148, -6.4913, -7.869, -8.0097, -8.0186, -8.0772, -6.4941, -7.5962, -8.1025, -8.2604, -8.1931, -7.9211, -6.957, -7.8725, -8.0055, -8.0738, -8.3131, -8.2796, -8.2464, -8.097, -8.7971, -8.7971, -8.7971, -8.7971, -8.7971, -8.797, -8.797, -8.797, -8.797, -8.797, -8.797, -8.797, -8.7856, -8.7966, -8.7969, -8.7968, -8.7963, -8.7964, -8.7964, -8.7965, -8.7971, -8.7971, -8.7971, -8.7971, -8.7971, -8.7971, -8.7971, -8.7971, -8.7971, -8.7971, -8.7971, -8.7971, -8.7971, -8.7971, -8.7971, -8.7971, -8.7971, -8.7971, -8.7971, -8.7971], \"loglift\": [5.0, 4.0, 3.0, 2.0, 1.0, 1.1319, 1.0678, 1.0515, 0.9666, 0.8905, 1.1706, 1.0609, 1.0342, 1.0086, 0.983, 1.3663, 1.3651, 0.731, 0.5652, 0.4256, 1.4285, 1.4154, 0.8485, 0.6982, 0.6261, 0.6112, 1.6693, 0.8002, 0.6893, 0.6815, 0.6349, 1.7543, 1.039, 0.6307, 0.4959, 0.4319, 0.4049, 1.6894, 0.8948, 0.7716, 0.7056, 0.467, 0.466, 0.3166, -1.0385, 0.0181, 0.0181, 0.0181, 0.0181, 0.0181, 0.0157, 0.0157, 0.0156, 0.0156, 0.0156, 0.0124, 0.0124, -0.9462, -0.0161, 0.008, -0.0063, -0.0949, -0.1676, -0.0459, -0.0584, 0.0181, 0.0181, 0.0181, 0.0181, 0.0181, -1.7386, -1.3517, -1.2565, -0.5487, -0.977, 0.0181, 0.0181, 0.0181, 0.0181, 0.0181, -1.7386, -1.3517, -0.9577, -0.5487, -0.977]}, \"token.table\": {\"Topic\": [], \"Freq\": [], \"Term\": []}, \"R\": 5, \"lambda.step\": 0.01, \"plot.opts\": {\"xlab\": \"PC1\", \"ylab\": \"PC2\"}, \"topic.order\": [3, 1, 8, 9, 7, 2, 4, 6, 10, 5]};\n",
       "\n",
       "function LDAvis_load_lib(url, callback){\n",
       "  var s = document.createElement('script');\n",
       "  s.src = url;\n",
       "  s.async = true;\n",
       "  s.onreadystatechange = s.onload = callback;\n",
       "  s.onerror = function(){console.warn(\"failed to load library \" + url);};\n",
       "  document.getElementsByTagName(\"head\")[0].appendChild(s);\n",
       "}\n",
       "\n",
       "if(typeof(LDAvis) !== \"undefined\"){\n",
       "   // already loaded: just create the visualization\n",
       "   !function(LDAvis){\n",
       "       new LDAvis(\"#\" + \"ldavis_el651397513092696323580047066\", ldavis_el651397513092696323580047066_data);\n",
       "   }(LDAvis);\n",
       "}else if(typeof define === \"function\" && define.amd){\n",
       "   // require.js is available: use it to load d3/LDAvis\n",
       "   require.config({paths: {d3: \"https://d3js.org/d3.v5\"}});\n",
       "   require([\"d3\"], function(d3){\n",
       "      window.d3 = d3;\n",
       "      LDAvis_load_lib(\"https://cdn.jsdelivr.net/gh/bmabey/pyLDAvis@3.4.0/pyLDAvis/js/ldavis.v3.0.0.js\", function(){\n",
       "        new LDAvis(\"#\" + \"ldavis_el651397513092696323580047066\", ldavis_el651397513092696323580047066_data);\n",
       "      });\n",
       "    });\n",
       "}else{\n",
       "    // require.js not available: dynamically load d3 & LDAvis\n",
       "    LDAvis_load_lib(\"https://d3js.org/d3.v5.js\", function(){\n",
       "         LDAvis_load_lib(\"https://cdn.jsdelivr.net/gh/bmabey/pyLDAvis@3.4.0/pyLDAvis/js/ldavis.v3.0.0.js\", function(){\n",
       "                 new LDAvis(\"#\" + \"ldavis_el651397513092696323580047066\", ldavis_el651397513092696323580047066_data);\n",
       "            })\n",
       "         });\n",
       "}\n",
       "</script>"
      ],
      "text/plain": [
       "PreparedData(topic_coordinates=              x         y  topics  cluster       Freq\n",
       "topic                                                \n",
       "2      0.000982  0.003209       1        1  27.810877\n",
       "0      0.000227 -0.001807       2        1  19.528236\n",
       "7     -0.001030 -0.000495       3        1  17.612407\n",
       "8     -0.000587  0.000217       4        1  11.811175\n",
       "6      0.000428 -0.000431       5        1  10.042937\n",
       "1      0.000306 -0.000188       6        1   8.311695\n",
       "3     -0.000040  0.000078       7        1   3.051650\n",
       "5     -0.000110 -0.000207       8        1   0.636740\n",
       "9     -0.000120 -0.000197       9        1   0.597143\n",
       "4     -0.000057 -0.000179      10        1   0.597139, topic_info=          Term      Freq     Total Category  logprob  loglift\n",
       "372     integr  0.000000  0.000000  Default   5.0000   5.0000\n",
       "299   function  0.000000  0.000000  Default   4.0000   4.0000\n",
       "5452     kafka  0.000000  0.000000  Default   3.0000   3.0000\n",
       "4952   tolstoy  0.000000  0.000000  Default   2.0000   2.0000\n",
       "2084     munch  0.000000  0.000000  Default   1.0000   1.0000\n",
       "...        ...       ...       ...      ...      ...      ...\n",
       "372     integr  0.000101  0.096064  Topic10  -8.7971  -1.7386\n",
       "299   function  0.000101  0.065243  Topic10  -8.7971  -1.3517\n",
       "4952   tolstoy  0.000101  0.043995  Topic10  -8.7971  -0.9577\n",
       "2084     munch  0.000101  0.029227  Topic10  -8.7971  -0.5487\n",
       "184      deriv  0.000101  0.044855  Topic10  -8.7971  -0.9770\n",
       "\n",
       "[85 rows x 6 columns], token_table=Empty DataFrame\n",
       "Columns: [Topic, Freq, Term]\n",
       "Index: [], R=5, lambda_step=0.01, plot_opts={'xlab': 'PC1', 'ylab': 'PC2'}, topic_order=[3, 1, 8, 9, 7, 2, 4, 6, 10, 5])"
      ]
     },
     "execution_count": 41,
     "metadata": {},
     "output_type": "execute_result"
    }
   ],
   "source": [
    "lda_model_filtered = LdaModel(\n",
    "    corpus=tfidf_corpus_filtered,\n",
    "    id2word=dictionary_filtered,\n",
    "    num_topics=10,\n",
    "    random_state=100,\n",
    "    update_every=1,\n",
    "    chunksize=100,\n",
    "    passes=10,\n",
    "    alpha=\"auto\"\n",
    ")\n",
    "\n",
    "pyLDAvis.enable_notebook()\n",
    "\n",
    "vis = pyLDAvis.gensim.prepare(\n",
    "    lda_model_filtered, \n",
    "    tfidf_corpus_filtered, \n",
    "    dictionary_filtered, \n",
    "    mds=\"mmds\", \n",
    "    R=5  # liczba tokenów branych pod uwagę podczas analizy tytułu dla wybranego artykułu\n",
    ")\n",
    "\n",
    "vis"
   ]
  }
 ],
 "metadata": {
  "hide_input": false,
  "kernelspec": {
   "display_name": "Python 3 (ipykernel)",
   "language": "python",
   "name": "python3"
  },
  "language_info": {
   "codemirror_mode": {
    "name": "ipython",
    "version": 3
   },
   "file_extension": ".py",
   "mimetype": "text/x-python",
   "name": "python",
   "nbconvert_exporter": "python",
   "pygments_lexer": "ipython3",
   "version": "3.10.6"
  },
  "toc": {
   "base_numbering": 1,
   "nav_menu": {},
   "number_sections": true,
   "sideBar": true,
   "skip_h1_title": true,
   "title_cell": "Table of Contents",
   "title_sidebar": "Contents",
   "toc_cell": false,
   "toc_position": {},
   "toc_section_display": true,
   "toc_window_display": false
  },
  "varInspector": {
   "cols": {
    "lenName": 16,
    "lenType": 16,
    "lenVar": 40
   },
   "kernels_config": {
    "python": {
     "delete_cmd_postfix": "",
     "delete_cmd_prefix": "del ",
     "library": "var_list.py",
     "varRefreshCmd": "print(var_dic_list())"
    },
    "r": {
     "delete_cmd_postfix": ") ",
     "delete_cmd_prefix": "rm(",
     "library": "var_list.r",
     "varRefreshCmd": "cat(var_dic_list()) "
    }
   },
   "types_to_exclude": [
    "module",
    "function",
    "builtin_function_or_method",
    "instance",
    "_Feature"
   ],
   "window_display": false
  }
 },
 "nbformat": 4,
 "nbformat_minor": 5
}
