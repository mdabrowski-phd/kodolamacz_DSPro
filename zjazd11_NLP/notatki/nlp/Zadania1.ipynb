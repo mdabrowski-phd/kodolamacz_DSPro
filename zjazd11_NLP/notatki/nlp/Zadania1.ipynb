{
 "cells": [
  {
   "cell_type": "markdown",
   "id": "ae24cf05",
   "metadata": {},
   "source": [
    "# Tokenizacja - ćwiczenia"
   ]
  },
  {
   "cell_type": "markdown",
   "id": "8710305b",
   "metadata": {},
   "source": [
    "## Zadanie 1\n",
    "\n",
    "Zmienna `scene_one` przechowuje napis będący treścią pierwszej sceny w filmie Holy Grall Monty Pythona. _(Wykonaj polecenia zawarte w komentarzach.)_"
   ]
  },
  {
   "cell_type": "code",
   "execution_count": 44,
   "id": "63271bbd",
   "metadata": {
    "ExecuteTime": {
     "end_time": "2023-07-16T10:54:21.795507Z",
     "start_time": "2023-07-16T10:54:21.759111Z"
    }
   },
   "outputs": [
    {
     "name": "stdout",
     "output_type": "stream",
     "text": [
      "0 SCENE 1: [wind] [clop clop clop] \n",
      "KING ARTHUR: Whoa there!\n",
      "1 [clop clop clop] \n",
      "SOLDIER #1: Halt!\n",
      "2 Who goes there?\n",
      "3 ARTHUR: It is I, Arthur, son of Uther Pendragon, from the castle of Camelot.\n",
      "4 King of the Britons, defeator of the Saxons, sovereign of all England!\n",
      "5 SOLDIER #1: Pull the other one!\n",
      "6 ARTHUR: I am, ...  and this is my trusty servant Patsy.\n",
      "7 We have ridden the length and breadth of the land in search of knights who will join me in my court at Camelot.\n",
      "8 I must speak with your lord and master.\n",
      "9 SOLDIER #1: What?\n",
      "10 Ridden on a horse?\n",
      "11 ARTHUR: Yes!\n",
      "12 SOLDIER #1: You're using coconuts!\n",
      "13 ARTHUR: What?\n",
      "14 SOLDIER #1: You've got two empty halves of coconut and you're bangin' 'em together.\n",
      "15 ARTHUR: So?\n",
      "16 We have ridden since the snows of winter covered this land, through the kingdom of Mercea, through--\n",
      "SOLDIER #1: Where'd you get the coconuts?\n",
      "17 ARTHUR: We found them.\n",
      "18 SOLDIER #1: Found them?\n",
      "19 In Mercea?\n",
      "20 The coconut's tropical!\n",
      "21 ARTHUR: What do you mean?\n",
      "22 SOLDIER #1: Well, this is a temperate zone.\n",
      "23 ARTHUR: The swallow may fly south with the sun or the house martin or the plover may seek warmer climes in winter, yet these are not strangers to our land?\n",
      "24 SOLDIER #1: Are you suggesting coconuts migrate?\n",
      "25 ARTHUR: Not at all.\n",
      "26 They could be carried.\n",
      "27 SOLDIER #1: What?\n",
      "28 A swallow carrying a coconut?\n",
      "29 ARTHUR: It could grip it by the husk!\n",
      "30 SOLDIER #1: It's not a question of where he grips it!\n",
      "31 It's a simple question of weight ratios!\n",
      "32 A five ounce bird could not carry a one pound coconut.\n",
      "33 ARTHUR: Well, it doesn't matter.\n",
      "34 Will you go and tell your master that Arthur from the Court of Camelot is here.\n",
      "35 SOLDIER #1: Listen.\n",
      "36 In order to maintain air-speed velocity, a swallow needs to beat its wings forty-three times every second, right?\n",
      "37 ARTHUR: Please!\n",
      "38 SOLDIER #1: Am I right?\n",
      "39 ARTHUR: I'm not interested!\n",
      "40 SOLDIER #2: It could be carried by an African swallow!\n",
      "41 SOLDIER #1: Oh, yeah, an African swallow maybe, but not a European swallow.\n",
      "42 That's my point.\n",
      "43 SOLDIER #2: Oh, yeah, I agree with that.\n",
      "44 ARTHUR: Will you ask your master if he wants to join my court at Camelot?!\n",
      "45 SOLDIER #1: But then of course a-- African swallows are non-migratory.\n",
      "46 SOLDIER #2: Oh, yeah...\n",
      "47 SOLDIER #1: So they couldn't bring a coconut back anyway...  [clop clop clop] \n",
      "SOLDIER #2: Wait a minute!\n",
      "48 Supposing two swallows carried it together?\n",
      "49 SOLDIER #1: No, they'd have to have it on a line.\n",
      "50 SOLDIER #2: Well, simple!\n",
      "51 They'd just use a strand of creeper!\n",
      "52 SOLDIER #1: What, held under the dorsal guiding feathers?\n",
      "53 SOLDIER #2: Well, why not?\n",
      "['ARTHUR', ':', 'It', 'is', 'I', ',', 'Arthur', ',', 'son', 'of', 'Uther', 'Pendragon', ',', 'from', 'the', 'castle', 'of', 'Camelot', '.']\n",
      "\n",
      " {'migrate', 'Britons', 'got', 'Supposing', '?', 'bird', 'bring', 'mean', 'point', 'pound', 'found', 'swallow', 'every', \"'ve\", 'times', 'Pull', 'breadth', 'They', 'suggesting', 'this', 'ask', 'Oh', ']', 'in', 'does', \"'em\", 'In', 'where', 'wants', 'England', 'course', 'south', 'Listen', 'line', 'son', 'ARTHUR', 'Wait', 'non-migratory', 'since', 'A', 'through', 'speak', 'these', 'Ridden', 'search', 'tropical', 'husk', 'they', 'held', 'Halt', 'African', 'right', 'Found', 'SCENE', 'knights', 'Pendragon', 'will', 'halves', 'you', 'climes', 'second', 'Whoa', 'seek', 'one', 'KING', 'a', '...', 'who', 'fly', 'he', 'are', 'kingdom', 'order', 'its', 'temperate', 'from', 'Who', 'Yes', 'European', 'use', 'bangin', 'maintain', 'Camelot', 'other', \"'d\", 'creeper', 'or', 'must', 'You', 'of', 'tell', 'Arthur', 'ridden', 'grip', 'But', '#', 'wind', 'by', 'So', 'matter', 'warmer', '!', 'I', 'air-speed', 'trusty', 'using', 'interested', 'strand', 'No', 'Well', 'and', 'be', 'needs', 'yeah', 'lord', '[', 'may', 'strangers', 'clop', 'Mercea', 'maybe', 'the', 'on', 'do', 'here', \"'\", 'Please', 'coconuts', 'Am', 'castle', 'master', 'get', 'servant', \"'re\", ':', 'carry', 'forty-three', 'not', 'at', 'carried', 'Will', 'We', 'martin', 'could', 'goes', 'if', 'that', 'then', 'What', 'plover', \"'m\", 'an', 'Court', 'but', 'why', 'two', 'house', 'am', 'together', 'covered', 'Not', 'to', 'ratios', 'ounce', 'your', 'question', 'dorsal', 'length', 'grips', 'defeator', 'empty', 'Patsy', 'is', 'five', 'That', 'agree', '1', 'our', 'join', 'Saxons', 'go', 'swallows', 'horse', 'SOLDIER', 'wings', ',', 'King', 'yet', 'my', 'there', 'zone', 'feathers', 'with', 'sun', 'It', 'The', '.', 'land', 'me', 'simple', 'beat', 'just', \"'s\", 'guiding', 'sovereign', 'snows', 'back', 'anyway', 'it', 'coconut', 'winter', 'carrying', 'under', \"n't\", '--', 'have', '2', 'Where', 'velocity', 'Uther', 'weight', 'Are', 'all', 'minute', 'them', 'court'}\n"
     ]
    }
   ],
   "source": [
    "scene_one = \"\"\"SCENE 1: [wind] [clop clop clop] \\nKING ARTHUR: Whoa there!  [clop clop clop] \\nSOLDIER #1: Halt!  Who goes there?\\nARTHUR: It is I, Arthur, son of Uther Pendragon, from the castle of Camelot.  King of the Britons, defeator of the Saxons, sovereign of all England!\\nSOLDIER #1: Pull the other one!\\nARTHUR: I am, ...  and this is my trusty servant Patsy.  We have ridden the length and breadth of the land in search of knights who will join me in my court at Camelot.  I must speak with your lord and master.\\nSOLDIER #1: What?  Ridden on a horse?\\nARTHUR: Yes!\\nSOLDIER #1: You're using coconuts!\\nARTHUR: What?\\nSOLDIER #1: You've got two empty halves of coconut and you're bangin' 'em together.\\nARTHUR: So?  We have ridden since the snows of winter covered this land, through the kingdom of Mercea, through--\\nSOLDIER #1: Where'd you get the coconuts?\\nARTHUR: We found them.\\nSOLDIER #1: Found them?  In Mercea?  The coconut's tropical!\\nARTHUR: What do you mean?\\nSOLDIER #1: Well, this is a temperate zone.\\nARTHUR: The swallow may fly south with the sun or the house martin or the plover may seek warmer climes in winter, yet these are not strangers to our land?\\nSOLDIER #1: Are you suggesting coconuts migrate?\\nARTHUR: Not at all.  They could be carried.\\nSOLDIER #1: What?  A swallow carrying a coconut?\\nARTHUR: It could grip it by the husk!\\nSOLDIER #1: It's not a question of where he grips it!  It's a simple question of weight ratios!  A five ounce bird could not carry a one pound coconut.\\nARTHUR: Well, it doesn't matter.  Will you go and tell your master that Arthur from the Court of Camelot is here.\\nSOLDIER #1: Listen.  In order to maintain air-speed velocity, a swallow needs to beat its wings forty-three times every second, right?\\nARTHUR: Please!\\nSOLDIER #1: Am I right?\\nARTHUR: I'm not interested!\\nSOLDIER #2: It could be carried by an African swallow!\\nSOLDIER #1: Oh, yeah, an African swallow maybe, but not a European swallow.  That's my point.\\nSOLDIER #2: Oh, yeah, I agree with that.\\nARTHUR: Will you ask your master if he wants to join my court at Camelot?!\\nSOLDIER #1: But then of course a-- African swallows are non-migratory.\\nSOLDIER #2: Oh, yeah...\\nSOLDIER #1: So they couldn't bring a coconut back anyway...  [clop clop clop] \\nSOLDIER #2: Wait a minute!  Supposing two swallows carried it together?\\nSOLDIER #1: No, they'd have to have it on a line.\\nSOLDIER #2: Well, simple!  They'd just use a strand of creeper!\\nSOLDIER #1: What, held under the dorsal guiding feathers?\\nSOLDIER #2: Well, why not?\\n\"\"\"\n",
    "\n",
    "# Zaimportuj potrzebne funkcje\n",
    "from nltk.tokenize import word_tokenize, sent_tokenize\n",
    "\n",
    "# Zastąpienie znaków nowej linii kropkami\n",
    "# scene_one = scene_one.replace('\\n', '. ')\n",
    "\n",
    "# Rozbij pierwszą scenę na zdania: sentences\n",
    "sentences = sent_tokenize(scene_one)\n",
    "\n",
    "for i, sentence in enumerate(sentences):\n",
    "    print(i, sentence)\n",
    "\n",
    "# Użyj word_tokenize, żeby rozbić na słowa czwarte zdanie sceny: tokenized_sent\n",
    "tokenized_sent = word_tokenize(sentences[3])\n",
    "\n",
    "print('\\n', tokenized_sent)\n",
    "\n",
    "# Utwórz zbiór unikalnych słów z całej pierwszej sceny: unique_tokens\n",
    "unique_tokens = set(word_tokenize(scene_one))\n",
    "\n",
    "# Wyświetl wynik - unikalne tokeny pierwszej sceny filmu\n",
    "print('\\n', unique_tokens)"
   ]
  },
  {
   "cell_type": "markdown",
   "id": "e5687ede",
   "metadata": {},
   "source": [
    "## Zadanie 2\n",
    "\n",
    " _(Wykonaj polecenia zawarte w komentarzach.)_"
   ]
  },
  {
   "cell_type": "code",
   "execution_count": 26,
   "id": "fdc7ec7d",
   "metadata": {
    "ExecuteTime": {
     "end_time": "2023-07-16T10:32:45.498269Z",
     "start_time": "2023-07-16T10:32:45.492312Z"
    }
   },
   "outputs": [
    {
     "name": "stdout",
     "output_type": "stream",
     "text": [
      "['A', 'ASCII', 'DEBUG', 'DOTALL', 'I', 'IGNORECASE', 'L', 'LOCALE', 'M', 'MULTILINE', 'Match', 'Pattern', 'RegexFlag', 'S', 'Scanner', 'T', 'TEMPLATE', 'U', 'UNICODE', 'VERBOSE', 'X', '_MAXCACHE', '__all__', '__builtins__', '__cached__', '__doc__', '__file__', '__loader__', '__name__', '__package__', '__spec__', '__version__', '_cache', '_compile', '_compile_repl', '_expand', '_locale', '_pickle', '_special_chars_map', '_subx', 'compile', 'copyreg', 'enum', 'error', 'escape', 'findall', 'finditer', 'fullmatch', 'functools', 'match', 'purge', 'search', 'split', 'sre_compile', 'sre_parse', 'sub', 'subn', 'template']\n"
     ]
    }
   ],
   "source": [
    "print(dir(re))"
   ]
  },
  {
   "cell_type": "code",
   "execution_count": 78,
   "id": "a264a756",
   "metadata": {
    "ExecuteTime": {
     "end_time": "2023-07-16T12:15:59.541765Z",
     "start_time": "2023-07-16T12:15:59.529087Z"
    }
   },
   "outputs": [
    {
     "name": "stdout",
     "output_type": "stream",
     "text": [
      "580 588\n",
      "<re.Match object; span=(9, 32), match='[wind] [clop clop clop]'>\n",
      "<re.Match object; span=(0, 7), match='ARTHUR:'>\n"
     ]
    }
   ],
   "source": [
    "import re\n",
    "from nltk.tokenize import sent_tokenize\n",
    "\n",
    "scene_one = \"\"\"SCENE 1: [wind] [clop clop clop] \\nKING ARTHUR: Whoa there!  [clop clop clop] \\nSOLDIER #1: Halt!  Who goes there?\\nARTHUR: It is I, Arthur, son of Uther Pendragon, from the castle of Camelot.  King of the Britons, defeator of the Saxons, sovereign of all England!\\nSOLDIER #1: Pull the other one!\\nARTHUR: I am, ...  and this is my trusty servant Patsy.  We have ridden the length and breadth of the land in search of knights who will join me in my court at Camelot.  I must speak with your lord and master.\\nSOLDIER #1: What?  Ridden on a horse?\\nARTHUR: Yes!\\nSOLDIER #1: You're using coconuts!\\nARTHUR: What?\\nSOLDIER #1: You've got two empty halves of coconut and you're bangin' 'em together.\\nARTHUR: So?  We have ridden since the snows of winter covered this land, through the kingdom of Mercea, through--\\nSOLDIER #1: Where'd you get the coconuts?\\nARTHUR: We found them.\\nSOLDIER #1: Found them?  In Mercea?  The coconut's tropical!\\nARTHUR: What do you mean?\\nSOLDIER #1: Well, this is a temperate zone.\\nARTHUR: The swallow may fly south with the sun or the house martin or the plover may seek warmer climes in winter, yet these are not strangers to our land?\\nSOLDIER #1: Are you suggesting coconuts migrate?\\nARTHUR: Not at all.  They could be carried.\\nSOLDIER #1: What?  A swallow carrying a coconut?\\nARTHUR: It could grip it by the husk!\\nSOLDIER #1: It's not a question of where he grips it!  It's a simple question of weight ratios!  A five ounce bird could not carry a one pound coconut.\\nARTHUR: Well, it doesn't matter.  Will you go and tell your master that Arthur from the Court of Camelot is here.\\nSOLDIER #1: Listen.  In order to maintain air-speed velocity, a swallow needs to beat its wings forty-three times every second, right?\\nARTHUR: Please!\\nSOLDIER #1: Am I right?\\nARTHUR: I'm not interested!\\nSOLDIER #2: It could be carried by an African swallow!\\nSOLDIER #1: Oh, yeah, an African swallow maybe, but not a European swallow.  That's my point.\\nSOLDIER #2: Oh, yeah, I agree with that.\\nARTHUR: Will you ask your master if he wants to join my court at Camelot?!\\nSOLDIER #1: But then of course a-- African swallows are non-migratory.\\nSOLDIER #2: Oh, yeah...\\nSOLDIER #1: So they couldn't bring a coconut back anyway...  [clop clop clop] \\nSOLDIER #2: Wait a minute!  Supposing two swallows carried it together?\\nSOLDIER #1: No, they'd have to have it on a line.\\nSOLDIER #2: Well, simple!  They'd just use a strand of creeper!\\nSOLDIER #1: What, held under the dorsal guiding feathers?\\nSOLDIER #2: Well, why not?\\n\"\"\"\n",
    "\n",
    "# Znajdź pierwsze wystąpienie słowa \"coconuts\" w scene_one: match\n",
    "match = re.search('coconuts', scene_one)\n",
    "\n",
    "# Wyświetl początkowy i końcowy indeks dopasowania\n",
    "\n",
    "# print(dir(match))\n",
    "print(match.start(), match.end())\n",
    "\n",
    "# Napisz wyrażenie regularne na dowolny tekst znajdujący się pomiędzy nawiasami kwadratowymi\n",
    "pattern1 = r\"\\[.*\\]\"\n",
    "\n",
    "# Użyj funkcji re.search, żeby znaleźć pierwsze wystąpienie tekstu w nawisach kwadratowych\n",
    "print(re.search(pattern1, scene_one))  # przykład zachłanności wyrażeń regularnych ('greedy')\n",
    "# print(re.findall(pattern1, scene_one))  # przykład zachłanności wyrażeń regularnych ('greedy')\n",
    "\n",
    "# Znajdź składnie skryptową (znak słowny, biały znak lub hash, jeden lub więcej razy, po którym następuje dwukropek) na początku czwartego zdania.\n",
    "sentences = sent_tokenize(scene_one)\n",
    "\n",
    "pattern2 = r\"[\\w\\s]+:\"\n",
    "print(re.search(pattern2, sentences[3]))"
   ]
  },
  {
   "cell_type": "markdown",
   "id": "99e3e13b",
   "metadata": {},
   "source": [
    "## Zadanie 3\n",
    "\n",
    " _(Wykonaj polecenia zawarte w komentarzach.)_"
   ]
  },
  {
   "cell_type": "code",
   "execution_count": 48,
   "id": "9afb8a37",
   "metadata": {
    "ExecuteTime": {
     "end_time": "2023-07-16T11:02:41.132627Z",
     "start_time": "2023-07-16T11:02:41.113160Z"
    }
   },
   "outputs": [
    {
     "name": "stdout",
     "output_type": "stream",
     "text": [
      "['#KLM']\n",
      "['@nlpPython', '#python']\n",
      "[['You', 'can', 'now', 'use', '@twitter', 'to', 'get', 'onboard', 'of', 'your', '#KLM', 'flight', '.'], ['A', 'thousand', 'planets', '.', 'One', 'mission', 'to', 'save', 'them', 'all', '.', 'Watch', 'the', 'new', '#Valerian', 'trailer', 'and', 'like', 'this', 'Tweet', 'to', 'explore', 'more', '.', 'In', 'theaters', 'July', '21'], ['Hello', ',', '@nlpPython', '#python']]\n"
     ]
    }
   ],
   "source": [
    "# Zaimportuj potrzebne moduły (regexp_tokenize i TweetTokenizer)\n",
    "from nltk.tokenize import regexp_tokenize\n",
    "from nltk.tokenize import TweetTokenizer\n",
    "\n",
    "tweets = [\n",
    "    'You can now use @twitter to get onboard of your #KLM flight.',\n",
    "    'A thousand planets. One mission to save them all. Watch the new #Valerian trailer and like this Tweet to explore more. In theaters July 21',\n",
    "    'Hello, @nlpPython #python'\n",
    "]\n",
    "\n",
    "# Zdefiniuj regex dla hastagów: pattern1\n",
    "pattern1 = r\"#\\w+\"\n",
    "# Użyj funkcji regexp_tokenize z wzorcem hashtaga na pierwszym tweecie z listy tweetów: hashtags\n",
    "hashtags = regexp_tokenize(tweets[0], pattern1)\n",
    "print(hashtags)\n",
    "\n",
    "# Zdefiniuj wzorzec, który dopasuje hashtagi i wzmianki\n",
    "pattern2 = r'(#\\w+|@\\w+)'\n",
    "# Użyj funkcji regexp_token z wzorcem hastaga lub wzmianki na ostatnim tweecie z listy tweetów: mentions_hashtags\n",
    "mentions_hashtags = regexp_tokenize(tweets[2], pattern2)\n",
    "print(mentions_hashtags)\n",
    "\n",
    "# Użyj klasy TweetTokenizer żeby ztokenizować wszystkie tweety do jednej listy\n",
    "tknzr = TweetTokenizer()\n",
    "all_tokens = [tknzr.tokenize(t) for t in tweets]\n",
    "print(all_tokens)"
   ]
  },
  {
   "cell_type": "markdown",
   "id": "bd37cc3d",
   "metadata": {},
   "source": [
    "## Zadanie 4\n",
    "\n",
    "Tokenizacja ze znakami non-ASCII. _(Wykonaj polecenia zawarte w komentarzach.)_"
   ]
  },
  {
   "cell_type": "code",
   "execution_count": 53,
   "id": "663f565a",
   "metadata": {
    "ExecuteTime": {
     "end_time": "2023-07-16T11:08:57.600445Z",
     "start_time": "2023-07-16T11:08:57.591170Z"
    }
   },
   "outputs": [
    {
     "name": "stdout",
     "output_type": "stream",
     "text": [
      "Może zjedlibyśmy pizzę? Świetny pomysł! 😀\n",
      "['Może', 'zjedlibyśmy', 'pizzę', '?', 'Świetny', 'pomysł', '!', '😀']\n",
      "['Może', 'Świetny']\n",
      "['😀']\n"
     ]
    }
   ],
   "source": [
    "from nltk.tokenize import regexp_tokenize\n",
    "from nltk.tokenize import word_tokenize\n",
    "\n",
    "polish_text = \"Może zjedlibyśmy pizzę? Świetny pomysł! 😀\"\n",
    "print(polish_text)\n",
    "\n",
    "# Ztokenizuj wszystkie słowa w polish_text\n",
    "all_words = word_tokenize(polish_text)\n",
    "print(all_words)\n",
    "\n",
    "# Ztokenizuj tylko słowa zaczynające się z wielkiej litery\n",
    "capital_words= r\"[A-ZŚĆŹŻÓ]\\w+\"\n",
    "print(regexp_tokenize(polish_text, capital_words))\n",
    "\n",
    "#Ztokenizuj tylko  emoji\n",
    "\n",
    "# regex dopasowując emoji\n",
    "emoji = r\"['\\U0001F300-\\U0001F5FF'|'\\U0001F600-\\U0001F64F'|'\\U0001F680-\\U0001F6FF'|'\\u2600-\\u26FF\\u2700-\\u27BF']\"\n",
    "print(regexp_tokenize(polish_text, emoji))"
   ]
  },
  {
   "cell_type": "markdown",
   "id": "e8dcddbf",
   "metadata": {},
   "source": [
    "## Zadanie 5\n",
    "\n",
    "Stwórz wykres przedstawiający zliczenia liczb słów na przypdających na jedną liniję w pierwszej scenie filmu Holy Grall.\n",
    " _(Wykonaj polecenia zawarte w komentarzach.)_"
   ]
  },
  {
   "cell_type": "code",
   "execution_count": 62,
   "id": "6ead2812",
   "metadata": {
    "ExecuteTime": {
     "end_time": "2023-07-16T11:53:25.299454Z",
     "start_time": "2023-07-16T11:53:25.004365Z"
    }
   },
   "outputs": [
    {
     "name": "stdout",
     "output_type": "stream",
     "text": [
      "['SCENE 1: [wind] [clop clop clop] \\n', 'KING ARTHUR: Whoa there!  [clop clop clop] \\n', 'SOLDIER #1: Halt!  Who goes there?\\n', 'ARTHUR: It is I, Arthur, son of Uther Pendragon, from the castle of Camelot.  King of the Britons, defeator of the Saxons, sovereign of all England!\\n', 'SOLDIER #1: Pull the other one!\\n', 'ARTHUR: I am, ...  and this is my trusty servant Patsy.  We have ridden the length and breadth of the land in search of knights who will join me in my court at Camelot.  I must speak with your lord and master.\\n', 'SOLDIER #1: What?  Ridden on a horse?\\n', 'ARTHUR: Yes!\\n', \"SOLDIER #1: You're using coconuts!\\n\", 'ARTHUR: What?\\n'] \n",
      "\n",
      "['SCENE 1: [wind] [clop clop clop] \\n', ' Whoa there!  [clop clop clop] \\n', ' Halt!  Who goes there?\\n', ' It is I, Arthur, son of Uther Pendragon, from the castle of Camelot.  King of the Britons, defeator of the Saxons, sovereign of all England!\\n', ' Pull the other one!\\n', ' I am, ...  and this is my trusty servant Patsy.  We have ridden the length and breadth of the land in search of knights who will join me in my court at Camelot.  I must speak with your lord and master.\\n', ' What?  Ridden on a horse?\\n', ' Yes!\\n', \" You're using coconuts!\\n\", ' What?\\n'] \n",
      "\n",
      "[['SCENE', '1', 'wind', 'clop', 'clop', 'clop'], ['Whoa', 'there', 'clop', 'clop', 'clop'], ['Halt', 'Who', 'goes', 'there'], ['It', 'is', 'I', 'Arthur', 'son', 'of', 'Uther', 'Pendragon', 'from', 'the', 'castle', 'of', 'Camelot', 'King', 'of', 'the', 'Britons', 'defeator', 'of', 'the', 'Saxons', 'sovereign', 'of', 'all', 'England'], ['Pull', 'the', 'other', 'one'], ['I', 'am', 'and', 'this', 'is', 'my', 'trusty', 'servant', 'Patsy', 'We', 'have', 'ridden', 'the', 'length', 'and', 'breadth', 'of', 'the', 'land', 'in', 'search', 'of', 'knights', 'who', 'will', 'join', 'me', 'in', 'my', 'court', 'at', 'Camelot', 'I', 'must', 'speak', 'with', 'your', 'lord', 'and', 'master'], ['What', 'Ridden', 'on', 'a', 'horse'], ['Yes'], ['You', 're', 'using', 'coconuts'], ['What']] \n",
      "\n"
     ]
    },
    {
     "data": {
      "image/png": "[encoded data removed]",
      "text/plain": [
       "<Figure size 432x288 with 1 Axes>"
      ]
     },
     "metadata": {
      "needs_background": "light"
     },
     "output_type": "display_data"
    }
   ],
   "source": [
    "import re\n",
    "\n",
    "from matplotlib import pyplot as plt\n",
    "from nltk.tokenize import regexp_tokenize\n",
    "\n",
    "with open('holy_grail.txt', 'r') as f:\n",
    "    lines = f.readlines()\n",
    "\n",
    "print(lines[:10], '\\n')\n",
    "\n",
    "# Usuwamy z każdej linii osoby\n",
    "pattern = r\"[A-Z]{2,}(\\s)?(#\\d)?([A-Z]{2,})?:\"\n",
    "lines = [re.sub(pattern, '', line) for line in lines]  # użyj re.sub\n",
    "\n",
    "print(lines[:10], '\\n')\n",
    "\n",
    "# Tokenizujemy każdą linię\n",
    "tokenized_lines = [regexp_tokenize(line, r\"\\w+\") for line in lines]\n",
    "\n",
    "print(tokenized_lines[:10], '\\n')\n",
    "\n",
    "# Wygeneruj listę długości poszczególnych linii: line_num_words\n",
    "line_num_words = [len(t_line) for t_line in tokenized_lines]\n",
    "\n",
    "# Wygeneruj histogram na podstawie stworzonej listy\n",
    "plt.hist(line_num_words, bins=[item - 0.5 for item in range(100)])\n",
    "plt.xticks(range(0, 100, 5))\n",
    "\n",
    "plt.show()"
   ]
  }
 ],
 "metadata": {
  "hide_input": false,
  "kernelspec": {
   "display_name": "Python 3 (ipykernel)",
   "language": "python",
   "name": "python3"
  },
  "language_info": {
   "codemirror_mode": {
    "name": "ipython",
    "version": 3
   },
   "file_extension": ".py",
   "mimetype": "text/x-python",
   "name": "python",
   "nbconvert_exporter": "python",
   "pygments_lexer": "ipython3",
   "version": "3.10.6"
  },
  "toc": {
   "base_numbering": 1,
   "nav_menu": {},
   "number_sections": true,
   "sideBar": true,
   "skip_h1_title": true,
   "title_cell": "Table of Contents",
   "title_sidebar": "Contents",
   "toc_cell": false,
   "toc_position": {},
   "toc_section_display": true,
   "toc_window_display": false
  },
  "varInspector": {
   "cols": {
    "lenName": 16,
    "lenType": 16,
    "lenVar": 40
   },
   "kernels_config": {
    "python": {
     "delete_cmd_postfix": "",
     "delete_cmd_prefix": "del ",
     "library": "var_list.py",
     "varRefreshCmd": "print(var_dic_list())"
    },
    "r": {
     "delete_cmd_postfix": ") ",
     "delete_cmd_prefix": "rm(",
     "library": "var_list.r",
     "varRefreshCmd": "cat(var_dic_list()) "
    }
   },
   "types_to_exclude": [
    "module",
    "function",
    "builtin_function_or_method",
    "instance",
    "_Feature"
   ],
   "window_display": false
  }
 },
 "nbformat": 4,
 "nbformat_minor": 5
}
