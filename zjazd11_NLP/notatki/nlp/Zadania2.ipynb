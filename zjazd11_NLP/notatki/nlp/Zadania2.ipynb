{
 "cells": [
  {
   "cell_type": "markdown",
   "id": "981062ac",
   "metadata": {},
   "source": [
    "# Tokenizacja, lematyzacja i model TD-IDF"
   ]
  },
  {
   "cell_type": "markdown",
   "id": "71f15268",
   "metadata": {},
   "source": [
    "## Zadanie 6\n",
    "\n",
    "Zbuduj model _bag-of-words_ na podstawie artykułu z _Wikipedii_. Czy domyśliłbyś/abyś się tematu artykułu na podstawie pierwszych 10 najczęściej występujących tokenów w tekście? _(Wykonaj polecenia zawarte w komentarzach.)_"
   ]
  },
  {
   "cell_type": "code",
   "execution_count": 5,
   "id": "71fdc8d2",
   "metadata": {
    "ExecuteTime": {
     "end_time": "2023-07-16T14:02:43.924478Z",
     "start_time": "2023-07-16T14:02:43.893411Z"
    }
   },
   "outputs": [
    {
     "name": "stdout",
     "output_type": "stream",
     "text": [
      "[('debugging', 39), ('system', 19), ('software', 16), ('tools', 14), ('process', 12), ('computer', 12), ('used', 12), ('bug', 11), ('http', 11), ('term', 11)]\n"
     ]
    }
   ],
   "source": [
    "# Zaimportuje Counter i words_tokenize\n",
    "from nltk.corpus import stopwords\n",
    "from nltk.tokenize import word_tokenize\n",
    "from collections import Counter\n",
    "\n",
    "article = '\\'\\'\\'Debugging\\'\\'\\' is the process of finding and resolving of defects that prevent correct operation of computer software or a system.  \\n\\nNumerous books have been written about debugging (see below: #Further reading|Further reading), as it involves numerous aspects, including interactive debugging, control flow, integration testing, Logfile|log files, monitoring (Application monitoring|application, System Monitoring|system), memory dumps, Profiling (computer programming)|profiling, Statistical Process Control, and special design tactics to improve detection while simplifying changes.\\n\\nOrigin\\nA computer log entry from the Mark&nbsp;II, with a moth taped to the page\\n\\nThe terms \"bug\" and \"debugging\" are popularly attributed to Admiral Grace Hopper in the 1940s.[http://foldoc.org/Grace+Hopper Grace Hopper]  from FOLDOC While she was working on a Harvard Mark II|Mark II Computer at Harvard University, her associates discovered a moth stuck in a relay and thereby impeding operation, whereupon she remarked that they were \"debugging\" the system. However the term \"bug\" in the meaning of technical error dates back at least to 1878 and Thomas Edison (see software bug for a full discussion), and \"debugging\" seems to have been used as a term in aeronautics before entering the world of computers. Indeed, in an interview Grace Hopper remarked that she was not coining the term{{Citation needed|date=July 2015}}. The moth fit the already existing terminology, so it was saved.  A letter from J. Robert Oppenheimer (director of the WWII atomic bomb \"Manhattan\" project at Los Alamos, NM) used the term in a letter to Dr. Ernest Lawrence at UC Berkeley, dated October 27, 1944,http://bancroft.berkeley.edu/Exhibits/physics/images/bigscience25.jpg regarding the recruitment of additional technical staff.\\n\\nThe Oxford English Dictionary entry for \"debug\" quotes the term \"debugging\" used in reference to airplane engine testing in a 1945 article in the Journal of the Royal Aeronautical Society. An article in \"Airforce\" (June 1945 p.&nbsp;50) also refers to debugging, this time of aircraft cameras.  Hopper\\'s computer bug|bug was found on September 9, 1947. The term was not adopted by computer programmers until the early 1950s.\\nThe seminal article by GillS. Gill, [http://www.jstor.org/stable/98663 The Diagnosis of Mistakes in Programmes on the EDSAC], Proceedings of the Royal Society of London. Series A, Mathematical and Physical Sciences, Vol. 206, No. 1087 (May 22, 1951), pp. 538-554 in 1951 is the earliest in-depth discussion of programming errors, but it does not use the term \"bug\" or \"debugging\".\\nIn the Association for Computing Machinery|ACM\\'s digital library, the term \"debugging\" is first used in three papers from 1952 ACM National Meetings.Robert V. D. Campbell, [http://portal.acm.org/citation.cfm?id=609784.609786 Evolution of automatic computation], Proceedings of the 1952 ACM national meeting (Pittsburgh), p 29-32, 1952.Alex Orden, [http://portal.acm.org/citation.cfm?id=609784.609793 Solution of systems of linear inequalities on a digital computer], Proceedings of the 1952 ACM national meeting (Pittsburgh), p. 91-95, 1952.Howard B. Demuth, John B. Jackson, Edmund Klein, N. Metropolis, Walter Orvedahl, James H. Richardson, [http://portal.acm.org/citation.cfm?id=800259.808982 MANIAC], Proceedings of the 1952 ACM national meeting (Toronto), p. 13-16 Two of the three use the term in quotation marks.\\nBy 1963 \"debugging\" was a common enough term to be mentioned in passing without explanation on page 1 of the Compatible Time-Sharing System|CTSS manual.[http://www.bitsavers.org/pdf/mit/ctss/CTSS_ProgrammersGuide.pdf The Compatible Time-Sharing System], M.I.T. Press, 1963\\n\\nKidwell\\'s article \\'\\'Stalking the Elusive Computer Bug\\'\\'Peggy Aldrich Kidwell, [http://ieeexplore.ieee.org/xpl/freeabs_all.jsp?tp=&arnumber=728224&isnumber=15706 Stalking the Elusive Computer Bug], IEEE Annals of the History of Computing, 1998. discusses the etymology of \"bug\" and \"debug\" in greater detail.\\n\\nScope\\nAs software and electronic systems have become generally more complex, the various common debugging techniques have expanded with more methods to detect anomalies, assess impact, and schedule software patches or full updates to a system. The words \"anomaly\" and \"discrepancy\" can be used, as being more neutral terms, to avoid the words \"error\" and \"defect\" or \"bug\" where there might be an implication that all so-called \\'\\'errors\\'\\', \\'\\'defects\\'\\' or \\'\\'bugs\\'\\' must be fixed (at all costs). Instead, an impact assessment can be made to determine if changes to remove an \\'\\'anomaly\\'\\' (or \\'\\'discrepancy\\'\\') would be cost-effective for the system, or perhaps a scheduled new release might render the change(s) unnecessary. Not all issues are life-critical or mission-critical in a system. Also, it is important to avoid the situation where a change might be more upsetting to users, long-term, than living with the known problem(s) (where the \"cure would be worse than the disease\"). Basing decisions of the acceptability of some anomalies can avoid a culture of a \"zero-defects\" mandate, where people might be tempted to deny the existence of problems so that the result would appear as zero \\'\\'defects\\'\\'. Considering the collateral issues, such as the cost-versus-benefit impact assessment, then broader debugging techniques will expand to determine the frequency of anomalies (how often the same \"bugs\" occur) to help assess their impact to the overall system.\\n\\nTools\\nDebugging on video game consoles is usually done with special hardware such as this Xbox (console)|Xbox debug unit intended for developers.\\n\\nDebugging ranges in complexity from fixing simple errors to performing lengthy and tiresome tasks of data collection, analysis, and scheduling updates.  The debugging skill of the programmer can be a major factor in the ability to debug a problem, but the difficulty of software debugging varies greatly with the complexity of the system, and also depends, to some extent, on the programming language(s) used and the available tools, such as \\'\\'debuggers\\'\\'. Debuggers are software tools which enable the programmer to monitor the execution (computers)|execution of a program, stop it, restart it, set breakpoints, and change values in memory. The term \\'\\'debugger\\'\\' can also refer to the person who is doing the debugging.\\n\\nGenerally, high-level programming languages, such as Java (programming language)|Java, make debugging easier, because they have features such as exception handling that make real sources of erratic behaviour easier to spot. In programming languages such as C (programming language)|C or assembly language|assembly, bugs may cause silent problems such as memory corruption, and it is often difficult to see where the initial problem happened. In those cases, memory debugging|memory debugger tools may be needed.\\n\\nIn certain situations, general purpose software tools that are language specific in nature can be very useful.  These take the form of \\'\\'List of tools for static code analysis|static code analysis tools\\'\\'.  These tools look for a very specific set of known problems, some common and some rare, within the source code.  All such issues detected by these tools would rarely be picked up by a compiler or interpreter, thus they are not syntax checkers, but more semantic checkers.  Some tools claim to be able to detect 300+ unique problems. Both commercial and free tools exist in various languages.  These tools can be extremely useful when checking very large source trees, where it is impractical to do code walkthroughs.  A typical example of a problem detected would be a variable dereference that occurs \\'\\'before\\'\\' the variable is assigned a value.  Another example would be to perform strong type checking when the language does not require such.  Thus, they are better at locating likely errors, versus actual errors.  As a result, these tools have a reputation of false positives.  The old Unix \\'\\'Lint programming tool|lint\\'\\' program is an early example.\\n\\nFor debugging electronic hardware (e.g., computer hardware) as well as low-level software (e.g., BIOSes, device drivers) and firmware, instruments such as oscilloscopes, logic analyzers or in-circuit emulator|in-circuit emulators (ICEs) are often used, alone or in combination.  An ICE may perform many of the typical software debugger\\'s tasks on low-level software and firmware.\\n\\nDebugging process \\nNormally the first step in debugging is to attempt to reproduce the problem. This can be a non-trivial task, for example as with Parallel computing|parallel processes or some unusual software bugs. Also, specific user environment and usage history can make it difficult to reproduce the problem.\\n\\nAfter the bug is reproduced, the input of the program may need to be simplified to make it easier to debug. For example, a bug in a compiler can make it Crash (computing)|crash when parsing some large source file. However, after simplification of the test case, only few lines from the original source file can be sufficient to reproduce the same crash. Such simplification can be made manually, using a Divide and conquer algorithm|divide-and-conquer approach. The programmer will try to remove some parts of original test case and check if the problem still exists. When debugging the problem in a Graphical user interface|GUI, the programmer can try to skip some user interaction from the original problem description and check if remaining actions are sufficient for bugs to appear.\\n\\nAfter the test case is sufficiently simplified, a programmer can use a debugger tool to examine program states (values of variables, plus the call stack) and track down the origin of the problem(s). Alternatively, Tracing (software)|tracing can be used. In simple cases, tracing is just a few print statements, which output the values of variables at certain points of program execution.{{citation needed|date=February 2016}}\\n\\n Techniques \\n \\'\\'Interactive debugging\\'\\'\\n \\'\\'{{visible anchor|Print debugging}}\\'\\' (or tracing) is the act of watching (live or recorded) trace statements, or print statements, that indicate the flow of execution of a process. This is sometimes called \\'\\'{{visible anchor|printf debugging}}\\'\\', due to the use of the printf function in C. This kind of debugging was turned on by the command TRON in the original versions of the novice-oriented BASIC programming language. TRON stood for, \"Trace On.\" TRON caused the line numbers of each BASIC command line to print as the program ran.\\n \\'\\'Remote debugging\\'\\' is the process of debugging a program running on a system different from the debugger. To start remote debugging, a debugger connects to a remote system over a network. The debugger can then control the execution of the program on the remote system and retrieve information about its state.\\n \\'\\'Post-mortem debugging\\'\\' is debugging of the program after it has already Crash (computing)|crashed. Related techniques often include various tracing techniques (for example,[http://www.drdobbs.com/tools/185300443 Postmortem Debugging, Stephen Wormuller, Dr. Dobbs Journal, 2006]) and/or analysis of memory dump (or core dump) of the crashed process. The dump of the process could be obtained automatically by the system (for example, when process has terminated due to an unhandled exception), or by a programmer-inserted instruction, or manually by the interactive user.\\n \\'\\'\"Wolf fence\" algorithm:\\'\\' Edward Gauss described this simple but very useful and now famous algorithm in a 1982 article for communications of the ACM as follows: \"There\\'s one wolf in Alaska; how do you find it? First build a fence down the middle of the state, wait for the wolf to howl, determine which side of the fence it is on. Repeat process on that side only, until you get to the point where you can see the wolf.\"<ref name=\"communications of the ACM\">{{cite journal | title=\"Pracniques: The \"Wolf Fence\" Algorithm for Debugging\", | author=E. J. Gauss | year=1982}} This is implemented e.g. in the Git (software)|Git version control system as the command \\'\\'git bisect\\'\\', which uses the above algorithm to determine which Commit (data management)|commit introduced a particular bug.\\n \\'\\'Delta Debugging\\'\\'{{snd}} a technique of automating test case simplification.Andreas Zeller: <cite>Why Programs Fail: A Guide to Systematic Debugging</cite>, Morgan Kaufmann, 2005. ISBN 1-55860-866-4{{rp|p.123}}<!-- for redirect from \\'Saff Squeeze\\' -->\\n \\'\\'Saff Squeeze\\'\\'{{snd}} a technique of isolating failure within the test using progressive inlining of parts of the failing test.[http://www.threeriversinstitute.org/HitEmHighHitEmLow.html Kent Beck, Hit \\'em High, Hit \\'em Low: Regression Testing and the Saff Squeeze]\\n\\nDebugging for embedded systems\\nIn contrast to the general purpose computer software design environment, a primary characteristic of embedded environments is the sheer number of different platforms available to the developers (CPU architectures, vendors, operating systems and their variants). Embedded systems are, by definition, not general-purpose designs: they are typically developed for a single task (or small range of tasks), and the platform is chosen specifically to optimize that application. Not only does this fact make life tough for embedded system developers, it also makes debugging and testing of these systems harder as well, since different debugging tools are needed in different platforms.\\n\\nto identify and fix bugs in the system (e.g. logical or synchronization problems in the code, or a design error in the hardware);\\nto collect information about the operating states of the system that may then be used to analyze the system: to find ways to boost its performance or to optimize other important characteristics (e.g. energy consumption, reliability, real-time response etc.).\\n\\nAnti-debugging\\nAnti-debugging is \"the implementation of one or more techniques within computer code that hinders attempts at reverse engineering or debugging a target process\".<ref name=\"veracode-antidebugging\">{{cite web |url=http://www.veracode.com/blog/2008/12/anti-debugging-series-part-i/ |title=Anti-Debugging Series - Part I |last=Shields |first=Tyler |date=2008-12-02 |work=Veracode |accessdate=2009-03-17}} It is actively used by recognized publishers in copy protection|copy-protection schemas, but is also used by malware to complicate its detection and elimination.<ref name=\"soft-prot\">[http://people.seas.harvard.edu/~mgagnon/software_protection_through_anti_debugging.pdf Software Protection through Anti-Debugging Michael N Gagnon, Stephen Taylor, Anup Ghosh] Techniques used in anti-debugging include:\\nAPI-based: check for the existence of a debugger using system information\\nException-based: check to see if exceptions are interfered with\\nProcess and thread blocks: check whether process and thread blocks have been manipulated\\nModified code: check for code modifications made by a debugger handling software breakpoints\\nHardware- and register-based: check for hardware breakpoints and CPU registers\\nTiming and latency: check the time taken for the execution of instructions\\nDetecting and penalizing debugger<ref name=\"soft-prot\" /><!-- reference does not exist -->\\n\\nAn early example of anti-debugging existed in early versions of Microsoft Word which, if a debugger was detected, produced a message that said: \"The tree of evil bears bitter fruit. Now trashing program disk.\", after which it caused the floppy disk drive to emit alarming noises with the intent of scaring the user away from attempting it again.<ref name=\"SecurityEngineeringRA\">{{cite book | url=http://www.cl.cam.ac.uk/~rja14/book.html | author=Ross J. Anderson | title=Security Engineering | isbn = 0-471-38922-6 | page=684 }}<ref name=\"toastytech\">{{cite web | url=http://toastytech.com/guis/word1153.html | title=Microsoft Word for DOS 1.15}}\\n'\n",
    "\n",
    "stopwords_list = stopwords.words('english')\n",
    "\n",
    "# Ztokenizuj artykuł: tokens\n",
    "tokens = word_tokenize(article)\n",
    "\n",
    "# Przekonwertuje listę z tokenami do małych liter: lower_tokens\n",
    "lower_tokens = [token.lower() for token in tokens]\n",
    "\n",
    "# usuń znaki interpunkcyjne oraz stopwords\n",
    "lower_tokens = [item for item in lower_tokens if item.isalpha()]  # remove punctuation\n",
    "lower_tokens = [item for item in lower_tokens if item not in stopwords_list]  # stopwords\n",
    "\n",
    "#Stwórz licznik dla lower_tokens: bow_simple\n",
    "bow_simple = Counter(lower_tokens)\n",
    "\n",
    "# Wyświetl 10 najczęściej występujących tokenów\n",
    "print(bow_simple.most_common(10))"
   ]
  },
  {
   "cell_type": "markdown",
   "id": "0a8b232e",
   "metadata": {},
   "source": [
    "## Zadanie 7\n",
    "\n",
    "Wykonaj jeszcze raz to samo co w zadaniu 6, ale tym razem do preprocessingu dodaj jeszcze etap **lematyzacji**. Porównaj otrzymane wyniki. _(Wykonaj polecenia zawarte w komentarzach.)_"
   ]
  },
  {
   "cell_type": "code",
   "execution_count": 6,
   "id": "a0c57af5",
   "metadata": {
    "ExecuteTime": {
     "end_time": "2023-07-16T14:10:51.573964Z",
     "start_time": "2023-07-16T14:10:50.242633Z"
    }
   },
   "outputs": [
    {
     "name": "stdout",
     "output_type": "stream",
     "text": [
      "[('debugging', 39), ('system', 25), ('bug', 17), ('software', 16), ('problem', 15), ('tool', 15), ('computer', 14), ('process', 13), ('term', 13), ('debugger', 13)]\n"
     ]
    }
   ],
   "source": [
    "# Zaimportuj WordNetLemmatizer z modułu nltk.stem\n",
    "from nltk.corpus import stopwords\n",
    "from nltk.stem import WordNetLemmatizer\n",
    "\n",
    "# Na liście tokenów pozostaw tylko słowa alfanumeryczne: alpha_only\n",
    "alpha_only = [t.lower() for t in tokens if t.isalpha()]\n",
    "\n",
    "# Usuń wszystkie stopwords: no_stops\n",
    "stopwords_list = stopwords.words('english')\n",
    "\n",
    "no_stops = [t for t in alpha_only if t not in stopwords_list]\n",
    "\n",
    "# Zainicjalizuj WordNetLemmatizer\n",
    "wordnet_lemmatizer = WordNetLemmatizer()\n",
    "\n",
    "# Zlematyzuj wszystkie tokeny do nowej listy: lemmatized\n",
    "lemmatized = [wordnet_lemmatizer.lemmatize(t) for t in no_stops]\n",
    "\n",
    "# Stwórz bag-of-words: bow\n",
    "bow = Counter(lemmatized)\n",
    "\n",
    "# Wyświetl 10 najczęstszych tokenów\n",
    "print(bow.most_common(10))"
   ]
  },
  {
   "cell_type": "markdown",
   "id": "638c6e18",
   "metadata": {},
   "source": [
    "## Zadanie 8\n",
    "\n",
    "Przy użyciu biblioteki `Gensim` stwórz **słownik** i **korpus** na podstawie artykułów zapisanych w pliku `articles.pkl`. Użyj tej struktury danych do prześledzenia trendów i potencjalnie interesujących tematów w zestawie dokumentów. W pliku `articles.pkl` znajduje się kilka atrykułów z _Wikipedii_, które zostały poddane wstępnemu przetwarzaniu (_tokenizacja_, _lowercasing_, usunięcie _stop words_ i interpunkcji). Przechowywane są w zmiennej `articles`. Twoim zadaniem jest stworzenie **słownika** i **korpusu** na podstawie tych artykułów. _(Wykonaj polecenia zawarte w komentarzach.)_"
   ]
  },
  {
   "cell_type": "code",
   "execution_count": 15,
   "id": "45fd4a31",
   "metadata": {
    "ExecuteTime": {
     "end_time": "2023-07-16T14:43:26.422052Z",
     "start_time": "2023-07-16T14:43:26.387983Z"
    }
   },
   "outputs": [
    {
     "name": "stdout",
     "output_type": "stream",
     "text": [
      "computer\n",
      "[(0, 53), (12, 3), (29, 4), (34, 1), (36, 1), (40, 2), (42, 7), (49, 4), (64, 1), (73, 1)]\n"
     ]
    }
   ],
   "source": [
    "import pickle\n",
    "\n",
    "# Wczytaj artykuły z pliku\n",
    "with open('articles.pkl', 'rb') as f:\n",
    "    articles = pickle.load(f)\n",
    "\n",
    "# Zaimportuj Dictionary\n",
    "from gensim.corpora.dictionary import Dictionary\n",
    "\n",
    "# Stwórz Dictionary z załadowanych artykułów: dictionary\n",
    "dictionary = Dictionary(articles)\n",
    "\n",
    "# Pobierz id tokenu \"computer\": computer_id\n",
    "computer_id = dictionary.token2id.get(\"computer\")\n",
    "\n",
    "# Użyj computer_id w Dictionary, żeby wyświetlić słowo\n",
    "print(dictionary.get(computer_id))\n",
    "\n",
    "# Stwórz korpus: corpus\n",
    "corpus = [dictionary.doc2bow(article) for article in articles]\n",
    "\n",
    "# Wyświetl pierwsze 10 id_tokenów z częstościami ich występowania dla piątego dokumentu.\n",
    "print(corpus[4][:10])"
   ]
  },
  {
   "cell_type": "markdown",
   "id": "a1f0303f",
   "metadata": {},
   "source": [
    "## Zadanie 9\n",
    "\n",
    "Użyj stworzonego w zadaniu 8 **korpusu gensim** i **słownika** do odnalezienia najczęstszych tokenów dla piątego dokumentu oraz dla wszystkich dokumentów. Spróbuj na podstawie odpowiedzi odgadnąć jaki jest tytuł artykułu. _(Wykonaj polecenia zawarte w komentarzach.)_"
   ]
  },
  {
   "cell_type": "code",
   "execution_count": 20,
   "id": "e28fbed2",
   "metadata": {
    "ExecuteTime": {
     "end_time": "2023-07-16T17:16:36.180081Z",
     "start_time": "2023-07-16T17:16:36.164073Z"
    }
   },
   "outputs": [
    {
     "name": "stdout",
     "output_type": "stream",
     "text": [
      "'' 53\n",
      "engineering 35\n",
      "reverse 27\n",
      "software 16\n",
      "ref 11\n",
      "\n",
      "#############\n",
      "\n",
      "'' 351\n",
      "software 156\n",
      "computer 153\n",
      "`` 104\n",
      "cite 98\n"
     ]
    }
   ],
   "source": [
    "import itertools\n",
    "from collections import defaultdict\n",
    "\n",
    "# Zapisz piąty dokument w zmiennej doc: doc\n",
    "doc = corpus[4]\n",
    "\n",
    "# Posortuj doc po częstościach występowania: bow_doc\n",
    "bow_doc = sorted(doc, key=lambda w: w[1], reverse=True)\n",
    "\n",
    "# Wyświetl pierwsze 5 najczęstszych słów razem z częstościami ich występowania\n",
    "for word_id, word_count in bow_doc[:5]:\n",
    "    print(dictionary.get(word_id), word_count)\n",
    "\n",
    "print(\"\\n#############\\n\")\n",
    "\n",
    "# Stwórz defaultdict: total_word_count\n",
    "total_word_count = defaultdict(int)\n",
    "\n",
    "for word_id, word_count in itertools.chain.from_iterable(corpus):\n",
    "    total_word_count[word_id] += word_count\n",
    "\n",
    "# Stwórz z defaultdict posortowaną listę: sorted_word_count \n",
    "sorted_word_count = sorted(total_word_count.items(), key=lambda w: w[1], reverse=True) \n",
    "\n",
    "# Wyświetl 5 najczęściej występujących słów razem z częstościami.\n",
    "for word_id, word_count in sorted_word_count[:5]:\n",
    "    print(dictionary.get(word_id), word_count)"
   ]
  },
  {
   "cell_type": "markdown",
   "id": "4cdf27d4",
   "metadata": {},
   "source": [
    "## Zadanie 10\n",
    "\n",
    "Przyłóż dane zawarte w **słowniku** i **korpusie** opracowanym w zadaniu 8 do modelu **TF-IDF**. _(Wykonaj polecenia zawarte w komentarzach.)_"
   ]
  },
  {
   "cell_type": "code",
   "execution_count": 19,
   "id": "8feecec1",
   "metadata": {
    "ExecuteTime": {
     "end_time": "2023-07-16T17:16:21.801776Z",
     "start_time": "2023-07-16T17:16:21.781066Z"
    }
   },
   "outputs": [
    {
     "name": "stdout",
     "output_type": "stream",
     "text": [
      "[(29, 0.003947336371077938), (34, 0.015722570834963884), (36, 0.012459842594174939), (40, 0.015722570834963884), (49, 0.06289028333985554)] \n",
      "\n",
      "reverse 0.4245094125440249\n",
      "engineering 0.347517588472571\n",
      "3d 0.22545930743311063\n",
      "product 0.14224789608159819\n",
      "chikofsky 0.14091206714569413\n"
     ]
    }
   ],
   "source": [
    "from gensim.models.tfidfmodel import TfidfModel\n",
    "\n",
    "# Stwórz nowy model TfidfModel używając korpusu: tfidf\n",
    "tfidf = TfidfModel(corpus)\n",
    "\n",
    "# Wagi modelu tfidf dla piątego dokumentu przypisz do zmiennej: tfidf_weights\n",
    "tfidf_weights = tfidf[doc]\n",
    "\n",
    "# Wyświetl pierwsze pięć wag\n",
    "print(tfidf_weights[:5], '\\n')\n",
    "\n",
    "# Posortuj wagi od największej do najmniejszej: sorted_tfidf_weights\n",
    "sorted_tfidf_weights = sorted(tfidf_weights, key=lambda w: w[1], reverse=True)\n",
    "\n",
    "# Wyświetl pięć najczęściej występujących słów razem z wagami\n",
    "for term_id, weight in sorted_tfidf_weights[:5]:\n",
    "    print(dictionary.get(term_id), weight)"
   ]
  }
 ],
 "metadata": {
  "hide_input": false,
  "kernelspec": {
   "display_name": "Python 3 (ipykernel)",
   "language": "python",
   "name": "python3"
  },
  "language_info": {
   "codemirror_mode": {
    "name": "ipython",
    "version": 3
   },
   "file_extension": ".py",
   "mimetype": "text/x-python",
   "name": "python",
   "nbconvert_exporter": "python",
   "pygments_lexer": "ipython3",
   "version": "3.10.6"
  },
  "toc": {
   "base_numbering": 1,
   "nav_menu": {},
   "number_sections": true,
   "sideBar": true,
   "skip_h1_title": true,
   "title_cell": "Table of Contents",
   "title_sidebar": "Contents",
   "toc_cell": false,
   "toc_position": {},
   "toc_section_display": true,
   "toc_window_display": false
  },
  "varInspector": {
   "cols": {
    "lenName": 16,
    "lenType": 16,
    "lenVar": 40
   },
   "kernels_config": {
    "python": {
     "delete_cmd_postfix": "",
     "delete_cmd_prefix": "del ",
     "library": "var_list.py",
     "varRefreshCmd": "print(var_dic_list())"
    },
    "r": {
     "delete_cmd_postfix": ") ",
     "delete_cmd_prefix": "rm(",
     "library": "var_list.r",
     "varRefreshCmd": "cat(var_dic_list()) "
    }
   },
   "types_to_exclude": [
    "module",
    "function",
    "builtin_function_or_method",
    "instance",
    "_Feature"
   ],
   "window_display": false
  }
 },
 "nbformat": 4,
 "nbformat_minor": 5
}
