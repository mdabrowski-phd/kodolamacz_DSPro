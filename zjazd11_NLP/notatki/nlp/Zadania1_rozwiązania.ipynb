{
 "cells": [
  {
   "cell_type": "markdown",
   "id": "ce435166",
   "metadata": {},
   "source": [
    "#### Zadanie 1\n",
    "\n",
    "W zadaniu zmienna scene_one przechowuje napis będący treścią pierwszej sceny w filmie Holy Grall Monty Pythona. W ramach zadania wyodrębnij ze sceny "
   ]
  },
  {
   "cell_type": "code",
   "execution_count": null,
   "id": "89b0332c",
   "metadata": {},
   "outputs": [],
   "source": [
    "scene_one = \"\"\"SCENE 1: [wind] [clop clop clop] \\nKING ARTHUR: Whoa there!  [clop clop clop] \\nSOLDIER #1: Halt!  Who goes there?\\nARTHUR: It is I, Arthur, son of Uther Pendragon, from the castle of Camelot.  King of the Britons, defeator of the Saxons, sovereign of all England!\\nSOLDIER #1: Pull the other one!\\nARTHUR: I am, ...  and this is my trusty servant Patsy.  We have ridden the length and breadth of the land in search of knights who will join me in my court at Camelot.  I must speak with your lord and master.\\nSOLDIER #1: What?  Ridden on a horse?\\nARTHUR: Yes!\\nSOLDIER #1: You're using coconuts!\\nARTHUR: What?\\nSOLDIER #1: You've got two empty halves of coconut and you're bangin' 'em together.\\nARTHUR: So?  We have ridden since the snows of winter covered this land, through the kingdom of Mercea, through--\\nSOLDIER #1: Where'd you get the coconuts?\\nARTHUR: We found them.\\nSOLDIER #1: Found them?  In Mercea?  The coconut's tropical!\\nARTHUR: What do you mean?\\nSOLDIER #1: Well, this is a temperate zone.\\nARTHUR: The swallow may fly south with the sun or the house martin or the plover may seek warmer climes in winter, yet these are not strangers to our land?\\nSOLDIER #1: Are you suggesting coconuts migrate?\\nARTHUR: Not at all.  They could be carried.\\nSOLDIER #1: What?  A swallow carrying a coconut?\\nARTHUR: It could grip it by the husk!\\nSOLDIER #1: It's not a question of where he grips it!  It's a simple question of weight ratios!  A five ounce bird could not carry a one pound coconut.\\nARTHUR: Well, it doesn't matter.  Will you go and tell your master that Arthur from the Court of Camelot is here.\\nSOLDIER #1: Listen.  In order to maintain air-speed velocity, a swallow needs to beat its wings forty-three times every second, right?\\nARTHUR: Please!\\nSOLDIER #1: Am I right?\\nARTHUR: I'm not interested!\\nSOLDIER #2: It could be carried by an African swallow!\\nSOLDIER #1: Oh, yeah, an African swallow maybe, but not a European swallow.  That's my point.\\nSOLDIER #2: Oh, yeah, I agree with that.\\nARTHUR: Will you ask your master if he wants to join my court at Camelot?!\\nSOLDIER #1: But then of course a-- African swallows are non-migratory.\\nSOLDIER #2: Oh, yeah...\\nSOLDIER #1: So they couldn't bring a coconut back anyway...  [clop clop clop] \\nSOLDIER #2: Wait a minute!  Supposing two swallows carried it together?\\nSOLDIER #1: No, they'd have to have it on a line.\\nSOLDIER #2: Well, simple!  They'd just use a strand of creeper!\\nSOLDIER #1: What, held under the dorsal guiding feathers?\\nSOLDIER #2: Well, why not?\\n\"\"\"\n",
    "\n",
    "# Zaimportuje potrzebne funkcje\n",
    "from nltk.tokenize import word_tokenize\n",
    "from nltk.tokenize import sent_tokenize\n",
    "\n",
    "# Rozbij pierwszą scenę na zdania: sentences\n",
    "sentences = sent_tokenize(scene_one)\n",
    "\n",
    "# Użyj word_tokenize, żeby rozbić na słowa czwarte zdanie sceny: tokenized_sent\n",
    "tokenized_sent = word_tokenize(sentences[3])\n",
    "\n",
    "# Utwórz zbiór unikalnych tokenów (słów) z całej pierwszej sceny: unique_tokens\n",
    "unique_tokens = set(word_tokenize(scene_one))\n",
    "\n",
    "# Wyświetl wynik - unikalne tokeny pierwszej sceny filmu\n",
    "print(unique_tokens)\n",
    " "
   ]
  },
  {
   "cell_type": "markdown",
   "id": "0076c4b6",
   "metadata": {},
   "source": [
    "### Zadanie 2\n",
    "\n",
    "Wykonaj polecenia zawarte w komentarzach."
   ]
  },
  {
   "cell_type": "code",
   "execution_count": null,
   "id": "7a3040a9",
   "metadata": {},
   "outputs": [],
   "source": [
    "import re\n",
    "from nltk.tokenize import sent_tokenize\n",
    "\n",
    "scene_one = \"\"\"SCENE 1: [wind] [clop clop clop] \\nKING ARTHUR: Whoa there!  [clop clop clop] \\nSOLDIER #1: Halt!  Who goes there?\\nARTHUR: It is I, Arthur, son of Uther Pendragon, from the castle of Camelot.  King of the Britons, defeator of the Saxons, sovereign of all England!\\nSOLDIER #1: Pull the other one!\\nARTHUR: I am, ...  and this is my trusty servant Patsy.  We have ridden the length and breadth of the land in search of knights who will join me in my court at Camelot.  I must speak with your lord and master.\\nSOLDIER #1: What?  Ridden on a horse?\\nARTHUR: Yes!\\nSOLDIER #1: You're using coconuts!\\nARTHUR: What?\\nSOLDIER #1: You've got two empty halves of coconut and you're bangin' 'em together.\\nARTHUR: So?  We have ridden since the snows of winter covered this land, through the kingdom of Mercea, through--\\nSOLDIER #1: Where'd you get the coconuts?\\nARTHUR: We found them.\\nSOLDIER #1: Found them?  In Mercea?  The coconut's tropical!\\nARTHUR: What do you mean?\\nSOLDIER #1: Well, this is a temperate zone.\\nARTHUR: The swallow may fly south with the sun or the house martin or the plover may seek warmer climes in winter, yet these are not strangers to our land?\\nSOLDIER #1: Are you suggesting coconuts migrate?\\nARTHUR: Not at all.  They could be carried.\\nSOLDIER #1: What?  A swallow carrying a coconut?\\nARTHUR: It could grip it by the husk!\\nSOLDIER #1: It's not a question of where he grips it!  It's a simple question of weight ratios!  A five ounce bird could not carry a one pound coconut.\\nARTHUR: Well, it doesn't matter.  Will you go and tell your master that Arthur from the Court of Camelot is here.\\nSOLDIER #1: Listen.  In order to maintain air-speed velocity, a swallow needs to beat its wings forty-three times every second, right?\\nARTHUR: Please!\\nSOLDIER #1: Am I right?\\nARTHUR: I'm not interested!\\nSOLDIER #2: It could be carried by an African swallow!\\nSOLDIER #1: Oh, yeah, an African swallow maybe, but not a European swallow.  That's my point.\\nSOLDIER #2: Oh, yeah, I agree with that.\\nARTHUR: Will you ask your master if he wants to join my court at Camelot?!\\nSOLDIER #1: But then of course a-- African swallows are non-migratory.\\nSOLDIER #2: Oh, yeah...\\nSOLDIER #1: So they couldn't bring a coconut back anyway...  [clop clop clop] \\nSOLDIER #2: Wait a minute!  Supposing two swallows carried it together?\\nSOLDIER #1: No, they'd have to have it on a line.\\nSOLDIER #2: Well, simple!  They'd just use a strand of creeper!\\nSOLDIER #1: What, held under the dorsal guiding feathers?\\nSOLDIER #2: Well, why not?\\n\"\"\"\n",
    "\n",
    "# Znajdź pierwsze wystąpienie słowa \"coconuts\" w scene_one: match\n",
    "match = re.search('coconuts', scene_one)\n",
    "\n",
    "# Wyświetl początkowy i końcowy indeks dopasowania\n",
    "print(match.start(), match.end())\n",
    "\n",
    "# Napisz wyrażenie regularne na dowolny tekst znajdujący się pomiędzy nawiasami kwadratowymi\n",
    "# pattern1 = r\"\\[.+\\]\"  # kropka to prawie wszystko - przy kropce nie są dopasowywane tylko znaki nowej linii\n",
    "pattern1 = r\"\\[[\\w\\s]+\\]\"\n",
    "\n",
    "# Użyj funkcji re.search, żeby znaleźć pierwsze wystąpienie tekstu w nawisach kwadratowych\n",
    "print(re.search(pattern1, scene_one))\n",
    "\n",
    "# Znajdź składnie skryptową (znak słowny, biały znak lub hash, jeden lub więcej razy, po którym następuje dwukropek) na początku czwartego zdania.\n",
    "sentences = sent_tokenize(scene_one)\n",
    "\n",
    "pattern2 = r\"[\\w #]+:\"\n",
    "print(re.search(pattern2, sentences[3]))"
   ]
  },
  {
   "cell_type": "markdown",
   "id": "41195d6f",
   "metadata": {},
   "source": [
    "#### Zadanie 3\n",
    "\n",
    "Wykonaj polecenia zawarte w komentarzach."
   ]
  },
  {
   "cell_type": "code",
   "execution_count": null,
   "id": "f209dfb9",
   "metadata": {},
   "outputs": [],
   "source": [
    "# Zaimportuj potrzebne moduły\n",
    "from nltk.tokenize import regexp_tokenize\n",
    "from nltk.tokenize import TweetTokenizer\n",
    "\n",
    "tweets = [\n",
    "    'You can now use @twitter to get onboard of your #KLM flight.',\n",
    "    'A thousand planets. One mission to save them all. Watch the new #Valerian trailer and like this Tweet to explore more. In theaters July 21',\n",
    "    'Hello, @nlpPython #python'\n",
    "]\n",
    "\n",
    "# Zdefiniuj regex dla hastagów: pattern1\n",
    "pattern1 = r\"#\\w+\"\n",
    "# Użyj funkcji regexp_tokenize z wzorcem hashtaga na pierwszym tweecie z listy tweetów: hashtags\n",
    "hashtags = regexp_tokenize(tweets[0], pattern1)\n",
    "print(hashtags)\n",
    "\n",
    "# Zdefiniuj wzorzec, który dopasuje hashtagi i wzmianki\n",
    "pattern2 = r'(#\\w+|@\\w+)'\n",
    "# Użyj funkcji regexp_token z wzorcem hastaga lub wzmianki na ostatnim tweecie z listy tweetów: mentions_hashtags\n",
    "mentions_hashtags = regexp_tokenize(tweets[2], pattern2)\n",
    "print(mentions_hashtags)\n",
    "\n",
    "# Użyj klasy TweetTokenizer żeby ztokenizować wszystkie tweety do jednej listy\n",
    "tknzr = TweetTokenizer()\n",
    "all_tokens = [tknzr.tokenize(t) for t in tweets]\n",
    "print(all_tokens)"
   ]
  },
  {
   "cell_type": "markdown",
   "id": "7aae2be8-2ce5-4290-87f8-c5dfc1a2e279",
   "metadata": {},
   "source": [
    "#### Zadanie 4\n",
    "\n",
    "Tokenizacja ze znakami non-ascii. Wykonaj polecenia zawarte w komentarzach."
   ]
  },
  {
   "cell_type": "code",
   "execution_count": null,
   "id": "3601fb52-95d0-4239-b134-ef19b4962e93",
   "metadata": {},
   "outputs": [],
   "source": [
    "from nltk.tokenize import regexp_tokenize\n",
    "from nltk.tokenize import word_tokenize\n",
    "\n",
    "polish_text = \"Może zjedlibyśmy pizzę? Świetny pomysł! 😀\"\n",
    "print(polish_text)\n",
    "\n",
    "# Ztokenizuj wszystkie słowa w polish_text\n",
    "all_words = word_tokenize(polish_text)\n",
    "print(all_words)\n",
    "\n",
    "# Ztokenizuj tylko słowa zaczynające się z wielkiej litery\n",
    "capital_words= r\"[A-ZŚĆŹŻÓ]\\w+\"\n",
    "print(regexp_tokenize(polish_text, capital_words))\n",
    "\n",
    "#Ztokenizuj tylko  emoji\n",
    "emoji = \"['\\U0001F300-\\U0001F5FF'|'\\U0001F600-\\U0001F64F'|'\\U0001F680-\\U0001F6FF'|'\\u2600-\\u26FF\\u2700-\\u27BF']\"  # regex dopasowując wszystkie emoji\n",
    "print(regexp_tokenize(polish_text, emoji))"
   ]
  },
  {
   "cell_type": "markdown",
   "id": "bea4e7d7-b41a-4693-9829-6a33d0f595bf",
   "metadata": {},
   "source": [
    "#### Zadanie 5\n",
    "\n",
    "Wykonaj polecenia zawarte w komentarzach."
   ]
  },
  {
   "cell_type": "code",
   "execution_count": null,
   "id": "9166c877-3120-476d-90ba-eda60f4dd244",
   "metadata": {},
   "outputs": [],
   "source": [
    "import re\n",
    "\n",
    "from matplotlib import pyplot as plt\n",
    "from nltk.tokenize import regexp_tokenize\n",
    "\n",
    "with open('holy_grail.txt', 'r') as f:\n",
    "    lines = f.readlines()\n",
    "\n",
    "# Usuwamy z każdej linii osoby\n",
    "pattern = \"[A-Z]{2,}(\\s)?(#\\d)?([A-Z]{2,})?:\"\n",
    "lines = [re.sub(pattern, '', l) for l in lines]\n",
    "\n",
    "# Tokenizujemy każdą linię\n",
    "tokenized_lines = [regexp_tokenize(line, '\\w+') for line in lines]\n",
    "\n",
    "# Wygeneruj listę częstości długości linii: line_num_tokenize\n",
    "line_num_words = [len(t_line) for t_line in tokenized_lines]\n",
    "\n",
    "# Wygeneruj histogram na podstawie stworzonej listy\n",
    "plt.hist(line_num_words, bins=[item-0.5 for item in range(100)])\n",
    "plt.xticks(range(0, 100, 5))\n",
    "\n",
    "# Wyświetl histogram\n",
    "plt.show()"
   ]
  }
 ],
 "metadata": {
  "kernelspec": {
   "display_name": "Python 3 (ipykernel)",
   "language": "python",
   "name": "python3"
  },
  "language_info": {
   "codemirror_mode": {
    "name": "ipython",
    "version": 3
   },
   "file_extension": ".py",
   "mimetype": "text/x-python",
   "name": "python",
   "nbconvert_exporter": "python",
   "pygments_lexer": "ipython3",
   "version": "3.11.1"
  }
 },
 "nbformat": 4,
 "nbformat_minor": 5
}
