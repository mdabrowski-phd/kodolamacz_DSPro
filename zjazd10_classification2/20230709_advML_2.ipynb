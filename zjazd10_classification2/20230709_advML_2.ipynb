{
 "cells": [
  {
   "cell_type": "markdown",
   "id": "22415b13",
   "metadata": {},
   "source": [
    "# Case study: Spis powszechny USA, ciąg dalszy"
   ]
  },
  {
   "cell_type": "markdown",
   "id": "a470e859",
   "metadata": {},
   "source": [
    "## Wczytanie danych i inżynieria cech"
   ]
  },
  {
   "cell_type": "code",
   "execution_count": 1,
   "id": "cff8a3f4",
   "metadata": {
    "ExecuteTime": {
     "end_time": "2023-07-09T06:06:57.834268Z",
     "start_time": "2023-07-09T06:06:56.990242Z"
    }
   },
   "outputs": [],
   "source": [
    "import pandas as pd\n",
    "import numpy as np"
   ]
  },
  {
   "cell_type": "code",
   "execution_count": 2,
   "id": "c48a60e9",
   "metadata": {
    "ExecuteTime": {
     "end_time": "2023-07-09T06:06:57.856656Z",
     "start_time": "2023-07-09T06:06:57.842145Z"
    }
   },
   "outputs": [],
   "source": [
    "colnames = ['age', 'workclass', 'fnlwgt', 'education', 'education_num',\n",
    "            'marital_status', 'occupation', 'relationship', 'race', \n",
    "            'sex', 'capital_gain', 'capital_loss', 'hours_per_week', \n",
    "            'native_country', 'wage_class']"
   ]
  },
  {
   "cell_type": "code",
   "execution_count": 3,
   "id": "6102d2eb",
   "metadata": {
    "ExecuteTime": {
     "end_time": "2023-07-09T06:06:58.058263Z",
     "start_time": "2023-07-09T06:06:57.864143Z"
    }
   },
   "outputs": [
    {
     "data": {
      "text/html": [
       "<div>\n",
       "<style scoped>\n",
       "    .dataframe tbody tr th:only-of-type {\n",
       "        vertical-align: middle;\n",
       "    }\n",
       "\n",
       "    .dataframe tbody tr th {\n",
       "        vertical-align: top;\n",
       "    }\n",
       "\n",
       "    .dataframe thead th {\n",
       "        text-align: right;\n",
       "    }\n",
       "</style>\n",
       "<table border=\"1\" class=\"dataframe\">\n",
       "  <thead>\n",
       "    <tr style=\"text-align: right;\">\n",
       "      <th></th>\n",
       "      <th>age</th>\n",
       "      <th>workclass</th>\n",
       "      <th>fnlwgt</th>\n",
       "      <th>education</th>\n",
       "      <th>education_num</th>\n",
       "      <th>marital_status</th>\n",
       "      <th>occupation</th>\n",
       "      <th>relationship</th>\n",
       "      <th>race</th>\n",
       "      <th>sex</th>\n",
       "      <th>capital_gain</th>\n",
       "      <th>capital_loss</th>\n",
       "      <th>hours_per_week</th>\n",
       "      <th>native_country</th>\n",
       "      <th>wage_class</th>\n",
       "    </tr>\n",
       "  </thead>\n",
       "  <tbody>\n",
       "    <tr>\n",
       "      <th>0</th>\n",
       "      <td>39</td>\n",
       "      <td>State-gov</td>\n",
       "      <td>77516</td>\n",
       "      <td>Bachelors</td>\n",
       "      <td>13</td>\n",
       "      <td>Never-married</td>\n",
       "      <td>Adm-clerical</td>\n",
       "      <td>Not-in-family</td>\n",
       "      <td>White</td>\n",
       "      <td>Male</td>\n",
       "      <td>2174</td>\n",
       "      <td>0</td>\n",
       "      <td>40</td>\n",
       "      <td>United-States</td>\n",
       "      <td>&lt;=50K</td>\n",
       "    </tr>\n",
       "    <tr>\n",
       "      <th>1</th>\n",
       "      <td>50</td>\n",
       "      <td>Self-emp-not-inc</td>\n",
       "      <td>83311</td>\n",
       "      <td>Bachelors</td>\n",
       "      <td>13</td>\n",
       "      <td>Married-civ-spouse</td>\n",
       "      <td>Exec-managerial</td>\n",
       "      <td>Husband</td>\n",
       "      <td>White</td>\n",
       "      <td>Male</td>\n",
       "      <td>0</td>\n",
       "      <td>0</td>\n",
       "      <td>13</td>\n",
       "      <td>United-States</td>\n",
       "      <td>&lt;=50K</td>\n",
       "    </tr>\n",
       "    <tr>\n",
       "      <th>2</th>\n",
       "      <td>38</td>\n",
       "      <td>Private</td>\n",
       "      <td>215646</td>\n",
       "      <td>HS-grad</td>\n",
       "      <td>9</td>\n",
       "      <td>Divorced</td>\n",
       "      <td>Handlers-cleaners</td>\n",
       "      <td>Not-in-family</td>\n",
       "      <td>White</td>\n",
       "      <td>Male</td>\n",
       "      <td>0</td>\n",
       "      <td>0</td>\n",
       "      <td>40</td>\n",
       "      <td>United-States</td>\n",
       "      <td>&lt;=50K</td>\n",
       "    </tr>\n",
       "    <tr>\n",
       "      <th>3</th>\n",
       "      <td>53</td>\n",
       "      <td>Private</td>\n",
       "      <td>234721</td>\n",
       "      <td>11th</td>\n",
       "      <td>7</td>\n",
       "      <td>Married-civ-spouse</td>\n",
       "      <td>Handlers-cleaners</td>\n",
       "      <td>Husband</td>\n",
       "      <td>Black</td>\n",
       "      <td>Male</td>\n",
       "      <td>0</td>\n",
       "      <td>0</td>\n",
       "      <td>40</td>\n",
       "      <td>United-States</td>\n",
       "      <td>&lt;=50K</td>\n",
       "    </tr>\n",
       "    <tr>\n",
       "      <th>4</th>\n",
       "      <td>28</td>\n",
       "      <td>Private</td>\n",
       "      <td>338409</td>\n",
       "      <td>Bachelors</td>\n",
       "      <td>13</td>\n",
       "      <td>Married-civ-spouse</td>\n",
       "      <td>Prof-specialty</td>\n",
       "      <td>Wife</td>\n",
       "      <td>Black</td>\n",
       "      <td>Female</td>\n",
       "      <td>0</td>\n",
       "      <td>0</td>\n",
       "      <td>40</td>\n",
       "      <td>Cuba</td>\n",
       "      <td>&lt;=50K</td>\n",
       "    </tr>\n",
       "  </tbody>\n",
       "</table>\n",
       "</div>"
      ],
      "text/plain": [
       "   age         workclass  fnlwgt  education  education_num  \\\n",
       "0   39         State-gov   77516  Bachelors             13   \n",
       "1   50  Self-emp-not-inc   83311  Bachelors             13   \n",
       "2   38           Private  215646    HS-grad              9   \n",
       "3   53           Private  234721       11th              7   \n",
       "4   28           Private  338409  Bachelors             13   \n",
       "\n",
       "       marital_status         occupation   relationship   race     sex  \\\n",
       "0       Never-married       Adm-clerical  Not-in-family  White    Male   \n",
       "1  Married-civ-spouse    Exec-managerial        Husband  White    Male   \n",
       "2            Divorced  Handlers-cleaners  Not-in-family  White    Male   \n",
       "3  Married-civ-spouse  Handlers-cleaners        Husband  Black    Male   \n",
       "4  Married-civ-spouse     Prof-specialty           Wife  Black  Female   \n",
       "\n",
       "   capital_gain  capital_loss  hours_per_week native_country wage_class  \n",
       "0          2174             0              40  United-States      <=50K  \n",
       "1             0             0              13  United-States      <=50K  \n",
       "2             0             0              40  United-States      <=50K  \n",
       "3             0             0              40  United-States      <=50K  \n",
       "4             0             0              40           Cuba      <=50K  "
      ]
     },
     "execution_count": 3,
     "metadata": {},
     "output_type": "execute_result"
    }
   ],
   "source": [
    "data = pd.read_csv(\"Dane/adult/adult.data\", skipinitialspace=True, names=colnames)\n",
    "data.head()"
   ]
  },
  {
   "cell_type": "code",
   "execution_count": 4,
   "id": "bdd54edd",
   "metadata": {
    "ExecuteTime": {
     "end_time": "2023-07-09T06:06:58.080992Z",
     "start_time": "2023-07-09T06:06:58.068046Z"
    }
   },
   "outputs": [],
   "source": [
    "data = data.drop([\"fnlwgt\"], axis=1)"
   ]
  },
  {
   "cell_type": "code",
   "execution_count": 5,
   "id": "af03ee6f",
   "metadata": {
    "ExecuteTime": {
     "end_time": "2023-07-09T06:06:58.110842Z",
     "start_time": "2023-07-09T06:06:58.089160Z"
    }
   },
   "outputs": [],
   "source": [
    "data[\"wage_class\"] = 1 - (data[\"wage_class\"] == data[\"wage_class\"].iloc[0])"
   ]
  },
  {
   "cell_type": "code",
   "execution_count": 6,
   "id": "378fc201",
   "metadata": {
    "ExecuteTime": {
     "end_time": "2023-07-09T06:06:58.133511Z",
     "start_time": "2023-07-09T06:06:58.118134Z"
    }
   },
   "outputs": [],
   "source": [
    "data = data.drop([\"education\"], axis=1)"
   ]
  },
  {
   "cell_type": "code",
   "execution_count": 7,
   "id": "4e48eea6",
   "metadata": {
    "ExecuteTime": {
     "end_time": "2023-07-09T06:06:58.162461Z",
     "start_time": "2023-07-09T06:06:58.140756Z"
    }
   },
   "outputs": [],
   "source": [
    "data[\"marital_status\"] = data.marital_status.replace(\n",
    "    {\"Married-AF-spouse\": \"Married-civ-spouse\"}\n",
    ")  # w praktyce ta nazwa zmienia znaczenie, wiec można by ją zmienic"
   ]
  },
  {
   "cell_type": "code",
   "execution_count": 8,
   "id": "960c59b5",
   "metadata": {
    "ExecuteTime": {
     "end_time": "2023-07-09T06:06:58.199412Z",
     "start_time": "2023-07-09T06:06:58.169258Z"
    }
   },
   "outputs": [],
   "source": [
    "data[\"sex\"] = data[\"sex\"].replace({\"Male\": 0, \"Female\": 1})"
   ]
  },
  {
   "cell_type": "code",
   "execution_count": 9,
   "id": "702c72f6",
   "metadata": {
    "ExecuteTime": {
     "end_time": "2023-07-09T06:06:58.219707Z",
     "start_time": "2023-07-09T06:06:58.206909Z"
    }
   },
   "outputs": [],
   "source": [
    "# trick na \"przyciągniecie\" dużych wartości do zera z zachowaniem uporządkowania z myślą o modelach liniowych\n",
    "# w praktyce można porobić eksperymenty na dobór konkretnego wzoru\n",
    "\n",
    "data[\"capital_gain\"] = np.log(1+data.capital_gain/1000)\n",
    "data[\"capital_loss\"] = np.log(1+data.capital_loss/1000)"
   ]
  },
  {
   "cell_type": "code",
   "execution_count": 10,
   "id": "6f691869",
   "metadata": {
    "ExecuteTime": {
     "end_time": "2023-07-09T06:06:58.248967Z",
     "start_time": "2023-07-09T06:06:58.231895Z"
    }
   },
   "outputs": [],
   "source": [
    "data[\"is_native_us\"] = (data[\"native_country\"] == \"United-States\").astype(int)\n",
    "data = data.drop([\"native_country\"], axis=1)"
   ]
  },
  {
   "cell_type": "code",
   "execution_count": 11,
   "id": "a8d1e493",
   "metadata": {
    "ExecuteTime": {
     "end_time": "2023-07-09T06:06:58.271108Z",
     "start_time": "2023-07-09T06:06:58.258227Z"
    }
   },
   "outputs": [],
   "source": [
    "y = data.wage_class\n",
    "X = data.drop([\"wage_class\"], axis=1)"
   ]
  },
  {
   "cell_type": "code",
   "execution_count": 12,
   "id": "7d8852b7",
   "metadata": {
    "ExecuteTime": {
     "end_time": "2023-07-09T06:06:58.369245Z",
     "start_time": "2023-07-09T06:06:58.277810Z"
    }
   },
   "outputs": [
    {
     "data": {
      "text/html": [
       "<div>\n",
       "<style scoped>\n",
       "    .dataframe tbody tr th:only-of-type {\n",
       "        vertical-align: middle;\n",
       "    }\n",
       "\n",
       "    .dataframe tbody tr th {\n",
       "        vertical-align: top;\n",
       "    }\n",
       "\n",
       "    .dataframe thead th {\n",
       "        text-align: right;\n",
       "    }\n",
       "</style>\n",
       "<table border=\"1\" class=\"dataframe\">\n",
       "  <thead>\n",
       "    <tr style=\"text-align: right;\">\n",
       "      <th></th>\n",
       "      <th>age</th>\n",
       "      <th>education_num</th>\n",
       "      <th>sex</th>\n",
       "      <th>capital_gain</th>\n",
       "      <th>capital_loss</th>\n",
       "      <th>hours_per_week</th>\n",
       "      <th>is_native_us</th>\n",
       "      <th>workclass_?</th>\n",
       "      <th>workclass_Federal-gov</th>\n",
       "      <th>workclass_Local-gov</th>\n",
       "      <th>...</th>\n",
       "      <th>relationship_Not-in-family</th>\n",
       "      <th>relationship_Other-relative</th>\n",
       "      <th>relationship_Own-child</th>\n",
       "      <th>relationship_Unmarried</th>\n",
       "      <th>relationship_Wife</th>\n",
       "      <th>race_Amer-Indian-Eskimo</th>\n",
       "      <th>race_Asian-Pac-Islander</th>\n",
       "      <th>race_Black</th>\n",
       "      <th>race_Other</th>\n",
       "      <th>race_White</th>\n",
       "    </tr>\n",
       "  </thead>\n",
       "  <tbody>\n",
       "    <tr>\n",
       "      <th>0</th>\n",
       "      <td>39</td>\n",
       "      <td>13</td>\n",
       "      <td>0</td>\n",
       "      <td>1.154993</td>\n",
       "      <td>0.0</td>\n",
       "      <td>40</td>\n",
       "      <td>1</td>\n",
       "      <td>0</td>\n",
       "      <td>0</td>\n",
       "      <td>0</td>\n",
       "      <td>...</td>\n",
       "      <td>1</td>\n",
       "      <td>0</td>\n",
       "      <td>0</td>\n",
       "      <td>0</td>\n",
       "      <td>0</td>\n",
       "      <td>0</td>\n",
       "      <td>0</td>\n",
       "      <td>0</td>\n",
       "      <td>0</td>\n",
       "      <td>1</td>\n",
       "    </tr>\n",
       "    <tr>\n",
       "      <th>1</th>\n",
       "      <td>50</td>\n",
       "      <td>13</td>\n",
       "      <td>0</td>\n",
       "      <td>0.000000</td>\n",
       "      <td>0.0</td>\n",
       "      <td>13</td>\n",
       "      <td>1</td>\n",
       "      <td>0</td>\n",
       "      <td>0</td>\n",
       "      <td>0</td>\n",
       "      <td>...</td>\n",
       "      <td>0</td>\n",
       "      <td>0</td>\n",
       "      <td>0</td>\n",
       "      <td>0</td>\n",
       "      <td>0</td>\n",
       "      <td>0</td>\n",
       "      <td>0</td>\n",
       "      <td>0</td>\n",
       "      <td>0</td>\n",
       "      <td>1</td>\n",
       "    </tr>\n",
       "  </tbody>\n",
       "</table>\n",
       "<p>2 rows × 48 columns</p>\n",
       "</div>"
      ],
      "text/plain": [
       "   age  education_num  sex  capital_gain  capital_loss  hours_per_week  \\\n",
       "0   39             13    0      1.154993           0.0              40   \n",
       "1   50             13    0      0.000000           0.0              13   \n",
       "\n",
       "   is_native_us  workclass_?  workclass_Federal-gov  workclass_Local-gov  ...  \\\n",
       "0             1            0                      0                    0  ...   \n",
       "1             1            0                      0                    0  ...   \n",
       "\n",
       "   relationship_Not-in-family  relationship_Other-relative  \\\n",
       "0                           1                            0   \n",
       "1                           0                            0   \n",
       "\n",
       "   relationship_Own-child  relationship_Unmarried  relationship_Wife  \\\n",
       "0                       0                       0                  0   \n",
       "1                       0                       0                  0   \n",
       "\n",
       "   race_Amer-Indian-Eskimo  race_Asian-Pac-Islander  race_Black  race_Other  \\\n",
       "0                        0                        0           0           0   \n",
       "1                        0                        0           0           0   \n",
       "\n",
       "   race_White  \n",
       "0           1  \n",
       "1           1  \n",
       "\n",
       "[2 rows x 48 columns]"
      ]
     },
     "execution_count": 12,
     "metadata": {},
     "output_type": "execute_result"
    }
   ],
   "source": [
    "X = pd.get_dummies(X)\n",
    "X.head(2)"
   ]
  },
  {
   "cell_type": "code",
   "execution_count": 13,
   "id": "2f42aa68",
   "metadata": {
    "ExecuteTime": {
     "end_time": "2023-07-09T06:06:59.119678Z",
     "start_time": "2023-07-09T06:06:58.380291Z"
    }
   },
   "outputs": [],
   "source": [
    "from sklearn.preprocessing import StandardScaler\n",
    "scaler = StandardScaler()\n",
    "X[\n",
    "    [\"age\", \"education_num\", \"capital_gain\", \"capital_loss\", \"hours_per_week\"]\n",
    "] = scaler.fit_transform(\n",
    "    X[[\"age\", \"education_num\", \"capital_gain\", \"capital_loss\",\"hours_per_week\"]]\n",
    ")\n",
    "# formalnie powinnismy to robic po podziale na train-test"
   ]
  },
  {
   "cell_type": "code",
   "execution_count": 14,
   "id": "49ff4388",
   "metadata": {
    "ExecuteTime": {
     "end_time": "2023-07-09T06:06:59.291251Z",
     "start_time": "2023-07-09T06:06:59.126370Z"
    }
   },
   "outputs": [],
   "source": [
    "from sklearn.linear_model import LogisticRegression\n",
    "from sklearn.tree import DecisionTreeClassifier\n",
    "\n",
    "from sklearn.model_selection import train_test_split\n",
    "from sklearn.metrics import accuracy_score"
   ]
  },
  {
   "cell_type": "code",
   "execution_count": 15,
   "id": "e568aac7",
   "metadata": {
    "ExecuteTime": {
     "end_time": "2023-07-09T06:06:59.336991Z",
     "start_time": "2023-07-09T06:06:59.297948Z"
    }
   },
   "outputs": [],
   "source": [
    "X_train, X_test, y_train, y_test = train_test_split(X, y, test_size=0.15, random_state=123)"
   ]
  },
  {
   "cell_type": "code",
   "execution_count": 16,
   "id": "779e0f59",
   "metadata": {
    "ExecuteTime": {
     "end_time": "2023-07-09T06:07:02.376985Z",
     "start_time": "2023-07-09T06:06:59.342754Z"
    }
   },
   "outputs": [
    {
     "data": {
      "text/plain": [
       "0.8550665301944729"
      ]
     },
     "execution_count": 16,
     "metadata": {},
     "output_type": "execute_result"
    }
   ],
   "source": [
    "model = LogisticRegression(max_iter=200)\n",
    "model.fit(X_train, y_train)\n",
    "y_pred = model.predict(X_test)\n",
    "accuracy_score(y_test, y_pred)"
   ]
  },
  {
   "cell_type": "markdown",
   "id": "296c598e",
   "metadata": {},
   "source": [
    "## Komitety algorytmów (ensembling)"
   ]
  },
  {
   "cell_type": "markdown",
   "id": "b9e3ec43",
   "metadata": {},
   "source": [
    "### Las losowy\n",
    "(drzewo korzysta ze wszystkich zmiennych, na każdym etapie wybierając podzbiór cech)"
   ]
  },
  {
   "cell_type": "code",
   "execution_count": 17,
   "id": "15fed94f",
   "metadata": {
    "ExecuteTime": {
     "end_time": "2023-07-09T06:11:17.092318Z",
     "start_time": "2023-07-09T06:11:17.086418Z"
    }
   },
   "outputs": [],
   "source": [
    "from sklearn.ensemble import RandomForestClassifier\n",
    "# RandomForestClassifier?  # domyślnie 100 drzew decyzyjnych"
   ]
  },
  {
   "cell_type": "code",
   "execution_count": 18,
   "id": "c0873ce5",
   "metadata": {
    "ExecuteTime": {
     "end_time": "2023-07-09T06:11:35.673923Z",
     "start_time": "2023-07-09T06:11:30.869815Z"
    }
   },
   "outputs": [
    {
     "data": {
      "text/plain": [
       "0.8536335721596725"
      ]
     },
     "execution_count": 18,
     "metadata": {},
     "output_type": "execute_result"
    }
   ],
   "source": [
    "model = RandomForestClassifier()\n",
    "\n",
    "model.fit(X_train, y_train)\n",
    "y_pred = model.predict(X_test)\n",
    "accuracy_score(y_test, y_pred)"
   ]
  },
  {
   "cell_type": "markdown",
   "id": "2d209987",
   "metadata": {},
   "source": [
    "### Bagging\n",
    "(na samym początku wybieramy podzbiór cech, na których trenujemy drzewo)"
   ]
  },
  {
   "cell_type": "code",
   "execution_count": 21,
   "id": "a3652e63",
   "metadata": {
    "ExecuteTime": {
     "end_time": "2023-07-09T06:29:39.778957Z",
     "start_time": "2023-07-09T06:29:39.773574Z"
    }
   },
   "outputs": [],
   "source": [
    "from sklearn.ensemble import BaggingClassifier\n",
    "from sklearn.tree import DecisionTreeClassifier  # jeden z możliwych estymatorów (domyślny)\n",
    "# ?BaggingClassifier"
   ]
  },
  {
   "cell_type": "code",
   "execution_count": 23,
   "id": "927dc694",
   "metadata": {
    "ExecuteTime": {
     "end_time": "2023-07-09T06:31:18.862014Z",
     "start_time": "2023-07-09T06:31:12.212653Z"
    }
   },
   "outputs": [
    {
     "data": {
      "text/plain": [
       "0.8671443193449335"
      ]
     },
     "execution_count": 23,
     "metadata": {},
     "output_type": "execute_result"
    }
   ],
   "source": [
    "model = BaggingClassifier(DecisionTreeClassifier(min_samples_leaf=5),\n",
    "                          n_estimators=100, max_samples=0.5, max_features=0.5)  # domyślnie: n_estimators=10\n",
    "\n",
    "model.fit(X_train, y_train)\n",
    "y_pred = model.predict(X_test)\n",
    "accuracy_score(y_test, y_pred)"
   ]
  },
  {
   "cell_type": "markdown",
   "id": "1e1a1dcf",
   "metadata": {},
   "source": [
    "### Boosting\n",
    "(sekwencyjna budowa algorytmów - iteracyjna optymalizacja)"
   ]
  },
  {
   "cell_type": "code",
   "execution_count": 24,
   "id": "99f06487",
   "metadata": {
    "ExecuteTime": {
     "end_time": "2023-07-09T06:37:58.257217Z",
     "start_time": "2023-07-09T06:37:58.252996Z"
    }
   },
   "outputs": [],
   "source": [
    "from sklearn.ensemble import AdaBoostClassifier  # jeden z najpopularniejszych algorytmów\n",
    "# ?AdaBoostClassifier"
   ]
  },
  {
   "cell_type": "code",
   "execution_count": 34,
   "id": "34703f7c",
   "metadata": {
    "ExecuteTime": {
     "end_time": "2023-07-09T06:48:35.987234Z",
     "start_time": "2023-07-09T06:48:32.233203Z"
    }
   },
   "outputs": [
    {
     "data": {
      "text/plain": [
       "0.8681678607983623"
      ]
     },
     "execution_count": 34,
     "metadata": {},
     "output_type": "execute_result"
    }
   ],
   "source": [
    "model = AdaBoostClassifier(n_estimators=200)  # domyślnie: drzewo decyzyjne w standardowej konfiguracji\n",
    "\n",
    "model.fit(X_train, y_train)\n",
    "y_pred = model.predict(X_test)\n",
    "accuracy_score(y_test, y_pred)"
   ]
  },
  {
   "cell_type": "code",
   "execution_count": 35,
   "id": "04f27d81",
   "metadata": {
    "ExecuteTime": {
     "end_time": "2023-07-09T06:55:36.647127Z",
     "start_time": "2023-07-09T06:55:36.643056Z"
    }
   },
   "outputs": [],
   "source": [
    "from sklearn.svm import LinearSVC"
   ]
  },
  {
   "cell_type": "code",
   "execution_count": 46,
   "id": "5c69682c",
   "metadata": {
    "ExecuteTime": {
     "end_time": "2023-07-09T08:16:20.015209Z",
     "start_time": "2023-07-09T08:16:17.416774Z"
    }
   },
   "outputs": [
    {
     "name": "stderr",
     "output_type": "stream",
     "text": [
      "/home/mdabrowski-phd/.local/lib/python3.10/site-packages/sklearn/svm/_base.py:1244: ConvergenceWarning: Liblinear failed to converge, increase the number of iterations.\n",
      "  warnings.warn(\n"
     ]
    },
    {
     "data": {
      "text/plain": [
       "0.8546571136131014"
      ]
     },
     "execution_count": 46,
     "metadata": {},
     "output_type": "execute_result"
    }
   ],
   "source": [
    "# porównanie 'emsemble learning' z tradycyjnym modelem (skuteczność podobna dla małych danych)\n",
    "\n",
    "model = LinearSVC()\n",
    "\n",
    "model.fit(X_train, y_train)\n",
    "y_pred = model.predict(X_test)\n",
    "accuracy_score(y_test, y_pred)"
   ]
  },
  {
   "cell_type": "markdown",
   "id": "a2af474f",
   "metadata": {},
   "source": [
    "## XGBoost\n",
    "\n",
    "**XGBoost** jest to komitet drzew regresyjnych, który stosuje się zarówno do problemu regresji jak i klasyfikacji. Jest to jeden z przykładów klasy algorytmów *gradient boosting'u* - polega na minimalizacji odpowiedniej funkcji kosztu. Dokładny opis: http://xgboost.readthedocs.io/en/latest/tutorials/model.html \n",
    "\n",
    "Wartość zwracana przez model (dla $i$-tej obserwacji):\n",
    "\n",
    "$$\\hat{y}_i = \\sum\\limits_{k=1}^K f_k(x_i),$$\n",
    "gdzie $f_k(\\cdot)$ - wartość (liczba rzeczywista) zwracana przez $k$-te drzewo.\n",
    "\n",
    "<br>\n",
    "\n",
    "**Predykcja zależy od problemu:**\n",
    "\n",
    "1) Regresja: $pred_i = \\hat{y}_i $\n",
    "    \n",
    "2) Klasyfikacja binarna: $pred_i = p(x_i) = sigmoid(\\hat{y}_i) = \\frac{1}{1+\\exp{(-\\hat{y}_i)}}$\n",
    "  \n",
    "3) Klasyfikacja wieloklasowa: $pred_i^c =softmax(\\hat{y}_i)^c = \\frac{\\exp{(\\hat{y}_i^c)}}{\\sum\\limits_c\\exp{(\\hat{y}_i^c)}}$\n",
    "\n",
    "<br>\n",
    "\n",
    "### Uczenie modelu\n",
    "\n",
    "**Budowanie komitetu** polega na konstruowaniu kolejnych drzew w taki sposób, aby zminimalizować fukcję celu:\n",
    "\n",
    "$$Obj(\\Theta) = L(\\Theta) + \\Omega(\\Theta),$$\n",
    "\n",
    "gdzie\n",
    "\n",
    "$\\Theta$ - model (zestaw konkretnych drzew)\n",
    "\n",
    "$L(\\Theta)$ - funkcja straty (miara dopasowania modelu)\n",
    "\n",
    "$\\Omega(\\Theta)$ - regularyzacja (miara złożoności modelu)\n",
    "\n",
    "<br>\n",
    "\n",
    "**Fukcja straty** zależy od problemu:\n",
    "\n",
    "1) Regresja - funkcja straty *kwadratowa*: $\\sum\\limits_i (y_i - \\hat{y}_i)^2$\n",
    "\n",
    "2) Klasyfikacja binarna - funkcja straty *log-loss* (_binomial cross-entropy_): $ - \\frac{1}{n}\\sum\\limits_{i=1}^n \\big( y_i\\log(p(x_i)) + (1-y_i)\\log(1-p(x_i))   \\big) $\n",
    "\n",
    "3) Klasyfikacja wieloklasowa - funkcja straty *log-loss* (_multinomial cross-entropy_): $ = -\\frac{1}{n}\\sum_{i=1}^n\\sum\\limits_c y_{ij} \\log(p(x_i)_j) $\n",
    "\n",
    "<br>\n",
    "\n",
    "Drzewa uczone są iteracyjnie:\n",
    "\n",
    "\\begin{split}\\hat{y}_i^{(0)} &= 0\\\\\n",
    "\\hat{y}_i^{(1)} &= f_1(x_i) = \\hat{y}_i^{(0)} + f_1(x_i)\\\\\n",
    "\\hat{y}_i^{(2)} &= f_1(x_i) + f_2(x_i)= \\hat{y}_i^{(1)} + f_2(x_i)\\\\\n",
    "&\\dots\\\\\n",
    "\\hat{y}_i^{(t)} &= \\sum_{k=1}^t f_k(x_i)= \\hat{y}_i^{(t-1)} + f_t(x_i)\n",
    "\\end{split}\n",
    "\n",
    "W danym kroku znajdujemy drzewo, które najlepiej poprawia naszą funkcję celu.\n",
    "\n",
    "<br>\n",
    "\n",
    "### **Regularyzacja**\n",
    "\n",
    "\\begin{split}\\Omega(\\Theta) = \\sum_{i=1}^t\\Omega(f_i),  \\\\\n",
    "\\Omega(f) = \\gamma T + \\frac{1}{2}\\lambda \\sum_{j=1}^T w_j^2 \\ \\Big( +\\alpha\\sum_{j=1}^T |w_j| \\Big)  ,\n",
    "\\end{split}\n",
    "\n",
    "gdzie $T$ - liczba liści w drzewie $f$, $w_j$ wartość zwracana przez drzewo dla obseracji w $j$-tym liściu. Uwaga: wartości $w_{(\\cdot)}$ są wyliczane na podstawie funkcji celu - w przybliżeniu znajdowane są takie, które dają najlepszy wynik.\n",
    "\n",
    "W praktyce dodaje się kolejną regularyzację (gdzie $\\eta$ - _learning rate_):\n",
    "\n",
    "$$\\hat{y}_i^{(k)} = \\hat{y}_i^{(k-1)} + \\eta \\cdot f_k(x_i),$$\n",
    "\n",
    "<br>\n",
    "\n",
    "**Przykład modelu złożonego z dwóch drzew:**\n",
    "\n",
    "<img src=\"Grafika/xgboost.png\" width = 500>\n",
    "\n",
    "https://xgboost.readthedocs.io/en/latest"
   ]
  },
  {
   "cell_type": "code",
   "execution_count": 37,
   "id": "c734d94d",
   "metadata": {
    "ExecuteTime": {
     "end_time": "2023-07-09T07:36:10.809039Z",
     "start_time": "2023-07-09T07:36:10.803296Z"
    }
   },
   "outputs": [],
   "source": [
    "# !pip install xgboost  # niezależna biblioteka dostępna w różnyh językah programowania\n",
    "\n",
    "from xgboost.sklearn import XGBClassifier  # możliwość integracji jako jeden z elementów 'pipeline'\n",
    "# ?XGBClassifier"
   ]
  },
  {
   "cell_type": "code",
   "execution_count": 38,
   "id": "5e738137",
   "metadata": {
    "ExecuteTime": {
     "end_time": "2023-07-09T07:36:25.904681Z",
     "start_time": "2023-07-09T07:36:22.604381Z"
    }
   },
   "outputs": [
    {
     "data": {
      "text/plain": [
       "0.8734902763561925"
      ]
     },
     "execution_count": 38,
     "metadata": {},
     "output_type": "execute_result"
    }
   ],
   "source": [
    "model = XGBClassifier()\n",
    "\n",
    "model.fit(X_train, y_train)\n",
    "y_pred = model.predict(X_test)\n",
    "accuracy_score(y_test, y_pred)  # wynik najlepszy z testowanych dotychczas modeli (parametry domyślne!)"
   ]
  },
  {
   "cell_type": "markdown",
   "id": "4f97a1b9",
   "metadata": {},
   "source": [
    "### Randomizowane poszukiwanie parametrów (Randomized search)\n",
    "\n",
    "Stosujemy w sytuacji optymalizowania bardzo dużej liczby hiperparametrów.\n",
    "\n",
    "<img src=\"Grafika/randomized_search.png\" width = 500>\n",
    "\n",
    "**Optymalizacja bayesowska** - podobna, ale jeszcze sprytniejsza niż randomized search: https://optuna.org/"
   ]
  },
  {
   "cell_type": "code",
   "execution_count": 74,
   "id": "15f01f62",
   "metadata": {
    "ExecuteTime": {
     "end_time": "2023-07-09T09:21:39.118577Z",
     "start_time": "2023-07-09T09:21:00.488303Z"
    },
    "scrolled": true
   },
   "outputs": [
    {
     "name": "stdout",
     "output_type": "stream",
     "text": [
      "{'colsample_bynode': 0.75, 'gamma': 0.8009107519796442, 'lambda': 0.5204774795512048, 'learning_rate': 0.4752156710832722, 'max_depth': 4, 'n_estimators': 75, 'subsample': 1.0}\n",
      "0.8731028079700683\n"
     ]
    }
   ],
   "source": [
    "from sklearn.model_selection import RandomizedSearchCV\n",
    "from scipy.stats import uniform\n",
    "\n",
    "model = XGBClassifier()\n",
    "\n",
    "distributions = { \n",
    "    \"n_estimators\": [50, 75],\n",
    "    \"learning_rate\": uniform(loc=0, scale=0.7),\n",
    "    \"max_depth\": range(4, 9),  # [4, .., 8]\n",
    "    \"gamma\": uniform(loc=0, scale=1),\n",
    "    \"lambda\": uniform(loc=0, scale=1),\n",
    "    \"subsample\": [0.75, 1.0],\n",
    "    \"colsample_bynode\": [0.75, 1.0]\n",
    "    }\n",
    "\n",
    "optimizer = RandomizedSearchCV(model,\n",
    "                               distributions,\n",
    "                               n_iter=5,  # w praktyce: n_iter=100\n",
    "                               cv=10,  # można zredukować do cv=5, żeby było szybciej\n",
    "                               random_state=0)\n",
    "\n",
    "optimizer = optimizer.fit(X_train, y_train)\n",
    "\n",
    "print(optimizer.best_params_)\n",
    "print(optimizer.best_score_)"
   ]
  },
  {
   "cell_type": "code",
   "execution_count": 79,
   "id": "e34f1bba",
   "metadata": {
    "ExecuteTime": {
     "end_time": "2023-07-09T09:23:47.325336Z",
     "start_time": "2023-07-09T09:23:47.305089Z"
    }
   },
   "outputs": [
    {
     "data": {
      "text/html": [
       "<div>\n",
       "<style scoped>\n",
       "    .dataframe tbody tr th:only-of-type {\n",
       "        vertical-align: middle;\n",
       "    }\n",
       "\n",
       "    .dataframe tbody tr th {\n",
       "        vertical-align: top;\n",
       "    }\n",
       "\n",
       "    .dataframe thead th {\n",
       "        text-align: right;\n",
       "    }\n",
       "</style>\n",
       "<table border=\"1\" class=\"dataframe\">\n",
       "  <thead>\n",
       "    <tr style=\"text-align: right;\">\n",
       "      <th></th>\n",
       "      <th>colsample_bynode</th>\n",
       "      <th>gamma</th>\n",
       "      <th>lambda</th>\n",
       "      <th>learning_rate</th>\n",
       "      <th>max_depth</th>\n",
       "      <th>n_estimators</th>\n",
       "      <th>subsample</th>\n",
       "      <th>score</th>\n",
       "    </tr>\n",
       "  </thead>\n",
       "  <tbody>\n",
       "    <tr>\n",
       "      <th>0</th>\n",
       "      <td>0.75</td>\n",
       "      <td>0.800911</td>\n",
       "      <td>0.520477</td>\n",
       "      <td>0.475216</td>\n",
       "      <td>4</td>\n",
       "      <td>75</td>\n",
       "      <td>1.00</td>\n",
       "      <td>0.873103</td>\n",
       "    </tr>\n",
       "    <tr>\n",
       "      <th>1</th>\n",
       "      <td>0.75</td>\n",
       "      <td>0.592845</td>\n",
       "      <td>0.844266</td>\n",
       "      <td>0.600562</td>\n",
       "      <td>5</td>\n",
       "      <td>75</td>\n",
       "      <td>1.00</td>\n",
       "      <td>0.870501</td>\n",
       "    </tr>\n",
       "    <tr>\n",
       "      <th>2</th>\n",
       "      <td>1.00</td>\n",
       "      <td>0.528895</td>\n",
       "      <td>0.568045</td>\n",
       "      <td>0.647918</td>\n",
       "      <td>4</td>\n",
       "      <td>75</td>\n",
       "      <td>0.75</td>\n",
       "      <td>0.869128</td>\n",
       "    </tr>\n",
       "    <tr>\n",
       "      <th>3</th>\n",
       "      <td>0.75</td>\n",
       "      <td>0.437587</td>\n",
       "      <td>0.891773</td>\n",
       "      <td>0.674564</td>\n",
       "      <td>6</td>\n",
       "      <td>75</td>\n",
       "      <td>0.75</td>\n",
       "      <td>0.863817</td>\n",
       "    </tr>\n",
       "    <tr>\n",
       "      <th>4</th>\n",
       "      <td>1.00</td>\n",
       "      <td>0.368242</td>\n",
       "      <td>0.957155</td>\n",
       "      <td>0.098246</td>\n",
       "      <td>4</td>\n",
       "      <td>50</td>\n",
       "      <td>1.00</td>\n",
       "      <td>0.861360</td>\n",
       "    </tr>\n",
       "  </tbody>\n",
       "</table>\n",
       "</div>"
      ],
      "text/plain": [
       "   colsample_bynode     gamma    lambda  learning_rate  max_depth  \\\n",
       "0              0.75  0.800911  0.520477       0.475216          4   \n",
       "1              0.75  0.592845  0.844266       0.600562          5   \n",
       "2              1.00  0.528895  0.568045       0.647918          4   \n",
       "3              0.75  0.437587  0.891773       0.674564          6   \n",
       "4              1.00  0.368242  0.957155       0.098246          4   \n",
       "\n",
       "   n_estimators  subsample     score  \n",
       "0            75       1.00  0.873103  \n",
       "1            75       1.00  0.870501  \n",
       "2            75       0.75  0.869128  \n",
       "3            75       0.75  0.863817  \n",
       "4            50       1.00  0.861360  "
      ]
     },
     "execution_count": 79,
     "metadata": {},
     "output_type": "execute_result"
    }
   ],
   "source": [
    "results = pd.DataFrame(optimizer.cv_results_[\"params\"])\n",
    "\n",
    "results[\"score\"] = optimizer.cv_results_[\"mean_test_score\"]\n",
    "results.sort_values(\"score\", ascending=False).reset_index(drop=True)"
   ]
  },
  {
   "cell_type": "code",
   "execution_count": 75,
   "id": "e01d066c",
   "metadata": {
    "ExecuteTime": {
     "end_time": "2023-07-09T09:22:48.738988Z",
     "start_time": "2023-07-09T09:22:48.720612Z"
    }
   },
   "outputs": [
    {
     "data": {
      "text/plain": [
       "0.8749232343909928"
      ]
     },
     "execution_count": 75,
     "metadata": {},
     "output_type": "execute_result"
    }
   ],
   "source": [
    "# inny sposób: model_best = XGBClassifier(**optimizer.best_params_)\n",
    "\n",
    "y_pred = optimizer.best_estimator_.predict(X_test)\n",
    "accuracy_score(y_test, y_pred)"
   ]
  },
  {
   "cell_type": "code",
   "execution_count": 82,
   "id": "6c0056a1",
   "metadata": {
    "ExecuteTime": {
     "end_time": "2023-07-09T09:35:48.464742Z",
     "start_time": "2023-07-09T09:35:48.456274Z"
    }
   },
   "outputs": [
    {
     "data": {
      "text/plain": [
       "array([0.01222139, 0.04731385, 0.01276315, 0.04033818, 0.01899349,\n",
       "       0.01100805, 0.00365046, 0.00212255, 0.01223534, 0.00596178,\n",
       "       0.        , 0.00312046, 0.00711746, 0.00715456, 0.00435957,\n",
       "       0.        , 0.00300774, 0.45849758, 0.00347901, 0.0914612 ,\n",
       "       0.0034624 , 0.00697685, 0.00639196, 0.00487152, 0.        ,\n",
       "       0.00337699, 0.04135457, 0.01706287, 0.0077031 , 0.00532079,\n",
       "       0.02096909, 0.00263538, 0.02794941, 0.00467133, 0.00658858,\n",
       "       0.01740884, 0.00263349, 0.00258967, 0.00522495, 0.00543294,\n",
       "       0.03212523, 0.00286748, 0.00954289, 0.003502  , 0.00313448,\n",
       "       0.00410236, 0.001613  , 0.00568198], dtype=float32)"
      ]
     },
     "execution_count": 82,
     "metadata": {},
     "output_type": "execute_result"
    }
   ],
   "source": [
    "ooptimizer.best_estimator_.feature_importances_"
   ]
  },
  {
   "cell_type": "code",
   "execution_count": 84,
   "id": "c8f8d598",
   "metadata": {
    "ExecuteTime": {
     "end_time": "2023-07-09T09:36:50.558609Z",
     "start_time": "2023-07-09T09:36:50.538173Z"
    }
   },
   "outputs": [
    {
     "data": {
      "text/plain": [
       "array([0.3164064 , 0.09319952, 0.01692411], dtype=float32)"
      ]
     },
     "execution_count": 84,
     "metadata": {},
     "output_type": "execute_result"
    }
   ],
   "source": [
    "optimizer.best_estimator_.predict_proba(X_test[:3])[:, 1]"
   ]
  },
  {
   "cell_type": "code",
   "execution_count": 89,
   "id": "7f73d8e8",
   "metadata": {
    "ExecuteTime": {
     "end_time": "2023-07-09T09:41:32.401016Z",
     "start_time": "2023-07-09T09:41:32.388837Z"
    }
   },
   "outputs": [
    {
     "data": {
      "text/html": [
       "<div>\n",
       "<style scoped>\n",
       "    .dataframe tbody tr th:only-of-type {\n",
       "        vertical-align: middle;\n",
       "    }\n",
       "\n",
       "    .dataframe tbody tr th {\n",
       "        vertical-align: top;\n",
       "    }\n",
       "\n",
       "    .dataframe thead th {\n",
       "        text-align: right;\n",
       "    }\n",
       "</style>\n",
       "<table border=\"1\" class=\"dataframe\">\n",
       "  <thead>\n",
       "    <tr style=\"text-align: right;\">\n",
       "      <th></th>\n",
       "      <th>feature</th>\n",
       "      <th>feature_names</th>\n",
       "    </tr>\n",
       "  </thead>\n",
       "  <tbody>\n",
       "    <tr>\n",
       "      <th>0</th>\n",
       "      <td>0.458498</td>\n",
       "      <td>marital_status_Married-civ-spouse</td>\n",
       "    </tr>\n",
       "    <tr>\n",
       "      <th>1</th>\n",
       "      <td>0.091461</td>\n",
       "      <td>marital_status_Never-married</td>\n",
       "    </tr>\n",
       "    <tr>\n",
       "      <th>2</th>\n",
       "      <td>0.047314</td>\n",
       "      <td>education_num</td>\n",
       "    </tr>\n",
       "    <tr>\n",
       "      <th>3</th>\n",
       "      <td>0.041355</td>\n",
       "      <td>occupation_Exec-managerial</td>\n",
       "    </tr>\n",
       "    <tr>\n",
       "      <th>4</th>\n",
       "      <td>0.040338</td>\n",
       "      <td>capital_gain</td>\n",
       "    </tr>\n",
       "  </tbody>\n",
       "</table>\n",
       "</div>"
      ],
      "text/plain": [
       "    feature                      feature_names\n",
       "0  0.458498  marital_status_Married-civ-spouse\n",
       "1  0.091461       marital_status_Never-married\n",
       "2  0.047314                      education_num\n",
       "3  0.041355         occupation_Exec-managerial\n",
       "4  0.040338                       capital_gain"
      ]
     },
     "execution_count": 89,
     "metadata": {},
     "output_type": "execute_result"
    }
   ],
   "source": [
    "params_importance = pd.DataFrame(\n",
    "            {\"feature\": optimizer.best_estimator_.feature_importances_,\n",
    "             \"feature_names\": optimizer.best_estimator_.feature_names_in_}\n",
    "    ).sort_values(\"feature\", ascending=False).reset_index(drop=True)\n",
    "\n",
    "params_importance.head()"
   ]
  },
  {
   "cell_type": "markdown",
   "id": "1dc20d09",
   "metadata": {},
   "source": [
    "## Problem nierównomierności klas (_imbalanced data_)\n",
    "\n",
    "\n",
    "**Podejścia:**\n",
    "\n",
    "- manipulacja progiem klasyfikacji \n",
    "- wykorzystanie ważonej funkcji celu podczas uczenia modeli\n",
    "- repróbkowania:\n",
    "    - over-sampling\n",
    "    - under-sampling\n",
    "    - inne bardziej złożone schematy\n",
    "- data augmentation - sztuczne tworzenie nowych obserwacji (np. SMOTE dla danych tabelarycznych; przede wszystkim przy pracy z obrazami)\n",
    "- podejścia inne niż klasyfikacja (detekcja obserwacji nietypowych, własne heurystyki)\n",
    "\n",
    "<img src=\"Grafika/resampling.png\" width = 500>"
   ]
  },
  {
   "cell_type": "code",
   "execution_count": 91,
   "id": "2eb718ac",
   "metadata": {
    "ExecuteTime": {
     "end_time": "2023-07-09T11:14:24.920938Z",
     "start_time": "2023-07-09T11:14:24.914051Z"
    }
   },
   "outputs": [
    {
     "data": {
      "text/plain": [
       "0.24042491689550513"
      ]
     },
     "execution_count": 91,
     "metadata": {},
     "output_type": "execute_result"
    }
   ],
   "source": [
    "# klasy są \"lekko\" niezbalansowane\n",
    "y_train.mean()"
   ]
  },
  {
   "cell_type": "code",
   "execution_count": 90,
   "id": "7a63672c",
   "metadata": {
    "ExecuteTime": {
     "end_time": "2023-07-09T11:14:07.777451Z",
     "start_time": "2023-07-09T11:14:04.943875Z"
    }
   },
   "outputs": [
    {
     "data": {
      "text/plain": [
       "0.8501535312180143"
      ]
     },
     "execution_count": 90,
     "metadata": {},
     "output_type": "execute_result"
    }
   ],
   "source": [
    "model = RandomForestClassifier()\n",
    "\n",
    "model.fit(X_train, y_train)\n",
    "y_pred = model.predict(X_test)\n",
    "accuracy_score(y_test, y_pred)"
   ]
  },
  {
   "cell_type": "code",
   "execution_count": 93,
   "id": "87fa5a73",
   "metadata": {
    "ExecuteTime": {
     "end_time": "2023-07-09T11:17:38.185405Z",
     "start_time": "2023-07-09T11:17:30.136429Z"
    }
   },
   "outputs": [
    {
     "name": "stdout",
     "output_type": "stream",
     "text": [
      "{0: 1, 1: 2} 0.8464687819856704\n",
      "{0: 1, 1: 3} 0.8452405322415558\n",
      "{0: 1, 1: 4} 0.8470829068577277\n"
     ]
    }
   ],
   "source": [
    "weights = [{0: 1, 1: 2}, {0: 1, 1: 3}, {0: 1, 1: 4}]  # {klasa: proporcja}\n",
    "\n",
    "for class_weights in weights:\n",
    "    \n",
    "    model = RandomForestClassifier(class_weight=class_weights)  # parametr do ważenia funkcji błędu\n",
    "\n",
    "    model.fit(X_train, y_train)\n",
    "    y_pred = model.predict(X_test)\n",
    "    \n",
    "    print(class_weights, accuracy_score(y_test, y_pred))"
   ]
  },
  {
   "cell_type": "markdown",
   "id": "8351f47e",
   "metadata": {},
   "source": [
    "### Biblioteka `imbalanced-learn`\n",
    "\n",
    "Sklearn nie zawiera funkcjonalności odnoszących się do problemu niezbalansowanych klas, ale istnieje do tego inny pakiet, w którym pracuje się tak samo jak w sklearnie:**\n",
    "http://contrib.scikit-learn.org/imbalanced-learn/stable/api.html\n",
    "\n",
    "**SMOTE:**\n",
    "\n",
    "<img src=\"Grafika/smote.png\" width = 500>\n",
    "\n",
    "**Do poczytania:** https://svds.com/learning-imbalanced-classes/"
   ]
  },
  {
   "cell_type": "code",
   "execution_count": 108,
   "id": "52ca7347",
   "metadata": {
    "ExecuteTime": {
     "end_time": "2023-07-09T12:50:42.319181Z",
     "start_time": "2023-07-09T12:50:42.313171Z"
    }
   },
   "outputs": [],
   "source": [
    "from imblearn.over_sampling import SMOTE\n",
    "from imblearn.pipeline import Pipeline  # nie możemy użyć Pipeline() ze 'sklearn'\n",
    "# ?SMOTE"
   ]
  },
  {
   "cell_type": "code",
   "execution_count": 112,
   "id": "c075e4f0",
   "metadata": {
    "ExecuteTime": {
     "end_time": "2023-07-09T12:54:49.122584Z",
     "start_time": "2023-07-09T12:54:48.798787Z"
    }
   },
   "outputs": [
    {
     "data": {
      "text/plain": [
       "((31533, 48), (27676, 48))"
      ]
     },
     "execution_count": 112,
     "metadata": {},
     "output_type": "execute_result"
    }
   ],
   "source": [
    "augmenter = SMOTE(sampling_strategy=0.5)\n",
    "\n",
    "X_aug, y_aug = augmenter.fit_resample(X_train, y_train)\n",
    "X_aug.shape, X_train.shape"
   ]
  },
  {
   "cell_type": "code",
   "execution_count": 115,
   "id": "a34d4be3",
   "metadata": {
    "ExecuteTime": {
     "end_time": "2023-07-09T13:00:05.196545Z",
     "start_time": "2023-07-09T13:00:02.638208Z"
    }
   },
   "outputs": [
    {
     "data": {
      "text/plain": [
       "0.8696008188331628"
      ]
     },
     "execution_count": 115,
     "metadata": {},
     "output_type": "execute_result"
    }
   ],
   "source": [
    "pipeline = Pipeline([\n",
    "    (\"augmenter\", augmenter),\n",
    "    (\"model\", XGBClassifier())\n",
    "])\n",
    "\n",
    "pipeline.fit(X_train, y_train)\n",
    "y_pred = pipeline.predict(X_test)\n",
    "\n",
    "accuracy_score(y_test, y_pred)"
   ]
  },
  {
   "cell_type": "code",
   "execution_count": 119,
   "id": "b288b662",
   "metadata": {
    "ExecuteTime": {
     "end_time": "2023-07-09T13:04:39.414520Z",
     "start_time": "2023-07-09T13:03:21.864929Z"
    }
   },
   "outputs": [
    {
     "name": "stdout",
     "output_type": "stream",
     "text": [
      "{'augmenter__sampling_strategy': 0.5, 'model__learning_rate': 0.4149912327575128, 'model__n_estimators': 50}\n",
      "0.8674301084533003\n"
     ]
    }
   ],
   "source": [
    "# optymalizacja modelu na siatce hiperparametrów\n",
    "\n",
    "pipeline = Pipeline([\n",
    "    (\"augmenter\", SMOTE()),  # powiększamy zbiór danych, więc wydłużamy obliczenia!\n",
    "    (\"model\", XGBClassifier())\n",
    "])\n",
    "\n",
    "distributions = {\n",
    "    \"augmenter__sampling_strategy\":[0.5, 1],\n",
    "    \"model__n_estimators\": [50, 75],\n",
    "    \"model__learning_rate\": uniform(loc=0, scale=0.7)\n",
    "}\n",
    "\n",
    "optimizer = RandomizedSearchCV(pipeline,\n",
    "                               distributions,\n",
    "                               n_iter=5,\n",
    "                               cv=5,\n",
    "                               random_state=0)\n",
    "\n",
    "optimizer = optimizer.fit(X_train, y_train)\n",
    "\n",
    "print(optimizer.best_params_)\n",
    "print(optimizer.best_score_)"
   ]
  },
  {
   "cell_type": "code",
   "execution_count": 120,
   "id": "f68a3468",
   "metadata": {
    "ExecuteTime": {
     "end_time": "2023-07-09T13:04:49.852281Z",
     "start_time": "2023-07-09T13:04:49.828961Z"
    }
   },
   "outputs": [
    {
     "data": {
      "text/plain": [
       "0.8687819856704196"
      ]
     },
     "execution_count": 120,
     "metadata": {},
     "output_type": "execute_result"
    }
   ],
   "source": [
    "y_pred = optimizer.predict(X_test)\n",
    "accuracy_score(y_test, y_pred)"
   ]
  },
  {
   "cell_type": "markdown",
   "id": "8519638f",
   "metadata": {},
   "source": [
    "## Krzywa ROC i wskaźnik AUC\n",
    "\n",
    "Mamy wektor prawdziwych klas $y = [0, 1, 1, ..., 0, 0]$ oraz wektor prawdopodobieństw zwrócony przez klasyfikator $p = [0.35, 0.55, 0.91, ..., 0.1, 0.44]$. Klasyfikujemy obserwacje według reguły $p(x) > t$ dla pewnego progu $t$.\n",
    "\n",
    "Zdefiniujmy:\n",
    " - _false positive rate_ FPR - procent obserwacji klasy $0$ zaklasyfikowanych jako $1$,\n",
    " - _true positive rate_ TPR - procent obserwacji klasy $1$ zaklasyfikowanych jako $1$.\n",
    "\n",
    "Obliczamy TPR($t$) oraz FPR($t$) dla każdego $t\\in p$. Krywa ROC to wykres liniowy powstały z punktów (FPR($t$), TPR($t$)) (dla $t$ uporządkowanych malejąco).\n",
    "\n",
    "**Wskaźnik AUC** to wielkość pola pod **krzywą ROC**. Im wyżej leży krzywa, tym większe AUC i tym lepszy model:\n",
    "- AUC bliskie 0.5 - model o praktycznie zerowej mocy predykcjyjnej\n",
    "- AUC bliskie 1 - model bardzo dobry. \n",
    "\n",
    "**Uwaga:** W praktyce korzysta się czasem wielkości wskaźnika Giniego: $gini = 2 * AUC - 1$, czyli jest to proste przekształcenie AUC. Chodzi o to, że dla AUC=0.5 gini = 0, a dla AUC = 1, gini = 1. Czyli zamiast operować na wielkości AUC z przedziału (0.5, 1), przenosimy się na skalę (0,1). \n",
    "\n",
    "<img src=\"http://scikit-learn.org/stable/_images/sphx_glr_plot_roc_001.png\" width=\"400\">\n",
    "\n",
    "Źródło: http://scikit-learn.org/stable/_images/sphx_glr_plot_roc_001.png"
   ]
  },
  {
   "cell_type": "markdown",
   "id": "313dc9c6",
   "metadata": {},
   "source": [
    "### Wskaźnik AUC\n",
    "(całka pod wykresem krzywej **ROC**, łączącej **TPR** oraz **FPR** dla kolejnych progów klasyfikacji)"
   ]
  },
  {
   "cell_type": "code",
   "execution_count": 94,
   "id": "59b736ab",
   "metadata": {
    "ExecuteTime": {
     "end_time": "2023-07-09T11:42:54.221520Z",
     "start_time": "2023-07-09T11:42:54.216610Z"
    }
   },
   "outputs": [],
   "source": [
    "from sklearn.metrics import roc_auc_score"
   ]
  },
  {
   "cell_type": "code",
   "execution_count": 95,
   "id": "03343e64",
   "metadata": {
    "ExecuteTime": {
     "end_time": "2023-07-09T11:44:11.199062Z",
     "start_time": "2023-07-09T11:44:04.560934Z"
    }
   },
   "outputs": [
    {
     "data": {
      "text/plain": [
       "0.8971761415697276"
      ]
     },
     "execution_count": 95,
     "metadata": {},
     "output_type": "execute_result"
    }
   ],
   "source": [
    "model = RandomForestClassifier()\n",
    "\n",
    "model.fit(X_train, y_train)\n",
    "\n",
    "y_probs = model.predict_proba(X_test)[:, 1]\n",
    "roc_auc_score(y_test, y_probs)"
   ]
  },
  {
   "cell_type": "code",
   "execution_count": 99,
   "id": "f62fe116",
   "metadata": {
    "ExecuteTime": {
     "end_time": "2023-07-09T11:48:10.111760Z",
     "start_time": "2023-07-09T11:48:09.787106Z"
    }
   },
   "outputs": [
    {
     "data": {
      "image/png": "[encoded data removed]",
      "text/plain": [
       "<Figure size 432x288 with 1 Axes>"
      ]
     },
     "metadata": {
      "needs_background": "light"
     },
     "output_type": "display_data"
    }
   ],
   "source": [
    "import numpy as np\n",
    "import matplotlib.pyplot as plt\n",
    "from sklearn.metrics import roc_curve, roc_auc_score\n",
    "\n",
    "y = y_test\n",
    "scores = y_probs\n",
    "fpr, tpr, thresholds = roc_curve(y, scores)\n",
    "\n",
    "# print(thresholds)\n",
    "# print(fpr)\n",
    "# print(tpr)\n",
    "\n",
    "plt.plot(fpr,tpr, label = \"AUC = %.2f\" % roc_auc_score(y, scores))\n",
    "plt.xlabel(\"FPR\")\n",
    "plt.ylabel(\"TPR\")\n",
    "plt.title(\"ROC\")\n",
    "plt.plot([0, 1], [0, 1], linestyle='--')\n",
    "plt.legend(loc=\"lower right\", prop={'size':15})\n",
    "plt.show()"
   ]
  },
  {
   "cell_type": "markdown",
   "id": "db30285b",
   "metadata": {},
   "source": [
    "### Optymalizacja konkretnej metryki\n",
    "(domyślnie optymalizowana jest dokładność - *accuracy*)"
   ]
  },
  {
   "cell_type": "code",
   "execution_count": 101,
   "id": "bebbb766",
   "metadata": {
    "ExecuteTime": {
     "end_time": "2023-07-09T11:51:43.994953Z",
     "start_time": "2023-07-09T11:50:43.226946Z"
    }
   },
   "outputs": [],
   "source": [
    "model = XGBClassifier()\n",
    "\n",
    "distributions = { \n",
    "    \"n_estimators\": [50, 75],\n",
    "    \"learning_rate\": uniform(loc=0, scale=0.7),\n",
    "    \"max_depth\": range(4, 9),  # [4, .., 8]\n",
    "    \"gamma\": uniform(loc=0, scale=1),\n",
    "    \"lambda\": uniform(loc=0, scale=1),\n",
    "    \"subsample\": [0.75, 1.0],\n",
    "    \"colsample_bynode\": [0.75, 1.0]\n",
    "    }\n",
    "\n",
    "optimizer = RandomizedSearchCV(model,\n",
    "                               distributions,\n",
    "                               scoring=\"roc_auc\",  # metryka, którą optymalizujemy! (domyślnie: \"accuracy\")\n",
    "                               n_iter=5,\n",
    "                               cv=10,\n",
    "                               random_state=0)\n",
    "\n",
    "optimizer = optimizer.fit(X_train, y_train)"
   ]
  },
  {
   "cell_type": "code",
   "execution_count": 102,
   "id": "2e954594",
   "metadata": {
    "ExecuteTime": {
     "end_time": "2023-07-09T11:52:24.704005Z",
     "start_time": "2023-07-09T11:52:24.696970Z"
    }
   },
   "outputs": [
    {
     "name": "stdout",
     "output_type": "stream",
     "text": [
      "{'colsample_bynode': 0.75, 'gamma': 0.8009107519796442, 'lambda': 0.5204774795512048, 'learning_rate': 0.4752156710832722, 'max_depth': 4, 'n_estimators': 75, 'subsample': 1.0}\n",
      "0.9288824721536196\n"
     ]
    }
   ],
   "source": [
    "print(optimizer.best_params_)\n",
    "print(optimizer.best_score_)"
   ]
  },
  {
   "cell_type": "code",
   "execution_count": 103,
   "id": "d1cca453",
   "metadata": {
    "ExecuteTime": {
     "end_time": "2023-07-09T11:54:29.974496Z",
     "start_time": "2023-07-09T11:54:29.952374Z"
    }
   },
   "outputs": [
    {
     "data": {
      "text/html": [
       "<div>\n",
       "<style scoped>\n",
       "    .dataframe tbody tr th:only-of-type {\n",
       "        vertical-align: middle;\n",
       "    }\n",
       "\n",
       "    .dataframe tbody tr th {\n",
       "        vertical-align: top;\n",
       "    }\n",
       "\n",
       "    .dataframe thead th {\n",
       "        text-align: right;\n",
       "    }\n",
       "</style>\n",
       "<table border=\"1\" class=\"dataframe\">\n",
       "  <thead>\n",
       "    <tr style=\"text-align: right;\">\n",
       "      <th></th>\n",
       "      <th>colsample_bynode</th>\n",
       "      <th>gamma</th>\n",
       "      <th>lambda</th>\n",
       "      <th>learning_rate</th>\n",
       "      <th>max_depth</th>\n",
       "      <th>n_estimators</th>\n",
       "      <th>subsample</th>\n",
       "      <th>score</th>\n",
       "    </tr>\n",
       "  </thead>\n",
       "  <tbody>\n",
       "    <tr>\n",
       "      <th>0</th>\n",
       "      <td>0.75</td>\n",
       "      <td>0.800911</td>\n",
       "      <td>0.520477</td>\n",
       "      <td>0.475216</td>\n",
       "      <td>4</td>\n",
       "      <td>75</td>\n",
       "      <td>1.00</td>\n",
       "      <td>0.928882</td>\n",
       "    </tr>\n",
       "    <tr>\n",
       "      <th>1</th>\n",
       "      <td>0.75</td>\n",
       "      <td>0.592845</td>\n",
       "      <td>0.844266</td>\n",
       "      <td>0.600562</td>\n",
       "      <td>5</td>\n",
       "      <td>75</td>\n",
       "      <td>1.00</td>\n",
       "      <td>0.925585</td>\n",
       "    </tr>\n",
       "    <tr>\n",
       "      <th>2</th>\n",
       "      <td>1.00</td>\n",
       "      <td>0.528895</td>\n",
       "      <td>0.568045</td>\n",
       "      <td>0.647918</td>\n",
       "      <td>4</td>\n",
       "      <td>75</td>\n",
       "      <td>0.75</td>\n",
       "      <td>0.923658</td>\n",
       "    </tr>\n",
       "    <tr>\n",
       "      <th>3</th>\n",
       "      <td>1.00</td>\n",
       "      <td>0.368242</td>\n",
       "      <td>0.957155</td>\n",
       "      <td>0.098246</td>\n",
       "      <td>4</td>\n",
       "      <td>50</td>\n",
       "      <td>1.00</td>\n",
       "      <td>0.917803</td>\n",
       "    </tr>\n",
       "    <tr>\n",
       "      <th>4</th>\n",
       "      <td>0.75</td>\n",
       "      <td>0.437587</td>\n",
       "      <td>0.891773</td>\n",
       "      <td>0.674564</td>\n",
       "      <td>6</td>\n",
       "      <td>75</td>\n",
       "      <td>0.75</td>\n",
       "      <td>0.916886</td>\n",
       "    </tr>\n",
       "  </tbody>\n",
       "</table>\n",
       "</div>"
      ],
      "text/plain": [
       "   colsample_bynode     gamma    lambda  learning_rate  max_depth  \\\n",
       "0              0.75  0.800911  0.520477       0.475216          4   \n",
       "1              0.75  0.592845  0.844266       0.600562          5   \n",
       "2              1.00  0.528895  0.568045       0.647918          4   \n",
       "3              1.00  0.368242  0.957155       0.098246          4   \n",
       "4              0.75  0.437587  0.891773       0.674564          6   \n",
       "\n",
       "   n_estimators  subsample     score  \n",
       "0            75       1.00  0.928882  \n",
       "1            75       1.00  0.925585  \n",
       "2            75       0.75  0.923658  \n",
       "3            50       1.00  0.917803  \n",
       "4            75       0.75  0.916886  "
      ]
     },
     "execution_count": 103,
     "metadata": {},
     "output_type": "execute_result"
    }
   ],
   "source": [
    "results = pd.DataFrame(optimizer.cv_results_[\"params\"])\n",
    "\n",
    "results[\"score\"] = optimizer.cv_results_[\"mean_test_score\"]\n",
    "results.sort_values(\"score\", ascending=False).reset_index(drop=True)"
   ]
  },
  {
   "cell_type": "code",
   "execution_count": 106,
   "id": "e3d7e1c5",
   "metadata": {
    "ExecuteTime": {
     "end_time": "2023-07-09T11:55:00.885912Z",
     "start_time": "2023-07-09T11:55:00.867641Z"
    }
   },
   "outputs": [
    {
     "data": {
      "text/plain": [
       "0.9311733203083887"
      ]
     },
     "execution_count": 106,
     "metadata": {},
     "output_type": "execute_result"
    }
   ],
   "source": [
    "y_probs = optimizer.best_estimator_.predict_proba(X_test)[:, 1]\n",
    "roc_auc_score(y_test, y_probs)"
   ]
  },
  {
   "cell_type": "markdown",
   "id": "109803c4",
   "metadata": {},
   "source": [
    "## Walidacja krzyżowa (cross-validation)"
   ]
  },
  {
   "cell_type": "code",
   "execution_count": 122,
   "id": "3460bb5d",
   "metadata": {
    "ExecuteTime": {
     "end_time": "2023-07-09T13:21:51.598674Z",
     "start_time": "2023-07-09T13:21:51.595115Z"
    }
   },
   "outputs": [],
   "source": [
    "from sklearn.model_selection import KFold, StratifiedKFold\n",
    "# ?KFold\n",
    "# ?StratifiedKFold  # uwzględnia niezbalansowanie klas"
   ]
  },
  {
   "cell_type": "code",
   "execution_count": 123,
   "id": "9ecd98f3",
   "metadata": {
    "ExecuteTime": {
     "end_time": "2023-07-09T13:27:23.290782Z",
     "start_time": "2023-07-09T13:26:15.531823Z"
    }
   },
   "outputs": [],
   "source": [
    "# kfold = KFold(10)\n",
    "kfold = StratifiedKFold(10, shuffle=True, random_state=123)  # losowa kolejność danych przed podziałem\n",
    "\n",
    "pipeline = Pipeline([\n",
    "    (\"augmenter\", SMOTE()),\n",
    "    (\"model\", XGBClassifier())\n",
    "])\n",
    "\n",
    "distributions = {\n",
    "    \"augmenter__sampling_strategy\":[0.5, 1],\n",
    "    \"model__n_estimators\": [50, 75],\n",
    "    \"model__learning_rate\": uniform(loc=0, scale=0.7)\n",
    "}\n",
    "\n",
    "optimizer = RandomizedSearchCV(pipeline,\n",
    "                               distributions,\n",
    "                               scoring=\"roc_auc\",\n",
    "                               n_iter=5,\n",
    "                               cv=kfold,  # tu możemy zewnętrznie zdefiniować podział danych\n",
    "                               random_state=0)\n",
    "\n",
    "optimizer = optimizer.fit(X_train, y_train)"
   ]
  },
  {
   "cell_type": "code",
   "execution_count": 124,
   "id": "3bdfc380",
   "metadata": {
    "ExecuteTime": {
     "end_time": "2023-07-09T13:27:53.095507Z",
     "start_time": "2023-07-09T13:27:53.072241Z"
    }
   },
   "outputs": [
    {
     "data": {
      "text/plain": [
       "0.9289405051934991"
      ]
     },
     "execution_count": 124,
     "metadata": {},
     "output_type": "execute_result"
    }
   ],
   "source": [
    "y_probs = optimizer.best_estimator_.predict_proba(X_test)[:, 1]\n",
    "roc_auc_score(y_test, y_probs)"
   ]
  },
  {
   "cell_type": "markdown",
   "id": "24b2487a",
   "metadata": {},
   "source": [
    "### Podział na część treningową i walidacyjną\n",
    "(*cross-walidacja* na dużym zbiorze danych jest kosztowna obliczeniowo)"
   ]
  },
  {
   "cell_type": "code",
   "execution_count": 126,
   "id": "bef5dfb6",
   "metadata": {
    "ExecuteTime": {
     "end_time": "2023-07-09T13:33:45.953360Z",
     "start_time": "2023-07-09T13:33:45.940424Z"
    }
   },
   "outputs": [
    {
     "name": "stdout",
     "output_type": "stream",
     "text": [
      "StratifiedShuffleSplit(n_splits=1, random_state=0, test_size=0.2,\n",
      "            train_size=None)\n",
      "Fold 0:\n",
      "  Train: index=[2 5 1 3]\n",
      "  Test:  index=[0 4]\n"
     ]
    }
   ],
   "source": [
    "# PRZYKŁAD: wygenerowanie podziału na część treningową i walidacyjną\n",
    "\n",
    "from sklearn.model_selection import StratifiedShuffleSplit\n",
    "\n",
    "X = np.array([[1, 2], [3, 4], [1, 2], [3, 4], [1, 2], [3, 4]])\n",
    "y = np.array([0, 0, 0, 1, 1, 1])\n",
    "\n",
    "sss = StratifiedShuffleSplit(n_splits=1, test_size=0.2, random_state=0)\n",
    "sss.get_n_splits(X, y)\n",
    "\n",
    "for i, (train_index, test_index) in enumerate(sss.split(X, y)):\n",
    "    \n",
    "    print(f\"Fold {i}:\")\n",
    "    print(f\"  Train: index={train_index}\")\n",
    "    print(f\"  Test:  index={test_index}\")"
   ]
  },
  {
   "cell_type": "code",
   "execution_count": 127,
   "id": "10702201",
   "metadata": {
    "ExecuteTime": {
     "end_time": "2023-07-09T13:35:43.863488Z",
     "start_time": "2023-07-09T13:35:34.798066Z"
    }
   },
   "outputs": [],
   "source": [
    "train_valid_split = StratifiedShuffleSplit(n_splits=1, test_size=0.2, random_state=0)\n",
    "\n",
    "pipeline = Pipeline([\n",
    "    (\"augmenter\", SMOTE()),\n",
    "    (\"model\", XGBClassifier())\n",
    "])\n",
    "\n",
    "distributions = {\n",
    "    \"augmenter__sampling_strategy\":[0.5, 1],\n",
    "    \"model__n_estimators\": [50, 75],\n",
    "    \"model__learning_rate\": uniform(loc=0, scale=0.7)\n",
    "}\n",
    "\n",
    "optimizer = RandomizedSearchCV(pipeline,\n",
    "                               distributions,\n",
    "                               scoring=\"roc_auc\",\n",
    "                               n_iter=5,\n",
    "                               cv=train_valid_split,\n",
    "                               random_state=0)\n",
    "\n",
    "optimizer = optimizer.fit(X_train, y_train)"
   ]
  },
  {
   "cell_type": "code",
   "execution_count": 128,
   "id": "1358a3d4",
   "metadata": {
    "ExecuteTime": {
     "end_time": "2023-07-09T13:36:05.352019Z",
     "start_time": "2023-07-09T13:36:05.329161Z"
    }
   },
   "outputs": [
    {
     "data": {
      "text/plain": [
       "0.9279765058915245"
      ]
     },
     "execution_count": 128,
     "metadata": {},
     "output_type": "execute_result"
    }
   ],
   "source": [
    "y_probs = optimizer.best_estimator_.predict_proba(X_test)[:, 1]\n",
    "roc_auc_score(y_test, y_probs)"
   ]
  },
  {
   "cell_type": "markdown",
   "id": "cdbdc996",
   "metadata": {},
   "source": [
    "# Jak obsługiwać braki danych?\n",
    "\n",
    "## Propozycja w przypadku zmiennej numerycznej:\n",
    "\n",
    "1. Gdy dla danej zmiennej braków jest bardzo mało (np. 2% zbioru), wyrzucić obserwacje zawieracjące te braki.\n",
    "\n",
    "2. Gdy dla danej zmiennej braków jest bardzo dużo (ponad 60%), usunąć z danych tę zmienną\n",
    "\n",
    "3. W pozostałych przypadkach uzupełnić braki średnią.\n",
    "\n",
    "\n",
    "**To NIE jest dobre podejście!**"
   ]
  },
  {
   "cell_type": "markdown",
   "id": "6a3e97bd",
   "metadata": {},
   "source": [
    "## Podejście rzetelne:\n",
    "\n",
    "**1) Spróbować wyjaśnić pochodzenie braków**\n",
    "  - może wynikają z błędu w jakimś systemie -> trzeba naprawić system\n",
    "  - może ktoś nie wiedzał jakie wartości wprowadzić -> trzeba stworzyć lepszą (jakąkolwiek) dokumentację/instrukcję\n",
    "  - itd.\n",
    "  - jak to wygląda w praktyce? ...\n",
    "  - wyjaśnienie jest super, ale często nierealizowalne (co nie znaczy, że nie warto próbować), dlatego trzeba sobie radzić\n",
    "  \n",
    "**2) Spróbować wyjaśnić znaczenie braku**\n",
    "  - brak w kolumnie \"liczba dzieci\" -> może oznaczać wartość 0\n",
    "  - brak w kolumnie \"wykształcenie\" -> może oznaczać, że osoba nie ma nawet podstawowego\n",
    "  - brak może wynikać z wartości innej zmiennej -> czy posiadasz dzieci - nie, liczba dzieci - brak\n",
    "  - wówczas braki możemy uzupełnić. \n",
    "  \n",
    "**3) Jeżeli rozważamy zmienną kategoryczną:**\n",
    "  - warto rozważyć nadanie brakom klasy \"brak\" i traktować ją jak normalna wartość,\n",
    "  - można tez upełnić wartością występującą najczęściej lub wartością losową,\n",
    "  - jeżeli braki stanowią przytłaczającą większość -> można zamienić zmienną na binarną o wartości 1, gdy wystepuje brak lub 0 wpp.\n",
    "\n",
    "**4) Jeżeli rozważamy zmienną numeryczną:**\n",
    "  - można uzupełnić średnią -> gdy zmienna ma rozkład symetryczny,\n",
    "  - można uzupełnić medianą lub modą -> gdy zmienna ma rozkład skośny,\n",
    "  - można tez upełnić wartością występującą wartością losową (z rozsądnego rozkładu),\n",
    "  - jeżeli braki stanowią przytłaczającą większość -> można zamienić zmienną na binarną o wartości 1, gdy wystepuje brak lub 0 wpp.\n",
    "  - można skategoryzować zmienną - wartości numeryczne pogrupować na przedziały i dodać kategorię \"brak\"\n",
    "  - uzupełnić braki i jednocześnie dodać do danych zmienną binarną o wartości 1, gdy wystepuje brak lub 0 w,pp.,\n",
    "  - jeżeli dane są zależne od czasu, można uzupełnić wartością poprzednią/ średnią z porzednich kilku wartości, wartością, która zachowałaby trend z poprzednich kilku wartości,\n",
    "  - uzupełnić wartością spoza zakresu i używać algorytmów drzewiastych.\n",
    "  \n",
    "**5) Uzupełnić na podstawie prostej zależności względem innych zmiennych.** Np zmienną numeryczną uzupełnimy średnią wartością tej zmiennej wśród innych obserwacji, które w jakiejś zmiennej mają te samą kategorię.\n",
    "  \n",
    "**6) Usunąć obserwacje z brakiem jeśli jest ich mało.**\n",
    "\n",
    "**7) Usunąć zmienną jeśli braków jest dużo.**\n",
    "\n",
    "**8) Uzupełnić używając modelu predykcyjnego z wykorzystaniem pozostałych zmiennych** (jeżeli dane zależne od czasu, to można uzupełnić predykcją na podstawie poprzednich wartości tej i inyych zmiennych)."
   ]
  }
 ],
 "metadata": {
  "hide_input": false,
  "kernelspec": {
   "display_name": "Python 3 (ipykernel)",
   "language": "python",
   "name": "python3"
  },
  "language_info": {
   "codemirror_mode": {
    "name": "ipython",
    "version": 3
   },
   "file_extension": ".py",
   "mimetype": "text/x-python",
   "name": "python",
   "nbconvert_exporter": "python",
   "pygments_lexer": "ipython3",
   "version": "3.10.6"
  },
  "toc": {
   "base_numbering": 1,
   "nav_menu": {},
   "number_sections": true,
   "sideBar": true,
   "skip_h1_title": true,
   "title_cell": "Table of Contents",
   "title_sidebar": "Contents",
   "toc_cell": false,
   "toc_position": {},
   "toc_section_display": true,
   "toc_window_display": false
  },
  "varInspector": {
   "cols": {
    "lenName": 16,
    "lenType": 16,
    "lenVar": 40
   },
   "kernels_config": {
    "python": {
     "delete_cmd_postfix": "",
     "delete_cmd_prefix": "del ",
     "library": "var_list.py",
     "varRefreshCmd": "print(var_dic_list())"
    },
    "r": {
     "delete_cmd_postfix": ") ",
     "delete_cmd_prefix": "rm(",
     "library": "var_list.r",
     "varRefreshCmd": "cat(var_dic_list()) "
    }
   },
   "types_to_exclude": [
    "module",
    "function",
    "builtin_function_or_method",
    "instance",
    "_Feature"
   ],
   "window_display": false
  }
 },
 "nbformat": 4,
 "nbformat_minor": 5
}
